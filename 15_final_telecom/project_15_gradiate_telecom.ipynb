{
 "cells": [
  {
   "cell_type": "markdown",
   "metadata": {},
   "source": [
    "Оператор связи «Ниединогоразрыва.ком» хочет научиться прогнозировать отток клиентов. Если выяснится, что пользователь планирует уйти, ему будут предложены промокоды и специальные условия. Команда оператора собрала персональные данные о некоторых клиентах, информацию об их тарифах и договорах.\n",
    "\n",
    "Во всех файлах столбец `customerID` содержит код клиента.\n",
    "\n",
    "Информация о договорах актуальна на 1 февраля 2020."
   ]
  },
  {
   "cell_type": "markdown",
   "metadata": {},
   "source": [
    "### Цель проекта\n",
    "\n",
    "На основании статистики построить модели машинного обучения которая сможет предсказывать какие клиенты планируют уйти, чтобы иметь возможность удержать их доп условиями"
   ]
  },
  {
   "cell_type": "markdown",
   "metadata": {},
   "source": [
    "### План работы\n",
    "\n",
    "целевым показателем является наличие даты (отсутсвие 'NO') в столбце EndDate. \n",
    "Все ячейки с датами этого столбца заменить на '1'; 'no' на '0' и решать задачу классификации\n",
    "\n",
    "[Предобработка](#предобработка)\n",
    "* обьединить таблицы в один датафрейм по айди пользователя\n",
    "* заполнить пропуски в полученной таблице (как минимум часть пропусков указывает на то что услуга не оказывается)\n",
    "* преименовать столбцы в корректный стиль, заменить целевой признак на 1 и 0 \n",
    "* выделить из столбца с датами столбец \"стажа\" пользователя (количество дней с момента подключения)\n",
    "* удалить признаки которые могут привести к утечке данных\n",
    "* заменить бинарные ответы в столбцах на 0 и 1\n",
    "* поделить данные на трейн и тест\n",
    "* [скалировать числовые признаки](#разделение-на-выборки-ohe-и-скалирование)\n",
    "* для столбцов с мультиответами использовать OHE (если нужно для модели) \n",
    "* [обучить нескольно моделей используя кросвалидацию](#обучение-и-первичная-оценка-моделей) (ориентировочно думаю про лес, сгд, кэтбуст и линейную). Метрика качества AUC-ROC, бейслайн 0.85\n",
    "* [для перспективных моделей подобрать гиперпараметры](#тюнинг-наилучших-моделей)\n",
    "* [проверить лучшую модель с настроенными гиперпараметрами на тестовой выборке](#проверка-лучшей-модели-на-тестовой-выборке)\n",
    "* сравнить с константной дамми моделью на тесте\n",
    "* сделать анализ лучшей модели\n",
    "    * [важность признаков](#важность-признаков)\n",
    "    * [AUC ROC кривая](#auc-roc-кривая)\n",
    "    * [матрица ошибок](#матрица-ошибок)\n",
    "* [написать вывод](#выводы)"
   ]
  },
  {
   "cell_type": "code",
   "execution_count": 1,
   "metadata": {},
   "outputs": [],
   "source": [
    "import pandas as pd\n",
    "import numpy as np\n",
    "import matplotlib.pyplot as plt\n",
    "import tqdm\n",
    "import re\n",
    "\n",
    "from sklearn.model_selection import cross_val_score, train_test_split, GridSearchCV\n",
    "\n",
    "from sklearn.linear_model import LogisticRegression\n",
    "from sklearn.tree import DecisionTreeClassifier\n",
    "from sklearn.ensemble import RandomForestClassifier\n",
    "from sklearn.linear_model import LogisticRegression\n",
    "from sklearn.metrics import roc_auc_score, roc_curve, precision_recall_curve, confusion_matrix, ConfusionMatrixDisplay\n",
    "from sklearn.preprocessing import StandardScaler, OneHotEncoder\n",
    "\n",
    "from catboost import CatBoostClassifier\n",
    "from sklearn.model_selection import RandomizedSearchCV\n",
    "from lightgbm import LGBMClassifier\n",
    "from sklearn.dummy import DummyClassifier\n",
    "from matplotlib.pyplot import figure"
   ]
  },
  {
   "cell_type": "code",
   "execution_count": 2,
   "metadata": {},
   "outputs": [],
   "source": [
    "RANDOM_STATE = 130323"
   ]
  },
  {
   "cell_type": "code",
   "execution_count": 3,
   "metadata": {},
   "outputs": [],
   "source": [
    "try:\n",
    "    df_contract = pd.read_csv('/datasets/final_provider/contract.csv', parse_dates=['BeginDate'])\n",
    "    df_internet = pd.read_csv('/datasets/final_provider/internet.csv')\n",
    "    df_personal = pd.read_csv('/datasets/final_provider/personal.csv')\n",
    "    df_phone = pd.read_csv('/datasets/final_provider/phone.csv')\n",
    "except:\n",
    "    df_contract = pd.read_csv('E:\\\\final_provider\\\\contract.csv', parse_dates=['BeginDate'])\n",
    "    df_internet = pd.read_csv('E:\\\\final_provider\\\\internet.csv')\n",
    "    df_personal = pd.read_csv('E:\\\\final_provider\\\\personal.csv')\n",
    "    df_phone = pd.read_csv('E:\\\\final_provider\\\\phone.csv')"
   ]
  },
  {
   "cell_type": "markdown",
   "metadata": {},
   "source": [
    "df_contract информация о договоре\n",
    "\n",
    "* id\n",
    "* \"когда пришел\"\n",
    "* \"когда ушел\": дата \\ не ушел\n",
    "* тип подписки: ежемесечная \\ годовая \\ 2хлетняя\n",
    "* получение электронного чека\n",
    "* способ оплаты\n",
    "* месячный доход\n",
    "* общий доход\n",
    "\n"
   ]
  },
  {
   "cell_type": "code",
   "execution_count": 4,
   "metadata": {},
   "outputs": [
    {
     "data": {
      "text/html": [
       "<div>\n",
       "<style scoped>\n",
       "    .dataframe tbody tr th:only-of-type {\n",
       "        vertical-align: middle;\n",
       "    }\n",
       "\n",
       "    .dataframe tbody tr th {\n",
       "        vertical-align: top;\n",
       "    }\n",
       "\n",
       "    .dataframe thead th {\n",
       "        text-align: right;\n",
       "    }\n",
       "</style>\n",
       "<table border=\"1\" class=\"dataframe\">\n",
       "  <thead>\n",
       "    <tr style=\"text-align: right;\">\n",
       "      <th></th>\n",
       "      <th>customerID</th>\n",
       "      <th>BeginDate</th>\n",
       "      <th>EndDate</th>\n",
       "      <th>Type</th>\n",
       "      <th>PaperlessBilling</th>\n",
       "      <th>PaymentMethod</th>\n",
       "      <th>MonthlyCharges</th>\n",
       "      <th>TotalCharges</th>\n",
       "    </tr>\n",
       "  </thead>\n",
       "  <tbody>\n",
       "    <tr>\n",
       "      <th>0</th>\n",
       "      <td>7590-VHVEG</td>\n",
       "      <td>2020-01-01</td>\n",
       "      <td>No</td>\n",
       "      <td>Month-to-month</td>\n",
       "      <td>Yes</td>\n",
       "      <td>Electronic check</td>\n",
       "      <td>29.85</td>\n",
       "      <td>29.85</td>\n",
       "    </tr>\n",
       "    <tr>\n",
       "      <th>1</th>\n",
       "      <td>5575-GNVDE</td>\n",
       "      <td>2017-04-01</td>\n",
       "      <td>No</td>\n",
       "      <td>One year</td>\n",
       "      <td>No</td>\n",
       "      <td>Mailed check</td>\n",
       "      <td>56.95</td>\n",
       "      <td>1889.5</td>\n",
       "    </tr>\n",
       "    <tr>\n",
       "      <th>2</th>\n",
       "      <td>3668-QPYBK</td>\n",
       "      <td>2019-10-01</td>\n",
       "      <td>2019-12-01 00:00:00</td>\n",
       "      <td>Month-to-month</td>\n",
       "      <td>Yes</td>\n",
       "      <td>Mailed check</td>\n",
       "      <td>53.85</td>\n",
       "      <td>108.15</td>\n",
       "    </tr>\n",
       "    <tr>\n",
       "      <th>3</th>\n",
       "      <td>7795-CFOCW</td>\n",
       "      <td>2016-05-01</td>\n",
       "      <td>No</td>\n",
       "      <td>One year</td>\n",
       "      <td>No</td>\n",
       "      <td>Bank transfer (automatic)</td>\n",
       "      <td>42.30</td>\n",
       "      <td>1840.75</td>\n",
       "    </tr>\n",
       "    <tr>\n",
       "      <th>4</th>\n",
       "      <td>9237-HQITU</td>\n",
       "      <td>2019-09-01</td>\n",
       "      <td>2019-11-01 00:00:00</td>\n",
       "      <td>Month-to-month</td>\n",
       "      <td>Yes</td>\n",
       "      <td>Electronic check</td>\n",
       "      <td>70.70</td>\n",
       "      <td>151.65</td>\n",
       "    </tr>\n",
       "    <tr>\n",
       "      <th>...</th>\n",
       "      <td>...</td>\n",
       "      <td>...</td>\n",
       "      <td>...</td>\n",
       "      <td>...</td>\n",
       "      <td>...</td>\n",
       "      <td>...</td>\n",
       "      <td>...</td>\n",
       "      <td>...</td>\n",
       "    </tr>\n",
       "    <tr>\n",
       "      <th>7038</th>\n",
       "      <td>6840-RESVB</td>\n",
       "      <td>2018-02-01</td>\n",
       "      <td>No</td>\n",
       "      <td>One year</td>\n",
       "      <td>Yes</td>\n",
       "      <td>Mailed check</td>\n",
       "      <td>84.80</td>\n",
       "      <td>1990.5</td>\n",
       "    </tr>\n",
       "    <tr>\n",
       "      <th>7039</th>\n",
       "      <td>2234-XADUH</td>\n",
       "      <td>2014-02-01</td>\n",
       "      <td>No</td>\n",
       "      <td>One year</td>\n",
       "      <td>Yes</td>\n",
       "      <td>Credit card (automatic)</td>\n",
       "      <td>103.20</td>\n",
       "      <td>7362.9</td>\n",
       "    </tr>\n",
       "    <tr>\n",
       "      <th>7040</th>\n",
       "      <td>4801-JZAZL</td>\n",
       "      <td>2019-03-01</td>\n",
       "      <td>No</td>\n",
       "      <td>Month-to-month</td>\n",
       "      <td>Yes</td>\n",
       "      <td>Electronic check</td>\n",
       "      <td>29.60</td>\n",
       "      <td>346.45</td>\n",
       "    </tr>\n",
       "    <tr>\n",
       "      <th>7041</th>\n",
       "      <td>8361-LTMKD</td>\n",
       "      <td>2019-07-01</td>\n",
       "      <td>2019-11-01 00:00:00</td>\n",
       "      <td>Month-to-month</td>\n",
       "      <td>Yes</td>\n",
       "      <td>Mailed check</td>\n",
       "      <td>74.40</td>\n",
       "      <td>306.6</td>\n",
       "    </tr>\n",
       "    <tr>\n",
       "      <th>7042</th>\n",
       "      <td>3186-AJIEK</td>\n",
       "      <td>2014-08-01</td>\n",
       "      <td>No</td>\n",
       "      <td>Two year</td>\n",
       "      <td>Yes</td>\n",
       "      <td>Bank transfer (automatic)</td>\n",
       "      <td>105.65</td>\n",
       "      <td>6844.5</td>\n",
       "    </tr>\n",
       "  </tbody>\n",
       "</table>\n",
       "<p>7043 rows × 8 columns</p>\n",
       "</div>"
      ],
      "text/plain": [
       "      customerID  BeginDate              EndDate            Type  \\\n",
       "0     7590-VHVEG 2020-01-01                   No  Month-to-month   \n",
       "1     5575-GNVDE 2017-04-01                   No        One year   \n",
       "2     3668-QPYBK 2019-10-01  2019-12-01 00:00:00  Month-to-month   \n",
       "3     7795-CFOCW 2016-05-01                   No        One year   \n",
       "4     9237-HQITU 2019-09-01  2019-11-01 00:00:00  Month-to-month   \n",
       "...          ...        ...                  ...             ...   \n",
       "7038  6840-RESVB 2018-02-01                   No        One year   \n",
       "7039  2234-XADUH 2014-02-01                   No        One year   \n",
       "7040  4801-JZAZL 2019-03-01                   No  Month-to-month   \n",
       "7041  8361-LTMKD 2019-07-01  2019-11-01 00:00:00  Month-to-month   \n",
       "7042  3186-AJIEK 2014-08-01                   No        Two year   \n",
       "\n",
       "     PaperlessBilling              PaymentMethod  MonthlyCharges TotalCharges  \n",
       "0                 Yes           Electronic check           29.85        29.85  \n",
       "1                  No               Mailed check           56.95       1889.5  \n",
       "2                 Yes               Mailed check           53.85       108.15  \n",
       "3                  No  Bank transfer (automatic)           42.30      1840.75  \n",
       "4                 Yes           Electronic check           70.70       151.65  \n",
       "...               ...                        ...             ...          ...  \n",
       "7038              Yes               Mailed check           84.80       1990.5  \n",
       "7039              Yes    Credit card (automatic)          103.20       7362.9  \n",
       "7040              Yes           Electronic check           29.60       346.45  \n",
       "7041              Yes               Mailed check           74.40        306.6  \n",
       "7042              Yes  Bank transfer (automatic)          105.65       6844.5  \n",
       "\n",
       "[7043 rows x 8 columns]"
      ]
     },
     "execution_count": 4,
     "metadata": {},
     "output_type": "execute_result"
    }
   ],
   "source": [
    "df_contract"
   ]
  },
  {
   "cell_type": "markdown",
   "metadata": {},
   "source": [
    "похоже клиенты с автопродлением неплохой маркер долгого сотрудничества (или забытой подписки)"
   ]
  },
  {
   "cell_type": "code",
   "execution_count": 5,
   "metadata": {},
   "outputs": [
    {
     "data": {
      "text/plain": [
       "Timestamp('2020-02-01 00:00:00')"
      ]
     },
     "execution_count": 5,
     "metadata": {},
     "output_type": "execute_result"
    }
   ],
   "source": [
    "df_contract['BeginDate'].max()"
   ]
  },
  {
   "cell_type": "code",
   "execution_count": 6,
   "metadata": {},
   "outputs": [
    {
     "data": {
      "text/plain": [
       "'2020-01-01 00:00:00'"
      ]
     },
     "execution_count": 6,
     "metadata": {},
     "output_type": "execute_result"
    }
   ],
   "source": [
    "df_contract[df_contract['EndDate']!='No']['EndDate'].max()"
   ]
  },
  {
   "cell_type": "markdown",
   "metadata": {},
   "source": [
    "проверим на корректность дат"
   ]
  },
  {
   "cell_type": "code",
   "execution_count": 7,
   "metadata": {},
   "outputs": [
    {
     "data": {
      "text/plain": [
       "0.7346301292063041"
      ]
     },
     "execution_count": 7,
     "metadata": {},
     "output_type": "execute_result"
    }
   ],
   "source": [
    "c = df_contract[df_contract['EndDate']=='No']['customerID'].count()\n",
    "c / df_contract.shape[0]"
   ]
  },
  {
   "cell_type": "markdown",
   "metadata": {},
   "source": [
    "доля \"оставшихся\" активных пользователей от всего количества\n",
    "\n",
    "Для метрики AUC-ROC дизбаланс классов не критичен; в любом случае можно воспользоваться балансировкой весов а так же стратифицировать выборки при разделе на трейн \\ тест "
   ]
  },
  {
   "cell_type": "code",
   "execution_count": 8,
   "metadata": {},
   "outputs": [
    {
     "data": {
      "text/html": [
       "<div>\n",
       "<style scoped>\n",
       "    .dataframe tbody tr th:only-of-type {\n",
       "        vertical-align: middle;\n",
       "    }\n",
       "\n",
       "    .dataframe tbody tr th {\n",
       "        vertical-align: top;\n",
       "    }\n",
       "\n",
       "    .dataframe thead th {\n",
       "        text-align: right;\n",
       "    }\n",
       "</style>\n",
       "<table border=\"1\" class=\"dataframe\">\n",
       "  <thead>\n",
       "    <tr style=\"text-align: right;\">\n",
       "      <th></th>\n",
       "      <th>MonthlyCharges</th>\n",
       "    </tr>\n",
       "  </thead>\n",
       "  <tbody>\n",
       "    <tr>\n",
       "      <th>count</th>\n",
       "      <td>7043.000000</td>\n",
       "    </tr>\n",
       "    <tr>\n",
       "      <th>mean</th>\n",
       "      <td>64.761692</td>\n",
       "    </tr>\n",
       "    <tr>\n",
       "      <th>std</th>\n",
       "      <td>30.090047</td>\n",
       "    </tr>\n",
       "    <tr>\n",
       "      <th>min</th>\n",
       "      <td>18.250000</td>\n",
       "    </tr>\n",
       "    <tr>\n",
       "      <th>25%</th>\n",
       "      <td>35.500000</td>\n",
       "    </tr>\n",
       "    <tr>\n",
       "      <th>50%</th>\n",
       "      <td>70.350000</td>\n",
       "    </tr>\n",
       "    <tr>\n",
       "      <th>75%</th>\n",
       "      <td>89.850000</td>\n",
       "    </tr>\n",
       "    <tr>\n",
       "      <th>max</th>\n",
       "      <td>118.750000</td>\n",
       "    </tr>\n",
       "  </tbody>\n",
       "</table>\n",
       "</div>"
      ],
      "text/plain": [
       "       MonthlyCharges\n",
       "count     7043.000000\n",
       "mean        64.761692\n",
       "std         30.090047\n",
       "min         18.250000\n",
       "25%         35.500000\n",
       "50%         70.350000\n",
       "75%         89.850000\n",
       "max        118.750000"
      ]
     },
     "execution_count": 8,
     "metadata": {},
     "output_type": "execute_result"
    }
   ],
   "source": [
    "df_contract.describe()"
   ]
  },
  {
   "cell_type": "markdown",
   "metadata": {},
   "source": [
    "df_internet - информация об интернет-услугах\n",
    "\n",
    "* id\n",
    "* Интернет: через телефонную линию (DSL) или оптоволоконный кабель (*Fiber optic*).  \n",
    "* блокировка небезопасных сайтов (*OnlineSecurity*);\n",
    "* Облачное хранилище файлов для резервного копирования данных (*OnlineBackup*);\n",
    "* Интернет-безопасность: антивирус (*DeviceProtection*)\n",
    "* Выделенная линия технической поддержки (*TechSupport*);\n",
    "* Стриминговое телевидение (*StreamingTV*)\n",
    "* каталог фильмов (*StreamingMovies*).\n"
   ]
  },
  {
   "cell_type": "code",
   "execution_count": 9,
   "metadata": {},
   "outputs": [
    {
     "data": {
      "text/html": [
       "<div>\n",
       "<style scoped>\n",
       "    .dataframe tbody tr th:only-of-type {\n",
       "        vertical-align: middle;\n",
       "    }\n",
       "\n",
       "    .dataframe tbody tr th {\n",
       "        vertical-align: top;\n",
       "    }\n",
       "\n",
       "    .dataframe thead th {\n",
       "        text-align: right;\n",
       "    }\n",
       "</style>\n",
       "<table border=\"1\" class=\"dataframe\">\n",
       "  <thead>\n",
       "    <tr style=\"text-align: right;\">\n",
       "      <th></th>\n",
       "      <th>customerID</th>\n",
       "      <th>InternetService</th>\n",
       "      <th>OnlineSecurity</th>\n",
       "      <th>OnlineBackup</th>\n",
       "      <th>DeviceProtection</th>\n",
       "      <th>TechSupport</th>\n",
       "      <th>StreamingTV</th>\n",
       "      <th>StreamingMovies</th>\n",
       "    </tr>\n",
       "  </thead>\n",
       "  <tbody>\n",
       "    <tr>\n",
       "      <th>0</th>\n",
       "      <td>7590-VHVEG</td>\n",
       "      <td>DSL</td>\n",
       "      <td>No</td>\n",
       "      <td>Yes</td>\n",
       "      <td>No</td>\n",
       "      <td>No</td>\n",
       "      <td>No</td>\n",
       "      <td>No</td>\n",
       "    </tr>\n",
       "    <tr>\n",
       "      <th>1</th>\n",
       "      <td>5575-GNVDE</td>\n",
       "      <td>DSL</td>\n",
       "      <td>Yes</td>\n",
       "      <td>No</td>\n",
       "      <td>Yes</td>\n",
       "      <td>No</td>\n",
       "      <td>No</td>\n",
       "      <td>No</td>\n",
       "    </tr>\n",
       "    <tr>\n",
       "      <th>2</th>\n",
       "      <td>3668-QPYBK</td>\n",
       "      <td>DSL</td>\n",
       "      <td>Yes</td>\n",
       "      <td>Yes</td>\n",
       "      <td>No</td>\n",
       "      <td>No</td>\n",
       "      <td>No</td>\n",
       "      <td>No</td>\n",
       "    </tr>\n",
       "    <tr>\n",
       "      <th>3</th>\n",
       "      <td>7795-CFOCW</td>\n",
       "      <td>DSL</td>\n",
       "      <td>Yes</td>\n",
       "      <td>No</td>\n",
       "      <td>Yes</td>\n",
       "      <td>Yes</td>\n",
       "      <td>No</td>\n",
       "      <td>No</td>\n",
       "    </tr>\n",
       "    <tr>\n",
       "      <th>4</th>\n",
       "      <td>9237-HQITU</td>\n",
       "      <td>Fiber optic</td>\n",
       "      <td>No</td>\n",
       "      <td>No</td>\n",
       "      <td>No</td>\n",
       "      <td>No</td>\n",
       "      <td>No</td>\n",
       "      <td>No</td>\n",
       "    </tr>\n",
       "    <tr>\n",
       "      <th>...</th>\n",
       "      <td>...</td>\n",
       "      <td>...</td>\n",
       "      <td>...</td>\n",
       "      <td>...</td>\n",
       "      <td>...</td>\n",
       "      <td>...</td>\n",
       "      <td>...</td>\n",
       "      <td>...</td>\n",
       "    </tr>\n",
       "    <tr>\n",
       "      <th>5512</th>\n",
       "      <td>6840-RESVB</td>\n",
       "      <td>DSL</td>\n",
       "      <td>Yes</td>\n",
       "      <td>No</td>\n",
       "      <td>Yes</td>\n",
       "      <td>Yes</td>\n",
       "      <td>Yes</td>\n",
       "      <td>Yes</td>\n",
       "    </tr>\n",
       "    <tr>\n",
       "      <th>5513</th>\n",
       "      <td>2234-XADUH</td>\n",
       "      <td>Fiber optic</td>\n",
       "      <td>No</td>\n",
       "      <td>Yes</td>\n",
       "      <td>Yes</td>\n",
       "      <td>No</td>\n",
       "      <td>Yes</td>\n",
       "      <td>Yes</td>\n",
       "    </tr>\n",
       "    <tr>\n",
       "      <th>5514</th>\n",
       "      <td>4801-JZAZL</td>\n",
       "      <td>DSL</td>\n",
       "      <td>Yes</td>\n",
       "      <td>No</td>\n",
       "      <td>No</td>\n",
       "      <td>No</td>\n",
       "      <td>No</td>\n",
       "      <td>No</td>\n",
       "    </tr>\n",
       "    <tr>\n",
       "      <th>5515</th>\n",
       "      <td>8361-LTMKD</td>\n",
       "      <td>Fiber optic</td>\n",
       "      <td>No</td>\n",
       "      <td>No</td>\n",
       "      <td>No</td>\n",
       "      <td>No</td>\n",
       "      <td>No</td>\n",
       "      <td>No</td>\n",
       "    </tr>\n",
       "    <tr>\n",
       "      <th>5516</th>\n",
       "      <td>3186-AJIEK</td>\n",
       "      <td>Fiber optic</td>\n",
       "      <td>Yes</td>\n",
       "      <td>No</td>\n",
       "      <td>Yes</td>\n",
       "      <td>Yes</td>\n",
       "      <td>Yes</td>\n",
       "      <td>Yes</td>\n",
       "    </tr>\n",
       "  </tbody>\n",
       "</table>\n",
       "<p>5517 rows × 8 columns</p>\n",
       "</div>"
      ],
      "text/plain": [
       "      customerID InternetService OnlineSecurity OnlineBackup DeviceProtection  \\\n",
       "0     7590-VHVEG             DSL             No          Yes               No   \n",
       "1     5575-GNVDE             DSL            Yes           No              Yes   \n",
       "2     3668-QPYBK             DSL            Yes          Yes               No   \n",
       "3     7795-CFOCW             DSL            Yes           No              Yes   \n",
       "4     9237-HQITU     Fiber optic             No           No               No   \n",
       "...          ...             ...            ...          ...              ...   \n",
       "5512  6840-RESVB             DSL            Yes           No              Yes   \n",
       "5513  2234-XADUH     Fiber optic             No          Yes              Yes   \n",
       "5514  4801-JZAZL             DSL            Yes           No               No   \n",
       "5515  8361-LTMKD     Fiber optic             No           No               No   \n",
       "5516  3186-AJIEK     Fiber optic            Yes           No              Yes   \n",
       "\n",
       "     TechSupport StreamingTV StreamingMovies  \n",
       "0             No          No              No  \n",
       "1             No          No              No  \n",
       "2             No          No              No  \n",
       "3            Yes          No              No  \n",
       "4             No          No              No  \n",
       "...          ...         ...             ...  \n",
       "5512         Yes         Yes             Yes  \n",
       "5513          No         Yes             Yes  \n",
       "5514          No          No              No  \n",
       "5515          No          No              No  \n",
       "5516         Yes         Yes             Yes  \n",
       "\n",
       "[5517 rows x 8 columns]"
      ]
     },
     "execution_count": 9,
     "metadata": {},
     "output_type": "execute_result"
    }
   ],
   "source": [
    "df_internet"
   ]
  },
  {
   "cell_type": "markdown",
   "metadata": {},
   "source": [
    "df_personal - персональные данные клиента\n",
    "\n",
    "* пол \n",
    "* пожилой?\n",
    "* в браке: да \\ нет  \n",
    "* дети?"
   ]
  },
  {
   "cell_type": "code",
   "execution_count": 10,
   "metadata": {},
   "outputs": [
    {
     "data": {
      "text/html": [
       "<div>\n",
       "<style scoped>\n",
       "    .dataframe tbody tr th:only-of-type {\n",
       "        vertical-align: middle;\n",
       "    }\n",
       "\n",
       "    .dataframe tbody tr th {\n",
       "        vertical-align: top;\n",
       "    }\n",
       "\n",
       "    .dataframe thead th {\n",
       "        text-align: right;\n",
       "    }\n",
       "</style>\n",
       "<table border=\"1\" class=\"dataframe\">\n",
       "  <thead>\n",
       "    <tr style=\"text-align: right;\">\n",
       "      <th></th>\n",
       "      <th>customerID</th>\n",
       "      <th>gender</th>\n",
       "      <th>SeniorCitizen</th>\n",
       "      <th>Partner</th>\n",
       "      <th>Dependents</th>\n",
       "    </tr>\n",
       "  </thead>\n",
       "  <tbody>\n",
       "    <tr>\n",
       "      <th>0</th>\n",
       "      <td>7590-VHVEG</td>\n",
       "      <td>Female</td>\n",
       "      <td>0</td>\n",
       "      <td>Yes</td>\n",
       "      <td>No</td>\n",
       "    </tr>\n",
       "    <tr>\n",
       "      <th>1</th>\n",
       "      <td>5575-GNVDE</td>\n",
       "      <td>Male</td>\n",
       "      <td>0</td>\n",
       "      <td>No</td>\n",
       "      <td>No</td>\n",
       "    </tr>\n",
       "    <tr>\n",
       "      <th>2</th>\n",
       "      <td>3668-QPYBK</td>\n",
       "      <td>Male</td>\n",
       "      <td>0</td>\n",
       "      <td>No</td>\n",
       "      <td>No</td>\n",
       "    </tr>\n",
       "    <tr>\n",
       "      <th>3</th>\n",
       "      <td>7795-CFOCW</td>\n",
       "      <td>Male</td>\n",
       "      <td>0</td>\n",
       "      <td>No</td>\n",
       "      <td>No</td>\n",
       "    </tr>\n",
       "    <tr>\n",
       "      <th>4</th>\n",
       "      <td>9237-HQITU</td>\n",
       "      <td>Female</td>\n",
       "      <td>0</td>\n",
       "      <td>No</td>\n",
       "      <td>No</td>\n",
       "    </tr>\n",
       "    <tr>\n",
       "      <th>...</th>\n",
       "      <td>...</td>\n",
       "      <td>...</td>\n",
       "      <td>...</td>\n",
       "      <td>...</td>\n",
       "      <td>...</td>\n",
       "    </tr>\n",
       "    <tr>\n",
       "      <th>7038</th>\n",
       "      <td>6840-RESVB</td>\n",
       "      <td>Male</td>\n",
       "      <td>0</td>\n",
       "      <td>Yes</td>\n",
       "      <td>Yes</td>\n",
       "    </tr>\n",
       "    <tr>\n",
       "      <th>7039</th>\n",
       "      <td>2234-XADUH</td>\n",
       "      <td>Female</td>\n",
       "      <td>0</td>\n",
       "      <td>Yes</td>\n",
       "      <td>Yes</td>\n",
       "    </tr>\n",
       "    <tr>\n",
       "      <th>7040</th>\n",
       "      <td>4801-JZAZL</td>\n",
       "      <td>Female</td>\n",
       "      <td>0</td>\n",
       "      <td>Yes</td>\n",
       "      <td>Yes</td>\n",
       "    </tr>\n",
       "    <tr>\n",
       "      <th>7041</th>\n",
       "      <td>8361-LTMKD</td>\n",
       "      <td>Male</td>\n",
       "      <td>1</td>\n",
       "      <td>Yes</td>\n",
       "      <td>No</td>\n",
       "    </tr>\n",
       "    <tr>\n",
       "      <th>7042</th>\n",
       "      <td>3186-AJIEK</td>\n",
       "      <td>Male</td>\n",
       "      <td>0</td>\n",
       "      <td>No</td>\n",
       "      <td>No</td>\n",
       "    </tr>\n",
       "  </tbody>\n",
       "</table>\n",
       "<p>7043 rows × 5 columns</p>\n",
       "</div>"
      ],
      "text/plain": [
       "      customerID  gender  SeniorCitizen Partner Dependents\n",
       "0     7590-VHVEG  Female              0     Yes         No\n",
       "1     5575-GNVDE    Male              0      No         No\n",
       "2     3668-QPYBK    Male              0      No         No\n",
       "3     7795-CFOCW    Male              0      No         No\n",
       "4     9237-HQITU  Female              0      No         No\n",
       "...          ...     ...            ...     ...        ...\n",
       "7038  6840-RESVB    Male              0     Yes        Yes\n",
       "7039  2234-XADUH  Female              0     Yes        Yes\n",
       "7040  4801-JZAZL  Female              0     Yes        Yes\n",
       "7041  8361-LTMKD    Male              1     Yes         No\n",
       "7042  3186-AJIEK    Male              0      No         No\n",
       "\n",
       "[7043 rows x 5 columns]"
      ]
     },
     "execution_count": 10,
     "metadata": {},
     "output_type": "execute_result"
    }
   ],
   "source": [
    "df_personal"
   ]
  },
  {
   "cell_type": "code",
   "execution_count": 11,
   "metadata": {},
   "outputs": [
    {
     "data": {
      "text/plain": [
       "Male      3555\n",
       "Female    3488\n",
       "Name: gender, dtype: int64"
      ]
     },
     "execution_count": 11,
     "metadata": {},
     "output_type": "execute_result"
    }
   ],
   "source": [
    "df_personal['gender'].value_counts()"
   ]
  },
  {
   "cell_type": "markdown",
   "metadata": {},
   "source": [
    "df_phone информация об услугах телефонии\n",
    "\n",
    "* телефонную связь, несколько линий: да \\ нет"
   ]
  },
  {
   "cell_type": "code",
   "execution_count": 12,
   "metadata": {},
   "outputs": [
    {
     "data": {
      "text/html": [
       "<div>\n",
       "<style scoped>\n",
       "    .dataframe tbody tr th:only-of-type {\n",
       "        vertical-align: middle;\n",
       "    }\n",
       "\n",
       "    .dataframe tbody tr th {\n",
       "        vertical-align: top;\n",
       "    }\n",
       "\n",
       "    .dataframe thead th {\n",
       "        text-align: right;\n",
       "    }\n",
       "</style>\n",
       "<table border=\"1\" class=\"dataframe\">\n",
       "  <thead>\n",
       "    <tr style=\"text-align: right;\">\n",
       "      <th></th>\n",
       "      <th>customerID</th>\n",
       "      <th>MultipleLines</th>\n",
       "    </tr>\n",
       "  </thead>\n",
       "  <tbody>\n",
       "    <tr>\n",
       "      <th>0</th>\n",
       "      <td>5575-GNVDE</td>\n",
       "      <td>No</td>\n",
       "    </tr>\n",
       "    <tr>\n",
       "      <th>1</th>\n",
       "      <td>3668-QPYBK</td>\n",
       "      <td>No</td>\n",
       "    </tr>\n",
       "    <tr>\n",
       "      <th>2</th>\n",
       "      <td>9237-HQITU</td>\n",
       "      <td>No</td>\n",
       "    </tr>\n",
       "    <tr>\n",
       "      <th>3</th>\n",
       "      <td>9305-CDSKC</td>\n",
       "      <td>Yes</td>\n",
       "    </tr>\n",
       "    <tr>\n",
       "      <th>4</th>\n",
       "      <td>1452-KIOVK</td>\n",
       "      <td>Yes</td>\n",
       "    </tr>\n",
       "    <tr>\n",
       "      <th>...</th>\n",
       "      <td>...</td>\n",
       "      <td>...</td>\n",
       "    </tr>\n",
       "    <tr>\n",
       "      <th>6356</th>\n",
       "      <td>2569-WGERO</td>\n",
       "      <td>No</td>\n",
       "    </tr>\n",
       "    <tr>\n",
       "      <th>6357</th>\n",
       "      <td>6840-RESVB</td>\n",
       "      <td>Yes</td>\n",
       "    </tr>\n",
       "    <tr>\n",
       "      <th>6358</th>\n",
       "      <td>2234-XADUH</td>\n",
       "      <td>Yes</td>\n",
       "    </tr>\n",
       "    <tr>\n",
       "      <th>6359</th>\n",
       "      <td>8361-LTMKD</td>\n",
       "      <td>Yes</td>\n",
       "    </tr>\n",
       "    <tr>\n",
       "      <th>6360</th>\n",
       "      <td>3186-AJIEK</td>\n",
       "      <td>No</td>\n",
       "    </tr>\n",
       "  </tbody>\n",
       "</table>\n",
       "<p>6361 rows × 2 columns</p>\n",
       "</div>"
      ],
      "text/plain": [
       "      customerID MultipleLines\n",
       "0     5575-GNVDE            No\n",
       "1     3668-QPYBK            No\n",
       "2     9237-HQITU            No\n",
       "3     9305-CDSKC           Yes\n",
       "4     1452-KIOVK           Yes\n",
       "...          ...           ...\n",
       "6356  2569-WGERO            No\n",
       "6357  6840-RESVB           Yes\n",
       "6358  2234-XADUH           Yes\n",
       "6359  8361-LTMKD           Yes\n",
       "6360  3186-AJIEK            No\n",
       "\n",
       "[6361 rows x 2 columns]"
      ]
     },
     "execution_count": 12,
     "metadata": {},
     "output_type": "execute_result"
    }
   ],
   "source": [
    "df_phone"
   ]
  },
  {
   "cell_type": "markdown",
   "metadata": {},
   "source": [
    "предварительно посмотрим на общую таблицу если обьединить все в одну"
   ]
  },
  {
   "cell_type": "code",
   "execution_count": 13,
   "metadata": {},
   "outputs": [],
   "source": [
    "df = pd.merge(df_contract, df_internet, on='customerID', how='outer')\n",
    "df = pd.merge(df, df_personal, on='customerID', how='outer')\n",
    "df = pd.merge(df, df_phone, on='customerID', how='outer')"
   ]
  },
  {
   "cell_type": "code",
   "execution_count": 14,
   "metadata": {},
   "outputs": [
    {
     "data": {
      "text/html": [
       "<div>\n",
       "<style scoped>\n",
       "    .dataframe tbody tr th:only-of-type {\n",
       "        vertical-align: middle;\n",
       "    }\n",
       "\n",
       "    .dataframe tbody tr th {\n",
       "        vertical-align: top;\n",
       "    }\n",
       "\n",
       "    .dataframe thead th {\n",
       "        text-align: right;\n",
       "    }\n",
       "</style>\n",
       "<table border=\"1\" class=\"dataframe\">\n",
       "  <thead>\n",
       "    <tr style=\"text-align: right;\">\n",
       "      <th></th>\n",
       "      <th>customerID</th>\n",
       "      <th>BeginDate</th>\n",
       "      <th>EndDate</th>\n",
       "      <th>Type</th>\n",
       "      <th>PaperlessBilling</th>\n",
       "      <th>PaymentMethod</th>\n",
       "      <th>MonthlyCharges</th>\n",
       "      <th>TotalCharges</th>\n",
       "      <th>InternetService</th>\n",
       "      <th>OnlineSecurity</th>\n",
       "      <th>OnlineBackup</th>\n",
       "      <th>DeviceProtection</th>\n",
       "      <th>TechSupport</th>\n",
       "      <th>StreamingTV</th>\n",
       "      <th>StreamingMovies</th>\n",
       "      <th>gender</th>\n",
       "      <th>SeniorCitizen</th>\n",
       "      <th>Partner</th>\n",
       "      <th>Dependents</th>\n",
       "      <th>MultipleLines</th>\n",
       "    </tr>\n",
       "  </thead>\n",
       "  <tbody>\n",
       "    <tr>\n",
       "      <th>0</th>\n",
       "      <td>7590-VHVEG</td>\n",
       "      <td>2020-01-01</td>\n",
       "      <td>No</td>\n",
       "      <td>Month-to-month</td>\n",
       "      <td>Yes</td>\n",
       "      <td>Electronic check</td>\n",
       "      <td>29.85</td>\n",
       "      <td>29.85</td>\n",
       "      <td>DSL</td>\n",
       "      <td>No</td>\n",
       "      <td>Yes</td>\n",
       "      <td>No</td>\n",
       "      <td>No</td>\n",
       "      <td>No</td>\n",
       "      <td>No</td>\n",
       "      <td>Female</td>\n",
       "      <td>0</td>\n",
       "      <td>Yes</td>\n",
       "      <td>No</td>\n",
       "      <td>NaN</td>\n",
       "    </tr>\n",
       "    <tr>\n",
       "      <th>1</th>\n",
       "      <td>5575-GNVDE</td>\n",
       "      <td>2017-04-01</td>\n",
       "      <td>No</td>\n",
       "      <td>One year</td>\n",
       "      <td>No</td>\n",
       "      <td>Mailed check</td>\n",
       "      <td>56.95</td>\n",
       "      <td>1889.5</td>\n",
       "      <td>DSL</td>\n",
       "      <td>Yes</td>\n",
       "      <td>No</td>\n",
       "      <td>Yes</td>\n",
       "      <td>No</td>\n",
       "      <td>No</td>\n",
       "      <td>No</td>\n",
       "      <td>Male</td>\n",
       "      <td>0</td>\n",
       "      <td>No</td>\n",
       "      <td>No</td>\n",
       "      <td>No</td>\n",
       "    </tr>\n",
       "    <tr>\n",
       "      <th>2</th>\n",
       "      <td>3668-QPYBK</td>\n",
       "      <td>2019-10-01</td>\n",
       "      <td>2019-12-01 00:00:00</td>\n",
       "      <td>Month-to-month</td>\n",
       "      <td>Yes</td>\n",
       "      <td>Mailed check</td>\n",
       "      <td>53.85</td>\n",
       "      <td>108.15</td>\n",
       "      <td>DSL</td>\n",
       "      <td>Yes</td>\n",
       "      <td>Yes</td>\n",
       "      <td>No</td>\n",
       "      <td>No</td>\n",
       "      <td>No</td>\n",
       "      <td>No</td>\n",
       "      <td>Male</td>\n",
       "      <td>0</td>\n",
       "      <td>No</td>\n",
       "      <td>No</td>\n",
       "      <td>No</td>\n",
       "    </tr>\n",
       "    <tr>\n",
       "      <th>3</th>\n",
       "      <td>7795-CFOCW</td>\n",
       "      <td>2016-05-01</td>\n",
       "      <td>No</td>\n",
       "      <td>One year</td>\n",
       "      <td>No</td>\n",
       "      <td>Bank transfer (automatic)</td>\n",
       "      <td>42.30</td>\n",
       "      <td>1840.75</td>\n",
       "      <td>DSL</td>\n",
       "      <td>Yes</td>\n",
       "      <td>No</td>\n",
       "      <td>Yes</td>\n",
       "      <td>Yes</td>\n",
       "      <td>No</td>\n",
       "      <td>No</td>\n",
       "      <td>Male</td>\n",
       "      <td>0</td>\n",
       "      <td>No</td>\n",
       "      <td>No</td>\n",
       "      <td>NaN</td>\n",
       "    </tr>\n",
       "    <tr>\n",
       "      <th>4</th>\n",
       "      <td>9237-HQITU</td>\n",
       "      <td>2019-09-01</td>\n",
       "      <td>2019-11-01 00:00:00</td>\n",
       "      <td>Month-to-month</td>\n",
       "      <td>Yes</td>\n",
       "      <td>Electronic check</td>\n",
       "      <td>70.70</td>\n",
       "      <td>151.65</td>\n",
       "      <td>Fiber optic</td>\n",
       "      <td>No</td>\n",
       "      <td>No</td>\n",
       "      <td>No</td>\n",
       "      <td>No</td>\n",
       "      <td>No</td>\n",
       "      <td>No</td>\n",
       "      <td>Female</td>\n",
       "      <td>0</td>\n",
       "      <td>No</td>\n",
       "      <td>No</td>\n",
       "      <td>No</td>\n",
       "    </tr>\n",
       "  </tbody>\n",
       "</table>\n",
       "</div>"
      ],
      "text/plain": [
       "   customerID  BeginDate              EndDate            Type  \\\n",
       "0  7590-VHVEG 2020-01-01                   No  Month-to-month   \n",
       "1  5575-GNVDE 2017-04-01                   No        One year   \n",
       "2  3668-QPYBK 2019-10-01  2019-12-01 00:00:00  Month-to-month   \n",
       "3  7795-CFOCW 2016-05-01                   No        One year   \n",
       "4  9237-HQITU 2019-09-01  2019-11-01 00:00:00  Month-to-month   \n",
       "\n",
       "  PaperlessBilling              PaymentMethod  MonthlyCharges TotalCharges  \\\n",
       "0              Yes           Electronic check           29.85        29.85   \n",
       "1               No               Mailed check           56.95       1889.5   \n",
       "2              Yes               Mailed check           53.85       108.15   \n",
       "3               No  Bank transfer (automatic)           42.30      1840.75   \n",
       "4              Yes           Electronic check           70.70       151.65   \n",
       "\n",
       "  InternetService OnlineSecurity OnlineBackup DeviceProtection TechSupport  \\\n",
       "0             DSL             No          Yes               No          No   \n",
       "1             DSL            Yes           No              Yes          No   \n",
       "2             DSL            Yes          Yes               No          No   \n",
       "3             DSL            Yes           No              Yes         Yes   \n",
       "4     Fiber optic             No           No               No          No   \n",
       "\n",
       "  StreamingTV StreamingMovies  gender  SeniorCitizen Partner Dependents  \\\n",
       "0          No              No  Female              0     Yes         No   \n",
       "1          No              No    Male              0      No         No   \n",
       "2          No              No    Male              0      No         No   \n",
       "3          No              No    Male              0      No         No   \n",
       "4          No              No  Female              0      No         No   \n",
       "\n",
       "  MultipleLines  \n",
       "0           NaN  \n",
       "1            No  \n",
       "2            No  \n",
       "3           NaN  \n",
       "4            No  "
      ]
     },
     "execution_count": 14,
     "metadata": {},
     "output_type": "execute_result"
    }
   ],
   "source": [
    "df.head()"
   ]
  },
  {
   "cell_type": "code",
   "execution_count": 15,
   "metadata": {},
   "outputs": [
    {
     "name": "stdout",
     "output_type": "stream",
     "text": [
      "<class 'pandas.core.frame.DataFrame'>\n",
      "Int64Index: 7043 entries, 0 to 7042\n",
      "Data columns (total 20 columns):\n",
      " #   Column            Non-Null Count  Dtype         \n",
      "---  ------            --------------  -----         \n",
      " 0   customerID        7043 non-null   object        \n",
      " 1   BeginDate         7043 non-null   datetime64[ns]\n",
      " 2   EndDate           7043 non-null   object        \n",
      " 3   Type              7043 non-null   object        \n",
      " 4   PaperlessBilling  7043 non-null   object        \n",
      " 5   PaymentMethod     7043 non-null   object        \n",
      " 6   MonthlyCharges    7043 non-null   float64       \n",
      " 7   TotalCharges      7043 non-null   object        \n",
      " 8   InternetService   5517 non-null   object        \n",
      " 9   OnlineSecurity    5517 non-null   object        \n",
      " 10  OnlineBackup      5517 non-null   object        \n",
      " 11  DeviceProtection  5517 non-null   object        \n",
      " 12  TechSupport       5517 non-null   object        \n",
      " 13  StreamingTV       5517 non-null   object        \n",
      " 14  StreamingMovies   5517 non-null   object        \n",
      " 15  gender            7043 non-null   object        \n",
      " 16  SeniorCitizen     7043 non-null   int64         \n",
      " 17  Partner           7043 non-null   object        \n",
      " 18  Dependents        7043 non-null   object        \n",
      " 19  MultipleLines     6361 non-null   object        \n",
      "dtypes: datetime64[ns](1), float64(1), int64(1), object(17)\n",
      "memory usage: 1.1+ MB\n"
     ]
    }
   ],
   "source": [
    "df.info()"
   ]
  },
  {
   "cell_type": "code",
   "execution_count": 16,
   "metadata": {},
   "outputs": [
    {
     "data": {
      "text/plain": [
       "customerID             0\n",
       "BeginDate              0\n",
       "EndDate                0\n",
       "Type                   0\n",
       "PaperlessBilling       0\n",
       "PaymentMethod          0\n",
       "MonthlyCharges         0\n",
       "TotalCharges           0\n",
       "InternetService     1526\n",
       "OnlineSecurity      1526\n",
       "OnlineBackup        1526\n",
       "DeviceProtection    1526\n",
       "TechSupport         1526\n",
       "StreamingTV         1526\n",
       "StreamingMovies     1526\n",
       "gender                 0\n",
       "SeniorCitizen          0\n",
       "Partner                0\n",
       "Dependents             0\n",
       "MultipleLines        682\n",
       "dtype: int64"
      ]
     },
     "execution_count": 16,
     "metadata": {},
     "output_type": "execute_result"
    }
   ],
   "source": [
    "df.isna().sum()"
   ]
  },
  {
   "cell_type": "code",
   "execution_count": 17,
   "metadata": {},
   "outputs": [
    {
     "data": {
      "text/plain": [
       "0"
      ]
     },
     "execution_count": 17,
     "metadata": {},
     "output_type": "execute_result"
    }
   ],
   "source": [
    "df.duplicated().sum()"
   ]
  },
  {
   "cell_type": "markdown",
   "metadata": {},
   "source": [
    "* судя по всему пропуски указывают что у некоторых пользователей отсутсвуют все дополнительные сервисы из таблицы df_internet\n",
    "* с пропусками в df_phone не так очевидно, нужно будет попробовать в них разобраться"
   ]
  },
  {
   "cell_type": "markdown",
   "metadata": {},
   "source": [
    "### план работы\n",
    "\n",
    "целевым показателем является наличие даты (отсутсвие 'NO') в столбце EndDate. Наверное можно все ячейки с датами этого столбца заменить на '1'; 'no' на '0' и решать задачу классификации\n",
    "\n",
    "* обьединить таблицы в один датафрейм по айди пользователя\n",
    "* заполнить пропуски в полученной таблице (как минимум часть пропусков указывает на то что услуга не оказывается)\n",
    "* преименовать столбцы в корректный стиль, заменить целевой признак на 1 и 0 \n",
    "* выделить из столбца с датами столбец \"стажа\" пользователя (количество дней с момента подключения)\n",
    "* удалить признаки которые могут привести к утечке данных\n",
    "* заменить бинарные ответы в столбцах на 0 и 1\n",
    "* поделить данные на трейн и тест\n",
    "* скалировать числовые признаки \n",
    "* для столбцов с мультиответами использовать OHE (если нужно для модели) \n",
    "* обучить нескольно моделей используя кросвалидацию (ориентировочно думаю про лес, сгд, кэтбуст и линейную). Метрика качества AUC-ROC, бейслайн 0.85\n",
    "* для перспективных моделей подобрать гиперпараметры\n",
    "* проверить лучшую модель с настроенными гиперпараметрами на тестовой выборке\n",
    "* сравнить с константной дамми моделью на тесте\n",
    "* сделать анализ лучшей модели (матрица ошибок, важность признаков)\n",
    "* написать вывод\n"
   ]
  },
  {
   "cell_type": "markdown",
   "metadata": {},
   "source": [
    "## предобработка"
   ]
  },
  {
   "cell_type": "markdown",
   "metadata": {},
   "source": [
    "### заполнение пропусков"
   ]
  },
  {
   "cell_type": "markdown",
   "metadata": {},
   "source": [
    "предобработка данных:\n",
    "пропуски, аномалии, новые признаки"
   ]
  },
  {
   "cell_type": "code",
   "execution_count": 18,
   "metadata": {},
   "outputs": [
    {
     "data": {
      "text/html": [
       "<div>\n",
       "<style scoped>\n",
       "    .dataframe tbody tr th:only-of-type {\n",
       "        vertical-align: middle;\n",
       "    }\n",
       "\n",
       "    .dataframe tbody tr th {\n",
       "        vertical-align: top;\n",
       "    }\n",
       "\n",
       "    .dataframe thead th {\n",
       "        text-align: right;\n",
       "    }\n",
       "</style>\n",
       "<table border=\"1\" class=\"dataframe\">\n",
       "  <thead>\n",
       "    <tr style=\"text-align: right;\">\n",
       "      <th></th>\n",
       "      <th>customerID</th>\n",
       "      <th>BeginDate</th>\n",
       "      <th>EndDate</th>\n",
       "      <th>Type</th>\n",
       "      <th>PaperlessBilling</th>\n",
       "      <th>PaymentMethod</th>\n",
       "      <th>MonthlyCharges</th>\n",
       "      <th>TotalCharges</th>\n",
       "      <th>InternetService</th>\n",
       "      <th>OnlineSecurity</th>\n",
       "      <th>OnlineBackup</th>\n",
       "      <th>DeviceProtection</th>\n",
       "      <th>TechSupport</th>\n",
       "      <th>StreamingTV</th>\n",
       "      <th>StreamingMovies</th>\n",
       "      <th>gender</th>\n",
       "      <th>SeniorCitizen</th>\n",
       "      <th>Partner</th>\n",
       "      <th>Dependents</th>\n",
       "      <th>MultipleLines</th>\n",
       "    </tr>\n",
       "  </thead>\n",
       "  <tbody>\n",
       "    <tr>\n",
       "      <th>0</th>\n",
       "      <td>7590-VHVEG</td>\n",
       "      <td>2020-01-01</td>\n",
       "      <td>No</td>\n",
       "      <td>Month-to-month</td>\n",
       "      <td>Yes</td>\n",
       "      <td>Electronic check</td>\n",
       "      <td>29.85</td>\n",
       "      <td>29.85</td>\n",
       "      <td>DSL</td>\n",
       "      <td>No</td>\n",
       "      <td>Yes</td>\n",
       "      <td>No</td>\n",
       "      <td>No</td>\n",
       "      <td>No</td>\n",
       "      <td>No</td>\n",
       "      <td>Female</td>\n",
       "      <td>0</td>\n",
       "      <td>Yes</td>\n",
       "      <td>No</td>\n",
       "      <td>NaN</td>\n",
       "    </tr>\n",
       "    <tr>\n",
       "      <th>1</th>\n",
       "      <td>5575-GNVDE</td>\n",
       "      <td>2017-04-01</td>\n",
       "      <td>No</td>\n",
       "      <td>One year</td>\n",
       "      <td>No</td>\n",
       "      <td>Mailed check</td>\n",
       "      <td>56.95</td>\n",
       "      <td>1889.5</td>\n",
       "      <td>DSL</td>\n",
       "      <td>Yes</td>\n",
       "      <td>No</td>\n",
       "      <td>Yes</td>\n",
       "      <td>No</td>\n",
       "      <td>No</td>\n",
       "      <td>No</td>\n",
       "      <td>Male</td>\n",
       "      <td>0</td>\n",
       "      <td>No</td>\n",
       "      <td>No</td>\n",
       "      <td>No</td>\n",
       "    </tr>\n",
       "    <tr>\n",
       "      <th>2</th>\n",
       "      <td>3668-QPYBK</td>\n",
       "      <td>2019-10-01</td>\n",
       "      <td>2019-12-01 00:00:00</td>\n",
       "      <td>Month-to-month</td>\n",
       "      <td>Yes</td>\n",
       "      <td>Mailed check</td>\n",
       "      <td>53.85</td>\n",
       "      <td>108.15</td>\n",
       "      <td>DSL</td>\n",
       "      <td>Yes</td>\n",
       "      <td>Yes</td>\n",
       "      <td>No</td>\n",
       "      <td>No</td>\n",
       "      <td>No</td>\n",
       "      <td>No</td>\n",
       "      <td>Male</td>\n",
       "      <td>0</td>\n",
       "      <td>No</td>\n",
       "      <td>No</td>\n",
       "      <td>No</td>\n",
       "    </tr>\n",
       "    <tr>\n",
       "      <th>3</th>\n",
       "      <td>7795-CFOCW</td>\n",
       "      <td>2016-05-01</td>\n",
       "      <td>No</td>\n",
       "      <td>One year</td>\n",
       "      <td>No</td>\n",
       "      <td>Bank transfer (automatic)</td>\n",
       "      <td>42.30</td>\n",
       "      <td>1840.75</td>\n",
       "      <td>DSL</td>\n",
       "      <td>Yes</td>\n",
       "      <td>No</td>\n",
       "      <td>Yes</td>\n",
       "      <td>Yes</td>\n",
       "      <td>No</td>\n",
       "      <td>No</td>\n",
       "      <td>Male</td>\n",
       "      <td>0</td>\n",
       "      <td>No</td>\n",
       "      <td>No</td>\n",
       "      <td>NaN</td>\n",
       "    </tr>\n",
       "    <tr>\n",
       "      <th>4</th>\n",
       "      <td>9237-HQITU</td>\n",
       "      <td>2019-09-01</td>\n",
       "      <td>2019-11-01 00:00:00</td>\n",
       "      <td>Month-to-month</td>\n",
       "      <td>Yes</td>\n",
       "      <td>Electronic check</td>\n",
       "      <td>70.70</td>\n",
       "      <td>151.65</td>\n",
       "      <td>Fiber optic</td>\n",
       "      <td>No</td>\n",
       "      <td>No</td>\n",
       "      <td>No</td>\n",
       "      <td>No</td>\n",
       "      <td>No</td>\n",
       "      <td>No</td>\n",
       "      <td>Female</td>\n",
       "      <td>0</td>\n",
       "      <td>No</td>\n",
       "      <td>No</td>\n",
       "      <td>No</td>\n",
       "    </tr>\n",
       "  </tbody>\n",
       "</table>\n",
       "</div>"
      ],
      "text/plain": [
       "   customerID  BeginDate              EndDate            Type  \\\n",
       "0  7590-VHVEG 2020-01-01                   No  Month-to-month   \n",
       "1  5575-GNVDE 2017-04-01                   No        One year   \n",
       "2  3668-QPYBK 2019-10-01  2019-12-01 00:00:00  Month-to-month   \n",
       "3  7795-CFOCW 2016-05-01                   No        One year   \n",
       "4  9237-HQITU 2019-09-01  2019-11-01 00:00:00  Month-to-month   \n",
       "\n",
       "  PaperlessBilling              PaymentMethod  MonthlyCharges TotalCharges  \\\n",
       "0              Yes           Electronic check           29.85        29.85   \n",
       "1               No               Mailed check           56.95       1889.5   \n",
       "2              Yes               Mailed check           53.85       108.15   \n",
       "3               No  Bank transfer (automatic)           42.30      1840.75   \n",
       "4              Yes           Electronic check           70.70       151.65   \n",
       "\n",
       "  InternetService OnlineSecurity OnlineBackup DeviceProtection TechSupport  \\\n",
       "0             DSL             No          Yes               No          No   \n",
       "1             DSL            Yes           No              Yes          No   \n",
       "2             DSL            Yes          Yes               No          No   \n",
       "3             DSL            Yes           No              Yes         Yes   \n",
       "4     Fiber optic             No           No               No          No   \n",
       "\n",
       "  StreamingTV StreamingMovies  gender  SeniorCitizen Partner Dependents  \\\n",
       "0          No              No  Female              0     Yes         No   \n",
       "1          No              No    Male              0      No         No   \n",
       "2          No              No    Male              0      No         No   \n",
       "3          No              No    Male              0      No         No   \n",
       "4          No              No  Female              0      No         No   \n",
       "\n",
       "  MultipleLines  \n",
       "0           NaN  \n",
       "1            No  \n",
       "2            No  \n",
       "3           NaN  \n",
       "4            No  "
      ]
     },
     "execution_count": 18,
     "metadata": {},
     "output_type": "execute_result"
    }
   ],
   "source": [
    "df.head()"
   ]
  },
  {
   "cell_type": "code",
   "execution_count": 19,
   "metadata": {},
   "outputs": [
    {
     "data": {
      "text/plain": [
       "customerID             0\n",
       "BeginDate              0\n",
       "EndDate                0\n",
       "Type                   0\n",
       "PaperlessBilling       0\n",
       "PaymentMethod          0\n",
       "MonthlyCharges         0\n",
       "TotalCharges           0\n",
       "InternetService     1526\n",
       "OnlineSecurity      1526\n",
       "OnlineBackup        1526\n",
       "DeviceProtection    1526\n",
       "TechSupport         1526\n",
       "StreamingTV         1526\n",
       "StreamingMovies     1526\n",
       "gender                 0\n",
       "SeniorCitizen          0\n",
       "Partner                0\n",
       "Dependents             0\n",
       "MultipleLines        682\n",
       "dtype: int64"
      ]
     },
     "execution_count": 19,
     "metadata": {},
     "output_type": "execute_result"
    }
   ],
   "source": [
    "df.isna().sum()"
   ]
  },
  {
   "cell_type": "code",
   "execution_count": 20,
   "metadata": {},
   "outputs": [],
   "source": [
    "absent_services = []\n",
    "for el in df_internet.columns:\n",
    "    if el != 'customerID':\n",
    "        absent_services.append(el)"
   ]
  },
  {
   "cell_type": "code",
   "execution_count": 21,
   "metadata": {},
   "outputs": [
    {
     "data": {
      "text/plain": [
       "['InternetService',\n",
       " 'OnlineSecurity',\n",
       " 'OnlineBackup',\n",
       " 'DeviceProtection',\n",
       " 'TechSupport',\n",
       " 'StreamingTV',\n",
       " 'StreamingMovies']"
      ]
     },
     "execution_count": 21,
     "metadata": {},
     "output_type": "execute_result"
    }
   ],
   "source": [
    "absent_services"
   ]
  },
  {
   "cell_type": "code",
   "execution_count": 23,
   "metadata": {},
   "outputs": [],
   "source": [
    "for el in absent_services:\n",
    "    if el != 'InternetService':\n",
    "        df[el] = df[el].fillna(0)\n",
    "    else:\n",
    "        df[el] = df[el].fillna('unknown')"
   ]
  },
  {
   "cell_type": "code",
   "execution_count": 24,
   "metadata": {},
   "outputs": [
    {
     "data": {
      "text/plain": [
       "customerID            0\n",
       "BeginDate             0\n",
       "EndDate               0\n",
       "Type                  0\n",
       "PaperlessBilling      0\n",
       "PaymentMethod         0\n",
       "MonthlyCharges        0\n",
       "TotalCharges          0\n",
       "InternetService       0\n",
       "OnlineSecurity        0\n",
       "OnlineBackup          0\n",
       "DeviceProtection      0\n",
       "TechSupport           0\n",
       "StreamingTV           0\n",
       "StreamingMovies       0\n",
       "gender                0\n",
       "SeniorCitizen         0\n",
       "Partner               0\n",
       "Dependents            0\n",
       "MultipleLines       682\n",
       "dtype: int64"
      ]
     },
     "execution_count": 24,
     "metadata": {},
     "output_type": "execute_result"
    }
   ],
   "source": [
    "df.isna().sum()"
   ]
  },
  {
   "cell_type": "code",
   "execution_count": 25,
   "metadata": {},
   "outputs": [
    {
     "data": {
      "text/html": [
       "<div>\n",
       "<style scoped>\n",
       "    .dataframe tbody tr th:only-of-type {\n",
       "        vertical-align: middle;\n",
       "    }\n",
       "\n",
       "    .dataframe tbody tr th {\n",
       "        vertical-align: top;\n",
       "    }\n",
       "\n",
       "    .dataframe thead th {\n",
       "        text-align: right;\n",
       "    }\n",
       "</style>\n",
       "<table border=\"1\" class=\"dataframe\">\n",
       "  <thead>\n",
       "    <tr style=\"text-align: right;\">\n",
       "      <th></th>\n",
       "      <th>customerID</th>\n",
       "      <th>BeginDate</th>\n",
       "      <th>EndDate</th>\n",
       "      <th>Type</th>\n",
       "      <th>PaperlessBilling</th>\n",
       "      <th>PaymentMethod</th>\n",
       "      <th>MonthlyCharges</th>\n",
       "      <th>TotalCharges</th>\n",
       "      <th>InternetService</th>\n",
       "      <th>OnlineSecurity</th>\n",
       "      <th>OnlineBackup</th>\n",
       "      <th>DeviceProtection</th>\n",
       "      <th>TechSupport</th>\n",
       "      <th>StreamingTV</th>\n",
       "      <th>StreamingMovies</th>\n",
       "      <th>gender</th>\n",
       "      <th>SeniorCitizen</th>\n",
       "      <th>Partner</th>\n",
       "      <th>Dependents</th>\n",
       "      <th>MultipleLines</th>\n",
       "    </tr>\n",
       "  </thead>\n",
       "  <tbody>\n",
       "    <tr>\n",
       "      <th>0</th>\n",
       "      <td>7590-VHVEG</td>\n",
       "      <td>2020-01-01</td>\n",
       "      <td>No</td>\n",
       "      <td>Month-to-month</td>\n",
       "      <td>Yes</td>\n",
       "      <td>Electronic check</td>\n",
       "      <td>29.85</td>\n",
       "      <td>29.85</td>\n",
       "      <td>DSL</td>\n",
       "      <td>No</td>\n",
       "      <td>Yes</td>\n",
       "      <td>No</td>\n",
       "      <td>No</td>\n",
       "      <td>No</td>\n",
       "      <td>No</td>\n",
       "      <td>Female</td>\n",
       "      <td>0</td>\n",
       "      <td>Yes</td>\n",
       "      <td>No</td>\n",
       "      <td>NaN</td>\n",
       "    </tr>\n",
       "    <tr>\n",
       "      <th>1</th>\n",
       "      <td>5575-GNVDE</td>\n",
       "      <td>2017-04-01</td>\n",
       "      <td>No</td>\n",
       "      <td>One year</td>\n",
       "      <td>No</td>\n",
       "      <td>Mailed check</td>\n",
       "      <td>56.95</td>\n",
       "      <td>1889.5</td>\n",
       "      <td>DSL</td>\n",
       "      <td>Yes</td>\n",
       "      <td>No</td>\n",
       "      <td>Yes</td>\n",
       "      <td>No</td>\n",
       "      <td>No</td>\n",
       "      <td>No</td>\n",
       "      <td>Male</td>\n",
       "      <td>0</td>\n",
       "      <td>No</td>\n",
       "      <td>No</td>\n",
       "      <td>No</td>\n",
       "    </tr>\n",
       "    <tr>\n",
       "      <th>2</th>\n",
       "      <td>3668-QPYBK</td>\n",
       "      <td>2019-10-01</td>\n",
       "      <td>2019-12-01 00:00:00</td>\n",
       "      <td>Month-to-month</td>\n",
       "      <td>Yes</td>\n",
       "      <td>Mailed check</td>\n",
       "      <td>53.85</td>\n",
       "      <td>108.15</td>\n",
       "      <td>DSL</td>\n",
       "      <td>Yes</td>\n",
       "      <td>Yes</td>\n",
       "      <td>No</td>\n",
       "      <td>No</td>\n",
       "      <td>No</td>\n",
       "      <td>No</td>\n",
       "      <td>Male</td>\n",
       "      <td>0</td>\n",
       "      <td>No</td>\n",
       "      <td>No</td>\n",
       "      <td>No</td>\n",
       "    </tr>\n",
       "    <tr>\n",
       "      <th>3</th>\n",
       "      <td>7795-CFOCW</td>\n",
       "      <td>2016-05-01</td>\n",
       "      <td>No</td>\n",
       "      <td>One year</td>\n",
       "      <td>No</td>\n",
       "      <td>Bank transfer (automatic)</td>\n",
       "      <td>42.30</td>\n",
       "      <td>1840.75</td>\n",
       "      <td>DSL</td>\n",
       "      <td>Yes</td>\n",
       "      <td>No</td>\n",
       "      <td>Yes</td>\n",
       "      <td>Yes</td>\n",
       "      <td>No</td>\n",
       "      <td>No</td>\n",
       "      <td>Male</td>\n",
       "      <td>0</td>\n",
       "      <td>No</td>\n",
       "      <td>No</td>\n",
       "      <td>NaN</td>\n",
       "    </tr>\n",
       "    <tr>\n",
       "      <th>4</th>\n",
       "      <td>9237-HQITU</td>\n",
       "      <td>2019-09-01</td>\n",
       "      <td>2019-11-01 00:00:00</td>\n",
       "      <td>Month-to-month</td>\n",
       "      <td>Yes</td>\n",
       "      <td>Electronic check</td>\n",
       "      <td>70.70</td>\n",
       "      <td>151.65</td>\n",
       "      <td>Fiber optic</td>\n",
       "      <td>No</td>\n",
       "      <td>No</td>\n",
       "      <td>No</td>\n",
       "      <td>No</td>\n",
       "      <td>No</td>\n",
       "      <td>No</td>\n",
       "      <td>Female</td>\n",
       "      <td>0</td>\n",
       "      <td>No</td>\n",
       "      <td>No</td>\n",
       "      <td>No</td>\n",
       "    </tr>\n",
       "    <tr>\n",
       "      <th>...</th>\n",
       "      <td>...</td>\n",
       "      <td>...</td>\n",
       "      <td>...</td>\n",
       "      <td>...</td>\n",
       "      <td>...</td>\n",
       "      <td>...</td>\n",
       "      <td>...</td>\n",
       "      <td>...</td>\n",
       "      <td>...</td>\n",
       "      <td>...</td>\n",
       "      <td>...</td>\n",
       "      <td>...</td>\n",
       "      <td>...</td>\n",
       "      <td>...</td>\n",
       "      <td>...</td>\n",
       "      <td>...</td>\n",
       "      <td>...</td>\n",
       "      <td>...</td>\n",
       "      <td>...</td>\n",
       "      <td>...</td>\n",
       "    </tr>\n",
       "    <tr>\n",
       "      <th>7038</th>\n",
       "      <td>6840-RESVB</td>\n",
       "      <td>2018-02-01</td>\n",
       "      <td>No</td>\n",
       "      <td>One year</td>\n",
       "      <td>Yes</td>\n",
       "      <td>Mailed check</td>\n",
       "      <td>84.80</td>\n",
       "      <td>1990.5</td>\n",
       "      <td>DSL</td>\n",
       "      <td>Yes</td>\n",
       "      <td>No</td>\n",
       "      <td>Yes</td>\n",
       "      <td>Yes</td>\n",
       "      <td>Yes</td>\n",
       "      <td>Yes</td>\n",
       "      <td>Male</td>\n",
       "      <td>0</td>\n",
       "      <td>Yes</td>\n",
       "      <td>Yes</td>\n",
       "      <td>Yes</td>\n",
       "    </tr>\n",
       "    <tr>\n",
       "      <th>7039</th>\n",
       "      <td>2234-XADUH</td>\n",
       "      <td>2014-02-01</td>\n",
       "      <td>No</td>\n",
       "      <td>One year</td>\n",
       "      <td>Yes</td>\n",
       "      <td>Credit card (automatic)</td>\n",
       "      <td>103.20</td>\n",
       "      <td>7362.9</td>\n",
       "      <td>Fiber optic</td>\n",
       "      <td>No</td>\n",
       "      <td>Yes</td>\n",
       "      <td>Yes</td>\n",
       "      <td>No</td>\n",
       "      <td>Yes</td>\n",
       "      <td>Yes</td>\n",
       "      <td>Female</td>\n",
       "      <td>0</td>\n",
       "      <td>Yes</td>\n",
       "      <td>Yes</td>\n",
       "      <td>Yes</td>\n",
       "    </tr>\n",
       "    <tr>\n",
       "      <th>7040</th>\n",
       "      <td>4801-JZAZL</td>\n",
       "      <td>2019-03-01</td>\n",
       "      <td>No</td>\n",
       "      <td>Month-to-month</td>\n",
       "      <td>Yes</td>\n",
       "      <td>Electronic check</td>\n",
       "      <td>29.60</td>\n",
       "      <td>346.45</td>\n",
       "      <td>DSL</td>\n",
       "      <td>Yes</td>\n",
       "      <td>No</td>\n",
       "      <td>No</td>\n",
       "      <td>No</td>\n",
       "      <td>No</td>\n",
       "      <td>No</td>\n",
       "      <td>Female</td>\n",
       "      <td>0</td>\n",
       "      <td>Yes</td>\n",
       "      <td>Yes</td>\n",
       "      <td>NaN</td>\n",
       "    </tr>\n",
       "    <tr>\n",
       "      <th>7041</th>\n",
       "      <td>8361-LTMKD</td>\n",
       "      <td>2019-07-01</td>\n",
       "      <td>2019-11-01 00:00:00</td>\n",
       "      <td>Month-to-month</td>\n",
       "      <td>Yes</td>\n",
       "      <td>Mailed check</td>\n",
       "      <td>74.40</td>\n",
       "      <td>306.6</td>\n",
       "      <td>Fiber optic</td>\n",
       "      <td>No</td>\n",
       "      <td>No</td>\n",
       "      <td>No</td>\n",
       "      <td>No</td>\n",
       "      <td>No</td>\n",
       "      <td>No</td>\n",
       "      <td>Male</td>\n",
       "      <td>1</td>\n",
       "      <td>Yes</td>\n",
       "      <td>No</td>\n",
       "      <td>Yes</td>\n",
       "    </tr>\n",
       "    <tr>\n",
       "      <th>7042</th>\n",
       "      <td>3186-AJIEK</td>\n",
       "      <td>2014-08-01</td>\n",
       "      <td>No</td>\n",
       "      <td>Two year</td>\n",
       "      <td>Yes</td>\n",
       "      <td>Bank transfer (automatic)</td>\n",
       "      <td>105.65</td>\n",
       "      <td>6844.5</td>\n",
       "      <td>Fiber optic</td>\n",
       "      <td>Yes</td>\n",
       "      <td>No</td>\n",
       "      <td>Yes</td>\n",
       "      <td>Yes</td>\n",
       "      <td>Yes</td>\n",
       "      <td>Yes</td>\n",
       "      <td>Male</td>\n",
       "      <td>0</td>\n",
       "      <td>No</td>\n",
       "      <td>No</td>\n",
       "      <td>No</td>\n",
       "    </tr>\n",
       "  </tbody>\n",
       "</table>\n",
       "<p>7043 rows × 20 columns</p>\n",
       "</div>"
      ],
      "text/plain": [
       "      customerID  BeginDate              EndDate            Type  \\\n",
       "0     7590-VHVEG 2020-01-01                   No  Month-to-month   \n",
       "1     5575-GNVDE 2017-04-01                   No        One year   \n",
       "2     3668-QPYBK 2019-10-01  2019-12-01 00:00:00  Month-to-month   \n",
       "3     7795-CFOCW 2016-05-01                   No        One year   \n",
       "4     9237-HQITU 2019-09-01  2019-11-01 00:00:00  Month-to-month   \n",
       "...          ...        ...                  ...             ...   \n",
       "7038  6840-RESVB 2018-02-01                   No        One year   \n",
       "7039  2234-XADUH 2014-02-01                   No        One year   \n",
       "7040  4801-JZAZL 2019-03-01                   No  Month-to-month   \n",
       "7041  8361-LTMKD 2019-07-01  2019-11-01 00:00:00  Month-to-month   \n",
       "7042  3186-AJIEK 2014-08-01                   No        Two year   \n",
       "\n",
       "     PaperlessBilling              PaymentMethod  MonthlyCharges TotalCharges  \\\n",
       "0                 Yes           Electronic check           29.85        29.85   \n",
       "1                  No               Mailed check           56.95       1889.5   \n",
       "2                 Yes               Mailed check           53.85       108.15   \n",
       "3                  No  Bank transfer (automatic)           42.30      1840.75   \n",
       "4                 Yes           Electronic check           70.70       151.65   \n",
       "...               ...                        ...             ...          ...   \n",
       "7038              Yes               Mailed check           84.80       1990.5   \n",
       "7039              Yes    Credit card (automatic)          103.20       7362.9   \n",
       "7040              Yes           Electronic check           29.60       346.45   \n",
       "7041              Yes               Mailed check           74.40        306.6   \n",
       "7042              Yes  Bank transfer (automatic)          105.65       6844.5   \n",
       "\n",
       "     InternetService OnlineSecurity OnlineBackup DeviceProtection TechSupport  \\\n",
       "0                DSL             No          Yes               No          No   \n",
       "1                DSL            Yes           No              Yes          No   \n",
       "2                DSL            Yes          Yes               No          No   \n",
       "3                DSL            Yes           No              Yes         Yes   \n",
       "4        Fiber optic             No           No               No          No   \n",
       "...              ...            ...          ...              ...         ...   \n",
       "7038             DSL            Yes           No              Yes         Yes   \n",
       "7039     Fiber optic             No          Yes              Yes          No   \n",
       "7040             DSL            Yes           No               No          No   \n",
       "7041     Fiber optic             No           No               No          No   \n",
       "7042     Fiber optic            Yes           No              Yes         Yes   \n",
       "\n",
       "     StreamingTV StreamingMovies  gender  SeniorCitizen Partner Dependents  \\\n",
       "0             No              No  Female              0     Yes         No   \n",
       "1             No              No    Male              0      No         No   \n",
       "2             No              No    Male              0      No         No   \n",
       "3             No              No    Male              0      No         No   \n",
       "4             No              No  Female              0      No         No   \n",
       "...          ...             ...     ...            ...     ...        ...   \n",
       "7038         Yes             Yes    Male              0     Yes        Yes   \n",
       "7039         Yes             Yes  Female              0     Yes        Yes   \n",
       "7040          No              No  Female              0     Yes        Yes   \n",
       "7041          No              No    Male              1     Yes         No   \n",
       "7042         Yes             Yes    Male              0      No         No   \n",
       "\n",
       "     MultipleLines  \n",
       "0              NaN  \n",
       "1               No  \n",
       "2               No  \n",
       "3              NaN  \n",
       "4               No  \n",
       "...            ...  \n",
       "7038           Yes  \n",
       "7039           Yes  \n",
       "7040           NaN  \n",
       "7041           Yes  \n",
       "7042            No  \n",
       "\n",
       "[7043 rows x 20 columns]"
      ]
     },
     "execution_count": 25,
     "metadata": {},
     "output_type": "execute_result"
    }
   ],
   "source": [
    "df"
   ]
  },
  {
   "cell_type": "markdown",
   "metadata": {},
   "source": [
    "приведем столбцы к единому snake_case"
   ]
  },
  {
   "cell_type": "code",
   "execution_count": 26,
   "metadata": {},
   "outputs": [],
   "source": [
    "for el in df.columns:\n",
    "    new = re.sub(r'(?<!^)(?=[A-Z])', '_', el).lower()\n",
    "    df = df.rename(columns={el: new})\n",
    "    "
   ]
  },
  {
   "cell_type": "code",
   "execution_count": 27,
   "metadata": {},
   "outputs": [
    {
     "data": {
      "text/html": [
       "<div>\n",
       "<style scoped>\n",
       "    .dataframe tbody tr th:only-of-type {\n",
       "        vertical-align: middle;\n",
       "    }\n",
       "\n",
       "    .dataframe tbody tr th {\n",
       "        vertical-align: top;\n",
       "    }\n",
       "\n",
       "    .dataframe thead th {\n",
       "        text-align: right;\n",
       "    }\n",
       "</style>\n",
       "<table border=\"1\" class=\"dataframe\">\n",
       "  <thead>\n",
       "    <tr style=\"text-align: right;\">\n",
       "      <th></th>\n",
       "      <th>customer_i_d</th>\n",
       "      <th>begin_date</th>\n",
       "      <th>end_date</th>\n",
       "      <th>type</th>\n",
       "      <th>paperless_billing</th>\n",
       "      <th>payment_method</th>\n",
       "      <th>monthly_charges</th>\n",
       "      <th>total_charges</th>\n",
       "      <th>internet_service</th>\n",
       "      <th>online_security</th>\n",
       "      <th>online_backup</th>\n",
       "      <th>device_protection</th>\n",
       "      <th>tech_support</th>\n",
       "      <th>streaming_t_v</th>\n",
       "      <th>streaming_movies</th>\n",
       "      <th>gender</th>\n",
       "      <th>senior_citizen</th>\n",
       "      <th>partner</th>\n",
       "      <th>dependents</th>\n",
       "      <th>multiple_lines</th>\n",
       "    </tr>\n",
       "  </thead>\n",
       "  <tbody>\n",
       "    <tr>\n",
       "      <th>0</th>\n",
       "      <td>7590-VHVEG</td>\n",
       "      <td>2020-01-01</td>\n",
       "      <td>No</td>\n",
       "      <td>Month-to-month</td>\n",
       "      <td>Yes</td>\n",
       "      <td>Electronic check</td>\n",
       "      <td>29.85</td>\n",
       "      <td>29.85</td>\n",
       "      <td>DSL</td>\n",
       "      <td>No</td>\n",
       "      <td>Yes</td>\n",
       "      <td>No</td>\n",
       "      <td>No</td>\n",
       "      <td>No</td>\n",
       "      <td>No</td>\n",
       "      <td>Female</td>\n",
       "      <td>0</td>\n",
       "      <td>Yes</td>\n",
       "      <td>No</td>\n",
       "      <td>NaN</td>\n",
       "    </tr>\n",
       "    <tr>\n",
       "      <th>1</th>\n",
       "      <td>5575-GNVDE</td>\n",
       "      <td>2017-04-01</td>\n",
       "      <td>No</td>\n",
       "      <td>One year</td>\n",
       "      <td>No</td>\n",
       "      <td>Mailed check</td>\n",
       "      <td>56.95</td>\n",
       "      <td>1889.5</td>\n",
       "      <td>DSL</td>\n",
       "      <td>Yes</td>\n",
       "      <td>No</td>\n",
       "      <td>Yes</td>\n",
       "      <td>No</td>\n",
       "      <td>No</td>\n",
       "      <td>No</td>\n",
       "      <td>Male</td>\n",
       "      <td>0</td>\n",
       "      <td>No</td>\n",
       "      <td>No</td>\n",
       "      <td>No</td>\n",
       "    </tr>\n",
       "    <tr>\n",
       "      <th>2</th>\n",
       "      <td>3668-QPYBK</td>\n",
       "      <td>2019-10-01</td>\n",
       "      <td>2019-12-01 00:00:00</td>\n",
       "      <td>Month-to-month</td>\n",
       "      <td>Yes</td>\n",
       "      <td>Mailed check</td>\n",
       "      <td>53.85</td>\n",
       "      <td>108.15</td>\n",
       "      <td>DSL</td>\n",
       "      <td>Yes</td>\n",
       "      <td>Yes</td>\n",
       "      <td>No</td>\n",
       "      <td>No</td>\n",
       "      <td>No</td>\n",
       "      <td>No</td>\n",
       "      <td>Male</td>\n",
       "      <td>0</td>\n",
       "      <td>No</td>\n",
       "      <td>No</td>\n",
       "      <td>No</td>\n",
       "    </tr>\n",
       "    <tr>\n",
       "      <th>3</th>\n",
       "      <td>7795-CFOCW</td>\n",
       "      <td>2016-05-01</td>\n",
       "      <td>No</td>\n",
       "      <td>One year</td>\n",
       "      <td>No</td>\n",
       "      <td>Bank transfer (automatic)</td>\n",
       "      <td>42.30</td>\n",
       "      <td>1840.75</td>\n",
       "      <td>DSL</td>\n",
       "      <td>Yes</td>\n",
       "      <td>No</td>\n",
       "      <td>Yes</td>\n",
       "      <td>Yes</td>\n",
       "      <td>No</td>\n",
       "      <td>No</td>\n",
       "      <td>Male</td>\n",
       "      <td>0</td>\n",
       "      <td>No</td>\n",
       "      <td>No</td>\n",
       "      <td>NaN</td>\n",
       "    </tr>\n",
       "    <tr>\n",
       "      <th>4</th>\n",
       "      <td>9237-HQITU</td>\n",
       "      <td>2019-09-01</td>\n",
       "      <td>2019-11-01 00:00:00</td>\n",
       "      <td>Month-to-month</td>\n",
       "      <td>Yes</td>\n",
       "      <td>Electronic check</td>\n",
       "      <td>70.70</td>\n",
       "      <td>151.65</td>\n",
       "      <td>Fiber optic</td>\n",
       "      <td>No</td>\n",
       "      <td>No</td>\n",
       "      <td>No</td>\n",
       "      <td>No</td>\n",
       "      <td>No</td>\n",
       "      <td>No</td>\n",
       "      <td>Female</td>\n",
       "      <td>0</td>\n",
       "      <td>No</td>\n",
       "      <td>No</td>\n",
       "      <td>No</td>\n",
       "    </tr>\n",
       "    <tr>\n",
       "      <th>...</th>\n",
       "      <td>...</td>\n",
       "      <td>...</td>\n",
       "      <td>...</td>\n",
       "      <td>...</td>\n",
       "      <td>...</td>\n",
       "      <td>...</td>\n",
       "      <td>...</td>\n",
       "      <td>...</td>\n",
       "      <td>...</td>\n",
       "      <td>...</td>\n",
       "      <td>...</td>\n",
       "      <td>...</td>\n",
       "      <td>...</td>\n",
       "      <td>...</td>\n",
       "      <td>...</td>\n",
       "      <td>...</td>\n",
       "      <td>...</td>\n",
       "      <td>...</td>\n",
       "      <td>...</td>\n",
       "      <td>...</td>\n",
       "    </tr>\n",
       "    <tr>\n",
       "      <th>7038</th>\n",
       "      <td>6840-RESVB</td>\n",
       "      <td>2018-02-01</td>\n",
       "      <td>No</td>\n",
       "      <td>One year</td>\n",
       "      <td>Yes</td>\n",
       "      <td>Mailed check</td>\n",
       "      <td>84.80</td>\n",
       "      <td>1990.5</td>\n",
       "      <td>DSL</td>\n",
       "      <td>Yes</td>\n",
       "      <td>No</td>\n",
       "      <td>Yes</td>\n",
       "      <td>Yes</td>\n",
       "      <td>Yes</td>\n",
       "      <td>Yes</td>\n",
       "      <td>Male</td>\n",
       "      <td>0</td>\n",
       "      <td>Yes</td>\n",
       "      <td>Yes</td>\n",
       "      <td>Yes</td>\n",
       "    </tr>\n",
       "    <tr>\n",
       "      <th>7039</th>\n",
       "      <td>2234-XADUH</td>\n",
       "      <td>2014-02-01</td>\n",
       "      <td>No</td>\n",
       "      <td>One year</td>\n",
       "      <td>Yes</td>\n",
       "      <td>Credit card (automatic)</td>\n",
       "      <td>103.20</td>\n",
       "      <td>7362.9</td>\n",
       "      <td>Fiber optic</td>\n",
       "      <td>No</td>\n",
       "      <td>Yes</td>\n",
       "      <td>Yes</td>\n",
       "      <td>No</td>\n",
       "      <td>Yes</td>\n",
       "      <td>Yes</td>\n",
       "      <td>Female</td>\n",
       "      <td>0</td>\n",
       "      <td>Yes</td>\n",
       "      <td>Yes</td>\n",
       "      <td>Yes</td>\n",
       "    </tr>\n",
       "    <tr>\n",
       "      <th>7040</th>\n",
       "      <td>4801-JZAZL</td>\n",
       "      <td>2019-03-01</td>\n",
       "      <td>No</td>\n",
       "      <td>Month-to-month</td>\n",
       "      <td>Yes</td>\n",
       "      <td>Electronic check</td>\n",
       "      <td>29.60</td>\n",
       "      <td>346.45</td>\n",
       "      <td>DSL</td>\n",
       "      <td>Yes</td>\n",
       "      <td>No</td>\n",
       "      <td>No</td>\n",
       "      <td>No</td>\n",
       "      <td>No</td>\n",
       "      <td>No</td>\n",
       "      <td>Female</td>\n",
       "      <td>0</td>\n",
       "      <td>Yes</td>\n",
       "      <td>Yes</td>\n",
       "      <td>NaN</td>\n",
       "    </tr>\n",
       "    <tr>\n",
       "      <th>7041</th>\n",
       "      <td>8361-LTMKD</td>\n",
       "      <td>2019-07-01</td>\n",
       "      <td>2019-11-01 00:00:00</td>\n",
       "      <td>Month-to-month</td>\n",
       "      <td>Yes</td>\n",
       "      <td>Mailed check</td>\n",
       "      <td>74.40</td>\n",
       "      <td>306.6</td>\n",
       "      <td>Fiber optic</td>\n",
       "      <td>No</td>\n",
       "      <td>No</td>\n",
       "      <td>No</td>\n",
       "      <td>No</td>\n",
       "      <td>No</td>\n",
       "      <td>No</td>\n",
       "      <td>Male</td>\n",
       "      <td>1</td>\n",
       "      <td>Yes</td>\n",
       "      <td>No</td>\n",
       "      <td>Yes</td>\n",
       "    </tr>\n",
       "    <tr>\n",
       "      <th>7042</th>\n",
       "      <td>3186-AJIEK</td>\n",
       "      <td>2014-08-01</td>\n",
       "      <td>No</td>\n",
       "      <td>Two year</td>\n",
       "      <td>Yes</td>\n",
       "      <td>Bank transfer (automatic)</td>\n",
       "      <td>105.65</td>\n",
       "      <td>6844.5</td>\n",
       "      <td>Fiber optic</td>\n",
       "      <td>Yes</td>\n",
       "      <td>No</td>\n",
       "      <td>Yes</td>\n",
       "      <td>Yes</td>\n",
       "      <td>Yes</td>\n",
       "      <td>Yes</td>\n",
       "      <td>Male</td>\n",
       "      <td>0</td>\n",
       "      <td>No</td>\n",
       "      <td>No</td>\n",
       "      <td>No</td>\n",
       "    </tr>\n",
       "  </tbody>\n",
       "</table>\n",
       "<p>7043 rows × 20 columns</p>\n",
       "</div>"
      ],
      "text/plain": [
       "     customer_i_d begin_date             end_date            type  \\\n",
       "0      7590-VHVEG 2020-01-01                   No  Month-to-month   \n",
       "1      5575-GNVDE 2017-04-01                   No        One year   \n",
       "2      3668-QPYBK 2019-10-01  2019-12-01 00:00:00  Month-to-month   \n",
       "3      7795-CFOCW 2016-05-01                   No        One year   \n",
       "4      9237-HQITU 2019-09-01  2019-11-01 00:00:00  Month-to-month   \n",
       "...           ...        ...                  ...             ...   \n",
       "7038   6840-RESVB 2018-02-01                   No        One year   \n",
       "7039   2234-XADUH 2014-02-01                   No        One year   \n",
       "7040   4801-JZAZL 2019-03-01                   No  Month-to-month   \n",
       "7041   8361-LTMKD 2019-07-01  2019-11-01 00:00:00  Month-to-month   \n",
       "7042   3186-AJIEK 2014-08-01                   No        Two year   \n",
       "\n",
       "     paperless_billing             payment_method  monthly_charges  \\\n",
       "0                  Yes           Electronic check            29.85   \n",
       "1                   No               Mailed check            56.95   \n",
       "2                  Yes               Mailed check            53.85   \n",
       "3                   No  Bank transfer (automatic)            42.30   \n",
       "4                  Yes           Electronic check            70.70   \n",
       "...                ...                        ...              ...   \n",
       "7038               Yes               Mailed check            84.80   \n",
       "7039               Yes    Credit card (automatic)           103.20   \n",
       "7040               Yes           Electronic check            29.60   \n",
       "7041               Yes               Mailed check            74.40   \n",
       "7042               Yes  Bank transfer (automatic)           105.65   \n",
       "\n",
       "     total_charges internet_service online_security online_backup  \\\n",
       "0            29.85              DSL              No           Yes   \n",
       "1           1889.5              DSL             Yes            No   \n",
       "2           108.15              DSL             Yes           Yes   \n",
       "3          1840.75              DSL             Yes            No   \n",
       "4           151.65      Fiber optic              No            No   \n",
       "...            ...              ...             ...           ...   \n",
       "7038        1990.5              DSL             Yes            No   \n",
       "7039        7362.9      Fiber optic              No           Yes   \n",
       "7040        346.45              DSL             Yes            No   \n",
       "7041         306.6      Fiber optic              No            No   \n",
       "7042        6844.5      Fiber optic             Yes            No   \n",
       "\n",
       "     device_protection tech_support streaming_t_v streaming_movies  gender  \\\n",
       "0                   No           No            No               No  Female   \n",
       "1                  Yes           No            No               No    Male   \n",
       "2                   No           No            No               No    Male   \n",
       "3                  Yes          Yes            No               No    Male   \n",
       "4                   No           No            No               No  Female   \n",
       "...                ...          ...           ...              ...     ...   \n",
       "7038               Yes          Yes           Yes              Yes    Male   \n",
       "7039               Yes           No           Yes              Yes  Female   \n",
       "7040                No           No            No               No  Female   \n",
       "7041                No           No            No               No    Male   \n",
       "7042               Yes          Yes           Yes              Yes    Male   \n",
       "\n",
       "      senior_citizen partner dependents multiple_lines  \n",
       "0                  0     Yes         No            NaN  \n",
       "1                  0      No         No             No  \n",
       "2                  0      No         No             No  \n",
       "3                  0      No         No            NaN  \n",
       "4                  0      No         No             No  \n",
       "...              ...     ...        ...            ...  \n",
       "7038               0     Yes        Yes            Yes  \n",
       "7039               0     Yes        Yes            Yes  \n",
       "7040               0     Yes        Yes            NaN  \n",
       "7041               1     Yes         No            Yes  \n",
       "7042               0      No         No             No  \n",
       "\n",
       "[7043 rows x 20 columns]"
      ]
     },
     "execution_count": 27,
     "metadata": {},
     "output_type": "execute_result"
    }
   ],
   "source": [
    "df"
   ]
  },
  {
   "cell_type": "code",
   "execution_count": 28,
   "metadata": {},
   "outputs": [],
   "source": [
    "df = df.rename(columns={\"customer_i_d\": \"customer_id\", \"streaming_t_v\": \"streaming_tv\"})"
   ]
  },
  {
   "cell_type": "code",
   "execution_count": 29,
   "metadata": {},
   "outputs": [
    {
     "name": "stdout",
     "output_type": "stream",
     "text": [
      "<class 'pandas.core.frame.DataFrame'>\n",
      "Int64Index: 7043 entries, 0 to 7042\n",
      "Data columns (total 20 columns):\n",
      " #   Column             Non-Null Count  Dtype         \n",
      "---  ------             --------------  -----         \n",
      " 0   customer_id        7043 non-null   object        \n",
      " 1   begin_date         7043 non-null   datetime64[ns]\n",
      " 2   end_date           7043 non-null   object        \n",
      " 3   type               7043 non-null   object        \n",
      " 4   paperless_billing  7043 non-null   object        \n",
      " 5   payment_method     7043 non-null   object        \n",
      " 6   monthly_charges    7043 non-null   float64       \n",
      " 7   total_charges      7043 non-null   object        \n",
      " 8   internet_service   7043 non-null   object        \n",
      " 9   online_security    7043 non-null   object        \n",
      " 10  online_backup      7043 non-null   object        \n",
      " 11  device_protection  7043 non-null   object        \n",
      " 12  tech_support       7043 non-null   object        \n",
      " 13  streaming_tv       7043 non-null   object        \n",
      " 14  streaming_movies   7043 non-null   object        \n",
      " 15  gender             7043 non-null   object        \n",
      " 16  senior_citizen     7043 non-null   int64         \n",
      " 17  partner            7043 non-null   object        \n",
      " 18  dependents         7043 non-null   object        \n",
      " 19  multiple_lines     6361 non-null   object        \n",
      "dtypes: datetime64[ns](1), float64(1), int64(1), object(17)\n",
      "memory usage: 1.1+ MB\n"
     ]
    }
   ],
   "source": [
    "df.info()"
   ]
  },
  {
   "cell_type": "markdown",
   "metadata": {},
   "source": [
    "создадим на основе конечной даты столбец который будет целевым признаком"
   ]
  },
  {
   "cell_type": "code",
   "execution_count": 30,
   "metadata": {},
   "outputs": [],
   "source": [
    "df['target'] = df['end_date']"
   ]
  },
  {
   "cell_type": "code",
   "execution_count": 31,
   "metadata": {},
   "outputs": [
    {
     "data": {
      "text/html": [
       "<div>\n",
       "<style scoped>\n",
       "    .dataframe tbody tr th:only-of-type {\n",
       "        vertical-align: middle;\n",
       "    }\n",
       "\n",
       "    .dataframe tbody tr th {\n",
       "        vertical-align: top;\n",
       "    }\n",
       "\n",
       "    .dataframe thead th {\n",
       "        text-align: right;\n",
       "    }\n",
       "</style>\n",
       "<table border=\"1\" class=\"dataframe\">\n",
       "  <thead>\n",
       "    <tr style=\"text-align: right;\">\n",
       "      <th></th>\n",
       "      <th>customer_id</th>\n",
       "      <th>begin_date</th>\n",
       "      <th>end_date</th>\n",
       "      <th>type</th>\n",
       "      <th>paperless_billing</th>\n",
       "      <th>payment_method</th>\n",
       "      <th>monthly_charges</th>\n",
       "      <th>total_charges</th>\n",
       "      <th>internet_service</th>\n",
       "      <th>online_security</th>\n",
       "      <th>...</th>\n",
       "      <th>device_protection</th>\n",
       "      <th>tech_support</th>\n",
       "      <th>streaming_tv</th>\n",
       "      <th>streaming_movies</th>\n",
       "      <th>gender</th>\n",
       "      <th>senior_citizen</th>\n",
       "      <th>partner</th>\n",
       "      <th>dependents</th>\n",
       "      <th>multiple_lines</th>\n",
       "      <th>target</th>\n",
       "    </tr>\n",
       "  </thead>\n",
       "  <tbody>\n",
       "    <tr>\n",
       "      <th>0</th>\n",
       "      <td>7590-VHVEG</td>\n",
       "      <td>2020-01-01</td>\n",
       "      <td>No</td>\n",
       "      <td>Month-to-month</td>\n",
       "      <td>Yes</td>\n",
       "      <td>Electronic check</td>\n",
       "      <td>29.85</td>\n",
       "      <td>29.85</td>\n",
       "      <td>DSL</td>\n",
       "      <td>No</td>\n",
       "      <td>...</td>\n",
       "      <td>No</td>\n",
       "      <td>No</td>\n",
       "      <td>No</td>\n",
       "      <td>No</td>\n",
       "      <td>Female</td>\n",
       "      <td>0</td>\n",
       "      <td>Yes</td>\n",
       "      <td>No</td>\n",
       "      <td>NaN</td>\n",
       "      <td>No</td>\n",
       "    </tr>\n",
       "    <tr>\n",
       "      <th>1</th>\n",
       "      <td>5575-GNVDE</td>\n",
       "      <td>2017-04-01</td>\n",
       "      <td>No</td>\n",
       "      <td>One year</td>\n",
       "      <td>No</td>\n",
       "      <td>Mailed check</td>\n",
       "      <td>56.95</td>\n",
       "      <td>1889.5</td>\n",
       "      <td>DSL</td>\n",
       "      <td>Yes</td>\n",
       "      <td>...</td>\n",
       "      <td>Yes</td>\n",
       "      <td>No</td>\n",
       "      <td>No</td>\n",
       "      <td>No</td>\n",
       "      <td>Male</td>\n",
       "      <td>0</td>\n",
       "      <td>No</td>\n",
       "      <td>No</td>\n",
       "      <td>No</td>\n",
       "      <td>No</td>\n",
       "    </tr>\n",
       "    <tr>\n",
       "      <th>2</th>\n",
       "      <td>3668-QPYBK</td>\n",
       "      <td>2019-10-01</td>\n",
       "      <td>2019-12-01 00:00:00</td>\n",
       "      <td>Month-to-month</td>\n",
       "      <td>Yes</td>\n",
       "      <td>Mailed check</td>\n",
       "      <td>53.85</td>\n",
       "      <td>108.15</td>\n",
       "      <td>DSL</td>\n",
       "      <td>Yes</td>\n",
       "      <td>...</td>\n",
       "      <td>No</td>\n",
       "      <td>No</td>\n",
       "      <td>No</td>\n",
       "      <td>No</td>\n",
       "      <td>Male</td>\n",
       "      <td>0</td>\n",
       "      <td>No</td>\n",
       "      <td>No</td>\n",
       "      <td>No</td>\n",
       "      <td>2019-12-01 00:00:00</td>\n",
       "    </tr>\n",
       "    <tr>\n",
       "      <th>3</th>\n",
       "      <td>7795-CFOCW</td>\n",
       "      <td>2016-05-01</td>\n",
       "      <td>No</td>\n",
       "      <td>One year</td>\n",
       "      <td>No</td>\n",
       "      <td>Bank transfer (automatic)</td>\n",
       "      <td>42.30</td>\n",
       "      <td>1840.75</td>\n",
       "      <td>DSL</td>\n",
       "      <td>Yes</td>\n",
       "      <td>...</td>\n",
       "      <td>Yes</td>\n",
       "      <td>Yes</td>\n",
       "      <td>No</td>\n",
       "      <td>No</td>\n",
       "      <td>Male</td>\n",
       "      <td>0</td>\n",
       "      <td>No</td>\n",
       "      <td>No</td>\n",
       "      <td>NaN</td>\n",
       "      <td>No</td>\n",
       "    </tr>\n",
       "    <tr>\n",
       "      <th>4</th>\n",
       "      <td>9237-HQITU</td>\n",
       "      <td>2019-09-01</td>\n",
       "      <td>2019-11-01 00:00:00</td>\n",
       "      <td>Month-to-month</td>\n",
       "      <td>Yes</td>\n",
       "      <td>Electronic check</td>\n",
       "      <td>70.70</td>\n",
       "      <td>151.65</td>\n",
       "      <td>Fiber optic</td>\n",
       "      <td>No</td>\n",
       "      <td>...</td>\n",
       "      <td>No</td>\n",
       "      <td>No</td>\n",
       "      <td>No</td>\n",
       "      <td>No</td>\n",
       "      <td>Female</td>\n",
       "      <td>0</td>\n",
       "      <td>No</td>\n",
       "      <td>No</td>\n",
       "      <td>No</td>\n",
       "      <td>2019-11-01 00:00:00</td>\n",
       "    </tr>\n",
       "    <tr>\n",
       "      <th>...</th>\n",
       "      <td>...</td>\n",
       "      <td>...</td>\n",
       "      <td>...</td>\n",
       "      <td>...</td>\n",
       "      <td>...</td>\n",
       "      <td>...</td>\n",
       "      <td>...</td>\n",
       "      <td>...</td>\n",
       "      <td>...</td>\n",
       "      <td>...</td>\n",
       "      <td>...</td>\n",
       "      <td>...</td>\n",
       "      <td>...</td>\n",
       "      <td>...</td>\n",
       "      <td>...</td>\n",
       "      <td>...</td>\n",
       "      <td>...</td>\n",
       "      <td>...</td>\n",
       "      <td>...</td>\n",
       "      <td>...</td>\n",
       "      <td>...</td>\n",
       "    </tr>\n",
       "    <tr>\n",
       "      <th>7038</th>\n",
       "      <td>6840-RESVB</td>\n",
       "      <td>2018-02-01</td>\n",
       "      <td>No</td>\n",
       "      <td>One year</td>\n",
       "      <td>Yes</td>\n",
       "      <td>Mailed check</td>\n",
       "      <td>84.80</td>\n",
       "      <td>1990.5</td>\n",
       "      <td>DSL</td>\n",
       "      <td>Yes</td>\n",
       "      <td>...</td>\n",
       "      <td>Yes</td>\n",
       "      <td>Yes</td>\n",
       "      <td>Yes</td>\n",
       "      <td>Yes</td>\n",
       "      <td>Male</td>\n",
       "      <td>0</td>\n",
       "      <td>Yes</td>\n",
       "      <td>Yes</td>\n",
       "      <td>Yes</td>\n",
       "      <td>No</td>\n",
       "    </tr>\n",
       "    <tr>\n",
       "      <th>7039</th>\n",
       "      <td>2234-XADUH</td>\n",
       "      <td>2014-02-01</td>\n",
       "      <td>No</td>\n",
       "      <td>One year</td>\n",
       "      <td>Yes</td>\n",
       "      <td>Credit card (automatic)</td>\n",
       "      <td>103.20</td>\n",
       "      <td>7362.9</td>\n",
       "      <td>Fiber optic</td>\n",
       "      <td>No</td>\n",
       "      <td>...</td>\n",
       "      <td>Yes</td>\n",
       "      <td>No</td>\n",
       "      <td>Yes</td>\n",
       "      <td>Yes</td>\n",
       "      <td>Female</td>\n",
       "      <td>0</td>\n",
       "      <td>Yes</td>\n",
       "      <td>Yes</td>\n",
       "      <td>Yes</td>\n",
       "      <td>No</td>\n",
       "    </tr>\n",
       "    <tr>\n",
       "      <th>7040</th>\n",
       "      <td>4801-JZAZL</td>\n",
       "      <td>2019-03-01</td>\n",
       "      <td>No</td>\n",
       "      <td>Month-to-month</td>\n",
       "      <td>Yes</td>\n",
       "      <td>Electronic check</td>\n",
       "      <td>29.60</td>\n",
       "      <td>346.45</td>\n",
       "      <td>DSL</td>\n",
       "      <td>Yes</td>\n",
       "      <td>...</td>\n",
       "      <td>No</td>\n",
       "      <td>No</td>\n",
       "      <td>No</td>\n",
       "      <td>No</td>\n",
       "      <td>Female</td>\n",
       "      <td>0</td>\n",
       "      <td>Yes</td>\n",
       "      <td>Yes</td>\n",
       "      <td>NaN</td>\n",
       "      <td>No</td>\n",
       "    </tr>\n",
       "    <tr>\n",
       "      <th>7041</th>\n",
       "      <td>8361-LTMKD</td>\n",
       "      <td>2019-07-01</td>\n",
       "      <td>2019-11-01 00:00:00</td>\n",
       "      <td>Month-to-month</td>\n",
       "      <td>Yes</td>\n",
       "      <td>Mailed check</td>\n",
       "      <td>74.40</td>\n",
       "      <td>306.6</td>\n",
       "      <td>Fiber optic</td>\n",
       "      <td>No</td>\n",
       "      <td>...</td>\n",
       "      <td>No</td>\n",
       "      <td>No</td>\n",
       "      <td>No</td>\n",
       "      <td>No</td>\n",
       "      <td>Male</td>\n",
       "      <td>1</td>\n",
       "      <td>Yes</td>\n",
       "      <td>No</td>\n",
       "      <td>Yes</td>\n",
       "      <td>2019-11-01 00:00:00</td>\n",
       "    </tr>\n",
       "    <tr>\n",
       "      <th>7042</th>\n",
       "      <td>3186-AJIEK</td>\n",
       "      <td>2014-08-01</td>\n",
       "      <td>No</td>\n",
       "      <td>Two year</td>\n",
       "      <td>Yes</td>\n",
       "      <td>Bank transfer (automatic)</td>\n",
       "      <td>105.65</td>\n",
       "      <td>6844.5</td>\n",
       "      <td>Fiber optic</td>\n",
       "      <td>Yes</td>\n",
       "      <td>...</td>\n",
       "      <td>Yes</td>\n",
       "      <td>Yes</td>\n",
       "      <td>Yes</td>\n",
       "      <td>Yes</td>\n",
       "      <td>Male</td>\n",
       "      <td>0</td>\n",
       "      <td>No</td>\n",
       "      <td>No</td>\n",
       "      <td>No</td>\n",
       "      <td>No</td>\n",
       "    </tr>\n",
       "  </tbody>\n",
       "</table>\n",
       "<p>7043 rows × 21 columns</p>\n",
       "</div>"
      ],
      "text/plain": [
       "     customer_id begin_date             end_date            type  \\\n",
       "0     7590-VHVEG 2020-01-01                   No  Month-to-month   \n",
       "1     5575-GNVDE 2017-04-01                   No        One year   \n",
       "2     3668-QPYBK 2019-10-01  2019-12-01 00:00:00  Month-to-month   \n",
       "3     7795-CFOCW 2016-05-01                   No        One year   \n",
       "4     9237-HQITU 2019-09-01  2019-11-01 00:00:00  Month-to-month   \n",
       "...          ...        ...                  ...             ...   \n",
       "7038  6840-RESVB 2018-02-01                   No        One year   \n",
       "7039  2234-XADUH 2014-02-01                   No        One year   \n",
       "7040  4801-JZAZL 2019-03-01                   No  Month-to-month   \n",
       "7041  8361-LTMKD 2019-07-01  2019-11-01 00:00:00  Month-to-month   \n",
       "7042  3186-AJIEK 2014-08-01                   No        Two year   \n",
       "\n",
       "     paperless_billing             payment_method  monthly_charges  \\\n",
       "0                  Yes           Electronic check            29.85   \n",
       "1                   No               Mailed check            56.95   \n",
       "2                  Yes               Mailed check            53.85   \n",
       "3                   No  Bank transfer (automatic)            42.30   \n",
       "4                  Yes           Electronic check            70.70   \n",
       "...                ...                        ...              ...   \n",
       "7038               Yes               Mailed check            84.80   \n",
       "7039               Yes    Credit card (automatic)           103.20   \n",
       "7040               Yes           Electronic check            29.60   \n",
       "7041               Yes               Mailed check            74.40   \n",
       "7042               Yes  Bank transfer (automatic)           105.65   \n",
       "\n",
       "     total_charges internet_service online_security  ... device_protection  \\\n",
       "0            29.85              DSL              No  ...                No   \n",
       "1           1889.5              DSL             Yes  ...               Yes   \n",
       "2           108.15              DSL             Yes  ...                No   \n",
       "3          1840.75              DSL             Yes  ...               Yes   \n",
       "4           151.65      Fiber optic              No  ...                No   \n",
       "...            ...              ...             ...  ...               ...   \n",
       "7038        1990.5              DSL             Yes  ...               Yes   \n",
       "7039        7362.9      Fiber optic              No  ...               Yes   \n",
       "7040        346.45              DSL             Yes  ...                No   \n",
       "7041         306.6      Fiber optic              No  ...                No   \n",
       "7042        6844.5      Fiber optic             Yes  ...               Yes   \n",
       "\n",
       "     tech_support streaming_tv streaming_movies  gender senior_citizen  \\\n",
       "0              No           No               No  Female              0   \n",
       "1              No           No               No    Male              0   \n",
       "2              No           No               No    Male              0   \n",
       "3             Yes           No               No    Male              0   \n",
       "4              No           No               No  Female              0   \n",
       "...           ...          ...              ...     ...            ...   \n",
       "7038          Yes          Yes              Yes    Male              0   \n",
       "7039           No          Yes              Yes  Female              0   \n",
       "7040           No           No               No  Female              0   \n",
       "7041           No           No               No    Male              1   \n",
       "7042          Yes          Yes              Yes    Male              0   \n",
       "\n",
       "      partner dependents multiple_lines               target  \n",
       "0         Yes         No            NaN                   No  \n",
       "1          No         No             No                   No  \n",
       "2          No         No             No  2019-12-01 00:00:00  \n",
       "3          No         No            NaN                   No  \n",
       "4          No         No             No  2019-11-01 00:00:00  \n",
       "...       ...        ...            ...                  ...  \n",
       "7038      Yes        Yes            Yes                   No  \n",
       "7039      Yes        Yes            Yes                   No  \n",
       "7040      Yes        Yes            NaN                   No  \n",
       "7041      Yes         No            Yes  2019-11-01 00:00:00  \n",
       "7042       No         No             No                   No  \n",
       "\n",
       "[7043 rows x 21 columns]"
      ]
     },
     "execution_count": 31,
     "metadata": {},
     "output_type": "execute_result"
    }
   ],
   "source": [
    "df"
   ]
  },
  {
   "cell_type": "markdown",
   "metadata": {},
   "source": [
    "по плану сделать столбец \"стажа\" пользователя; заполним все указания что пользователь не ушел в \"последнем дне\" актуальной последней датой таблицы (согласно тз последняя дата в таблице - 1 февраля 2020)"
   ]
  },
  {
   "cell_type": "code",
   "execution_count": 32,
   "metadata": {},
   "outputs": [
    {
     "name": "stdout",
     "output_type": "stream",
     "text": [
      "2020-02-01 00:00:00\n"
     ]
    }
   ],
   "source": [
    "print(df_contract['BeginDate'].max())"
   ]
  },
  {
   "cell_type": "code",
   "execution_count": 33,
   "metadata": {},
   "outputs": [],
   "source": [
    "df['end_date'] = df['end_date'].replace('No', df_contract['BeginDate'].max())"
   ]
  },
  {
   "cell_type": "code",
   "execution_count": 34,
   "metadata": {},
   "outputs": [
    {
     "data": {
      "text/html": [
       "<div>\n",
       "<style scoped>\n",
       "    .dataframe tbody tr th:only-of-type {\n",
       "        vertical-align: middle;\n",
       "    }\n",
       "\n",
       "    .dataframe tbody tr th {\n",
       "        vertical-align: top;\n",
       "    }\n",
       "\n",
       "    .dataframe thead th {\n",
       "        text-align: right;\n",
       "    }\n",
       "</style>\n",
       "<table border=\"1\" class=\"dataframe\">\n",
       "  <thead>\n",
       "    <tr style=\"text-align: right;\">\n",
       "      <th></th>\n",
       "      <th>customer_id</th>\n",
       "      <th>begin_date</th>\n",
       "      <th>end_date</th>\n",
       "      <th>type</th>\n",
       "      <th>paperless_billing</th>\n",
       "      <th>payment_method</th>\n",
       "      <th>monthly_charges</th>\n",
       "      <th>total_charges</th>\n",
       "      <th>internet_service</th>\n",
       "      <th>online_security</th>\n",
       "      <th>...</th>\n",
       "      <th>device_protection</th>\n",
       "      <th>tech_support</th>\n",
       "      <th>streaming_tv</th>\n",
       "      <th>streaming_movies</th>\n",
       "      <th>gender</th>\n",
       "      <th>senior_citizen</th>\n",
       "      <th>partner</th>\n",
       "      <th>dependents</th>\n",
       "      <th>multiple_lines</th>\n",
       "      <th>target</th>\n",
       "    </tr>\n",
       "  </thead>\n",
       "  <tbody>\n",
       "    <tr>\n",
       "      <th>0</th>\n",
       "      <td>7590-VHVEG</td>\n",
       "      <td>2020-01-01</td>\n",
       "      <td>2020-02-01 00:00:00</td>\n",
       "      <td>Month-to-month</td>\n",
       "      <td>Yes</td>\n",
       "      <td>Electronic check</td>\n",
       "      <td>29.85</td>\n",
       "      <td>29.85</td>\n",
       "      <td>DSL</td>\n",
       "      <td>No</td>\n",
       "      <td>...</td>\n",
       "      <td>No</td>\n",
       "      <td>No</td>\n",
       "      <td>No</td>\n",
       "      <td>No</td>\n",
       "      <td>Female</td>\n",
       "      <td>0</td>\n",
       "      <td>Yes</td>\n",
       "      <td>No</td>\n",
       "      <td>NaN</td>\n",
       "      <td>No</td>\n",
       "    </tr>\n",
       "    <tr>\n",
       "      <th>1</th>\n",
       "      <td>5575-GNVDE</td>\n",
       "      <td>2017-04-01</td>\n",
       "      <td>2020-02-01 00:00:00</td>\n",
       "      <td>One year</td>\n",
       "      <td>No</td>\n",
       "      <td>Mailed check</td>\n",
       "      <td>56.95</td>\n",
       "      <td>1889.5</td>\n",
       "      <td>DSL</td>\n",
       "      <td>Yes</td>\n",
       "      <td>...</td>\n",
       "      <td>Yes</td>\n",
       "      <td>No</td>\n",
       "      <td>No</td>\n",
       "      <td>No</td>\n",
       "      <td>Male</td>\n",
       "      <td>0</td>\n",
       "      <td>No</td>\n",
       "      <td>No</td>\n",
       "      <td>No</td>\n",
       "      <td>No</td>\n",
       "    </tr>\n",
       "    <tr>\n",
       "      <th>2</th>\n",
       "      <td>3668-QPYBK</td>\n",
       "      <td>2019-10-01</td>\n",
       "      <td>2019-12-01 00:00:00</td>\n",
       "      <td>Month-to-month</td>\n",
       "      <td>Yes</td>\n",
       "      <td>Mailed check</td>\n",
       "      <td>53.85</td>\n",
       "      <td>108.15</td>\n",
       "      <td>DSL</td>\n",
       "      <td>Yes</td>\n",
       "      <td>...</td>\n",
       "      <td>No</td>\n",
       "      <td>No</td>\n",
       "      <td>No</td>\n",
       "      <td>No</td>\n",
       "      <td>Male</td>\n",
       "      <td>0</td>\n",
       "      <td>No</td>\n",
       "      <td>No</td>\n",
       "      <td>No</td>\n",
       "      <td>2019-12-01 00:00:00</td>\n",
       "    </tr>\n",
       "    <tr>\n",
       "      <th>3</th>\n",
       "      <td>7795-CFOCW</td>\n",
       "      <td>2016-05-01</td>\n",
       "      <td>2020-02-01 00:00:00</td>\n",
       "      <td>One year</td>\n",
       "      <td>No</td>\n",
       "      <td>Bank transfer (automatic)</td>\n",
       "      <td>42.30</td>\n",
       "      <td>1840.75</td>\n",
       "      <td>DSL</td>\n",
       "      <td>Yes</td>\n",
       "      <td>...</td>\n",
       "      <td>Yes</td>\n",
       "      <td>Yes</td>\n",
       "      <td>No</td>\n",
       "      <td>No</td>\n",
       "      <td>Male</td>\n",
       "      <td>0</td>\n",
       "      <td>No</td>\n",
       "      <td>No</td>\n",
       "      <td>NaN</td>\n",
       "      <td>No</td>\n",
       "    </tr>\n",
       "    <tr>\n",
       "      <th>4</th>\n",
       "      <td>9237-HQITU</td>\n",
       "      <td>2019-09-01</td>\n",
       "      <td>2019-11-01 00:00:00</td>\n",
       "      <td>Month-to-month</td>\n",
       "      <td>Yes</td>\n",
       "      <td>Electronic check</td>\n",
       "      <td>70.70</td>\n",
       "      <td>151.65</td>\n",
       "      <td>Fiber optic</td>\n",
       "      <td>No</td>\n",
       "      <td>...</td>\n",
       "      <td>No</td>\n",
       "      <td>No</td>\n",
       "      <td>No</td>\n",
       "      <td>No</td>\n",
       "      <td>Female</td>\n",
       "      <td>0</td>\n",
       "      <td>No</td>\n",
       "      <td>No</td>\n",
       "      <td>No</td>\n",
       "      <td>2019-11-01 00:00:00</td>\n",
       "    </tr>\n",
       "  </tbody>\n",
       "</table>\n",
       "<p>5 rows × 21 columns</p>\n",
       "</div>"
      ],
      "text/plain": [
       "  customer_id begin_date             end_date            type  \\\n",
       "0  7590-VHVEG 2020-01-01  2020-02-01 00:00:00  Month-to-month   \n",
       "1  5575-GNVDE 2017-04-01  2020-02-01 00:00:00        One year   \n",
       "2  3668-QPYBK 2019-10-01  2019-12-01 00:00:00  Month-to-month   \n",
       "3  7795-CFOCW 2016-05-01  2020-02-01 00:00:00        One year   \n",
       "4  9237-HQITU 2019-09-01  2019-11-01 00:00:00  Month-to-month   \n",
       "\n",
       "  paperless_billing             payment_method  monthly_charges total_charges  \\\n",
       "0               Yes           Electronic check            29.85         29.85   \n",
       "1                No               Mailed check            56.95        1889.5   \n",
       "2               Yes               Mailed check            53.85        108.15   \n",
       "3                No  Bank transfer (automatic)            42.30       1840.75   \n",
       "4               Yes           Electronic check            70.70        151.65   \n",
       "\n",
       "  internet_service online_security  ... device_protection tech_support  \\\n",
       "0              DSL              No  ...                No           No   \n",
       "1              DSL             Yes  ...               Yes           No   \n",
       "2              DSL             Yes  ...                No           No   \n",
       "3              DSL             Yes  ...               Yes          Yes   \n",
       "4      Fiber optic              No  ...                No           No   \n",
       "\n",
       "  streaming_tv streaming_movies  gender senior_citizen  partner dependents  \\\n",
       "0           No               No  Female              0      Yes         No   \n",
       "1           No               No    Male              0       No         No   \n",
       "2           No               No    Male              0       No         No   \n",
       "3           No               No    Male              0       No         No   \n",
       "4           No               No  Female              0       No         No   \n",
       "\n",
       "  multiple_lines               target  \n",
       "0            NaN                   No  \n",
       "1             No                   No  \n",
       "2             No  2019-12-01 00:00:00  \n",
       "3            NaN                   No  \n",
       "4             No  2019-11-01 00:00:00  \n",
       "\n",
       "[5 rows x 21 columns]"
      ]
     },
     "execution_count": 34,
     "metadata": {},
     "output_type": "execute_result"
    }
   ],
   "source": [
    "df.head()"
   ]
  },
  {
   "cell_type": "markdown",
   "metadata": {},
   "source": [
    "переведем в формат даты"
   ]
  },
  {
   "cell_type": "code",
   "execution_count": 35,
   "metadata": {},
   "outputs": [],
   "source": [
    "df['end_date'] = pd.to_datetime(df['end_date'],format='%Y-%m-%d')"
   ]
  },
  {
   "cell_type": "code",
   "execution_count": 36,
   "metadata": {},
   "outputs": [
    {
     "data": {
      "text/html": [
       "<div>\n",
       "<style scoped>\n",
       "    .dataframe tbody tr th:only-of-type {\n",
       "        vertical-align: middle;\n",
       "    }\n",
       "\n",
       "    .dataframe tbody tr th {\n",
       "        vertical-align: top;\n",
       "    }\n",
       "\n",
       "    .dataframe thead th {\n",
       "        text-align: right;\n",
       "    }\n",
       "</style>\n",
       "<table border=\"1\" class=\"dataframe\">\n",
       "  <thead>\n",
       "    <tr style=\"text-align: right;\">\n",
       "      <th></th>\n",
       "      <th>customer_id</th>\n",
       "      <th>begin_date</th>\n",
       "      <th>end_date</th>\n",
       "      <th>type</th>\n",
       "      <th>paperless_billing</th>\n",
       "      <th>payment_method</th>\n",
       "      <th>monthly_charges</th>\n",
       "      <th>total_charges</th>\n",
       "      <th>internet_service</th>\n",
       "      <th>online_security</th>\n",
       "      <th>...</th>\n",
       "      <th>device_protection</th>\n",
       "      <th>tech_support</th>\n",
       "      <th>streaming_tv</th>\n",
       "      <th>streaming_movies</th>\n",
       "      <th>gender</th>\n",
       "      <th>senior_citizen</th>\n",
       "      <th>partner</th>\n",
       "      <th>dependents</th>\n",
       "      <th>multiple_lines</th>\n",
       "      <th>target</th>\n",
       "    </tr>\n",
       "  </thead>\n",
       "  <tbody>\n",
       "    <tr>\n",
       "      <th>0</th>\n",
       "      <td>7590-VHVEG</td>\n",
       "      <td>2020-01-01</td>\n",
       "      <td>2020-02-01</td>\n",
       "      <td>Month-to-month</td>\n",
       "      <td>Yes</td>\n",
       "      <td>Electronic check</td>\n",
       "      <td>29.85</td>\n",
       "      <td>29.85</td>\n",
       "      <td>DSL</td>\n",
       "      <td>No</td>\n",
       "      <td>...</td>\n",
       "      <td>No</td>\n",
       "      <td>No</td>\n",
       "      <td>No</td>\n",
       "      <td>No</td>\n",
       "      <td>Female</td>\n",
       "      <td>0</td>\n",
       "      <td>Yes</td>\n",
       "      <td>No</td>\n",
       "      <td>NaN</td>\n",
       "      <td>No</td>\n",
       "    </tr>\n",
       "    <tr>\n",
       "      <th>1</th>\n",
       "      <td>5575-GNVDE</td>\n",
       "      <td>2017-04-01</td>\n",
       "      <td>2020-02-01</td>\n",
       "      <td>One year</td>\n",
       "      <td>No</td>\n",
       "      <td>Mailed check</td>\n",
       "      <td>56.95</td>\n",
       "      <td>1889.5</td>\n",
       "      <td>DSL</td>\n",
       "      <td>Yes</td>\n",
       "      <td>...</td>\n",
       "      <td>Yes</td>\n",
       "      <td>No</td>\n",
       "      <td>No</td>\n",
       "      <td>No</td>\n",
       "      <td>Male</td>\n",
       "      <td>0</td>\n",
       "      <td>No</td>\n",
       "      <td>No</td>\n",
       "      <td>No</td>\n",
       "      <td>No</td>\n",
       "    </tr>\n",
       "    <tr>\n",
       "      <th>2</th>\n",
       "      <td>3668-QPYBK</td>\n",
       "      <td>2019-10-01</td>\n",
       "      <td>2019-12-01</td>\n",
       "      <td>Month-to-month</td>\n",
       "      <td>Yes</td>\n",
       "      <td>Mailed check</td>\n",
       "      <td>53.85</td>\n",
       "      <td>108.15</td>\n",
       "      <td>DSL</td>\n",
       "      <td>Yes</td>\n",
       "      <td>...</td>\n",
       "      <td>No</td>\n",
       "      <td>No</td>\n",
       "      <td>No</td>\n",
       "      <td>No</td>\n",
       "      <td>Male</td>\n",
       "      <td>0</td>\n",
       "      <td>No</td>\n",
       "      <td>No</td>\n",
       "      <td>No</td>\n",
       "      <td>2019-12-01 00:00:00</td>\n",
       "    </tr>\n",
       "    <tr>\n",
       "      <th>3</th>\n",
       "      <td>7795-CFOCW</td>\n",
       "      <td>2016-05-01</td>\n",
       "      <td>2020-02-01</td>\n",
       "      <td>One year</td>\n",
       "      <td>No</td>\n",
       "      <td>Bank transfer (automatic)</td>\n",
       "      <td>42.30</td>\n",
       "      <td>1840.75</td>\n",
       "      <td>DSL</td>\n",
       "      <td>Yes</td>\n",
       "      <td>...</td>\n",
       "      <td>Yes</td>\n",
       "      <td>Yes</td>\n",
       "      <td>No</td>\n",
       "      <td>No</td>\n",
       "      <td>Male</td>\n",
       "      <td>0</td>\n",
       "      <td>No</td>\n",
       "      <td>No</td>\n",
       "      <td>NaN</td>\n",
       "      <td>No</td>\n",
       "    </tr>\n",
       "    <tr>\n",
       "      <th>4</th>\n",
       "      <td>9237-HQITU</td>\n",
       "      <td>2019-09-01</td>\n",
       "      <td>2019-11-01</td>\n",
       "      <td>Month-to-month</td>\n",
       "      <td>Yes</td>\n",
       "      <td>Electronic check</td>\n",
       "      <td>70.70</td>\n",
       "      <td>151.65</td>\n",
       "      <td>Fiber optic</td>\n",
       "      <td>No</td>\n",
       "      <td>...</td>\n",
       "      <td>No</td>\n",
       "      <td>No</td>\n",
       "      <td>No</td>\n",
       "      <td>No</td>\n",
       "      <td>Female</td>\n",
       "      <td>0</td>\n",
       "      <td>No</td>\n",
       "      <td>No</td>\n",
       "      <td>No</td>\n",
       "      <td>2019-11-01 00:00:00</td>\n",
       "    </tr>\n",
       "    <tr>\n",
       "      <th>...</th>\n",
       "      <td>...</td>\n",
       "      <td>...</td>\n",
       "      <td>...</td>\n",
       "      <td>...</td>\n",
       "      <td>...</td>\n",
       "      <td>...</td>\n",
       "      <td>...</td>\n",
       "      <td>...</td>\n",
       "      <td>...</td>\n",
       "      <td>...</td>\n",
       "      <td>...</td>\n",
       "      <td>...</td>\n",
       "      <td>...</td>\n",
       "      <td>...</td>\n",
       "      <td>...</td>\n",
       "      <td>...</td>\n",
       "      <td>...</td>\n",
       "      <td>...</td>\n",
       "      <td>...</td>\n",
       "      <td>...</td>\n",
       "      <td>...</td>\n",
       "    </tr>\n",
       "    <tr>\n",
       "      <th>7038</th>\n",
       "      <td>6840-RESVB</td>\n",
       "      <td>2018-02-01</td>\n",
       "      <td>2020-02-01</td>\n",
       "      <td>One year</td>\n",
       "      <td>Yes</td>\n",
       "      <td>Mailed check</td>\n",
       "      <td>84.80</td>\n",
       "      <td>1990.5</td>\n",
       "      <td>DSL</td>\n",
       "      <td>Yes</td>\n",
       "      <td>...</td>\n",
       "      <td>Yes</td>\n",
       "      <td>Yes</td>\n",
       "      <td>Yes</td>\n",
       "      <td>Yes</td>\n",
       "      <td>Male</td>\n",
       "      <td>0</td>\n",
       "      <td>Yes</td>\n",
       "      <td>Yes</td>\n",
       "      <td>Yes</td>\n",
       "      <td>No</td>\n",
       "    </tr>\n",
       "    <tr>\n",
       "      <th>7039</th>\n",
       "      <td>2234-XADUH</td>\n",
       "      <td>2014-02-01</td>\n",
       "      <td>2020-02-01</td>\n",
       "      <td>One year</td>\n",
       "      <td>Yes</td>\n",
       "      <td>Credit card (automatic)</td>\n",
       "      <td>103.20</td>\n",
       "      <td>7362.9</td>\n",
       "      <td>Fiber optic</td>\n",
       "      <td>No</td>\n",
       "      <td>...</td>\n",
       "      <td>Yes</td>\n",
       "      <td>No</td>\n",
       "      <td>Yes</td>\n",
       "      <td>Yes</td>\n",
       "      <td>Female</td>\n",
       "      <td>0</td>\n",
       "      <td>Yes</td>\n",
       "      <td>Yes</td>\n",
       "      <td>Yes</td>\n",
       "      <td>No</td>\n",
       "    </tr>\n",
       "    <tr>\n",
       "      <th>7040</th>\n",
       "      <td>4801-JZAZL</td>\n",
       "      <td>2019-03-01</td>\n",
       "      <td>2020-02-01</td>\n",
       "      <td>Month-to-month</td>\n",
       "      <td>Yes</td>\n",
       "      <td>Electronic check</td>\n",
       "      <td>29.60</td>\n",
       "      <td>346.45</td>\n",
       "      <td>DSL</td>\n",
       "      <td>Yes</td>\n",
       "      <td>...</td>\n",
       "      <td>No</td>\n",
       "      <td>No</td>\n",
       "      <td>No</td>\n",
       "      <td>No</td>\n",
       "      <td>Female</td>\n",
       "      <td>0</td>\n",
       "      <td>Yes</td>\n",
       "      <td>Yes</td>\n",
       "      <td>NaN</td>\n",
       "      <td>No</td>\n",
       "    </tr>\n",
       "    <tr>\n",
       "      <th>7041</th>\n",
       "      <td>8361-LTMKD</td>\n",
       "      <td>2019-07-01</td>\n",
       "      <td>2019-11-01</td>\n",
       "      <td>Month-to-month</td>\n",
       "      <td>Yes</td>\n",
       "      <td>Mailed check</td>\n",
       "      <td>74.40</td>\n",
       "      <td>306.6</td>\n",
       "      <td>Fiber optic</td>\n",
       "      <td>No</td>\n",
       "      <td>...</td>\n",
       "      <td>No</td>\n",
       "      <td>No</td>\n",
       "      <td>No</td>\n",
       "      <td>No</td>\n",
       "      <td>Male</td>\n",
       "      <td>1</td>\n",
       "      <td>Yes</td>\n",
       "      <td>No</td>\n",
       "      <td>Yes</td>\n",
       "      <td>2019-11-01 00:00:00</td>\n",
       "    </tr>\n",
       "    <tr>\n",
       "      <th>7042</th>\n",
       "      <td>3186-AJIEK</td>\n",
       "      <td>2014-08-01</td>\n",
       "      <td>2020-02-01</td>\n",
       "      <td>Two year</td>\n",
       "      <td>Yes</td>\n",
       "      <td>Bank transfer (automatic)</td>\n",
       "      <td>105.65</td>\n",
       "      <td>6844.5</td>\n",
       "      <td>Fiber optic</td>\n",
       "      <td>Yes</td>\n",
       "      <td>...</td>\n",
       "      <td>Yes</td>\n",
       "      <td>Yes</td>\n",
       "      <td>Yes</td>\n",
       "      <td>Yes</td>\n",
       "      <td>Male</td>\n",
       "      <td>0</td>\n",
       "      <td>No</td>\n",
       "      <td>No</td>\n",
       "      <td>No</td>\n",
       "      <td>No</td>\n",
       "    </tr>\n",
       "  </tbody>\n",
       "</table>\n",
       "<p>7043 rows × 21 columns</p>\n",
       "</div>"
      ],
      "text/plain": [
       "     customer_id begin_date   end_date            type paperless_billing  \\\n",
       "0     7590-VHVEG 2020-01-01 2020-02-01  Month-to-month               Yes   \n",
       "1     5575-GNVDE 2017-04-01 2020-02-01        One year                No   \n",
       "2     3668-QPYBK 2019-10-01 2019-12-01  Month-to-month               Yes   \n",
       "3     7795-CFOCW 2016-05-01 2020-02-01        One year                No   \n",
       "4     9237-HQITU 2019-09-01 2019-11-01  Month-to-month               Yes   \n",
       "...          ...        ...        ...             ...               ...   \n",
       "7038  6840-RESVB 2018-02-01 2020-02-01        One year               Yes   \n",
       "7039  2234-XADUH 2014-02-01 2020-02-01        One year               Yes   \n",
       "7040  4801-JZAZL 2019-03-01 2020-02-01  Month-to-month               Yes   \n",
       "7041  8361-LTMKD 2019-07-01 2019-11-01  Month-to-month               Yes   \n",
       "7042  3186-AJIEK 2014-08-01 2020-02-01        Two year               Yes   \n",
       "\n",
       "                 payment_method  monthly_charges total_charges  \\\n",
       "0              Electronic check            29.85         29.85   \n",
       "1                  Mailed check            56.95        1889.5   \n",
       "2                  Mailed check            53.85        108.15   \n",
       "3     Bank transfer (automatic)            42.30       1840.75   \n",
       "4              Electronic check            70.70        151.65   \n",
       "...                         ...              ...           ...   \n",
       "7038               Mailed check            84.80        1990.5   \n",
       "7039    Credit card (automatic)           103.20        7362.9   \n",
       "7040           Electronic check            29.60        346.45   \n",
       "7041               Mailed check            74.40         306.6   \n",
       "7042  Bank transfer (automatic)           105.65        6844.5   \n",
       "\n",
       "     internet_service online_security  ... device_protection tech_support  \\\n",
       "0                 DSL              No  ...                No           No   \n",
       "1                 DSL             Yes  ...               Yes           No   \n",
       "2                 DSL             Yes  ...                No           No   \n",
       "3                 DSL             Yes  ...               Yes          Yes   \n",
       "4         Fiber optic              No  ...                No           No   \n",
       "...               ...             ...  ...               ...          ...   \n",
       "7038              DSL             Yes  ...               Yes          Yes   \n",
       "7039      Fiber optic              No  ...               Yes           No   \n",
       "7040              DSL             Yes  ...                No           No   \n",
       "7041      Fiber optic              No  ...                No           No   \n",
       "7042      Fiber optic             Yes  ...               Yes          Yes   \n",
       "\n",
       "     streaming_tv streaming_movies  gender senior_citizen  partner dependents  \\\n",
       "0              No               No  Female              0      Yes         No   \n",
       "1              No               No    Male              0       No         No   \n",
       "2              No               No    Male              0       No         No   \n",
       "3              No               No    Male              0       No         No   \n",
       "4              No               No  Female              0       No         No   \n",
       "...           ...              ...     ...            ...      ...        ...   \n",
       "7038          Yes              Yes    Male              0      Yes        Yes   \n",
       "7039          Yes              Yes  Female              0      Yes        Yes   \n",
       "7040           No               No  Female              0      Yes        Yes   \n",
       "7041           No               No    Male              1      Yes         No   \n",
       "7042          Yes              Yes    Male              0       No         No   \n",
       "\n",
       "     multiple_lines               target  \n",
       "0               NaN                   No  \n",
       "1                No                   No  \n",
       "2                No  2019-12-01 00:00:00  \n",
       "3               NaN                   No  \n",
       "4                No  2019-11-01 00:00:00  \n",
       "...             ...                  ...  \n",
       "7038            Yes                   No  \n",
       "7039            Yes                   No  \n",
       "7040            NaN                   No  \n",
       "7041            Yes  2019-11-01 00:00:00  \n",
       "7042             No                   No  \n",
       "\n",
       "[7043 rows x 21 columns]"
      ]
     },
     "execution_count": 36,
     "metadata": {},
     "output_type": "execute_result"
    }
   ],
   "source": [
    "df"
   ]
  },
  {
   "cell_type": "code",
   "execution_count": 37,
   "metadata": {},
   "outputs": [
    {
     "name": "stdout",
     "output_type": "stream",
     "text": [
      "0      2020-02-01\n",
      "1      2020-02-01\n",
      "2      2019-12-01\n",
      "3      2020-02-01\n",
      "4      2019-11-01\n",
      "          ...    \n",
      "7038   2020-02-01\n",
      "7039   2020-02-01\n",
      "7040   2020-02-01\n",
      "7041   2019-11-01\n",
      "7042   2020-02-01\n",
      "Name: end_date, Length: 7043, dtype: datetime64[ns] 0      2020-01-01\n",
      "1      2017-04-01\n",
      "2      2019-10-01\n",
      "3      2016-05-01\n",
      "4      2019-09-01\n",
      "          ...    \n",
      "7038   2018-02-01\n",
      "7039   2014-02-01\n",
      "7040   2019-03-01\n",
      "7041   2019-07-01\n",
      "7042   2014-08-01\n",
      "Name: begin_date, Length: 7043, dtype: datetime64[ns]\n"
     ]
    }
   ],
   "source": [
    "print(df['end_date'], df['begin_date'])"
   ]
  },
  {
   "cell_type": "code",
   "execution_count": 38,
   "metadata": {},
   "outputs": [
    {
     "name": "stdout",
     "output_type": "stream",
     "text": [
      "0        31 days\n",
      "1      1036 days\n",
      "2        61 days\n",
      "3      1371 days\n",
      "4        61 days\n",
      "          ...   \n",
      "7038    730 days\n",
      "7039   2191 days\n",
      "7040    337 days\n",
      "7041    123 days\n",
      "7042   2010 days\n",
      "Length: 7043, dtype: timedelta64[ns]\n"
     ]
    }
   ],
   "source": [
    "print(df['end_date']-df['begin_date'])"
   ]
  },
  {
   "cell_type": "markdown",
   "metadata": {},
   "source": [
    "создадим столбец \"стажа\" = дельту между началом обслуживания и его окончанием (в случае активных клиентов = текущей датой) "
   ]
  },
  {
   "cell_type": "code",
   "execution_count": 39,
   "metadata": {},
   "outputs": [],
   "source": [
    "df['duration'] = df['end_date']-df['begin_date']"
   ]
  },
  {
   "cell_type": "code",
   "execution_count": 40,
   "metadata": {},
   "outputs": [
    {
     "data": {
      "text/html": [
       "<div>\n",
       "<style scoped>\n",
       "    .dataframe tbody tr th:only-of-type {\n",
       "        vertical-align: middle;\n",
       "    }\n",
       "\n",
       "    .dataframe tbody tr th {\n",
       "        vertical-align: top;\n",
       "    }\n",
       "\n",
       "    .dataframe thead th {\n",
       "        text-align: right;\n",
       "    }\n",
       "</style>\n",
       "<table border=\"1\" class=\"dataframe\">\n",
       "  <thead>\n",
       "    <tr style=\"text-align: right;\">\n",
       "      <th></th>\n",
       "      <th>customer_id</th>\n",
       "      <th>begin_date</th>\n",
       "      <th>end_date</th>\n",
       "      <th>type</th>\n",
       "      <th>paperless_billing</th>\n",
       "      <th>payment_method</th>\n",
       "      <th>monthly_charges</th>\n",
       "      <th>total_charges</th>\n",
       "      <th>internet_service</th>\n",
       "      <th>online_security</th>\n",
       "      <th>...</th>\n",
       "      <th>tech_support</th>\n",
       "      <th>streaming_tv</th>\n",
       "      <th>streaming_movies</th>\n",
       "      <th>gender</th>\n",
       "      <th>senior_citizen</th>\n",
       "      <th>partner</th>\n",
       "      <th>dependents</th>\n",
       "      <th>multiple_lines</th>\n",
       "      <th>target</th>\n",
       "      <th>duration</th>\n",
       "    </tr>\n",
       "  </thead>\n",
       "  <tbody>\n",
       "    <tr>\n",
       "      <th>0</th>\n",
       "      <td>7590-VHVEG</td>\n",
       "      <td>2020-01-01</td>\n",
       "      <td>2020-02-01</td>\n",
       "      <td>Month-to-month</td>\n",
       "      <td>Yes</td>\n",
       "      <td>Electronic check</td>\n",
       "      <td>29.85</td>\n",
       "      <td>29.85</td>\n",
       "      <td>DSL</td>\n",
       "      <td>No</td>\n",
       "      <td>...</td>\n",
       "      <td>No</td>\n",
       "      <td>No</td>\n",
       "      <td>No</td>\n",
       "      <td>Female</td>\n",
       "      <td>0</td>\n",
       "      <td>Yes</td>\n",
       "      <td>No</td>\n",
       "      <td>NaN</td>\n",
       "      <td>No</td>\n",
       "      <td>31 days</td>\n",
       "    </tr>\n",
       "    <tr>\n",
       "      <th>1</th>\n",
       "      <td>5575-GNVDE</td>\n",
       "      <td>2017-04-01</td>\n",
       "      <td>2020-02-01</td>\n",
       "      <td>One year</td>\n",
       "      <td>No</td>\n",
       "      <td>Mailed check</td>\n",
       "      <td>56.95</td>\n",
       "      <td>1889.5</td>\n",
       "      <td>DSL</td>\n",
       "      <td>Yes</td>\n",
       "      <td>...</td>\n",
       "      <td>No</td>\n",
       "      <td>No</td>\n",
       "      <td>No</td>\n",
       "      <td>Male</td>\n",
       "      <td>0</td>\n",
       "      <td>No</td>\n",
       "      <td>No</td>\n",
       "      <td>No</td>\n",
       "      <td>No</td>\n",
       "      <td>1036 days</td>\n",
       "    </tr>\n",
       "    <tr>\n",
       "      <th>2</th>\n",
       "      <td>3668-QPYBK</td>\n",
       "      <td>2019-10-01</td>\n",
       "      <td>2019-12-01</td>\n",
       "      <td>Month-to-month</td>\n",
       "      <td>Yes</td>\n",
       "      <td>Mailed check</td>\n",
       "      <td>53.85</td>\n",
       "      <td>108.15</td>\n",
       "      <td>DSL</td>\n",
       "      <td>Yes</td>\n",
       "      <td>...</td>\n",
       "      <td>No</td>\n",
       "      <td>No</td>\n",
       "      <td>No</td>\n",
       "      <td>Male</td>\n",
       "      <td>0</td>\n",
       "      <td>No</td>\n",
       "      <td>No</td>\n",
       "      <td>No</td>\n",
       "      <td>2019-12-01 00:00:00</td>\n",
       "      <td>61 days</td>\n",
       "    </tr>\n",
       "    <tr>\n",
       "      <th>3</th>\n",
       "      <td>7795-CFOCW</td>\n",
       "      <td>2016-05-01</td>\n",
       "      <td>2020-02-01</td>\n",
       "      <td>One year</td>\n",
       "      <td>No</td>\n",
       "      <td>Bank transfer (automatic)</td>\n",
       "      <td>42.30</td>\n",
       "      <td>1840.75</td>\n",
       "      <td>DSL</td>\n",
       "      <td>Yes</td>\n",
       "      <td>...</td>\n",
       "      <td>Yes</td>\n",
       "      <td>No</td>\n",
       "      <td>No</td>\n",
       "      <td>Male</td>\n",
       "      <td>0</td>\n",
       "      <td>No</td>\n",
       "      <td>No</td>\n",
       "      <td>NaN</td>\n",
       "      <td>No</td>\n",
       "      <td>1371 days</td>\n",
       "    </tr>\n",
       "    <tr>\n",
       "      <th>4</th>\n",
       "      <td>9237-HQITU</td>\n",
       "      <td>2019-09-01</td>\n",
       "      <td>2019-11-01</td>\n",
       "      <td>Month-to-month</td>\n",
       "      <td>Yes</td>\n",
       "      <td>Electronic check</td>\n",
       "      <td>70.70</td>\n",
       "      <td>151.65</td>\n",
       "      <td>Fiber optic</td>\n",
       "      <td>No</td>\n",
       "      <td>...</td>\n",
       "      <td>No</td>\n",
       "      <td>No</td>\n",
       "      <td>No</td>\n",
       "      <td>Female</td>\n",
       "      <td>0</td>\n",
       "      <td>No</td>\n",
       "      <td>No</td>\n",
       "      <td>No</td>\n",
       "      <td>2019-11-01 00:00:00</td>\n",
       "      <td>61 days</td>\n",
       "    </tr>\n",
       "    <tr>\n",
       "      <th>...</th>\n",
       "      <td>...</td>\n",
       "      <td>...</td>\n",
       "      <td>...</td>\n",
       "      <td>...</td>\n",
       "      <td>...</td>\n",
       "      <td>...</td>\n",
       "      <td>...</td>\n",
       "      <td>...</td>\n",
       "      <td>...</td>\n",
       "      <td>...</td>\n",
       "      <td>...</td>\n",
       "      <td>...</td>\n",
       "      <td>...</td>\n",
       "      <td>...</td>\n",
       "      <td>...</td>\n",
       "      <td>...</td>\n",
       "      <td>...</td>\n",
       "      <td>...</td>\n",
       "      <td>...</td>\n",
       "      <td>...</td>\n",
       "      <td>...</td>\n",
       "    </tr>\n",
       "    <tr>\n",
       "      <th>7038</th>\n",
       "      <td>6840-RESVB</td>\n",
       "      <td>2018-02-01</td>\n",
       "      <td>2020-02-01</td>\n",
       "      <td>One year</td>\n",
       "      <td>Yes</td>\n",
       "      <td>Mailed check</td>\n",
       "      <td>84.80</td>\n",
       "      <td>1990.5</td>\n",
       "      <td>DSL</td>\n",
       "      <td>Yes</td>\n",
       "      <td>...</td>\n",
       "      <td>Yes</td>\n",
       "      <td>Yes</td>\n",
       "      <td>Yes</td>\n",
       "      <td>Male</td>\n",
       "      <td>0</td>\n",
       "      <td>Yes</td>\n",
       "      <td>Yes</td>\n",
       "      <td>Yes</td>\n",
       "      <td>No</td>\n",
       "      <td>730 days</td>\n",
       "    </tr>\n",
       "    <tr>\n",
       "      <th>7039</th>\n",
       "      <td>2234-XADUH</td>\n",
       "      <td>2014-02-01</td>\n",
       "      <td>2020-02-01</td>\n",
       "      <td>One year</td>\n",
       "      <td>Yes</td>\n",
       "      <td>Credit card (automatic)</td>\n",
       "      <td>103.20</td>\n",
       "      <td>7362.9</td>\n",
       "      <td>Fiber optic</td>\n",
       "      <td>No</td>\n",
       "      <td>...</td>\n",
       "      <td>No</td>\n",
       "      <td>Yes</td>\n",
       "      <td>Yes</td>\n",
       "      <td>Female</td>\n",
       "      <td>0</td>\n",
       "      <td>Yes</td>\n",
       "      <td>Yes</td>\n",
       "      <td>Yes</td>\n",
       "      <td>No</td>\n",
       "      <td>2191 days</td>\n",
       "    </tr>\n",
       "    <tr>\n",
       "      <th>7040</th>\n",
       "      <td>4801-JZAZL</td>\n",
       "      <td>2019-03-01</td>\n",
       "      <td>2020-02-01</td>\n",
       "      <td>Month-to-month</td>\n",
       "      <td>Yes</td>\n",
       "      <td>Electronic check</td>\n",
       "      <td>29.60</td>\n",
       "      <td>346.45</td>\n",
       "      <td>DSL</td>\n",
       "      <td>Yes</td>\n",
       "      <td>...</td>\n",
       "      <td>No</td>\n",
       "      <td>No</td>\n",
       "      <td>No</td>\n",
       "      <td>Female</td>\n",
       "      <td>0</td>\n",
       "      <td>Yes</td>\n",
       "      <td>Yes</td>\n",
       "      <td>NaN</td>\n",
       "      <td>No</td>\n",
       "      <td>337 days</td>\n",
       "    </tr>\n",
       "    <tr>\n",
       "      <th>7041</th>\n",
       "      <td>8361-LTMKD</td>\n",
       "      <td>2019-07-01</td>\n",
       "      <td>2019-11-01</td>\n",
       "      <td>Month-to-month</td>\n",
       "      <td>Yes</td>\n",
       "      <td>Mailed check</td>\n",
       "      <td>74.40</td>\n",
       "      <td>306.6</td>\n",
       "      <td>Fiber optic</td>\n",
       "      <td>No</td>\n",
       "      <td>...</td>\n",
       "      <td>No</td>\n",
       "      <td>No</td>\n",
       "      <td>No</td>\n",
       "      <td>Male</td>\n",
       "      <td>1</td>\n",
       "      <td>Yes</td>\n",
       "      <td>No</td>\n",
       "      <td>Yes</td>\n",
       "      <td>2019-11-01 00:00:00</td>\n",
       "      <td>123 days</td>\n",
       "    </tr>\n",
       "    <tr>\n",
       "      <th>7042</th>\n",
       "      <td>3186-AJIEK</td>\n",
       "      <td>2014-08-01</td>\n",
       "      <td>2020-02-01</td>\n",
       "      <td>Two year</td>\n",
       "      <td>Yes</td>\n",
       "      <td>Bank transfer (automatic)</td>\n",
       "      <td>105.65</td>\n",
       "      <td>6844.5</td>\n",
       "      <td>Fiber optic</td>\n",
       "      <td>Yes</td>\n",
       "      <td>...</td>\n",
       "      <td>Yes</td>\n",
       "      <td>Yes</td>\n",
       "      <td>Yes</td>\n",
       "      <td>Male</td>\n",
       "      <td>0</td>\n",
       "      <td>No</td>\n",
       "      <td>No</td>\n",
       "      <td>No</td>\n",
       "      <td>No</td>\n",
       "      <td>2010 days</td>\n",
       "    </tr>\n",
       "  </tbody>\n",
       "</table>\n",
       "<p>7043 rows × 22 columns</p>\n",
       "</div>"
      ],
      "text/plain": [
       "     customer_id begin_date   end_date            type paperless_billing  \\\n",
       "0     7590-VHVEG 2020-01-01 2020-02-01  Month-to-month               Yes   \n",
       "1     5575-GNVDE 2017-04-01 2020-02-01        One year                No   \n",
       "2     3668-QPYBK 2019-10-01 2019-12-01  Month-to-month               Yes   \n",
       "3     7795-CFOCW 2016-05-01 2020-02-01        One year                No   \n",
       "4     9237-HQITU 2019-09-01 2019-11-01  Month-to-month               Yes   \n",
       "...          ...        ...        ...             ...               ...   \n",
       "7038  6840-RESVB 2018-02-01 2020-02-01        One year               Yes   \n",
       "7039  2234-XADUH 2014-02-01 2020-02-01        One year               Yes   \n",
       "7040  4801-JZAZL 2019-03-01 2020-02-01  Month-to-month               Yes   \n",
       "7041  8361-LTMKD 2019-07-01 2019-11-01  Month-to-month               Yes   \n",
       "7042  3186-AJIEK 2014-08-01 2020-02-01        Two year               Yes   \n",
       "\n",
       "                 payment_method  monthly_charges total_charges  \\\n",
       "0              Electronic check            29.85         29.85   \n",
       "1                  Mailed check            56.95        1889.5   \n",
       "2                  Mailed check            53.85        108.15   \n",
       "3     Bank transfer (automatic)            42.30       1840.75   \n",
       "4              Electronic check            70.70        151.65   \n",
       "...                         ...              ...           ...   \n",
       "7038               Mailed check            84.80        1990.5   \n",
       "7039    Credit card (automatic)           103.20        7362.9   \n",
       "7040           Electronic check            29.60        346.45   \n",
       "7041               Mailed check            74.40         306.6   \n",
       "7042  Bank transfer (automatic)           105.65        6844.5   \n",
       "\n",
       "     internet_service online_security  ... tech_support streaming_tv  \\\n",
       "0                 DSL              No  ...           No           No   \n",
       "1                 DSL             Yes  ...           No           No   \n",
       "2                 DSL             Yes  ...           No           No   \n",
       "3                 DSL             Yes  ...          Yes           No   \n",
       "4         Fiber optic              No  ...           No           No   \n",
       "...               ...             ...  ...          ...          ...   \n",
       "7038              DSL             Yes  ...          Yes          Yes   \n",
       "7039      Fiber optic              No  ...           No          Yes   \n",
       "7040              DSL             Yes  ...           No           No   \n",
       "7041      Fiber optic              No  ...           No           No   \n",
       "7042      Fiber optic             Yes  ...          Yes          Yes   \n",
       "\n",
       "     streaming_movies  gender senior_citizen partner  dependents  \\\n",
       "0                  No  Female              0     Yes          No   \n",
       "1                  No    Male              0      No          No   \n",
       "2                  No    Male              0      No          No   \n",
       "3                  No    Male              0      No          No   \n",
       "4                  No  Female              0      No          No   \n",
       "...               ...     ...            ...     ...         ...   \n",
       "7038              Yes    Male              0     Yes         Yes   \n",
       "7039              Yes  Female              0     Yes         Yes   \n",
       "7040               No  Female              0     Yes         Yes   \n",
       "7041               No    Male              1     Yes          No   \n",
       "7042              Yes    Male              0      No          No   \n",
       "\n",
       "     multiple_lines               target  duration  \n",
       "0               NaN                   No   31 days  \n",
       "1                No                   No 1036 days  \n",
       "2                No  2019-12-01 00:00:00   61 days  \n",
       "3               NaN                   No 1371 days  \n",
       "4                No  2019-11-01 00:00:00   61 days  \n",
       "...             ...                  ...       ...  \n",
       "7038            Yes                   No  730 days  \n",
       "7039            Yes                   No 2191 days  \n",
       "7040            NaN                   No  337 days  \n",
       "7041            Yes  2019-11-01 00:00:00  123 days  \n",
       "7042             No                   No 2010 days  \n",
       "\n",
       "[7043 rows x 22 columns]"
      ]
     },
     "execution_count": 40,
     "metadata": {},
     "output_type": "execute_result"
    }
   ],
   "source": [
    "df"
   ]
  },
  {
   "cell_type": "code",
   "execution_count": 41,
   "metadata": {},
   "outputs": [
    {
     "name": "stdout",
     "output_type": "stream",
     "text": [
      "<class 'pandas.core.frame.DataFrame'>\n",
      "Int64Index: 7043 entries, 0 to 7042\n",
      "Data columns (total 22 columns):\n",
      " #   Column             Non-Null Count  Dtype          \n",
      "---  ------             --------------  -----          \n",
      " 0   customer_id        7043 non-null   object         \n",
      " 1   begin_date         7043 non-null   datetime64[ns] \n",
      " 2   end_date           7043 non-null   datetime64[ns] \n",
      " 3   type               7043 non-null   object         \n",
      " 4   paperless_billing  7043 non-null   object         \n",
      " 5   payment_method     7043 non-null   object         \n",
      " 6   monthly_charges    7043 non-null   float64        \n",
      " 7   total_charges      7043 non-null   object         \n",
      " 8   internet_service   7043 non-null   object         \n",
      " 9   online_security    7043 non-null   object         \n",
      " 10  online_backup      7043 non-null   object         \n",
      " 11  device_protection  7043 non-null   object         \n",
      " 12  tech_support       7043 non-null   object         \n",
      " 13  streaming_tv       7043 non-null   object         \n",
      " 14  streaming_movies   7043 non-null   object         \n",
      " 15  gender             7043 non-null   object         \n",
      " 16  senior_citizen     7043 non-null   int64          \n",
      " 17  partner            7043 non-null   object         \n",
      " 18  dependents         7043 non-null   object         \n",
      " 19  multiple_lines     6361 non-null   object         \n",
      " 20  target             7043 non-null   object         \n",
      " 21  duration           7043 non-null   timedelta64[ns]\n",
      "dtypes: datetime64[ns](2), float64(1), int64(1), object(17), timedelta64[ns](1)\n",
      "memory usage: 1.2+ MB\n"
     ]
    }
   ],
   "source": [
    "df.info()"
   ]
  },
  {
   "cell_type": "markdown",
   "metadata": {},
   "source": [
    "для моделей машинного обучения - переведем столбец стажа из формата таймдельты в обычные числа"
   ]
  },
  {
   "cell_type": "code",
   "execution_count": 42,
   "metadata": {},
   "outputs": [],
   "source": [
    "df['duration'] = df['duration'].dt.days"
   ]
  },
  {
   "cell_type": "code",
   "execution_count": 43,
   "metadata": {},
   "outputs": [
    {
     "data": {
      "text/html": [
       "<div>\n",
       "<style scoped>\n",
       "    .dataframe tbody tr th:only-of-type {\n",
       "        vertical-align: middle;\n",
       "    }\n",
       "\n",
       "    .dataframe tbody tr th {\n",
       "        vertical-align: top;\n",
       "    }\n",
       "\n",
       "    .dataframe thead th {\n",
       "        text-align: right;\n",
       "    }\n",
       "</style>\n",
       "<table border=\"1\" class=\"dataframe\">\n",
       "  <thead>\n",
       "    <tr style=\"text-align: right;\">\n",
       "      <th></th>\n",
       "      <th>customer_id</th>\n",
       "      <th>begin_date</th>\n",
       "      <th>end_date</th>\n",
       "      <th>type</th>\n",
       "      <th>paperless_billing</th>\n",
       "      <th>payment_method</th>\n",
       "      <th>monthly_charges</th>\n",
       "      <th>total_charges</th>\n",
       "      <th>internet_service</th>\n",
       "      <th>online_security</th>\n",
       "      <th>...</th>\n",
       "      <th>tech_support</th>\n",
       "      <th>streaming_tv</th>\n",
       "      <th>streaming_movies</th>\n",
       "      <th>gender</th>\n",
       "      <th>senior_citizen</th>\n",
       "      <th>partner</th>\n",
       "      <th>dependents</th>\n",
       "      <th>multiple_lines</th>\n",
       "      <th>target</th>\n",
       "      <th>duration</th>\n",
       "    </tr>\n",
       "  </thead>\n",
       "  <tbody>\n",
       "    <tr>\n",
       "      <th>0</th>\n",
       "      <td>7590-VHVEG</td>\n",
       "      <td>2020-01-01</td>\n",
       "      <td>2020-02-01</td>\n",
       "      <td>Month-to-month</td>\n",
       "      <td>Yes</td>\n",
       "      <td>Electronic check</td>\n",
       "      <td>29.85</td>\n",
       "      <td>29.85</td>\n",
       "      <td>DSL</td>\n",
       "      <td>No</td>\n",
       "      <td>...</td>\n",
       "      <td>No</td>\n",
       "      <td>No</td>\n",
       "      <td>No</td>\n",
       "      <td>Female</td>\n",
       "      <td>0</td>\n",
       "      <td>Yes</td>\n",
       "      <td>No</td>\n",
       "      <td>NaN</td>\n",
       "      <td>No</td>\n",
       "      <td>31</td>\n",
       "    </tr>\n",
       "    <tr>\n",
       "      <th>1</th>\n",
       "      <td>5575-GNVDE</td>\n",
       "      <td>2017-04-01</td>\n",
       "      <td>2020-02-01</td>\n",
       "      <td>One year</td>\n",
       "      <td>No</td>\n",
       "      <td>Mailed check</td>\n",
       "      <td>56.95</td>\n",
       "      <td>1889.5</td>\n",
       "      <td>DSL</td>\n",
       "      <td>Yes</td>\n",
       "      <td>...</td>\n",
       "      <td>No</td>\n",
       "      <td>No</td>\n",
       "      <td>No</td>\n",
       "      <td>Male</td>\n",
       "      <td>0</td>\n",
       "      <td>No</td>\n",
       "      <td>No</td>\n",
       "      <td>No</td>\n",
       "      <td>No</td>\n",
       "      <td>1036</td>\n",
       "    </tr>\n",
       "    <tr>\n",
       "      <th>2</th>\n",
       "      <td>3668-QPYBK</td>\n",
       "      <td>2019-10-01</td>\n",
       "      <td>2019-12-01</td>\n",
       "      <td>Month-to-month</td>\n",
       "      <td>Yes</td>\n",
       "      <td>Mailed check</td>\n",
       "      <td>53.85</td>\n",
       "      <td>108.15</td>\n",
       "      <td>DSL</td>\n",
       "      <td>Yes</td>\n",
       "      <td>...</td>\n",
       "      <td>No</td>\n",
       "      <td>No</td>\n",
       "      <td>No</td>\n",
       "      <td>Male</td>\n",
       "      <td>0</td>\n",
       "      <td>No</td>\n",
       "      <td>No</td>\n",
       "      <td>No</td>\n",
       "      <td>2019-12-01 00:00:00</td>\n",
       "      <td>61</td>\n",
       "    </tr>\n",
       "    <tr>\n",
       "      <th>3</th>\n",
       "      <td>7795-CFOCW</td>\n",
       "      <td>2016-05-01</td>\n",
       "      <td>2020-02-01</td>\n",
       "      <td>One year</td>\n",
       "      <td>No</td>\n",
       "      <td>Bank transfer (automatic)</td>\n",
       "      <td>42.30</td>\n",
       "      <td>1840.75</td>\n",
       "      <td>DSL</td>\n",
       "      <td>Yes</td>\n",
       "      <td>...</td>\n",
       "      <td>Yes</td>\n",
       "      <td>No</td>\n",
       "      <td>No</td>\n",
       "      <td>Male</td>\n",
       "      <td>0</td>\n",
       "      <td>No</td>\n",
       "      <td>No</td>\n",
       "      <td>NaN</td>\n",
       "      <td>No</td>\n",
       "      <td>1371</td>\n",
       "    </tr>\n",
       "    <tr>\n",
       "      <th>4</th>\n",
       "      <td>9237-HQITU</td>\n",
       "      <td>2019-09-01</td>\n",
       "      <td>2019-11-01</td>\n",
       "      <td>Month-to-month</td>\n",
       "      <td>Yes</td>\n",
       "      <td>Electronic check</td>\n",
       "      <td>70.70</td>\n",
       "      <td>151.65</td>\n",
       "      <td>Fiber optic</td>\n",
       "      <td>No</td>\n",
       "      <td>...</td>\n",
       "      <td>No</td>\n",
       "      <td>No</td>\n",
       "      <td>No</td>\n",
       "      <td>Female</td>\n",
       "      <td>0</td>\n",
       "      <td>No</td>\n",
       "      <td>No</td>\n",
       "      <td>No</td>\n",
       "      <td>2019-11-01 00:00:00</td>\n",
       "      <td>61</td>\n",
       "    </tr>\n",
       "    <tr>\n",
       "      <th>...</th>\n",
       "      <td>...</td>\n",
       "      <td>...</td>\n",
       "      <td>...</td>\n",
       "      <td>...</td>\n",
       "      <td>...</td>\n",
       "      <td>...</td>\n",
       "      <td>...</td>\n",
       "      <td>...</td>\n",
       "      <td>...</td>\n",
       "      <td>...</td>\n",
       "      <td>...</td>\n",
       "      <td>...</td>\n",
       "      <td>...</td>\n",
       "      <td>...</td>\n",
       "      <td>...</td>\n",
       "      <td>...</td>\n",
       "      <td>...</td>\n",
       "      <td>...</td>\n",
       "      <td>...</td>\n",
       "      <td>...</td>\n",
       "      <td>...</td>\n",
       "    </tr>\n",
       "    <tr>\n",
       "      <th>7038</th>\n",
       "      <td>6840-RESVB</td>\n",
       "      <td>2018-02-01</td>\n",
       "      <td>2020-02-01</td>\n",
       "      <td>One year</td>\n",
       "      <td>Yes</td>\n",
       "      <td>Mailed check</td>\n",
       "      <td>84.80</td>\n",
       "      <td>1990.5</td>\n",
       "      <td>DSL</td>\n",
       "      <td>Yes</td>\n",
       "      <td>...</td>\n",
       "      <td>Yes</td>\n",
       "      <td>Yes</td>\n",
       "      <td>Yes</td>\n",
       "      <td>Male</td>\n",
       "      <td>0</td>\n",
       "      <td>Yes</td>\n",
       "      <td>Yes</td>\n",
       "      <td>Yes</td>\n",
       "      <td>No</td>\n",
       "      <td>730</td>\n",
       "    </tr>\n",
       "    <tr>\n",
       "      <th>7039</th>\n",
       "      <td>2234-XADUH</td>\n",
       "      <td>2014-02-01</td>\n",
       "      <td>2020-02-01</td>\n",
       "      <td>One year</td>\n",
       "      <td>Yes</td>\n",
       "      <td>Credit card (automatic)</td>\n",
       "      <td>103.20</td>\n",
       "      <td>7362.9</td>\n",
       "      <td>Fiber optic</td>\n",
       "      <td>No</td>\n",
       "      <td>...</td>\n",
       "      <td>No</td>\n",
       "      <td>Yes</td>\n",
       "      <td>Yes</td>\n",
       "      <td>Female</td>\n",
       "      <td>0</td>\n",
       "      <td>Yes</td>\n",
       "      <td>Yes</td>\n",
       "      <td>Yes</td>\n",
       "      <td>No</td>\n",
       "      <td>2191</td>\n",
       "    </tr>\n",
       "    <tr>\n",
       "      <th>7040</th>\n",
       "      <td>4801-JZAZL</td>\n",
       "      <td>2019-03-01</td>\n",
       "      <td>2020-02-01</td>\n",
       "      <td>Month-to-month</td>\n",
       "      <td>Yes</td>\n",
       "      <td>Electronic check</td>\n",
       "      <td>29.60</td>\n",
       "      <td>346.45</td>\n",
       "      <td>DSL</td>\n",
       "      <td>Yes</td>\n",
       "      <td>...</td>\n",
       "      <td>No</td>\n",
       "      <td>No</td>\n",
       "      <td>No</td>\n",
       "      <td>Female</td>\n",
       "      <td>0</td>\n",
       "      <td>Yes</td>\n",
       "      <td>Yes</td>\n",
       "      <td>NaN</td>\n",
       "      <td>No</td>\n",
       "      <td>337</td>\n",
       "    </tr>\n",
       "    <tr>\n",
       "      <th>7041</th>\n",
       "      <td>8361-LTMKD</td>\n",
       "      <td>2019-07-01</td>\n",
       "      <td>2019-11-01</td>\n",
       "      <td>Month-to-month</td>\n",
       "      <td>Yes</td>\n",
       "      <td>Mailed check</td>\n",
       "      <td>74.40</td>\n",
       "      <td>306.6</td>\n",
       "      <td>Fiber optic</td>\n",
       "      <td>No</td>\n",
       "      <td>...</td>\n",
       "      <td>No</td>\n",
       "      <td>No</td>\n",
       "      <td>No</td>\n",
       "      <td>Male</td>\n",
       "      <td>1</td>\n",
       "      <td>Yes</td>\n",
       "      <td>No</td>\n",
       "      <td>Yes</td>\n",
       "      <td>2019-11-01 00:00:00</td>\n",
       "      <td>123</td>\n",
       "    </tr>\n",
       "    <tr>\n",
       "      <th>7042</th>\n",
       "      <td>3186-AJIEK</td>\n",
       "      <td>2014-08-01</td>\n",
       "      <td>2020-02-01</td>\n",
       "      <td>Two year</td>\n",
       "      <td>Yes</td>\n",
       "      <td>Bank transfer (automatic)</td>\n",
       "      <td>105.65</td>\n",
       "      <td>6844.5</td>\n",
       "      <td>Fiber optic</td>\n",
       "      <td>Yes</td>\n",
       "      <td>...</td>\n",
       "      <td>Yes</td>\n",
       "      <td>Yes</td>\n",
       "      <td>Yes</td>\n",
       "      <td>Male</td>\n",
       "      <td>0</td>\n",
       "      <td>No</td>\n",
       "      <td>No</td>\n",
       "      <td>No</td>\n",
       "      <td>No</td>\n",
       "      <td>2010</td>\n",
       "    </tr>\n",
       "  </tbody>\n",
       "</table>\n",
       "<p>7043 rows × 22 columns</p>\n",
       "</div>"
      ],
      "text/plain": [
       "     customer_id begin_date   end_date            type paperless_billing  \\\n",
       "0     7590-VHVEG 2020-01-01 2020-02-01  Month-to-month               Yes   \n",
       "1     5575-GNVDE 2017-04-01 2020-02-01        One year                No   \n",
       "2     3668-QPYBK 2019-10-01 2019-12-01  Month-to-month               Yes   \n",
       "3     7795-CFOCW 2016-05-01 2020-02-01        One year                No   \n",
       "4     9237-HQITU 2019-09-01 2019-11-01  Month-to-month               Yes   \n",
       "...          ...        ...        ...             ...               ...   \n",
       "7038  6840-RESVB 2018-02-01 2020-02-01        One year               Yes   \n",
       "7039  2234-XADUH 2014-02-01 2020-02-01        One year               Yes   \n",
       "7040  4801-JZAZL 2019-03-01 2020-02-01  Month-to-month               Yes   \n",
       "7041  8361-LTMKD 2019-07-01 2019-11-01  Month-to-month               Yes   \n",
       "7042  3186-AJIEK 2014-08-01 2020-02-01        Two year               Yes   \n",
       "\n",
       "                 payment_method  monthly_charges total_charges  \\\n",
       "0              Electronic check            29.85         29.85   \n",
       "1                  Mailed check            56.95        1889.5   \n",
       "2                  Mailed check            53.85        108.15   \n",
       "3     Bank transfer (automatic)            42.30       1840.75   \n",
       "4              Electronic check            70.70        151.65   \n",
       "...                         ...              ...           ...   \n",
       "7038               Mailed check            84.80        1990.5   \n",
       "7039    Credit card (automatic)           103.20        7362.9   \n",
       "7040           Electronic check            29.60        346.45   \n",
       "7041               Mailed check            74.40         306.6   \n",
       "7042  Bank transfer (automatic)           105.65        6844.5   \n",
       "\n",
       "     internet_service online_security  ... tech_support streaming_tv  \\\n",
       "0                 DSL              No  ...           No           No   \n",
       "1                 DSL             Yes  ...           No           No   \n",
       "2                 DSL             Yes  ...           No           No   \n",
       "3                 DSL             Yes  ...          Yes           No   \n",
       "4         Fiber optic              No  ...           No           No   \n",
       "...               ...             ...  ...          ...          ...   \n",
       "7038              DSL             Yes  ...          Yes          Yes   \n",
       "7039      Fiber optic              No  ...           No          Yes   \n",
       "7040              DSL             Yes  ...           No           No   \n",
       "7041      Fiber optic              No  ...           No           No   \n",
       "7042      Fiber optic             Yes  ...          Yes          Yes   \n",
       "\n",
       "     streaming_movies  gender senior_citizen partner  dependents  \\\n",
       "0                  No  Female              0     Yes          No   \n",
       "1                  No    Male              0      No          No   \n",
       "2                  No    Male              0      No          No   \n",
       "3                  No    Male              0      No          No   \n",
       "4                  No  Female              0      No          No   \n",
       "...               ...     ...            ...     ...         ...   \n",
       "7038              Yes    Male              0     Yes         Yes   \n",
       "7039              Yes  Female              0     Yes         Yes   \n",
       "7040               No  Female              0     Yes         Yes   \n",
       "7041               No    Male              1     Yes          No   \n",
       "7042              Yes    Male              0      No          No   \n",
       "\n",
       "     multiple_lines               target duration  \n",
       "0               NaN                   No       31  \n",
       "1                No                   No     1036  \n",
       "2                No  2019-12-01 00:00:00       61  \n",
       "3               NaN                   No     1371  \n",
       "4                No  2019-11-01 00:00:00       61  \n",
       "...             ...                  ...      ...  \n",
       "7038            Yes                   No      730  \n",
       "7039            Yes                   No     2191  \n",
       "7040            NaN                   No      337  \n",
       "7041            Yes  2019-11-01 00:00:00      123  \n",
       "7042             No                   No     2010  \n",
       "\n",
       "[7043 rows x 22 columns]"
      ]
     },
     "execution_count": 43,
     "metadata": {},
     "output_type": "execute_result"
    }
   ],
   "source": [
    "df"
   ]
  },
  {
   "cell_type": "markdown",
   "metadata": {},
   "source": [
    "поменяем в бинарных переменных 'Yes' 'No' на '1' '0' соответственно"
   ]
  },
  {
   "cell_type": "code",
   "execution_count": 44,
   "metadata": {},
   "outputs": [],
   "source": [
    "for el in df.columns:\n",
    "    df[el] = df[el].replace('No', 0)\n",
    "    df[el] = df[el].replace('Yes', 1)"
   ]
  },
  {
   "cell_type": "code",
   "execution_count": 45,
   "metadata": {},
   "outputs": [],
   "source": [
    "df['gender'] = df['gender'].replace('Female', 0)\n",
    "df['gender'] = df['gender'].replace('Male', 1)"
   ]
  },
  {
   "cell_type": "code",
   "execution_count": 46,
   "metadata": {},
   "outputs": [
    {
     "data": {
      "text/html": [
       "<div>\n",
       "<style scoped>\n",
       "    .dataframe tbody tr th:only-of-type {\n",
       "        vertical-align: middle;\n",
       "    }\n",
       "\n",
       "    .dataframe tbody tr th {\n",
       "        vertical-align: top;\n",
       "    }\n",
       "\n",
       "    .dataframe thead th {\n",
       "        text-align: right;\n",
       "    }\n",
       "</style>\n",
       "<table border=\"1\" class=\"dataframe\">\n",
       "  <thead>\n",
       "    <tr style=\"text-align: right;\">\n",
       "      <th></th>\n",
       "      <th>customer_id</th>\n",
       "      <th>begin_date</th>\n",
       "      <th>end_date</th>\n",
       "      <th>type</th>\n",
       "      <th>paperless_billing</th>\n",
       "      <th>payment_method</th>\n",
       "      <th>monthly_charges</th>\n",
       "      <th>total_charges</th>\n",
       "      <th>internet_service</th>\n",
       "      <th>online_security</th>\n",
       "      <th>...</th>\n",
       "      <th>tech_support</th>\n",
       "      <th>streaming_tv</th>\n",
       "      <th>streaming_movies</th>\n",
       "      <th>gender</th>\n",
       "      <th>senior_citizen</th>\n",
       "      <th>partner</th>\n",
       "      <th>dependents</th>\n",
       "      <th>multiple_lines</th>\n",
       "      <th>target</th>\n",
       "      <th>duration</th>\n",
       "    </tr>\n",
       "  </thead>\n",
       "  <tbody>\n",
       "    <tr>\n",
       "      <th>0</th>\n",
       "      <td>7590-VHVEG</td>\n",
       "      <td>2020-01-01</td>\n",
       "      <td>2020-02-01</td>\n",
       "      <td>Month-to-month</td>\n",
       "      <td>1</td>\n",
       "      <td>Electronic check</td>\n",
       "      <td>29.85</td>\n",
       "      <td>29.85</td>\n",
       "      <td>DSL</td>\n",
       "      <td>0</td>\n",
       "      <td>...</td>\n",
       "      <td>0</td>\n",
       "      <td>0</td>\n",
       "      <td>0</td>\n",
       "      <td>0</td>\n",
       "      <td>0</td>\n",
       "      <td>1</td>\n",
       "      <td>0</td>\n",
       "      <td>NaN</td>\n",
       "      <td>0</td>\n",
       "      <td>31</td>\n",
       "    </tr>\n",
       "    <tr>\n",
       "      <th>1</th>\n",
       "      <td>5575-GNVDE</td>\n",
       "      <td>2017-04-01</td>\n",
       "      <td>2020-02-01</td>\n",
       "      <td>One year</td>\n",
       "      <td>0</td>\n",
       "      <td>Mailed check</td>\n",
       "      <td>56.95</td>\n",
       "      <td>1889.5</td>\n",
       "      <td>DSL</td>\n",
       "      <td>1</td>\n",
       "      <td>...</td>\n",
       "      <td>0</td>\n",
       "      <td>0</td>\n",
       "      <td>0</td>\n",
       "      <td>1</td>\n",
       "      <td>0</td>\n",
       "      <td>0</td>\n",
       "      <td>0</td>\n",
       "      <td>0.0</td>\n",
       "      <td>0</td>\n",
       "      <td>1036</td>\n",
       "    </tr>\n",
       "    <tr>\n",
       "      <th>2</th>\n",
       "      <td>3668-QPYBK</td>\n",
       "      <td>2019-10-01</td>\n",
       "      <td>2019-12-01</td>\n",
       "      <td>Month-to-month</td>\n",
       "      <td>1</td>\n",
       "      <td>Mailed check</td>\n",
       "      <td>53.85</td>\n",
       "      <td>108.15</td>\n",
       "      <td>DSL</td>\n",
       "      <td>1</td>\n",
       "      <td>...</td>\n",
       "      <td>0</td>\n",
       "      <td>0</td>\n",
       "      <td>0</td>\n",
       "      <td>1</td>\n",
       "      <td>0</td>\n",
       "      <td>0</td>\n",
       "      <td>0</td>\n",
       "      <td>0.0</td>\n",
       "      <td>2019-12-01 00:00:00</td>\n",
       "      <td>61</td>\n",
       "    </tr>\n",
       "    <tr>\n",
       "      <th>3</th>\n",
       "      <td>7795-CFOCW</td>\n",
       "      <td>2016-05-01</td>\n",
       "      <td>2020-02-01</td>\n",
       "      <td>One year</td>\n",
       "      <td>0</td>\n",
       "      <td>Bank transfer (automatic)</td>\n",
       "      <td>42.30</td>\n",
       "      <td>1840.75</td>\n",
       "      <td>DSL</td>\n",
       "      <td>1</td>\n",
       "      <td>...</td>\n",
       "      <td>1</td>\n",
       "      <td>0</td>\n",
       "      <td>0</td>\n",
       "      <td>1</td>\n",
       "      <td>0</td>\n",
       "      <td>0</td>\n",
       "      <td>0</td>\n",
       "      <td>NaN</td>\n",
       "      <td>0</td>\n",
       "      <td>1371</td>\n",
       "    </tr>\n",
       "    <tr>\n",
       "      <th>4</th>\n",
       "      <td>9237-HQITU</td>\n",
       "      <td>2019-09-01</td>\n",
       "      <td>2019-11-01</td>\n",
       "      <td>Month-to-month</td>\n",
       "      <td>1</td>\n",
       "      <td>Electronic check</td>\n",
       "      <td>70.70</td>\n",
       "      <td>151.65</td>\n",
       "      <td>Fiber optic</td>\n",
       "      <td>0</td>\n",
       "      <td>...</td>\n",
       "      <td>0</td>\n",
       "      <td>0</td>\n",
       "      <td>0</td>\n",
       "      <td>0</td>\n",
       "      <td>0</td>\n",
       "      <td>0</td>\n",
       "      <td>0</td>\n",
       "      <td>0.0</td>\n",
       "      <td>2019-11-01 00:00:00</td>\n",
       "      <td>61</td>\n",
       "    </tr>\n",
       "    <tr>\n",
       "      <th>...</th>\n",
       "      <td>...</td>\n",
       "      <td>...</td>\n",
       "      <td>...</td>\n",
       "      <td>...</td>\n",
       "      <td>...</td>\n",
       "      <td>...</td>\n",
       "      <td>...</td>\n",
       "      <td>...</td>\n",
       "      <td>...</td>\n",
       "      <td>...</td>\n",
       "      <td>...</td>\n",
       "      <td>...</td>\n",
       "      <td>...</td>\n",
       "      <td>...</td>\n",
       "      <td>...</td>\n",
       "      <td>...</td>\n",
       "      <td>...</td>\n",
       "      <td>...</td>\n",
       "      <td>...</td>\n",
       "      <td>...</td>\n",
       "      <td>...</td>\n",
       "    </tr>\n",
       "    <tr>\n",
       "      <th>7038</th>\n",
       "      <td>6840-RESVB</td>\n",
       "      <td>2018-02-01</td>\n",
       "      <td>2020-02-01</td>\n",
       "      <td>One year</td>\n",
       "      <td>1</td>\n",
       "      <td>Mailed check</td>\n",
       "      <td>84.80</td>\n",
       "      <td>1990.5</td>\n",
       "      <td>DSL</td>\n",
       "      <td>1</td>\n",
       "      <td>...</td>\n",
       "      <td>1</td>\n",
       "      <td>1</td>\n",
       "      <td>1</td>\n",
       "      <td>1</td>\n",
       "      <td>0</td>\n",
       "      <td>1</td>\n",
       "      <td>1</td>\n",
       "      <td>1.0</td>\n",
       "      <td>0</td>\n",
       "      <td>730</td>\n",
       "    </tr>\n",
       "    <tr>\n",
       "      <th>7039</th>\n",
       "      <td>2234-XADUH</td>\n",
       "      <td>2014-02-01</td>\n",
       "      <td>2020-02-01</td>\n",
       "      <td>One year</td>\n",
       "      <td>1</td>\n",
       "      <td>Credit card (automatic)</td>\n",
       "      <td>103.20</td>\n",
       "      <td>7362.9</td>\n",
       "      <td>Fiber optic</td>\n",
       "      <td>0</td>\n",
       "      <td>...</td>\n",
       "      <td>0</td>\n",
       "      <td>1</td>\n",
       "      <td>1</td>\n",
       "      <td>0</td>\n",
       "      <td>0</td>\n",
       "      <td>1</td>\n",
       "      <td>1</td>\n",
       "      <td>1.0</td>\n",
       "      <td>0</td>\n",
       "      <td>2191</td>\n",
       "    </tr>\n",
       "    <tr>\n",
       "      <th>7040</th>\n",
       "      <td>4801-JZAZL</td>\n",
       "      <td>2019-03-01</td>\n",
       "      <td>2020-02-01</td>\n",
       "      <td>Month-to-month</td>\n",
       "      <td>1</td>\n",
       "      <td>Electronic check</td>\n",
       "      <td>29.60</td>\n",
       "      <td>346.45</td>\n",
       "      <td>DSL</td>\n",
       "      <td>1</td>\n",
       "      <td>...</td>\n",
       "      <td>0</td>\n",
       "      <td>0</td>\n",
       "      <td>0</td>\n",
       "      <td>0</td>\n",
       "      <td>0</td>\n",
       "      <td>1</td>\n",
       "      <td>1</td>\n",
       "      <td>NaN</td>\n",
       "      <td>0</td>\n",
       "      <td>337</td>\n",
       "    </tr>\n",
       "    <tr>\n",
       "      <th>7041</th>\n",
       "      <td>8361-LTMKD</td>\n",
       "      <td>2019-07-01</td>\n",
       "      <td>2019-11-01</td>\n",
       "      <td>Month-to-month</td>\n",
       "      <td>1</td>\n",
       "      <td>Mailed check</td>\n",
       "      <td>74.40</td>\n",
       "      <td>306.6</td>\n",
       "      <td>Fiber optic</td>\n",
       "      <td>0</td>\n",
       "      <td>...</td>\n",
       "      <td>0</td>\n",
       "      <td>0</td>\n",
       "      <td>0</td>\n",
       "      <td>1</td>\n",
       "      <td>1</td>\n",
       "      <td>1</td>\n",
       "      <td>0</td>\n",
       "      <td>1.0</td>\n",
       "      <td>2019-11-01 00:00:00</td>\n",
       "      <td>123</td>\n",
       "    </tr>\n",
       "    <tr>\n",
       "      <th>7042</th>\n",
       "      <td>3186-AJIEK</td>\n",
       "      <td>2014-08-01</td>\n",
       "      <td>2020-02-01</td>\n",
       "      <td>Two year</td>\n",
       "      <td>1</td>\n",
       "      <td>Bank transfer (automatic)</td>\n",
       "      <td>105.65</td>\n",
       "      <td>6844.5</td>\n",
       "      <td>Fiber optic</td>\n",
       "      <td>1</td>\n",
       "      <td>...</td>\n",
       "      <td>1</td>\n",
       "      <td>1</td>\n",
       "      <td>1</td>\n",
       "      <td>1</td>\n",
       "      <td>0</td>\n",
       "      <td>0</td>\n",
       "      <td>0</td>\n",
       "      <td>0.0</td>\n",
       "      <td>0</td>\n",
       "      <td>2010</td>\n",
       "    </tr>\n",
       "  </tbody>\n",
       "</table>\n",
       "<p>7043 rows × 22 columns</p>\n",
       "</div>"
      ],
      "text/plain": [
       "     customer_id begin_date   end_date            type  paperless_billing  \\\n",
       "0     7590-VHVEG 2020-01-01 2020-02-01  Month-to-month                  1   \n",
       "1     5575-GNVDE 2017-04-01 2020-02-01        One year                  0   \n",
       "2     3668-QPYBK 2019-10-01 2019-12-01  Month-to-month                  1   \n",
       "3     7795-CFOCW 2016-05-01 2020-02-01        One year                  0   \n",
       "4     9237-HQITU 2019-09-01 2019-11-01  Month-to-month                  1   \n",
       "...          ...        ...        ...             ...                ...   \n",
       "7038  6840-RESVB 2018-02-01 2020-02-01        One year                  1   \n",
       "7039  2234-XADUH 2014-02-01 2020-02-01        One year                  1   \n",
       "7040  4801-JZAZL 2019-03-01 2020-02-01  Month-to-month                  1   \n",
       "7041  8361-LTMKD 2019-07-01 2019-11-01  Month-to-month                  1   \n",
       "7042  3186-AJIEK 2014-08-01 2020-02-01        Two year                  1   \n",
       "\n",
       "                 payment_method  monthly_charges total_charges  \\\n",
       "0              Electronic check            29.85         29.85   \n",
       "1                  Mailed check            56.95        1889.5   \n",
       "2                  Mailed check            53.85        108.15   \n",
       "3     Bank transfer (automatic)            42.30       1840.75   \n",
       "4              Electronic check            70.70        151.65   \n",
       "...                         ...              ...           ...   \n",
       "7038               Mailed check            84.80        1990.5   \n",
       "7039    Credit card (automatic)           103.20        7362.9   \n",
       "7040           Electronic check            29.60        346.45   \n",
       "7041               Mailed check            74.40         306.6   \n",
       "7042  Bank transfer (automatic)           105.65        6844.5   \n",
       "\n",
       "     internet_service  online_security  ...  tech_support  streaming_tv  \\\n",
       "0                 DSL                0  ...             0             0   \n",
       "1                 DSL                1  ...             0             0   \n",
       "2                 DSL                1  ...             0             0   \n",
       "3                 DSL                1  ...             1             0   \n",
       "4         Fiber optic                0  ...             0             0   \n",
       "...               ...              ...  ...           ...           ...   \n",
       "7038              DSL                1  ...             1             1   \n",
       "7039      Fiber optic                0  ...             0             1   \n",
       "7040              DSL                1  ...             0             0   \n",
       "7041      Fiber optic                0  ...             0             0   \n",
       "7042      Fiber optic                1  ...             1             1   \n",
       "\n",
       "      streaming_movies  gender  senior_citizen  partner  dependents  \\\n",
       "0                    0       0               0        1           0   \n",
       "1                    0       1               0        0           0   \n",
       "2                    0       1               0        0           0   \n",
       "3                    0       1               0        0           0   \n",
       "4                    0       0               0        0           0   \n",
       "...                ...     ...             ...      ...         ...   \n",
       "7038                 1       1               0        1           1   \n",
       "7039                 1       0               0        1           1   \n",
       "7040                 0       0               0        1           1   \n",
       "7041                 0       1               1        1           0   \n",
       "7042                 1       1               0        0           0   \n",
       "\n",
       "      multiple_lines               target  duration  \n",
       "0                NaN                    0        31  \n",
       "1                0.0                    0      1036  \n",
       "2                0.0  2019-12-01 00:00:00        61  \n",
       "3                NaN                    0      1371  \n",
       "4                0.0  2019-11-01 00:00:00        61  \n",
       "...              ...                  ...       ...  \n",
       "7038             1.0                    0       730  \n",
       "7039             1.0                    0      2191  \n",
       "7040             NaN                    0       337  \n",
       "7041             1.0  2019-11-01 00:00:00       123  \n",
       "7042             0.0                    0      2010  \n",
       "\n",
       "[7043 rows x 22 columns]"
      ]
     },
     "execution_count": 46,
     "metadata": {},
     "output_type": "execute_result"
    }
   ],
   "source": [
    "df"
   ]
  },
  {
   "cell_type": "markdown",
   "metadata": {},
   "source": [
    "доделаем столбец целевого признака; строки де клиент не ушел - имели '0' - а ушедшие - дату окончания сотрудничества. Заменим все даты на '1'"
   ]
  },
  {
   "cell_type": "code",
   "execution_count": 47,
   "metadata": {},
   "outputs": [
    {
     "name": "stderr",
     "output_type": "stream",
     "text": [
      "C:\\Users\\Freo\\AppData\\Local\\Temp\\ipykernel_16604\\2946203890.py:1: SettingWithCopyWarning: \n",
      "A value is trying to be set on a copy of a slice from a DataFrame\n",
      "\n",
      "See the caveats in the documentation: https://pandas.pydata.org/pandas-docs/stable/user_guide/indexing.html#returning-a-view-versus-a-copy\n",
      "  df['target'][df['target'] != 0] = 1\n"
     ]
    }
   ],
   "source": [
    "df['target'][df['target'] != 0] = 1"
   ]
  },
  {
   "cell_type": "code",
   "execution_count": 48,
   "metadata": {},
   "outputs": [
    {
     "data": {
      "text/plain": [
       "array([nan,  0.,  1.])"
      ]
     },
     "execution_count": 48,
     "metadata": {},
     "output_type": "execute_result"
    }
   ],
   "source": [
    "df['multiple_lines'].unique()"
   ]
  },
  {
   "cell_type": "code",
   "execution_count": 49,
   "metadata": {},
   "outputs": [
    {
     "data": {
      "text/plain": [
       "0.0    3390\n",
       "1.0    2971\n",
       "Name: multiple_lines, dtype: int64"
      ]
     },
     "execution_count": 49,
     "metadata": {},
     "output_type": "execute_result"
    }
   ],
   "source": [
    "df['multiple_lines'].value_counts()"
   ]
  },
  {
   "cell_type": "markdown",
   "metadata": {},
   "source": [
    "в этой колонке есть странно обьяснимые пропуски при наличии нулей; с одной стороны не хочется заполнять пропуски если нет возможности сделать это правильно однако признак может быть не важным, а при удалении строки могут пострадать куда более важные, а данных итак немного; есть смысл проверить как изменятся метрики после заполнения\n",
    "\n",
    "upd при заполнении нулями дало рост метрики"
   ]
  },
  {
   "cell_type": "code",
   "execution_count": 50,
   "metadata": {},
   "outputs": [],
   "source": [
    "df = df.fillna(0)"
   ]
  },
  {
   "cell_type": "markdown",
   "metadata": {},
   "source": [
    "стаж клиента, общий доход и месячная наверняка попарно связаны друг через друга (так как общая прибыль = стаж(в месяцах) * месячная цена), хотя с другой стороны если удалить одно из них, например дни стажа, может оказатся что у клиента изменялись платежи и это несет важную инфу"
   ]
  },
  {
   "cell_type": "markdown",
   "metadata": {},
   "source": [
    "для сравнения оставил стаж в днях и метрики стали лучше несмотряя на логически вытекающую мультиколлинеарность"
   ]
  },
  {
   "cell_type": "markdown",
   "metadata": {},
   "source": [
    "#бэкап"
   ]
  },
  {
   "cell_type": "code",
   "execution_count": 51,
   "metadata": {},
   "outputs": [],
   "source": [
    "df2 = df.copy()"
   ]
  },
  {
   "cell_type": "markdown",
   "metadata": {},
   "source": [
    "удалим переменные с датами согласно тз"
   ]
  },
  {
   "cell_type": "code",
   "execution_count": 52,
   "metadata": {},
   "outputs": [],
   "source": [
    "df = df.drop('begin_date', axis=1)\n",
    "df = df.drop('end_date', axis=1)"
   ]
  },
  {
   "cell_type": "code",
   "execution_count": 53,
   "metadata": {},
   "outputs": [
    {
     "data": {
      "text/html": [
       "<div>\n",
       "<style scoped>\n",
       "    .dataframe tbody tr th:only-of-type {\n",
       "        vertical-align: middle;\n",
       "    }\n",
       "\n",
       "    .dataframe tbody tr th {\n",
       "        vertical-align: top;\n",
       "    }\n",
       "\n",
       "    .dataframe thead th {\n",
       "        text-align: right;\n",
       "    }\n",
       "</style>\n",
       "<table border=\"1\" class=\"dataframe\">\n",
       "  <thead>\n",
       "    <tr style=\"text-align: right;\">\n",
       "      <th></th>\n",
       "      <th>customer_id</th>\n",
       "      <th>type</th>\n",
       "      <th>paperless_billing</th>\n",
       "      <th>payment_method</th>\n",
       "      <th>monthly_charges</th>\n",
       "      <th>total_charges</th>\n",
       "      <th>internet_service</th>\n",
       "      <th>online_security</th>\n",
       "      <th>online_backup</th>\n",
       "      <th>device_protection</th>\n",
       "      <th>tech_support</th>\n",
       "      <th>streaming_tv</th>\n",
       "      <th>streaming_movies</th>\n",
       "      <th>gender</th>\n",
       "      <th>senior_citizen</th>\n",
       "      <th>partner</th>\n",
       "      <th>dependents</th>\n",
       "      <th>multiple_lines</th>\n",
       "      <th>target</th>\n",
       "      <th>duration</th>\n",
       "    </tr>\n",
       "  </thead>\n",
       "  <tbody>\n",
       "    <tr>\n",
       "      <th>0</th>\n",
       "      <td>7590-VHVEG</td>\n",
       "      <td>Month-to-month</td>\n",
       "      <td>1</td>\n",
       "      <td>Electronic check</td>\n",
       "      <td>29.85</td>\n",
       "      <td>29.85</td>\n",
       "      <td>DSL</td>\n",
       "      <td>0</td>\n",
       "      <td>1</td>\n",
       "      <td>0</td>\n",
       "      <td>0</td>\n",
       "      <td>0</td>\n",
       "      <td>0</td>\n",
       "      <td>0</td>\n",
       "      <td>0</td>\n",
       "      <td>1</td>\n",
       "      <td>0</td>\n",
       "      <td>0.0</td>\n",
       "      <td>0</td>\n",
       "      <td>31</td>\n",
       "    </tr>\n",
       "    <tr>\n",
       "      <th>1</th>\n",
       "      <td>5575-GNVDE</td>\n",
       "      <td>One year</td>\n",
       "      <td>0</td>\n",
       "      <td>Mailed check</td>\n",
       "      <td>56.95</td>\n",
       "      <td>1889.5</td>\n",
       "      <td>DSL</td>\n",
       "      <td>1</td>\n",
       "      <td>0</td>\n",
       "      <td>1</td>\n",
       "      <td>0</td>\n",
       "      <td>0</td>\n",
       "      <td>0</td>\n",
       "      <td>1</td>\n",
       "      <td>0</td>\n",
       "      <td>0</td>\n",
       "      <td>0</td>\n",
       "      <td>0.0</td>\n",
       "      <td>0</td>\n",
       "      <td>1036</td>\n",
       "    </tr>\n",
       "    <tr>\n",
       "      <th>2</th>\n",
       "      <td>3668-QPYBK</td>\n",
       "      <td>Month-to-month</td>\n",
       "      <td>1</td>\n",
       "      <td>Mailed check</td>\n",
       "      <td>53.85</td>\n",
       "      <td>108.15</td>\n",
       "      <td>DSL</td>\n",
       "      <td>1</td>\n",
       "      <td>1</td>\n",
       "      <td>0</td>\n",
       "      <td>0</td>\n",
       "      <td>0</td>\n",
       "      <td>0</td>\n",
       "      <td>1</td>\n",
       "      <td>0</td>\n",
       "      <td>0</td>\n",
       "      <td>0</td>\n",
       "      <td>0.0</td>\n",
       "      <td>1</td>\n",
       "      <td>61</td>\n",
       "    </tr>\n",
       "    <tr>\n",
       "      <th>3</th>\n",
       "      <td>7795-CFOCW</td>\n",
       "      <td>One year</td>\n",
       "      <td>0</td>\n",
       "      <td>Bank transfer (automatic)</td>\n",
       "      <td>42.30</td>\n",
       "      <td>1840.75</td>\n",
       "      <td>DSL</td>\n",
       "      <td>1</td>\n",
       "      <td>0</td>\n",
       "      <td>1</td>\n",
       "      <td>1</td>\n",
       "      <td>0</td>\n",
       "      <td>0</td>\n",
       "      <td>1</td>\n",
       "      <td>0</td>\n",
       "      <td>0</td>\n",
       "      <td>0</td>\n",
       "      <td>0.0</td>\n",
       "      <td>0</td>\n",
       "      <td>1371</td>\n",
       "    </tr>\n",
       "    <tr>\n",
       "      <th>4</th>\n",
       "      <td>9237-HQITU</td>\n",
       "      <td>Month-to-month</td>\n",
       "      <td>1</td>\n",
       "      <td>Electronic check</td>\n",
       "      <td>70.70</td>\n",
       "      <td>151.65</td>\n",
       "      <td>Fiber optic</td>\n",
       "      <td>0</td>\n",
       "      <td>0</td>\n",
       "      <td>0</td>\n",
       "      <td>0</td>\n",
       "      <td>0</td>\n",
       "      <td>0</td>\n",
       "      <td>0</td>\n",
       "      <td>0</td>\n",
       "      <td>0</td>\n",
       "      <td>0</td>\n",
       "      <td>0.0</td>\n",
       "      <td>1</td>\n",
       "      <td>61</td>\n",
       "    </tr>\n",
       "  </tbody>\n",
       "</table>\n",
       "</div>"
      ],
      "text/plain": [
       "  customer_id            type  paperless_billing             payment_method  \\\n",
       "0  7590-VHVEG  Month-to-month                  1           Electronic check   \n",
       "1  5575-GNVDE        One year                  0               Mailed check   \n",
       "2  3668-QPYBK  Month-to-month                  1               Mailed check   \n",
       "3  7795-CFOCW        One year                  0  Bank transfer (automatic)   \n",
       "4  9237-HQITU  Month-to-month                  1           Electronic check   \n",
       "\n",
       "   monthly_charges total_charges internet_service  online_security  \\\n",
       "0            29.85         29.85              DSL                0   \n",
       "1            56.95        1889.5              DSL                1   \n",
       "2            53.85        108.15              DSL                1   \n",
       "3            42.30       1840.75              DSL                1   \n",
       "4            70.70        151.65      Fiber optic                0   \n",
       "\n",
       "   online_backup  device_protection  tech_support  streaming_tv  \\\n",
       "0              1                  0             0             0   \n",
       "1              0                  1             0             0   \n",
       "2              1                  0             0             0   \n",
       "3              0                  1             1             0   \n",
       "4              0                  0             0             0   \n",
       "\n",
       "   streaming_movies  gender  senior_citizen  partner  dependents  \\\n",
       "0                 0       0               0        1           0   \n",
       "1                 0       1               0        0           0   \n",
       "2                 0       1               0        0           0   \n",
       "3                 0       1               0        0           0   \n",
       "4                 0       0               0        0           0   \n",
       "\n",
       "   multiple_lines  target  duration  \n",
       "0             0.0       0        31  \n",
       "1             0.0       0      1036  \n",
       "2             0.0       1        61  \n",
       "3             0.0       0      1371  \n",
       "4             0.0       1        61  "
      ]
     },
     "execution_count": 53,
     "metadata": {},
     "output_type": "execute_result"
    }
   ],
   "source": [
    "df.head()"
   ]
  },
  {
   "cell_type": "code",
   "execution_count": 54,
   "metadata": {},
   "outputs": [],
   "source": [
    "df = df.set_index('customer_id')"
   ]
  },
  {
   "cell_type": "code",
   "execution_count": 55,
   "metadata": {},
   "outputs": [
    {
     "name": "stdout",
     "output_type": "stream",
     "text": [
      "<class 'pandas.core.frame.DataFrame'>\n",
      "Index: 7043 entries, 7590-VHVEG to 3186-AJIEK\n",
      "Data columns (total 19 columns):\n",
      " #   Column             Non-Null Count  Dtype  \n",
      "---  ------             --------------  -----  \n",
      " 0   type               7043 non-null   object \n",
      " 1   paperless_billing  7043 non-null   int64  \n",
      " 2   payment_method     7043 non-null   object \n",
      " 3   monthly_charges    7043 non-null   float64\n",
      " 4   total_charges      7043 non-null   object \n",
      " 5   internet_service   7043 non-null   object \n",
      " 6   online_security    7043 non-null   int64  \n",
      " 7   online_backup      7043 non-null   int64  \n",
      " 8   device_protection  7043 non-null   int64  \n",
      " 9   tech_support       7043 non-null   int64  \n",
      " 10  streaming_tv       7043 non-null   int64  \n",
      " 11  streaming_movies   7043 non-null   int64  \n",
      " 12  gender             7043 non-null   int64  \n",
      " 13  senior_citizen     7043 non-null   int64  \n",
      " 14  partner            7043 non-null   int64  \n",
      " 15  dependents         7043 non-null   int64  \n",
      " 16  multiple_lines     7043 non-null   float64\n",
      " 17  target             7043 non-null   int64  \n",
      " 18  duration           7043 non-null   int64  \n",
      "dtypes: float64(2), int64(13), object(4)\n",
      "memory usage: 1.1+ MB\n"
     ]
    }
   ],
   "source": [
    "df.info()"
   ]
  },
  {
   "cell_type": "code",
   "execution_count": 56,
   "metadata": {},
   "outputs": [],
   "source": [
    "df['target'] = df['target'].astype(int)\n",
    "df['multiple_lines'] = df['multiple_lines'].astype(int)"
   ]
  },
  {
   "cell_type": "markdown",
   "metadata": {},
   "source": [
    "total_charges имеет смешанное заполнение и тип object; есть неявные пропуски заполненные как ' ' в строковом формате"
   ]
  },
  {
   "cell_type": "code",
   "execution_count": 57,
   "metadata": {},
   "outputs": [
    {
     "data": {
      "text/plain": [
       "type                 11\n",
       "paperless_billing    11\n",
       "payment_method       11\n",
       "monthly_charges      11\n",
       "total_charges        11\n",
       "internet_service     11\n",
       "online_security      11\n",
       "online_backup        11\n",
       "device_protection    11\n",
       "tech_support         11\n",
       "streaming_tv         11\n",
       "streaming_movies     11\n",
       "gender               11\n",
       "senior_citizen       11\n",
       "partner              11\n",
       "dependents           11\n",
       "multiple_lines       11\n",
       "target               11\n",
       "duration             11\n",
       "dtype: int64"
      ]
     },
     "execution_count": 57,
     "metadata": {},
     "output_type": "execute_result"
    }
   ],
   "source": [
    "df[df['total_charges']==' '].count()"
   ]
  },
  {
   "cell_type": "code",
   "execution_count": 58,
   "metadata": {},
   "outputs": [
    {
     "data": {
      "text/html": [
       "<div>\n",
       "<style scoped>\n",
       "    .dataframe tbody tr th:only-of-type {\n",
       "        vertical-align: middle;\n",
       "    }\n",
       "\n",
       "    .dataframe tbody tr th {\n",
       "        vertical-align: top;\n",
       "    }\n",
       "\n",
       "    .dataframe thead th {\n",
       "        text-align: right;\n",
       "    }\n",
       "</style>\n",
       "<table border=\"1\" class=\"dataframe\">\n",
       "  <thead>\n",
       "    <tr style=\"text-align: right;\">\n",
       "      <th></th>\n",
       "      <th>type</th>\n",
       "      <th>paperless_billing</th>\n",
       "      <th>payment_method</th>\n",
       "      <th>monthly_charges</th>\n",
       "      <th>total_charges</th>\n",
       "      <th>internet_service</th>\n",
       "      <th>online_security</th>\n",
       "      <th>online_backup</th>\n",
       "      <th>device_protection</th>\n",
       "      <th>tech_support</th>\n",
       "      <th>streaming_tv</th>\n",
       "      <th>streaming_movies</th>\n",
       "      <th>gender</th>\n",
       "      <th>senior_citizen</th>\n",
       "      <th>partner</th>\n",
       "      <th>dependents</th>\n",
       "      <th>multiple_lines</th>\n",
       "      <th>target</th>\n",
       "      <th>duration</th>\n",
       "    </tr>\n",
       "    <tr>\n",
       "      <th>customer_id</th>\n",
       "      <th></th>\n",
       "      <th></th>\n",
       "      <th></th>\n",
       "      <th></th>\n",
       "      <th></th>\n",
       "      <th></th>\n",
       "      <th></th>\n",
       "      <th></th>\n",
       "      <th></th>\n",
       "      <th></th>\n",
       "      <th></th>\n",
       "      <th></th>\n",
       "      <th></th>\n",
       "      <th></th>\n",
       "      <th></th>\n",
       "      <th></th>\n",
       "      <th></th>\n",
       "      <th></th>\n",
       "      <th></th>\n",
       "    </tr>\n",
       "  </thead>\n",
       "  <tbody>\n",
       "    <tr>\n",
       "      <th>4472-LVYGI</th>\n",
       "      <td>Two year</td>\n",
       "      <td>1</td>\n",
       "      <td>Bank transfer (automatic)</td>\n",
       "      <td>52.55</td>\n",
       "      <td></td>\n",
       "      <td>DSL</td>\n",
       "      <td>1</td>\n",
       "      <td>0</td>\n",
       "      <td>1</td>\n",
       "      <td>1</td>\n",
       "      <td>1</td>\n",
       "      <td>0</td>\n",
       "      <td>0</td>\n",
       "      <td>0</td>\n",
       "      <td>1</td>\n",
       "      <td>1</td>\n",
       "      <td>0</td>\n",
       "      <td>0</td>\n",
       "      <td>0</td>\n",
       "    </tr>\n",
       "    <tr>\n",
       "      <th>3115-CZMZD</th>\n",
       "      <td>Two year</td>\n",
       "      <td>0</td>\n",
       "      <td>Mailed check</td>\n",
       "      <td>20.25</td>\n",
       "      <td></td>\n",
       "      <td>unknown</td>\n",
       "      <td>0</td>\n",
       "      <td>0</td>\n",
       "      <td>0</td>\n",
       "      <td>0</td>\n",
       "      <td>0</td>\n",
       "      <td>0</td>\n",
       "      <td>1</td>\n",
       "      <td>0</td>\n",
       "      <td>0</td>\n",
       "      <td>1</td>\n",
       "      <td>0</td>\n",
       "      <td>0</td>\n",
       "      <td>0</td>\n",
       "    </tr>\n",
       "    <tr>\n",
       "      <th>5709-LVOEQ</th>\n",
       "      <td>Two year</td>\n",
       "      <td>0</td>\n",
       "      <td>Mailed check</td>\n",
       "      <td>80.85</td>\n",
       "      <td></td>\n",
       "      <td>DSL</td>\n",
       "      <td>1</td>\n",
       "      <td>1</td>\n",
       "      <td>1</td>\n",
       "      <td>0</td>\n",
       "      <td>1</td>\n",
       "      <td>1</td>\n",
       "      <td>0</td>\n",
       "      <td>0</td>\n",
       "      <td>1</td>\n",
       "      <td>1</td>\n",
       "      <td>0</td>\n",
       "      <td>0</td>\n",
       "      <td>0</td>\n",
       "    </tr>\n",
       "    <tr>\n",
       "      <th>4367-NUYAO</th>\n",
       "      <td>Two year</td>\n",
       "      <td>0</td>\n",
       "      <td>Mailed check</td>\n",
       "      <td>25.75</td>\n",
       "      <td></td>\n",
       "      <td>unknown</td>\n",
       "      <td>0</td>\n",
       "      <td>0</td>\n",
       "      <td>0</td>\n",
       "      <td>0</td>\n",
       "      <td>0</td>\n",
       "      <td>0</td>\n",
       "      <td>1</td>\n",
       "      <td>0</td>\n",
       "      <td>1</td>\n",
       "      <td>1</td>\n",
       "      <td>1</td>\n",
       "      <td>0</td>\n",
       "      <td>0</td>\n",
       "    </tr>\n",
       "    <tr>\n",
       "      <th>1371-DWPAZ</th>\n",
       "      <td>Two year</td>\n",
       "      <td>0</td>\n",
       "      <td>Credit card (automatic)</td>\n",
       "      <td>56.05</td>\n",
       "      <td></td>\n",
       "      <td>DSL</td>\n",
       "      <td>1</td>\n",
       "      <td>1</td>\n",
       "      <td>1</td>\n",
       "      <td>1</td>\n",
       "      <td>1</td>\n",
       "      <td>0</td>\n",
       "      <td>0</td>\n",
       "      <td>0</td>\n",
       "      <td>1</td>\n",
       "      <td>1</td>\n",
       "      <td>0</td>\n",
       "      <td>0</td>\n",
       "      <td>0</td>\n",
       "    </tr>\n",
       "    <tr>\n",
       "      <th>7644-OMVMY</th>\n",
       "      <td>Two year</td>\n",
       "      <td>0</td>\n",
       "      <td>Mailed check</td>\n",
       "      <td>19.85</td>\n",
       "      <td></td>\n",
       "      <td>unknown</td>\n",
       "      <td>0</td>\n",
       "      <td>0</td>\n",
       "      <td>0</td>\n",
       "      <td>0</td>\n",
       "      <td>0</td>\n",
       "      <td>0</td>\n",
       "      <td>1</td>\n",
       "      <td>0</td>\n",
       "      <td>1</td>\n",
       "      <td>1</td>\n",
       "      <td>0</td>\n",
       "      <td>0</td>\n",
       "      <td>0</td>\n",
       "    </tr>\n",
       "    <tr>\n",
       "      <th>3213-VVOLG</th>\n",
       "      <td>Two year</td>\n",
       "      <td>0</td>\n",
       "      <td>Mailed check</td>\n",
       "      <td>25.35</td>\n",
       "      <td></td>\n",
       "      <td>unknown</td>\n",
       "      <td>0</td>\n",
       "      <td>0</td>\n",
       "      <td>0</td>\n",
       "      <td>0</td>\n",
       "      <td>0</td>\n",
       "      <td>0</td>\n",
       "      <td>1</td>\n",
       "      <td>0</td>\n",
       "      <td>1</td>\n",
       "      <td>1</td>\n",
       "      <td>1</td>\n",
       "      <td>0</td>\n",
       "      <td>0</td>\n",
       "    </tr>\n",
       "    <tr>\n",
       "      <th>2520-SGTTA</th>\n",
       "      <td>Two year</td>\n",
       "      <td>0</td>\n",
       "      <td>Mailed check</td>\n",
       "      <td>20.00</td>\n",
       "      <td></td>\n",
       "      <td>unknown</td>\n",
       "      <td>0</td>\n",
       "      <td>0</td>\n",
       "      <td>0</td>\n",
       "      <td>0</td>\n",
       "      <td>0</td>\n",
       "      <td>0</td>\n",
       "      <td>0</td>\n",
       "      <td>0</td>\n",
       "      <td>1</td>\n",
       "      <td>1</td>\n",
       "      <td>0</td>\n",
       "      <td>0</td>\n",
       "      <td>0</td>\n",
       "    </tr>\n",
       "    <tr>\n",
       "      <th>2923-ARZLG</th>\n",
       "      <td>One year</td>\n",
       "      <td>1</td>\n",
       "      <td>Mailed check</td>\n",
       "      <td>19.70</td>\n",
       "      <td></td>\n",
       "      <td>unknown</td>\n",
       "      <td>0</td>\n",
       "      <td>0</td>\n",
       "      <td>0</td>\n",
       "      <td>0</td>\n",
       "      <td>0</td>\n",
       "      <td>0</td>\n",
       "      <td>1</td>\n",
       "      <td>0</td>\n",
       "      <td>1</td>\n",
       "      <td>1</td>\n",
       "      <td>0</td>\n",
       "      <td>0</td>\n",
       "      <td>0</td>\n",
       "    </tr>\n",
       "    <tr>\n",
       "      <th>4075-WKNIU</th>\n",
       "      <td>Two year</td>\n",
       "      <td>0</td>\n",
       "      <td>Mailed check</td>\n",
       "      <td>73.35</td>\n",
       "      <td></td>\n",
       "      <td>DSL</td>\n",
       "      <td>0</td>\n",
       "      <td>1</td>\n",
       "      <td>1</td>\n",
       "      <td>1</td>\n",
       "      <td>1</td>\n",
       "      <td>0</td>\n",
       "      <td>0</td>\n",
       "      <td>0</td>\n",
       "      <td>1</td>\n",
       "      <td>1</td>\n",
       "      <td>1</td>\n",
       "      <td>0</td>\n",
       "      <td>0</td>\n",
       "    </tr>\n",
       "    <tr>\n",
       "      <th>2775-SEFEE</th>\n",
       "      <td>Two year</td>\n",
       "      <td>1</td>\n",
       "      <td>Bank transfer (automatic)</td>\n",
       "      <td>61.90</td>\n",
       "      <td></td>\n",
       "      <td>DSL</td>\n",
       "      <td>1</td>\n",
       "      <td>1</td>\n",
       "      <td>0</td>\n",
       "      <td>1</td>\n",
       "      <td>0</td>\n",
       "      <td>0</td>\n",
       "      <td>1</td>\n",
       "      <td>0</td>\n",
       "      <td>0</td>\n",
       "      <td>1</td>\n",
       "      <td>1</td>\n",
       "      <td>0</td>\n",
       "      <td>0</td>\n",
       "    </tr>\n",
       "  </tbody>\n",
       "</table>\n",
       "</div>"
      ],
      "text/plain": [
       "                 type  paperless_billing             payment_method  \\\n",
       "customer_id                                                           \n",
       "4472-LVYGI   Two year                  1  Bank transfer (automatic)   \n",
       "3115-CZMZD   Two year                  0               Mailed check   \n",
       "5709-LVOEQ   Two year                  0               Mailed check   \n",
       "4367-NUYAO   Two year                  0               Mailed check   \n",
       "1371-DWPAZ   Two year                  0    Credit card (automatic)   \n",
       "7644-OMVMY   Two year                  0               Mailed check   \n",
       "3213-VVOLG   Two year                  0               Mailed check   \n",
       "2520-SGTTA   Two year                  0               Mailed check   \n",
       "2923-ARZLG   One year                  1               Mailed check   \n",
       "4075-WKNIU   Two year                  0               Mailed check   \n",
       "2775-SEFEE   Two year                  1  Bank transfer (automatic)   \n",
       "\n",
       "             monthly_charges total_charges internet_service  online_security  \\\n",
       "customer_id                                                                    \n",
       "4472-LVYGI             52.55                            DSL                1   \n",
       "3115-CZMZD             20.25                        unknown                0   \n",
       "5709-LVOEQ             80.85                            DSL                1   \n",
       "4367-NUYAO             25.75                        unknown                0   \n",
       "1371-DWPAZ             56.05                            DSL                1   \n",
       "7644-OMVMY             19.85                        unknown                0   \n",
       "3213-VVOLG             25.35                        unknown                0   \n",
       "2520-SGTTA             20.00                        unknown                0   \n",
       "2923-ARZLG             19.70                        unknown                0   \n",
       "4075-WKNIU             73.35                            DSL                0   \n",
       "2775-SEFEE             61.90                            DSL                1   \n",
       "\n",
       "             online_backup  device_protection  tech_support  streaming_tv  \\\n",
       "customer_id                                                                 \n",
       "4472-LVYGI               0                  1             1             1   \n",
       "3115-CZMZD               0                  0             0             0   \n",
       "5709-LVOEQ               1                  1             0             1   \n",
       "4367-NUYAO               0                  0             0             0   \n",
       "1371-DWPAZ               1                  1             1             1   \n",
       "7644-OMVMY               0                  0             0             0   \n",
       "3213-VVOLG               0                  0             0             0   \n",
       "2520-SGTTA               0                  0             0             0   \n",
       "2923-ARZLG               0                  0             0             0   \n",
       "4075-WKNIU               1                  1             1             1   \n",
       "2775-SEFEE               1                  0             1             0   \n",
       "\n",
       "             streaming_movies  gender  senior_citizen  partner  dependents  \\\n",
       "customer_id                                                                  \n",
       "4472-LVYGI                  0       0               0        1           1   \n",
       "3115-CZMZD                  0       1               0        0           1   \n",
       "5709-LVOEQ                  1       0               0        1           1   \n",
       "4367-NUYAO                  0       1               0        1           1   \n",
       "1371-DWPAZ                  0       0               0        1           1   \n",
       "7644-OMVMY                  0       1               0        1           1   \n",
       "3213-VVOLG                  0       1               0        1           1   \n",
       "2520-SGTTA                  0       0               0        1           1   \n",
       "2923-ARZLG                  0       1               0        1           1   \n",
       "4075-WKNIU                  0       0               0        1           1   \n",
       "2775-SEFEE                  0       1               0        0           1   \n",
       "\n",
       "             multiple_lines  target  duration  \n",
       "customer_id                                    \n",
       "4472-LVYGI                0       0         0  \n",
       "3115-CZMZD                0       0         0  \n",
       "5709-LVOEQ                0       0         0  \n",
       "4367-NUYAO                1       0         0  \n",
       "1371-DWPAZ                0       0         0  \n",
       "7644-OMVMY                0       0         0  \n",
       "3213-VVOLG                1       0         0  \n",
       "2520-SGTTA                0       0         0  \n",
       "2923-ARZLG                0       0         0  \n",
       "4075-WKNIU                1       0         0  \n",
       "2775-SEFEE                1       0         0  "
      ]
     },
     "execution_count": 58,
     "metadata": {},
     "output_type": "execute_result"
    }
   ],
   "source": [
    "df[df['total_charges']==' ']"
   ]
  },
  {
   "cell_type": "markdown",
   "metadata": {},
   "source": [
    "эти пропуски соответсвуют новым клиентам;\n",
    "новые клиенты с нулевым стажем, здесь уместно спросить у заказчкика когда на каком этапе подводится \"баланс\" по забаботку, в начале месяца или по факту оказания услуги;\n",
    "проверим на примере клиентов с месячным стажем"
   ]
  },
  {
   "cell_type": "code",
   "execution_count": 59,
   "metadata": {},
   "outputs": [
    {
     "data": {
      "text/html": [
       "<div>\n",
       "<style scoped>\n",
       "    .dataframe tbody tr th:only-of-type {\n",
       "        vertical-align: middle;\n",
       "    }\n",
       "\n",
       "    .dataframe tbody tr th {\n",
       "        vertical-align: top;\n",
       "    }\n",
       "\n",
       "    .dataframe thead th {\n",
       "        text-align: right;\n",
       "    }\n",
       "</style>\n",
       "<table border=\"1\" class=\"dataframe\">\n",
       "  <thead>\n",
       "    <tr style=\"text-align: right;\">\n",
       "      <th></th>\n",
       "      <th>type</th>\n",
       "      <th>paperless_billing</th>\n",
       "      <th>payment_method</th>\n",
       "      <th>monthly_charges</th>\n",
       "      <th>total_charges</th>\n",
       "      <th>internet_service</th>\n",
       "      <th>online_security</th>\n",
       "      <th>online_backup</th>\n",
       "      <th>device_protection</th>\n",
       "      <th>tech_support</th>\n",
       "      <th>streaming_tv</th>\n",
       "      <th>streaming_movies</th>\n",
       "      <th>gender</th>\n",
       "      <th>senior_citizen</th>\n",
       "      <th>partner</th>\n",
       "      <th>dependents</th>\n",
       "      <th>multiple_lines</th>\n",
       "      <th>target</th>\n",
       "      <th>duration</th>\n",
       "    </tr>\n",
       "    <tr>\n",
       "      <th>customer_id</th>\n",
       "      <th></th>\n",
       "      <th></th>\n",
       "      <th></th>\n",
       "      <th></th>\n",
       "      <th></th>\n",
       "      <th></th>\n",
       "      <th></th>\n",
       "      <th></th>\n",
       "      <th></th>\n",
       "      <th></th>\n",
       "      <th></th>\n",
       "      <th></th>\n",
       "      <th></th>\n",
       "      <th></th>\n",
       "      <th></th>\n",
       "      <th></th>\n",
       "      <th></th>\n",
       "      <th></th>\n",
       "      <th></th>\n",
       "    </tr>\n",
       "  </thead>\n",
       "  <tbody>\n",
       "    <tr>\n",
       "      <th>7590-VHVEG</th>\n",
       "      <td>Month-to-month</td>\n",
       "      <td>1</td>\n",
       "      <td>Electronic check</td>\n",
       "      <td>29.85</td>\n",
       "      <td>29.85</td>\n",
       "      <td>DSL</td>\n",
       "      <td>0</td>\n",
       "      <td>1</td>\n",
       "      <td>0</td>\n",
       "      <td>0</td>\n",
       "      <td>0</td>\n",
       "      <td>0</td>\n",
       "      <td>0</td>\n",
       "      <td>0</td>\n",
       "      <td>1</td>\n",
       "      <td>0</td>\n",
       "      <td>0</td>\n",
       "      <td>0</td>\n",
       "      <td>31</td>\n",
       "    </tr>\n",
       "    <tr>\n",
       "      <th>7310-EGVHZ</th>\n",
       "      <td>Month-to-month</td>\n",
       "      <td>0</td>\n",
       "      <td>Bank transfer (automatic)</td>\n",
       "      <td>20.20</td>\n",
       "      <td>20.2</td>\n",
       "      <td>unknown</td>\n",
       "      <td>0</td>\n",
       "      <td>0</td>\n",
       "      <td>0</td>\n",
       "      <td>0</td>\n",
       "      <td>0</td>\n",
       "      <td>0</td>\n",
       "      <td>1</td>\n",
       "      <td>0</td>\n",
       "      <td>0</td>\n",
       "      <td>0</td>\n",
       "      <td>0</td>\n",
       "      <td>0</td>\n",
       "      <td>31</td>\n",
       "    </tr>\n",
       "    <tr>\n",
       "      <th>3413-BMNZE</th>\n",
       "      <td>Month-to-month</td>\n",
       "      <td>0</td>\n",
       "      <td>Bank transfer (automatic)</td>\n",
       "      <td>45.25</td>\n",
       "      <td>45.25</td>\n",
       "      <td>DSL</td>\n",
       "      <td>0</td>\n",
       "      <td>0</td>\n",
       "      <td>0</td>\n",
       "      <td>0</td>\n",
       "      <td>0</td>\n",
       "      <td>0</td>\n",
       "      <td>1</td>\n",
       "      <td>1</td>\n",
       "      <td>0</td>\n",
       "      <td>0</td>\n",
       "      <td>0</td>\n",
       "      <td>0</td>\n",
       "      <td>31</td>\n",
       "    </tr>\n",
       "    <tr>\n",
       "      <th>2273-QCKXA</th>\n",
       "      <td>Month-to-month</td>\n",
       "      <td>0</td>\n",
       "      <td>Mailed check</td>\n",
       "      <td>49.05</td>\n",
       "      <td>49.05</td>\n",
       "      <td>DSL</td>\n",
       "      <td>0</td>\n",
       "      <td>0</td>\n",
       "      <td>0</td>\n",
       "      <td>1</td>\n",
       "      <td>0</td>\n",
       "      <td>0</td>\n",
       "      <td>1</td>\n",
       "      <td>0</td>\n",
       "      <td>0</td>\n",
       "      <td>0</td>\n",
       "      <td>0</td>\n",
       "      <td>0</td>\n",
       "      <td>31</td>\n",
       "    </tr>\n",
       "    <tr>\n",
       "      <th>2424-WVHPL</th>\n",
       "      <td>Month-to-month</td>\n",
       "      <td>0</td>\n",
       "      <td>Electronic check</td>\n",
       "      <td>74.70</td>\n",
       "      <td>74.7</td>\n",
       "      <td>Fiber optic</td>\n",
       "      <td>0</td>\n",
       "      <td>0</td>\n",
       "      <td>0</td>\n",
       "      <td>1</td>\n",
       "      <td>0</td>\n",
       "      <td>0</td>\n",
       "      <td>1</td>\n",
       "      <td>1</td>\n",
       "      <td>0</td>\n",
       "      <td>0</td>\n",
       "      <td>0</td>\n",
       "      <td>0</td>\n",
       "      <td>31</td>\n",
       "    </tr>\n",
       "    <tr>\n",
       "      <th>...</th>\n",
       "      <td>...</td>\n",
       "      <td>...</td>\n",
       "      <td>...</td>\n",
       "      <td>...</td>\n",
       "      <td>...</td>\n",
       "      <td>...</td>\n",
       "      <td>...</td>\n",
       "      <td>...</td>\n",
       "      <td>...</td>\n",
       "      <td>...</td>\n",
       "      <td>...</td>\n",
       "      <td>...</td>\n",
       "      <td>...</td>\n",
       "      <td>...</td>\n",
       "      <td>...</td>\n",
       "      <td>...</td>\n",
       "      <td>...</td>\n",
       "      <td>...</td>\n",
       "      <td>...</td>\n",
       "    </tr>\n",
       "    <tr>\n",
       "      <th>0032-PGELS</th>\n",
       "      <td>Month-to-month</td>\n",
       "      <td>0</td>\n",
       "      <td>Bank transfer (automatic)</td>\n",
       "      <td>30.50</td>\n",
       "      <td>30.5</td>\n",
       "      <td>DSL</td>\n",
       "      <td>1</td>\n",
       "      <td>0</td>\n",
       "      <td>0</td>\n",
       "      <td>0</td>\n",
       "      <td>0</td>\n",
       "      <td>0</td>\n",
       "      <td>0</td>\n",
       "      <td>0</td>\n",
       "      <td>1</td>\n",
       "      <td>1</td>\n",
       "      <td>0</td>\n",
       "      <td>1</td>\n",
       "      <td>31</td>\n",
       "    </tr>\n",
       "    <tr>\n",
       "      <th>5351-QESIO</th>\n",
       "      <td>Month-to-month</td>\n",
       "      <td>0</td>\n",
       "      <td>Mailed check</td>\n",
       "      <td>24.20</td>\n",
       "      <td>24.2</td>\n",
       "      <td>DSL</td>\n",
       "      <td>0</td>\n",
       "      <td>0</td>\n",
       "      <td>0</td>\n",
       "      <td>0</td>\n",
       "      <td>0</td>\n",
       "      <td>0</td>\n",
       "      <td>1</td>\n",
       "      <td>0</td>\n",
       "      <td>0</td>\n",
       "      <td>1</td>\n",
       "      <td>0</td>\n",
       "      <td>0</td>\n",
       "      <td>31</td>\n",
       "    </tr>\n",
       "    <tr>\n",
       "      <th>1471-GIQKQ</th>\n",
       "      <td>Month-to-month</td>\n",
       "      <td>0</td>\n",
       "      <td>Electronic check</td>\n",
       "      <td>49.95</td>\n",
       "      <td>49.95</td>\n",
       "      <td>DSL</td>\n",
       "      <td>0</td>\n",
       "      <td>1</td>\n",
       "      <td>0</td>\n",
       "      <td>0</td>\n",
       "      <td>0</td>\n",
       "      <td>0</td>\n",
       "      <td>0</td>\n",
       "      <td>0</td>\n",
       "      <td>0</td>\n",
       "      <td>0</td>\n",
       "      <td>0</td>\n",
       "      <td>0</td>\n",
       "      <td>31</td>\n",
       "    </tr>\n",
       "    <tr>\n",
       "      <th>1122-JWTJW</th>\n",
       "      <td>Month-to-month</td>\n",
       "      <td>1</td>\n",
       "      <td>Mailed check</td>\n",
       "      <td>70.65</td>\n",
       "      <td>70.65</td>\n",
       "      <td>Fiber optic</td>\n",
       "      <td>0</td>\n",
       "      <td>0</td>\n",
       "      <td>0</td>\n",
       "      <td>0</td>\n",
       "      <td>0</td>\n",
       "      <td>0</td>\n",
       "      <td>1</td>\n",
       "      <td>0</td>\n",
       "      <td>1</td>\n",
       "      <td>1</td>\n",
       "      <td>0</td>\n",
       "      <td>1</td>\n",
       "      <td>31</td>\n",
       "    </tr>\n",
       "    <tr>\n",
       "      <th>6894-LFHLY</th>\n",
       "      <td>Month-to-month</td>\n",
       "      <td>1</td>\n",
       "      <td>Electronic check</td>\n",
       "      <td>75.75</td>\n",
       "      <td>75.75</td>\n",
       "      <td>Fiber optic</td>\n",
       "      <td>0</td>\n",
       "      <td>0</td>\n",
       "      <td>0</td>\n",
       "      <td>0</td>\n",
       "      <td>0</td>\n",
       "      <td>0</td>\n",
       "      <td>1</td>\n",
       "      <td>1</td>\n",
       "      <td>0</td>\n",
       "      <td>0</td>\n",
       "      <td>1</td>\n",
       "      <td>1</td>\n",
       "      <td>31</td>\n",
       "    </tr>\n",
       "  </tbody>\n",
       "</table>\n",
       "<p>431 rows × 19 columns</p>\n",
       "</div>"
      ],
      "text/plain": [
       "                       type  paperless_billing             payment_method  \\\n",
       "customer_id                                                                 \n",
       "7590-VHVEG   Month-to-month                  1           Electronic check   \n",
       "7310-EGVHZ   Month-to-month                  0  Bank transfer (automatic)   \n",
       "3413-BMNZE   Month-to-month                  0  Bank transfer (automatic)   \n",
       "2273-QCKXA   Month-to-month                  0               Mailed check   \n",
       "2424-WVHPL   Month-to-month                  0           Electronic check   \n",
       "...                     ...                ...                        ...   \n",
       "0032-PGELS   Month-to-month                  0  Bank transfer (automatic)   \n",
       "5351-QESIO   Month-to-month                  0               Mailed check   \n",
       "1471-GIQKQ   Month-to-month                  0           Electronic check   \n",
       "1122-JWTJW   Month-to-month                  1               Mailed check   \n",
       "6894-LFHLY   Month-to-month                  1           Electronic check   \n",
       "\n",
       "             monthly_charges total_charges internet_service  online_security  \\\n",
       "customer_id                                                                    \n",
       "7590-VHVEG             29.85         29.85              DSL                0   \n",
       "7310-EGVHZ             20.20          20.2          unknown                0   \n",
       "3413-BMNZE             45.25         45.25              DSL                0   \n",
       "2273-QCKXA             49.05         49.05              DSL                0   \n",
       "2424-WVHPL             74.70          74.7      Fiber optic                0   \n",
       "...                      ...           ...              ...              ...   \n",
       "0032-PGELS             30.50          30.5              DSL                1   \n",
       "5351-QESIO             24.20          24.2              DSL                0   \n",
       "1471-GIQKQ             49.95         49.95              DSL                0   \n",
       "1122-JWTJW             70.65         70.65      Fiber optic                0   \n",
       "6894-LFHLY             75.75         75.75      Fiber optic                0   \n",
       "\n",
       "             online_backup  device_protection  tech_support  streaming_tv  \\\n",
       "customer_id                                                                 \n",
       "7590-VHVEG               1                  0             0             0   \n",
       "7310-EGVHZ               0                  0             0             0   \n",
       "3413-BMNZE               0                  0             0             0   \n",
       "2273-QCKXA               0                  0             1             0   \n",
       "2424-WVHPL               0                  0             1             0   \n",
       "...                    ...                ...           ...           ...   \n",
       "0032-PGELS               0                  0             0             0   \n",
       "5351-QESIO               0                  0             0             0   \n",
       "1471-GIQKQ               1                  0             0             0   \n",
       "1122-JWTJW               0                  0             0             0   \n",
       "6894-LFHLY               0                  0             0             0   \n",
       "\n",
       "             streaming_movies  gender  senior_citizen  partner  dependents  \\\n",
       "customer_id                                                                  \n",
       "7590-VHVEG                  0       0               0        1           0   \n",
       "7310-EGVHZ                  0       1               0        0           0   \n",
       "3413-BMNZE                  0       1               1        0           0   \n",
       "2273-QCKXA                  0       1               0        0           0   \n",
       "2424-WVHPL                  0       1               1        0           0   \n",
       "...                       ...     ...             ...      ...         ...   \n",
       "0032-PGELS                  0       0               0        1           1   \n",
       "5351-QESIO                  0       1               0        0           1   \n",
       "1471-GIQKQ                  0       0               0        0           0   \n",
       "1122-JWTJW                  0       1               0        1           1   \n",
       "6894-LFHLY                  0       1               1        0           0   \n",
       "\n",
       "             multiple_lines  target  duration  \n",
       "customer_id                                    \n",
       "7590-VHVEG                0       0        31  \n",
       "7310-EGVHZ                0       0        31  \n",
       "3413-BMNZE                0       0        31  \n",
       "2273-QCKXA                0       0        31  \n",
       "2424-WVHPL                0       0        31  \n",
       "...                     ...     ...       ...  \n",
       "0032-PGELS                0       1        31  \n",
       "5351-QESIO                0       0        31  \n",
       "1471-GIQKQ                0       0        31  \n",
       "1122-JWTJW                0       1        31  \n",
       "6894-LFHLY                1       1        31  \n",
       "\n",
       "[431 rows x 19 columns]"
      ]
     },
     "execution_count": 59,
     "metadata": {},
     "output_type": "execute_result"
    }
   ],
   "source": [
    "df[df['duration'] == 31]"
   ]
  },
  {
   "cell_type": "markdown",
   "metadata": {},
   "source": [
    "судя по всему средства на баланс засчитывают постфактум, заменим на нули"
   ]
  },
  {
   "cell_type": "code",
   "execution_count": 60,
   "metadata": {},
   "outputs": [],
   "source": [
    "df['total_charges'] = df['total_charges'].replace(' ', 0)"
   ]
  },
  {
   "cell_type": "code",
   "execution_count": 61,
   "metadata": {},
   "outputs": [],
   "source": [
    "df['total_charges'] = df['total_charges'].astype(float)"
   ]
  },
  {
   "cell_type": "code",
   "execution_count": 62,
   "metadata": {},
   "outputs": [
    {
     "name": "stdout",
     "output_type": "stream",
     "text": [
      "<class 'pandas.core.frame.DataFrame'>\n",
      "Index: 7043 entries, 7590-VHVEG to 3186-AJIEK\n",
      "Data columns (total 19 columns):\n",
      " #   Column             Non-Null Count  Dtype  \n",
      "---  ------             --------------  -----  \n",
      " 0   type               7043 non-null   object \n",
      " 1   paperless_billing  7043 non-null   int64  \n",
      " 2   payment_method     7043 non-null   object \n",
      " 3   monthly_charges    7043 non-null   float64\n",
      " 4   total_charges      7043 non-null   float64\n",
      " 5   internet_service   7043 non-null   object \n",
      " 6   online_security    7043 non-null   int64  \n",
      " 7   online_backup      7043 non-null   int64  \n",
      " 8   device_protection  7043 non-null   int64  \n",
      " 9   tech_support       7043 non-null   int64  \n",
      " 10  streaming_tv       7043 non-null   int64  \n",
      " 11  streaming_movies   7043 non-null   int64  \n",
      " 12  gender             7043 non-null   int64  \n",
      " 13  senior_citizen     7043 non-null   int64  \n",
      " 14  partner            7043 non-null   int64  \n",
      " 15  dependents         7043 non-null   int64  \n",
      " 16  multiple_lines     7043 non-null   int32  \n",
      " 17  target             7043 non-null   int32  \n",
      " 18  duration           7043 non-null   int64  \n",
      "dtypes: float64(2), int32(2), int64(12), object(3)\n",
      "memory usage: 1.0+ MB\n"
     ]
    }
   ],
   "source": [
    "df.info()"
   ]
  },
  {
   "cell_type": "markdown",
   "metadata": {},
   "source": [
    "создадим признаки и целевые признаки"
   ]
  },
  {
   "cell_type": "code",
   "execution_count": 63,
   "metadata": {},
   "outputs": [],
   "source": [
    "features = df.drop('target', axis=1)\n",
    "target = df['target']"
   ]
  },
  {
   "cell_type": "markdown",
   "metadata": {},
   "source": [
    "для дальнейшей обратботки; список для скалирования и перевода типа в \"категориальные\""
   ]
  },
  {
   "cell_type": "code",
   "execution_count": 64,
   "metadata": {},
   "outputs": [],
   "source": [
    "categorical = ['type', 'payment_method', 'internet_service']\n",
    "to_scale = ['monthly_charges', 'total_charges', 'duration']"
   ]
  },
  {
   "cell_type": "markdown",
   "metadata": {},
   "source": [
    "### разделение на выборки. OHE и скалирование"
   ]
  },
  {
   "cell_type": "markdown",
   "metadata": {},
   "source": [
    "разделим принаки и таргеты на тренировочную и тестовую выборки с соотношением 3\\1"
   ]
  },
  {
   "cell_type": "code",
   "execution_count": 65,
   "metadata": {},
   "outputs": [],
   "source": [
    "x_train, x_test, y_train, y_test = train_test_split(features, target, test_size=0.25, random_state=RANDOM_STATE, stratify = target)"
   ]
  },
  {
   "cell_type": "code",
   "execution_count": 66,
   "metadata": {},
   "outputs": [],
   "source": [
    "x_list = [x_train, x_test]"
   ]
  },
  {
   "cell_type": "markdown",
   "metadata": {},
   "source": [
    "проскалируем данные для корректной работы некоторых моделей;\n",
    "обучим на трейне; трансформируем трейн и тест"
   ]
  },
  {
   "cell_type": "code",
   "execution_count": 67,
   "metadata": {},
   "outputs": [],
   "source": [
    "scaler = StandardScaler()"
   ]
  },
  {
   "cell_type": "code",
   "execution_count": 68,
   "metadata": {},
   "outputs": [],
   "source": [
    "scaler.fit(x_train[to_scale])\n",
    "for el in x_list:\n",
    "    el[to_scale] = scaler.transform(el[to_scale])"
   ]
  },
  {
   "cell_type": "markdown",
   "metadata": {},
   "source": [
    "создадим вспомогательные признаки закодировав категориальные переменные; без этого некоторые модели не смогут работать; для cat и lgmb достаточно будет встроенных функций и указания на категориальность"
   ]
  },
  {
   "cell_type": "code",
   "execution_count": 69,
   "metadata": {},
   "outputs": [],
   "source": [
    "for el in x_list:\n",
    "    for cat in categorical:\n",
    "        el[cat] = el[cat].astype('category')"
   ]
  },
  {
   "cell_type": "code",
   "execution_count": 71,
   "metadata": {},
   "outputs": [],
   "source": [
    "x_train_ohe = x_train.copy()\n",
    "x_test_ohe = x_test.copy()"
   ]
  },
  {
   "cell_type": "code",
   "execution_count": 72,
   "metadata": {},
   "outputs": [],
   "source": [
    "encoder_ohe = OneHotEncoder(drop='first', handle_unknown='ignore', sparse=False)\n",
    "encoder_ohe.fit((x_train[categorical]))\n",
    "x_train_ohe[encoder_ohe.get_feature_names_out()] = encoder_ohe.transform(x_train[categorical])\n",
    "x_train_ohe = x_train_ohe.drop(categorical, axis=1)"
   ]
  },
  {
   "cell_type": "code",
   "execution_count": 73,
   "metadata": {},
   "outputs": [
    {
     "data": {
      "text/html": [
       "<div>\n",
       "<style scoped>\n",
       "    .dataframe tbody tr th:only-of-type {\n",
       "        vertical-align: middle;\n",
       "    }\n",
       "\n",
       "    .dataframe tbody tr th {\n",
       "        vertical-align: top;\n",
       "    }\n",
       "\n",
       "    .dataframe thead th {\n",
       "        text-align: right;\n",
       "    }\n",
       "</style>\n",
       "<table border=\"1\" class=\"dataframe\">\n",
       "  <thead>\n",
       "    <tr style=\"text-align: right;\">\n",
       "      <th></th>\n",
       "      <th>type</th>\n",
       "      <th>paperless_billing</th>\n",
       "      <th>payment_method</th>\n",
       "      <th>monthly_charges</th>\n",
       "      <th>total_charges</th>\n",
       "      <th>internet_service</th>\n",
       "      <th>online_security</th>\n",
       "      <th>online_backup</th>\n",
       "      <th>device_protection</th>\n",
       "      <th>tech_support</th>\n",
       "      <th>streaming_tv</th>\n",
       "      <th>streaming_movies</th>\n",
       "      <th>gender</th>\n",
       "      <th>senior_citizen</th>\n",
       "      <th>partner</th>\n",
       "      <th>dependents</th>\n",
       "      <th>multiple_lines</th>\n",
       "      <th>duration</th>\n",
       "    </tr>\n",
       "    <tr>\n",
       "      <th>customer_id</th>\n",
       "      <th></th>\n",
       "      <th></th>\n",
       "      <th></th>\n",
       "      <th></th>\n",
       "      <th></th>\n",
       "      <th></th>\n",
       "      <th></th>\n",
       "      <th></th>\n",
       "      <th></th>\n",
       "      <th></th>\n",
       "      <th></th>\n",
       "      <th></th>\n",
       "      <th></th>\n",
       "      <th></th>\n",
       "      <th></th>\n",
       "      <th></th>\n",
       "      <th></th>\n",
       "      <th></th>\n",
       "    </tr>\n",
       "  </thead>\n",
       "  <tbody>\n",
       "    <tr>\n",
       "      <th>4782-OSFXZ</th>\n",
       "      <td>Two year</td>\n",
       "      <td>1</td>\n",
       "      <td>Bank transfer (automatic)</td>\n",
       "      <td>0.588527</td>\n",
       "      <td>1.551717</td>\n",
       "      <td>DSL</td>\n",
       "      <td>1</td>\n",
       "      <td>1</td>\n",
       "      <td>1</td>\n",
       "      <td>1</td>\n",
       "      <td>0</td>\n",
       "      <td>1</td>\n",
       "      <td>0</td>\n",
       "      <td>1</td>\n",
       "      <td>1</td>\n",
       "      <td>0</td>\n",
       "      <td>1</td>\n",
       "      <td>1.565792</td>\n",
       "    </tr>\n",
       "    <tr>\n",
       "      <th>0487-RPVUM</th>\n",
       "      <td>Month-to-month</td>\n",
       "      <td>0</td>\n",
       "      <td>Bank transfer (automatic)</td>\n",
       "      <td>1.142618</td>\n",
       "      <td>1.601075</td>\n",
       "      <td>Fiber optic</td>\n",
       "      <td>1</td>\n",
       "      <td>0</td>\n",
       "      <td>1</td>\n",
       "      <td>1</td>\n",
       "      <td>1</td>\n",
       "      <td>0</td>\n",
       "      <td>1</td>\n",
       "      <td>0</td>\n",
       "      <td>1</td>\n",
       "      <td>0</td>\n",
       "      <td>1</td>\n",
       "      <td>1.156786</td>\n",
       "    </tr>\n",
       "    <tr>\n",
       "      <th>7683-CBDKJ</th>\n",
       "      <td>Month-to-month</td>\n",
       "      <td>1</td>\n",
       "      <td>Electronic check</td>\n",
       "      <td>0.016188</td>\n",
       "      <td>-0.596234</td>\n",
       "      <td>DSL</td>\n",
       "      <td>1</td>\n",
       "      <td>1</td>\n",
       "      <td>0</td>\n",
       "      <td>0</td>\n",
       "      <td>1</td>\n",
       "      <td>0</td>\n",
       "      <td>1</td>\n",
       "      <td>0</td>\n",
       "      <td>1</td>\n",
       "      <td>1</td>\n",
       "      <td>0</td>\n",
       "      <td>-0.755918</td>\n",
       "    </tr>\n",
       "    <tr>\n",
       "      <th>8652-YHIYU</th>\n",
       "      <td>One year</td>\n",
       "      <td>1</td>\n",
       "      <td>Credit card (automatic)</td>\n",
       "      <td>0.482354</td>\n",
       "      <td>-0.452879</td>\n",
       "      <td>Fiber optic</td>\n",
       "      <td>0</td>\n",
       "      <td>0</td>\n",
       "      <td>0</td>\n",
       "      <td>1</td>\n",
       "      <td>0</td>\n",
       "      <td>0</td>\n",
       "      <td>0</td>\n",
       "      <td>0</td>\n",
       "      <td>0</td>\n",
       "      <td>1</td>\n",
       "      <td>1</td>\n",
       "      <td>-0.673047</td>\n",
       "    </tr>\n",
       "    <tr>\n",
       "      <th>2236-HILPA</th>\n",
       "      <td>Two year</td>\n",
       "      <td>0</td>\n",
       "      <td>Credit card (automatic)</td>\n",
       "      <td>-1.470234</td>\n",
       "      <td>-0.472960</td>\n",
       "      <td>unknown</td>\n",
       "      <td>0</td>\n",
       "      <td>0</td>\n",
       "      <td>0</td>\n",
       "      <td>0</td>\n",
       "      <td>0</td>\n",
       "      <td>0</td>\n",
       "      <td>1</td>\n",
       "      <td>0</td>\n",
       "      <td>1</td>\n",
       "      <td>1</td>\n",
       "      <td>0</td>\n",
       "      <td>1.198222</td>\n",
       "    </tr>\n",
       "  </tbody>\n",
       "</table>\n",
       "</div>"
      ],
      "text/plain": [
       "                       type  paperless_billing             payment_method  \\\n",
       "customer_id                                                                 \n",
       "4782-OSFXZ         Two year                  1  Bank transfer (automatic)   \n",
       "0487-RPVUM   Month-to-month                  0  Bank transfer (automatic)   \n",
       "7683-CBDKJ   Month-to-month                  1           Electronic check   \n",
       "8652-YHIYU         One year                  1    Credit card (automatic)   \n",
       "2236-HILPA         Two year                  0    Credit card (automatic)   \n",
       "\n",
       "             monthly_charges  total_charges internet_service  online_security  \\\n",
       "customer_id                                                                     \n",
       "4782-OSFXZ          0.588527       1.551717              DSL                1   \n",
       "0487-RPVUM          1.142618       1.601075      Fiber optic                1   \n",
       "7683-CBDKJ          0.016188      -0.596234              DSL                1   \n",
       "8652-YHIYU          0.482354      -0.452879      Fiber optic                0   \n",
       "2236-HILPA         -1.470234      -0.472960          unknown                0   \n",
       "\n",
       "             online_backup  device_protection  tech_support  streaming_tv  \\\n",
       "customer_id                                                                 \n",
       "4782-OSFXZ               1                  1             1             0   \n",
       "0487-RPVUM               0                  1             1             1   \n",
       "7683-CBDKJ               1                  0             0             1   \n",
       "8652-YHIYU               0                  0             1             0   \n",
       "2236-HILPA               0                  0             0             0   \n",
       "\n",
       "             streaming_movies  gender  senior_citizen  partner  dependents  \\\n",
       "customer_id                                                                  \n",
       "4782-OSFXZ                  1       0               1        1           0   \n",
       "0487-RPVUM                  0       1               0        1           0   \n",
       "7683-CBDKJ                  0       1               0        1           1   \n",
       "8652-YHIYU                  0       0               0        0           1   \n",
       "2236-HILPA                  0       1               0        1           1   \n",
       "\n",
       "             multiple_lines  duration  \n",
       "customer_id                            \n",
       "4782-OSFXZ                1  1.565792  \n",
       "0487-RPVUM                1  1.156786  \n",
       "7683-CBDKJ                0 -0.755918  \n",
       "8652-YHIYU                1 -0.673047  \n",
       "2236-HILPA                0  1.198222  "
      ]
     },
     "execution_count": 73,
     "metadata": {},
     "output_type": "execute_result"
    }
   ],
   "source": [
    "x_train.head()"
   ]
  },
  {
   "cell_type": "code",
   "execution_count": 74,
   "metadata": {},
   "outputs": [
    {
     "data": {
      "text/html": [
       "<div>\n",
       "<style scoped>\n",
       "    .dataframe tbody tr th:only-of-type {\n",
       "        vertical-align: middle;\n",
       "    }\n",
       "\n",
       "    .dataframe tbody tr th {\n",
       "        vertical-align: top;\n",
       "    }\n",
       "\n",
       "    .dataframe thead th {\n",
       "        text-align: right;\n",
       "    }\n",
       "</style>\n",
       "<table border=\"1\" class=\"dataframe\">\n",
       "  <thead>\n",
       "    <tr style=\"text-align: right;\">\n",
       "      <th></th>\n",
       "      <th>paperless_billing</th>\n",
       "      <th>monthly_charges</th>\n",
       "      <th>total_charges</th>\n",
       "      <th>online_security</th>\n",
       "      <th>online_backup</th>\n",
       "      <th>device_protection</th>\n",
       "      <th>tech_support</th>\n",
       "      <th>streaming_tv</th>\n",
       "      <th>streaming_movies</th>\n",
       "      <th>gender</th>\n",
       "      <th>...</th>\n",
       "      <th>dependents</th>\n",
       "      <th>multiple_lines</th>\n",
       "      <th>duration</th>\n",
       "      <th>type_One year</th>\n",
       "      <th>type_Two year</th>\n",
       "      <th>payment_method_Credit card (automatic)</th>\n",
       "      <th>payment_method_Electronic check</th>\n",
       "      <th>payment_method_Mailed check</th>\n",
       "      <th>internet_service_Fiber optic</th>\n",
       "      <th>internet_service_unknown</th>\n",
       "    </tr>\n",
       "    <tr>\n",
       "      <th>customer_id</th>\n",
       "      <th></th>\n",
       "      <th></th>\n",
       "      <th></th>\n",
       "      <th></th>\n",
       "      <th></th>\n",
       "      <th></th>\n",
       "      <th></th>\n",
       "      <th></th>\n",
       "      <th></th>\n",
       "      <th></th>\n",
       "      <th></th>\n",
       "      <th></th>\n",
       "      <th></th>\n",
       "      <th></th>\n",
       "      <th></th>\n",
       "      <th></th>\n",
       "      <th></th>\n",
       "      <th></th>\n",
       "      <th></th>\n",
       "      <th></th>\n",
       "      <th></th>\n",
       "    </tr>\n",
       "  </thead>\n",
       "  <tbody>\n",
       "    <tr>\n",
       "      <th>4782-OSFXZ</th>\n",
       "      <td>1</td>\n",
       "      <td>0.588527</td>\n",
       "      <td>1.551717</td>\n",
       "      <td>1</td>\n",
       "      <td>1</td>\n",
       "      <td>1</td>\n",
       "      <td>1</td>\n",
       "      <td>0</td>\n",
       "      <td>1</td>\n",
       "      <td>0</td>\n",
       "      <td>...</td>\n",
       "      <td>0</td>\n",
       "      <td>1</td>\n",
       "      <td>1.565792</td>\n",
       "      <td>0.0</td>\n",
       "      <td>1.0</td>\n",
       "      <td>0.0</td>\n",
       "      <td>0.0</td>\n",
       "      <td>0.0</td>\n",
       "      <td>0.0</td>\n",
       "      <td>0.0</td>\n",
       "    </tr>\n",
       "    <tr>\n",
       "      <th>0487-RPVUM</th>\n",
       "      <td>0</td>\n",
       "      <td>1.142618</td>\n",
       "      <td>1.601075</td>\n",
       "      <td>1</td>\n",
       "      <td>0</td>\n",
       "      <td>1</td>\n",
       "      <td>1</td>\n",
       "      <td>1</td>\n",
       "      <td>0</td>\n",
       "      <td>1</td>\n",
       "      <td>...</td>\n",
       "      <td>0</td>\n",
       "      <td>1</td>\n",
       "      <td>1.156786</td>\n",
       "      <td>0.0</td>\n",
       "      <td>0.0</td>\n",
       "      <td>0.0</td>\n",
       "      <td>0.0</td>\n",
       "      <td>0.0</td>\n",
       "      <td>1.0</td>\n",
       "      <td>0.0</td>\n",
       "    </tr>\n",
       "    <tr>\n",
       "      <th>7683-CBDKJ</th>\n",
       "      <td>1</td>\n",
       "      <td>0.016188</td>\n",
       "      <td>-0.596234</td>\n",
       "      <td>1</td>\n",
       "      <td>1</td>\n",
       "      <td>0</td>\n",
       "      <td>0</td>\n",
       "      <td>1</td>\n",
       "      <td>0</td>\n",
       "      <td>1</td>\n",
       "      <td>...</td>\n",
       "      <td>1</td>\n",
       "      <td>0</td>\n",
       "      <td>-0.755918</td>\n",
       "      <td>0.0</td>\n",
       "      <td>0.0</td>\n",
       "      <td>0.0</td>\n",
       "      <td>1.0</td>\n",
       "      <td>0.0</td>\n",
       "      <td>0.0</td>\n",
       "      <td>0.0</td>\n",
       "    </tr>\n",
       "    <tr>\n",
       "      <th>8652-YHIYU</th>\n",
       "      <td>1</td>\n",
       "      <td>0.482354</td>\n",
       "      <td>-0.452879</td>\n",
       "      <td>0</td>\n",
       "      <td>0</td>\n",
       "      <td>0</td>\n",
       "      <td>1</td>\n",
       "      <td>0</td>\n",
       "      <td>0</td>\n",
       "      <td>0</td>\n",
       "      <td>...</td>\n",
       "      <td>1</td>\n",
       "      <td>1</td>\n",
       "      <td>-0.673047</td>\n",
       "      <td>1.0</td>\n",
       "      <td>0.0</td>\n",
       "      <td>1.0</td>\n",
       "      <td>0.0</td>\n",
       "      <td>0.0</td>\n",
       "      <td>1.0</td>\n",
       "      <td>0.0</td>\n",
       "    </tr>\n",
       "    <tr>\n",
       "      <th>2236-HILPA</th>\n",
       "      <td>0</td>\n",
       "      <td>-1.470234</td>\n",
       "      <td>-0.472960</td>\n",
       "      <td>0</td>\n",
       "      <td>0</td>\n",
       "      <td>0</td>\n",
       "      <td>0</td>\n",
       "      <td>0</td>\n",
       "      <td>0</td>\n",
       "      <td>1</td>\n",
       "      <td>...</td>\n",
       "      <td>1</td>\n",
       "      <td>0</td>\n",
       "      <td>1.198222</td>\n",
       "      <td>0.0</td>\n",
       "      <td>1.0</td>\n",
       "      <td>1.0</td>\n",
       "      <td>0.0</td>\n",
       "      <td>0.0</td>\n",
       "      <td>0.0</td>\n",
       "      <td>1.0</td>\n",
       "    </tr>\n",
       "  </tbody>\n",
       "</table>\n",
       "<p>5 rows × 22 columns</p>\n",
       "</div>"
      ],
      "text/plain": [
       "             paperless_billing  monthly_charges  total_charges  \\\n",
       "customer_id                                                      \n",
       "4782-OSFXZ                   1         0.588527       1.551717   \n",
       "0487-RPVUM                   0         1.142618       1.601075   \n",
       "7683-CBDKJ                   1         0.016188      -0.596234   \n",
       "8652-YHIYU                   1         0.482354      -0.452879   \n",
       "2236-HILPA                   0        -1.470234      -0.472960   \n",
       "\n",
       "             online_security  online_backup  device_protection  tech_support  \\\n",
       "customer_id                                                                    \n",
       "4782-OSFXZ                 1              1                  1             1   \n",
       "0487-RPVUM                 1              0                  1             1   \n",
       "7683-CBDKJ                 1              1                  0             0   \n",
       "8652-YHIYU                 0              0                  0             1   \n",
       "2236-HILPA                 0              0                  0             0   \n",
       "\n",
       "             streaming_tv  streaming_movies  gender  ...  dependents  \\\n",
       "customer_id                                          ...               \n",
       "4782-OSFXZ              0                 1       0  ...           0   \n",
       "0487-RPVUM              1                 0       1  ...           0   \n",
       "7683-CBDKJ              1                 0       1  ...           1   \n",
       "8652-YHIYU              0                 0       0  ...           1   \n",
       "2236-HILPA              0                 0       1  ...           1   \n",
       "\n",
       "             multiple_lines  duration  type_One year  type_Two year  \\\n",
       "customer_id                                                           \n",
       "4782-OSFXZ                1  1.565792            0.0            1.0   \n",
       "0487-RPVUM                1  1.156786            0.0            0.0   \n",
       "7683-CBDKJ                0 -0.755918            0.0            0.0   \n",
       "8652-YHIYU                1 -0.673047            1.0            0.0   \n",
       "2236-HILPA                0  1.198222            0.0            1.0   \n",
       "\n",
       "             payment_method_Credit card (automatic)  \\\n",
       "customer_id                                           \n",
       "4782-OSFXZ                                      0.0   \n",
       "0487-RPVUM                                      0.0   \n",
       "7683-CBDKJ                                      0.0   \n",
       "8652-YHIYU                                      1.0   \n",
       "2236-HILPA                                      1.0   \n",
       "\n",
       "             payment_method_Electronic check  payment_method_Mailed check  \\\n",
       "customer_id                                                                 \n",
       "4782-OSFXZ                               0.0                          0.0   \n",
       "0487-RPVUM                               0.0                          0.0   \n",
       "7683-CBDKJ                               1.0                          0.0   \n",
       "8652-YHIYU                               0.0                          0.0   \n",
       "2236-HILPA                               0.0                          0.0   \n",
       "\n",
       "             internet_service_Fiber optic  internet_service_unknown  \n",
       "customer_id                                                          \n",
       "4782-OSFXZ                            0.0                       0.0  \n",
       "0487-RPVUM                            1.0                       0.0  \n",
       "7683-CBDKJ                            0.0                       0.0  \n",
       "8652-YHIYU                            1.0                       0.0  \n",
       "2236-HILPA                            0.0                       1.0  \n",
       "\n",
       "[5 rows x 22 columns]"
      ]
     },
     "execution_count": 74,
     "metadata": {},
     "output_type": "execute_result"
    }
   ],
   "source": [
    "x_train_ohe.head()"
   ]
  },
  {
   "cell_type": "code",
   "execution_count": 75,
   "metadata": {},
   "outputs": [],
   "source": [
    "x_test_ohe[encoder_ohe.get_feature_names_out()] = encoder_ohe.transform(x_test[categorical])\n",
    "x_test_ohe = x_test_ohe.drop(categorical, axis=1)"
   ]
  },
  {
   "cell_type": "code",
   "execution_count": 76,
   "metadata": {},
   "outputs": [
    {
     "data": {
      "text/html": [
       "<div>\n",
       "<style scoped>\n",
       "    .dataframe tbody tr th:only-of-type {\n",
       "        vertical-align: middle;\n",
       "    }\n",
       "\n",
       "    .dataframe tbody tr th {\n",
       "        vertical-align: top;\n",
       "    }\n",
       "\n",
       "    .dataframe thead th {\n",
       "        text-align: right;\n",
       "    }\n",
       "</style>\n",
       "<table border=\"1\" class=\"dataframe\">\n",
       "  <thead>\n",
       "    <tr style=\"text-align: right;\">\n",
       "      <th></th>\n",
       "      <th>paperless_billing</th>\n",
       "      <th>monthly_charges</th>\n",
       "      <th>total_charges</th>\n",
       "      <th>online_security</th>\n",
       "      <th>online_backup</th>\n",
       "      <th>device_protection</th>\n",
       "      <th>tech_support</th>\n",
       "      <th>streaming_tv</th>\n",
       "      <th>streaming_movies</th>\n",
       "      <th>gender</th>\n",
       "      <th>...</th>\n",
       "      <th>dependents</th>\n",
       "      <th>multiple_lines</th>\n",
       "      <th>duration</th>\n",
       "      <th>type_One year</th>\n",
       "      <th>type_Two year</th>\n",
       "      <th>payment_method_Credit card (automatic)</th>\n",
       "      <th>payment_method_Electronic check</th>\n",
       "      <th>payment_method_Mailed check</th>\n",
       "      <th>internet_service_Fiber optic</th>\n",
       "      <th>internet_service_unknown</th>\n",
       "    </tr>\n",
       "    <tr>\n",
       "      <th>customer_id</th>\n",
       "      <th></th>\n",
       "      <th></th>\n",
       "      <th></th>\n",
       "      <th></th>\n",
       "      <th></th>\n",
       "      <th></th>\n",
       "      <th></th>\n",
       "      <th></th>\n",
       "      <th></th>\n",
       "      <th></th>\n",
       "      <th></th>\n",
       "      <th></th>\n",
       "      <th></th>\n",
       "      <th></th>\n",
       "      <th></th>\n",
       "      <th></th>\n",
       "      <th></th>\n",
       "      <th></th>\n",
       "      <th></th>\n",
       "      <th></th>\n",
       "      <th></th>\n",
       "    </tr>\n",
       "  </thead>\n",
       "  <tbody>\n",
       "    <tr>\n",
       "      <th>9412-GHEEC</th>\n",
       "      <td>0</td>\n",
       "      <td>1.321785</td>\n",
       "      <td>0.805864</td>\n",
       "      <td>0</td>\n",
       "      <td>0</td>\n",
       "      <td>1</td>\n",
       "      <td>1</td>\n",
       "      <td>1</td>\n",
       "      <td>1</td>\n",
       "      <td>1</td>\n",
       "      <td>...</td>\n",
       "      <td>0</td>\n",
       "      <td>1</td>\n",
       "      <td>0.301349</td>\n",
       "      <td>0.0</td>\n",
       "      <td>0.0</td>\n",
       "      <td>0.0</td>\n",
       "      <td>0.0</td>\n",
       "      <td>0.0</td>\n",
       "      <td>1.0</td>\n",
       "      <td>0.0</td>\n",
       "    </tr>\n",
       "    <tr>\n",
       "      <th>3750-CKVKH</th>\n",
       "      <td>1</td>\n",
       "      <td>0.092500</td>\n",
       "      <td>-0.956574</td>\n",
       "      <td>0</td>\n",
       "      <td>0</td>\n",
       "      <td>0</td>\n",
       "      <td>0</td>\n",
       "      <td>0</td>\n",
       "      <td>0</td>\n",
       "      <td>1</td>\n",
       "      <td>...</td>\n",
       "      <td>0</td>\n",
       "      <td>0</td>\n",
       "      <td>-1.243785</td>\n",
       "      <td>0.0</td>\n",
       "      <td>0.0</td>\n",
       "      <td>0.0</td>\n",
       "      <td>1.0</td>\n",
       "      <td>0.0</td>\n",
       "      <td>1.0</td>\n",
       "      <td>0.0</td>\n",
       "    </tr>\n",
       "    <tr>\n",
       "      <th>7975-TZMLR</th>\n",
       "      <td>1</td>\n",
       "      <td>1.265381</td>\n",
       "      <td>1.138288</td>\n",
       "      <td>0</td>\n",
       "      <td>1</td>\n",
       "      <td>1</td>\n",
       "      <td>0</td>\n",
       "      <td>1</td>\n",
       "      <td>1</td>\n",
       "      <td>1</td>\n",
       "      <td>...</td>\n",
       "      <td>0</td>\n",
       "      <td>1</td>\n",
       "      <td>0.588722</td>\n",
       "      <td>1.0</td>\n",
       "      <td>0.0</td>\n",
       "      <td>0.0</td>\n",
       "      <td>1.0</td>\n",
       "      <td>0.0</td>\n",
       "      <td>1.0</td>\n",
       "      <td>0.0</td>\n",
       "    </tr>\n",
       "    <tr>\n",
       "      <th>1035-IPQPU</th>\n",
       "      <td>1</td>\n",
       "      <td>1.278652</td>\n",
       "      <td>1.836232</td>\n",
       "      <td>0</td>\n",
       "      <td>1</td>\n",
       "      <td>1</td>\n",
       "      <td>0</td>\n",
       "      <td>1</td>\n",
       "      <td>1</td>\n",
       "      <td>0</td>\n",
       "      <td>...</td>\n",
       "      <td>0</td>\n",
       "      <td>1</td>\n",
       "      <td>1.238320</td>\n",
       "      <td>0.0</td>\n",
       "      <td>0.0</td>\n",
       "      <td>0.0</td>\n",
       "      <td>1.0</td>\n",
       "      <td>0.0</td>\n",
       "      <td>1.0</td>\n",
       "      <td>0.0</td>\n",
       "    </tr>\n",
       "    <tr>\n",
       "      <th>9548-ZMVTX</th>\n",
       "      <td>0</td>\n",
       "      <td>0.845665</td>\n",
       "      <td>1.874177</td>\n",
       "      <td>0</td>\n",
       "      <td>1</td>\n",
       "      <td>1</td>\n",
       "      <td>1</td>\n",
       "      <td>0</td>\n",
       "      <td>0</td>\n",
       "      <td>1</td>\n",
       "      <td>...</td>\n",
       "      <td>1</td>\n",
       "      <td>1</td>\n",
       "      <td>1.603218</td>\n",
       "      <td>0.0</td>\n",
       "      <td>1.0</td>\n",
       "      <td>0.0</td>\n",
       "      <td>0.0</td>\n",
       "      <td>0.0</td>\n",
       "      <td>1.0</td>\n",
       "      <td>0.0</td>\n",
       "    </tr>\n",
       "    <tr>\n",
       "      <th>...</th>\n",
       "      <td>...</td>\n",
       "      <td>...</td>\n",
       "      <td>...</td>\n",
       "      <td>...</td>\n",
       "      <td>...</td>\n",
       "      <td>...</td>\n",
       "      <td>...</td>\n",
       "      <td>...</td>\n",
       "      <td>...</td>\n",
       "      <td>...</td>\n",
       "      <td>...</td>\n",
       "      <td>...</td>\n",
       "      <td>...</td>\n",
       "      <td>...</td>\n",
       "      <td>...</td>\n",
       "      <td>...</td>\n",
       "      <td>...</td>\n",
       "      <td>...</td>\n",
       "      <td>...</td>\n",
       "      <td>...</td>\n",
       "      <td>...</td>\n",
       "    </tr>\n",
       "    <tr>\n",
       "      <th>2107-FBPTK</th>\n",
       "      <td>1</td>\n",
       "      <td>1.298560</td>\n",
       "      <td>0.362171</td>\n",
       "      <td>0</td>\n",
       "      <td>1</td>\n",
       "      <td>1</td>\n",
       "      <td>0</td>\n",
       "      <td>1</td>\n",
       "      <td>1</td>\n",
       "      <td>0</td>\n",
       "      <td>...</td>\n",
       "      <td>0</td>\n",
       "      <td>1</td>\n",
       "      <td>-0.103647</td>\n",
       "      <td>0.0</td>\n",
       "      <td>0.0</td>\n",
       "      <td>0.0</td>\n",
       "      <td>1.0</td>\n",
       "      <td>0.0</td>\n",
       "      <td>1.0</td>\n",
       "      <td>0.0</td>\n",
       "    </tr>\n",
       "    <tr>\n",
       "      <th>5419-JPRRN</th>\n",
       "      <td>1</td>\n",
       "      <td>1.210635</td>\n",
       "      <td>-0.963245</td>\n",
       "      <td>0</td>\n",
       "      <td>0</td>\n",
       "      <td>1</td>\n",
       "      <td>0</td>\n",
       "      <td>1</td>\n",
       "      <td>1</td>\n",
       "      <td>1</td>\n",
       "      <td>...</td>\n",
       "      <td>0</td>\n",
       "      <td>1</td>\n",
       "      <td>-1.285220</td>\n",
       "      <td>0.0</td>\n",
       "      <td>0.0</td>\n",
       "      <td>0.0</td>\n",
       "      <td>1.0</td>\n",
       "      <td>0.0</td>\n",
       "      <td>1.0</td>\n",
       "      <td>0.0</td>\n",
       "    </tr>\n",
       "    <tr>\n",
       "      <th>3845-JHAMY</th>\n",
       "      <td>1</td>\n",
       "      <td>-0.977525</td>\n",
       "      <td>-0.765178</td>\n",
       "      <td>0</td>\n",
       "      <td>0</td>\n",
       "      <td>0</td>\n",
       "      <td>0</td>\n",
       "      <td>0</td>\n",
       "      <td>1</td>\n",
       "      <td>0</td>\n",
       "      <td>...</td>\n",
       "      <td>1</td>\n",
       "      <td>0</td>\n",
       "      <td>-0.673047</td>\n",
       "      <td>0.0</td>\n",
       "      <td>0.0</td>\n",
       "      <td>1.0</td>\n",
       "      <td>0.0</td>\n",
       "      <td>0.0</td>\n",
       "      <td>0.0</td>\n",
       "      <td>0.0</td>\n",
       "    </tr>\n",
       "    <tr>\n",
       "      <th>1599-EAHXY</th>\n",
       "      <td>0</td>\n",
       "      <td>-1.360743</td>\n",
       "      <td>-0.346570</td>\n",
       "      <td>0</td>\n",
       "      <td>0</td>\n",
       "      <td>0</td>\n",
       "      <td>0</td>\n",
       "      <td>0</td>\n",
       "      <td>0</td>\n",
       "      <td>1</td>\n",
       "      <td>...</td>\n",
       "      <td>1</td>\n",
       "      <td>1</td>\n",
       "      <td>1.115351</td>\n",
       "      <td>1.0</td>\n",
       "      <td>0.0</td>\n",
       "      <td>1.0</td>\n",
       "      <td>0.0</td>\n",
       "      <td>0.0</td>\n",
       "      <td>0.0</td>\n",
       "      <td>1.0</td>\n",
       "    </tr>\n",
       "    <tr>\n",
       "      <th>0533-UCAAU</th>\n",
       "      <td>1</td>\n",
       "      <td>0.203650</td>\n",
       "      <td>0.809441</td>\n",
       "      <td>0</td>\n",
       "      <td>1</td>\n",
       "      <td>1</td>\n",
       "      <td>0</td>\n",
       "      <td>1</td>\n",
       "      <td>0</td>\n",
       "      <td>1</td>\n",
       "      <td>...</td>\n",
       "      <td>0</td>\n",
       "      <td>1</td>\n",
       "      <td>0.996392</td>\n",
       "      <td>1.0</td>\n",
       "      <td>0.0</td>\n",
       "      <td>1.0</td>\n",
       "      <td>0.0</td>\n",
       "      <td>0.0</td>\n",
       "      <td>0.0</td>\n",
       "      <td>0.0</td>\n",
       "    </tr>\n",
       "  </tbody>\n",
       "</table>\n",
       "<p>1761 rows × 22 columns</p>\n",
       "</div>"
      ],
      "text/plain": [
       "             paperless_billing  monthly_charges  total_charges  \\\n",
       "customer_id                                                      \n",
       "9412-GHEEC                   0         1.321785       0.805864   \n",
       "3750-CKVKH                   1         0.092500      -0.956574   \n",
       "7975-TZMLR                   1         1.265381       1.138288   \n",
       "1035-IPQPU                   1         1.278652       1.836232   \n",
       "9548-ZMVTX                   0         0.845665       1.874177   \n",
       "...                        ...              ...            ...   \n",
       "2107-FBPTK                   1         1.298560       0.362171   \n",
       "5419-JPRRN                   1         1.210635      -0.963245   \n",
       "3845-JHAMY                   1        -0.977525      -0.765178   \n",
       "1599-EAHXY                   0        -1.360743      -0.346570   \n",
       "0533-UCAAU                   1         0.203650       0.809441   \n",
       "\n",
       "             online_security  online_backup  device_protection  tech_support  \\\n",
       "customer_id                                                                    \n",
       "9412-GHEEC                 0              0                  1             1   \n",
       "3750-CKVKH                 0              0                  0             0   \n",
       "7975-TZMLR                 0              1                  1             0   \n",
       "1035-IPQPU                 0              1                  1             0   \n",
       "9548-ZMVTX                 0              1                  1             1   \n",
       "...                      ...            ...                ...           ...   \n",
       "2107-FBPTK                 0              1                  1             0   \n",
       "5419-JPRRN                 0              0                  1             0   \n",
       "3845-JHAMY                 0              0                  0             0   \n",
       "1599-EAHXY                 0              0                  0             0   \n",
       "0533-UCAAU                 0              1                  1             0   \n",
       "\n",
       "             streaming_tv  streaming_movies  gender  ...  dependents  \\\n",
       "customer_id                                          ...               \n",
       "9412-GHEEC              1                 1       1  ...           0   \n",
       "3750-CKVKH              0                 0       1  ...           0   \n",
       "7975-TZMLR              1                 1       1  ...           0   \n",
       "1035-IPQPU              1                 1       0  ...           0   \n",
       "9548-ZMVTX              0                 0       1  ...           1   \n",
       "...                   ...               ...     ...  ...         ...   \n",
       "2107-FBPTK              1                 1       0  ...           0   \n",
       "5419-JPRRN              1                 1       1  ...           0   \n",
       "3845-JHAMY              0                 1       0  ...           1   \n",
       "1599-EAHXY              0                 0       1  ...           1   \n",
       "0533-UCAAU              1                 0       1  ...           0   \n",
       "\n",
       "             multiple_lines  duration  type_One year  type_Two year  \\\n",
       "customer_id                                                           \n",
       "9412-GHEEC                1  0.301349            0.0            0.0   \n",
       "3750-CKVKH                0 -1.243785            0.0            0.0   \n",
       "7975-TZMLR                1  0.588722            1.0            0.0   \n",
       "1035-IPQPU                1  1.238320            0.0            0.0   \n",
       "9548-ZMVTX                1  1.603218            0.0            1.0   \n",
       "...                     ...       ...            ...            ...   \n",
       "2107-FBPTK                1 -0.103647            0.0            0.0   \n",
       "5419-JPRRN                1 -1.285220            0.0            0.0   \n",
       "3845-JHAMY                0 -0.673047            0.0            0.0   \n",
       "1599-EAHXY                1  1.115351            1.0            0.0   \n",
       "0533-UCAAU                1  0.996392            1.0            0.0   \n",
       "\n",
       "             payment_method_Credit card (automatic)  \\\n",
       "customer_id                                           \n",
       "9412-GHEEC                                      0.0   \n",
       "3750-CKVKH                                      0.0   \n",
       "7975-TZMLR                                      0.0   \n",
       "1035-IPQPU                                      0.0   \n",
       "9548-ZMVTX                                      0.0   \n",
       "...                                             ...   \n",
       "2107-FBPTK                                      0.0   \n",
       "5419-JPRRN                                      0.0   \n",
       "3845-JHAMY                                      1.0   \n",
       "1599-EAHXY                                      1.0   \n",
       "0533-UCAAU                                      1.0   \n",
       "\n",
       "             payment_method_Electronic check  payment_method_Mailed check  \\\n",
       "customer_id                                                                 \n",
       "9412-GHEEC                               0.0                          0.0   \n",
       "3750-CKVKH                               1.0                          0.0   \n",
       "7975-TZMLR                               1.0                          0.0   \n",
       "1035-IPQPU                               1.0                          0.0   \n",
       "9548-ZMVTX                               0.0                          0.0   \n",
       "...                                      ...                          ...   \n",
       "2107-FBPTK                               1.0                          0.0   \n",
       "5419-JPRRN                               1.0                          0.0   \n",
       "3845-JHAMY                               0.0                          0.0   \n",
       "1599-EAHXY                               0.0                          0.0   \n",
       "0533-UCAAU                               0.0                          0.0   \n",
       "\n",
       "             internet_service_Fiber optic  internet_service_unknown  \n",
       "customer_id                                                          \n",
       "9412-GHEEC                            1.0                       0.0  \n",
       "3750-CKVKH                            1.0                       0.0  \n",
       "7975-TZMLR                            1.0                       0.0  \n",
       "1035-IPQPU                            1.0                       0.0  \n",
       "9548-ZMVTX                            1.0                       0.0  \n",
       "...                                   ...                       ...  \n",
       "2107-FBPTK                            1.0                       0.0  \n",
       "5419-JPRRN                            1.0                       0.0  \n",
       "3845-JHAMY                            0.0                       0.0  \n",
       "1599-EAHXY                            0.0                       1.0  \n",
       "0533-UCAAU                            0.0                       0.0  \n",
       "\n",
       "[1761 rows x 22 columns]"
      ]
     },
     "execution_count": 76,
     "metadata": {},
     "output_type": "execute_result"
    }
   ],
   "source": [
    "x_test_ohe"
   ]
  },
  {
   "cell_type": "code",
   "execution_count": 77,
   "metadata": {},
   "outputs": [
    {
     "data": {
      "text/plain": [
       "((5282, 22), (1761, 22))"
      ]
     },
     "execution_count": 77,
     "metadata": {},
     "output_type": "execute_result"
    }
   ],
   "source": [
    "x_train_ohe.shape, x_test_ohe.shape"
   ]
  },
  {
   "cell_type": "code",
   "execution_count": 78,
   "metadata": {},
   "outputs": [
    {
     "data": {
      "text/plain": [
       "0"
      ]
     },
     "execution_count": 78,
     "metadata": {},
     "output_type": "execute_result"
    }
   ],
   "source": [
    "(x_train_ohe.columns != x_test_ohe.columns).sum()"
   ]
  },
  {
   "cell_type": "markdown",
   "metadata": {},
   "source": [
    "### обучение и первичная оценка моделей"
   ]
  },
  {
   "cell_type": "markdown",
   "metadata": {},
   "source": [
    "перейдем к машинному обучению;\n",
    "рассмотрим модели выбранные для проверки в плане с минимальной настройкой на кроссвалидации из трех фолдов; затем настроим самые перспективные"
   ]
  },
  {
   "cell_type": "markdown",
   "metadata": {},
   "source": [
    "### RF"
   ]
  },
  {
   "cell_type": "code",
   "execution_count": null,
   "metadata": {},
   "outputs": [
    {
     "name": "stdout",
     "output_type": "stream",
     "text": [
      "0.8393305992631825\n",
      "0.8430240247827743\n",
      "0.8456818745749679\n",
      "0.8489703127368223\n",
      "0.8510003094618054\n",
      "0.8524535373964466\n",
      "0.8520801187968369\n",
      "0.8519106978450065\n",
      "0.8519705734430575\n"
     ]
    }
   ],
   "source": [
    "for i in range(2, 11):\n",
    "    model = RandomForestClassifier(max_depth=i, random_state=RANDOM_STATE, class_weight='balanced')\n",
    "    res = cross_val_score (model, x_train_ohe,y_train, cv = 3, scoring='roc_auc')\n",
    "    print (np.mean(res))"
   ]
  },
  {
   "cell_type": "markdown",
   "metadata": {},
   "source": [
    "### logistic"
   ]
  },
  {
   "cell_type": "code",
   "execution_count": null,
   "metadata": {},
   "outputs": [
    {
     "name": "stdout",
     "output_type": "stream",
     "text": [
      "0.8398699153856729\n"
     ]
    }
   ],
   "source": [
    "model = LogisticRegression(random_state=RANDOM_STATE)\n",
    "res = cross_val_score (model, x_train_ohe,y_train, cv = 3, scoring='roc_auc')\n",
    "print (np.mean(res))"
   ]
  },
  {
   "cell_type": "markdown",
   "metadata": {},
   "source": [
    "### DecisionTree"
   ]
  },
  {
   "cell_type": "code",
   "execution_count": null,
   "metadata": {},
   "outputs": [
    {
     "name": "stdout",
     "output_type": "stream",
     "text": [
      "0.7647031081458836\n",
      "0.8115411721773139\n",
      "0.8340107339166533\n",
      "0.8342568019072788\n",
      "0.8317580257876109\n",
      "0.8234050753707299\n",
      "0.8110229976111775\n",
      "0.7992351619869797\n",
      "0.7819472247659872\n"
     ]
    }
   ],
   "source": [
    "for i in range(2, 11):\n",
    "    model = DecisionTreeClassifier(max_depth=i, random_state=RANDOM_STATE)\n",
    "    res = cross_val_score (model, x_train_ohe,y_train, cv = 3, scoring='roc_auc')\n",
    "    print (np.mean(res))"
   ]
  },
  {
   "cell_type": "markdown",
   "metadata": {},
   "source": [
    "### CatBoost"
   ]
  },
  {
   "cell_type": "code",
   "execution_count": null,
   "metadata": {},
   "outputs": [
    {
     "name": "stdout",
     "output_type": "stream",
     "text": [
      "0:\ttotal: 171ms\tremaining: 16.9s\n",
      "50:\ttotal: 1.53s\tremaining: 1.47s\n",
      "99:\ttotal: 2.91s\tremaining: 0us\n",
      "0:\ttotal: 36.8ms\tremaining: 3.64s\n",
      "50:\ttotal: 1.2s\tremaining: 1.15s\n",
      "99:\ttotal: 2.35s\tremaining: 0us\n",
      "0:\ttotal: 21.8ms\tremaining: 2.16s\n",
      "50:\ttotal: 1.21s\tremaining: 1.16s\n",
      "99:\ttotal: 2.36s\tremaining: 0us\n",
      "0:\ttotal: 11.1ms\tremaining: 3.32s\n",
      "50:\ttotal: 688ms\tremaining: 3.36s\n",
      "100:\ttotal: 1.36s\tremaining: 2.69s\n",
      "150:\ttotal: 2.03s\tremaining: 2.01s\n",
      "200:\ttotal: 2.69s\tremaining: 1.33s\n",
      "250:\ttotal: 3.32s\tremaining: 649ms\n",
      "299:\ttotal: 3.93s\tremaining: 0us\n",
      "0:\ttotal: 10ms\tremaining: 3s\n",
      "50:\ttotal: 604ms\tremaining: 2.95s\n",
      "100:\ttotal: 1.23s\tremaining: 2.42s\n",
      "150:\ttotal: 1.88s\tremaining: 1.85s\n",
      "200:\ttotal: 2.56s\tremaining: 1.26s\n",
      "250:\ttotal: 3.22s\tremaining: 629ms\n",
      "299:\ttotal: 3.88s\tremaining: 0us\n",
      "0:\ttotal: 10.4ms\tremaining: 3.11s\n",
      "50:\ttotal: 655ms\tremaining: 3.2s\n",
      "100:\ttotal: 1.28s\tremaining: 2.52s\n",
      "150:\ttotal: 1.89s\tremaining: 1.86s\n",
      "200:\ttotal: 2.53s\tremaining: 1.25s\n",
      "250:\ttotal: 3.16s\tremaining: 617ms\n",
      "299:\ttotal: 3.83s\tremaining: 0us\n",
      "0:\ttotal: 21.3ms\tremaining: 1.04s\n",
      "49:\ttotal: 1.1s\tremaining: 0us\n",
      "0:\ttotal: 19.9ms\tremaining: 977ms\n",
      "49:\ttotal: 1.02s\tremaining: 0us\n",
      "0:\ttotal: 19.1ms\tremaining: 934ms\n",
      "49:\ttotal: 1s\tremaining: 0us\n",
      "0:\ttotal: 25.6ms\tremaining: 2.54s\n",
      "50:\ttotal: 1.22s\tremaining: 1.18s\n",
      "99:\ttotal: 2.32s\tremaining: 0us\n",
      "0:\ttotal: 23.3ms\tremaining: 2.31s\n",
      "50:\ttotal: 1.34s\tremaining: 1.28s\n",
      "99:\ttotal: 2.38s\tremaining: 0us\n",
      "0:\ttotal: 25.1ms\tremaining: 2.48s\n",
      "50:\ttotal: 1.22s\tremaining: 1.18s\n",
      "99:\ttotal: 2.4s\tremaining: 0us\n",
      "0:\ttotal: 11.1ms\tremaining: 2.78s\n",
      "50:\ttotal: 622ms\tremaining: 2.43s\n",
      "100:\ttotal: 1.26s\tremaining: 1.85s\n",
      "150:\ttotal: 1.94s\tremaining: 1.27s\n",
      "200:\ttotal: 2.61s\tremaining: 637ms\n",
      "249:\ttotal: 3.29s\tremaining: 0us\n",
      "0:\ttotal: 11ms\tremaining: 2.74s\n",
      "50:\ttotal: 626ms\tremaining: 2.44s\n",
      "100:\ttotal: 1.26s\tremaining: 1.86s\n",
      "150:\ttotal: 1.88s\tremaining: 1.23s\n",
      "200:\ttotal: 2.51s\tremaining: 611ms\n",
      "249:\ttotal: 3.12s\tremaining: 0us\n",
      "0:\ttotal: 10.5ms\tremaining: 2.62s\n",
      "50:\ttotal: 635ms\tremaining: 2.48s\n",
      "100:\ttotal: 1.26s\tremaining: 1.86s\n",
      "150:\ttotal: 1.88s\tremaining: 1.23s\n",
      "200:\ttotal: 2.54s\tremaining: 620ms\n",
      "249:\ttotal: 3.17s\tremaining: 0us\n",
      "0:\ttotal: 17.7ms\tremaining: 4.42s\n",
      "50:\ttotal: 953ms\tremaining: 3.72s\n",
      "100:\ttotal: 1.9s\tremaining: 2.81s\n",
      "150:\ttotal: 2.85s\tremaining: 1.87s\n",
      "200:\ttotal: 3.81s\tremaining: 929ms\n",
      "249:\ttotal: 4.76s\tremaining: 0us\n",
      "0:\ttotal: 16.8ms\tremaining: 4.18s\n",
      "50:\ttotal: 995ms\tremaining: 3.88s\n",
      "100:\ttotal: 2.07s\tremaining: 3.05s\n",
      "150:\ttotal: 3.05s\tremaining: 2s\n",
      "200:\ttotal: 4.04s\tremaining: 986ms\n",
      "249:\ttotal: 4.99s\tremaining: 0us\n",
      "0:\ttotal: 18.3ms\tremaining: 4.55s\n",
      "50:\ttotal: 972ms\tremaining: 3.79s\n",
      "100:\ttotal: 1.96s\tremaining: 2.89s\n",
      "150:\ttotal: 2.95s\tremaining: 1.93s\n",
      "200:\ttotal: 3.91s\tremaining: 953ms\n",
      "249:\ttotal: 4.85s\tremaining: 0us\n",
      "0:\ttotal: 22.2ms\tremaining: 6.64s\n",
      "50:\ttotal: 1.86s\tremaining: 9.11s\n",
      "100:\ttotal: 3.89s\tremaining: 7.67s\n",
      "150:\ttotal: 5.76s\tremaining: 5.69s\n",
      "200:\ttotal: 7.67s\tremaining: 3.78s\n",
      "250:\ttotal: 9.61s\tremaining: 1.88s\n",
      "299:\ttotal: 11.4s\tremaining: 0us\n",
      "0:\ttotal: 21.6ms\tremaining: 6.46s\n",
      "50:\ttotal: 1.8s\tremaining: 8.78s\n",
      "100:\ttotal: 3.67s\tremaining: 7.24s\n",
      "150:\ttotal: 5.56s\tremaining: 5.49s\n",
      "200:\ttotal: 7.42s\tremaining: 3.66s\n",
      "250:\ttotal: 9.33s\tremaining: 1.82s\n",
      "299:\ttotal: 11.2s\tremaining: 0us\n",
      "0:\ttotal: 34.1ms\tremaining: 10.2s\n",
      "50:\ttotal: 1.69s\tremaining: 8.24s\n",
      "100:\ttotal: 3.58s\tremaining: 7.05s\n",
      "150:\ttotal: 5.56s\tremaining: 5.49s\n",
      "200:\ttotal: 7.45s\tremaining: 3.67s\n",
      "250:\ttotal: 9.35s\tremaining: 1.82s\n",
      "299:\ttotal: 11.3s\tremaining: 0us\n",
      "0:\ttotal: 28.8ms\tremaining: 1.41s\n",
      "49:\ttotal: 1.44s\tremaining: 0us\n",
      "0:\ttotal: 29.9ms\tremaining: 1.47s\n",
      "49:\ttotal: 1.5s\tremaining: 0us\n",
      "0:\ttotal: 31.7ms\tremaining: 1.55s\n",
      "49:\ttotal: 1.7s\tremaining: 0us\n",
      "0:\ttotal: 7.51ms\tremaining: 1.12s\n",
      "50:\ttotal: 459ms\tremaining: 891ms\n",
      "100:\ttotal: 956ms\tremaining: 464ms\n",
      "149:\ttotal: 1.4s\tremaining: 0us\n",
      "0:\ttotal: 7.23ms\tremaining: 1.08s\n",
      "50:\ttotal: 478ms\tremaining: 928ms\n",
      "100:\ttotal: 948ms\tremaining: 460ms\n",
      "149:\ttotal: 1.48s\tremaining: 0us\n",
      "0:\ttotal: 7.18ms\tremaining: 1.07s\n",
      "50:\ttotal: 465ms\tremaining: 904ms\n",
      "100:\ttotal: 956ms\tremaining: 464ms\n",
      "149:\ttotal: 1.42s\tremaining: 0us\n",
      "0:\ttotal: 19.6ms\tremaining: 3.9s\n",
      "50:\ttotal: 1.21s\tremaining: 3.54s\n",
      "100:\ttotal: 2.65s\tremaining: 2.6s\n",
      "150:\ttotal: 4.01s\tremaining: 1.3s\n",
      "199:\ttotal: 5.36s\tremaining: 0us\n",
      "0:\ttotal: 19.1ms\tremaining: 3.81s\n",
      "50:\ttotal: 1.19s\tremaining: 3.47s\n",
      "100:\ttotal: 2.44s\tremaining: 2.39s\n",
      "150:\ttotal: 3.77s\tremaining: 1.22s\n",
      "199:\ttotal: 5.1s\tremaining: 0us\n",
      "0:\ttotal: 24.5ms\tremaining: 4.88s\n",
      "50:\ttotal: 1.2s\tremaining: 3.51s\n",
      "100:\ttotal: 2.51s\tremaining: 2.46s\n",
      "150:\ttotal: 3.84s\tremaining: 1.25s\n",
      "199:\ttotal: 5.13s\tremaining: 0us\n",
      "0:\ttotal: 11.2ms\tremaining: 3.33s\n",
      "50:\ttotal: 686ms\tremaining: 3.35s\n",
      "100:\ttotal: 1.35s\tremaining: 2.67s\n",
      "150:\ttotal: 2.01s\tremaining: 1.99s\n",
      "200:\ttotal: 2.66s\tremaining: 1.31s\n",
      "250:\ttotal: 3.31s\tremaining: 647ms\n",
      "299:\ttotal: 3.96s\tremaining: 0us\n",
      "Best Params:  {'learning_rate': 0.19, 'iterations': 300, 'depth': 3}\n",
      "0.897994619877314\n"
     ]
    }
   ],
   "source": [
    "parameters ={'depth': range(1, 11), \n",
    "             'iterations': range(50, 351, 50),\n",
    "             'learning_rate':np.arange(0.01, 0.4, 0.03)\n",
    "             }\n",
    "    \n",
    "model = CatBoostClassifier(loss_function=\"Logloss\", eval_metric ='AUC',verbose=50, random_state=RANDOM_STATE)\n",
    "RScat = RandomizedSearchCV(model,parameters,scoring='roc_auc', cv = 3,random_state=RANDOM_STATE)\n",
    "best = RScat.fit(x_train, y_train, cat_features=categorical)\n",
    "print('Best Params: ', best.best_params_)\n",
    "print(best.best_score_)\n"
   ]
  },
  {
   "cell_type": "markdown",
   "metadata": {},
   "source": [
    "### LGBM"
   ]
  },
  {
   "cell_type": "code",
   "execution_count": null,
   "metadata": {},
   "outputs": [
    {
     "name": "stdout",
     "output_type": "stream",
     "text": [
      "Fitting 3 folds for each of 10 candidates, totalling 30 fits\n",
      "[CV 1/3; 1/10] START learning_rate=0.25, max_depth=8, n_estimators=100..........\n",
      "[CV 1/3; 1/10] END learning_rate=0.25, max_depth=8, n_estimators=100;, score=0.886 total time=   0.0s\n",
      "[CV 2/3; 1/10] START learning_rate=0.25, max_depth=8, n_estimators=100..........\n",
      "[CV 2/3; 1/10] END learning_rate=0.25, max_depth=8, n_estimators=100;, score=0.897 total time=   0.0s\n",
      "[CV 3/3; 1/10] START learning_rate=0.25, max_depth=8, n_estimators=100..........\n",
      "[CV 3/3; 1/10] END learning_rate=0.25, max_depth=8, n_estimators=100;, score=0.870 total time=   0.0s\n",
      "[CV 1/3; 2/10] START learning_rate=0.09999999999999999, max_depth=9, n_estimators=350\n",
      "[CV 1/3; 2/10] END learning_rate=0.09999999999999999, max_depth=9, n_estimators=350;, score=0.887 total time=   0.2s\n",
      "[CV 2/3; 2/10] START learning_rate=0.09999999999999999, max_depth=9, n_estimators=350\n",
      "[CV 2/3; 2/10] END learning_rate=0.09999999999999999, max_depth=9, n_estimators=350;, score=0.897 total time=   0.2s\n",
      "[CV 3/3; 2/10] START learning_rate=0.09999999999999999, max_depth=9, n_estimators=350\n",
      "[CV 3/3; 2/10] END learning_rate=0.09999999999999999, max_depth=9, n_estimators=350;, score=0.875 total time=   0.2s\n",
      "[CV 1/3; 3/10] START learning_rate=0.25, max_depth=5, n_estimators=200..........\n",
      "[CV 1/3; 3/10] END learning_rate=0.25, max_depth=5, n_estimators=200;, score=0.890 total time=   0.0s\n",
      "[CV 2/3; 3/10] START learning_rate=0.25, max_depth=5, n_estimators=200..........\n",
      "[CV 2/3; 3/10] END learning_rate=0.25, max_depth=5, n_estimators=200;, score=0.895 total time=   0.0s\n",
      "[CV 3/3; 3/10] START learning_rate=0.25, max_depth=5, n_estimators=200..........\n",
      "[CV 3/3; 3/10] END learning_rate=0.25, max_depth=5, n_estimators=200;, score=0.874 total time=   0.0s\n",
      "[CV 1/3; 4/10] START learning_rate=0.31, max_depth=1, n_estimators=150..........\n",
      "[CV 1/3; 4/10] END learning_rate=0.31, max_depth=1, n_estimators=150;, score=0.857 total time=   0.0s\n",
      "[CV 2/3; 4/10] START learning_rate=0.31, max_depth=1, n_estimators=150..........\n",
      "[CV 2/3; 4/10] END learning_rate=0.31, max_depth=1, n_estimators=150;, score=0.885 total time=   0.0s\n",
      "[CV 3/3; 4/10] START learning_rate=0.31, max_depth=1, n_estimators=150..........\n",
      "[CV 3/3; 4/10] END learning_rate=0.31, max_depth=1, n_estimators=150;, score=0.847 total time=   0.0s\n",
      "[CV 1/3; 5/10] START learning_rate=0.09999999999999999, max_depth=7, n_estimators=300\n",
      "[CV 1/3; 5/10] END learning_rate=0.09999999999999999, max_depth=7, n_estimators=300;, score=0.885 total time=   0.1s\n",
      "[CV 2/3; 5/10] START learning_rate=0.09999999999999999, max_depth=7, n_estimators=300\n",
      "[CV 2/3; 5/10] END learning_rate=0.09999999999999999, max_depth=7, n_estimators=300;, score=0.908 total time=   0.1s\n",
      "[CV 3/3; 5/10] START learning_rate=0.09999999999999999, max_depth=7, n_estimators=300\n",
      "[CV 3/3; 5/10] END learning_rate=0.09999999999999999, max_depth=7, n_estimators=300;, score=0.872 total time=   0.1s\n",
      "[CV 1/3; 6/10] START learning_rate=0.19, max_depth=6, n_estimators=200..........\n",
      "[CV 1/3; 6/10] END learning_rate=0.19, max_depth=6, n_estimators=200;, score=0.883 total time=   0.0s\n",
      "[CV 2/3; 6/10] START learning_rate=0.19, max_depth=6, n_estimators=200..........\n",
      "[CV 2/3; 6/10] END learning_rate=0.19, max_depth=6, n_estimators=200;, score=0.902 total time=   0.0s\n",
      "[CV 3/3; 6/10] START learning_rate=0.19, max_depth=6, n_estimators=200..........\n",
      "[CV 3/3; 6/10] END learning_rate=0.19, max_depth=6, n_estimators=200;, score=0.872 total time=   0.0s\n",
      "[CV 1/3; 7/10] START learning_rate=0.37, max_depth=4, n_estimators=350..........\n",
      "[CV 1/3; 7/10] END learning_rate=0.37, max_depth=4, n_estimators=350;, score=0.887 total time=   0.1s\n",
      "[CV 2/3; 7/10] START learning_rate=0.37, max_depth=4, n_estimators=350..........\n",
      "[CV 2/3; 7/10] END learning_rate=0.37, max_depth=4, n_estimators=350;, score=0.896 total time=   0.0s\n",
      "[CV 3/3; 7/10] START learning_rate=0.37, max_depth=4, n_estimators=350..........\n",
      "[CV 3/3; 7/10] END learning_rate=0.37, max_depth=4, n_estimators=350;, score=0.878 total time=   0.0s\n",
      "[CV 1/3; 8/10] START learning_rate=0.33999999999999997, max_depth=3, n_estimators=150\n",
      "[CV 1/3; 8/10] END learning_rate=0.33999999999999997, max_depth=3, n_estimators=150;, score=0.893 total time=   0.0s\n",
      "[CV 2/3; 8/10] START learning_rate=0.33999999999999997, max_depth=3, n_estimators=150\n",
      "[CV 2/3; 8/10] END learning_rate=0.33999999999999997, max_depth=3, n_estimators=150;, score=0.902 total time=   0.0s\n",
      "[CV 3/3; 8/10] START learning_rate=0.33999999999999997, max_depth=3, n_estimators=150\n",
      "[CV 3/3; 8/10] END learning_rate=0.33999999999999997, max_depth=3, n_estimators=150;, score=0.884 total time=   0.0s\n",
      "[CV 1/3; 9/10] START learning_rate=0.09999999999999999, max_depth=3, n_estimators=50\n",
      "[CV 1/3; 9/10] END learning_rate=0.09999999999999999, max_depth=3, n_estimators=50;, score=0.863 total time=   0.0s\n",
      "[CV 2/3; 9/10] START learning_rate=0.09999999999999999, max_depth=3, n_estimators=50\n",
      "[CV 2/3; 9/10] END learning_rate=0.09999999999999999, max_depth=3, n_estimators=50;, score=0.892 total time=   0.0s\n",
      "[CV 3/3; 9/10] START learning_rate=0.09999999999999999, max_depth=3, n_estimators=50\n",
      "[CV 3/3; 9/10] END learning_rate=0.09999999999999999, max_depth=3, n_estimators=50;, score=0.856 total time=   0.0s\n",
      "[CV 1/3; 10/10] START learning_rate=0.28, max_depth=1, n_estimators=250.........\n",
      "[CV 1/3; 10/10] END learning_rate=0.28, max_depth=1, n_estimators=250;, score=0.859 total time=   0.0s\n",
      "[CV 2/3; 10/10] START learning_rate=0.28, max_depth=1, n_estimators=250.........\n",
      "[CV 2/3; 10/10] END learning_rate=0.28, max_depth=1, n_estimators=250;, score=0.887 total time=   0.0s\n",
      "[CV 3/3; 10/10] START learning_rate=0.28, max_depth=1, n_estimators=250.........\n",
      "[CV 3/3; 10/10] END learning_rate=0.28, max_depth=1, n_estimators=250;, score=0.849 total time=   0.0s\n",
      "Best Params:  {'n_estimators': 150, 'max_depth': 3, 'learning_rate': 0.33999999999999997}\n",
      "0.8930150835783172\n"
     ]
    }
   ],
   "source": [
    "parameters ={'max_depth': range(1, 11), \n",
    "             'n_estimators': range(50, 351, 50),\n",
    "             'learning_rate':np.arange(0.01, 0.4, 0.03)\n",
    "             }\n",
    "\n",
    "model = LGBMClassifier(random_state=RANDOM_STATE)\n",
    "RSlgmb = RandomizedSearchCV(model,parameters,scoring='roc_auc', cv = 3,random_state=RANDOM_STATE, verbose=100)\n",
    "best = RSlgmb.fit(x_train, y_train)\n",
    "print('Best Params: ', best.best_params_)\n",
    "print(best.best_score_)"
   ]
  },
  {
   "cell_type": "markdown",
   "metadata": {},
   "source": [
    "### тюнинг наилучших моделей"
   ]
  },
  {
   "cell_type": "markdown",
   "metadata": {},
   "source": [
    "бейслайн с минимальным тюном побили лес, кэтбуст и сгд;\n",
    "\n",
    "две последних показали перспективные 0.897 и 0.893; \n",
    "\n",
    "проведем поиск наилучших гиперпараметров"
   ]
  },
  {
   "cell_type": "code",
   "execution_count": 84,
   "metadata": {},
   "outputs": [
    {
     "name": "stdout",
     "output_type": "stream",
     "text": [
      "0:\ttotal: 13.5ms\tremaining: 2.88s\n",
      "50:\ttotal: 811ms\tremaining: 2.61s\n",
      "100:\ttotal: 1.63s\tremaining: 1.83s\n",
      "150:\ttotal: 2.44s\tremaining: 1.03s\n",
      "200:\ttotal: 3.28s\tremaining: 228ms\n",
      "214:\ttotal: 3.51s\tremaining: 0us\n",
      "0:\ttotal: 15ms\tremaining: 3.21s\n",
      "50:\ttotal: 816ms\tremaining: 2.62s\n",
      "100:\ttotal: 1.64s\tremaining: 1.85s\n",
      "150:\ttotal: 2.46s\tremaining: 1.04s\n",
      "200:\ttotal: 3.28s\tremaining: 229ms\n",
      "214:\ttotal: 3.51s\tremaining: 0us\n",
      "0:\ttotal: 14.4ms\tremaining: 3.09s\n",
      "50:\ttotal: 801ms\tremaining: 2.58s\n",
      "100:\ttotal: 1.6s\tremaining: 1.81s\n",
      "150:\ttotal: 2.43s\tremaining: 1.03s\n",
      "200:\ttotal: 3.25s\tremaining: 227ms\n",
      "214:\ttotal: 3.49s\tremaining: 0us\n",
      "0:\ttotal: 20.7ms\tremaining: 4.42s\n",
      "50:\ttotal: 846ms\tremaining: 2.72s\n",
      "100:\ttotal: 1.67s\tremaining: 1.89s\n",
      "150:\ttotal: 2.51s\tremaining: 1.06s\n",
      "200:\ttotal: 3.44s\tremaining: 240ms\n",
      "214:\ttotal: 3.68s\tremaining: 0us\n",
      "0:\ttotal: 14.6ms\tremaining: 3.12s\n",
      "50:\ttotal: 850ms\tremaining: 2.73s\n",
      "100:\ttotal: 1.66s\tremaining: 1.88s\n",
      "150:\ttotal: 2.5s\tremaining: 1.06s\n",
      "200:\ttotal: 3.33s\tremaining: 232ms\n",
      "214:\ttotal: 3.57s\tremaining: 0us\n",
      "0:\ttotal: 3.89ms\tremaining: 1.13s\n",
      "50:\ttotal: 327ms\tremaining: 1.53s\n",
      "100:\ttotal: 661ms\tremaining: 1.24s\n",
      "150:\ttotal: 976ms\tremaining: 899ms\n",
      "200:\ttotal: 1.32s\tremaining: 584ms\n",
      "250:\ttotal: 1.64s\tremaining: 254ms\n",
      "289:\ttotal: 1.88s\tremaining: 0us\n",
      "0:\ttotal: 3.63ms\tremaining: 1.05s\n",
      "50:\ttotal: 346ms\tremaining: 1.62s\n",
      "100:\ttotal: 660ms\tremaining: 1.24s\n",
      "150:\ttotal: 970ms\tremaining: 893ms\n",
      "200:\ttotal: 1.29s\tremaining: 574ms\n",
      "250:\ttotal: 1.61s\tremaining: 251ms\n",
      "289:\ttotal: 1.85s\tremaining: 0us\n",
      "0:\ttotal: 3.71ms\tremaining: 1.07s\n",
      "50:\ttotal: 322ms\tremaining: 1.51s\n",
      "100:\ttotal: 667ms\tremaining: 1.25s\n",
      "150:\ttotal: 1s\tremaining: 924ms\n",
      "200:\ttotal: 1.32s\tremaining: 585ms\n",
      "250:\ttotal: 1.64s\tremaining: 255ms\n",
      "289:\ttotal: 1.87s\tremaining: 0us\n",
      "0:\ttotal: 3.77ms\tremaining: 1.09s\n",
      "50:\ttotal: 312ms\tremaining: 1.46s\n",
      "100:\ttotal: 619ms\tremaining: 1.16s\n",
      "150:\ttotal: 937ms\tremaining: 863ms\n",
      "200:\ttotal: 1.26s\tremaining: 557ms\n",
      "250:\ttotal: 1.59s\tremaining: 248ms\n",
      "289:\ttotal: 1.82s\tremaining: 0us\n",
      "0:\ttotal: 3.56ms\tremaining: 1.03s\n",
      "50:\ttotal: 330ms\tremaining: 1.55s\n",
      "100:\ttotal: 638ms\tremaining: 1.19s\n",
      "150:\ttotal: 944ms\tremaining: 869ms\n",
      "200:\ttotal: 1.3s\tremaining: 574ms\n",
      "250:\ttotal: 1.61s\tremaining: 251ms\n",
      "289:\ttotal: 1.84s\tremaining: 0us\n",
      "0:\ttotal: 7.07ms\tremaining: 2.57s\n",
      "50:\ttotal: 473ms\tremaining: 2.91s\n",
      "100:\ttotal: 981ms\tremaining: 2.56s\n",
      "150:\ttotal: 1.51s\tremaining: 2.14s\n",
      "200:\ttotal: 1.98s\tremaining: 1.61s\n",
      "250:\ttotal: 2.46s\tremaining: 1.12s\n",
      "300:\ttotal: 2.93s\tremaining: 624ms\n",
      "350:\ttotal: 3.42s\tremaining: 137ms\n",
      "364:\ttotal: 3.56s\tremaining: 0us\n",
      "0:\ttotal: 7.11ms\tremaining: 2.59s\n",
      "50:\ttotal: 472ms\tremaining: 2.91s\n",
      "100:\ttotal: 950ms\tremaining: 2.48s\n",
      "150:\ttotal: 1.42s\tremaining: 2.01s\n",
      "200:\ttotal: 1.9s\tremaining: 1.55s\n",
      "250:\ttotal: 2.36s\tremaining: 1.07s\n",
      "300:\ttotal: 2.84s\tremaining: 604ms\n",
      "350:\ttotal: 3.31s\tremaining: 132ms\n",
      "364:\ttotal: 3.45s\tremaining: 0us\n",
      "0:\ttotal: 7.02ms\tremaining: 2.55s\n",
      "50:\ttotal: 491ms\tremaining: 3.02s\n",
      "100:\ttotal: 980ms\tremaining: 2.56s\n",
      "150:\ttotal: 1.46s\tremaining: 2.06s\n",
      "200:\ttotal: 1.92s\tremaining: 1.57s\n",
      "250:\ttotal: 2.4s\tremaining: 1.09s\n",
      "300:\ttotal: 2.86s\tremaining: 609ms\n",
      "350:\ttotal: 3.34s\tremaining: 133ms\n",
      "364:\ttotal: 3.49s\tremaining: 0us\n",
      "0:\ttotal: 7.32ms\tremaining: 2.66s\n",
      "50:\ttotal: 476ms\tremaining: 2.93s\n",
      "100:\ttotal: 950ms\tremaining: 2.48s\n",
      "150:\ttotal: 1.42s\tremaining: 2.02s\n",
      "200:\ttotal: 1.89s\tremaining: 1.54s\n",
      "250:\ttotal: 2.36s\tremaining: 1.07s\n",
      "300:\ttotal: 2.84s\tremaining: 604ms\n",
      "350:\ttotal: 3.31s\tremaining: 132ms\n",
      "364:\ttotal: 3.44s\tremaining: 0us\n",
      "0:\ttotal: 7.07ms\tremaining: 2.57s\n",
      "50:\ttotal: 476ms\tremaining: 2.93s\n",
      "100:\ttotal: 970ms\tremaining: 2.54s\n",
      "150:\ttotal: 1.43s\tremaining: 2.03s\n",
      "200:\ttotal: 1.91s\tremaining: 1.56s\n",
      "250:\ttotal: 2.38s\tremaining: 1.08s\n",
      "300:\ttotal: 2.87s\tremaining: 610ms\n",
      "350:\ttotal: 3.35s\tremaining: 133ms\n",
      "364:\ttotal: 3.49s\tremaining: 0us\n",
      "0:\ttotal: 10.3ms\tremaining: 2.68s\n",
      "50:\ttotal: 669ms\tremaining: 2.74s\n",
      "100:\ttotal: 1.3s\tremaining: 2.04s\n",
      "150:\ttotal: 1.92s\tremaining: 1.38s\n",
      "200:\ttotal: 2.58s\tremaining: 756ms\n",
      "250:\ttotal: 3.22s\tremaining: 116ms\n",
      "259:\ttotal: 3.34s\tremaining: 0us\n",
      "0:\ttotal: 13.3ms\tremaining: 3.45s\n",
      "50:\ttotal: 670ms\tremaining: 2.74s\n",
      "100:\ttotal: 1.32s\tremaining: 2.08s\n",
      "150:\ttotal: 1.97s\tremaining: 1.42s\n",
      "200:\ttotal: 2.6s\tremaining: 762ms\n",
      "250:\ttotal: 3.23s\tremaining: 116ms\n",
      "259:\ttotal: 3.34s\tremaining: 0us\n",
      "0:\ttotal: 10.1ms\tremaining: 2.62s\n",
      "50:\ttotal: 621ms\tremaining: 2.55s\n",
      "100:\ttotal: 1.24s\tremaining: 1.96s\n",
      "150:\ttotal: 1.89s\tremaining: 1.36s\n",
      "200:\ttotal: 2.53s\tremaining: 742ms\n",
      "250:\ttotal: 3.16s\tremaining: 113ms\n",
      "259:\ttotal: 3.28s\tremaining: 0us\n",
      "0:\ttotal: 10.8ms\tremaining: 2.79s\n",
      "50:\ttotal: 627ms\tremaining: 2.57s\n",
      "100:\ttotal: 1.25s\tremaining: 1.98s\n",
      "150:\ttotal: 1.88s\tremaining: 1.36s\n",
      "200:\ttotal: 2.51s\tremaining: 738ms\n",
      "250:\ttotal: 3.13s\tremaining: 112ms\n",
      "259:\ttotal: 3.24s\tremaining: 0us\n",
      "0:\ttotal: 10.9ms\tremaining: 2.83s\n",
      "50:\ttotal: 611ms\tremaining: 2.5s\n",
      "100:\ttotal: 1.24s\tremaining: 1.95s\n",
      "150:\ttotal: 1.85s\tremaining: 1.33s\n",
      "200:\ttotal: 2.48s\tremaining: 727ms\n",
      "250:\ttotal: 3.09s\tremaining: 111ms\n",
      "259:\ttotal: 3.22s\tremaining: 0us\n",
      "0:\ttotal: 13.9ms\tremaining: 4.43s\n",
      "50:\ttotal: 785ms\tremaining: 4.14s\n",
      "100:\ttotal: 1.6s\tremaining: 3.46s\n",
      "150:\ttotal: 2.39s\tremaining: 2.68s\n",
      "200:\ttotal: 3.18s\tremaining: 1.89s\n",
      "250:\ttotal: 3.96s\tremaining: 1.09s\n",
      "300:\ttotal: 4.74s\tremaining: 299ms\n",
      "319:\ttotal: 5.05s\tremaining: 0us\n",
      "0:\ttotal: 14.2ms\tremaining: 4.54s\n",
      "50:\ttotal: 799ms\tremaining: 4.21s\n",
      "100:\ttotal: 1.58s\tremaining: 3.44s\n",
      "150:\ttotal: 2.38s\tremaining: 2.66s\n",
      "200:\ttotal: 3.16s\tremaining: 1.87s\n",
      "250:\ttotal: 3.96s\tremaining: 1.09s\n",
      "300:\ttotal: 4.75s\tremaining: 300ms\n",
      "319:\ttotal: 5.06s\tremaining: 0us\n",
      "0:\ttotal: 13ms\tremaining: 4.16s\n",
      "50:\ttotal: 768ms\tremaining: 4.05s\n",
      "100:\ttotal: 1.6s\tremaining: 3.47s\n",
      "150:\ttotal: 2.41s\tremaining: 2.69s\n",
      "200:\ttotal: 3.2s\tremaining: 1.9s\n",
      "250:\ttotal: 4s\tremaining: 1.1s\n",
      "300:\ttotal: 4.79s\tremaining: 303ms\n",
      "319:\ttotal: 5.09s\tremaining: 0us\n",
      "0:\ttotal: 13.8ms\tremaining: 4.39s\n",
      "50:\ttotal: 814ms\tremaining: 4.29s\n",
      "100:\ttotal: 1.62s\tremaining: 3.5s\n",
      "150:\ttotal: 2.4s\tremaining: 2.69s\n",
      "200:\ttotal: 3.19s\tremaining: 1.89s\n",
      "250:\ttotal: 3.99s\tremaining: 1.09s\n",
      "300:\ttotal: 4.85s\tremaining: 306ms\n",
      "319:\ttotal: 5.19s\tremaining: 0us\n",
      "0:\ttotal: 13.8ms\tremaining: 4.39s\n",
      "50:\ttotal: 885ms\tremaining: 4.67s\n",
      "100:\ttotal: 1.73s\tremaining: 3.75s\n",
      "150:\ttotal: 2.52s\tremaining: 2.82s\n",
      "200:\ttotal: 3.37s\tremaining: 1.99s\n",
      "250:\ttotal: 4.24s\tremaining: 1.17s\n",
      "300:\ttotal: 5.09s\tremaining: 321ms\n",
      "319:\ttotal: 5.4s\tremaining: 0us\n",
      "0:\ttotal: 13.4ms\tremaining: 2.87s\n",
      "50:\ttotal: 809ms\tremaining: 2.6s\n",
      "100:\ttotal: 1.65s\tremaining: 1.86s\n",
      "150:\ttotal: 2.52s\tremaining: 1.07s\n",
      "200:\ttotal: 3.37s\tremaining: 235ms\n",
      "214:\ttotal: 3.6s\tremaining: 0us\n",
      "0:\ttotal: 13.8ms\tremaining: 2.96s\n",
      "50:\ttotal: 863ms\tremaining: 2.77s\n",
      "100:\ttotal: 1.69s\tremaining: 1.91s\n",
      "150:\ttotal: 2.52s\tremaining: 1.07s\n",
      "200:\ttotal: 3.34s\tremaining: 233ms\n",
      "214:\ttotal: 3.58s\tremaining: 0us\n",
      "0:\ttotal: 14.6ms\tremaining: 3.12s\n",
      "50:\ttotal: 828ms\tremaining: 2.66s\n",
      "100:\ttotal: 1.69s\tremaining: 1.91s\n",
      "150:\ttotal: 2.55s\tremaining: 1.08s\n",
      "200:\ttotal: 3.43s\tremaining: 239ms\n",
      "214:\ttotal: 3.66s\tremaining: 0us\n",
      "0:\ttotal: 14.7ms\tremaining: 3.13s\n",
      "50:\ttotal: 826ms\tremaining: 2.65s\n",
      "100:\ttotal: 1.67s\tremaining: 1.89s\n",
      "150:\ttotal: 2.55s\tremaining: 1.08s\n",
      "200:\ttotal: 3.45s\tremaining: 240ms\n",
      "214:\ttotal: 3.68s\tremaining: 0us\n",
      "0:\ttotal: 14.3ms\tremaining: 3.05s\n",
      "50:\ttotal: 828ms\tremaining: 2.66s\n",
      "100:\ttotal: 1.66s\tremaining: 1.88s\n",
      "150:\ttotal: 2.5s\tremaining: 1.06s\n",
      "200:\ttotal: 3.36s\tremaining: 234ms\n",
      "214:\ttotal: 3.59s\tremaining: 0us\n",
      "0:\ttotal: 7.07ms\tremaining: 2.57s\n",
      "50:\ttotal: 481ms\tremaining: 2.96s\n",
      "100:\ttotal: 991ms\tremaining: 2.59s\n",
      "150:\ttotal: 1.48s\tremaining: 2.1s\n",
      "200:\ttotal: 1.98s\tremaining: 1.62s\n",
      "250:\ttotal: 2.51s\tremaining: 1.14s\n",
      "300:\ttotal: 3.02s\tremaining: 643ms\n",
      "350:\ttotal: 3.52s\tremaining: 141ms\n",
      "364:\ttotal: 3.66s\tremaining: 0us\n",
      "0:\ttotal: 7.29ms\tremaining: 2.65s\n",
      "50:\ttotal: 515ms\tremaining: 3.17s\n",
      "100:\ttotal: 1s\tremaining: 2.63s\n",
      "150:\ttotal: 1.51s\tremaining: 2.14s\n",
      "200:\ttotal: 2.01s\tremaining: 1.64s\n",
      "250:\ttotal: 2.51s\tremaining: 1.14s\n",
      "300:\ttotal: 2.99s\tremaining: 636ms\n",
      "350:\ttotal: 3.5s\tremaining: 139ms\n",
      "364:\ttotal: 3.63s\tremaining: 0us\n",
      "0:\ttotal: 7.22ms\tremaining: 2.63s\n",
      "50:\ttotal: 497ms\tremaining: 3.06s\n",
      "100:\ttotal: 1.03s\tremaining: 2.69s\n",
      "150:\ttotal: 1.51s\tremaining: 2.15s\n",
      "200:\ttotal: 2s\tremaining: 1.64s\n",
      "250:\ttotal: 2.49s\tremaining: 1.13s\n",
      "300:\ttotal: 3s\tremaining: 638ms\n",
      "350:\ttotal: 3.49s\tremaining: 139ms\n",
      "364:\ttotal: 3.62s\tremaining: 0us\n",
      "0:\ttotal: 7.08ms\tremaining: 2.58s\n",
      "50:\ttotal: 521ms\tremaining: 3.21s\n",
      "100:\ttotal: 999ms\tremaining: 2.61s\n",
      "150:\ttotal: 1.55s\tremaining: 2.19s\n",
      "200:\ttotal: 2.03s\tremaining: 1.66s\n",
      "250:\ttotal: 2.51s\tremaining: 1.14s\n",
      "300:\ttotal: 3s\tremaining: 639ms\n",
      "350:\ttotal: 3.48s\tremaining: 139ms\n",
      "364:\ttotal: 3.61s\tremaining: 0us\n",
      "0:\ttotal: 7.3ms\tremaining: 2.66s\n",
      "50:\ttotal: 512ms\tremaining: 3.15s\n",
      "100:\ttotal: 990ms\tremaining: 2.59s\n",
      "150:\ttotal: 1.47s\tremaining: 2.08s\n",
      "200:\ttotal: 1.97s\tremaining: 1.61s\n",
      "250:\ttotal: 2.46s\tremaining: 1.12s\n",
      "300:\ttotal: 3s\tremaining: 638ms\n",
      "350:\ttotal: 3.47s\tremaining: 139ms\n",
      "364:\ttotal: 3.61s\tremaining: 0us\n",
      "0:\ttotal: 15ms\tremaining: 5.45s\n",
      "50:\ttotal: 781ms\tremaining: 4.81s\n",
      "100:\ttotal: 1.59s\tremaining: 4.17s\n",
      "150:\ttotal: 2.38s\tremaining: 3.37s\n",
      "200:\ttotal: 3.21s\tremaining: 2.62s\n",
      "250:\ttotal: 4.05s\tremaining: 1.84s\n",
      "300:\ttotal: 4.86s\tremaining: 1.03s\n",
      "350:\ttotal: 5.75s\tremaining: 230ms\n",
      "364:\ttotal: 6s\tremaining: 0us\n",
      "0:\ttotal: 14.9ms\tremaining: 5.44s\n",
      "50:\ttotal: 855ms\tremaining: 5.26s\n",
      "100:\ttotal: 1.73s\tremaining: 4.53s\n",
      "150:\ttotal: 2.63s\tremaining: 3.72s\n",
      "200:\ttotal: 3.45s\tremaining: 2.82s\n",
      "250:\ttotal: 4.31s\tremaining: 1.96s\n",
      "300:\ttotal: 5.13s\tremaining: 1.09s\n",
      "350:\ttotal: 5.94s\tremaining: 237ms\n",
      "364:\ttotal: 6.17s\tremaining: 0us\n",
      "0:\ttotal: 13.3ms\tremaining: 4.83s\n",
      "50:\ttotal: 864ms\tremaining: 5.32s\n",
      "100:\ttotal: 1.71s\tremaining: 4.46s\n",
      "150:\ttotal: 2.57s\tremaining: 3.64s\n",
      "200:\ttotal: 3.46s\tremaining: 2.82s\n",
      "250:\ttotal: 4.29s\tremaining: 1.95s\n",
      "300:\ttotal: 5.12s\tremaining: 1.09s\n",
      "350:\ttotal: 5.97s\tremaining: 238ms\n",
      "364:\ttotal: 6.21s\tremaining: 0us\n",
      "0:\ttotal: 13.7ms\tremaining: 4.99s\n",
      "50:\ttotal: 853ms\tremaining: 5.25s\n",
      "100:\ttotal: 1.75s\tremaining: 4.57s\n",
      "150:\ttotal: 2.57s\tremaining: 3.64s\n",
      "200:\ttotal: 3.43s\tremaining: 2.8s\n",
      "250:\ttotal: 4.27s\tremaining: 1.94s\n",
      "300:\ttotal: 5.13s\tremaining: 1.09s\n",
      "350:\ttotal: 5.97s\tremaining: 238ms\n",
      "364:\ttotal: 6.2s\tremaining: 0us\n",
      "0:\ttotal: 14.3ms\tremaining: 5.2s\n",
      "50:\ttotal: 834ms\tremaining: 5.13s\n",
      "100:\ttotal: 1.64s\tremaining: 4.28s\n",
      "150:\ttotal: 2.41s\tremaining: 3.42s\n",
      "200:\ttotal: 3.2s\tremaining: 2.61s\n",
      "250:\ttotal: 4s\tremaining: 1.82s\n",
      "300:\ttotal: 4.83s\tremaining: 1.03s\n",
      "350:\ttotal: 5.62s\tremaining: 224ms\n",
      "364:\ttotal: 5.84s\tremaining: 0us\n",
      "0:\ttotal: 10.2ms\tremaining: 2.65s\n",
      "50:\ttotal: 645ms\tremaining: 2.64s\n",
      "100:\ttotal: 1.31s\tremaining: 2.06s\n",
      "150:\ttotal: 1.98s\tremaining: 1.43s\n",
      "200:\ttotal: 2.64s\tremaining: 776ms\n",
      "250:\ttotal: 3.28s\tremaining: 118ms\n",
      "259:\ttotal: 3.41s\tremaining: 0us\n",
      "0:\ttotal: 10.7ms\tremaining: 2.77s\n",
      "50:\ttotal: 663ms\tremaining: 2.72s\n",
      "100:\ttotal: 1.38s\tremaining: 2.17s\n",
      "150:\ttotal: 2.02s\tremaining: 1.46s\n",
      "200:\ttotal: 2.7s\tremaining: 793ms\n",
      "250:\ttotal: 3.38s\tremaining: 121ms\n",
      "259:\ttotal: 3.49s\tremaining: 0us\n",
      "0:\ttotal: 10.6ms\tremaining: 2.74s\n",
      "50:\ttotal: 636ms\tremaining: 2.6s\n",
      "100:\ttotal: 1.28s\tremaining: 2.01s\n",
      "150:\ttotal: 1.94s\tremaining: 1.4s\n",
      "200:\ttotal: 2.59s\tremaining: 761ms\n",
      "250:\ttotal: 3.25s\tremaining: 117ms\n",
      "259:\ttotal: 3.37s\tremaining: 0us\n",
      "0:\ttotal: 10.6ms\tremaining: 2.73s\n",
      "50:\ttotal: 641ms\tremaining: 2.63s\n",
      "100:\ttotal: 1.33s\tremaining: 2.09s\n",
      "150:\ttotal: 2.01s\tremaining: 1.45s\n",
      "200:\ttotal: 2.67s\tremaining: 782ms\n",
      "250:\ttotal: 3.3s\tremaining: 118ms\n",
      "259:\ttotal: 3.42s\tremaining: 0us\n",
      "0:\ttotal: 11.1ms\tremaining: 2.87s\n",
      "50:\ttotal: 633ms\tremaining: 2.59s\n",
      "100:\ttotal: 1.29s\tremaining: 2.03s\n",
      "150:\ttotal: 1.92s\tremaining: 1.39s\n",
      "200:\ttotal: 2.56s\tremaining: 750ms\n",
      "250:\ttotal: 3.22s\tremaining: 115ms\n",
      "259:\ttotal: 3.33s\tremaining: 0us\n",
      "0:\ttotal: 7.6ms\tremaining: 2.65s\n",
      "50:\ttotal: 532ms\tremaining: 3.12s\n",
      "100:\ttotal: 1.04s\tremaining: 2.57s\n",
      "150:\ttotal: 1.52s\tremaining: 2s\n",
      "200:\ttotal: 2.01s\tremaining: 1.49s\n",
      "250:\ttotal: 2.47s\tremaining: 976ms\n",
      "300:\ttotal: 2.94s\tremaining: 479ms\n",
      "349:\ttotal: 3.4s\tremaining: 0us\n",
      "0:\ttotal: 6.85ms\tremaining: 2.39s\n",
      "50:\ttotal: 478ms\tremaining: 2.8s\n",
      "100:\ttotal: 951ms\tremaining: 2.34s\n",
      "150:\ttotal: 1.42s\tremaining: 1.88s\n",
      "200:\ttotal: 1.89s\tremaining: 1.4s\n",
      "250:\ttotal: 2.37s\tremaining: 934ms\n",
      "300:\ttotal: 2.84s\tremaining: 462ms\n",
      "349:\ttotal: 3.31s\tremaining: 0us\n",
      "0:\ttotal: 7.61ms\tremaining: 2.65s\n",
      "50:\ttotal: 499ms\tremaining: 2.92s\n",
      "100:\ttotal: 1000ms\tremaining: 2.46s\n",
      "150:\ttotal: 1.49s\tremaining: 1.97s\n",
      "200:\ttotal: 1.97s\tremaining: 1.46s\n",
      "250:\ttotal: 2.48s\tremaining: 976ms\n",
      "300:\ttotal: 3.01s\tremaining: 490ms\n",
      "349:\ttotal: 3.49s\tremaining: 0us\n",
      "0:\ttotal: 7.17ms\tremaining: 2.5s\n",
      "50:\ttotal: 477ms\tremaining: 2.8s\n",
      "100:\ttotal: 951ms\tremaining: 2.34s\n",
      "150:\ttotal: 1.42s\tremaining: 1.87s\n",
      "200:\ttotal: 1.89s\tremaining: 1.4s\n",
      "250:\ttotal: 2.4s\tremaining: 945ms\n",
      "300:\ttotal: 2.89s\tremaining: 470ms\n",
      "349:\ttotal: 3.37s\tremaining: 0us\n",
      "0:\ttotal: 6.99ms\tremaining: 2.44s\n",
      "50:\ttotal: 494ms\tremaining: 2.9s\n",
      "100:\ttotal: 964ms\tremaining: 2.38s\n",
      "150:\ttotal: 1.46s\tremaining: 1.92s\n",
      "200:\ttotal: 1.92s\tremaining: 1.43s\n",
      "250:\ttotal: 2.4s\tremaining: 948ms\n",
      "300:\ttotal: 2.92s\tremaining: 476ms\n",
      "349:\ttotal: 3.41s\tremaining: 0us\n",
      "0:\ttotal: 7.48ms\tremaining: 2.72s\n",
      "50:\ttotal: 519ms\tremaining: 3.2s\n",
      "100:\ttotal: 1.03s\tremaining: 2.7s\n",
      "150:\ttotal: 1.59s\tremaining: 2.25s\n",
      "200:\ttotal: 2.1s\tremaining: 1.71s\n",
      "250:\ttotal: 2.58s\tremaining: 1.17s\n",
      "300:\ttotal: 3.11s\tremaining: 662ms\n",
      "350:\ttotal: 3.63s\tremaining: 145ms\n",
      "364:\ttotal: 3.77s\tremaining: 0us\n",
      "Best Params:  {'learning_rate': 0.36, 'iterations': 365, 'depth': 2}\n",
      "0.913037845127595\n"
     ]
    }
   ],
   "source": [
    "parameters ={'depth': range(1, 5), \n",
    "             'iterations':range(200, 400, 15),\n",
    "             'learning_rate': [x / 100 for x in range(20,40,2)]\n",
    "             }\n",
    "    \n",
    "model = CatBoostClassifier(loss_function=\"Logloss\", eval_metric ='AUC',verbose=50, random_state=RANDOM_STATE)\n",
    "RS_cat = RandomizedSearchCV(model,parameters,scoring='roc_auc', cv = 5, random_state=RANDOM_STATE)\n",
    "best = RS_cat.fit(x_train, y_train, cat_features=categorical)\n",
    "print('Best Params: ', best.best_params_)\n",
    "print(best.best_score_)"
   ]
  },
  {
   "cell_type": "code",
   "execution_count": 85,
   "metadata": {},
   "outputs": [
    {
     "name": "stdout",
     "output_type": "stream",
     "text": [
      "Fitting 5 folds for each of 10 candidates, totalling 50 fits\n",
      "[CV 1/5; 1/10] START learning_rate=0.24, max_depth=4, n_estimators=300..........\n",
      "[CV 1/5; 1/10] END learning_rate=0.24, max_depth=4, n_estimators=300;, score=0.903 total time=   0.0s\n",
      "[CV 2/5; 1/10] START learning_rate=0.24, max_depth=4, n_estimators=300..........\n",
      "[CV 2/5; 1/10] END learning_rate=0.24, max_depth=4, n_estimators=300;, score=0.900 total time=   0.0s\n",
      "[CV 3/5; 1/10] START learning_rate=0.24, max_depth=4, n_estimators=300..........\n",
      "[CV 3/5; 1/10] END learning_rate=0.24, max_depth=4, n_estimators=300;, score=0.912 total time=   0.0s\n",
      "[CV 4/5; 1/10] START learning_rate=0.24, max_depth=4, n_estimators=300..........\n",
      "[CV 4/5; 1/10] END learning_rate=0.24, max_depth=4, n_estimators=300;, score=0.903 total time=   0.0s\n",
      "[CV 5/5; 1/10] START learning_rate=0.24, max_depth=4, n_estimators=300..........\n",
      "[CV 5/5; 1/10] END learning_rate=0.24, max_depth=4, n_estimators=300;, score=0.886 total time=   0.0s\n",
      "[CV 1/5; 2/10] START learning_rate=0.24, max_depth=5, n_estimators=375..........\n",
      "[CV 1/5; 2/10] END learning_rate=0.24, max_depth=5, n_estimators=375;, score=0.891 total time=   0.1s\n",
      "[CV 2/5; 2/10] START learning_rate=0.24, max_depth=5, n_estimators=375..........\n",
      "[CV 2/5; 2/10] END learning_rate=0.24, max_depth=5, n_estimators=375;, score=0.899 total time=   0.2s\n",
      "[CV 3/5; 2/10] START learning_rate=0.24, max_depth=5, n_estimators=375..........\n",
      "[CV 3/5; 2/10] END learning_rate=0.24, max_depth=5, n_estimators=375;, score=0.905 total time=   0.1s\n",
      "[CV 4/5; 2/10] START learning_rate=0.24, max_depth=5, n_estimators=375..........\n",
      "[CV 4/5; 2/10] END learning_rate=0.24, max_depth=5, n_estimators=375;, score=0.892 total time=   0.1s\n",
      "[CV 5/5; 2/10] START learning_rate=0.24, max_depth=5, n_estimators=375..........\n",
      "[CV 5/5; 2/10] END learning_rate=0.24, max_depth=5, n_estimators=375;, score=0.881 total time=   0.1s\n",
      "[CV 1/5; 3/10] START learning_rate=0.24, max_depth=2, n_estimators=325..........\n",
      "[CV 1/5; 3/10] END learning_rate=0.24, max_depth=2, n_estimators=325;, score=0.898 total time=   0.0s\n",
      "[CV 2/5; 3/10] START learning_rate=0.24, max_depth=2, n_estimators=325..........\n",
      "[CV 2/5; 3/10] END learning_rate=0.24, max_depth=2, n_estimators=325;, score=0.911 total time=   0.0s\n",
      "[CV 3/5; 3/10] START learning_rate=0.24, max_depth=2, n_estimators=325..........\n",
      "[CV 3/5; 3/10] END learning_rate=0.24, max_depth=2, n_estimators=325;, score=0.914 total time=   0.0s\n",
      "[CV 4/5; 3/10] START learning_rate=0.24, max_depth=2, n_estimators=325..........\n",
      "[CV 4/5; 3/10] END learning_rate=0.24, max_depth=2, n_estimators=325;, score=0.912 total time=   0.0s\n",
      "[CV 5/5; 3/10] START learning_rate=0.24, max_depth=2, n_estimators=325..........\n",
      "[CV 5/5; 3/10] END learning_rate=0.24, max_depth=2, n_estimators=325;, score=0.886 total time=   0.0s\n",
      "[CV 1/5; 4/10] START learning_rate=0.22, max_depth=1, n_estimators=200..........\n",
      "[CV 1/5; 4/10] END learning_rate=0.22, max_depth=1, n_estimators=200;, score=0.852 total time=   0.0s\n",
      "[CV 2/5; 4/10] START learning_rate=0.22, max_depth=1, n_estimators=200..........\n",
      "[CV 2/5; 4/10] END learning_rate=0.22, max_depth=1, n_estimators=200;, score=0.864 total time=   0.0s\n",
      "[CV 3/5; 4/10] START learning_rate=0.22, max_depth=1, n_estimators=200..........\n",
      "[CV 3/5; 4/10] END learning_rate=0.22, max_depth=1, n_estimators=200;, score=0.888 total time=   0.0s\n",
      "[CV 4/5; 4/10] START learning_rate=0.22, max_depth=1, n_estimators=200..........\n",
      "[CV 4/5; 4/10] END learning_rate=0.22, max_depth=1, n_estimators=200;, score=0.866 total time=   0.0s\n",
      "[CV 5/5; 4/10] START learning_rate=0.22, max_depth=1, n_estimators=200..........\n",
      "[CV 5/5; 4/10] END learning_rate=0.22, max_depth=1, n_estimators=200;, score=0.841 total time=   0.0s\n",
      "[CV 1/5; 5/10] START learning_rate=0.2, max_depth=2, n_estimators=375...........\n",
      "[CV 1/5; 5/10] END learning_rate=0.2, max_depth=2, n_estimators=375;, score=0.898 total time=   0.0s\n",
      "[CV 2/5; 5/10] START learning_rate=0.2, max_depth=2, n_estimators=375...........\n",
      "[CV 2/5; 5/10] END learning_rate=0.2, max_depth=2, n_estimators=375;, score=0.913 total time=   0.0s\n",
      "[CV 3/5; 5/10] START learning_rate=0.2, max_depth=2, n_estimators=375...........\n",
      "[CV 3/5; 5/10] END learning_rate=0.2, max_depth=2, n_estimators=375;, score=0.913 total time=   0.0s\n",
      "[CV 4/5; 5/10] START learning_rate=0.2, max_depth=2, n_estimators=375...........\n",
      "[CV 4/5; 5/10] END learning_rate=0.2, max_depth=2, n_estimators=375;, score=0.910 total time=   0.0s\n",
      "[CV 5/5; 5/10] START learning_rate=0.2, max_depth=2, n_estimators=375...........\n",
      "[CV 5/5; 5/10] END learning_rate=0.2, max_depth=2, n_estimators=375;, score=0.886 total time=   0.0s\n",
      "[CV 1/5; 6/10] START learning_rate=0.36, max_depth=2, n_estimators=350..........\n",
      "[CV 1/5; 6/10] END learning_rate=0.36, max_depth=2, n_estimators=350;, score=0.908 total time=   0.0s\n",
      "[CV 2/5; 6/10] START learning_rate=0.36, max_depth=2, n_estimators=350..........\n",
      "[CV 2/5; 6/10] END learning_rate=0.36, max_depth=2, n_estimators=350;, score=0.915 total time=   0.0s\n",
      "[CV 3/5; 6/10] START learning_rate=0.36, max_depth=2, n_estimators=350..........\n",
      "[CV 3/5; 6/10] END learning_rate=0.36, max_depth=2, n_estimators=350;, score=0.919 total time=   0.0s\n",
      "[CV 4/5; 6/10] START learning_rate=0.36, max_depth=2, n_estimators=350..........\n",
      "[CV 4/5; 6/10] END learning_rate=0.36, max_depth=2, n_estimators=350;, score=0.918 total time=   0.0s\n",
      "[CV 5/5; 6/10] START learning_rate=0.36, max_depth=2, n_estimators=350..........\n",
      "[CV 5/5; 6/10] END learning_rate=0.36, max_depth=2, n_estimators=350;, score=0.894 total time=   0.0s\n",
      "[CV 1/5; 7/10] START learning_rate=0.28, max_depth=1, n_estimators=375..........\n",
      "[CV 1/5; 7/10] END learning_rate=0.28, max_depth=1, n_estimators=375;, score=0.857 total time=   0.0s\n",
      "[CV 2/5; 7/10] START learning_rate=0.28, max_depth=1, n_estimators=375..........\n",
      "[CV 2/5; 7/10] END learning_rate=0.28, max_depth=1, n_estimators=375;, score=0.869 total time=   0.0s\n",
      "[CV 3/5; 7/10] START learning_rate=0.28, max_depth=1, n_estimators=375..........\n",
      "[CV 3/5; 7/10] END learning_rate=0.28, max_depth=1, n_estimators=375;, score=0.890 total time=   0.0s\n",
      "[CV 4/5; 7/10] START learning_rate=0.28, max_depth=1, n_estimators=375..........\n",
      "[CV 4/5; 7/10] END learning_rate=0.28, max_depth=1, n_estimators=375;, score=0.870 total time=   0.0s\n",
      "[CV 5/5; 7/10] START learning_rate=0.28, max_depth=1, n_estimators=375..........\n",
      "[CV 5/5; 7/10] END learning_rate=0.28, max_depth=1, n_estimators=375;, score=0.845 total time=   0.0s\n",
      "[CV 1/5; 8/10] START learning_rate=0.36, max_depth=3, n_estimators=300..........\n",
      "[CV 1/5; 8/10] END learning_rate=0.36, max_depth=3, n_estimators=300;, score=0.906 total time=   0.0s\n",
      "[CV 2/5; 8/10] START learning_rate=0.36, max_depth=3, n_estimators=300..........\n",
      "[CV 2/5; 8/10] END learning_rate=0.36, max_depth=3, n_estimators=300;, score=0.911 total time=   0.0s\n",
      "[CV 3/5; 8/10] START learning_rate=0.36, max_depth=3, n_estimators=300..........\n",
      "[CV 3/5; 8/10] END learning_rate=0.36, max_depth=3, n_estimators=300;, score=0.915 total time=   0.1s\n",
      "[CV 4/5; 8/10] START learning_rate=0.36, max_depth=3, n_estimators=300..........\n",
      "[CV 4/5; 8/10] END learning_rate=0.36, max_depth=3, n_estimators=300;, score=0.906 total time=   0.0s\n",
      "[CV 5/5; 8/10] START learning_rate=0.36, max_depth=3, n_estimators=300..........\n",
      "[CV 5/5; 8/10] END learning_rate=0.36, max_depth=3, n_estimators=300;, score=0.890 total time=   0.0s\n",
      "[CV 1/5; 9/10] START learning_rate=0.28, max_depth=2, n_estimators=200..........\n",
      "[CV 1/5; 9/10] END learning_rate=0.28, max_depth=2, n_estimators=200;, score=0.888 total time=   0.0s\n",
      "[CV 2/5; 9/10] START learning_rate=0.28, max_depth=2, n_estimators=200..........\n",
      "[CV 2/5; 9/10] END learning_rate=0.28, max_depth=2, n_estimators=200;, score=0.900 total time=   0.0s\n",
      "[CV 3/5; 9/10] START learning_rate=0.28, max_depth=2, n_estimators=200..........\n",
      "[CV 3/5; 9/10] END learning_rate=0.28, max_depth=2, n_estimators=200;, score=0.905 total time=   0.0s\n",
      "[CV 4/5; 9/10] START learning_rate=0.28, max_depth=2, n_estimators=200..........\n",
      "[CV 4/5; 9/10] END learning_rate=0.28, max_depth=2, n_estimators=200;, score=0.907 total time=   0.0s\n",
      "[CV 5/5; 9/10] START learning_rate=0.28, max_depth=2, n_estimators=200..........\n",
      "[CV 5/5; 9/10] END learning_rate=0.28, max_depth=2, n_estimators=200;, score=0.880 total time=   0.0s\n",
      "[CV 1/5; 10/10] START learning_rate=0.22, max_depth=5, n_estimators=350.........\n",
      "[CV 1/5; 10/10] END learning_rate=0.22, max_depth=5, n_estimators=350;, score=0.895 total time=   0.1s\n",
      "[CV 2/5; 10/10] START learning_rate=0.22, max_depth=5, n_estimators=350.........\n",
      "[CV 2/5; 10/10] END learning_rate=0.22, max_depth=5, n_estimators=350;, score=0.902 total time=   0.1s\n",
      "[CV 3/5; 10/10] START learning_rate=0.22, max_depth=5, n_estimators=350.........\n",
      "[CV 3/5; 10/10] END learning_rate=0.22, max_depth=5, n_estimators=350;, score=0.910 total time=   0.1s\n",
      "[CV 4/5; 10/10] START learning_rate=0.22, max_depth=5, n_estimators=350.........\n",
      "[CV 4/5; 10/10] END learning_rate=0.22, max_depth=5, n_estimators=350;, score=0.895 total time=   0.1s\n",
      "[CV 5/5; 10/10] START learning_rate=0.22, max_depth=5, n_estimators=350.........\n",
      "[CV 5/5; 10/10] END learning_rate=0.22, max_depth=5, n_estimators=350;, score=0.883 total time=   0.1s\n",
      "Best Params:  {'n_estimators': 350, 'max_depth': 2, 'learning_rate': 0.36}\n",
      "0.9109206645475082\n"
     ]
    }
   ],
   "source": [
    "parameters ={'max_depth': range(1, 6), \n",
    "             'n_estimators': range(200, 400, 25),\n",
    "             'learning_rate': [x / 100 for x in range(20,40,2)]\n",
    "             }\n",
    "\n",
    "model = LGBMClassifier(random_state=RANDOM_STATE)\n",
    "RS_lgbm = RandomizedSearchCV(model,parameters,scoring='roc_auc', cv = 5, verbose=50,random_state=RANDOM_STATE)\n",
    "best = RS_lgbm.fit(x_train, y_train)\n",
    "print('Best Params: ', best.best_params_)\n",
    "print(best.best_score_)"
   ]
  },
  {
   "cell_type": "markdown",
   "metadata": {},
   "source": [
    "### Проверка лучшей модели на тестовой выборке"
   ]
  },
  {
   "cell_type": "markdown",
   "metadata": {},
   "source": [
    "лучшие показатели у модели CatBoostClassifier с параметрами: loss_function=\"Logloss\", eval_metric ='AUC',verbose=50, depth=2, iterations=365, learning_rate=0.36 при random_state = 130323\n",
    "\n",
    "проверим на тестовой выборке"
   ]
  },
  {
   "cell_type": "code",
   "execution_count": 86,
   "metadata": {},
   "outputs": [
    {
     "name": "stdout",
     "output_type": "stream",
     "text": [
      "0:\ttotal: 8.06ms\tremaining: 2.93s\n",
      "50:\ttotal: 525ms\tremaining: 3.23s\n",
      "100:\ttotal: 1.04s\tremaining: 2.71s\n",
      "150:\ttotal: 1.59s\tremaining: 2.25s\n",
      "200:\ttotal: 2.13s\tremaining: 1.74s\n",
      "250:\ttotal: 2.64s\tremaining: 1.2s\n",
      "300:\ttotal: 3.18s\tremaining: 676ms\n",
      "350:\ttotal: 3.7s\tremaining: 147ms\n",
      "364:\ttotal: 3.84s\tremaining: 0us\n",
      "auc roc 0.9402976677069922\n"
     ]
    }
   ],
   "source": [
    "model = CatBoostClassifier(loss_function=\"Logloss\", eval_metric ='AUC',verbose=50, depth=2, iterations=365, learning_rate=0.36, random_state=RANDOM_STATE)\n",
    "model.fit(x_train,y_train, cat_features=categorical)\n",
    "probabilities = model.predict_proba(x_test)\n",
    "probabilities_one = probabilities[:, 1]\n",
    "auc_roc = roc_auc_score(y_test, probabilities_one)\n",
    "print('auc roc',auc_roc)"
   ]
  },
  {
   "cell_type": "markdown",
   "metadata": {},
   "source": [
    "### важность признаков"
   ]
  },
  {
   "cell_type": "code",
   "execution_count": 87,
   "metadata": {},
   "outputs": [
    {
     "data": {
      "text/plain": [
       "array([8.44041097e+00, 1.23950548e+00, 1.19987459e+00, 5.82887446e+00,\n",
       "       3.86516759e+00, 3.41538897e+00, 3.21869496e-01, 9.91203023e-02,\n",
       "       9.65417510e-02, 2.16291048e-01, 6.18591198e-01, 2.65895484e-01,\n",
       "       3.26348125e-01, 3.15051238e-01, 4.28666230e-02, 6.78855692e-02,\n",
       "       1.98518242e-01, 7.34417989e+01])"
      ]
     },
     "execution_count": 87,
     "metadata": {},
     "output_type": "execute_result"
    }
   ],
   "source": [
    "model.feature_importances_"
   ]
  },
  {
   "cell_type": "code",
   "execution_count": 88,
   "metadata": {},
   "outputs": [
    {
     "data": {
      "text/plain": [
       "Index(['type', 'paperless_billing', 'payment_method', 'monthly_charges',\n",
       "       'total_charges', 'internet_service', 'online_security', 'online_backup',\n",
       "       'device_protection', 'tech_support', 'streaming_tv', 'streaming_movies',\n",
       "       'gender', 'senior_citizen', 'partner', 'dependents', 'multiple_lines',\n",
       "       'duration'],\n",
       "      dtype='object')"
      ]
     },
     "execution_count": 88,
     "metadata": {},
     "output_type": "execute_result"
    }
   ],
   "source": [
    "features.columns"
   ]
  },
  {
   "cell_type": "code",
   "execution_count": 89,
   "metadata": {},
   "outputs": [
    {
     "data": {
      "image/png": "[encoded data removed]",
      "text/plain": [
       "<Figure size 1400x700 with 1 Axes>"
      ]
     },
     "metadata": {},
     "output_type": "display_data"
    }
   ],
   "source": [
    "fi = pd.DataFrame(model.feature_importances_, features.columns)\n",
    "fi.plot(kind='bar', figsize=(14,7));"
   ]
  },
  {
   "cell_type": "markdown",
   "metadata": {},
   "source": [
    "очень интересно что с настолько большим отрывым в лидеры - маркеры предсказаний выбился стаж в днях"
   ]
  },
  {
   "cell_type": "markdown",
   "metadata": {},
   "source": [
    "### AUC ROC кривая"
   ]
  },
  {
   "cell_type": "code",
   "execution_count": 90,
   "metadata": {},
   "outputs": [
    {
     "name": "stdout",
     "output_type": "stream",
     "text": [
      "auc roc 0.9402976677069922\n"
     ]
    },
    {
     "data": {
      "image/png": "[encoded data removed]",
      "text/plain": [
       "<Figure size 1400x700 with 1 Axes>"
      ]
     },
     "metadata": {},
     "output_type": "display_data"
    }
   ],
   "source": [
    "auc_roc = roc_auc_score(y_test, probabilities_one)\n",
    "print('auc roc',auc_roc)\n",
    "\n",
    "fpr, tpr, thresholds = roc_curve(y_test, probabilities_one)\n",
    "figure(figsize=(14, 7))\n",
    "plt.plot(fpr, tpr, linestyle='solid')\n",
    "plt.xlim([0.0, 1.0])\n",
    "plt.ylim([0.0, 1.0])\n",
    "plt.xlabel('False Positive Rate')\n",
    "plt.ylabel('True Positive Rate')\n",
    "plt.title('ROC-кривая')\n",
    "plt.show()\n"
   ]
  },
  {
   "cell_type": "markdown",
   "metadata": {},
   "source": [
    "### матрица ошибок"
   ]
  },
  {
   "cell_type": "code",
   "execution_count": 91,
   "metadata": {},
   "outputs": [
    {
     "data": {
      "image/png": "[encoded data removed]",
      "text/plain": [
       "<Figure size 640x480 with 2 Axes>"
      ]
     },
     "metadata": {},
     "output_type": "display_data"
    }
   ],
   "source": [
    "predict = model.predict(x_test)\n",
    "conf_m = confusion_matrix(y_test, predict)\n",
    "disp = ConfusionMatrixDisplay(conf_m)\n",
    "disp.plot();"
   ]
  },
  {
   "cell_type": "markdown",
   "metadata": {},
   "source": [
    "## Выводы"
   ]
  },
  {
   "cell_type": "markdown",
   "metadata": {},
   "source": [
    "### План"
   ]
  },
  {
   "cell_type": "markdown",
   "metadata": {},
   "source": [
    "### выполнено"
   ]
  },
  {
   "cell_type": "markdown",
   "metadata": {},
   "source": [
    "* обьединить таблицы в один датафрейм по айди пользователя\n",
    "* заполнить пропуски в полученной таблице\n",
    "* преименовать столбцы в корректный стиль, заменить целевой признак на 1 и 0 \n",
    "* выделить из столбца с датами столбец \"стажа\" пользователя (количество дней с момента подключения)\n",
    "* удалить признаки которые могут привести к утечке данных\n",
    "* заменить бинарные ответы в столбцах на 0 и 1\n",
    "* поделить данные на трейн и тест\n",
    "* скалировать числовые признаки \n",
    "* для столбцов с мультиответами использовать OHE\n",
    "* обучить нескольно моделей используя кросвалидацию. Метрика качества AUC-ROC, бейслайн 0.85\n",
    "* для перспективных моделей подобрать гиперпараметры\n",
    "* проверить лучшую модель с настроенными гиперпараметрами на тестовой выборке\n",
    "* сделать анализ лучшей модели (матрица ошибок, важность признаков)\n"
   ]
  },
  {
   "cell_type": "markdown",
   "metadata": {},
   "source": [
    "### не выполено"
   ]
  },
  {
   "cell_type": "markdown",
   "metadata": {},
   "source": [
    "* сравнить с константной дамми моделью на тесте: \n",
    "\n",
    "с учетом интересующей нас метрики качества auc-roc значение дамми модели будет 0.5, что по определению ниже бейслайна 0.85, подобная проверка смысла не добавляет"
   ]
  },
  {
   "cell_type": "code",
   "execution_count": 92,
   "metadata": {},
   "outputs": [
    {
     "name": "stdout",
     "output_type": "stream",
     "text": [
      "roc auc dummy 0.5\n"
     ]
    }
   ],
   "source": [
    "dummy_clf = DummyClassifier(strategy=\"most_frequent\")\n",
    "dummy_clf.fit(x_train, y_train)\n",
    "probabilities_d_test = dummy_clf.predict_proba(x_test)\n",
    "probabilities_d_one_test = probabilities_d_test[:, 1]\n",
    "print('roc auc dummy',roc_auc_score(y_test, probabilities_d_one_test))\n"
   ]
  },
  {
   "cell_type": "code",
   "execution_count": 93,
   "metadata": {},
   "outputs": [
    {
     "data": {
      "image/png": "[encoded data removed]",
      "text/plain": [
       "<Figure size 640x480 with 1 Axes>"
      ]
     },
     "metadata": {},
     "output_type": "display_data"
    }
   ],
   "source": [
    "fpr_d, tpr_d, thresholds = roc_curve(y_test, probabilities_d_one_test)\n",
    "plt.figure()\n",
    "plt.plot(fpr_d, tpr_d, linestyle='solid')\n",
    "plt.xlim([0.0, 1.0])\n",
    "plt.ylim([0.0, 1.0])\n",
    "plt.xlabel('False Positive Rate')\n",
    "plt.ylabel('True Positive Rate')\n",
    "plt.title('ROC-кривая')\n",
    "plt.show()"
   ]
  },
  {
   "cell_type": "markdown",
   "metadata": {},
   "source": [
    "## Трудности и подводные камни; решения"
   ]
  },
  {
   "cell_type": "markdown",
   "metadata": {},
   "source": [
    "* при обьединении таблиц образовались пропуски так как количество строк в таблицах df_internet df_phone было меньше. Изначально все отсутсвующие значения таблицы df_internet я заполнил нулями - так как отстуствие упоминания об услуге = отсутсвие услуги; не заметив что столбец internet_service который находится в той же неполной таблице обозначает тип подключения. Подобное заполнение в итоге привело к ошибке при использовании OneHotEnc - так как в столбце были и строковые и цифровые данные. Изменил заполнение пропусков конкретно этого категориального столбца на значения 'unknown'\n",
    "\n",
    "* столбец total_charges был заполнен в строковом формате и при приведении к числовому выдавал ошибку. Как выяснилось это было изза наличия неявных пропусков - новых клиентов зарегистрированных в день создания таблицы. При проверке выяснилось что данные этого столбца введены постфактум оплаты - эти пропуски заполнил нулями и привел ктолбец к типу флоат\n",
    "\n",
    "* пропуски столбцы multiple_lines нет возможности заполнить реальными данными; проверил как отреагирует метрика при разном из заполнении (чтобы не удалять и не терять другие важные данные из этих строк) и заполнил нулями\n",
    "\n",
    "* столбец end_date выполнял 2 функции одновременно: показывал дату отключения и проверял наличие факта отключения; в результате чего имел неудобный тип данных для работы; на основе его копии выделил и заполнил целевой признак; а сам столбец - для актуальных клиентов - заполнил датой конца таблицы - чтобы на основении этого выделить новый признак - \"стаж\" клиента\n",
    "\n",
    "* обработку категориальных признаков для линейной модели проводил с помощью pd.get_dummies - после фидбека что это не самая удачная практика подготовки данных для МЛ моделей изменил на OHE\n",
    "\n",
    "* изначально в планах было для градиентных моделей подобобрать первичные границы поиска randomSearch-em, а затем \"добить\" до наилучших показателей gridSearch-em - в примерно нащупанном \"наилучшем\" диапазоне - однако как оказалось рандом серч работает настолько быстрее что сделать для него более мелкую сетку поиска и попробовать несколько вариантов шага куда быстрее и эффективнее"
   ]
  },
  {
   "cell_type": "markdown",
   "metadata": {},
   "source": [
    "## Ключевые шаги в решении задачи"
   ]
  },
  {
   "cell_type": "markdown",
   "metadata": {},
   "source": [
    "### шаги"
   ]
  },
  {
   "cell_type": "markdown",
   "metadata": {},
   "source": [
    "* загрузил данные\n",
    "* рассмотрел каждый из 4 датафреймов \n",
    "* проверил корректность дат\n",
    "* оценил баланс классов целевого признака\n",
    "* обьединил 4 таблицы в одну по юзер айди\n",
    "* заполнил появившиеся после обьединения пропуски\n",
    "* сделал customer_id индексом\n",
    "* привел столбцы к snake_case\n",
    "* на основании end_date сформировал столбец целевого признака; привели его к формату 1 \\ 0\n",
    "* для текущих пользователей заполнил end_date датой конца таблицы; перевели в формат даты; сформировал столбец \"стажа\" пользователя = дельты между началом и концом обслуживания\n",
    "* удалил end_date и begin_date\n",
    "* столбцы с бинарной классификацией привел к виду 0 \\ 1\n",
    "* разделил данные на 2 стратифицированные по целевому признаку выборки с соотношением 75 \\ 25\n",
    "* скалировал числовые признаки\n",
    "* закодировал категориальные признаки с помощью OHE (не пригодилось для итоговой модели)\n",
    "* обучил нескольно моделей используя кросвалидацию с минимальным тюном чтобы оценить перспективность донастройки (дерево, лес, динейная, кэтбуст, сгд). Метрика качества AUC-ROC, бейслайн 0.85\n",
    "* затюнил кэт и сгд\n",
    "* проверили найденные наилучшие настройки модели catboost на тестовой выборке\n",
    "* для лучшей модели (CatBoostClassifier с параметрами: loss_function=\"Logloss\", eval_metric ='AUC',verbose=50, depth=2, iterations=365, learning_rate=0.36 при random_state = 130323 ) визуализировал важноность признаков; ROC кривую; матрицу ошибок"
   ]
  },
  {
   "cell_type": "markdown",
   "metadata": {},
   "source": [
    "### ключевые шаги"
   ]
  },
  {
   "cell_type": "markdown",
   "metadata": {},
   "source": [
    "с учетом важности признаков ключевым шагом можно считать выделение вспомогательного признака - стажа пользователя а так же предобработку данных. После нее все из рассматриваемых моделей показали приемлимый результат, и находились около бейслайна даже при минимальной настройке."
   ]
  },
  {
   "cell_type": "markdown",
   "metadata": {},
   "source": [
    "## признаки лучшей модели.Их предобработка"
   ]
  },
  {
   "cell_type": "markdown",
   "metadata": {},
   "source": [
    "№ | название признака | предобработка\n",
    "---|---|---\n",
    " 1  | type                                                  | без предобработки. Подается в списке categorical в model.fit в параметрах (cat_features=categorical)\n",
    " 2  |  paperless_billing                      | бинарный признак - переведен из формата Yes \\ No в формат 1 \\ 0\n",
    " 3  |  payment_method\t                      | без предобработки. Подается в списке categorical в model.fit в параметрах (cat_features=categorical)\n",
    " 4  |  monthly_charges                             | численный признак. Обучен и скалирован на трейне\n",
    " 5  |  total_charges\t                             | численный признак. был в формате object, и имел неявные пропуски в виде ' '; заменены на нули; переведен в числовой формат.Обучен и скалирован на трейне\n",
    " 6  |  internet_service                              | категориальный признак, имел пропуски заполненные значением 'unknown'. Подается в списке categorical в model.fit в параметрах (cat_features=categorical)\n",
    " 7  |  online_security                             | бинарный признак - переведен из формата Yes \\ No в формат 1 \\ 0. Имел пропуски означающие отстуствие услуги - заполненные нулями\n",
    " 8  |  online_backup                              | бинарный признак - переведен из формата Yes \\ No в формат 1 \\ 0. Имел пропуски означающие отстуствие услуги - заполненные нулями\n",
    " 9  |  device_protection                     | бинарный признак - переведен из формата Yes \\ No в формат 1 \\ 0. Имел пропуски означающие отстуствие услуги - заполненные нулями\n",
    " 10 |  tech_support                  | бинарный признак - переведен из формата Yes \\ No в формат 1 \\ 0. Имел пропуски означающие отстуствие услуги - заполненные нулями\n",
    " 11 | streaming_tv                    | бинарный признак - переведен из формата Yes \\ No в формат 1 \\ 0. Имел пропуски означающие отстуствие услуги - заполненные нулями\n",
    " 12 | streaming_movies                     | бинарный признак - переведен из формата Yes \\ No в формат 1 \\ 0. Имел пропуски означающие отстуствие услуги - заполненные нулями\n",
    " 13 | gender             | бинарный признак - переведен из формата Male \\ Female в формат 1 \\ 0.\n",
    " 14 | senior_citizen              | без предобработки\n",
    " 15 | partner             | бинарный признак - переведен из формата Yes \\ No в формат 1 \\ 0.\n",
    " 16 | dependents              | бинарный признак - переведен из формата Yes \\ No в формат 1 \\ 0.\n",
    " 17 | multiple_lines                     | бинарный признак - переведен из формата Yes \\ No в формат 1 \\ 0. Имел пропуски которые после проверки заполнены нулями. Приведено в числовой формат\n",
    " 18 | duration                     | \"стаж клиента\". требовал несколько этапов; begin_date: приведен в формат даты. end_date: no - заменены на дату конца таблицы, приведен в формат даты. Расчитана дельта между датой end_date и begin_date. Переведена в формат int. Обучена и скалирована на трейне"
   ]
  },
  {
   "cell_type": "markdown",
   "metadata": {},
   "source": [
    "целевой признак target выделен из копии столбца end_date где начличие даты заменено на 1 и переведено в числовой формат. (1 - соответствует тому что клиент ушел; 0 - не ушел.) Бинарный целевой признак\n"
   ]
  },
  {
   "cell_type": "code",
   "execution_count": 94,
   "metadata": {},
   "outputs": [
    {
     "data": {
      "text/html": [
       "<div>\n",
       "<style scoped>\n",
       "    .dataframe tbody tr th:only-of-type {\n",
       "        vertical-align: middle;\n",
       "    }\n",
       "\n",
       "    .dataframe tbody tr th {\n",
       "        vertical-align: top;\n",
       "    }\n",
       "\n",
       "    .dataframe thead th {\n",
       "        text-align: right;\n",
       "    }\n",
       "</style>\n",
       "<table border=\"1\" class=\"dataframe\">\n",
       "  <thead>\n",
       "    <tr style=\"text-align: right;\">\n",
       "      <th></th>\n",
       "      <th>type</th>\n",
       "      <th>paperless_billing</th>\n",
       "      <th>payment_method</th>\n",
       "      <th>monthly_charges</th>\n",
       "      <th>total_charges</th>\n",
       "      <th>internet_service</th>\n",
       "      <th>online_security</th>\n",
       "      <th>online_backup</th>\n",
       "      <th>device_protection</th>\n",
       "      <th>tech_support</th>\n",
       "      <th>streaming_tv</th>\n",
       "      <th>streaming_movies</th>\n",
       "      <th>gender</th>\n",
       "      <th>senior_citizen</th>\n",
       "      <th>partner</th>\n",
       "      <th>dependents</th>\n",
       "      <th>multiple_lines</th>\n",
       "      <th>duration</th>\n",
       "    </tr>\n",
       "    <tr>\n",
       "      <th>customer_id</th>\n",
       "      <th></th>\n",
       "      <th></th>\n",
       "      <th></th>\n",
       "      <th></th>\n",
       "      <th></th>\n",
       "      <th></th>\n",
       "      <th></th>\n",
       "      <th></th>\n",
       "      <th></th>\n",
       "      <th></th>\n",
       "      <th></th>\n",
       "      <th></th>\n",
       "      <th></th>\n",
       "      <th></th>\n",
       "      <th></th>\n",
       "      <th></th>\n",
       "      <th></th>\n",
       "      <th></th>\n",
       "    </tr>\n",
       "  </thead>\n",
       "  <tbody>\n",
       "    <tr>\n",
       "      <th>4782-OSFXZ</th>\n",
       "      <td>Two year</td>\n",
       "      <td>1</td>\n",
       "      <td>Bank transfer (automatic)</td>\n",
       "      <td>0.588527</td>\n",
       "      <td>1.551717</td>\n",
       "      <td>DSL</td>\n",
       "      <td>1</td>\n",
       "      <td>1</td>\n",
       "      <td>1</td>\n",
       "      <td>1</td>\n",
       "      <td>0</td>\n",
       "      <td>1</td>\n",
       "      <td>0</td>\n",
       "      <td>1</td>\n",
       "      <td>1</td>\n",
       "      <td>0</td>\n",
       "      <td>1</td>\n",
       "      <td>1.565792</td>\n",
       "    </tr>\n",
       "  </tbody>\n",
       "</table>\n",
       "</div>"
      ],
      "text/plain": [
       "                 type  paperless_billing             payment_method  \\\n",
       "customer_id                                                           \n",
       "4782-OSFXZ   Two year                  1  Bank transfer (automatic)   \n",
       "\n",
       "             monthly_charges  total_charges internet_service  online_security  \\\n",
       "customer_id                                                                     \n",
       "4782-OSFXZ          0.588527       1.551717              DSL                1   \n",
       "\n",
       "             online_backup  device_protection  tech_support  streaming_tv  \\\n",
       "customer_id                                                                 \n",
       "4782-OSFXZ               1                  1             1             0   \n",
       "\n",
       "             streaming_movies  gender  senior_citizen  partner  dependents  \\\n",
       "customer_id                                                                  \n",
       "4782-OSFXZ                  1       0               1        1           0   \n",
       "\n",
       "             multiple_lines  duration  \n",
       "customer_id                            \n",
       "4782-OSFXZ                1  1.565792  "
      ]
     },
     "execution_count": 94,
     "metadata": {},
     "output_type": "execute_result"
    }
   ],
   "source": [
    "x_train.head(1)"
   ]
  },
  {
   "cell_type": "code",
   "execution_count": 95,
   "metadata": {},
   "outputs": [
    {
     "data": {
      "text/plain": [
       "customer_id\n",
       "4782-OSFXZ    0\n",
       "Name: target, dtype: int32"
      ]
     },
     "execution_count": 95,
     "metadata": {},
     "output_type": "execute_result"
    }
   ],
   "source": [
    "y_train.head(1)"
   ]
  },
  {
   "cell_type": "markdown",
   "metadata": {},
   "source": [
    "## итоговая модель"
   ]
  },
  {
   "cell_type": "markdown",
   "metadata": {},
   "source": [
    "* лучшие показатели у модели CatBoostClassifier с параметрами: loss_function=\"Logloss\", eval_metric ='AUC',verbose=50, depth=2, iterations=365, learning_rate=0.36 при random_state = 130323\n",
    "* На тестовой выборке интересующая нас метрика auc-roc составила 0.940\n"
   ]
  }
 ],
 "metadata": {
  "ExecuteTimeLog": [
   {
    "duration": 356,
    "start_time": "2023-03-14T13:32:46.523Z"
   },
   {
    "duration": 101,
    "start_time": "2023-03-14T13:32:46.916Z"
   },
   {
    "duration": 399,
    "start_time": "2023-03-14T14:17:45.170Z"
   },
   {
    "duration": 153,
    "start_time": "2023-03-14T14:18:15.245Z"
   },
   {
    "duration": 22,
    "start_time": "2023-03-14T14:18:20.742Z"
   },
   {
    "duration": 247,
    "start_time": "2023-03-14T14:19:41.985Z"
   },
   {
    "duration": 391,
    "start_time": "2023-03-14T18:54:46.263Z"
   },
   {
    "duration": 103,
    "start_time": "2023-03-14T18:54:46.656Z"
   },
   {
    "duration": 22,
    "start_time": "2023-03-14T18:54:46.761Z"
   },
   {
    "duration": 5,
    "start_time": "2023-03-14T18:54:46.786Z"
   },
   {
    "duration": 8,
    "start_time": "2023-03-14T18:54:46.792Z"
   },
   {
    "duration": 5,
    "start_time": "2023-03-14T18:54:46.802Z"
   },
   {
    "duration": 11,
    "start_time": "2023-03-14T18:54:46.809Z"
   },
   {
    "duration": 25,
    "start_time": "2023-03-14T18:54:46.840Z"
   },
   {
    "duration": 13,
    "start_time": "2023-03-14T18:54:46.867Z"
   },
   {
    "duration": 10,
    "start_time": "2023-03-14T18:54:46.882Z"
   },
   {
    "duration": 11,
    "start_time": "2023-03-14T18:54:46.894Z"
   },
   {
    "duration": 49,
    "start_time": "2023-03-14T18:54:46.907Z"
   },
   {
    "duration": 19,
    "start_time": "2023-03-14T18:54:58.697Z"
   },
   {
    "duration": 21,
    "start_time": "2023-03-14T18:55:07.507Z"
   },
   {
    "duration": 25,
    "start_time": "2023-03-14T18:55:13.778Z"
   },
   {
    "duration": 14,
    "start_time": "2023-03-14T18:55:25.760Z"
   },
   {
    "duration": 16,
    "start_time": "2023-03-14T18:57:18.453Z"
   },
   {
    "duration": 17,
    "start_time": "2023-03-14T18:57:37.078Z"
   },
   {
    "duration": 44,
    "start_time": "2023-03-14T18:57:40.694Z"
   },
   {
    "duration": 15,
    "start_time": "2023-03-14T18:57:44.321Z"
   },
   {
    "duration": 2,
    "start_time": "2023-03-14T18:58:52.245Z"
   },
   {
    "duration": 412,
    "start_time": "2023-03-14T19:34:36.253Z"
   },
   {
    "duration": 2,
    "start_time": "2023-03-14T19:34:36.667Z"
   },
   {
    "duration": 110,
    "start_time": "2023-03-14T19:34:36.671Z"
   },
   {
    "duration": 22,
    "start_time": "2023-03-14T19:34:36.783Z"
   },
   {
    "duration": 5,
    "start_time": "2023-03-14T19:34:36.807Z"
   },
   {
    "duration": 8,
    "start_time": "2023-03-14T19:34:36.814Z"
   },
   {
    "duration": 8,
    "start_time": "2023-03-14T19:34:36.825Z"
   },
   {
    "duration": 34,
    "start_time": "2023-03-14T19:34:36.835Z"
   },
   {
    "duration": 14,
    "start_time": "2023-03-14T19:34:36.870Z"
   },
   {
    "duration": 12,
    "start_time": "2023-03-14T19:34:36.888Z"
   },
   {
    "duration": 7,
    "start_time": "2023-03-14T19:34:36.902Z"
   },
   {
    "duration": 37,
    "start_time": "2023-03-14T19:34:36.911Z"
   },
   {
    "duration": 38,
    "start_time": "2023-03-14T19:34:36.950Z"
   },
   {
    "duration": 20,
    "start_time": "2023-03-14T19:34:36.989Z"
   },
   {
    "duration": 43,
    "start_time": "2023-03-14T19:34:37.011Z"
   },
   {
    "duration": 20,
    "start_time": "2023-03-14T19:34:37.057Z"
   },
   {
    "duration": 25,
    "start_time": "2023-03-14T19:34:37.079Z"
   },
   {
    "duration": 448,
    "start_time": "2023-03-15T14:30:56.704Z"
   },
   {
    "duration": 3,
    "start_time": "2023-03-15T14:30:57.153Z"
   },
   {
    "duration": 103,
    "start_time": "2023-03-15T14:30:57.253Z"
   },
   {
    "duration": 22,
    "start_time": "2023-03-15T14:30:59.990Z"
   },
   {
    "duration": 1548,
    "start_time": "2023-03-19T03:03:14.166Z"
   },
   {
    "duration": 3,
    "start_time": "2023-03-19T03:03:15.717Z"
   },
   {
    "duration": 119,
    "start_time": "2023-03-19T03:03:15.721Z"
   },
   {
    "duration": 23,
    "start_time": "2023-03-19T03:03:15.843Z"
   },
   {
    "duration": 6,
    "start_time": "2023-03-19T03:03:15.868Z"
   },
   {
    "duration": 19,
    "start_time": "2023-03-19T03:03:15.875Z"
   },
   {
    "duration": 12,
    "start_time": "2023-03-19T03:03:15.896Z"
   },
   {
    "duration": 13,
    "start_time": "2023-03-19T03:03:15.910Z"
   },
   {
    "duration": 13,
    "start_time": "2023-03-19T03:03:15.924Z"
   },
   {
    "duration": 42,
    "start_time": "2023-03-19T03:03:15.940Z"
   },
   {
    "duration": 9,
    "start_time": "2023-03-19T03:03:15.984Z"
   },
   {
    "duration": 13,
    "start_time": "2023-03-19T03:03:15.995Z"
   },
   {
    "duration": 35,
    "start_time": "2023-03-19T03:03:16.010Z"
   },
   {
    "duration": 38,
    "start_time": "2023-03-19T03:03:16.046Z"
   },
   {
    "duration": 29,
    "start_time": "2023-03-19T03:03:16.086Z"
   },
   {
    "duration": 19,
    "start_time": "2023-03-19T03:03:16.117Z"
   },
   {
    "duration": 54,
    "start_time": "2023-03-19T03:03:16.138Z"
   },
   {
    "duration": 27,
    "start_time": "2023-03-19T03:03:16.195Z"
   },
   {
    "duration": 20,
    "start_time": "2023-03-19T03:03:16.224Z"
   },
   {
    "duration": 27,
    "start_time": "2023-03-19T03:03:16.246Z"
   },
   {
    "duration": 4,
    "start_time": "2023-03-19T03:03:16.275Z"
   },
   {
    "duration": 15,
    "start_time": "2023-03-19T03:03:16.282Z"
   },
   {
    "duration": 22,
    "start_time": "2023-03-19T03:03:16.299Z"
   },
   {
    "duration": 71,
    "start_time": "2023-03-19T03:03:16.323Z"
   },
   {
    "duration": 35,
    "start_time": "2023-03-19T03:03:16.397Z"
   },
   {
    "duration": 45,
    "start_time": "2023-03-19T03:03:16.435Z"
   },
   {
    "duration": 6,
    "start_time": "2023-03-19T03:03:16.482Z"
   },
   {
    "duration": 29,
    "start_time": "2023-03-19T03:03:16.496Z"
   },
   {
    "duration": 4,
    "start_time": "2023-03-19T03:03:16.528Z"
   },
   {
    "duration": 93,
    "start_time": "2023-03-19T03:03:16.534Z"
   },
   {
    "duration": 4,
    "start_time": "2023-03-19T03:03:16.630Z"
   },
   {
    "duration": 16,
    "start_time": "2023-03-19T03:03:16.636Z"
   },
   {
    "duration": 45,
    "start_time": "2023-03-19T03:03:16.654Z"
   },
   {
    "duration": 11,
    "start_time": "2023-03-19T03:03:16.701Z"
   },
   {
    "duration": 64,
    "start_time": "2023-03-19T03:03:16.714Z"
   },
   {
    "duration": 7,
    "start_time": "2023-03-19T03:03:16.781Z"
   },
   {
    "duration": 15,
    "start_time": "2023-03-19T03:03:16.790Z"
   },
   {
    "duration": 7,
    "start_time": "2023-03-19T03:03:16.807Z"
   },
   {
    "duration": 79,
    "start_time": "2023-03-19T03:03:16.817Z"
   },
   {
    "duration": 19,
    "start_time": "2023-03-19T03:03:16.898Z"
   },
   {
    "duration": 4,
    "start_time": "2023-03-19T03:03:16.919Z"
   },
   {
    "duration": 91,
    "start_time": "2023-03-19T03:03:16.925Z"
   },
   {
    "duration": 74,
    "start_time": "2023-03-19T03:03:17.018Z"
   },
   {
    "duration": 12,
    "start_time": "2023-03-19T03:03:17.097Z"
   },
   {
    "duration": 75,
    "start_time": "2023-03-19T03:03:17.111Z"
   },
   {
    "duration": 7,
    "start_time": "2023-03-19T03:03:17.188Z"
   },
   {
    "duration": 7,
    "start_time": "2023-03-19T03:03:17.197Z"
   },
   {
    "duration": 8,
    "start_time": "2023-03-19T03:03:17.206Z"
   },
   {
    "duration": 16,
    "start_time": "2023-03-19T03:03:17.215Z"
   },
   {
    "duration": 4,
    "start_time": "2023-03-19T03:03:17.233Z"
   },
   {
    "duration": 38,
    "start_time": "2023-03-19T03:03:17.239Z"
   },
   {
    "duration": 21,
    "start_time": "2023-03-19T03:03:17.279Z"
   },
   {
    "duration": 6,
    "start_time": "2023-03-19T03:03:17.303Z"
   },
   {
    "duration": 18,
    "start_time": "2023-03-19T03:03:17.311Z"
   },
   {
    "duration": 4,
    "start_time": "2023-03-19T03:03:17.331Z"
   },
   {
    "duration": 45,
    "start_time": "2023-03-19T03:03:17.337Z"
   },
   {
    "duration": 24,
    "start_time": "2023-03-19T03:03:17.384Z"
   },
   {
    "duration": 17,
    "start_time": "2023-03-19T03:03:17.411Z"
   },
   {
    "duration": 4,
    "start_time": "2023-03-19T03:03:17.430Z"
   },
   {
    "duration": 8,
    "start_time": "2023-03-19T03:03:17.436Z"
   },
   {
    "duration": 15,
    "start_time": "2023-03-19T03:03:17.474Z"
   },
   {
    "duration": 6,
    "start_time": "2023-03-19T03:03:17.491Z"
   },
   {
    "duration": 4,
    "start_time": "2023-03-19T03:03:17.499Z"
   },
   {
    "duration": 11,
    "start_time": "2023-03-19T03:03:17.511Z"
   },
   {
    "duration": 4,
    "start_time": "2023-03-19T03:03:17.524Z"
   },
   {
    "duration": 6,
    "start_time": "2023-03-19T03:03:17.530Z"
   },
   {
    "duration": 57,
    "start_time": "2023-03-19T03:03:17.537Z"
   },
   {
    "duration": 20,
    "start_time": "2023-03-19T03:03:17.597Z"
   },
   {
    "duration": 19,
    "start_time": "2023-03-19T03:03:17.620Z"
   },
   {
    "duration": 34,
    "start_time": "2023-03-19T03:03:17.641Z"
   },
   {
    "duration": 8002,
    "start_time": "2023-03-19T03:03:17.677Z"
   },
   {
    "duration": 910,
    "start_time": "2023-03-19T03:03:25.681Z"
   },
   {
    "duration": 628,
    "start_time": "2023-03-19T03:03:26.593Z"
   },
   {
    "duration": 45739,
    "start_time": "2023-03-19T03:03:27.223Z"
   },
   {
    "duration": 41854,
    "start_time": "2023-03-19T03:04:12.964Z"
   },
   {
    "duration": 0,
    "start_time": "2023-03-19T03:04:54.820Z"
   },
   {
    "duration": 0,
    "start_time": "2023-03-19T03:04:54.821Z"
   },
   {
    "duration": 0,
    "start_time": "2023-03-19T03:04:54.822Z"
   },
   {
    "duration": 0,
    "start_time": "2023-03-19T03:04:54.823Z"
   },
   {
    "duration": 0,
    "start_time": "2023-03-19T03:04:54.824Z"
   },
   {
    "duration": 0,
    "start_time": "2023-03-19T03:04:54.825Z"
   },
   {
    "duration": 0,
    "start_time": "2023-03-19T03:04:54.827Z"
   },
   {
    "duration": 0,
    "start_time": "2023-03-19T03:04:54.828Z"
   },
   {
    "duration": 6075,
    "start_time": "2023-03-19T03:05:17.454Z"
   },
   {
    "duration": 52,
    "start_time": "2023-03-19T03:12:04.686Z"
   },
   {
    "duration": 1404,
    "start_time": "2023-03-19T03:12:10.751Z"
   },
   {
    "duration": 4,
    "start_time": "2023-03-19T03:12:12.157Z"
   },
   {
    "duration": 123,
    "start_time": "2023-03-19T03:12:12.163Z"
   },
   {
    "duration": 23,
    "start_time": "2023-03-19T03:12:12.288Z"
   },
   {
    "duration": 5,
    "start_time": "2023-03-19T03:12:12.313Z"
   },
   {
    "duration": 9,
    "start_time": "2023-03-19T03:12:12.320Z"
   },
   {
    "duration": 9,
    "start_time": "2023-03-19T03:12:12.331Z"
   },
   {
    "duration": 35,
    "start_time": "2023-03-19T03:12:12.342Z"
   },
   {
    "duration": 14,
    "start_time": "2023-03-19T03:12:12.379Z"
   },
   {
    "duration": 14,
    "start_time": "2023-03-19T03:12:12.395Z"
   },
   {
    "duration": 8,
    "start_time": "2023-03-19T03:12:12.411Z"
   },
   {
    "duration": 12,
    "start_time": "2023-03-19T03:12:12.421Z"
   },
   {
    "duration": 65,
    "start_time": "2023-03-19T03:12:12.435Z"
   },
   {
    "duration": 19,
    "start_time": "2023-03-19T03:12:12.504Z"
   },
   {
    "duration": 20,
    "start_time": "2023-03-19T03:12:12.525Z"
   },
   {
    "duration": 35,
    "start_time": "2023-03-19T03:12:12.547Z"
   },
   {
    "duration": 16,
    "start_time": "2023-03-19T03:12:12.585Z"
   },
   {
    "duration": 27,
    "start_time": "2023-03-19T03:12:12.603Z"
   },
   {
    "duration": 44,
    "start_time": "2023-03-19T03:12:12.632Z"
   },
   {
    "duration": 4,
    "start_time": "2023-03-19T03:12:12.678Z"
   },
   {
    "duration": 8,
    "start_time": "2023-03-19T03:12:12.683Z"
   },
   {
    "duration": 13,
    "start_time": "2023-03-19T03:12:12.693Z"
   },
   {
    "duration": 13,
    "start_time": "2023-03-19T03:12:12.708Z"
   },
   {
    "duration": 55,
    "start_time": "2023-03-19T03:12:12.723Z"
   },
   {
    "duration": 22,
    "start_time": "2023-03-19T03:12:12.779Z"
   },
   {
    "duration": 35,
    "start_time": "2023-03-19T03:12:12.803Z"
   },
   {
    "duration": 4,
    "start_time": "2023-03-19T03:12:12.840Z"
   },
   {
    "duration": 20,
    "start_time": "2023-03-19T03:12:12.872Z"
   },
   {
    "duration": 4,
    "start_time": "2023-03-19T03:12:12.894Z"
   },
   {
    "duration": 46,
    "start_time": "2023-03-19T03:12:12.899Z"
   },
   {
    "duration": 4,
    "start_time": "2023-03-19T03:12:12.972Z"
   },
   {
    "duration": 8,
    "start_time": "2023-03-19T03:12:12.978Z"
   },
   {
    "duration": 27,
    "start_time": "2023-03-19T03:12:12.988Z"
   },
   {
    "duration": 10,
    "start_time": "2023-03-19T03:12:13.016Z"
   },
   {
    "duration": 147,
    "start_time": "2023-03-19T03:12:13.028Z"
   },
   {
    "duration": 6,
    "start_time": "2023-03-19T03:12:13.177Z"
   },
   {
    "duration": 9,
    "start_time": "2023-03-19T03:12:13.185Z"
   },
   {
    "duration": 7,
    "start_time": "2023-03-19T03:12:13.196Z"
   },
   {
    "duration": 43,
    "start_time": "2023-03-19T03:12:13.205Z"
   },
   {
    "duration": 35,
    "start_time": "2023-03-19T03:12:13.249Z"
   },
   {
    "duration": 4,
    "start_time": "2023-03-19T03:12:13.288Z"
   },
   {
    "duration": 44,
    "start_time": "2023-03-19T03:12:13.294Z"
   },
   {
    "duration": 69,
    "start_time": "2023-03-19T03:12:13.339Z"
   },
   {
    "duration": 7,
    "start_time": "2023-03-19T03:12:13.410Z"
   },
   {
    "duration": 55,
    "start_time": "2023-03-19T03:12:13.419Z"
   },
   {
    "duration": 7,
    "start_time": "2023-03-19T03:12:13.477Z"
   },
   {
    "duration": 10,
    "start_time": "2023-03-19T03:12:13.486Z"
   },
   {
    "duration": 6,
    "start_time": "2023-03-19T03:12:13.498Z"
   },
   {
    "duration": 13,
    "start_time": "2023-03-19T03:12:13.506Z"
   },
   {
    "duration": 3,
    "start_time": "2023-03-19T03:12:13.521Z"
   },
   {
    "duration": 12,
    "start_time": "2023-03-19T03:12:13.526Z"
   },
   {
    "duration": 49,
    "start_time": "2023-03-19T03:12:13.539Z"
   },
   {
    "duration": 9,
    "start_time": "2023-03-19T03:12:13.589Z"
   },
   {
    "duration": 14,
    "start_time": "2023-03-19T03:12:13.600Z"
   },
   {
    "duration": 4,
    "start_time": "2023-03-19T03:12:13.616Z"
   },
   {
    "duration": 15,
    "start_time": "2023-03-19T03:12:13.622Z"
   },
   {
    "duration": 44,
    "start_time": "2023-03-19T03:12:13.639Z"
   },
   {
    "duration": 17,
    "start_time": "2023-03-19T03:12:13.685Z"
   },
   {
    "duration": 4,
    "start_time": "2023-03-19T03:12:13.705Z"
   },
   {
    "duration": 10,
    "start_time": "2023-03-19T03:12:13.711Z"
   },
   {
    "duration": 20,
    "start_time": "2023-03-19T03:12:13.723Z"
   },
   {
    "duration": 29,
    "start_time": "2023-03-19T03:12:13.746Z"
   },
   {
    "duration": 8,
    "start_time": "2023-03-19T03:12:13.778Z"
   },
   {
    "duration": 70,
    "start_time": "2023-03-19T03:12:13.788Z"
   },
   {
    "duration": 3,
    "start_time": "2023-03-19T03:12:13.860Z"
   },
   {
    "duration": 8,
    "start_time": "2023-03-19T03:12:13.865Z"
   },
   {
    "duration": 19,
    "start_time": "2023-03-19T03:12:13.874Z"
   },
   {
    "duration": 19,
    "start_time": "2023-03-19T03:12:13.895Z"
   },
   {
    "duration": 20,
    "start_time": "2023-03-19T03:12:13.916Z"
   },
   {
    "duration": 38,
    "start_time": "2023-03-19T03:12:13.938Z"
   },
   {
    "duration": 8826,
    "start_time": "2023-03-19T03:12:13.978Z"
   },
   {
    "duration": 1466,
    "start_time": "2023-03-19T03:12:22.806Z"
   },
   {
    "duration": 580,
    "start_time": "2023-03-19T03:12:24.274Z"
   },
   {
    "duration": 12547,
    "start_time": "2023-03-19T03:12:24.855Z"
   },
   {
    "duration": 0,
    "start_time": "2023-03-19T03:12:37.404Z"
   },
   {
    "duration": 0,
    "start_time": "2023-03-19T03:12:37.405Z"
   },
   {
    "duration": 0,
    "start_time": "2023-03-19T03:12:37.406Z"
   },
   {
    "duration": 1,
    "start_time": "2023-03-19T03:12:37.407Z"
   },
   {
    "duration": 0,
    "start_time": "2023-03-19T03:12:37.409Z"
   },
   {
    "duration": 0,
    "start_time": "2023-03-19T03:12:37.410Z"
   },
   {
    "duration": 0,
    "start_time": "2023-03-19T03:12:37.411Z"
   },
   {
    "duration": 0,
    "start_time": "2023-03-19T03:12:37.412Z"
   },
   {
    "duration": 0,
    "start_time": "2023-03-19T03:12:37.413Z"
   },
   {
    "duration": 0,
    "start_time": "2023-03-19T03:13:36.978Z"
   },
   {
    "duration": 3,
    "start_time": "2023-03-19T03:13:38.057Z"
   },
   {
    "duration": 1195,
    "start_time": "2023-03-19T03:14:11.276Z"
   },
   {
    "duration": 1450,
    "start_time": "2023-03-19T03:20:10.090Z"
   },
   {
    "duration": 3,
    "start_time": "2023-03-19T03:20:11.542Z"
   },
   {
    "duration": 117,
    "start_time": "2023-03-19T03:20:11.547Z"
   },
   {
    "duration": 22,
    "start_time": "2023-03-19T03:20:11.666Z"
   },
   {
    "duration": 4,
    "start_time": "2023-03-19T03:20:11.690Z"
   },
   {
    "duration": 9,
    "start_time": "2023-03-19T03:20:11.695Z"
   },
   {
    "duration": 8,
    "start_time": "2023-03-19T03:20:11.706Z"
   },
   {
    "duration": 14,
    "start_time": "2023-03-19T03:20:11.715Z"
   },
   {
    "duration": 51,
    "start_time": "2023-03-19T03:20:11.731Z"
   },
   {
    "duration": 13,
    "start_time": "2023-03-19T03:20:11.785Z"
   },
   {
    "duration": 11,
    "start_time": "2023-03-19T03:20:11.800Z"
   },
   {
    "duration": 21,
    "start_time": "2023-03-19T03:20:11.813Z"
   },
   {
    "duration": 64,
    "start_time": "2023-03-19T03:20:11.836Z"
   },
   {
    "duration": 27,
    "start_time": "2023-03-19T03:20:11.902Z"
   },
   {
    "duration": 29,
    "start_time": "2023-03-19T03:20:11.930Z"
   },
   {
    "duration": 19,
    "start_time": "2023-03-19T03:20:11.974Z"
   },
   {
    "duration": 22,
    "start_time": "2023-03-19T03:20:11.995Z"
   },
   {
    "duration": 19,
    "start_time": "2023-03-19T03:20:12.019Z"
   },
   {
    "duration": 40,
    "start_time": "2023-03-19T03:20:12.039Z"
   },
   {
    "duration": 3,
    "start_time": "2023-03-19T03:20:12.081Z"
   },
   {
    "duration": 6,
    "start_time": "2023-03-19T03:20:12.086Z"
   },
   {
    "duration": 13,
    "start_time": "2023-03-19T03:20:12.093Z"
   },
   {
    "duration": 18,
    "start_time": "2023-03-19T03:20:12.109Z"
   },
   {
    "duration": 61,
    "start_time": "2023-03-19T03:20:12.129Z"
   },
   {
    "duration": 24,
    "start_time": "2023-03-19T03:20:12.192Z"
   },
   {
    "duration": 31,
    "start_time": "2023-03-19T03:20:12.218Z"
   },
   {
    "duration": 24,
    "start_time": "2023-03-19T03:20:12.251Z"
   },
   {
    "duration": 19,
    "start_time": "2023-03-19T03:20:12.279Z"
   },
   {
    "duration": 4,
    "start_time": "2023-03-19T03:20:12.300Z"
   },
   {
    "duration": 51,
    "start_time": "2023-03-19T03:20:12.305Z"
   },
   {
    "duration": 4,
    "start_time": "2023-03-19T03:20:12.372Z"
   },
   {
    "duration": 12,
    "start_time": "2023-03-19T03:20:12.378Z"
   },
   {
    "duration": 34,
    "start_time": "2023-03-19T03:20:12.392Z"
   },
   {
    "duration": 10,
    "start_time": "2023-03-19T03:20:12.428Z"
   },
   {
    "duration": 63,
    "start_time": "2023-03-19T03:20:12.439Z"
   },
   {
    "duration": 6,
    "start_time": "2023-03-19T03:20:12.505Z"
   },
   {
    "duration": 7,
    "start_time": "2023-03-19T03:20:12.513Z"
   },
   {
    "duration": 6,
    "start_time": "2023-03-19T03:20:12.522Z"
   },
   {
    "duration": 67,
    "start_time": "2023-03-19T03:20:12.530Z"
   },
   {
    "duration": 18,
    "start_time": "2023-03-19T03:20:12.599Z"
   },
   {
    "duration": 5,
    "start_time": "2023-03-19T03:20:12.618Z"
   },
   {
    "duration": 65,
    "start_time": "2023-03-19T03:20:12.624Z"
   },
   {
    "duration": 42,
    "start_time": "2023-03-19T03:20:12.691Z"
   },
   {
    "duration": 7,
    "start_time": "2023-03-19T03:20:12.735Z"
   },
   {
    "duration": 65,
    "start_time": "2023-03-19T03:20:12.744Z"
   },
   {
    "duration": 18,
    "start_time": "2023-03-19T03:20:12.811Z"
   },
   {
    "duration": 13,
    "start_time": "2023-03-19T03:20:12.830Z"
   },
   {
    "duration": 11,
    "start_time": "2023-03-19T03:20:12.846Z"
   },
   {
    "duration": 22,
    "start_time": "2023-03-19T03:20:12.859Z"
   },
   {
    "duration": 4,
    "start_time": "2023-03-19T03:20:12.883Z"
   },
   {
    "duration": 11,
    "start_time": "2023-03-19T03:20:12.889Z"
   },
   {
    "duration": 16,
    "start_time": "2023-03-19T03:20:12.901Z"
   },
   {
    "duration": 5,
    "start_time": "2023-03-19T03:20:12.919Z"
   },
   {
    "duration": 13,
    "start_time": "2023-03-19T03:20:12.926Z"
   },
   {
    "duration": 35,
    "start_time": "2023-03-19T03:20:12.941Z"
   },
   {
    "duration": 12,
    "start_time": "2023-03-19T03:20:12.977Z"
   },
   {
    "duration": 17,
    "start_time": "2023-03-19T03:20:12.991Z"
   },
   {
    "duration": 15,
    "start_time": "2023-03-19T03:20:13.010Z"
   },
   {
    "duration": 4,
    "start_time": "2023-03-19T03:20:13.026Z"
   },
   {
    "duration": 44,
    "start_time": "2023-03-19T03:20:13.032Z"
   },
   {
    "duration": 17,
    "start_time": "2023-03-19T03:20:13.078Z"
   },
   {
    "duration": 5,
    "start_time": "2023-03-19T03:20:13.096Z"
   },
   {
    "duration": 5,
    "start_time": "2023-03-19T03:20:13.103Z"
   },
   {
    "duration": 12,
    "start_time": "2023-03-19T03:20:13.110Z"
   },
   {
    "duration": 3,
    "start_time": "2023-03-19T03:20:13.123Z"
   },
   {
    "duration": 5,
    "start_time": "2023-03-19T03:20:13.127Z"
   },
   {
    "duration": 55,
    "start_time": "2023-03-19T03:20:13.134Z"
   },
   {
    "duration": 16,
    "start_time": "2023-03-19T03:20:13.191Z"
   },
   {
    "duration": 18,
    "start_time": "2023-03-19T03:20:13.209Z"
   },
   {
    "duration": 9,
    "start_time": "2023-03-19T03:20:13.229Z"
   },
   {
    "duration": 8948,
    "start_time": "2023-03-19T03:20:13.240Z"
   },
   {
    "duration": 1094,
    "start_time": "2023-03-19T03:20:22.190Z"
   },
   {
    "duration": 573,
    "start_time": "2023-03-19T03:20:23.374Z"
   },
   {
    "duration": 3,
    "start_time": "2023-03-19T03:20:23.950Z"
   },
   {
    "duration": 14021,
    "start_time": "2023-03-19T03:20:23.954Z"
   },
   {
    "duration": 0,
    "start_time": "2023-03-19T03:20:37.977Z"
   },
   {
    "duration": 0,
    "start_time": "2023-03-19T03:20:37.978Z"
   },
   {
    "duration": 0,
    "start_time": "2023-03-19T03:20:37.979Z"
   },
   {
    "duration": 0,
    "start_time": "2023-03-19T03:20:37.981Z"
   },
   {
    "duration": 0,
    "start_time": "2023-03-19T03:20:37.983Z"
   },
   {
    "duration": 0,
    "start_time": "2023-03-19T03:20:37.984Z"
   },
   {
    "duration": 0,
    "start_time": "2023-03-19T03:20:37.985Z"
   },
   {
    "duration": 0,
    "start_time": "2023-03-19T03:20:37.986Z"
   },
   {
    "duration": 1,
    "start_time": "2023-03-19T03:20:37.988Z"
   },
   {
    "duration": 0,
    "start_time": "2023-03-19T03:20:37.990Z"
   },
   {
    "duration": 2,
    "start_time": "2023-03-19T03:20:45.384Z"
   },
   {
    "duration": 100272,
    "start_time": "2023-03-19T03:20:51.311Z"
   },
   {
    "duration": 0,
    "start_time": "2023-03-19T03:22:31.585Z"
   },
   {
    "duration": 2,
    "start_time": "2023-03-19T03:22:33.574Z"
   },
   {
    "duration": 9,
    "start_time": "2023-03-19T03:23:06.861Z"
   },
   {
    "duration": 10,
    "start_time": "2023-03-19T03:23:10.091Z"
   },
   {
    "duration": 9,
    "start_time": "2023-03-19T03:23:21.110Z"
   },
   {
    "duration": 3,
    "start_time": "2023-03-19T03:23:26.497Z"
   },
   {
    "duration": 6,
    "start_time": "2023-03-19T03:23:37.584Z"
   },
   {
    "duration": 57534,
    "start_time": "2023-03-19T03:23:41.756Z"
   },
   {
    "duration": 4488,
    "start_time": "2023-03-19T03:26:49.897Z"
   },
   {
    "duration": 3,
    "start_time": "2023-03-19T03:29:56.144Z"
   },
   {
    "duration": 4,
    "start_time": "2023-03-19T03:29:57.657Z"
   },
   {
    "duration": 133378,
    "start_time": "2023-03-19T03:29:59.611Z"
   },
   {
    "duration": 13720,
    "start_time": "2023-03-19T03:32:28.377Z"
   },
   {
    "duration": 1399,
    "start_time": "2023-03-19T03:33:27.553Z"
   },
   {
    "duration": 3,
    "start_time": "2023-03-19T03:33:28.955Z"
   },
   {
    "duration": 161,
    "start_time": "2023-03-19T03:33:28.960Z"
   },
   {
    "duration": 30,
    "start_time": "2023-03-19T03:33:29.124Z"
   },
   {
    "duration": 6,
    "start_time": "2023-03-19T03:33:29.156Z"
   },
   {
    "duration": 16,
    "start_time": "2023-03-19T03:33:29.164Z"
   },
   {
    "duration": 8,
    "start_time": "2023-03-19T03:33:29.183Z"
   },
   {
    "duration": 16,
    "start_time": "2023-03-19T03:33:29.194Z"
   },
   {
    "duration": 17,
    "start_time": "2023-03-19T03:33:29.212Z"
   },
   {
    "duration": 12,
    "start_time": "2023-03-19T03:33:29.231Z"
   },
   {
    "duration": 7,
    "start_time": "2023-03-19T03:33:29.274Z"
   },
   {
    "duration": 15,
    "start_time": "2023-03-19T03:33:29.283Z"
   },
   {
    "duration": 31,
    "start_time": "2023-03-19T03:33:29.300Z"
   },
   {
    "duration": 19,
    "start_time": "2023-03-19T03:33:29.333Z"
   },
   {
    "duration": 47,
    "start_time": "2023-03-19T03:33:29.355Z"
   },
   {
    "duration": 12,
    "start_time": "2023-03-19T03:33:29.405Z"
   },
   {
    "duration": 17,
    "start_time": "2023-03-19T03:33:29.419Z"
   },
   {
    "duration": 45,
    "start_time": "2023-03-19T03:33:29.438Z"
   },
   {
    "duration": 22,
    "start_time": "2023-03-19T03:33:29.485Z"
   },
   {
    "duration": 3,
    "start_time": "2023-03-19T03:33:29.508Z"
   },
   {
    "duration": 13,
    "start_time": "2023-03-19T03:33:29.513Z"
   },
   {
    "duration": 13,
    "start_time": "2023-03-19T03:33:29.527Z"
   },
   {
    "duration": 16,
    "start_time": "2023-03-19T03:33:29.542Z"
   },
   {
    "duration": 42,
    "start_time": "2023-03-19T03:33:29.559Z"
   },
   {
    "duration": 22,
    "start_time": "2023-03-19T03:33:29.603Z"
   },
   {
    "duration": 26,
    "start_time": "2023-03-19T03:33:29.627Z"
   },
   {
    "duration": 21,
    "start_time": "2023-03-19T03:33:29.655Z"
   },
   {
    "duration": 20,
    "start_time": "2023-03-19T03:33:29.680Z"
   },
   {
    "duration": 4,
    "start_time": "2023-03-19T03:33:29.701Z"
   },
   {
    "duration": 73,
    "start_time": "2023-03-19T03:33:29.707Z"
   },
   {
    "duration": 4,
    "start_time": "2023-03-19T03:33:29.782Z"
   },
   {
    "duration": 9,
    "start_time": "2023-03-19T03:33:29.787Z"
   },
   {
    "duration": 28,
    "start_time": "2023-03-19T03:33:29.797Z"
   },
   {
    "duration": 7,
    "start_time": "2023-03-19T03:33:29.827Z"
   },
   {
    "duration": 67,
    "start_time": "2023-03-19T03:33:29.835Z"
   },
   {
    "duration": 6,
    "start_time": "2023-03-19T03:33:29.903Z"
   },
   {
    "duration": 8,
    "start_time": "2023-03-19T03:33:29.910Z"
   },
   {
    "duration": 8,
    "start_time": "2023-03-19T03:33:29.919Z"
   },
   {
    "duration": 67,
    "start_time": "2023-03-19T03:33:29.928Z"
   },
   {
    "duration": 18,
    "start_time": "2023-03-19T03:33:29.996Z"
   },
   {
    "duration": 10,
    "start_time": "2023-03-19T03:33:30.016Z"
   },
   {
    "duration": 60,
    "start_time": "2023-03-19T03:33:30.028Z"
   },
   {
    "duration": 42,
    "start_time": "2023-03-19T03:33:30.090Z"
   },
   {
    "duration": 7,
    "start_time": "2023-03-19T03:33:30.134Z"
   },
   {
    "duration": 63,
    "start_time": "2023-03-19T03:33:30.143Z"
   },
   {
    "duration": 7,
    "start_time": "2023-03-19T03:33:30.208Z"
   },
   {
    "duration": 35,
    "start_time": "2023-03-19T03:33:30.217Z"
   },
   {
    "duration": 19,
    "start_time": "2023-03-19T03:33:30.254Z"
   },
   {
    "duration": 25,
    "start_time": "2023-03-19T03:33:30.274Z"
   },
   {
    "duration": 23,
    "start_time": "2023-03-19T03:33:30.301Z"
   },
   {
    "duration": 28,
    "start_time": "2023-03-19T03:33:30.327Z"
   },
   {
    "duration": 32,
    "start_time": "2023-03-19T03:33:30.357Z"
   },
   {
    "duration": 22,
    "start_time": "2023-03-19T03:33:30.392Z"
   },
   {
    "duration": 32,
    "start_time": "2023-03-19T03:33:30.416Z"
   },
   {
    "duration": 24,
    "start_time": "2023-03-19T03:33:30.450Z"
   },
   {
    "duration": 53,
    "start_time": "2023-03-19T03:33:30.476Z"
   },
   {
    "duration": 31,
    "start_time": "2023-03-19T03:33:30.532Z"
   },
   {
    "duration": 51,
    "start_time": "2023-03-19T03:33:30.566Z"
   },
   {
    "duration": 16,
    "start_time": "2023-03-19T03:33:30.620Z"
   },
   {
    "duration": 29,
    "start_time": "2023-03-19T03:33:30.638Z"
   },
   {
    "duration": 46,
    "start_time": "2023-03-19T03:33:30.670Z"
   },
   {
    "duration": 31,
    "start_time": "2023-03-19T03:33:30.719Z"
   },
   {
    "duration": 33,
    "start_time": "2023-03-19T03:33:30.752Z"
   },
   {
    "duration": 39,
    "start_time": "2023-03-19T03:33:30.786Z"
   },
   {
    "duration": 42,
    "start_time": "2023-03-19T03:33:30.827Z"
   },
   {
    "duration": 37,
    "start_time": "2023-03-19T03:33:30.872Z"
   },
   {
    "duration": 47,
    "start_time": "2023-03-19T03:33:30.911Z"
   },
   {
    "duration": 36,
    "start_time": "2023-03-19T03:33:30.960Z"
   },
   {
    "duration": 54,
    "start_time": "2023-03-19T03:33:30.998Z"
   },
   {
    "duration": 30,
    "start_time": "2023-03-19T03:33:31.054Z"
   },
   {
    "duration": 8935,
    "start_time": "2023-03-19T03:33:31.086Z"
   },
   {
    "duration": 1756,
    "start_time": "2023-03-19T03:33:40.023Z"
   },
   {
    "duration": 560,
    "start_time": "2023-03-19T03:33:41.781Z"
   },
   {
    "duration": 3,
    "start_time": "2023-03-19T03:33:42.342Z"
   },
   {
    "duration": 9,
    "start_time": "2023-03-19T03:33:42.347Z"
   },
   {
    "duration": 16,
    "start_time": "2023-03-19T03:33:42.358Z"
   },
   {
    "duration": 139807,
    "start_time": "2023-03-19T03:33:42.376Z"
   },
   {
    "duration": 30992,
    "start_time": "2023-03-19T03:36:02.185Z"
   },
   {
    "duration": 3,
    "start_time": "2023-03-19T03:36:33.179Z"
   },
   {
    "duration": 231297,
    "start_time": "2023-03-19T03:36:33.184Z"
   },
   {
    "duration": 50485,
    "start_time": "2023-03-19T03:40:24.483Z"
   },
   {
    "duration": 151711,
    "start_time": "2023-03-19T03:41:14.974Z"
   },
   {
    "duration": 0,
    "start_time": "2023-03-19T03:43:46.687Z"
   },
   {
    "duration": 0,
    "start_time": "2023-03-19T03:43:46.689Z"
   },
   {
    "duration": 0,
    "start_time": "2023-03-19T03:43:46.690Z"
   },
   {
    "duration": 0,
    "start_time": "2023-03-19T03:43:46.692Z"
   },
   {
    "duration": 0,
    "start_time": "2023-03-19T03:43:46.694Z"
   },
   {
    "duration": 0,
    "start_time": "2023-03-19T03:43:46.695Z"
   },
   {
    "duration": 0,
    "start_time": "2023-03-19T03:43:46.697Z"
   },
   {
    "duration": 40555,
    "start_time": "2023-03-19T03:44:05.778Z"
   },
   {
    "duration": 31692,
    "start_time": "2023-03-19T03:45:03.509Z"
   },
   {
    "duration": 68706,
    "start_time": "2023-03-19T03:45:51.969Z"
   },
   {
    "duration": 2037,
    "start_time": "2023-03-19T03:48:41.610Z"
   },
   {
    "duration": 1317,
    "start_time": "2023-03-19T03:50:48.818Z"
   },
   {
    "duration": 3,
    "start_time": "2023-03-19T03:50:50.137Z"
   },
   {
    "duration": 120,
    "start_time": "2023-03-19T03:50:50.141Z"
   },
   {
    "duration": 20,
    "start_time": "2023-03-19T03:50:50.263Z"
   },
   {
    "duration": 6,
    "start_time": "2023-03-19T03:50:50.286Z"
   },
   {
    "duration": 9,
    "start_time": "2023-03-19T03:50:50.294Z"
   },
   {
    "duration": 13,
    "start_time": "2023-03-19T03:50:50.305Z"
   },
   {
    "duration": 14,
    "start_time": "2023-03-19T03:50:50.319Z"
   },
   {
    "duration": 13,
    "start_time": "2023-03-19T03:50:50.335Z"
   },
   {
    "duration": 43,
    "start_time": "2023-03-19T03:50:50.350Z"
   },
   {
    "duration": 19,
    "start_time": "2023-03-19T03:50:50.395Z"
   },
   {
    "duration": 33,
    "start_time": "2023-03-19T03:50:50.417Z"
   },
   {
    "duration": 39,
    "start_time": "2023-03-19T03:50:50.453Z"
   },
   {
    "duration": 26,
    "start_time": "2023-03-19T03:50:50.496Z"
   },
   {
    "duration": 35,
    "start_time": "2023-03-19T03:50:50.525Z"
   },
   {
    "duration": 34,
    "start_time": "2023-03-19T03:50:50.562Z"
   },
   {
    "duration": 29,
    "start_time": "2023-03-19T03:50:50.598Z"
   },
   {
    "duration": 28,
    "start_time": "2023-03-19T03:50:50.629Z"
   },
   {
    "duration": 19,
    "start_time": "2023-03-19T03:50:50.659Z"
   },
   {
    "duration": 6,
    "start_time": "2023-03-19T03:50:50.680Z"
   },
   {
    "duration": 7,
    "start_time": "2023-03-19T03:50:50.688Z"
   },
   {
    "duration": 4,
    "start_time": "2023-03-19T03:50:50.697Z"
   },
   {
    "duration": 8,
    "start_time": "2023-03-19T03:50:50.702Z"
   },
   {
    "duration": 11,
    "start_time": "2023-03-19T03:50:50.712Z"
   },
   {
    "duration": 6,
    "start_time": "2023-03-19T03:50:50.724Z"
   },
   {
    "duration": 18,
    "start_time": "2023-03-19T03:50:50.731Z"
   },
   {
    "duration": 40,
    "start_time": "2023-03-19T03:50:50.750Z"
   },
   {
    "duration": 21,
    "start_time": "2023-03-19T03:50:50.791Z"
   },
   {
    "duration": 28,
    "start_time": "2023-03-19T03:50:50.814Z"
   },
   {
    "duration": 29,
    "start_time": "2023-03-19T03:50:50.844Z"
   },
   {
    "duration": 25,
    "start_time": "2023-03-19T03:50:50.875Z"
   },
   {
    "duration": 3,
    "start_time": "2023-03-19T03:50:50.902Z"
   },
   {
    "duration": 43,
    "start_time": "2023-03-19T03:50:50.906Z"
   },
   {
    "duration": 3,
    "start_time": "2023-03-19T03:50:50.951Z"
   },
   {
    "duration": 5,
    "start_time": "2023-03-19T03:50:50.973Z"
   },
   {
    "duration": 25,
    "start_time": "2023-03-19T03:50:50.980Z"
   },
   {
    "duration": 7,
    "start_time": "2023-03-19T03:50:51.007Z"
   },
   {
    "duration": 61,
    "start_time": "2023-03-19T03:50:51.016Z"
   },
   {
    "duration": 6,
    "start_time": "2023-03-19T03:50:51.079Z"
   },
   {
    "duration": 7,
    "start_time": "2023-03-19T03:50:51.087Z"
   },
   {
    "duration": 7,
    "start_time": "2023-03-19T03:50:51.100Z"
   },
   {
    "duration": 45,
    "start_time": "2023-03-19T03:50:51.109Z"
   },
   {
    "duration": 20,
    "start_time": "2023-03-19T03:50:51.173Z"
   },
   {
    "duration": 4,
    "start_time": "2023-03-19T03:50:51.195Z"
   },
   {
    "duration": 60,
    "start_time": "2023-03-19T03:50:51.200Z"
   },
   {
    "duration": 47,
    "start_time": "2023-03-19T03:50:51.263Z"
   },
   {
    "duration": 6,
    "start_time": "2023-03-19T03:50:51.312Z"
   },
   {
    "duration": 62,
    "start_time": "2023-03-19T03:50:51.319Z"
   },
   {
    "duration": 6,
    "start_time": "2023-03-19T03:50:51.383Z"
   },
   {
    "duration": 16,
    "start_time": "2023-03-19T03:50:51.390Z"
   },
   {
    "duration": 7,
    "start_time": "2023-03-19T03:50:51.408Z"
   },
   {
    "duration": 14,
    "start_time": "2023-03-19T03:50:51.417Z"
   },
   {
    "duration": 18,
    "start_time": "2023-03-19T03:50:51.433Z"
   },
   {
    "duration": 15,
    "start_time": "2023-03-19T03:50:51.452Z"
   },
   {
    "duration": 15,
    "start_time": "2023-03-19T03:50:51.472Z"
   },
   {
    "duration": 6,
    "start_time": "2023-03-19T03:50:51.488Z"
   },
   {
    "duration": 19,
    "start_time": "2023-03-19T03:50:51.495Z"
   },
   {
    "duration": 5,
    "start_time": "2023-03-19T03:50:51.515Z"
   },
   {
    "duration": 13,
    "start_time": "2023-03-19T03:50:51.521Z"
   },
   {
    "duration": 44,
    "start_time": "2023-03-19T03:50:51.536Z"
   },
   {
    "duration": 20,
    "start_time": "2023-03-19T03:50:51.582Z"
   },
   {
    "duration": 5,
    "start_time": "2023-03-19T03:50:51.603Z"
   },
   {
    "duration": 9,
    "start_time": "2023-03-19T03:50:51.610Z"
   },
   {
    "duration": 15,
    "start_time": "2023-03-19T03:50:51.621Z"
   },
   {
    "duration": 4,
    "start_time": "2023-03-19T03:50:51.638Z"
   },
   {
    "duration": 15,
    "start_time": "2023-03-19T03:50:51.644Z"
   },
   {
    "duration": 10,
    "start_time": "2023-03-19T03:50:51.672Z"
   },
   {
    "duration": 2,
    "start_time": "2023-03-19T03:50:51.684Z"
   },
   {
    "duration": 10,
    "start_time": "2023-03-19T03:50:51.688Z"
   },
   {
    "duration": 19,
    "start_time": "2023-03-19T03:50:51.700Z"
   },
   {
    "duration": 2,
    "start_time": "2023-03-19T03:50:51.721Z"
   },
   {
    "duration": 11,
    "start_time": "2023-03-19T03:50:51.725Z"
   },
   {
    "duration": 6,
    "start_time": "2023-03-19T03:50:51.737Z"
   },
   {
    "duration": 35,
    "start_time": "2023-03-19T03:50:51.744Z"
   },
   {
    "duration": 18,
    "start_time": "2023-03-19T03:50:51.781Z"
   },
   {
    "duration": 16,
    "start_time": "2023-03-19T03:50:51.801Z"
   },
   {
    "duration": 30,
    "start_time": "2023-03-19T03:50:51.819Z"
   },
   {
    "duration": 26,
    "start_time": "2023-03-19T03:50:51.851Z"
   },
   {
    "duration": 22,
    "start_time": "2023-03-19T03:50:51.879Z"
   },
   {
    "duration": 12,
    "start_time": "2023-03-19T03:50:51.902Z"
   },
   {
    "duration": 8787,
    "start_time": "2023-03-19T03:50:51.916Z"
   },
   {
    "duration": 1267,
    "start_time": "2023-03-19T03:51:00.705Z"
   },
   {
    "duration": 571,
    "start_time": "2023-03-19T03:51:01.975Z"
   },
   {
    "duration": 40454,
    "start_time": "2023-03-19T03:51:02.548Z"
   },
   {
    "duration": 1408,
    "start_time": "2023-03-19T03:51:49.739Z"
   },
   {
    "duration": 4,
    "start_time": "2023-03-19T03:51:51.148Z"
   },
   {
    "duration": 115,
    "start_time": "2023-03-19T03:51:51.154Z"
   },
   {
    "duration": 22,
    "start_time": "2023-03-19T03:51:51.271Z"
   },
   {
    "duration": 5,
    "start_time": "2023-03-19T03:51:51.294Z"
   },
   {
    "duration": 27,
    "start_time": "2023-03-19T03:51:51.300Z"
   },
   {
    "duration": 12,
    "start_time": "2023-03-19T03:51:51.329Z"
   },
   {
    "duration": 12,
    "start_time": "2023-03-19T03:51:51.343Z"
   },
   {
    "duration": 21,
    "start_time": "2023-03-19T03:51:51.356Z"
   },
   {
    "duration": 14,
    "start_time": "2023-03-19T03:51:51.380Z"
   },
   {
    "duration": 32,
    "start_time": "2023-03-19T03:51:51.396Z"
   },
   {
    "duration": 16,
    "start_time": "2023-03-19T03:51:51.430Z"
   },
   {
    "duration": 45,
    "start_time": "2023-03-19T03:51:51.448Z"
   },
   {
    "duration": 18,
    "start_time": "2023-03-19T03:51:51.495Z"
   },
   {
    "duration": 28,
    "start_time": "2023-03-19T03:51:51.514Z"
   },
   {
    "duration": 11,
    "start_time": "2023-03-19T03:51:51.544Z"
   },
   {
    "duration": 29,
    "start_time": "2023-03-19T03:51:51.557Z"
   },
   {
    "duration": 17,
    "start_time": "2023-03-19T03:51:51.588Z"
   },
   {
    "duration": 18,
    "start_time": "2023-03-19T03:51:51.607Z"
   },
   {
    "duration": 3,
    "start_time": "2023-03-19T03:51:51.627Z"
   },
   {
    "duration": 6,
    "start_time": "2023-03-19T03:51:51.632Z"
   },
   {
    "duration": 4,
    "start_time": "2023-03-19T03:51:51.640Z"
   },
   {
    "duration": 27,
    "start_time": "2023-03-19T03:51:51.646Z"
   },
   {
    "duration": 12,
    "start_time": "2023-03-19T03:51:51.675Z"
   },
   {
    "duration": 6,
    "start_time": "2023-03-19T03:51:51.689Z"
   },
   {
    "duration": 17,
    "start_time": "2023-03-19T03:51:51.696Z"
   },
   {
    "duration": 27,
    "start_time": "2023-03-19T03:51:51.715Z"
   },
   {
    "duration": 44,
    "start_time": "2023-03-19T03:51:51.747Z"
   },
   {
    "duration": 27,
    "start_time": "2023-03-19T03:51:51.793Z"
   },
   {
    "duration": 18,
    "start_time": "2023-03-19T03:51:51.822Z"
   },
   {
    "duration": 31,
    "start_time": "2023-03-19T03:51:51.842Z"
   },
   {
    "duration": 3,
    "start_time": "2023-03-19T03:51:51.875Z"
   },
   {
    "duration": 44,
    "start_time": "2023-03-19T03:51:51.880Z"
   },
   {
    "duration": 4,
    "start_time": "2023-03-19T03:51:51.925Z"
   },
   {
    "duration": 11,
    "start_time": "2023-03-19T03:51:51.930Z"
   },
   {
    "duration": 54,
    "start_time": "2023-03-19T03:51:51.943Z"
   },
   {
    "duration": 8,
    "start_time": "2023-03-19T03:51:52.000Z"
   },
   {
    "duration": 48,
    "start_time": "2023-03-19T03:51:52.010Z"
   },
   {
    "duration": 18,
    "start_time": "2023-03-19T03:51:52.060Z"
   },
   {
    "duration": 6,
    "start_time": "2023-03-19T03:51:52.080Z"
   },
   {
    "duration": 5,
    "start_time": "2023-03-19T03:51:52.088Z"
   },
   {
    "duration": 43,
    "start_time": "2023-03-19T03:51:52.095Z"
   },
   {
    "duration": 19,
    "start_time": "2023-03-19T03:51:52.172Z"
   },
   {
    "duration": 3,
    "start_time": "2023-03-19T03:51:52.193Z"
   },
   {
    "duration": 43,
    "start_time": "2023-03-19T03:51:52.198Z"
   },
   {
    "duration": 63,
    "start_time": "2023-03-19T03:51:52.243Z"
   },
   {
    "duration": 5,
    "start_time": "2023-03-19T03:51:52.308Z"
   },
   {
    "duration": 47,
    "start_time": "2023-03-19T03:51:52.315Z"
   },
   {
    "duration": 12,
    "start_time": "2023-03-19T03:51:52.364Z"
   },
   {
    "duration": 7,
    "start_time": "2023-03-19T03:51:52.378Z"
   },
   {
    "duration": 8,
    "start_time": "2023-03-19T03:51:52.387Z"
   },
   {
    "duration": 10,
    "start_time": "2023-03-19T03:51:52.397Z"
   },
   {
    "duration": 8,
    "start_time": "2023-03-19T03:51:52.409Z"
   },
   {
    "duration": 13,
    "start_time": "2023-03-19T03:51:52.419Z"
   },
   {
    "duration": 42,
    "start_time": "2023-03-19T03:51:52.433Z"
   },
   {
    "duration": 7,
    "start_time": "2023-03-19T03:51:52.476Z"
   },
   {
    "duration": 13,
    "start_time": "2023-03-19T03:51:52.484Z"
   },
   {
    "duration": 3,
    "start_time": "2023-03-19T03:51:52.499Z"
   },
   {
    "duration": 11,
    "start_time": "2023-03-19T03:51:52.504Z"
   },
   {
    "duration": 16,
    "start_time": "2023-03-19T03:51:52.516Z"
   },
   {
    "duration": 50,
    "start_time": "2023-03-19T03:51:52.533Z"
   },
   {
    "duration": 4,
    "start_time": "2023-03-19T03:51:52.584Z"
   },
   {
    "duration": 7,
    "start_time": "2023-03-19T03:51:52.590Z"
   },
   {
    "duration": 13,
    "start_time": "2023-03-19T03:51:52.598Z"
   },
   {
    "duration": 5,
    "start_time": "2023-03-19T03:51:52.613Z"
   },
   {
    "duration": 5,
    "start_time": "2023-03-19T03:51:52.620Z"
   },
   {
    "duration": 13,
    "start_time": "2023-03-19T03:51:52.626Z"
   },
   {
    "duration": 3,
    "start_time": "2023-03-19T03:51:52.640Z"
   },
   {
    "duration": 30,
    "start_time": "2023-03-19T03:51:52.645Z"
   },
   {
    "duration": 21,
    "start_time": "2023-03-19T03:51:52.677Z"
   },
   {
    "duration": 2,
    "start_time": "2023-03-19T03:51:52.700Z"
   },
   {
    "duration": 7,
    "start_time": "2023-03-19T03:51:52.703Z"
   },
   {
    "duration": 6,
    "start_time": "2023-03-19T03:51:52.711Z"
   },
   {
    "duration": 10,
    "start_time": "2023-03-19T03:51:52.718Z"
   },
   {
    "duration": 151,
    "start_time": "2023-03-19T03:51:52.730Z"
   },
   {
    "duration": 0,
    "start_time": "2023-03-19T03:51:52.884Z"
   },
   {
    "duration": 0,
    "start_time": "2023-03-19T03:51:52.885Z"
   },
   {
    "duration": 0,
    "start_time": "2023-03-19T03:51:52.886Z"
   },
   {
    "duration": 0,
    "start_time": "2023-03-19T03:51:52.887Z"
   },
   {
    "duration": 0,
    "start_time": "2023-03-19T03:51:52.888Z"
   },
   {
    "duration": 0,
    "start_time": "2023-03-19T03:51:52.889Z"
   },
   {
    "duration": 0,
    "start_time": "2023-03-19T03:51:52.890Z"
   },
   {
    "duration": 0,
    "start_time": "2023-03-19T03:51:52.892Z"
   },
   {
    "duration": 0,
    "start_time": "2023-03-19T03:51:52.893Z"
   },
   {
    "duration": 0,
    "start_time": "2023-03-19T03:51:52.894Z"
   },
   {
    "duration": 0,
    "start_time": "2023-03-19T03:51:52.895Z"
   },
   {
    "duration": 0,
    "start_time": "2023-03-19T03:51:52.896Z"
   },
   {
    "duration": 0,
    "start_time": "2023-03-19T03:51:52.897Z"
   },
   {
    "duration": 0,
    "start_time": "2023-03-19T03:51:52.898Z"
   },
   {
    "duration": 0,
    "start_time": "2023-03-19T03:51:52.899Z"
   },
   {
    "duration": 0,
    "start_time": "2023-03-19T03:51:52.900Z"
   },
   {
    "duration": 0,
    "start_time": "2023-03-19T03:51:52.901Z"
   },
   {
    "duration": 0,
    "start_time": "2023-03-19T03:51:52.902Z"
   },
   {
    "duration": 1386,
    "start_time": "2023-03-19T03:52:16.454Z"
   },
   {
    "duration": 3,
    "start_time": "2023-03-19T03:52:17.842Z"
   },
   {
    "duration": 115,
    "start_time": "2023-03-19T03:52:17.846Z"
   },
   {
    "duration": 21,
    "start_time": "2023-03-19T03:52:17.962Z"
   },
   {
    "duration": 4,
    "start_time": "2023-03-19T03:52:17.984Z"
   },
   {
    "duration": 8,
    "start_time": "2023-03-19T03:52:17.990Z"
   },
   {
    "duration": 7,
    "start_time": "2023-03-19T03:52:18.000Z"
   },
   {
    "duration": 13,
    "start_time": "2023-03-19T03:52:18.009Z"
   },
   {
    "duration": 14,
    "start_time": "2023-03-19T03:52:18.024Z"
   },
   {
    "duration": 40,
    "start_time": "2023-03-19T03:52:18.040Z"
   },
   {
    "duration": 9,
    "start_time": "2023-03-19T03:52:18.082Z"
   },
   {
    "duration": 11,
    "start_time": "2023-03-19T03:52:18.092Z"
   },
   {
    "duration": 28,
    "start_time": "2023-03-19T03:52:18.105Z"
   },
   {
    "duration": 43,
    "start_time": "2023-03-19T03:52:18.135Z"
   },
   {
    "duration": 22,
    "start_time": "2023-03-19T03:52:18.179Z"
   },
   {
    "duration": 12,
    "start_time": "2023-03-19T03:52:18.203Z"
   },
   {
    "duration": 17,
    "start_time": "2023-03-19T03:52:18.216Z"
   },
   {
    "duration": 45,
    "start_time": "2023-03-19T03:52:18.235Z"
   },
   {
    "duration": 16,
    "start_time": "2023-03-19T03:52:18.282Z"
   },
   {
    "duration": 3,
    "start_time": "2023-03-19T03:52:18.300Z"
   },
   {
    "duration": 8,
    "start_time": "2023-03-19T03:52:18.305Z"
   },
   {
    "duration": 4,
    "start_time": "2023-03-19T03:52:18.315Z"
   },
   {
    "duration": 6,
    "start_time": "2023-03-19T03:52:18.321Z"
   },
   {
    "duration": 10,
    "start_time": "2023-03-19T03:52:18.328Z"
   },
   {
    "duration": 4,
    "start_time": "2023-03-19T03:52:18.339Z"
   },
   {
    "duration": 39,
    "start_time": "2023-03-19T03:52:18.344Z"
   },
   {
    "duration": 27,
    "start_time": "2023-03-19T03:52:18.385Z"
   },
   {
    "duration": 20,
    "start_time": "2023-03-19T03:52:18.418Z"
   },
   {
    "duration": 56,
    "start_time": "2023-03-19T03:52:18.439Z"
   },
   {
    "duration": 5,
    "start_time": "2023-03-19T03:52:18.497Z"
   },
   {
    "duration": 17,
    "start_time": "2023-03-19T03:52:18.504Z"
   },
   {
    "duration": 3,
    "start_time": "2023-03-19T03:52:18.524Z"
   },
   {
    "duration": 71,
    "start_time": "2023-03-19T03:52:18.529Z"
   },
   {
    "duration": 3,
    "start_time": "2023-03-19T03:52:18.602Z"
   },
   {
    "duration": 9,
    "start_time": "2023-03-19T03:52:18.607Z"
   },
   {
    "duration": 24,
    "start_time": "2023-03-19T03:52:18.617Z"
   },
   {
    "duration": 8,
    "start_time": "2023-03-19T03:52:18.643Z"
   },
   {
    "duration": 44,
    "start_time": "2023-03-19T03:52:18.673Z"
   },
   {
    "duration": 6,
    "start_time": "2023-03-19T03:52:18.719Z"
   },
   {
    "duration": 7,
    "start_time": "2023-03-19T03:52:18.727Z"
   },
   {
    "duration": 6,
    "start_time": "2023-03-19T03:52:18.735Z"
   },
   {
    "duration": 68,
    "start_time": "2023-03-19T03:52:18.742Z"
   },
   {
    "duration": 18,
    "start_time": "2023-03-19T03:52:18.812Z"
   },
   {
    "duration": 4,
    "start_time": "2023-03-19T03:52:18.831Z"
   },
   {
    "duration": 65,
    "start_time": "2023-03-19T03:52:18.836Z"
   },
   {
    "duration": 46,
    "start_time": "2023-03-19T03:52:18.902Z"
   },
   {
    "duration": 6,
    "start_time": "2023-03-19T03:52:18.950Z"
   },
   {
    "duration": 45,
    "start_time": "2023-03-19T03:52:18.975Z"
   },
   {
    "duration": 7,
    "start_time": "2023-03-19T03:52:19.021Z"
   },
   {
    "duration": 7,
    "start_time": "2023-03-19T03:52:19.029Z"
   },
   {
    "duration": 7,
    "start_time": "2023-03-19T03:52:19.038Z"
   },
   {
    "duration": 37,
    "start_time": "2023-03-19T03:52:19.046Z"
   },
   {
    "duration": 4,
    "start_time": "2023-03-19T03:52:19.085Z"
   },
   {
    "duration": 10,
    "start_time": "2023-03-19T03:52:19.091Z"
   },
   {
    "duration": 15,
    "start_time": "2023-03-19T03:52:19.103Z"
   },
   {
    "duration": 7,
    "start_time": "2023-03-19T03:52:19.120Z"
   },
   {
    "duration": 45,
    "start_time": "2023-03-19T03:52:19.128Z"
   },
   {
    "duration": 4,
    "start_time": "2023-03-19T03:52:19.175Z"
   },
   {
    "duration": 14,
    "start_time": "2023-03-19T03:52:19.181Z"
   },
   {
    "duration": 16,
    "start_time": "2023-03-19T03:52:19.197Z"
   },
   {
    "duration": 14,
    "start_time": "2023-03-19T03:52:19.215Z"
   },
   {
    "duration": 5,
    "start_time": "2023-03-19T03:52:19.230Z"
   },
   {
    "duration": 36,
    "start_time": "2023-03-19T03:52:19.237Z"
   },
   {
    "duration": 15,
    "start_time": "2023-03-19T03:52:19.275Z"
   },
   {
    "duration": 7,
    "start_time": "2023-03-19T03:52:19.292Z"
   },
   {
    "duration": 7,
    "start_time": "2023-03-19T03:52:19.301Z"
   },
   {
    "duration": 11,
    "start_time": "2023-03-19T03:52:19.310Z"
   },
   {
    "duration": 3,
    "start_time": "2023-03-19T03:52:19.323Z"
   },
   {
    "duration": 6,
    "start_time": "2023-03-19T03:52:19.328Z"
   },
   {
    "duration": 53,
    "start_time": "2023-03-19T03:52:19.336Z"
   },
   {
    "duration": 2,
    "start_time": "2023-03-19T03:52:19.391Z"
   },
   {
    "duration": 5,
    "start_time": "2023-03-19T03:52:19.396Z"
   },
   {
    "duration": 4,
    "start_time": "2023-03-19T03:52:19.402Z"
   },
   {
    "duration": 13,
    "start_time": "2023-03-19T03:52:19.408Z"
   },
   {
    "duration": 53,
    "start_time": "2023-03-19T03:52:19.424Z"
   },
   {
    "duration": 14,
    "start_time": "2023-03-19T03:52:19.479Z"
   },
   {
    "duration": 27,
    "start_time": "2023-03-19T03:52:19.494Z"
   },
   {
    "duration": 5,
    "start_time": "2023-03-19T03:52:19.523Z"
   },
   {
    "duration": 28,
    "start_time": "2023-03-19T03:52:19.530Z"
   },
   {
    "duration": 88,
    "start_time": "2023-03-19T03:52:19.573Z"
   },
   {
    "duration": 8703,
    "start_time": "2023-03-19T03:52:19.663Z"
   },
   {
    "duration": 1005,
    "start_time": "2023-03-19T03:52:28.374Z"
   },
   {
    "duration": 666,
    "start_time": "2023-03-19T03:52:29.381Z"
   },
   {
    "duration": 41444,
    "start_time": "2023-03-19T03:52:30.049Z"
   },
   {
    "duration": 296088,
    "start_time": "2023-03-19T03:53:11.495Z"
   },
   {
    "duration": 23521,
    "start_time": "2023-03-19T03:58:07.584Z"
   },
   {
    "duration": 0,
    "start_time": "2023-03-19T03:58:31.107Z"
   },
   {
    "duration": 0,
    "start_time": "2023-03-19T03:58:31.109Z"
   },
   {
    "duration": 0,
    "start_time": "2023-03-19T03:58:31.110Z"
   },
   {
    "duration": 0,
    "start_time": "2023-03-19T03:58:31.111Z"
   },
   {
    "duration": 0,
    "start_time": "2023-03-19T03:58:31.112Z"
   },
   {
    "duration": 0,
    "start_time": "2023-03-19T03:58:31.113Z"
   },
   {
    "duration": 0,
    "start_time": "2023-03-19T03:58:31.114Z"
   },
   {
    "duration": 28748,
    "start_time": "2023-03-19T03:59:00.603Z"
   },
   {
    "duration": 43484,
    "start_time": "2023-03-19T03:59:36.091Z"
   },
   {
    "duration": 90983,
    "start_time": "2023-03-19T04:01:23.460Z"
   },
   {
    "duration": 8024,
    "start_time": "2023-03-19T04:05:05.959Z"
   },
   {
    "duration": 44828,
    "start_time": "2023-03-19T04:05:19.553Z"
   },
   {
    "duration": 89669,
    "start_time": "2023-03-19T04:06:26.567Z"
   },
   {
    "duration": 66247,
    "start_time": "2023-03-19T04:07:56.238Z"
   },
   {
    "duration": 45585,
    "start_time": "2023-03-19T04:10:25.995Z"
   },
   {
    "duration": 2109,
    "start_time": "2023-03-19T04:11:34.673Z"
   },
   {
    "duration": 1378,
    "start_time": "2023-03-19T04:13:28.503Z"
   },
   {
    "duration": 5,
    "start_time": "2023-03-19T04:13:29.884Z"
   },
   {
    "duration": 116,
    "start_time": "2023-03-19T04:13:29.891Z"
   },
   {
    "duration": 23,
    "start_time": "2023-03-19T04:13:30.008Z"
   },
   {
    "duration": 5,
    "start_time": "2023-03-19T04:13:30.034Z"
   },
   {
    "duration": 12,
    "start_time": "2023-03-19T04:13:30.041Z"
   },
   {
    "duration": 15,
    "start_time": "2023-03-19T04:13:30.055Z"
   },
   {
    "duration": 17,
    "start_time": "2023-03-19T04:13:30.072Z"
   },
   {
    "duration": 16,
    "start_time": "2023-03-19T04:13:30.092Z"
   },
   {
    "duration": 21,
    "start_time": "2023-03-19T04:13:30.110Z"
   },
   {
    "duration": 14,
    "start_time": "2023-03-19T04:13:30.133Z"
   },
   {
    "duration": 29,
    "start_time": "2023-03-19T04:13:30.149Z"
   },
   {
    "duration": 53,
    "start_time": "2023-03-19T04:13:30.180Z"
   },
   {
    "duration": 19,
    "start_time": "2023-03-19T04:13:30.237Z"
   },
   {
    "duration": 39,
    "start_time": "2023-03-19T04:13:30.258Z"
   },
   {
    "duration": 31,
    "start_time": "2023-03-19T04:13:30.299Z"
   },
   {
    "duration": 23,
    "start_time": "2023-03-19T04:13:30.331Z"
   },
   {
    "duration": 21,
    "start_time": "2023-03-19T04:13:30.356Z"
   },
   {
    "duration": 42,
    "start_time": "2023-03-19T04:13:30.380Z"
   },
   {
    "duration": 27,
    "start_time": "2023-03-19T04:13:30.424Z"
   },
   {
    "duration": 30,
    "start_time": "2023-03-19T04:13:30.454Z"
   },
   {
    "duration": 21,
    "start_time": "2023-03-19T04:13:30.487Z"
   },
   {
    "duration": 23,
    "start_time": "2023-03-19T04:13:30.511Z"
   },
   {
    "duration": 47,
    "start_time": "2023-03-19T04:13:30.537Z"
   },
   {
    "duration": 44,
    "start_time": "2023-03-19T04:13:30.587Z"
   },
   {
    "duration": 36,
    "start_time": "2023-03-19T04:13:30.633Z"
   },
   {
    "duration": 45,
    "start_time": "2023-03-19T04:13:30.671Z"
   },
   {
    "duration": 34,
    "start_time": "2023-03-19T04:13:30.718Z"
   },
   {
    "duration": 47,
    "start_time": "2023-03-19T04:13:30.753Z"
   },
   {
    "duration": 27,
    "start_time": "2023-03-19T04:13:30.802Z"
   },
   {
    "duration": 43,
    "start_time": "2023-03-19T04:13:30.831Z"
   },
   {
    "duration": 29,
    "start_time": "2023-03-19T04:13:30.876Z"
   },
   {
    "duration": 70,
    "start_time": "2023-03-19T04:13:30.907Z"
   },
   {
    "duration": 8,
    "start_time": "2023-03-19T04:13:30.978Z"
   },
   {
    "duration": 29,
    "start_time": "2023-03-19T04:13:30.987Z"
   },
   {
    "duration": 50,
    "start_time": "2023-03-19T04:13:31.018Z"
   },
   {
    "duration": 40,
    "start_time": "2023-03-19T04:13:31.070Z"
   },
   {
    "duration": 74,
    "start_time": "2023-03-19T04:13:31.112Z"
   },
   {
    "duration": 7,
    "start_time": "2023-03-19T04:13:31.188Z"
   },
   {
    "duration": 292,
    "start_time": "2023-03-19T04:13:31.196Z"
   },
   {
    "duration": 20,
    "start_time": "2023-03-19T04:13:31.493Z"
   },
   {
    "duration": 64,
    "start_time": "2023-03-19T04:13:31.515Z"
   },
   {
    "duration": 18,
    "start_time": "2023-03-19T04:13:31.581Z"
   },
   {
    "duration": 17,
    "start_time": "2023-03-19T04:13:31.601Z"
   },
   {
    "duration": 64,
    "start_time": "2023-03-19T04:13:31.620Z"
   },
   {
    "duration": 55,
    "start_time": "2023-03-19T04:13:31.686Z"
   },
   {
    "duration": 7,
    "start_time": "2023-03-19T04:13:31.743Z"
   },
   {
    "duration": 57,
    "start_time": "2023-03-19T04:13:31.752Z"
   },
   {
    "duration": 7,
    "start_time": "2023-03-19T04:13:31.811Z"
   },
   {
    "duration": 9,
    "start_time": "2023-03-19T04:13:31.820Z"
   },
   {
    "duration": 11,
    "start_time": "2023-03-19T04:13:31.831Z"
   },
   {
    "duration": 33,
    "start_time": "2023-03-19T04:13:31.844Z"
   },
   {
    "duration": 4,
    "start_time": "2023-03-19T04:13:31.879Z"
   },
   {
    "duration": 16,
    "start_time": "2023-03-19T04:13:31.885Z"
   },
   {
    "duration": 16,
    "start_time": "2023-03-19T04:13:31.903Z"
   },
   {
    "duration": 7,
    "start_time": "2023-03-19T04:13:31.920Z"
   },
   {
    "duration": 17,
    "start_time": "2023-03-19T04:13:31.929Z"
   },
   {
    "duration": 26,
    "start_time": "2023-03-19T04:13:31.948Z"
   },
   {
    "duration": 24,
    "start_time": "2023-03-19T04:13:31.976Z"
   },
   {
    "duration": 17,
    "start_time": "2023-03-19T04:13:32.002Z"
   },
   {
    "duration": 19,
    "start_time": "2023-03-19T04:13:32.021Z"
   },
   {
    "duration": 4,
    "start_time": "2023-03-19T04:13:32.042Z"
   },
   {
    "duration": 26,
    "start_time": "2023-03-19T04:13:32.048Z"
   },
   {
    "duration": 14,
    "start_time": "2023-03-19T04:13:32.077Z"
   },
   {
    "duration": 5,
    "start_time": "2023-03-19T04:13:32.093Z"
   },
   {
    "duration": 5,
    "start_time": "2023-03-19T04:13:32.100Z"
   },
   {
    "duration": 12,
    "start_time": "2023-03-19T04:13:32.107Z"
   },
   {
    "duration": 4,
    "start_time": "2023-03-19T04:13:32.122Z"
   },
   {
    "duration": 5,
    "start_time": "2023-03-19T04:13:32.128Z"
   },
   {
    "duration": 52,
    "start_time": "2023-03-19T04:13:32.135Z"
   },
   {
    "duration": 6,
    "start_time": "2023-03-19T04:13:32.189Z"
   },
   {
    "duration": 18,
    "start_time": "2023-03-19T04:13:32.197Z"
   },
   {
    "duration": 5,
    "start_time": "2023-03-19T04:13:32.217Z"
   },
   {
    "duration": 13,
    "start_time": "2023-03-19T04:13:32.223Z"
   },
   {
    "duration": 18,
    "start_time": "2023-03-19T04:13:32.237Z"
   },
   {
    "duration": 28,
    "start_time": "2023-03-19T04:13:32.257Z"
   },
   {
    "duration": 31,
    "start_time": "2023-03-19T04:13:32.287Z"
   },
   {
    "duration": 9,
    "start_time": "2023-03-19T04:13:32.320Z"
   },
   {
    "duration": 43,
    "start_time": "2023-03-19T04:13:32.331Z"
   },
   {
    "duration": 9,
    "start_time": "2023-03-19T04:13:32.376Z"
   },
   {
    "duration": 8861,
    "start_time": "2023-03-19T04:13:32.387Z"
   },
   {
    "duration": 1124,
    "start_time": "2023-03-19T04:13:41.250Z"
   },
   {
    "duration": 563,
    "start_time": "2023-03-19T04:13:42.381Z"
   },
   {
    "duration": 60562,
    "start_time": "2023-03-19T04:13:42.946Z"
   },
   {
    "duration": 418054,
    "start_time": "2023-03-19T04:14:43.510Z"
   },
   {
    "duration": 0,
    "start_time": "2023-03-19T04:21:41.566Z"
   },
   {
    "duration": 0,
    "start_time": "2023-03-19T04:21:41.574Z"
   },
   {
    "duration": 0,
    "start_time": "2023-03-19T04:21:41.575Z"
   },
   {
    "duration": 0,
    "start_time": "2023-03-19T04:21:41.576Z"
   },
   {
    "duration": 0,
    "start_time": "2023-03-19T04:21:41.577Z"
   },
   {
    "duration": 0,
    "start_time": "2023-03-19T04:21:41.577Z"
   },
   {
    "duration": 0,
    "start_time": "2023-03-19T04:21:41.578Z"
   },
   {
    "duration": 0,
    "start_time": "2023-03-19T04:21:41.579Z"
   },
   {
    "duration": 33,
    "start_time": "2023-03-19T04:21:50.995Z"
   },
   {
    "duration": 10,
    "start_time": "2023-03-19T04:22:04.984Z"
   },
   {
    "duration": 89318,
    "start_time": "2023-03-19T04:24:12.083Z"
   },
   {
    "duration": 1991,
    "start_time": "2023-03-19T04:26:19.988Z"
   },
   {
    "duration": 1383,
    "start_time": "2023-03-19T04:27:11.471Z"
   },
   {
    "duration": 3,
    "start_time": "2023-03-19T04:27:12.856Z"
   },
   {
    "duration": 117,
    "start_time": "2023-03-19T04:27:12.860Z"
   },
   {
    "duration": 22,
    "start_time": "2023-03-19T04:27:12.979Z"
   },
   {
    "duration": 5,
    "start_time": "2023-03-19T04:27:13.003Z"
   },
   {
    "duration": 9,
    "start_time": "2023-03-19T04:27:13.009Z"
   },
   {
    "duration": 10,
    "start_time": "2023-03-19T04:27:13.020Z"
   },
   {
    "duration": 41,
    "start_time": "2023-03-19T04:27:13.032Z"
   },
   {
    "duration": 14,
    "start_time": "2023-03-19T04:27:13.074Z"
   },
   {
    "duration": 13,
    "start_time": "2023-03-19T04:27:13.090Z"
   },
   {
    "duration": 8,
    "start_time": "2023-03-19T04:27:13.105Z"
   },
   {
    "duration": 11,
    "start_time": "2023-03-19T04:27:13.114Z"
   },
   {
    "duration": 55,
    "start_time": "2023-03-19T04:27:13.127Z"
   },
   {
    "duration": 20,
    "start_time": "2023-03-19T04:27:13.185Z"
   },
   {
    "duration": 22,
    "start_time": "2023-03-19T04:27:13.206Z"
   },
   {
    "duration": 13,
    "start_time": "2023-03-19T04:27:13.229Z"
   },
   {
    "duration": 43,
    "start_time": "2023-03-19T04:27:13.244Z"
   },
   {
    "duration": 25,
    "start_time": "2023-03-19T04:27:13.289Z"
   },
   {
    "duration": 19,
    "start_time": "2023-03-19T04:27:13.315Z"
   },
   {
    "duration": 3,
    "start_time": "2023-03-19T04:27:13.335Z"
   },
   {
    "duration": 32,
    "start_time": "2023-03-19T04:27:13.340Z"
   },
   {
    "duration": 2,
    "start_time": "2023-03-19T04:27:13.375Z"
   },
   {
    "duration": 10,
    "start_time": "2023-03-19T04:27:13.379Z"
   },
   {
    "duration": 13,
    "start_time": "2023-03-19T04:27:13.390Z"
   },
   {
    "duration": 2,
    "start_time": "2023-03-19T04:27:13.405Z"
   },
   {
    "duration": 17,
    "start_time": "2023-03-19T04:27:13.408Z"
   },
   {
    "duration": 53,
    "start_time": "2023-03-19T04:27:13.427Z"
   },
   {
    "duration": 20,
    "start_time": "2023-03-19T04:27:13.482Z"
   },
   {
    "duration": 25,
    "start_time": "2023-03-19T04:27:13.504Z"
   },
   {
    "duration": 5,
    "start_time": "2023-03-19T04:27:13.530Z"
   },
   {
    "duration": 44,
    "start_time": "2023-03-19T04:27:13.537Z"
   },
   {
    "duration": 4,
    "start_time": "2023-03-19T04:27:13.582Z"
   },
   {
    "duration": 54,
    "start_time": "2023-03-19T04:27:13.587Z"
   },
   {
    "duration": 3,
    "start_time": "2023-03-19T04:27:13.643Z"
   },
   {
    "duration": 8,
    "start_time": "2023-03-19T04:27:13.648Z"
   },
   {
    "duration": 37,
    "start_time": "2023-03-19T04:27:13.658Z"
   },
   {
    "duration": 8,
    "start_time": "2023-03-19T04:27:13.697Z"
   },
   {
    "duration": 42,
    "start_time": "2023-03-19T04:27:13.707Z"
   },
   {
    "duration": 24,
    "start_time": "2023-03-19T04:27:13.751Z"
   },
   {
    "duration": 7,
    "start_time": "2023-03-19T04:27:13.777Z"
   },
   {
    "duration": 4,
    "start_time": "2023-03-19T04:27:13.789Z"
   },
   {
    "duration": 41,
    "start_time": "2023-03-19T04:27:13.795Z"
   },
   {
    "duration": 44,
    "start_time": "2023-03-19T04:27:13.838Z"
   },
   {
    "duration": 4,
    "start_time": "2023-03-19T04:27:13.884Z"
   },
   {
    "duration": 43,
    "start_time": "2023-03-19T04:27:13.889Z"
   },
   {
    "duration": 59,
    "start_time": "2023-03-19T04:27:13.934Z"
   },
   {
    "duration": 7,
    "start_time": "2023-03-19T04:27:13.994Z"
   },
   {
    "duration": 44,
    "start_time": "2023-03-19T04:27:14.002Z"
   },
   {
    "duration": 26,
    "start_time": "2023-03-19T04:27:14.047Z"
   },
   {
    "duration": 8,
    "start_time": "2023-03-19T04:27:14.075Z"
   },
   {
    "duration": 9,
    "start_time": "2023-03-19T04:27:14.085Z"
   },
   {
    "duration": 12,
    "start_time": "2023-03-19T04:27:14.095Z"
   },
   {
    "duration": 3,
    "start_time": "2023-03-19T04:27:14.109Z"
   },
   {
    "duration": 15,
    "start_time": "2023-03-19T04:27:14.113Z"
   },
   {
    "duration": 15,
    "start_time": "2023-03-19T04:27:14.130Z"
   },
   {
    "duration": 5,
    "start_time": "2023-03-19T04:27:14.172Z"
   },
   {
    "duration": 16,
    "start_time": "2023-03-19T04:27:14.179Z"
   },
   {
    "duration": 4,
    "start_time": "2023-03-19T04:27:14.196Z"
   },
   {
    "duration": 16,
    "start_time": "2023-03-19T04:27:14.202Z"
   },
   {
    "duration": 19,
    "start_time": "2023-03-19T04:27:14.220Z"
   },
   {
    "duration": 42,
    "start_time": "2023-03-19T04:27:14.241Z"
   },
   {
    "duration": 4,
    "start_time": "2023-03-19T04:27:14.286Z"
   },
   {
    "duration": 10,
    "start_time": "2023-03-19T04:27:14.292Z"
   },
   {
    "duration": 18,
    "start_time": "2023-03-19T04:27:14.304Z"
   },
   {
    "duration": 4,
    "start_time": "2023-03-19T04:27:14.324Z"
   },
   {
    "duration": 4,
    "start_time": "2023-03-19T04:27:14.330Z"
   },
   {
    "duration": 11,
    "start_time": "2023-03-19T04:27:14.336Z"
   },
   {
    "duration": 24,
    "start_time": "2023-03-19T04:27:14.349Z"
   },
   {
    "duration": 9,
    "start_time": "2023-03-19T04:27:14.375Z"
   },
   {
    "duration": 19,
    "start_time": "2023-03-19T04:27:14.385Z"
   },
   {
    "duration": 2,
    "start_time": "2023-03-19T04:27:14.406Z"
   },
   {
    "duration": 6,
    "start_time": "2023-03-19T04:27:14.409Z"
   },
   {
    "duration": 4,
    "start_time": "2023-03-19T04:27:14.417Z"
   },
   {
    "duration": 10,
    "start_time": "2023-03-19T04:27:14.423Z"
   },
   {
    "duration": 50,
    "start_time": "2023-03-19T04:27:14.435Z"
   },
   {
    "duration": 15,
    "start_time": "2023-03-19T04:27:14.486Z"
   },
   {
    "duration": 23,
    "start_time": "2023-03-19T04:27:14.504Z"
   },
   {
    "duration": 8,
    "start_time": "2023-03-19T04:27:14.528Z"
   },
   {
    "duration": 53,
    "start_time": "2023-03-19T04:27:14.537Z"
   },
   {
    "duration": 12,
    "start_time": "2023-03-19T04:27:14.592Z"
   },
   {
    "duration": 8798,
    "start_time": "2023-03-19T04:27:14.606Z"
   },
   {
    "duration": 1468,
    "start_time": "2023-03-19T04:27:23.406Z"
   },
   {
    "duration": 569,
    "start_time": "2023-03-19T04:27:24.876Z"
   },
   {
    "duration": 57601,
    "start_time": "2023-03-19T04:27:25.447Z"
   },
   {
    "duration": 3,
    "start_time": "2023-03-19T04:28:23.049Z"
   },
   {
    "duration": 34,
    "start_time": "2023-03-19T04:28:23.053Z"
   },
   {
    "duration": 3,
    "start_time": "2023-03-19T04:28:23.088Z"
   },
   {
    "duration": 86775,
    "start_time": "2023-03-19T04:28:23.093Z"
   },
   {
    "duration": 2,
    "start_time": "2023-03-19T04:29:49.870Z"
   },
   {
    "duration": 2068,
    "start_time": "2023-03-19T04:29:49.874Z"
   },
   {
    "duration": 5,
    "start_time": "2023-03-19T04:29:51.944Z"
   },
   {
    "duration": 16,
    "start_time": "2023-03-19T04:29:51.951Z"
   },
   {
    "duration": 253,
    "start_time": "2023-03-19T04:29:51.969Z"
   },
   {
    "duration": 211,
    "start_time": "2023-03-19T04:29:52.225Z"
   },
   {
    "duration": 168,
    "start_time": "2023-03-19T04:29:52.438Z"
   },
   {
    "duration": 1326,
    "start_time": "2023-03-19T04:31:02.905Z"
   },
   {
    "duration": 4,
    "start_time": "2023-03-19T04:31:04.233Z"
   },
   {
    "duration": 122,
    "start_time": "2023-03-19T04:31:04.239Z"
   },
   {
    "duration": 22,
    "start_time": "2023-03-19T04:31:04.363Z"
   },
   {
    "duration": 8,
    "start_time": "2023-03-19T04:31:04.386Z"
   },
   {
    "duration": 8,
    "start_time": "2023-03-19T04:31:04.396Z"
   },
   {
    "duration": 9,
    "start_time": "2023-03-19T04:31:04.405Z"
   },
   {
    "duration": 13,
    "start_time": "2023-03-19T04:31:04.416Z"
   },
   {
    "duration": 44,
    "start_time": "2023-03-19T04:31:04.431Z"
   },
   {
    "duration": 13,
    "start_time": "2023-03-19T04:31:04.477Z"
   },
   {
    "duration": 7,
    "start_time": "2023-03-19T04:31:04.492Z"
   },
   {
    "duration": 11,
    "start_time": "2023-03-19T04:31:04.501Z"
   },
   {
    "duration": 39,
    "start_time": "2023-03-19T04:31:04.514Z"
   },
   {
    "duration": 35,
    "start_time": "2023-03-19T04:31:04.555Z"
   },
   {
    "duration": 24,
    "start_time": "2023-03-19T04:31:04.592Z"
   },
   {
    "duration": 12,
    "start_time": "2023-03-19T04:31:04.618Z"
   },
   {
    "duration": 43,
    "start_time": "2023-03-19T04:31:04.632Z"
   },
   {
    "duration": 23,
    "start_time": "2023-03-19T04:31:04.677Z"
   },
   {
    "duration": 17,
    "start_time": "2023-03-19T04:31:04.702Z"
   },
   {
    "duration": 4,
    "start_time": "2023-03-19T04:31:04.720Z"
   },
   {
    "duration": 10,
    "start_time": "2023-03-19T04:31:04.725Z"
   },
   {
    "duration": 4,
    "start_time": "2023-03-19T04:31:04.737Z"
   },
   {
    "duration": 35,
    "start_time": "2023-03-19T04:31:04.743Z"
   },
   {
    "duration": 6,
    "start_time": "2023-03-19T04:31:04.780Z"
   },
   {
    "duration": 4,
    "start_time": "2023-03-19T04:31:04.788Z"
   },
   {
    "duration": 14,
    "start_time": "2023-03-19T04:31:04.794Z"
   },
   {
    "duration": 29,
    "start_time": "2023-03-19T04:31:04.810Z"
   },
   {
    "duration": 45,
    "start_time": "2023-03-19T04:31:04.843Z"
   },
   {
    "duration": 24,
    "start_time": "2023-03-19T04:31:04.890Z"
   },
   {
    "duration": 4,
    "start_time": "2023-03-19T04:31:04.916Z"
   },
   {
    "duration": 41,
    "start_time": "2023-03-19T04:31:04.921Z"
   },
   {
    "duration": 8,
    "start_time": "2023-03-19T04:31:04.964Z"
   },
   {
    "duration": 47,
    "start_time": "2023-03-19T04:31:04.974Z"
   },
   {
    "duration": 3,
    "start_time": "2023-03-19T04:31:05.023Z"
   },
   {
    "duration": 17,
    "start_time": "2023-03-19T04:31:05.028Z"
   },
   {
    "duration": 45,
    "start_time": "2023-03-19T04:31:05.047Z"
   },
   {
    "duration": 9,
    "start_time": "2023-03-19T04:31:05.094Z"
   },
   {
    "duration": 62,
    "start_time": "2023-03-19T04:31:05.105Z"
   },
   {
    "duration": 6,
    "start_time": "2023-03-19T04:31:05.169Z"
   },
   {
    "duration": 14,
    "start_time": "2023-03-19T04:31:05.177Z"
   },
   {
    "duration": 4,
    "start_time": "2023-03-19T04:31:05.194Z"
   },
   {
    "duration": 48,
    "start_time": "2023-03-19T04:31:05.200Z"
   },
   {
    "duration": 39,
    "start_time": "2023-03-19T04:31:05.250Z"
   },
   {
    "duration": 4,
    "start_time": "2023-03-19T04:31:05.291Z"
   },
   {
    "duration": 47,
    "start_time": "2023-03-19T04:31:05.296Z"
   },
   {
    "duration": 66,
    "start_time": "2023-03-19T04:31:05.345Z"
   },
   {
    "duration": 6,
    "start_time": "2023-03-19T04:31:05.413Z"
   },
   {
    "duration": 55,
    "start_time": "2023-03-19T04:31:05.421Z"
   },
   {
    "duration": 7,
    "start_time": "2023-03-19T04:31:05.477Z"
   },
   {
    "duration": 14,
    "start_time": "2023-03-19T04:31:05.486Z"
   },
   {
    "duration": 11,
    "start_time": "2023-03-19T04:31:05.501Z"
   },
   {
    "duration": 27,
    "start_time": "2023-03-19T04:31:05.513Z"
   },
   {
    "duration": 4,
    "start_time": "2023-03-19T04:31:05.542Z"
   },
   {
    "duration": 32,
    "start_time": "2023-03-19T04:31:05.547Z"
   },
   {
    "duration": 17,
    "start_time": "2023-03-19T04:31:05.581Z"
   },
   {
    "duration": 14,
    "start_time": "2023-03-19T04:31:05.599Z"
   },
   {
    "duration": 31,
    "start_time": "2023-03-19T04:31:05.615Z"
   },
   {
    "duration": 4,
    "start_time": "2023-03-19T04:31:05.648Z"
   },
   {
    "duration": 16,
    "start_time": "2023-03-19T04:31:05.654Z"
   },
   {
    "duration": 17,
    "start_time": "2023-03-19T04:31:05.672Z"
   },
   {
    "duration": 15,
    "start_time": "2023-03-19T04:31:05.690Z"
   },
   {
    "duration": 4,
    "start_time": "2023-03-19T04:31:05.707Z"
   },
   {
    "duration": 15,
    "start_time": "2023-03-19T04:31:05.712Z"
   },
   {
    "duration": 19,
    "start_time": "2023-03-19T04:31:05.730Z"
   },
   {
    "duration": 24,
    "start_time": "2023-03-19T04:31:05.750Z"
   },
   {
    "duration": 11,
    "start_time": "2023-03-19T04:31:05.776Z"
   },
   {
    "duration": 13,
    "start_time": "2023-03-19T04:31:05.788Z"
   },
   {
    "duration": 2,
    "start_time": "2023-03-19T04:31:05.803Z"
   },
   {
    "duration": 8,
    "start_time": "2023-03-19T04:31:05.807Z"
   },
   {
    "duration": 25,
    "start_time": "2023-03-19T04:31:05.817Z"
   },
   {
    "duration": 2,
    "start_time": "2023-03-19T04:31:05.844Z"
   },
   {
    "duration": 6,
    "start_time": "2023-03-19T04:31:05.848Z"
   },
   {
    "duration": 17,
    "start_time": "2023-03-19T04:31:05.856Z"
   },
   {
    "duration": 13,
    "start_time": "2023-03-19T04:31:05.875Z"
   },
   {
    "duration": 21,
    "start_time": "2023-03-19T04:31:05.889Z"
   },
   {
    "duration": 14,
    "start_time": "2023-03-19T04:31:05.912Z"
   },
   {
    "duration": 48,
    "start_time": "2023-03-19T04:31:05.928Z"
   },
   {
    "duration": 7,
    "start_time": "2023-03-19T04:31:05.979Z"
   },
   {
    "duration": 21,
    "start_time": "2023-03-19T04:31:05.987Z"
   },
   {
    "duration": 9,
    "start_time": "2023-03-19T04:31:06.011Z"
   },
   {
    "duration": 8888,
    "start_time": "2023-03-19T04:31:06.022Z"
   },
   {
    "duration": 1862,
    "start_time": "2023-03-19T04:31:14.917Z"
   },
   {
    "duration": 715,
    "start_time": "2023-03-19T04:31:16.782Z"
   },
   {
    "duration": 51393,
    "start_time": "2023-03-19T04:31:17.499Z"
   },
   {
    "duration": 2,
    "start_time": "2023-03-19T04:32:08.894Z"
   },
   {
    "duration": 36,
    "start_time": "2023-03-19T04:32:08.898Z"
   },
   {
    "duration": 3,
    "start_time": "2023-03-19T04:32:08.937Z"
   },
   {
    "duration": 87917,
    "start_time": "2023-03-19T04:32:08.942Z"
   },
   {
    "duration": 2,
    "start_time": "2023-03-19T04:33:36.861Z"
   },
   {
    "duration": 1904,
    "start_time": "2023-03-19T04:33:36.865Z"
   },
   {
    "duration": 4,
    "start_time": "2023-03-19T04:33:38.771Z"
   },
   {
    "duration": 13,
    "start_time": "2023-03-19T04:33:38.777Z"
   },
   {
    "duration": 258,
    "start_time": "2023-03-19T04:33:38.792Z"
   },
   {
    "duration": 207,
    "start_time": "2023-03-19T04:33:39.051Z"
   },
   {
    "duration": 168,
    "start_time": "2023-03-19T04:33:39.260Z"
   },
   {
    "duration": 1361,
    "start_time": "2023-03-19T04:35:25.875Z"
   },
   {
    "duration": 2,
    "start_time": "2023-03-19T04:35:27.238Z"
   },
   {
    "duration": 114,
    "start_time": "2023-03-19T04:35:27.242Z"
   },
   {
    "duration": 21,
    "start_time": "2023-03-19T04:35:27.359Z"
   },
   {
    "duration": 4,
    "start_time": "2023-03-19T04:35:27.382Z"
   },
   {
    "duration": 8,
    "start_time": "2023-03-19T04:35:27.388Z"
   },
   {
    "duration": 11,
    "start_time": "2023-03-19T04:35:27.397Z"
   },
   {
    "duration": 13,
    "start_time": "2023-03-19T04:35:27.410Z"
   },
   {
    "duration": 14,
    "start_time": "2023-03-19T04:35:27.425Z"
   },
   {
    "duration": 13,
    "start_time": "2023-03-19T04:35:27.472Z"
   },
   {
    "duration": 10,
    "start_time": "2023-03-19T04:35:27.486Z"
   },
   {
    "duration": 11,
    "start_time": "2023-03-19T04:35:27.497Z"
   },
   {
    "duration": 29,
    "start_time": "2023-03-19T04:35:27.510Z"
   },
   {
    "duration": 44,
    "start_time": "2023-03-19T04:35:27.541Z"
   },
   {
    "duration": 20,
    "start_time": "2023-03-19T04:35:27.587Z"
   },
   {
    "duration": 12,
    "start_time": "2023-03-19T04:35:27.609Z"
   },
   {
    "duration": 16,
    "start_time": "2023-03-19T04:35:27.623Z"
   },
   {
    "duration": 44,
    "start_time": "2023-03-19T04:35:27.640Z"
   },
   {
    "duration": 14,
    "start_time": "2023-03-19T04:35:27.686Z"
   },
   {
    "duration": 3,
    "start_time": "2023-03-19T04:35:27.701Z"
   },
   {
    "duration": 8,
    "start_time": "2023-03-19T04:35:27.706Z"
   },
   {
    "duration": 5,
    "start_time": "2023-03-19T04:35:27.715Z"
   },
   {
    "duration": 5,
    "start_time": "2023-03-19T04:35:27.722Z"
   },
   {
    "duration": 13,
    "start_time": "2023-03-19T04:35:27.728Z"
   },
   {
    "duration": 31,
    "start_time": "2023-03-19T04:35:27.743Z"
   },
   {
    "duration": 12,
    "start_time": "2023-03-19T04:35:27.776Z"
   },
   {
    "duration": 29,
    "start_time": "2023-03-19T04:35:27.789Z"
   },
   {
    "duration": 20,
    "start_time": "2023-03-19T04:35:27.822Z"
   },
   {
    "duration": 48,
    "start_time": "2023-03-19T04:35:27.843Z"
   },
   {
    "duration": 4,
    "start_time": "2023-03-19T04:35:27.893Z"
   },
   {
    "duration": 20,
    "start_time": "2023-03-19T04:35:27.899Z"
   },
   {
    "duration": 3,
    "start_time": "2023-03-19T04:35:27.921Z"
   },
   {
    "duration": 67,
    "start_time": "2023-03-19T04:35:27.926Z"
   },
   {
    "duration": 4,
    "start_time": "2023-03-19T04:35:27.994Z"
   },
   {
    "duration": 8,
    "start_time": "2023-03-19T04:35:27.999Z"
   },
   {
    "duration": 25,
    "start_time": "2023-03-19T04:35:28.009Z"
   },
   {
    "duration": 10,
    "start_time": "2023-03-19T04:35:28.036Z"
   },
   {
    "duration": 68,
    "start_time": "2023-03-19T04:35:28.048Z"
   },
   {
    "duration": 6,
    "start_time": "2023-03-19T04:35:28.118Z"
   },
   {
    "duration": 10,
    "start_time": "2023-03-19T04:35:28.126Z"
   },
   {
    "duration": 10,
    "start_time": "2023-03-19T04:35:28.137Z"
   },
   {
    "duration": 62,
    "start_time": "2023-03-19T04:35:28.149Z"
   },
   {
    "duration": 19,
    "start_time": "2023-03-19T04:35:28.213Z"
   },
   {
    "duration": 4,
    "start_time": "2023-03-19T04:35:28.234Z"
   },
   {
    "duration": 66,
    "start_time": "2023-03-19T04:35:28.240Z"
   },
   {
    "duration": 40,
    "start_time": "2023-03-19T04:35:28.308Z"
   },
   {
    "duration": 23,
    "start_time": "2023-03-19T04:35:28.350Z"
   },
   {
    "duration": 43,
    "start_time": "2023-03-19T04:35:28.375Z"
   },
   {
    "duration": 7,
    "start_time": "2023-03-19T04:35:28.419Z"
   },
   {
    "duration": 36,
    "start_time": "2023-03-19T04:35:28.428Z"
   },
   {
    "duration": 8,
    "start_time": "2023-03-19T04:35:28.465Z"
   },
   {
    "duration": 13,
    "start_time": "2023-03-19T04:35:28.475Z"
   },
   {
    "duration": 3,
    "start_time": "2023-03-19T04:35:28.490Z"
   },
   {
    "duration": 9,
    "start_time": "2023-03-19T04:35:28.495Z"
   },
   {
    "duration": 15,
    "start_time": "2023-03-19T04:35:28.506Z"
   },
   {
    "duration": 5,
    "start_time": "2023-03-19T04:35:28.524Z"
   },
   {
    "duration": 48,
    "start_time": "2023-03-19T04:35:28.531Z"
   },
   {
    "duration": 4,
    "start_time": "2023-03-19T04:35:28.581Z"
   },
   {
    "duration": 18,
    "start_time": "2023-03-19T04:35:28.587Z"
   },
   {
    "duration": 16,
    "start_time": "2023-03-19T04:35:28.607Z"
   },
   {
    "duration": 16,
    "start_time": "2023-03-19T04:35:28.625Z"
   },
   {
    "duration": 4,
    "start_time": "2023-03-19T04:35:28.642Z"
   },
   {
    "duration": 4,
    "start_time": "2023-03-19T04:35:28.673Z"
   },
   {
    "duration": 17,
    "start_time": "2023-03-19T04:35:28.679Z"
   },
   {
    "duration": 5,
    "start_time": "2023-03-19T04:35:28.698Z"
   },
   {
    "duration": 5,
    "start_time": "2023-03-19T04:35:28.705Z"
   },
   {
    "duration": 12,
    "start_time": "2023-03-19T04:35:28.711Z"
   },
   {
    "duration": 2,
    "start_time": "2023-03-19T04:35:28.725Z"
   },
   {
    "duration": 5,
    "start_time": "2023-03-19T04:35:28.730Z"
   },
   {
    "duration": 43,
    "start_time": "2023-03-19T04:35:28.738Z"
   },
   {
    "duration": 3,
    "start_time": "2023-03-19T04:35:28.782Z"
   },
   {
    "duration": 8,
    "start_time": "2023-03-19T04:35:28.787Z"
   },
   {
    "duration": 8,
    "start_time": "2023-03-19T04:35:28.797Z"
   },
   {
    "duration": 12,
    "start_time": "2023-03-19T04:35:28.807Z"
   },
   {
    "duration": 19,
    "start_time": "2023-03-19T04:35:28.821Z"
   },
   {
    "duration": 40,
    "start_time": "2023-03-19T04:35:28.841Z"
   },
   {
    "duration": 51,
    "start_time": "2023-03-19T04:35:28.883Z"
   },
   {
    "duration": 9,
    "start_time": "2023-03-19T04:35:28.936Z"
   },
   {
    "duration": 39,
    "start_time": "2023-03-19T04:35:28.947Z"
   },
   {
    "duration": 17,
    "start_time": "2023-03-19T04:35:28.989Z"
   },
   {
    "duration": 8703,
    "start_time": "2023-03-19T04:35:29.008Z"
   },
   {
    "duration": 1161,
    "start_time": "2023-03-19T04:35:37.718Z"
   },
   {
    "duration": 565,
    "start_time": "2023-03-19T04:35:38.881Z"
   },
   {
    "duration": 52067,
    "start_time": "2023-03-19T04:35:39.448Z"
   },
   {
    "duration": 3,
    "start_time": "2023-03-19T04:36:31.517Z"
   },
   {
    "duration": 61,
    "start_time": "2023-03-19T04:36:31.521Z"
   },
   {
    "duration": 2,
    "start_time": "2023-03-19T04:36:31.584Z"
   },
   {
    "duration": 84102,
    "start_time": "2023-03-19T04:36:31.588Z"
   },
   {
    "duration": 3,
    "start_time": "2023-03-19T04:37:55.691Z"
   },
   {
    "duration": 1923,
    "start_time": "2023-03-19T04:37:55.696Z"
   },
   {
    "duration": 4,
    "start_time": "2023-03-19T04:37:57.621Z"
   },
   {
    "duration": 6,
    "start_time": "2023-03-19T04:37:57.627Z"
   },
   {
    "duration": 247,
    "start_time": "2023-03-19T04:37:57.635Z"
   },
   {
    "duration": 208,
    "start_time": "2023-03-19T04:37:57.883Z"
   },
   {
    "duration": 158,
    "start_time": "2023-03-19T04:37:58.092Z"
   },
   {
    "duration": 137,
    "start_time": "2023-03-19T04:44:54.879Z"
   },
   {
    "duration": 3,
    "start_time": "2023-03-19T04:44:56.655Z"
   },
   {
    "duration": 9,
    "start_time": "2023-03-19T04:44:57.048Z"
   },
   {
    "duration": 12,
    "start_time": "2023-03-19T04:44:57.971Z"
   },
   {
    "duration": 19,
    "start_time": "2023-03-19T04:44:58.553Z"
   },
   {
    "duration": 31,
    "start_time": "2023-03-19T04:46:20.520Z"
   },
   {
    "duration": 27,
    "start_time": "2023-03-19T04:46:37.739Z"
   },
   {
    "duration": 1387,
    "start_time": "2023-03-19T04:47:27.358Z"
   },
   {
    "duration": 3,
    "start_time": "2023-03-19T04:47:28.746Z"
   },
   {
    "duration": 138,
    "start_time": "2023-03-19T04:47:28.752Z"
   },
   {
    "duration": 25,
    "start_time": "2023-03-19T04:47:28.892Z"
   },
   {
    "duration": 21,
    "start_time": "2023-03-19T04:47:28.919Z"
   },
   {
    "duration": 28,
    "start_time": "2023-03-19T04:47:28.942Z"
   },
   {
    "duration": 22,
    "start_time": "2023-03-19T04:47:28.972Z"
   },
   {
    "duration": 33,
    "start_time": "2023-03-19T04:47:28.996Z"
   },
   {
    "duration": 52,
    "start_time": "2023-03-19T04:47:29.031Z"
   },
   {
    "duration": 26,
    "start_time": "2023-03-19T04:47:29.087Z"
   },
   {
    "duration": 31,
    "start_time": "2023-03-19T04:47:29.115Z"
   },
   {
    "duration": 33,
    "start_time": "2023-03-19T04:47:29.148Z"
   },
   {
    "duration": 44,
    "start_time": "2023-03-19T04:47:29.183Z"
   },
   {
    "duration": 19,
    "start_time": "2023-03-19T04:47:29.228Z"
   },
   {
    "duration": 47,
    "start_time": "2023-03-19T04:47:29.249Z"
   },
   {
    "duration": 40,
    "start_time": "2023-03-19T04:47:29.298Z"
   },
   {
    "duration": 45,
    "start_time": "2023-03-19T04:47:29.340Z"
   },
   {
    "duration": 19,
    "start_time": "2023-03-19T04:47:29.387Z"
   },
   {
    "duration": 47,
    "start_time": "2023-03-19T04:47:29.407Z"
   },
   {
    "duration": 14,
    "start_time": "2023-03-19T04:47:29.456Z"
   },
   {
    "duration": 35,
    "start_time": "2023-03-19T04:47:29.472Z"
   },
   {
    "duration": 20,
    "start_time": "2023-03-19T04:47:29.509Z"
   },
   {
    "duration": 22,
    "start_time": "2023-03-19T04:47:29.532Z"
   },
   {
    "duration": 41,
    "start_time": "2023-03-19T04:47:29.556Z"
   },
   {
    "duration": 43,
    "start_time": "2023-03-19T04:47:29.599Z"
   },
   {
    "duration": 15,
    "start_time": "2023-03-19T04:47:29.644Z"
   },
   {
    "duration": 33,
    "start_time": "2023-03-19T04:47:29.661Z"
   },
   {
    "duration": 19,
    "start_time": "2023-03-19T04:47:29.700Z"
   },
   {
    "duration": 30,
    "start_time": "2023-03-19T04:47:29.721Z"
   },
   {
    "duration": 4,
    "start_time": "2023-03-19T04:47:29.776Z"
   },
   {
    "duration": 19,
    "start_time": "2023-03-19T04:47:29.782Z"
   },
   {
    "duration": 5,
    "start_time": "2023-03-19T04:47:29.803Z"
   },
   {
    "duration": 43,
    "start_time": "2023-03-19T04:47:29.810Z"
   },
   {
    "duration": 4,
    "start_time": "2023-03-19T04:47:29.872Z"
   },
   {
    "duration": 7,
    "start_time": "2023-03-19T04:47:29.878Z"
   },
   {
    "duration": 24,
    "start_time": "2023-03-19T04:47:29.886Z"
   },
   {
    "duration": 8,
    "start_time": "2023-03-19T04:47:29.911Z"
   },
   {
    "duration": 86,
    "start_time": "2023-03-19T04:47:29.922Z"
   },
   {
    "duration": 8,
    "start_time": "2023-03-19T04:47:30.010Z"
   },
   {
    "duration": 14,
    "start_time": "2023-03-19T04:47:30.020Z"
   },
   {
    "duration": 12,
    "start_time": "2023-03-19T04:47:30.036Z"
   },
   {
    "duration": 57,
    "start_time": "2023-03-19T04:47:30.050Z"
   },
   {
    "duration": 19,
    "start_time": "2023-03-19T04:47:30.109Z"
   },
   {
    "duration": 4,
    "start_time": "2023-03-19T04:47:30.130Z"
   },
   {
    "duration": 70,
    "start_time": "2023-03-19T04:47:30.135Z"
   },
   {
    "duration": 46,
    "start_time": "2023-03-19T04:47:30.207Z"
   },
   {
    "duration": 18,
    "start_time": "2023-03-19T04:47:30.255Z"
   },
   {
    "duration": 65,
    "start_time": "2023-03-19T04:47:30.275Z"
   },
   {
    "duration": 7,
    "start_time": "2023-03-19T04:47:30.342Z"
   },
   {
    "duration": 8,
    "start_time": "2023-03-19T04:47:30.351Z"
   },
   {
    "duration": 15,
    "start_time": "2023-03-19T04:47:30.361Z"
   },
   {
    "duration": 20,
    "start_time": "2023-03-19T04:47:30.378Z"
   },
   {
    "duration": 8,
    "start_time": "2023-03-19T04:47:30.400Z"
   },
   {
    "duration": 27,
    "start_time": "2023-03-19T04:47:30.410Z"
   },
   {
    "duration": 28,
    "start_time": "2023-03-19T04:47:30.440Z"
   },
   {
    "duration": 24,
    "start_time": "2023-03-19T04:47:30.470Z"
   },
   {
    "duration": 55,
    "start_time": "2023-03-19T04:47:30.496Z"
   },
   {
    "duration": 15,
    "start_time": "2023-03-19T04:47:30.553Z"
   },
   {
    "duration": 56,
    "start_time": "2023-03-19T04:47:30.570Z"
   },
   {
    "duration": 48,
    "start_time": "2023-03-19T04:47:30.629Z"
   },
   {
    "duration": 35,
    "start_time": "2023-03-19T04:47:30.679Z"
   },
   {
    "duration": 15,
    "start_time": "2023-03-19T04:47:30.716Z"
   },
   {
    "duration": 27,
    "start_time": "2023-03-19T04:47:30.733Z"
   },
   {
    "duration": 50,
    "start_time": "2023-03-19T04:47:30.762Z"
   },
   {
    "duration": 36,
    "start_time": "2023-03-19T04:47:30.813Z"
   },
   {
    "duration": 40,
    "start_time": "2023-03-19T04:47:30.851Z"
   },
   {
    "duration": 123,
    "start_time": "2023-03-19T04:47:40.086Z"
   },
   {
    "duration": 15,
    "start_time": "2023-03-19T04:47:50.411Z"
   },
   {
    "duration": 5,
    "start_time": "2023-03-19T04:47:50.837Z"
   },
   {
    "duration": 3,
    "start_time": "2023-03-19T04:47:51.606Z"
   },
   {
    "duration": 24,
    "start_time": "2023-03-19T04:47:51.801Z"
   },
   {
    "duration": 10,
    "start_time": "2023-03-19T04:47:52.636Z"
   },
   {
    "duration": 3,
    "start_time": "2023-03-19T04:47:52.901Z"
   },
   {
    "duration": 4,
    "start_time": "2023-03-19T04:47:58.897Z"
   },
   {
    "duration": 28,
    "start_time": "2023-03-19T04:47:59.591Z"
   },
   {
    "duration": 3,
    "start_time": "2023-03-19T04:48:48.416Z"
   },
   {
    "duration": 3,
    "start_time": "2023-03-19T04:48:49.641Z"
   },
   {
    "duration": 18,
    "start_time": "2023-03-19T04:48:50.101Z"
   },
   {
    "duration": 4,
    "start_time": "2023-03-19T04:49:05.011Z"
   },
   {
    "duration": 3,
    "start_time": "2023-03-19T04:49:26.996Z"
   },
   {
    "duration": 25,
    "start_time": "2023-03-19T04:49:27.481Z"
   },
   {
    "duration": 25,
    "start_time": "2023-03-19T04:49:55.437Z"
   },
   {
    "duration": 18,
    "start_time": "2023-03-19T04:51:35.486Z"
   },
   {
    "duration": 5,
    "start_time": "2023-03-19T04:52:12.662Z"
   },
   {
    "duration": 1358,
    "start_time": "2023-03-19T04:52:18.834Z"
   },
   {
    "duration": 3,
    "start_time": "2023-03-19T04:52:20.194Z"
   },
   {
    "duration": 142,
    "start_time": "2023-03-19T04:52:20.199Z"
   },
   {
    "duration": 26,
    "start_time": "2023-03-19T04:52:20.343Z"
   },
   {
    "duration": 16,
    "start_time": "2023-03-19T04:52:20.371Z"
   },
   {
    "duration": 30,
    "start_time": "2023-03-19T04:52:20.393Z"
   },
   {
    "duration": 21,
    "start_time": "2023-03-19T04:52:20.425Z"
   },
   {
    "duration": 21,
    "start_time": "2023-03-19T04:52:20.448Z"
   },
   {
    "duration": 32,
    "start_time": "2023-03-19T04:52:20.471Z"
   },
   {
    "duration": 22,
    "start_time": "2023-03-19T04:52:20.506Z"
   },
   {
    "duration": 36,
    "start_time": "2023-03-19T04:52:20.530Z"
   },
   {
    "duration": 37,
    "start_time": "2023-03-19T04:52:20.568Z"
   },
   {
    "duration": 48,
    "start_time": "2023-03-19T04:52:20.606Z"
   },
   {
    "duration": 24,
    "start_time": "2023-03-19T04:52:20.655Z"
   },
   {
    "duration": 34,
    "start_time": "2023-03-19T04:52:20.680Z"
   },
   {
    "duration": 12,
    "start_time": "2023-03-19T04:52:20.716Z"
   },
   {
    "duration": 16,
    "start_time": "2023-03-19T04:52:20.729Z"
   },
   {
    "duration": 37,
    "start_time": "2023-03-19T04:52:20.747Z"
   },
   {
    "duration": 21,
    "start_time": "2023-03-19T04:52:20.788Z"
   },
   {
    "duration": 4,
    "start_time": "2023-03-19T04:52:20.811Z"
   },
   {
    "duration": 13,
    "start_time": "2023-03-19T04:52:20.817Z"
   },
   {
    "duration": 10,
    "start_time": "2023-03-19T04:52:20.832Z"
   },
   {
    "duration": 10,
    "start_time": "2023-03-19T04:52:20.845Z"
   },
   {
    "duration": 3,
    "start_time": "2023-03-19T04:52:20.856Z"
   },
   {
    "duration": 15,
    "start_time": "2023-03-19T04:52:20.860Z"
   },
   {
    "duration": 29,
    "start_time": "2023-03-19T04:52:20.877Z"
   },
   {
    "duration": 27,
    "start_time": "2023-03-19T04:52:20.908Z"
   },
   {
    "duration": 24,
    "start_time": "2023-03-19T04:52:20.940Z"
   },
   {
    "duration": 39,
    "start_time": "2023-03-19T04:52:20.966Z"
   },
   {
    "duration": 4,
    "start_time": "2023-03-19T04:52:21.007Z"
   },
   {
    "duration": 27,
    "start_time": "2023-03-19T04:52:21.012Z"
   },
   {
    "duration": 3,
    "start_time": "2023-03-19T04:52:21.041Z"
   },
   {
    "duration": 64,
    "start_time": "2023-03-19T04:52:21.046Z"
   },
   {
    "duration": 4,
    "start_time": "2023-03-19T04:52:21.111Z"
   },
   {
    "duration": 11,
    "start_time": "2023-03-19T04:52:21.117Z"
   },
   {
    "duration": 25,
    "start_time": "2023-03-19T04:52:21.130Z"
   },
   {
    "duration": 30,
    "start_time": "2023-03-19T04:52:21.157Z"
   },
   {
    "duration": 47,
    "start_time": "2023-03-19T04:52:21.189Z"
   },
   {
    "duration": 6,
    "start_time": "2023-03-19T04:52:21.238Z"
   },
   {
    "duration": 9,
    "start_time": "2023-03-19T04:52:21.246Z"
   },
   {
    "duration": 6,
    "start_time": "2023-03-19T04:52:21.257Z"
   },
   {
    "duration": 52,
    "start_time": "2023-03-19T04:52:21.275Z"
   },
   {
    "duration": 17,
    "start_time": "2023-03-19T04:52:21.329Z"
   },
   {
    "duration": 4,
    "start_time": "2023-03-19T04:52:21.348Z"
   },
   {
    "duration": 61,
    "start_time": "2023-03-19T04:52:21.354Z"
   },
   {
    "duration": 40,
    "start_time": "2023-03-19T04:52:21.416Z"
   },
   {
    "duration": 28,
    "start_time": "2023-03-19T04:52:21.458Z"
   },
   {
    "duration": 42,
    "start_time": "2023-03-19T04:52:21.488Z"
   },
   {
    "duration": 6,
    "start_time": "2023-03-19T04:52:21.532Z"
   },
   {
    "duration": 7,
    "start_time": "2023-03-19T04:52:21.539Z"
   },
   {
    "duration": 8,
    "start_time": "2023-03-19T04:52:21.547Z"
   },
   {
    "duration": 30,
    "start_time": "2023-03-19T04:52:21.556Z"
   },
   {
    "duration": 9,
    "start_time": "2023-03-19T04:52:21.588Z"
   },
   {
    "duration": 12,
    "start_time": "2023-03-19T04:52:21.599Z"
   },
   {
    "duration": 19,
    "start_time": "2023-03-19T04:52:21.613Z"
   },
   {
    "duration": 7,
    "start_time": "2023-03-19T04:52:21.634Z"
   },
   {
    "duration": 42,
    "start_time": "2023-03-19T04:52:21.643Z"
   },
   {
    "duration": 5,
    "start_time": "2023-03-19T04:52:21.686Z"
   },
   {
    "duration": 18,
    "start_time": "2023-03-19T04:52:21.692Z"
   },
   {
    "duration": 16,
    "start_time": "2023-03-19T04:52:21.712Z"
   },
   {
    "duration": 16,
    "start_time": "2023-03-19T04:52:21.730Z"
   },
   {
    "duration": 4,
    "start_time": "2023-03-19T04:52:21.748Z"
   },
   {
    "duration": 23,
    "start_time": "2023-03-19T04:52:21.753Z"
   },
   {
    "duration": 23,
    "start_time": "2023-03-19T04:52:21.781Z"
   },
   {
    "duration": 20,
    "start_time": "2023-03-19T04:52:21.805Z"
   },
   {
    "duration": 7,
    "start_time": "2023-03-19T04:52:21.827Z"
   },
   {
    "duration": 23,
    "start_time": "2023-03-19T04:52:21.836Z"
   },
   {
    "duration": 3,
    "start_time": "2023-03-19T04:52:21.861Z"
   },
   {
    "duration": 10,
    "start_time": "2023-03-19T04:52:21.866Z"
   },
   {
    "duration": 37,
    "start_time": "2023-03-19T04:52:21.878Z"
   },
   {
    "duration": 9,
    "start_time": "2023-03-19T04:52:21.916Z"
   },
   {
    "duration": 7,
    "start_time": "2023-03-19T04:52:21.927Z"
   },
   {
    "duration": 5,
    "start_time": "2023-03-19T04:52:21.936Z"
   },
   {
    "duration": 29,
    "start_time": "2023-03-19T04:52:21.943Z"
   },
   {
    "duration": 73,
    "start_time": "2023-03-19T04:52:21.973Z"
   },
   {
    "duration": 0,
    "start_time": "2023-03-19T04:52:22.048Z"
   },
   {
    "duration": 0,
    "start_time": "2023-03-19T04:52:22.049Z"
   },
   {
    "duration": 0,
    "start_time": "2023-03-19T04:52:22.051Z"
   },
   {
    "duration": 0,
    "start_time": "2023-03-19T04:52:22.052Z"
   },
   {
    "duration": 0,
    "start_time": "2023-03-19T04:52:22.053Z"
   },
   {
    "duration": 0,
    "start_time": "2023-03-19T04:52:22.054Z"
   },
   {
    "duration": 0,
    "start_time": "2023-03-19T04:52:22.055Z"
   },
   {
    "duration": 0,
    "start_time": "2023-03-19T04:52:22.057Z"
   },
   {
    "duration": 1,
    "start_time": "2023-03-19T04:52:22.058Z"
   },
   {
    "duration": 0,
    "start_time": "2023-03-19T04:52:22.060Z"
   },
   {
    "duration": 0,
    "start_time": "2023-03-19T04:52:22.062Z"
   },
   {
    "duration": 0,
    "start_time": "2023-03-19T04:52:22.063Z"
   },
   {
    "duration": 0,
    "start_time": "2023-03-19T04:52:22.065Z"
   },
   {
    "duration": 0,
    "start_time": "2023-03-19T04:52:22.068Z"
   },
   {
    "duration": 0,
    "start_time": "2023-03-19T04:52:22.069Z"
   },
   {
    "duration": 0,
    "start_time": "2023-03-19T04:52:22.070Z"
   },
   {
    "duration": 0,
    "start_time": "2023-03-19T04:52:22.072Z"
   },
   {
    "duration": 0,
    "start_time": "2023-03-19T04:52:22.075Z"
   },
   {
    "duration": 0,
    "start_time": "2023-03-19T04:52:22.076Z"
   },
   {
    "duration": 0,
    "start_time": "2023-03-19T04:52:22.076Z"
   },
   {
    "duration": 0,
    "start_time": "2023-03-19T04:52:22.077Z"
   },
   {
    "duration": 0,
    "start_time": "2023-03-19T04:52:22.078Z"
   },
   {
    "duration": 0,
    "start_time": "2023-03-19T04:52:22.079Z"
   },
   {
    "duration": 0,
    "start_time": "2023-03-19T04:52:22.080Z"
   },
   {
    "duration": 0,
    "start_time": "2023-03-19T04:52:22.082Z"
   },
   {
    "duration": 0,
    "start_time": "2023-03-19T04:52:22.083Z"
   },
   {
    "duration": 77,
    "start_time": "2023-03-19T04:55:32.975Z"
   },
   {
    "duration": 39,
    "start_time": "2023-03-19T04:56:59.199Z"
   },
   {
    "duration": 17,
    "start_time": "2023-03-19T04:57:02.548Z"
   },
   {
    "duration": 23,
    "start_time": "2023-03-19T04:57:04.993Z"
   },
   {
    "duration": 136,
    "start_time": "2023-03-19T04:57:33.940Z"
   },
   {
    "duration": 34,
    "start_time": "2023-03-19T04:58:30.503Z"
   },
   {
    "duration": 2,
    "start_time": "2023-03-19T04:58:50.006Z"
   },
   {
    "duration": 3,
    "start_time": "2023-03-19T04:58:52.037Z"
   },
   {
    "duration": 24,
    "start_time": "2023-03-19T04:59:25.208Z"
   },
   {
    "duration": 41,
    "start_time": "2023-03-19T05:00:37.664Z"
   },
   {
    "duration": 1383,
    "start_time": "2023-03-19T05:00:54.357Z"
   },
   {
    "duration": 3,
    "start_time": "2023-03-19T05:00:55.742Z"
   },
   {
    "duration": 131,
    "start_time": "2023-03-19T05:00:55.747Z"
   },
   {
    "duration": 22,
    "start_time": "2023-03-19T05:00:55.881Z"
   },
   {
    "duration": 4,
    "start_time": "2023-03-19T05:00:55.905Z"
   },
   {
    "duration": 8,
    "start_time": "2023-03-19T05:00:55.910Z"
   },
   {
    "duration": 7,
    "start_time": "2023-03-19T05:00:55.920Z"
   },
   {
    "duration": 12,
    "start_time": "2023-03-19T05:00:55.929Z"
   },
   {
    "duration": 50,
    "start_time": "2023-03-19T05:00:55.942Z"
   },
   {
    "duration": 13,
    "start_time": "2023-03-19T05:00:55.995Z"
   },
   {
    "duration": 9,
    "start_time": "2023-03-19T05:00:56.009Z"
   },
   {
    "duration": 13,
    "start_time": "2023-03-19T05:00:56.020Z"
   },
   {
    "duration": 58,
    "start_time": "2023-03-19T05:00:56.035Z"
   },
   {
    "duration": 18,
    "start_time": "2023-03-19T05:00:56.095Z"
   },
   {
    "duration": 20,
    "start_time": "2023-03-19T05:00:56.115Z"
   },
   {
    "duration": 49,
    "start_time": "2023-03-19T05:00:56.137Z"
   },
   {
    "duration": 23,
    "start_time": "2023-03-19T05:00:56.189Z"
   },
   {
    "duration": 20,
    "start_time": "2023-03-19T05:00:56.214Z"
   },
   {
    "duration": 13,
    "start_time": "2023-03-19T05:00:56.236Z"
   },
   {
    "duration": 3,
    "start_time": "2023-03-19T05:00:56.250Z"
   },
   {
    "duration": 15,
    "start_time": "2023-03-19T05:00:56.272Z"
   },
   {
    "duration": 4,
    "start_time": "2023-03-19T05:00:56.290Z"
   },
   {
    "duration": 10,
    "start_time": "2023-03-19T05:00:56.296Z"
   },
   {
    "duration": 6,
    "start_time": "2023-03-19T05:00:56.308Z"
   },
   {
    "duration": 10,
    "start_time": "2023-03-19T05:00:56.315Z"
   },
   {
    "duration": 15,
    "start_time": "2023-03-19T05:00:56.326Z"
   },
   {
    "duration": 46,
    "start_time": "2023-03-19T05:00:56.343Z"
   },
   {
    "duration": 21,
    "start_time": "2023-03-19T05:00:56.395Z"
   },
   {
    "duration": 25,
    "start_time": "2023-03-19T05:00:56.418Z"
   },
   {
    "duration": 4,
    "start_time": "2023-03-19T05:00:56.445Z"
   },
   {
    "duration": 49,
    "start_time": "2023-03-19T05:00:56.451Z"
   },
   {
    "duration": 3,
    "start_time": "2023-03-19T05:00:56.502Z"
   },
   {
    "duration": 43,
    "start_time": "2023-03-19T05:00:56.507Z"
   },
   {
    "duration": 31,
    "start_time": "2023-03-19T05:00:56.552Z"
   },
   {
    "duration": 18,
    "start_time": "2023-03-19T05:00:56.591Z"
   },
   {
    "duration": 29,
    "start_time": "2023-03-19T05:00:56.611Z"
   },
   {
    "duration": 15,
    "start_time": "2023-03-19T05:00:56.642Z"
   },
   {
    "duration": 57,
    "start_time": "2023-03-19T05:00:56.659Z"
   },
   {
    "duration": 7,
    "start_time": "2023-03-19T05:00:56.718Z"
   },
   {
    "duration": 7,
    "start_time": "2023-03-19T05:00:56.727Z"
   },
   {
    "duration": 4,
    "start_time": "2023-03-19T05:00:56.736Z"
   },
   {
    "duration": 65,
    "start_time": "2023-03-19T05:00:56.742Z"
   },
   {
    "duration": 18,
    "start_time": "2023-03-19T05:00:56.808Z"
   },
   {
    "duration": 3,
    "start_time": "2023-03-19T05:00:56.828Z"
   },
   {
    "duration": 69,
    "start_time": "2023-03-19T05:00:56.832Z"
   },
   {
    "duration": 42,
    "start_time": "2023-03-19T05:00:56.903Z"
   },
   {
    "duration": 7,
    "start_time": "2023-03-19T05:00:56.947Z"
   },
   {
    "duration": 59,
    "start_time": "2023-03-19T05:00:56.956Z"
   },
   {
    "duration": 6,
    "start_time": "2023-03-19T05:00:57.017Z"
   },
   {
    "duration": 7,
    "start_time": "2023-03-19T05:00:57.025Z"
   },
   {
    "duration": 7,
    "start_time": "2023-03-19T05:00:57.034Z"
   },
   {
    "duration": 41,
    "start_time": "2023-03-19T05:00:57.043Z"
   },
   {
    "duration": 5,
    "start_time": "2023-03-19T05:00:57.086Z"
   },
   {
    "duration": 11,
    "start_time": "2023-03-19T05:00:57.092Z"
   },
   {
    "duration": 15,
    "start_time": "2023-03-19T05:00:57.105Z"
   },
   {
    "duration": 8,
    "start_time": "2023-03-19T05:00:57.122Z"
   },
   {
    "duration": 16,
    "start_time": "2023-03-19T05:00:57.132Z"
   },
   {
    "duration": 14,
    "start_time": "2023-03-19T05:00:57.173Z"
   },
   {
    "duration": 12,
    "start_time": "2023-03-19T05:00:57.189Z"
   },
   {
    "duration": 23,
    "start_time": "2023-03-19T05:00:57.203Z"
   },
   {
    "duration": 18,
    "start_time": "2023-03-19T05:00:57.228Z"
   },
   {
    "duration": 4,
    "start_time": "2023-03-19T05:00:57.248Z"
   },
   {
    "duration": 20,
    "start_time": "2023-03-19T05:00:57.254Z"
   },
   {
    "duration": 15,
    "start_time": "2023-03-19T05:00:57.276Z"
   },
   {
    "duration": 15,
    "start_time": "2023-03-19T05:00:57.293Z"
   },
   {
    "duration": 6,
    "start_time": "2023-03-19T05:00:57.310Z"
   },
   {
    "duration": 15,
    "start_time": "2023-03-19T05:00:57.318Z"
   },
   {
    "duration": 3,
    "start_time": "2023-03-19T05:00:57.335Z"
   },
   {
    "duration": 6,
    "start_time": "2023-03-19T05:00:57.339Z"
   },
   {
    "duration": 38,
    "start_time": "2023-03-19T05:00:57.346Z"
   },
   {
    "duration": 12,
    "start_time": "2023-03-19T05:00:57.385Z"
   },
   {
    "duration": 5,
    "start_time": "2023-03-19T05:00:57.400Z"
   },
   {
    "duration": 8,
    "start_time": "2023-03-19T05:00:57.407Z"
   },
   {
    "duration": 127,
    "start_time": "2023-03-19T05:02:51.721Z"
   },
   {
    "duration": 25,
    "start_time": "2023-03-19T05:02:54.701Z"
   },
   {
    "duration": 14,
    "start_time": "2023-03-19T05:02:57.221Z"
   },
   {
    "duration": 41,
    "start_time": "2023-03-19T05:03:00.500Z"
   },
   {
    "duration": 8,
    "start_time": "2023-03-19T05:04:21.880Z"
   },
   {
    "duration": 6,
    "start_time": "2023-03-19T05:04:42.554Z"
   },
   {
    "duration": 1467,
    "start_time": "2023-03-19T05:05:15.657Z"
   },
   {
    "duration": 3,
    "start_time": "2023-03-19T05:05:17.126Z"
   },
   {
    "duration": 127,
    "start_time": "2023-03-19T05:05:17.131Z"
   },
   {
    "duration": 31,
    "start_time": "2023-03-19T05:05:17.260Z"
   },
   {
    "duration": 6,
    "start_time": "2023-03-19T05:05:17.293Z"
   },
   {
    "duration": 15,
    "start_time": "2023-03-19T05:05:17.300Z"
   },
   {
    "duration": 9,
    "start_time": "2023-03-19T05:05:17.317Z"
   },
   {
    "duration": 17,
    "start_time": "2023-03-19T05:05:17.328Z"
   },
   {
    "duration": 36,
    "start_time": "2023-03-19T05:05:17.348Z"
   },
   {
    "duration": 18,
    "start_time": "2023-03-19T05:05:17.387Z"
   },
   {
    "duration": 8,
    "start_time": "2023-03-19T05:05:17.407Z"
   },
   {
    "duration": 15,
    "start_time": "2023-03-19T05:05:17.417Z"
   },
   {
    "duration": 58,
    "start_time": "2023-03-19T05:05:17.434Z"
   },
   {
    "duration": 19,
    "start_time": "2023-03-19T05:05:17.494Z"
   },
   {
    "duration": 26,
    "start_time": "2023-03-19T05:05:17.516Z"
   },
   {
    "duration": 41,
    "start_time": "2023-03-19T05:05:17.544Z"
   },
   {
    "duration": 18,
    "start_time": "2023-03-19T05:05:17.587Z"
   },
   {
    "duration": 19,
    "start_time": "2023-03-19T05:05:17.607Z"
   },
   {
    "duration": 20,
    "start_time": "2023-03-19T05:05:17.628Z"
   },
   {
    "duration": 5,
    "start_time": "2023-03-19T05:05:17.650Z"
   },
   {
    "duration": 36,
    "start_time": "2023-03-19T05:05:17.657Z"
   },
   {
    "duration": 15,
    "start_time": "2023-03-19T05:05:17.695Z"
   },
   {
    "duration": 15,
    "start_time": "2023-03-19T05:05:17.712Z"
   },
   {
    "duration": 8,
    "start_time": "2023-03-19T05:05:17.729Z"
   },
   {
    "duration": 4,
    "start_time": "2023-03-19T05:05:17.739Z"
   },
   {
    "duration": 22,
    "start_time": "2023-03-19T05:05:17.745Z"
   },
   {
    "duration": 35,
    "start_time": "2023-03-19T05:05:17.769Z"
   },
   {
    "duration": 21,
    "start_time": "2023-03-19T05:05:17.810Z"
   },
   {
    "duration": 53,
    "start_time": "2023-03-19T05:05:17.832Z"
   },
   {
    "duration": 6,
    "start_time": "2023-03-19T05:05:17.887Z"
   },
   {
    "duration": 19,
    "start_time": "2023-03-19T05:05:17.896Z"
   },
   {
    "duration": 3,
    "start_time": "2023-03-19T05:05:17.918Z"
   },
   {
    "duration": 66,
    "start_time": "2023-03-19T05:05:17.923Z"
   },
   {
    "duration": 5,
    "start_time": "2023-03-19T05:05:17.991Z"
   },
   {
    "duration": 13,
    "start_time": "2023-03-19T05:05:17.999Z"
   },
   {
    "duration": 23,
    "start_time": "2023-03-19T05:05:18.015Z"
   },
   {
    "duration": 8,
    "start_time": "2023-03-19T05:05:18.040Z"
   },
   {
    "duration": 68,
    "start_time": "2023-03-19T05:05:18.049Z"
   },
   {
    "duration": 7,
    "start_time": "2023-03-19T05:05:18.118Z"
   },
   {
    "duration": 12,
    "start_time": "2023-03-19T05:05:18.127Z"
   },
   {
    "duration": 5,
    "start_time": "2023-03-19T05:05:18.141Z"
   },
   {
    "duration": 67,
    "start_time": "2023-03-19T05:05:18.148Z"
   },
   {
    "duration": 19,
    "start_time": "2023-03-19T05:05:18.217Z"
   },
   {
    "duration": 6,
    "start_time": "2023-03-19T05:05:18.238Z"
   },
   {
    "duration": 65,
    "start_time": "2023-03-19T05:05:18.246Z"
   },
   {
    "duration": 41,
    "start_time": "2023-03-19T05:05:18.313Z"
   },
   {
    "duration": 30,
    "start_time": "2023-03-19T05:05:18.356Z"
   },
   {
    "duration": 47,
    "start_time": "2023-03-19T05:05:18.389Z"
   },
   {
    "duration": 7,
    "start_time": "2023-03-19T05:05:18.439Z"
   },
   {
    "duration": 34,
    "start_time": "2023-03-19T05:05:18.448Z"
   },
   {
    "duration": 27,
    "start_time": "2023-03-19T05:05:18.483Z"
   },
   {
    "duration": 44,
    "start_time": "2023-03-19T05:05:18.512Z"
   },
   {
    "duration": 6,
    "start_time": "2023-03-19T05:05:18.558Z"
   },
   {
    "duration": 25,
    "start_time": "2023-03-19T05:05:18.566Z"
   },
   {
    "duration": 36,
    "start_time": "2023-03-19T05:05:18.593Z"
   },
   {
    "duration": 18,
    "start_time": "2023-03-19T05:05:18.631Z"
   },
   {
    "duration": 31,
    "start_time": "2023-03-19T05:05:18.651Z"
   },
   {
    "duration": 14,
    "start_time": "2023-03-19T05:05:18.684Z"
   },
   {
    "duration": 37,
    "start_time": "2023-03-19T05:05:18.700Z"
   },
   {
    "duration": 18,
    "start_time": "2023-03-19T05:05:18.740Z"
   },
   {
    "duration": 26,
    "start_time": "2023-03-19T05:05:18.760Z"
   },
   {
    "duration": 8,
    "start_time": "2023-03-19T05:05:18.788Z"
   },
   {
    "duration": 30,
    "start_time": "2023-03-19T05:05:18.798Z"
   },
   {
    "duration": 26,
    "start_time": "2023-03-19T05:05:18.830Z"
   },
   {
    "duration": 12,
    "start_time": "2023-03-19T05:05:18.859Z"
   },
   {
    "duration": 20,
    "start_time": "2023-03-19T05:05:18.873Z"
   },
   {
    "duration": 22,
    "start_time": "2023-03-19T05:05:18.895Z"
   },
   {
    "duration": 12,
    "start_time": "2023-03-19T05:05:18.919Z"
   },
   {
    "duration": 21,
    "start_time": "2023-03-19T05:05:18.932Z"
   },
   {
    "duration": 25,
    "start_time": "2023-03-19T05:05:18.955Z"
   },
   {
    "duration": 18,
    "start_time": "2023-03-19T05:05:18.982Z"
   },
   {
    "duration": 30,
    "start_time": "2023-03-19T05:05:19.003Z"
   },
   {
    "duration": 12,
    "start_time": "2023-03-19T05:05:19.035Z"
   },
   {
    "duration": 43,
    "start_time": "2023-03-19T05:05:19.049Z"
   },
   {
    "duration": 6,
    "start_time": "2023-03-19T05:05:19.094Z"
   },
   {
    "duration": 6,
    "start_time": "2023-03-19T05:05:19.102Z"
   },
   {
    "duration": 23,
    "start_time": "2023-03-19T05:05:19.109Z"
   },
   {
    "duration": 29,
    "start_time": "2023-03-19T05:05:19.134Z"
   },
   {
    "duration": 9,
    "start_time": "2023-03-19T05:05:19.165Z"
   },
   {
    "duration": 35,
    "start_time": "2023-03-19T05:05:19.178Z"
   },
   {
    "duration": 31,
    "start_time": "2023-03-19T05:05:19.215Z"
   },
   {
    "duration": 9293,
    "start_time": "2023-03-19T05:05:19.252Z"
   },
   {
    "duration": 2645,
    "start_time": "2023-03-19T05:05:28.547Z"
   },
   {
    "duration": 571,
    "start_time": "2023-03-19T05:05:31.274Z"
   },
   {
    "duration": 62243,
    "start_time": "2023-03-19T05:05:31.848Z"
   },
   {
    "duration": 3,
    "start_time": "2023-03-19T05:06:34.093Z"
   },
   {
    "duration": 38,
    "start_time": "2023-03-19T05:06:34.097Z"
   },
   {
    "duration": 2,
    "start_time": "2023-03-19T05:06:34.137Z"
   },
   {
    "duration": 97841,
    "start_time": "2023-03-19T05:06:34.141Z"
   },
   {
    "duration": 4,
    "start_time": "2023-03-19T05:08:11.988Z"
   },
   {
    "duration": 2169,
    "start_time": "2023-03-19T05:08:11.994Z"
   },
   {
    "duration": 6,
    "start_time": "2023-03-19T05:08:14.164Z"
   },
   {
    "duration": 23,
    "start_time": "2023-03-19T05:08:14.172Z"
   },
   {
    "duration": 291,
    "start_time": "2023-03-19T05:08:14.197Z"
   },
   {
    "duration": 235,
    "start_time": "2023-03-19T05:08:14.490Z"
   },
   {
    "duration": 175,
    "start_time": "2023-03-19T05:08:14.727Z"
   },
   {
    "duration": 274,
    "start_time": "2023-03-19T05:12:45.469Z"
   },
   {
    "duration": 252,
    "start_time": "2023-03-19T05:13:11.111Z"
   },
   {
    "duration": 14,
    "start_time": "2023-03-19T05:13:22.682Z"
   },
   {
    "duration": 145,
    "start_time": "2023-03-19T05:13:32.046Z"
   },
   {
    "duration": 119,
    "start_time": "2023-03-19T05:13:41.218Z"
   },
   {
    "duration": 3,
    "start_time": "2023-03-19T05:15:10.333Z"
   },
   {
    "duration": 145,
    "start_time": "2023-03-19T05:15:16.372Z"
   },
   {
    "duration": 132,
    "start_time": "2023-03-19T05:15:24.779Z"
   },
   {
    "duration": 150,
    "start_time": "2023-03-19T05:15:45.895Z"
   },
   {
    "duration": 155,
    "start_time": "2023-03-19T05:15:52.372Z"
   },
   {
    "duration": 125,
    "start_time": "2023-03-19T05:16:01.721Z"
   },
   {
    "duration": 123,
    "start_time": "2023-03-19T05:16:12.389Z"
   },
   {
    "duration": 224,
    "start_time": "2023-03-19T05:16:27.971Z"
   },
   {
    "duration": 119,
    "start_time": "2023-03-19T05:16:37.903Z"
   },
   {
    "duration": 142,
    "start_time": "2023-03-19T05:16:46.641Z"
   },
   {
    "duration": 131,
    "start_time": "2023-03-19T05:16:50.837Z"
   },
   {
    "duration": 146,
    "start_time": "2023-03-19T05:16:54.913Z"
   },
   {
    "duration": 151,
    "start_time": "2023-03-19T05:16:59.312Z"
   },
   {
    "duration": 17,
    "start_time": "2023-03-19T05:17:30.433Z"
   },
   {
    "duration": 161,
    "start_time": "2023-03-19T05:17:38.127Z"
   },
   {
    "duration": 162,
    "start_time": "2023-03-19T05:19:14.216Z"
   },
   {
    "duration": 1408,
    "start_time": "2023-03-19T05:50:51.348Z"
   },
   {
    "duration": 3,
    "start_time": "2023-03-19T05:50:52.758Z"
   },
   {
    "duration": 120,
    "start_time": "2023-03-19T05:50:52.772Z"
   },
   {
    "duration": 25,
    "start_time": "2023-03-19T05:50:52.894Z"
   },
   {
    "duration": 6,
    "start_time": "2023-03-19T05:50:52.923Z"
   },
   {
    "duration": 12,
    "start_time": "2023-03-19T05:50:52.931Z"
   },
   {
    "duration": 8,
    "start_time": "2023-03-19T05:50:52.944Z"
   },
   {
    "duration": 28,
    "start_time": "2023-03-19T05:50:52.954Z"
   },
   {
    "duration": 16,
    "start_time": "2023-03-19T05:50:52.984Z"
   },
   {
    "duration": 21,
    "start_time": "2023-03-19T05:50:53.002Z"
   },
   {
    "duration": 12,
    "start_time": "2023-03-19T05:50:53.025Z"
   },
   {
    "duration": 40,
    "start_time": "2023-03-19T05:50:53.039Z"
   },
   {
    "duration": 34,
    "start_time": "2023-03-19T05:50:53.081Z"
   },
   {
    "duration": 20,
    "start_time": "2023-03-19T05:50:53.118Z"
   },
   {
    "duration": 42,
    "start_time": "2023-03-19T05:50:53.140Z"
   },
   {
    "duration": 13,
    "start_time": "2023-03-19T05:50:53.184Z"
   },
   {
    "duration": 29,
    "start_time": "2023-03-19T05:50:53.198Z"
   },
   {
    "duration": 20,
    "start_time": "2023-03-19T05:50:53.228Z"
   },
   {
    "duration": 33,
    "start_time": "2023-03-19T05:50:53.250Z"
   },
   {
    "duration": 17,
    "start_time": "2023-03-19T05:50:53.285Z"
   },
   {
    "duration": 8,
    "start_time": "2023-03-19T05:50:53.303Z"
   },
   {
    "duration": 4,
    "start_time": "2023-03-19T05:50:53.313Z"
   },
   {
    "duration": 12,
    "start_time": "2023-03-19T05:50:53.319Z"
   },
   {
    "duration": 5,
    "start_time": "2023-03-19T05:50:53.333Z"
   },
   {
    "duration": 6,
    "start_time": "2023-03-19T05:50:53.340Z"
   },
   {
    "duration": 28,
    "start_time": "2023-03-19T05:50:53.348Z"
   },
   {
    "duration": 27,
    "start_time": "2023-03-19T05:50:53.378Z"
   },
   {
    "duration": 20,
    "start_time": "2023-03-19T05:50:53.407Z"
   },
   {
    "duration": 56,
    "start_time": "2023-03-19T05:50:53.429Z"
   },
   {
    "duration": 5,
    "start_time": "2023-03-19T05:50:53.488Z"
   },
   {
    "duration": 29,
    "start_time": "2023-03-19T05:50:53.494Z"
   },
   {
    "duration": 4,
    "start_time": "2023-03-19T05:50:53.525Z"
   },
   {
    "duration": 58,
    "start_time": "2023-03-19T05:50:53.531Z"
   },
   {
    "duration": 4,
    "start_time": "2023-03-19T05:50:53.591Z"
   },
   {
    "duration": 6,
    "start_time": "2023-03-19T05:50:53.598Z"
   },
   {
    "duration": 24,
    "start_time": "2023-03-19T05:50:53.606Z"
   },
   {
    "duration": 8,
    "start_time": "2023-03-19T05:50:53.633Z"
   },
   {
    "duration": 43,
    "start_time": "2023-03-19T05:50:53.672Z"
   },
   {
    "duration": 6,
    "start_time": "2023-03-19T05:50:53.717Z"
   },
   {
    "duration": 18,
    "start_time": "2023-03-19T05:50:53.725Z"
   },
   {
    "duration": 23,
    "start_time": "2023-03-19T05:50:53.750Z"
   },
   {
    "duration": 74,
    "start_time": "2023-03-19T05:50:53.776Z"
   },
   {
    "duration": 18,
    "start_time": "2023-03-19T05:50:53.852Z"
   },
   {
    "duration": 4,
    "start_time": "2023-03-19T05:50:53.873Z"
   },
   {
    "duration": 47,
    "start_time": "2023-03-19T05:50:53.879Z"
   },
   {
    "duration": 65,
    "start_time": "2023-03-19T05:50:53.929Z"
   },
   {
    "duration": 6,
    "start_time": "2023-03-19T05:50:53.996Z"
   },
   {
    "duration": 52,
    "start_time": "2023-03-19T05:50:54.004Z"
   },
   {
    "duration": 15,
    "start_time": "2023-03-19T05:50:54.058Z"
   },
   {
    "duration": 6,
    "start_time": "2023-03-19T05:50:54.075Z"
   },
   {
    "duration": 8,
    "start_time": "2023-03-19T05:50:54.083Z"
   },
   {
    "duration": 16,
    "start_time": "2023-03-19T05:50:54.094Z"
   },
   {
    "duration": 5,
    "start_time": "2023-03-19T05:50:54.112Z"
   },
   {
    "duration": 15,
    "start_time": "2023-03-19T05:50:54.119Z"
   },
   {
    "duration": 46,
    "start_time": "2023-03-19T05:50:54.136Z"
   },
   {
    "duration": 7,
    "start_time": "2023-03-19T05:50:54.184Z"
   },
   {
    "duration": 17,
    "start_time": "2023-03-19T05:50:54.194Z"
   },
   {
    "duration": 5,
    "start_time": "2023-03-19T05:50:54.213Z"
   },
   {
    "duration": 15,
    "start_time": "2023-03-19T05:50:54.220Z"
   },
   {
    "duration": 60,
    "start_time": "2023-03-19T05:50:54.238Z"
   },
   {
    "duration": 21,
    "start_time": "2023-03-19T05:50:54.300Z"
   },
   {
    "duration": 5,
    "start_time": "2023-03-19T05:50:54.323Z"
   },
   {
    "duration": 8,
    "start_time": "2023-03-19T05:50:54.329Z"
   },
   {
    "duration": 14,
    "start_time": "2023-03-19T05:50:54.338Z"
   },
   {
    "duration": 22,
    "start_time": "2023-03-19T05:50:54.354Z"
   },
   {
    "duration": 6,
    "start_time": "2023-03-19T05:50:54.378Z"
   },
   {
    "duration": 15,
    "start_time": "2023-03-19T05:50:54.386Z"
   },
   {
    "duration": 9,
    "start_time": "2023-03-19T05:50:54.403Z"
   },
   {
    "duration": 5,
    "start_time": "2023-03-19T05:50:54.414Z"
   },
   {
    "duration": 21,
    "start_time": "2023-03-19T05:50:54.420Z"
   },
   {
    "duration": 10,
    "start_time": "2023-03-19T05:50:54.443Z"
   },
   {
    "duration": 2,
    "start_time": "2023-03-19T05:50:54.473Z"
   },
   {
    "duration": 5,
    "start_time": "2023-03-19T05:50:54.478Z"
   },
   {
    "duration": 24,
    "start_time": "2023-03-19T05:50:54.486Z"
   },
   {
    "duration": 2,
    "start_time": "2023-03-19T05:50:54.513Z"
   },
   {
    "duration": 11,
    "start_time": "2023-03-19T05:50:54.517Z"
   },
   {
    "duration": 43,
    "start_time": "2023-03-19T05:50:54.530Z"
   },
   {
    "duration": 30,
    "start_time": "2023-03-19T05:50:54.576Z"
   },
   {
    "duration": 4,
    "start_time": "2023-03-19T05:50:54.608Z"
   },
   {
    "duration": 12,
    "start_time": "2023-03-19T05:50:54.614Z"
   },
   {
    "duration": 24,
    "start_time": "2023-03-19T05:50:54.628Z"
   },
   {
    "duration": 8943,
    "start_time": "2023-03-19T05:50:54.673Z"
   },
   {
    "duration": 667,
    "start_time": "2023-03-19T05:51:03.618Z"
   },
   {
    "duration": 606,
    "start_time": "2023-03-19T05:51:04.286Z"
   },
   {
    "duration": 61223,
    "start_time": "2023-03-19T05:51:04.894Z"
   },
   {
    "duration": 799381,
    "start_time": "2023-03-19T05:52:06.118Z"
   },
   {
    "duration": 38,
    "start_time": "2023-03-19T06:05:25.574Z"
   },
   {
    "duration": 3,
    "start_time": "2023-03-19T06:05:25.614Z"
   },
   {
    "duration": 97398,
    "start_time": "2023-03-19T06:05:25.619Z"
   },
   {
    "duration": 590662,
    "start_time": "2023-03-19T06:07:03.018Z"
   },
   {
    "duration": 2331,
    "start_time": "2023-03-19T06:16:53.682Z"
   },
   {
    "duration": 4,
    "start_time": "2023-03-19T06:16:56.015Z"
   },
   {
    "duration": 6,
    "start_time": "2023-03-19T06:16:56.021Z"
   },
   {
    "duration": 298,
    "start_time": "2023-03-19T06:16:56.028Z"
   },
   {
    "duration": 281,
    "start_time": "2023-03-19T06:16:56.327Z"
   },
   {
    "duration": 181,
    "start_time": "2023-03-19T06:16:56.610Z"
   },
   {
    "duration": 945,
    "start_time": "2023-03-19T06:39:40.934Z"
   },
   {
    "duration": 8806,
    "start_time": "2023-03-19T06:39:49.077Z"
   },
   {
    "duration": 67246,
    "start_time": "2023-03-19T06:40:13.289Z"
   },
   {
    "duration": 1413,
    "start_time": "2023-03-19T06:45:48.861Z"
   },
   {
    "duration": 4,
    "start_time": "2023-03-19T06:45:50.276Z"
   },
   {
    "duration": 122,
    "start_time": "2023-03-19T06:45:50.283Z"
   },
   {
    "duration": 30,
    "start_time": "2023-03-19T06:45:50.408Z"
   },
   {
    "duration": 6,
    "start_time": "2023-03-19T06:45:50.440Z"
   },
   {
    "duration": 14,
    "start_time": "2023-03-19T06:45:50.449Z"
   },
   {
    "duration": 19,
    "start_time": "2023-03-19T06:45:50.465Z"
   },
   {
    "duration": 35,
    "start_time": "2023-03-19T06:45:50.486Z"
   },
   {
    "duration": 28,
    "start_time": "2023-03-19T06:45:50.524Z"
   },
   {
    "duration": 23,
    "start_time": "2023-03-19T06:45:50.557Z"
   },
   {
    "duration": 16,
    "start_time": "2023-03-19T06:45:50.583Z"
   },
   {
    "duration": 19,
    "start_time": "2023-03-19T06:45:50.601Z"
   },
   {
    "duration": 51,
    "start_time": "2023-03-19T06:45:50.623Z"
   },
   {
    "duration": 25,
    "start_time": "2023-03-19T06:45:50.677Z"
   },
   {
    "duration": 19,
    "start_time": "2023-03-19T06:45:50.704Z"
   },
   {
    "duration": 13,
    "start_time": "2023-03-19T06:45:50.725Z"
   },
   {
    "duration": 45,
    "start_time": "2023-03-19T06:45:50.740Z"
   },
   {
    "duration": 21,
    "start_time": "2023-03-19T06:45:50.787Z"
   },
   {
    "duration": 19,
    "start_time": "2023-03-19T06:45:50.810Z"
   },
   {
    "duration": 3,
    "start_time": "2023-03-19T06:45:50.831Z"
   },
   {
    "duration": 4,
    "start_time": "2023-03-19T06:45:50.873Z"
   },
   {
    "duration": 6,
    "start_time": "2023-03-19T06:45:50.879Z"
   },
   {
    "duration": 15,
    "start_time": "2023-03-19T06:45:50.887Z"
   },
   {
    "duration": 13,
    "start_time": "2023-03-19T06:45:50.904Z"
   },
   {
    "duration": 29,
    "start_time": "2023-03-19T06:45:50.919Z"
   },
   {
    "duration": 21,
    "start_time": "2023-03-19T06:45:50.973Z"
   },
   {
    "duration": 26,
    "start_time": "2023-03-19T06:45:50.995Z"
   },
   {
    "duration": 4,
    "start_time": "2023-03-19T06:45:51.027Z"
   },
   {
    "duration": 54,
    "start_time": "2023-03-19T06:45:51.033Z"
   },
   {
    "duration": 5,
    "start_time": "2023-03-19T06:45:51.090Z"
   },
   {
    "duration": 47,
    "start_time": "2023-03-19T06:45:51.096Z"
   },
   {
    "duration": 4,
    "start_time": "2023-03-19T06:45:51.145Z"
   },
   {
    "duration": 5,
    "start_time": "2023-03-19T06:45:51.172Z"
   },
   {
    "duration": 25,
    "start_time": "2023-03-19T06:45:51.179Z"
   },
   {
    "duration": 7,
    "start_time": "2023-03-19T06:45:51.206Z"
   },
   {
    "duration": 65,
    "start_time": "2023-03-19T06:45:51.215Z"
   },
   {
    "duration": 7,
    "start_time": "2023-03-19T06:45:51.282Z"
   },
   {
    "duration": 7,
    "start_time": "2023-03-19T06:45:51.291Z"
   },
   {
    "duration": 5,
    "start_time": "2023-03-19T06:45:51.300Z"
   },
   {
    "duration": 73,
    "start_time": "2023-03-19T06:45:51.306Z"
   },
   {
    "duration": 31,
    "start_time": "2023-03-19T06:45:51.382Z"
   },
   {
    "duration": 5,
    "start_time": "2023-03-19T06:45:51.415Z"
   },
   {
    "duration": 72,
    "start_time": "2023-03-19T06:45:51.422Z"
   },
   {
    "duration": 56,
    "start_time": "2023-03-19T06:45:51.496Z"
   },
   {
    "duration": 20,
    "start_time": "2023-03-19T06:45:51.554Z"
   },
   {
    "duration": 54,
    "start_time": "2023-03-19T06:45:51.577Z"
   },
   {
    "duration": 7,
    "start_time": "2023-03-19T06:45:51.633Z"
   },
   {
    "duration": 17,
    "start_time": "2023-03-19T06:45:51.642Z"
   },
   {
    "duration": 13,
    "start_time": "2023-03-19T06:45:51.661Z"
   },
   {
    "duration": 15,
    "start_time": "2023-03-19T06:45:51.676Z"
   },
   {
    "duration": 15,
    "start_time": "2023-03-19T06:45:51.693Z"
   },
   {
    "duration": 13,
    "start_time": "2023-03-19T06:45:51.710Z"
   },
   {
    "duration": 35,
    "start_time": "2023-03-19T06:45:51.725Z"
   },
   {
    "duration": 9,
    "start_time": "2023-03-19T06:45:51.762Z"
   },
   {
    "duration": 25,
    "start_time": "2023-03-19T06:45:51.773Z"
   },
   {
    "duration": 6,
    "start_time": "2023-03-19T06:45:51.800Z"
   },
   {
    "duration": 16,
    "start_time": "2023-03-19T06:45:51.808Z"
   },
   {
    "duration": 18,
    "start_time": "2023-03-19T06:45:51.826Z"
   },
   {
    "duration": 47,
    "start_time": "2023-03-19T06:45:51.846Z"
   },
   {
    "duration": 4,
    "start_time": "2023-03-19T06:45:51.895Z"
   },
   {
    "duration": 7,
    "start_time": "2023-03-19T06:45:51.901Z"
   },
   {
    "duration": 16,
    "start_time": "2023-03-19T06:45:51.910Z"
   },
   {
    "duration": 5,
    "start_time": "2023-03-19T06:45:51.928Z"
   },
   {
    "duration": 5,
    "start_time": "2023-03-19T06:45:51.935Z"
   },
   {
    "duration": 42,
    "start_time": "2023-03-19T06:45:51.941Z"
   },
   {
    "duration": 3,
    "start_time": "2023-03-19T06:45:51.986Z"
   },
   {
    "duration": 13,
    "start_time": "2023-03-19T06:45:51.991Z"
   },
   {
    "duration": 32,
    "start_time": "2023-03-19T06:45:52.006Z"
   },
   {
    "duration": 12,
    "start_time": "2023-03-19T06:45:52.041Z"
   },
   {
    "duration": 3,
    "start_time": "2023-03-19T06:45:52.055Z"
   },
   {
    "duration": 19,
    "start_time": "2023-03-19T06:45:52.059Z"
   },
   {
    "duration": 42,
    "start_time": "2023-03-19T06:45:52.080Z"
   },
   {
    "duration": 18,
    "start_time": "2023-03-19T06:45:52.124Z"
   },
   {
    "duration": 67,
    "start_time": "2023-03-19T06:45:52.144Z"
   },
   {
    "duration": 15,
    "start_time": "2023-03-19T06:45:52.212Z"
   },
   {
    "duration": 31,
    "start_time": "2023-03-19T06:45:52.229Z"
   },
   {
    "duration": 4,
    "start_time": "2023-03-19T06:45:52.262Z"
   },
   {
    "duration": 7,
    "start_time": "2023-03-19T06:45:52.273Z"
   },
   {
    "duration": 8963,
    "start_time": "2023-03-19T06:45:52.282Z"
   },
   {
    "duration": 927,
    "start_time": "2023-03-19T06:46:01.247Z"
   },
   {
    "duration": 622,
    "start_time": "2023-03-19T06:46:02.176Z"
   },
   {
    "duration": 65813,
    "start_time": "2023-03-19T06:46:02.804Z"
   },
   {
    "duration": 49971,
    "start_time": "2023-03-19T06:47:08.619Z"
   },
   {
    "duration": 0,
    "start_time": "2023-03-19T06:47:58.591Z"
   },
   {
    "duration": 0,
    "start_time": "2023-03-19T06:47:58.593Z"
   },
   {
    "duration": 0,
    "start_time": "2023-03-19T06:47:58.594Z"
   },
   {
    "duration": 0,
    "start_time": "2023-03-19T06:47:58.595Z"
   },
   {
    "duration": 0,
    "start_time": "2023-03-19T06:47:58.596Z"
   },
   {
    "duration": 0,
    "start_time": "2023-03-19T06:47:58.598Z"
   },
   {
    "duration": 0,
    "start_time": "2023-03-19T06:47:58.599Z"
   },
   {
    "duration": 0,
    "start_time": "2023-03-19T06:47:58.600Z"
   },
   {
    "duration": 0,
    "start_time": "2023-03-19T06:47:58.602Z"
   },
   {
    "duration": 1497,
    "start_time": "2023-03-19T06:48:03.243Z"
   },
   {
    "duration": 3,
    "start_time": "2023-03-19T06:48:04.742Z"
   },
   {
    "duration": 115,
    "start_time": "2023-03-19T06:48:04.747Z"
   },
   {
    "duration": 22,
    "start_time": "2023-03-19T06:48:04.864Z"
   },
   {
    "duration": 5,
    "start_time": "2023-03-19T06:48:04.887Z"
   },
   {
    "duration": 8,
    "start_time": "2023-03-19T06:48:04.894Z"
   },
   {
    "duration": 14,
    "start_time": "2023-03-19T06:48:04.904Z"
   },
   {
    "duration": 13,
    "start_time": "2023-03-19T06:48:04.920Z"
   },
   {
    "duration": 48,
    "start_time": "2023-03-19T06:48:04.935Z"
   },
   {
    "duration": 29,
    "start_time": "2023-03-19T06:48:04.987Z"
   },
   {
    "duration": 10,
    "start_time": "2023-03-19T06:48:05.018Z"
   },
   {
    "duration": 12,
    "start_time": "2023-03-19T06:48:05.030Z"
   },
   {
    "duration": 38,
    "start_time": "2023-03-19T06:48:05.044Z"
   },
   {
    "duration": 21,
    "start_time": "2023-03-19T06:48:05.084Z"
   },
   {
    "duration": 34,
    "start_time": "2023-03-19T06:48:05.107Z"
   },
   {
    "duration": 29,
    "start_time": "2023-03-19T06:48:05.144Z"
   },
   {
    "duration": 25,
    "start_time": "2023-03-19T06:48:05.175Z"
   },
   {
    "duration": 26,
    "start_time": "2023-03-19T06:48:05.202Z"
   },
   {
    "duration": 44,
    "start_time": "2023-03-19T06:48:05.230Z"
   },
   {
    "duration": 4,
    "start_time": "2023-03-19T06:48:05.277Z"
   },
   {
    "duration": 31,
    "start_time": "2023-03-19T06:48:05.283Z"
   },
   {
    "duration": 5,
    "start_time": "2023-03-19T06:48:05.316Z"
   },
   {
    "duration": 24,
    "start_time": "2023-03-19T06:48:05.322Z"
   },
   {
    "duration": 27,
    "start_time": "2023-03-19T06:48:05.348Z"
   },
   {
    "duration": 31,
    "start_time": "2023-03-19T06:48:05.378Z"
   },
   {
    "duration": 31,
    "start_time": "2023-03-19T06:48:05.411Z"
   },
   {
    "duration": 54,
    "start_time": "2023-03-19T06:48:05.444Z"
   },
   {
    "duration": 5,
    "start_time": "2023-03-19T06:48:05.505Z"
   },
   {
    "duration": 20,
    "start_time": "2023-03-19T06:48:05.512Z"
   },
   {
    "duration": 4,
    "start_time": "2023-03-19T06:48:05.534Z"
   },
   {
    "duration": 68,
    "start_time": "2023-03-19T06:48:05.539Z"
   },
   {
    "duration": 4,
    "start_time": "2023-03-19T06:48:05.609Z"
   },
   {
    "duration": 15,
    "start_time": "2023-03-19T06:48:05.614Z"
   },
   {
    "duration": 42,
    "start_time": "2023-03-19T06:48:05.631Z"
   },
   {
    "duration": 10,
    "start_time": "2023-03-19T06:48:05.675Z"
   },
   {
    "duration": 45,
    "start_time": "2023-03-19T06:48:05.687Z"
   },
   {
    "duration": 6,
    "start_time": "2023-03-19T06:48:05.734Z"
   },
   {
    "duration": 32,
    "start_time": "2023-03-19T06:48:05.742Z"
   },
   {
    "duration": 5,
    "start_time": "2023-03-19T06:48:05.776Z"
   },
   {
    "duration": 54,
    "start_time": "2023-03-19T06:48:05.782Z"
   },
   {
    "duration": 43,
    "start_time": "2023-03-19T06:48:05.838Z"
   },
   {
    "duration": 5,
    "start_time": "2023-03-19T06:48:05.883Z"
   },
   {
    "duration": 73,
    "start_time": "2023-03-19T06:48:05.890Z"
   },
   {
    "duration": 45,
    "start_time": "2023-03-19T06:48:05.966Z"
   },
   {
    "duration": 10,
    "start_time": "2023-03-19T06:48:06.013Z"
   },
   {
    "duration": 58,
    "start_time": "2023-03-19T06:48:06.025Z"
   },
   {
    "duration": 7,
    "start_time": "2023-03-19T06:48:06.084Z"
   },
   {
    "duration": 9,
    "start_time": "2023-03-19T06:48:06.093Z"
   },
   {
    "duration": 19,
    "start_time": "2023-03-19T06:48:06.104Z"
   },
   {
    "duration": 31,
    "start_time": "2023-03-19T06:48:06.125Z"
   },
   {
    "duration": 18,
    "start_time": "2023-03-19T06:48:06.158Z"
   },
   {
    "duration": 15,
    "start_time": "2023-03-19T06:48:06.178Z"
   },
   {
    "duration": 16,
    "start_time": "2023-03-19T06:48:06.195Z"
   },
   {
    "duration": 10,
    "start_time": "2023-03-19T06:48:06.213Z"
   },
   {
    "duration": 17,
    "start_time": "2023-03-19T06:48:06.225Z"
   },
   {
    "duration": 5,
    "start_time": "2023-03-19T06:48:06.244Z"
   },
   {
    "duration": 32,
    "start_time": "2023-03-19T06:48:06.251Z"
   },
   {
    "duration": 30,
    "start_time": "2023-03-19T06:48:06.284Z"
   },
   {
    "duration": 25,
    "start_time": "2023-03-19T06:48:06.316Z"
   },
   {
    "duration": 4,
    "start_time": "2023-03-19T06:48:06.343Z"
   },
   {
    "duration": 7,
    "start_time": "2023-03-19T06:48:06.349Z"
   },
   {
    "duration": 38,
    "start_time": "2023-03-19T06:48:06.358Z"
   },
   {
    "duration": 7,
    "start_time": "2023-03-19T06:48:06.399Z"
   },
   {
    "duration": 12,
    "start_time": "2023-03-19T06:48:06.408Z"
   },
   {
    "duration": 20,
    "start_time": "2023-03-19T06:48:06.422Z"
   },
   {
    "duration": 6,
    "start_time": "2023-03-19T06:48:06.444Z"
   },
   {
    "duration": 24,
    "start_time": "2023-03-19T06:48:06.452Z"
   },
   {
    "duration": 42,
    "start_time": "2023-03-19T06:48:06.478Z"
   },
   {
    "duration": 20,
    "start_time": "2023-03-19T06:48:06.522Z"
   },
   {
    "duration": 11,
    "start_time": "2023-03-19T06:48:06.545Z"
   },
   {
    "duration": 23,
    "start_time": "2023-03-19T06:48:06.559Z"
   },
   {
    "duration": 39,
    "start_time": "2023-03-19T06:48:06.584Z"
   },
   {
    "duration": 16,
    "start_time": "2023-03-19T06:48:06.625Z"
   },
   {
    "duration": 22,
    "start_time": "2023-03-19T06:48:06.642Z"
   },
   {
    "duration": 20,
    "start_time": "2023-03-19T06:48:06.666Z"
   },
   {
    "duration": 33,
    "start_time": "2023-03-19T06:48:06.688Z"
   },
   {
    "duration": 5,
    "start_time": "2023-03-19T06:48:06.723Z"
   },
   {
    "duration": 9,
    "start_time": "2023-03-19T06:48:06.730Z"
   },
   {
    "duration": 9038,
    "start_time": "2023-03-19T06:48:06.741Z"
   },
   {
    "duration": 1603,
    "start_time": "2023-03-19T06:48:15.780Z"
   },
   {
    "duration": 588,
    "start_time": "2023-03-19T06:48:17.385Z"
   },
   {
    "duration": 65276,
    "start_time": "2023-03-19T06:48:17.978Z"
   },
   {
    "duration": 754921,
    "start_time": "2023-03-19T06:49:23.256Z"
   },
   {
    "duration": 104255,
    "start_time": "2023-03-19T07:01:58.179Z"
   },
   {
    "duration": 303121,
    "start_time": "2023-03-19T07:03:42.436Z"
   },
   {
    "duration": 0,
    "start_time": "2023-03-19T07:08:45.560Z"
   },
   {
    "duration": 0,
    "start_time": "2023-03-19T07:08:45.561Z"
   },
   {
    "duration": 0,
    "start_time": "2023-03-19T07:08:45.563Z"
   },
   {
    "duration": 0,
    "start_time": "2023-03-19T07:08:45.573Z"
   },
   {
    "duration": 0,
    "start_time": "2023-03-19T07:08:45.573Z"
   },
   {
    "duration": 0,
    "start_time": "2023-03-19T07:08:45.574Z"
   },
   {
    "duration": 1437,
    "start_time": "2023-03-19T07:08:54.858Z"
   },
   {
    "duration": 2,
    "start_time": "2023-03-19T07:08:56.298Z"
   },
   {
    "duration": 120,
    "start_time": "2023-03-19T07:08:56.301Z"
   },
   {
    "duration": 21,
    "start_time": "2023-03-19T07:08:56.423Z"
   },
   {
    "duration": 5,
    "start_time": "2023-03-19T07:08:56.445Z"
   },
   {
    "duration": 9,
    "start_time": "2023-03-19T07:08:56.451Z"
   },
   {
    "duration": 16,
    "start_time": "2023-03-19T07:08:56.462Z"
   },
   {
    "duration": 15,
    "start_time": "2023-03-19T07:08:56.484Z"
   },
   {
    "duration": 14,
    "start_time": "2023-03-19T07:08:56.500Z"
   },
   {
    "duration": 16,
    "start_time": "2023-03-19T07:08:56.517Z"
   },
   {
    "duration": 22,
    "start_time": "2023-03-19T07:08:56.535Z"
   },
   {
    "duration": 39,
    "start_time": "2023-03-19T07:08:56.559Z"
   },
   {
    "duration": 36,
    "start_time": "2023-03-19T07:08:56.600Z"
   },
   {
    "duration": 18,
    "start_time": "2023-03-19T07:08:56.638Z"
   },
   {
    "duration": 26,
    "start_time": "2023-03-19T07:08:56.658Z"
   },
   {
    "duration": 15,
    "start_time": "2023-03-19T07:08:56.686Z"
   },
   {
    "duration": 26,
    "start_time": "2023-03-19T07:08:56.702Z"
   },
   {
    "duration": 20,
    "start_time": "2023-03-19T07:08:56.730Z"
   },
   {
    "duration": 37,
    "start_time": "2023-03-19T07:08:56.752Z"
   },
   {
    "duration": 8,
    "start_time": "2023-03-19T07:08:56.791Z"
   },
   {
    "duration": 11,
    "start_time": "2023-03-19T07:08:56.801Z"
   },
   {
    "duration": 9,
    "start_time": "2023-03-19T07:08:56.814Z"
   },
   {
    "duration": 31,
    "start_time": "2023-03-19T07:08:56.825Z"
   },
   {
    "duration": 29,
    "start_time": "2023-03-19T07:08:56.858Z"
   },
   {
    "duration": 30,
    "start_time": "2023-03-19T07:08:56.889Z"
   },
   {
    "duration": 27,
    "start_time": "2023-03-19T07:08:56.921Z"
   },
   {
    "duration": 51,
    "start_time": "2023-03-19T07:08:56.950Z"
   },
   {
    "duration": 4,
    "start_time": "2023-03-19T07:08:57.007Z"
   },
   {
    "duration": 20,
    "start_time": "2023-03-19T07:08:57.013Z"
   },
   {
    "duration": 3,
    "start_time": "2023-03-19T07:08:57.035Z"
   },
   {
    "duration": 59,
    "start_time": "2023-03-19T07:08:57.040Z"
   },
   {
    "duration": 4,
    "start_time": "2023-03-19T07:08:57.101Z"
   },
   {
    "duration": 12,
    "start_time": "2023-03-19T07:08:57.107Z"
   },
   {
    "duration": 28,
    "start_time": "2023-03-19T07:08:57.120Z"
   },
   {
    "duration": 25,
    "start_time": "2023-03-19T07:08:57.150Z"
   },
   {
    "duration": 58,
    "start_time": "2023-03-19T07:08:57.176Z"
   },
   {
    "duration": 7,
    "start_time": "2023-03-19T07:08:57.235Z"
   },
   {
    "duration": 9,
    "start_time": "2023-03-19T07:08:57.244Z"
   },
   {
    "duration": 5,
    "start_time": "2023-03-19T07:08:57.254Z"
   },
   {
    "duration": 53,
    "start_time": "2023-03-19T07:08:57.260Z"
   },
   {
    "duration": 17,
    "start_time": "2023-03-19T07:08:57.315Z"
   },
   {
    "duration": 3,
    "start_time": "2023-03-19T07:08:57.334Z"
   },
   {
    "duration": 71,
    "start_time": "2023-03-19T07:08:57.339Z"
   },
   {
    "duration": 43,
    "start_time": "2023-03-19T07:08:57.411Z"
   },
   {
    "duration": 31,
    "start_time": "2023-03-19T07:08:57.456Z"
   },
   {
    "duration": 41,
    "start_time": "2023-03-19T07:08:57.488Z"
   },
   {
    "duration": 6,
    "start_time": "2023-03-19T07:08:57.530Z"
   },
   {
    "duration": 9,
    "start_time": "2023-03-19T07:08:57.537Z"
   },
   {
    "duration": 10,
    "start_time": "2023-03-19T07:08:57.548Z"
   },
   {
    "duration": 20,
    "start_time": "2023-03-19T07:08:57.574Z"
   },
   {
    "duration": 7,
    "start_time": "2023-03-19T07:08:57.596Z"
   },
   {
    "duration": 11,
    "start_time": "2023-03-19T07:08:57.605Z"
   },
   {
    "duration": 17,
    "start_time": "2023-03-19T07:08:57.618Z"
   },
   {
    "duration": 12,
    "start_time": "2023-03-19T07:08:57.637Z"
   },
   {
    "duration": 39,
    "start_time": "2023-03-19T07:08:57.651Z"
   },
   {
    "duration": 5,
    "start_time": "2023-03-19T07:08:57.691Z"
   },
   {
    "duration": 13,
    "start_time": "2023-03-19T07:08:57.698Z"
   },
   {
    "duration": 19,
    "start_time": "2023-03-19T07:08:57.713Z"
   },
   {
    "duration": 29,
    "start_time": "2023-03-19T07:08:57.734Z"
   },
   {
    "duration": 13,
    "start_time": "2023-03-19T07:08:57.773Z"
   },
   {
    "duration": 12,
    "start_time": "2023-03-19T07:08:57.788Z"
   },
   {
    "duration": 16,
    "start_time": "2023-03-19T07:08:57.802Z"
   },
   {
    "duration": 4,
    "start_time": "2023-03-19T07:08:57.820Z"
   },
   {
    "duration": 11,
    "start_time": "2023-03-19T07:08:57.826Z"
   },
   {
    "duration": 16,
    "start_time": "2023-03-19T07:08:57.838Z"
   },
   {
    "duration": 4,
    "start_time": "2023-03-19T07:08:57.856Z"
   },
   {
    "duration": 8,
    "start_time": "2023-03-19T07:08:57.862Z"
   },
   {
    "duration": 33,
    "start_time": "2023-03-19T07:08:57.875Z"
   },
   {
    "duration": 11,
    "start_time": "2023-03-19T07:08:57.909Z"
   },
   {
    "duration": 2,
    "start_time": "2023-03-19T07:08:57.922Z"
   },
   {
    "duration": 7,
    "start_time": "2023-03-19T07:08:57.926Z"
   },
   {
    "duration": 26,
    "start_time": "2023-03-19T07:08:57.936Z"
   },
   {
    "duration": 31,
    "start_time": "2023-03-19T07:08:57.964Z"
   },
   {
    "duration": 28,
    "start_time": "2023-03-19T07:08:57.996Z"
   },
   {
    "duration": 22,
    "start_time": "2023-03-19T07:08:58.026Z"
   },
   {
    "duration": 44,
    "start_time": "2023-03-19T07:08:58.050Z"
   },
   {
    "duration": 5,
    "start_time": "2023-03-19T07:08:58.096Z"
   },
   {
    "duration": 7,
    "start_time": "2023-03-19T07:08:58.103Z"
   },
   {
    "duration": 9411,
    "start_time": "2023-03-19T07:08:58.111Z"
   },
   {
    "duration": 1962,
    "start_time": "2023-03-19T07:09:07.524Z"
   },
   {
    "duration": 640,
    "start_time": "2023-03-19T07:09:09.488Z"
   },
   {
    "duration": 68588,
    "start_time": "2023-03-19T07:09:10.133Z"
   },
   {
    "duration": 945361,
    "start_time": "2023-03-19T07:10:18.723Z"
   },
   {
    "duration": 95790,
    "start_time": "2023-03-19T07:26:04.090Z"
   },
   {
    "duration": 60502,
    "start_time": "2023-03-19T07:27:39.881Z"
   },
   {
    "duration": 1964,
    "start_time": "2023-03-19T07:28:40.385Z"
   },
   {
    "duration": 5,
    "start_time": "2023-03-19T07:28:42.350Z"
   },
   {
    "duration": 7,
    "start_time": "2023-03-19T07:28:42.357Z"
   },
   {
    "duration": 284,
    "start_time": "2023-03-19T07:28:42.366Z"
   },
   {
    "duration": 246,
    "start_time": "2023-03-19T07:28:42.652Z"
   },
   {
    "duration": 163,
    "start_time": "2023-03-19T07:28:42.900Z"
   }
  ],
  "kernelspec": {
   "display_name": "Python 3 (ipykernel)",
   "language": "python",
   "name": "python3"
  },
  "language_info": {
   "codemirror_mode": {
    "name": "ipython",
    "version": 3
   },
   "file_extension": ".py",
   "mimetype": "text/x-python",
   "name": "python",
   "nbconvert_exporter": "python",
   "pygments_lexer": "ipython3",
   "version": "3.9.5"
  },
  "toc": {
   "base_numbering": 1,
   "nav_menu": {},
   "number_sections": true,
   "sideBar": true,
   "skip_h1_title": true,
   "title_cell": "Table of Contents",
   "title_sidebar": "Contents",
   "toc_cell": false,
   "toc_position": {
    "height": "calc(100% - 180px)",
    "left": "10px",
    "top": "150px",
    "width": "400px"
   },
   "toc_section_display": true,
   "toc_window_display": true
  }
 },
 "nbformat": 4,
 "nbformat_minor": 2
}
