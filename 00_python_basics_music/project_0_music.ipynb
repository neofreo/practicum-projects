{
 "cells": [
  {
   "cell_type": "markdown",
   "metadata": {
    "deletable": false,
    "editable": false,
    "id": "VUC88oWjTJw2"
   },
   "source": [
    "<a id=\"content\"></a>\n",
    "На данных Яндекс Музыки сравнить поведение пользователей Москвы и Петербурга\n",
    "\n",
    "**Цель исследования** — проверить три гипотезы:\n",
    "1. Активность пользователей зависит от дня недели. в Москве и Петербурге это проявляется по-разному.\n",
    "2. Москва и Петербург предпочитают разные жанры музыки. В Москве чаще слушают поп-музыку, в Петербурге — русский рэп.В\n",
    "3. В понедельник утром в Москве и Питере преобладают разные жанры. вечером пятницы в Москве и Питере преобладают разные жанры\n",
    "\n",
    "\n",
    "**Ход исследования**\n",
    "\n",
    "О качестве данных ничего не известно. Поэтому перед проверкой гипотез понадобится обзор данных. \n",
    "\n",
    "проверить данные на ошибки и оценить их влияние на исследование.исправить самые критичные ошибки данных на этапе предобработки.\n",
    " \n",
    "исследование пройдёт в четыре этапа:\n",
    " 1. [Обзор данных](#summary)\n",
    " 2. [Предобработка данных](#eda)\n",
    " 3. [Проверка гипотез](#testing)\n",
    " 4. [Подведение итогов и написание выводов](#result)\n",
    "\n"
   ]
  },
  {
   "cell_type": "markdown",
   "metadata": {
    "deletable": false,
    "editable": false,
    "id": "Ml1hmfXC_Zcs"
   },
   "source": [
    "<a id=\"summary\"></a>\n",
    "### Обзор данных\n",
    "\n",
    "Составим первое представление о данных Яндекс Музыки.\n"
   ]
  },
  {
   "cell_type": "code",
   "execution_count": 1,
   "metadata": {
    "deletable": false,
    "id": "AXN7PHPN_Zcs"
   },
   "outputs": [],
   "source": [
    "import pandas as pd\n",
    "import matplotlib.pyplot as plt"
   ]
  },
  {
   "cell_type": "code",
   "execution_count": 2,
   "metadata": {},
   "outputs": [],
   "source": [
    "df = pd.read_csv('C:\\\\Users\\\\Freo\\\\Desktop\\\\projects\\\\datasets\\\\p0.csv')"
   ]
  },
  {
   "cell_type": "code",
   "execution_count": 3,
   "metadata": {
    "deletable": false,
    "id": "oWTVX3gW_Zct"
   },
   "outputs": [
    {
     "name": "stdout",
     "output_type": "stream",
     "text": [
      "     userID                        Track            artist   genre  \\\n",
      "0  FFB692EC            Kamigata To Boots  The Mass Missile    rock   \n",
      "1  55204538  Delayed Because of Accident  Andreas Rönnberg    rock   \n",
      "2    20EC38            Funiculì funiculà       Mario Lanza     pop   \n",
      "3  A3DD03C9        Dragons in the Sunset        Fire + Ice    folk   \n",
      "4  E2DC1FAE                  Soul People        Space Echo   dance   \n",
      "5  842029A1                    Преданная         IMPERVTOR  rusrap   \n",
      "6  4CB90AA5                         True      Roman Messer   dance   \n",
      "7  F03E1C1F             Feeling This Way   Polina Griffith   dance   \n",
      "8  8FA1D3BE     И вновь продолжается бой               NaN  ruspop   \n",
      "9  E772D5C0                    Pessimist               NaN   dance   \n",
      "\n",
      "             City        time        Day  \n",
      "0  Saint-Petersburg  20:28:33  Wednesday  \n",
      "1            Moscow  14:07:09     Friday  \n",
      "2  Saint-Petersburg  20:58:07  Wednesday  \n",
      "3  Saint-Petersburg  08:37:09     Monday  \n",
      "4            Moscow  08:34:34     Monday  \n",
      "5  Saint-Petersburg  13:09:41     Friday  \n",
      "6            Moscow  13:00:07  Wednesday  \n",
      "7            Moscow  20:47:49  Wednesday  \n",
      "8            Moscow  09:17:40     Friday  \n",
      "9  Saint-Petersburg  21:20:49  Wednesday  \n"
     ]
    }
   ],
   "source": [
    "print(df.head(10))"
   ]
  },
  {
   "cell_type": "code",
   "execution_count": 4,
   "metadata": {
    "deletable": false,
    "id": "DSf2kIb-_Zct"
   },
   "outputs": [
    {
     "name": "stdout",
     "output_type": "stream",
     "text": [
      "<class 'pandas.core.frame.DataFrame'>\n",
      "RangeIndex: 65079 entries, 0 to 65078\n",
      "Data columns (total 7 columns):\n",
      " #   Column    Non-Null Count  Dtype \n",
      "---  ------    --------------  ----- \n",
      " 0     userID  65079 non-null  object\n",
      " 1   Track     63848 non-null  object\n",
      " 2   artist    57876 non-null  object\n",
      " 3   genre     63881 non-null  object\n",
      " 4     City    65079 non-null  object\n",
      " 5   time      65079 non-null  object\n",
      " 6   Day       65079 non-null  object\n",
      "dtypes: object(7)\n",
      "memory usage: 3.5+ MB\n"
     ]
    }
   ],
   "source": [
    "df.info()"
   ]
  },
  {
   "cell_type": "markdown",
   "metadata": {
    "deletable": false,
    "editable": false,
    "id": "TaQ2Iwbr_Zct"
   },
   "source": [
    "в таблице семь столбцов. Тип данных во всех столбцах — `object`.\n",
    "\n",
    "Согласно документации к данным:\n",
    "* `userID` — идентификатор пользователя;\n",
    "* `Track` — название трека;  \n",
    "* `artist` — имя исполнителя;\n",
    "* `genre` — название жанра;\n",
    "* `City` — город пользователя;\n",
    "* `time` — время начала прослушивания;\n",
    "* `Day` — день недели.\n",
    "\n",
    "Количество значений в столбцах различается, значит, в данных есть пропущенные значения."
   ]
  },
  {
   "cell_type": "markdown",
   "metadata": {
    "deletable": false,
    "editable": false,
    "id": "MCB6-dXG_Zct"
   },
   "source": [
    "**Выводы**\n",
    "\n",
    "В каждой строке таблицы — данные о прослушанном треке. Часть колонок описывает саму композицию: название, исполнителя и жанр. Остальные данные рассказывают о пользователе: из какого он города, когда он слушал музыку. \n",
    "\n",
    "Предварительно можно утверждать, что данных достаточно для проверки гипотез. в данных встречаются пропуски"
   ]
  },
  {
   "cell_type": "markdown",
   "metadata": {
    "deletable": false,
    "editable": false,
    "id": "SjYF6Ub9_Zct"
   },
   "source": [
    "<a id=\"eda\"></a>\n",
    "## Предобработка данных\n"
   ]
  },
  {
   "cell_type": "markdown",
   "metadata": {},
   "source": [
    "переименовать столбцы\n",
    "обработать пропущенные значения и дубликаты"
   ]
  },
  {
   "cell_type": "code",
   "execution_count": 5,
   "metadata": {
    "deletable": false,
    "id": "oKOTdF_Q_Zct"
   },
   "outputs": [
    {
     "name": "stdout",
     "output_type": "stream",
     "text": [
      "Index(['  userID', 'Track', 'artist', 'genre', '  City  ', 'time', 'Day'], dtype='object')\n"
     ]
    }
   ],
   "source": [
    "print(df.columns)"
   ]
  },
  {
   "cell_type": "code",
   "execution_count": 6,
   "metadata": {
    "deletable": false,
    "id": "ISlFqs5y_Zct",
    "scrolled": true
   },
   "outputs": [],
   "source": [
    "new_columns = {\n",
    "    '  userID':'user_id',\n",
    "    'Track':'track',\n",
    "    '  City  ':'city',\n",
    "    'Day':'day'\n",
    "}\n",
    "df=df.rename(columns=new_columns)"
   ]
  },
  {
   "cell_type": "code",
   "execution_count": 7,
   "metadata": {
    "deletable": false,
    "id": "d4NOAmTW_Zct"
   },
   "outputs": [
    {
     "name": "stdout",
     "output_type": "stream",
     "text": [
      "Index(['user_id', 'track', 'artist', 'genre', 'city', 'time', 'day'], dtype='object')\n"
     ]
    }
   ],
   "source": [
    "print(df.columns)"
   ]
  },
  {
   "cell_type": "markdown",
   "metadata": {
    "deletable": false,
    "editable": false,
    "id": "5ISfbcfY_Zct",
    "tags": [
     "start_task"
    ]
   },
   "source": [
    "### Пропуски\n",
    "\n"
   ]
  },
  {
   "cell_type": "code",
   "execution_count": 8,
   "metadata": {
    "deletable": false,
    "id": "RskX29qr_Zct"
   },
   "outputs": [
    {
     "name": "stdout",
     "output_type": "stream",
     "text": [
      "user_id       0\n",
      "track      1231\n",
      "artist     7203\n",
      "genre      1198\n",
      "city          0\n",
      "time          0\n",
      "day           0\n",
      "dtype: int64\n"
     ]
    }
   ],
   "source": [
    "print(df.isna().sum())\n"
   ]
  },
  {
   "cell_type": "markdown",
   "metadata": {
    "deletable": false,
    "editable": false,
    "id": "qubhgnlO_Zct"
   },
   "source": [
    "пропуски в `track` и `artist` не важны для исследования, заменим их явными обозначениями.\n",
    "\n",
    "пропуски в `genre` могут помешать сравнению музыкальных вкусов в Москве и Санкт-Петербурге.\n",
    "* заполним и эти пропуски явными обозначениями;\n",
    "* оценим, насколько они повредят расчётам. "
   ]
  },
  {
   "cell_type": "code",
   "execution_count": 9,
   "metadata": {
    "deletable": false,
    "id": "KplB5qWs_Zct"
   },
   "outputs": [],
   "source": [
    "columns_to_replace = ['track','artist','genre']\n",
    "for column in columns_to_replace:\n",
    "    df[column] = df[column].fillna('unknown')\n"
   ]
  },
  {
   "cell_type": "code",
   "execution_count": 10,
   "metadata": {
    "deletable": false,
    "id": "Tq4nYRX4_Zct"
   },
   "outputs": [
    {
     "name": "stdout",
     "output_type": "stream",
     "text": [
      "user_id    0\n",
      "track      0\n",
      "artist     0\n",
      "genre      0\n",
      "city       0\n",
      "time       0\n",
      "day        0\n",
      "dtype: int64\n"
     ]
    }
   ],
   "source": [
    "print(df.isna().sum())"
   ]
  },
  {
   "cell_type": "markdown",
   "metadata": {
    "deletable": false,
    "editable": false,
    "id": "BWKRtBJ3_Zct",
    "tags": [
     "start_task"
    ]
   },
   "source": [
    "### Дубликаты"
   ]
  },
  {
   "cell_type": "code",
   "execution_count": 11,
   "metadata": {
    "deletable": false,
    "id": "36eES_S0_Zct"
   },
   "outputs": [
    {
     "name": "stdout",
     "output_type": "stream",
     "text": [
      "3826\n"
     ]
    }
   ],
   "source": [
    "print(df.duplicated().sum())\n"
   ]
  },
  {
   "cell_type": "code",
   "execution_count": 12,
   "metadata": {
    "deletable": false,
    "id": "exFHq6tt_Zct"
   },
   "outputs": [],
   "source": [
    "df=df.drop_duplicates()"
   ]
  },
  {
   "cell_type": "code",
   "execution_count": 13,
   "metadata": {
    "deletable": false,
    "id": "-8PuNWQ0_Zct"
   },
   "outputs": [
    {
     "name": "stdout",
     "output_type": "stream",
     "text": [
      "0\n"
     ]
    }
   ],
   "source": [
    "print(df.duplicated().sum())"
   ]
  },
  {
   "cell_type": "markdown",
   "metadata": {},
   "source": [
    "рассмотрим значения столбца жанра чтобы найти неявные дубликаты"
   ]
  },
  {
   "cell_type": "code",
   "execution_count": 14,
   "metadata": {
    "deletable": false,
    "id": "JIUcqzZN_Zct"
   },
   "outputs": [
    {
     "name": "stdout",
     "output_type": "stream",
     "text": [
      "['acid' 'acoustic' 'action' 'adult' 'africa' 'afrikaans' 'alternative'\n",
      " 'alternativepunk' 'ambient' 'americana' 'animated' 'anime' 'arabesk'\n",
      " 'arabic' 'arena' 'argentinetango' 'art' 'audiobook' 'author' 'avantgarde'\n",
      " 'axé' 'baile' 'balkan' 'beats' 'bigroom' 'black' 'bluegrass' 'blues'\n",
      " 'bollywood' 'bossa' 'brazilian' 'breakbeat' 'breaks' 'broadway'\n",
      " 'cantautori' 'cantopop' 'canzone' 'caribbean' 'caucasian' 'celtic'\n",
      " 'chamber' 'chanson' 'children' 'chill' 'chinese' 'choral' 'christian'\n",
      " 'christmas' 'classical' 'classicmetal' 'club' 'colombian' 'comedy'\n",
      " 'conjazz' 'contemporary' 'country' 'cuban' 'dance' 'dancehall' 'dancepop'\n",
      " 'dark' 'death' 'deep' 'deutschrock' 'deutschspr' 'dirty' 'disco' 'dnb'\n",
      " 'documentary' 'downbeat' 'downtempo' 'drum' 'dub' 'dubstep' 'eastern'\n",
      " 'easy' 'electronic' 'electropop' 'emo' 'entehno' 'epicmetal' 'estrada'\n",
      " 'ethnic' 'eurofolk' 'european' 'experimental' 'extrememetal' 'fado'\n",
      " 'fairytail' 'film' 'fitness' 'flamenco' 'folk' 'folklore' 'folkmetal'\n",
      " 'folkrock' 'folktronica' 'forró' 'frankreich' 'französisch' 'french'\n",
      " 'funk' 'future' 'gangsta' 'garage' 'german' 'ghazal' 'gitarre' 'glitch'\n",
      " 'gospel' 'gothic' 'grime' 'grunge' 'gypsy' 'handsup' \"hard'n'heavy\"\n",
      " 'hardcore' 'hardstyle' 'hardtechno' 'hip' 'hip-hop' 'hiphop' 'historisch'\n",
      " 'holiday' 'hop' 'horror' 'house' 'hymn' 'idm' 'independent' 'indian'\n",
      " 'indie' 'indipop' 'industrial' 'inspirational' 'instrumental'\n",
      " 'international' 'irish' 'jam' 'japanese' 'jazz' 'jewish' 'jpop' 'jungle'\n",
      " 'k-pop' 'karadeniz' 'karaoke' 'kayokyoku' 'korean' 'laiko' 'latin'\n",
      " 'latino' 'leftfield' 'local' 'lounge' 'loungeelectronic' 'lovers'\n",
      " 'malaysian' 'mandopop' 'marschmusik' 'meditative' 'mediterranean'\n",
      " 'melodic' 'metal' 'metalcore' 'mexican' 'middle' 'minimal'\n",
      " 'miscellaneous' 'modern' 'mood' 'mpb' 'muslim' 'native' 'neoklassik'\n",
      " 'neue' 'new' 'newage' 'newwave' 'nu' 'nujazz' 'numetal' 'oceania' 'old'\n",
      " 'opera' 'orchestral' 'other' 'piano' 'podcasts' 'pop' 'popdance'\n",
      " 'popelectronic' 'popeurodance' 'poprussian' 'post' 'posthardcore'\n",
      " 'postrock' 'power' 'progmetal' 'progressive' 'psychedelic' 'punjabi'\n",
      " 'punk' 'quebecois' 'ragga' 'ram' 'rancheras' 'rap' 'rave' 'reggae'\n",
      " 'reggaeton' 'regional' 'relax' 'religious' 'retro' 'rhythm' 'rnb' 'rnr'\n",
      " 'rock' 'rockabilly' 'rockalternative' 'rockindie' 'rockother' 'romance'\n",
      " 'roots' 'ruspop' 'rusrap' 'rusrock' 'russian' 'salsa' 'samba' 'scenic'\n",
      " 'schlager' 'self' 'sertanejo' 'shanson' 'shoegazing' 'showtunes' 'singer'\n",
      " 'ska' 'skarock' 'slow' 'smooth' 'soft' 'soul' 'soulful' 'sound'\n",
      " 'soundtrack' 'southern' 'specialty' 'speech' 'spiritual' 'sport'\n",
      " 'stonerrock' 'surf' 'swing' 'synthpop' 'synthrock' 'sängerportrait'\n",
      " 'tango' 'tanzorchester' 'taraftar' 'tatar' 'tech' 'techno' 'teen'\n",
      " 'thrash' 'top' 'traditional' 'tradjazz' 'trance' 'tribal' 'trip'\n",
      " 'triphop' 'tropical' 'türk' 'türkçe' 'ukrrock' 'unknown' 'urban' 'uzbek'\n",
      " 'variété' 'vi' 'videogame' 'vocal' 'western' 'world' 'worldbeat' 'ïîï'\n",
      " 'электроника']\n"
     ]
    }
   ],
   "source": [
    "print(df['genre'].sort_values().unique())"
   ]
  },
  {
   "cell_type": "code",
   "execution_count": 15,
   "metadata": {
    "deletable": false,
    "id": "ErNDkmns_Zct"
   },
   "outputs": [],
   "source": [
    "df['genre'] = df['genre'].replace(['hip','hop','hip-hop'],'hiphop')\n",
    "df['genre'] = df['genre'].replace('afrikaans','africa')\n",
    "df['genre'] = df['genre'].replace('animated','anime')\n",
    "df['genre'] = df['genre'].replace('электроника','electronic')\n",
    "df['genre'] = df['genre'].replace('türk','türkçe')"
   ]
  },
  {
   "cell_type": "markdown",
   "metadata": {
    "deletable": false,
    "editable": false,
    "id": "jz6a9-7HQUDd"
   },
   "source": [
    "**Выводы**\n",
    "\n",
    "Предобработка обнаружила три проблемы в данных:\n",
    "\n",
    "- нарушения в стиле заголовков,\n",
    "- пропущенные значения,\n",
    "- дубликаты — явные и неявные.\n",
    "\n",
    "исправили заголовки, чтобы упростить работу с таблицей. Без дубликатов исследование станет более точным.\n",
    "\n",
    "Пропущенные значения заменили на 'unknown'. Ещё предстоит увидеть, не повредят ли исследованию пропуски в колонке 'genre'."
   ]
  },
  {
   "cell_type": "markdown",
   "metadata": {},
   "source": [
    "<a id=\"testing\"></a>"
   ]
  },
  {
   "cell_type": "markdown",
   "metadata": {
    "deletable": false,
    "editable": false,
    "id": "WttZHXH0SqKk"
   },
   "source": [
    "<a id=\"testing\"></a>\n",
    "## Проверка гипотез"
   ]
  },
  {
   "cell_type": "markdown",
   "metadata": {
    "deletable": false,
    "editable": false,
    "id": "Im936VVi_Zcu"
   },
   "source": [
    "### Сравнение поведения пользователей двух \n",
    "\n",
    "Первая гипотеза утверждает, что пользователи по-разному слушают музыку в Москве и Санкт-Петербурге. Проверим это сравнив данные по понедельнику, среде и пятнице.\n",
    "\n",
    "* Разделим пользователей Москвы и Санкт-Петербурга.\n",
    "* Сравним, сколько треков послушала каждая группа пользователей в понедельник, среду и пятницу."
   ]
  },
  {
   "cell_type": "code",
   "execution_count": 16,
   "metadata": {},
   "outputs": [
    {
     "name": "stdout",
     "output_type": "stream",
     "text": [
      "city\n",
      "Moscow              42741\n",
      "Saint-Petersburg    18512\n",
      "Name: track, dtype: int64\n"
     ]
    }
   ],
   "source": [
    "city_grp = df.groupby('city')['track'].count()\n",
    "print(city_grp)"
   ]
  },
  {
   "cell_type": "code",
   "execution_count": 17,
   "metadata": {},
   "outputs": [
    {
     "data": {
      "image/png": "[encoded data removed]",
      "text/plain": [
       "<Figure size 600x600 with 1 Axes>"
      ]
     },
     "metadata": {},
     "output_type": "display_data"
    }
   ],
   "source": [
    "city_grp.plot(kind ='pie',figsize=(6,6), subplots=True, title='Сравнение количества прослушиваний треков')\n",
    "plt.gca().get_yaxis().set_visible(False)\n",
    "plt.show()"
   ]
  },
  {
   "cell_type": "markdown",
   "metadata": {
    "deletable": false,
    "editable": false,
    "id": "dzli3w8o_Zcu",
    "tags": [
     "start_task"
    ]
   },
   "source": [
    "В Москве прослушиваний больше, чем в Петербурге. Из этого не следует, что московские пользователи чаще слушают музыку. Просто самих пользователей в Москве больше.\n",
    "\n"
   ]
  },
  {
   "cell_type": "code",
   "execution_count": 18,
   "metadata": {},
   "outputs": [
    {
     "name": "stdout",
     "output_type": "stream",
     "text": [
      "day\n",
      "Friday       21840\n",
      "Monday       21354\n",
      "Wednesday    18059\n",
      "Name: track, dtype: int64\n"
     ]
    }
   ],
   "source": [
    "day_grp = df.groupby('day')['track'].count()\n",
    "print(day_grp)"
   ]
  },
  {
   "cell_type": "code",
   "execution_count": 19,
   "metadata": {},
   "outputs": [
    {
     "data": {
      "image/png": "[encoded data removed]",
      "text/plain": [
       "<Figure size 400x400 with 1 Axes>"
      ]
     },
     "metadata": {},
     "output_type": "display_data"
    }
   ],
   "source": [
    "day_grp.plot(kind ='bar',figsize=(4,4), subplots=True)\n",
    "plt.show()"
   ]
  },
  {
   "cell_type": "markdown",
   "metadata": {
    "deletable": false,
    "editable": false,
    "id": "cC2tNrlL_Zcu"
   },
   "source": [
    "В среднем пользователи из двух городов менее активны по средам. Рассмотрим каждый город в отдельности."
   ]
  },
  {
   "cell_type": "code",
   "execution_count": 20,
   "metadata": {
    "deletable": false,
    "id": "Nz3GdQB1_Zcu"
   },
   "outputs": [],
   "source": [
    "def number_tracks(day, city):\n",
    "    track_list=df[df['day']==day]\n",
    "    track_list=track_list[track_list['city']==city]\n",
    "    track_list_count=track_list['user_id'].count()    \n",
    "    return track_list_count"
   ]
  },
  {
   "cell_type": "code",
   "execution_count": 21,
   "metadata": {
    "deletable": false,
    "id": "rJcRATNQ_Zcu"
   },
   "outputs": [],
   "source": [
    "m_m = number_tracks('Monday','Moscow')\n",
    "m_spb = number_tracks('Monday','Saint-Petersburg')\n",
    "w_m = number_tracks('Wednesday','Moscow')\n",
    "w_spb = number_tracks('Wednesday','Saint-Petersburg')\n",
    "f_m = number_tracks('Friday','Moscow')\n",
    "f_spb = number_tracks('Friday','Saint-Petersburg')"
   ]
  },
  {
   "cell_type": "code",
   "execution_count": 22,
   "metadata": {},
   "outputs": [
    {
     "data": {
      "text/html": [
       "<div>\n",
       "<style scoped>\n",
       "    .dataframe tbody tr th:only-of-type {\n",
       "        vertical-align: middle;\n",
       "    }\n",
       "\n",
       "    .dataframe tbody tr th {\n",
       "        vertical-align: top;\n",
       "    }\n",
       "\n",
       "    .dataframe thead th {\n",
       "        text-align: right;\n",
       "    }\n",
       "</style>\n",
       "<table border=\"1\" class=\"dataframe\">\n",
       "  <thead>\n",
       "    <tr style=\"text-align: right;\">\n",
       "      <th></th>\n",
       "      <th>Moscow</th>\n",
       "      <th>Saint-Petersburg</th>\n",
       "    </tr>\n",
       "  </thead>\n",
       "  <tbody>\n",
       "    <tr>\n",
       "      <th>monday</th>\n",
       "      <td>15740</td>\n",
       "      <td>5614</td>\n",
       "    </tr>\n",
       "    <tr>\n",
       "      <th>wednesday</th>\n",
       "      <td>11056</td>\n",
       "      <td>7003</td>\n",
       "    </tr>\n",
       "    <tr>\n",
       "      <th>friday</th>\n",
       "      <td>15945</td>\n",
       "      <td>5895</td>\n",
       "    </tr>\n",
       "  </tbody>\n",
       "</table>\n",
       "</div>"
      ],
      "text/plain": [
       "           Moscow  Saint-Petersburg\n",
       "monday      15740              5614\n",
       "wednesday   11056              7003\n",
       "friday      15945              5895"
      ]
     },
     "metadata": {},
     "output_type": "display_data"
    }
   ],
   "source": [
    "columns_for_df=['Moscow','Saint-Petersburg']\n",
    "data_count=[[m_m,m_spb],[w_m,w_spb],[f_m,f_spb]]\n",
    "\n",
    "result_table_mwf = pd.DataFrame(data=data_count,columns=columns_for_df, index=['monday', 'wednesday', 'friday'])\n",
    "display(result_table_mwf)"
   ]
  },
  {
   "cell_type": "code",
   "execution_count": 23,
   "metadata": {},
   "outputs": [
    {
     "data": {
      "text/plain": [
       "<Axes: >"
      ]
     },
     "execution_count": 23,
     "metadata": {},
     "output_type": "execute_result"
    },
    {
     "data": {
      "image/png": "[encoded data removed]",
      "text/plain": [
       "<Figure size 640x480 with 1 Axes>"
      ]
     },
     "metadata": {},
     "output_type": "display_data"
    }
   ],
   "source": [
    "result_table_mwf.plot(kind='bar')"
   ]
  },
  {
   "cell_type": "markdown",
   "metadata": {
    "deletable": false,
    "editable": false,
    "id": "-EgPIHYu_Zcu"
   },
   "source": [
    "**Выводы**\n",
    "\n",
    "Данные показывают разницу поведения пользователей:\n",
    "\n",
    "- В Москве пик прослушиваний приходится на понедельник и пятницу, а в среду заметен спад.\n",
    "- В Петербурге, наоборот, больше слушают музыку по средам, а в понедельник и пятницу спад.\n",
    "\n",
    "данные говорят в пользу первой гипотезы."
   ]
  },
  {
   "cell_type": "markdown",
   "metadata": {
    "deletable": false,
    "editable": false,
    "id": "eXrQqXFH_Zcu"
   },
   "source": [
    "проверим вторую гипотезу:\n",
    "* утром в понедельник в преобладают разные жанры \n",
    "* вечером пятницы преобладают разные жанры"
   ]
  },
  {
   "cell_type": "code",
   "execution_count": 24,
   "metadata": {
    "deletable": false,
    "id": "qeaFfM_P_Zcu"
   },
   "outputs": [],
   "source": [
    "moscow_general = df[df['city']=='Moscow']\n",
    "spb_general = df[df['city']=='Saint-Petersburg']"
   ]
  },
  {
   "cell_type": "markdown",
   "metadata": {},
   "source": [
    "создадим функцию 'genre_weekday' с параметрами table, day, time1, time2, которая возвращает информацию о самых популярных жанрах в указанный день в заданное время"
   ]
  },
  {
   "cell_type": "code",
   "execution_count": 25,
   "metadata": {
    "deletable": false,
    "id": "laJT9BYl_Zcu"
   },
   "outputs": [],
   "source": [
    "def genre_weekday(df, day, time1, time2):\n",
    "    genre_df = df[df['day']==day]\n",
    "    genre_df = genre_df[genre_df['time']<=time2]\n",
    "    genre_df = genre_df[genre_df['time']>=time1]\n",
    "    genre_df_count = genre_df.groupby('genre')['genre'].count()\n",
    "    genre_df_sorted = genre_df_count.sort_values(ascending=False)\n",
    "    return genre_df_sorted[:10]"
   ]
  },
  {
   "cell_type": "markdown",
   "metadata": {
    "deletable": false,
    "editable": false,
    "id": "la2s2_PF_Zcu",
    "tags": []
   },
   "source": [
    "Cравним результаты функции `genre_weekday()` для Москвы и Санкт-Петербурга в понедельник утром (с 7:00 до 11:00) и в пятницу вечером (с 17:00 до 23:00):"
   ]
  },
  {
   "cell_type": "code",
   "execution_count": 26,
   "metadata": {
    "deletable": false,
    "id": "yz7itPUQ_Zcu"
   },
   "outputs": [
    {
     "name": "stdout",
     "output_type": "stream",
     "text": [
      "genre\n",
      "pop            781\n",
      "dance          549\n",
      "electronic     480\n",
      "rock           474\n",
      "hiphop         286\n",
      "ruspop         186\n",
      "world          181\n",
      "rusrap         175\n",
      "alternative    164\n",
      "unknown        161\n",
      "Name: genre, dtype: int64\n"
     ]
    }
   ],
   "source": [
    "print(genre_weekday(moscow_general,'Monday','07:00','11:00'))"
   ]
  },
  {
   "cell_type": "code",
   "execution_count": 27,
   "metadata": {
    "deletable": false,
    "id": "kwUcHPdy_Zcu"
   },
   "outputs": [
    {
     "name": "stdout",
     "output_type": "stream",
     "text": [
      "genre\n",
      "pop            218\n",
      "dance          182\n",
      "rock           162\n",
      "electronic     147\n",
      "hiphop          80\n",
      "ruspop          64\n",
      "alternative     58\n",
      "rusrap          55\n",
      "jazz            44\n",
      "classical       40\n",
      "Name: genre, dtype: int64\n"
     ]
    }
   ],
   "source": [
    "print(genre_weekday(spb_general,'Monday','07:00','11:00'))\n"
   ]
  },
  {
   "cell_type": "code",
   "execution_count": 28,
   "metadata": {
    "deletable": false,
    "id": "EzXVRE1o_Zcu"
   },
   "outputs": [
    {
     "name": "stdout",
     "output_type": "stream",
     "text": [
      "genre\n",
      "pop            713\n",
      "rock           517\n",
      "dance          495\n",
      "electronic     482\n",
      "hiphop         273\n",
      "world          208\n",
      "ruspop         170\n",
      "alternative    163\n",
      "classical      163\n",
      "rusrap         142\n",
      "Name: genre, dtype: int64\n"
     ]
    }
   ],
   "source": [
    "print(genre_weekday(moscow_general,'Friday','17:00','23:00'))\n"
   ]
  },
  {
   "cell_type": "code",
   "execution_count": 29,
   "metadata": {
    "deletable": false,
    "id": "JZaEKu5v_Zcu"
   },
   "outputs": [
    {
     "name": "stdout",
     "output_type": "stream",
     "text": [
      "genre\n",
      "pop            256\n",
      "electronic     216\n",
      "rock           216\n",
      "dance          210\n",
      "hiphop          97\n",
      "alternative     63\n",
      "jazz            61\n",
      "classical       60\n",
      "rusrap          59\n",
      "world           54\n",
      "Name: genre, dtype: int64\n"
     ]
    }
   ],
   "source": [
    "print(genre_weekday(spb_general,'Friday','17:00','23:00'))"
   ]
  },
  {
   "cell_type": "markdown",
   "metadata": {
    "deletable": false,
    "editable": false,
    "id": "wrCe4MNX_Zcu"
   },
   "source": [
    "**Выводы**\n",
    "\n",
    "Если сравнить топ-10 жанров в понедельник утром, можно сделать такие выводы:\n",
    "\n",
    "1. В Москве и Петербурге слушают похожую музыку. Единственное отличие — в московский рейтинг вошёл жанр “world”, а в петербургский — джаз и классика.\n",
    "\n",
    "2. В Москве пропущенных значений оказалось так много, что значение `'unknown'` заняло десятое место среди самых популярных жанров. Значит, пропущенные значения занимают существенную долю в данных и угрожают достоверности исследования.\n",
    "\n",
    "Вечер пятницы не меняет эту картину. Некоторые жанры поднимаются немного выше, другие спускаются, но в целом топ-10 остаётся тем же самым.\n",
    "\n",
    "Таким образом, вторая гипотеза подтвердилась лишь частично:\n",
    "* Пользователи слушают похожую музыку в начале недели и в конце.\n",
    "* Разница между Москвой и Петербургом не слишком выражена. В Москве чаще слушают русскую популярную музыку, в Петербурге — джаз.\n",
    "\n",
    "Однако пропуски в данных ставят под сомнение этот результат. В Москве их так много, что рейтинг топ-10 мог бы выглядеть иначе, если бы не утерянные  данные о жанрах."
   ]
  },
  {
   "cell_type": "markdown",
   "metadata": {
    "deletable": false,
    "editable": false,
    "id": "JolODAqr_Zcu"
   },
   "source": [
    "### Жанровые предпочтения в Москве и Петербурге\n",
    "\n",
    "Гипотеза: в Москве и СПБ разные жанровые предпочтения"
   ]
  },
  {
   "cell_type": "code",
   "execution_count": 30,
   "metadata": {
    "deletable": false,
    "id": "r19lIPke_Zcu"
   },
   "outputs": [],
   "source": [
    "moscow_genres=moscow_general.groupby('genre')['genre'].count().sort_values(ascending=False)\n",
    "spb_genres=spb_general.groupby('genre')['genre'].count().sort_values(ascending=False)"
   ]
  },
  {
   "cell_type": "code",
   "execution_count": 31,
   "metadata": {
    "deletable": false,
    "id": "WhCSooF8_Zcv"
   },
   "outputs": [
    {
     "name": "stdout",
     "output_type": "stream",
     "text": [
      "genre\n",
      "pop            5892\n",
      "dance          4435\n",
      "rock           3965\n",
      "electronic     3786\n",
      "hiphop         2096\n",
      "classical      1616\n",
      "world          1432\n",
      "alternative    1379\n",
      "ruspop         1372\n",
      "rusrap         1161\n",
      "Name: genre, dtype: int64\n"
     ]
    }
   ],
   "source": [
    "print(moscow_genres.head(10))"
   ]
  },
  {
   "cell_type": "code",
   "execution_count": 32,
   "metadata": {
    "deletable": false,
    "id": "uaGJHjVU_Zcv"
   },
   "outputs": [
    {
     "name": "stdout",
     "output_type": "stream",
     "text": [
      "genre\n",
      "pop            2431\n",
      "dance          1932\n",
      "rock           1879\n",
      "electronic     1737\n",
      "hiphop          960\n",
      "alternative     649\n",
      "classical       646\n",
      "rusrap          564\n",
      "ruspop          538\n",
      "world           515\n",
      "Name: genre, dtype: int64\n"
     ]
    }
   ],
   "source": [
    "print(spb_genres.head(10))"
   ]
  },
  {
   "cell_type": "markdown",
   "metadata": {
    "deletable": false,
    "editable": false,
    "id": "RY51YJYu_Zcv"
   },
   "source": [
    "**Выводы**"
   ]
  },
  {
   "cell_type": "markdown",
   "metadata": {
    "deletable": false,
    "editable": false,
    "id": "nVhnJEm__Zcv"
   },
   "source": [
    "Гипотеза о разнице в любимых жарнров не подтвердилась:\n",
    "* Поп-музыка — самый популярный жанр в обоих городах, да и весь топ10 сильно совпадает\n"
   ]
  },
  {
   "cell_type": "markdown",
   "metadata": {
    "deletable": false,
    "editable": false,
    "id": "ykKQ0N65_Zcv"
   },
   "source": [
    "<a id=\"result\"></a>\n",
    "## Итоги исследования"
   ]
  },
  {
   "cell_type": "markdown",
   "metadata": {
    "deletable": false,
    "editable": false,
    "id": "tjUwbHb3_Zcv"
   },
   "source": [
    "проверили три гипотезы и установили:\n",
    "\n",
    "1. День недели по-разному влияет на активность пользователей в Москве и Петербурге. \n",
    "\n",
    "Первая гипотеза полностью подтвердилась.\n",
    "\n",
    "2. Музыкальные предпочтения не сильно меняются в течение недели — будь то Москва или Петербург. Небольшие различия заметны в начале недели, по понедельникам:\n",
    "* в Москве слушают музыку жанра “world”,\n",
    "* в Петербурге — джаз и классику.\n",
    "\n",
    "вторая гипотеза подтвердилась лишь отчасти. Этот результат мог оказаться иным, если бы не пропуски в данных.\n",
    "\n",
    "3. Во вкусах пользователей Москвы и Петербурга больше общего чем различий. Вопреки ожиданиям, предпочтения жанров в Петербурге напоминают Московские.\n",
    "\n",
    "Третья гипотеза не подтвердилась. Если различия в предпочтениях и существуют, на основной массе пользователей они незаметны.\n",
    "\n"
   ]
  }
 ],
 "metadata": {
  "ExecuteTimeLog": [
   {
    "duration": 51,
    "start_time": "2022-07-30T12:15:32.349Z"
   },
   {
    "duration": 95,
    "start_time": "2022-07-30T12:15:40.357Z"
   },
   {
    "duration": 258,
    "start_time": "2022-07-30T12:16:16.532Z"
   },
   {
    "duration": 163,
    "start_time": "2022-07-30T12:16:19.229Z"
   },
   {
    "duration": 47,
    "start_time": "2022-07-30T12:16:35.875Z"
   },
   {
    "duration": 383,
    "start_time": "2022-07-30T12:17:06.372Z"
   },
   {
    "duration": 170,
    "start_time": "2022-07-30T12:17:09.862Z"
   },
   {
    "duration": 24,
    "start_time": "2022-07-30T12:18:18.374Z"
   },
   {
    "duration": 30,
    "start_time": "2022-07-30T12:18:41.700Z"
   },
   {
    "duration": 3,
    "start_time": "2022-07-30T12:27:29.875Z"
   },
   {
    "duration": 3,
    "start_time": "2022-07-30T12:28:58.114Z"
   },
   {
    "duration": 61,
    "start_time": "2022-07-30T12:33:37.548Z"
   },
   {
    "duration": 4,
    "start_time": "2022-07-30T12:34:18.546Z"
   },
   {
    "duration": 74,
    "start_time": "2022-07-30T12:35:23.646Z"
   },
   {
    "duration": 381,
    "start_time": "2022-07-30T12:35:33.073Z"
   },
   {
    "duration": 209,
    "start_time": "2022-07-30T12:35:33.457Z"
   },
   {
    "duration": 21,
    "start_time": "2022-07-30T12:35:33.668Z"
   },
   {
    "duration": 51,
    "start_time": "2022-07-30T12:35:33.692Z"
   },
   {
    "duration": 12,
    "start_time": "2022-07-30T12:35:33.745Z"
   },
   {
    "duration": 8,
    "start_time": "2022-07-30T12:35:33.759Z"
   },
   {
    "duration": 48,
    "start_time": "2022-07-30T12:35:33.769Z"
   },
   {
    "duration": 6,
    "start_time": "2022-07-30T12:35:33.832Z"
   },
   {
    "duration": 24,
    "start_time": "2022-07-30T12:35:33.840Z"
   },
   {
    "duration": 5,
    "start_time": "2022-07-30T12:35:33.868Z"
   },
   {
    "duration": 6,
    "start_time": "2022-07-30T12:35:33.874Z"
   },
   {
    "duration": 9,
    "start_time": "2022-07-30T12:35:33.882Z"
   },
   {
    "duration": 7,
    "start_time": "2022-07-30T12:35:33.892Z"
   },
   {
    "duration": 6,
    "start_time": "2022-07-30T12:35:33.901Z"
   },
   {
    "duration": 8,
    "start_time": "2022-07-30T12:35:33.908Z"
   },
   {
    "duration": 31,
    "start_time": "2022-07-30T12:35:33.918Z"
   },
   {
    "duration": 7,
    "start_time": "2022-07-30T12:35:33.950Z"
   },
   {
    "duration": 8,
    "start_time": "2022-07-30T12:35:33.959Z"
   },
   {
    "duration": 9,
    "start_time": "2022-07-30T12:35:33.969Z"
   },
   {
    "duration": 6,
    "start_time": "2022-07-30T12:35:33.980Z"
   },
   {
    "duration": 8,
    "start_time": "2022-07-30T12:35:33.987Z"
   },
   {
    "duration": 4,
    "start_time": "2022-07-30T12:35:33.997Z"
   },
   {
    "duration": 6,
    "start_time": "2022-07-30T12:35:34.003Z"
   },
   {
    "duration": 6,
    "start_time": "2022-07-30T12:35:34.011Z"
   },
   {
    "duration": 35,
    "start_time": "2022-07-30T12:35:34.019Z"
   },
   {
    "duration": 5,
    "start_time": "2022-07-30T12:35:34.056Z"
   },
   {
    "duration": 8,
    "start_time": "2022-07-30T12:35:34.063Z"
   },
   {
    "duration": 5,
    "start_time": "2022-07-30T12:35:34.076Z"
   },
   {
    "duration": 6,
    "start_time": "2022-07-30T12:35:34.084Z"
   },
   {
    "duration": 63,
    "start_time": "2022-07-30T12:35:34.092Z"
   },
   {
    "duration": 0,
    "start_time": "2022-07-30T12:35:34.157Z"
   },
   {
    "duration": 0,
    "start_time": "2022-07-30T12:35:34.158Z"
   },
   {
    "duration": 0,
    "start_time": "2022-07-30T12:35:34.159Z"
   },
   {
    "duration": 0,
    "start_time": "2022-07-30T12:35:34.161Z"
   },
   {
    "duration": 0,
    "start_time": "2022-07-30T12:35:34.162Z"
   },
   {
    "duration": 0,
    "start_time": "2022-07-30T12:35:34.164Z"
   },
   {
    "duration": 0,
    "start_time": "2022-07-30T12:35:34.165Z"
   },
   {
    "duration": 0,
    "start_time": "2022-07-30T12:35:34.166Z"
   },
   {
    "duration": 466,
    "start_time": "2022-07-30T12:38:11.801Z"
   },
   {
    "duration": 221,
    "start_time": "2022-07-30T12:38:13.543Z"
   },
   {
    "duration": 29,
    "start_time": "2022-07-30T12:38:14.316Z"
   },
   {
    "duration": 45,
    "start_time": "2022-07-30T12:38:16.036Z"
   },
   {
    "duration": 6,
    "start_time": "2022-07-30T12:38:18.019Z"
   },
   {
    "duration": 9,
    "start_time": "2022-07-30T12:38:23.334Z"
   },
   {
    "duration": 17,
    "start_time": "2022-07-30T12:38:43.004Z"
   },
   {
    "duration": 434,
    "start_time": "2022-07-30T12:40:21.029Z"
   },
   {
    "duration": 187,
    "start_time": "2022-07-30T12:40:22.807Z"
   },
   {
    "duration": 24,
    "start_time": "2022-07-30T12:40:25.165Z"
   },
   {
    "duration": 58,
    "start_time": "2022-07-30T12:40:26.295Z"
   },
   {
    "duration": 2,
    "start_time": "2022-07-30T12:40:32.407Z"
   },
   {
    "duration": 5,
    "start_time": "2022-07-30T12:40:35.330Z"
   },
   {
    "duration": 29,
    "start_time": "2022-07-30T12:40:40.857Z"
   },
   {
    "duration": 3,
    "start_time": "2022-07-30T12:40:51.155Z"
   },
   {
    "duration": 5,
    "start_time": "2022-07-30T12:41:17.656Z"
   },
   {
    "duration": 4,
    "start_time": "2022-07-30T12:41:19.964Z"
   },
   {
    "duration": 26,
    "start_time": "2022-07-30T12:41:34.652Z"
   },
   {
    "duration": 6,
    "start_time": "2022-07-30T12:41:43.339Z"
   },
   {
    "duration": 4,
    "start_time": "2022-07-30T12:41:45.717Z"
   },
   {
    "duration": 8,
    "start_time": "2022-07-30T12:42:50.066Z"
   },
   {
    "duration": 416,
    "start_time": "2022-07-30T12:43:51.220Z"
   },
   {
    "duration": 165,
    "start_time": "2022-07-30T12:43:51.638Z"
   },
   {
    "duration": 29,
    "start_time": "2022-07-30T12:43:51.805Z"
   },
   {
    "duration": 31,
    "start_time": "2022-07-30T12:43:51.839Z"
   },
   {
    "duration": 3,
    "start_time": "2022-07-30T12:43:51.872Z"
   },
   {
    "duration": 5,
    "start_time": "2022-07-30T12:43:51.877Z"
   },
   {
    "duration": 22,
    "start_time": "2022-07-30T12:43:51.884Z"
   },
   {
    "duration": 31,
    "start_time": "2022-07-30T12:43:51.908Z"
   },
   {
    "duration": 7,
    "start_time": "2022-07-30T12:43:51.941Z"
   },
   {
    "duration": 6,
    "start_time": "2022-07-30T12:43:51.951Z"
   },
   {
    "duration": 7,
    "start_time": "2022-07-30T12:43:51.959Z"
   },
   {
    "duration": 8,
    "start_time": "2022-07-30T12:43:51.968Z"
   },
   {
    "duration": 9,
    "start_time": "2022-07-30T12:43:51.978Z"
   },
   {
    "duration": 5,
    "start_time": "2022-07-30T12:43:51.989Z"
   },
   {
    "duration": 8,
    "start_time": "2022-07-30T12:43:51.995Z"
   },
   {
    "duration": 6,
    "start_time": "2022-07-30T12:43:52.005Z"
   },
   {
    "duration": 5,
    "start_time": "2022-07-30T12:43:52.014Z"
   },
   {
    "duration": 20,
    "start_time": "2022-07-30T12:43:52.020Z"
   },
   {
    "duration": 6,
    "start_time": "2022-07-30T12:43:52.042Z"
   },
   {
    "duration": 8,
    "start_time": "2022-07-30T12:43:52.049Z"
   },
   {
    "duration": 8,
    "start_time": "2022-07-30T12:43:52.058Z"
   },
   {
    "duration": 5,
    "start_time": "2022-07-30T12:43:52.068Z"
   },
   {
    "duration": 6,
    "start_time": "2022-07-30T12:43:52.074Z"
   },
   {
    "duration": 4,
    "start_time": "2022-07-30T12:43:52.081Z"
   },
   {
    "duration": 7,
    "start_time": "2022-07-30T12:43:52.087Z"
   },
   {
    "duration": 7,
    "start_time": "2022-07-30T12:43:52.096Z"
   },
   {
    "duration": 6,
    "start_time": "2022-07-30T12:43:52.105Z"
   },
   {
    "duration": 27,
    "start_time": "2022-07-30T12:43:52.114Z"
   },
   {
    "duration": 8,
    "start_time": "2022-07-30T12:43:52.143Z"
   },
   {
    "duration": 53,
    "start_time": "2022-07-30T12:43:52.153Z"
   },
   {
    "duration": 1,
    "start_time": "2022-07-30T12:43:52.208Z"
   },
   {
    "duration": 0,
    "start_time": "2022-07-30T12:43:52.209Z"
   },
   {
    "duration": 0,
    "start_time": "2022-07-30T12:43:52.211Z"
   },
   {
    "duration": 0,
    "start_time": "2022-07-30T12:43:52.212Z"
   },
   {
    "duration": 0,
    "start_time": "2022-07-30T12:43:52.213Z"
   },
   {
    "duration": 0,
    "start_time": "2022-07-30T12:43:52.214Z"
   },
   {
    "duration": 0,
    "start_time": "2022-07-30T12:43:52.215Z"
   },
   {
    "duration": 0,
    "start_time": "2022-07-30T12:43:52.216Z"
   },
   {
    "duration": 3,
    "start_time": "2022-07-30T12:44:14.364Z"
   },
   {
    "duration": 3,
    "start_time": "2022-07-30T12:44:16.645Z"
   },
   {
    "duration": 13,
    "start_time": "2022-07-30T12:44:33.170Z"
   },
   {
    "duration": 12,
    "start_time": "2022-07-30T12:44:36.007Z"
   },
   {
    "duration": 13,
    "start_time": "2022-07-30T12:44:38.054Z"
   },
   {
    "duration": 16,
    "start_time": "2022-07-30T12:44:56.479Z"
   },
   {
    "duration": 4,
    "start_time": "2022-07-30T12:45:06.604Z"
   },
   {
    "duration": 44,
    "start_time": "2022-07-30T12:46:27.562Z"
   },
   {
    "duration": 97,
    "start_time": "2022-07-30T12:46:41.742Z"
   },
   {
    "duration": 27,
    "start_time": "2022-07-30T12:46:50.079Z"
   },
   {
    "duration": 31,
    "start_time": "2022-07-30T12:47:37.660Z"
   },
   {
    "duration": 32,
    "start_time": "2022-07-30T12:49:09.798Z"
   },
   {
    "duration": 26,
    "start_time": "2022-07-30T12:49:22.794Z"
   },
   {
    "duration": 26,
    "start_time": "2022-07-30T12:49:41.242Z"
   },
   {
    "duration": 31,
    "start_time": "2022-07-30T12:50:31.057Z"
   },
   {
    "duration": 40,
    "start_time": "2022-07-30T12:51:05.112Z"
   },
   {
    "duration": 28,
    "start_time": "2022-07-30T12:51:21.795Z"
   },
   {
    "duration": 64,
    "start_time": "2022-07-30T12:51:32.495Z"
   },
   {
    "duration": 26,
    "start_time": "2022-07-30T12:52:53.542Z"
   },
   {
    "duration": 25,
    "start_time": "2022-07-30T12:53:08.471Z"
   },
   {
    "duration": 8,
    "start_time": "2022-07-30T13:00:47.459Z"
   },
   {
    "duration": 22,
    "start_time": "2022-07-30T13:02:33.377Z"
   },
   {
    "duration": 45,
    "start_time": "2022-07-30T13:03:48.715Z"
   },
   {
    "duration": 42,
    "start_time": "2022-07-30T13:05:22.041Z"
   },
   {
    "duration": 33,
    "start_time": "2022-07-30T13:05:24.108Z"
   },
   {
    "duration": 47,
    "start_time": "2022-07-30T13:06:46.232Z"
   },
   {
    "duration": 59,
    "start_time": "2022-07-30T13:14:40.591Z"
   },
   {
    "duration": 62,
    "start_time": "2022-07-30T13:17:30.945Z"
   },
   {
    "duration": 77,
    "start_time": "2022-07-30T13:17:59.822Z"
   },
   {
    "duration": 451,
    "start_time": "2022-07-30T13:19:46.111Z"
   },
   {
    "duration": 172,
    "start_time": "2022-07-30T13:19:47.697Z"
   },
   {
    "duration": 21,
    "start_time": "2022-07-30T13:19:48.523Z"
   },
   {
    "duration": 31,
    "start_time": "2022-07-30T13:19:49.339Z"
   },
   {
    "duration": 2,
    "start_time": "2022-07-30T13:19:50.580Z"
   },
   {
    "duration": 6,
    "start_time": "2022-07-30T13:19:52.032Z"
   },
   {
    "duration": 21,
    "start_time": "2022-07-30T13:19:55.161Z"
   },
   {
    "duration": 3,
    "start_time": "2022-07-30T13:19:59.292Z"
   },
   {
    "duration": 24,
    "start_time": "2022-07-30T13:20:02.381Z"
   },
   {
    "duration": 46,
    "start_time": "2022-07-30T13:21:48.964Z"
   },
   {
    "duration": 61,
    "start_time": "2022-07-30T13:22:34.240Z"
   },
   {
    "duration": 73,
    "start_time": "2022-07-30T13:23:06.254Z"
   },
   {
    "duration": 59,
    "start_time": "2022-07-30T13:23:40.954Z"
   },
   {
    "duration": 44,
    "start_time": "2022-07-30T13:23:50.451Z"
   },
   {
    "duration": 38,
    "start_time": "2022-07-30T13:24:30.316Z"
   },
   {
    "duration": 39,
    "start_time": "2022-07-30T13:24:32.752Z"
   },
   {
    "duration": 50,
    "start_time": "2022-07-30T13:26:24.243Z"
   },
   {
    "duration": 53,
    "start_time": "2022-07-30T13:26:37.786Z"
   },
   {
    "duration": 26,
    "start_time": "2022-07-30T13:27:38.732Z"
   },
   {
    "duration": 26,
    "start_time": "2022-07-30T13:27:50.740Z"
   },
   {
    "duration": 38,
    "start_time": "2022-07-30T13:30:39.112Z"
   },
   {
    "duration": 34,
    "start_time": "2022-07-30T13:31:02.311Z"
   },
   {
    "duration": 49,
    "start_time": "2022-07-30T13:32:27.322Z"
   },
   {
    "duration": 36,
    "start_time": "2022-07-30T13:32:34.726Z"
   },
   {
    "duration": 12,
    "start_time": "2022-07-30T13:36:45.620Z"
   },
   {
    "duration": 19,
    "start_time": "2022-07-30T13:37:03.946Z"
   },
   {
    "duration": 35,
    "start_time": "2022-07-30T13:37:07.984Z"
   },
   {
    "duration": 22,
    "start_time": "2022-07-30T13:37:53.665Z"
   },
   {
    "duration": 806,
    "start_time": "2022-07-30T13:45:09.420Z"
   },
   {
    "duration": 72,
    "start_time": "2022-07-30T13:45:47.339Z"
   },
   {
    "duration": 409,
    "start_time": "2022-07-30T13:46:06.209Z"
   },
   {
    "duration": 238,
    "start_time": "2022-07-30T13:46:07.118Z"
   },
   {
    "duration": 25,
    "start_time": "2022-07-30T13:46:08.018Z"
   },
   {
    "duration": 48,
    "start_time": "2022-07-30T13:46:08.768Z"
   },
   {
    "duration": 2,
    "start_time": "2022-07-30T13:46:09.945Z"
   },
   {
    "duration": 7,
    "start_time": "2022-07-30T13:46:12.222Z"
   },
   {
    "duration": 21,
    "start_time": "2022-07-30T13:46:13.373Z"
   },
   {
    "duration": 3,
    "start_time": "2022-07-30T13:46:15.168Z"
   },
   {
    "duration": 43,
    "start_time": "2022-07-30T13:46:20.495Z"
   },
   {
    "duration": 3,
    "start_time": "2022-07-30T13:48:05.475Z"
   },
   {
    "duration": 183,
    "start_time": "2022-07-30T13:48:06.376Z"
   },
   {
    "duration": 11,
    "start_time": "2022-07-30T13:48:06.877Z"
   },
   {
    "duration": 374,
    "start_time": "2022-07-30T13:48:20.270Z"
   },
   {
    "duration": 172,
    "start_time": "2022-07-30T13:48:20.646Z"
   },
   {
    "duration": 26,
    "start_time": "2022-07-30T13:48:20.820Z"
   },
   {
    "duration": 35,
    "start_time": "2022-07-30T13:48:20.848Z"
   },
   {
    "duration": 2,
    "start_time": "2022-07-30T13:48:20.885Z"
   },
   {
    "duration": 12,
    "start_time": "2022-07-30T13:48:20.888Z"
   },
   {
    "duration": 38,
    "start_time": "2022-07-30T13:48:20.901Z"
   },
   {
    "duration": 3,
    "start_time": "2022-07-30T13:48:20.941Z"
   },
   {
    "duration": 29,
    "start_time": "2022-07-30T13:48:20.946Z"
   },
   {
    "duration": 883,
    "start_time": "2022-07-30T13:48:20.978Z"
   },
   {
    "duration": 0,
    "start_time": "2022-07-30T13:48:21.865Z"
   },
   {
    "duration": 0,
    "start_time": "2022-07-30T13:48:21.866Z"
   },
   {
    "duration": 0,
    "start_time": "2022-07-30T13:48:21.867Z"
   },
   {
    "duration": 0,
    "start_time": "2022-07-30T13:48:21.868Z"
   },
   {
    "duration": 0,
    "start_time": "2022-07-30T13:48:21.869Z"
   },
   {
    "duration": 0,
    "start_time": "2022-07-30T13:48:21.870Z"
   },
   {
    "duration": 0,
    "start_time": "2022-07-30T13:48:21.871Z"
   },
   {
    "duration": 0,
    "start_time": "2022-07-30T13:48:21.872Z"
   },
   {
    "duration": 0,
    "start_time": "2022-07-30T13:48:21.873Z"
   },
   {
    "duration": 0,
    "start_time": "2022-07-30T13:48:21.874Z"
   },
   {
    "duration": 0,
    "start_time": "2022-07-30T13:48:21.876Z"
   },
   {
    "duration": 0,
    "start_time": "2022-07-30T13:48:21.877Z"
   },
   {
    "duration": 0,
    "start_time": "2022-07-30T13:48:21.878Z"
   },
   {
    "duration": 0,
    "start_time": "2022-07-30T13:48:21.879Z"
   },
   {
    "duration": 0,
    "start_time": "2022-07-30T13:48:21.880Z"
   },
   {
    "duration": 0,
    "start_time": "2022-07-30T13:48:21.881Z"
   },
   {
    "duration": 0,
    "start_time": "2022-07-30T13:48:21.882Z"
   },
   {
    "duration": 0,
    "start_time": "2022-07-30T13:48:21.883Z"
   },
   {
    "duration": 0,
    "start_time": "2022-07-30T13:48:21.884Z"
   },
   {
    "duration": 0,
    "start_time": "2022-07-30T13:48:21.885Z"
   },
   {
    "duration": 0,
    "start_time": "2022-07-30T13:48:21.886Z"
   },
   {
    "duration": 0,
    "start_time": "2022-07-30T13:48:21.887Z"
   },
   {
    "duration": 0,
    "start_time": "2022-07-30T13:48:21.888Z"
   },
   {
    "duration": 0,
    "start_time": "2022-07-30T13:48:21.889Z"
   },
   {
    "duration": 0,
    "start_time": "2022-07-30T13:48:21.890Z"
   },
   {
    "duration": 0,
    "start_time": "2022-07-30T13:48:21.891Z"
   },
   {
    "duration": 0,
    "start_time": "2022-07-30T13:48:21.892Z"
   },
   {
    "duration": 0,
    "start_time": "2022-07-30T13:48:21.893Z"
   },
   {
    "duration": 791,
    "start_time": "2022-07-30T13:49:18.174Z"
   },
   {
    "duration": 877,
    "start_time": "2022-07-30T13:50:22.437Z"
   },
   {
    "duration": 828,
    "start_time": "2022-07-30T13:50:33.768Z"
   },
   {
    "duration": 920,
    "start_time": "2022-07-30T13:52:50.025Z"
   },
   {
    "duration": 952,
    "start_time": "2022-07-30T13:55:38.233Z"
   },
   {
    "duration": 410,
    "start_time": "2022-07-30T14:01:49.118Z"
   },
   {
    "duration": 161,
    "start_time": "2022-07-30T14:01:50.918Z"
   },
   {
    "duration": 17,
    "start_time": "2022-07-30T14:01:59.725Z"
   },
   {
    "duration": 31,
    "start_time": "2022-07-30T14:02:01.435Z"
   },
   {
    "duration": 3,
    "start_time": "2022-07-30T14:02:03.669Z"
   },
   {
    "duration": 4,
    "start_time": "2022-07-30T14:02:05.566Z"
   },
   {
    "duration": 21,
    "start_time": "2022-07-30T14:02:41.115Z"
   },
   {
    "duration": 4,
    "start_time": "2022-07-30T14:02:50.366Z"
   },
   {
    "duration": 21,
    "start_time": "2022-07-30T14:03:14.070Z"
   },
   {
    "duration": 4,
    "start_time": "2022-07-30T14:03:17.790Z"
   },
   {
    "duration": 4,
    "start_time": "2022-07-30T14:03:22.218Z"
   },
   {
    "duration": 20,
    "start_time": "2022-07-30T14:03:33.256Z"
   },
   {
    "duration": 3,
    "start_time": "2022-07-30T14:03:41.820Z"
   },
   {
    "duration": 412,
    "start_time": "2022-07-30T14:04:20.921Z"
   },
   {
    "duration": 165,
    "start_time": "2022-07-30T14:04:22.249Z"
   },
   {
    "duration": 17,
    "start_time": "2022-07-30T14:04:22.976Z"
   },
   {
    "duration": 34,
    "start_time": "2022-07-30T14:04:23.730Z"
   },
   {
    "duration": 3,
    "start_time": "2022-07-30T14:04:24.866Z"
   },
   {
    "duration": 3,
    "start_time": "2022-07-30T14:04:28.535Z"
   },
   {
    "duration": 21,
    "start_time": "2022-07-30T14:04:31.954Z"
   },
   {
    "duration": 4,
    "start_time": "2022-07-30T14:04:41.021Z"
   },
   {
    "duration": 20,
    "start_time": "2022-07-30T14:05:05.938Z"
   },
   {
    "duration": 4,
    "start_time": "2022-07-30T14:05:08.164Z"
   },
   {
    "duration": 20,
    "start_time": "2022-07-30T14:06:24.145Z"
   },
   {
    "duration": 14,
    "start_time": "2022-07-30T14:06:35.121Z"
   },
   {
    "duration": 13,
    "start_time": "2022-07-30T14:06:38.014Z"
   },
   {
    "duration": 4,
    "start_time": "2022-07-30T14:06:41.939Z"
   },
   {
    "duration": 21,
    "start_time": "2022-07-30T14:06:47.088Z"
   },
   {
    "duration": 20,
    "start_time": "2022-07-30T14:06:49.667Z"
   },
   {
    "duration": 12,
    "start_time": "2022-07-30T14:06:54.257Z"
   },
   {
    "duration": 4,
    "start_time": "2022-07-30T14:07:00.751Z"
   },
   {
    "duration": 4,
    "start_time": "2022-07-30T14:07:10.618Z"
   },
   {
    "duration": 24,
    "start_time": "2022-07-30T14:07:12.555Z"
   },
   {
    "duration": 18,
    "start_time": "2022-07-30T14:07:47.960Z"
   },
   {
    "duration": 25,
    "start_time": "2022-07-30T14:07:51.566Z"
   },
   {
    "duration": 415,
    "start_time": "2022-07-30T14:09:30.921Z"
   },
   {
    "duration": 164,
    "start_time": "2022-07-30T14:09:32.122Z"
   },
   {
    "duration": 17,
    "start_time": "2022-07-30T14:09:32.431Z"
   },
   {
    "duration": 30,
    "start_time": "2022-07-30T14:09:32.659Z"
   },
   {
    "duration": 3,
    "start_time": "2022-07-30T14:09:33.320Z"
   },
   {
    "duration": 4,
    "start_time": "2022-07-30T14:09:34.927Z"
   },
   {
    "duration": 14,
    "start_time": "2022-07-30T14:09:35.882Z"
   },
   {
    "duration": 4,
    "start_time": "2022-07-30T14:09:37.430Z"
   },
   {
    "duration": 26,
    "start_time": "2022-07-30T14:09:40.284Z"
   },
   {
    "duration": 18,
    "start_time": "2022-07-30T14:09:44.733Z"
   },
   {
    "duration": 26,
    "start_time": "2022-07-30T14:09:50.562Z"
   },
   {
    "duration": 4,
    "start_time": "2022-07-30T14:10:47.190Z"
   },
   {
    "duration": 76,
    "start_time": "2022-07-30T14:11:27.243Z"
   },
   {
    "duration": 8,
    "start_time": "2022-07-30T14:11:31.022Z"
   },
   {
    "duration": 7,
    "start_time": "2022-07-30T14:11:37.139Z"
   },
   {
    "duration": 7,
    "start_time": "2022-07-30T14:11:45.426Z"
   },
   {
    "duration": 64,
    "start_time": "2022-07-30T14:12:02.718Z"
   },
   {
    "duration": 68,
    "start_time": "2022-07-30T14:12:13.857Z"
   },
   {
    "duration": 62,
    "start_time": "2022-07-30T14:12:25.379Z"
   },
   {
    "duration": 64,
    "start_time": "2022-07-30T14:13:07.640Z"
   },
   {
    "duration": 66,
    "start_time": "2022-07-30T14:16:26.778Z"
   },
   {
    "duration": 53,
    "start_time": "2022-07-30T14:17:25.045Z"
   },
   {
    "duration": 68,
    "start_time": "2022-07-30T14:17:39.051Z"
   },
   {
    "duration": 71,
    "start_time": "2022-07-30T14:18:18.433Z"
   },
   {
    "duration": 67,
    "start_time": "2022-07-30T14:18:24.920Z"
   },
   {
    "duration": 68,
    "start_time": "2022-07-30T14:18:38.214Z"
   },
   {
    "duration": 76,
    "start_time": "2022-07-30T14:18:41.988Z"
   },
   {
    "duration": 67,
    "start_time": "2022-07-30T14:18:49.272Z"
   },
   {
    "duration": 34,
    "start_time": "2022-07-30T14:21:14.940Z"
   },
   {
    "duration": 32,
    "start_time": "2022-07-30T14:21:25.168Z"
   },
   {
    "duration": 2,
    "start_time": "2022-07-30T14:21:28.626Z"
   },
   {
    "duration": 65,
    "start_time": "2022-07-30T14:21:31.112Z"
   },
   {
    "duration": 9,
    "start_time": "2022-07-30T14:21:46.482Z"
   },
   {
    "duration": 7,
    "start_time": "2022-07-30T14:22:58.915Z"
   },
   {
    "duration": 10,
    "start_time": "2022-07-30T14:23:01.189Z"
   },
   {
    "duration": 33,
    "start_time": "2022-07-30T14:23:10.563Z"
   },
   {
    "duration": 69,
    "start_time": "2022-07-30T14:23:12.655Z"
   },
   {
    "duration": 42,
    "start_time": "2022-07-30T14:23:28.256Z"
   },
   {
    "duration": 14,
    "start_time": "2022-07-30T14:24:06.842Z"
   },
   {
    "duration": 43,
    "start_time": "2022-07-30T14:24:16.492Z"
   },
   {
    "duration": 73,
    "start_time": "2022-07-30T14:25:22.591Z"
   },
   {
    "duration": 68,
    "start_time": "2022-07-30T14:25:27.531Z"
   },
   {
    "duration": 60,
    "start_time": "2022-07-30T14:25:29.929Z"
   },
   {
    "duration": 5,
    "start_time": "2022-07-30T14:34:47.031Z"
   },
   {
    "duration": 39,
    "start_time": "2022-07-30T14:35:02.790Z"
   },
   {
    "duration": 41,
    "start_time": "2022-07-30T14:35:49.190Z"
   },
   {
    "duration": 4,
    "start_time": "2022-07-30T14:56:08.317Z"
   },
   {
    "duration": 7,
    "start_time": "2022-07-30T14:56:31.159Z"
   },
   {
    "duration": 4,
    "start_time": "2022-07-30T14:56:49.210Z"
   },
   {
    "duration": 8,
    "start_time": "2022-07-30T14:57:37.036Z"
   },
   {
    "duration": 3,
    "start_time": "2022-07-30T14:58:48.388Z"
   },
   {
    "duration": 3,
    "start_time": "2022-07-30T14:58:56.943Z"
   },
   {
    "duration": 3,
    "start_time": "2022-07-30T15:01:25.684Z"
   },
   {
    "duration": 7,
    "start_time": "2022-07-30T15:25:28.963Z"
   },
   {
    "duration": 16,
    "start_time": "2022-07-30T15:25:44.594Z"
   },
   {
    "duration": 13,
    "start_time": "2022-07-30T15:25:54.409Z"
   },
   {
    "duration": 783,
    "start_time": "2022-07-30T15:27:31.874Z"
   },
   {
    "duration": 651,
    "start_time": "2022-07-30T15:27:54.753Z"
   },
   {
    "duration": 568,
    "start_time": "2022-07-30T15:29:11.964Z"
   },
   {
    "duration": 535,
    "start_time": "2022-07-30T15:29:28.784Z"
   },
   {
    "duration": 1681,
    "start_time": "2022-07-30T15:30:05.513Z"
   },
   {
    "duration": 634,
    "start_time": "2022-07-30T15:38:20.712Z"
   },
   {
    "duration": 610,
    "start_time": "2022-07-30T15:39:26.899Z"
   },
   {
    "duration": 682,
    "start_time": "2022-07-30T15:40:00.372Z"
   },
   {
    "duration": 573,
    "start_time": "2022-07-30T15:41:08.980Z"
   },
   {
    "duration": 603,
    "start_time": "2022-07-30T15:41:16.973Z"
   },
   {
    "duration": 3,
    "start_time": "2022-07-30T15:41:43.276Z"
   },
   {
    "duration": 411,
    "start_time": "2022-07-30T15:41:57.928Z"
   },
   {
    "duration": 174,
    "start_time": "2022-07-30T15:41:58.985Z"
   },
   {
    "duration": 18,
    "start_time": "2022-07-30T15:41:59.485Z"
   },
   {
    "duration": 31,
    "start_time": "2022-07-30T15:41:59.810Z"
   },
   {
    "duration": 3,
    "start_time": "2022-07-30T15:42:00.195Z"
   },
   {
    "duration": 3,
    "start_time": "2022-07-30T15:42:01.186Z"
   },
   {
    "duration": 15,
    "start_time": "2022-07-30T15:42:01.643Z"
   },
   {
    "duration": 4,
    "start_time": "2022-07-30T15:42:01.919Z"
   },
   {
    "duration": 27,
    "start_time": "2022-07-30T15:42:02.236Z"
   },
   {
    "duration": 18,
    "start_time": "2022-07-30T15:42:02.895Z"
   },
   {
    "duration": 28,
    "start_time": "2022-07-30T15:42:03.474Z"
   },
   {
    "duration": 74,
    "start_time": "2022-07-30T15:42:04.195Z"
   },
   {
    "duration": 75,
    "start_time": "2022-07-30T15:42:04.948Z"
   },
   {
    "duration": 61,
    "start_time": "2022-07-30T15:42:06.254Z"
   },
   {
    "duration": 39,
    "start_time": "2022-07-30T15:42:10.194Z"
   },
   {
    "duration": 7,
    "start_time": "2022-07-30T15:42:12.223Z"
   },
   {
    "duration": 12,
    "start_time": "2022-07-30T15:42:36.831Z"
   },
   {
    "duration": 9,
    "start_time": "2022-07-30T15:42:40.976Z"
   },
   {
    "duration": 3,
    "start_time": "2022-07-30T15:44:10.235Z"
   },
   {
    "duration": 38,
    "start_time": "2022-07-30T15:45:02.753Z"
   },
   {
    "duration": 41,
    "start_time": "2022-07-30T15:45:59.587Z"
   },
   {
    "duration": 103,
    "start_time": "2022-07-30T15:46:24.301Z"
   },
   {
    "duration": 39,
    "start_time": "2022-07-30T15:46:44.002Z"
   },
   {
    "duration": 7,
    "start_time": "2022-07-30T15:48:11.939Z"
   },
   {
    "duration": 7,
    "start_time": "2022-07-30T15:48:31.687Z"
   },
   {
    "duration": 6,
    "start_time": "2022-07-30T15:48:39.561Z"
   },
   {
    "duration": 8,
    "start_time": "2022-07-30T15:50:57.909Z"
   },
   {
    "duration": 9,
    "start_time": "2022-07-30T15:51:17.443Z"
   },
   {
    "duration": 5,
    "start_time": "2022-07-30T15:51:23.788Z"
   },
   {
    "duration": 6,
    "start_time": "2022-07-30T15:51:56.209Z"
   },
   {
    "duration": 15,
    "start_time": "2022-07-30T15:53:35.768Z"
   },
   {
    "duration": 750,
    "start_time": "2022-07-30T15:53:39.098Z"
   },
   {
    "duration": 8,
    "start_time": "2022-07-30T15:54:01.607Z"
   },
   {
    "duration": 7,
    "start_time": "2022-07-30T15:55:48.401Z"
   },
   {
    "duration": 690,
    "start_time": "2022-07-30T15:56:00.839Z"
   },
   {
    "duration": 7,
    "start_time": "2022-07-30T15:56:10.887Z"
   },
   {
    "duration": 72,
    "start_time": "2022-07-30T15:56:56.965Z"
   },
   {
    "duration": 64,
    "start_time": "2022-07-30T15:57:03.474Z"
   },
   {
    "duration": 14,
    "start_time": "2022-07-30T15:57:07.694Z"
   },
   {
    "duration": 63,
    "start_time": "2022-07-30T15:57:28.411Z"
   },
   {
    "duration": 22,
    "start_time": "2022-07-30T15:58:53.500Z"
   },
   {
    "duration": 47,
    "start_time": "2022-07-30T15:59:43.977Z"
   },
   {
    "duration": 15,
    "start_time": "2022-07-30T16:00:22.867Z"
   },
   {
    "duration": 15,
    "start_time": "2022-07-30T16:01:52.134Z"
   },
   {
    "duration": 8,
    "start_time": "2022-07-30T16:09:48.536Z"
   },
   {
    "duration": 6,
    "start_time": "2022-07-30T16:09:56.109Z"
   },
   {
    "duration": 7,
    "start_time": "2022-07-30T16:10:21.460Z"
   },
   {
    "duration": 7,
    "start_time": "2022-07-30T16:10:33.278Z"
   },
   {
    "duration": 3,
    "start_time": "2022-07-30T16:10:39.067Z"
   },
   {
    "duration": 15,
    "start_time": "2022-07-30T16:11:15.672Z"
   },
   {
    "duration": 15,
    "start_time": "2022-07-30T16:11:18.222Z"
   },
   {
    "duration": 4,
    "start_time": "2022-07-30T16:11:31.696Z"
   },
   {
    "duration": 7,
    "start_time": "2022-07-30T16:12:17.996Z"
   },
   {
    "duration": 7,
    "start_time": "2022-07-30T16:12:21.092Z"
   },
   {
    "duration": 6,
    "start_time": "2022-07-30T16:12:33.799Z"
   },
   {
    "duration": 5,
    "start_time": "2022-07-30T16:12:38.485Z"
   },
   {
    "duration": 16,
    "start_time": "2022-07-30T16:14:31.074Z"
   },
   {
    "duration": 47,
    "start_time": "2022-07-30T16:18:11.489Z"
   },
   {
    "duration": 52,
    "start_time": "2022-07-30T16:18:40.311Z"
   },
   {
    "duration": 48,
    "start_time": "2022-07-30T16:18:56.886Z"
   },
   {
    "duration": 16,
    "start_time": "2022-07-30T16:20:06.817Z"
   },
   {
    "duration": 35,
    "start_time": "2022-07-30T16:20:55.594Z"
   },
   {
    "duration": 28,
    "start_time": "2022-07-30T16:21:04.396Z"
   },
   {
    "duration": 54,
    "start_time": "2022-07-30T16:21:56.580Z"
   },
   {
    "duration": 58,
    "start_time": "2022-07-30T16:22:21.740Z"
   },
   {
    "duration": 6,
    "start_time": "2022-07-30T16:22:52.309Z"
   },
   {
    "duration": 4,
    "start_time": "2022-07-30T16:23:13.382Z"
   },
   {
    "duration": 21,
    "start_time": "2022-07-30T16:23:32.516Z"
   },
   {
    "duration": 362,
    "start_time": "2022-07-30T16:24:13.976Z"
   },
   {
    "duration": 183,
    "start_time": "2022-07-30T16:24:14.341Z"
   },
   {
    "duration": 24,
    "start_time": "2022-07-30T16:24:14.564Z"
   },
   {
    "duration": 31,
    "start_time": "2022-07-30T16:24:14.973Z"
   },
   {
    "duration": 3,
    "start_time": "2022-07-30T16:24:15.478Z"
   },
   {
    "duration": 4,
    "start_time": "2022-07-30T16:24:16.137Z"
   },
   {
    "duration": 13,
    "start_time": "2022-07-30T16:24:16.461Z"
   },
   {
    "duration": 3,
    "start_time": "2022-07-30T16:24:16.772Z"
   },
   {
    "duration": 24,
    "start_time": "2022-07-30T16:24:17.094Z"
   },
   {
    "duration": 18,
    "start_time": "2022-07-30T16:24:17.679Z"
   },
   {
    "duration": 24,
    "start_time": "2022-07-30T16:24:18.164Z"
   },
   {
    "duration": 74,
    "start_time": "2022-07-30T16:24:19.013Z"
   },
   {
    "duration": 69,
    "start_time": "2022-07-30T16:24:21.246Z"
   },
   {
    "duration": 60,
    "start_time": "2022-07-30T16:24:22.182Z"
   },
   {
    "duration": 37,
    "start_time": "2022-07-30T16:24:23.689Z"
   },
   {
    "duration": 12,
    "start_time": "2022-07-30T16:24:26.529Z"
   },
   {
    "duration": 7,
    "start_time": "2022-07-30T16:24:28.389Z"
   },
   {
    "duration": 23,
    "start_time": "2022-07-30T16:24:32.996Z"
   },
   {
    "duration": 8,
    "start_time": "2022-07-30T16:24:35.183Z"
   },
   {
    "duration": 871,
    "start_time": "2022-07-30T16:35:23.160Z"
   },
   {
    "duration": 890,
    "start_time": "2022-07-30T16:36:19.372Z"
   },
   {
    "duration": 780,
    "start_time": "2022-07-30T16:37:44.145Z"
   },
   {
    "duration": 8,
    "start_time": "2022-07-30T16:38:00.746Z"
   },
   {
    "duration": 11,
    "start_time": "2022-07-30T16:38:08.748Z"
   },
   {
    "duration": 8,
    "start_time": "2022-07-30T16:39:30.836Z"
   },
   {
    "duration": 5,
    "start_time": "2022-07-30T16:39:46.335Z"
   },
   {
    "duration": 14,
    "start_time": "2022-07-30T16:40:22.490Z"
   },
   {
    "duration": 16,
    "start_time": "2022-07-30T16:40:25.883Z"
   },
   {
    "duration": 20,
    "start_time": "2022-07-30T16:40:35.837Z"
   },
   {
    "duration": 117,
    "start_time": "2022-07-30T16:42:44.932Z"
   },
   {
    "duration": 45,
    "start_time": "2022-07-30T16:42:47.543Z"
   },
   {
    "duration": 45,
    "start_time": "2022-07-30T16:43:50.016Z"
   },
   {
    "duration": 14,
    "start_time": "2022-07-30T16:44:50.088Z"
   },
   {
    "duration": 21,
    "start_time": "2022-07-30T16:45:53.522Z"
   },
   {
    "duration": 24,
    "start_time": "2022-07-30T16:46:24.199Z"
   },
   {
    "duration": 51,
    "start_time": "2022-07-30T16:47:00.899Z"
   },
   {
    "duration": 23,
    "start_time": "2022-07-30T16:47:07.388Z"
   },
   {
    "duration": 24,
    "start_time": "2022-07-30T16:48:17.584Z"
   },
   {
    "duration": 20,
    "start_time": "2022-07-30T16:54:57.620Z"
   },
   {
    "duration": 21,
    "start_time": "2022-07-30T16:55:37.530Z"
   },
   {
    "duration": 9,
    "start_time": "2022-07-30T17:08:14.059Z"
   },
   {
    "duration": 11,
    "start_time": "2022-07-30T17:09:09.968Z"
   },
   {
    "duration": 4,
    "start_time": "2022-07-30T17:10:52.467Z"
   },
   {
    "duration": 11,
    "start_time": "2022-07-30T17:12:17.381Z"
   },
   {
    "duration": 975,
    "start_time": "2022-07-30T17:12:24.725Z"
   },
   {
    "duration": 845,
    "start_time": "2022-07-30T17:12:47.351Z"
   },
   {
    "duration": 995,
    "start_time": "2022-07-30T17:13:05.624Z"
   },
   {
    "duration": 27,
    "start_time": "2022-07-30T17:14:29.010Z"
   },
   {
    "duration": 45,
    "start_time": "2022-07-30T17:15:31.232Z"
   },
   {
    "duration": 69,
    "start_time": "2022-07-30T17:16:36.857Z"
   },
   {
    "duration": 80,
    "start_time": "2022-07-30T17:17:18.641Z"
   },
   {
    "duration": 65,
    "start_time": "2022-07-30T17:17:24.032Z"
   },
   {
    "duration": 72,
    "start_time": "2022-07-30T17:17:27.813Z"
   },
   {
    "duration": 68,
    "start_time": "2022-07-30T17:18:25.405Z"
   },
   {
    "duration": 3,
    "start_time": "2022-07-30T17:19:45.829Z"
   },
   {
    "duration": 19,
    "start_time": "2022-07-30T17:19:58.029Z"
   },
   {
    "duration": 75,
    "start_time": "2022-07-30T17:20:18.655Z"
   },
   {
    "duration": 82,
    "start_time": "2022-07-30T17:20:22.874Z"
   },
   {
    "duration": 28,
    "start_time": "2022-07-30T17:20:44.962Z"
   },
   {
    "duration": 30,
    "start_time": "2022-07-30T17:20:48.004Z"
   },
   {
    "duration": 22,
    "start_time": "2022-07-30T17:22:03.555Z"
   },
   {
    "duration": 25,
    "start_time": "2022-07-30T17:22:17.561Z"
   },
   {
    "duration": 3,
    "start_time": "2022-07-30T17:22:26.679Z"
   },
   {
    "duration": 15,
    "start_time": "2022-07-30T17:22:29.708Z"
   },
   {
    "duration": 15,
    "start_time": "2022-07-30T17:22:42.367Z"
   },
   {
    "duration": 17,
    "start_time": "2022-07-30T17:22:51.150Z"
   },
   {
    "duration": 16,
    "start_time": "2022-07-30T17:22:58.492Z"
   },
   {
    "duration": 8,
    "start_time": "2022-07-30T17:25:47.429Z"
   },
   {
    "duration": 8,
    "start_time": "2022-07-30T17:26:14.430Z"
   },
   {
    "duration": 20,
    "start_time": "2022-07-30T17:27:53.606Z"
   },
   {
    "duration": 18,
    "start_time": "2022-07-30T17:28:08.711Z"
   },
   {
    "duration": 22,
    "start_time": "2022-07-30T17:28:48.710Z"
   },
   {
    "duration": 475,
    "start_time": "2022-07-30T17:32:16.915Z"
   },
   {
    "duration": 161,
    "start_time": "2022-07-30T17:32:18.012Z"
   },
   {
    "duration": 17,
    "start_time": "2022-07-30T17:32:18.320Z"
   },
   {
    "duration": 30,
    "start_time": "2022-07-30T17:32:18.588Z"
   },
   {
    "duration": 2,
    "start_time": "2022-07-30T17:32:19.321Z"
   },
   {
    "duration": 4,
    "start_time": "2022-07-30T17:32:19.852Z"
   },
   {
    "duration": 13,
    "start_time": "2022-07-30T17:32:20.123Z"
   },
   {
    "duration": 4,
    "start_time": "2022-07-30T17:32:20.422Z"
   },
   {
    "duration": 23,
    "start_time": "2022-07-30T17:32:21.132Z"
   },
   {
    "duration": 19,
    "start_time": "2022-07-30T17:32:21.623Z"
   },
   {
    "duration": 24,
    "start_time": "2022-07-30T17:32:21.945Z"
   },
   {
    "duration": 77,
    "start_time": "2022-07-30T17:32:22.276Z"
   },
   {
    "duration": 79,
    "start_time": "2022-07-30T17:32:22.559Z"
   },
   {
    "duration": 65,
    "start_time": "2022-07-30T17:32:22.881Z"
   },
   {
    "duration": 39,
    "start_time": "2022-07-30T17:32:23.325Z"
   },
   {
    "duration": 16,
    "start_time": "2022-07-30T17:32:23.628Z"
   },
   {
    "duration": 8,
    "start_time": "2022-07-30T17:32:23.924Z"
   },
   {
    "duration": 22,
    "start_time": "2022-07-30T17:32:25.560Z"
   },
   {
    "duration": 20,
    "start_time": "2022-07-30T17:32:25.850Z"
   },
   {
    "duration": 5,
    "start_time": "2022-07-30T17:32:26.321Z"
   },
   {
    "duration": 18,
    "start_time": "2022-07-30T17:32:26.657Z"
   },
   {
    "duration": 19,
    "start_time": "2022-07-30T17:32:26.825Z"
   },
   {
    "duration": 15,
    "start_time": "2022-07-30T17:32:27.015Z"
   },
   {
    "duration": 20,
    "start_time": "2022-07-30T17:32:27.215Z"
   },
   {
    "duration": 22,
    "start_time": "2022-07-30T17:32:27.370Z"
   },
   {
    "duration": 19,
    "start_time": "2022-07-30T17:32:28.529Z"
   },
   {
    "duration": 54,
    "start_time": "2022-07-30T17:33:56.717Z"
   },
   {
    "duration": 85,
    "start_time": "2022-07-30T17:34:04.286Z"
   },
   {
    "duration": 13,
    "start_time": "2022-07-30T17:34:13.985Z"
   },
   {
    "duration": 14,
    "start_time": "2022-07-30T17:35:35.789Z"
   },
   {
    "duration": 9,
    "start_time": "2022-07-30T17:36:04.386Z"
   },
   {
    "duration": 8,
    "start_time": "2022-07-30T17:37:15.251Z"
   },
   {
    "duration": 9,
    "start_time": "2022-07-30T17:37:56.715Z"
   },
   {
    "duration": 9,
    "start_time": "2022-07-30T17:38:18.937Z"
   },
   {
    "duration": 8,
    "start_time": "2022-07-30T17:39:16.517Z"
   },
   {
    "duration": 2,
    "start_time": "2022-07-30T17:39:44.015Z"
   },
   {
    "duration": 3,
    "start_time": "2022-07-30T17:40:09.733Z"
   },
   {
    "duration": 3,
    "start_time": "2022-07-30T17:40:11.128Z"
   },
   {
    "duration": 9,
    "start_time": "2022-07-30T18:00:32.135Z"
   },
   {
    "duration": 60,
    "start_time": "2022-07-30T18:02:11.169Z"
   },
   {
    "duration": 46,
    "start_time": "2022-07-30T18:06:48.413Z"
   },
   {
    "duration": 60,
    "start_time": "2022-07-30T18:07:04.113Z"
   },
   {
    "duration": 64,
    "start_time": "2022-07-30T18:07:58.715Z"
   },
   {
    "duration": 74,
    "start_time": "2022-07-30T18:09:15.966Z"
   },
   {
    "duration": 50,
    "start_time": "2022-07-30T18:09:39.739Z"
   },
   {
    "duration": 45,
    "start_time": "2022-07-30T18:10:26.131Z"
   },
   {
    "duration": 54,
    "start_time": "2022-07-30T18:11:13.215Z"
   },
   {
    "duration": 8,
    "start_time": "2022-07-30T18:11:26.261Z"
   },
   {
    "duration": 8,
    "start_time": "2022-07-30T18:11:41.075Z"
   },
   {
    "duration": 430,
    "start_time": "2022-07-30T18:12:40.910Z"
   },
   {
    "duration": 170,
    "start_time": "2022-07-30T18:12:42.041Z"
   },
   {
    "duration": 18,
    "start_time": "2022-07-30T18:12:42.385Z"
   },
   {
    "duration": 32,
    "start_time": "2022-07-30T18:12:42.812Z"
   },
   {
    "duration": 2,
    "start_time": "2022-07-30T18:12:43.260Z"
   },
   {
    "duration": 3,
    "start_time": "2022-07-30T18:12:43.858Z"
   },
   {
    "duration": 13,
    "start_time": "2022-07-30T18:12:44.168Z"
   },
   {
    "duration": 3,
    "start_time": "2022-07-30T18:12:44.450Z"
   },
   {
    "duration": 23,
    "start_time": "2022-07-30T18:12:44.753Z"
   },
   {
    "duration": 17,
    "start_time": "2022-07-30T18:12:45.238Z"
   },
   {
    "duration": 27,
    "start_time": "2022-07-30T18:12:45.623Z"
   },
   {
    "duration": 71,
    "start_time": "2022-07-30T18:12:46.010Z"
   },
   {
    "duration": 75,
    "start_time": "2022-07-30T18:12:46.421Z"
   },
   {
    "duration": 61,
    "start_time": "2022-07-30T18:12:46.852Z"
   },
   {
    "duration": 54,
    "start_time": "2022-07-30T18:12:47.370Z"
   },
   {
    "duration": 13,
    "start_time": "2022-07-30T18:12:47.848Z"
   },
   {
    "duration": 7,
    "start_time": "2022-07-30T18:12:48.213Z"
   },
   {
    "duration": 22,
    "start_time": "2022-07-30T18:12:51.544Z"
   },
   {
    "duration": 20,
    "start_time": "2022-07-30T18:12:52.413Z"
   },
   {
    "duration": 5,
    "start_time": "2022-07-30T18:12:53.675Z"
   },
   {
    "duration": 19,
    "start_time": "2022-07-30T18:13:01.275Z"
   },
   {
    "duration": 16,
    "start_time": "2022-07-30T18:13:01.658Z"
   },
   {
    "duration": 17,
    "start_time": "2022-07-30T18:13:02.145Z"
   },
   {
    "duration": 21,
    "start_time": "2022-07-30T18:13:02.354Z"
   },
   {
    "duration": 19,
    "start_time": "2022-07-30T18:13:02.534Z"
   },
   {
    "duration": 26,
    "start_time": "2022-07-30T18:13:03.052Z"
   },
   {
    "duration": 9,
    "start_time": "2022-07-30T18:13:05.712Z"
   },
   {
    "duration": 3,
    "start_time": "2022-07-30T18:13:09.026Z"
   },
   {
    "duration": 3,
    "start_time": "2022-07-30T18:13:09.646Z"
   },
   {
    "duration": 22,
    "start_time": "2022-07-30T18:13:11.047Z"
   },
   {
    "duration": 26,
    "start_time": "2022-07-30T18:13:24.513Z"
   },
   {
    "duration": 22,
    "start_time": "2022-07-30T18:14:11.713Z"
   },
   {
    "duration": 21,
    "start_time": "2022-07-30T18:14:25.531Z"
   },
   {
    "duration": 32,
    "start_time": "2022-07-30T18:14:46.712Z"
   },
   {
    "duration": 31,
    "start_time": "2022-07-30T18:14:53.173Z"
   },
   {
    "duration": 82,
    "start_time": "2022-07-30T18:15:11.178Z"
   },
   {
    "duration": 30,
    "start_time": "2022-07-30T18:16:01.542Z"
   },
   {
    "duration": 27,
    "start_time": "2022-07-30T18:17:49.909Z"
   },
   {
    "duration": 31,
    "start_time": "2022-07-30T18:18:24.469Z"
   },
   {
    "duration": 32,
    "start_time": "2022-07-30T18:19:15.586Z"
   },
   {
    "duration": 26,
    "start_time": "2022-07-30T18:21:09.685Z"
   },
   {
    "duration": 24,
    "start_time": "2022-07-30T18:24:57.438Z"
   },
   {
    "duration": 23,
    "start_time": "2022-07-30T18:25:51.674Z"
   },
   {
    "duration": 32,
    "start_time": "2022-07-30T18:26:16.845Z"
   },
   {
    "duration": 55,
    "start_time": "2022-07-30T18:26:35.576Z"
   },
   {
    "duration": 25,
    "start_time": "2022-07-30T18:27:34.287Z"
   },
   {
    "duration": 26,
    "start_time": "2022-07-30T18:28:59.185Z"
   },
   {
    "duration": 27,
    "start_time": "2022-07-30T18:29:23.030Z"
   },
   {
    "duration": 30,
    "start_time": "2022-07-30T18:29:32.485Z"
   },
   {
    "duration": 30,
    "start_time": "2022-07-30T18:29:48.230Z"
   },
   {
    "duration": 28,
    "start_time": "2022-07-30T18:30:56.447Z"
   },
   {
    "duration": 25,
    "start_time": "2022-07-30T18:31:15.466Z"
   },
   {
    "duration": 28,
    "start_time": "2022-07-30T18:33:00.539Z"
   },
   {
    "duration": 24,
    "start_time": "2022-07-30T18:33:52.001Z"
   },
   {
    "duration": 27,
    "start_time": "2022-07-30T18:35:19.098Z"
   },
   {
    "duration": 25,
    "start_time": "2022-07-30T18:36:13.522Z"
   },
   {
    "duration": 28,
    "start_time": "2022-07-30T18:37:13.879Z"
   },
   {
    "duration": 29,
    "start_time": "2022-07-30T18:39:30.188Z"
   },
   {
    "duration": 27,
    "start_time": "2022-07-30T18:40:16.473Z"
   },
   {
    "duration": 28,
    "start_time": "2022-07-30T18:40:27.961Z"
   },
   {
    "duration": 36,
    "start_time": "2022-07-30T18:40:35.015Z"
   },
   {
    "duration": 25,
    "start_time": "2022-07-30T18:41:40.280Z"
   },
   {
    "duration": 23,
    "start_time": "2022-07-30T18:42:36.197Z"
   },
   {
    "duration": 24,
    "start_time": "2022-07-30T18:43:16.371Z"
   },
   {
    "duration": 34,
    "start_time": "2022-07-30T18:47:57.297Z"
   },
   {
    "duration": 18,
    "start_time": "2022-07-30T18:50:55.838Z"
   },
   {
    "duration": 21,
    "start_time": "2022-07-30T18:53:33.918Z"
   },
   {
    "duration": 19,
    "start_time": "2022-07-30T18:53:41.710Z"
   },
   {
    "duration": 28,
    "start_time": "2022-07-30T18:54:30.743Z"
   },
   {
    "duration": 27,
    "start_time": "2022-07-30T18:55:03.641Z"
   },
   {
    "duration": 22,
    "start_time": "2022-07-30T18:55:15.847Z"
   },
   {
    "duration": 23,
    "start_time": "2022-07-30T18:57:27.411Z"
   },
   {
    "duration": 19,
    "start_time": "2022-07-30T18:58:27.587Z"
   },
   {
    "duration": 19,
    "start_time": "2022-07-30T19:00:43.154Z"
   },
   {
    "duration": 23,
    "start_time": "2022-07-30T19:01:09.944Z"
   },
   {
    "duration": 26,
    "start_time": "2022-07-30T19:01:19.838Z"
   },
   {
    "duration": 29,
    "start_time": "2022-07-30T19:02:08.988Z"
   },
   {
    "duration": 359,
    "start_time": "2022-07-30T19:02:33.478Z"
   },
   {
    "duration": 174,
    "start_time": "2022-07-30T19:02:33.942Z"
   },
   {
    "duration": 17,
    "start_time": "2022-07-30T19:02:34.217Z"
   },
   {
    "duration": 34,
    "start_time": "2022-07-30T19:02:34.519Z"
   },
   {
    "duration": 3,
    "start_time": "2022-07-30T19:02:34.916Z"
   },
   {
    "duration": 3,
    "start_time": "2022-07-30T19:02:35.475Z"
   },
   {
    "duration": 14,
    "start_time": "2022-07-30T19:02:35.729Z"
   },
   {
    "duration": 4,
    "start_time": "2022-07-30T19:02:36.035Z"
   },
   {
    "duration": 25,
    "start_time": "2022-07-30T19:02:36.417Z"
   },
   {
    "duration": 18,
    "start_time": "2022-07-30T19:02:36.888Z"
   },
   {
    "duration": 32,
    "start_time": "2022-07-30T19:02:37.172Z"
   },
   {
    "duration": 70,
    "start_time": "2022-07-30T19:02:37.454Z"
   },
   {
    "duration": 74,
    "start_time": "2022-07-30T19:02:37.784Z"
   },
   {
    "duration": 58,
    "start_time": "2022-07-30T19:02:38.108Z"
   },
   {
    "duration": 38,
    "start_time": "2022-07-30T19:02:38.951Z"
   },
   {
    "duration": 10,
    "start_time": "2022-07-30T19:02:39.312Z"
   },
   {
    "duration": 6,
    "start_time": "2022-07-30T19:02:39.784Z"
   },
   {
    "duration": 21,
    "start_time": "2022-07-30T19:02:40.947Z"
   },
   {
    "duration": 20,
    "start_time": "2022-07-30T19:02:41.364Z"
   },
   {
    "duration": 6,
    "start_time": "2022-07-30T19:02:47.135Z"
   },
   {
    "duration": 17,
    "start_time": "2022-07-30T19:02:50.081Z"
   },
   {
    "duration": 15,
    "start_time": "2022-07-30T19:02:52.962Z"
   },
   {
    "duration": 14,
    "start_time": "2022-07-30T19:02:53.105Z"
   },
   {
    "duration": 14,
    "start_time": "2022-07-30T19:02:53.239Z"
   },
   {
    "duration": 16,
    "start_time": "2022-07-30T19:02:53.366Z"
   },
   {
    "duration": 16,
    "start_time": "2022-07-30T19:02:53.507Z"
   },
   {
    "duration": 8,
    "start_time": "2022-07-30T19:02:55.790Z"
   },
   {
    "duration": 3,
    "start_time": "2022-07-30T19:02:57.801Z"
   },
   {
    "duration": 2,
    "start_time": "2022-07-30T19:02:58.408Z"
   },
   {
    "duration": 27,
    "start_time": "2022-07-30T19:03:00.280Z"
   },
   {
    "duration": 18,
    "start_time": "2022-07-30T19:05:25.567Z"
   },
   {
    "duration": 22,
    "start_time": "2022-07-30T19:06:20.737Z"
   },
   {
    "duration": 12,
    "start_time": "2022-07-30T19:06:37.269Z"
   },
   {
    "duration": 11,
    "start_time": "2022-07-30T19:06:50.941Z"
   },
   {
    "duration": 66,
    "start_time": "2022-07-30T19:07:39.853Z"
   },
   {
    "duration": 19,
    "start_time": "2022-07-30T19:07:44.717Z"
   },
   {
    "duration": 11,
    "start_time": "2022-07-30T19:07:57.014Z"
   },
   {
    "duration": 16,
    "start_time": "2022-07-30T19:08:18.485Z"
   },
   {
    "duration": 10,
    "start_time": "2022-07-30T19:08:23.862Z"
   },
   {
    "duration": 19,
    "start_time": "2022-07-30T19:08:35.258Z"
   },
   {
    "duration": 12,
    "start_time": "2022-07-30T19:08:39.162Z"
   },
   {
    "duration": 12,
    "start_time": "2022-07-30T19:08:42.372Z"
   },
   {
    "duration": 11,
    "start_time": "2022-07-30T19:08:49.594Z"
   },
   {
    "duration": 22,
    "start_time": "2022-07-30T19:09:21.917Z"
   },
   {
    "duration": 11,
    "start_time": "2022-07-30T19:09:27.940Z"
   },
   {
    "duration": 27,
    "start_time": "2022-07-30T19:09:28.821Z"
   },
   {
    "duration": 13,
    "start_time": "2022-07-30T19:09:29.638Z"
   },
   {
    "duration": 8,
    "start_time": "2022-07-30T19:11:40.740Z"
   },
   {
    "duration": 86,
    "start_time": "2022-07-30T19:13:58.694Z"
   },
   {
    "duration": 36,
    "start_time": "2022-07-30T19:14:14.524Z"
   },
   {
    "duration": 18,
    "start_time": "2022-07-30T19:14:43.717Z"
   },
   {
    "duration": 49,
    "start_time": "2022-07-30T19:16:08.962Z"
   },
   {
    "duration": 25,
    "start_time": "2022-07-30T19:16:16.934Z"
   },
   {
    "duration": 6,
    "start_time": "2022-07-30T19:16:40.569Z"
   },
   {
    "duration": 25,
    "start_time": "2022-07-30T19:18:22.044Z"
   },
   {
    "duration": 25,
    "start_time": "2022-07-30T19:18:24.643Z"
   },
   {
    "duration": 5,
    "start_time": "2022-07-30T19:18:26.675Z"
   },
   {
    "duration": 8,
    "start_time": "2022-07-30T19:20:53.745Z"
   },
   {
    "duration": 4,
    "start_time": "2022-07-30T19:22:13.530Z"
   },
   {
    "duration": 67,
    "start_time": "2022-07-30T19:22:26.590Z"
   },
   {
    "duration": 27,
    "start_time": "2022-07-30T19:22:55.940Z"
   },
   {
    "duration": 17,
    "start_time": "2022-07-30T19:23:37.321Z"
   },
   {
    "duration": 10,
    "start_time": "2022-07-30T19:24:21.744Z"
   },
   {
    "duration": 10,
    "start_time": "2022-07-30T19:24:53.714Z"
   },
   {
    "duration": 10,
    "start_time": "2022-07-30T19:24:59.714Z"
   },
   {
    "duration": 11,
    "start_time": "2022-07-30T19:26:01.965Z"
   },
   {
    "duration": 9,
    "start_time": "2022-07-30T19:26:15.640Z"
   },
   {
    "duration": 4,
    "start_time": "2022-07-30T19:26:17.045Z"
   },
   {
    "duration": 7,
    "start_time": "2022-07-30T19:27:16.949Z"
   },
   {
    "duration": 8,
    "start_time": "2022-07-30T19:27:32.836Z"
   },
   {
    "duration": 7,
    "start_time": "2022-07-30T19:27:49.371Z"
   },
   {
    "duration": 3,
    "start_time": "2022-07-30T19:28:02.735Z"
   },
   {
    "duration": 48,
    "start_time": "2022-07-30T19:32:56.160Z"
   },
   {
    "duration": 3,
    "start_time": "2022-07-30T19:33:01.277Z"
   },
   {
    "duration": 58,
    "start_time": "2022-07-30T19:33:10.981Z"
   },
   {
    "duration": 58,
    "start_time": "2022-07-30T19:34:45.802Z"
   },
   {
    "duration": 56,
    "start_time": "2022-07-30T19:36:16.930Z"
   },
   {
    "duration": 60,
    "start_time": "2022-07-30T19:36:25.873Z"
   },
   {
    "duration": 72,
    "start_time": "2022-07-30T19:36:37.395Z"
   },
   {
    "duration": 59,
    "start_time": "2022-07-30T19:36:58.230Z"
   },
   {
    "duration": 61,
    "start_time": "2022-07-30T19:37:20.081Z"
   },
   {
    "duration": 75,
    "start_time": "2022-07-30T19:38:04.544Z"
   },
   {
    "duration": 60,
    "start_time": "2022-07-30T19:38:14.962Z"
   },
   {
    "duration": 57,
    "start_time": "2022-07-30T19:38:58.819Z"
   },
   {
    "duration": 60,
    "start_time": "2022-07-30T19:40:29.710Z"
   },
   {
    "duration": 62,
    "start_time": "2022-07-30T19:40:50.044Z"
   },
   {
    "duration": 0,
    "start_time": "2022-07-30T19:41:28.078Z"
   },
   {
    "duration": 7,
    "start_time": "2022-07-30T19:42:04.801Z"
   },
   {
    "duration": 60,
    "start_time": "2022-07-30T19:42:12.844Z"
   },
   {
    "duration": 7,
    "start_time": "2022-07-30T19:44:40.243Z"
   },
   {
    "duration": 841,
    "start_time": "2022-07-30T19:44:49.065Z"
   },
   {
    "duration": 53,
    "start_time": "2022-07-30T19:45:35.043Z"
   },
   {
    "duration": 67,
    "start_time": "2022-07-30T19:45:52.783Z"
   },
   {
    "duration": 413,
    "start_time": "2022-07-30T19:46:22.843Z"
   },
   {
    "duration": 188,
    "start_time": "2022-07-30T19:46:23.258Z"
   },
   {
    "duration": 8,
    "start_time": "2022-07-30T19:46:23.448Z"
   },
   {
    "duration": 34,
    "start_time": "2022-07-30T19:46:23.458Z"
   },
   {
    "duration": 2,
    "start_time": "2022-07-30T19:46:23.494Z"
   },
   {
    "duration": 8,
    "start_time": "2022-07-30T19:46:23.497Z"
   },
   {
    "duration": 31,
    "start_time": "2022-07-30T19:46:23.507Z"
   },
   {
    "duration": 4,
    "start_time": "2022-07-30T19:46:23.540Z"
   },
   {
    "duration": 27,
    "start_time": "2022-07-30T19:46:23.546Z"
   },
   {
    "duration": 19,
    "start_time": "2022-07-30T19:46:23.575Z"
   },
   {
    "duration": 55,
    "start_time": "2022-07-30T19:46:23.596Z"
   },
   {
    "duration": 106,
    "start_time": "2022-07-30T19:46:23.653Z"
   },
   {
    "duration": 77,
    "start_time": "2022-07-30T19:46:23.761Z"
   },
   {
    "duration": 61,
    "start_time": "2022-07-30T19:46:23.840Z"
   },
   {
    "duration": 56,
    "start_time": "2022-07-30T19:46:23.902Z"
   },
   {
    "duration": 10,
    "start_time": "2022-07-30T19:46:23.960Z"
   },
   {
    "duration": 9,
    "start_time": "2022-07-30T19:46:23.972Z"
   },
   {
    "duration": 26,
    "start_time": "2022-07-30T19:46:23.982Z"
   },
   {
    "duration": 40,
    "start_time": "2022-07-30T19:46:24.009Z"
   },
   {
    "duration": 4,
    "start_time": "2022-07-30T19:46:24.050Z"
   },
   {
    "duration": 31,
    "start_time": "2022-07-30T19:46:24.056Z"
   },
   {
    "duration": 15,
    "start_time": "2022-07-30T19:46:24.089Z"
   },
   {
    "duration": 37,
    "start_time": "2022-07-30T19:46:24.105Z"
   },
   {
    "duration": 12,
    "start_time": "2022-07-30T19:46:24.144Z"
   },
   {
    "duration": 15,
    "start_time": "2022-07-30T19:46:24.157Z"
   },
   {
    "duration": 17,
    "start_time": "2022-07-30T19:46:24.174Z"
   },
   {
    "duration": 16,
    "start_time": "2022-07-30T19:46:24.192Z"
   },
   {
    "duration": 30,
    "start_time": "2022-07-30T19:46:24.211Z"
   },
   {
    "duration": 6,
    "start_time": "2022-07-30T19:46:24.243Z"
   },
   {
    "duration": 9,
    "start_time": "2022-07-30T19:46:24.251Z"
   },
   {
    "duration": 38,
    "start_time": "2022-07-30T19:46:24.262Z"
   },
   {
    "duration": 10,
    "start_time": "2022-07-30T19:46:24.302Z"
   },
   {
    "duration": 42,
    "start_time": "2022-07-30T19:46:24.314Z"
   },
   {
    "duration": 15,
    "start_time": "2022-07-30T19:46:24.358Z"
   },
   {
    "duration": 30,
    "start_time": "2022-07-30T19:46:24.376Z"
   },
   {
    "duration": 19,
    "start_time": "2022-07-30T19:46:24.408Z"
   },
   {
    "duration": 13,
    "start_time": "2022-07-30T19:46:24.437Z"
   },
   {
    "duration": 12,
    "start_time": "2022-07-30T19:46:24.451Z"
   },
   {
    "duration": 56,
    "start_time": "2022-07-30T19:47:17.952Z"
   },
   {
    "duration": 394,
    "start_time": "2022-07-30T19:48:11.453Z"
   },
   {
    "duration": 167,
    "start_time": "2022-07-30T19:48:11.849Z"
   },
   {
    "duration": 19,
    "start_time": "2022-07-30T19:48:12.018Z"
   },
   {
    "duration": 30,
    "start_time": "2022-07-30T19:48:12.186Z"
   },
   {
    "duration": 4,
    "start_time": "2022-07-30T19:48:12.562Z"
   },
   {
    "duration": 3,
    "start_time": "2022-07-30T19:48:13.047Z"
   },
   {
    "duration": 13,
    "start_time": "2022-07-30T19:48:13.342Z"
   },
   {
    "duration": 3,
    "start_time": "2022-07-30T19:48:13.585Z"
   },
   {
    "duration": 24,
    "start_time": "2022-07-30T19:48:13.841Z"
   },
   {
    "duration": 18,
    "start_time": "2022-07-30T19:48:14.242Z"
   },
   {
    "duration": 46,
    "start_time": "2022-07-30T19:48:14.494Z"
   },
   {
    "duration": 62,
    "start_time": "2022-07-30T19:48:14.744Z"
   },
   {
    "duration": 82,
    "start_time": "2022-07-30T19:48:15.018Z"
   },
   {
    "duration": 72,
    "start_time": "2022-07-30T19:48:15.307Z"
   },
   {
    "duration": 38,
    "start_time": "2022-07-30T19:48:15.743Z"
   },
   {
    "duration": 10,
    "start_time": "2022-07-30T19:48:15.998Z"
   },
   {
    "duration": 9,
    "start_time": "2022-07-30T19:48:16.303Z"
   },
   {
    "duration": 22,
    "start_time": "2022-07-30T19:48:17.159Z"
   },
   {
    "duration": 30,
    "start_time": "2022-07-30T19:48:17.449Z"
   },
   {
    "duration": 3,
    "start_time": "2022-07-30T19:48:17.873Z"
   },
   {
    "duration": 18,
    "start_time": "2022-07-30T19:48:18.195Z"
   },
   {
    "duration": 15,
    "start_time": "2022-07-30T19:48:18.344Z"
   },
   {
    "duration": 17,
    "start_time": "2022-07-30T19:48:18.498Z"
   },
   {
    "duration": 13,
    "start_time": "2022-07-30T19:48:18.653Z"
   },
   {
    "duration": 24,
    "start_time": "2022-07-30T19:48:18.808Z"
   },
   {
    "duration": 15,
    "start_time": "2022-07-30T19:48:18.969Z"
   },
   {
    "duration": 14,
    "start_time": "2022-07-30T19:48:19.285Z"
   },
   {
    "duration": 2,
    "start_time": "2022-07-30T19:48:20.080Z"
   },
   {
    "duration": 3,
    "start_time": "2022-07-30T19:48:20.241Z"
   },
   {
    "duration": 4,
    "start_time": "2022-07-30T19:48:20.562Z"
   },
   {
    "duration": 17,
    "start_time": "2022-07-30T19:48:20.874Z"
   },
   {
    "duration": 11,
    "start_time": "2022-07-30T19:48:21.041Z"
   },
   {
    "duration": 17,
    "start_time": "2022-07-30T19:48:21.184Z"
   },
   {
    "duration": 11,
    "start_time": "2022-07-30T19:48:21.352Z"
   },
   {
    "duration": 9,
    "start_time": "2022-07-30T19:48:21.999Z"
   },
   {
    "duration": 6,
    "start_time": "2022-07-30T19:48:22.344Z"
   },
   {
    "duration": 7,
    "start_time": "2022-07-30T19:48:22.644Z"
   },
   {
    "duration": 5,
    "start_time": "2022-07-30T19:48:22.981Z"
   },
   {
    "duration": 346,
    "start_time": "2022-07-30T19:49:42.582Z"
   },
   {
    "duration": 178,
    "start_time": "2022-07-30T19:49:42.978Z"
   },
   {
    "duration": 8,
    "start_time": "2022-07-30T19:49:43.288Z"
   },
   {
    "duration": 29,
    "start_time": "2022-07-30T19:49:43.639Z"
   },
   {
    "duration": 3,
    "start_time": "2022-07-30T19:49:44.357Z"
   },
   {
    "duration": 3,
    "start_time": "2022-07-30T19:49:45.471Z"
   },
   {
    "duration": 13,
    "start_time": "2022-07-30T19:49:45.857Z"
   },
   {
    "duration": 3,
    "start_time": "2022-07-30T19:49:46.261Z"
   },
   {
    "duration": 23,
    "start_time": "2022-07-30T19:49:46.664Z"
   },
   {
    "duration": 16,
    "start_time": "2022-07-30T19:49:47.680Z"
   },
   {
    "duration": 25,
    "start_time": "2022-07-30T19:49:48.551Z"
   },
   {
    "duration": 63,
    "start_time": "2022-07-30T19:49:52.641Z"
   },
   {
    "duration": 68,
    "start_time": "2022-07-30T19:50:00.832Z"
   },
   {
    "duration": 72,
    "start_time": "2022-07-30T19:50:03.985Z"
   },
   {
    "duration": 51,
    "start_time": "2022-07-30T19:50:04.562Z"
   },
   {
    "duration": 11,
    "start_time": "2022-07-30T19:50:04.854Z"
   },
   {
    "duration": 7,
    "start_time": "2022-07-30T19:50:05.173Z"
   },
   {
    "duration": 22,
    "start_time": "2022-07-30T19:50:06.272Z"
   },
   {
    "duration": 24,
    "start_time": "2022-07-30T19:50:06.883Z"
   },
   {
    "duration": 3,
    "start_time": "2022-07-30T19:50:07.512Z"
   },
   {
    "duration": 17,
    "start_time": "2022-07-30T19:50:07.942Z"
   },
   {
    "duration": 13,
    "start_time": "2022-07-30T19:50:08.173Z"
   },
   {
    "duration": 14,
    "start_time": "2022-07-30T19:50:08.400Z"
   },
   {
    "duration": 14,
    "start_time": "2022-07-30T19:50:08.640Z"
   },
   {
    "duration": 19,
    "start_time": "2022-07-30T19:50:08.854Z"
   },
   {
    "duration": 14,
    "start_time": "2022-07-30T19:50:09.063Z"
   },
   {
    "duration": 15,
    "start_time": "2022-07-30T19:50:09.502Z"
   },
   {
    "duration": 3,
    "start_time": "2022-07-30T19:50:10.513Z"
   },
   {
    "duration": 2,
    "start_time": "2022-07-30T19:50:10.741Z"
   },
   {
    "duration": 5,
    "start_time": "2022-07-30T19:50:11.144Z"
   },
   {
    "duration": 17,
    "start_time": "2022-07-30T19:50:11.543Z"
   },
   {
    "duration": 10,
    "start_time": "2022-07-30T19:50:11.773Z"
   },
   {
    "duration": 19,
    "start_time": "2022-07-30T19:50:12.001Z"
   },
   {
    "duration": 12,
    "start_time": "2022-07-30T19:50:12.487Z"
   },
   {
    "duration": 20,
    "start_time": "2022-07-30T19:50:14.439Z"
   },
   {
    "duration": 3,
    "start_time": "2022-07-30T19:50:15.656Z"
   },
   {
    "duration": 10,
    "start_time": "2022-07-30T19:50:17.303Z"
   },
   {
    "duration": 3,
    "start_time": "2022-07-30T19:50:18.155Z"
   },
   {
    "duration": 41,
    "start_time": "2022-07-30T19:56:01.042Z"
   },
   {
    "duration": 104,
    "start_time": "2022-07-30T19:56:38.895Z"
   },
   {
    "duration": 51,
    "start_time": "2022-07-30T19:57:06.593Z"
   },
   {
    "duration": 72,
    "start_time": "2022-07-30T19:58:00.315Z"
   },
   {
    "duration": 37,
    "start_time": "2022-07-30T19:58:12.042Z"
   },
   {
    "duration": 88,
    "start_time": "2022-07-30T20:04:31.685Z"
   },
   {
    "duration": 44,
    "start_time": "2022-07-30T20:11:41.332Z"
   },
   {
    "duration": 42,
    "start_time": "2022-07-30T20:11:43.530Z"
   },
   {
    "duration": 45,
    "start_time": "2022-07-30T20:11:52.891Z"
   },
   {
    "duration": 10,
    "start_time": "2022-07-30T20:14:57.538Z"
   },
   {
    "duration": 11,
    "start_time": "2022-07-30T20:15:25.933Z"
   },
   {
    "duration": 380,
    "start_time": "2022-07-30T20:37:11.570Z"
   },
   {
    "duration": 183,
    "start_time": "2022-07-30T20:37:12.032Z"
   },
   {
    "duration": 8,
    "start_time": "2022-07-30T20:37:12.369Z"
   },
   {
    "duration": 38,
    "start_time": "2022-07-30T20:37:12.718Z"
   },
   {
    "duration": 3,
    "start_time": "2022-07-30T20:37:13.235Z"
   },
   {
    "duration": 5,
    "start_time": "2022-07-30T20:37:14.040Z"
   },
   {
    "duration": 14,
    "start_time": "2022-07-30T20:37:14.369Z"
   },
   {
    "duration": 3,
    "start_time": "2022-07-30T20:37:14.718Z"
   },
   {
    "duration": 28,
    "start_time": "2022-07-30T20:37:15.051Z"
   },
   {
    "duration": 19,
    "start_time": "2022-07-30T20:37:15.579Z"
   },
   {
    "duration": 23,
    "start_time": "2022-07-30T20:37:16.072Z"
   },
   {
    "duration": 69,
    "start_time": "2022-07-30T20:37:16.439Z"
   },
   {
    "duration": 79,
    "start_time": "2022-07-30T20:37:16.796Z"
   },
   {
    "duration": 78,
    "start_time": "2022-07-30T20:37:17.135Z"
   },
   {
    "duration": 49,
    "start_time": "2022-07-30T20:37:17.815Z"
   },
   {
    "duration": 11,
    "start_time": "2022-07-30T20:37:18.366Z"
   },
   {
    "duration": 46,
    "start_time": "2022-07-30T20:37:18.720Z"
   },
   {
    "duration": 42,
    "start_time": "2022-07-30T20:37:20.640Z"
   },
   {
    "duration": 11,
    "start_time": "2022-07-30T20:37:21.594Z"
   },
   {
    "duration": 5,
    "start_time": "2022-07-30T20:37:22.918Z"
   },
   {
    "duration": 19,
    "start_time": "2022-07-30T20:37:26.936Z"
   },
   {
    "duration": 23,
    "start_time": "2022-07-30T20:37:27.230Z"
   },
   {
    "duration": 15,
    "start_time": "2022-07-30T20:37:27.742Z"
   },
   {
    "duration": 18,
    "start_time": "2022-07-30T20:37:28.214Z"
   },
   {
    "duration": 24,
    "start_time": "2022-07-30T20:37:31.615Z"
   },
   {
    "duration": 15,
    "start_time": "2022-07-30T20:37:33.238Z"
   },
   {
    "duration": 7,
    "start_time": "2022-07-30T20:37:34.937Z"
   },
   {
    "duration": 2,
    "start_time": "2022-07-30T20:37:37.990Z"
   },
   {
    "duration": 3,
    "start_time": "2022-07-30T20:37:38.476Z"
   },
   {
    "duration": 5,
    "start_time": "2022-07-30T20:37:42.858Z"
   },
   {
    "duration": 10,
    "start_time": "2022-07-30T20:37:44.821Z"
   },
   {
    "duration": 39,
    "start_time": "2022-07-30T20:37:51.118Z"
   },
   {
    "duration": 25,
    "start_time": "2022-07-30T20:38:03.363Z"
   },
   {
    "duration": 5,
    "start_time": "2022-07-30T20:39:49.317Z"
   },
   {
    "duration": 17,
    "start_time": "2022-07-30T20:39:50.155Z"
   },
   {
    "duration": 12,
    "start_time": "2022-07-30T20:39:50.355Z"
   },
   {
    "duration": 22,
    "start_time": "2022-07-30T20:39:50.551Z"
   },
   {
    "duration": 15,
    "start_time": "2022-07-30T20:39:50.757Z"
   },
   {
    "duration": 13,
    "start_time": "2022-07-30T20:39:51.518Z"
   },
   {
    "duration": 4,
    "start_time": "2022-07-30T20:39:51.942Z"
   },
   {
    "duration": 9,
    "start_time": "2022-07-30T20:39:53.018Z"
   },
   {
    "duration": 4,
    "start_time": "2022-07-30T20:39:54.018Z"
   }
  ],
  "colab": {
   "collapsed_sections": [
    "E0vqbgi9ay0H",
    "VUC88oWjTJw2"
   ],
   "name": "automatization_template_upd4.ipynb",
   "provenance": []
  },
  "kernelspec": {
   "display_name": "Python 3 (ipykernel)",
   "language": "python",
   "name": "python3"
  },
  "language_info": {
   "codemirror_mode": {
    "name": "ipython",
    "version": 3
   },
   "file_extension": ".py",
   "mimetype": "text/x-python",
   "name": "python",
   "nbconvert_exporter": "python",
   "pygments_lexer": "ipython3",
   "version": "3.9.12"
  },
  "toc": {
   "base_numbering": 1,
   "nav_menu": {
    "height": "215px",
    "width": "403px"
   },
   "number_sections": true,
   "sideBar": true,
   "skip_h1_title": true,
   "title_cell": "Table of Contents",
   "title_sidebar": "Contents",
   "toc_cell": false,
   "toc_position": {
    "height": "calc(100% - 180px)",
    "left": "10px",
    "top": "150px",
    "width": "285.825px"
   },
   "toc_section_display": true,
   "toc_window_display": false
  }
 },
 "nbformat": 4,
 "nbformat_minor": 1
}
