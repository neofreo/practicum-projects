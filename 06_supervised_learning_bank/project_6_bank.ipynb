{
 "cells": [
  {
   "cell_type": "markdown",
   "metadata": {},
   "source": [
    "# Отток клиентов"
   ]
  },
  {
   "cell_type": "markdown",
   "metadata": {},
   "source": [
    "### Цель проекта"
   ]
  },
  {
   "cell_type": "markdown",
   "metadata": {},
   "source": [
    "На основе исторических данных о поведении клиентов и расторжении договоров в банком построить модели машинного обучения которые помогут спрогнозировать уход клиентов.\n",
    "* метрика оценки модели - значение F1\n",
    "* построить график AUC-ROC\n",
    "* минимально приемлимое значение метрики F1 = 0.59"
   ]
  },
  {
   "cell_type": "markdown",
   "metadata": {},
   "source": [
    "План работы:\n",
    "\n",
    "* Разделить исходные данные на обучающую, валидационную и тестовую выборки в соотношении 60-20-20\n",
    "* рассмотреть модель без учета дизбаланса, исследовать баланс классов\n",
    "* Исследовать качество нескольких разных моделей, меняя гиперпараметры и учитывая дисбаланс классов\n",
    "* Проврить качество лучшей модели на тестовой выборке.\n",
    "* Проверить модель на вменяемость\n",
    "* Сформулировать выводы"
   ]
  },
  {
   "cell_type": "markdown",
   "metadata": {},
   "source": [
    "Признаки\n",
    "\n",
    "* RowNumber — индекс строки в данных\n",
    "* CustomerId — уникальный идентификатор клиента\n",
    "* Surname — фамилия\n",
    "* CreditScore — кредитный рейтинг\n",
    "* Geography — страна проживания\n",
    "* Gender — пол\n",
    "* Age — возраст\n",
    "* Tenure — сколько лет человек является клиентом банка\n",
    "* Balance — баланс на счёте\n",
    "* NumOfProducts — количество продуктов банка, используемых клиентом\n",
    "* HasCrCard — наличие кредитной карты\n",
    "* IsActiveMember — активность клиента\n",
    "* EstimatedSalary — предполагаемая зарплата\n",
    "\n",
    "Целевой признак\n",
    "\n",
    "* Exited — факт ухода клиента"
   ]
  },
  {
   "cell_type": "markdown",
   "metadata": {},
   "source": [
    "## Подготовка данных"
   ]
  },
  {
   "cell_type": "code",
   "execution_count": 1,
   "metadata": {},
   "outputs": [],
   "source": [
    "import pandas as pd\n",
    "import matplotlib.pyplot as plt\n",
    "import numpy as np\n",
    "\n",
    "from sklearn.preprocessing import StandardScaler\n",
    "\n",
    "from sklearn.model_selection import train_test_split\n",
    "\n",
    "from sklearn.linear_model import LinearRegression, LogisticRegression\n",
    "from sklearn.tree import DecisionTreeRegressor, DecisionTreeClassifier\n",
    "from sklearn.ensemble import RandomForestRegressor, RandomForestClassifier\n",
    "from sklearn.metrics import f1_score, r2_score, precision_score, recall_score, accuracy_score\n",
    "from sklearn.metrics import roc_auc_score, roc_curve, precision_recall_curve\n",
    "\n",
    "from sklearn.dummy import DummyClassifier\n",
    "\n"
   ]
  },
  {
   "cell_type": "code",
   "execution_count": 2,
   "metadata": {},
   "outputs": [],
   "source": [
    "data = pd.read_csv('C:\\\\Users\\\\Freo\\\\Desktop\\\\projects\\\\datasets\\\\p6.csv')"
   ]
  },
  {
   "cell_type": "code",
   "execution_count": 3,
   "metadata": {},
   "outputs": [
    {
     "data": {
      "text/html": [
       "<div>\n",
       "<style scoped>\n",
       "    .dataframe tbody tr th:only-of-type {\n",
       "        vertical-align: middle;\n",
       "    }\n",
       "\n",
       "    .dataframe tbody tr th {\n",
       "        vertical-align: top;\n",
       "    }\n",
       "\n",
       "    .dataframe thead th {\n",
       "        text-align: right;\n",
       "    }\n",
       "</style>\n",
       "<table border=\"1\" class=\"dataframe\">\n",
       "  <thead>\n",
       "    <tr style=\"text-align: right;\">\n",
       "      <th></th>\n",
       "      <th>RowNumber</th>\n",
       "      <th>CustomerId</th>\n",
       "      <th>Surname</th>\n",
       "      <th>CreditScore</th>\n",
       "      <th>Geography</th>\n",
       "      <th>Gender</th>\n",
       "      <th>Age</th>\n",
       "      <th>Tenure</th>\n",
       "      <th>Balance</th>\n",
       "      <th>NumOfProducts</th>\n",
       "      <th>HasCrCard</th>\n",
       "      <th>IsActiveMember</th>\n",
       "      <th>EstimatedSalary</th>\n",
       "      <th>Exited</th>\n",
       "    </tr>\n",
       "  </thead>\n",
       "  <tbody>\n",
       "    <tr>\n",
       "      <th>0</th>\n",
       "      <td>1</td>\n",
       "      <td>15634602</td>\n",
       "      <td>Hargrave</td>\n",
       "      <td>619</td>\n",
       "      <td>France</td>\n",
       "      <td>Female</td>\n",
       "      <td>42</td>\n",
       "      <td>2.0</td>\n",
       "      <td>0.00</td>\n",
       "      <td>1</td>\n",
       "      <td>1</td>\n",
       "      <td>1</td>\n",
       "      <td>101348.88</td>\n",
       "      <td>1</td>\n",
       "    </tr>\n",
       "    <tr>\n",
       "      <th>1</th>\n",
       "      <td>2</td>\n",
       "      <td>15647311</td>\n",
       "      <td>Hill</td>\n",
       "      <td>608</td>\n",
       "      <td>Spain</td>\n",
       "      <td>Female</td>\n",
       "      <td>41</td>\n",
       "      <td>1.0</td>\n",
       "      <td>83807.86</td>\n",
       "      <td>1</td>\n",
       "      <td>0</td>\n",
       "      <td>1</td>\n",
       "      <td>112542.58</td>\n",
       "      <td>0</td>\n",
       "    </tr>\n",
       "    <tr>\n",
       "      <th>2</th>\n",
       "      <td>3</td>\n",
       "      <td>15619304</td>\n",
       "      <td>Onio</td>\n",
       "      <td>502</td>\n",
       "      <td>France</td>\n",
       "      <td>Female</td>\n",
       "      <td>42</td>\n",
       "      <td>8.0</td>\n",
       "      <td>159660.80</td>\n",
       "      <td>3</td>\n",
       "      <td>1</td>\n",
       "      <td>0</td>\n",
       "      <td>113931.57</td>\n",
       "      <td>1</td>\n",
       "    </tr>\n",
       "    <tr>\n",
       "      <th>3</th>\n",
       "      <td>4</td>\n",
       "      <td>15701354</td>\n",
       "      <td>Boni</td>\n",
       "      <td>699</td>\n",
       "      <td>France</td>\n",
       "      <td>Female</td>\n",
       "      <td>39</td>\n",
       "      <td>1.0</td>\n",
       "      <td>0.00</td>\n",
       "      <td>2</td>\n",
       "      <td>0</td>\n",
       "      <td>0</td>\n",
       "      <td>93826.63</td>\n",
       "      <td>0</td>\n",
       "    </tr>\n",
       "    <tr>\n",
       "      <th>4</th>\n",
       "      <td>5</td>\n",
       "      <td>15737888</td>\n",
       "      <td>Mitchell</td>\n",
       "      <td>850</td>\n",
       "      <td>Spain</td>\n",
       "      <td>Female</td>\n",
       "      <td>43</td>\n",
       "      <td>2.0</td>\n",
       "      <td>125510.82</td>\n",
       "      <td>1</td>\n",
       "      <td>1</td>\n",
       "      <td>1</td>\n",
       "      <td>79084.10</td>\n",
       "      <td>0</td>\n",
       "    </tr>\n",
       "    <tr>\n",
       "      <th>...</th>\n",
       "      <td>...</td>\n",
       "      <td>...</td>\n",
       "      <td>...</td>\n",
       "      <td>...</td>\n",
       "      <td>...</td>\n",
       "      <td>...</td>\n",
       "      <td>...</td>\n",
       "      <td>...</td>\n",
       "      <td>...</td>\n",
       "      <td>...</td>\n",
       "      <td>...</td>\n",
       "      <td>...</td>\n",
       "      <td>...</td>\n",
       "      <td>...</td>\n",
       "    </tr>\n",
       "    <tr>\n",
       "      <th>9995</th>\n",
       "      <td>9996</td>\n",
       "      <td>15606229</td>\n",
       "      <td>Obijiaku</td>\n",
       "      <td>771</td>\n",
       "      <td>France</td>\n",
       "      <td>Male</td>\n",
       "      <td>39</td>\n",
       "      <td>5.0</td>\n",
       "      <td>0.00</td>\n",
       "      <td>2</td>\n",
       "      <td>1</td>\n",
       "      <td>0</td>\n",
       "      <td>96270.64</td>\n",
       "      <td>0</td>\n",
       "    </tr>\n",
       "    <tr>\n",
       "      <th>9996</th>\n",
       "      <td>9997</td>\n",
       "      <td>15569892</td>\n",
       "      <td>Johnstone</td>\n",
       "      <td>516</td>\n",
       "      <td>France</td>\n",
       "      <td>Male</td>\n",
       "      <td>35</td>\n",
       "      <td>10.0</td>\n",
       "      <td>57369.61</td>\n",
       "      <td>1</td>\n",
       "      <td>1</td>\n",
       "      <td>1</td>\n",
       "      <td>101699.77</td>\n",
       "      <td>0</td>\n",
       "    </tr>\n",
       "    <tr>\n",
       "      <th>9997</th>\n",
       "      <td>9998</td>\n",
       "      <td>15584532</td>\n",
       "      <td>Liu</td>\n",
       "      <td>709</td>\n",
       "      <td>France</td>\n",
       "      <td>Female</td>\n",
       "      <td>36</td>\n",
       "      <td>7.0</td>\n",
       "      <td>0.00</td>\n",
       "      <td>1</td>\n",
       "      <td>0</td>\n",
       "      <td>1</td>\n",
       "      <td>42085.58</td>\n",
       "      <td>1</td>\n",
       "    </tr>\n",
       "    <tr>\n",
       "      <th>9998</th>\n",
       "      <td>9999</td>\n",
       "      <td>15682355</td>\n",
       "      <td>Sabbatini</td>\n",
       "      <td>772</td>\n",
       "      <td>Germany</td>\n",
       "      <td>Male</td>\n",
       "      <td>42</td>\n",
       "      <td>3.0</td>\n",
       "      <td>75075.31</td>\n",
       "      <td>2</td>\n",
       "      <td>1</td>\n",
       "      <td>0</td>\n",
       "      <td>92888.52</td>\n",
       "      <td>1</td>\n",
       "    </tr>\n",
       "    <tr>\n",
       "      <th>9999</th>\n",
       "      <td>10000</td>\n",
       "      <td>15628319</td>\n",
       "      <td>Walker</td>\n",
       "      <td>792</td>\n",
       "      <td>France</td>\n",
       "      <td>Female</td>\n",
       "      <td>28</td>\n",
       "      <td>NaN</td>\n",
       "      <td>130142.79</td>\n",
       "      <td>1</td>\n",
       "      <td>1</td>\n",
       "      <td>0</td>\n",
       "      <td>38190.78</td>\n",
       "      <td>0</td>\n",
       "    </tr>\n",
       "  </tbody>\n",
       "</table>\n",
       "<p>10000 rows × 14 columns</p>\n",
       "</div>"
      ],
      "text/plain": [
       "      RowNumber  CustomerId    Surname  CreditScore Geography  Gender  Age  \\\n",
       "0             1    15634602   Hargrave          619    France  Female   42   \n",
       "1             2    15647311       Hill          608     Spain  Female   41   \n",
       "2             3    15619304       Onio          502    France  Female   42   \n",
       "3             4    15701354       Boni          699    France  Female   39   \n",
       "4             5    15737888   Mitchell          850     Spain  Female   43   \n",
       "...         ...         ...        ...          ...       ...     ...  ...   \n",
       "9995       9996    15606229   Obijiaku          771    France    Male   39   \n",
       "9996       9997    15569892  Johnstone          516    France    Male   35   \n",
       "9997       9998    15584532        Liu          709    France  Female   36   \n",
       "9998       9999    15682355  Sabbatini          772   Germany    Male   42   \n",
       "9999      10000    15628319     Walker          792    France  Female   28   \n",
       "\n",
       "      Tenure    Balance  NumOfProducts  HasCrCard  IsActiveMember  \\\n",
       "0        2.0       0.00              1          1               1   \n",
       "1        1.0   83807.86              1          0               1   \n",
       "2        8.0  159660.80              3          1               0   \n",
       "3        1.0       0.00              2          0               0   \n",
       "4        2.0  125510.82              1          1               1   \n",
       "...      ...        ...            ...        ...             ...   \n",
       "9995     5.0       0.00              2          1               0   \n",
       "9996    10.0   57369.61              1          1               1   \n",
       "9997     7.0       0.00              1          0               1   \n",
       "9998     3.0   75075.31              2          1               0   \n",
       "9999     NaN  130142.79              1          1               0   \n",
       "\n",
       "      EstimatedSalary  Exited  \n",
       "0           101348.88       1  \n",
       "1           112542.58       0  \n",
       "2           113931.57       1  \n",
       "3            93826.63       0  \n",
       "4            79084.10       0  \n",
       "...               ...     ...  \n",
       "9995         96270.64       0  \n",
       "9996        101699.77       0  \n",
       "9997         42085.58       1  \n",
       "9998         92888.52       1  \n",
       "9999         38190.78       0  \n",
       "\n",
       "[10000 rows x 14 columns]"
      ]
     },
     "execution_count": 3,
     "metadata": {},
     "output_type": "execute_result"
    }
   ],
   "source": [
    "data"
   ]
  },
  {
   "cell_type": "markdown",
   "metadata": {},
   "source": [
    "подготовим данные:\n",
    "колонки 'RowNumber', 'CustomerId', 'Surname' для обучения нашей модели явно не важны"
   ]
  },
  {
   "cell_type": "code",
   "execution_count": 4,
   "metadata": {},
   "outputs": [],
   "source": [
    "data_preprocessed = data.drop(['RowNumber', 'CustomerId', 'Surname'], axis=1)"
   ]
  },
  {
   "cell_type": "markdown",
   "metadata": {},
   "source": [
    "посмотрим на наличие пропусков"
   ]
  },
  {
   "cell_type": "code",
   "execution_count": 5,
   "metadata": {},
   "outputs": [
    {
     "name": "stdout",
     "output_type": "stream",
     "text": [
      "<class 'pandas.core.frame.DataFrame'>\n",
      "RangeIndex: 10000 entries, 0 to 9999\n",
      "Data columns (total 11 columns):\n",
      " #   Column           Non-Null Count  Dtype  \n",
      "---  ------           --------------  -----  \n",
      " 0   CreditScore      10000 non-null  int64  \n",
      " 1   Geography        10000 non-null  object \n",
      " 2   Gender           10000 non-null  object \n",
      " 3   Age              10000 non-null  int64  \n",
      " 4   Tenure           9091 non-null   float64\n",
      " 5   Balance          10000 non-null  float64\n",
      " 6   NumOfProducts    10000 non-null  int64  \n",
      " 7   HasCrCard        10000 non-null  int64  \n",
      " 8   IsActiveMember   10000 non-null  int64  \n",
      " 9   EstimatedSalary  10000 non-null  float64\n",
      " 10  Exited           10000 non-null  int64  \n",
      "dtypes: float64(3), int64(6), object(2)\n",
      "memory usage: 859.5+ KB\n"
     ]
    }
   ],
   "source": [
    "data_preprocessed.info()"
   ]
  },
  {
   "cell_type": "markdown",
   "metadata": {},
   "source": [
    "нашли пропуски в столбце \"стажа\" пользователей, посмотрим на них"
   ]
  },
  {
   "cell_type": "code",
   "execution_count": 6,
   "metadata": {},
   "outputs": [
    {
     "data": {
      "text/plain": [
       "Tenure\n",
       "0.0     382\n",
       "1.0     952\n",
       "2.0     950\n",
       "3.0     928\n",
       "4.0     885\n",
       "5.0     927\n",
       "6.0     881\n",
       "7.0     925\n",
       "8.0     933\n",
       "9.0     882\n",
       "10.0    446\n",
       "Name: count, dtype: int64"
      ]
     },
     "execution_count": 6,
     "metadata": {},
     "output_type": "execute_result"
    }
   ],
   "source": [
    "data_preprocessed['Tenure'].value_counts().sort_index()"
   ]
  },
  {
   "cell_type": "code",
   "execution_count": 7,
   "metadata": {},
   "outputs": [
    {
     "data": {
      "text/plain": [
       "<Axes: >"
      ]
     },
     "execution_count": 7,
     "metadata": {},
     "output_type": "execute_result"
    },
    {
     "data": {
      "image/png": "[encoded data removed]",
      "text/plain": [
       "<Figure size 640x480 with 1 Axes>"
      ]
     },
     "metadata": {},
     "output_type": "display_data"
    }
   ],
   "source": [
    "data_preprocessed['Tenure'].hist(bins=11)"
   ]
  },
  {
   "cell_type": "markdown",
   "metadata": {},
   "source": [
    "Стаж клиентов распределен довольно равномерно по большинству годов, однако есть большой недобор по клиентам которым меньше года. Пропуски в стаже могут быть обусловлены как тем что это новые клиенты, так и совершенно не связанной с этим причиной.\n",
    "\n",
    "На первый взгляд есть несколько вариантов что делать с этими пропусками\n",
    "* попробовать найти исходные данные\n",
    "* поискать корреляцию с другими признаками, сгруппировать данные по этим признакам и заполнить медианой по группам\n",
    "* удалить их\n",
    "* заполнить заглушкой или случайными значениям"
   ]
  },
  {
   "cell_type": "markdown",
   "metadata": {},
   "source": [
    "Получилось добиться наиболее предпочтительного варианта, найдя исходные данные "
   ]
  },
  {
   "cell_type": "code",
   "execution_count": 8,
   "metadata": {},
   "outputs": [],
   "source": [
    "data = pd.read_csv('C:\\\\Users\\\\Freo\\\\Desktop\\\\projects\\\\datasets\\\\Churn_Modelling.csv')"
   ]
  },
  {
   "cell_type": "code",
   "execution_count": 9,
   "metadata": {},
   "outputs": [
    {
     "data": {
      "text/html": [
       "<div>\n",
       "<style scoped>\n",
       "    .dataframe tbody tr th:only-of-type {\n",
       "        vertical-align: middle;\n",
       "    }\n",
       "\n",
       "    .dataframe tbody tr th {\n",
       "        vertical-align: top;\n",
       "    }\n",
       "\n",
       "    .dataframe thead th {\n",
       "        text-align: right;\n",
       "    }\n",
       "</style>\n",
       "<table border=\"1\" class=\"dataframe\">\n",
       "  <thead>\n",
       "    <tr style=\"text-align: right;\">\n",
       "      <th></th>\n",
       "      <th>RowNumber</th>\n",
       "      <th>CustomerId</th>\n",
       "      <th>Surname</th>\n",
       "      <th>CreditScore</th>\n",
       "      <th>Geography</th>\n",
       "      <th>Gender</th>\n",
       "      <th>Age</th>\n",
       "      <th>Tenure</th>\n",
       "      <th>Balance</th>\n",
       "      <th>NumOfProducts</th>\n",
       "      <th>HasCrCard</th>\n",
       "      <th>IsActiveMember</th>\n",
       "      <th>EstimatedSalary</th>\n",
       "      <th>Exited</th>\n",
       "    </tr>\n",
       "  </thead>\n",
       "  <tbody>\n",
       "    <tr>\n",
       "      <th>0</th>\n",
       "      <td>1</td>\n",
       "      <td>15634602</td>\n",
       "      <td>Hargrave</td>\n",
       "      <td>619</td>\n",
       "      <td>France</td>\n",
       "      <td>Female</td>\n",
       "      <td>42</td>\n",
       "      <td>2</td>\n",
       "      <td>0.00</td>\n",
       "      <td>1</td>\n",
       "      <td>1</td>\n",
       "      <td>1</td>\n",
       "      <td>101348.88</td>\n",
       "      <td>1</td>\n",
       "    </tr>\n",
       "    <tr>\n",
       "      <th>1</th>\n",
       "      <td>2</td>\n",
       "      <td>15647311</td>\n",
       "      <td>Hill</td>\n",
       "      <td>608</td>\n",
       "      <td>Spain</td>\n",
       "      <td>Female</td>\n",
       "      <td>41</td>\n",
       "      <td>1</td>\n",
       "      <td>83807.86</td>\n",
       "      <td>1</td>\n",
       "      <td>0</td>\n",
       "      <td>1</td>\n",
       "      <td>112542.58</td>\n",
       "      <td>0</td>\n",
       "    </tr>\n",
       "    <tr>\n",
       "      <th>2</th>\n",
       "      <td>3</td>\n",
       "      <td>15619304</td>\n",
       "      <td>Onio</td>\n",
       "      <td>502</td>\n",
       "      <td>France</td>\n",
       "      <td>Female</td>\n",
       "      <td>42</td>\n",
       "      <td>8</td>\n",
       "      <td>159660.80</td>\n",
       "      <td>3</td>\n",
       "      <td>1</td>\n",
       "      <td>0</td>\n",
       "      <td>113931.57</td>\n",
       "      <td>1</td>\n",
       "    </tr>\n",
       "    <tr>\n",
       "      <th>3</th>\n",
       "      <td>4</td>\n",
       "      <td>15701354</td>\n",
       "      <td>Boni</td>\n",
       "      <td>699</td>\n",
       "      <td>France</td>\n",
       "      <td>Female</td>\n",
       "      <td>39</td>\n",
       "      <td>1</td>\n",
       "      <td>0.00</td>\n",
       "      <td>2</td>\n",
       "      <td>0</td>\n",
       "      <td>0</td>\n",
       "      <td>93826.63</td>\n",
       "      <td>0</td>\n",
       "    </tr>\n",
       "    <tr>\n",
       "      <th>4</th>\n",
       "      <td>5</td>\n",
       "      <td>15737888</td>\n",
       "      <td>Mitchell</td>\n",
       "      <td>850</td>\n",
       "      <td>Spain</td>\n",
       "      <td>Female</td>\n",
       "      <td>43</td>\n",
       "      <td>2</td>\n",
       "      <td>125510.82</td>\n",
       "      <td>1</td>\n",
       "      <td>1</td>\n",
       "      <td>1</td>\n",
       "      <td>79084.10</td>\n",
       "      <td>0</td>\n",
       "    </tr>\n",
       "    <tr>\n",
       "      <th>...</th>\n",
       "      <td>...</td>\n",
       "      <td>...</td>\n",
       "      <td>...</td>\n",
       "      <td>...</td>\n",
       "      <td>...</td>\n",
       "      <td>...</td>\n",
       "      <td>...</td>\n",
       "      <td>...</td>\n",
       "      <td>...</td>\n",
       "      <td>...</td>\n",
       "      <td>...</td>\n",
       "      <td>...</td>\n",
       "      <td>...</td>\n",
       "      <td>...</td>\n",
       "    </tr>\n",
       "    <tr>\n",
       "      <th>9995</th>\n",
       "      <td>9996</td>\n",
       "      <td>15606229</td>\n",
       "      <td>Obijiaku</td>\n",
       "      <td>771</td>\n",
       "      <td>France</td>\n",
       "      <td>Male</td>\n",
       "      <td>39</td>\n",
       "      <td>5</td>\n",
       "      <td>0.00</td>\n",
       "      <td>2</td>\n",
       "      <td>1</td>\n",
       "      <td>0</td>\n",
       "      <td>96270.64</td>\n",
       "      <td>0</td>\n",
       "    </tr>\n",
       "    <tr>\n",
       "      <th>9996</th>\n",
       "      <td>9997</td>\n",
       "      <td>15569892</td>\n",
       "      <td>Johnstone</td>\n",
       "      <td>516</td>\n",
       "      <td>France</td>\n",
       "      <td>Male</td>\n",
       "      <td>35</td>\n",
       "      <td>10</td>\n",
       "      <td>57369.61</td>\n",
       "      <td>1</td>\n",
       "      <td>1</td>\n",
       "      <td>1</td>\n",
       "      <td>101699.77</td>\n",
       "      <td>0</td>\n",
       "    </tr>\n",
       "    <tr>\n",
       "      <th>9997</th>\n",
       "      <td>9998</td>\n",
       "      <td>15584532</td>\n",
       "      <td>Liu</td>\n",
       "      <td>709</td>\n",
       "      <td>France</td>\n",
       "      <td>Female</td>\n",
       "      <td>36</td>\n",
       "      <td>7</td>\n",
       "      <td>0.00</td>\n",
       "      <td>1</td>\n",
       "      <td>0</td>\n",
       "      <td>1</td>\n",
       "      <td>42085.58</td>\n",
       "      <td>1</td>\n",
       "    </tr>\n",
       "    <tr>\n",
       "      <th>9998</th>\n",
       "      <td>9999</td>\n",
       "      <td>15682355</td>\n",
       "      <td>Sabbatini</td>\n",
       "      <td>772</td>\n",
       "      <td>Germany</td>\n",
       "      <td>Male</td>\n",
       "      <td>42</td>\n",
       "      <td>3</td>\n",
       "      <td>75075.31</td>\n",
       "      <td>2</td>\n",
       "      <td>1</td>\n",
       "      <td>0</td>\n",
       "      <td>92888.52</td>\n",
       "      <td>1</td>\n",
       "    </tr>\n",
       "    <tr>\n",
       "      <th>9999</th>\n",
       "      <td>10000</td>\n",
       "      <td>15628319</td>\n",
       "      <td>Walker</td>\n",
       "      <td>792</td>\n",
       "      <td>France</td>\n",
       "      <td>Female</td>\n",
       "      <td>28</td>\n",
       "      <td>4</td>\n",
       "      <td>130142.79</td>\n",
       "      <td>1</td>\n",
       "      <td>1</td>\n",
       "      <td>0</td>\n",
       "      <td>38190.78</td>\n",
       "      <td>0</td>\n",
       "    </tr>\n",
       "  </tbody>\n",
       "</table>\n",
       "<p>10000 rows × 14 columns</p>\n",
       "</div>"
      ],
      "text/plain": [
       "      RowNumber  CustomerId    Surname  CreditScore Geography  Gender  Age  \\\n",
       "0             1    15634602   Hargrave          619    France  Female   42   \n",
       "1             2    15647311       Hill          608     Spain  Female   41   \n",
       "2             3    15619304       Onio          502    France  Female   42   \n",
       "3             4    15701354       Boni          699    France  Female   39   \n",
       "4             5    15737888   Mitchell          850     Spain  Female   43   \n",
       "...         ...         ...        ...          ...       ...     ...  ...   \n",
       "9995       9996    15606229   Obijiaku          771    France    Male   39   \n",
       "9996       9997    15569892  Johnstone          516    France    Male   35   \n",
       "9997       9998    15584532        Liu          709    France  Female   36   \n",
       "9998       9999    15682355  Sabbatini          772   Germany    Male   42   \n",
       "9999      10000    15628319     Walker          792    France  Female   28   \n",
       "\n",
       "      Tenure    Balance  NumOfProducts  HasCrCard  IsActiveMember  \\\n",
       "0          2       0.00              1          1               1   \n",
       "1          1   83807.86              1          0               1   \n",
       "2          8  159660.80              3          1               0   \n",
       "3          1       0.00              2          0               0   \n",
       "4          2  125510.82              1          1               1   \n",
       "...      ...        ...            ...        ...             ...   \n",
       "9995       5       0.00              2          1               0   \n",
       "9996      10   57369.61              1          1               1   \n",
       "9997       7       0.00              1          0               1   \n",
       "9998       3   75075.31              2          1               0   \n",
       "9999       4  130142.79              1          1               0   \n",
       "\n",
       "      EstimatedSalary  Exited  \n",
       "0           101348.88       1  \n",
       "1           112542.58       0  \n",
       "2           113931.57       1  \n",
       "3            93826.63       0  \n",
       "4            79084.10       0  \n",
       "...               ...     ...  \n",
       "9995         96270.64       0  \n",
       "9996        101699.77       0  \n",
       "9997         42085.58       1  \n",
       "9998         92888.52       1  \n",
       "9999         38190.78       0  \n",
       "\n",
       "[10000 rows x 14 columns]"
      ]
     },
     "execution_count": 9,
     "metadata": {},
     "output_type": "execute_result"
    }
   ],
   "source": [
    "data"
   ]
  },
  {
   "cell_type": "code",
   "execution_count": 10,
   "metadata": {},
   "outputs": [],
   "source": [
    "data_preprocessed = data.drop(['RowNumber', 'CustomerId', 'Surname'], axis=1)"
   ]
  },
  {
   "cell_type": "code",
   "execution_count": 11,
   "metadata": {},
   "outputs": [
    {
     "name": "stdout",
     "output_type": "stream",
     "text": [
      "<class 'pandas.core.frame.DataFrame'>\n",
      "RangeIndex: 10000 entries, 0 to 9999\n",
      "Data columns (total 11 columns):\n",
      " #   Column           Non-Null Count  Dtype  \n",
      "---  ------           --------------  -----  \n",
      " 0   CreditScore      10000 non-null  int64  \n",
      " 1   Geography        10000 non-null  object \n",
      " 2   Gender           10000 non-null  object \n",
      " 3   Age              10000 non-null  int64  \n",
      " 4   Tenure           10000 non-null  int64  \n",
      " 5   Balance          10000 non-null  float64\n",
      " 6   NumOfProducts    10000 non-null  int64  \n",
      " 7   HasCrCard        10000 non-null  int64  \n",
      " 8   IsActiveMember   10000 non-null  int64  \n",
      " 9   EstimatedSalary  10000 non-null  float64\n",
      " 10  Exited           10000 non-null  int64  \n",
      "dtypes: float64(2), int64(7), object(2)\n",
      "memory usage: 859.5+ KB\n"
     ]
    }
   ],
   "source": [
    "data_preprocessed.info()"
   ]
  },
  {
   "cell_type": "code",
   "execution_count": 12,
   "metadata": {},
   "outputs": [
    {
     "data": {
      "text/plain": [
       "Tenure\n",
       "0      413\n",
       "1     1035\n",
       "2     1048\n",
       "3     1009\n",
       "4      989\n",
       "5     1012\n",
       "6      967\n",
       "7     1028\n",
       "8     1025\n",
       "9      984\n",
       "10     490\n",
       "Name: count, dtype: int64"
      ]
     },
     "execution_count": 12,
     "metadata": {},
     "output_type": "execute_result"
    }
   ],
   "source": [
    "data_preprocessed['Tenure'].value_counts().sort_index()"
   ]
  },
  {
   "cell_type": "markdown",
   "metadata": {},
   "source": [
    "переведем страны в числовой формат создав дополнительные колонки со значениями 1 или 0"
   ]
  },
  {
   "cell_type": "code",
   "execution_count": 13,
   "metadata": {},
   "outputs": [],
   "source": [
    "data_ohe = pd.get_dummies(data_preprocessed, drop_first = True)"
   ]
  },
  {
   "cell_type": "code",
   "execution_count": 14,
   "metadata": {},
   "outputs": [],
   "source": [
    "R_STATE = 12345"
   ]
  },
  {
   "cell_type": "markdown",
   "metadata": {},
   "source": [
    "## Исследование задачи"
   ]
  },
  {
   "cell_type": "markdown",
   "metadata": {},
   "source": [
    "Исследуем баланс классов"
   ]
  },
  {
   "cell_type": "code",
   "execution_count": 15,
   "metadata": {},
   "outputs": [
    {
     "data": {
      "image/png": "[encoded data removed]",
      "text/plain": [
       "<Figure size 640x480 with 1 Axes>"
      ]
     },
     "metadata": {},
     "output_type": "display_data"
    }
   ],
   "source": [
    "data['Exited'].value_counts(normalize=True).plot(kind='pie');"
   ]
  },
  {
   "cell_type": "markdown",
   "metadata": {},
   "source": [
    "обучим модель без учёта дисбаланса"
   ]
  },
  {
   "cell_type": "code",
   "execution_count": 16,
   "metadata": {},
   "outputs": [],
   "source": [
    "features = data_ohe.drop(['Exited'], axis=1)\n",
    "target = data_ohe['Exited']\n",
    "\n",
    "\n",
    "features_train, features_temp, target_train, target_temp = train_test_split(\n",
    "    features, target, test_size=0.4, random_state=R_STATE)\n",
    "\n",
    "features_valid, features_test, target_valid, target_test = train_test_split(\n",
    "    features_temp, target_temp, test_size=0.5, random_state=R_STATE)"
   ]
  },
  {
   "cell_type": "code",
   "execution_count": 17,
   "metadata": {},
   "outputs": [
    {
     "name": "stdout",
     "output_type": "stream",
     "text": [
      "f1 0.5894736842105263\n",
      "accuracy 0.8635\n"
     ]
    }
   ],
   "source": [
    "model = RandomForestClassifier(random_state=R_STATE)\n",
    "model.fit(features_train, target_train)\n",
    "\n",
    "pred_valid = model.predict(features_valid)\n",
    "f1_score(target_valid, pred_valid)\n",
    "print('f1',f1_score(target_valid, pred_valid))\n",
    "print('accuracy', accuracy_score(target_valid, pred_valid))\n",
    "\n"
   ]
  },
  {
   "cell_type": "code",
   "execution_count": 18,
   "metadata": {},
   "outputs": [
    {
     "name": "stdout",
     "output_type": "stream",
     "text": [
      "auc roc  0.840690573981212\n"
     ]
    },
    {
     "data": {
      "image/png": "[encoded data removed]",
      "text/plain": [
       "<Figure size 640x480 with 1 Axes>"
      ]
     },
     "metadata": {},
     "output_type": "display_data"
    }
   ],
   "source": [
    "probabilities_valid = model.predict_proba(features_valid)\n",
    "probabilities_one_valid = probabilities_valid[:, 1]\n",
    "\n",
    "auc_roc = roc_auc_score(target_valid, probabilities_one_valid)\n",
    "print('auc roc ',auc_roc)\n",
    "\n",
    "fpr_0, tpr_0, thresholds = roc_curve(target_valid, probabilities_one_valid)\n",
    "\n",
    "plt.figure()\n",
    "plt.plot(fpr_0, tpr_0, linestyle='--')\n",
    "plt.xlim([0.0, 1.0])\n",
    "plt.ylim([0.0, 1.0])\n",
    "plt.xlabel('False Positive Rate')\n",
    "plt.ylabel('True Positive Rate')\n",
    "plt.title('ROC-кривая')\n",
    "plt.show()"
   ]
  },
  {
   "cell_type": "markdown",
   "metadata": {},
   "source": [
    "неплохо но до 59 немного нехватает; \n",
    "\n",
    "баланс классов в базе ощутимо смещен в сторону не ушедших клиентов; сбалансировав вес классов и стратифицировав выборки можно улучшить предсказательные возможности нашей модели"
   ]
  },
  {
   "cell_type": "markdown",
   "metadata": {},
   "source": [
    "## Борьба с дисбалансом"
   ]
  },
  {
   "cell_type": "markdown",
   "metadata": {},
   "source": [
    "Начнем улучшать качество модели со стратификации выборки"
   ]
  },
  {
   "cell_type": "code",
   "execution_count": 19,
   "metadata": {},
   "outputs": [],
   "source": [
    "features = data_ohe.drop(['Exited'], axis=1)\n",
    "target = data_ohe['Exited']\n",
    "\n",
    "\n",
    "features_train, features_temp, target_train, target_temp = train_test_split(\n",
    "    features, target, test_size=0.4, random_state=R_STATE, stratify = target)\n",
    "\n",
    "\n",
    "\n",
    "\n",
    "features_valid, features_test, target_valid, target_test = train_test_split(\n",
    "    features_temp, target_temp, test_size=0.5, random_state=R_STATE, stratify = target_temp)"
   ]
  },
  {
   "cell_type": "markdown",
   "metadata": {},
   "source": [
    "для работы с регрессиями зарание масштабируем значения столбцов"
   ]
  },
  {
   "cell_type": "code",
   "execution_count": 20,
   "metadata": {},
   "outputs": [],
   "source": [
    "scaler = StandardScaler()\n",
    "scaler.fit(features_train)\n",
    "features_train = scaler.transform(features_train)\n",
    "features_valid = scaler.transform(features_valid)\n",
    "features_test = scaler.transform(features_test)"
   ]
  },
  {
   "cell_type": "markdown",
   "metadata": {},
   "source": [
    "построим несколько моделей; добавим class_weight='balanced' для сбалансированности классов"
   ]
  },
  {
   "cell_type": "markdown",
   "metadata": {},
   "source": [
    "### RF c class_weight='balanced'"
   ]
  },
  {
   "cell_type": "code",
   "execution_count": 21,
   "metadata": {},
   "outputs": [
    {
     "name": "stdout",
     "output_type": "stream",
     "text": [
      "f1_score лучшей модели:, 0.6425438596491229, на глубине 8\n"
     ]
    }
   ],
   "source": [
    "best_model = None\n",
    "best_result = 0\n",
    "best_depth = 0\n",
    "for depth in range(1, 15):\n",
    "    model = RandomForestClassifier(random_state=R_STATE, max_depth = depth, class_weight='balanced')\n",
    "    model.fit(features_train, target_train)\n",
    "    pred_v = model.predict(features_valid)\n",
    "    result = f1_score(target_valid, pred_v)\n",
    "\n",
    "    if result > best_result:\n",
    "        best_model_dt = model\n",
    "        best_result = result\n",
    "        best_depth = depth\n",
    "print(f'f1_score лучшей модели:, {best_result}, на глубине {best_depth}')"
   ]
  },
  {
   "cell_type": "code",
   "execution_count": 22,
   "metadata": {},
   "outputs": [
    {
     "name": "stdout",
     "output_type": "stream",
     "text": [
      "f1_score лучшей модели:, 0.6528384279475983, на глубине 8, est = 200\n"
     ]
    }
   ],
   "source": [
    "best_model = None\n",
    "best_result = 0\n",
    "for est in range(10, 300, 10):\n",
    "    model = RandomForestClassifier(n_estimators=est, random_state=R_STATE, max_depth = best_depth, class_weight='balanced')\n",
    "    model.fit(features_train, target_train)\n",
    "    pred_v = model.predict(features_valid)\n",
    "    result = f1_score(target_valid, pred_v)\n",
    "    if result > best_result:\n",
    "        best_model_dt = model\n",
    "        best_result = result\n",
    "        best_est = est\n",
    "print(f'f1_score лучшей модели:, {best_result}, на глубине {best_depth}, est = {best_est}')"
   ]
  },
  {
   "cell_type": "code",
   "execution_count": 23,
   "metadata": {},
   "outputs": [
    {
     "name": "stdout",
     "output_type": "stream",
     "text": [
      "0.6528384279475983\n"
     ]
    }
   ],
   "source": [
    "model = RandomForestClassifier(n_estimators=best_est, max_depth = best_depth, random_state=R_STATE, class_weight='balanced')\n",
    "model.fit(features_train, target_train)\n",
    "pred_valid = model.predict(features_valid)\n",
    "\n",
    "print(f1_score(target_valid, pred_valid))\n"
   ]
  },
  {
   "cell_type": "code",
   "execution_count": 24,
   "metadata": {},
   "outputs": [
    {
     "name": "stdout",
     "output_type": "stream",
     "text": [
      "auc roc 0.8724150778401814\n",
      "accuracy 0.841\n"
     ]
    }
   ],
   "source": [
    "probabilities_valid = model.predict_proba(features_valid)\n",
    "probabilities_one_valid = probabilities_valid[:, 1]\n",
    "\n",
    "auc_roc = roc_auc_score(target_valid, probabilities_one_valid)\n",
    "print('auc roc',auc_roc)\n",
    "\n",
    "fpr_rfc_balanced, tpr_rfc_balanced, thresholds = roc_curve(target_valid, probabilities_one_valid)\n",
    "\n",
    "\n",
    "print('accuracy', accuracy_score(target_valid, pred_valid))"
   ]
  },
  {
   "cell_type": "markdown",
   "metadata": {},
   "source": [
    "### RF с изменением порога вручную"
   ]
  },
  {
   "cell_type": "markdown",
   "metadata": {},
   "source": [
    "найдем новые значения глубины и количества деревьев"
   ]
  },
  {
   "cell_type": "code",
   "execution_count": 25,
   "metadata": {},
   "outputs": [
    {
     "name": "stdout",
     "output_type": "stream",
     "text": [
      "f1_score лучшей модели:, 0.6128550074738416, на глубине 14\n"
     ]
    }
   ],
   "source": [
    "best_model = None\n",
    "best_result = 0\n",
    "best_depth = 0\n",
    "for depth in range(1, 15):\n",
    "    model = RandomForestClassifier(random_state=R_STATE, max_depth = depth)\n",
    "    model.fit(features_train, target_train)\n",
    "    pred_v = model.predict(features_valid)\n",
    "    result = f1_score(target_valid, pred_v)\n",
    "\n",
    "    if result > best_result:\n",
    "        best_model_dt = model\n",
    "        best_result = result\n",
    "        best_depth = depth\n",
    "print(f'f1_score лучшей модели:, {best_result}, на глубине {best_depth}')"
   ]
  },
  {
   "cell_type": "code",
   "execution_count": 26,
   "metadata": {},
   "outputs": [
    {
     "name": "stdout",
     "output_type": "stream",
     "text": [
      "f1_score лучшей модели:, 0.620384047267356, на глубине 14, est = 60\n"
     ]
    }
   ],
   "source": [
    "best_model = None\n",
    "best_result = 0\n",
    "for est in range(10, 300, 10):\n",
    "    model = RandomForestClassifier(n_estimators=est, random_state=R_STATE, max_depth = best_depth)\n",
    "    model.fit(features_train, target_train)\n",
    "    pred_v = model.predict(features_valid)\n",
    "    result = f1_score(target_valid, pred_v)\n",
    "    if result > best_result:\n",
    "        best_model_dt = model\n",
    "        best_result = result\n",
    "        best_est = est\n",
    "print(f'f1_score лучшей модели:, {best_result}, на глубине {best_depth}, est = {best_est}')"
   ]
  },
  {
   "cell_type": "markdown",
   "metadata": {},
   "source": [
    "рассмотрим диапазоны для определения границы класса и значение f1"
   ]
  },
  {
   "cell_type": "code",
   "execution_count": 27,
   "metadata": {},
   "outputs": [
    {
     "data": {
      "text/html": [
       "<style>#sk-container-id-1 {\n",
       "  /* Definition of color scheme common for light and dark mode */\n",
       "  --sklearn-color-text: black;\n",
       "  --sklearn-color-line: gray;\n",
       "  /* Definition of color scheme for unfitted estimators */\n",
       "  --sklearn-color-unfitted-level-0: #fff5e6;\n",
       "  --sklearn-color-unfitted-level-1: #f6e4d2;\n",
       "  --sklearn-color-unfitted-level-2: #ffe0b3;\n",
       "  --sklearn-color-unfitted-level-3: chocolate;\n",
       "  /* Definition of color scheme for fitted estimators */\n",
       "  --sklearn-color-fitted-level-0: #f0f8ff;\n",
       "  --sklearn-color-fitted-level-1: #d4ebff;\n",
       "  --sklearn-color-fitted-level-2: #b3dbfd;\n",
       "  --sklearn-color-fitted-level-3: cornflowerblue;\n",
       "\n",
       "  /* Specific color for light theme */\n",
       "  --sklearn-color-text-on-default-background: var(--sg-text-color, var(--theme-code-foreground, var(--jp-content-font-color1, black)));\n",
       "  --sklearn-color-background: var(--sg-background-color, var(--theme-background, var(--jp-layout-color0, white)));\n",
       "  --sklearn-color-border-box: var(--sg-text-color, var(--theme-code-foreground, var(--jp-content-font-color1, black)));\n",
       "  --sklearn-color-icon: #696969;\n",
       "\n",
       "  @media (prefers-color-scheme: dark) {\n",
       "    /* Redefinition of color scheme for dark theme */\n",
       "    --sklearn-color-text-on-default-background: var(--sg-text-color, var(--theme-code-foreground, var(--jp-content-font-color1, white)));\n",
       "    --sklearn-color-background: var(--sg-background-color, var(--theme-background, var(--jp-layout-color0, #111)));\n",
       "    --sklearn-color-border-box: var(--sg-text-color, var(--theme-code-foreground, var(--jp-content-font-color1, white)));\n",
       "    --sklearn-color-icon: #878787;\n",
       "  }\n",
       "}\n",
       "\n",
       "#sk-container-id-1 {\n",
       "  color: var(--sklearn-color-text);\n",
       "}\n",
       "\n",
       "#sk-container-id-1 pre {\n",
       "  padding: 0;\n",
       "}\n",
       "\n",
       "#sk-container-id-1 input.sk-hidden--visually {\n",
       "  border: 0;\n",
       "  clip: rect(1px 1px 1px 1px);\n",
       "  clip: rect(1px, 1px, 1px, 1px);\n",
       "  height: 1px;\n",
       "  margin: -1px;\n",
       "  overflow: hidden;\n",
       "  padding: 0;\n",
       "  position: absolute;\n",
       "  width: 1px;\n",
       "}\n",
       "\n",
       "#sk-container-id-1 div.sk-dashed-wrapped {\n",
       "  border: 1px dashed var(--sklearn-color-line);\n",
       "  margin: 0 0.4em 0.5em 0.4em;\n",
       "  box-sizing: border-box;\n",
       "  padding-bottom: 0.4em;\n",
       "  background-color: var(--sklearn-color-background);\n",
       "}\n",
       "\n",
       "#sk-container-id-1 div.sk-container {\n",
       "  /* jupyter's `normalize.less` sets `[hidden] { display: none; }`\n",
       "     but bootstrap.min.css set `[hidden] { display: none !important; }`\n",
       "     so we also need the `!important` here to be able to override the\n",
       "     default hidden behavior on the sphinx rendered scikit-learn.org.\n",
       "     See: https://github.com/scikit-learn/scikit-learn/issues/21755 */\n",
       "  display: inline-block !important;\n",
       "  position: relative;\n",
       "}\n",
       "\n",
       "#sk-container-id-1 div.sk-text-repr-fallback {\n",
       "  display: none;\n",
       "}\n",
       "\n",
       "div.sk-parallel-item,\n",
       "div.sk-serial,\n",
       "div.sk-item {\n",
       "  /* draw centered vertical line to link estimators */\n",
       "  background-image: linear-gradient(var(--sklearn-color-text-on-default-background), var(--sklearn-color-text-on-default-background));\n",
       "  background-size: 2px 100%;\n",
       "  background-repeat: no-repeat;\n",
       "  background-position: center center;\n",
       "}\n",
       "\n",
       "/* Parallel-specific style estimator block */\n",
       "\n",
       "#sk-container-id-1 div.sk-parallel-item::after {\n",
       "  content: \"\";\n",
       "  width: 100%;\n",
       "  border-bottom: 2px solid var(--sklearn-color-text-on-default-background);\n",
       "  flex-grow: 1;\n",
       "}\n",
       "\n",
       "#sk-container-id-1 div.sk-parallel {\n",
       "  display: flex;\n",
       "  align-items: stretch;\n",
       "  justify-content: center;\n",
       "  background-color: var(--sklearn-color-background);\n",
       "  position: relative;\n",
       "}\n",
       "\n",
       "#sk-container-id-1 div.sk-parallel-item {\n",
       "  display: flex;\n",
       "  flex-direction: column;\n",
       "}\n",
       "\n",
       "#sk-container-id-1 div.sk-parallel-item:first-child::after {\n",
       "  align-self: flex-end;\n",
       "  width: 50%;\n",
       "}\n",
       "\n",
       "#sk-container-id-1 div.sk-parallel-item:last-child::after {\n",
       "  align-self: flex-start;\n",
       "  width: 50%;\n",
       "}\n",
       "\n",
       "#sk-container-id-1 div.sk-parallel-item:only-child::after {\n",
       "  width: 0;\n",
       "}\n",
       "\n",
       "/* Serial-specific style estimator block */\n",
       "\n",
       "#sk-container-id-1 div.sk-serial {\n",
       "  display: flex;\n",
       "  flex-direction: column;\n",
       "  align-items: center;\n",
       "  background-color: var(--sklearn-color-background);\n",
       "  padding-right: 1em;\n",
       "  padding-left: 1em;\n",
       "}\n",
       "\n",
       "\n",
       "/* Toggleable style: style used for estimator/Pipeline/ColumnTransformer box that is\n",
       "clickable and can be expanded/collapsed.\n",
       "- Pipeline and ColumnTransformer use this feature and define the default style\n",
       "- Estimators will overwrite some part of the style using the `sk-estimator` class\n",
       "*/\n",
       "\n",
       "/* Pipeline and ColumnTransformer style (default) */\n",
       "\n",
       "#sk-container-id-1 div.sk-toggleable {\n",
       "  /* Default theme specific background. It is overwritten whether we have a\n",
       "  specific estimator or a Pipeline/ColumnTransformer */\n",
       "  background-color: var(--sklearn-color-background);\n",
       "}\n",
       "\n",
       "/* Toggleable label */\n",
       "#sk-container-id-1 label.sk-toggleable__label {\n",
       "  cursor: pointer;\n",
       "  display: block;\n",
       "  width: 100%;\n",
       "  margin-bottom: 0;\n",
       "  padding: 0.5em;\n",
       "  box-sizing: border-box;\n",
       "  text-align: center;\n",
       "}\n",
       "\n",
       "#sk-container-id-1 label.sk-toggleable__label-arrow:before {\n",
       "  /* Arrow on the left of the label */\n",
       "  content: \"▸\";\n",
       "  float: left;\n",
       "  margin-right: 0.25em;\n",
       "  color: var(--sklearn-color-icon);\n",
       "}\n",
       "\n",
       "#sk-container-id-1 label.sk-toggleable__label-arrow:hover:before {\n",
       "  color: var(--sklearn-color-text);\n",
       "}\n",
       "\n",
       "/* Toggleable content - dropdown */\n",
       "\n",
       "#sk-container-id-1 div.sk-toggleable__content {\n",
       "  max-height: 0;\n",
       "  max-width: 0;\n",
       "  overflow: hidden;\n",
       "  text-align: left;\n",
       "  /* unfitted */\n",
       "  background-color: var(--sklearn-color-unfitted-level-0);\n",
       "}\n",
       "\n",
       "#sk-container-id-1 div.sk-toggleable__content.fitted {\n",
       "  /* fitted */\n",
       "  background-color: var(--sklearn-color-fitted-level-0);\n",
       "}\n",
       "\n",
       "#sk-container-id-1 div.sk-toggleable__content pre {\n",
       "  margin: 0.2em;\n",
       "  border-radius: 0.25em;\n",
       "  color: var(--sklearn-color-text);\n",
       "  /* unfitted */\n",
       "  background-color: var(--sklearn-color-unfitted-level-0);\n",
       "}\n",
       "\n",
       "#sk-container-id-1 div.sk-toggleable__content.fitted pre {\n",
       "  /* unfitted */\n",
       "  background-color: var(--sklearn-color-fitted-level-0);\n",
       "}\n",
       "\n",
       "#sk-container-id-1 input.sk-toggleable__control:checked~div.sk-toggleable__content {\n",
       "  /* Expand drop-down */\n",
       "  max-height: 200px;\n",
       "  max-width: 100%;\n",
       "  overflow: auto;\n",
       "}\n",
       "\n",
       "#sk-container-id-1 input.sk-toggleable__control:checked~label.sk-toggleable__label-arrow:before {\n",
       "  content: \"▾\";\n",
       "}\n",
       "\n",
       "/* Pipeline/ColumnTransformer-specific style */\n",
       "\n",
       "#sk-container-id-1 div.sk-label input.sk-toggleable__control:checked~label.sk-toggleable__label {\n",
       "  color: var(--sklearn-color-text);\n",
       "  background-color: var(--sklearn-color-unfitted-level-2);\n",
       "}\n",
       "\n",
       "#sk-container-id-1 div.sk-label.fitted input.sk-toggleable__control:checked~label.sk-toggleable__label {\n",
       "  background-color: var(--sklearn-color-fitted-level-2);\n",
       "}\n",
       "\n",
       "/* Estimator-specific style */\n",
       "\n",
       "/* Colorize estimator box */\n",
       "#sk-container-id-1 div.sk-estimator input.sk-toggleable__control:checked~label.sk-toggleable__label {\n",
       "  /* unfitted */\n",
       "  background-color: var(--sklearn-color-unfitted-level-2);\n",
       "}\n",
       "\n",
       "#sk-container-id-1 div.sk-estimator.fitted input.sk-toggleable__control:checked~label.sk-toggleable__label {\n",
       "  /* fitted */\n",
       "  background-color: var(--sklearn-color-fitted-level-2);\n",
       "}\n",
       "\n",
       "#sk-container-id-1 div.sk-label label.sk-toggleable__label,\n",
       "#sk-container-id-1 div.sk-label label {\n",
       "  /* The background is the default theme color */\n",
       "  color: var(--sklearn-color-text-on-default-background);\n",
       "}\n",
       "\n",
       "/* On hover, darken the color of the background */\n",
       "#sk-container-id-1 div.sk-label:hover label.sk-toggleable__label {\n",
       "  color: var(--sklearn-color-text);\n",
       "  background-color: var(--sklearn-color-unfitted-level-2);\n",
       "}\n",
       "\n",
       "/* Label box, darken color on hover, fitted */\n",
       "#sk-container-id-1 div.sk-label.fitted:hover label.sk-toggleable__label.fitted {\n",
       "  color: var(--sklearn-color-text);\n",
       "  background-color: var(--sklearn-color-fitted-level-2);\n",
       "}\n",
       "\n",
       "/* Estimator label */\n",
       "\n",
       "#sk-container-id-1 div.sk-label label {\n",
       "  font-family: monospace;\n",
       "  font-weight: bold;\n",
       "  display: inline-block;\n",
       "  line-height: 1.2em;\n",
       "}\n",
       "\n",
       "#sk-container-id-1 div.sk-label-container {\n",
       "  text-align: center;\n",
       "}\n",
       "\n",
       "/* Estimator-specific */\n",
       "#sk-container-id-1 div.sk-estimator {\n",
       "  font-family: monospace;\n",
       "  border: 1px dotted var(--sklearn-color-border-box);\n",
       "  border-radius: 0.25em;\n",
       "  box-sizing: border-box;\n",
       "  margin-bottom: 0.5em;\n",
       "  /* unfitted */\n",
       "  background-color: var(--sklearn-color-unfitted-level-0);\n",
       "}\n",
       "\n",
       "#sk-container-id-1 div.sk-estimator.fitted {\n",
       "  /* fitted */\n",
       "  background-color: var(--sklearn-color-fitted-level-0);\n",
       "}\n",
       "\n",
       "/* on hover */\n",
       "#sk-container-id-1 div.sk-estimator:hover {\n",
       "  /* unfitted */\n",
       "  background-color: var(--sklearn-color-unfitted-level-2);\n",
       "}\n",
       "\n",
       "#sk-container-id-1 div.sk-estimator.fitted:hover {\n",
       "  /* fitted */\n",
       "  background-color: var(--sklearn-color-fitted-level-2);\n",
       "}\n",
       "\n",
       "/* Specification for estimator info (e.g. \"i\" and \"?\") */\n",
       "\n",
       "/* Common style for \"i\" and \"?\" */\n",
       "\n",
       ".sk-estimator-doc-link,\n",
       "a:link.sk-estimator-doc-link,\n",
       "a:visited.sk-estimator-doc-link {\n",
       "  float: right;\n",
       "  font-size: smaller;\n",
       "  line-height: 1em;\n",
       "  font-family: monospace;\n",
       "  background-color: var(--sklearn-color-background);\n",
       "  border-radius: 1em;\n",
       "  height: 1em;\n",
       "  width: 1em;\n",
       "  text-decoration: none !important;\n",
       "  margin-left: 1ex;\n",
       "  /* unfitted */\n",
       "  border: var(--sklearn-color-unfitted-level-1) 1pt solid;\n",
       "  color: var(--sklearn-color-unfitted-level-1);\n",
       "}\n",
       "\n",
       ".sk-estimator-doc-link.fitted,\n",
       "a:link.sk-estimator-doc-link.fitted,\n",
       "a:visited.sk-estimator-doc-link.fitted {\n",
       "  /* fitted */\n",
       "  border: var(--sklearn-color-fitted-level-1) 1pt solid;\n",
       "  color: var(--sklearn-color-fitted-level-1);\n",
       "}\n",
       "\n",
       "/* On hover */\n",
       "div.sk-estimator:hover .sk-estimator-doc-link:hover,\n",
       ".sk-estimator-doc-link:hover,\n",
       "div.sk-label-container:hover .sk-estimator-doc-link:hover,\n",
       ".sk-estimator-doc-link:hover {\n",
       "  /* unfitted */\n",
       "  background-color: var(--sklearn-color-unfitted-level-3);\n",
       "  color: var(--sklearn-color-background);\n",
       "  text-decoration: none;\n",
       "}\n",
       "\n",
       "div.sk-estimator.fitted:hover .sk-estimator-doc-link.fitted:hover,\n",
       ".sk-estimator-doc-link.fitted:hover,\n",
       "div.sk-label-container:hover .sk-estimator-doc-link.fitted:hover,\n",
       ".sk-estimator-doc-link.fitted:hover {\n",
       "  /* fitted */\n",
       "  background-color: var(--sklearn-color-fitted-level-3);\n",
       "  color: var(--sklearn-color-background);\n",
       "  text-decoration: none;\n",
       "}\n",
       "\n",
       "/* Span, style for the box shown on hovering the info icon */\n",
       ".sk-estimator-doc-link span {\n",
       "  display: none;\n",
       "  z-index: 9999;\n",
       "  position: relative;\n",
       "  font-weight: normal;\n",
       "  right: .2ex;\n",
       "  padding: .5ex;\n",
       "  margin: .5ex;\n",
       "  width: min-content;\n",
       "  min-width: 20ex;\n",
       "  max-width: 50ex;\n",
       "  color: var(--sklearn-color-text);\n",
       "  box-shadow: 2pt 2pt 4pt #999;\n",
       "  /* unfitted */\n",
       "  background: var(--sklearn-color-unfitted-level-0);\n",
       "  border: .5pt solid var(--sklearn-color-unfitted-level-3);\n",
       "}\n",
       "\n",
       ".sk-estimator-doc-link.fitted span {\n",
       "  /* fitted */\n",
       "  background: var(--sklearn-color-fitted-level-0);\n",
       "  border: var(--sklearn-color-fitted-level-3);\n",
       "}\n",
       "\n",
       ".sk-estimator-doc-link:hover span {\n",
       "  display: block;\n",
       "}\n",
       "\n",
       "/* \"?\"-specific style due to the `<a>` HTML tag */\n",
       "\n",
       "#sk-container-id-1 a.estimator_doc_link {\n",
       "  float: right;\n",
       "  font-size: 1rem;\n",
       "  line-height: 1em;\n",
       "  font-family: monospace;\n",
       "  background-color: var(--sklearn-color-background);\n",
       "  border-radius: 1rem;\n",
       "  height: 1rem;\n",
       "  width: 1rem;\n",
       "  text-decoration: none;\n",
       "  /* unfitted */\n",
       "  color: var(--sklearn-color-unfitted-level-1);\n",
       "  border: var(--sklearn-color-unfitted-level-1) 1pt solid;\n",
       "}\n",
       "\n",
       "#sk-container-id-1 a.estimator_doc_link.fitted {\n",
       "  /* fitted */\n",
       "  border: var(--sklearn-color-fitted-level-1) 1pt solid;\n",
       "  color: var(--sklearn-color-fitted-level-1);\n",
       "}\n",
       "\n",
       "/* On hover */\n",
       "#sk-container-id-1 a.estimator_doc_link:hover {\n",
       "  /* unfitted */\n",
       "  background-color: var(--sklearn-color-unfitted-level-3);\n",
       "  color: var(--sklearn-color-background);\n",
       "  text-decoration: none;\n",
       "}\n",
       "\n",
       "#sk-container-id-1 a.estimator_doc_link.fitted:hover {\n",
       "  /* fitted */\n",
       "  background-color: var(--sklearn-color-fitted-level-3);\n",
       "}\n",
       "</style><div id=\"sk-container-id-1\" class=\"sk-top-container\"><div class=\"sk-text-repr-fallback\"><pre>RandomForestClassifier(max_depth=14, n_estimators=60, random_state=12345)</pre><b>In a Jupyter environment, please rerun this cell to show the HTML representation or trust the notebook. <br />On GitHub, the HTML representation is unable to render, please try loading this page with nbviewer.org.</b></div><div class=\"sk-container\" hidden><div class=\"sk-item\"><div class=\"sk-estimator fitted sk-toggleable\"><input class=\"sk-toggleable__control sk-hidden--visually\" id=\"sk-estimator-id-1\" type=\"checkbox\" checked><label for=\"sk-estimator-id-1\" class=\"sk-toggleable__label fitted sk-toggleable__label-arrow fitted\">&nbsp;&nbsp;RandomForestClassifier<a class=\"sk-estimator-doc-link fitted\" rel=\"noreferrer\" target=\"_blank\" href=\"https://scikit-learn.org/1.4/modules/generated/sklearn.ensemble.RandomForestClassifier.html\">?<span>Documentation for RandomForestClassifier</span></a><span class=\"sk-estimator-doc-link fitted\">i<span>Fitted</span></span></label><div class=\"sk-toggleable__content fitted\"><pre>RandomForestClassifier(max_depth=14, n_estimators=60, random_state=12345)</pre></div> </div></div></div></div>"
      ],
      "text/plain": [
       "RandomForestClassifier(max_depth=14, n_estimators=60, random_state=12345)"
      ]
     },
     "execution_count": 27,
     "metadata": {},
     "output_type": "execute_result"
    }
   ],
   "source": [
    "model = RandomForestClassifier(n_estimators=best_est, max_depth = best_depth, random_state=R_STATE)\n",
    "model.fit(features_train, target_train)"
   ]
  },
  {
   "cell_type": "code",
   "execution_count": 28,
   "metadata": {},
   "outputs": [
    {
     "name": "stdout",
     "output_type": "stream",
     "text": [
      "Порог = 0.00 | f1 = 0.339011\n",
      "Порог = 0.05 | f1 = 0.417197\n",
      "Порог = 0.10 | f1 = 0.496680\n",
      "Порог = 0.15 | f1 = 0.562249\n",
      "Порог = 0.20 | f1 = 0.601656\n",
      "Порог = 0.25 | f1 = 0.620187\n",
      "Порог = 0.30 | f1 = 0.623583\n",
      "Порог = 0.35 | f1 = 0.626536\n",
      "Порог = 0.40 | f1 = 0.628798\n",
      "Порог = 0.45 | f1 = 0.636492\n",
      "Порог = 0.50 | f1 = 0.620384\n",
      "Порог = 0.55 | f1 = 0.592824\n",
      "Порог = 0.60 | f1 = 0.570048\n",
      "Порог = 0.65 | f1 = 0.541176\n",
      "Порог = 0.70 | f1 = 0.506944\n",
      "Порог = 0.75 | f1 = 0.446069\n",
      "Порог = 0.80 | f1 = 0.380769\n",
      "Порог = 0.85 | f1 = 0.255765\n",
      "Порог = 0.90 | f1 = 0.123570\n",
      "Порог = 0.95 | f1 = 0.043165\n",
      "Порог = 1.00 | f1 = 0.000000\n",
      "best thr near 0.45 best_f1 0.6364922206506365\n"
     ]
    }
   ],
   "source": [
    "probabilities_valid = model.predict_proba(features_valid)\n",
    "probabilities_one_valid = probabilities_valid[:, 1]\n",
    "\n",
    "best_thr = 0\n",
    "best_f1 = 0\n",
    "\n",
    "for threshold in np.arange(0, 1.01, 0.05):\n",
    "    predicted_valid = probabilities_one_valid > threshold\n",
    "    f1 = f1_score(target_valid, predicted_valid)\n",
    "    if f1 > best_f1:\n",
    "        best_f1 = f1\n",
    "        best_thr = threshold\n",
    "\n",
    "\n",
    "    print(\"Порог = {:.2f} | f1 = {:.6f}\".format(threshold, f1))\n",
    "\n",
    "print('best thr near', best_thr, 'best_f1', best_f1 )"
   ]
  },
  {
   "cell_type": "code",
   "execution_count": 29,
   "metadata": {},
   "outputs": [
    {
     "name": "stdout",
     "output_type": "stream",
     "text": [
      "Порог = 0.40 | f1 = 0.6288\n",
      "Порог = 0.41 | f1 = 0.6344\n",
      "Порог = 0.42 | f1 = 0.6359\n",
      "Порог = 0.43 | f1 = 0.6319\n",
      "Порог = 0.44 | f1 = 0.6304\n",
      "Порог = 0.45 | f1 = 0.6365\n",
      "Порог = 0.46 | f1 = 0.6264\n",
      "Порог = 0.47 | f1 = 0.6174\n",
      "Порог = 0.48 | f1 = 0.6161\n",
      "Порог = 0.49 | f1 = 0.6158\n",
      "best thr 0.45000000000000007 best_f1 0.6364922206506365\n"
     ]
    }
   ],
   "source": [
    "probabilities_valid = model.predict_proba(features_valid)\n",
    "probabilities_one_valid = probabilities_valid[:, 1]\n",
    "\n",
    "best_thr = 0\n",
    "best_f1 = 0\n",
    "for threshold in np.arange(0.40, 0.50, 0.01):\n",
    "    predicted_valid = probabilities_one_valid > threshold\n",
    "    f1 = f1_score(target_valid, predicted_valid)\n",
    "    if f1 > best_f1:\n",
    "        best_f1 = f1\n",
    "        best_thr = threshold\n",
    "\n",
    "\n",
    "    print(\"Порог = {:.2f} | f1 = {:.4f}\".format(threshold, f1))\n",
    "print('best thr', best_thr, 'best_f1', best_f1 )"
   ]
  },
  {
   "cell_type": "code",
   "execution_count": 30,
   "metadata": {},
   "outputs": [
    {
     "name": "stdout",
     "output_type": "stream",
     "text": [
      "auc roc 0.8677702236673563\n",
      "acc s 0.843\n"
     ]
    }
   ],
   "source": [
    "probabilities_valid = model.predict_proba(features_valid)\n",
    "probabilities_one_valid = probabilities_valid[:, 1]\n",
    "\n",
    "pred_valid = probabilities_one_valid > 0.33\n",
    "\n",
    "auc_roc = roc_auc_score(target_valid, probabilities_one_valid)\n",
    "print('auc roc',auc_roc)\n",
    "\n",
    "fpr_rfc_thr_33, tpr_rfc_thr_33, thresholds = roc_curve(target_valid, probabilities_one_valid)\n",
    "\n",
    "print('acc s', accuracy_score(target_valid, pred_valid))"
   ]
  },
  {
   "cell_type": "markdown",
   "metadata": {},
   "source": [
    "### LogisticRegression"
   ]
  },
  {
   "cell_type": "code",
   "execution_count": 31,
   "metadata": {},
   "outputs": [
    {
     "name": "stdout",
     "output_type": "stream",
     "text": [
      "f1_score: 0.31078610603290674\n"
     ]
    }
   ],
   "source": [
    "model = LogisticRegression(random_state=R_STATE)\n",
    "model.fit(features_train, target_train)\n",
    "predicted_valid = model.predict(features_valid)\n",
    "print(\"f1_score:\", f1_score(target_valid, predicted_valid))"
   ]
  },
  {
   "cell_type": "markdown",
   "metadata": {},
   "source": [
    "найдем значение порога классов"
   ]
  },
  {
   "cell_type": "code",
   "execution_count": 32,
   "metadata": {
    "scrolled": true
   },
   "outputs": [
    {
     "name": "stdout",
     "output_type": "stream",
     "text": [
      "Порог = 0.00 | f1 = 0.3389\n",
      "Порог = 0.05 | f1 = 0.3684\n",
      "Порог = 0.10 | f1 = 0.4273\n",
      "Порог = 0.15 | f1 = 0.4753\n",
      "Порог = 0.20 | f1 = 0.5064\n",
      "Порог = 0.25 | f1 = 0.5173\n",
      "Порог = 0.30 | f1 = 0.5029\n",
      "Порог = 0.35 | f1 = 0.4638\n",
      "Порог = 0.40 | f1 = 0.4292\n",
      "Порог = 0.45 | f1 = 0.3494\n",
      "Порог = 0.50 | f1 = 0.3108\n",
      "Порог = 0.55 | f1 = 0.2706\n",
      "Порог = 0.60 | f1 = 0.2167\n",
      "Порог = 0.65 | f1 = 0.1239\n",
      "Порог = 0.70 | f1 = 0.0742\n",
      "Порог = 0.75 | f1 = 0.0380\n",
      "Порог = 0.80 | f1 = 0.0144\n",
      "Порог = 0.85 | f1 = 0.0000\n",
      "Порог = 0.90 | f1 = 0.0000\n",
      "Порог = 0.95 | f1 = 0.0000\n",
      "Порог = 1.00 | f1 = 0.0000\n",
      "best thr near 0.25 best_f1 0.5173439048562933\n"
     ]
    }
   ],
   "source": [
    "probabilities_valid = model.predict_proba(features_valid)\n",
    "probabilities_one_valid = probabilities_valid[:, 1]\n",
    "\n",
    "best_thr = 0\n",
    "best_f1 = 0\n",
    "\n",
    "for threshold in np.arange(0, 1.01, 0.05):\n",
    "    predicted_valid = probabilities_one_valid > threshold\n",
    "    f1 = f1_score(target_valid, predicted_valid)\n",
    "    \n",
    "    if f1 > best_f1:\n",
    "        best_f1 = f1\n",
    "        best_thr = threshold\n",
    "\n",
    "    print(\"Порог = {:.2f} | f1 = {:.4f}\".format(threshold, f1))\n",
    "\n",
    "print('best thr near', best_thr, 'best_f1', best_f1 )\n",
    "\n"
   ]
  },
  {
   "cell_type": "code",
   "execution_count": 33,
   "metadata": {},
   "outputs": [
    {
     "name": "stdout",
     "output_type": "stream",
     "text": [
      "Порог = 0.20 | f1 = 0.5064\n",
      "Порог = 0.21 | f1 = 0.5122\n",
      "Порог = 0.22 | f1 = 0.5240\n",
      "Порог = 0.23 | f1 = 0.5247\n",
      "Порог = 0.24 | f1 = 0.5278\n",
      "Порог = 0.25 | f1 = 0.5173\n",
      "Порог = 0.26 | f1 = 0.5180\n",
      "Порог = 0.27 | f1 = 0.5207\n",
      "Порог = 0.28 | f1 = 0.5215\n",
      "Порог = 0.29 | f1 = 0.5205\n",
      "best thr near 0.24000000000000005 best_f1 0.527831094049904\n"
     ]
    }
   ],
   "source": [
    "probabilities_valid = model.predict_proba(features_valid)\n",
    "probabilities_one_valid = probabilities_valid[:, 1]\n",
    "\n",
    "best_thr = 0\n",
    "best_f1 = 0\n",
    "for threshold in np.arange(0.2, 0.3, 0.01):\n",
    "    predicted_valid = probabilities_one_valid > threshold\n",
    "    f1 = f1_score(target_valid, predicted_valid)\n",
    "    if f1 > best_f1:\n",
    "        best_f1 = f1\n",
    "        best_thr = threshold\n",
    "\n",
    "    print(\"Порог = {:.2f} | f1 = {:.4f}\".format(threshold, f1))\n",
    "\n",
    "print('best thr near', best_thr, 'best_f1', best_f1 )"
   ]
  },
  {
   "cell_type": "code",
   "execution_count": 34,
   "metadata": {},
   "outputs": [
    {
     "name": "stdout",
     "output_type": "stream",
     "text": [
      "auc roc 0.7873420410877919\n",
      "acc s 0.7445\n"
     ]
    }
   ],
   "source": [
    "probabilities_valid = model.predict_proba(features_valid)\n",
    "probabilities_one_valid = probabilities_valid[:, 1]\n",
    "\n",
    "auc_roc = roc_auc_score(target_valid, probabilities_one_valid)\n",
    "print('auc roc',auc_roc)\n",
    "\n",
    "fpr_lr_thr, tpr_lr_thr, thresholds = roc_curve(target_valid, probabilities_one_valid)\n",
    "\n",
    "pred_valid = probabilities_one_valid > 0.23\n",
    "print('acc s', accuracy_score(target_valid, pred_valid))"
   ]
  },
  {
   "cell_type": "markdown",
   "metadata": {},
   "source": [
    "### логистическая регрессия с class_weight='balanced'"
   ]
  },
  {
   "cell_type": "markdown",
   "metadata": {},
   "source": [
    "проверим лучший солвер"
   ]
  },
  {
   "cell_type": "code",
   "execution_count": 35,
   "metadata": {},
   "outputs": [
    {
     "name": "stdout",
     "output_type": "stream",
     "text": [
      "newton-cg f1_score: 0.5289982425307557\n",
      "lbfgs f1_score: 0.5289982425307557\n",
      "liblinear f1_score: 0.5289982425307557\n",
      "sag f1_score: 0.5289982425307557\n",
      "saga f1_score: 0.5289982425307557\n"
     ]
    }
   ],
   "source": [
    "list_solver = ['newton-cg', 'lbfgs', 'liblinear', 'sag', 'saga']\n",
    "for solv in list_solver:\n",
    "    model = LogisticRegression(random_state=R_STATE, solver=solv, class_weight='balanced')\n",
    "    model.fit(features_train, target_train)\n",
    "    predicted_valid = model.predict(features_valid)\n",
    "    print(solv, \"f1_score:\", f1_score(target_valid, predicted_valid))"
   ]
  },
  {
   "cell_type": "code",
   "execution_count": 36,
   "metadata": {},
   "outputs": [
    {
     "name": "stdout",
     "output_type": "stream",
     "text": [
      "f1_score: 0.5289982425307557\n"
     ]
    }
   ],
   "source": [
    "model = LogisticRegression(random_state=R_STATE, solver='lbfgs', class_weight='balanced')\n",
    "model.fit(features_train, target_train)\n",
    "predicted_valid = model.predict(features_valid)\n",
    "print(\"f1_score:\", f1_score(target_valid, predicted_valid))"
   ]
  },
  {
   "cell_type": "code",
   "execution_count": 37,
   "metadata": {},
   "outputs": [
    {
     "name": "stdout",
     "output_type": "stream",
     "text": [
      "auc roc 0.7935711030643413\n"
     ]
    }
   ],
   "source": [
    "probabilities_valid = model.predict_proba(features_valid)\n",
    "probabilities_one_valid = probabilities_valid[:, 1]\n",
    "\n",
    "auc_roc = roc_auc_score(target_valid, probabilities_one_valid)\n",
    "print('auc roc',auc_roc)\n",
    "\n",
    "fpr_lr_balanced, tpr_lr_balanced, thresholds = roc_curve(target_valid, probabilities_one_valid)"
   ]
  },
  {
   "cell_type": "markdown",
   "metadata": {},
   "source": [
    "модель случайного леса показала себя лучше, остановимся на ней; достаточный f1 score достигнут; теперь проверим на тестовой выборке"
   ]
  },
  {
   "cell_type": "markdown",
   "metadata": {},
   "source": [
    "### Итог сравнения моделей"
   ]
  },
  {
   "cell_type": "markdown",
   "metadata": {},
   "source": [
    "модель | AUC ROC | F1\n",
    "---|---|---\n",
    "RF без учета дизбаланса и настроек | 0.840690 | 0.589473 \n",
    "**RF weight balanced** | **0.872415** | **0.652838**\n",
    "RF thr45 | 0.867770 | 0.636492 \n",
    "логистическая регрессия thr24| 0.787342 | 0.527831\n",
    "логистическая регрессия weight balanced | 0.793571 | 0.528998 \n"
   ]
  },
  {
   "cell_type": "code",
   "execution_count": 38,
   "metadata": {},
   "outputs": [
    {
     "data": {
      "image/png": "[encoded data removed]",
      "text/plain": [
       "<Figure size 1600x800 with 1 Axes>"
      ]
     },
     "metadata": {},
     "output_type": "display_data"
    }
   ],
   "source": [
    "\n",
    "plt.figure(figsize=(16, 8))\n",
    "plt.plot(fpr_0, tpr_0, linestyle='--',label=\"RF без баланса и настроек\")\n",
    "plt.plot(fpr_rfc_balanced, tpr_rfc_balanced, linestyle='solid',label=\"RF weight balanced\")\n",
    "plt.plot(fpr_rfc_thr_33, tpr_rfc_thr_33, linestyle='--', label=\"RF trh33\")\n",
    "plt.plot(fpr_lr_thr, tpr_lr_thr, linestyle='--',label=\"lt thr23\")\n",
    "plt.plot(fpr_lr_balanced, tpr_lr_balanced, linestyle='--',label=\"lr weight balanced\")\n",
    "plt.xlim([0.0, 1.0])\n",
    "plt.ylim([0.0, 1.0])\n",
    "plt.xlabel('False Positive Rate')\n",
    "plt.ylabel('True Positive Rate')\n",
    "plt.title('ROC-кривые')\n",
    "plt.legend(loc=\"center right\")\n",
    "plt.show()\n",
    "\n"
   ]
  },
  {
   "cell_type": "markdown",
   "metadata": {},
   "source": [
    "лучшие результаты показала модель случайного леса с параметрами деревья=200, глубина = 8 , class_weight='balanced' на заранее стратифицированной выборке"
   ]
  },
  {
   "cell_type": "markdown",
   "metadata": {},
   "source": [
    "## Тестирование модели"
   ]
  },
  {
   "cell_type": "markdown",
   "metadata": {},
   "source": [
    "Обьединим тренировочную и валидационную выборки перед обучением и проверкой лучшей модели"
   ]
  },
  {
   "cell_type": "code",
   "execution_count": 39,
   "metadata": {},
   "outputs": [],
   "source": [
    "features_80 =  np.concatenate((features_train, features_valid))"
   ]
  },
  {
   "cell_type": "code",
   "execution_count": 40,
   "metadata": {},
   "outputs": [],
   "source": [
    "target_80 = pd.concat([target_train, target_valid])"
   ]
  },
  {
   "cell_type": "code",
   "execution_count": 41,
   "metadata": {},
   "outputs": [
    {
     "name": "stdout",
     "output_type": "stream",
     "text": [
      "f1 0.621978021978022\n",
      "accuracy 0.828\n"
     ]
    }
   ],
   "source": [
    "model = RandomForestClassifier(n_estimators=200, max_depth = 8, random_state=R_STATE , class_weight='balanced')\n",
    "model.fit(features_80, target_80)\n",
    "\n",
    "pred_t = model.predict(features_test)\n",
    "print('f1',f1_score(target_test, pred_t))\n",
    "print('accuracy',accuracy_score(target_test, pred_t))"
   ]
  },
  {
   "cell_type": "markdown",
   "metadata": {},
   "source": [
    "рассмотрим также метрику AUC-ROC"
   ]
  },
  {
   "cell_type": "code",
   "execution_count": 42,
   "metadata": {},
   "outputs": [
    {
     "name": "stdout",
     "output_type": "stream",
     "text": [
      "auc roc 0.8597071647919106\n"
     ]
    },
    {
     "data": {
      "image/png": "[encoded data removed]",
      "text/plain": [
       "<Figure size 640x480 with 1 Axes>"
      ]
     },
     "metadata": {},
     "output_type": "display_data"
    }
   ],
   "source": [
    "probabilities_test = model.predict_proba(features_test)\n",
    "probabilities_one_test = probabilities_test[:, 1]\n",
    "\n",
    "auc_roc = roc_auc_score(target_test, probabilities_one_test)\n",
    "print('auc roc',auc_roc)\n",
    "\n",
    "fpr, tpr, thresholds = roc_curve(target_test, probabilities_one_test)\n",
    "\n",
    "plt.figure()\n",
    "plt.plot(fpr, tpr, linestyle='solid')\n",
    "plt.xlim([0.0, 1.0])\n",
    "plt.ylim([0.0, 1.0])\n",
    "plt.xlabel('False Positive Rate')\n",
    "plt.ylabel('True Positive Rate')\n",
    "plt.title('ROC-кривая')\n",
    "plt.show()\n",
    "\n",
    "\n"
   ]
  },
  {
   "cell_type": "markdown",
   "metadata": {},
   "source": [
    "Чтобы оценить адекватность модели сравним её с моделью которая выбирает самый распространный в обучающей выборке вариант:"
   ]
  },
  {
   "cell_type": "code",
   "execution_count": 43,
   "metadata": {},
   "outputs": [
    {
     "name": "stdout",
     "output_type": "stream",
     "text": [
      "accuracy 0.7965\n"
     ]
    }
   ],
   "source": [
    "dummy_clf = DummyClassifier(strategy=\"most_frequent\")\n",
    "dummy_clf.fit(features_80, target_80)\n",
    "print('accuracy',dummy_clf.score(features_test, target_test))"
   ]
  },
  {
   "cell_type": "code",
   "execution_count": 44,
   "metadata": {},
   "outputs": [
    {
     "name": "stdout",
     "output_type": "stream",
     "text": [
      "f1 dummy 0.0\n",
      "roc auc dummy 0.5\n"
     ]
    }
   ],
   "source": [
    "pred_d_t = dummy_clf.predict(features_test)\n",
    "probabilities_d_test = dummy_clf.predict_proba(features_test)\n",
    "probabilities_d_one_test = probabilities_d_test[:, 1]\n",
    "\n",
    "print('f1 dummy',f1_score(target_test, pred_d_t))\n",
    "print('roc auc dummy',roc_auc_score(target_test, probabilities_d_one_test))"
   ]
  },
  {
   "cell_type": "code",
   "execution_count": 45,
   "metadata": {},
   "outputs": [
    {
     "data": {
      "image/png": "[encoded data removed]",
      "text/plain": [
       "<Figure size 640x480 with 1 Axes>"
      ]
     },
     "metadata": {},
     "output_type": "display_data"
    }
   ],
   "source": [
    "fpr_d, tpr_d, thresholds = roc_curve(target_test, probabilities_d_one_test)\n",
    "plt.figure()\n",
    "plt.plot(fpr_d, tpr_d, linestyle='solid')\n",
    "plt.xlim([0.0, 1.0])\n",
    "plt.ylim([0.0, 1.0])\n",
    "plt.xlabel('False Positive Rate')\n",
    "plt.ylabel('True Positive Rate')\n",
    "plt.title('ROC-кривая')\n",
    "plt.show()"
   ]
  },
  {
   "cell_type": "markdown",
   "metadata": {},
   "source": [
    "accuracy и AUC ROC нашей модели выше"
   ]
  },
  {
   "cell_type": "markdown",
   "metadata": {},
   "source": [
    "### Вывод и итоги"
   ]
  },
  {
   "cell_type": "markdown",
   "metadata": {},
   "source": [
    "Мы разделили данные на 3 стратифицированные выборки:\n",
    "* для обучения модели\n",
    "* для выбора и настройки модели\n",
    "* для итоговой проверки соотвествия необходимому критерию f1.\n",
    "\n",
    "Проверялись модели случайного леса и логистической регрессии с разными подбором гиперпараметрами и балансом весов\n",
    "\n",
    "Наилучший результат показала модель \"случайный лес\" (глубина = 8, количество деревьев = 200, class_weight='balanced')\n",
    "\n",
    "Значения на тестовой выборке получились:\n",
    "* **f1 0.621978**\n",
    "* **auc roc 0.859707**\n",
    "\n",
    "После проверки на заранее подготовленной тестовой выборке удостоверились что условия (f1 > 59) были соблюдены;\n",
    "Так же проверили модель на адекватность, сравнив с простановкой наиболее частых ответов (DummyClassifier);"
   ]
  }
 ],
 "metadata": {
  "ExecuteTimeLog": [
   {
    "duration": 53,
    "start_time": "2022-10-21T03:22:58.041Z"
   },
   {
    "duration": 417,
    "start_time": "2022-10-21T03:23:00.916Z"
   },
   {
    "duration": 184,
    "start_time": "2022-10-21T03:23:01.382Z"
   },
   {
    "duration": 31,
    "start_time": "2022-10-21T03:23:19.044Z"
   },
   {
    "duration": 2,
    "start_time": "2022-10-21T04:57:46.513Z"
   },
   {
    "duration": 12,
    "start_time": "2022-10-21T04:58:24.282Z"
   },
   {
    "duration": 20,
    "start_time": "2022-10-21T04:58:58.573Z"
   },
   {
    "duration": 19,
    "start_time": "2022-10-21T05:00:31.367Z"
   },
   {
    "duration": 18,
    "start_time": "2022-10-21T05:00:49.306Z"
   },
   {
    "duration": 32,
    "start_time": "2022-10-21T05:00:58.645Z"
   },
   {
    "duration": 1144,
    "start_time": "2022-10-21T05:01:18.113Z"
   },
   {
    "duration": 25,
    "start_time": "2022-10-21T05:01:25.991Z"
   },
   {
    "duration": 6,
    "start_time": "2022-10-21T07:36:14.345Z"
   },
   {
    "duration": 9,
    "start_time": "2022-10-21T07:36:20.766Z"
   },
   {
    "duration": 7,
    "start_time": "2022-10-21T07:36:56.791Z"
   },
   {
    "duration": 6,
    "start_time": "2022-10-21T07:37:25.748Z"
   },
   {
    "duration": 7,
    "start_time": "2022-10-21T07:37:43.075Z"
   },
   {
    "duration": 7,
    "start_time": "2022-10-21T07:50:44.308Z"
   },
   {
    "duration": 23,
    "start_time": "2022-10-21T07:50:54.389Z"
   },
   {
    "duration": 3,
    "start_time": "2022-10-21T07:51:19.988Z"
   },
   {
    "duration": 2,
    "start_time": "2022-10-21T07:51:32.230Z"
   },
   {
    "duration": 2,
    "start_time": "2022-10-21T07:51:36.058Z"
   },
   {
    "duration": 6,
    "start_time": "2022-10-21T07:51:59.854Z"
   },
   {
    "duration": 8,
    "start_time": "2022-10-21T08:56:14.332Z"
   },
   {
    "duration": 6,
    "start_time": "2022-10-21T08:56:21.808Z"
   },
   {
    "duration": 24,
    "start_time": "2022-10-21T08:56:39.690Z"
   },
   {
    "duration": 15,
    "start_time": "2022-10-21T08:57:08.872Z"
   },
   {
    "duration": 2,
    "start_time": "2022-10-21T08:59:26.158Z"
   },
   {
    "duration": 3,
    "start_time": "2022-10-21T08:59:31.184Z"
   },
   {
    "duration": 10,
    "start_time": "2022-10-21T13:43:01.110Z"
   },
   {
    "duration": 11,
    "start_time": "2022-10-21T13:43:12.257Z"
   },
   {
    "duration": 832,
    "start_time": "2022-10-21T13:43:40.622Z"
   },
   {
    "duration": 15,
    "start_time": "2022-10-21T13:43:44.640Z"
   },
   {
    "duration": 53,
    "start_time": "2022-10-21T13:47:40.747Z"
   },
   {
    "duration": 3,
    "start_time": "2022-10-21T13:47:46.362Z"
   },
   {
    "duration": 14,
    "start_time": "2022-10-21T13:48:50.297Z"
   },
   {
    "duration": 11,
    "start_time": "2022-10-21T13:49:07.843Z"
   },
   {
    "duration": 4,
    "start_time": "2022-10-21T13:49:28.367Z"
   },
   {
    "duration": 33,
    "start_time": "2022-10-21T13:49:31.793Z"
   },
   {
    "duration": 11,
    "start_time": "2022-10-21T13:50:53.766Z"
   },
   {
    "duration": 243,
    "start_time": "2022-10-21T13:51:02.700Z"
   },
   {
    "duration": 161,
    "start_time": "2022-10-21T13:51:15.119Z"
   },
   {
    "duration": 441,
    "start_time": "2022-10-21T13:51:17.749Z"
   },
   {
    "duration": 13517,
    "start_time": "2022-10-21T13:51:34.307Z"
   },
   {
    "duration": 5217,
    "start_time": "2022-10-21T13:54:17.964Z"
   },
   {
    "duration": 8317,
    "start_time": "2022-10-21T13:55:04.933Z"
   },
   {
    "duration": 8225,
    "start_time": "2022-10-21T13:55:34.672Z"
   },
   {
    "duration": 8840,
    "start_time": "2022-10-21T13:55:50.808Z"
   },
   {
    "duration": 1129,
    "start_time": "2022-10-21T14:00:26.190Z"
   },
   {
    "duration": 52375,
    "start_time": "2022-10-21T14:02:31.151Z"
   },
   {
    "duration": 1130,
    "start_time": "2022-10-21T14:06:12.177Z"
   },
   {
    "duration": 1095,
    "start_time": "2022-10-21T14:06:42.546Z"
   },
   {
    "duration": 9589,
    "start_time": "2022-10-21T14:07:05.350Z"
   },
   {
    "duration": 16241,
    "start_time": "2022-10-21T14:07:17.535Z"
   },
   {
    "duration": 17119,
    "start_time": "2022-10-21T14:43:34.647Z"
   },
   {
    "duration": 105002,
    "start_time": "2022-10-21T14:45:46.305Z"
   },
   {
    "duration": 4,
    "start_time": "2022-10-21T14:47:41.199Z"
   },
   {
    "duration": 17079,
    "start_time": "2022-10-21T14:48:29.489Z"
   },
   {
    "duration": 1281,
    "start_time": "2022-10-21T14:49:10.799Z"
   },
   {
    "duration": 1207,
    "start_time": "2022-10-21T14:53:33.490Z"
   },
   {
    "duration": 55,
    "start_time": "2022-10-21T14:53:34.699Z"
   },
   {
    "duration": 20,
    "start_time": "2022-10-21T14:53:34.756Z"
   },
   {
    "duration": 15,
    "start_time": "2022-10-21T14:53:34.778Z"
   },
   {
    "duration": 10,
    "start_time": "2022-10-21T14:53:34.795Z"
   },
   {
    "duration": 4,
    "start_time": "2022-10-21T14:53:34.806Z"
   },
   {
    "duration": 6,
    "start_time": "2022-10-21T14:53:34.811Z"
   },
   {
    "duration": 14,
    "start_time": "2022-10-21T14:53:34.818Z"
   },
   {
    "duration": 5,
    "start_time": "2022-10-21T14:53:34.837Z"
   },
   {
    "duration": 15,
    "start_time": "2022-10-21T14:53:34.845Z"
   },
   {
    "duration": 223,
    "start_time": "2022-10-21T14:53:34.862Z"
   },
   {
    "duration": 161,
    "start_time": "2022-10-21T14:53:35.087Z"
   },
   {
    "duration": 13475,
    "start_time": "2022-10-21T14:53:35.250Z"
   },
   {
    "duration": 8611,
    "start_time": "2022-10-21T14:53:48.730Z"
   },
   {
    "duration": 1195,
    "start_time": "2022-10-21T14:53:57.343Z"
   },
   {
    "duration": 17011,
    "start_time": "2022-10-21T14:54:54.451Z"
   },
   {
    "duration": 156300,
    "start_time": "2022-10-21T14:57:10.943Z"
   },
   {
    "duration": 1275,
    "start_time": "2022-10-21T14:59:53.386Z"
   },
   {
    "duration": 45,
    "start_time": "2022-10-21T14:59:54.663Z"
   },
   {
    "duration": 28,
    "start_time": "2022-10-21T14:59:54.711Z"
   },
   {
    "duration": 3,
    "start_time": "2022-10-21T14:59:54.742Z"
   },
   {
    "duration": 8,
    "start_time": "2022-10-21T14:59:54.748Z"
   },
   {
    "duration": 4,
    "start_time": "2022-10-21T14:59:54.758Z"
   },
   {
    "duration": 8,
    "start_time": "2022-10-21T14:59:54.764Z"
   },
   {
    "duration": 11,
    "start_time": "2022-10-21T14:59:54.773Z"
   },
   {
    "duration": 3,
    "start_time": "2022-10-21T14:59:54.786Z"
   },
   {
    "duration": 45,
    "start_time": "2022-10-21T14:59:54.791Z"
   },
   {
    "duration": 231,
    "start_time": "2022-10-21T14:59:54.839Z"
   },
   {
    "duration": 174,
    "start_time": "2022-10-21T14:59:55.072Z"
   },
   {
    "duration": 87936,
    "start_time": "2022-10-21T14:59:55.248Z"
   },
   {
    "duration": 0,
    "start_time": "2022-10-21T15:01:23.187Z"
   },
   {
    "duration": 0,
    "start_time": "2022-10-21T15:01:23.189Z"
   },
   {
    "duration": 5,
    "start_time": "2022-10-21T15:01:53.227Z"
   },
   {
    "duration": 5,
    "start_time": "2022-10-21T15:02:42.087Z"
   },
   {
    "duration": 40,
    "start_time": "2022-10-21T15:02:42.440Z"
   },
   {
    "duration": 15,
    "start_time": "2022-10-21T15:02:42.838Z"
   },
   {
    "duration": 3,
    "start_time": "2022-10-21T15:02:43.172Z"
   },
   {
    "duration": 5,
    "start_time": "2022-10-21T15:02:43.684Z"
   },
   {
    "duration": 3,
    "start_time": "2022-10-21T15:02:44.094Z"
   },
   {
    "duration": 2,
    "start_time": "2022-10-21T15:02:44.489Z"
   },
   {
    "duration": 8,
    "start_time": "2022-10-21T15:02:44.810Z"
   },
   {
    "duration": 3,
    "start_time": "2022-10-21T15:02:45.058Z"
   },
   {
    "duration": 16,
    "start_time": "2022-10-21T15:02:45.473Z"
   },
   {
    "duration": 227,
    "start_time": "2022-10-21T15:02:45.905Z"
   },
   {
    "duration": 143,
    "start_time": "2022-10-21T15:02:47.542Z"
   },
   {
    "duration": 636,
    "start_time": "2022-10-21T15:02:48.326Z"
   },
   {
    "duration": 12449,
    "start_time": "2022-10-21T15:03:03.005Z"
   },
   {
    "duration": 16978,
    "start_time": "2022-10-21T15:03:30.298Z"
   },
   {
    "duration": 1105,
    "start_time": "2022-10-21T15:04:12.182Z"
   },
   {
    "duration": 87,
    "start_time": "2022-10-21T15:05:20.180Z"
   },
   {
    "duration": 123,
    "start_time": "2022-10-21T15:05:56.538Z"
   },
   {
    "duration": 136,
    "start_time": "2022-10-21T15:05:59.202Z"
   },
   {
    "duration": 1043,
    "start_time": "2022-10-21T15:06:04.998Z"
   },
   {
    "duration": 2,
    "start_time": "2022-10-21T15:43:34.342Z"
   },
   {
    "duration": 180,
    "start_time": "2022-10-21T15:43:37.806Z"
   },
   {
    "duration": 17,
    "start_time": "2022-10-21T15:44:34.559Z"
   },
   {
    "duration": 36,
    "start_time": "2022-10-21T15:45:19.392Z"
   },
   {
    "duration": 1186,
    "start_time": "2022-10-21T15:45:35.354Z"
   },
   {
    "duration": 47,
    "start_time": "2022-10-21T15:45:36.542Z"
   },
   {
    "duration": 2,
    "start_time": "2022-10-21T15:45:36.591Z"
   },
   {
    "duration": 11,
    "start_time": "2022-10-21T15:45:36.595Z"
   },
   {
    "duration": 196,
    "start_time": "2022-10-21T15:45:36.608Z"
   },
   {
    "duration": 28,
    "start_time": "2022-10-21T15:45:36.805Z"
   },
   {
    "duration": 129,
    "start_time": "2022-10-21T15:45:36.835Z"
   },
   {
    "duration": 26,
    "start_time": "2022-10-21T15:46:55.610Z"
   },
   {
    "duration": 1206,
    "start_time": "2022-10-21T15:47:35.859Z"
   },
   {
    "duration": 45,
    "start_time": "2022-10-21T15:47:37.067Z"
   },
   {
    "duration": 3,
    "start_time": "2022-10-21T15:47:37.113Z"
   },
   {
    "duration": 14,
    "start_time": "2022-10-21T15:47:37.118Z"
   },
   {
    "duration": 208,
    "start_time": "2022-10-21T15:47:37.135Z"
   },
   {
    "duration": 165,
    "start_time": "2022-10-21T15:47:37.345Z"
   },
   {
    "duration": 16772,
    "start_time": "2022-10-21T15:47:37.512Z"
   },
   {
    "duration": 16931,
    "start_time": "2022-10-21T15:48:23.944Z"
   },
   {
    "duration": 1142,
    "start_time": "2022-10-21T15:52:26.235Z"
   },
   {
    "duration": 43,
    "start_time": "2022-10-21T15:52:27.379Z"
   },
   {
    "duration": 15,
    "start_time": "2022-10-21T15:52:27.423Z"
   },
   {
    "duration": 11,
    "start_time": "2022-10-21T15:52:27.440Z"
   },
   {
    "duration": 209,
    "start_time": "2022-10-21T15:52:27.453Z"
   },
   {
    "duration": 157,
    "start_time": "2022-10-21T15:52:27.664Z"
   },
   {
    "duration": 568,
    "start_time": "2022-10-21T15:52:27.823Z"
   },
   {
    "duration": 16850,
    "start_time": "2022-10-21T15:52:28.392Z"
   },
   {
    "duration": 16621,
    "start_time": "2022-10-21T16:33:06.855Z"
   },
   {
    "duration": 23,
    "start_time": "2022-10-21T16:35:12.516Z"
   },
   {
    "duration": 23,
    "start_time": "2022-10-21T16:35:20.840Z"
   },
   {
    "duration": 50,
    "start_time": "2022-10-23T13:13:28.246Z"
   },
   {
    "duration": 1132,
    "start_time": "2022-10-23T13:13:45.211Z"
   },
   {
    "duration": 177,
    "start_time": "2022-10-23T13:13:49.180Z"
   },
   {
    "duration": 3,
    "start_time": "2022-10-23T13:13:49.613Z"
   },
   {
    "duration": 11,
    "start_time": "2022-10-23T13:13:50.081Z"
   },
   {
    "duration": 19,
    "start_time": "2022-10-23T13:13:52.938Z"
   },
   {
    "duration": 77,
    "start_time": "2022-10-23T13:13:58.048Z"
   },
   {
    "duration": 31,
    "start_time": "2022-10-23T13:14:44.987Z"
   },
   {
    "duration": 10,
    "start_time": "2022-10-23T13:15:06.563Z"
   },
   {
    "duration": 7,
    "start_time": "2022-10-23T13:15:17.438Z"
   },
   {
    "duration": 1179,
    "start_time": "2022-10-23T13:15:31.772Z"
   },
   {
    "duration": 42,
    "start_time": "2022-10-23T13:15:32.953Z"
   },
   {
    "duration": 2,
    "start_time": "2022-10-23T13:15:32.997Z"
   },
   {
    "duration": 12,
    "start_time": "2022-10-23T13:15:33.001Z"
   },
   {
    "duration": 17,
    "start_time": "2022-10-23T13:15:33.015Z"
   },
   {
    "duration": 5,
    "start_time": "2022-10-23T13:15:33.034Z"
   },
   {
    "duration": 20,
    "start_time": "2022-10-23T13:15:33.041Z"
   },
   {
    "duration": 124,
    "start_time": "2022-10-23T13:15:33.063Z"
   },
   {
    "duration": 6,
    "start_time": "2022-10-23T13:16:03.213Z"
   },
   {
    "duration": 12,
    "start_time": "2022-10-23T13:16:12.095Z"
   },
   {
    "duration": 4,
    "start_time": "2022-10-23T13:16:21.199Z"
   },
   {
    "duration": 5,
    "start_time": "2022-10-23T13:16:34.813Z"
   },
   {
    "duration": 76,
    "start_time": "2022-10-23T13:17:02.765Z"
   },
   {
    "duration": 28,
    "start_time": "2022-10-23T13:17:07.940Z"
   },
   {
    "duration": 21,
    "start_time": "2022-10-23T13:17:25.404Z"
   },
   {
    "duration": 4,
    "start_time": "2022-10-23T13:19:38.419Z"
   },
   {
    "duration": 19,
    "start_time": "2022-10-23T13:20:15.272Z"
   },
   {
    "duration": 5,
    "start_time": "2022-10-23T13:20:32.259Z"
   },
   {
    "duration": 43,
    "start_time": "2022-10-23T13:20:32.761Z"
   },
   {
    "duration": 18,
    "start_time": "2022-10-23T13:20:35.127Z"
   },
   {
    "duration": 18,
    "start_time": "2022-10-23T13:20:39.629Z"
   },
   {
    "duration": 13,
    "start_time": "2022-10-23T13:20:59.512Z"
   },
   {
    "duration": 18,
    "start_time": "2022-10-23T13:21:56.343Z"
   },
   {
    "duration": 1104,
    "start_time": "2022-10-23T13:22:26.538Z"
   },
   {
    "duration": 44,
    "start_time": "2022-10-23T13:22:27.644Z"
   },
   {
    "duration": 10,
    "start_time": "2022-10-23T13:22:27.690Z"
   },
   {
    "duration": 110,
    "start_time": "2022-10-23T13:22:27.702Z"
   },
   {
    "duration": 0,
    "start_time": "2022-10-23T13:22:27.813Z"
   },
   {
    "duration": 25,
    "start_time": "2022-10-23T13:23:00.392Z"
   },
   {
    "duration": 1084,
    "start_time": "2022-10-23T13:23:42.728Z"
   },
   {
    "duration": 42,
    "start_time": "2022-10-23T13:23:43.814Z"
   },
   {
    "duration": 11,
    "start_time": "2022-10-23T13:23:47.645Z"
   },
   {
    "duration": 106,
    "start_time": "2022-10-23T13:24:06.336Z"
   },
   {
    "duration": 10,
    "start_time": "2022-10-23T13:24:13.606Z"
   },
   {
    "duration": 10,
    "start_time": "2022-10-23T13:24:16.063Z"
   },
   {
    "duration": 19,
    "start_time": "2022-10-23T13:24:18.821Z"
   },
   {
    "duration": 10,
    "start_time": "2022-10-23T13:24:29.079Z"
   },
   {
    "duration": 11,
    "start_time": "2022-10-23T13:24:59.179Z"
   },
   {
    "duration": 13,
    "start_time": "2022-10-23T13:25:33.960Z"
   },
   {
    "duration": 20,
    "start_time": "2022-10-23T13:25:58.776Z"
   },
   {
    "duration": 27,
    "start_time": "2022-10-23T13:26:19.274Z"
   },
   {
    "duration": 3,
    "start_time": "2022-10-23T13:26:26.269Z"
   },
   {
    "duration": 48,
    "start_time": "2022-10-23T13:27:52.260Z"
   },
   {
    "duration": 11,
    "start_time": "2022-10-23T13:28:23.592Z"
   },
   {
    "duration": 2,
    "start_time": "2022-10-23T13:30:34.420Z"
   },
   {
    "duration": 42,
    "start_time": "2022-10-23T13:30:38.136Z"
   },
   {
    "duration": 7,
    "start_time": "2022-10-23T13:30:56.344Z"
   },
   {
    "duration": 3,
    "start_time": "2022-10-23T13:31:56.104Z"
   },
   {
    "duration": 40,
    "start_time": "2022-10-23T13:31:57.547Z"
   },
   {
    "duration": 7,
    "start_time": "2022-10-23T13:31:58.977Z"
   },
   {
    "duration": 10,
    "start_time": "2022-10-23T13:32:03.797Z"
   },
   {
    "duration": 3,
    "start_time": "2022-10-23T13:32:09.464Z"
   },
   {
    "duration": 21,
    "start_time": "2022-10-23T13:32:13.249Z"
   },
   {
    "duration": 9,
    "start_time": "2022-10-23T13:32:55.673Z"
   },
   {
    "duration": 9,
    "start_time": "2022-10-23T13:33:11.995Z"
   },
   {
    "duration": 24,
    "start_time": "2022-10-23T13:36:07.914Z"
   },
   {
    "duration": 4,
    "start_time": "2022-10-23T13:37:59.027Z"
   },
   {
    "duration": 5,
    "start_time": "2022-10-23T13:38:51.451Z"
   },
   {
    "duration": 5,
    "start_time": "2022-10-23T13:39:03.914Z"
   },
   {
    "duration": 10,
    "start_time": "2022-10-23T13:39:23.255Z"
   },
   {
    "duration": 13,
    "start_time": "2022-10-23T13:39:39.568Z"
   },
   {
    "duration": 19,
    "start_time": "2022-10-23T13:40:14.682Z"
   },
   {
    "duration": 20,
    "start_time": "2022-10-23T13:41:40.728Z"
   },
   {
    "duration": 1100,
    "start_time": "2022-10-23T13:42:52.917Z"
   },
   {
    "duration": 42,
    "start_time": "2022-10-23T13:42:54.983Z"
   },
   {
    "duration": 8,
    "start_time": "2022-10-23T13:42:57.439Z"
   },
   {
    "duration": 10,
    "start_time": "2022-10-23T13:42:58.651Z"
   },
   {
    "duration": 4,
    "start_time": "2022-10-23T13:43:09.348Z"
   },
   {
    "duration": 106,
    "start_time": "2022-10-23T13:43:15.290Z"
   },
   {
    "duration": 11,
    "start_time": "2022-10-23T13:43:36.414Z"
   },
   {
    "duration": 1054,
    "start_time": "2022-10-23T13:43:47.563Z"
   },
   {
    "duration": 43,
    "start_time": "2022-10-23T13:43:48.619Z"
   },
   {
    "duration": 7,
    "start_time": "2022-10-23T13:43:48.664Z"
   },
   {
    "duration": 4,
    "start_time": "2022-10-23T13:43:48.673Z"
   },
   {
    "duration": 15,
    "start_time": "2022-10-23T13:43:48.678Z"
   },
   {
    "duration": 109,
    "start_time": "2022-10-23T13:44:08.665Z"
   },
   {
    "duration": 18,
    "start_time": "2022-10-23T13:45:27.425Z"
   },
   {
    "duration": 25,
    "start_time": "2022-10-23T13:46:25.428Z"
   },
   {
    "duration": 1024,
    "start_time": "2022-10-23T13:46:53.479Z"
   },
   {
    "duration": 41,
    "start_time": "2022-10-23T13:46:54.505Z"
   },
   {
    "duration": 2,
    "start_time": "2022-10-23T13:46:54.548Z"
   },
   {
    "duration": 3,
    "start_time": "2022-10-23T13:46:54.552Z"
   },
   {
    "duration": 14,
    "start_time": "2022-10-23T13:46:54.557Z"
   },
   {
    "duration": 108,
    "start_time": "2022-10-23T13:46:54.573Z"
   },
   {
    "duration": 0,
    "start_time": "2022-10-23T13:46:54.682Z"
   },
   {
    "duration": 8,
    "start_time": "2022-10-23T13:49:34.883Z"
   },
   {
    "duration": 3,
    "start_time": "2022-10-23T13:49:53.997Z"
   },
   {
    "duration": 18,
    "start_time": "2022-10-23T13:50:01.488Z"
   },
   {
    "duration": 18,
    "start_time": "2022-10-23T13:50:19.117Z"
   },
   {
    "duration": 10,
    "start_time": "2022-10-23T13:50:31.801Z"
   },
   {
    "duration": 19,
    "start_time": "2022-10-23T13:50:36.833Z"
   },
   {
    "duration": 8,
    "start_time": "2022-10-23T13:51:28.275Z"
   },
   {
    "duration": 11,
    "start_time": "2022-10-23T13:52:22.053Z"
   },
   {
    "duration": 27,
    "start_time": "2022-10-23T13:52:41.467Z"
   },
   {
    "duration": 1016,
    "start_time": "2022-10-23T13:54:18.324Z"
   },
   {
    "duration": 46,
    "start_time": "2022-10-23T13:54:23.140Z"
   },
   {
    "duration": 48,
    "start_time": "2022-10-23T13:54:35.387Z"
   },
   {
    "duration": 41,
    "start_time": "2022-10-23T13:56:37.523Z"
   },
   {
    "duration": 21,
    "start_time": "2022-10-23T13:56:51.076Z"
   },
   {
    "duration": 20,
    "start_time": "2022-10-23T13:57:05.988Z"
   },
   {
    "duration": 24,
    "start_time": "2022-10-23T13:57:47.051Z"
   },
   {
    "duration": 1118,
    "start_time": "2022-10-23T13:58:33.296Z"
   },
   {
    "duration": 46,
    "start_time": "2022-10-23T13:58:34.416Z"
   },
   {
    "duration": 25,
    "start_time": "2022-10-23T13:58:34.463Z"
   },
   {
    "duration": 105,
    "start_time": "2022-10-23T13:58:34.491Z"
   },
   {
    "duration": 0,
    "start_time": "2022-10-23T13:58:34.599Z"
   },
   {
    "duration": 0,
    "start_time": "2022-10-23T13:58:34.600Z"
   },
   {
    "duration": 0,
    "start_time": "2022-10-23T13:58:34.602Z"
   },
   {
    "duration": 0,
    "start_time": "2022-10-23T13:58:34.603Z"
   },
   {
    "duration": 0,
    "start_time": "2022-10-23T13:58:34.604Z"
   },
   {
    "duration": 0,
    "start_time": "2022-10-23T13:58:34.605Z"
   },
   {
    "duration": 0,
    "start_time": "2022-10-23T13:58:34.606Z"
   },
   {
    "duration": 0,
    "start_time": "2022-10-23T13:58:34.623Z"
   },
   {
    "duration": 18,
    "start_time": "2022-10-23T13:59:14.996Z"
   },
   {
    "duration": 19,
    "start_time": "2022-10-23T14:00:04.404Z"
   },
   {
    "duration": 5,
    "start_time": "2022-10-23T14:01:52.440Z"
   },
   {
    "duration": 7,
    "start_time": "2022-10-23T14:03:02.536Z"
   },
   {
    "duration": 19,
    "start_time": "2022-10-23T14:03:09.502Z"
   },
   {
    "duration": 63,
    "start_time": "2022-10-23T14:04:23.637Z"
   },
   {
    "duration": 5,
    "start_time": "2022-10-23T14:04:24.580Z"
   },
   {
    "duration": 6,
    "start_time": "2022-10-23T14:04:25.221Z"
   },
   {
    "duration": 19,
    "start_time": "2022-10-23T14:04:26.220Z"
   },
   {
    "duration": 10,
    "start_time": "2022-10-23T14:06:49.810Z"
   },
   {
    "duration": 4,
    "start_time": "2022-10-23T14:07:15.413Z"
   },
   {
    "duration": 18,
    "start_time": "2022-10-23T14:07:22.534Z"
   },
   {
    "duration": 40,
    "start_time": "2022-10-23T14:09:19.905Z"
   },
   {
    "duration": 8,
    "start_time": "2022-10-23T14:09:20.512Z"
   },
   {
    "duration": 13,
    "start_time": "2022-10-23T14:09:21.328Z"
   },
   {
    "duration": 13,
    "start_time": "2022-10-23T14:09:21.865Z"
   },
   {
    "duration": 18,
    "start_time": "2022-10-23T14:09:24.565Z"
   },
   {
    "duration": 39,
    "start_time": "2022-10-23T14:09:38.368Z"
   },
   {
    "duration": 7,
    "start_time": "2022-10-23T14:09:38.803Z"
   },
   {
    "duration": 19,
    "start_time": "2022-10-23T14:09:42.408Z"
   },
   {
    "duration": 75,
    "start_time": "2022-10-23T14:12:01.096Z"
   },
   {
    "duration": 5,
    "start_time": "2022-10-23T14:12:35.194Z"
   },
   {
    "duration": 19,
    "start_time": "2022-10-23T14:12:37.939Z"
   },
   {
    "duration": 5,
    "start_time": "2022-10-23T14:12:49.772Z"
   },
   {
    "duration": 2,
    "start_time": "2022-10-23T14:12:50.393Z"
   },
   {
    "duration": 3,
    "start_time": "2022-10-23T14:12:50.704Z"
   },
   {
    "duration": 19,
    "start_time": "2022-10-23T14:12:51.110Z"
   },
   {
    "duration": 2,
    "start_time": "2022-10-23T14:12:55.860Z"
   },
   {
    "duration": 39,
    "start_time": "2022-10-23T14:12:56.312Z"
   },
   {
    "duration": 5,
    "start_time": "2022-10-23T14:12:56.969Z"
   },
   {
    "duration": 3,
    "start_time": "2022-10-23T14:12:57.407Z"
   },
   {
    "duration": 3,
    "start_time": "2022-10-23T14:12:57.694Z"
   },
   {
    "duration": 19,
    "start_time": "2022-10-23T14:12:58.046Z"
   },
   {
    "duration": 16,
    "start_time": "2022-10-23T14:13:26.200Z"
   },
   {
    "duration": 13,
    "start_time": "2022-10-23T14:13:44.333Z"
   },
   {
    "duration": 10,
    "start_time": "2022-10-23T14:13:45.005Z"
   },
   {
    "duration": 17,
    "start_time": "2022-10-23T14:13:45.337Z"
   },
   {
    "duration": 4,
    "start_time": "2022-10-23T14:14:56.970Z"
   },
   {
    "duration": 40,
    "start_time": "2022-10-23T14:14:57.333Z"
   },
   {
    "duration": 5,
    "start_time": "2022-10-23T14:14:57.679Z"
   },
   {
    "duration": 5,
    "start_time": "2022-10-23T14:14:58.090Z"
   },
   {
    "duration": 5,
    "start_time": "2022-10-23T14:14:58.560Z"
   },
   {
    "duration": 22,
    "start_time": "2022-10-23T14:14:59.075Z"
   },
   {
    "duration": 7,
    "start_time": "2022-10-23T14:15:34.265Z"
   },
   {
    "duration": 18,
    "start_time": "2022-10-23T14:15:37.246Z"
   },
   {
    "duration": 6,
    "start_time": "2022-10-23T14:16:27.971Z"
   },
   {
    "duration": 23,
    "start_time": "2022-10-23T14:16:34.680Z"
   },
   {
    "duration": 9,
    "start_time": "2022-10-23T14:18:26.849Z"
   },
   {
    "duration": 191,
    "start_time": "2022-10-23T14:18:35.940Z"
   },
   {
    "duration": 25,
    "start_time": "2022-10-23T14:35:52.769Z"
   },
   {
    "duration": 4,
    "start_time": "2022-10-23T14:40:53.796Z"
   },
   {
    "duration": 17,
    "start_time": "2022-10-23T14:40:57.478Z"
   },
   {
    "duration": 1116,
    "start_time": "2022-10-23T14:41:42.027Z"
   },
   {
    "duration": 41,
    "start_time": "2022-10-23T14:41:43.145Z"
   },
   {
    "duration": 26,
    "start_time": "2022-10-23T14:41:43.187Z"
   },
   {
    "duration": 3,
    "start_time": "2022-10-23T14:41:43.215Z"
   },
   {
    "duration": 20,
    "start_time": "2022-10-23T14:41:43.220Z"
   },
   {
    "duration": 6,
    "start_time": "2022-10-23T14:41:43.241Z"
   },
   {
    "duration": 3,
    "start_time": "2022-10-23T14:41:43.248Z"
   },
   {
    "duration": 4,
    "start_time": "2022-10-23T14:41:43.252Z"
   },
   {
    "duration": 212,
    "start_time": "2022-10-23T14:41:43.257Z"
   },
   {
    "duration": 3,
    "start_time": "2022-10-23T14:41:43.471Z"
   },
   {
    "duration": 8,
    "start_time": "2022-10-23T14:41:43.476Z"
   },
   {
    "duration": 113,
    "start_time": "2022-10-23T14:41:43.485Z"
   },
   {
    "duration": 0,
    "start_time": "2022-10-23T14:41:43.600Z"
   },
   {
    "duration": 0,
    "start_time": "2022-10-23T14:41:43.602Z"
   },
   {
    "duration": 0,
    "start_time": "2022-10-23T14:41:43.603Z"
   },
   {
    "duration": 0,
    "start_time": "2022-10-23T14:41:43.605Z"
   },
   {
    "duration": 0,
    "start_time": "2022-10-23T14:41:43.607Z"
   },
   {
    "duration": 0,
    "start_time": "2022-10-23T14:41:43.608Z"
   },
   {
    "duration": 0,
    "start_time": "2022-10-23T14:41:43.624Z"
   },
   {
    "duration": 0,
    "start_time": "2022-10-23T14:41:43.625Z"
   },
   {
    "duration": 10,
    "start_time": "2022-10-23T14:43:18.547Z"
   },
   {
    "duration": 14,
    "start_time": "2022-10-23T14:43:58.474Z"
   },
   {
    "duration": 33,
    "start_time": "2022-10-23T14:44:17.903Z"
   },
   {
    "duration": 38,
    "start_time": "2022-10-23T14:44:25.146Z"
   },
   {
    "duration": 32,
    "start_time": "2022-10-23T14:44:33.484Z"
   },
   {
    "duration": 2,
    "start_time": "2022-10-23T14:44:46.612Z"
   },
   {
    "duration": 16,
    "start_time": "2022-10-23T14:45:38.747Z"
   },
   {
    "duration": 7,
    "start_time": "2022-10-23T14:46:22.775Z"
   },
   {
    "duration": 3,
    "start_time": "2022-10-23T14:49:20.922Z"
   },
   {
    "duration": 14013,
    "start_time": "2022-10-23T15:11:29.691Z"
   },
   {
    "duration": 6673,
    "start_time": "2022-10-23T15:12:27.228Z"
   },
   {
    "duration": 3566,
    "start_time": "2022-10-23T15:12:43.278Z"
   },
   {
    "duration": 53080,
    "start_time": "2022-10-23T15:13:14.148Z"
   },
   {
    "duration": 1261,
    "start_time": "2022-10-23T15:17:13.073Z"
   },
   {
    "duration": 48224,
    "start_time": "2022-10-23T15:19:53.761Z"
   },
   {
    "duration": 6209,
    "start_time": "2022-10-23T15:21:01.964Z"
   },
   {
    "duration": 606,
    "start_time": "2022-10-23T15:22:14.644Z"
   },
   {
    "duration": 1304,
    "start_time": "2022-10-23T15:22:49.714Z"
   },
   {
    "duration": 5,
    "start_time": "2022-10-23T15:26:49.159Z"
   },
   {
    "duration": 1598,
    "start_time": "2022-10-23T15:27:03.588Z"
   },
   {
    "duration": 1253,
    "start_time": "2022-10-23T15:27:57.636Z"
   },
   {
    "duration": 1503,
    "start_time": "2022-10-23T15:29:25.785Z"
   },
   {
    "duration": 1246,
    "start_time": "2022-10-23T15:29:29.297Z"
   },
   {
    "duration": 1559,
    "start_time": "2022-10-23T15:29:34.324Z"
   },
   {
    "duration": 1545,
    "start_time": "2022-10-23T15:29:42.153Z"
   },
   {
    "duration": 15,
    "start_time": "2022-10-23T15:29:52.769Z"
   },
   {
    "duration": 14,
    "start_time": "2022-10-23T15:29:55.791Z"
   },
   {
    "duration": 14,
    "start_time": "2022-10-23T15:30:00.860Z"
   },
   {
    "duration": 9,
    "start_time": "2022-10-23T15:30:05.433Z"
   },
   {
    "duration": 1557,
    "start_time": "2022-10-23T15:30:09.903Z"
   },
   {
    "duration": 13,
    "start_time": "2022-10-23T15:34:02.793Z"
   },
   {
    "duration": 11,
    "start_time": "2022-10-23T15:34:10.686Z"
   },
   {
    "duration": 9,
    "start_time": "2022-10-23T15:34:53.546Z"
   },
   {
    "duration": 154,
    "start_time": "2022-10-23T15:34:58.088Z"
   },
   {
    "duration": 138,
    "start_time": "2022-10-23T15:36:00.588Z"
   },
   {
    "duration": 2839,
    "start_time": "2022-10-23T15:36:38.992Z"
   },
   {
    "duration": 2839,
    "start_time": "2022-10-23T15:37:16.317Z"
   },
   {
    "duration": 108381,
    "start_time": "2022-10-23T15:38:04.435Z"
   },
   {
    "duration": 12939,
    "start_time": "2022-10-23T15:39:59.491Z"
   },
   {
    "duration": 73029,
    "start_time": "2022-10-23T15:42:05.988Z"
   },
   {
    "duration": 3286,
    "start_time": "2022-10-23T15:46:37.958Z"
   },
   {
    "duration": 3263,
    "start_time": "2022-10-23T15:47:17.780Z"
   },
   {
    "duration": 10,
    "start_time": "2022-10-23T15:51:29.912Z"
   },
   {
    "duration": 12,
    "start_time": "2022-10-23T15:52:01.307Z"
   },
   {
    "duration": 3,
    "start_time": "2022-10-23T15:52:08.384Z"
   },
   {
    "duration": 49,
    "start_time": "2022-10-23T15:52:14.778Z"
   },
   {
    "duration": 503,
    "start_time": "2022-10-23T15:52:41.589Z"
   },
   {
    "duration": 338,
    "start_time": "2022-10-23T15:52:48.891Z"
   },
   {
    "duration": 3305,
    "start_time": "2022-10-23T15:53:49.560Z"
   },
   {
    "duration": 3232,
    "start_time": "2022-10-23T15:54:10.156Z"
   },
   {
    "duration": 42,
    "start_time": "2022-10-23T16:00:58.165Z"
   },
   {
    "duration": 3248,
    "start_time": "2022-10-23T16:01:36.520Z"
   },
   {
    "duration": 17,
    "start_time": "2022-10-23T16:55:31.128Z"
   },
   {
    "duration": 26,
    "start_time": "2022-10-23T16:58:03.532Z"
   },
   {
    "duration": 1226,
    "start_time": "2022-10-23T17:00:16.888Z"
   },
   {
    "duration": 1556,
    "start_time": "2022-10-23T17:00:44.879Z"
   },
   {
    "duration": 1273,
    "start_time": "2022-10-23T17:01:16.184Z"
   },
   {
    "duration": 42,
    "start_time": "2022-10-23T17:01:17.459Z"
   },
   {
    "duration": 25,
    "start_time": "2022-10-23T17:01:17.503Z"
   },
   {
    "duration": 9,
    "start_time": "2022-10-23T17:01:17.530Z"
   },
   {
    "duration": 20,
    "start_time": "2022-10-23T17:01:17.540Z"
   },
   {
    "duration": 19,
    "start_time": "2022-10-23T17:01:17.561Z"
   },
   {
    "duration": 10,
    "start_time": "2022-10-23T17:01:17.582Z"
   },
   {
    "duration": 23,
    "start_time": "2022-10-23T17:01:17.593Z"
   },
   {
    "duration": 20,
    "start_time": "2022-10-23T17:01:17.617Z"
   },
   {
    "duration": 22,
    "start_time": "2022-10-23T17:01:17.640Z"
   },
   {
    "duration": 6385,
    "start_time": "2022-10-23T17:01:17.663Z"
   },
   {
    "duration": 6205,
    "start_time": "2022-10-23T17:01:24.049Z"
   },
   {
    "duration": 48342,
    "start_time": "2022-10-23T17:01:30.255Z"
   },
   {
    "duration": 48303,
    "start_time": "2022-10-23T17:02:18.599Z"
   },
   {
    "duration": 1234,
    "start_time": "2022-10-23T17:03:06.904Z"
   },
   {
    "duration": 3,
    "start_time": "2022-10-23T17:03:08.139Z"
   },
   {
    "duration": 5,
    "start_time": "2022-10-23T17:03:08.144Z"
   },
   {
    "duration": 11,
    "start_time": "2022-10-23T17:03:08.150Z"
   },
   {
    "duration": 435,
    "start_time": "2022-10-23T17:03:08.163Z"
   },
   {
    "duration": 3381,
    "start_time": "2022-10-23T17:03:08.600Z"
   },
   {
    "duration": 0,
    "start_time": "2022-10-23T17:03:11.983Z"
   },
   {
    "duration": 0,
    "start_time": "2022-10-23T17:03:11.984Z"
   },
   {
    "duration": 0,
    "start_time": "2022-10-23T17:03:11.986Z"
   },
   {
    "duration": 0,
    "start_time": "2022-10-23T17:03:11.988Z"
   },
   {
    "duration": 0,
    "start_time": "2022-10-23T17:03:11.990Z"
   },
   {
    "duration": 0,
    "start_time": "2022-10-23T17:03:11.991Z"
   },
   {
    "duration": 0,
    "start_time": "2022-10-23T17:03:11.992Z"
   },
   {
    "duration": 0,
    "start_time": "2022-10-23T17:03:11.994Z"
   },
   {
    "duration": 0,
    "start_time": "2022-10-23T17:03:11.995Z"
   },
   {
    "duration": 0,
    "start_time": "2022-10-23T17:03:11.997Z"
   },
   {
    "duration": 41,
    "start_time": "2022-10-23T17:04:10.405Z"
   },
   {
    "duration": 13326,
    "start_time": "2022-10-23T17:04:20.046Z"
   },
   {
    "duration": 1256,
    "start_time": "2022-10-23T17:14:29.118Z"
   },
   {
    "duration": 1235,
    "start_time": "2022-10-23T17:14:43.426Z"
   },
   {
    "duration": 26,
    "start_time": "2022-10-23T17:14:46.369Z"
   },
   {
    "duration": 1237,
    "start_time": "2022-10-23T17:14:50.010Z"
   },
   {
    "duration": 1381,
    "start_time": "2022-10-23T17:16:13.693Z"
   },
   {
    "duration": 43,
    "start_time": "2022-10-23T17:16:15.076Z"
   },
   {
    "duration": 26,
    "start_time": "2022-10-23T17:16:15.248Z"
   },
   {
    "duration": 6,
    "start_time": "2022-10-23T17:16:16.068Z"
   },
   {
    "duration": 4,
    "start_time": "2022-10-23T17:16:18.409Z"
   },
   {
    "duration": 2,
    "start_time": "2022-10-23T17:16:18.711Z"
   },
   {
    "duration": 6,
    "start_time": "2022-10-23T17:16:19.091Z"
   },
   {
    "duration": 10,
    "start_time": "2022-10-23T17:16:19.483Z"
   },
   {
    "duration": 14,
    "start_time": "2022-10-23T17:16:19.860Z"
   },
   {
    "duration": 17,
    "start_time": "2022-10-23T17:16:20.926Z"
   },
   {
    "duration": 1261,
    "start_time": "2022-10-23T17:16:29.458Z"
   },
   {
    "duration": 21,
    "start_time": "2022-10-23T17:16:32.296Z"
   },
   {
    "duration": 1272,
    "start_time": "2022-10-23T17:16:35.287Z"
   },
   {
    "duration": 27,
    "start_time": "2022-10-23T17:16:57.048Z"
   },
   {
    "duration": 1248,
    "start_time": "2022-10-23T17:16:59.534Z"
   },
   {
    "duration": 45,
    "start_time": "2022-10-23T17:17:11.579Z"
   },
   {
    "duration": 1329,
    "start_time": "2022-10-23T17:17:41.285Z"
   },
   {
    "duration": 41,
    "start_time": "2022-10-23T17:17:42.616Z"
   },
   {
    "duration": 23,
    "start_time": "2022-10-23T17:17:42.659Z"
   },
   {
    "duration": 6,
    "start_time": "2022-10-23T17:17:42.806Z"
   },
   {
    "duration": 4,
    "start_time": "2022-10-23T17:17:43.390Z"
   },
   {
    "duration": 2,
    "start_time": "2022-10-23T17:17:43.798Z"
   },
   {
    "duration": 6,
    "start_time": "2022-10-23T17:17:44.610Z"
   },
   {
    "duration": 12,
    "start_time": "2022-10-23T17:17:45.632Z"
   },
   {
    "duration": 14,
    "start_time": "2022-10-23T17:17:47.842Z"
   },
   {
    "duration": 115,
    "start_time": "2022-10-23T17:18:06.388Z"
   },
   {
    "duration": 1235,
    "start_time": "2022-10-23T17:18:12.531Z"
   },
   {
    "duration": 50,
    "start_time": "2022-10-23T17:18:20.489Z"
   },
   {
    "duration": 27,
    "start_time": "2022-10-23T17:18:23.076Z"
   },
   {
    "duration": 1222,
    "start_time": "2022-10-23T17:18:27.627Z"
   },
   {
    "duration": 24,
    "start_time": "2022-10-23T17:18:30.952Z"
   },
   {
    "duration": 22,
    "start_time": "2022-10-23T17:20:50.927Z"
   },
   {
    "duration": 21,
    "start_time": "2022-10-23T17:20:54.946Z"
   },
   {
    "duration": 257,
    "start_time": "2022-10-23T17:21:13.974Z"
   },
   {
    "duration": 4,
    "start_time": "2022-10-23T17:22:42.480Z"
   },
   {
    "duration": 145,
    "start_time": "2022-10-23T17:23:28.092Z"
   },
   {
    "duration": 4,
    "start_time": "2022-10-23T17:24:02.680Z"
   },
   {
    "duration": 35,
    "start_time": "2022-10-23T17:24:22.292Z"
   },
   {
    "duration": 350,
    "start_time": "2022-10-23T17:25:32.386Z"
   },
   {
    "duration": 289,
    "start_time": "2022-10-23T17:27:00.078Z"
   },
   {
    "duration": 10,
    "start_time": "2022-10-24T00:55:07.951Z"
   },
   {
    "duration": 20,
    "start_time": "2022-10-24T00:55:54.611Z"
   },
   {
    "duration": 23,
    "start_time": "2022-10-24T00:56:06.441Z"
   },
   {
    "duration": 21,
    "start_time": "2022-10-24T00:56:09.653Z"
   },
   {
    "duration": 9,
    "start_time": "2022-10-24T00:57:54.231Z"
   },
   {
    "duration": 3,
    "start_time": "2022-10-24T00:58:09.856Z"
   },
   {
    "duration": 10,
    "start_time": "2022-10-24T00:58:15.269Z"
   },
   {
    "duration": 3,
    "start_time": "2022-10-24T00:58:33.651Z"
   },
   {
    "duration": 41,
    "start_time": "2022-10-24T00:58:39.260Z"
   },
   {
    "duration": 131,
    "start_time": "2022-10-24T00:58:54.028Z"
   },
   {
    "duration": 4,
    "start_time": "2022-10-24T00:59:59.260Z"
   },
   {
    "duration": 185,
    "start_time": "2022-10-24T01:00:33.110Z"
   },
   {
    "duration": 191,
    "start_time": "2022-10-24T01:00:58.489Z"
   },
   {
    "duration": 3,
    "start_time": "2022-10-24T01:03:05.524Z"
   },
   {
    "duration": 1335,
    "start_time": "2022-10-24T01:04:07.621Z"
   },
   {
    "duration": 41,
    "start_time": "2022-10-24T01:04:09.085Z"
   },
   {
    "duration": 22,
    "start_time": "2022-10-24T01:04:09.403Z"
   },
   {
    "duration": 7,
    "start_time": "2022-10-24T01:04:09.663Z"
   },
   {
    "duration": 4,
    "start_time": "2022-10-24T01:04:09.893Z"
   },
   {
    "duration": 2,
    "start_time": "2022-10-24T01:04:10.113Z"
   },
   {
    "duration": 6,
    "start_time": "2022-10-24T01:04:10.514Z"
   },
   {
    "duration": 12,
    "start_time": "2022-10-24T01:04:10.925Z"
   },
   {
    "duration": 16,
    "start_time": "2022-10-24T01:04:11.402Z"
   },
   {
    "duration": 16,
    "start_time": "2022-10-24T01:04:12.239Z"
   },
   {
    "duration": 5912,
    "start_time": "2022-10-24T01:04:14.214Z"
   },
   {
    "duration": 1192,
    "start_time": "2022-10-24T01:04:47.844Z"
   },
   {
    "duration": 83,
    "start_time": "2022-10-24T01:06:44.595Z"
   },
   {
    "duration": 198,
    "start_time": "2022-10-24T01:06:46.561Z"
   },
   {
    "duration": 25,
    "start_time": "2022-10-24T01:09:14.970Z"
   },
   {
    "duration": 82,
    "start_time": "2022-10-24T01:11:17.382Z"
   },
   {
    "duration": 5,
    "start_time": "2022-10-24T01:11:46.144Z"
   },
   {
    "duration": 6,
    "start_time": "2022-10-24T01:13:23.531Z"
   },
   {
    "duration": 1478,
    "start_time": "2022-10-24T01:15:04.435Z"
   },
   {
    "duration": 39,
    "start_time": "2022-10-24T01:17:10.324Z"
   },
   {
    "duration": 39,
    "start_time": "2022-10-24T01:17:47.536Z"
   },
   {
    "duration": 47,
    "start_time": "2022-10-24T01:18:15.183Z"
   },
   {
    "duration": 1496,
    "start_time": "2022-10-24T01:18:39.095Z"
   },
   {
    "duration": 1675,
    "start_time": "2022-10-24T01:21:29.145Z"
   },
   {
    "duration": 4,
    "start_time": "2022-10-24T01:21:39.050Z"
   },
   {
    "duration": 1512,
    "start_time": "2022-10-24T01:21:50.073Z"
   },
   {
    "duration": 1171,
    "start_time": "2022-10-24T01:22:25.172Z"
   },
   {
    "duration": 319,
    "start_time": "2022-10-24T01:23:30.819Z"
   },
   {
    "duration": 514,
    "start_time": "2022-10-24T01:24:29.925Z"
   },
   {
    "duration": 325,
    "start_time": "2022-10-24T01:26:21.436Z"
   },
   {
    "duration": 302,
    "start_time": "2022-10-24T01:27:15.529Z"
   },
   {
    "duration": 327,
    "start_time": "2022-10-24T01:27:38.199Z"
   },
   {
    "duration": 363,
    "start_time": "2022-10-24T01:28:07.436Z"
   },
   {
    "duration": 1487,
    "start_time": "2022-10-24T01:28:50.362Z"
   },
   {
    "duration": 1469,
    "start_time": "2022-10-24T01:28:56.726Z"
   },
   {
    "duration": 1165,
    "start_time": "2022-10-24T01:29:09.562Z"
   },
   {
    "duration": 1162,
    "start_time": "2022-10-24T01:29:13.933Z"
   },
   {
    "duration": 1179,
    "start_time": "2022-10-24T01:29:36.942Z"
   },
   {
    "duration": 5923,
    "start_time": "2022-10-24T01:30:42.962Z"
   },
   {
    "duration": 47265,
    "start_time": "2022-10-24T01:30:55.909Z"
   },
   {
    "duration": 84,
    "start_time": "2022-10-24T01:32:07.102Z"
   },
   {
    "duration": 82,
    "start_time": "2022-10-24T01:32:22.720Z"
   },
   {
    "duration": 33,
    "start_time": "2022-10-24T01:32:29.593Z"
   },
   {
    "duration": 38,
    "start_time": "2022-10-24T01:32:48.410Z"
   },
   {
    "duration": 1150,
    "start_time": "2022-10-24T01:34:06.048Z"
   },
   {
    "duration": 36,
    "start_time": "2022-10-24T01:34:16.485Z"
   },
   {
    "duration": 81,
    "start_time": "2022-10-24T01:34:39.752Z"
   },
   {
    "duration": 34,
    "start_time": "2022-10-24T01:34:41.592Z"
   },
   {
    "duration": 65,
    "start_time": "2022-10-24T01:35:14.684Z"
   },
   {
    "duration": 101,
    "start_time": "2022-10-24T01:36:25.300Z"
   },
   {
    "duration": 75,
    "start_time": "2022-10-24T01:36:47.337Z"
   },
   {
    "duration": 27,
    "start_time": "2022-10-24T01:36:59.962Z"
   },
   {
    "duration": 32,
    "start_time": "2022-10-24T01:37:07.100Z"
   },
   {
    "duration": 34,
    "start_time": "2022-10-24T01:37:16.939Z"
   },
   {
    "duration": 20,
    "start_time": "2022-10-24T01:37:45.212Z"
   },
   {
    "duration": 5,
    "start_time": "2022-10-24T01:37:52.663Z"
   },
   {
    "duration": 19,
    "start_time": "2022-10-24T01:38:04.313Z"
   },
   {
    "duration": 1350,
    "start_time": "2022-10-24T01:39:30.538Z"
   },
   {
    "duration": 43,
    "start_time": "2022-10-24T01:39:31.889Z"
   },
   {
    "duration": 22,
    "start_time": "2022-10-24T01:39:31.933Z"
   },
   {
    "duration": 6,
    "start_time": "2022-10-24T01:39:31.998Z"
   },
   {
    "duration": 4,
    "start_time": "2022-10-24T01:39:32.148Z"
   },
   {
    "duration": 2,
    "start_time": "2022-10-24T01:39:32.305Z"
   },
   {
    "duration": 6,
    "start_time": "2022-10-24T01:39:32.747Z"
   },
   {
    "duration": 12,
    "start_time": "2022-10-24T01:39:33.113Z"
   },
   {
    "duration": 13,
    "start_time": "2022-10-24T01:39:33.510Z"
   },
   {
    "duration": 26,
    "start_time": "2022-10-24T01:39:36.341Z"
   },
   {
    "duration": 5958,
    "start_time": "2022-10-24T01:39:48.749Z"
   },
   {
    "duration": 46107,
    "start_time": "2022-10-24T01:40:05.846Z"
   },
   {
    "duration": 1190,
    "start_time": "2022-10-24T01:41:00.138Z"
   },
   {
    "duration": 1258,
    "start_time": "2022-10-24T01:41:19.026Z"
   },
   {
    "duration": 90,
    "start_time": "2022-10-24T01:41:26.401Z"
   },
   {
    "duration": 34,
    "start_time": "2022-10-24T01:41:29.570Z"
   },
   {
    "duration": 33,
    "start_time": "2022-10-24T01:41:48.006Z"
   },
   {
    "duration": 20,
    "start_time": "2022-10-24T01:42:02.436Z"
   },
   {
    "duration": 5,
    "start_time": "2022-10-24T01:42:11.987Z"
   },
   {
    "duration": 5950,
    "start_time": "2022-10-24T01:43:08.308Z"
   },
   {
    "duration": 45684,
    "start_time": "2022-10-24T01:44:25.429Z"
   },
   {
    "duration": 20003,
    "start_time": "2022-10-24T01:45:22.420Z"
   },
   {
    "duration": 26250,
    "start_time": "2022-10-24T01:46:13.192Z"
   },
   {
    "duration": 708,
    "start_time": "2022-10-24T01:47:30.848Z"
   },
   {
    "duration": 50,
    "start_time": "2022-10-24T01:50:14.913Z"
   },
   {
    "duration": 37,
    "start_time": "2022-10-24T01:50:22.545Z"
   },
   {
    "duration": 686,
    "start_time": "2022-10-24T01:50:51.406Z"
   },
   {
    "duration": 54,
    "start_time": "2022-10-24T01:50:53.179Z"
   },
   {
    "duration": 21,
    "start_time": "2022-10-24T01:51:49.907Z"
   },
   {
    "duration": 34,
    "start_time": "2022-10-24T01:52:33.238Z"
   },
   {
    "duration": 20,
    "start_time": "2022-10-24T01:53:00.550Z"
   },
   {
    "duration": 675,
    "start_time": "2022-10-24T01:54:45.907Z"
   },
   {
    "duration": 1142,
    "start_time": "2022-10-24T01:55:35.032Z"
   },
   {
    "duration": 665,
    "start_time": "2022-10-24T01:56:33.935Z"
   },
   {
    "duration": 667,
    "start_time": "2022-10-24T01:56:47.004Z"
   },
   {
    "duration": 98,
    "start_time": "2022-10-24T01:57:06.008Z"
   },
   {
    "duration": 4,
    "start_time": "2022-10-24T01:57:13.047Z"
   },
   {
    "duration": 1450,
    "start_time": "2022-10-24T01:57:14.391Z"
   },
   {
    "duration": 1330,
    "start_time": "2022-10-24T01:57:34.619Z"
   },
   {
    "duration": 42,
    "start_time": "2022-10-24T01:57:37.795Z"
   },
   {
    "duration": 22,
    "start_time": "2022-10-24T01:57:38.000Z"
   },
   {
    "duration": 6,
    "start_time": "2022-10-24T01:57:38.229Z"
   },
   {
    "duration": 4,
    "start_time": "2022-10-24T01:57:39.008Z"
   },
   {
    "duration": 2,
    "start_time": "2022-10-24T01:57:40.568Z"
   },
   {
    "duration": 6,
    "start_time": "2022-10-24T01:57:41.308Z"
   },
   {
    "duration": 13,
    "start_time": "2022-10-24T01:57:42.116Z"
   },
   {
    "duration": 14,
    "start_time": "2022-10-24T01:57:43.493Z"
   },
   {
    "duration": 17,
    "start_time": "2022-10-24T01:57:47.147Z"
   },
   {
    "duration": 6148,
    "start_time": "2022-10-24T01:57:53.487Z"
   },
   {
    "duration": 5964,
    "start_time": "2022-10-24T01:58:02.235Z"
   },
   {
    "duration": 6,
    "start_time": "2022-10-24T01:58:30.555Z"
   },
   {
    "duration": 674,
    "start_time": "2022-10-24T01:58:44.778Z"
   },
   {
    "duration": 1554,
    "start_time": "2022-10-24T01:59:01.068Z"
   },
   {
    "duration": 1174,
    "start_time": "2022-10-24T01:59:06.946Z"
   },
   {
    "duration": 1568,
    "start_time": "2022-10-24T01:59:26.863Z"
   },
   {
    "duration": 1226,
    "start_time": "2022-10-24T01:59:33.714Z"
   },
   {
    "duration": 1182,
    "start_time": "2022-10-24T01:59:42.266Z"
   },
   {
    "duration": 693,
    "start_time": "2022-10-24T01:59:53.467Z"
   },
   {
    "duration": 768,
    "start_time": "2022-10-24T02:02:18.609Z"
   },
   {
    "duration": 669,
    "start_time": "2022-10-24T02:02:56.907Z"
   },
   {
    "duration": 730,
    "start_time": "2022-10-24T02:03:15.803Z"
   },
   {
    "duration": 713,
    "start_time": "2022-10-24T02:05:23.036Z"
   },
   {
    "duration": 833,
    "start_time": "2022-10-24T02:05:36.862Z"
   },
   {
    "duration": 20,
    "start_time": "2022-10-24T02:13:14.808Z"
   },
   {
    "duration": 5,
    "start_time": "2022-10-24T02:14:13.578Z"
   },
   {
    "duration": 18,
    "start_time": "2022-10-24T02:14:44.138Z"
   },
   {
    "duration": 9,
    "start_time": "2022-10-24T02:15:19.988Z"
   },
   {
    "duration": 98,
    "start_time": "2022-10-24T02:15:27.816Z"
   },
   {
    "duration": 65,
    "start_time": "2022-10-24T02:16:03.303Z"
   },
   {
    "duration": 1494,
    "start_time": "2022-10-24T02:18:22.243Z"
   },
   {
    "duration": 43,
    "start_time": "2022-10-24T02:18:23.868Z"
   },
   {
    "duration": 25,
    "start_time": "2022-10-24T02:18:24.470Z"
   },
   {
    "duration": 5,
    "start_time": "2022-10-24T02:18:25.480Z"
   },
   {
    "duration": 6,
    "start_time": "2022-10-24T02:18:26.254Z"
   },
   {
    "duration": 17,
    "start_time": "2022-10-24T02:18:28.270Z"
   },
   {
    "duration": 4,
    "start_time": "2022-10-24T02:19:46.516Z"
   },
   {
    "duration": 18,
    "start_time": "2022-10-24T02:19:46.901Z"
   },
   {
    "duration": 11,
    "start_time": "2022-10-24T02:19:47.320Z"
   },
   {
    "duration": 80,
    "start_time": "2022-10-24T02:19:47.935Z"
   },
   {
    "duration": 9,
    "start_time": "2022-10-24T02:20:15.083Z"
   },
   {
    "duration": 10,
    "start_time": "2022-10-24T02:20:20.894Z"
   },
   {
    "duration": 27,
    "start_time": "2022-10-24T02:21:15.458Z"
   },
   {
    "duration": 32,
    "start_time": "2022-10-24T02:22:09.613Z"
   },
   {
    "duration": 29,
    "start_time": "2022-10-24T02:22:45.990Z"
   },
   {
    "duration": 637,
    "start_time": "2022-10-24T02:24:12.038Z"
   },
   {
    "duration": 575,
    "start_time": "2022-10-24T02:24:34.250Z"
   },
   {
    "duration": 99,
    "start_time": "2022-10-24T02:24:46.734Z"
   },
   {
    "duration": 96,
    "start_time": "2022-10-24T02:24:51.735Z"
   },
   {
    "duration": 619,
    "start_time": "2022-10-24T02:25:08.472Z"
   },
   {
    "duration": 730,
    "start_time": "2022-10-24T02:26:23.986Z"
   },
   {
    "duration": 636,
    "start_time": "2022-10-24T02:26:34.525Z"
   },
   {
    "duration": 12,
    "start_time": "2022-10-24T02:26:38.989Z"
   },
   {
    "duration": 646,
    "start_time": "2022-10-24T02:26:41.085Z"
   },
   {
    "duration": 949,
    "start_time": "2022-10-24T02:26:57.234Z"
   },
   {
    "duration": 738,
    "start_time": "2022-10-24T02:27:28.578Z"
   },
   {
    "duration": 626,
    "start_time": "2022-10-24T02:27:49.329Z"
   },
   {
    "duration": 737,
    "start_time": "2022-10-24T02:27:54.852Z"
   },
   {
    "duration": 673,
    "start_time": "2022-10-24T02:28:01.009Z"
   },
   {
    "duration": 9,
    "start_time": "2022-10-24T02:28:40.280Z"
   },
   {
    "duration": 643,
    "start_time": "2022-10-24T02:28:41.571Z"
   },
   {
    "duration": 13,
    "start_time": "2022-10-24T02:28:54.743Z"
   },
   {
    "duration": 646,
    "start_time": "2022-10-24T02:28:55.601Z"
   },
   {
    "duration": 679,
    "start_time": "2022-10-24T02:29:01.488Z"
   },
   {
    "duration": 620,
    "start_time": "2022-10-24T02:29:08.235Z"
   },
   {
    "duration": 643,
    "start_time": "2022-10-24T02:29:15.608Z"
   },
   {
    "duration": 637,
    "start_time": "2022-10-24T02:29:19.171Z"
   },
   {
    "duration": 627,
    "start_time": "2022-10-24T02:29:22.874Z"
   },
   {
    "duration": 640,
    "start_time": "2022-10-24T02:29:26.492Z"
   },
   {
    "duration": 652,
    "start_time": "2022-10-24T02:29:30.350Z"
   },
   {
    "duration": 628,
    "start_time": "2022-10-24T02:29:35.510Z"
   },
   {
    "duration": 643,
    "start_time": "2022-10-24T02:30:22.298Z"
   },
   {
    "duration": 643,
    "start_time": "2022-10-24T02:30:52.398Z"
   },
   {
    "duration": 639,
    "start_time": "2022-10-24T02:31:07.783Z"
   },
   {
    "duration": 12,
    "start_time": "2022-10-24T02:32:41.232Z"
   },
   {
    "duration": 643,
    "start_time": "2022-10-24T02:32:42.017Z"
   },
   {
    "duration": 82,
    "start_time": "2022-10-24T02:34:37.367Z"
   },
   {
    "duration": 20623,
    "start_time": "2022-10-24T02:34:45.307Z"
   },
   {
    "duration": 68129,
    "start_time": "2022-10-24T02:37:32.756Z"
   },
   {
    "duration": 68257,
    "start_time": "2022-10-24T02:39:25.935Z"
   },
   {
    "duration": 1421,
    "start_time": "2022-10-24T02:40:45.408Z"
   },
   {
    "duration": 3178,
    "start_time": "2022-10-24T02:40:51.478Z"
   },
   {
    "duration": 838,
    "start_time": "2022-10-24T02:41:04.930Z"
   },
   {
    "duration": 9,
    "start_time": "2022-10-24T02:41:27.217Z"
   },
   {
    "duration": 9,
    "start_time": "2022-10-24T02:41:38.302Z"
   },
   {
    "duration": 645,
    "start_time": "2022-10-24T02:41:40.796Z"
   },
   {
    "duration": 318,
    "start_time": "2022-10-24T02:42:42.515Z"
   },
   {
    "duration": 28,
    "start_time": "2022-10-24T02:42:52.661Z"
   },
   {
    "duration": 1190,
    "start_time": "2022-10-24T02:43:45.651Z"
   },
   {
    "duration": 1178,
    "start_time": "2022-10-24T02:44:02.965Z"
   },
   {
    "duration": 28,
    "start_time": "2022-10-24T02:44:07.708Z"
   },
   {
    "duration": 306,
    "start_time": "2022-10-24T02:44:12.978Z"
   },
   {
    "duration": 1270,
    "start_time": "2022-10-24T02:44:20.058Z"
   },
   {
    "duration": 1146,
    "start_time": "2022-10-24T02:44:26.390Z"
   },
   {
    "duration": 830,
    "start_time": "2022-10-24T02:44:37.125Z"
   },
   {
    "duration": 334,
    "start_time": "2022-10-24T02:45:01.103Z"
   },
   {
    "duration": 846,
    "start_time": "2022-10-24T02:45:23.413Z"
   },
   {
    "duration": 867,
    "start_time": "2022-10-24T02:45:31.245Z"
   },
   {
    "duration": 13,
    "start_time": "2022-10-24T02:46:15.006Z"
   },
   {
    "duration": 15,
    "start_time": "2022-10-24T02:46:15.920Z"
   },
   {
    "duration": 6272,
    "start_time": "2022-10-24T02:49:18.406Z"
   },
   {
    "duration": 6402,
    "start_time": "2022-10-24T02:49:25.954Z"
   },
   {
    "duration": 45922,
    "start_time": "2022-10-24T02:50:34.544Z"
   },
   {
    "duration": 20278,
    "start_time": "2022-10-24T02:51:20.467Z"
   },
   {
    "duration": 27085,
    "start_time": "2022-10-24T02:57:44.683Z"
   },
   {
    "duration": 28227,
    "start_time": "2022-10-24T02:59:02.079Z"
   },
   {
    "duration": 20983,
    "start_time": "2022-10-24T02:59:47.944Z"
   },
   {
    "duration": 734,
    "start_time": "2022-10-24T03:00:27.009Z"
   },
   {
    "duration": 724,
    "start_time": "2022-10-24T03:00:38.084Z"
   },
   {
    "duration": 91,
    "start_time": "2022-10-24T03:03:30.532Z"
   },
   {
    "duration": 6,
    "start_time": "2022-10-24T03:04:36.848Z"
   },
   {
    "duration": 902,
    "start_time": "2022-10-24T03:05:33.645Z"
   },
   {
    "duration": 893,
    "start_time": "2022-10-24T03:06:24.436Z"
   },
   {
    "duration": 168,
    "start_time": "2022-10-24T03:06:28.447Z"
   },
   {
    "duration": 756,
    "start_time": "2022-10-24T03:06:45.004Z"
   },
   {
    "duration": 168,
    "start_time": "2022-10-24T03:06:46.815Z"
   },
   {
    "duration": 904,
    "start_time": "2022-10-24T03:06:50.418Z"
   },
   {
    "duration": 1629,
    "start_time": "2022-10-24T03:07:13.224Z"
   },
   {
    "duration": 1734,
    "start_time": "2022-10-24T03:07:22.640Z"
   },
   {
    "duration": 1268,
    "start_time": "2022-10-24T03:07:36.697Z"
   },
   {
    "duration": 1354,
    "start_time": "2022-10-24T03:08:03.541Z"
   },
   {
    "duration": 6,
    "start_time": "2022-10-24T03:08:48.434Z"
   },
   {
    "duration": 11,
    "start_time": "2022-10-24T03:17:55.912Z"
   },
   {
    "duration": 4,
    "start_time": "2022-10-24T03:19:06.378Z"
   },
   {
    "duration": 5,
    "start_time": "2022-10-24T03:19:11.229Z"
   },
   {
    "duration": 893,
    "start_time": "2022-10-24T03:19:38.480Z"
   },
   {
    "duration": 70,
    "start_time": "2022-10-24T03:24:56.602Z"
   },
   {
    "duration": 0,
    "start_time": "2022-10-24T03:24:56.674Z"
   },
   {
    "duration": 0,
    "start_time": "2022-10-24T03:24:56.676Z"
   },
   {
    "duration": 0,
    "start_time": "2022-10-24T03:24:56.677Z"
   },
   {
    "duration": 0,
    "start_time": "2022-10-24T03:24:56.678Z"
   },
   {
    "duration": 0,
    "start_time": "2022-10-24T03:24:56.679Z"
   },
   {
    "duration": 0,
    "start_time": "2022-10-24T03:24:56.680Z"
   },
   {
    "duration": 0,
    "start_time": "2022-10-24T03:24:56.681Z"
   },
   {
    "duration": 0,
    "start_time": "2022-10-24T03:24:56.682Z"
   },
   {
    "duration": 0,
    "start_time": "2022-10-24T03:24:56.683Z"
   },
   {
    "duration": 0,
    "start_time": "2022-10-24T03:24:56.685Z"
   },
   {
    "duration": 49,
    "start_time": "2022-10-24T03:24:56.686Z"
   },
   {
    "duration": 0,
    "start_time": "2022-10-24T03:24:56.736Z"
   },
   {
    "duration": 0,
    "start_time": "2022-10-24T03:24:56.737Z"
   },
   {
    "duration": 0,
    "start_time": "2022-10-24T03:24:56.738Z"
   },
   {
    "duration": 7,
    "start_time": "2022-10-24T03:24:56.805Z"
   },
   {
    "duration": 0,
    "start_time": "2022-10-24T03:24:56.814Z"
   },
   {
    "duration": 7,
    "start_time": "2022-10-24T03:24:56.869Z"
   },
   {
    "duration": 0,
    "start_time": "2022-10-24T03:24:56.878Z"
   },
   {
    "duration": 1332,
    "start_time": "2022-10-24T03:26:53.597Z"
   },
   {
    "duration": 42,
    "start_time": "2022-10-24T03:26:54.931Z"
   },
   {
    "duration": 23,
    "start_time": "2022-10-24T03:26:54.975Z"
   },
   {
    "duration": 3,
    "start_time": "2022-10-24T03:26:55.000Z"
   },
   {
    "duration": 8,
    "start_time": "2022-10-24T03:26:55.005Z"
   },
   {
    "duration": 17,
    "start_time": "2022-10-24T03:26:55.014Z"
   },
   {
    "duration": 10,
    "start_time": "2022-10-24T03:26:55.033Z"
   },
   {
    "duration": 89,
    "start_time": "2022-10-24T03:26:55.044Z"
   },
   {
    "duration": 9,
    "start_time": "2022-10-24T03:26:55.134Z"
   },
   {
    "duration": 669,
    "start_time": "2022-10-24T03:26:55.145Z"
   },
   {
    "duration": 18,
    "start_time": "2022-10-24T03:26:55.815Z"
   },
   {
    "duration": 6374,
    "start_time": "2022-10-24T03:26:55.834Z"
   },
   {
    "duration": 21503,
    "start_time": "2022-10-24T03:27:02.210Z"
   },
   {
    "duration": 822,
    "start_time": "2022-10-24T03:27:23.715Z"
   },
   {
    "duration": 830,
    "start_time": "2022-10-24T03:27:24.539Z"
   },
   {
    "duration": 174,
    "start_time": "2022-10-24T03:27:25.370Z"
   },
   {
    "duration": 114,
    "start_time": "2022-10-24T03:27:25.546Z"
   },
   {
    "duration": 0,
    "start_time": "2022-10-24T03:27:25.662Z"
   },
   {
    "duration": 6,
    "start_time": "2022-10-24T03:28:30.308Z"
   },
   {
    "duration": 27,
    "start_time": "2022-10-24T03:38:45.863Z"
   },
   {
    "duration": 5955,
    "start_time": "2022-10-24T03:39:02.861Z"
   },
   {
    "duration": 690,
    "start_time": "2022-10-24T03:39:32.291Z"
   },
   {
    "duration": 20252,
    "start_time": "2022-10-24T03:40:14.789Z"
   },
   {
    "duration": 12,
    "start_time": "2022-10-24T03:40:55.597Z"
   },
   {
    "duration": 120,
    "start_time": "2022-10-24T03:41:07.654Z"
   },
   {
    "duration": 9,
    "start_time": "2022-10-24T03:43:14.667Z"
   },
   {
    "duration": 149,
    "start_time": "2022-10-24T03:43:21.875Z"
   },
   {
    "duration": 20,
    "start_time": "2022-10-24T03:43:32.685Z"
   },
   {
    "duration": 22,
    "start_time": "2022-10-24T03:45:02.507Z"
   },
   {
    "duration": 21,
    "start_time": "2022-10-24T03:45:29.500Z"
   },
   {
    "duration": 21,
    "start_time": "2022-10-24T03:45:35.138Z"
   },
   {
    "duration": 1239,
    "start_time": "2022-10-24T03:45:53.071Z"
   },
   {
    "duration": 41,
    "start_time": "2022-10-24T03:45:54.312Z"
   },
   {
    "duration": 21,
    "start_time": "2022-10-24T03:45:54.355Z"
   },
   {
    "duration": 12,
    "start_time": "2022-10-24T03:45:54.377Z"
   },
   {
    "duration": 29,
    "start_time": "2022-10-24T03:45:54.391Z"
   },
   {
    "duration": 34,
    "start_time": "2022-10-24T03:45:54.422Z"
   },
   {
    "duration": 48,
    "start_time": "2022-10-24T03:45:54.458Z"
   },
   {
    "duration": 99,
    "start_time": "2022-10-24T03:45:54.508Z"
   },
   {
    "duration": 9,
    "start_time": "2022-10-24T03:45:54.608Z"
   },
   {
    "duration": 654,
    "start_time": "2022-10-24T03:45:54.618Z"
   },
   {
    "duration": 12,
    "start_time": "2022-10-24T03:45:55.273Z"
   },
   {
    "duration": 6532,
    "start_time": "2022-10-24T03:45:55.286Z"
   },
   {
    "duration": 19690,
    "start_time": "2022-10-24T03:46:01.824Z"
   },
   {
    "duration": 694,
    "start_time": "2022-10-24T03:46:21.516Z"
   },
   {
    "duration": 41,
    "start_time": "2022-10-24T03:46:22.211Z"
   },
   {
    "duration": 856,
    "start_time": "2022-10-24T03:46:22.253Z"
   },
   {
    "duration": 156,
    "start_time": "2022-10-24T03:46:23.110Z"
   },
   {
    "duration": 4,
    "start_time": "2022-10-24T03:46:23.268Z"
   },
   {
    "duration": 12,
    "start_time": "2022-10-24T03:49:42.598Z"
   },
   {
    "duration": 6,
    "start_time": "2022-10-24T03:50:06.120Z"
   },
   {
    "duration": 15,
    "start_time": "2022-10-24T03:50:07.795Z"
   },
   {
    "duration": 100,
    "start_time": "2022-10-24T03:50:15.859Z"
   },
   {
    "duration": 16,
    "start_time": "2022-10-24T03:50:20.726Z"
   },
   {
    "duration": 739,
    "start_time": "2022-10-24T03:50:28.222Z"
   },
   {
    "duration": 1290,
    "start_time": "2022-10-24T03:50:50.787Z"
   },
   {
    "duration": 42,
    "start_time": "2022-10-24T03:50:52.079Z"
   },
   {
    "duration": 22,
    "start_time": "2022-10-24T03:50:52.122Z"
   },
   {
    "duration": 3,
    "start_time": "2022-10-24T03:50:52.146Z"
   },
   {
    "duration": 6,
    "start_time": "2022-10-24T03:50:52.151Z"
   },
   {
    "duration": 15,
    "start_time": "2022-10-24T03:50:52.159Z"
   },
   {
    "duration": 10,
    "start_time": "2022-10-24T03:50:52.176Z"
   },
   {
    "duration": 100,
    "start_time": "2022-10-24T03:50:52.188Z"
   },
   {
    "duration": 10,
    "start_time": "2022-10-24T03:50:52.290Z"
   },
   {
    "duration": 647,
    "start_time": "2022-10-24T03:50:52.301Z"
   },
   {
    "duration": 12,
    "start_time": "2022-10-24T03:50:52.950Z"
   },
   {
    "duration": 5866,
    "start_time": "2022-10-24T03:50:52.963Z"
   },
   {
    "duration": 19617,
    "start_time": "2022-10-24T03:50:58.831Z"
   },
   {
    "duration": 690,
    "start_time": "2022-10-24T03:51:18.451Z"
   },
   {
    "duration": 25,
    "start_time": "2022-10-24T03:51:19.142Z"
   },
   {
    "duration": 20,
    "start_time": "2022-10-24T03:51:19.168Z"
   },
   {
    "duration": 774,
    "start_time": "2022-10-24T03:51:19.225Z"
   },
   {
    "duration": 155,
    "start_time": "2022-10-24T03:51:20.001Z"
   },
   {
    "duration": 5,
    "start_time": "2022-10-24T03:51:20.157Z"
   },
   {
    "duration": 11,
    "start_time": "2022-10-24T03:51:50.187Z"
   },
   {
    "duration": 5,
    "start_time": "2022-10-24T03:52:02.231Z"
   },
   {
    "duration": 16,
    "start_time": "2022-10-24T03:52:03.380Z"
   },
   {
    "duration": 100,
    "start_time": "2022-10-24T03:52:10.726Z"
   },
   {
    "duration": 14,
    "start_time": "2022-10-24T03:52:14.752Z"
   },
   {
    "duration": 1261,
    "start_time": "2022-10-24T03:52:28.583Z"
   },
   {
    "duration": 41,
    "start_time": "2022-10-24T03:52:29.846Z"
   },
   {
    "duration": 22,
    "start_time": "2022-10-24T03:52:29.889Z"
   },
   {
    "duration": 4,
    "start_time": "2022-10-24T03:52:29.913Z"
   },
   {
    "duration": 7,
    "start_time": "2022-10-24T03:52:29.918Z"
   },
   {
    "duration": 17,
    "start_time": "2022-10-24T03:52:29.926Z"
   },
   {
    "duration": 10,
    "start_time": "2022-10-24T03:52:29.944Z"
   },
   {
    "duration": 88,
    "start_time": "2022-10-24T03:52:29.955Z"
   },
   {
    "duration": 9,
    "start_time": "2022-10-24T03:52:30.044Z"
   },
   {
    "duration": 675,
    "start_time": "2022-10-24T03:52:30.056Z"
   },
   {
    "duration": 12,
    "start_time": "2022-10-24T03:52:30.732Z"
   },
   {
    "duration": 5964,
    "start_time": "2022-10-24T03:52:30.746Z"
   },
   {
    "duration": 19845,
    "start_time": "2022-10-24T03:52:36.711Z"
   },
   {
    "duration": 682,
    "start_time": "2022-10-24T03:52:56.558Z"
   },
   {
    "duration": 11,
    "start_time": "2022-10-24T03:52:57.242Z"
   },
   {
    "duration": 72,
    "start_time": "2022-10-24T03:52:57.255Z"
   },
   {
    "duration": 773,
    "start_time": "2022-10-24T03:52:57.328Z"
   },
   {
    "duration": 158,
    "start_time": "2022-10-24T03:52:58.102Z"
   },
   {
    "duration": 5,
    "start_time": "2022-10-24T03:52:58.261Z"
   },
   {
    "duration": 49,
    "start_time": "2022-10-24T03:53:42.780Z"
   },
   {
    "duration": 92,
    "start_time": "2022-10-24T03:54:22.733Z"
   },
   {
    "duration": 14,
    "start_time": "2022-10-24T03:54:27.639Z"
   },
   {
    "duration": 1018,
    "start_time": "2022-10-24T03:56:08.124Z"
   },
   {
    "duration": 1009,
    "start_time": "2022-10-24T03:56:49.236Z"
   },
   {
    "duration": 14,
    "start_time": "2022-10-24T04:01:35.773Z"
   },
   {
    "duration": 1053,
    "start_time": "2022-10-24T04:01:36.172Z"
   },
   {
    "duration": 97,
    "start_time": "2022-10-24T04:01:45.413Z"
   },
   {
    "duration": 4,
    "start_time": "2022-10-24T04:01:58.878Z"
   },
   {
    "duration": 35,
    "start_time": "2022-10-24T04:02:01.333Z"
   },
   {
    "duration": 33,
    "start_time": "2022-10-24T04:02:13.894Z"
   },
   {
    "duration": 876,
    "start_time": "2022-10-24T04:02:55.761Z"
   },
   {
    "duration": 4,
    "start_time": "2022-10-24T04:02:59.072Z"
   },
   {
    "duration": 35,
    "start_time": "2022-10-24T04:03:00.159Z"
   },
   {
    "duration": 205,
    "start_time": "2022-10-24T04:03:28.738Z"
   },
   {
    "duration": 756,
    "start_time": "2022-10-24T04:19:42.140Z"
   },
   {
    "duration": 169,
    "start_time": "2022-10-24T04:19:48.568Z"
   },
   {
    "duration": 181,
    "start_time": "2022-10-24T04:20:41.506Z"
   },
   {
    "duration": 785,
    "start_time": "2022-10-24T04:21:32.289Z"
   },
   {
    "duration": 762,
    "start_time": "2022-10-24T04:21:49.937Z"
   },
   {
    "duration": 813,
    "start_time": "2022-10-24T04:22:01.188Z"
   },
   {
    "duration": 1345,
    "start_time": "2022-10-24T04:32:14.346Z"
   },
   {
    "duration": 44,
    "start_time": "2022-10-24T04:32:15.693Z"
   },
   {
    "duration": 27,
    "start_time": "2022-10-24T04:32:15.739Z"
   },
   {
    "duration": 4,
    "start_time": "2022-10-24T04:32:15.768Z"
   },
   {
    "duration": 7,
    "start_time": "2022-10-24T04:32:15.774Z"
   },
   {
    "duration": 19,
    "start_time": "2022-10-24T04:32:15.783Z"
   },
   {
    "duration": 12,
    "start_time": "2022-10-24T04:32:15.823Z"
   },
   {
    "duration": 97,
    "start_time": "2022-10-24T04:32:15.837Z"
   },
   {
    "duration": 12,
    "start_time": "2022-10-24T04:32:15.936Z"
   },
   {
    "duration": 738,
    "start_time": "2022-10-24T04:32:15.950Z"
   },
   {
    "duration": 13,
    "start_time": "2022-10-24T04:32:16.690Z"
   },
   {
    "duration": 6584,
    "start_time": "2022-10-24T04:32:16.704Z"
   },
   {
    "duration": 21399,
    "start_time": "2022-10-24T04:32:23.291Z"
   },
   {
    "duration": 760,
    "start_time": "2022-10-24T04:32:44.693Z"
   },
   {
    "duration": 13,
    "start_time": "2022-10-24T04:32:45.455Z"
   },
   {
    "duration": 160,
    "start_time": "2022-10-24T04:32:45.470Z"
   },
   {
    "duration": 1309,
    "start_time": "2022-10-24T04:32:45.632Z"
   },
   {
    "duration": 300,
    "start_time": "2022-10-24T04:32:46.943Z"
   },
   {
    "duration": 769,
    "start_time": "2022-10-24T04:32:47.244Z"
   },
   {
    "duration": 171,
    "start_time": "2022-10-24T04:32:48.014Z"
   },
   {
    "duration": 5,
    "start_time": "2022-10-24T04:32:48.187Z"
   },
   {
    "duration": 4752,
    "start_time": "2022-10-25T04:34:16.637Z"
   },
   {
    "duration": 82,
    "start_time": "2022-10-25T04:34:21.393Z"
   },
   {
    "duration": 31,
    "start_time": "2022-10-25T04:34:21.476Z"
   },
   {
    "duration": 4,
    "start_time": "2022-10-25T04:34:21.509Z"
   },
   {
    "duration": 10,
    "start_time": "2022-10-25T04:34:21.515Z"
   },
   {
    "duration": 18,
    "start_time": "2022-10-25T04:34:21.527Z"
   },
   {
    "duration": 11,
    "start_time": "2022-10-25T04:34:21.546Z"
   },
   {
    "duration": 86,
    "start_time": "2022-10-25T04:34:21.580Z"
   },
   {
    "duration": 15,
    "start_time": "2022-10-25T04:34:21.668Z"
   },
   {
    "duration": 718,
    "start_time": "2022-10-25T04:34:21.691Z"
   },
   {
    "duration": 12,
    "start_time": "2022-10-25T04:34:22.411Z"
   },
   {
    "duration": 6921,
    "start_time": "2022-10-25T04:34:22.425Z"
   },
   {
    "duration": 22541,
    "start_time": "2022-10-25T04:34:29.349Z"
   },
   {
    "duration": 759,
    "start_time": "2022-10-25T04:34:51.894Z"
   },
   {
    "duration": 12,
    "start_time": "2022-10-25T04:34:52.654Z"
   },
   {
    "duration": 235,
    "start_time": "2022-10-25T04:34:52.668Z"
   },
   {
    "duration": 2438,
    "start_time": "2022-10-25T04:34:52.977Z"
   },
   {
    "duration": 282,
    "start_time": "2022-10-25T04:34:55.419Z"
   },
   {
    "duration": 760,
    "start_time": "2022-10-25T04:34:55.702Z"
   },
   {
    "duration": 242,
    "start_time": "2022-10-25T04:34:56.464Z"
   },
   {
    "duration": 6,
    "start_time": "2022-10-25T04:34:56.707Z"
   },
   {
    "duration": 51,
    "start_time": "2022-10-25T12:36:37.942Z"
   },
   {
    "duration": 1514,
    "start_time": "2022-10-25T12:36:48.084Z"
   },
   {
    "duration": 82,
    "start_time": "2022-10-25T12:36:49.600Z"
   },
   {
    "duration": 24,
    "start_time": "2022-10-25T12:36:49.683Z"
   },
   {
    "duration": 4,
    "start_time": "2022-10-25T12:36:49.709Z"
   },
   {
    "duration": 9,
    "start_time": "2022-10-25T12:36:49.715Z"
   },
   {
    "duration": 18,
    "start_time": "2022-10-25T12:36:49.725Z"
   },
   {
    "duration": 13,
    "start_time": "2022-10-25T12:36:49.745Z"
   },
   {
    "duration": 96,
    "start_time": "2022-10-25T12:36:49.760Z"
   },
   {
    "duration": 10,
    "start_time": "2022-10-25T12:36:49.858Z"
   },
   {
    "duration": 808,
    "start_time": "2022-10-25T12:36:49.870Z"
   },
   {
    "duration": 165,
    "start_time": "2022-10-25T12:36:50.681Z"
   },
   {
    "duration": 12,
    "start_time": "2022-10-25T12:36:50.849Z"
   },
   {
    "duration": 7245,
    "start_time": "2022-10-25T12:36:50.863Z"
   },
   {
    "duration": 23963,
    "start_time": "2022-10-25T12:36:58.109Z"
   },
   {
    "duration": 897,
    "start_time": "2022-10-25T12:37:22.073Z"
   },
   {
    "duration": 15,
    "start_time": "2022-10-25T12:37:22.972Z"
   },
   {
    "duration": 124,
    "start_time": "2022-10-25T12:37:22.989Z"
   },
   {
    "duration": 1105,
    "start_time": "2022-10-25T12:37:23.115Z"
   },
   {
    "duration": 212,
    "start_time": "2022-10-25T12:37:24.222Z"
   },
   {
    "duration": 826,
    "start_time": "2022-10-25T12:37:24.435Z"
   },
   {
    "duration": 165,
    "start_time": "2022-10-25T12:37:25.262Z"
   },
   {
    "duration": 5,
    "start_time": "2022-10-25T12:37:25.428Z"
   },
   {
    "duration": 3,
    "start_time": "2022-10-25T12:40:58.758Z"
   },
   {
    "duration": 6,
    "start_time": "2022-10-25T12:45:38.400Z"
   },
   {
    "duration": 12,
    "start_time": "2022-10-25T12:46:09.557Z"
   },
   {
    "duration": 1389,
    "start_time": "2022-10-25T12:46:15.425Z"
   },
   {
    "duration": 45,
    "start_time": "2022-10-25T12:46:16.816Z"
   },
   {
    "duration": 25,
    "start_time": "2022-10-25T12:46:16.862Z"
   },
   {
    "duration": 4,
    "start_time": "2022-10-25T12:46:16.890Z"
   },
   {
    "duration": 21,
    "start_time": "2022-10-25T12:46:16.896Z"
   },
   {
    "duration": 6,
    "start_time": "2022-10-25T12:46:16.919Z"
   },
   {
    "duration": 10,
    "start_time": "2022-10-25T12:46:16.926Z"
   },
   {
    "duration": 17,
    "start_time": "2022-10-25T12:46:16.938Z"
   },
   {
    "duration": 10,
    "start_time": "2022-10-25T12:46:16.957Z"
   },
   {
    "duration": 2,
    "start_time": "2022-10-25T12:46:16.970Z"
   },
   {
    "duration": 107,
    "start_time": "2022-10-25T12:46:16.974Z"
   },
   {
    "duration": 9,
    "start_time": "2022-10-25T12:46:17.082Z"
   },
   {
    "duration": 775,
    "start_time": "2022-10-25T12:46:17.093Z"
   },
   {
    "duration": 156,
    "start_time": "2022-10-25T12:46:17.871Z"
   },
   {
    "duration": 13,
    "start_time": "2022-10-25T12:46:18.029Z"
   },
   {
    "duration": 7117,
    "start_time": "2022-10-25T12:46:18.044Z"
   },
   {
    "duration": 23645,
    "start_time": "2022-10-25T12:46:25.163Z"
   },
   {
    "duration": 816,
    "start_time": "2022-10-25T12:46:48.810Z"
   },
   {
    "duration": 10,
    "start_time": "2022-10-25T12:46:49.628Z"
   },
   {
    "duration": 170,
    "start_time": "2022-10-25T12:46:49.639Z"
   },
   {
    "duration": 1006,
    "start_time": "2022-10-25T12:46:49.811Z"
   },
   {
    "duration": 197,
    "start_time": "2022-10-25T12:46:50.818Z"
   },
   {
    "duration": 870,
    "start_time": "2022-10-25T12:46:51.017Z"
   },
   {
    "duration": 157,
    "start_time": "2022-10-25T12:46:51.889Z"
   },
   {
    "duration": 4,
    "start_time": "2022-10-25T12:46:52.047Z"
   },
   {
    "duration": 1413,
    "start_time": "2022-10-25T12:51:03.600Z"
   },
   {
    "duration": 42,
    "start_time": "2022-10-25T12:51:05.015Z"
   },
   {
    "duration": 24,
    "start_time": "2022-10-25T12:51:05.060Z"
   },
   {
    "duration": 4,
    "start_time": "2022-10-25T12:51:05.086Z"
   },
   {
    "duration": 25,
    "start_time": "2022-10-25T12:51:05.092Z"
   },
   {
    "duration": 6,
    "start_time": "2022-10-25T12:51:05.119Z"
   },
   {
    "duration": 17,
    "start_time": "2022-10-25T12:51:05.127Z"
   },
   {
    "duration": 30,
    "start_time": "2022-10-25T12:51:05.145Z"
   },
   {
    "duration": 15,
    "start_time": "2022-10-25T12:51:05.177Z"
   },
   {
    "duration": 5,
    "start_time": "2022-10-25T12:51:05.195Z"
   },
   {
    "duration": 125,
    "start_time": "2022-10-25T12:51:05.201Z"
   },
   {
    "duration": 0,
    "start_time": "2022-10-25T12:51:05.328Z"
   },
   {
    "duration": 0,
    "start_time": "2022-10-25T12:51:05.329Z"
   },
   {
    "duration": 0,
    "start_time": "2022-10-25T12:51:05.330Z"
   },
   {
    "duration": 0,
    "start_time": "2022-10-25T12:51:05.331Z"
   },
   {
    "duration": 0,
    "start_time": "2022-10-25T12:51:05.332Z"
   },
   {
    "duration": 0,
    "start_time": "2022-10-25T12:51:05.333Z"
   },
   {
    "duration": 0,
    "start_time": "2022-10-25T12:51:05.333Z"
   },
   {
    "duration": 0,
    "start_time": "2022-10-25T12:51:05.334Z"
   },
   {
    "duration": 0,
    "start_time": "2022-10-25T12:51:05.335Z"
   },
   {
    "duration": 0,
    "start_time": "2022-10-25T12:51:05.336Z"
   },
   {
    "duration": 0,
    "start_time": "2022-10-25T12:51:05.337Z"
   },
   {
    "duration": 0,
    "start_time": "2022-10-25T12:51:05.338Z"
   },
   {
    "duration": 0,
    "start_time": "2022-10-25T12:51:05.340Z"
   },
   {
    "duration": 0,
    "start_time": "2022-10-25T12:51:05.341Z"
   },
   {
    "duration": 11,
    "start_time": "2022-10-25T12:55:21.538Z"
   },
   {
    "duration": 10,
    "start_time": "2022-10-25T12:55:24.825Z"
   },
   {
    "duration": 1324,
    "start_time": "2022-10-25T12:55:41.162Z"
   },
   {
    "duration": 46,
    "start_time": "2022-10-25T12:55:42.488Z"
   },
   {
    "duration": 32,
    "start_time": "2022-10-25T12:55:42.537Z"
   },
   {
    "duration": 202,
    "start_time": "2022-10-25T12:55:42.571Z"
   },
   {
    "duration": 17,
    "start_time": "2022-10-25T12:55:42.775Z"
   },
   {
    "duration": 5,
    "start_time": "2022-10-25T12:55:42.794Z"
   },
   {
    "duration": 10,
    "start_time": "2022-10-25T12:55:42.801Z"
   },
   {
    "duration": 25,
    "start_time": "2022-10-25T12:55:42.813Z"
   },
   {
    "duration": 11,
    "start_time": "2022-10-25T12:55:42.840Z"
   },
   {
    "duration": 3,
    "start_time": "2022-10-25T12:55:42.854Z"
   },
   {
    "duration": 140,
    "start_time": "2022-10-25T12:55:42.858Z"
   },
   {
    "duration": 0,
    "start_time": "2022-10-25T12:55:43.008Z"
   },
   {
    "duration": 0,
    "start_time": "2022-10-25T12:55:43.009Z"
   },
   {
    "duration": 0,
    "start_time": "2022-10-25T12:55:43.010Z"
   },
   {
    "duration": 0,
    "start_time": "2022-10-25T12:55:43.011Z"
   },
   {
    "duration": 0,
    "start_time": "2022-10-25T12:55:43.012Z"
   },
   {
    "duration": 0,
    "start_time": "2022-10-25T12:55:43.013Z"
   },
   {
    "duration": 0,
    "start_time": "2022-10-25T12:55:43.015Z"
   },
   {
    "duration": 0,
    "start_time": "2022-10-25T12:55:43.016Z"
   },
   {
    "duration": 0,
    "start_time": "2022-10-25T12:55:43.017Z"
   },
   {
    "duration": 0,
    "start_time": "2022-10-25T12:55:43.018Z"
   },
   {
    "duration": 0,
    "start_time": "2022-10-25T12:55:43.019Z"
   },
   {
    "duration": 0,
    "start_time": "2022-10-25T12:55:43.021Z"
   },
   {
    "duration": 0,
    "start_time": "2022-10-25T12:55:43.022Z"
   },
   {
    "duration": 0,
    "start_time": "2022-10-25T12:55:43.023Z"
   },
   {
    "duration": 10,
    "start_time": "2022-10-25T12:56:52.193Z"
   },
   {
    "duration": 1312,
    "start_time": "2022-10-25T12:58:15.142Z"
   },
   {
    "duration": 114,
    "start_time": "2022-10-25T12:58:16.456Z"
   },
   {
    "duration": 24,
    "start_time": "2022-10-25T12:58:16.571Z"
   },
   {
    "duration": 4,
    "start_time": "2022-10-25T12:58:16.597Z"
   },
   {
    "duration": 16,
    "start_time": "2022-10-25T12:58:16.603Z"
   },
   {
    "duration": 5,
    "start_time": "2022-10-25T12:58:16.621Z"
   },
   {
    "duration": 5,
    "start_time": "2022-10-25T12:58:16.628Z"
   },
   {
    "duration": 16,
    "start_time": "2022-10-25T12:58:16.635Z"
   },
   {
    "duration": 10,
    "start_time": "2022-10-25T12:58:16.653Z"
   },
   {
    "duration": 4,
    "start_time": "2022-10-25T12:58:16.666Z"
   },
   {
    "duration": 121,
    "start_time": "2022-10-25T12:58:16.672Z"
   },
   {
    "duration": 20,
    "start_time": "2022-10-25T12:58:16.795Z"
   },
   {
    "duration": 15,
    "start_time": "2022-10-25T12:58:16.817Z"
   },
   {
    "duration": 768,
    "start_time": "2022-10-25T12:58:16.834Z"
   },
   {
    "duration": 159,
    "start_time": "2022-10-25T12:58:17.604Z"
   },
   {
    "duration": 12,
    "start_time": "2022-10-25T12:58:17.765Z"
   },
   {
    "duration": 7119,
    "start_time": "2022-10-25T12:58:17.779Z"
   },
   {
    "duration": 23763,
    "start_time": "2022-10-25T12:58:24.899Z"
   },
   {
    "duration": 826,
    "start_time": "2022-10-25T12:58:48.664Z"
   },
   {
    "duration": 325,
    "start_time": "2022-10-25T12:58:49.492Z"
   },
   {
    "duration": 7706,
    "start_time": "2022-10-25T12:58:49.819Z"
   },
   {
    "duration": 289,
    "start_time": "2022-10-25T12:58:57.527Z"
   },
   {
    "duration": 840,
    "start_time": "2022-10-25T12:58:57.817Z"
   },
   {
    "duration": 240,
    "start_time": "2022-10-25T12:58:58.659Z"
   },
   {
    "duration": 11,
    "start_time": "2022-10-25T12:58:58.901Z"
   },
   {
    "duration": 1441,
    "start_time": "2022-10-25T13:00:40.233Z"
   },
   {
    "duration": 44,
    "start_time": "2022-10-25T13:00:41.676Z"
   },
   {
    "duration": 24,
    "start_time": "2022-10-25T13:00:41.721Z"
   },
   {
    "duration": 5,
    "start_time": "2022-10-25T13:00:41.748Z"
   },
   {
    "duration": 19,
    "start_time": "2022-10-25T13:00:41.755Z"
   },
   {
    "duration": 35,
    "start_time": "2022-10-25T13:00:41.776Z"
   },
   {
    "duration": 10,
    "start_time": "2022-10-25T13:00:41.812Z"
   },
   {
    "duration": 17,
    "start_time": "2022-10-25T13:00:41.824Z"
   },
   {
    "duration": 11,
    "start_time": "2022-10-25T13:00:41.842Z"
   },
   {
    "duration": 2,
    "start_time": "2022-10-25T13:00:41.855Z"
   },
   {
    "duration": 94,
    "start_time": "2022-10-25T13:00:41.859Z"
   },
   {
    "duration": 9,
    "start_time": "2022-10-25T13:00:41.955Z"
   },
   {
    "duration": 11,
    "start_time": "2022-10-25T13:00:41.966Z"
   },
   {
    "duration": 820,
    "start_time": "2022-10-25T13:00:41.979Z"
   },
   {
    "duration": 178,
    "start_time": "2022-10-25T13:00:42.801Z"
   },
   {
    "duration": 12,
    "start_time": "2022-10-25T13:00:42.981Z"
   },
   {
    "duration": 22,
    "start_time": "2022-10-25T13:00:42.994Z"
   },
   {
    "duration": 7034,
    "start_time": "2022-10-25T13:00:43.018Z"
   },
   {
    "duration": 24363,
    "start_time": "2022-10-25T13:00:50.053Z"
   },
   {
    "duration": 896,
    "start_time": "2022-10-25T13:01:14.418Z"
   },
   {
    "duration": 194,
    "start_time": "2022-10-25T13:01:15.316Z"
   },
   {
    "duration": 1697,
    "start_time": "2022-10-25T13:01:15.512Z"
   },
   {
    "duration": 213,
    "start_time": "2022-10-25T13:01:17.211Z"
   },
   {
    "duration": 909,
    "start_time": "2022-10-25T13:01:17.425Z"
   },
   {
    "duration": 160,
    "start_time": "2022-10-25T13:01:18.336Z"
   },
   {
    "duration": 5,
    "start_time": "2022-10-25T13:01:18.498Z"
   },
   {
    "duration": 756,
    "start_time": "2022-10-25T13:18:17.474Z"
   },
   {
    "duration": 216,
    "start_time": "2022-10-25T13:18:18.232Z"
   },
   {
    "duration": 107,
    "start_time": "2022-10-25T13:18:33.652Z"
   },
   {
    "duration": 268,
    "start_time": "2022-10-25T13:18:44.592Z"
   },
   {
    "duration": 256,
    "start_time": "2022-10-25T13:19:09.735Z"
   },
   {
    "duration": 274,
    "start_time": "2022-10-25T13:19:15.057Z"
   },
   {
    "duration": 281,
    "start_time": "2022-10-25T13:19:34.946Z"
   },
   {
    "duration": 150,
    "start_time": "2022-10-25T13:20:25.160Z"
   },
   {
    "duration": 117,
    "start_time": "2022-10-25T13:21:26.701Z"
   },
   {
    "duration": 157,
    "start_time": "2022-10-25T13:21:40.418Z"
   },
   {
    "duration": 231,
    "start_time": "2022-10-25T13:22:26.884Z"
   },
   {
    "duration": 113,
    "start_time": "2022-10-25T13:22:32.354Z"
   },
   {
    "duration": 114,
    "start_time": "2022-10-25T13:22:55.599Z"
   },
   {
    "duration": 7241,
    "start_time": "2022-10-25T13:27:43.702Z"
   },
   {
    "duration": 31643,
    "start_time": "2022-10-25T13:28:15.195Z"
   },
   {
    "duration": 141,
    "start_time": "2022-10-25T13:29:11.977Z"
   },
   {
    "duration": 139,
    "start_time": "2022-10-25T13:30:05.147Z"
   },
   {
    "duration": 128,
    "start_time": "2022-10-25T13:30:31.072Z"
   },
   {
    "duration": 1388,
    "start_time": "2022-10-25T13:31:46.551Z"
   },
   {
    "duration": 120,
    "start_time": "2022-10-25T13:31:47.941Z"
   },
   {
    "duration": 96,
    "start_time": "2022-10-25T13:31:54.590Z"
   },
   {
    "duration": 5,
    "start_time": "2022-10-25T13:35:12.197Z"
   },
   {
    "duration": 7,
    "start_time": "2022-10-25T13:36:03.213Z"
   },
   {
    "duration": 5,
    "start_time": "2022-10-25T13:36:40.202Z"
   },
   {
    "duration": 6,
    "start_time": "2022-10-25T13:36:40.664Z"
   },
   {
    "duration": 7,
    "start_time": "2022-10-25T13:40:48.335Z"
   },
   {
    "duration": 4,
    "start_time": "2022-10-25T13:40:58.697Z"
   },
   {
    "duration": 8,
    "start_time": "2022-10-25T13:41:00.380Z"
   },
   {
    "duration": 1365,
    "start_time": "2022-10-25T13:44:06.695Z"
   },
   {
    "duration": 43,
    "start_time": "2022-10-25T13:44:08.062Z"
   },
   {
    "duration": 25,
    "start_time": "2022-10-25T13:44:08.107Z"
   },
   {
    "duration": 28,
    "start_time": "2022-10-25T13:44:08.135Z"
   },
   {
    "duration": 28,
    "start_time": "2022-10-25T13:44:08.164Z"
   },
   {
    "duration": 9,
    "start_time": "2022-10-25T13:44:08.194Z"
   },
   {
    "duration": 28,
    "start_time": "2022-10-25T13:44:08.204Z"
   },
   {
    "duration": 54,
    "start_time": "2022-10-25T13:44:08.233Z"
   },
   {
    "duration": 23,
    "start_time": "2022-10-25T13:44:08.289Z"
   },
   {
    "duration": 9,
    "start_time": "2022-10-25T13:44:08.316Z"
   },
   {
    "duration": 108,
    "start_time": "2022-10-25T13:44:08.326Z"
   },
   {
    "duration": 10,
    "start_time": "2022-10-25T13:44:08.435Z"
   },
   {
    "duration": 769,
    "start_time": "2022-10-25T13:44:08.446Z"
   },
   {
    "duration": 163,
    "start_time": "2022-10-25T13:44:09.216Z"
   },
   {
    "duration": 12,
    "start_time": "2022-10-25T13:44:09.381Z"
   },
   {
    "duration": 26,
    "start_time": "2022-10-25T13:44:09.394Z"
   },
   {
    "duration": 7160,
    "start_time": "2022-10-25T13:44:09.422Z"
   },
   {
    "duration": 23555,
    "start_time": "2022-10-25T13:44:16.584Z"
   },
   {
    "duration": 836,
    "start_time": "2022-10-25T13:44:40.141Z"
   },
   {
    "duration": 7006,
    "start_time": "2022-10-25T13:44:40.979Z"
   },
   {
    "duration": 30982,
    "start_time": "2022-10-25T13:44:47.987Z"
   },
   {
    "duration": 1410,
    "start_time": "2022-10-25T13:45:18.971Z"
   },
   {
    "duration": 115,
    "start_time": "2022-10-25T13:45:20.383Z"
   },
   {
    "duration": 130,
    "start_time": "2022-10-25T13:45:20.500Z"
   },
   {
    "duration": 188,
    "start_time": "2022-10-25T13:45:20.632Z"
   },
   {
    "duration": 998,
    "start_time": "2022-10-25T13:45:20.822Z"
   },
   {
    "duration": 206,
    "start_time": "2022-10-25T13:45:21.822Z"
   },
   {
    "duration": 898,
    "start_time": "2022-10-25T13:45:22.032Z"
   },
   {
    "duration": 196,
    "start_time": "2022-10-25T13:45:22.933Z"
   },
   {
    "duration": 5,
    "start_time": "2022-10-25T13:45:23.130Z"
   },
   {
    "duration": 34,
    "start_time": "2022-10-25T13:45:23.136Z"
   },
   {
    "duration": 145,
    "start_time": "2022-10-25T13:45:23.172Z"
   },
   {
    "duration": 154,
    "start_time": "2022-10-25T13:54:33.995Z"
   },
   {
    "duration": 834,
    "start_time": "2022-10-25T13:58:14.793Z"
   },
   {
    "duration": 50,
    "start_time": "2022-10-25T13:58:16.512Z"
   },
   {
    "duration": 274,
    "start_time": "2022-10-25T14:01:11.136Z"
   },
   {
    "duration": 1193,
    "start_time": "2022-10-25T14:01:39.428Z"
   },
   {
    "duration": 229,
    "start_time": "2022-10-25T14:01:41.594Z"
   },
   {
    "duration": 14,
    "start_time": "2022-10-25T14:01:54.811Z"
   },
   {
    "duration": 785,
    "start_time": "2022-10-25T14:02:45.633Z"
   },
   {
    "duration": 211,
    "start_time": "2022-10-25T14:02:46.420Z"
   },
   {
    "duration": 163,
    "start_time": "2022-10-25T14:02:51.059Z"
   },
   {
    "duration": 70,
    "start_time": "2022-10-25T14:03:22.640Z"
   },
   {
    "duration": 16,
    "start_time": "2022-10-25T14:04:22.992Z"
   },
   {
    "duration": 91,
    "start_time": "2022-10-25T14:04:34.127Z"
   },
   {
    "duration": 14,
    "start_time": "2022-10-25T14:05:26.918Z"
   },
   {
    "duration": 197,
    "start_time": "2022-10-25T14:05:30.627Z"
   },
   {
    "duration": 61,
    "start_time": "2022-10-25T14:05:33.755Z"
   },
   {
    "duration": 161,
    "start_time": "2022-10-25T14:07:43.454Z"
   },
   {
    "duration": 823,
    "start_time": "2022-10-25T14:11:00.758Z"
   },
   {
    "duration": 57,
    "start_time": "2022-10-25T14:11:02.487Z"
   },
   {
    "duration": 19,
    "start_time": "2022-10-25T14:11:17.230Z"
   },
   {
    "duration": 21,
    "start_time": "2022-10-25T14:11:42.455Z"
   },
   {
    "duration": 126,
    "start_time": "2022-10-25T14:14:06.112Z"
   },
   {
    "duration": 14,
    "start_time": "2022-10-25T14:14:13.634Z"
   },
   {
    "duration": 214,
    "start_time": "2022-10-25T14:14:25.309Z"
   },
   {
    "duration": 1399,
    "start_time": "2022-10-25T14:19:36.658Z"
   },
   {
    "duration": 126,
    "start_time": "2022-10-25T14:19:38.817Z"
   },
   {
    "duration": 132,
    "start_time": "2022-10-25T14:19:53.836Z"
   },
   {
    "duration": 118,
    "start_time": "2022-10-25T14:20:54.033Z"
   },
   {
    "duration": 101,
    "start_time": "2022-10-25T14:21:29.116Z"
   },
   {
    "duration": 101,
    "start_time": "2022-10-25T14:33:02.962Z"
   },
   {
    "duration": 100,
    "start_time": "2022-10-25T14:33:22.624Z"
   },
   {
    "duration": 219,
    "start_time": "2022-10-25T14:33:23.501Z"
   },
   {
    "duration": 68,
    "start_time": "2022-10-25T14:33:24.850Z"
   },
   {
    "duration": 190,
    "start_time": "2022-10-25T14:34:13.437Z"
   },
   {
    "duration": 1291,
    "start_time": "2022-10-25T14:38:41.021Z"
   },
   {
    "duration": 40,
    "start_time": "2022-10-25T14:38:42.314Z"
   },
   {
    "duration": 23,
    "start_time": "2022-10-25T14:38:42.356Z"
   },
   {
    "duration": 3,
    "start_time": "2022-10-25T14:38:42.382Z"
   },
   {
    "duration": 17,
    "start_time": "2022-10-25T14:38:42.387Z"
   },
   {
    "duration": 6,
    "start_time": "2022-10-25T14:38:42.405Z"
   },
   {
    "duration": 15,
    "start_time": "2022-10-25T14:38:42.413Z"
   },
   {
    "duration": 16,
    "start_time": "2022-10-25T14:38:42.430Z"
   },
   {
    "duration": 10,
    "start_time": "2022-10-25T14:38:42.448Z"
   },
   {
    "duration": 2,
    "start_time": "2022-10-25T14:38:42.460Z"
   },
   {
    "duration": 110,
    "start_time": "2022-10-25T14:38:42.464Z"
   },
   {
    "duration": 13,
    "start_time": "2022-10-25T14:38:42.576Z"
   },
   {
    "duration": 792,
    "start_time": "2022-10-25T14:38:42.591Z"
   },
   {
    "duration": 157,
    "start_time": "2022-10-25T14:38:43.384Z"
   },
   {
    "duration": 14,
    "start_time": "2022-10-25T14:38:43.543Z"
   },
   {
    "duration": 11,
    "start_time": "2022-10-25T14:38:43.559Z"
   },
   {
    "duration": 6977,
    "start_time": "2022-10-25T14:38:43.572Z"
   },
   {
    "duration": 23431,
    "start_time": "2022-10-25T14:38:50.551Z"
   },
   {
    "duration": 816,
    "start_time": "2022-10-25T14:39:13.983Z"
   },
   {
    "duration": 177,
    "start_time": "2022-10-25T14:39:14.801Z"
   },
   {
    "duration": 1,
    "start_time": "2022-10-25T14:39:14.979Z"
   },
   {
    "duration": 0,
    "start_time": "2022-10-25T14:39:14.981Z"
   },
   {
    "duration": 0,
    "start_time": "2022-10-25T14:39:14.982Z"
   },
   {
    "duration": 0,
    "start_time": "2022-10-25T14:39:14.983Z"
   },
   {
    "duration": 0,
    "start_time": "2022-10-25T14:39:14.984Z"
   },
   {
    "duration": 0,
    "start_time": "2022-10-25T14:39:14.985Z"
   },
   {
    "duration": 0,
    "start_time": "2022-10-25T14:39:14.987Z"
   },
   {
    "duration": 0,
    "start_time": "2022-10-25T14:39:14.988Z"
   },
   {
    "duration": 0,
    "start_time": "2022-10-25T14:39:14.989Z"
   },
   {
    "duration": 0,
    "start_time": "2022-10-25T14:39:15.009Z"
   },
   {
    "duration": 0,
    "start_time": "2022-10-25T14:39:15.010Z"
   },
   {
    "duration": 0,
    "start_time": "2022-10-25T14:39:15.012Z"
   },
   {
    "duration": 0,
    "start_time": "2022-10-25T14:39:15.012Z"
   },
   {
    "duration": 1,
    "start_time": "2022-10-25T14:39:15.013Z"
   },
   {
    "duration": 0,
    "start_time": "2022-10-25T14:39:15.014Z"
   },
   {
    "duration": 1,
    "start_time": "2022-10-25T14:39:15.015Z"
   },
   {
    "duration": 0,
    "start_time": "2022-10-25T14:39:15.016Z"
   },
   {
    "duration": 0,
    "start_time": "2022-10-25T14:39:15.017Z"
   },
   {
    "duration": 0,
    "start_time": "2022-10-25T14:39:15.018Z"
   },
   {
    "duration": 51,
    "start_time": "2022-10-25T14:39:55.068Z"
   },
   {
    "duration": 1288,
    "start_time": "2022-10-25T14:40:09.139Z"
   },
   {
    "duration": 42,
    "start_time": "2022-10-25T14:40:10.428Z"
   },
   {
    "duration": 23,
    "start_time": "2022-10-25T14:40:10.472Z"
   },
   {
    "duration": 6,
    "start_time": "2022-10-25T14:40:10.497Z"
   },
   {
    "duration": 22,
    "start_time": "2022-10-25T14:40:10.504Z"
   },
   {
    "duration": 17,
    "start_time": "2022-10-25T14:40:10.528Z"
   },
   {
    "duration": 25,
    "start_time": "2022-10-25T14:40:10.546Z"
   },
   {
    "duration": 23,
    "start_time": "2022-10-25T14:40:10.573Z"
   },
   {
    "duration": 30,
    "start_time": "2022-10-25T14:40:10.597Z"
   },
   {
    "duration": 10,
    "start_time": "2022-10-25T14:40:10.630Z"
   },
   {
    "duration": 93,
    "start_time": "2022-10-25T14:40:10.642Z"
   },
   {
    "duration": 9,
    "start_time": "2022-10-25T14:40:10.737Z"
   },
   {
    "duration": 795,
    "start_time": "2022-10-25T14:40:10.748Z"
   },
   {
    "duration": 167,
    "start_time": "2022-10-25T14:40:11.544Z"
   },
   {
    "duration": 14,
    "start_time": "2022-10-25T14:40:11.713Z"
   },
   {
    "duration": 12,
    "start_time": "2022-10-25T14:40:11.729Z"
   },
   {
    "duration": 6976,
    "start_time": "2022-10-25T14:40:11.742Z"
   },
   {
    "duration": 23174,
    "start_time": "2022-10-25T14:40:18.720Z"
   },
   {
    "duration": 825,
    "start_time": "2022-10-25T14:40:41.896Z"
   },
   {
    "duration": 54,
    "start_time": "2022-10-25T14:40:42.724Z"
   },
   {
    "duration": 6941,
    "start_time": "2022-10-25T14:40:42.780Z"
   },
   {
    "duration": 30412,
    "start_time": "2022-10-25T14:40:49.722Z"
   },
   {
    "duration": 1381,
    "start_time": "2022-10-25T14:41:20.135Z"
   },
   {
    "duration": 116,
    "start_time": "2022-10-25T14:41:21.517Z"
   },
   {
    "duration": 105,
    "start_time": "2022-10-25T14:41:21.634Z"
   },
   {
    "duration": 196,
    "start_time": "2022-10-25T14:41:21.740Z"
   },
   {
    "duration": 0,
    "start_time": "2022-10-25T14:41:21.938Z"
   },
   {
    "duration": 0,
    "start_time": "2022-10-25T14:41:21.938Z"
   },
   {
    "duration": 0,
    "start_time": "2022-10-25T14:41:21.940Z"
   },
   {
    "duration": 0,
    "start_time": "2022-10-25T14:41:21.940Z"
   },
   {
    "duration": 0,
    "start_time": "2022-10-25T14:41:21.941Z"
   },
   {
    "duration": 0,
    "start_time": "2022-10-25T14:41:21.943Z"
   },
   {
    "duration": 0,
    "start_time": "2022-10-25T14:41:21.944Z"
   },
   {
    "duration": 0,
    "start_time": "2022-10-25T14:41:21.944Z"
   },
   {
    "duration": 0,
    "start_time": "2022-10-25T14:41:21.945Z"
   },
   {
    "duration": 0,
    "start_time": "2022-10-25T14:41:21.947Z"
   },
   {
    "duration": 0,
    "start_time": "2022-10-25T14:41:21.947Z"
   },
   {
    "duration": 0,
    "start_time": "2022-10-25T14:41:21.948Z"
   },
   {
    "duration": 0,
    "start_time": "2022-10-25T14:41:21.949Z"
   },
   {
    "duration": 1320,
    "start_time": "2022-10-25T14:42:20.535Z"
   },
   {
    "duration": 42,
    "start_time": "2022-10-25T14:42:21.857Z"
   },
   {
    "duration": 22,
    "start_time": "2022-10-25T14:42:21.901Z"
   },
   {
    "duration": 3,
    "start_time": "2022-10-25T14:42:21.925Z"
   },
   {
    "duration": 15,
    "start_time": "2022-10-25T14:42:21.930Z"
   },
   {
    "duration": 5,
    "start_time": "2022-10-25T14:42:21.947Z"
   },
   {
    "duration": 9,
    "start_time": "2022-10-25T14:42:21.954Z"
   },
   {
    "duration": 21,
    "start_time": "2022-10-25T14:42:21.965Z"
   },
   {
    "duration": 21,
    "start_time": "2022-10-25T14:42:21.988Z"
   },
   {
    "duration": 2,
    "start_time": "2022-10-25T14:42:22.012Z"
   },
   {
    "duration": 85,
    "start_time": "2022-10-25T14:42:22.016Z"
   },
   {
    "duration": 9,
    "start_time": "2022-10-25T14:42:22.108Z"
   },
   {
    "duration": 825,
    "start_time": "2022-10-25T14:42:22.119Z"
   },
   {
    "duration": 155,
    "start_time": "2022-10-25T14:42:22.946Z"
   },
   {
    "duration": 16,
    "start_time": "2022-10-25T14:42:23.102Z"
   },
   {
    "duration": 11,
    "start_time": "2022-10-25T14:42:23.120Z"
   },
   {
    "duration": 6914,
    "start_time": "2022-10-25T14:42:23.132Z"
   },
   {
    "duration": 23170,
    "start_time": "2022-10-25T14:42:30.047Z"
   },
   {
    "duration": 808,
    "start_time": "2022-10-25T14:42:53.218Z"
   },
   {
    "duration": 51,
    "start_time": "2022-10-25T14:42:54.027Z"
   },
   {
    "duration": 6901,
    "start_time": "2022-10-25T14:42:54.079Z"
   },
   {
    "duration": 30666,
    "start_time": "2022-10-25T14:43:00.981Z"
   },
   {
    "duration": 1453,
    "start_time": "2022-10-25T14:43:31.648Z"
   },
   {
    "duration": 117,
    "start_time": "2022-10-25T14:43:33.103Z"
   },
   {
    "duration": 113,
    "start_time": "2022-10-25T14:43:33.221Z"
   },
   {
    "duration": 106,
    "start_time": "2022-10-25T14:43:33.336Z"
   },
   {
    "duration": 71,
    "start_time": "2022-10-25T14:43:33.444Z"
   },
   {
    "duration": 406,
    "start_time": "2022-10-25T14:43:33.519Z"
   },
   {
    "duration": 184,
    "start_time": "2022-10-25T14:43:33.927Z"
   },
   {
    "duration": 19,
    "start_time": "2022-10-25T14:43:34.113Z"
   },
   {
    "duration": 98,
    "start_time": "2022-10-25T14:43:34.134Z"
   },
   {
    "duration": 793,
    "start_time": "2022-10-25T14:43:34.233Z"
   },
   {
    "duration": 89,
    "start_time": "2022-10-25T14:43:35.028Z"
   },
   {
    "duration": 492,
    "start_time": "2022-10-25T14:43:35.119Z"
   },
   {
    "duration": 0,
    "start_time": "2022-10-25T14:43:35.612Z"
   },
   {
    "duration": 1,
    "start_time": "2022-10-25T14:43:35.613Z"
   },
   {
    "duration": 0,
    "start_time": "2022-10-25T14:43:35.615Z"
   },
   {
    "duration": 1,
    "start_time": "2022-10-25T14:43:35.615Z"
   },
   {
    "duration": 0,
    "start_time": "2022-10-25T14:43:35.617Z"
   },
   {
    "duration": 1376,
    "start_time": "2022-10-25T14:44:26.244Z"
   },
   {
    "duration": 42,
    "start_time": "2022-10-25T14:44:27.622Z"
   },
   {
    "duration": 25,
    "start_time": "2022-10-25T14:44:27.666Z"
   },
   {
    "duration": 4,
    "start_time": "2022-10-25T14:44:27.693Z"
   },
   {
    "duration": 24,
    "start_time": "2022-10-25T14:44:27.698Z"
   },
   {
    "duration": 5,
    "start_time": "2022-10-25T14:44:27.724Z"
   },
   {
    "duration": 9,
    "start_time": "2022-10-25T14:44:27.730Z"
   },
   {
    "duration": 17,
    "start_time": "2022-10-25T14:44:27.740Z"
   },
   {
    "duration": 13,
    "start_time": "2022-10-25T14:44:27.759Z"
   },
   {
    "duration": 3,
    "start_time": "2022-10-25T14:44:27.774Z"
   },
   {
    "duration": 101,
    "start_time": "2022-10-25T14:44:27.778Z"
   },
   {
    "duration": 10,
    "start_time": "2022-10-25T14:44:27.881Z"
   },
   {
    "duration": 766,
    "start_time": "2022-10-25T14:44:27.892Z"
   },
   {
    "duration": 163,
    "start_time": "2022-10-25T14:44:28.660Z"
   },
   {
    "duration": 13,
    "start_time": "2022-10-25T14:44:28.825Z"
   },
   {
    "duration": 14,
    "start_time": "2022-10-25T14:44:28.840Z"
   },
   {
    "duration": 7035,
    "start_time": "2022-10-25T14:44:28.855Z"
   },
   {
    "duration": 23241,
    "start_time": "2022-10-25T14:44:35.892Z"
   },
   {
    "duration": 809,
    "start_time": "2022-10-25T14:44:59.135Z"
   },
   {
    "duration": 48,
    "start_time": "2022-10-25T14:44:59.946Z"
   },
   {
    "duration": 7079,
    "start_time": "2022-10-25T14:44:59.995Z"
   },
   {
    "duration": 30492,
    "start_time": "2022-10-25T14:45:07.075Z"
   },
   {
    "duration": 1389,
    "start_time": "2022-10-25T14:45:37.569Z"
   },
   {
    "duration": 113,
    "start_time": "2022-10-25T14:45:38.959Z"
   },
   {
    "duration": 104,
    "start_time": "2022-10-25T14:45:39.074Z"
   },
   {
    "duration": 91,
    "start_time": "2022-10-25T14:45:39.179Z"
   },
   {
    "duration": 46,
    "start_time": "2022-10-25T14:45:39.272Z"
   },
   {
    "duration": 301,
    "start_time": "2022-10-25T14:45:39.416Z"
   },
   {
    "duration": 190,
    "start_time": "2022-10-25T14:45:39.718Z"
   },
   {
    "duration": 5,
    "start_time": "2022-10-25T14:45:39.910Z"
   },
   {
    "duration": 60,
    "start_time": "2022-10-25T14:45:39.916Z"
   },
   {
    "duration": 858,
    "start_time": "2022-10-25T14:45:39.978Z"
   },
   {
    "duration": 78,
    "start_time": "2022-10-25T14:45:40.840Z"
   },
   {
    "duration": 95,
    "start_time": "2022-10-25T14:45:40.920Z"
   },
   {
    "duration": 429,
    "start_time": "2022-10-25T14:45:41.017Z"
   },
   {
    "duration": 0,
    "start_time": "2022-10-25T14:45:41.448Z"
   },
   {
    "duration": 0,
    "start_time": "2022-10-25T14:45:41.449Z"
   },
   {
    "duration": 0,
    "start_time": "2022-10-25T14:45:41.450Z"
   },
   {
    "duration": 0,
    "start_time": "2022-10-25T14:45:41.451Z"
   },
   {
    "duration": 808,
    "start_time": "2022-10-25T15:11:09.141Z"
   },
   {
    "duration": 160,
    "start_time": "2022-10-25T15:11:09.951Z"
   },
   {
    "duration": 5,
    "start_time": "2022-10-25T15:11:10.113Z"
   },
   {
    "duration": 9,
    "start_time": "2022-10-25T15:11:10.120Z"
   },
   {
    "duration": 7,
    "start_time": "2022-10-25T15:12:42.787Z"
   },
   {
    "duration": 4,
    "start_time": "2022-10-25T15:12:50.057Z"
   },
   {
    "duration": 4,
    "start_time": "2022-10-25T15:13:00.784Z"
   },
   {
    "duration": 10,
    "start_time": "2022-10-25T15:13:17.234Z"
   },
   {
    "duration": 8,
    "start_time": "2022-10-25T15:13:24.610Z"
   },
   {
    "duration": 5,
    "start_time": "2022-10-25T15:13:29.759Z"
   },
   {
    "duration": 44,
    "start_time": "2022-10-25T15:15:24.005Z"
   },
   {
    "duration": 25,
    "start_time": "2022-10-25T15:15:28.416Z"
   },
   {
    "duration": 7,
    "start_time": "2022-10-25T15:15:59.152Z"
   },
   {
    "duration": 4,
    "start_time": "2022-10-25T15:16:06.787Z"
   },
   {
    "duration": 1263,
    "start_time": "2022-10-25T15:28:50.440Z"
   },
   {
    "duration": 42,
    "start_time": "2022-10-25T15:28:51.705Z"
   },
   {
    "duration": 24,
    "start_time": "2022-10-25T15:28:51.748Z"
   },
   {
    "duration": 13,
    "start_time": "2022-10-25T15:28:51.774Z"
   },
   {
    "duration": 29,
    "start_time": "2022-10-25T15:28:51.789Z"
   },
   {
    "duration": 38,
    "start_time": "2022-10-25T15:28:51.820Z"
   },
   {
    "duration": 18,
    "start_time": "2022-10-25T15:28:51.859Z"
   },
   {
    "duration": 39,
    "start_time": "2022-10-25T15:28:51.879Z"
   },
   {
    "duration": 27,
    "start_time": "2022-10-25T15:28:51.920Z"
   },
   {
    "duration": 18,
    "start_time": "2022-10-25T15:28:51.949Z"
   },
   {
    "duration": 106,
    "start_time": "2022-10-25T15:28:51.968Z"
   },
   {
    "duration": 10,
    "start_time": "2022-10-25T15:28:52.075Z"
   },
   {
    "duration": 800,
    "start_time": "2022-10-25T15:28:52.087Z"
   },
   {
    "duration": 161,
    "start_time": "2022-10-25T15:28:52.891Z"
   },
   {
    "duration": 132,
    "start_time": "2022-10-25T15:28:53.053Z"
   },
   {
    "duration": 0,
    "start_time": "2022-10-25T15:28:53.187Z"
   },
   {
    "duration": 0,
    "start_time": "2022-10-25T15:28:53.188Z"
   },
   {
    "duration": 0,
    "start_time": "2022-10-25T15:28:53.189Z"
   },
   {
    "duration": 0,
    "start_time": "2022-10-25T15:28:53.190Z"
   },
   {
    "duration": 0,
    "start_time": "2022-10-25T15:28:53.191Z"
   },
   {
    "duration": 0,
    "start_time": "2022-10-25T15:28:53.192Z"
   },
   {
    "duration": 0,
    "start_time": "2022-10-25T15:28:53.209Z"
   },
   {
    "duration": 0,
    "start_time": "2022-10-25T15:28:53.210Z"
   },
   {
    "duration": 0,
    "start_time": "2022-10-25T15:28:53.211Z"
   },
   {
    "duration": 0,
    "start_time": "2022-10-25T15:28:53.212Z"
   },
   {
    "duration": 0,
    "start_time": "2022-10-25T15:28:53.213Z"
   },
   {
    "duration": 0,
    "start_time": "2022-10-25T15:28:53.215Z"
   },
   {
    "duration": 0,
    "start_time": "2022-10-25T15:28:53.216Z"
   },
   {
    "duration": 0,
    "start_time": "2022-10-25T15:28:53.217Z"
   },
   {
    "duration": 0,
    "start_time": "2022-10-25T15:28:53.219Z"
   },
   {
    "duration": 0,
    "start_time": "2022-10-25T15:28:53.220Z"
   },
   {
    "duration": 0,
    "start_time": "2022-10-25T15:28:53.221Z"
   },
   {
    "duration": 0,
    "start_time": "2022-10-25T15:28:53.223Z"
   },
   {
    "duration": 0,
    "start_time": "2022-10-25T15:28:53.225Z"
   },
   {
    "duration": 0,
    "start_time": "2022-10-25T15:28:53.226Z"
   },
   {
    "duration": 0,
    "start_time": "2022-10-25T15:28:53.227Z"
   },
   {
    "duration": 0,
    "start_time": "2022-10-25T15:28:53.229Z"
   },
   {
    "duration": 0,
    "start_time": "2022-10-25T15:28:53.230Z"
   },
   {
    "duration": 1313,
    "start_time": "2022-10-25T15:30:19.868Z"
   },
   {
    "duration": 45,
    "start_time": "2022-10-25T15:30:21.183Z"
   },
   {
    "duration": 22,
    "start_time": "2022-10-25T15:30:21.229Z"
   },
   {
    "duration": 8,
    "start_time": "2022-10-25T15:30:21.253Z"
   },
   {
    "duration": 24,
    "start_time": "2022-10-25T15:30:21.263Z"
   },
   {
    "duration": 9,
    "start_time": "2022-10-25T15:30:21.289Z"
   },
   {
    "duration": 8,
    "start_time": "2022-10-25T15:30:21.300Z"
   },
   {
    "duration": 22,
    "start_time": "2022-10-25T15:30:21.309Z"
   },
   {
    "duration": 12,
    "start_time": "2022-10-25T15:30:21.332Z"
   },
   {
    "duration": 3,
    "start_time": "2022-10-25T15:30:21.345Z"
   },
   {
    "duration": 95,
    "start_time": "2022-10-25T15:30:21.349Z"
   },
   {
    "duration": 10,
    "start_time": "2022-10-25T15:30:21.445Z"
   },
   {
    "duration": 810,
    "start_time": "2022-10-25T15:30:21.457Z"
   },
   {
    "duration": 165,
    "start_time": "2022-10-25T15:30:22.270Z"
   },
   {
    "duration": 159,
    "start_time": "2022-10-25T15:30:22.436Z"
   },
   {
    "duration": 0,
    "start_time": "2022-10-25T15:30:22.596Z"
   },
   {
    "duration": 0,
    "start_time": "2022-10-25T15:30:22.598Z"
   },
   {
    "duration": 0,
    "start_time": "2022-10-25T15:30:22.600Z"
   },
   {
    "duration": 0,
    "start_time": "2022-10-25T15:30:22.601Z"
   },
   {
    "duration": 0,
    "start_time": "2022-10-25T15:30:22.608Z"
   },
   {
    "duration": 0,
    "start_time": "2022-10-25T15:30:22.609Z"
   },
   {
    "duration": 0,
    "start_time": "2022-10-25T15:30:22.611Z"
   },
   {
    "duration": 0,
    "start_time": "2022-10-25T15:30:22.612Z"
   },
   {
    "duration": 0,
    "start_time": "2022-10-25T15:30:22.613Z"
   },
   {
    "duration": 0,
    "start_time": "2022-10-25T15:30:22.614Z"
   },
   {
    "duration": 0,
    "start_time": "2022-10-25T15:30:22.615Z"
   },
   {
    "duration": 0,
    "start_time": "2022-10-25T15:30:22.616Z"
   },
   {
    "duration": 0,
    "start_time": "2022-10-25T15:30:22.617Z"
   },
   {
    "duration": 0,
    "start_time": "2022-10-25T15:30:22.618Z"
   },
   {
    "duration": 0,
    "start_time": "2022-10-25T15:30:22.619Z"
   },
   {
    "duration": 0,
    "start_time": "2022-10-25T15:30:22.620Z"
   },
   {
    "duration": 0,
    "start_time": "2022-10-25T15:30:22.621Z"
   },
   {
    "duration": 0,
    "start_time": "2022-10-25T15:30:22.622Z"
   },
   {
    "duration": 0,
    "start_time": "2022-10-25T15:30:22.623Z"
   },
   {
    "duration": 0,
    "start_time": "2022-10-25T15:30:22.624Z"
   },
   {
    "duration": 0,
    "start_time": "2022-10-25T15:30:22.625Z"
   },
   {
    "duration": 0,
    "start_time": "2022-10-25T15:30:22.626Z"
   },
   {
    "duration": 0,
    "start_time": "2022-10-25T15:30:22.627Z"
   },
   {
    "duration": 1297,
    "start_time": "2022-10-25T15:30:51.968Z"
   },
   {
    "duration": 42,
    "start_time": "2022-10-25T15:30:53.267Z"
   },
   {
    "duration": 24,
    "start_time": "2022-10-25T15:30:53.311Z"
   },
   {
    "duration": 3,
    "start_time": "2022-10-25T15:30:53.337Z"
   },
   {
    "duration": 17,
    "start_time": "2022-10-25T15:30:53.341Z"
   },
   {
    "duration": 5,
    "start_time": "2022-10-25T15:30:53.359Z"
   },
   {
    "duration": 9,
    "start_time": "2022-10-25T15:30:53.365Z"
   },
   {
    "duration": 38,
    "start_time": "2022-10-25T15:30:53.375Z"
   },
   {
    "duration": 10,
    "start_time": "2022-10-25T15:30:53.414Z"
   },
   {
    "duration": 2,
    "start_time": "2022-10-25T15:30:53.427Z"
   },
   {
    "duration": 93,
    "start_time": "2022-10-25T15:30:53.430Z"
   },
   {
    "duration": 9,
    "start_time": "2022-10-25T15:30:53.524Z"
   },
   {
    "duration": 776,
    "start_time": "2022-10-25T15:30:53.534Z"
   },
   {
    "duration": 163,
    "start_time": "2022-10-25T15:30:54.311Z"
   },
   {
    "duration": 11,
    "start_time": "2022-10-25T15:30:54.476Z"
   },
   {
    "duration": 22,
    "start_time": "2022-10-25T15:30:54.489Z"
   },
   {
    "duration": 6937,
    "start_time": "2022-10-25T15:30:54.512Z"
   },
   {
    "duration": 23387,
    "start_time": "2022-10-25T15:31:01.451Z"
   },
   {
    "duration": 813,
    "start_time": "2022-10-25T15:31:24.840Z"
   },
   {
    "duration": 62,
    "start_time": "2022-10-25T15:31:25.655Z"
   },
   {
    "duration": 6873,
    "start_time": "2022-10-25T15:31:25.720Z"
   },
   {
    "duration": 30607,
    "start_time": "2022-10-25T15:31:32.595Z"
   },
   {
    "duration": 129,
    "start_time": "2022-10-25T15:32:03.203Z"
   },
   {
    "duration": 0,
    "start_time": "2022-10-25T15:32:03.334Z"
   },
   {
    "duration": 0,
    "start_time": "2022-10-25T15:32:03.335Z"
   },
   {
    "duration": 0,
    "start_time": "2022-10-25T15:32:03.336Z"
   },
   {
    "duration": 0,
    "start_time": "2022-10-25T15:32:03.337Z"
   },
   {
    "duration": 0,
    "start_time": "2022-10-25T15:32:03.338Z"
   },
   {
    "duration": 0,
    "start_time": "2022-10-25T15:32:03.339Z"
   },
   {
    "duration": 0,
    "start_time": "2022-10-25T15:32:03.340Z"
   },
   {
    "duration": 0,
    "start_time": "2022-10-25T15:32:03.341Z"
   },
   {
    "duration": 0,
    "start_time": "2022-10-25T15:32:03.342Z"
   },
   {
    "duration": 0,
    "start_time": "2022-10-25T15:32:03.342Z"
   },
   {
    "duration": 0,
    "start_time": "2022-10-25T15:32:03.344Z"
   },
   {
    "duration": 0,
    "start_time": "2022-10-25T15:32:03.345Z"
   },
   {
    "duration": 0,
    "start_time": "2022-10-25T15:32:03.346Z"
   },
   {
    "duration": 0,
    "start_time": "2022-10-25T15:32:03.348Z"
   },
   {
    "duration": 0,
    "start_time": "2022-10-25T15:32:03.349Z"
   },
   {
    "duration": 1383,
    "start_time": "2022-10-25T15:41:36.054Z"
   },
   {
    "duration": 119,
    "start_time": "2022-10-25T15:41:37.439Z"
   },
   {
    "duration": 104,
    "start_time": "2022-10-25T15:41:37.562Z"
   },
   {
    "duration": 83,
    "start_time": "2022-10-25T15:41:38.005Z"
   },
   {
    "duration": 13,
    "start_time": "2022-10-25T15:41:38.752Z"
   },
   {
    "duration": 138,
    "start_time": "2022-10-25T15:41:39.179Z"
   },
   {
    "duration": 63,
    "start_time": "2022-10-25T15:41:39.357Z"
   },
   {
    "duration": 4,
    "start_time": "2022-10-25T15:41:39.771Z"
   },
   {
    "duration": 34,
    "start_time": "2022-10-25T15:41:40.524Z"
   },
   {
    "duration": 635,
    "start_time": "2022-10-25T15:41:41.293Z"
   },
   {
    "duration": 179,
    "start_time": "2022-10-25T15:41:41.930Z"
   },
   {
    "duration": 99,
    "start_time": "2022-10-25T15:41:42.111Z"
   },
   {
    "duration": 790,
    "start_time": "2022-10-25T15:41:45.772Z"
   },
   {
    "duration": 159,
    "start_time": "2022-10-25T15:41:46.565Z"
   },
   {
    "duration": 5,
    "start_time": "2022-10-25T15:41:46.726Z"
   },
   {
    "duration": 8,
    "start_time": "2022-10-25T15:41:46.770Z"
   },
   {
    "duration": 13,
    "start_time": "2022-10-25T15:46:32.494Z"
   },
   {
    "duration": 194,
    "start_time": "2022-10-25T15:46:33.223Z"
   },
   {
    "duration": 111,
    "start_time": "2022-10-25T15:46:33.606Z"
   },
   {
    "duration": 3,
    "start_time": "2022-10-25T15:46:34.674Z"
   },
   {
    "duration": 8,
    "start_time": "2022-10-25T15:46:35.122Z"
   },
   {
    "duration": 118,
    "start_time": "2022-10-25T15:48:58.134Z"
   },
   {
    "duration": 15,
    "start_time": "2022-10-25T15:49:10.940Z"
   },
   {
    "duration": 119,
    "start_time": "2022-10-25T15:49:46.196Z"
   },
   {
    "duration": 169,
    "start_time": "2022-10-25T15:49:53.349Z"
   },
   {
    "duration": 161,
    "start_time": "2022-10-25T15:49:56.903Z"
   },
   {
    "duration": 200,
    "start_time": "2022-10-25T15:50:32.515Z"
   },
   {
    "duration": 161,
    "start_time": "2022-10-25T15:52:06.067Z"
   },
   {
    "duration": 170,
    "start_time": "2022-10-25T15:52:13.082Z"
   },
   {
    "duration": 277,
    "start_time": "2022-10-25T15:52:23.807Z"
   },
   {
    "duration": 285,
    "start_time": "2022-10-25T15:52:35.968Z"
   },
   {
    "duration": 235,
    "start_time": "2022-10-25T15:52:53.581Z"
   },
   {
    "duration": 164,
    "start_time": "2022-10-25T15:53:51.669Z"
   },
   {
    "duration": 161,
    "start_time": "2022-10-25T15:54:47.500Z"
   },
   {
    "duration": 136,
    "start_time": "2022-10-25T15:55:54.955Z"
   },
   {
    "duration": 167,
    "start_time": "2022-10-25T15:55:59.455Z"
   },
   {
    "duration": 171,
    "start_time": "2022-10-25T15:56:13.518Z"
   },
   {
    "duration": 313,
    "start_time": "2022-10-25T15:57:38.474Z"
   },
   {
    "duration": 354,
    "start_time": "2022-10-25T15:57:52.934Z"
   },
   {
    "duration": 330,
    "start_time": "2022-10-25T15:58:12.688Z"
   },
   {
    "duration": 257,
    "start_time": "2022-10-25T15:58:28.940Z"
   },
   {
    "duration": 192,
    "start_time": "2022-10-25T15:58:43.766Z"
   },
   {
    "duration": 239,
    "start_time": "2022-10-25T15:58:49.936Z"
   },
   {
    "duration": 166,
    "start_time": "2022-10-25T16:00:36.940Z"
   },
   {
    "duration": 49,
    "start_time": "2022-10-25T16:00:59.364Z"
   },
   {
    "duration": 192,
    "start_time": "2022-10-25T16:01:14.719Z"
   },
   {
    "duration": 199,
    "start_time": "2022-10-25T16:01:32.670Z"
   },
   {
    "duration": 183,
    "start_time": "2022-10-25T16:01:35.559Z"
   },
   {
    "duration": 172,
    "start_time": "2022-10-25T16:02:36.377Z"
   },
   {
    "duration": 185,
    "start_time": "2022-10-25T16:02:57.130Z"
   },
   {
    "duration": 177,
    "start_time": "2022-10-25T16:03:15.195Z"
   },
   {
    "duration": 171,
    "start_time": "2022-10-25T16:03:21.560Z"
   },
   {
    "duration": 197,
    "start_time": "2022-10-25T16:03:27.831Z"
   },
   {
    "duration": 193,
    "start_time": "2022-10-25T16:03:38.610Z"
   },
   {
    "duration": 202,
    "start_time": "2022-10-25T16:04:21.102Z"
   },
   {
    "duration": 230,
    "start_time": "2022-10-25T16:05:56.537Z"
   },
   {
    "duration": 203,
    "start_time": "2022-10-25T16:06:46.784Z"
   },
   {
    "duration": 203,
    "start_time": "2022-10-25T16:06:56.862Z"
   },
   {
    "duration": 743,
    "start_time": "2022-10-25T16:18:17.215Z"
   },
   {
    "duration": 147,
    "start_time": "2022-10-25T16:18:17.963Z"
   },
   {
    "duration": 750,
    "start_time": "2022-10-25T16:19:24.117Z"
   },
   {
    "duration": 151,
    "start_time": "2022-10-25T16:19:24.868Z"
   },
   {
    "duration": 1305,
    "start_time": "2022-10-25T16:19:30.420Z"
   },
   {
    "duration": 52,
    "start_time": "2022-10-25T16:19:31.726Z"
   },
   {
    "duration": 26,
    "start_time": "2022-10-25T16:19:31.780Z"
   },
   {
    "duration": 14,
    "start_time": "2022-10-25T16:19:31.808Z"
   },
   {
    "duration": 31,
    "start_time": "2022-10-25T16:19:31.824Z"
   },
   {
    "duration": 6,
    "start_time": "2022-10-25T16:19:31.857Z"
   },
   {
    "duration": 11,
    "start_time": "2022-10-25T16:19:31.865Z"
   },
   {
    "duration": 19,
    "start_time": "2022-10-25T16:19:31.877Z"
   },
   {
    "duration": 20,
    "start_time": "2022-10-25T16:19:31.899Z"
   },
   {
    "duration": 3,
    "start_time": "2022-10-25T16:19:31.923Z"
   },
   {
    "duration": 108,
    "start_time": "2022-10-25T16:19:31.928Z"
   },
   {
    "duration": 11,
    "start_time": "2022-10-25T16:19:32.038Z"
   },
   {
    "duration": 805,
    "start_time": "2022-10-25T16:19:32.051Z"
   },
   {
    "duration": 161,
    "start_time": "2022-10-25T16:19:32.858Z"
   },
   {
    "duration": 11,
    "start_time": "2022-10-25T16:19:33.021Z"
   },
   {
    "duration": 12,
    "start_time": "2022-10-25T16:19:33.033Z"
   },
   {
    "duration": 6958,
    "start_time": "2022-10-25T16:19:33.046Z"
   },
   {
    "duration": 23096,
    "start_time": "2022-10-25T16:19:40.006Z"
   },
   {
    "duration": 814,
    "start_time": "2022-10-25T16:20:03.103Z"
   },
   {
    "duration": 47,
    "start_time": "2022-10-25T16:20:03.919Z"
   },
   {
    "duration": 6880,
    "start_time": "2022-10-25T16:20:03.968Z"
   },
   {
    "duration": 30151,
    "start_time": "2022-10-25T16:20:10.850Z"
   },
   {
    "duration": 1395,
    "start_time": "2022-10-25T16:20:41.003Z"
   },
   {
    "duration": 118,
    "start_time": "2022-10-25T16:20:42.399Z"
   },
   {
    "duration": 122,
    "start_time": "2022-10-25T16:20:42.519Z"
   },
   {
    "duration": 106,
    "start_time": "2022-10-25T16:20:42.643Z"
   },
   {
    "duration": 62,
    "start_time": "2022-10-25T16:20:42.751Z"
   },
   {
    "duration": 308,
    "start_time": "2022-10-25T16:20:42.816Z"
   },
   {
    "duration": 186,
    "start_time": "2022-10-25T16:20:43.126Z"
   },
   {
    "duration": 8,
    "start_time": "2022-10-25T16:20:43.313Z"
   },
   {
    "duration": 903,
    "start_time": "2022-10-25T16:20:43.324Z"
   },
   {
    "duration": 183,
    "start_time": "2022-10-25T16:20:44.229Z"
   },
   {
    "duration": 130,
    "start_time": "2022-10-25T16:20:44.414Z"
   },
   {
    "duration": 301,
    "start_time": "2022-10-25T16:20:44.610Z"
   },
   {
    "duration": 816,
    "start_time": "2022-10-25T16:20:44.913Z"
   },
   {
    "duration": 159,
    "start_time": "2022-10-25T16:20:45.731Z"
   },
   {
    "duration": 18,
    "start_time": "2022-10-25T16:20:45.892Z"
   },
   {
    "duration": 8,
    "start_time": "2022-10-25T16:20:45.911Z"
   },
   {
    "duration": 4,
    "start_time": "2022-10-25T16:21:30.208Z"
   },
   {
    "duration": 775,
    "start_time": "2022-10-25T16:21:33.728Z"
   },
   {
    "duration": 1253,
    "start_time": "2022-10-25T16:21:40.454Z"
   },
   {
    "duration": 43,
    "start_time": "2022-10-25T16:21:41.709Z"
   },
   {
    "duration": 24,
    "start_time": "2022-10-25T16:21:41.754Z"
   },
   {
    "duration": 4,
    "start_time": "2022-10-25T16:21:41.780Z"
   },
   {
    "duration": 15,
    "start_time": "2022-10-25T16:21:41.786Z"
   },
   {
    "duration": 5,
    "start_time": "2022-10-25T16:21:41.802Z"
   },
   {
    "duration": 7,
    "start_time": "2022-10-25T16:21:41.808Z"
   },
   {
    "duration": 17,
    "start_time": "2022-10-25T16:21:41.816Z"
   },
   {
    "duration": 10,
    "start_time": "2022-10-25T16:21:41.834Z"
   },
   {
    "duration": 3,
    "start_time": "2022-10-25T16:21:41.846Z"
   },
   {
    "duration": 98,
    "start_time": "2022-10-25T16:21:41.850Z"
   },
   {
    "duration": 9,
    "start_time": "2022-10-25T16:21:41.950Z"
   },
   {
    "duration": 773,
    "start_time": "2022-10-25T16:21:41.960Z"
   },
   {
    "duration": 160,
    "start_time": "2022-10-25T16:21:42.735Z"
   },
   {
    "duration": 20,
    "start_time": "2022-10-25T16:21:42.897Z"
   },
   {
    "duration": 10,
    "start_time": "2022-10-25T16:21:42.919Z"
   },
   {
    "duration": 6847,
    "start_time": "2022-10-25T16:21:42.931Z"
   },
   {
    "duration": 23092,
    "start_time": "2022-10-25T16:21:49.779Z"
   },
   {
    "duration": 802,
    "start_time": "2022-10-25T16:22:12.872Z"
   },
   {
    "duration": 53,
    "start_time": "2022-10-25T16:22:13.676Z"
   },
   {
    "duration": 6857,
    "start_time": "2022-10-25T16:22:13.731Z"
   },
   {
    "duration": 30110,
    "start_time": "2022-10-25T16:22:20.589Z"
   },
   {
    "duration": 1369,
    "start_time": "2022-10-25T16:22:50.700Z"
   },
   {
    "duration": 112,
    "start_time": "2022-10-25T16:22:52.071Z"
   },
   {
    "duration": 104,
    "start_time": "2022-10-25T16:22:52.185Z"
   },
   {
    "duration": 91,
    "start_time": "2022-10-25T16:22:52.291Z"
   },
   {
    "duration": 35,
    "start_time": "2022-10-25T16:22:52.383Z"
   },
   {
    "duration": 302,
    "start_time": "2022-10-25T16:22:52.512Z"
   },
   {
    "duration": 99,
    "start_time": "2022-10-25T16:22:52.815Z"
   },
   {
    "duration": 100,
    "start_time": "2022-10-25T16:22:52.915Z"
   },
   {
    "duration": 902,
    "start_time": "2022-10-25T16:22:53.018Z"
   },
   {
    "duration": 195,
    "start_time": "2022-10-25T16:22:53.922Z"
   },
   {
    "duration": 199,
    "start_time": "2022-10-25T16:22:54.119Z"
   },
   {
    "duration": 392,
    "start_time": "2022-10-25T16:22:54.320Z"
   },
   {
    "duration": 817,
    "start_time": "2022-10-25T16:22:54.714Z"
   },
   {
    "duration": 167,
    "start_time": "2022-10-25T16:22:55.533Z"
   },
   {
    "duration": 4,
    "start_time": "2022-10-25T16:22:55.708Z"
   },
   {
    "duration": 11,
    "start_time": "2022-10-25T16:22:55.714Z"
   },
   {
    "duration": 1289,
    "start_time": "2022-10-25T16:28:04.333Z"
   },
   {
    "duration": 47,
    "start_time": "2022-10-25T16:28:05.624Z"
   },
   {
    "duration": 25,
    "start_time": "2022-10-25T16:28:05.673Z"
   },
   {
    "duration": 17,
    "start_time": "2022-10-25T16:28:05.700Z"
   },
   {
    "duration": 35,
    "start_time": "2022-10-25T16:28:05.719Z"
   },
   {
    "duration": 14,
    "start_time": "2022-10-25T16:28:05.756Z"
   },
   {
    "duration": 33,
    "start_time": "2022-10-25T16:28:05.772Z"
   },
   {
    "duration": 26,
    "start_time": "2022-10-25T16:28:05.807Z"
   },
   {
    "duration": 13,
    "start_time": "2022-10-25T16:28:05.834Z"
   },
   {
    "duration": 2,
    "start_time": "2022-10-25T16:28:05.850Z"
   },
   {
    "duration": 86,
    "start_time": "2022-10-25T16:28:05.854Z"
   },
   {
    "duration": 10,
    "start_time": "2022-10-25T16:28:05.942Z"
   },
   {
    "duration": 768,
    "start_time": "2022-10-25T16:28:05.953Z"
   },
   {
    "duration": 160,
    "start_time": "2022-10-25T16:28:06.723Z"
   },
   {
    "duration": 11,
    "start_time": "2022-10-25T16:28:06.884Z"
   },
   {
    "duration": 19,
    "start_time": "2022-10-25T16:28:06.897Z"
   },
   {
    "duration": 6958,
    "start_time": "2022-10-25T16:28:06.918Z"
   },
   {
    "duration": 23365,
    "start_time": "2022-10-25T16:28:13.878Z"
   },
   {
    "duration": 805,
    "start_time": "2022-10-25T16:28:37.245Z"
   },
   {
    "duration": 57,
    "start_time": "2022-10-25T16:28:38.052Z"
   },
   {
    "duration": 6918,
    "start_time": "2022-10-25T16:28:38.111Z"
   },
   {
    "duration": 30266,
    "start_time": "2022-10-25T16:28:45.031Z"
   },
   {
    "duration": 1380,
    "start_time": "2022-10-25T16:29:15.298Z"
   },
   {
    "duration": 113,
    "start_time": "2022-10-25T16:29:16.680Z"
   },
   {
    "duration": 113,
    "start_time": "2022-10-25T16:29:16.795Z"
   },
   {
    "duration": 81,
    "start_time": "2022-10-25T16:29:16.910Z"
   },
   {
    "duration": 25,
    "start_time": "2022-10-25T16:29:16.993Z"
   },
   {
    "duration": 216,
    "start_time": "2022-10-25T16:29:17.111Z"
   },
   {
    "duration": 185,
    "start_time": "2022-10-25T16:29:17.328Z"
   },
   {
    "duration": 12,
    "start_time": "2022-10-25T16:29:17.515Z"
   },
   {
    "duration": 995,
    "start_time": "2022-10-25T16:29:17.528Z"
   },
   {
    "duration": 92,
    "start_time": "2022-10-25T16:29:18.525Z"
   },
   {
    "duration": 197,
    "start_time": "2022-10-25T16:29:18.618Z"
   },
   {
    "duration": 399,
    "start_time": "2022-10-25T16:29:18.816Z"
   },
   {
    "duration": 803,
    "start_time": "2022-10-25T16:29:19.217Z"
   },
   {
    "duration": 159,
    "start_time": "2022-10-25T16:29:20.022Z"
   },
   {
    "duration": 4,
    "start_time": "2022-10-25T16:29:20.182Z"
   },
   {
    "duration": 15,
    "start_time": "2022-10-25T16:29:20.188Z"
   },
   {
    "duration": 808,
    "start_time": "2022-10-25T16:30:33.313Z"
   },
   {
    "duration": 50,
    "start_time": "2022-10-25T16:30:34.631Z"
   },
   {
    "duration": 1334,
    "start_time": "2022-10-25T16:31:49.792Z"
   },
   {
    "duration": 41,
    "start_time": "2022-10-25T16:31:51.128Z"
   },
   {
    "duration": 25,
    "start_time": "2022-10-25T16:31:51.170Z"
   },
   {
    "duration": 4,
    "start_time": "2022-10-25T16:31:51.197Z"
   },
   {
    "duration": 14,
    "start_time": "2022-10-25T16:31:51.202Z"
   },
   {
    "duration": 5,
    "start_time": "2022-10-25T16:31:51.217Z"
   },
   {
    "duration": 8,
    "start_time": "2022-10-25T16:31:51.224Z"
   },
   {
    "duration": 21,
    "start_time": "2022-10-25T16:31:51.233Z"
   },
   {
    "duration": 10,
    "start_time": "2022-10-25T16:31:51.256Z"
   },
   {
    "duration": 2,
    "start_time": "2022-10-25T16:31:51.269Z"
   },
   {
    "duration": 98,
    "start_time": "2022-10-25T16:31:51.273Z"
   },
   {
    "duration": 10,
    "start_time": "2022-10-25T16:31:51.372Z"
   },
   {
    "duration": 766,
    "start_time": "2022-10-25T16:31:51.383Z"
   },
   {
    "duration": 159,
    "start_time": "2022-10-25T16:31:52.151Z"
   },
   {
    "duration": 12,
    "start_time": "2022-10-25T16:31:52.311Z"
   },
   {
    "duration": 10,
    "start_time": "2022-10-25T16:31:52.325Z"
   },
   {
    "duration": 6901,
    "start_time": "2022-10-25T16:31:52.337Z"
   },
   {
    "duration": 23194,
    "start_time": "2022-10-25T16:31:59.239Z"
   },
   {
    "duration": 842,
    "start_time": "2022-10-25T16:32:22.435Z"
   },
   {
    "duration": 54,
    "start_time": "2022-10-25T16:32:23.279Z"
   },
   {
    "duration": 6915,
    "start_time": "2022-10-25T16:32:23.334Z"
   },
   {
    "duration": 30414,
    "start_time": "2022-10-25T16:32:30.251Z"
   },
   {
    "duration": 1396,
    "start_time": "2022-10-25T16:33:00.667Z"
   },
   {
    "duration": 114,
    "start_time": "2022-10-25T16:33:02.064Z"
   },
   {
    "duration": 106,
    "start_time": "2022-10-25T16:33:02.179Z"
   },
   {
    "duration": 90,
    "start_time": "2022-10-25T16:33:02.286Z"
   },
   {
    "duration": 134,
    "start_time": "2022-10-25T16:33:02.378Z"
   },
   {
    "duration": 215,
    "start_time": "2022-10-25T16:33:02.611Z"
   },
   {
    "duration": 95,
    "start_time": "2022-10-25T16:33:02.828Z"
   },
   {
    "duration": 91,
    "start_time": "2022-10-25T16:33:02.924Z"
   },
   {
    "duration": 816,
    "start_time": "2022-10-25T16:33:03.017Z"
   },
   {
    "duration": 174,
    "start_time": "2022-10-25T16:33:03.835Z"
   },
   {
    "duration": 8,
    "start_time": "2022-10-25T16:33:04.011Z"
   },
   {
    "duration": 302,
    "start_time": "2022-10-25T16:33:04.109Z"
   },
   {
    "duration": 805,
    "start_time": "2022-10-25T16:33:04.413Z"
   },
   {
    "duration": 156,
    "start_time": "2022-10-25T16:33:05.219Z"
   },
   {
    "duration": 4,
    "start_time": "2022-10-25T16:33:05.376Z"
   },
   {
    "duration": 12,
    "start_time": "2022-10-25T16:33:05.382Z"
   },
   {
    "duration": 247,
    "start_time": "2022-10-25T16:42:13.705Z"
   },
   {
    "duration": 7,
    "start_time": "2022-10-25T16:52:46.304Z"
   },
   {
    "duration": 10,
    "start_time": "2022-10-25T16:52:49.215Z"
   },
   {
    "duration": 8,
    "start_time": "2022-10-25T16:52:59.580Z"
   },
   {
    "duration": 4,
    "start_time": "2022-10-25T16:53:20.107Z"
   },
   {
    "duration": 1361,
    "start_time": "2022-10-25T17:02:09.398Z"
   },
   {
    "duration": 42,
    "start_time": "2022-10-25T17:02:10.761Z"
   },
   {
    "duration": 26,
    "start_time": "2022-10-25T17:02:10.805Z"
   },
   {
    "duration": 5,
    "start_time": "2022-10-25T17:02:10.833Z"
   },
   {
    "duration": 12,
    "start_time": "2022-10-25T17:02:10.842Z"
   },
   {
    "duration": 6,
    "start_time": "2022-10-25T17:02:10.856Z"
   },
   {
    "duration": 12,
    "start_time": "2022-10-25T17:02:10.864Z"
   },
   {
    "duration": 32,
    "start_time": "2022-10-25T17:02:10.877Z"
   },
   {
    "duration": 26,
    "start_time": "2022-10-25T17:02:10.911Z"
   },
   {
    "duration": 14,
    "start_time": "2022-10-25T17:02:10.939Z"
   },
   {
    "duration": 2,
    "start_time": "2022-10-25T17:02:10.955Z"
   },
   {
    "duration": 117,
    "start_time": "2022-10-25T17:02:10.959Z"
   },
   {
    "duration": 11,
    "start_time": "2022-10-25T17:02:11.078Z"
   },
   {
    "duration": 809,
    "start_time": "2022-10-25T17:02:11.091Z"
   },
   {
    "duration": 160,
    "start_time": "2022-10-25T17:02:11.901Z"
   },
   {
    "duration": 13,
    "start_time": "2022-10-25T17:02:12.064Z"
   },
   {
    "duration": 30,
    "start_time": "2022-10-25T17:02:12.079Z"
   },
   {
    "duration": 7095,
    "start_time": "2022-10-25T17:02:12.111Z"
   },
   {
    "duration": 23431,
    "start_time": "2022-10-25T17:02:19.207Z"
   },
   {
    "duration": 832,
    "start_time": "2022-10-25T17:02:42.642Z"
   },
   {
    "duration": 53,
    "start_time": "2022-10-25T17:02:43.476Z"
   },
   {
    "duration": 6885,
    "start_time": "2022-10-25T17:02:43.531Z"
   },
   {
    "duration": 30605,
    "start_time": "2022-10-25T17:02:50.418Z"
   },
   {
    "duration": 1375,
    "start_time": "2022-10-25T17:03:21.024Z"
   },
   {
    "duration": 113,
    "start_time": "2022-10-25T17:03:22.400Z"
   },
   {
    "duration": 132,
    "start_time": "2022-10-25T17:03:22.515Z"
   },
   {
    "duration": 107,
    "start_time": "2022-10-25T17:03:22.648Z"
   },
   {
    "duration": 56,
    "start_time": "2022-10-25T17:03:22.757Z"
   },
   {
    "duration": 313,
    "start_time": "2022-10-25T17:03:22.815Z"
   },
   {
    "duration": 94,
    "start_time": "2022-10-25T17:03:23.129Z"
   },
   {
    "duration": 10,
    "start_time": "2022-10-25T17:03:23.309Z"
   },
   {
    "duration": 804,
    "start_time": "2022-10-25T17:03:23.320Z"
   },
   {
    "duration": 183,
    "start_time": "2022-10-25T17:03:24.126Z"
   },
   {
    "duration": 96,
    "start_time": "2022-10-25T17:03:24.315Z"
   },
   {
    "duration": 305,
    "start_time": "2022-10-25T17:03:24.413Z"
   },
   {
    "duration": 820,
    "start_time": "2022-10-25T17:03:24.719Z"
   },
   {
    "duration": 154,
    "start_time": "2022-10-25T17:03:25.541Z"
   },
   {
    "duration": 5,
    "start_time": "2022-10-25T17:03:25.696Z"
   },
   {
    "duration": 15,
    "start_time": "2022-10-25T17:03:25.708Z"
   },
   {
    "duration": 50,
    "start_time": "2022-10-25T17:15:07.093Z"
   },
   {
    "duration": 867,
    "start_time": "2022-10-25T17:32:32.020Z"
   },
   {
    "duration": 174,
    "start_time": "2022-10-25T17:32:33.754Z"
   },
   {
    "duration": 10,
    "start_time": "2022-10-25T17:35:09.513Z"
   },
   {
    "duration": 7,
    "start_time": "2022-10-25T17:35:09.846Z"
   },
   {
    "duration": 118,
    "start_time": "2022-10-25T17:35:10.200Z"
   },
   {
    "duration": 8,
    "start_time": "2022-10-25T17:35:53.813Z"
   },
   {
    "duration": 10,
    "start_time": "2022-10-25T17:35:54.170Z"
   },
   {
    "duration": 110,
    "start_time": "2022-10-25T17:35:54.525Z"
   },
   {
    "duration": 1314,
    "start_time": "2022-10-25T17:47:33.685Z"
   },
   {
    "duration": 41,
    "start_time": "2022-10-25T17:47:35.001Z"
   },
   {
    "duration": 24,
    "start_time": "2022-10-25T17:47:35.046Z"
   },
   {
    "duration": 4,
    "start_time": "2022-10-25T17:47:35.072Z"
   },
   {
    "duration": 21,
    "start_time": "2022-10-25T17:47:35.078Z"
   },
   {
    "duration": 10,
    "start_time": "2022-10-25T17:47:35.100Z"
   },
   {
    "duration": 6,
    "start_time": "2022-10-25T17:47:35.112Z"
   },
   {
    "duration": 9,
    "start_time": "2022-10-25T17:47:35.119Z"
   },
   {
    "duration": 16,
    "start_time": "2022-10-25T17:47:35.129Z"
   },
   {
    "duration": 17,
    "start_time": "2022-10-25T17:47:35.147Z"
   },
   {
    "duration": 11,
    "start_time": "2022-10-25T17:47:35.166Z"
   },
   {
    "duration": 84,
    "start_time": "2022-10-25T17:47:35.178Z"
   },
   {
    "duration": 10,
    "start_time": "2022-10-25T17:47:35.265Z"
   },
   {
    "duration": 757,
    "start_time": "2022-10-25T17:47:35.276Z"
   },
   {
    "duration": 164,
    "start_time": "2022-10-25T17:47:36.035Z"
   },
   {
    "duration": 14,
    "start_time": "2022-10-25T17:47:36.210Z"
   },
   {
    "duration": 23,
    "start_time": "2022-10-25T17:47:36.226Z"
   },
   {
    "duration": 7122,
    "start_time": "2022-10-25T17:47:36.251Z"
   },
   {
    "duration": 23385,
    "start_time": "2022-10-25T17:47:43.375Z"
   },
   {
    "duration": 823,
    "start_time": "2022-10-25T17:48:06.762Z"
   },
   {
    "duration": 63,
    "start_time": "2022-10-25T17:48:07.586Z"
   },
   {
    "duration": 7100,
    "start_time": "2022-10-25T17:48:07.651Z"
   },
   {
    "duration": 30562,
    "start_time": "2022-10-25T17:48:14.752Z"
   },
   {
    "duration": 1383,
    "start_time": "2022-10-25T17:48:45.315Z"
   },
   {
    "duration": 121,
    "start_time": "2022-10-25T17:48:46.699Z"
   },
   {
    "duration": 115,
    "start_time": "2022-10-25T17:48:46.822Z"
   },
   {
    "duration": 87,
    "start_time": "2022-10-25T17:48:46.938Z"
   },
   {
    "duration": 84,
    "start_time": "2022-10-25T17:48:47.027Z"
   },
   {
    "duration": 220,
    "start_time": "2022-10-25T17:48:47.112Z"
   },
   {
    "duration": 87,
    "start_time": "2022-10-25T17:48:47.333Z"
   },
   {
    "duration": 10,
    "start_time": "2022-10-25T17:48:47.508Z"
   },
   {
    "duration": 1003,
    "start_time": "2022-10-25T17:48:47.520Z"
   },
   {
    "duration": 94,
    "start_time": "2022-10-25T17:48:48.524Z"
   },
   {
    "duration": 9,
    "start_time": "2022-10-25T17:48:48.709Z"
   },
   {
    "duration": 301,
    "start_time": "2022-10-25T17:48:48.814Z"
   },
   {
    "duration": 807,
    "start_time": "2022-10-25T17:48:49.116Z"
   },
   {
    "duration": 165,
    "start_time": "2022-10-25T17:48:49.925Z"
   },
   {
    "duration": 4,
    "start_time": "2022-10-25T17:48:50.092Z"
   },
   {
    "duration": 7,
    "start_time": "2022-10-25T17:48:50.108Z"
   },
   {
    "duration": 115,
    "start_time": "2022-10-25T17:48:50.118Z"
   },
   {
    "duration": 1292,
    "start_time": "2022-10-25T17:53:04.222Z"
   },
   {
    "duration": 41,
    "start_time": "2022-10-25T17:53:05.515Z"
   },
   {
    "duration": 24,
    "start_time": "2022-10-25T17:53:05.558Z"
   },
   {
    "duration": 4,
    "start_time": "2022-10-25T17:53:05.584Z"
   },
   {
    "duration": 16,
    "start_time": "2022-10-25T17:53:05.590Z"
   },
   {
    "duration": 5,
    "start_time": "2022-10-25T17:53:05.608Z"
   },
   {
    "duration": 8,
    "start_time": "2022-10-25T17:53:05.614Z"
   },
   {
    "duration": 7,
    "start_time": "2022-10-25T17:53:05.623Z"
   },
   {
    "duration": 17,
    "start_time": "2022-10-25T17:53:05.631Z"
   },
   {
    "duration": 10,
    "start_time": "2022-10-25T17:53:05.650Z"
   },
   {
    "duration": 3,
    "start_time": "2022-10-25T17:53:05.662Z"
   },
   {
    "duration": 102,
    "start_time": "2022-10-25T17:53:05.666Z"
   },
   {
    "duration": 9,
    "start_time": "2022-10-25T17:53:05.769Z"
   },
   {
    "duration": 866,
    "start_time": "2022-10-25T17:53:05.780Z"
   },
   {
    "duration": 155,
    "start_time": "2022-10-25T17:53:06.648Z"
   },
   {
    "duration": 11,
    "start_time": "2022-10-25T17:53:06.809Z"
   },
   {
    "duration": 15,
    "start_time": "2022-10-25T17:53:06.821Z"
   },
   {
    "duration": 6976,
    "start_time": "2022-10-25T17:53:06.837Z"
   },
   {
    "duration": 23316,
    "start_time": "2022-10-25T17:53:13.815Z"
   },
   {
    "duration": 824,
    "start_time": "2022-10-25T17:53:37.133Z"
   },
   {
    "duration": 54,
    "start_time": "2022-10-25T17:53:37.959Z"
   },
   {
    "duration": 6961,
    "start_time": "2022-10-25T17:53:38.015Z"
   },
   {
    "duration": 30658,
    "start_time": "2022-10-25T17:53:44.978Z"
   },
   {
    "duration": 1455,
    "start_time": "2022-10-25T17:54:15.638Z"
   },
   {
    "duration": 123,
    "start_time": "2022-10-25T17:54:17.095Z"
   },
   {
    "duration": 110,
    "start_time": "2022-10-25T17:54:17.219Z"
   },
   {
    "duration": 90,
    "start_time": "2022-10-25T17:54:17.330Z"
   },
   {
    "duration": 13,
    "start_time": "2022-10-25T17:54:17.424Z"
   },
   {
    "duration": 221,
    "start_time": "2022-10-25T17:54:17.516Z"
   },
   {
    "duration": 184,
    "start_time": "2022-10-25T17:54:17.739Z"
   },
   {
    "duration": 11,
    "start_time": "2022-10-25T17:54:17.925Z"
   },
   {
    "duration": 1990,
    "start_time": "2022-10-25T17:54:17.937Z"
   },
   {
    "duration": 195,
    "start_time": "2022-10-25T17:54:19.929Z"
   },
   {
    "duration": 202,
    "start_time": "2022-10-25T17:54:20.126Z"
   },
   {
    "duration": 259,
    "start_time": "2022-10-25T17:54:20.408Z"
   },
   {
    "duration": 864,
    "start_time": "2022-10-25T17:54:20.669Z"
   },
   {
    "duration": 158,
    "start_time": "2022-10-25T17:54:21.534Z"
   },
   {
    "duration": 30,
    "start_time": "2022-10-25T17:54:21.693Z"
   },
   {
    "duration": 8,
    "start_time": "2022-10-25T17:54:21.726Z"
   },
   {
    "duration": 123,
    "start_time": "2022-10-25T17:54:21.735Z"
   },
   {
    "duration": 1404,
    "start_time": "2022-10-25T17:56:07.322Z"
   },
   {
    "duration": 41,
    "start_time": "2022-10-25T17:56:08.727Z"
   },
   {
    "duration": 21,
    "start_time": "2022-10-25T17:56:08.770Z"
   },
   {
    "duration": 31,
    "start_time": "2022-10-25T17:56:08.792Z"
   },
   {
    "duration": 38,
    "start_time": "2022-10-25T17:56:08.825Z"
   },
   {
    "duration": 27,
    "start_time": "2022-10-25T17:56:08.865Z"
   },
   {
    "duration": 12,
    "start_time": "2022-10-25T17:56:08.894Z"
   },
   {
    "duration": 42,
    "start_time": "2022-10-25T17:56:08.908Z"
   },
   {
    "duration": 35,
    "start_time": "2022-10-25T17:56:08.952Z"
   },
   {
    "duration": 34,
    "start_time": "2022-10-25T17:56:08.989Z"
   },
   {
    "duration": 48,
    "start_time": "2022-10-25T17:56:09.025Z"
   },
   {
    "duration": 99,
    "start_time": "2022-10-25T17:56:09.074Z"
   },
   {
    "duration": 9,
    "start_time": "2022-10-25T17:56:09.175Z"
   },
   {
    "duration": 779,
    "start_time": "2022-10-25T17:56:09.187Z"
   },
   {
    "duration": 163,
    "start_time": "2022-10-25T17:56:09.967Z"
   },
   {
    "duration": 11,
    "start_time": "2022-10-25T17:56:10.132Z"
   },
   {
    "duration": 22,
    "start_time": "2022-10-25T17:56:10.144Z"
   },
   {
    "duration": 7185,
    "start_time": "2022-10-25T17:56:10.168Z"
   },
   {
    "duration": 23902,
    "start_time": "2022-10-25T17:56:17.355Z"
   },
   {
    "duration": 837,
    "start_time": "2022-10-25T17:56:41.259Z"
   },
   {
    "duration": 57,
    "start_time": "2022-10-25T17:56:42.098Z"
   },
   {
    "duration": 7163,
    "start_time": "2022-10-25T17:56:42.157Z"
   },
   {
    "duration": 31398,
    "start_time": "2022-10-25T17:56:49.323Z"
   },
   {
    "duration": 1433,
    "start_time": "2022-10-25T17:57:20.723Z"
   },
   {
    "duration": 115,
    "start_time": "2022-10-25T17:57:22.158Z"
   },
   {
    "duration": 107,
    "start_time": "2022-10-25T17:57:22.274Z"
   },
   {
    "duration": 93,
    "start_time": "2022-10-25T17:57:22.383Z"
   },
   {
    "duration": 341,
    "start_time": "2022-10-25T17:57:22.477Z"
   },
   {
    "duration": 214,
    "start_time": "2022-10-25T17:57:22.820Z"
   },
   {
    "duration": 92,
    "start_time": "2022-10-25T17:57:23.035Z"
   },
   {
    "duration": 108,
    "start_time": "2022-10-25T17:57:23.129Z"
   },
   {
    "duration": 1479,
    "start_time": "2022-10-25T17:57:23.241Z"
   },
   {
    "duration": 393,
    "start_time": "2022-10-25T17:57:24.723Z"
   },
   {
    "duration": 101,
    "start_time": "2022-10-25T17:57:25.126Z"
   },
   {
    "duration": 412,
    "start_time": "2022-10-25T17:57:25.231Z"
   },
   {
    "duration": 831,
    "start_time": "2022-10-25T17:57:25.645Z"
   },
   {
    "duration": 160,
    "start_time": "2022-10-25T17:57:26.477Z"
   },
   {
    "duration": 6,
    "start_time": "2022-10-25T17:57:26.638Z"
   },
   {
    "duration": 45,
    "start_time": "2022-10-25T17:57:26.646Z"
   },
   {
    "duration": 149,
    "start_time": "2022-10-25T17:57:26.693Z"
   }
  ],
  "kernelspec": {
   "display_name": "Python 3.9.13 64-bit",
   "language": "python",
   "name": "python3"
  },
  "language_info": {
   "codemirror_mode": {
    "name": "ipython",
    "version": 3
   },
   "file_extension": ".py",
   "mimetype": "text/x-python",
   "name": "python",
   "nbconvert_exporter": "python",
   "pygments_lexer": "ipython3",
   "version": "3.9.12"
  },
  "toc": {
   "base_numbering": 1,
   "nav_menu": {},
   "number_sections": true,
   "sideBar": true,
   "skip_h1_title": true,
   "title_cell": "Содержание",
   "title_sidebar": "Contents",
   "toc_cell": true,
   "toc_position": {
    "height": "calc(100% - 180px)",
    "left": "10px",
    "top": "150px",
    "width": "358.188px"
   },
   "toc_section_display": true,
   "toc_window_display": true
  },
  "vscode": {
   "interpreter": {
    "hash": "d07a2b609277e13ff29b949bad8e514eab9c971c43bacf7effadde128cbe400f"
   }
  }
 },
 "nbformat": 4,
 "nbformat_minor": 2
}
