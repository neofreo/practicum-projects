{
 "cells": [
  {
   "cell_type": "markdown",
   "metadata": {},
   "source": [
    "# Защита персональных данных клиентов"
   ]
  },
  {
   "cell_type": "markdown",
   "metadata": {},
   "source": [
    "### Цели работы:\n",
    "\n",
    "Разработайте метод преобразования данных который позволит сохранить анонимность клиентов без потери качества предсказаний для страховой компании «Хоть потоп».\n",
    "\n",
    "### Этапы работы:\n",
    "\n",
    "* [подготовить данные](#подготовка-данных)\n",
    "* [обосновать теоретическую возможность анонимизировать данные путем умножения на обратимую матрицу, без потери предсказательного качества линейной регресии](#умножение-матриц)\n",
    "* [подготовить алгоритм решения задачи](#алгоритм-преобразования)\n",
    "* [проверить, что качество линейной регрессии не отличается до и после преобразования на выбранной метрике r2](#проверка-алгоритма)\n",
    "* [написание выводов](#итоги)\n",
    "\n",
    "Описание данных:\n",
    "\n",
    "* Признаки: пол, возраст и зарплата застрахованного, количество членов его семьи.\n",
    "* Целевой признак: количество страховых выплат клиенту за последние 5 лет."
   ]
  },
  {
   "cell_type": "markdown",
   "metadata": {},
   "source": [
    "### подготовка данных"
   ]
  },
  {
   "cell_type": "code",
   "execution_count": 1,
   "metadata": {},
   "outputs": [],
   "source": [
    "import pandas as pd\n",
    "import numpy as np\n",
    "\n",
    "from sklearn.linear_model import LinearRegression\n",
    "from sklearn.metrics import r2_score, mean_absolute_error"
   ]
  },
  {
   "cell_type": "code",
   "execution_count": 2,
   "metadata": {},
   "outputs": [],
   "source": [
    "STATE = np.random.RandomState(12345)"
   ]
  },
  {
   "cell_type": "code",
   "execution_count": 3,
   "metadata": {},
   "outputs": [],
   "source": [
    "df = pd.read_csv('C:\\\\Users\\\\Freo\\\\Desktop\\\\projects\\\\datasets\\\\p9.csv')"
   ]
  },
  {
   "cell_type": "code",
   "execution_count": 4,
   "metadata": {},
   "outputs": [
    {
     "data": {
      "text/html": [
       "<div>\n",
       "<style scoped>\n",
       "    .dataframe tbody tr th:only-of-type {\n",
       "        vertical-align: middle;\n",
       "    }\n",
       "\n",
       "    .dataframe tbody tr th {\n",
       "        vertical-align: top;\n",
       "    }\n",
       "\n",
       "    .dataframe thead th {\n",
       "        text-align: right;\n",
       "    }\n",
       "</style>\n",
       "<table border=\"1\" class=\"dataframe\">\n",
       "  <thead>\n",
       "    <tr style=\"text-align: right;\">\n",
       "      <th></th>\n",
       "      <th>Пол</th>\n",
       "      <th>Возраст</th>\n",
       "      <th>Зарплата</th>\n",
       "      <th>Члены семьи</th>\n",
       "      <th>Страховые выплаты</th>\n",
       "    </tr>\n",
       "  </thead>\n",
       "  <tbody>\n",
       "    <tr>\n",
       "      <th>0</th>\n",
       "      <td>1</td>\n",
       "      <td>41.0</td>\n",
       "      <td>49600.0</td>\n",
       "      <td>1</td>\n",
       "      <td>0</td>\n",
       "    </tr>\n",
       "    <tr>\n",
       "      <th>1</th>\n",
       "      <td>0</td>\n",
       "      <td>46.0</td>\n",
       "      <td>38000.0</td>\n",
       "      <td>1</td>\n",
       "      <td>1</td>\n",
       "    </tr>\n",
       "    <tr>\n",
       "      <th>2</th>\n",
       "      <td>0</td>\n",
       "      <td>29.0</td>\n",
       "      <td>21000.0</td>\n",
       "      <td>0</td>\n",
       "      <td>0</td>\n",
       "    </tr>\n",
       "    <tr>\n",
       "      <th>3</th>\n",
       "      <td>0</td>\n",
       "      <td>21.0</td>\n",
       "      <td>41700.0</td>\n",
       "      <td>2</td>\n",
       "      <td>0</td>\n",
       "    </tr>\n",
       "    <tr>\n",
       "      <th>4</th>\n",
       "      <td>1</td>\n",
       "      <td>28.0</td>\n",
       "      <td>26100.0</td>\n",
       "      <td>0</td>\n",
       "      <td>0</td>\n",
       "    </tr>\n",
       "    <tr>\n",
       "      <th>...</th>\n",
       "      <td>...</td>\n",
       "      <td>...</td>\n",
       "      <td>...</td>\n",
       "      <td>...</td>\n",
       "      <td>...</td>\n",
       "    </tr>\n",
       "    <tr>\n",
       "      <th>4995</th>\n",
       "      <td>0</td>\n",
       "      <td>28.0</td>\n",
       "      <td>35700.0</td>\n",
       "      <td>2</td>\n",
       "      <td>0</td>\n",
       "    </tr>\n",
       "    <tr>\n",
       "      <th>4996</th>\n",
       "      <td>0</td>\n",
       "      <td>34.0</td>\n",
       "      <td>52400.0</td>\n",
       "      <td>1</td>\n",
       "      <td>0</td>\n",
       "    </tr>\n",
       "    <tr>\n",
       "      <th>4997</th>\n",
       "      <td>0</td>\n",
       "      <td>20.0</td>\n",
       "      <td>33900.0</td>\n",
       "      <td>2</td>\n",
       "      <td>0</td>\n",
       "    </tr>\n",
       "    <tr>\n",
       "      <th>4998</th>\n",
       "      <td>1</td>\n",
       "      <td>22.0</td>\n",
       "      <td>32700.0</td>\n",
       "      <td>3</td>\n",
       "      <td>0</td>\n",
       "    </tr>\n",
       "    <tr>\n",
       "      <th>4999</th>\n",
       "      <td>1</td>\n",
       "      <td>28.0</td>\n",
       "      <td>40600.0</td>\n",
       "      <td>1</td>\n",
       "      <td>0</td>\n",
       "    </tr>\n",
       "  </tbody>\n",
       "</table>\n",
       "<p>5000 rows × 5 columns</p>\n",
       "</div>"
      ],
      "text/plain": [
       "      Пол  Возраст  Зарплата  Члены семьи  Страховые выплаты\n",
       "0       1     41.0   49600.0            1                  0\n",
       "1       0     46.0   38000.0            1                  1\n",
       "2       0     29.0   21000.0            0                  0\n",
       "3       0     21.0   41700.0            2                  0\n",
       "4       1     28.0   26100.0            0                  0\n",
       "...   ...      ...       ...          ...                ...\n",
       "4995    0     28.0   35700.0            2                  0\n",
       "4996    0     34.0   52400.0            1                  0\n",
       "4997    0     20.0   33900.0            2                  0\n",
       "4998    1     22.0   32700.0            3                  0\n",
       "4999    1     28.0   40600.0            1                  0\n",
       "\n",
       "[5000 rows x 5 columns]"
      ]
     },
     "execution_count": 4,
     "metadata": {},
     "output_type": "execute_result"
    }
   ],
   "source": [
    "df"
   ]
  },
  {
   "cell_type": "code",
   "execution_count": 5,
   "metadata": {},
   "outputs": [
    {
     "name": "stdout",
     "output_type": "stream",
     "text": [
      "<class 'pandas.core.frame.DataFrame'>\n",
      "RangeIndex: 5000 entries, 0 to 4999\n",
      "Data columns (total 5 columns):\n",
      " #   Column             Non-Null Count  Dtype  \n",
      "---  ------             --------------  -----  \n",
      " 0   Пол                5000 non-null   int64  \n",
      " 1   Возраст            5000 non-null   float64\n",
      " 2   Зарплата           5000 non-null   float64\n",
      " 3   Члены семьи        5000 non-null   int64  \n",
      " 4   Страховые выплаты  5000 non-null   int64  \n",
      "dtypes: float64(2), int64(3)\n",
      "memory usage: 195.4 KB\n"
     ]
    }
   ],
   "source": [
    "df.info()"
   ]
  },
  {
   "cell_type": "code",
   "execution_count": 6,
   "metadata": {},
   "outputs": [],
   "source": [
    "for el in df['Возраст'].value_counts().index:\n",
    "    if (el) * 10 % 10 != 0:\n",
    "        print (el)"
   ]
  },
  {
   "cell_type": "code",
   "execution_count": 7,
   "metadata": {},
   "outputs": [
    {
     "name": "stdout",
     "output_type": "stream",
     "text": [
      "32700.000000000004\n",
      "32200.000000000004\n",
      "65099.99999999999\n",
      "64099.99999999999\n",
      "64900.00000000001\n",
      "64400.00000000001\n"
     ]
    }
   ],
   "source": [
    "for el in df['Зарплата'].value_counts().index:\n",
    "    if (el) * 10 % 10 != 0:\n",
    "        print (el)"
   ]
  },
  {
   "cell_type": "code",
   "execution_count": 8,
   "metadata": {},
   "outputs": [
    {
     "data": {
      "text/plain": [
       "Зарплата\n",
       "45800.0    29\n",
       "37100.0    28\n",
       "41500.0    27\n",
       "43200.0    27\n",
       "46800.0    26\n",
       "           ..\n",
       "17700.0     1\n",
       "70600.0     1\n",
       "18100.0     1\n",
       "13000.0     1\n",
       "56800.0     1\n",
       "Name: count, Length: 524, dtype: int64"
      ]
     },
     "execution_count": 8,
     "metadata": {},
     "output_type": "execute_result"
    }
   ],
   "source": [
    "df['Зарплата'].value_counts()"
   ]
  },
  {
   "cell_type": "code",
   "execution_count": 9,
   "metadata": {},
   "outputs": [],
   "source": [
    "df['Зарплата'] = df['Зарплата'].replace(65099.99999999999, 65100)\n",
    "df['Зарплата'] = df['Зарплата'].replace(64099.99999999999, 64100)"
   ]
  },
  {
   "cell_type": "code",
   "execution_count": 10,
   "metadata": {},
   "outputs": [],
   "source": [
    "df['Зарплата'] = df['Зарплата'].astype(int)\n",
    "df['Возраст'] = df['Возраст'].astype(int)"
   ]
  },
  {
   "cell_type": "code",
   "execution_count": 11,
   "metadata": {},
   "outputs": [
    {
     "data": {
      "text/plain": [
       "Пол\n",
       "0    2505\n",
       "1    2495\n",
       "Name: count, dtype: int64"
      ]
     },
     "execution_count": 11,
     "metadata": {},
     "output_type": "execute_result"
    }
   ],
   "source": [
    "df['Пол'].value_counts()"
   ]
  },
  {
   "cell_type": "code",
   "execution_count": 12,
   "metadata": {},
   "outputs": [
    {
     "data": {
      "text/plain": [
       "Члены семьи\n",
       "1    1814\n",
       "0    1513\n",
       "2    1071\n",
       "3     439\n",
       "4     124\n",
       "5      32\n",
       "6       7\n",
       "Name: count, dtype: int64"
      ]
     },
     "execution_count": 12,
     "metadata": {},
     "output_type": "execute_result"
    }
   ],
   "source": [
    "df['Члены семьи'].value_counts()"
   ]
  },
  {
   "cell_type": "code",
   "execution_count": 13,
   "metadata": {},
   "outputs": [
    {
     "data": {
      "text/plain": [
       "Страховые выплаты\n",
       "0    4436\n",
       "1     423\n",
       "2     115\n",
       "3      18\n",
       "4       7\n",
       "5       1\n",
       "Name: count, dtype: int64"
      ]
     },
     "execution_count": 13,
     "metadata": {},
     "output_type": "execute_result"
    }
   ],
   "source": [
    "df['Страховые выплаты'].value_counts()"
   ]
  },
  {
   "cell_type": "code",
   "execution_count": 14,
   "metadata": {},
   "outputs": [
    {
     "data": {
      "image/png": "[encoded data removed]",
      "text/plain": [
       "<Figure size 800x800 with 6 Axes>"
      ]
     },
     "metadata": {},
     "output_type": "display_data"
    }
   ],
   "source": [
    "df.hist(figsize=(8,8));"
   ]
  },
  {
   "cell_type": "code",
   "execution_count": 15,
   "metadata": {
    "scrolled": true
   },
   "outputs": [
    {
     "data": {
      "text/html": [
       "<div>\n",
       "<style scoped>\n",
       "    .dataframe tbody tr th:only-of-type {\n",
       "        vertical-align: middle;\n",
       "    }\n",
       "\n",
       "    .dataframe tbody tr th {\n",
       "        vertical-align: top;\n",
       "    }\n",
       "\n",
       "    .dataframe thead th {\n",
       "        text-align: right;\n",
       "    }\n",
       "</style>\n",
       "<table border=\"1\" class=\"dataframe\">\n",
       "  <thead>\n",
       "    <tr style=\"text-align: right;\">\n",
       "      <th></th>\n",
       "      <th>Пол</th>\n",
       "      <th>Возраст</th>\n",
       "      <th>Зарплата</th>\n",
       "      <th>Члены семьи</th>\n",
       "      <th>Страховые выплаты</th>\n",
       "    </tr>\n",
       "  </thead>\n",
       "  <tbody>\n",
       "    <tr>\n",
       "      <th>Пол</th>\n",
       "      <td>1.000000</td>\n",
       "      <td>0.002074</td>\n",
       "      <td>0.014910</td>\n",
       "      <td>-0.008991</td>\n",
       "      <td>0.010140</td>\n",
       "    </tr>\n",
       "    <tr>\n",
       "      <th>Возраст</th>\n",
       "      <td>0.002074</td>\n",
       "      <td>1.000000</td>\n",
       "      <td>-0.019093</td>\n",
       "      <td>-0.006692</td>\n",
       "      <td>0.651030</td>\n",
       "    </tr>\n",
       "    <tr>\n",
       "      <th>Зарплата</th>\n",
       "      <td>0.014910</td>\n",
       "      <td>-0.019093</td>\n",
       "      <td>1.000000</td>\n",
       "      <td>-0.030296</td>\n",
       "      <td>-0.014963</td>\n",
       "    </tr>\n",
       "    <tr>\n",
       "      <th>Члены семьи</th>\n",
       "      <td>-0.008991</td>\n",
       "      <td>-0.006692</td>\n",
       "      <td>-0.030296</td>\n",
       "      <td>1.000000</td>\n",
       "      <td>-0.036290</td>\n",
       "    </tr>\n",
       "    <tr>\n",
       "      <th>Страховые выплаты</th>\n",
       "      <td>0.010140</td>\n",
       "      <td>0.651030</td>\n",
       "      <td>-0.014963</td>\n",
       "      <td>-0.036290</td>\n",
       "      <td>1.000000</td>\n",
       "    </tr>\n",
       "  </tbody>\n",
       "</table>\n",
       "</div>"
      ],
      "text/plain": [
       "                        Пол   Возраст  Зарплата  Члены семьи  \\\n",
       "Пол                1.000000  0.002074  0.014910    -0.008991   \n",
       "Возраст            0.002074  1.000000 -0.019093    -0.006692   \n",
       "Зарплата           0.014910 -0.019093  1.000000    -0.030296   \n",
       "Члены семьи       -0.008991 -0.006692 -0.030296     1.000000   \n",
       "Страховые выплаты  0.010140  0.651030 -0.014963    -0.036290   \n",
       "\n",
       "                   Страховые выплаты  \n",
       "Пол                         0.010140  \n",
       "Возраст                     0.651030  \n",
       "Зарплата                   -0.014963  \n",
       "Члены семьи                -0.036290  \n",
       "Страховые выплаты           1.000000  "
      ]
     },
     "execution_count": 15,
     "metadata": {},
     "output_type": "execute_result"
    }
   ],
   "source": [
    "df.corr()"
   ]
  },
  {
   "cell_type": "markdown",
   "metadata": {},
   "source": [
    "### Итог первого этапа"
   ]
  },
  {
   "cell_type": "markdown",
   "metadata": {},
   "source": [
    "мы рассмотрели данные страховой компании, в ходе предобработки выяснилось:\n",
    "* что они достаточно чистые и готовые к использованию; \n",
    "* целевой признак категориальный, и имеет более 2х видов; задачу не получится свести к бинарной классификации, судя по всему нам важен не только \"есть или нет страховая выплата\" но и ее вид.\n",
    "* в категории признаков данные распределены хорошо, М и Ж примерно поровну, разброс зарплат по гауссу\n",
    "* есть ожидаемый дисбаланс в целевом признаке, еслибы целью работы было разбиение выборки на рабочую и тестовую это следовало бы учесть и стратицифировать\n",
    "* страховые выплаты очень сильно коррелируют с возрастом клиента"
   ]
  },
  {
   "cell_type": "markdown",
   "metadata": {},
   "source": [
    "### Умножение матриц"
   ]
  },
  {
   "cell_type": "markdown",
   "metadata": {},
   "source": [
    "Обозначения:\n",
    "\n",
    "- $X$ — матрица признаков (нулевой столбец состоит из единиц)\n",
    "\n",
    "- $y$ — вектор целевого признака\n",
    "\n",
    "- $P$ — матрица, на которую умножаются признаки\n",
    "\n",
    "- $w$ — вектор весов линейной регрессии (нулевой элемент равен сдвигу)"
   ]
  },
  {
   "cell_type": "markdown",
   "metadata": {},
   "source": [
    "Предсказания:\n",
    "\n",
    "$$\n",
    "a = Xw\n",
    "$$\n",
    "\n",
    "Задача обучения:\n",
    "\n",
    "$$\n",
    "w = \\arg\\min_w MSE(Xw, y)\n",
    "$$\n",
    "\n",
    "Формула обучения:\n",
    "\n",
    "$$\n",
    "w = (X^T X)^{-1} X^T y\n",
    "$$"
   ]
  },
  {
   "cell_type": "markdown",
   "metadata": {},
   "source": [
    "**Ответ:** При перемножении матрицы признаков и любой обратимой матрицы предсказание и качество линейной регрессии не изменится\n",
    "\n",
    "**Обоснование:** \n"
   ]
  },
  {
   "cell_type": "markdown",
   "metadata": {},
   "source": [
    "$$\\require{cancel}$$\n",
    "$$ w = (X^T X)^{-1} X^T y $$\n",
    "\n",
    "$$ a = Xw $$\n",
    "\n",
    "домножим на R (где R - рандомная обратимая матрица размерности равной количеству признаков)\n",
    "\n",
    "$$ w2 = ((XR)^T (XR))^{-1} XR^T y $$\n",
    "\n",
    "$$ a2 = XR (((XR^T) (XR))^{-1} XR^T y) $$\n",
    "\n",
    "(используем следующие правила умножения матриц)\n",
    "* ассоциативность $ A * B * C = A * (B * C) $\n",
    "* $ (A * B)^T = B^T * A^T $\n",
    "* $ (A * B)^{-1} = B^{-1} * A^{-1} $\n",
    "* $ A * A^{-1} = E $,  единичная матрица\n",
    "\n",
    "\n",
    "$$a2 = XR (~((XR)^T XR)^{-1} (XR)^T y)$$\n",
    "\n",
    "раскроем скобки\n",
    "\n",
    "$$а2 = XR ~(~(R^T X^T XR ~)~^{-1} R^T X^T y )$$\n",
    "\n",
    "\n",
    "\n"
   ]
  },
  {
   "cell_type": "markdown",
   "metadata": {},
   "source": [
    "$$\\require{cancel}$$\n",
    "\n",
    "$$а_2 = XR ~(~((R^T X^T) XR ~)~^{-1} R^T X^T y )$$\n",
    "$$а_2 = XR ~(R)^{-1} (X^T X)^{-1} (R^T)^{-1} R^T X^T y )$$    \n",
    "\n",
    "\n",
    "$ R $ и $ R^{-1} $ превратятся в единичную матрицу, как и $ (R^T)^{-1} $ с $ R^{T} $\n",
    "\n",
    "$$ a_2 = X \\cancel{R} \\cancel{R^{-1}} (X^T X)^{-1} \\cancel{(R^T)^{-1}} \\cancel{R^T} X^T y ) $$\n",
    "\n",
    "\n",
    "$$a_2 = X (X^T X)^{-1} X^T y$$\n",
    "из условия $w = (X^T X)^{-1} X^T y$, значит $a_2 = X w$\n",
    "\n",
    "$a_2 = X w$, $a = X w$, $a = a_2$\n",
    "что и требовалось доказать"
   ]
  },
  {
   "cell_type": "markdown",
   "metadata": {},
   "source": [
    "### Алгоритм преобразования"
   ]
  },
  {
   "cell_type": "markdown",
   "metadata": {},
   "source": [
    "**Алгоритм**\n",
    "\n",
    "* выделим из загруженных данных фичи X и таргеты Y\n",
    "* создадим случайную матрицу random_matrix с размерностью количества признаков\n",
    "* проверим что она обратима, и сохраним обратную матрицу\n",
    "* создадим и обучим линейную регрессию на неизмененных данных. Проверим ее качество метрикой r2\n",
    "* создадим и обучим линейную регрессию на признаках умноженных на подготовленную случайную матрицу. Проверим ее качество метрикой r2\n",
    "* сравним полученные показатели r2 обоих регрессий; они должны совпасть\n",
    "* проверим что мы можем восстановить данные умножив модифицированную матрицу на заранее сохраненную обратную матрицу\n"
   ]
  },
  {
   "cell_type": "markdown",
   "metadata": {},
   "source": [
    "**Обоснование**\n",
    "\n",
    "мы проверили что умножение фичей на любую обратимую матрицу подходящей размерности качество предсказаний линейной регрессии не изменится, воспользуемся этим чтобы сохранить анонимность персональных данных клиентов при работе с ними, а так же иметь возможность при необходимости их восстановить"
   ]
  },
  {
   "cell_type": "markdown",
   "metadata": {},
   "source": [
    "### Проверка алгоритма"
   ]
  },
  {
   "cell_type": "markdown",
   "metadata": {},
   "source": [
    "фичи, таргет"
   ]
  },
  {
   "cell_type": "code",
   "execution_count": 16,
   "metadata": {},
   "outputs": [],
   "source": [
    "X = df.drop('Страховые выплаты', axis=1)\n",
    "X = np.array(X)"
   ]
  },
  {
   "cell_type": "code",
   "execution_count": 17,
   "metadata": {
    "scrolled": true
   },
   "outputs": [
    {
     "data": {
      "text/plain": [
       "array([[    1,    41, 49600,     1],\n",
       "       [    0,    46, 38000,     1],\n",
       "       [    0,    29, 21000,     0],\n",
       "       ...,\n",
       "       [    0,    20, 33900,     2],\n",
       "       [    1,    22, 32700,     3],\n",
       "       [    1,    28, 40600,     1]], dtype=int64)"
      ]
     },
     "execution_count": 17,
     "metadata": {},
     "output_type": "execute_result"
    }
   ],
   "source": [
    "X"
   ]
  },
  {
   "cell_type": "code",
   "execution_count": 18,
   "metadata": {},
   "outputs": [],
   "source": [
    "Y = df['Страховые выплаты']\n",
    "Y = np.array(Y)"
   ]
  },
  {
   "cell_type": "code",
   "execution_count": 19,
   "metadata": {},
   "outputs": [
    {
     "data": {
      "text/plain": [
       "array([0, 1, 0, ..., 0, 0, 0], dtype=int64)"
      ]
     },
     "execution_count": 19,
     "metadata": {},
     "output_type": "execute_result"
    }
   ],
   "source": [
    "Y"
   ]
  },
  {
   "cell_type": "markdown",
   "metadata": {},
   "source": [
    "создадим случайную матрицу и проверим ее обратимость"
   ]
  },
  {
   "cell_type": "code",
   "execution_count": 20,
   "metadata": {},
   "outputs": [],
   "source": [
    "random_matrix = STATE.normal(size=(4, 4))"
   ]
  },
  {
   "cell_type": "code",
   "execution_count": 21,
   "metadata": {},
   "outputs": [
    {
     "data": {
      "text/plain": [
       "array([[-0.20470766,  0.47894334, -0.51943872, -0.5557303 ],\n",
       "       [ 1.96578057,  1.39340583,  0.09290788,  0.28174615],\n",
       "       [ 0.76902257,  1.24643474,  1.00718936, -1.29622111],\n",
       "       [ 0.27499163,  0.22891288,  1.35291684,  0.88642934]])"
      ]
     },
     "execution_count": 21,
     "metadata": {},
     "output_type": "execute_result"
    }
   ],
   "source": [
    "random_matrix"
   ]
  },
  {
   "cell_type": "code",
   "execution_count": 22,
   "metadata": {},
   "outputs": [],
   "source": [
    "inverted_matrix = np.linalg.inv(random_matrix)"
   ]
  },
  {
   "cell_type": "code",
   "execution_count": 23,
   "metadata": {
    "scrolled": true
   },
   "outputs": [
    {
     "data": {
      "text/plain": [
       "array([[-1.31136747,  0.3921804 ,  0.18868055, -0.67088287],\n",
       "       [ 1.75872714,  0.14106138, -0.17773045,  0.79787127],\n",
       "       [-0.41702659, -0.22854768,  0.3550602 ,  0.33039819],\n",
       "       [ 0.58912996,  0.19073027, -0.5545481 ,  0.6259302 ]])"
      ]
     },
     "execution_count": 23,
     "metadata": {},
     "output_type": "execute_result"
    }
   ],
   "source": [
    "inverted_matrix"
   ]
  },
  {
   "cell_type": "markdown",
   "metadata": {},
   "source": [
    "создадим линейную регрессию для начальных признаков"
   ]
  },
  {
   "cell_type": "code",
   "execution_count": 24,
   "metadata": {},
   "outputs": [],
   "source": [
    "model = LinearRegression()"
   ]
  },
  {
   "cell_type": "code",
   "execution_count": 25,
   "metadata": {},
   "outputs": [
    {
     "name": "stdout",
     "output_type": "stream",
     "text": [
      "r2 0.42494550286668\n"
     ]
    }
   ],
   "source": [
    "model.fit(X,Y)\n",
    "pred = model.predict(X)\n",
    "r2 = r2_score(Y, pred)\n",
    "print('r2', r2)"
   ]
  },
  {
   "cell_type": "markdown",
   "metadata": {},
   "source": [
    "создадим линейную регрессию для измененных анонимных данных"
   ]
  },
  {
   "cell_type": "code",
   "execution_count": 26,
   "metadata": {},
   "outputs": [
    {
     "name": "stdout",
     "output_type": "stream",
     "text": [
      "r2 modif 0.424945502866681\n"
     ]
    }
   ],
   "source": [
    "X_mod = (X @ random_matrix)\n",
    "model.fit(X_mod, Y)\n",
    "pred_mod = model.predict(X_mod)\n",
    "r2_mod = r2_score(Y, pred_mod)\n",
    "print('r2 modif', r2_mod)"
   ]
  },
  {
   "cell_type": "markdown",
   "metadata": {},
   "source": [
    "r2 совпадает, успех!"
   ]
  },
  {
   "cell_type": "markdown",
   "metadata": {},
   "source": [
    "удостоверимся что при умножении измененных данных на матрицу обратную той, с помощью которой модифицировали - данные получится восстановить"
   ]
  },
  {
   "cell_type": "code",
   "execution_count": 27,
   "metadata": {},
   "outputs": [],
   "source": [
    "back_from_ashes = X_mod @ inverted_matrix"
   ]
  },
  {
   "cell_type": "code",
   "execution_count": 28,
   "metadata": {},
   "outputs": [],
   "source": [
    "back_from_ashes_df = pd.DataFrame(data = back_from_ashes, columns=['Пол','Возраст','Зарплата','Члены семьи'])"
   ]
  },
  {
   "cell_type": "code",
   "execution_count": 29,
   "metadata": {},
   "outputs": [
    {
     "data": {
      "text/html": [
       "<div>\n",
       "<style scoped>\n",
       "    .dataframe tbody tr th:only-of-type {\n",
       "        vertical-align: middle;\n",
       "    }\n",
       "\n",
       "    .dataframe tbody tr th {\n",
       "        vertical-align: top;\n",
       "    }\n",
       "\n",
       "    .dataframe thead th {\n",
       "        text-align: right;\n",
       "    }\n",
       "</style>\n",
       "<table border=\"1\" class=\"dataframe\">\n",
       "  <thead>\n",
       "    <tr style=\"text-align: right;\">\n",
       "      <th></th>\n",
       "      <th>Пол</th>\n",
       "      <th>Возраст</th>\n",
       "      <th>Зарплата</th>\n",
       "      <th>Члены семьи</th>\n",
       "    </tr>\n",
       "  </thead>\n",
       "  <tbody>\n",
       "    <tr>\n",
       "      <th>0</th>\n",
       "      <td>1.000000e+00</td>\n",
       "      <td>41.0</td>\n",
       "      <td>49600.0</td>\n",
       "      <td>1.000000e+00</td>\n",
       "    </tr>\n",
       "    <tr>\n",
       "      <th>1</th>\n",
       "      <td>-6.449658e-12</td>\n",
       "      <td>46.0</td>\n",
       "      <td>38000.0</td>\n",
       "      <td>1.000000e+00</td>\n",
       "    </tr>\n",
       "    <tr>\n",
       "      <th>2</th>\n",
       "      <td>1.576164e-12</td>\n",
       "      <td>29.0</td>\n",
       "      <td>21000.0</td>\n",
       "      <td>-1.828262e-12</td>\n",
       "    </tr>\n",
       "    <tr>\n",
       "      <th>3</th>\n",
       "      <td>-9.028180e-12</td>\n",
       "      <td>21.0</td>\n",
       "      <td>41700.0</td>\n",
       "      <td>2.000000e+00</td>\n",
       "    </tr>\n",
       "    <tr>\n",
       "      <th>4</th>\n",
       "      <td>1.000000e+00</td>\n",
       "      <td>28.0</td>\n",
       "      <td>26100.0</td>\n",
       "      <td>-1.589574e-12</td>\n",
       "    </tr>\n",
       "    <tr>\n",
       "      <th>...</th>\n",
       "      <td>...</td>\n",
       "      <td>...</td>\n",
       "      <td>...</td>\n",
       "      <td>...</td>\n",
       "    </tr>\n",
       "    <tr>\n",
       "      <th>4995</th>\n",
       "      <td>-8.138865e-12</td>\n",
       "      <td>28.0</td>\n",
       "      <td>35700.0</td>\n",
       "      <td>2.000000e+00</td>\n",
       "    </tr>\n",
       "    <tr>\n",
       "      <th>4996</th>\n",
       "      <td>1.130693e-11</td>\n",
       "      <td>34.0</td>\n",
       "      <td>52400.0</td>\n",
       "      <td>1.000000e+00</td>\n",
       "    </tr>\n",
       "    <tr>\n",
       "      <th>4997</th>\n",
       "      <td>-7.963313e-12</td>\n",
       "      <td>20.0</td>\n",
       "      <td>33900.0</td>\n",
       "      <td>2.000000e+00</td>\n",
       "    </tr>\n",
       "    <tr>\n",
       "      <th>4998</th>\n",
       "      <td>1.000000e+00</td>\n",
       "      <td>22.0</td>\n",
       "      <td>32700.0</td>\n",
       "      <td>3.000000e+00</td>\n",
       "    </tr>\n",
       "    <tr>\n",
       "      <th>4999</th>\n",
       "      <td>1.000000e+00</td>\n",
       "      <td>28.0</td>\n",
       "      <td>40600.0</td>\n",
       "      <td>1.000000e+00</td>\n",
       "    </tr>\n",
       "  </tbody>\n",
       "</table>\n",
       "<p>5000 rows × 4 columns</p>\n",
       "</div>"
      ],
      "text/plain": [
       "               Пол  Возраст  Зарплата   Члены семьи\n",
       "0     1.000000e+00     41.0   49600.0  1.000000e+00\n",
       "1    -6.449658e-12     46.0   38000.0  1.000000e+00\n",
       "2     1.576164e-12     29.0   21000.0 -1.828262e-12\n",
       "3    -9.028180e-12     21.0   41700.0  2.000000e+00\n",
       "4     1.000000e+00     28.0   26100.0 -1.589574e-12\n",
       "...            ...      ...       ...           ...\n",
       "4995 -8.138865e-12     28.0   35700.0  2.000000e+00\n",
       "4996  1.130693e-11     34.0   52400.0  1.000000e+00\n",
       "4997 -7.963313e-12     20.0   33900.0  2.000000e+00\n",
       "4998  1.000000e+00     22.0   32700.0  3.000000e+00\n",
       "4999  1.000000e+00     28.0   40600.0  1.000000e+00\n",
       "\n",
       "[5000 rows x 4 columns]"
      ]
     },
     "execution_count": 29,
     "metadata": {},
     "output_type": "execute_result"
    }
   ],
   "source": [
    "back_from_ashes_df"
   ]
  },
  {
   "cell_type": "code",
   "execution_count": 30,
   "metadata": {},
   "outputs": [],
   "source": [
    "back_from_ashes_df = round(back_from_ashes_df)"
   ]
  },
  {
   "cell_type": "code",
   "execution_count": 31,
   "metadata": {
    "scrolled": true
   },
   "outputs": [
    {
     "data": {
      "text/html": [
       "<div>\n",
       "<style scoped>\n",
       "    .dataframe tbody tr th:only-of-type {\n",
       "        vertical-align: middle;\n",
       "    }\n",
       "\n",
       "    .dataframe tbody tr th {\n",
       "        vertical-align: top;\n",
       "    }\n",
       "\n",
       "    .dataframe thead th {\n",
       "        text-align: right;\n",
       "    }\n",
       "</style>\n",
       "<table border=\"1\" class=\"dataframe\">\n",
       "  <thead>\n",
       "    <tr style=\"text-align: right;\">\n",
       "      <th></th>\n",
       "      <th>Пол</th>\n",
       "      <th>Возраст</th>\n",
       "      <th>Зарплата</th>\n",
       "      <th>Члены семьи</th>\n",
       "    </tr>\n",
       "  </thead>\n",
       "  <tbody>\n",
       "    <tr>\n",
       "      <th>0</th>\n",
       "      <td>1.0</td>\n",
       "      <td>41.0</td>\n",
       "      <td>49600.0</td>\n",
       "      <td>1.0</td>\n",
       "    </tr>\n",
       "    <tr>\n",
       "      <th>1</th>\n",
       "      <td>-0.0</td>\n",
       "      <td>46.0</td>\n",
       "      <td>38000.0</td>\n",
       "      <td>1.0</td>\n",
       "    </tr>\n",
       "    <tr>\n",
       "      <th>2</th>\n",
       "      <td>0.0</td>\n",
       "      <td>29.0</td>\n",
       "      <td>21000.0</td>\n",
       "      <td>-0.0</td>\n",
       "    </tr>\n",
       "    <tr>\n",
       "      <th>3</th>\n",
       "      <td>-0.0</td>\n",
       "      <td>21.0</td>\n",
       "      <td>41700.0</td>\n",
       "      <td>2.0</td>\n",
       "    </tr>\n",
       "    <tr>\n",
       "      <th>4</th>\n",
       "      <td>1.0</td>\n",
       "      <td>28.0</td>\n",
       "      <td>26100.0</td>\n",
       "      <td>-0.0</td>\n",
       "    </tr>\n",
       "    <tr>\n",
       "      <th>...</th>\n",
       "      <td>...</td>\n",
       "      <td>...</td>\n",
       "      <td>...</td>\n",
       "      <td>...</td>\n",
       "    </tr>\n",
       "    <tr>\n",
       "      <th>4995</th>\n",
       "      <td>-0.0</td>\n",
       "      <td>28.0</td>\n",
       "      <td>35700.0</td>\n",
       "      <td>2.0</td>\n",
       "    </tr>\n",
       "    <tr>\n",
       "      <th>4996</th>\n",
       "      <td>0.0</td>\n",
       "      <td>34.0</td>\n",
       "      <td>52400.0</td>\n",
       "      <td>1.0</td>\n",
       "    </tr>\n",
       "    <tr>\n",
       "      <th>4997</th>\n",
       "      <td>-0.0</td>\n",
       "      <td>20.0</td>\n",
       "      <td>33900.0</td>\n",
       "      <td>2.0</td>\n",
       "    </tr>\n",
       "    <tr>\n",
       "      <th>4998</th>\n",
       "      <td>1.0</td>\n",
       "      <td>22.0</td>\n",
       "      <td>32700.0</td>\n",
       "      <td>3.0</td>\n",
       "    </tr>\n",
       "    <tr>\n",
       "      <th>4999</th>\n",
       "      <td>1.0</td>\n",
       "      <td>28.0</td>\n",
       "      <td>40600.0</td>\n",
       "      <td>1.0</td>\n",
       "    </tr>\n",
       "  </tbody>\n",
       "</table>\n",
       "<p>5000 rows × 4 columns</p>\n",
       "</div>"
      ],
      "text/plain": [
       "      Пол  Возраст  Зарплата  Члены семьи\n",
       "0     1.0     41.0   49600.0          1.0\n",
       "1    -0.0     46.0   38000.0          1.0\n",
       "2     0.0     29.0   21000.0         -0.0\n",
       "3    -0.0     21.0   41700.0          2.0\n",
       "4     1.0     28.0   26100.0         -0.0\n",
       "...   ...      ...       ...          ...\n",
       "4995 -0.0     28.0   35700.0          2.0\n",
       "4996  0.0     34.0   52400.0          1.0\n",
       "4997 -0.0     20.0   33900.0          2.0\n",
       "4998  1.0     22.0   32700.0          3.0\n",
       "4999  1.0     28.0   40600.0          1.0\n",
       "\n",
       "[5000 rows x 4 columns]"
      ]
     },
     "execution_count": 31,
     "metadata": {},
     "output_type": "execute_result"
    }
   ],
   "source": [
    "back_from_ashes_df"
   ]
  },
  {
   "cell_type": "code",
   "execution_count": 32,
   "metadata": {},
   "outputs": [],
   "source": [
    "df_features_original = df.drop('Страховые выплаты', axis=1)"
   ]
  },
  {
   "cell_type": "code",
   "execution_count": 33,
   "metadata": {},
   "outputs": [
    {
     "data": {
      "text/plain": [
       "0.0"
      ]
     },
     "execution_count": 33,
     "metadata": {},
     "output_type": "execute_result"
    }
   ],
   "source": [
    "mean_absolute_error(df_features_original, back_from_ashes_df)"
   ]
  },
  {
   "cell_type": "markdown",
   "metadata": {},
   "source": [
    "данные получилось восстановить без отклонения от начальных"
   ]
  },
  {
   "cell_type": "markdown",
   "metadata": {},
   "source": [
    "## Итоги"
   ]
  },
  {
   "cell_type": "markdown",
   "metadata": {},
   "source": [
    "Мы разработали метод преобразования персональных данных, позволяющий защитить и анонимизировать их без потери качества предсказаний линейной регресии.\n",
    "\n",
    "В ходе работы мы:\n",
    "* загрузили и подготовили данные\n",
    "* обосновали теоритическую возможность защиты данных с помощью умножения на случайную обратимую матрицу\n",
    "* подготовили алгоритм реализации задачи\n",
    "* проверили что качество линейной регрессии не отличается до и после преобразования на выбранной метрике r2\n",
    "* проверили что зная матрицу обратную кодирующей - данные можно вернуть в первозданный вид"
   ]
  }
 ],
 "metadata": {
  "ExecuteTimeLog": [
   {
    "duration": 409,
    "start_time": "2022-12-03T17:31:40.194Z"
   },
   {
    "duration": 78,
    "start_time": "2022-12-03T17:32:09.518Z"
   },
   {
    "duration": 18,
    "start_time": "2022-12-03T17:32:15.149Z"
   },
   {
    "duration": 43,
    "start_time": "2022-12-04T12:19:26.190Z"
   },
   {
    "duration": 6,
    "start_time": "2022-12-04T12:19:31.723Z"
   },
   {
    "duration": 339,
    "start_time": "2022-12-04T12:19:35.862Z"
   },
   {
    "duration": 73,
    "start_time": "2022-12-04T12:19:36.269Z"
   },
   {
    "duration": 19,
    "start_time": "2022-12-04T12:19:36.766Z"
   },
   {
    "duration": 10,
    "start_time": "2022-12-04T12:19:37.523Z"
   },
   {
    "duration": 28,
    "start_time": "2022-12-04T12:21:40.240Z"
   },
   {
    "duration": 7,
    "start_time": "2022-12-04T12:21:57.990Z"
   },
   {
    "duration": 12,
    "start_time": "2022-12-04T12:22:18.416Z"
   },
   {
    "duration": 3,
    "start_time": "2022-12-04T12:22:49.257Z"
   },
   {
    "duration": 6,
    "start_time": "2022-12-04T12:23:33.349Z"
   },
   {
    "duration": 9,
    "start_time": "2022-12-04T12:59:25.380Z"
   },
   {
    "duration": 685,
    "start_time": "2022-12-04T12:59:41.516Z"
   },
   {
    "duration": 6,
    "start_time": "2022-12-04T12:59:51.911Z"
   },
   {
    "duration": 5,
    "start_time": "2022-12-04T12:59:59.737Z"
   },
   {
    "duration": 3,
    "start_time": "2022-12-04T13:00:22.444Z"
   },
   {
    "duration": 5,
    "start_time": "2022-12-04T13:00:36.906Z"
   },
   {
    "duration": 5,
    "start_time": "2022-12-04T13:00:44.504Z"
   },
   {
    "duration": 10,
    "start_time": "2022-12-04T13:00:58.276Z"
   },
   {
    "duration": 7,
    "start_time": "2022-12-04T13:01:42.789Z"
   },
   {
    "duration": 48,
    "start_time": "2022-12-04T13:02:12.353Z"
   },
   {
    "duration": 7,
    "start_time": "2022-12-04T13:02:25.683Z"
   },
   {
    "duration": 11,
    "start_time": "2022-12-04T13:03:08.119Z"
   },
   {
    "duration": 4,
    "start_time": "2022-12-04T13:03:10.368Z"
   },
   {
    "duration": 4,
    "start_time": "2022-12-04T13:03:15.154Z"
   },
   {
    "duration": 10,
    "start_time": "2022-12-04T13:03:26.152Z"
   },
   {
    "duration": 3,
    "start_time": "2022-12-04T13:03:28.803Z"
   },
   {
    "duration": 5,
    "start_time": "2022-12-04T13:03:37.526Z"
   },
   {
    "duration": 7,
    "start_time": "2022-12-04T13:08:48.599Z"
   },
   {
    "duration": 6,
    "start_time": "2022-12-04T13:08:55.642Z"
   },
   {
    "duration": 14,
    "start_time": "2022-12-04T13:09:22.363Z"
   },
   {
    "duration": 9,
    "start_time": "2022-12-04T13:09:29.154Z"
   },
   {
    "duration": 5,
    "start_time": "2022-12-04T13:09:55.855Z"
   },
   {
    "duration": 2,
    "start_time": "2022-12-04T13:10:00.344Z"
   },
   {
    "duration": 29,
    "start_time": "2022-12-04T13:10:00.786Z"
   },
   {
    "duration": 13,
    "start_time": "2022-12-04T13:10:01.178Z"
   },
   {
    "duration": 10,
    "start_time": "2022-12-04T13:10:01.809Z"
   },
   {
    "duration": 4,
    "start_time": "2022-12-04T13:10:02.233Z"
   },
   {
    "duration": 5,
    "start_time": "2022-12-04T13:10:02.790Z"
   },
   {
    "duration": 4,
    "start_time": "2022-12-04T13:10:04.361Z"
   },
   {
    "duration": 5,
    "start_time": "2022-12-04T13:10:05.281Z"
   },
   {
    "duration": 4,
    "start_time": "2022-12-04T13:11:14.869Z"
   },
   {
    "duration": 3,
    "start_time": "2022-12-04T13:11:17.542Z"
   },
   {
    "duration": 7,
    "start_time": "2022-12-04T13:12:22.506Z"
   },
   {
    "duration": 7,
    "start_time": "2022-12-04T13:13:03.938Z"
   },
   {
    "duration": 7,
    "start_time": "2022-12-04T13:13:04.631Z"
   },
   {
    "duration": 6,
    "start_time": "2022-12-04T13:13:10.208Z"
   },
   {
    "duration": 5,
    "start_time": "2022-12-04T13:13:10.719Z"
   },
   {
    "duration": 2,
    "start_time": "2022-12-04T13:18:37.165Z"
   },
   {
    "duration": 4,
    "start_time": "2022-12-04T13:18:41.129Z"
   },
   {
    "duration": 2,
    "start_time": "2022-12-04T13:19:40.670Z"
   },
   {
    "duration": 4,
    "start_time": "2022-12-04T13:19:41.987Z"
   },
   {
    "duration": 8,
    "start_time": "2022-12-04T13:20:02.195Z"
   },
   {
    "duration": 4,
    "start_time": "2022-12-04T13:20:18.446Z"
   },
   {
    "duration": 5,
    "start_time": "2022-12-04T13:20:23.718Z"
   },
   {
    "duration": 822,
    "start_time": "2022-12-04T15:05:59.693Z"
   },
   {
    "duration": 546,
    "start_time": "2022-12-04T15:06:30.023Z"
   },
   {
    "duration": 451,
    "start_time": "2022-12-04T15:06:37.421Z"
   },
   {
    "duration": 4,
    "start_time": "2022-12-04T15:10:15.434Z"
   },
   {
    "duration": 4,
    "start_time": "2022-12-04T15:10:21.000Z"
   },
   {
    "duration": 14,
    "start_time": "2022-12-04T15:10:57.889Z"
   },
   {
    "duration": 3,
    "start_time": "2022-12-04T15:11:21.210Z"
   },
   {
    "duration": 4,
    "start_time": "2022-12-04T15:11:21.973Z"
   },
   {
    "duration": 2,
    "start_time": "2022-12-04T15:21:57.987Z"
   },
   {
    "duration": 4,
    "start_time": "2022-12-04T15:22:02.861Z"
   },
   {
    "duration": 3,
    "start_time": "2022-12-04T15:22:52.488Z"
   },
   {
    "duration": 4,
    "start_time": "2022-12-04T15:22:53.030Z"
   },
   {
    "duration": 47,
    "start_time": "2022-12-04T15:25:52.991Z"
   },
   {
    "duration": 4,
    "start_time": "2022-12-04T15:29:42.496Z"
   },
   {
    "duration": 3,
    "start_time": "2022-12-04T15:29:59.709Z"
   },
   {
    "duration": 7,
    "start_time": "2022-12-04T15:30:57.086Z"
   },
   {
    "duration": 29,
    "start_time": "2022-12-04T15:31:08.011Z"
   },
   {
    "duration": 8,
    "start_time": "2022-12-04T15:31:10.351Z"
   },
   {
    "duration": 4,
    "start_time": "2022-12-04T15:31:18.519Z"
   },
   {
    "duration": 7,
    "start_time": "2022-12-04T15:31:39.922Z"
   },
   {
    "duration": 2,
    "start_time": "2022-12-04T15:32:17.000Z"
   },
   {
    "duration": 251,
    "start_time": "2022-12-04T15:49:41.915Z"
   },
   {
    "duration": 4,
    "start_time": "2022-12-04T15:49:42.347Z"
   },
   {
    "duration": 2,
    "start_time": "2022-12-04T15:49:51.244Z"
   },
   {
    "duration": 202,
    "start_time": "2022-12-04T15:50:09.052Z"
   },
   {
    "duration": 708,
    "start_time": "2022-12-04T15:57:35.009Z"
   },
   {
    "duration": 4,
    "start_time": "2022-12-04T15:57:53.029Z"
   },
   {
    "duration": 3,
    "start_time": "2022-12-04T15:58:18.417Z"
   },
   {
    "duration": 203,
    "start_time": "2022-12-04T15:58:35.110Z"
   },
   {
    "duration": 2,
    "start_time": "2022-12-04T15:58:46.288Z"
   },
   {
    "duration": 8,
    "start_time": "2022-12-04T15:58:48.060Z"
   },
   {
    "duration": 2,
    "start_time": "2022-12-04T15:59:00.957Z"
   },
   {
    "duration": 5,
    "start_time": "2022-12-04T15:59:01.670Z"
   },
   {
    "duration": 3,
    "start_time": "2022-12-04T15:59:08.888Z"
   },
   {
    "duration": 8,
    "start_time": "2022-12-04T15:59:09.485Z"
   },
   {
    "duration": 4,
    "start_time": "2022-12-04T15:59:10.229Z"
   },
   {
    "duration": 4,
    "start_time": "2022-12-04T15:59:16.479Z"
   },
   {
    "duration": 3,
    "start_time": "2022-12-04T15:59:19.191Z"
   },
   {
    "duration": 4,
    "start_time": "2022-12-04T15:59:19.737Z"
   },
   {
    "duration": 2,
    "start_time": "2022-12-04T15:59:21.581Z"
   },
   {
    "duration": 5,
    "start_time": "2022-12-04T15:59:22.003Z"
   },
   {
    "duration": 3,
    "start_time": "2022-12-04T15:59:25.025Z"
   },
   {
    "duration": 4,
    "start_time": "2022-12-04T15:59:25.426Z"
   },
   {
    "duration": 3,
    "start_time": "2022-12-04T15:59:25.930Z"
   },
   {
    "duration": 5,
    "start_time": "2022-12-04T15:59:26.574Z"
   },
   {
    "duration": 713,
    "start_time": "2022-12-04T16:01:08.449Z"
   },
   {
    "duration": 3,
    "start_time": "2022-12-04T16:02:56.154Z"
   },
   {
    "duration": 164,
    "start_time": "2022-12-04T16:02:57.248Z"
   },
   {
    "duration": 2,
    "start_time": "2022-12-04T16:03:22.047Z"
   },
   {
    "duration": 91,
    "start_time": "2022-12-04T16:03:28.108Z"
   },
   {
    "duration": 6,
    "start_time": "2022-12-04T16:03:49.765Z"
   },
   {
    "duration": 7,
    "start_time": "2022-12-04T16:07:26.530Z"
   },
   {
    "duration": 3,
    "start_time": "2022-12-04T16:08:31.361Z"
   },
   {
    "duration": 9,
    "start_time": "2022-12-04T16:08:31.943Z"
   },
   {
    "duration": 7,
    "start_time": "2022-12-04T16:08:32.820Z"
   },
   {
    "duration": 46,
    "start_time": "2022-12-04T16:09:34.001Z"
   },
   {
    "duration": 4,
    "start_time": "2022-12-04T16:09:43.763Z"
   },
   {
    "duration": 4,
    "start_time": "2022-12-04T16:10:06.000Z"
   },
   {
    "duration": 3,
    "start_time": "2022-12-04T16:10:38.638Z"
   },
   {
    "duration": 4,
    "start_time": "2022-12-04T16:10:38.954Z"
   },
   {
    "duration": 3,
    "start_time": "2022-12-04T16:10:40.000Z"
   },
   {
    "duration": 4,
    "start_time": "2022-12-04T16:10:40.454Z"
   },
   {
    "duration": 2,
    "start_time": "2022-12-04T16:10:43.179Z"
   },
   {
    "duration": 6,
    "start_time": "2022-12-04T16:10:43.870Z"
   },
   {
    "duration": 7,
    "start_time": "2022-12-04T16:10:44.910Z"
   },
   {
    "duration": 5,
    "start_time": "2022-12-04T16:11:31.663Z"
   },
   {
    "duration": 9,
    "start_time": "2022-12-04T16:12:14.890Z"
   },
   {
    "duration": 3,
    "start_time": "2022-12-04T16:12:34.078Z"
   },
   {
    "duration": 3,
    "start_time": "2022-12-04T16:13:50.663Z"
   },
   {
    "duration": 3,
    "start_time": "2022-12-04T16:14:45.390Z"
   },
   {
    "duration": 4,
    "start_time": "2022-12-04T16:14:45.698Z"
   },
   {
    "duration": 19,
    "start_time": "2022-12-04T16:14:48.361Z"
   },
   {
    "duration": 3,
    "start_time": "2022-12-04T16:15:06.172Z"
   },
   {
    "duration": 10,
    "start_time": "2022-12-04T16:15:24.500Z"
   },
   {
    "duration": 71,
    "start_time": "2022-12-04T16:23:42.205Z"
   },
   {
    "duration": 53,
    "start_time": "2022-12-04T16:23:53.411Z"
   },
   {
    "duration": 5,
    "start_time": "2022-12-04T16:24:43.047Z"
   },
   {
    "duration": 9,
    "start_time": "2022-12-04T16:24:58.409Z"
   },
   {
    "duration": 3,
    "start_time": "2022-12-04T16:25:04.626Z"
   },
   {
    "duration": 3,
    "start_time": "2022-12-04T16:25:06.696Z"
   },
   {
    "duration": 4,
    "start_time": "2022-12-04T16:25:20.175Z"
   },
   {
    "duration": 9,
    "start_time": "2022-12-04T16:25:51.010Z"
   },
   {
    "duration": 5,
    "start_time": "2022-12-04T16:26:34.941Z"
   },
   {
    "duration": 5,
    "start_time": "2022-12-04T16:27:02.300Z"
   },
   {
    "duration": 14,
    "start_time": "2022-12-04T16:27:19.933Z"
   },
   {
    "duration": 9,
    "start_time": "2022-12-04T16:29:58.604Z"
   },
   {
    "duration": 2,
    "start_time": "2022-12-04T16:30:01.312Z"
   },
   {
    "duration": 16,
    "start_time": "2022-12-04T16:30:01.678Z"
   },
   {
    "duration": 14,
    "start_time": "2022-12-04T16:31:16.264Z"
   },
   {
    "duration": 8,
    "start_time": "2022-12-04T16:32:41.865Z"
   },
   {
    "duration": 3,
    "start_time": "2022-12-04T16:32:44.761Z"
   },
   {
    "duration": 15,
    "start_time": "2022-12-04T16:32:46.627Z"
   },
   {
    "duration": 4,
    "start_time": "2022-12-04T16:33:10.014Z"
   },
   {
    "duration": 5,
    "start_time": "2022-12-04T16:33:14.537Z"
   },
   {
    "duration": 12,
    "start_time": "2022-12-04T16:33:20.859Z"
   },
   {
    "duration": 5,
    "start_time": "2022-12-04T16:33:37.512Z"
   },
   {
    "duration": 4,
    "start_time": "2022-12-04T16:33:38.169Z"
   },
   {
    "duration": 11,
    "start_time": "2022-12-04T16:33:38.901Z"
   },
   {
    "duration": 8,
    "start_time": "2022-12-04T16:42:10.331Z"
   },
   {
    "duration": 8,
    "start_time": "2022-12-04T16:42:12.810Z"
   },
   {
    "duration": 28,
    "start_time": "2022-12-04T16:42:17.588Z"
   },
   {
    "duration": 13,
    "start_time": "2022-12-04T16:42:28.648Z"
   },
   {
    "duration": 2,
    "start_time": "2022-12-04T16:42:33.665Z"
   },
   {
    "duration": 194,
    "start_time": "2022-12-04T16:42:34.422Z"
   },
   {
    "duration": 209,
    "start_time": "2022-12-04T16:43:35.585Z"
   },
   {
    "duration": 8,
    "start_time": "2022-12-04T16:44:59.639Z"
   },
   {
    "duration": 1878,
    "start_time": "2022-12-04T16:45:12.912Z"
   },
   {
    "duration": 197,
    "start_time": "2022-12-04T16:45:21.683Z"
   },
   {
    "duration": 2043,
    "start_time": "2022-12-04T16:45:23.870Z"
   },
   {
    "duration": 181,
    "start_time": "2022-12-04T16:46:01.739Z"
   },
   {
    "duration": 1891,
    "start_time": "2022-12-04T16:46:02.533Z"
   },
   {
    "duration": 1047,
    "start_time": "2022-12-04T16:49:29.831Z"
   },
   {
    "duration": 3,
    "start_time": "2022-12-04T16:49:30.880Z"
   },
   {
    "duration": 14,
    "start_time": "2022-12-04T16:49:30.884Z"
   },
   {
    "duration": 47,
    "start_time": "2022-12-04T16:49:30.900Z"
   },
   {
    "duration": 17,
    "start_time": "2022-12-04T16:49:30.949Z"
   },
   {
    "duration": 12,
    "start_time": "2022-12-04T16:49:30.968Z"
   },
   {
    "duration": 9,
    "start_time": "2022-12-04T16:49:30.982Z"
   },
   {
    "duration": 20,
    "start_time": "2022-12-04T16:49:30.992Z"
   },
   {
    "duration": 16,
    "start_time": "2022-12-04T16:49:31.014Z"
   },
   {
    "duration": 13,
    "start_time": "2022-12-04T16:49:31.031Z"
   },
   {
    "duration": 24,
    "start_time": "2022-12-04T16:49:31.045Z"
   },
   {
    "duration": 22,
    "start_time": "2022-12-04T16:49:31.070Z"
   },
   {
    "duration": 16,
    "start_time": "2022-12-04T16:49:31.094Z"
   },
   {
    "duration": 705,
    "start_time": "2022-12-04T16:49:31.112Z"
   },
   {
    "duration": 4,
    "start_time": "2022-12-04T16:49:31.819Z"
   },
   {
    "duration": 37,
    "start_time": "2022-12-04T16:49:31.824Z"
   },
   {
    "duration": 7,
    "start_time": "2022-12-04T16:49:31.862Z"
   },
   {
    "duration": 11,
    "start_time": "2022-12-04T16:49:31.870Z"
   },
   {
    "duration": 7,
    "start_time": "2022-12-04T16:49:31.882Z"
   },
   {
    "duration": 9,
    "start_time": "2022-12-04T16:49:31.890Z"
   },
   {
    "duration": 6,
    "start_time": "2022-12-04T16:49:31.901Z"
   },
   {
    "duration": 7,
    "start_time": "2022-12-04T16:49:31.909Z"
   },
   {
    "duration": 7,
    "start_time": "2022-12-04T16:49:31.918Z"
   },
   {
    "duration": 81,
    "start_time": "2022-12-04T16:49:31.926Z"
   },
   {
    "duration": 193,
    "start_time": "2022-12-04T16:49:32.009Z"
   },
   {
    "duration": 6,
    "start_time": "2022-12-04T16:49:32.203Z"
   },
   {
    "duration": 4,
    "start_time": "2022-12-04T16:49:32.299Z"
   },
   {
    "duration": 94,
    "start_time": "2022-12-04T16:49:32.305Z"
   },
   {
    "duration": 17,
    "start_time": "2022-12-04T16:49:32.400Z"
   },
   {
    "duration": 7,
    "start_time": "2022-12-04T16:49:32.418Z"
   },
   {
    "duration": 12,
    "start_time": "2022-12-04T16:49:32.426Z"
   },
   {
    "duration": 3,
    "start_time": "2022-12-04T21:43:01.362Z"
   },
   {
    "duration": 3,
    "start_time": "2022-12-04T21:58:16.783Z"
   },
   {
    "duration": 106,
    "start_time": "2022-12-04T21:59:12.500Z"
   },
   {
    "duration": 8,
    "start_time": "2022-12-04T21:59:48.920Z"
   },
   {
    "duration": 9,
    "start_time": "2022-12-04T21:59:52.232Z"
   },
   {
    "duration": 15,
    "start_time": "2022-12-04T22:00:31.009Z"
   },
   {
    "duration": 11,
    "start_time": "2022-12-04T22:00:38.792Z"
   },
   {
    "duration": 4,
    "start_time": "2022-12-04T22:00:57.735Z"
   },
   {
    "duration": 9,
    "start_time": "2022-12-04T22:01:00.760Z"
   },
   {
    "duration": 4,
    "start_time": "2022-12-04T22:01:03.096Z"
   },
   {
    "duration": 11,
    "start_time": "2022-12-04T22:01:04.955Z"
   },
   {
    "duration": 12,
    "start_time": "2022-12-04T22:01:11.118Z"
   },
   {
    "duration": 8,
    "start_time": "2022-12-04T22:01:15.182Z"
   },
   {
    "duration": 2,
    "start_time": "2022-12-04T22:05:05.904Z"
   },
   {
    "duration": 7,
    "start_time": "2022-12-04T22:05:12.326Z"
   },
   {
    "duration": 1002,
    "start_time": "2022-12-04T22:05:49.028Z"
   },
   {
    "duration": 3,
    "start_time": "2022-12-04T22:05:50.032Z"
   },
   {
    "duration": 16,
    "start_time": "2022-12-04T22:05:50.036Z"
   },
   {
    "duration": 9,
    "start_time": "2022-12-04T22:05:50.054Z"
   },
   {
    "duration": 36,
    "start_time": "2022-12-04T22:05:50.065Z"
   },
   {
    "duration": 20,
    "start_time": "2022-12-04T22:05:50.103Z"
   },
   {
    "duration": 9,
    "start_time": "2022-12-04T22:05:50.124Z"
   },
   {
    "duration": 7,
    "start_time": "2022-12-04T22:05:50.135Z"
   },
   {
    "duration": 8,
    "start_time": "2022-12-04T22:05:50.143Z"
   },
   {
    "duration": 6,
    "start_time": "2022-12-04T22:05:50.152Z"
   },
   {
    "duration": 7,
    "start_time": "2022-12-04T22:05:50.159Z"
   },
   {
    "duration": 9,
    "start_time": "2022-12-04T22:05:50.167Z"
   },
   {
    "duration": 22,
    "start_time": "2022-12-04T22:05:50.177Z"
   },
   {
    "duration": 4,
    "start_time": "2022-12-04T22:05:50.202Z"
   },
   {
    "duration": 681,
    "start_time": "2022-12-04T22:05:50.208Z"
   },
   {
    "duration": 7,
    "start_time": "2022-12-04T22:05:50.891Z"
   },
   {
    "duration": 6,
    "start_time": "2022-12-04T22:05:50.899Z"
   },
   {
    "duration": 6,
    "start_time": "2022-12-04T22:05:50.906Z"
   },
   {
    "duration": 5,
    "start_time": "2022-12-04T22:05:50.913Z"
   },
   {
    "duration": 11,
    "start_time": "2022-12-04T22:05:50.919Z"
   },
   {
    "duration": 7,
    "start_time": "2022-12-04T22:05:50.931Z"
   },
   {
    "duration": 4,
    "start_time": "2022-12-04T22:05:50.940Z"
   },
   {
    "duration": 53,
    "start_time": "2022-12-04T22:05:50.946Z"
   },
   {
    "duration": 3,
    "start_time": "2022-12-04T22:05:51.000Z"
   },
   {
    "duration": 95,
    "start_time": "2022-12-04T22:05:51.006Z"
   },
   {
    "duration": 102,
    "start_time": "2022-12-04T22:05:51.102Z"
   },
   {
    "duration": 93,
    "start_time": "2022-12-04T22:05:51.206Z"
   },
   {
    "duration": 101,
    "start_time": "2022-12-04T22:05:51.302Z"
   },
   {
    "duration": 15,
    "start_time": "2022-12-04T22:05:51.405Z"
   },
   {
    "duration": 19,
    "start_time": "2022-12-04T22:05:51.421Z"
   },
   {
    "duration": 101,
    "start_time": "2022-12-04T22:05:51.442Z"
   },
   {
    "duration": 0,
    "start_time": "2022-12-04T22:05:51.545Z"
   },
   {
    "duration": 0,
    "start_time": "2022-12-04T22:05:51.546Z"
   },
   {
    "duration": 0,
    "start_time": "2022-12-04T22:05:51.547Z"
   },
   {
    "duration": 0,
    "start_time": "2022-12-04T22:05:51.548Z"
   },
   {
    "duration": 0,
    "start_time": "2022-12-04T22:05:51.549Z"
   },
   {
    "duration": 0,
    "start_time": "2022-12-04T22:05:51.550Z"
   },
   {
    "duration": 4,
    "start_time": "2022-12-04T22:06:07.164Z"
   },
   {
    "duration": 2,
    "start_time": "2022-12-04T22:06:07.842Z"
   },
   {
    "duration": 3,
    "start_time": "2022-12-04T22:06:08.101Z"
   },
   {
    "duration": 12,
    "start_time": "2022-12-04T22:06:08.295Z"
   },
   {
    "duration": 8,
    "start_time": "2022-12-04T22:06:08.764Z"
   },
   {
    "duration": 6,
    "start_time": "2022-12-04T22:06:09.010Z"
   },
   {
    "duration": 11,
    "start_time": "2022-12-04T22:06:10.179Z"
   },
   {
    "duration": 3,
    "start_time": "2022-12-04T22:06:11.048Z"
   },
   {
    "duration": 7,
    "start_time": "2022-12-04T22:06:11.757Z"
   },
   {
    "duration": 4,
    "start_time": "2022-12-04T22:09:14.243Z"
   },
   {
    "duration": 1032,
    "start_time": "2022-12-04T22:15:21.499Z"
   },
   {
    "duration": 2,
    "start_time": "2022-12-04T22:15:22.533Z"
   },
   {
    "duration": 12,
    "start_time": "2022-12-04T22:15:22.537Z"
   },
   {
    "duration": 11,
    "start_time": "2022-12-04T22:15:22.550Z"
   },
   {
    "duration": 30,
    "start_time": "2022-12-04T22:15:22.562Z"
   },
   {
    "duration": 16,
    "start_time": "2022-12-04T22:15:22.594Z"
   },
   {
    "duration": 9,
    "start_time": "2022-12-04T22:15:22.612Z"
   },
   {
    "duration": 3,
    "start_time": "2022-12-04T22:15:22.622Z"
   },
   {
    "duration": 6,
    "start_time": "2022-12-04T22:15:22.626Z"
   },
   {
    "duration": 5,
    "start_time": "2022-12-04T22:15:22.634Z"
   },
   {
    "duration": 6,
    "start_time": "2022-12-04T22:15:22.640Z"
   },
   {
    "duration": 6,
    "start_time": "2022-12-04T22:15:22.647Z"
   },
   {
    "duration": 7,
    "start_time": "2022-12-04T22:15:22.654Z"
   },
   {
    "duration": 38,
    "start_time": "2022-12-04T22:15:22.663Z"
   },
   {
    "duration": 670,
    "start_time": "2022-12-04T22:15:22.702Z"
   },
   {
    "duration": 3,
    "start_time": "2022-12-04T22:15:23.374Z"
   },
   {
    "duration": 8,
    "start_time": "2022-12-04T22:15:23.379Z"
   },
   {
    "duration": 4,
    "start_time": "2022-12-04T22:15:23.396Z"
   },
   {
    "duration": 4,
    "start_time": "2022-12-04T22:15:23.401Z"
   },
   {
    "duration": 12,
    "start_time": "2022-12-04T22:15:23.406Z"
   },
   {
    "duration": 12,
    "start_time": "2022-12-04T22:15:23.419Z"
   },
   {
    "duration": 9,
    "start_time": "2022-12-04T22:15:23.432Z"
   },
   {
    "duration": 8,
    "start_time": "2022-12-04T22:15:23.443Z"
   },
   {
    "duration": 3,
    "start_time": "2022-12-04T22:15:23.499Z"
   },
   {
    "duration": 95,
    "start_time": "2022-12-04T22:15:23.504Z"
   },
   {
    "duration": 106,
    "start_time": "2022-12-04T22:15:23.600Z"
   },
   {
    "duration": 98,
    "start_time": "2022-12-04T22:15:23.708Z"
   },
   {
    "duration": 4,
    "start_time": "2022-12-04T22:15:23.899Z"
   },
   {
    "duration": 4,
    "start_time": "2022-12-04T22:15:23.905Z"
   },
   {
    "duration": 5,
    "start_time": "2022-12-04T22:15:23.911Z"
   },
   {
    "duration": 14,
    "start_time": "2022-12-04T22:15:23.918Z"
   },
   {
    "duration": 11,
    "start_time": "2022-12-04T22:15:23.934Z"
   },
   {
    "duration": 17,
    "start_time": "2022-12-04T22:15:23.947Z"
   },
   {
    "duration": 5,
    "start_time": "2022-12-04T22:15:23.965Z"
   },
   {
    "duration": 27,
    "start_time": "2022-12-04T22:15:23.971Z"
   },
   {
    "duration": 989,
    "start_time": "2022-12-04T22:16:23.154Z"
   },
   {
    "duration": 2,
    "start_time": "2022-12-04T22:16:24.145Z"
   },
   {
    "duration": 8,
    "start_time": "2022-12-04T22:16:24.148Z"
   },
   {
    "duration": 5,
    "start_time": "2022-12-04T22:16:24.158Z"
   },
   {
    "duration": 31,
    "start_time": "2022-12-04T22:16:24.165Z"
   },
   {
    "duration": 18,
    "start_time": "2022-12-04T22:16:24.197Z"
   },
   {
    "duration": 10,
    "start_time": "2022-12-04T22:16:24.216Z"
   },
   {
    "duration": 3,
    "start_time": "2022-12-04T22:16:24.227Z"
   },
   {
    "duration": 9,
    "start_time": "2022-12-04T22:16:24.232Z"
   },
   {
    "duration": 8,
    "start_time": "2022-12-04T22:16:24.243Z"
   },
   {
    "duration": 8,
    "start_time": "2022-12-04T22:16:24.252Z"
   },
   {
    "duration": 16,
    "start_time": "2022-12-04T22:16:24.262Z"
   },
   {
    "duration": 18,
    "start_time": "2022-12-04T22:16:24.279Z"
   },
   {
    "duration": 5,
    "start_time": "2022-12-04T22:16:24.299Z"
   },
   {
    "duration": 727,
    "start_time": "2022-12-04T22:16:24.305Z"
   },
   {
    "duration": 3,
    "start_time": "2022-12-04T22:16:25.034Z"
   },
   {
    "duration": 21,
    "start_time": "2022-12-04T22:16:25.039Z"
   },
   {
    "duration": 8,
    "start_time": "2022-12-04T22:16:25.062Z"
   },
   {
    "duration": 8,
    "start_time": "2022-12-04T22:16:25.071Z"
   },
   {
    "duration": 11,
    "start_time": "2022-12-04T22:16:25.080Z"
   },
   {
    "duration": 7,
    "start_time": "2022-12-04T22:16:25.093Z"
   },
   {
    "duration": 6,
    "start_time": "2022-12-04T22:16:25.101Z"
   },
   {
    "duration": 13,
    "start_time": "2022-12-04T22:16:25.108Z"
   },
   {
    "duration": 7,
    "start_time": "2022-12-04T22:16:25.122Z"
   },
   {
    "duration": 99,
    "start_time": "2022-12-04T22:16:25.198Z"
   },
   {
    "duration": 105,
    "start_time": "2022-12-04T22:16:25.299Z"
   },
   {
    "duration": 96,
    "start_time": "2022-12-04T22:16:25.406Z"
   },
   {
    "duration": 102,
    "start_time": "2022-12-04T22:16:25.505Z"
   },
   {
    "duration": 6,
    "start_time": "2022-12-04T22:16:25.609Z"
   },
   {
    "duration": 10,
    "start_time": "2022-12-04T22:16:25.616Z"
   },
   {
    "duration": 24,
    "start_time": "2022-12-04T22:16:25.628Z"
   },
   {
    "duration": 10,
    "start_time": "2022-12-04T22:16:25.654Z"
   },
   {
    "duration": 24,
    "start_time": "2022-12-04T22:16:25.666Z"
   },
   {
    "duration": 7,
    "start_time": "2022-12-04T22:16:25.692Z"
   },
   {
    "duration": 17,
    "start_time": "2022-12-04T22:16:25.700Z"
   },
   {
    "duration": 46,
    "start_time": "2022-12-04T22:17:39.282Z"
   },
   {
    "duration": 1002,
    "start_time": "2022-12-04T22:24:37.865Z"
   },
   {
    "duration": 3,
    "start_time": "2022-12-04T22:24:38.871Z"
   },
   {
    "duration": 16,
    "start_time": "2022-12-04T22:24:38.876Z"
   },
   {
    "duration": 23,
    "start_time": "2022-12-04T22:24:38.893Z"
   },
   {
    "duration": 33,
    "start_time": "2022-12-04T22:24:38.917Z"
   },
   {
    "duration": 18,
    "start_time": "2022-12-04T22:24:38.951Z"
   },
   {
    "duration": 11,
    "start_time": "2022-12-04T22:24:38.970Z"
   },
   {
    "duration": 5,
    "start_time": "2022-12-04T22:24:38.982Z"
   },
   {
    "duration": 13,
    "start_time": "2022-12-04T22:24:38.989Z"
   },
   {
    "duration": 6,
    "start_time": "2022-12-04T22:24:39.004Z"
   },
   {
    "duration": 9,
    "start_time": "2022-12-04T22:24:39.012Z"
   },
   {
    "duration": 7,
    "start_time": "2022-12-04T22:24:39.022Z"
   },
   {
    "duration": 8,
    "start_time": "2022-12-04T22:24:39.030Z"
   },
   {
    "duration": 8,
    "start_time": "2022-12-04T22:24:39.040Z"
   },
   {
    "duration": 700,
    "start_time": "2022-12-04T22:24:39.049Z"
   },
   {
    "duration": 4,
    "start_time": "2022-12-04T22:24:39.751Z"
   },
   {
    "duration": 6,
    "start_time": "2022-12-04T22:24:39.756Z"
   },
   {
    "duration": 5,
    "start_time": "2022-12-04T22:24:39.763Z"
   },
   {
    "duration": 5,
    "start_time": "2022-12-04T22:24:39.770Z"
   },
   {
    "duration": 6,
    "start_time": "2022-12-04T22:24:39.776Z"
   },
   {
    "duration": 15,
    "start_time": "2022-12-04T22:24:39.783Z"
   },
   {
    "duration": 3,
    "start_time": "2022-12-04T22:24:39.799Z"
   },
   {
    "duration": 13,
    "start_time": "2022-12-04T22:24:39.804Z"
   },
   {
    "duration": 79,
    "start_time": "2022-12-04T22:24:39.819Z"
   },
   {
    "duration": 97,
    "start_time": "2022-12-04T22:24:39.900Z"
   },
   {
    "duration": 107,
    "start_time": "2022-12-04T22:24:40.000Z"
   },
   {
    "duration": 187,
    "start_time": "2022-12-04T22:24:40.111Z"
   },
   {
    "duration": 8,
    "start_time": "2022-12-04T22:24:40.300Z"
   },
   {
    "duration": 8,
    "start_time": "2022-12-04T22:24:40.309Z"
   },
   {
    "duration": 9,
    "start_time": "2022-12-04T22:24:40.318Z"
   },
   {
    "duration": 17,
    "start_time": "2022-12-04T22:24:40.329Z"
   },
   {
    "duration": 8,
    "start_time": "2022-12-04T22:24:40.348Z"
   },
   {
    "duration": 14,
    "start_time": "2022-12-04T22:24:40.358Z"
   },
   {
    "duration": 12,
    "start_time": "2022-12-04T22:24:40.373Z"
   },
   {
    "duration": 1017,
    "start_time": "2022-12-04T22:27:29.132Z"
   },
   {
    "duration": 3,
    "start_time": "2022-12-04T22:27:30.151Z"
   },
   {
    "duration": 40,
    "start_time": "2022-12-04T22:27:30.155Z"
   },
   {
    "duration": 8,
    "start_time": "2022-12-04T22:27:30.197Z"
   },
   {
    "duration": 39,
    "start_time": "2022-12-04T22:27:30.207Z"
   },
   {
    "duration": 18,
    "start_time": "2022-12-04T22:27:30.247Z"
   },
   {
    "duration": 10,
    "start_time": "2022-12-04T22:27:30.266Z"
   },
   {
    "duration": 11,
    "start_time": "2022-12-04T22:27:30.277Z"
   },
   {
    "duration": 15,
    "start_time": "2022-12-04T22:27:30.289Z"
   },
   {
    "duration": 12,
    "start_time": "2022-12-04T22:27:30.306Z"
   },
   {
    "duration": 14,
    "start_time": "2022-12-04T22:27:30.320Z"
   },
   {
    "duration": 9,
    "start_time": "2022-12-04T22:27:30.336Z"
   },
   {
    "duration": 16,
    "start_time": "2022-12-04T22:27:30.346Z"
   },
   {
    "duration": 24,
    "start_time": "2022-12-04T22:27:30.363Z"
   },
   {
    "duration": 760,
    "start_time": "2022-12-04T22:27:30.389Z"
   },
   {
    "duration": 4,
    "start_time": "2022-12-04T22:27:31.151Z"
   },
   {
    "duration": 14,
    "start_time": "2022-12-04T22:27:31.157Z"
   },
   {
    "duration": 10,
    "start_time": "2022-12-04T22:27:31.173Z"
   },
   {
    "duration": 16,
    "start_time": "2022-12-04T22:27:31.185Z"
   },
   {
    "duration": 17,
    "start_time": "2022-12-04T22:27:31.203Z"
   },
   {
    "duration": 28,
    "start_time": "2022-12-04T22:27:31.222Z"
   },
   {
    "duration": 31,
    "start_time": "2022-12-04T22:27:31.251Z"
   },
   {
    "duration": 28,
    "start_time": "2022-12-04T22:27:31.284Z"
   },
   {
    "duration": 83,
    "start_time": "2022-12-04T22:27:31.314Z"
   },
   {
    "duration": 31,
    "start_time": "2022-12-04T22:27:31.400Z"
   },
   {
    "duration": 99,
    "start_time": "2022-12-04T22:27:31.504Z"
   },
   {
    "duration": 93,
    "start_time": "2022-12-04T22:27:31.605Z"
   },
   {
    "duration": 95,
    "start_time": "2022-12-04T22:27:31.702Z"
   },
   {
    "duration": 4,
    "start_time": "2022-12-04T22:27:31.799Z"
   },
   {
    "duration": 15,
    "start_time": "2022-12-04T22:27:31.804Z"
   },
   {
    "duration": 9,
    "start_time": "2022-12-04T22:27:31.820Z"
   },
   {
    "duration": 16,
    "start_time": "2022-12-04T22:27:31.830Z"
   },
   {
    "duration": 5,
    "start_time": "2022-12-04T22:27:31.847Z"
   },
   {
    "duration": 13,
    "start_time": "2022-12-04T22:27:31.853Z"
   },
   {
    "duration": 1038,
    "start_time": "2022-12-04T23:02:24.411Z"
   },
   {
    "duration": 2,
    "start_time": "2022-12-04T23:02:25.451Z"
   },
   {
    "duration": 4,
    "start_time": "2022-12-04T23:02:25.457Z"
   },
   {
    "duration": 32,
    "start_time": "2022-12-04T23:02:25.462Z"
   },
   {
    "duration": 16,
    "start_time": "2022-12-04T23:02:25.496Z"
   },
   {
    "duration": 9,
    "start_time": "2022-12-04T23:02:25.514Z"
   },
   {
    "duration": 3,
    "start_time": "2022-12-04T23:02:25.524Z"
   },
   {
    "duration": 7,
    "start_time": "2022-12-04T23:02:25.529Z"
   },
   {
    "duration": 4,
    "start_time": "2022-12-04T23:02:25.538Z"
   },
   {
    "duration": 4,
    "start_time": "2022-12-04T23:02:25.544Z"
   },
   {
    "duration": 9,
    "start_time": "2022-12-04T23:02:25.550Z"
   },
   {
    "duration": 7,
    "start_time": "2022-12-04T23:02:25.560Z"
   },
   {
    "duration": 33,
    "start_time": "2022-12-04T23:02:25.568Z"
   },
   {
    "duration": 717,
    "start_time": "2022-12-04T23:02:25.602Z"
   },
   {
    "duration": 3,
    "start_time": "2022-12-04T23:02:26.321Z"
   },
   {
    "duration": 8,
    "start_time": "2022-12-04T23:02:26.326Z"
   },
   {
    "duration": 5,
    "start_time": "2022-12-04T23:02:26.335Z"
   },
   {
    "duration": 13,
    "start_time": "2022-12-04T23:02:26.342Z"
   },
   {
    "duration": 5,
    "start_time": "2022-12-04T23:02:26.356Z"
   },
   {
    "duration": 6,
    "start_time": "2022-12-04T23:02:26.363Z"
   },
   {
    "duration": 5,
    "start_time": "2022-12-04T23:02:26.370Z"
   },
   {
    "duration": 23,
    "start_time": "2022-12-04T23:02:26.377Z"
   },
   {
    "duration": 5,
    "start_time": "2022-12-04T23:02:26.402Z"
   },
   {
    "duration": 90,
    "start_time": "2022-12-04T23:02:26.409Z"
   },
   {
    "duration": 105,
    "start_time": "2022-12-04T23:02:26.500Z"
   },
   {
    "duration": 92,
    "start_time": "2022-12-04T23:02:26.607Z"
   },
   {
    "duration": 98,
    "start_time": "2022-12-04T23:02:26.705Z"
   },
   {
    "duration": 8,
    "start_time": "2022-12-04T23:02:26.805Z"
   },
   {
    "duration": 14,
    "start_time": "2022-12-04T23:02:26.814Z"
   },
   {
    "duration": 7,
    "start_time": "2022-12-04T23:02:26.829Z"
   },
   {
    "duration": 14,
    "start_time": "2022-12-04T23:02:26.838Z"
   },
   {
    "duration": 5,
    "start_time": "2022-12-04T23:02:26.854Z"
   },
   {
    "duration": 9,
    "start_time": "2022-12-04T23:02:26.861Z"
   },
   {
    "duration": 974,
    "start_time": "2022-12-04T23:02:42.246Z"
   },
   {
    "duration": 2,
    "start_time": "2022-12-04T23:02:43.222Z"
   },
   {
    "duration": 6,
    "start_time": "2022-12-04T23:02:43.226Z"
   },
   {
    "duration": 32,
    "start_time": "2022-12-04T23:02:43.234Z"
   },
   {
    "duration": 18,
    "start_time": "2022-12-04T23:02:43.268Z"
   },
   {
    "duration": 11,
    "start_time": "2022-12-04T23:02:43.287Z"
   },
   {
    "duration": 4,
    "start_time": "2022-12-04T23:02:43.299Z"
   },
   {
    "duration": 6,
    "start_time": "2022-12-04T23:02:43.304Z"
   },
   {
    "duration": 5,
    "start_time": "2022-12-04T23:02:43.311Z"
   },
   {
    "duration": 4,
    "start_time": "2022-12-04T23:02:43.319Z"
   },
   {
    "duration": 5,
    "start_time": "2022-12-04T23:02:43.325Z"
   },
   {
    "duration": 6,
    "start_time": "2022-12-04T23:02:43.332Z"
   },
   {
    "duration": 9,
    "start_time": "2022-12-04T23:02:43.339Z"
   },
   {
    "duration": 733,
    "start_time": "2022-12-04T23:02:43.350Z"
   },
   {
    "duration": 15,
    "start_time": "2022-12-04T23:02:44.085Z"
   },
   {
    "duration": 6,
    "start_time": "2022-12-04T23:02:44.101Z"
   },
   {
    "duration": 8,
    "start_time": "2022-12-04T23:02:44.109Z"
   },
   {
    "duration": 6,
    "start_time": "2022-12-04T23:02:44.118Z"
   },
   {
    "duration": 10,
    "start_time": "2022-12-04T23:02:44.126Z"
   },
   {
    "duration": 6,
    "start_time": "2022-12-04T23:02:44.138Z"
   },
   {
    "duration": 6,
    "start_time": "2022-12-04T23:02:44.145Z"
   },
   {
    "duration": 45,
    "start_time": "2022-12-04T23:02:44.153Z"
   },
   {
    "duration": 3,
    "start_time": "2022-12-04T23:02:44.200Z"
   },
   {
    "duration": 97,
    "start_time": "2022-12-04T23:02:44.204Z"
   },
   {
    "duration": 104,
    "start_time": "2022-12-04T23:02:44.303Z"
   },
   {
    "duration": 96,
    "start_time": "2022-12-04T23:02:44.409Z"
   },
   {
    "duration": 89,
    "start_time": "2022-12-04T23:02:44.510Z"
   },
   {
    "duration": 9,
    "start_time": "2022-12-04T23:02:44.602Z"
   },
   {
    "duration": 22,
    "start_time": "2022-12-04T23:02:44.613Z"
   },
   {
    "duration": 12,
    "start_time": "2022-12-04T23:02:44.637Z"
   },
   {
    "duration": 22,
    "start_time": "2022-12-04T23:02:44.650Z"
   },
   {
    "duration": 6,
    "start_time": "2022-12-04T23:02:44.673Z"
   },
   {
    "duration": 9,
    "start_time": "2022-12-04T23:02:44.680Z"
   },
   {
    "duration": 986,
    "start_time": "2022-12-04T23:07:10.642Z"
   },
   {
    "duration": 3,
    "start_time": "2022-12-04T23:07:11.630Z"
   },
   {
    "duration": 11,
    "start_time": "2022-12-04T23:07:11.634Z"
   },
   {
    "duration": 34,
    "start_time": "2022-12-04T23:07:11.647Z"
   },
   {
    "duration": 17,
    "start_time": "2022-12-04T23:07:11.682Z"
   },
   {
    "duration": 9,
    "start_time": "2022-12-04T23:07:11.701Z"
   },
   {
    "duration": 9,
    "start_time": "2022-12-04T23:07:11.711Z"
   },
   {
    "duration": 8,
    "start_time": "2022-12-04T23:07:11.722Z"
   },
   {
    "duration": 5,
    "start_time": "2022-12-04T23:07:11.731Z"
   },
   {
    "duration": 4,
    "start_time": "2022-12-04T23:07:11.739Z"
   },
   {
    "duration": 8,
    "start_time": "2022-12-04T23:07:11.745Z"
   },
   {
    "duration": 12,
    "start_time": "2022-12-04T23:07:11.754Z"
   },
   {
    "duration": 6,
    "start_time": "2022-12-04T23:07:11.767Z"
   },
   {
    "duration": 694,
    "start_time": "2022-12-04T23:07:11.775Z"
   },
   {
    "duration": 4,
    "start_time": "2022-12-04T23:07:12.471Z"
   },
   {
    "duration": 6,
    "start_time": "2022-12-04T23:07:12.477Z"
   },
   {
    "duration": 13,
    "start_time": "2022-12-04T23:07:12.485Z"
   },
   {
    "duration": 6,
    "start_time": "2022-12-04T23:07:12.499Z"
   },
   {
    "duration": 5,
    "start_time": "2022-12-04T23:07:12.506Z"
   },
   {
    "duration": 6,
    "start_time": "2022-12-04T23:07:12.513Z"
   },
   {
    "duration": 6,
    "start_time": "2022-12-04T23:07:12.520Z"
   },
   {
    "duration": 9,
    "start_time": "2022-12-04T23:07:12.528Z"
   },
   {
    "duration": 59,
    "start_time": "2022-12-04T23:07:12.539Z"
   },
   {
    "duration": 97,
    "start_time": "2022-12-04T23:07:12.600Z"
   },
   {
    "duration": 102,
    "start_time": "2022-12-04T23:07:12.699Z"
   },
   {
    "duration": 99,
    "start_time": "2022-12-04T23:07:12.803Z"
   },
   {
    "duration": 5,
    "start_time": "2022-12-04T23:07:12.904Z"
   },
   {
    "duration": 16,
    "start_time": "2022-12-04T23:07:12.913Z"
   },
   {
    "duration": 6,
    "start_time": "2022-12-04T23:07:12.997Z"
   },
   {
    "duration": 13,
    "start_time": "2022-12-04T23:07:13.004Z"
   },
   {
    "duration": 5,
    "start_time": "2022-12-04T23:07:13.019Z"
   },
   {
    "duration": 9,
    "start_time": "2022-12-04T23:07:13.026Z"
   },
   {
    "duration": 1438,
    "start_time": "2022-12-05T01:18:27.755Z"
   },
   {
    "duration": 3,
    "start_time": "2022-12-05T01:18:29.195Z"
   },
   {
    "duration": 9,
    "start_time": "2022-12-05T01:18:29.199Z"
   },
   {
    "duration": 76,
    "start_time": "2022-12-05T01:18:29.261Z"
   },
   {
    "duration": 19,
    "start_time": "2022-12-05T01:18:29.499Z"
   },
   {
    "duration": 12,
    "start_time": "2022-12-05T01:18:31.132Z"
   },
   {
    "duration": 4,
    "start_time": "2022-12-05T01:18:32.572Z"
   },
   {
    "duration": 6,
    "start_time": "2022-12-05T01:18:33.515Z"
   },
   {
    "duration": 7,
    "start_time": "2022-12-05T01:18:40.636Z"
   },
   {
    "duration": 9,
    "start_time": "2022-12-05T01:19:16.355Z"
   },
   {
    "duration": 14,
    "start_time": "2022-12-05T01:20:02.643Z"
   },
   {
    "duration": 1518,
    "start_time": "2022-12-05T01:20:25.281Z"
   },
   {
    "duration": 3,
    "start_time": "2022-12-05T01:20:26.801Z"
   },
   {
    "duration": 6,
    "start_time": "2022-12-05T01:20:26.806Z"
   },
   {
    "duration": 31,
    "start_time": "2022-12-05T01:20:26.814Z"
   },
   {
    "duration": 21,
    "start_time": "2022-12-05T01:20:27.242Z"
   },
   {
    "duration": 14,
    "start_time": "2022-12-05T01:20:27.394Z"
   },
   {
    "duration": 4,
    "start_time": "2022-12-05T01:20:29.474Z"
   },
   {
    "duration": 7,
    "start_time": "2022-12-05T01:20:29.656Z"
   },
   {
    "duration": 5,
    "start_time": "2022-12-05T01:20:30.186Z"
   },
   {
    "duration": 5,
    "start_time": "2022-12-05T01:20:30.394Z"
   },
   {
    "duration": 4,
    "start_time": "2022-12-05T01:20:52.530Z"
   },
   {
    "duration": 4,
    "start_time": "2022-12-05T01:22:39.360Z"
   },
   {
    "duration": 1441,
    "start_time": "2022-12-05T01:22:44.362Z"
   },
   {
    "duration": 2,
    "start_time": "2022-12-05T01:22:45.805Z"
   },
   {
    "duration": 8,
    "start_time": "2022-12-05T01:22:45.809Z"
   },
   {
    "duration": 32,
    "start_time": "2022-12-05T01:22:45.819Z"
   },
   {
    "duration": 18,
    "start_time": "2022-12-05T01:22:45.853Z"
   },
   {
    "duration": 11,
    "start_time": "2022-12-05T01:22:45.873Z"
   },
   {
    "duration": 12,
    "start_time": "2022-12-05T01:22:45.885Z"
   },
   {
    "duration": 13,
    "start_time": "2022-12-05T01:22:45.899Z"
   },
   {
    "duration": 9,
    "start_time": "2022-12-05T01:22:45.914Z"
   },
   {
    "duration": 5,
    "start_time": "2022-12-05T01:22:45.926Z"
   },
   {
    "duration": 8,
    "start_time": "2022-12-05T01:22:45.932Z"
   },
   {
    "duration": 8,
    "start_time": "2022-12-05T01:22:45.942Z"
   },
   {
    "duration": 6,
    "start_time": "2022-12-05T01:22:45.951Z"
   },
   {
    "duration": 1055,
    "start_time": "2022-12-05T01:22:45.958Z"
   },
   {
    "duration": 4,
    "start_time": "2022-12-05T01:22:47.015Z"
   },
   {
    "duration": 6,
    "start_time": "2022-12-05T01:22:47.021Z"
   },
   {
    "duration": 6,
    "start_time": "2022-12-05T01:22:47.028Z"
   },
   {
    "duration": 5,
    "start_time": "2022-12-05T01:22:47.035Z"
   },
   {
    "duration": 5,
    "start_time": "2022-12-05T01:22:47.042Z"
   },
   {
    "duration": 7,
    "start_time": "2022-12-05T01:22:47.049Z"
   },
   {
    "duration": 7,
    "start_time": "2022-12-05T01:22:47.058Z"
   },
   {
    "duration": 7,
    "start_time": "2022-12-05T01:22:47.113Z"
   },
   {
    "duration": 7,
    "start_time": "2022-12-05T01:22:47.211Z"
   },
   {
    "duration": 9,
    "start_time": "2022-12-05T01:22:47.220Z"
   },
   {
    "duration": 188,
    "start_time": "2022-12-05T01:22:47.231Z"
   },
   {
    "duration": 94,
    "start_time": "2022-12-05T01:22:47.421Z"
   },
   {
    "duration": 101,
    "start_time": "2022-12-05T01:22:47.516Z"
   },
   {
    "duration": 14,
    "start_time": "2022-12-05T01:22:47.620Z"
   },
   {
    "duration": 6,
    "start_time": "2022-12-05T01:22:47.636Z"
   },
   {
    "duration": 13,
    "start_time": "2022-12-05T01:22:47.643Z"
   },
   {
    "duration": 7,
    "start_time": "2022-12-05T01:22:47.657Z"
   },
   {
    "duration": 10,
    "start_time": "2022-12-05T01:22:47.665Z"
   },
   {
    "duration": 135,
    "start_time": "2022-12-05T09:19:32.707Z"
   },
   {
    "duration": 119,
    "start_time": "2022-12-05T09:20:52.352Z"
   },
   {
    "duration": 48,
    "start_time": "2022-12-05T09:33:53.097Z"
   },
   {
    "duration": 1573,
    "start_time": "2022-12-05T09:33:58.306Z"
   },
   {
    "duration": 4,
    "start_time": "2022-12-05T09:33:59.882Z"
   },
   {
    "duration": 35,
    "start_time": "2022-12-05T09:33:59.896Z"
   },
   {
    "duration": 201,
    "start_time": "2022-12-05T09:33:59.934Z"
   },
   {
    "duration": 40,
    "start_time": "2022-12-05T09:34:00.139Z"
   },
   {
    "duration": 106,
    "start_time": "2022-12-05T09:34:00.183Z"
   },
   {
    "duration": 40,
    "start_time": "2022-12-05T09:34:00.292Z"
   },
   {
    "duration": 68,
    "start_time": "2022-12-05T09:34:00.336Z"
   },
   {
    "duration": 36,
    "start_time": "2022-12-05T09:34:00.407Z"
   },
   {
    "duration": 61,
    "start_time": "2022-12-05T09:34:00.448Z"
   },
   {
    "duration": 60,
    "start_time": "2022-12-05T09:34:00.512Z"
   },
   {
    "duration": 67,
    "start_time": "2022-12-05T09:34:00.574Z"
   },
   {
    "duration": 90,
    "start_time": "2022-12-05T09:34:00.643Z"
   },
   {
    "duration": 1793,
    "start_time": "2022-12-05T09:34:00.736Z"
   },
   {
    "duration": 191,
    "start_time": "2022-12-05T09:34:02.532Z"
   },
   {
    "duration": 0,
    "start_time": "2022-12-05T09:34:02.726Z"
   },
   {
    "duration": 0,
    "start_time": "2022-12-05T09:34:02.727Z"
   },
   {
    "duration": 0,
    "start_time": "2022-12-05T09:34:02.729Z"
   },
   {
    "duration": 0,
    "start_time": "2022-12-05T09:34:02.732Z"
   },
   {
    "duration": 0,
    "start_time": "2022-12-05T09:34:02.734Z"
   },
   {
    "duration": 0,
    "start_time": "2022-12-05T09:34:02.735Z"
   },
   {
    "duration": 0,
    "start_time": "2022-12-05T09:34:02.737Z"
   },
   {
    "duration": 0,
    "start_time": "2022-12-05T09:34:02.738Z"
   },
   {
    "duration": 0,
    "start_time": "2022-12-05T09:34:02.740Z"
   },
   {
    "duration": 0,
    "start_time": "2022-12-05T09:34:02.741Z"
   },
   {
    "duration": 0,
    "start_time": "2022-12-05T09:34:02.742Z"
   },
   {
    "duration": 0,
    "start_time": "2022-12-05T09:34:02.751Z"
   },
   {
    "duration": 0,
    "start_time": "2022-12-05T09:34:02.754Z"
   },
   {
    "duration": 0,
    "start_time": "2022-12-05T09:34:02.755Z"
   },
   {
    "duration": 0,
    "start_time": "2022-12-05T09:34:02.757Z"
   },
   {
    "duration": 0,
    "start_time": "2022-12-05T09:34:02.759Z"
   },
   {
    "duration": 0,
    "start_time": "2022-12-05T09:34:02.760Z"
   },
   {
    "duration": 1,
    "start_time": "2022-12-05T09:34:02.761Z"
   },
   {
    "duration": 19,
    "start_time": "2022-12-05T09:34:16.720Z"
   },
   {
    "duration": 1334,
    "start_time": "2022-12-05T09:38:13.606Z"
   },
   {
    "duration": 4,
    "start_time": "2022-12-05T09:38:14.943Z"
   },
   {
    "duration": 72,
    "start_time": "2022-12-05T09:38:14.949Z"
   },
   {
    "duration": 71,
    "start_time": "2022-12-05T09:38:15.024Z"
   },
   {
    "duration": 31,
    "start_time": "2022-12-05T09:38:15.097Z"
   },
   {
    "duration": 19,
    "start_time": "2022-12-05T09:38:15.130Z"
   },
   {
    "duration": 4,
    "start_time": "2022-12-05T09:38:15.151Z"
   },
   {
    "duration": 57,
    "start_time": "2022-12-05T09:38:15.157Z"
   },
   {
    "duration": 9,
    "start_time": "2022-12-05T09:38:15.216Z"
   },
   {
    "duration": 6,
    "start_time": "2022-12-05T09:38:15.229Z"
   },
   {
    "duration": 8,
    "start_time": "2022-12-05T09:38:15.237Z"
   },
   {
    "duration": 52,
    "start_time": "2022-12-05T09:38:15.247Z"
   },
   {
    "duration": 10,
    "start_time": "2022-12-05T09:38:15.302Z"
   },
   {
    "duration": 1287,
    "start_time": "2022-12-05T09:38:15.313Z"
   },
   {
    "duration": 18,
    "start_time": "2022-12-05T09:38:16.602Z"
   },
   {
    "duration": 6,
    "start_time": "2022-12-05T09:38:16.622Z"
   },
   {
    "duration": 8,
    "start_time": "2022-12-05T09:38:16.630Z"
   },
   {
    "duration": 13,
    "start_time": "2022-12-05T09:38:16.641Z"
   },
   {
    "duration": 40,
    "start_time": "2022-12-05T09:38:16.657Z"
   },
   {
    "duration": 6,
    "start_time": "2022-12-05T09:38:16.699Z"
   },
   {
    "duration": 9,
    "start_time": "2022-12-05T09:38:16.707Z"
   },
   {
    "duration": 12,
    "start_time": "2022-12-05T09:38:16.718Z"
   },
   {
    "duration": 129,
    "start_time": "2022-12-05T09:38:16.733Z"
   },
   {
    "duration": 26,
    "start_time": "2022-12-05T09:38:16.870Z"
   },
   {
    "duration": 85,
    "start_time": "2022-12-05T09:38:16.898Z"
   },
   {
    "duration": 93,
    "start_time": "2022-12-05T09:38:16.996Z"
   },
   {
    "duration": 90,
    "start_time": "2022-12-05T09:38:17.101Z"
   },
   {
    "duration": 22,
    "start_time": "2022-12-05T09:38:17.197Z"
   },
   {
    "duration": 34,
    "start_time": "2022-12-05T09:38:17.223Z"
   },
   {
    "duration": 6,
    "start_time": "2022-12-05T09:38:17.260Z"
   },
   {
    "duration": 50,
    "start_time": "2022-12-05T09:38:17.268Z"
   },
   {
    "duration": 7,
    "start_time": "2022-12-05T09:38:17.320Z"
   },
   {
    "duration": 16,
    "start_time": "2022-12-05T09:38:17.328Z"
   },
   {
    "duration": 1550,
    "start_time": "2022-12-05T09:39:52.569Z"
   },
   {
    "duration": 4,
    "start_time": "2022-12-05T09:39:54.121Z"
   },
   {
    "duration": 11,
    "start_time": "2022-12-05T09:39:54.127Z"
   },
   {
    "duration": 79,
    "start_time": "2022-12-05T09:39:54.140Z"
   },
   {
    "duration": 54,
    "start_time": "2022-12-05T09:39:54.222Z"
   },
   {
    "duration": 74,
    "start_time": "2022-12-05T09:39:54.278Z"
   },
   {
    "duration": 55,
    "start_time": "2022-12-05T09:39:54.360Z"
   },
   {
    "duration": 18,
    "start_time": "2022-12-05T09:39:54.418Z"
   },
   {
    "duration": 6,
    "start_time": "2022-12-05T09:39:54.438Z"
   },
   {
    "duration": 63,
    "start_time": "2022-12-05T09:39:54.446Z"
   },
   {
    "duration": 14,
    "start_time": "2022-12-05T09:39:54.511Z"
   },
   {
    "duration": 15,
    "start_time": "2022-12-05T09:39:54.527Z"
   },
   {
    "duration": 13,
    "start_time": "2022-12-05T09:39:54.545Z"
   },
   {
    "duration": 1313,
    "start_time": "2022-12-05T09:39:54.562Z"
   },
   {
    "duration": 19,
    "start_time": "2022-12-05T09:39:55.877Z"
   },
   {
    "duration": 13,
    "start_time": "2022-12-05T09:39:55.901Z"
   },
   {
    "duration": 14,
    "start_time": "2022-12-05T09:39:55.917Z"
   },
   {
    "duration": 60,
    "start_time": "2022-12-05T09:39:55.933Z"
   },
   {
    "duration": 7,
    "start_time": "2022-12-05T09:39:55.995Z"
   },
   {
    "duration": 7,
    "start_time": "2022-12-05T09:39:56.004Z"
   },
   {
    "duration": 12,
    "start_time": "2022-12-05T09:39:56.013Z"
   },
   {
    "duration": 69,
    "start_time": "2022-12-05T09:39:56.027Z"
   },
   {
    "duration": 63,
    "start_time": "2022-12-05T09:39:56.098Z"
   },
   {
    "duration": 78,
    "start_time": "2022-12-05T09:39:56.164Z"
   },
   {
    "duration": 81,
    "start_time": "2022-12-05T09:39:56.244Z"
   },
   {
    "duration": 131,
    "start_time": "2022-12-05T09:39:56.330Z"
   },
   {
    "duration": 126,
    "start_time": "2022-12-05T09:39:56.464Z"
   },
   {
    "duration": 32,
    "start_time": "2022-12-05T09:39:56.592Z"
   },
   {
    "duration": 23,
    "start_time": "2022-12-05T09:39:56.626Z"
   },
   {
    "duration": 57,
    "start_time": "2022-12-05T09:39:56.655Z"
   },
   {
    "duration": 21,
    "start_time": "2022-12-05T09:39:56.714Z"
   },
   {
    "duration": 10,
    "start_time": "2022-12-05T09:39:56.737Z"
   },
   {
    "duration": 42,
    "start_time": "2022-12-05T09:39:56.755Z"
   }
  ],
  "kernelspec": {
   "display_name": "Python 3 (ipykernel)",
   "language": "python",
   "name": "python3"
  },
  "language_info": {
   "codemirror_mode": {
    "name": "ipython",
    "version": 3
   },
   "file_extension": ".py",
   "mimetype": "text/x-python",
   "name": "python",
   "nbconvert_exporter": "python",
   "pygments_lexer": "ipython3",
   "version": "3.9.12"
  },
  "toc": {
   "base_numbering": 1,
   "nav_menu": {},
   "number_sections": true,
   "sideBar": true,
   "skip_h1_title": true,
   "title_cell": "Содержание",
   "title_sidebar": "Contents",
   "toc_cell": true,
   "toc_position": {
    "height": "calc(100% - 180px)",
    "left": "10px",
    "top": "150px",
    "width": "358.188px"
   },
   "toc_section_display": true,
   "toc_window_display": true
  }
 },
 "nbformat": 4,
 "nbformat_minor": 2
}
