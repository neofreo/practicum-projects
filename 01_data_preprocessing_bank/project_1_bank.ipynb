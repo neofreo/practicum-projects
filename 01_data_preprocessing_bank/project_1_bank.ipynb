{
 "cells": [
  {
   "cell_type": "markdown",
   "id": "0ae80c49",
   "metadata": {
    "deletable": false,
    "editable": false,
    "id": "c81daeeb"
   },
   "source": [
    "# Исследование надежности заемщиков\n"
   ]
  },
  {
   "cell_type": "markdown",
   "id": "0c45f022",
   "metadata": {},
   "source": [
    "### Цель проекта\n",
    "На основе статистики о платёжеспособности клиентов банка провести исследование оценивающее важность факторов на возврат кредита в срок.\n",
    "\n",
    "### Цель исследования — проверить гипотезы:\n",
    "1. Есть зависимость между количеством детей и возвратом кредита в срок\n",
    "2. Есть зависимость между семейным положением и возвратом кредита в срок\n",
    "3. Есть зависимость между уровнем дохода и возвратом кредита в срок\n",
    "4. Есть зависимость между целью кредита влияют на его возврат в срок\n",
    "5. Есть зависимость между возврастом заемщика и возврата кредита в срок\n",
    "\n",
    "### Ход исследования\n",
    "исследование пройдёт в несколько этапов:\n",
    " 1. [Обзор данных](#обзор-данных)\n",
    " 2. [Предобработка данных](#предобработка-данных)\n",
    " 3. [Исследование данных и проверка гипотез](#исследование-данных-и-проверка-гипотез)\n",
    " 4. [Подведение итогов и написание выводов](#общий-вывод)"
   ]
  },
  {
   "cell_type": "markdown",
   "id": "d74d9218",
   "metadata": {},
   "source": [
    "## Обзор данных"
   ]
  },
  {
   "cell_type": "markdown",
   "id": "22e25b1d",
   "metadata": {},
   "source": [
    "Описание данных\n",
    "\n",
    "- `children` — количество детей в семье\n",
    "- `days_employed` — общий трудовой стаж в днях\n",
    "- `dob_years` — возраст клиента в годах\n",
    "- `education` — уровень образования клиента\n",
    "- `education_id` — идентификатор уровня образования\n",
    "- `family_status` — семейное положение\n",
    "- `family_status_id` — идентификатор семейного положения\n",
    "- `gender` — пол клиента\n",
    "- `income_type` — тип занятости\n",
    "- `debt` — имел ли задолженность по возврату кредитов\n",
    "- `total_income` — ежемесячный доход\n",
    "- `purpose` — цель получения кредита"
   ]
  },
  {
   "cell_type": "code",
   "execution_count": 1,
   "id": "061f2866",
   "metadata": {
    "deletable": false,
    "id": "7bcf75c9"
   },
   "outputs": [],
   "source": [
    "import pandas as pd"
   ]
  },
  {
   "cell_type": "code",
   "execution_count": 2,
   "id": "342d2b3f",
   "metadata": {},
   "outputs": [],
   "source": [
    "data = pd.read_csv('C:\\\\Users\\\\Freo\\\\Desktop\\\\projects\\\\datasets\\\\p1.csv')"
   ]
  },
  {
   "cell_type": "code",
   "execution_count": 3,
   "id": "c884bc2b",
   "metadata": {
    "deletable": false,
    "id": "2a7cab99",
    "outputId": "1a8f3ef2-d323-4ec2-ddf7-89670b5944c4"
   },
   "outputs": [
    {
     "data": {
      "text/html": [
       "<div>\n",
       "<style scoped>\n",
       "    .dataframe tbody tr th:only-of-type {\n",
       "        vertical-align: middle;\n",
       "    }\n",
       "\n",
       "    .dataframe tbody tr th {\n",
       "        vertical-align: top;\n",
       "    }\n",
       "\n",
       "    .dataframe thead th {\n",
       "        text-align: right;\n",
       "    }\n",
       "</style>\n",
       "<table border=\"1\" class=\"dataframe\">\n",
       "  <thead>\n",
       "    <tr style=\"text-align: right;\">\n",
       "      <th></th>\n",
       "      <th>children</th>\n",
       "      <th>days_employed</th>\n",
       "      <th>dob_years</th>\n",
       "      <th>education</th>\n",
       "      <th>education_id</th>\n",
       "      <th>family_status</th>\n",
       "      <th>family_status_id</th>\n",
       "      <th>gender</th>\n",
       "      <th>income_type</th>\n",
       "      <th>debt</th>\n",
       "      <th>total_income</th>\n",
       "      <th>purpose</th>\n",
       "    </tr>\n",
       "  </thead>\n",
       "  <tbody>\n",
       "    <tr>\n",
       "      <th>0</th>\n",
       "      <td>1</td>\n",
       "      <td>-8437.673028</td>\n",
       "      <td>42</td>\n",
       "      <td>высшее</td>\n",
       "      <td>0</td>\n",
       "      <td>женат / замужем</td>\n",
       "      <td>0</td>\n",
       "      <td>F</td>\n",
       "      <td>сотрудник</td>\n",
       "      <td>0</td>\n",
       "      <td>253875.639453</td>\n",
       "      <td>покупка жилья</td>\n",
       "    </tr>\n",
       "    <tr>\n",
       "      <th>1</th>\n",
       "      <td>1</td>\n",
       "      <td>-4024.803754</td>\n",
       "      <td>36</td>\n",
       "      <td>среднее</td>\n",
       "      <td>1</td>\n",
       "      <td>женат / замужем</td>\n",
       "      <td>0</td>\n",
       "      <td>F</td>\n",
       "      <td>сотрудник</td>\n",
       "      <td>0</td>\n",
       "      <td>112080.014102</td>\n",
       "      <td>приобретение автомобиля</td>\n",
       "    </tr>\n",
       "    <tr>\n",
       "      <th>2</th>\n",
       "      <td>0</td>\n",
       "      <td>-5623.422610</td>\n",
       "      <td>33</td>\n",
       "      <td>Среднее</td>\n",
       "      <td>1</td>\n",
       "      <td>женат / замужем</td>\n",
       "      <td>0</td>\n",
       "      <td>M</td>\n",
       "      <td>сотрудник</td>\n",
       "      <td>0</td>\n",
       "      <td>145885.952297</td>\n",
       "      <td>покупка жилья</td>\n",
       "    </tr>\n",
       "    <tr>\n",
       "      <th>3</th>\n",
       "      <td>3</td>\n",
       "      <td>-4124.747207</td>\n",
       "      <td>32</td>\n",
       "      <td>среднее</td>\n",
       "      <td>1</td>\n",
       "      <td>женат / замужем</td>\n",
       "      <td>0</td>\n",
       "      <td>M</td>\n",
       "      <td>сотрудник</td>\n",
       "      <td>0</td>\n",
       "      <td>267628.550329</td>\n",
       "      <td>дополнительное образование</td>\n",
       "    </tr>\n",
       "    <tr>\n",
       "      <th>4</th>\n",
       "      <td>0</td>\n",
       "      <td>340266.072047</td>\n",
       "      <td>53</td>\n",
       "      <td>среднее</td>\n",
       "      <td>1</td>\n",
       "      <td>гражданский брак</td>\n",
       "      <td>1</td>\n",
       "      <td>F</td>\n",
       "      <td>пенсионер</td>\n",
       "      <td>0</td>\n",
       "      <td>158616.077870</td>\n",
       "      <td>сыграть свадьбу</td>\n",
       "    </tr>\n",
       "    <tr>\n",
       "      <th>5</th>\n",
       "      <td>0</td>\n",
       "      <td>-926.185831</td>\n",
       "      <td>27</td>\n",
       "      <td>высшее</td>\n",
       "      <td>0</td>\n",
       "      <td>гражданский брак</td>\n",
       "      <td>1</td>\n",
       "      <td>M</td>\n",
       "      <td>компаньон</td>\n",
       "      <td>0</td>\n",
       "      <td>255763.565419</td>\n",
       "      <td>покупка жилья</td>\n",
       "    </tr>\n",
       "    <tr>\n",
       "      <th>6</th>\n",
       "      <td>0</td>\n",
       "      <td>-2879.202052</td>\n",
       "      <td>43</td>\n",
       "      <td>высшее</td>\n",
       "      <td>0</td>\n",
       "      <td>женат / замужем</td>\n",
       "      <td>0</td>\n",
       "      <td>F</td>\n",
       "      <td>компаньон</td>\n",
       "      <td>0</td>\n",
       "      <td>240525.971920</td>\n",
       "      <td>операции с жильем</td>\n",
       "    </tr>\n",
       "    <tr>\n",
       "      <th>7</th>\n",
       "      <td>0</td>\n",
       "      <td>-152.779569</td>\n",
       "      <td>50</td>\n",
       "      <td>СРЕДНЕЕ</td>\n",
       "      <td>1</td>\n",
       "      <td>женат / замужем</td>\n",
       "      <td>0</td>\n",
       "      <td>M</td>\n",
       "      <td>сотрудник</td>\n",
       "      <td>0</td>\n",
       "      <td>135823.934197</td>\n",
       "      <td>образование</td>\n",
       "    </tr>\n",
       "    <tr>\n",
       "      <th>8</th>\n",
       "      <td>2</td>\n",
       "      <td>-6929.865299</td>\n",
       "      <td>35</td>\n",
       "      <td>ВЫСШЕЕ</td>\n",
       "      <td>0</td>\n",
       "      <td>гражданский брак</td>\n",
       "      <td>1</td>\n",
       "      <td>F</td>\n",
       "      <td>сотрудник</td>\n",
       "      <td>0</td>\n",
       "      <td>95856.832424</td>\n",
       "      <td>на проведение свадьбы</td>\n",
       "    </tr>\n",
       "    <tr>\n",
       "      <th>9</th>\n",
       "      <td>0</td>\n",
       "      <td>-2188.756445</td>\n",
       "      <td>41</td>\n",
       "      <td>среднее</td>\n",
       "      <td>1</td>\n",
       "      <td>женат / замужем</td>\n",
       "      <td>0</td>\n",
       "      <td>M</td>\n",
       "      <td>сотрудник</td>\n",
       "      <td>0</td>\n",
       "      <td>144425.938277</td>\n",
       "      <td>покупка жилья для семьи</td>\n",
       "    </tr>\n",
       "    <tr>\n",
       "      <th>10</th>\n",
       "      <td>2</td>\n",
       "      <td>-4171.483647</td>\n",
       "      <td>36</td>\n",
       "      <td>высшее</td>\n",
       "      <td>0</td>\n",
       "      <td>женат / замужем</td>\n",
       "      <td>0</td>\n",
       "      <td>M</td>\n",
       "      <td>компаньон</td>\n",
       "      <td>0</td>\n",
       "      <td>113943.491460</td>\n",
       "      <td>покупка недвижимости</td>\n",
       "    </tr>\n",
       "    <tr>\n",
       "      <th>11</th>\n",
       "      <td>0</td>\n",
       "      <td>-792.701887</td>\n",
       "      <td>40</td>\n",
       "      <td>среднее</td>\n",
       "      <td>1</td>\n",
       "      <td>женат / замужем</td>\n",
       "      <td>0</td>\n",
       "      <td>F</td>\n",
       "      <td>сотрудник</td>\n",
       "      <td>0</td>\n",
       "      <td>77069.234271</td>\n",
       "      <td>покупка коммерческой недвижимости</td>\n",
       "    </tr>\n",
       "    <tr>\n",
       "      <th>12</th>\n",
       "      <td>0</td>\n",
       "      <td>NaN</td>\n",
       "      <td>65</td>\n",
       "      <td>среднее</td>\n",
       "      <td>1</td>\n",
       "      <td>гражданский брак</td>\n",
       "      <td>1</td>\n",
       "      <td>M</td>\n",
       "      <td>пенсионер</td>\n",
       "      <td>0</td>\n",
       "      <td>NaN</td>\n",
       "      <td>сыграть свадьбу</td>\n",
       "    </tr>\n",
       "    <tr>\n",
       "      <th>13</th>\n",
       "      <td>0</td>\n",
       "      <td>-1846.641941</td>\n",
       "      <td>54</td>\n",
       "      <td>неоконченное высшее</td>\n",
       "      <td>2</td>\n",
       "      <td>женат / замужем</td>\n",
       "      <td>0</td>\n",
       "      <td>F</td>\n",
       "      <td>сотрудник</td>\n",
       "      <td>0</td>\n",
       "      <td>130458.228857</td>\n",
       "      <td>приобретение автомобиля</td>\n",
       "    </tr>\n",
       "    <tr>\n",
       "      <th>14</th>\n",
       "      <td>0</td>\n",
       "      <td>-1844.956182</td>\n",
       "      <td>56</td>\n",
       "      <td>высшее</td>\n",
       "      <td>0</td>\n",
       "      <td>гражданский брак</td>\n",
       "      <td>1</td>\n",
       "      <td>F</td>\n",
       "      <td>компаньон</td>\n",
       "      <td>1</td>\n",
       "      <td>165127.911772</td>\n",
       "      <td>покупка жилой недвижимости</td>\n",
       "    </tr>\n",
       "    <tr>\n",
       "      <th>15</th>\n",
       "      <td>1</td>\n",
       "      <td>-972.364419</td>\n",
       "      <td>26</td>\n",
       "      <td>среднее</td>\n",
       "      <td>1</td>\n",
       "      <td>женат / замужем</td>\n",
       "      <td>0</td>\n",
       "      <td>F</td>\n",
       "      <td>сотрудник</td>\n",
       "      <td>0</td>\n",
       "      <td>116820.904450</td>\n",
       "      <td>строительство собственной недвижимости</td>\n",
       "    </tr>\n",
       "    <tr>\n",
       "      <th>16</th>\n",
       "      <td>0</td>\n",
       "      <td>-1719.934226</td>\n",
       "      <td>35</td>\n",
       "      <td>среднее</td>\n",
       "      <td>1</td>\n",
       "      <td>женат / замужем</td>\n",
       "      <td>0</td>\n",
       "      <td>F</td>\n",
       "      <td>сотрудник</td>\n",
       "      <td>0</td>\n",
       "      <td>289202.704229</td>\n",
       "      <td>недвижимость</td>\n",
       "    </tr>\n",
       "    <tr>\n",
       "      <th>17</th>\n",
       "      <td>0</td>\n",
       "      <td>-2369.999720</td>\n",
       "      <td>33</td>\n",
       "      <td>высшее</td>\n",
       "      <td>0</td>\n",
       "      <td>гражданский брак</td>\n",
       "      <td>1</td>\n",
       "      <td>M</td>\n",
       "      <td>сотрудник</td>\n",
       "      <td>0</td>\n",
       "      <td>90410.586745</td>\n",
       "      <td>строительство недвижимости</td>\n",
       "    </tr>\n",
       "    <tr>\n",
       "      <th>18</th>\n",
       "      <td>0</td>\n",
       "      <td>400281.136913</td>\n",
       "      <td>53</td>\n",
       "      <td>среднее</td>\n",
       "      <td>1</td>\n",
       "      <td>вдовец / вдова</td>\n",
       "      <td>2</td>\n",
       "      <td>F</td>\n",
       "      <td>пенсионер</td>\n",
       "      <td>0</td>\n",
       "      <td>56823.777243</td>\n",
       "      <td>на покупку подержанного автомобиля</td>\n",
       "    </tr>\n",
       "    <tr>\n",
       "      <th>19</th>\n",
       "      <td>0</td>\n",
       "      <td>-10038.818549</td>\n",
       "      <td>48</td>\n",
       "      <td>СРЕДНЕЕ</td>\n",
       "      <td>1</td>\n",
       "      <td>в разводе</td>\n",
       "      <td>3</td>\n",
       "      <td>F</td>\n",
       "      <td>сотрудник</td>\n",
       "      <td>0</td>\n",
       "      <td>242831.107982</td>\n",
       "      <td>на покупку своего автомобиля</td>\n",
       "    </tr>\n",
       "  </tbody>\n",
       "</table>\n",
       "</div>"
      ],
      "text/plain": [
       "    children  days_employed  dob_years            education  education_id  \\\n",
       "0          1   -8437.673028         42               высшее             0   \n",
       "1          1   -4024.803754         36              среднее             1   \n",
       "2          0   -5623.422610         33              Среднее             1   \n",
       "3          3   -4124.747207         32              среднее             1   \n",
       "4          0  340266.072047         53              среднее             1   \n",
       "5          0    -926.185831         27               высшее             0   \n",
       "6          0   -2879.202052         43               высшее             0   \n",
       "7          0    -152.779569         50              СРЕДНЕЕ             1   \n",
       "8          2   -6929.865299         35               ВЫСШЕЕ             0   \n",
       "9          0   -2188.756445         41              среднее             1   \n",
       "10         2   -4171.483647         36               высшее             0   \n",
       "11         0    -792.701887         40              среднее             1   \n",
       "12         0            NaN         65              среднее             1   \n",
       "13         0   -1846.641941         54  неоконченное высшее             2   \n",
       "14         0   -1844.956182         56               высшее             0   \n",
       "15         1    -972.364419         26              среднее             1   \n",
       "16         0   -1719.934226         35              среднее             1   \n",
       "17         0   -2369.999720         33               высшее             0   \n",
       "18         0  400281.136913         53              среднее             1   \n",
       "19         0  -10038.818549         48              СРЕДНЕЕ             1   \n",
       "\n",
       "       family_status  family_status_id gender income_type  debt  \\\n",
       "0    женат / замужем                 0      F   сотрудник     0   \n",
       "1    женат / замужем                 0      F   сотрудник     0   \n",
       "2    женат / замужем                 0      M   сотрудник     0   \n",
       "3    женат / замужем                 0      M   сотрудник     0   \n",
       "4   гражданский брак                 1      F   пенсионер     0   \n",
       "5   гражданский брак                 1      M   компаньон     0   \n",
       "6    женат / замужем                 0      F   компаньон     0   \n",
       "7    женат / замужем                 0      M   сотрудник     0   \n",
       "8   гражданский брак                 1      F   сотрудник     0   \n",
       "9    женат / замужем                 0      M   сотрудник     0   \n",
       "10   женат / замужем                 0      M   компаньон     0   \n",
       "11   женат / замужем                 0      F   сотрудник     0   \n",
       "12  гражданский брак                 1      M   пенсионер     0   \n",
       "13   женат / замужем                 0      F   сотрудник     0   \n",
       "14  гражданский брак                 1      F   компаньон     1   \n",
       "15   женат / замужем                 0      F   сотрудник     0   \n",
       "16   женат / замужем                 0      F   сотрудник     0   \n",
       "17  гражданский брак                 1      M   сотрудник     0   \n",
       "18    вдовец / вдова                 2      F   пенсионер     0   \n",
       "19         в разводе                 3      F   сотрудник     0   \n",
       "\n",
       "     total_income                                 purpose  \n",
       "0   253875.639453                           покупка жилья  \n",
       "1   112080.014102                 приобретение автомобиля  \n",
       "2   145885.952297                           покупка жилья  \n",
       "3   267628.550329              дополнительное образование  \n",
       "4   158616.077870                         сыграть свадьбу  \n",
       "5   255763.565419                           покупка жилья  \n",
       "6   240525.971920                       операции с жильем  \n",
       "7   135823.934197                             образование  \n",
       "8    95856.832424                   на проведение свадьбы  \n",
       "9   144425.938277                 покупка жилья для семьи  \n",
       "10  113943.491460                    покупка недвижимости  \n",
       "11   77069.234271       покупка коммерческой недвижимости  \n",
       "12            NaN                         сыграть свадьбу  \n",
       "13  130458.228857                 приобретение автомобиля  \n",
       "14  165127.911772              покупка жилой недвижимости  \n",
       "15  116820.904450  строительство собственной недвижимости  \n",
       "16  289202.704229                            недвижимость  \n",
       "17   90410.586745              строительство недвижимости  \n",
       "18   56823.777243      на покупку подержанного автомобиля  \n",
       "19  242831.107982            на покупку своего автомобиля  "
      ]
     },
     "execution_count": 3,
     "metadata": {},
     "output_type": "execute_result"
    }
   ],
   "source": [
    "data.head(20)"
   ]
  },
  {
   "cell_type": "code",
   "execution_count": 4,
   "id": "9da1a29a",
   "metadata": {
    "deletable": false,
    "id": "2b757bca",
    "outputId": "15376089-8dad-46c9-b520-c05248d43158"
   },
   "outputs": [
    {
     "name": "stdout",
     "output_type": "stream",
     "text": [
      "<class 'pandas.core.frame.DataFrame'>\n",
      "RangeIndex: 21525 entries, 0 to 21524\n",
      "Data columns (total 12 columns):\n",
      " #   Column            Non-Null Count  Dtype  \n",
      "---  ------            --------------  -----  \n",
      " 0   children          21525 non-null  int64  \n",
      " 1   days_employed     19351 non-null  float64\n",
      " 2   dob_years         21525 non-null  int64  \n",
      " 3   education         21525 non-null  object \n",
      " 4   education_id      21525 non-null  int64  \n",
      " 5   family_status     21525 non-null  object \n",
      " 6   family_status_id  21525 non-null  int64  \n",
      " 7   gender            21525 non-null  object \n",
      " 8   income_type       21525 non-null  object \n",
      " 9   debt              21525 non-null  int64  \n",
      " 10  total_income      19351 non-null  float64\n",
      " 11  purpose           21525 non-null  object \n",
      "dtypes: float64(2), int64(5), object(5)\n",
      "memory usage: 2.0+ MB\n"
     ]
    }
   ],
   "source": [
    "data.info()"
   ]
  },
  {
   "cell_type": "markdown",
   "id": "5b5e479b",
   "metadata": {
    "deletable": false,
    "editable": false,
    "id": "333ec665"
   },
   "source": [
    "## Предобработка данных"
   ]
  },
  {
   "cell_type": "markdown",
   "id": "cd9960ee",
   "metadata": {
    "deletable": false,
    "editable": false,
    "id": "02d92d53"
   },
   "source": [
    "### Удаление пропусков"
   ]
  },
  {
   "cell_type": "code",
   "execution_count": 5,
   "id": "7dff7770",
   "metadata": {
    "deletable": false,
    "id": "7f9b2309",
    "outputId": "81f4d817-781c-465c-ed15-91ce4446810d"
   },
   "outputs": [
    {
     "data": {
      "text/plain": [
       "children               0\n",
       "days_employed       2174\n",
       "dob_years              0\n",
       "education              0\n",
       "education_id           0\n",
       "family_status          0\n",
       "family_status_id       0\n",
       "gender                 0\n",
       "income_type            0\n",
       "debt                   0\n",
       "total_income        2174\n",
       "purpose                0\n",
       "dtype: int64"
      ]
     },
     "execution_count": 5,
     "metadata": {},
     "output_type": "execute_result"
    }
   ],
   "source": [
    "data.isna().sum()"
   ]
  },
  {
   "cell_type": "code",
   "execution_count": 6,
   "id": "ba59b572",
   "metadata": {
    "deletable": false,
    "id": "42006a93"
   },
   "outputs": [],
   "source": [
    "for t in data['income_type'].unique():\n",
    "    data.loc[(data['income_type'] == t) & (data['total_income'].isna()), 'total_income'] = \\\n",
    "    data.loc[(data['income_type'] == t), 'total_income'].median()"
   ]
  },
  {
   "cell_type": "markdown",
   "id": "0f91200b",
   "metadata": {
    "deletable": false,
    "editable": false,
    "id": "89da5ece"
   },
   "source": [
    "### Обработка аномальных значений"
   ]
  },
  {
   "cell_type": "code",
   "execution_count": 7,
   "id": "c8d3520d",
   "metadata": {
    "deletable": false,
    "id": "f6f055bf"
   },
   "outputs": [],
   "source": [
    "data['days_employed'] = data['days_employed'].abs()"
   ]
  },
  {
   "cell_type": "code",
   "execution_count": 8,
   "id": "ed79a406",
   "metadata": {
    "deletable": false,
    "id": "85a5faf6",
    "outputId": "801ef80e-522b-4668-f34e-565af7432bcf"
   },
   "outputs": [
    {
     "data": {
      "text/plain": [
       "income_type\n",
       "безработный        366413.652744\n",
       "в декрете            3296.759962\n",
       "госслужащий          2689.368353\n",
       "компаньон            1547.382223\n",
       "пенсионер          365213.306266\n",
       "предприниматель       520.848083\n",
       "сотрудник            1574.202821\n",
       "студент               578.751554\n",
       "Name: days_employed, dtype: float64"
      ]
     },
     "execution_count": 8,
     "metadata": {},
     "output_type": "execute_result"
    }
   ],
   "source": [
    "data.groupby('income_type')['days_employed'].agg('median')"
   ]
  },
  {
   "cell_type": "code",
   "execution_count": 9,
   "id": "62d01401",
   "metadata": {
    "deletable": false,
    "id": "ef5056eb",
    "outputId": "6975b15c-7f95-4697-d16d-a0c79b657b03"
   },
   "outputs": [
    {
     "data": {
      "text/plain": [
       "array([ 1,  0,  3,  2, -1,  4, 20,  5], dtype=int64)"
      ]
     },
     "execution_count": 9,
     "metadata": {},
     "output_type": "execute_result"
    }
   ],
   "source": [
    "data['children'].unique()"
   ]
  },
  {
   "cell_type": "code",
   "execution_count": 10,
   "id": "afb76a9e",
   "metadata": {
    "deletable": false,
    "id": "3ff9801d"
   },
   "outputs": [],
   "source": [
    "data = data[(data['children'] != -1) & (data['children'] != 20)]"
   ]
  },
  {
   "cell_type": "code",
   "execution_count": 11,
   "id": "87714568",
   "metadata": {
    "deletable": false,
    "id": "ad4fa8b7",
    "outputId": "b2097101-d49d-44d9-901b-32a65c9463d1"
   },
   "outputs": [
    {
     "data": {
      "text/plain": [
       "array([1, 0, 3, 2, 4, 5], dtype=int64)"
      ]
     },
     "execution_count": 11,
     "metadata": {},
     "output_type": "execute_result"
    }
   ],
   "source": [
    "data['children'].unique()"
   ]
  },
  {
   "cell_type": "code",
   "execution_count": 12,
   "id": "f8dfc2df",
   "metadata": {
    "deletable": false,
    "id": "af6b1a7e"
   },
   "outputs": [],
   "source": [
    "for t in data['income_type'].unique():\n",
    "    data.loc[(data['income_type'] == t) & (data['days_employed'].isna()), 'days_employed'] = \\\n",
    "    data.loc[(data['income_type'] == t), 'days_employed'].median()"
   ]
  },
  {
   "cell_type": "code",
   "execution_count": 13,
   "id": "f348f240",
   "metadata": {
    "deletable": false,
    "id": "55f78bc2",
    "outputId": "8da1e4e1-358e-4e87-98c9-f261bce0a7b2"
   },
   "outputs": [
    {
     "data": {
      "text/plain": [
       "children            0\n",
       "days_employed       0\n",
       "dob_years           0\n",
       "education           0\n",
       "education_id        0\n",
       "family_status       0\n",
       "family_status_id    0\n",
       "gender              0\n",
       "income_type         0\n",
       "debt                0\n",
       "total_income        0\n",
       "purpose             0\n",
       "dtype: int64"
      ]
     },
     "execution_count": 13,
     "metadata": {},
     "output_type": "execute_result"
    }
   ],
   "source": [
    "data.isna().sum()"
   ]
  },
  {
   "cell_type": "markdown",
   "id": "12fd2d9f",
   "metadata": {
    "deletable": false,
    "editable": false,
    "id": "ddc81e43"
   },
   "source": [
    "### Изменение типов данных"
   ]
  },
  {
   "cell_type": "code",
   "execution_count": 14,
   "id": "86460ea5",
   "metadata": {
    "deletable": false,
    "id": "920b65ad"
   },
   "outputs": [],
   "source": [
    "data['total_income'] = data['total_income'].astype(int)"
   ]
  },
  {
   "cell_type": "markdown",
   "id": "c7eee543",
   "metadata": {
    "deletable": false,
    "editable": false,
    "id": "80c420ba"
   },
   "source": [
    "### Обработка дубликатов"
   ]
  },
  {
   "cell_type": "code",
   "execution_count": 15,
   "id": "4a673081",
   "metadata": {
    "deletable": false
   },
   "outputs": [],
   "source": [
    "data['education'] = data['education'].str.lower()"
   ]
  },
  {
   "cell_type": "code",
   "execution_count": 16,
   "id": "c8da1873",
   "metadata": {
    "deletable": false,
    "id": "3ee445e4",
    "outputId": "9684deba-1934-42d1-99e1-cda61740f822"
   },
   "outputs": [
    {
     "data": {
      "text/plain": [
       "71"
      ]
     },
     "execution_count": 16,
     "metadata": {},
     "output_type": "execute_result"
    }
   ],
   "source": [
    "data.duplicated().sum()"
   ]
  },
  {
   "cell_type": "code",
   "execution_count": 17,
   "id": "c5a439d9",
   "metadata": {
    "deletable": false,
    "id": "8575fe05"
   },
   "outputs": [],
   "source": [
    "data = data.drop_duplicates()"
   ]
  },
  {
   "cell_type": "markdown",
   "id": "613f55d3",
   "metadata": {
    "deletable": false,
    "editable": false,
    "id": "9904cf55"
   },
   "source": [
    "### Категоризация данных"
   ]
  },
  {
   "cell_type": "markdown",
   "id": "c7291b8f",
   "metadata": {},
   "source": [
    "На основании диапазонов, указанных ниже, создадим в датафрейме `data` столбец `total_income_category` с категориями:\n",
    "\n",
    "- 0–30000 — \"E\";\n",
    "- 30001–50000 — \"D\";\n",
    "- 50001–200000 — \"C\";\n",
    "- 200001–1000000 — \"B\";\n",
    "- 1000001 и выше — \"A\"."
   ]
  },
  {
   "cell_type": "code",
   "execution_count": 18,
   "id": "53a6141d",
   "metadata": {
    "deletable": false,
    "id": "e1771346"
   },
   "outputs": [],
   "source": [
    "def categorize_income(income):\n",
    "    try:\n",
    "        if 0 <= income <= 30000:\n",
    "            return 'E'\n",
    "        elif 30001 <= income <= 50000:\n",
    "            return 'D'\n",
    "        elif 50001 <= income <= 200000:\n",
    "            return 'C'\n",
    "        elif 200001 <= income <= 1000000:\n",
    "            return 'B'\n",
    "        elif income >= 1000001:\n",
    "            return 'A'\n",
    "    except:\n",
    "        pass"
   ]
  },
  {
   "cell_type": "code",
   "execution_count": 19,
   "id": "d5c91959",
   "metadata": {
    "deletable": false,
    "id": "d5f3586d"
   },
   "outputs": [],
   "source": [
    "data['total_income_category'] = data['total_income'].apply(categorize_income)"
   ]
  },
  {
   "cell_type": "code",
   "execution_count": 20,
   "id": "2df6955b",
   "metadata": {
    "deletable": false,
    "id": "f67ce9b3",
    "outputId": "673c12d9-7d7e-4ae0-9812-c622c89dd244"
   },
   "outputs": [
    {
     "data": {
      "text/plain": [
       "array(['покупка жилья', 'приобретение автомобиля',\n",
       "       'дополнительное образование', 'сыграть свадьбу',\n",
       "       'операции с жильем', 'образование', 'на проведение свадьбы',\n",
       "       'покупка жилья для семьи', 'покупка недвижимости',\n",
       "       'покупка коммерческой недвижимости', 'покупка жилой недвижимости',\n",
       "       'строительство собственной недвижимости', 'недвижимость',\n",
       "       'строительство недвижимости', 'на покупку подержанного автомобиля',\n",
       "       'на покупку своего автомобиля',\n",
       "       'операции с коммерческой недвижимостью',\n",
       "       'строительство жилой недвижимости', 'жилье',\n",
       "       'операции со своей недвижимостью', 'автомобили',\n",
       "       'заняться образованием', 'сделка с подержанным автомобилем',\n",
       "       'получение образования', 'автомобиль', 'свадьба',\n",
       "       'получение дополнительного образования', 'покупка своего жилья',\n",
       "       'операции с недвижимостью', 'получение высшего образования',\n",
       "       'свой автомобиль', 'сделка с автомобилем',\n",
       "       'профильное образование', 'высшее образование',\n",
       "       'покупка жилья для сдачи', 'на покупку автомобиля', 'ремонт жилью',\n",
       "       'заняться высшим образованием'], dtype=object)"
      ]
     },
     "execution_count": 20,
     "metadata": {},
     "output_type": "execute_result"
    }
   ],
   "source": [
    "data['purpose'].unique()"
   ]
  },
  {
   "cell_type": "code",
   "execution_count": 21,
   "id": "7e9b8c4b",
   "metadata": {
    "deletable": false,
    "id": "e149fab4"
   },
   "outputs": [],
   "source": [
    "def categorize_purpose(row):\n",
    "    try:\n",
    "        if 'автом' in row:\n",
    "            return 'операции с автомобилем'\n",
    "        elif 'жил' in row or 'недвиж' in row:\n",
    "            return 'операции с недвижимостью'\n",
    "        elif 'свад' in row:\n",
    "            return 'проведение свадьбы'\n",
    "        elif 'образов' in row:\n",
    "            return 'получение образования'\n",
    "    except:\n",
    "        return 'нет категории'"
   ]
  },
  {
   "cell_type": "code",
   "execution_count": 22,
   "id": "844c6712",
   "metadata": {
    "deletable": false,
    "id": "bf36e69b"
   },
   "outputs": [],
   "source": [
    "data['purpose_category'] = data['purpose'].apply(categorize_purpose)"
   ]
  },
  {
   "cell_type": "markdown",
   "id": "f2efa4fe",
   "metadata": {},
   "source": [
    "## Исследование данных и проверка гипотез"
   ]
  },
  {
   "cell_type": "markdown",
   "id": "c1767821",
   "metadata": {},
   "source": [
    "### 3.1 Есть зависимость между количеством детей и возвратом кредита в срок"
   ]
  },
  {
   "cell_type": "code",
   "execution_count": 23,
   "id": "4aa2d285",
   "metadata": {
    "deletable": false,
    "id": "2cacfc4a"
   },
   "outputs": [
    {
     "data": {
      "text/html": [
       "<div>\n",
       "<style scoped>\n",
       "    .dataframe tbody tr th:only-of-type {\n",
       "        vertical-align: middle;\n",
       "    }\n",
       "\n",
       "    .dataframe tbody tr th {\n",
       "        vertical-align: top;\n",
       "    }\n",
       "\n",
       "    .dataframe thead th {\n",
       "        text-align: right;\n",
       "    }\n",
       "</style>\n",
       "<table border=\"1\" class=\"dataframe\">\n",
       "  <thead>\n",
       "    <tr style=\"text-align: right;\">\n",
       "      <th></th>\n",
       "      <th>children</th>\n",
       "      <th>days_employed</th>\n",
       "      <th>dob_years</th>\n",
       "      <th>education</th>\n",
       "      <th>education_id</th>\n",
       "      <th>family_status</th>\n",
       "      <th>family_status_id</th>\n",
       "      <th>gender</th>\n",
       "      <th>income_type</th>\n",
       "      <th>debt</th>\n",
       "      <th>total_income</th>\n",
       "      <th>purpose</th>\n",
       "      <th>total_income_category</th>\n",
       "      <th>purpose_category</th>\n",
       "    </tr>\n",
       "  </thead>\n",
       "  <tbody>\n",
       "    <tr>\n",
       "      <th>0</th>\n",
       "      <td>1</td>\n",
       "      <td>8437.673028</td>\n",
       "      <td>42</td>\n",
       "      <td>высшее</td>\n",
       "      <td>0</td>\n",
       "      <td>женат / замужем</td>\n",
       "      <td>0</td>\n",
       "      <td>F</td>\n",
       "      <td>сотрудник</td>\n",
       "      <td>0</td>\n",
       "      <td>253875</td>\n",
       "      <td>покупка жилья</td>\n",
       "      <td>B</td>\n",
       "      <td>операции с недвижимостью</td>\n",
       "    </tr>\n",
       "    <tr>\n",
       "      <th>1</th>\n",
       "      <td>1</td>\n",
       "      <td>4024.803754</td>\n",
       "      <td>36</td>\n",
       "      <td>среднее</td>\n",
       "      <td>1</td>\n",
       "      <td>женат / замужем</td>\n",
       "      <td>0</td>\n",
       "      <td>F</td>\n",
       "      <td>сотрудник</td>\n",
       "      <td>0</td>\n",
       "      <td>112080</td>\n",
       "      <td>приобретение автомобиля</td>\n",
       "      <td>C</td>\n",
       "      <td>операции с автомобилем</td>\n",
       "    </tr>\n",
       "    <tr>\n",
       "      <th>2</th>\n",
       "      <td>0</td>\n",
       "      <td>5623.422610</td>\n",
       "      <td>33</td>\n",
       "      <td>среднее</td>\n",
       "      <td>1</td>\n",
       "      <td>женат / замужем</td>\n",
       "      <td>0</td>\n",
       "      <td>M</td>\n",
       "      <td>сотрудник</td>\n",
       "      <td>0</td>\n",
       "      <td>145885</td>\n",
       "      <td>покупка жилья</td>\n",
       "      <td>C</td>\n",
       "      <td>операции с недвижимостью</td>\n",
       "    </tr>\n",
       "    <tr>\n",
       "      <th>3</th>\n",
       "      <td>3</td>\n",
       "      <td>4124.747207</td>\n",
       "      <td>32</td>\n",
       "      <td>среднее</td>\n",
       "      <td>1</td>\n",
       "      <td>женат / замужем</td>\n",
       "      <td>0</td>\n",
       "      <td>M</td>\n",
       "      <td>сотрудник</td>\n",
       "      <td>0</td>\n",
       "      <td>267628</td>\n",
       "      <td>дополнительное образование</td>\n",
       "      <td>B</td>\n",
       "      <td>получение образования</td>\n",
       "    </tr>\n",
       "    <tr>\n",
       "      <th>4</th>\n",
       "      <td>0</td>\n",
       "      <td>340266.072047</td>\n",
       "      <td>53</td>\n",
       "      <td>среднее</td>\n",
       "      <td>1</td>\n",
       "      <td>гражданский брак</td>\n",
       "      <td>1</td>\n",
       "      <td>F</td>\n",
       "      <td>пенсионер</td>\n",
       "      <td>0</td>\n",
       "      <td>158616</td>\n",
       "      <td>сыграть свадьбу</td>\n",
       "      <td>C</td>\n",
       "      <td>проведение свадьбы</td>\n",
       "    </tr>\n",
       "  </tbody>\n",
       "</table>\n",
       "</div>"
      ],
      "text/plain": [
       "   children  days_employed  dob_years education  education_id  \\\n",
       "0         1    8437.673028         42    высшее             0   \n",
       "1         1    4024.803754         36   среднее             1   \n",
       "2         0    5623.422610         33   среднее             1   \n",
       "3         3    4124.747207         32   среднее             1   \n",
       "4         0  340266.072047         53   среднее             1   \n",
       "\n",
       "      family_status  family_status_id gender income_type  debt  total_income  \\\n",
       "0   женат / замужем                 0      F   сотрудник     0        253875   \n",
       "1   женат / замужем                 0      F   сотрудник     0        112080   \n",
       "2   женат / замужем                 0      M   сотрудник     0        145885   \n",
       "3   женат / замужем                 0      M   сотрудник     0        267628   \n",
       "4  гражданский брак                 1      F   пенсионер     0        158616   \n",
       "\n",
       "                      purpose total_income_category          purpose_category  \n",
       "0               покупка жилья                     B  операции с недвижимостью  \n",
       "1     приобретение автомобиля                     C    операции с автомобилем  \n",
       "2               покупка жилья                     C  операции с недвижимостью  \n",
       "3  дополнительное образование                     B     получение образования  \n",
       "4             сыграть свадьбу                     C        проведение свадьбы  "
      ]
     },
     "metadata": {},
     "output_type": "display_data"
    },
    {
     "name": "stdout",
     "output_type": "stream",
     "text": [
      "\n",
      " Значения в столбце debt: [0 1]\n",
      "\n",
      " Количество детей у заемщика; количество заемщиков: \n",
      "children\n",
      "0    14091\n",
      "1     4808\n",
      "2     2052\n",
      "3      330\n",
      "4       41\n",
      "5        9\n",
      "Name: count, dtype: int64\n"
     ]
    }
   ],
   "source": [
    "display(data.head())\n",
    "\n",
    "print(f'\\n Значения в столбце debt: {data[\"debt\"].unique()}') #проверим на наличие ошибочных значений\n",
    "#все в порядке, в столбце только '1' и '0', что соответственно  скорее всего означает наличие или отстутсвие задолженности\n",
    "\n",
    "print(f'\\n Количество детей у заемщика; количество заемщиков: \\n{data[\"children\"].value_counts()}') # посмотрим какие значения есть в столбце дети, оценим достоверность выборки\n",
    "#выборка не очень большая, особенно для заемщиков с 3,4,5 детьми"
   ]
  },
  {
   "cell_type": "code",
   "execution_count": 24,
   "id": "034c75fb",
   "metadata": {},
   "outputs": [
    {
     "data": {
      "text/html": [
       "<div>\n",
       "<style scoped>\n",
       "    .dataframe tbody tr th:only-of-type {\n",
       "        vertical-align: middle;\n",
       "    }\n",
       "\n",
       "    .dataframe tbody tr th {\n",
       "        vertical-align: top;\n",
       "    }\n",
       "\n",
       "    .dataframe thead tr th {\n",
       "        text-align: left;\n",
       "    }\n",
       "\n",
       "    .dataframe thead tr:last-of-type th {\n",
       "        text-align: right;\n",
       "    }\n",
       "</style>\n",
       "<table border=\"1\" class=\"dataframe\">\n",
       "  <thead>\n",
       "    <tr>\n",
       "      <th></th>\n",
       "      <th>count</th>\n",
       "      <th>sum</th>\n",
       "      <th>mean</th>\n",
       "    </tr>\n",
       "    <tr>\n",
       "      <th></th>\n",
       "      <th>debt</th>\n",
       "      <th>debt</th>\n",
       "      <th>debt</th>\n",
       "    </tr>\n",
       "    <tr>\n",
       "      <th>children</th>\n",
       "      <th></th>\n",
       "      <th></th>\n",
       "      <th></th>\n",
       "    </tr>\n",
       "  </thead>\n",
       "  <tbody>\n",
       "    <tr>\n",
       "      <th>0</th>\n",
       "      <td>14091</td>\n",
       "      <td>1063</td>\n",
       "      <td>0.075438</td>\n",
       "    </tr>\n",
       "    <tr>\n",
       "      <th>1</th>\n",
       "      <td>4808</td>\n",
       "      <td>444</td>\n",
       "      <td>0.092346</td>\n",
       "    </tr>\n",
       "    <tr>\n",
       "      <th>2</th>\n",
       "      <td>2052</td>\n",
       "      <td>194</td>\n",
       "      <td>0.094542</td>\n",
       "    </tr>\n",
       "    <tr>\n",
       "      <th>3</th>\n",
       "      <td>330</td>\n",
       "      <td>27</td>\n",
       "      <td>0.081818</td>\n",
       "    </tr>\n",
       "    <tr>\n",
       "      <th>4</th>\n",
       "      <td>41</td>\n",
       "      <td>4</td>\n",
       "      <td>0.097561</td>\n",
       "    </tr>\n",
       "    <tr>\n",
       "      <th>5</th>\n",
       "      <td>9</td>\n",
       "      <td>0</td>\n",
       "      <td>0.000000</td>\n",
       "    </tr>\n",
       "  </tbody>\n",
       "</table>\n",
       "</div>"
      ],
      "text/plain": [
       "          count   sum      mean\n",
       "           debt  debt      debt\n",
       "children                       \n",
       "0         14091  1063  0.075438\n",
       "1          4808   444  0.092346\n",
       "2          2052   194  0.094542\n",
       "3           330    27  0.081818\n",
       "4            41     4  0.097561\n",
       "5             9     0  0.000000"
      ]
     },
     "metadata": {},
     "output_type": "display_data"
    }
   ],
   "source": [
    "data_pivot_child_debt = data.pivot_table(index='children', values='debt', aggfunc=['count', 'sum','mean'])\n",
    "display(data_pivot_child_debt)"
   ]
  },
  {
   "cell_type": "markdown",
   "id": "c41c1eda",
   "metadata": {},
   "source": [
    "* За исключением заемщиков с 5 детьми(где выборка совсем мала) данные получились весьма похожи,\n",
    " судя по всему наличие детей повышает риск невозврата в срок\n",
    " поскольку значения выглядят близкими, сделаем дополнительный подсчет для сравнения\n",
    " бездетных заемщиков и заемщиков с детьми"
   ]
  },
  {
   "cell_type": "code",
   "execution_count": 25,
   "id": "6e118213",
   "metadata": {},
   "outputs": [],
   "source": [
    "data['kids_yes'] = data['children'] != 0\n"
   ]
  },
  {
   "cell_type": "code",
   "execution_count": 26,
   "id": "59093bf8",
   "metadata": {},
   "outputs": [
    {
     "data": {
      "text/html": [
       "<div>\n",
       "<style scoped>\n",
       "    .dataframe tbody tr th:only-of-type {\n",
       "        vertical-align: middle;\n",
       "    }\n",
       "\n",
       "    .dataframe tbody tr th {\n",
       "        vertical-align: top;\n",
       "    }\n",
       "\n",
       "    .dataframe thead tr th {\n",
       "        text-align: left;\n",
       "    }\n",
       "</style>\n",
       "<table border=\"1\" class=\"dataframe\">\n",
       "  <thead>\n",
       "    <tr>\n",
       "      <th></th>\n",
       "      <th>kids_yes</th>\n",
       "      <th>count</th>\n",
       "      <th>sum</th>\n",
       "      <th>mean</th>\n",
       "    </tr>\n",
       "    <tr>\n",
       "      <th></th>\n",
       "      <th></th>\n",
       "      <th>debt</th>\n",
       "      <th>debt</th>\n",
       "      <th>debt</th>\n",
       "    </tr>\n",
       "  </thead>\n",
       "  <tbody>\n",
       "    <tr>\n",
       "      <th>0</th>\n",
       "      <td>False</td>\n",
       "      <td>14091</td>\n",
       "      <td>1063</td>\n",
       "      <td>0.075438</td>\n",
       "    </tr>\n",
       "    <tr>\n",
       "      <th>1</th>\n",
       "      <td>True</td>\n",
       "      <td>7240</td>\n",
       "      <td>669</td>\n",
       "      <td>0.092403</td>\n",
       "    </tr>\n",
       "  </tbody>\n",
       "</table>\n",
       "</div>"
      ],
      "text/plain": [
       "  kids_yes  count   sum      mean\n",
       "             debt  debt      debt\n",
       "0    False  14091  1063  0.075438\n",
       "1     True   7240   669  0.092403"
      ]
     },
     "metadata": {},
     "output_type": "display_data"
    },
    {
     "name": "stdout",
     "output_type": "stream",
     "text": [
      "Вероятность что заемщик с детьми не заплатит вовремя выше в ~ 1.2249 раз\n"
     ]
    },
    {
     "name": "stderr",
     "output_type": "stream",
     "text": [
      "C:\\Users\\Freo\\AppData\\Local\\Temp\\ipykernel_19588\\703367820.py:6: FutureWarning: Series.__getitem__ treating keys as positions is deprecated. In a future version, integer keys will always be treated as labels (consistent with DataFrame behavior). To access a value by position, use `ser.iloc[pos]`\n",
      "  print(f'Вероятность что заемщик с детьми не заплатит вовремя выше в ~ {(data_pivot_kids_y_n_debt.loc[1][3] / data_pivot_kids_y_n_debt.loc[0][3]):.4f} раз')\n"
     ]
    }
   ],
   "source": [
    "data_pivot_kids_y_n_debt = data.pivot_table(index='kids_yes', values='debt', aggfunc=['count', 'sum','mean'])\n",
    "data_pivot_kids_y_n_debt = data_pivot_kids_y_n_debt.reset_index()\n",
    "\n",
    "display(data_pivot_kids_y_n_debt)\n",
    "\n",
    "print(f'Вероятность что заемщик с детьми не заплатит вовремя выше в ~ {(data_pivot_kids_y_n_debt.loc[1][3] / data_pivot_kids_y_n_debt.loc[0][3]):.4f} раз')\n",
    "#вероятность что заемщик имеющий детей не сделает платеж вовремя выше на ~22.5% по сравнению с бездетным"
   ]
  },
  {
   "cell_type": "markdown",
   "id": "d54a2e30",
   "metadata": {
    "deletable": false,
    "id": "3a6b99ec"
   },
   "source": [
    "**Вывод:**\n",
    "мы проверили есть ли зависимость между количеством детей и возвратом кредита в срок, и обнаружили что она действительно существует. Важно сделать оговорку что с увеличением количества детей - выборка становится все менее репрезентативной, и даже единичные случаи будут сильно смещать %, поэтому построить точную предсказательную модель для каждого конкретного значения детей не получится; однако судя по всему на имеющихся данных для всех заемщиков с детьми ожидаемый % неплательщиков примерно одинаков, и он выше чем % неплательщиков без детей. Поэтому хорошей идеей будет сравнить общий процент неплательщиков без детей и неплатещиков с детьми, тем самым увеличив выборку и сгладив погрешность.\n",
    "\n",
    "**Есть ли зависимость между количеством детей и возвратом кредита в срок?** - есть;\n",
    "\n",
    "Вероятность что заемщик имеющий детей не сделает платеж вовремя выше на ~22.5% по сравнению с бездетным"
   ]
  },
  {
   "cell_type": "markdown",
   "id": "c7f1e3a4",
   "metadata": {
    "deletable": false,
    "editable": false,
    "id": "97be82ca"
   },
   "source": [
    "### 3.2 Есть зависимость между семейным положением и возвратом кредита в срок\n"
   ]
  },
  {
   "cell_type": "code",
   "execution_count": 27,
   "id": "85d75f0c",
   "metadata": {
    "deletable": false,
    "id": "dc3f7ee8",
    "scrolled": true
   },
   "outputs": [
    {
     "data": {
      "text/html": [
       "<div>\n",
       "<style scoped>\n",
       "    .dataframe tbody tr th:only-of-type {\n",
       "        vertical-align: middle;\n",
       "    }\n",
       "\n",
       "    .dataframe tbody tr th {\n",
       "        vertical-align: top;\n",
       "    }\n",
       "\n",
       "    .dataframe thead tr th {\n",
       "        text-align: left;\n",
       "    }\n",
       "\n",
       "    .dataframe thead tr:last-of-type th {\n",
       "        text-align: right;\n",
       "    }\n",
       "</style>\n",
       "<table border=\"1\" class=\"dataframe\">\n",
       "  <thead>\n",
       "    <tr>\n",
       "      <th></th>\n",
       "      <th>count</th>\n",
       "      <th>sum</th>\n",
       "      <th>mean</th>\n",
       "    </tr>\n",
       "    <tr>\n",
       "      <th></th>\n",
       "      <th>debt</th>\n",
       "      <th>debt</th>\n",
       "      <th>debt</th>\n",
       "    </tr>\n",
       "    <tr>\n",
       "      <th>family_status</th>\n",
       "      <th></th>\n",
       "      <th></th>\n",
       "      <th></th>\n",
       "    </tr>\n",
       "  </thead>\n",
       "  <tbody>\n",
       "    <tr>\n",
       "      <th>Не женат / не замужем</th>\n",
       "      <td>2796</td>\n",
       "      <td>273</td>\n",
       "      <td>0.097639</td>\n",
       "    </tr>\n",
       "    <tr>\n",
       "      <th>в разводе</th>\n",
       "      <td>1189</td>\n",
       "      <td>84</td>\n",
       "      <td>0.070648</td>\n",
       "    </tr>\n",
       "    <tr>\n",
       "      <th>вдовец / вдова</th>\n",
       "      <td>951</td>\n",
       "      <td>63</td>\n",
       "      <td>0.066246</td>\n",
       "    </tr>\n",
       "    <tr>\n",
       "      <th>гражданский брак</th>\n",
       "      <td>4134</td>\n",
       "      <td>385</td>\n",
       "      <td>0.093130</td>\n",
       "    </tr>\n",
       "    <tr>\n",
       "      <th>женат / замужем</th>\n",
       "      <td>12261</td>\n",
       "      <td>927</td>\n",
       "      <td>0.075606</td>\n",
       "    </tr>\n",
       "  </tbody>\n",
       "</table>\n",
       "</div>"
      ],
      "text/plain": [
       "                       count  sum      mean\n",
       "                        debt debt      debt\n",
       "family_status                              \n",
       "Не женат / не замужем   2796  273  0.097639\n",
       "в разводе               1189   84  0.070648\n",
       "вдовец / вдова           951   63  0.066246\n",
       "гражданский брак        4134  385  0.093130\n",
       "женат / замужем        12261  927  0.075606"
      ]
     },
     "metadata": {},
     "output_type": "display_data"
    }
   ],
   "source": [
    "# по аналогии с поиском зависимости из прошлого задания построим сводную таблицу для family_status\n",
    "\n",
    "data_pivot_family_status_id_debt = data.pivot_table(index='family_status', values='debt', aggfunc=['count', 'sum','mean'])\n",
    "display(data_pivot_family_status_id_debt)\n",
    "\n"
   ]
  },
  {
   "cell_type": "markdown",
   "id": "8fae2900",
   "metadata": {},
   "source": [
    "Итоговое соотношение семейного положения и возврата в срок: женат / замужем = 7.56% гражданский брак = 9.31% вдовец / вдова = 6.62% в разводе = 7.06% Не женат / не замужем = 9.76%\n",
    "\n",
    "Данные опять разделились на две группы, с меньшим и большим риском невозврата; конечно они не полностью однородны чтобы уверенно обьяединять и оперировать только ими двумя, но различие внутри этих групп куда меньше различия \"снаружи\", будет интересно сравнить насколько отличаются в среднем."
   ]
  },
  {
   "cell_type": "code",
   "execution_count": 28,
   "id": "eeccd053",
   "metadata": {},
   "outputs": [
    {
     "data": {
      "text/plain": [
       "0    женат / замужем\n",
       "Name: family_status, dtype: object"
      ]
     },
     "metadata": {},
     "output_type": "display_data"
    },
    {
     "data": {
      "text/plain": [
       "4    гражданский брак\n",
       "Name: family_status, dtype: object"
      ]
     },
     "metadata": {},
     "output_type": "display_data"
    },
    {
     "data": {
      "text/plain": [
       "18    вдовец / вдова\n",
       "Name: family_status, dtype: object"
      ]
     },
     "metadata": {},
     "output_type": "display_data"
    },
    {
     "data": {
      "text/plain": [
       "19    в разводе\n",
       "Name: family_status, dtype: object"
      ]
     },
     "metadata": {},
     "output_type": "display_data"
    },
    {
     "data": {
      "text/plain": [
       "24    Не женат / не замужем\n",
       "Name: family_status, dtype: object"
      ]
     },
     "metadata": {},
     "output_type": "display_data"
    }
   ],
   "source": [
    "# сначала проверим на соответствие 'family_status_id' и 'family_status' чтобы далее пользоваться ими\n",
    "display(data[data['family_status_id']==0]['family_status'].head(1))\n",
    "display(data[data['family_status_id']==1]['family_status'].head(1))\n",
    "display(data[data['family_status_id']==2]['family_status'].head(1))\n",
    "display(data[data['family_status_id']==3]['family_status'].head(1))\n",
    "display(data[data['family_status_id']==4]['family_status'].head(1))\n",
    "# 0 - женат / замужем; 1 - гражданский брак; 2 - вдовец / вдова; 3 - в разводе; 4 - Не женат / не замужем\n"
   ]
  },
  {
   "cell_type": "code",
   "execution_count": 29,
   "id": "1d0c8439",
   "metadata": {},
   "outputs": [
    {
     "data": {
      "text/html": [
       "<div>\n",
       "<style scoped>\n",
       "    .dataframe tbody tr th:only-of-type {\n",
       "        vertical-align: middle;\n",
       "    }\n",
       "\n",
       "    .dataframe tbody tr th {\n",
       "        vertical-align: top;\n",
       "    }\n",
       "\n",
       "    .dataframe thead tr th {\n",
       "        text-align: left;\n",
       "    }\n",
       "</style>\n",
       "<table border=\"1\" class=\"dataframe\">\n",
       "  <thead>\n",
       "    <tr>\n",
       "      <th></th>\n",
       "      <th>family_group_high_risk</th>\n",
       "      <th>count</th>\n",
       "      <th>sum</th>\n",
       "      <th>mean</th>\n",
       "    </tr>\n",
       "    <tr>\n",
       "      <th></th>\n",
       "      <th></th>\n",
       "      <th>debt</th>\n",
       "      <th>debt</th>\n",
       "      <th>debt</th>\n",
       "    </tr>\n",
       "  </thead>\n",
       "  <tbody>\n",
       "    <tr>\n",
       "      <th>0</th>\n",
       "      <td>False</td>\n",
       "      <td>14401</td>\n",
       "      <td>1074</td>\n",
       "      <td>0.074578</td>\n",
       "    </tr>\n",
       "    <tr>\n",
       "      <th>1</th>\n",
       "      <td>True</td>\n",
       "      <td>6930</td>\n",
       "      <td>658</td>\n",
       "      <td>0.094949</td>\n",
       "    </tr>\n",
       "  </tbody>\n",
       "</table>\n",
       "</div>"
      ],
      "text/plain": [
       "  family_group_high_risk  count   sum      mean\n",
       "                           debt  debt      debt\n",
       "0                  False  14401  1074  0.074578\n",
       "1                   True   6930   658  0.094949"
      ]
     },
     "metadata": {},
     "output_type": "display_data"
    },
    {
     "name": "stdout",
     "output_type": "stream",
     "text": [
      "Вероятность что заемщик категории высокого риска не заплатит вовремя выше в ~1.2732 раз\n"
     ]
    },
    {
     "name": "stderr",
     "output_type": "stream",
     "text": [
      "C:\\Users\\Freo\\AppData\\Local\\Temp\\ipykernel_19588\\4048275479.py:8: FutureWarning: Series.__getitem__ treating keys as positions is deprecated. In a future version, integer keys will always be treated as labels (consistent with DataFrame behavior). To access a value by position, use `ser.iloc[pos]`\n",
      "  f'{(data_pivot_family_risk_cat_debt.loc[1][3] / data_pivot_family_risk_cat_debt.loc[0][3]):.4f} раз')\n"
     ]
    }
   ],
   "source": [
    "#зададим условия формирования групп: высокий риск \"гражданский брак\" и \"Не женат / не замужем\"\n",
    "data['family_group_high_risk'] = (data['family_status_id'] == 1) | ( data['family_status_id'] ==4)\n",
    "\n",
    "data_pivot_family_risk_cat_debt = data.pivot_table(index='family_group_high_risk', values='debt', aggfunc=['count', 'sum','mean'])\n",
    "data_pivot_family_risk_cat_debt=data_pivot_family_risk_cat_debt.reset_index()\n",
    "display(data_pivot_family_risk_cat_debt)\n",
    "print(f'Вероятность что заемщик категории высокого риска не заплатит вовремя выше в ~'\n",
    "      f'{(data_pivot_family_risk_cat_debt.loc[1][3] / data_pivot_family_risk_cat_debt.loc[0][3]):.4f} раз')\n",
    "\n"
   ]
  },
  {
   "cell_type": "markdown",
   "id": "a01adf84",
   "metadata": {
    "deletable": false,
    "id": "1cef7837"
   },
   "source": [
    "**Вывод:** \n",
    "несмотря на не очень большой размер выборки в представленных данных удалось найти определенные закономерности:\n",
    "самый низкий процент невозврата у катергии \"вдовец\\вдова\", затем 'в разводе' и 'женат \\ замужем'.\n",
    "С учетом того что выборка для \"вдовец \\ вдова\" и \"в разводе\" весьма небольшая, дополнительные случаи невозврата могут слегка изменить позиции этих трех категорий относительно друг друга.\n",
    "\n",
    "Процент невозврата вовремя у категорий \"гражданский брак\" и \"Не женат / не замужем\" существенно выше (9.31% и 9.76% соотв.) что позволяет сделать предположение о прямой зависимости между возврастом; те кто находящится в гражданском браке и не женатые (не замужние) как правило - молоды, а точнее вероятность этого, скорее всего, обратно пропорциональна возрасту\n",
    "\n",
    "\n",
    "\n",
    "**Есть ли зависимость между семейным положением и возвратом кредита в срок?** - есть;\n",
    "\n",
    "Процент невозврата у катергии \"вдовец\\вдова\", 'в разводе', 'женат \\ замужем' = ниже, а у категорий \"гражданский брак\", \"не женат \\ не замужем\" = выше, в среднем примерно на 27%\n",
    "\n"
   ]
  },
  {
   "cell_type": "markdown",
   "id": "c789c530",
   "metadata": {
    "deletable": false,
    "editable": false,
    "id": "1e8b2fca"
   },
   "source": [
    "### 3.3 Есть зависимость между уровнем дохода и возвратом кредита в срок"
   ]
  },
  {
   "cell_type": "code",
   "execution_count": 30,
   "id": "a342bc17",
   "metadata": {
    "deletable": false,
    "id": "cd7e3720"
   },
   "outputs": [
    {
     "data": {
      "text/html": [
       "<div>\n",
       "<style scoped>\n",
       "    .dataframe tbody tr th:only-of-type {\n",
       "        vertical-align: middle;\n",
       "    }\n",
       "\n",
       "    .dataframe tbody tr th {\n",
       "        vertical-align: top;\n",
       "    }\n",
       "\n",
       "    .dataframe thead tr th {\n",
       "        text-align: left;\n",
       "    }\n",
       "</style>\n",
       "<table border=\"1\" class=\"dataframe\">\n",
       "  <thead>\n",
       "    <tr>\n",
       "      <th></th>\n",
       "      <th>total_income_category</th>\n",
       "      <th>count</th>\n",
       "      <th>sum</th>\n",
       "      <th>mean</th>\n",
       "    </tr>\n",
       "    <tr>\n",
       "      <th></th>\n",
       "      <th></th>\n",
       "      <th>debt</th>\n",
       "      <th>debt</th>\n",
       "      <th>debt</th>\n",
       "    </tr>\n",
       "  </thead>\n",
       "  <tbody>\n",
       "    <tr>\n",
       "      <th>0</th>\n",
       "      <td>A</td>\n",
       "      <td>25</td>\n",
       "      <td>2</td>\n",
       "      <td>0.080000</td>\n",
       "    </tr>\n",
       "    <tr>\n",
       "      <th>1</th>\n",
       "      <td>B</td>\n",
       "      <td>5014</td>\n",
       "      <td>354</td>\n",
       "      <td>0.070602</td>\n",
       "    </tr>\n",
       "    <tr>\n",
       "      <th>2</th>\n",
       "      <td>C</td>\n",
       "      <td>15921</td>\n",
       "      <td>1353</td>\n",
       "      <td>0.084982</td>\n",
       "    </tr>\n",
       "    <tr>\n",
       "      <th>3</th>\n",
       "      <td>D</td>\n",
       "      <td>349</td>\n",
       "      <td>21</td>\n",
       "      <td>0.060172</td>\n",
       "    </tr>\n",
       "    <tr>\n",
       "      <th>4</th>\n",
       "      <td>E</td>\n",
       "      <td>22</td>\n",
       "      <td>2</td>\n",
       "      <td>0.090909</td>\n",
       "    </tr>\n",
       "  </tbody>\n",
       "</table>\n",
       "</div>"
      ],
      "text/plain": [
       "  total_income_category  count   sum      mean\n",
       "                          debt  debt      debt\n",
       "0                     A     25     2  0.080000\n",
       "1                     B   5014   354  0.070602\n",
       "2                     C  15921  1353  0.084982\n",
       "3                     D    349    21  0.060172\n",
       "4                     E     22     2  0.090909"
      ]
     },
     "metadata": {},
     "output_type": "display_data"
    }
   ],
   "source": [
    "# по аналогии с прошлым заданием построим сводную таблицу\n",
    "data_pivot_income_cat_debt = data.pivot_table(index='total_income_category', values='debt', aggfunc=['count', 'sum','mean'])\n",
    "data_pivot_income_cat_debt = data_pivot_income_cat_debt.reset_index()\n",
    "display(data_pivot_income_cat_debt)\n"
   ]
  },
  {
   "cell_type": "markdown",
   "id": "d2448aec",
   "metadata": {},
   "source": [
    "категории для разграничения уровней дохода мы определили ранее;\n",
    "\n",
    "после анализа статистики видно что категории \"A\" и \"E\" практически не пользуются услугами кредитования, (при этом даже высокий доход совсем не гарантирует что оплата будет вовремя, несмотря на то что выборка по доходу до 30000 и более 1м совсем мала и непрезентативна, мы получили забавную ситуацию с практически идентичным % не заплативших вовремя)\n",
    "\n",
    "видим что подавляющее большинство заемщиков из полученных данных попали в категорию \"С\", возможно следовало выбирать категории на этом отрезке меньшим шагом, к примеру 50-100к, 100-150, 150-200  \\ начав ее \"выше\", подняв засчет этого верхнюю границу \"D\" чтобы получить больше возможностей для сравнения.\n",
    "\n",
    "видим что в категории \"D\" (несмотретря на небольшую выборку) процент задержки выплат ниже чем в категориях с самым высоким доходом\n",
    "\n",
    "видим что при росте зарплат при сравнении \"C\" и \"B\" количество задержек снижается"
   ]
  },
  {
   "cell_type": "code",
   "execution_count": 31,
   "id": "8e959350",
   "metadata": {},
   "outputs": [
    {
     "name": "stdout",
     "output_type": "stream",
     "text": [
      "При сравнении категорий \"C\" и \"B\" вероятность что заемщик из категоии \"С\" не заплатит вовремя выше в ~ 1.2037 раз\n"
     ]
    },
    {
     "name": "stderr",
     "output_type": "stream",
     "text": [
      "C:\\Users\\Freo\\AppData\\Local\\Temp\\ipykernel_19588\\894634680.py:3: FutureWarning: Series.__getitem__ treating keys as positions is deprecated. In a future version, integer keys will always be treated as labels (consistent with DataFrame behavior). To access a value by position, use `ser.iloc[pos]`\n",
      "  f'{(data_pivot_income_cat_debt.loc[2][3] / data_pivot_income_cat_debt.loc[1][3]):.4f} раз')\n"
     ]
    }
   ],
   "source": [
    "print(\n",
    "    f'При сравнении категорий \"C\" и \"B\" вероятность что заемщик из категоии \"С\" не заплатит вовремя выше в ~ '\n",
    "      f'{(data_pivot_income_cat_debt.loc[2][3] / data_pivot_income_cat_debt.loc[1][3]):.4f} раз')"
   ]
  },
  {
   "cell_type": "markdown",
   "id": "7e6926e0",
   "metadata": {
    "deletable": false,
    "id": "e8593def"
   },
   "source": [
    "**Вывод:** \n",
    "**Есть ли зависимость между уровнем дохода и возвратом кредита в срок?** - есть, но:!\n",
    "\n",
    "Судя по всему можно сделать выводы только для сравнения высокого и очень высокого уровня дохода:\n",
    "\n",
    "Заемщики с доходом 50001–200000 задерживают платежи по кредиту в среднем на 20% чаще чем замщики с доходом 200001–1000000.\n",
    "\n",
    "чтобы выявить зависимость для среднего и высокого уровня доходов необходимо изменить границы категорий"
   ]
  },
  {
   "cell_type": "markdown",
   "id": "fdc27a95",
   "metadata": {
    "deletable": false,
    "editable": false,
    "id": "99ecbd1f"
   },
   "source": [
    "### 3.4 Есть зависимость между целью кредита влияют на его возврат в срок"
   ]
  },
  {
   "cell_type": "code",
   "execution_count": 32,
   "id": "980373c5",
   "metadata": {
    "deletable": false,
    "id": "2b687290"
   },
   "outputs": [
    {
     "name": "stdout",
     "output_type": "stream",
     "text": [
      "           purpose_category  count  sum      mean\n",
      "                              debt debt      debt\n",
      "0    операции с автомобилем   4279  400  0.093480\n",
      "1  операции с недвижимостью  10751  780  0.072551\n",
      "2     получение образования   3988  369  0.092528\n",
      "3        проведение свадьбы   2313  183  0.079118\n"
     ]
    }
   ],
   "source": [
    "# по аналогии с прошлым заданием построим сводную таблицу\n",
    "data_pivot_purpose_cat_debt = data.pivot_table(index='purpose_category', values='debt', aggfunc=['count', 'sum','mean'])\n",
    "\n",
    "data_pivot_purpose_cat_debt = data_pivot_purpose_cat_debt.reset_index()\n",
    "print(data_pivot_purpose_cat_debt)"
   ]
  },
  {
   "cell_type": "markdown",
   "id": "fffaa998",
   "metadata": {},
   "source": [
    "* Посчитаем по аналогии сравнение для категорий \"высокого\" и \"низкого\" рисков невозврата, сначала включая \"свадьбу\" в категории низкого риска, а затем относя ее к средним - и сравнивая только категории авто+образование с кредитами категории недвижимость"
   ]
  },
  {
   "cell_type": "code",
   "execution_count": 33,
   "id": "f658691a",
   "metadata": {},
   "outputs": [
    {
     "data": {
      "text/html": [
       "<div>\n",
       "<style scoped>\n",
       "    .dataframe tbody tr th:only-of-type {\n",
       "        vertical-align: middle;\n",
       "    }\n",
       "\n",
       "    .dataframe tbody tr th {\n",
       "        vertical-align: top;\n",
       "    }\n",
       "\n",
       "    .dataframe thead tr th {\n",
       "        text-align: left;\n",
       "    }\n",
       "</style>\n",
       "<table border=\"1\" class=\"dataframe\">\n",
       "  <thead>\n",
       "    <tr>\n",
       "      <th></th>\n",
       "      <th>purpose_high_risk</th>\n",
       "      <th>count</th>\n",
       "      <th>sum</th>\n",
       "      <th>mean</th>\n",
       "    </tr>\n",
       "    <tr>\n",
       "      <th></th>\n",
       "      <th></th>\n",
       "      <th>debt</th>\n",
       "      <th>debt</th>\n",
       "      <th>debt</th>\n",
       "    </tr>\n",
       "  </thead>\n",
       "  <tbody>\n",
       "    <tr>\n",
       "      <th>0</th>\n",
       "      <td>False</td>\n",
       "      <td>13064</td>\n",
       "      <td>963</td>\n",
       "      <td>0.073714</td>\n",
       "    </tr>\n",
       "    <tr>\n",
       "      <th>1</th>\n",
       "      <td>True</td>\n",
       "      <td>8267</td>\n",
       "      <td>769</td>\n",
       "      <td>0.093020</td>\n",
       "    </tr>\n",
       "  </tbody>\n",
       "</table>\n",
       "</div>"
      ],
      "text/plain": [
       "  purpose_high_risk  count  sum      mean\n",
       "                      debt debt      debt\n",
       "0             False  13064  963  0.073714\n",
       "1              True   8267  769  0.093020"
      ]
     },
     "metadata": {},
     "output_type": "display_data"
    },
    {
     "name": "stdout",
     "output_type": "stream",
     "text": [
      "Вероятность невыплаты в группе высокого риска выше в 1.2619 раз чем в группе низкого\n",
      "Вероятность невыплаты в группе высокого риска выше в 1.2821 раз чем вероятность невыплаты в категории недвижимости\n"
     ]
    },
    {
     "name": "stderr",
     "output_type": "stream",
     "text": [
      "C:\\Users\\Freo\\AppData\\Local\\Temp\\ipykernel_19588\\1313574027.py:10: FutureWarning: Series.__getitem__ treating keys as positions is deprecated. In a future version, integer keys will always be treated as labels (consistent with DataFrame behavior). To access a value by position, use `ser.iloc[pos]`\n",
      "  f'{(data_pivot_purpose_cat_high_risk_debt.loc[1][3] / data_pivot_purpose_cat_high_risk_debt.loc[0][3]):.4f}'\n",
      "C:\\Users\\Freo\\AppData\\Local\\Temp\\ipykernel_19588\\1313574027.py:15: FutureWarning: Series.__getitem__ treating keys as positions is deprecated. In a future version, integer keys will always be treated as labels (consistent with DataFrame behavior). To access a value by position, use `ser.iloc[pos]`\n",
      "  f'{data_pivot_purpose_cat_high_risk_debt.loc[1][3]/data_pivot_purpose_cat_debt.loc[1][3]:.4f} раз '\n"
     ]
    }
   ],
   "source": [
    "data['purpose_high_risk'] = (data['purpose_category'] == 'получение образования') | ( data['purpose_category'] =='операции с автомобилем')\n",
    "\n",
    "data_pivot_purpose_cat_high_risk_debt = data.pivot_table(index='purpose_high_risk', values='debt', aggfunc=['count', 'sum','mean'])\n",
    "data_pivot_purpose_cat_high_risk_debt = data_pivot_purpose_cat_high_risk_debt.reset_index()\n",
    "\n",
    "display(data_pivot_purpose_cat_high_risk_debt)\n",
    "\n",
    "print(\n",
    "    f'Вероятность невыплаты в группе высокого риска выше в '\n",
    "      f'{(data_pivot_purpose_cat_high_risk_debt.loc[1][3] / data_pivot_purpose_cat_high_risk_debt.loc[0][3]):.4f}'\n",
    "    f' раз чем в группе низкого'\n",
    ")\n",
    "\n",
    "print(f'Вероятность невыплаты в группе высокого риска выше в '\n",
    "    f'{data_pivot_purpose_cat_high_risk_debt.loc[1][3]/data_pivot_purpose_cat_debt.loc[1][3]:.4f} раз '\n",
    "      f'чем вероятность невыплаты в категории недвижимости'\n",
    "     ) "
   ]
  },
  {
   "cell_type": "markdown",
   "id": "1b649e3e",
   "metadata": {},
   "source": [
    "* наименьший процент задержек по выплатам ( \\~7.26%) в категории \"операции с недвижимостью\", включающей в себя ремонт и покупку жилья(при этом эта категория является самой распространенной);\n",
    "\n",
    "* затем, \"на проведение свадьбы\" ( \\~7.91% задержек);\n",
    "\n",
    "* затем 'получение образования' и 'операции с автомобилем' (\\~9.25% и \\~9.35% соотв.)\n",
    "\n",
    "Разница между включением и не включением кредитов на свадьбу в группу низкого риска выглядит небольшой, но это из-за разного веса в выборке, размеры выборок отличаются почти в 5 раз, и кредиты на недвижимость \"размывают\" дельту засчет своей многочисленности, поэтому здесь я бы не торопился обьединять их в одно, особенно с учетого разной природы их целеполагания.\n",
    "\n",
    "> _Разница в задержках по выплатам в категории недвижимости в сравнении с образованием и автомобилем почти 28%!_\n",
    "\n",
    "\n"
   ]
  },
  {
   "cell_type": "markdown",
   "id": "61bfcc9a",
   "metadata": {
    "deletable": false,
    "id": "b4bb2ce6"
   },
   "source": [
    "**Вывод:** \n",
    "\n",
    "\n",
    "**Как разные цели кредита влияют на его возврат в срок?**\n",
    "кредиты взятые в категории \"операции с недвижимостью\"существенно повышают вероятность их возврата в срок, можно предположить что это связанно с осознанным заранее запланированным решением о кредите;\n",
    "а так же можно предположить что у категорий \"получение образования\" и \"операции с автомобилем\" есть зависимость с возрастом; те кто берут кредит на образование - как правило - молоды.\n",
    "\n"
   ]
  },
  {
   "cell_type": "markdown",
   "id": "e721af00",
   "metadata": {},
   "source": [
    "### 3.5 Есть зависимость между возрастом заемщика и возврата кредита в срок"
   ]
  },
  {
   "cell_type": "code",
   "execution_count": 34,
   "id": "d508d4ec",
   "metadata": {},
   "outputs": [
    {
     "data": {
      "text/html": [
       "<div>\n",
       "<style scoped>\n",
       "    .dataframe tbody tr th:only-of-type {\n",
       "        vertical-align: middle;\n",
       "    }\n",
       "\n",
       "    .dataframe tbody tr th {\n",
       "        vertical-align: top;\n",
       "    }\n",
       "\n",
       "    .dataframe thead tr th {\n",
       "        text-align: left;\n",
       "    }\n",
       "\n",
       "    .dataframe thead tr:last-of-type th {\n",
       "        text-align: right;\n",
       "    }\n",
       "</style>\n",
       "<table border=\"1\" class=\"dataframe\">\n",
       "  <thead>\n",
       "    <tr>\n",
       "      <th></th>\n",
       "      <th>count</th>\n",
       "      <th>sum</th>\n",
       "      <th>mean</th>\n",
       "    </tr>\n",
       "    <tr>\n",
       "      <th></th>\n",
       "      <th>debt</th>\n",
       "      <th>debt</th>\n",
       "      <th>debt</th>\n",
       "    </tr>\n",
       "    <tr>\n",
       "      <th>age_category</th>\n",
       "      <th></th>\n",
       "      <th></th>\n",
       "      <th></th>\n",
       "    </tr>\n",
       "  </thead>\n",
       "  <tbody>\n",
       "    <tr>\n",
       "      <th>A</th>\n",
       "      <td>2118</td>\n",
       "      <td>101</td>\n",
       "      <td>0.047686</td>\n",
       "    </tr>\n",
       "    <tr>\n",
       "      <th>B</th>\n",
       "      <td>4496</td>\n",
       "      <td>279</td>\n",
       "      <td>0.062055</td>\n",
       "    </tr>\n",
       "    <tr>\n",
       "      <th>C</th>\n",
       "      <td>5225</td>\n",
       "      <td>400</td>\n",
       "      <td>0.076555</td>\n",
       "    </tr>\n",
       "    <tr>\n",
       "      <th>D</th>\n",
       "      <td>5693</td>\n",
       "      <td>541</td>\n",
       "      <td>0.095029</td>\n",
       "    </tr>\n",
       "    <tr>\n",
       "      <th>E</th>\n",
       "      <td>3799</td>\n",
       "      <td>411</td>\n",
       "      <td>0.108186</td>\n",
       "    </tr>\n",
       "  </tbody>\n",
       "</table>\n",
       "</div>"
      ],
      "text/plain": [
       "             count  sum      mean\n",
       "              debt debt      debt\n",
       "age_category                     \n",
       "A             2118  101  0.047686\n",
       "B             4496  279  0.062055\n",
       "C             5225  400  0.076555\n",
       "D             5693  541  0.095029\n",
       "E             3799  411  0.108186"
      ]
     },
     "metadata": {},
     "output_type": "display_data"
    }
   ],
   "source": [
    "def categorize_age(age):\n",
    "    try:\n",
    "        if 0 <= age <= 30:\n",
    "            return 'E'\n",
    "        elif 31 <= age <= 40:\n",
    "            return 'D'\n",
    "        elif 41 <= age <= 50:\n",
    "            return 'C'\n",
    "        elif 51 <= age <= 60:\n",
    "            return 'B'\n",
    "        elif age >= 61:\n",
    "            return 'A'\n",
    "    except:\n",
    "        pass\n",
    "\n",
    "\n",
    "data['age_category'] = data['dob_years'].apply(categorize_age)\n",
    "\n",
    "data_pivot_age_debt = data.pivot_table(index='age_category', values='debt', aggfunc=['count', 'sum', 'mean'])\n",
    "\n",
    "display(data_pivot_age_debt)"
   ]
  },
  {
   "cell_type": "markdown",
   "id": "5adf1ea2",
   "metadata": {},
   "source": [
    "гипотеза подтвердилась, вероятность возврата кредита вовремя обратно пропорциальна возрасту "
   ]
  },
  {
   "cell_type": "markdown",
   "id": "dce4b47b",
   "metadata": {
    "deletable": false,
    "editable": false,
    "id": "6db5255a"
   },
   "source": [
    "### Общий вывод"
   ]
  },
  {
   "cell_type": "markdown",
   "id": "a1d92ed8",
   "metadata": {
    "deletable": false,
    "id": "bad65432"
   },
   "source": [
    "После анализа даннных можно сделать следующие выводы:\n",
    "\n",
    "- Вероятность что заемщик имеющий детей не сделает платеж вовремя выше на ~22.5% по сравнению с бездетным\n",
    "\n",
    "- вероятность что заемщик в статусе \"не замужем \\ не женат\" и \"гражданский брак не сделает платеж вовремя выше на ~27% по сравнению с другими категориями\n",
    "\n",
    "- при сравнении высокого (50001–200000) и очень высокого уровня (200001–1000000) вероятность что заемщик с высоким доходом не сделает платеж вовремя выше на ~20% . Чтобы выявить зависимость (или удостоверится в ее отстуствии) для среднего и высокого уровня доходов необходимо изменить границы категорий\n",
    "\n",
    "- вероятность что заемщик взявший в категории \"операции с автомобилем\" и \"получение образования\" не сделает платеж вовремя выше на ~26% чем заемщик в категории \"операции с недвижимостью\"\n",
    "\n",
    "\n",
    "\n",
    "- самая \"надежная\" часть диапазона заемщиков = без детей + для недвижимости + в браке(изза разамеров выборки)\n",
    "\n",
    "- так же подтвердилась гипотеза что есть прямая зависимость возраста заемщика и вероятностью платежа вовремя (чем старше тем больше)"
   ]
  }
 ],
 "metadata": {
  "ExecuteTimeLog": [
   {
    "duration": 439,
    "start_time": "2022-08-13T04:44:05.435Z"
   },
   {
    "duration": 14,
    "start_time": "2022-08-13T06:15:01.519Z"
   },
   {
    "duration": 457,
    "start_time": "2022-08-13T06:15:17.390Z"
   },
   {
    "duration": 17,
    "start_time": "2022-08-13T06:15:17.849Z"
   },
   {
    "duration": 12,
    "start_time": "2022-08-13T06:15:17.868Z"
   },
   {
    "duration": 8,
    "start_time": "2022-08-13T06:15:17.882Z"
   },
   {
    "duration": 33,
    "start_time": "2022-08-13T06:15:17.891Z"
   },
   {
    "duration": 2,
    "start_time": "2022-08-13T06:15:17.926Z"
   },
   {
    "duration": 9,
    "start_time": "2022-08-13T06:15:17.929Z"
   },
   {
    "duration": 4,
    "start_time": "2022-08-13T06:15:17.939Z"
   },
   {
    "duration": 7,
    "start_time": "2022-08-13T06:15:17.944Z"
   },
   {
    "duration": 3,
    "start_time": "2022-08-13T06:15:17.953Z"
   },
   {
    "duration": 57,
    "start_time": "2022-08-13T06:15:17.957Z"
   },
   {
    "duration": 8,
    "start_time": "2022-08-13T06:15:18.016Z"
   },
   {
    "duration": 3,
    "start_time": "2022-08-13T06:15:18.026Z"
   },
   {
    "duration": 10,
    "start_time": "2022-08-13T06:15:18.031Z"
   },
   {
    "duration": 16,
    "start_time": "2022-08-13T06:15:18.042Z"
   },
   {
    "duration": 40,
    "start_time": "2022-08-13T06:15:18.059Z"
   },
   {
    "duration": 3,
    "start_time": "2022-08-13T06:15:18.100Z"
   },
   {
    "duration": 11,
    "start_time": "2022-08-13T06:15:18.104Z"
   },
   {
    "duration": 7,
    "start_time": "2022-08-13T06:15:18.117Z"
   },
   {
    "duration": 3,
    "start_time": "2022-08-13T06:15:18.125Z"
   },
   {
    "duration": 8,
    "start_time": "2022-08-13T06:15:18.129Z"
   },
   {
    "duration": 15,
    "start_time": "2022-08-13T06:15:18.139Z"
   },
   {
    "duration": 2,
    "start_time": "2022-08-13T06:15:18.155Z"
   },
   {
    "duration": 4,
    "start_time": "2022-08-13T06:15:18.158Z"
   },
   {
    "duration": 5,
    "start_time": "2022-08-13T06:15:18.163Z"
   },
   {
    "duration": 14,
    "start_time": "2022-08-13T06:16:52.350Z"
   },
   {
    "duration": 18,
    "start_time": "2022-08-13T06:17:23.512Z"
   },
   {
    "duration": 15,
    "start_time": "2022-08-13T06:18:00.123Z"
   },
   {
    "duration": 21,
    "start_time": "2022-08-13T06:18:18.398Z"
   },
   {
    "duration": 17,
    "start_time": "2022-08-13T06:19:22.129Z"
   },
   {
    "duration": 28,
    "start_time": "2022-08-13T06:46:22.930Z"
   },
   {
    "duration": 24,
    "start_time": "2022-08-13T06:47:26.940Z"
   },
   {
    "duration": 162,
    "start_time": "2022-08-13T06:47:35.850Z"
   },
   {
    "duration": 43,
    "start_time": "2022-08-13T06:49:09.549Z"
   },
   {
    "duration": 56,
    "start_time": "2022-08-13T06:49:15.281Z"
   },
   {
    "duration": 24,
    "start_time": "2022-08-13T06:49:42.181Z"
   },
   {
    "duration": 3,
    "start_time": "2022-08-13T06:58:08.333Z"
   },
   {
    "duration": 2,
    "start_time": "2022-08-13T06:58:46.425Z"
   },
   {
    "duration": 8,
    "start_time": "2022-08-13T07:00:45.002Z"
   },
   {
    "duration": 454,
    "start_time": "2022-08-13T07:46:24.933Z"
   },
   {
    "duration": 20,
    "start_time": "2022-08-13T07:46:25.389Z"
   },
   {
    "duration": 13,
    "start_time": "2022-08-13T07:46:25.410Z"
   },
   {
    "duration": 8,
    "start_time": "2022-08-13T07:46:25.425Z"
   },
   {
    "duration": 32,
    "start_time": "2022-08-13T07:46:25.435Z"
   },
   {
    "duration": 3,
    "start_time": "2022-08-13T07:46:25.469Z"
   },
   {
    "duration": 26,
    "start_time": "2022-08-13T07:46:25.473Z"
   },
   {
    "duration": 4,
    "start_time": "2022-08-13T07:46:25.500Z"
   },
   {
    "duration": 8,
    "start_time": "2022-08-13T07:46:25.505Z"
   },
   {
    "duration": 3,
    "start_time": "2022-08-13T07:46:25.515Z"
   },
   {
    "duration": 28,
    "start_time": "2022-08-13T07:46:25.519Z"
   },
   {
    "duration": 8,
    "start_time": "2022-08-13T07:46:25.549Z"
   },
   {
    "duration": 4,
    "start_time": "2022-08-13T07:46:25.558Z"
   },
   {
    "duration": 42,
    "start_time": "2022-08-13T07:46:25.563Z"
   },
   {
    "duration": 17,
    "start_time": "2022-08-13T07:46:25.607Z"
   },
   {
    "duration": 15,
    "start_time": "2022-08-13T07:46:25.625Z"
   },
   {
    "duration": 3,
    "start_time": "2022-08-13T07:46:25.642Z"
   },
   {
    "duration": 11,
    "start_time": "2022-08-13T07:46:25.646Z"
   },
   {
    "duration": 10,
    "start_time": "2022-08-13T07:46:25.658Z"
   },
   {
    "duration": 5,
    "start_time": "2022-08-13T07:46:25.669Z"
   },
   {
    "duration": 10,
    "start_time": "2022-08-13T07:46:25.698Z"
   },
   {
    "duration": 28,
    "start_time": "2022-08-13T07:46:25.709Z"
   },
   {
    "duration": 32,
    "start_time": "2022-08-13T07:46:25.739Z"
   },
   {
    "duration": 27,
    "start_time": "2022-08-13T07:46:25.773Z"
   },
   {
    "duration": 2,
    "start_time": "2022-08-13T07:46:25.802Z"
   },
   {
    "duration": 6,
    "start_time": "2022-08-13T07:46:25.806Z"
   },
   {
    "duration": 12,
    "start_time": "2022-08-13T07:46:25.814Z"
   },
   {
    "duration": 10,
    "start_time": "2022-08-13T07:50:21.913Z"
   },
   {
    "duration": 46,
    "start_time": "2022-08-13T07:52:37.387Z"
   },
   {
    "duration": 54,
    "start_time": "2022-08-13T07:52:44.029Z"
   },
   {
    "duration": 62,
    "start_time": "2022-08-13T07:52:51.668Z"
   },
   {
    "duration": 11,
    "start_time": "2022-08-13T07:52:58.665Z"
   },
   {
    "duration": 11,
    "start_time": "2022-08-13T07:53:22.650Z"
   },
   {
    "duration": 14,
    "start_time": "2022-08-13T07:53:54.749Z"
   },
   {
    "duration": 3,
    "start_time": "2022-08-13T07:57:44.871Z"
   },
   {
    "duration": 12,
    "start_time": "2022-08-13T08:32:35.339Z"
   },
   {
    "duration": 12,
    "start_time": "2022-08-13T08:32:50.607Z"
   },
   {
    "duration": 20,
    "start_time": "2022-08-13T08:33:36.760Z"
   },
   {
    "duration": 31,
    "start_time": "2022-08-13T08:33:59.907Z"
   },
   {
    "duration": 9,
    "start_time": "2022-08-13T08:34:43.763Z"
   },
   {
    "duration": 14,
    "start_time": "2022-08-13T08:34:50.355Z"
   },
   {
    "duration": 23,
    "start_time": "2022-08-13T08:35:01.254Z"
   },
   {
    "duration": 625,
    "start_time": "2022-08-13T08:36:56.258Z"
   },
   {
    "duration": 25,
    "start_time": "2022-08-13T08:37:25.105Z"
   },
   {
    "duration": 12,
    "start_time": "2022-08-13T08:37:51.843Z"
   },
   {
    "duration": 13,
    "start_time": "2022-08-13T08:38:20.104Z"
   },
   {
    "duration": 13,
    "start_time": "2022-08-13T08:38:27.026Z"
   },
   {
    "duration": 14,
    "start_time": "2022-08-13T08:38:35.937Z"
   },
   {
    "duration": 12,
    "start_time": "2022-08-13T08:40:15.518Z"
   },
   {
    "duration": 16,
    "start_time": "2022-08-13T08:42:14.286Z"
   },
   {
    "duration": 25,
    "start_time": "2022-08-13T08:43:54.326Z"
   },
   {
    "duration": 41,
    "start_time": "2022-08-13T09:34:53.358Z"
   },
   {
    "duration": 2,
    "start_time": "2022-08-13T10:11:55.611Z"
   },
   {
    "duration": 36,
    "start_time": "2022-08-13T10:19:17.787Z"
   },
   {
    "duration": 26,
    "start_time": "2022-08-13T12:34:24.195Z"
   },
   {
    "duration": 10,
    "start_time": "2022-08-13T12:35:06.218Z"
   },
   {
    "duration": 5,
    "start_time": "2022-08-13T12:35:28.775Z"
   },
   {
    "duration": 13,
    "start_time": "2022-08-13T12:35:39.877Z"
   },
   {
    "duration": 47,
    "start_time": "2022-08-13T12:36:41.721Z"
   },
   {
    "duration": 8,
    "start_time": "2022-08-13T12:36:46.883Z"
   },
   {
    "duration": 452,
    "start_time": "2022-08-13T13:04:50.271Z"
   },
   {
    "duration": 19,
    "start_time": "2022-08-13T13:04:50.725Z"
   },
   {
    "duration": 12,
    "start_time": "2022-08-13T13:04:50.747Z"
   },
   {
    "duration": 7,
    "start_time": "2022-08-13T13:04:50.761Z"
   },
   {
    "duration": 51,
    "start_time": "2022-08-13T13:04:50.769Z"
   },
   {
    "duration": 3,
    "start_time": "2022-08-13T13:04:50.822Z"
   },
   {
    "duration": 10,
    "start_time": "2022-08-13T13:04:50.826Z"
   },
   {
    "duration": 5,
    "start_time": "2022-08-13T13:04:50.838Z"
   },
   {
    "duration": 8,
    "start_time": "2022-08-13T13:04:50.846Z"
   },
   {
    "duration": 4,
    "start_time": "2022-08-13T13:04:50.855Z"
   },
   {
    "duration": 50,
    "start_time": "2022-08-13T13:04:50.860Z"
   },
   {
    "duration": 9,
    "start_time": "2022-08-13T13:04:50.911Z"
   },
   {
    "duration": 3,
    "start_time": "2022-08-13T13:04:50.921Z"
   },
   {
    "duration": 14,
    "start_time": "2022-08-13T13:04:50.925Z"
   },
   {
    "duration": 27,
    "start_time": "2022-08-13T13:04:50.940Z"
   },
   {
    "duration": 15,
    "start_time": "2022-08-13T13:04:50.968Z"
   },
   {
    "duration": 20,
    "start_time": "2022-08-13T13:04:50.984Z"
   },
   {
    "duration": 11,
    "start_time": "2022-08-13T13:04:51.005Z"
   },
   {
    "duration": 10,
    "start_time": "2022-08-13T13:04:51.017Z"
   },
   {
    "duration": 4,
    "start_time": "2022-08-13T13:04:51.028Z"
   },
   {
    "duration": 16,
    "start_time": "2022-08-13T13:04:51.034Z"
   },
   {
    "duration": 18,
    "start_time": "2022-08-13T13:04:51.051Z"
   },
   {
    "duration": 40,
    "start_time": "2022-08-13T13:04:51.070Z"
   },
   {
    "duration": 8,
    "start_time": "2022-08-13T13:04:51.111Z"
   },
   {
    "duration": 15,
    "start_time": "2022-08-13T13:04:51.120Z"
   },
   {
    "duration": 21,
    "start_time": "2022-08-13T13:04:51.137Z"
   },
   {
    "duration": 69,
    "start_time": "2022-08-13T13:04:51.161Z"
   },
   {
    "duration": 38,
    "start_time": "2022-08-13T13:04:51.232Z"
   },
   {
    "duration": 7,
    "start_time": "2022-08-13T13:04:51.271Z"
   },
   {
    "duration": 419,
    "start_time": "2022-08-13T13:17:57.372Z"
   },
   {
    "duration": 31,
    "start_time": "2022-08-13T13:17:57.793Z"
   },
   {
    "duration": 16,
    "start_time": "2022-08-13T13:17:57.825Z"
   },
   {
    "duration": 7,
    "start_time": "2022-08-13T13:17:57.843Z"
   },
   {
    "duration": 27,
    "start_time": "2022-08-13T13:17:57.851Z"
   },
   {
    "duration": 3,
    "start_time": "2022-08-13T13:17:57.879Z"
   },
   {
    "duration": 9,
    "start_time": "2022-08-13T13:17:57.883Z"
   },
   {
    "duration": 16,
    "start_time": "2022-08-13T13:17:57.894Z"
   },
   {
    "duration": 9,
    "start_time": "2022-08-13T13:17:57.912Z"
   },
   {
    "duration": 4,
    "start_time": "2022-08-13T13:17:57.923Z"
   },
   {
    "duration": 31,
    "start_time": "2022-08-13T13:17:57.928Z"
   },
   {
    "duration": 7,
    "start_time": "2022-08-13T13:17:57.961Z"
   },
   {
    "duration": 5,
    "start_time": "2022-08-13T13:17:57.970Z"
   },
   {
    "duration": 28,
    "start_time": "2022-08-13T13:17:57.976Z"
   },
   {
    "duration": 21,
    "start_time": "2022-08-13T13:17:58.005Z"
   },
   {
    "duration": 14,
    "start_time": "2022-08-13T13:17:58.027Z"
   },
   {
    "duration": 3,
    "start_time": "2022-08-13T13:17:58.042Z"
   },
   {
    "duration": 11,
    "start_time": "2022-08-13T13:17:58.047Z"
   },
   {
    "duration": 5,
    "start_time": "2022-08-13T13:17:58.059Z"
   },
   {
    "duration": 3,
    "start_time": "2022-08-13T13:17:58.065Z"
   },
   {
    "duration": 9,
    "start_time": "2022-08-13T13:17:58.069Z"
   },
   {
    "duration": 38,
    "start_time": "2022-08-13T13:17:58.079Z"
   },
   {
    "duration": 26,
    "start_time": "2022-08-13T13:17:58.119Z"
   },
   {
    "duration": 7,
    "start_time": "2022-08-13T13:17:58.146Z"
   },
   {
    "duration": 13,
    "start_time": "2022-08-13T13:17:58.154Z"
   },
   {
    "duration": 46,
    "start_time": "2022-08-13T13:17:58.168Z"
   },
   {
    "duration": 39,
    "start_time": "2022-08-13T13:17:58.215Z"
   },
   {
    "duration": 54,
    "start_time": "2022-08-13T13:17:58.256Z"
   },
   {
    "duration": 8,
    "start_time": "2022-08-13T13:17:58.311Z"
   },
   {
    "duration": 55,
    "start_time": "2022-08-14T15:36:36.676Z"
   },
   {
    "duration": 483,
    "start_time": "2022-08-14T15:36:43.709Z"
   },
   {
    "duration": 24,
    "start_time": "2022-08-14T15:36:44.194Z"
   },
   {
    "duration": 14,
    "start_time": "2022-08-14T15:36:44.220Z"
   },
   {
    "duration": 10,
    "start_time": "2022-08-14T15:36:44.236Z"
   },
   {
    "duration": 55,
    "start_time": "2022-08-14T15:36:44.248Z"
   },
   {
    "duration": 4,
    "start_time": "2022-08-14T15:36:44.304Z"
   },
   {
    "duration": 11,
    "start_time": "2022-08-14T15:36:44.310Z"
   },
   {
    "duration": 4,
    "start_time": "2022-08-14T15:36:44.323Z"
   },
   {
    "duration": 9,
    "start_time": "2022-08-14T15:36:44.328Z"
   },
   {
    "duration": 6,
    "start_time": "2022-08-14T15:36:44.338Z"
   },
   {
    "duration": 67,
    "start_time": "2022-08-14T15:36:44.346Z"
   },
   {
    "duration": 11,
    "start_time": "2022-08-14T15:36:44.415Z"
   },
   {
    "duration": 10,
    "start_time": "2022-08-14T15:36:44.428Z"
   },
   {
    "duration": 16,
    "start_time": "2022-08-14T15:36:44.441Z"
   },
   {
    "duration": 23,
    "start_time": "2022-08-14T15:36:44.459Z"
   },
   {
    "duration": 37,
    "start_time": "2022-08-14T15:36:44.483Z"
   },
   {
    "duration": 4,
    "start_time": "2022-08-14T15:36:44.522Z"
   },
   {
    "duration": 16,
    "start_time": "2022-08-14T15:36:44.528Z"
   },
   {
    "duration": 8,
    "start_time": "2022-08-14T15:36:44.546Z"
   },
   {
    "duration": 6,
    "start_time": "2022-08-14T15:36:44.556Z"
   },
   {
    "duration": 39,
    "start_time": "2022-08-14T15:36:44.564Z"
   },
   {
    "duration": 29,
    "start_time": "2022-08-14T15:36:44.605Z"
   },
   {
    "duration": 33,
    "start_time": "2022-08-14T15:36:44.637Z"
   },
   {
    "duration": 35,
    "start_time": "2022-08-14T15:36:44.672Z"
   },
   {
    "duration": 18,
    "start_time": "2022-08-14T15:36:44.709Z"
   },
   {
    "duration": 42,
    "start_time": "2022-08-14T15:36:44.728Z"
   },
   {
    "duration": 69,
    "start_time": "2022-08-14T15:36:44.772Z"
   },
   {
    "duration": 43,
    "start_time": "2022-08-14T15:36:44.843Z"
   },
   {
    "duration": 20,
    "start_time": "2022-08-14T15:36:44.888Z"
   },
   {
    "duration": 10,
    "start_time": "2022-08-14T15:36:49.240Z"
   },
   {
    "duration": 481,
    "start_time": "2022-08-14T15:38:45.135Z"
   },
   {
    "duration": 26,
    "start_time": "2022-08-14T15:38:45.618Z"
   },
   {
    "duration": 20,
    "start_time": "2022-08-14T15:38:45.646Z"
   },
   {
    "duration": 33,
    "start_time": "2022-08-14T15:38:45.669Z"
   },
   {
    "duration": 36,
    "start_time": "2022-08-14T15:38:45.705Z"
   },
   {
    "duration": 4,
    "start_time": "2022-08-14T15:38:45.743Z"
   },
   {
    "duration": 29,
    "start_time": "2022-08-14T15:38:45.748Z"
   },
   {
    "duration": 6,
    "start_time": "2022-08-14T15:38:45.779Z"
   },
   {
    "duration": 17,
    "start_time": "2022-08-14T15:38:45.787Z"
   },
   {
    "duration": 10,
    "start_time": "2022-08-14T15:38:45.805Z"
   },
   {
    "duration": 40,
    "start_time": "2022-08-14T15:38:45.817Z"
   },
   {
    "duration": 11,
    "start_time": "2022-08-14T15:38:45.859Z"
   },
   {
    "duration": 31,
    "start_time": "2022-08-14T15:38:45.872Z"
   },
   {
    "duration": 12,
    "start_time": "2022-08-14T15:38:45.907Z"
   },
   {
    "duration": 26,
    "start_time": "2022-08-14T15:38:45.921Z"
   },
   {
    "duration": 18,
    "start_time": "2022-08-14T15:38:45.949Z"
   },
   {
    "duration": 4,
    "start_time": "2022-08-14T15:38:45.969Z"
   },
   {
    "duration": 35,
    "start_time": "2022-08-14T15:38:45.975Z"
   },
   {
    "duration": 5,
    "start_time": "2022-08-14T15:38:46.012Z"
   },
   {
    "duration": 6,
    "start_time": "2022-08-14T15:38:46.019Z"
   },
   {
    "duration": 11,
    "start_time": "2022-08-14T15:38:46.027Z"
   },
   {
    "duration": 25,
    "start_time": "2022-08-14T15:38:46.039Z"
   },
   {
    "duration": 61,
    "start_time": "2022-08-14T15:38:46.065Z"
   },
   {
    "duration": 10,
    "start_time": "2022-08-14T15:38:46.127Z"
   },
   {
    "duration": 17,
    "start_time": "2022-08-14T15:38:46.138Z"
   },
   {
    "duration": 51,
    "start_time": "2022-08-14T15:38:46.157Z"
   },
   {
    "duration": 46,
    "start_time": "2022-08-14T15:38:46.210Z"
   },
   {
    "duration": 60,
    "start_time": "2022-08-14T15:38:46.258Z"
   },
   {
    "duration": 8,
    "start_time": "2022-08-14T15:38:46.320Z"
   },
   {
    "duration": 804,
    "start_time": "2022-08-14T21:32:37.386Z"
   },
   {
    "duration": 27,
    "start_time": "2022-08-14T21:32:38.192Z"
   },
   {
    "duration": 16,
    "start_time": "2022-08-14T21:32:38.220Z"
   },
   {
    "duration": 10,
    "start_time": "2022-08-14T21:32:38.239Z"
   },
   {
    "duration": 66,
    "start_time": "2022-08-14T21:32:38.251Z"
   },
   {
    "duration": 4,
    "start_time": "2022-08-14T21:32:38.321Z"
   },
   {
    "duration": 11,
    "start_time": "2022-08-14T21:32:38.327Z"
   },
   {
    "duration": 4,
    "start_time": "2022-08-14T21:32:38.339Z"
   },
   {
    "duration": 8,
    "start_time": "2022-08-14T21:32:38.344Z"
   },
   {
    "duration": 4,
    "start_time": "2022-08-14T21:32:38.355Z"
   },
   {
    "duration": 67,
    "start_time": "2022-08-14T21:32:38.360Z"
   },
   {
    "duration": 10,
    "start_time": "2022-08-14T21:32:38.429Z"
   },
   {
    "duration": 3,
    "start_time": "2022-08-14T21:32:38.441Z"
   },
   {
    "duration": 12,
    "start_time": "2022-08-14T21:32:38.446Z"
   },
   {
    "duration": 45,
    "start_time": "2022-08-14T21:32:38.459Z"
   },
   {
    "duration": 24,
    "start_time": "2022-08-14T21:32:38.506Z"
   },
   {
    "duration": 4,
    "start_time": "2022-08-14T21:32:38.531Z"
   },
   {
    "duration": 12,
    "start_time": "2022-08-14T21:32:38.536Z"
   },
   {
    "duration": 8,
    "start_time": "2022-08-14T21:32:38.549Z"
   },
   {
    "duration": 4,
    "start_time": "2022-08-14T21:32:38.558Z"
   },
   {
    "duration": 36,
    "start_time": "2022-08-14T21:32:38.564Z"
   },
   {
    "duration": 29,
    "start_time": "2022-08-14T21:32:38.605Z"
   },
   {
    "duration": 35,
    "start_time": "2022-08-14T21:32:38.635Z"
   },
   {
    "duration": 8,
    "start_time": "2022-08-14T21:32:38.671Z"
   },
   {
    "duration": 25,
    "start_time": "2022-08-14T21:32:38.681Z"
   },
   {
    "duration": 54,
    "start_time": "2022-08-14T21:32:38.708Z"
   },
   {
    "duration": 59,
    "start_time": "2022-08-14T21:32:38.764Z"
   },
   {
    "duration": 39,
    "start_time": "2022-08-14T21:32:38.827Z"
   },
   {
    "duration": 8,
    "start_time": "2022-08-14T21:32:38.868Z"
   },
   {
    "duration": 472,
    "start_time": "2022-08-14T21:33:42.814Z"
   },
   {
    "duration": 38,
    "start_time": "2022-08-14T21:33:43.291Z"
   },
   {
    "duration": 22,
    "start_time": "2022-08-14T21:33:43.331Z"
   },
   {
    "duration": 10,
    "start_time": "2022-08-14T21:33:43.356Z"
   },
   {
    "duration": 49,
    "start_time": "2022-08-14T21:33:43.368Z"
   },
   {
    "duration": 3,
    "start_time": "2022-08-14T21:33:43.419Z"
   },
   {
    "duration": 10,
    "start_time": "2022-08-14T21:33:43.425Z"
   },
   {
    "duration": 11,
    "start_time": "2022-08-14T21:33:43.436Z"
   },
   {
    "duration": 22,
    "start_time": "2022-08-14T21:33:43.449Z"
   },
   {
    "duration": 13,
    "start_time": "2022-08-14T21:33:43.475Z"
   },
   {
    "duration": 52,
    "start_time": "2022-08-14T21:33:43.489Z"
   },
   {
    "duration": 11,
    "start_time": "2022-08-14T21:33:43.543Z"
   },
   {
    "duration": 4,
    "start_time": "2022-08-14T21:33:43.556Z"
   },
   {
    "duration": 27,
    "start_time": "2022-08-14T21:33:43.563Z"
   },
   {
    "duration": 50,
    "start_time": "2022-08-14T21:33:43.595Z"
   },
   {
    "duration": 24,
    "start_time": "2022-08-14T21:33:43.647Z"
   },
   {
    "duration": 3,
    "start_time": "2022-08-14T21:33:43.673Z"
   },
   {
    "duration": 57,
    "start_time": "2022-08-14T21:33:43.678Z"
   },
   {
    "duration": 15,
    "start_time": "2022-08-14T21:33:43.737Z"
   },
   {
    "duration": 11,
    "start_time": "2022-08-14T21:33:43.753Z"
   },
   {
    "duration": 11,
    "start_time": "2022-08-14T21:33:43.766Z"
   },
   {
    "duration": 46,
    "start_time": "2022-08-14T21:33:43.779Z"
   },
   {
    "duration": 31,
    "start_time": "2022-08-14T21:33:43.827Z"
   },
   {
    "duration": 8,
    "start_time": "2022-08-14T21:33:43.860Z"
   },
   {
    "duration": 42,
    "start_time": "2022-08-14T21:33:43.870Z"
   },
   {
    "duration": 46,
    "start_time": "2022-08-14T21:33:43.914Z"
   },
   {
    "duration": 58,
    "start_time": "2022-08-14T21:33:43.962Z"
   },
   {
    "duration": 46,
    "start_time": "2022-08-14T21:33:44.026Z"
   },
   {
    "duration": 7,
    "start_time": "2022-08-14T21:33:44.074Z"
   },
   {
    "duration": 523,
    "start_time": "2022-08-14T21:35:50.578Z"
   },
   {
    "duration": 24,
    "start_time": "2022-08-14T21:35:51.107Z"
   },
   {
    "duration": 14,
    "start_time": "2022-08-14T21:35:51.133Z"
   },
   {
    "duration": 10,
    "start_time": "2022-08-14T21:35:51.148Z"
   },
   {
    "duration": 54,
    "start_time": "2022-08-14T21:35:51.160Z"
   },
   {
    "duration": 4,
    "start_time": "2022-08-14T21:35:51.218Z"
   },
   {
    "duration": 13,
    "start_time": "2022-08-14T21:35:51.224Z"
   },
   {
    "duration": 5,
    "start_time": "2022-08-14T21:35:51.239Z"
   },
   {
    "duration": 9,
    "start_time": "2022-08-14T21:35:51.246Z"
   },
   {
    "duration": 5,
    "start_time": "2022-08-14T21:35:51.260Z"
   },
   {
    "duration": 49,
    "start_time": "2022-08-14T21:35:51.288Z"
   },
   {
    "duration": 11,
    "start_time": "2022-08-14T21:35:51.339Z"
   },
   {
    "duration": 5,
    "start_time": "2022-08-14T21:35:51.351Z"
   },
   {
    "duration": 14,
    "start_time": "2022-08-14T21:35:51.357Z"
   },
   {
    "duration": 44,
    "start_time": "2022-08-14T21:35:51.372Z"
   },
   {
    "duration": 20,
    "start_time": "2022-08-14T21:35:51.418Z"
   },
   {
    "duration": 3,
    "start_time": "2022-08-14T21:35:51.440Z"
   },
   {
    "duration": 20,
    "start_time": "2022-08-14T21:35:51.445Z"
   },
   {
    "duration": 7,
    "start_time": "2022-08-14T21:35:51.467Z"
   },
   {
    "duration": 5,
    "start_time": "2022-08-14T21:35:51.487Z"
   },
   {
    "duration": 35,
    "start_time": "2022-08-14T21:35:51.494Z"
   },
   {
    "duration": 20,
    "start_time": "2022-08-14T21:35:51.531Z"
   },
   {
    "duration": 35,
    "start_time": "2022-08-14T21:35:51.553Z"
   },
   {
    "duration": 16,
    "start_time": "2022-08-14T21:35:51.596Z"
   },
   {
    "duration": 23,
    "start_time": "2022-08-14T21:35:51.615Z"
   },
   {
    "duration": 26,
    "start_time": "2022-08-14T21:35:51.640Z"
   },
   {
    "duration": 80,
    "start_time": "2022-08-14T21:35:51.668Z"
   },
   {
    "duration": 44,
    "start_time": "2022-08-14T21:35:51.751Z"
   },
   {
    "duration": 18,
    "start_time": "2022-08-14T21:35:51.801Z"
   },
   {
    "duration": 498,
    "start_time": "2022-08-14T21:37:54.922Z"
   },
   {
    "duration": 21,
    "start_time": "2022-08-14T21:37:55.422Z"
   },
   {
    "duration": 18,
    "start_time": "2022-08-14T21:37:55.444Z"
   },
   {
    "duration": 26,
    "start_time": "2022-08-14T21:37:55.465Z"
   },
   {
    "duration": 39,
    "start_time": "2022-08-14T21:37:55.500Z"
   },
   {
    "duration": 3,
    "start_time": "2022-08-14T21:37:55.541Z"
   },
   {
    "duration": 11,
    "start_time": "2022-08-14T21:37:55.546Z"
   },
   {
    "duration": 5,
    "start_time": "2022-08-14T21:37:55.559Z"
   },
   {
    "duration": 24,
    "start_time": "2022-08-14T21:37:55.566Z"
   },
   {
    "duration": 11,
    "start_time": "2022-08-14T21:37:55.593Z"
   },
   {
    "duration": 64,
    "start_time": "2022-08-14T21:37:55.606Z"
   },
   {
    "duration": 9,
    "start_time": "2022-08-14T21:37:55.672Z"
   },
   {
    "duration": 3,
    "start_time": "2022-08-14T21:37:55.683Z"
   },
   {
    "duration": 40,
    "start_time": "2022-08-14T21:37:55.688Z"
   },
   {
    "duration": 22,
    "start_time": "2022-08-14T21:37:55.730Z"
   },
   {
    "duration": 17,
    "start_time": "2022-08-14T21:37:55.753Z"
   },
   {
    "duration": 4,
    "start_time": "2022-08-14T21:37:55.771Z"
   },
   {
    "duration": 29,
    "start_time": "2022-08-14T21:37:55.777Z"
   },
   {
    "duration": 19,
    "start_time": "2022-08-14T21:37:55.808Z"
   },
   {
    "duration": 5,
    "start_time": "2022-08-14T21:37:55.828Z"
   },
   {
    "duration": 12,
    "start_time": "2022-08-14T21:37:55.834Z"
   },
   {
    "duration": 70,
    "start_time": "2022-08-14T21:37:55.848Z"
   },
   {
    "duration": 0,
    "start_time": "2022-08-14T21:37:55.920Z"
   },
   {
    "duration": 0,
    "start_time": "2022-08-14T21:37:55.921Z"
   },
   {
    "duration": 0,
    "start_time": "2022-08-14T21:37:55.922Z"
   },
   {
    "duration": 0,
    "start_time": "2022-08-14T21:37:55.923Z"
   },
   {
    "duration": 0,
    "start_time": "2022-08-14T21:37:55.924Z"
   },
   {
    "duration": 0,
    "start_time": "2022-08-14T21:37:55.925Z"
   },
   {
    "duration": 0,
    "start_time": "2022-08-14T21:37:55.926Z"
   },
   {
    "duration": 581,
    "start_time": "2022-08-14T21:38:17.807Z"
   },
   {
    "duration": 32,
    "start_time": "2022-08-14T21:38:18.390Z"
   },
   {
    "duration": 39,
    "start_time": "2022-08-14T21:38:18.426Z"
   },
   {
    "duration": 19,
    "start_time": "2022-08-14T21:38:18.467Z"
   },
   {
    "duration": 118,
    "start_time": "2022-08-14T21:38:18.493Z"
   },
   {
    "duration": 4,
    "start_time": "2022-08-14T21:38:18.613Z"
   },
   {
    "duration": 56,
    "start_time": "2022-08-14T21:38:18.625Z"
   },
   {
    "duration": 73,
    "start_time": "2022-08-14T21:38:18.684Z"
   },
   {
    "duration": 24,
    "start_time": "2022-08-14T21:38:18.759Z"
   },
   {
    "duration": 53,
    "start_time": "2022-08-14T21:38:18.790Z"
   },
   {
    "duration": 61,
    "start_time": "2022-08-14T21:38:18.846Z"
   },
   {
    "duration": 27,
    "start_time": "2022-08-14T21:38:18.909Z"
   },
   {
    "duration": 27,
    "start_time": "2022-08-14T21:38:18.938Z"
   },
   {
    "duration": 21,
    "start_time": "2022-08-14T21:38:18.967Z"
   },
   {
    "duration": 66,
    "start_time": "2022-08-14T21:38:18.995Z"
   },
   {
    "duration": 35,
    "start_time": "2022-08-14T21:38:19.063Z"
   },
   {
    "duration": 8,
    "start_time": "2022-08-14T21:38:19.106Z"
   },
   {
    "duration": 47,
    "start_time": "2022-08-14T21:38:19.115Z"
   },
   {
    "duration": 8,
    "start_time": "2022-08-14T21:38:19.164Z"
   },
   {
    "duration": 75,
    "start_time": "2022-08-14T21:38:19.174Z"
   },
   {
    "duration": 17,
    "start_time": "2022-08-14T21:38:19.250Z"
   },
   {
    "duration": 38,
    "start_time": "2022-08-14T21:38:19.270Z"
   },
   {
    "duration": 86,
    "start_time": "2022-08-14T21:38:19.318Z"
   },
   {
    "duration": 19,
    "start_time": "2022-08-14T21:38:19.406Z"
   },
   {
    "duration": 50,
    "start_time": "2022-08-14T21:38:19.427Z"
   },
   {
    "duration": 57,
    "start_time": "2022-08-14T21:38:19.480Z"
   },
   {
    "duration": 96,
    "start_time": "2022-08-14T21:38:19.543Z"
   },
   {
    "duration": 71,
    "start_time": "2022-08-14T21:38:19.648Z"
   },
   {
    "duration": 15,
    "start_time": "2022-08-14T21:38:19.725Z"
   },
   {
    "duration": 534,
    "start_time": "2022-08-14T21:39:10.250Z"
   },
   {
    "duration": 33,
    "start_time": "2022-08-14T21:39:10.794Z"
   },
   {
    "duration": 15,
    "start_time": "2022-08-14T21:39:10.829Z"
   },
   {
    "duration": 10,
    "start_time": "2022-08-14T21:39:10.846Z"
   },
   {
    "duration": 63,
    "start_time": "2022-08-14T21:39:10.858Z"
   },
   {
    "duration": 5,
    "start_time": "2022-08-14T21:39:10.926Z"
   },
   {
    "duration": 15,
    "start_time": "2022-08-14T21:39:10.933Z"
   },
   {
    "duration": 5,
    "start_time": "2022-08-14T21:39:10.950Z"
   },
   {
    "duration": 13,
    "start_time": "2022-08-14T21:39:10.957Z"
   },
   {
    "duration": 14,
    "start_time": "2022-08-14T21:39:10.989Z"
   },
   {
    "duration": 61,
    "start_time": "2022-08-14T21:39:11.004Z"
   },
   {
    "duration": 11,
    "start_time": "2022-08-14T21:39:11.066Z"
   },
   {
    "duration": 4,
    "start_time": "2022-08-14T21:39:11.079Z"
   },
   {
    "duration": 54,
    "start_time": "2022-08-14T21:39:11.085Z"
   },
   {
    "duration": 22,
    "start_time": "2022-08-14T21:39:11.141Z"
   },
   {
    "duration": 17,
    "start_time": "2022-08-14T21:39:11.165Z"
   },
   {
    "duration": 10,
    "start_time": "2022-08-14T21:39:11.183Z"
   },
   {
    "duration": 40,
    "start_time": "2022-08-14T21:39:11.197Z"
   },
   {
    "duration": 12,
    "start_time": "2022-08-14T21:39:11.239Z"
   },
   {
    "duration": 5,
    "start_time": "2022-08-14T21:39:11.253Z"
   },
   {
    "duration": 15,
    "start_time": "2022-08-14T21:39:11.260Z"
   },
   {
    "duration": 26,
    "start_time": "2022-08-14T21:39:11.277Z"
   },
   {
    "duration": 59,
    "start_time": "2022-08-14T21:39:11.304Z"
   },
   {
    "duration": 9,
    "start_time": "2022-08-14T21:39:11.365Z"
   },
   {
    "duration": 25,
    "start_time": "2022-08-14T21:39:11.376Z"
   },
   {
    "duration": 54,
    "start_time": "2022-08-14T21:39:11.409Z"
   },
   {
    "duration": 63,
    "start_time": "2022-08-14T21:39:11.466Z"
   },
   {
    "duration": 42,
    "start_time": "2022-08-14T21:39:11.533Z"
   },
   {
    "duration": 35,
    "start_time": "2022-08-14T21:39:11.577Z"
   },
   {
    "duration": 70,
    "start_time": "2022-08-14T21:41:16.288Z"
   },
   {
    "duration": 4,
    "start_time": "2022-08-14T21:41:38.419Z"
   },
   {
    "duration": 21,
    "start_time": "2022-08-14T21:42:01.419Z"
   },
   {
    "duration": 19,
    "start_time": "2022-08-14T21:42:48.139Z"
   },
   {
    "duration": 14,
    "start_time": "2022-08-14T21:42:58.467Z"
   },
   {
    "duration": 15,
    "start_time": "2022-08-14T21:43:03.966Z"
   },
   {
    "duration": 14,
    "start_time": "2022-08-14T21:46:48.142Z"
   },
   {
    "duration": 20,
    "start_time": "2022-08-14T21:47:58.163Z"
   },
   {
    "duration": 13,
    "start_time": "2022-08-14T22:06:06.058Z"
   },
   {
    "duration": 18,
    "start_time": "2022-08-14T22:06:32.328Z"
   },
   {
    "duration": 19,
    "start_time": "2022-08-14T22:06:48.647Z"
   },
   {
    "duration": 23,
    "start_time": "2022-08-14T22:06:59.218Z"
   },
   {
    "duration": 16,
    "start_time": "2022-08-14T22:28:46.912Z"
   },
   {
    "duration": 23,
    "start_time": "2022-08-14T23:28:59.258Z"
   },
   {
    "duration": 24,
    "start_time": "2022-08-14T23:39:39.454Z"
   },
   {
    "duration": 95,
    "start_time": "2022-08-15T00:01:39.760Z"
   },
   {
    "duration": 25,
    "start_time": "2022-08-15T00:01:45.325Z"
   },
   {
    "duration": 35,
    "start_time": "2022-08-15T00:03:11.163Z"
   },
   {
    "duration": 39,
    "start_time": "2022-08-15T00:03:17.534Z"
   },
   {
    "duration": 37,
    "start_time": "2022-08-15T00:04:25.586Z"
   },
   {
    "duration": 27,
    "start_time": "2022-08-15T00:04:52.209Z"
   },
   {
    "duration": 29,
    "start_time": "2022-08-15T00:05:18.379Z"
   },
   {
    "duration": 58,
    "start_time": "2022-08-15T00:07:10.820Z"
   },
   {
    "duration": 31,
    "start_time": "2022-08-15T00:07:20.251Z"
   },
   {
    "duration": 73,
    "start_time": "2022-08-15T00:07:38.660Z"
   },
   {
    "duration": 48,
    "start_time": "2022-08-15T00:07:58.600Z"
   },
   {
    "duration": 80,
    "start_time": "2022-08-15T00:08:15.584Z"
   },
   {
    "duration": 42,
    "start_time": "2022-08-15T00:08:37.610Z"
   },
   {
    "duration": 42,
    "start_time": "2022-08-15T00:08:52.763Z"
   },
   {
    "duration": 31,
    "start_time": "2022-08-15T00:10:02.495Z"
   },
   {
    "duration": 51,
    "start_time": "2022-08-15T00:10:11.841Z"
   },
   {
    "duration": 99,
    "start_time": "2022-08-15T00:10:24.574Z"
   },
   {
    "duration": 58,
    "start_time": "2022-08-15T00:10:36.656Z"
   },
   {
    "duration": 38,
    "start_time": "2022-08-15T00:12:21.066Z"
   },
   {
    "duration": 33,
    "start_time": "2022-08-15T00:12:38.303Z"
   },
   {
    "duration": 34,
    "start_time": "2022-08-15T00:12:55.557Z"
   },
   {
    "duration": 4,
    "start_time": "2022-08-15T00:13:06.868Z"
   },
   {
    "duration": 31,
    "start_time": "2022-08-15T00:13:20.780Z"
   },
   {
    "duration": 31,
    "start_time": "2022-08-15T00:15:27.738Z"
   },
   {
    "duration": 36,
    "start_time": "2022-08-15T00:15:43.098Z"
   },
   {
    "duration": 31,
    "start_time": "2022-08-15T00:16:18.380Z"
   },
   {
    "duration": 44,
    "start_time": "2022-08-15T00:16:49.082Z"
   },
   {
    "duration": 29,
    "start_time": "2022-08-15T00:16:54.117Z"
   },
   {
    "duration": 32,
    "start_time": "2022-08-15T00:17:46.687Z"
   },
   {
    "duration": 29,
    "start_time": "2022-08-15T00:18:06.420Z"
   },
   {
    "duration": 27,
    "start_time": "2022-08-15T00:18:17.283Z"
   },
   {
    "duration": 23,
    "start_time": "2022-08-15T00:24:17.059Z"
   },
   {
    "duration": 36,
    "start_time": "2022-08-15T00:24:43.315Z"
   },
   {
    "duration": 42,
    "start_time": "2022-08-15T00:28:02.117Z"
   },
   {
    "duration": 28,
    "start_time": "2022-08-15T00:31:06.008Z"
   },
   {
    "duration": 29,
    "start_time": "2022-08-15T00:31:34.932Z"
   },
   {
    "duration": 26,
    "start_time": "2022-08-15T00:31:55.176Z"
   },
   {
    "duration": 27,
    "start_time": "2022-08-15T00:33:33.664Z"
   },
   {
    "duration": 483,
    "start_time": "2022-08-15T00:35:08.393Z"
   },
   {
    "duration": 22,
    "start_time": "2022-08-15T00:35:08.878Z"
   },
   {
    "duration": 19,
    "start_time": "2022-08-15T00:35:08.902Z"
   },
   {
    "duration": 17,
    "start_time": "2022-08-15T00:35:08.923Z"
   },
   {
    "duration": 55,
    "start_time": "2022-08-15T00:35:08.942Z"
   },
   {
    "duration": 4,
    "start_time": "2022-08-15T00:35:09.000Z"
   },
   {
    "duration": 16,
    "start_time": "2022-08-15T00:35:09.007Z"
   },
   {
    "duration": 5,
    "start_time": "2022-08-15T00:35:09.025Z"
   },
   {
    "duration": 18,
    "start_time": "2022-08-15T00:35:09.032Z"
   },
   {
    "duration": 14,
    "start_time": "2022-08-15T00:35:09.055Z"
   },
   {
    "duration": 55,
    "start_time": "2022-08-15T00:35:09.071Z"
   },
   {
    "duration": 10,
    "start_time": "2022-08-15T00:35:09.127Z"
   },
   {
    "duration": 17,
    "start_time": "2022-08-15T00:35:09.139Z"
   },
   {
    "duration": 18,
    "start_time": "2022-08-15T00:35:09.157Z"
   },
   {
    "duration": 28,
    "start_time": "2022-08-15T00:35:09.177Z"
   },
   {
    "duration": 17,
    "start_time": "2022-08-15T00:35:09.207Z"
   },
   {
    "duration": 4,
    "start_time": "2022-08-15T00:35:09.226Z"
   },
   {
    "duration": 23,
    "start_time": "2022-08-15T00:35:09.232Z"
   },
   {
    "duration": 13,
    "start_time": "2022-08-15T00:35:09.256Z"
   },
   {
    "duration": 4,
    "start_time": "2022-08-15T00:35:09.271Z"
   },
   {
    "duration": 10,
    "start_time": "2022-08-15T00:35:09.287Z"
   },
   {
    "duration": 23,
    "start_time": "2022-08-15T00:35:09.298Z"
   },
   {
    "duration": 29,
    "start_time": "2022-08-15T00:35:09.322Z"
   },
   {
    "duration": 55,
    "start_time": "2022-08-15T00:35:09.354Z"
   },
   {
    "duration": 26,
    "start_time": "2022-08-15T00:35:09.411Z"
   },
   {
    "duration": 50,
    "start_time": "2022-08-15T00:35:09.438Z"
   },
   {
    "duration": 30,
    "start_time": "2022-08-15T00:35:09.490Z"
   },
   {
    "duration": 8,
    "start_time": "2022-08-15T00:35:09.524Z"
   },
   {
    "duration": 28,
    "start_time": "2022-08-15T00:37:12.362Z"
   },
   {
    "duration": 59,
    "start_time": "2022-08-15T00:53:22.442Z"
   },
   {
    "duration": 21,
    "start_time": "2022-08-15T00:53:30.406Z"
   },
   {
    "duration": 24,
    "start_time": "2022-08-15T00:54:44.348Z"
   },
   {
    "duration": 24,
    "start_time": "2022-08-15T00:56:42.021Z"
   },
   {
    "duration": 26,
    "start_time": "2022-08-15T00:56:48.046Z"
   },
   {
    "duration": 27,
    "start_time": "2022-08-15T00:57:29.825Z"
   },
   {
    "duration": 37,
    "start_time": "2022-08-15T01:00:25.971Z"
   },
   {
    "duration": 27,
    "start_time": "2022-08-15T01:00:54.433Z"
   },
   {
    "duration": 20,
    "start_time": "2022-08-15T01:01:31.366Z"
   },
   {
    "duration": 27,
    "start_time": "2022-08-15T01:01:33.163Z"
   },
   {
    "duration": 503,
    "start_time": "2022-08-15T01:04:23.477Z"
   },
   {
    "duration": 28,
    "start_time": "2022-08-15T01:04:23.982Z"
   },
   {
    "duration": 18,
    "start_time": "2022-08-15T01:04:24.015Z"
   },
   {
    "duration": 10,
    "start_time": "2022-08-15T01:04:24.034Z"
   },
   {
    "duration": 58,
    "start_time": "2022-08-15T01:04:24.046Z"
   },
   {
    "duration": 3,
    "start_time": "2022-08-15T01:04:24.106Z"
   },
   {
    "duration": 10,
    "start_time": "2022-08-15T01:04:24.111Z"
   },
   {
    "duration": 4,
    "start_time": "2022-08-15T01:04:24.123Z"
   },
   {
    "duration": 6,
    "start_time": "2022-08-15T01:04:24.132Z"
   },
   {
    "duration": 4,
    "start_time": "2022-08-15T01:04:24.139Z"
   },
   {
    "duration": 68,
    "start_time": "2022-08-15T01:04:24.145Z"
   },
   {
    "duration": 10,
    "start_time": "2022-08-15T01:04:24.214Z"
   },
   {
    "duration": 5,
    "start_time": "2022-08-15T01:04:24.226Z"
   },
   {
    "duration": 13,
    "start_time": "2022-08-15T01:04:24.233Z"
   },
   {
    "duration": 19,
    "start_time": "2022-08-15T01:04:24.248Z"
   },
   {
    "duration": 23,
    "start_time": "2022-08-15T01:04:24.287Z"
   },
   {
    "duration": 4,
    "start_time": "2022-08-15T01:04:24.311Z"
   },
   {
    "duration": 18,
    "start_time": "2022-08-15T01:04:24.317Z"
   },
   {
    "duration": 11,
    "start_time": "2022-08-15T01:04:24.336Z"
   },
   {
    "duration": 8,
    "start_time": "2022-08-15T01:04:24.348Z"
   },
   {
    "duration": 12,
    "start_time": "2022-08-15T01:04:24.357Z"
   },
   {
    "duration": 35,
    "start_time": "2022-08-15T01:04:24.371Z"
   },
   {
    "duration": 26,
    "start_time": "2022-08-15T01:04:24.407Z"
   },
   {
    "duration": 28,
    "start_time": "2022-08-15T01:04:24.435Z"
   },
   {
    "duration": 55,
    "start_time": "2022-08-15T01:04:24.465Z"
   },
   {
    "duration": 20,
    "start_time": "2022-08-15T01:04:24.521Z"
   },
   {
    "duration": 59,
    "start_time": "2022-08-15T01:04:24.544Z"
   },
   {
    "duration": 27,
    "start_time": "2022-08-15T01:04:24.605Z"
   },
   {
    "duration": 27,
    "start_time": "2022-08-15T01:04:24.633Z"
   },
   {
    "duration": 25,
    "start_time": "2022-08-15T01:04:24.662Z"
   },
   {
    "duration": 84,
    "start_time": "2022-08-15T01:05:16.037Z"
   },
   {
    "duration": 61,
    "start_time": "2022-08-15T01:05:27.221Z"
   },
   {
    "duration": 69,
    "start_time": "2022-08-15T01:05:34.477Z"
   },
   {
    "duration": 20,
    "start_time": "2022-08-15T01:15:07.684Z"
   },
   {
    "duration": 45,
    "start_time": "2022-08-15T01:15:13.863Z"
   },
   {
    "duration": 450,
    "start_time": "2022-08-15T01:16:45.145Z"
   },
   {
    "duration": 22,
    "start_time": "2022-08-15T01:16:45.601Z"
   },
   {
    "duration": 15,
    "start_time": "2022-08-15T01:16:45.625Z"
   },
   {
    "duration": 10,
    "start_time": "2022-08-15T01:16:45.642Z"
   },
   {
    "duration": 58,
    "start_time": "2022-08-15T01:16:45.653Z"
   },
   {
    "duration": 3,
    "start_time": "2022-08-15T01:16:45.713Z"
   },
   {
    "duration": 22,
    "start_time": "2022-08-15T01:16:45.718Z"
   },
   {
    "duration": 4,
    "start_time": "2022-08-15T01:16:45.742Z"
   },
   {
    "duration": 8,
    "start_time": "2022-08-15T01:16:45.748Z"
   },
   {
    "duration": 4,
    "start_time": "2022-08-15T01:16:45.759Z"
   },
   {
    "duration": 54,
    "start_time": "2022-08-15T01:16:45.765Z"
   },
   {
    "duration": 11,
    "start_time": "2022-08-15T01:16:45.821Z"
   },
   {
    "duration": 6,
    "start_time": "2022-08-15T01:16:45.835Z"
   },
   {
    "duration": 19,
    "start_time": "2022-08-15T01:16:45.843Z"
   },
   {
    "duration": 46,
    "start_time": "2022-08-15T01:16:45.864Z"
   },
   {
    "duration": 24,
    "start_time": "2022-08-15T01:16:45.911Z"
   },
   {
    "duration": 3,
    "start_time": "2022-08-15T01:16:45.937Z"
   },
   {
    "duration": 22,
    "start_time": "2022-08-15T01:16:45.941Z"
   },
   {
    "duration": 8,
    "start_time": "2022-08-15T01:16:45.964Z"
   },
   {
    "duration": 20,
    "start_time": "2022-08-15T01:16:45.973Z"
   },
   {
    "duration": 18,
    "start_time": "2022-08-15T01:16:45.999Z"
   },
   {
    "duration": 21,
    "start_time": "2022-08-15T01:16:46.019Z"
   },
   {
    "duration": 28,
    "start_time": "2022-08-15T01:16:46.041Z"
   },
   {
    "duration": 48,
    "start_time": "2022-08-15T01:16:46.071Z"
   },
   {
    "duration": 29,
    "start_time": "2022-08-15T01:16:46.120Z"
   },
   {
    "duration": 55,
    "start_time": "2022-08-15T01:16:46.151Z"
   },
   {
    "duration": 33,
    "start_time": "2022-08-15T01:16:46.208Z"
   },
   {
    "duration": 54,
    "start_time": "2022-08-15T01:16:46.245Z"
   },
   {
    "duration": 32,
    "start_time": "2022-08-15T01:16:46.302Z"
   },
   {
    "duration": 10,
    "start_time": "2022-08-15T01:16:46.336Z"
   },
   {
    "duration": 97,
    "start_time": "2022-08-15T01:18:40.415Z"
   },
   {
    "duration": 29,
    "start_time": "2022-08-15T01:18:52.402Z"
   },
   {
    "duration": 5,
    "start_time": "2022-08-15T01:19:48.911Z"
   },
   {
    "duration": 4,
    "start_time": "2022-08-15T01:20:05.710Z"
   },
   {
    "duration": 6,
    "start_time": "2022-08-15T01:21:30.699Z"
   },
   {
    "duration": 4,
    "start_time": "2022-08-15T01:24:16.376Z"
   },
   {
    "duration": 4,
    "start_time": "2022-08-15T01:24:21.866Z"
   },
   {
    "duration": 28,
    "start_time": "2022-08-15T01:26:20.604Z"
   },
   {
    "duration": 27,
    "start_time": "2022-08-15T01:26:57.981Z"
   },
   {
    "duration": 6,
    "start_time": "2022-08-15T01:32:34.173Z"
   },
   {
    "duration": 22,
    "start_time": "2022-08-15T01:33:49.959Z"
   },
   {
    "duration": 27,
    "start_time": "2022-08-15T01:34:06.772Z"
   },
   {
    "duration": 29,
    "start_time": "2022-08-15T01:34:35.778Z"
   },
   {
    "duration": 28,
    "start_time": "2022-08-15T01:34:44.708Z"
   },
   {
    "duration": 31,
    "start_time": "2022-08-15T01:37:24.471Z"
   },
   {
    "duration": 478,
    "start_time": "2022-08-15T01:39:22.085Z"
   },
   {
    "duration": 20,
    "start_time": "2022-08-15T01:39:22.565Z"
   },
   {
    "duration": 15,
    "start_time": "2022-08-15T01:39:22.586Z"
   },
   {
    "duration": 12,
    "start_time": "2022-08-15T01:39:22.603Z"
   },
   {
    "duration": 34,
    "start_time": "2022-08-15T01:39:22.616Z"
   },
   {
    "duration": 4,
    "start_time": "2022-08-15T01:39:22.651Z"
   },
   {
    "duration": 35,
    "start_time": "2022-08-15T01:39:22.657Z"
   },
   {
    "duration": 5,
    "start_time": "2022-08-15T01:39:22.694Z"
   },
   {
    "duration": 8,
    "start_time": "2022-08-15T01:39:22.701Z"
   },
   {
    "duration": 4,
    "start_time": "2022-08-15T01:39:22.713Z"
   },
   {
    "duration": 33,
    "start_time": "2022-08-15T01:39:22.719Z"
   },
   {
    "duration": 37,
    "start_time": "2022-08-15T01:39:22.754Z"
   },
   {
    "duration": 4,
    "start_time": "2022-08-15T01:39:22.793Z"
   },
   {
    "duration": 15,
    "start_time": "2022-08-15T01:39:22.798Z"
   },
   {
    "duration": 19,
    "start_time": "2022-08-15T01:39:22.815Z"
   },
   {
    "duration": 17,
    "start_time": "2022-08-15T01:39:22.835Z"
   },
   {
    "duration": 3,
    "start_time": "2022-08-15T01:39:22.854Z"
   },
   {
    "duration": 10,
    "start_time": "2022-08-15T01:39:22.886Z"
   },
   {
    "duration": 10,
    "start_time": "2022-08-15T01:39:22.898Z"
   },
   {
    "duration": 4,
    "start_time": "2022-08-15T01:39:22.909Z"
   },
   {
    "duration": 13,
    "start_time": "2022-08-15T01:39:22.915Z"
   },
   {
    "duration": 17,
    "start_time": "2022-08-15T01:39:22.930Z"
   },
   {
    "duration": 63,
    "start_time": "2022-08-15T01:39:22.950Z"
   },
   {
    "duration": 27,
    "start_time": "2022-08-15T01:39:23.015Z"
   },
   {
    "duration": 43,
    "start_time": "2022-08-15T01:39:23.044Z"
   },
   {
    "duration": 24,
    "start_time": "2022-08-15T01:39:23.089Z"
   },
   {
    "duration": 31,
    "start_time": "2022-08-15T01:39:23.115Z"
   },
   {
    "duration": 55,
    "start_time": "2022-08-15T01:39:23.148Z"
   },
   {
    "duration": 5,
    "start_time": "2022-08-15T01:39:23.204Z"
   },
   {
    "duration": 29,
    "start_time": "2022-08-15T01:39:23.210Z"
   },
   {
    "duration": 46,
    "start_time": "2022-08-15T01:39:23.241Z"
   },
   {
    "duration": 9,
    "start_time": "2022-08-15T01:39:23.288Z"
   },
   {
    "duration": 186,
    "start_time": "2022-08-15T02:05:17.572Z"
   },
   {
    "duration": 1065,
    "start_time": "2022-08-15T02:05:29.677Z"
   },
   {
    "duration": 32,
    "start_time": "2022-08-15T02:05:58.822Z"
   },
   {
    "duration": 32,
    "start_time": "2022-08-15T02:13:13.987Z"
   },
   {
    "duration": 31,
    "start_time": "2022-08-15T02:13:43.486Z"
   },
   {
    "duration": 29,
    "start_time": "2022-08-15T02:14:02.549Z"
   },
   {
    "duration": 31,
    "start_time": "2022-08-15T02:14:20.562Z"
   },
   {
    "duration": 29,
    "start_time": "2022-08-15T02:14:27.957Z"
   },
   {
    "duration": 39,
    "start_time": "2022-08-15T02:22:25.630Z"
   },
   {
    "duration": 29,
    "start_time": "2022-08-15T02:22:34.106Z"
   },
   {
    "duration": 29,
    "start_time": "2022-08-15T02:24:24.509Z"
   },
   {
    "duration": 36,
    "start_time": "2022-08-15T02:24:57.579Z"
   },
   {
    "duration": 32,
    "start_time": "2022-08-15T02:25:23.905Z"
   },
   {
    "duration": 33,
    "start_time": "2022-08-15T02:26:01.253Z"
   },
   {
    "duration": 31,
    "start_time": "2022-08-15T02:26:07.880Z"
   },
   {
    "duration": 32,
    "start_time": "2022-08-15T02:26:21.075Z"
   },
   {
    "duration": 441,
    "start_time": "2022-08-15T02:34:05.523Z"
   },
   {
    "duration": 22,
    "start_time": "2022-08-15T02:34:05.965Z"
   },
   {
    "duration": 18,
    "start_time": "2022-08-15T02:34:05.989Z"
   },
   {
    "duration": 11,
    "start_time": "2022-08-15T02:34:06.010Z"
   },
   {
    "duration": 40,
    "start_time": "2022-08-15T02:34:06.022Z"
   },
   {
    "duration": 3,
    "start_time": "2022-08-15T02:34:06.063Z"
   },
   {
    "duration": 9,
    "start_time": "2022-08-15T02:34:06.087Z"
   },
   {
    "duration": 4,
    "start_time": "2022-08-15T02:34:06.098Z"
   },
   {
    "duration": 8,
    "start_time": "2022-08-15T02:34:06.103Z"
   },
   {
    "duration": 4,
    "start_time": "2022-08-15T02:34:06.115Z"
   },
   {
    "duration": 33,
    "start_time": "2022-08-15T02:34:06.121Z"
   },
   {
    "duration": 13,
    "start_time": "2022-08-15T02:34:06.189Z"
   },
   {
    "duration": 7,
    "start_time": "2022-08-15T02:34:06.204Z"
   },
   {
    "duration": 25,
    "start_time": "2022-08-15T02:34:06.213Z"
   },
   {
    "duration": 42,
    "start_time": "2022-08-15T02:34:06.240Z"
   },
   {
    "duration": 18,
    "start_time": "2022-08-15T02:34:06.284Z"
   },
   {
    "duration": 3,
    "start_time": "2022-08-15T02:34:06.304Z"
   },
   {
    "duration": 11,
    "start_time": "2022-08-15T02:34:06.309Z"
   },
   {
    "duration": 8,
    "start_time": "2022-08-15T02:34:06.322Z"
   },
   {
    "duration": 4,
    "start_time": "2022-08-15T02:34:06.331Z"
   },
   {
    "duration": 17,
    "start_time": "2022-08-15T02:34:06.337Z"
   },
   {
    "duration": 32,
    "start_time": "2022-08-15T02:34:06.355Z"
   },
   {
    "duration": 28,
    "start_time": "2022-08-15T02:34:06.389Z"
   },
   {
    "duration": 30,
    "start_time": "2022-08-15T02:34:06.418Z"
   },
   {
    "duration": 57,
    "start_time": "2022-08-15T02:34:06.449Z"
   },
   {
    "duration": 18,
    "start_time": "2022-08-15T02:34:06.507Z"
   },
   {
    "duration": 26,
    "start_time": "2022-08-15T02:34:06.527Z"
   },
   {
    "duration": 57,
    "start_time": "2022-08-15T02:34:06.556Z"
   },
   {
    "duration": 5,
    "start_time": "2022-08-15T02:34:06.615Z"
   },
   {
    "duration": 36,
    "start_time": "2022-08-15T02:34:06.621Z"
   },
   {
    "duration": 50,
    "start_time": "2022-08-15T02:34:06.658Z"
   },
   {
    "duration": 8,
    "start_time": "2022-08-15T02:34:06.710Z"
   },
   {
    "duration": 66,
    "start_time": "2022-08-15T02:48:05.036Z"
   },
   {
    "duration": 495,
    "start_time": "2022-08-15T02:51:01.978Z"
   },
   {
    "duration": 21,
    "start_time": "2022-08-15T02:51:02.475Z"
   },
   {
    "duration": 15,
    "start_time": "2022-08-15T02:51:02.498Z"
   },
   {
    "duration": 10,
    "start_time": "2022-08-15T02:51:02.516Z"
   },
   {
    "duration": 38,
    "start_time": "2022-08-15T02:51:02.528Z"
   },
   {
    "duration": 3,
    "start_time": "2022-08-15T02:51:02.567Z"
   },
   {
    "duration": 7,
    "start_time": "2022-08-15T02:51:02.587Z"
   },
   {
    "duration": 7,
    "start_time": "2022-08-15T02:51:02.595Z"
   },
   {
    "duration": 9,
    "start_time": "2022-08-15T02:51:02.603Z"
   },
   {
    "duration": 5,
    "start_time": "2022-08-15T02:51:02.617Z"
   },
   {
    "duration": 37,
    "start_time": "2022-08-15T02:51:02.624Z"
   },
   {
    "duration": 28,
    "start_time": "2022-08-15T02:51:02.663Z"
   },
   {
    "duration": 24,
    "start_time": "2022-08-15T02:51:02.692Z"
   },
   {
    "duration": 19,
    "start_time": "2022-08-15T02:51:02.717Z"
   },
   {
    "duration": 26,
    "start_time": "2022-08-15T02:51:02.738Z"
   },
   {
    "duration": 16,
    "start_time": "2022-08-15T02:51:02.765Z"
   },
   {
    "duration": 3,
    "start_time": "2022-08-15T02:51:02.782Z"
   },
   {
    "duration": 17,
    "start_time": "2022-08-15T02:51:02.787Z"
   },
   {
    "duration": 15,
    "start_time": "2022-08-15T02:51:02.806Z"
   },
   {
    "duration": 4,
    "start_time": "2022-08-15T02:51:02.823Z"
   },
   {
    "duration": 15,
    "start_time": "2022-08-15T02:51:02.829Z"
   },
   {
    "duration": 19,
    "start_time": "2022-08-15T02:51:02.846Z"
   },
   {
    "duration": 36,
    "start_time": "2022-08-15T02:51:02.867Z"
   },
   {
    "duration": 29,
    "start_time": "2022-08-15T02:51:02.905Z"
   },
   {
    "duration": 51,
    "start_time": "2022-08-15T02:51:02.936Z"
   },
   {
    "duration": 20,
    "start_time": "2022-08-15T02:51:02.989Z"
   },
   {
    "duration": 27,
    "start_time": "2022-08-15T02:51:03.010Z"
   },
   {
    "duration": 53,
    "start_time": "2022-08-15T02:51:03.040Z"
   },
   {
    "duration": 5,
    "start_time": "2022-08-15T02:51:03.096Z"
   },
   {
    "duration": 33,
    "start_time": "2022-08-15T02:51:03.104Z"
   },
   {
    "duration": 54,
    "start_time": "2022-08-15T02:51:03.138Z"
   },
   {
    "duration": 7,
    "start_time": "2022-08-15T02:51:03.193Z"
   },
   {
    "duration": 3,
    "start_time": "2022-08-15T02:57:32.141Z"
   },
   {
    "duration": 45,
    "start_time": "2022-08-15T02:57:55.710Z"
   },
   {
    "duration": 4,
    "start_time": "2022-08-15T02:58:09.505Z"
   },
   {
    "duration": 27,
    "start_time": "2022-08-15T02:59:17.364Z"
   },
   {
    "duration": 415,
    "start_time": "2022-08-15T03:16:02.939Z"
   },
   {
    "duration": 20,
    "start_time": "2022-08-15T03:16:03.356Z"
   },
   {
    "duration": 17,
    "start_time": "2022-08-15T03:16:03.377Z"
   },
   {
    "duration": 9,
    "start_time": "2022-08-15T03:16:03.396Z"
   },
   {
    "duration": 35,
    "start_time": "2022-08-15T03:16:03.406Z"
   },
   {
    "duration": 3,
    "start_time": "2022-08-15T03:16:03.443Z"
   },
   {
    "duration": 10,
    "start_time": "2022-08-15T03:16:03.447Z"
   },
   {
    "duration": 4,
    "start_time": "2022-08-15T03:16:03.459Z"
   },
   {
    "duration": 26,
    "start_time": "2022-08-15T03:16:03.464Z"
   },
   {
    "duration": 5,
    "start_time": "2022-08-15T03:16:03.493Z"
   },
   {
    "duration": 33,
    "start_time": "2022-08-15T03:16:03.500Z"
   },
   {
    "duration": 12,
    "start_time": "2022-08-15T03:16:03.535Z"
   },
   {
    "duration": 7,
    "start_time": "2022-08-15T03:16:03.548Z"
   },
   {
    "duration": 30,
    "start_time": "2022-08-15T03:16:03.557Z"
   },
   {
    "duration": 19,
    "start_time": "2022-08-15T03:16:03.589Z"
   },
   {
    "duration": 18,
    "start_time": "2022-08-15T03:16:03.610Z"
   },
   {
    "duration": 4,
    "start_time": "2022-08-15T03:16:03.630Z"
   },
   {
    "duration": 14,
    "start_time": "2022-08-15T03:16:03.635Z"
   },
   {
    "duration": 8,
    "start_time": "2022-08-15T03:16:03.650Z"
   },
   {
    "duration": 27,
    "start_time": "2022-08-15T03:16:03.660Z"
   },
   {
    "duration": 8,
    "start_time": "2022-08-15T03:16:03.688Z"
   },
   {
    "duration": 19,
    "start_time": "2022-08-15T03:16:03.698Z"
   },
   {
    "duration": 29,
    "start_time": "2022-08-15T03:16:03.719Z"
   },
   {
    "duration": 44,
    "start_time": "2022-08-15T03:16:03.750Z"
   },
   {
    "duration": 27,
    "start_time": "2022-08-15T03:16:03.795Z"
   },
   {
    "duration": 18,
    "start_time": "2022-08-15T03:16:03.824Z"
   },
   {
    "duration": 57,
    "start_time": "2022-08-15T03:16:03.844Z"
   },
   {
    "duration": 27,
    "start_time": "2022-08-15T03:16:03.903Z"
   },
   {
    "duration": 4,
    "start_time": "2022-08-15T03:16:03.932Z"
   },
   {
    "duration": 50,
    "start_time": "2022-08-15T03:16:03.937Z"
   },
   {
    "duration": 34,
    "start_time": "2022-08-15T03:16:03.988Z"
   },
   {
    "duration": 9,
    "start_time": "2022-08-15T03:16:04.023Z"
   },
   {
    "duration": 26,
    "start_time": "2022-08-15T03:27:49.314Z"
   },
   {
    "duration": 27,
    "start_time": "2022-08-15T03:29:24.415Z"
   },
   {
    "duration": 30,
    "start_time": "2022-08-15T03:30:03.419Z"
   },
   {
    "duration": 418,
    "start_time": "2022-08-15T03:44:58.337Z"
   },
   {
    "duration": 19,
    "start_time": "2022-08-15T03:44:58.757Z"
   },
   {
    "duration": 13,
    "start_time": "2022-08-15T03:44:58.778Z"
   },
   {
    "duration": 8,
    "start_time": "2022-08-15T03:44:58.793Z"
   },
   {
    "duration": 31,
    "start_time": "2022-08-15T03:44:58.802Z"
   },
   {
    "duration": 3,
    "start_time": "2022-08-15T03:44:58.835Z"
   },
   {
    "duration": 10,
    "start_time": "2022-08-15T03:44:58.839Z"
   },
   {
    "duration": 4,
    "start_time": "2022-08-15T03:44:58.850Z"
   },
   {
    "duration": 31,
    "start_time": "2022-08-15T03:44:58.856Z"
   },
   {
    "duration": 5,
    "start_time": "2022-08-15T03:44:58.889Z"
   },
   {
    "duration": 34,
    "start_time": "2022-08-15T03:44:58.895Z"
   },
   {
    "duration": 10,
    "start_time": "2022-08-15T03:44:58.930Z"
   },
   {
    "duration": 3,
    "start_time": "2022-08-15T03:44:58.942Z"
   },
   {
    "duration": 12,
    "start_time": "2022-08-15T03:44:58.947Z"
   },
   {
    "duration": 43,
    "start_time": "2022-08-15T03:44:58.961Z"
   },
   {
    "duration": 18,
    "start_time": "2022-08-15T03:44:59.006Z"
   },
   {
    "duration": 4,
    "start_time": "2022-08-15T03:44:59.026Z"
   },
   {
    "duration": 15,
    "start_time": "2022-08-15T03:44:59.032Z"
   },
   {
    "duration": 5,
    "start_time": "2022-08-15T03:44:59.048Z"
   },
   {
    "duration": 7,
    "start_time": "2022-08-15T03:44:59.055Z"
   },
   {
    "duration": 30,
    "start_time": "2022-08-15T03:44:59.063Z"
   },
   {
    "duration": 14,
    "start_time": "2022-08-15T03:44:59.094Z"
   },
   {
    "duration": 26,
    "start_time": "2022-08-15T03:44:59.110Z"
   },
   {
    "duration": 50,
    "start_time": "2022-08-15T03:44:59.137Z"
   },
   {
    "duration": 27,
    "start_time": "2022-08-15T03:44:59.188Z"
   },
   {
    "duration": 19,
    "start_time": "2022-08-15T03:44:59.216Z"
   },
   {
    "duration": 52,
    "start_time": "2022-08-15T03:44:59.237Z"
   },
   {
    "duration": 27,
    "start_time": "2022-08-15T03:44:59.292Z"
   },
   {
    "duration": 4,
    "start_time": "2022-08-15T03:44:59.321Z"
   },
   {
    "duration": 32,
    "start_time": "2022-08-15T03:44:59.326Z"
   },
   {
    "duration": 50,
    "start_time": "2022-08-15T03:44:59.360Z"
   },
   {
    "duration": 7,
    "start_time": "2022-08-15T03:44:59.411Z"
   },
   {
    "duration": 593,
    "start_time": "2022-08-15T17:30:00.258Z"
   },
   {
    "duration": 23,
    "start_time": "2022-08-15T17:30:00.853Z"
   },
   {
    "duration": 15,
    "start_time": "2022-08-15T17:30:00.878Z"
   },
   {
    "duration": 16,
    "start_time": "2022-08-15T17:30:00.895Z"
   },
   {
    "duration": 39,
    "start_time": "2022-08-15T17:30:00.914Z"
   },
   {
    "duration": 4,
    "start_time": "2022-08-15T17:30:00.969Z"
   },
   {
    "duration": 24,
    "start_time": "2022-08-15T17:30:00.975Z"
   },
   {
    "duration": 23,
    "start_time": "2022-08-15T17:30:01.001Z"
   },
   {
    "duration": 28,
    "start_time": "2022-08-15T17:30:01.026Z"
   },
   {
    "duration": 6,
    "start_time": "2022-08-15T17:30:01.056Z"
   },
   {
    "duration": 41,
    "start_time": "2022-08-15T17:30:01.064Z"
   },
   {
    "duration": 16,
    "start_time": "2022-08-15T17:30:01.108Z"
   },
   {
    "duration": 21,
    "start_time": "2022-08-15T17:30:01.126Z"
   },
   {
    "duration": 25,
    "start_time": "2022-08-15T17:30:01.150Z"
   },
   {
    "duration": 37,
    "start_time": "2022-08-15T17:30:01.177Z"
   },
   {
    "duration": 18,
    "start_time": "2022-08-15T17:30:01.215Z"
   },
   {
    "duration": 3,
    "start_time": "2022-08-15T17:30:01.235Z"
   },
   {
    "duration": 23,
    "start_time": "2022-08-15T17:30:01.240Z"
   },
   {
    "duration": 8,
    "start_time": "2022-08-15T17:30:01.264Z"
   },
   {
    "duration": 5,
    "start_time": "2022-08-15T17:30:01.273Z"
   },
   {
    "duration": 21,
    "start_time": "2022-08-15T17:30:01.279Z"
   },
   {
    "duration": 19,
    "start_time": "2022-08-15T17:30:01.302Z"
   },
   {
    "duration": 40,
    "start_time": "2022-08-15T17:30:01.323Z"
   },
   {
    "duration": 30,
    "start_time": "2022-08-15T17:30:01.368Z"
   },
   {
    "duration": 32,
    "start_time": "2022-08-15T17:30:01.399Z"
   },
   {
    "duration": 50,
    "start_time": "2022-08-15T17:30:01.433Z"
   },
   {
    "duration": 40,
    "start_time": "2022-08-15T17:30:01.485Z"
   },
   {
    "duration": 79,
    "start_time": "2022-08-15T17:30:01.527Z"
   },
   {
    "duration": 6,
    "start_time": "2022-08-15T17:30:01.608Z"
   },
   {
    "duration": 70,
    "start_time": "2022-08-15T17:30:01.616Z"
   },
   {
    "duration": 46,
    "start_time": "2022-08-15T17:30:01.689Z"
   },
   {
    "duration": 8,
    "start_time": "2022-08-15T17:30:01.736Z"
   },
   {
    "duration": 453,
    "start_time": "2022-08-15T17:31:20.603Z"
   },
   {
    "duration": 23,
    "start_time": "2022-08-15T17:31:21.058Z"
   },
   {
    "duration": 14,
    "start_time": "2022-08-15T17:31:21.083Z"
   },
   {
    "duration": 10,
    "start_time": "2022-08-15T17:31:21.099Z"
   },
   {
    "duration": 57,
    "start_time": "2022-08-15T17:31:21.111Z"
   },
   {
    "duration": 4,
    "start_time": "2022-08-15T17:31:21.169Z"
   },
   {
    "duration": 12,
    "start_time": "2022-08-15T17:31:21.175Z"
   },
   {
    "duration": 5,
    "start_time": "2022-08-15T17:31:21.189Z"
   },
   {
    "duration": 10,
    "start_time": "2022-08-15T17:31:21.195Z"
   },
   {
    "duration": 5,
    "start_time": "2022-08-15T17:31:21.207Z"
   },
   {
    "duration": 69,
    "start_time": "2022-08-15T17:31:21.213Z"
   },
   {
    "duration": 9,
    "start_time": "2022-08-15T17:31:21.284Z"
   },
   {
    "duration": 3,
    "start_time": "2022-08-15T17:31:21.295Z"
   },
   {
    "duration": 16,
    "start_time": "2022-08-15T17:31:21.301Z"
   },
   {
    "duration": 20,
    "start_time": "2022-08-15T17:31:21.318Z"
   },
   {
    "duration": 18,
    "start_time": "2022-08-15T17:31:21.368Z"
   },
   {
    "duration": 3,
    "start_time": "2022-08-15T17:31:21.388Z"
   },
   {
    "duration": 15,
    "start_time": "2022-08-15T17:31:21.393Z"
   },
   {
    "duration": 10,
    "start_time": "2022-08-15T17:31:21.410Z"
   },
   {
    "duration": 5,
    "start_time": "2022-08-15T17:31:21.422Z"
   },
   {
    "duration": 11,
    "start_time": "2022-08-15T17:31:21.428Z"
   },
   {
    "duration": 17,
    "start_time": "2022-08-15T17:31:21.468Z"
   },
   {
    "duration": 39,
    "start_time": "2022-08-15T17:31:21.487Z"
   },
   {
    "duration": 55,
    "start_time": "2022-08-15T17:31:21.528Z"
   },
   {
    "duration": 32,
    "start_time": "2022-08-15T17:31:21.585Z"
   },
   {
    "duration": 55,
    "start_time": "2022-08-15T17:31:21.619Z"
   },
   {
    "duration": 32,
    "start_time": "2022-08-15T17:31:21.675Z"
   },
   {
    "duration": 29,
    "start_time": "2022-08-15T17:31:21.709Z"
   },
   {
    "duration": 36,
    "start_time": "2022-08-15T17:31:21.740Z"
   },
   {
    "duration": 38,
    "start_time": "2022-08-15T17:31:21.778Z"
   },
   {
    "duration": 33,
    "start_time": "2022-08-15T17:31:21.818Z"
   },
   {
    "duration": 20,
    "start_time": "2022-08-15T17:31:21.852Z"
   },
   {
    "duration": 699,
    "start_time": "2022-08-15T17:36:03.454Z"
   },
   {
    "duration": 22,
    "start_time": "2022-08-15T17:36:04.155Z"
   },
   {
    "duration": 14,
    "start_time": "2022-08-15T17:36:04.178Z"
   },
   {
    "duration": 9,
    "start_time": "2022-08-15T17:36:04.193Z"
   },
   {
    "duration": 41,
    "start_time": "2022-08-15T17:36:04.203Z"
   },
   {
    "duration": 3,
    "start_time": "2022-08-15T17:36:04.246Z"
   },
   {
    "duration": 14,
    "start_time": "2022-08-15T17:36:04.250Z"
   },
   {
    "duration": 9,
    "start_time": "2022-08-15T17:36:04.274Z"
   },
   {
    "duration": 18,
    "start_time": "2022-08-15T17:36:04.285Z"
   },
   {
    "duration": 10,
    "start_time": "2022-08-15T17:36:04.306Z"
   },
   {
    "duration": 58,
    "start_time": "2022-08-15T17:36:04.317Z"
   },
   {
    "duration": 28,
    "start_time": "2022-08-15T17:36:04.377Z"
   },
   {
    "duration": 25,
    "start_time": "2022-08-15T17:36:04.407Z"
   },
   {
    "duration": 43,
    "start_time": "2022-08-15T17:36:04.433Z"
   },
   {
    "duration": 44,
    "start_time": "2022-08-15T17:36:04.477Z"
   },
   {
    "duration": 39,
    "start_time": "2022-08-15T17:36:04.522Z"
   },
   {
    "duration": 21,
    "start_time": "2022-08-15T17:36:04.563Z"
   },
   {
    "duration": 35,
    "start_time": "2022-08-15T17:36:04.586Z"
   },
   {
    "duration": 27,
    "start_time": "2022-08-15T17:36:04.623Z"
   },
   {
    "duration": 17,
    "start_time": "2022-08-15T17:36:04.651Z"
   },
   {
    "duration": 44,
    "start_time": "2022-08-15T17:36:04.669Z"
   },
   {
    "duration": 17,
    "start_time": "2022-08-15T17:36:04.715Z"
   },
   {
    "duration": 26,
    "start_time": "2022-08-15T17:36:04.733Z"
   },
   {
    "duration": 25,
    "start_time": "2022-08-15T17:36:04.760Z"
   },
   {
    "duration": 25,
    "start_time": "2022-08-15T17:36:04.787Z"
   },
   {
    "duration": 38,
    "start_time": "2022-08-15T17:36:04.814Z"
   },
   {
    "duration": 33,
    "start_time": "2022-08-15T17:36:04.854Z"
   },
   {
    "duration": 25,
    "start_time": "2022-08-15T17:36:04.889Z"
   },
   {
    "duration": 3,
    "start_time": "2022-08-15T17:36:04.938Z"
   },
   {
    "duration": 28,
    "start_time": "2022-08-15T17:36:04.943Z"
   },
   {
    "duration": 29,
    "start_time": "2022-08-15T17:36:04.973Z"
   },
   {
    "duration": 7,
    "start_time": "2022-08-15T17:36:05.003Z"
   },
   {
    "duration": 58,
    "start_time": "2022-08-15T17:36:05.011Z"
   }
  ],
  "colab": {
   "name": "dpp_template_part2.ipynb",
   "provenance": []
  },
  "kernelspec": {
   "display_name": "Python 3 (ipykernel)",
   "language": "python",
   "name": "python3"
  },
  "language_info": {
   "codemirror_mode": {
    "name": "ipython",
    "version": 3
   },
   "file_extension": ".py",
   "mimetype": "text/x-python",
   "name": "python",
   "nbconvert_exporter": "python",
   "pygments_lexer": "ipython3",
   "version": "3.9.12"
  },
  "toc": {
   "base_numbering": 1,
   "nav_menu": {},
   "number_sections": true,
   "sideBar": true,
   "skip_h1_title": true,
   "title_cell": "Table of Contents",
   "title_sidebar": "Contents",
   "toc_cell": false,
   "toc_position": {},
   "toc_section_display": true,
   "toc_window_display": false
  }
 },
 "nbformat": 4,
 "nbformat_minor": 5
}
