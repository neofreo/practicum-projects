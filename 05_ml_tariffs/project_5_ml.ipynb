{
 "cells": [
  {
   "cell_type": "markdown",
   "metadata": {},
   "source": [
    "# Рекомендация тарифов"
   ]
  },
  {
   "cell_type": "markdown",
   "metadata": {},
   "source": [
    "Цели проекта\n",
    "\n",
    "На основе данных о поведении клиентов, Нужно построить и сравнить модели для задачи классификации, которая поможет выбрать подходящий тариф.\n",
    "\n",
    "* Исследовать разные модели классификации и выбирать лучшую из них (максимально большим значением *accuracy*)\n",
    "* метрика accuracy на тестовой выборке должна быть не меньше 0.75\n",
    "\n",
    "План работы:\n",
    "* [Изучение и оценка данных](#изучение-и-оценка-данных)\n",
    "* [Разделить исходные данные на обучающую, валидационную и тестовую выборки в соотношении 60-20-20](#разделение-на-выборки)\n",
    "* [Исследовать качество разных моделей, меняя гиперпараметры](#исследование-моделей)\n",
    "* [Проверить качество модели на тестовой выборке](#проверка-лучшей-модели-на-тестовой-выборке)\n",
    "* [Проверить модель на вменяемость](#провека-модели-на-адекватность)\n",
    "* [Выводы](#вывод)\n"
   ]
  },
  {
   "cell_type": "markdown",
   "metadata": {},
   "source": [
    "Описание данных\n",
    "\n",
    "Каждый объект в наборе данных — это информация о поведении одного пользователя за месяц. Известно:\n",
    "\n",
    "* сalls — количество звонков,\n",
    "* minutes — суммарная длительность звонков в минутах,\n",
    "* messages — количество sms-сообщений,\n",
    "* mb_used — израсходованный интернет-трафик в Мб,\n",
    "* is_ultra — каким тарифом пользовался в течение месяца («Ультра» — 1, «Смарт» — 0)."
   ]
  },
  {
   "cell_type": "markdown",
   "metadata": {},
   "source": [
    "### Изучение и оценка данных"
   ]
  },
  {
   "cell_type": "code",
   "execution_count": 1,
   "metadata": {},
   "outputs": [],
   "source": [
    "import pandas as pd\n",
    "import matplotlib.pyplot as plt\n",
    "\n",
    "from sklearn.model_selection import train_test_split\n",
    "from sklearn.model_selection import GridSearchCV\n",
    "from sklearn.tree import DecisionTreeClassifier\n",
    "from sklearn.ensemble import RandomForestClassifier\n",
    "from sklearn.linear_model import LogisticRegression\n",
    "from sklearn.metrics import accuracy_score\n",
    "from sklearn.dummy import DummyClassifier\n",
    "from sklearn.datasets import load_iris\n",
    "from sklearn import tree"
   ]
  },
  {
   "cell_type": "code",
   "execution_count": 2,
   "metadata": {},
   "outputs": [],
   "source": [
    "df = pd.read_csv('C:\\\\Users\\\\Freo\\\\Desktop\\\\projects\\\\datasets\\\\p5.csv')"
   ]
  },
  {
   "cell_type": "code",
   "execution_count": 3,
   "metadata": {},
   "outputs": [
    {
     "data": {
      "text/html": [
       "<div>\n",
       "<style scoped>\n",
       "    .dataframe tbody tr th:only-of-type {\n",
       "        vertical-align: middle;\n",
       "    }\n",
       "\n",
       "    .dataframe tbody tr th {\n",
       "        vertical-align: top;\n",
       "    }\n",
       "\n",
       "    .dataframe thead th {\n",
       "        text-align: right;\n",
       "    }\n",
       "</style>\n",
       "<table border=\"1\" class=\"dataframe\">\n",
       "  <thead>\n",
       "    <tr style=\"text-align: right;\">\n",
       "      <th></th>\n",
       "      <th>calls</th>\n",
       "      <th>minutes</th>\n",
       "      <th>messages</th>\n",
       "      <th>mb_used</th>\n",
       "      <th>is_ultra</th>\n",
       "    </tr>\n",
       "  </thead>\n",
       "  <tbody>\n",
       "    <tr>\n",
       "      <th>0</th>\n",
       "      <td>40.0</td>\n",
       "      <td>311.90</td>\n",
       "      <td>83.0</td>\n",
       "      <td>19915.42</td>\n",
       "      <td>0</td>\n",
       "    </tr>\n",
       "    <tr>\n",
       "      <th>1</th>\n",
       "      <td>85.0</td>\n",
       "      <td>516.75</td>\n",
       "      <td>56.0</td>\n",
       "      <td>22696.96</td>\n",
       "      <td>0</td>\n",
       "    </tr>\n",
       "    <tr>\n",
       "      <th>2</th>\n",
       "      <td>77.0</td>\n",
       "      <td>467.66</td>\n",
       "      <td>86.0</td>\n",
       "      <td>21060.45</td>\n",
       "      <td>0</td>\n",
       "    </tr>\n",
       "    <tr>\n",
       "      <th>3</th>\n",
       "      <td>106.0</td>\n",
       "      <td>745.53</td>\n",
       "      <td>81.0</td>\n",
       "      <td>8437.39</td>\n",
       "      <td>1</td>\n",
       "    </tr>\n",
       "    <tr>\n",
       "      <th>4</th>\n",
       "      <td>66.0</td>\n",
       "      <td>418.74</td>\n",
       "      <td>1.0</td>\n",
       "      <td>14502.75</td>\n",
       "      <td>0</td>\n",
       "    </tr>\n",
       "    <tr>\n",
       "      <th>...</th>\n",
       "      <td>...</td>\n",
       "      <td>...</td>\n",
       "      <td>...</td>\n",
       "      <td>...</td>\n",
       "      <td>...</td>\n",
       "    </tr>\n",
       "    <tr>\n",
       "      <th>3209</th>\n",
       "      <td>122.0</td>\n",
       "      <td>910.98</td>\n",
       "      <td>20.0</td>\n",
       "      <td>35124.90</td>\n",
       "      <td>1</td>\n",
       "    </tr>\n",
       "    <tr>\n",
       "      <th>3210</th>\n",
       "      <td>25.0</td>\n",
       "      <td>190.36</td>\n",
       "      <td>0.0</td>\n",
       "      <td>3275.61</td>\n",
       "      <td>0</td>\n",
       "    </tr>\n",
       "    <tr>\n",
       "      <th>3211</th>\n",
       "      <td>97.0</td>\n",
       "      <td>634.44</td>\n",
       "      <td>70.0</td>\n",
       "      <td>13974.06</td>\n",
       "      <td>0</td>\n",
       "    </tr>\n",
       "    <tr>\n",
       "      <th>3212</th>\n",
       "      <td>64.0</td>\n",
       "      <td>462.32</td>\n",
       "      <td>90.0</td>\n",
       "      <td>31239.78</td>\n",
       "      <td>0</td>\n",
       "    </tr>\n",
       "    <tr>\n",
       "      <th>3213</th>\n",
       "      <td>80.0</td>\n",
       "      <td>566.09</td>\n",
       "      <td>6.0</td>\n",
       "      <td>29480.52</td>\n",
       "      <td>1</td>\n",
       "    </tr>\n",
       "  </tbody>\n",
       "</table>\n",
       "<p>3214 rows × 5 columns</p>\n",
       "</div>"
      ],
      "text/plain": [
       "      calls  minutes  messages   mb_used  is_ultra\n",
       "0      40.0   311.90      83.0  19915.42         0\n",
       "1      85.0   516.75      56.0  22696.96         0\n",
       "2      77.0   467.66      86.0  21060.45         0\n",
       "3     106.0   745.53      81.0   8437.39         1\n",
       "4      66.0   418.74       1.0  14502.75         0\n",
       "...     ...      ...       ...       ...       ...\n",
       "3209  122.0   910.98      20.0  35124.90         1\n",
       "3210   25.0   190.36       0.0   3275.61         0\n",
       "3211   97.0   634.44      70.0  13974.06         0\n",
       "3212   64.0   462.32      90.0  31239.78         0\n",
       "3213   80.0   566.09       6.0  29480.52         1\n",
       "\n",
       "[3214 rows x 5 columns]"
      ]
     },
     "metadata": {},
     "output_type": "display_data"
    }
   ],
   "source": [
    "display(df)"
   ]
  },
  {
   "cell_type": "code",
   "execution_count": 4,
   "metadata": {},
   "outputs": [
    {
     "name": "stdout",
     "output_type": "stream",
     "text": [
      "Index(['calls', 'minutes', 'messages', 'mb_used', 'is_ultra'], dtype='object')\n"
     ]
    }
   ],
   "source": [
    "print(df.columns)"
   ]
  },
  {
   "cell_type": "markdown",
   "metadata": {},
   "source": [
    "посмотрим на сбалансированность:"
   ]
  },
  {
   "cell_type": "code",
   "execution_count": 5,
   "metadata": {},
   "outputs": [
    {
     "data": {
      "image/png": "[encoded data removed]",
      "text/plain": [
       "<Figure size 640x480 with 1 Axes>"
      ]
     },
     "metadata": {},
     "output_type": "display_data"
    }
   ],
   "source": [
    "df['is_ultra'].value_counts(normalize=True).plot(kind='bar');"
   ]
  },
  {
   "cell_type": "markdown",
   "metadata": {},
   "source": [
    "визуально видно сильное смещение в сторону тарифа \"смарт\"; даже если просто предсказывать что у каждого человеека смарт - мы будем правы примерно в 68~% случаев; значит необходимо получить от модели более точное предсказание"
   ]
  },
  {
   "cell_type": "markdown",
   "metadata": {},
   "source": [
    "### Разделение на выборки"
   ]
  },
  {
   "cell_type": "markdown",
   "metadata": {},
   "source": [
    "разделим сначала на 2 части, обучающую выборку и временную в соотношении 60 \\ 40\n",
    "\n",
    "временную затем поделим пополам, что в итоге даст соотношение 60-20-20"
   ]
  },
  {
   "cell_type": "code",
   "execution_count": 6,
   "metadata": {},
   "outputs": [],
   "source": [
    "features = df.drop(['is_ultra'], axis=1)\n",
    "target = df['is_ultra']\n",
    "\n",
    "\n",
    "features_train, features_temp, target_train, target_temp = train_test_split(\n",
    "    features, target, test_size=0.4, random_state=12345, stratify = target)\n",
    "\n",
    "\n",
    "\n",
    "\n",
    "features_valid, features_test, target_valid, target_test = train_test_split(\n",
    "    features_temp, target_temp, test_size=0.5, random_state=12345, stratify = target_temp)"
   ]
  },
  {
   "cell_type": "markdown",
   "metadata": {},
   "source": [
    "удостоверимся что размеры верны"
   ]
  },
  {
   "cell_type": "code",
   "execution_count": 7,
   "metadata": {},
   "outputs": [
    {
     "name": "stdout",
     "output_type": "stream",
     "text": [
      "3214\n",
      "1928\n",
      "643\n",
      "643\n",
      "True\n"
     ]
    }
   ],
   "source": [
    "print(len(df))\n",
    "print(len(features_train))\n",
    "print(len(features_valid))\n",
    "print(len(features_test))\n",
    "print(len(df) == len(features_train)+len(features_test)+len(features_test))"
   ]
  },
  {
   "cell_type": "markdown",
   "metadata": {},
   "source": [
    "### Исследование моделей"
   ]
  },
  {
   "cell_type": "markdown",
   "metadata": {},
   "source": [
    "сравним\n",
    "\n",
    "* дерево решений\n",
    "* случайный лес\n",
    "* логистическую регрессию"
   ]
  },
  {
   "cell_type": "markdown",
   "metadata": {},
   "source": [
    "дерево:"
   ]
  },
  {
   "cell_type": "code",
   "execution_count": 8,
   "metadata": {},
   "outputs": [
    {
     "data": {
      "image/png": "[encoded data removed]",
      "text/plain": [
       "<Figure size 600x400 with 1 Axes>"
      ]
     },
     "metadata": {},
     "output_type": "display_data"
    },
    {
     "name": "stdout",
     "output_type": "stream",
     "text": [
      "Accuracy лучшей модели:, 0.7853810264385692, на глубине 5\n"
     ]
    }
   ],
   "source": [
    "for_plot_val = [0]\n",
    "for_plot_train = [0]\n",
    "best_model = None\n",
    "best_result = 0\n",
    "best_depth = 0\n",
    "for depth in range(1, 6):\n",
    "    model = DecisionTreeClassifier(random_state=12345, max_depth= depth)\n",
    "    model.fit(features_train, target_train)\n",
    "    result = model.score(features_valid, target_valid)\n",
    "    \n",
    "    for_plot_val.append(result)\n",
    "    for_plot_train.append(model.score(features_train, target_train))\n",
    "\n",
    "    if result > best_result:\n",
    "        best_model_dt = model\n",
    "        best_result = result\n",
    "        best_depth = depth\n",
    "\n",
    "fig, ax = plt.subplots()\n",
    "plt.title('accuracy на глубине')\n",
    "ax.plot(for_plot_val, label = 'валидационная')\n",
    "ax.plot(for_plot_train, label = 'тренировочная')\n",
    "plt.ylim([0.74, 0.82]);\n",
    "ax.legend()\n",
    "\n",
    "fig.set_figheight(4)\n",
    "fig.set_figwidth(6)\n",
    "plt.show()\n",
    "\n",
    "print(f'Accuracy лучшей модели:, {best_result}, на глубине {best_depth}')"
   ]
  },
  {
   "cell_type": "markdown",
   "metadata": {},
   "source": [
    "Визуализируем основные критерии классификации"
   ]
  },
  {
   "cell_type": "code",
   "execution_count": 9,
   "metadata": {},
   "outputs": [
    {
     "data": {
      "image/png": "[encoded data removed]",
      "text/plain": [
       "<Figure size 1800x1500 with 1 Axes>"
      ]
     },
     "metadata": {},
     "output_type": "display_data"
    }
   ],
   "source": [
    "plt.figure(figsize=(18,15))\n",
    "tree.plot_tree(model, max_depth=3, fontsize=11, feature_names = features_train.columns, class_names=['Smart','Ultra'], filled=True);\n",
    "plt.show()"
   ]
  },
  {
   "cell_type": "markdown",
   "metadata": {},
   "source": [
    "случайный лес:"
   ]
  },
  {
   "cell_type": "code",
   "execution_count": 10,
   "metadata": {
    "scrolled": false
   },
   "outputs": [
    {
     "name": "stdout",
     "output_type": "stream",
     "text": [
      "Accuracy наилучшей модели:0.8211508553654744, деревьев: 40, глубина: 9, критерий: gini\n",
      "CPU times: total: 8.97 s\n",
      "Wall time: 9 s\n"
     ]
    }
   ],
   "source": [
    "%%time\n",
    "criterions = ['gini','entropy']\n",
    "best_model = None\n",
    "best_result = 0\n",
    "best_depth = 0\n",
    "\n",
    "for est in range(10, 51, 10):\n",
    "    for depth in range(1, 11):\n",
    "        for criter in criterions:\n",
    "            model = RandomForestClassifier(random_state=12345, n_estimators=est, max_depth = depth, criterion = criter)           \n",
    "            model.fit(features_train, target_train)\n",
    "            result = model.score(features_valid, target_valid)\n",
    "            \n",
    "            if result > best_result:\n",
    "                best_model_rf = model\n",
    "                best_result = result\n",
    "                best_est = est\n",
    "                best_depth = depth\n",
    "                best_criter = criter\n",
    "               \n",
    "print(f'Accuracy наилучшей модели:{best_result}, деревьев: {best_est}, глубина: {best_depth}, критерий: {best_criter}')"
   ]
  },
  {
   "cell_type": "code",
   "execution_count": 11,
   "metadata": {},
   "outputs": [],
   "source": [
    "y_train = df['is_ultra']\n",
    "X_train = df.drop('is_ultra', axis=1)\n",
    "\n",
    "clf = RandomForestClassifier(random_state=12345)\n",
    "\n",
    "parametrs = { 'n_estimators': range (10, 51, 10),\n",
    "              'max_depth': range (1,11)\n",
    "            }"
   ]
  },
  {
   "cell_type": "code",
   "execution_count": 12,
   "metadata": {},
   "outputs": [
    {
     "name": "stdout",
     "output_type": "stream",
     "text": [
      "{'max_depth': 9, 'n_estimators': 50}\n",
      "CPU times: total: 24.5 s\n",
      "Wall time: 24.4 s\n"
     ]
    }
   ],
   "source": [
    "%%time\n",
    "grid = GridSearchCV(clf, parametrs, cv=5)\n",
    "grid.fit(X_train, y_train)\n",
    "print(grid.best_params_)"
   ]
  },
  {
   "cell_type": "markdown",
   "metadata": {},
   "source": [
    "логистическая регрессия:"
   ]
  },
  {
   "cell_type": "code",
   "execution_count": 13,
   "metadata": {},
   "outputs": [
    {
     "name": "stdout",
     "output_type": "stream",
     "text": [
      "Accuracy наилучшей модели на валидационной выборке: 0.7387247278382582, солвер = newton-cg\n"
     ]
    },
    {
     "name": "stderr",
     "output_type": "stream",
     "text": [
      "c:\\Users\\Freo\\Desktop\\projects\\my_venv\\lib\\site-packages\\sklearn\\linear_model\\_sag.py:350: ConvergenceWarning: The max_iter was reached which means the coef_ did not converge\n",
      "  warnings.warn(\n",
      "c:\\Users\\Freo\\Desktop\\projects\\my_venv\\lib\\site-packages\\sklearn\\linear_model\\_sag.py:350: ConvergenceWarning: The max_iter was reached which means the coef_ did not converge\n",
      "  warnings.warn(\n"
     ]
    }
   ],
   "source": [
    "solvers = ['liblinear', 'newton-cg', 'lbfgs', 'sag', 'saga']\n",
    "\n",
    "best_model = None\n",
    "best_result = 0\n",
    "best_iter = 0\n",
    "\n",
    "for solv in solvers:\n",
    "    model = LogisticRegression(random_state=12345, solver=solv)\n",
    "    model.fit(features_train, target_train)\n",
    "    result = model.score(features_valid, target_valid)\n",
    "    if result > best_result:\n",
    "            best_model_lr = model# сохраним наилучшую модель\n",
    "            best_result = result#  сохраним наилучшее значение метрики accuracy на валидационных данных\n",
    "            best_solver = solv\n",
    "print(f'Accuracy наилучшей модели на валидационной выборке: {best_result}, солвер = {best_solver}')\n",
    "            "
   ]
  },
  {
   "cell_type": "markdown",
   "metadata": {},
   "source": [
    "### Проверка лучшей модели на тестовой выборке"
   ]
  },
  {
   "cell_type": "markdown",
   "metadata": {},
   "source": [
    "Обьединим обучающую и валидационную выборки для увеличения обьема данных для обучения"
   ]
  },
  {
   "cell_type": "code",
   "execution_count": 14,
   "metadata": {},
   "outputs": [],
   "source": [
    "features_80 = pd.concat([features_train, features_valid])\n",
    "target_80 = pd.concat([target_train, target_valid])"
   ]
  },
  {
   "cell_type": "markdown",
   "metadata": {},
   "source": [
    "было"
   ]
  },
  {
   "cell_type": "code",
   "execution_count": 15,
   "metadata": {},
   "outputs": [
    {
     "name": "stdout",
     "output_type": "stream",
     "text": [
      "accuracy на тестовой: 0.8087091757387247\n"
     ]
    }
   ],
   "source": [
    "result = best_model_rf.score(features_test, target_test)\n",
    "print(f'accuracy на тестовой: {result}')"
   ]
  },
  {
   "cell_type": "markdown",
   "metadata": {},
   "source": [
    "стало"
   ]
  },
  {
   "cell_type": "code",
   "execution_count": 16,
   "metadata": {},
   "outputs": [
    {
     "name": "stdout",
     "output_type": "stream",
     "text": [
      "accuracy на тестовой: 0.8289269051321928\n"
     ]
    }
   ],
   "source": [
    "model = RandomForestClassifier(random_state=12345, n_estimators=40, max_depth = 9)\n",
    "model.fit(features_80, target_80) \n",
    "result = model.score(features_test, target_test)\n",
    "print(f'accuracy на тестовой: {result}')"
   ]
  },
  {
   "cell_type": "markdown",
   "metadata": {},
   "source": [
    "Обьединением тренерировочной и валидационной удалость добавить еще пару процентов для интересующей нас метрики accuracy"
   ]
  },
  {
   "cell_type": "markdown",
   "metadata": {},
   "source": [
    "### Провека модели на адекватность"
   ]
  },
  {
   "cell_type": "markdown",
   "metadata": {},
   "source": [
    "Чтобы оценить адекватность модели сравним её с моделью которая выбирает самый распространный в обучающей выборке вариант:"
   ]
  },
  {
   "cell_type": "code",
   "execution_count": 17,
   "metadata": {},
   "outputs": [
    {
     "name": "stdout",
     "output_type": "stream",
     "text": [
      "0.6936236391912908\n"
     ]
    }
   ],
   "source": [
    "dummy_clf = DummyClassifier(strategy=\"most_frequent\")\n",
    "dummy_clf.fit(features_train, target_train)\n",
    "print(dummy_clf.score(features_test, target_test))\n"
   ]
  },
  {
   "cell_type": "markdown",
   "metadata": {},
   "source": [
    "Наша модель показала результаты лучше"
   ]
  },
  {
   "cell_type": "markdown",
   "metadata": {},
   "source": [
    "### Вывод"
   ]
  },
  {
   "cell_type": "markdown",
   "metadata": {},
   "source": [
    "Получив данные о поведении клиентов мы разделили их на 3 стратифицированные выборки; для обучения модели, выбора и настройки модели которая сможет наиболее успешно предсказывать новые данные на основе уже имеющихся, для итоговой проверки соотвествия минимально необходимым критериям точности.\n",
    "\n",
    "для проверки было выбрано 3 модели: решающее дерево, случайный лес и логистическая регрессия. Подбирая гиперпараметры, наилучший результат показала модель \"случайный лес\" (глубина = 9, количество деревьев = 40)\n",
    "\n",
    "После проверки на заранее подготовленной тестовой выборке удостоверились что условия (accuracy > 75) были соблюдены; после дообучения на валидационной выборке точность прогноза составила почти 83%\n",
    "\n",
    "Дополнительно проверили модель на адекватность сравнив с простановкой наиболее частых ответов; наша модель показала результаты лучше (83% против 69%)\n"
   ]
  }
 ],
 "metadata": {
  "ExecuteTimeLog": [
   {
    "duration": 514,
    "start_time": "2022-10-09T01:17:01.348Z"
   },
   {
    "duration": 126,
    "start_time": "2022-10-09T01:17:02.254Z"
   },
   {
    "duration": 12,
    "start_time": "2022-10-09T01:17:09.485Z"
   },
   {
    "duration": 43,
    "start_time": "2022-10-09T10:07:46.311Z"
   },
   {
    "duration": 386,
    "start_time": "2022-10-09T10:07:52.801Z"
   },
   {
    "duration": 63,
    "start_time": "2022-10-09T10:07:53.221Z"
   },
   {
    "duration": 10,
    "start_time": "2022-10-09T10:07:53.771Z"
   },
   {
    "duration": 3,
    "start_time": "2022-10-09T10:07:54.254Z"
   },
   {
    "duration": 26,
    "start_time": "2022-10-09T12:54:06.919Z"
   },
   {
    "duration": 758,
    "start_time": "2022-10-09T12:54:13.832Z"
   },
   {
    "duration": 33,
    "start_time": "2022-10-09T12:54:15.027Z"
   },
   {
    "duration": 8,
    "start_time": "2022-10-09T12:54:15.920Z"
   },
   {
    "duration": 3,
    "start_time": "2022-10-09T12:54:16.221Z"
   },
   {
    "duration": 4,
    "start_time": "2022-10-09T13:01:27.438Z"
   },
   {
    "duration": 6,
    "start_time": "2022-10-09T13:02:41.310Z"
   },
   {
    "duration": 15,
    "start_time": "2022-10-09T13:03:04.906Z"
   },
   {
    "duration": 17,
    "start_time": "2022-10-09T13:03:11.783Z"
   },
   {
    "duration": 19,
    "start_time": "2022-10-09T13:03:15.845Z"
   },
   {
    "duration": 31,
    "start_time": "2022-10-09T13:03:26.559Z"
   },
   {
    "duration": 2,
    "start_time": "2022-10-09T13:12:28.964Z"
   },
   {
    "duration": 3,
    "start_time": "2022-10-09T13:14:09.278Z"
   },
   {
    "duration": 7,
    "start_time": "2022-10-09T13:19:15.522Z"
   },
   {
    "duration": 20,
    "start_time": "2022-10-09T13:20:09.818Z"
   },
   {
    "duration": 24,
    "start_time": "2022-10-09T13:20:31.303Z"
   },
   {
    "duration": 25,
    "start_time": "2022-10-09T13:20:54.952Z"
   },
   {
    "duration": 2,
    "start_time": "2022-10-09T13:22:28.983Z"
   },
   {
    "duration": 39,
    "start_time": "2022-10-09T13:23:36.206Z"
   },
   {
    "duration": 79,
    "start_time": "2022-10-09T13:23:42.680Z"
   },
   {
    "duration": 45,
    "start_time": "2022-10-09T13:23:43.202Z"
   },
   {
    "duration": 14,
    "start_time": "2022-10-09T13:23:43.644Z"
   },
   {
    "duration": 3,
    "start_time": "2022-10-09T13:23:44.109Z"
   },
   {
    "duration": 2,
    "start_time": "2022-10-09T13:23:45.863Z"
   },
   {
    "duration": 10,
    "start_time": "2022-10-09T13:23:46.411Z"
   },
   {
    "duration": 2,
    "start_time": "2022-10-09T13:23:47.139Z"
   },
   {
    "duration": 26,
    "start_time": "2022-10-09T13:23:48.264Z"
   },
   {
    "duration": 16,
    "start_time": "2022-10-09T13:25:09.411Z"
   },
   {
    "duration": 21,
    "start_time": "2022-10-09T13:25:32.480Z"
   },
   {
    "duration": 30,
    "start_time": "2022-10-09T13:25:32.659Z"
   },
   {
    "duration": 10,
    "start_time": "2022-10-09T13:25:32.816Z"
   },
   {
    "duration": 3,
    "start_time": "2022-10-09T13:25:32.940Z"
   },
   {
    "duration": 2,
    "start_time": "2022-10-09T13:25:33.407Z"
   },
   {
    "duration": 7,
    "start_time": "2022-10-09T13:25:33.564Z"
   },
   {
    "duration": 3,
    "start_time": "2022-10-09T13:25:33.738Z"
   },
   {
    "duration": 27,
    "start_time": "2022-10-09T13:25:34.075Z"
   },
   {
    "duration": 3885,
    "start_time": "2022-10-09T13:25:34.842Z"
   },
   {
    "duration": 3,
    "start_time": "2022-10-09T13:26:05.252Z"
   },
   {
    "duration": 30,
    "start_time": "2022-10-09T13:26:05.669Z"
   },
   {
    "duration": 8,
    "start_time": "2022-10-09T13:26:05.864Z"
   },
   {
    "duration": 3,
    "start_time": "2022-10-09T13:26:06.226Z"
   },
   {
    "duration": 3,
    "start_time": "2022-10-09T13:26:06.817Z"
   },
   {
    "duration": 7,
    "start_time": "2022-10-09T13:26:07.058Z"
   },
   {
    "duration": 12,
    "start_time": "2022-10-09T13:26:16.580Z"
   },
   {
    "duration": 10,
    "start_time": "2022-10-09T13:34:47.162Z"
   },
   {
    "duration": 3,
    "start_time": "2022-10-09T13:35:15.498Z"
   },
   {
    "duration": 32,
    "start_time": "2022-10-09T13:35:15.925Z"
   },
   {
    "duration": 8,
    "start_time": "2022-10-09T13:35:16.291Z"
   },
   {
    "duration": 5,
    "start_time": "2022-10-09T13:35:16.658Z"
   },
   {
    "duration": 2,
    "start_time": "2022-10-09T13:35:18.219Z"
   },
   {
    "duration": 7,
    "start_time": "2022-10-09T13:35:22.900Z"
   },
   {
    "duration": 2,
    "start_time": "2022-10-09T13:35:23.317Z"
   },
   {
    "duration": 25,
    "start_time": "2022-10-09T13:35:25.104Z"
   },
   {
    "duration": 31,
    "start_time": "2022-10-09T13:36:20.683Z"
   },
   {
    "duration": 31,
    "start_time": "2022-10-09T13:38:21.595Z"
   },
   {
    "duration": 31,
    "start_time": "2022-10-09T13:46:11.658Z"
   },
   {
    "duration": 10,
    "start_time": "2022-10-09T13:51:49.479Z"
   },
   {
    "duration": 3,
    "start_time": "2022-10-09T14:04:36.760Z"
   },
   {
    "duration": 28,
    "start_time": "2022-10-09T14:04:38.126Z"
   },
   {
    "duration": 9,
    "start_time": "2022-10-09T14:04:38.478Z"
   },
   {
    "duration": 4,
    "start_time": "2022-10-09T14:04:38.892Z"
   },
   {
    "duration": 2,
    "start_time": "2022-10-09T14:04:40.070Z"
   },
   {
    "duration": 6,
    "start_time": "2022-10-09T14:04:40.443Z"
   },
   {
    "duration": 28,
    "start_time": "2022-10-09T14:04:44.257Z"
   },
   {
    "duration": 256,
    "start_time": "2022-10-09T14:04:48.539Z"
   },
   {
    "duration": 246,
    "start_time": "2022-10-09T14:06:09.141Z"
   },
   {
    "duration": 3,
    "start_time": "2022-10-09T14:28:14.863Z"
   },
   {
    "duration": 1224,
    "start_time": "2022-10-09T14:40:29.530Z"
   },
   {
    "duration": 30,
    "start_time": "2022-10-09T14:40:30.755Z"
   },
   {
    "duration": 11,
    "start_time": "2022-10-09T14:40:30.787Z"
   },
   {
    "duration": 9,
    "start_time": "2022-10-09T14:40:30.799Z"
   },
   {
    "duration": 2,
    "start_time": "2022-10-09T14:40:33.223Z"
   },
   {
    "duration": 8,
    "start_time": "2022-10-09T14:40:33.644Z"
   },
   {
    "duration": 250,
    "start_time": "2022-10-09T14:40:37.845Z"
   },
   {
    "duration": 29,
    "start_time": "2022-10-09T14:40:40.453Z"
   },
   {
    "duration": 1030,
    "start_time": "2022-10-11T04:59:30.461Z"
   },
   {
    "duration": 114,
    "start_time": "2022-10-11T04:59:31.493Z"
   },
   {
    "duration": 9,
    "start_time": "2022-10-11T04:59:31.609Z"
   },
   {
    "duration": 3,
    "start_time": "2022-10-11T04:59:32.075Z"
   },
   {
    "duration": 2,
    "start_time": "2022-10-11T04:59:35.781Z"
   },
   {
    "duration": 7,
    "start_time": "2022-10-11T04:59:36.445Z"
   },
   {
    "duration": 2,
    "start_time": "2022-10-11T04:59:39.399Z"
   },
   {
    "duration": 237,
    "start_time": "2022-10-11T04:59:49.864Z"
   },
   {
    "duration": 5565,
    "start_time": "2022-10-11T05:00:23.227Z"
   },
   {
    "duration": 5458,
    "start_time": "2022-10-11T05:00:51.844Z"
   },
   {
    "duration": 5580,
    "start_time": "2022-10-11T05:01:16.732Z"
   },
   {
    "duration": 3520,
    "start_time": "2022-10-11T05:02:18.509Z"
   },
   {
    "duration": 3626,
    "start_time": "2022-10-11T05:03:14.098Z"
   },
   {
    "duration": 16841,
    "start_time": "2022-10-11T05:07:12.561Z"
   },
   {
    "duration": 16786,
    "start_time": "2022-10-11T05:07:32.963Z"
   },
   {
    "duration": 69,
    "start_time": "2022-10-11T05:09:11.937Z"
   },
   {
    "duration": 0,
    "start_time": "2022-10-11T05:12:33.184Z"
   },
   {
    "duration": 68,
    "start_time": "2022-10-11T05:12:36.115Z"
   },
   {
    "duration": 1393,
    "start_time": "2022-10-11T05:12:49.489Z"
   },
   {
    "duration": 782,
    "start_time": "2022-10-11T05:13:01.194Z"
   },
   {
    "duration": 11,
    "start_time": "2022-10-11T05:14:23.631Z"
   },
   {
    "duration": 204,
    "start_time": "2022-10-11T05:15:04.307Z"
   },
   {
    "duration": 216,
    "start_time": "2022-10-11T05:15:35.588Z"
   },
   {
    "duration": 268,
    "start_time": "2022-10-11T05:20:58.893Z"
   },
   {
    "duration": 73,
    "start_time": "2022-10-11T05:24:53.380Z"
   },
   {
    "duration": 127,
    "start_time": "2022-10-11T05:28:19.376Z"
   },
   {
    "duration": 14,
    "start_time": "2022-10-11T05:31:31.101Z"
   },
   {
    "duration": 10,
    "start_time": "2022-10-11T05:31:53.005Z"
   },
   {
    "duration": 15,
    "start_time": "2022-10-11T05:31:58.378Z"
   },
   {
    "duration": 13,
    "start_time": "2022-10-11T05:32:11.594Z"
   },
   {
    "duration": 158,
    "start_time": "2022-10-11T05:33:14.102Z"
   },
   {
    "duration": 27,
    "start_time": "2022-10-11T05:33:37.554Z"
   },
   {
    "duration": 3,
    "start_time": "2022-10-11T05:45:40.939Z"
   },
   {
    "duration": 28,
    "start_time": "2022-10-11T05:45:41.810Z"
   },
   {
    "duration": 9,
    "start_time": "2022-10-11T05:45:42.313Z"
   },
   {
    "duration": 3,
    "start_time": "2022-10-11T05:45:42.796Z"
   },
   {
    "duration": 2,
    "start_time": "2022-10-11T05:45:44.128Z"
   },
   {
    "duration": 6,
    "start_time": "2022-10-11T05:45:44.640Z"
   },
   {
    "duration": 2,
    "start_time": "2022-10-11T05:45:45.192Z"
   },
   {
    "duration": 27,
    "start_time": "2022-10-11T05:45:47.316Z"
   },
   {
    "duration": 16,
    "start_time": "2022-10-11T05:45:49.286Z"
   },
   {
    "duration": 29,
    "start_time": "2022-10-11T05:46:21.042Z"
   },
   {
    "duration": 3,
    "start_time": "2022-10-11T05:46:52.171Z"
   },
   {
    "duration": 28,
    "start_time": "2022-10-11T05:46:52.649Z"
   },
   {
    "duration": 7,
    "start_time": "2022-10-11T05:46:53.053Z"
   },
   {
    "duration": 3,
    "start_time": "2022-10-11T05:46:53.328Z"
   },
   {
    "duration": 2,
    "start_time": "2022-10-11T05:46:54.162Z"
   },
   {
    "duration": 7,
    "start_time": "2022-10-11T05:46:54.411Z"
   },
   {
    "duration": 2,
    "start_time": "2022-10-11T05:46:54.659Z"
   },
   {
    "duration": 29,
    "start_time": "2022-10-11T05:46:56.770Z"
   },
   {
    "duration": 16,
    "start_time": "2022-10-11T05:46:58.242Z"
   },
   {
    "duration": 1047,
    "start_time": "2022-10-11T05:47:04.421Z"
   },
   {
    "duration": 29,
    "start_time": "2022-10-11T05:47:05.470Z"
   },
   {
    "duration": 9,
    "start_time": "2022-10-11T05:47:05.500Z"
   },
   {
    "duration": 3,
    "start_time": "2022-10-11T05:47:05.510Z"
   },
   {
    "duration": 4,
    "start_time": "2022-10-11T05:47:05.515Z"
   },
   {
    "duration": 9,
    "start_time": "2022-10-11T05:47:05.520Z"
   },
   {
    "duration": 5,
    "start_time": "2022-10-11T05:47:05.530Z"
   },
   {
    "duration": 29,
    "start_time": "2022-10-11T05:47:05.536Z"
   },
   {
    "duration": 115,
    "start_time": "2022-10-11T05:47:05.566Z"
   },
   {
    "duration": 0,
    "start_time": "2022-10-11T05:47:05.682Z"
   },
   {
    "duration": 0,
    "start_time": "2022-10-11T05:47:05.683Z"
   },
   {
    "duration": 0,
    "start_time": "2022-10-11T05:47:05.684Z"
   },
   {
    "duration": 0,
    "start_time": "2022-10-11T05:47:05.685Z"
   },
   {
    "duration": 15,
    "start_time": "2022-10-11T05:48:27.423Z"
   },
   {
    "duration": 3,
    "start_time": "2022-10-11T05:49:07.404Z"
   },
   {
    "duration": 29,
    "start_time": "2022-10-11T05:49:07.809Z"
   },
   {
    "duration": 8,
    "start_time": "2022-10-11T05:49:08.283Z"
   },
   {
    "duration": 4,
    "start_time": "2022-10-11T05:49:08.955Z"
   },
   {
    "duration": 2,
    "start_time": "2022-10-11T05:49:10.616Z"
   },
   {
    "duration": 7,
    "start_time": "2022-10-11T05:49:11.127Z"
   },
   {
    "duration": 2,
    "start_time": "2022-10-11T05:49:12.771Z"
   },
   {
    "duration": 30,
    "start_time": "2022-10-11T05:49:15.666Z"
   },
   {
    "duration": 15,
    "start_time": "2022-10-11T05:49:17.834Z"
   },
   {
    "duration": 205,
    "start_time": "2022-10-11T05:49:22.355Z"
   },
   {
    "duration": 15,
    "start_time": "2022-10-11T05:50:19.750Z"
   },
   {
    "duration": 1054,
    "start_time": "2022-10-11T05:50:38.898Z"
   },
   {
    "duration": 29,
    "start_time": "2022-10-11T05:50:39.955Z"
   },
   {
    "duration": 8,
    "start_time": "2022-10-11T05:50:39.985Z"
   },
   {
    "duration": 3,
    "start_time": "2022-10-11T05:50:43.606Z"
   },
   {
    "duration": 2,
    "start_time": "2022-10-11T05:50:45.106Z"
   },
   {
    "duration": 7,
    "start_time": "2022-10-11T05:50:45.975Z"
   },
   {
    "duration": 97,
    "start_time": "2022-10-11T05:50:50.355Z"
   },
   {
    "duration": 3494,
    "start_time": "2022-10-11T05:51:22.102Z"
   },
   {
    "duration": 1059,
    "start_time": "2022-10-11T05:51:37.002Z"
   },
   {
    "duration": 28,
    "start_time": "2022-10-11T05:51:38.063Z"
   },
   {
    "duration": 9,
    "start_time": "2022-10-11T05:51:38.093Z"
   },
   {
    "duration": 4,
    "start_time": "2022-10-11T05:51:38.104Z"
   },
   {
    "duration": 7,
    "start_time": "2022-10-11T05:51:38.109Z"
   },
   {
    "duration": 11,
    "start_time": "2022-10-11T05:51:38.117Z"
   },
   {
    "duration": 6,
    "start_time": "2022-10-11T05:51:38.129Z"
   },
   {
    "duration": 30,
    "start_time": "2022-10-11T05:51:38.136Z"
   },
   {
    "duration": 3477,
    "start_time": "2022-10-11T05:51:38.168Z"
   },
   {
    "duration": 243,
    "start_time": "2022-10-11T05:51:41.647Z"
   },
   {
    "duration": 120,
    "start_time": "2022-10-11T05:51:41.891Z"
   },
   {
    "duration": 10,
    "start_time": "2022-10-11T05:51:42.013Z"
   },
   {
    "duration": 159,
    "start_time": "2022-10-11T05:51:42.024Z"
   },
   {
    "duration": 5,
    "start_time": "2022-10-11T05:55:38.362Z"
   },
   {
    "duration": 4,
    "start_time": "2022-10-11T05:57:07.313Z"
   },
   {
    "duration": 4,
    "start_time": "2022-10-11T05:57:14.750Z"
   },
   {
    "duration": 92,
    "start_time": "2022-10-11T05:57:24.571Z"
   },
   {
    "duration": 4,
    "start_time": "2022-10-11T05:57:42.108Z"
   },
   {
    "duration": 64,
    "start_time": "2022-10-11T06:05:30.324Z"
   },
   {
    "duration": 7415,
    "start_time": "2022-10-11T06:05:55.665Z"
   },
   {
    "duration": 7316,
    "start_time": "2022-10-11T06:07:08.657Z"
   },
   {
    "duration": 3816,
    "start_time": "2022-10-11T06:07:36.570Z"
   },
   {
    "duration": 6,
    "start_time": "2022-10-11T06:21:21.712Z"
   },
   {
    "duration": 9,
    "start_time": "2022-10-11T06:22:12.485Z"
   },
   {
    "duration": 854,
    "start_time": "2022-10-11T06:22:59.855Z"
   },
   {
    "duration": 28,
    "start_time": "2022-10-11T06:23:57.998Z"
   },
   {
    "duration": 27,
    "start_time": "2022-10-11T06:24:04.051Z"
   },
   {
    "duration": 79,
    "start_time": "2022-10-11T06:29:46.119Z"
   },
   {
    "duration": 113,
    "start_time": "2022-10-11T06:29:49.506Z"
   },
   {
    "duration": 14,
    "start_time": "2022-10-11T06:34:48.796Z"
   },
   {
    "duration": 1019,
    "start_time": "2022-10-11T06:35:06.089Z"
   },
   {
    "duration": 29,
    "start_time": "2022-10-11T06:35:07.110Z"
   },
   {
    "duration": 20,
    "start_time": "2022-10-11T06:35:07.140Z"
   },
   {
    "duration": 3,
    "start_time": "2022-10-11T06:35:07.162Z"
   },
   {
    "duration": 10,
    "start_time": "2022-10-11T06:35:07.166Z"
   },
   {
    "duration": 3,
    "start_time": "2022-10-11T06:35:07.177Z"
   },
   {
    "duration": 33,
    "start_time": "2022-10-11T06:35:07.181Z"
   },
   {
    "duration": 7240,
    "start_time": "2022-10-11T06:35:07.222Z"
   },
   {
    "duration": 218,
    "start_time": "2022-10-11T06:35:14.464Z"
   },
   {
    "duration": 122,
    "start_time": "2022-10-11T06:35:14.684Z"
   },
   {
    "duration": 15,
    "start_time": "2022-10-11T06:35:14.807Z"
   },
   {
    "duration": 161,
    "start_time": "2022-10-11T06:35:14.823Z"
   },
   {
    "duration": 4,
    "start_time": "2022-10-11T06:35:14.986Z"
   },
   {
    "duration": 7487,
    "start_time": "2022-10-11T06:38:52.047Z"
   },
   {
    "duration": 7580,
    "start_time": "2022-10-11T06:39:30.774Z"
   },
   {
    "duration": 222,
    "start_time": "2022-10-11T06:40:45.017Z"
   },
   {
    "duration": 115,
    "start_time": "2022-10-11T06:41:30.411Z"
   },
   {
    "duration": 111,
    "start_time": "2022-10-11T06:41:38.468Z"
   },
   {
    "duration": 9,
    "start_time": "2022-10-11T06:41:40.391Z"
   },
   {
    "duration": 150,
    "start_time": "2022-10-11T06:41:41.128Z"
   },
   {
    "duration": 1031,
    "start_time": "2022-10-11T06:41:57.249Z"
   },
   {
    "duration": 29,
    "start_time": "2022-10-11T06:41:58.281Z"
   },
   {
    "duration": 18,
    "start_time": "2022-10-11T06:41:58.311Z"
   },
   {
    "duration": 3,
    "start_time": "2022-10-11T06:41:58.331Z"
   },
   {
    "duration": 11,
    "start_time": "2022-10-11T06:41:58.335Z"
   },
   {
    "duration": 3,
    "start_time": "2022-10-11T06:41:58.347Z"
   },
   {
    "duration": 30,
    "start_time": "2022-10-11T06:41:58.352Z"
   },
   {
    "duration": 7227,
    "start_time": "2022-10-11T06:41:58.384Z"
   },
   {
    "duration": 236,
    "start_time": "2022-10-11T06:42:05.613Z"
   },
   {
    "duration": 117,
    "start_time": "2022-10-11T06:42:05.851Z"
   },
   {
    "duration": 8,
    "start_time": "2022-10-11T06:42:05.970Z"
   },
   {
    "duration": 156,
    "start_time": "2022-10-11T06:42:05.980Z"
   },
   {
    "duration": 4,
    "start_time": "2022-10-11T06:42:06.138Z"
   },
   {
    "duration": 1047,
    "start_time": "2022-10-11T06:43:33.969Z"
   },
   {
    "duration": 36,
    "start_time": "2022-10-11T06:43:35.018Z"
   },
   {
    "duration": 25,
    "start_time": "2022-10-11T06:43:35.056Z"
   },
   {
    "duration": 4,
    "start_time": "2022-10-11T06:43:35.084Z"
   },
   {
    "duration": 11,
    "start_time": "2022-10-11T06:43:35.090Z"
   },
   {
    "duration": 8,
    "start_time": "2022-10-11T06:43:35.102Z"
   },
   {
    "duration": 41,
    "start_time": "2022-10-11T06:43:35.111Z"
   },
   {
    "duration": 7940,
    "start_time": "2022-10-11T06:43:35.154Z"
   },
   {
    "duration": 298,
    "start_time": "2022-10-11T06:43:43.096Z"
   },
   {
    "duration": 134,
    "start_time": "2022-10-11T06:43:43.396Z"
   },
   {
    "duration": 12,
    "start_time": "2022-10-11T06:43:43.532Z"
   },
   {
    "duration": 204,
    "start_time": "2022-10-11T06:43:43.547Z"
   },
   {
    "duration": 5,
    "start_time": "2022-10-11T06:43:43.753Z"
   },
   {
    "duration": 7582,
    "start_time": "2022-10-11T06:46:48.378Z"
   },
   {
    "duration": 108,
    "start_time": "2022-10-11T06:52:18.057Z"
   },
   {
    "duration": 28,
    "start_time": "2022-10-11T06:53:07.213Z"
   },
   {
    "duration": 7305,
    "start_time": "2022-10-11T06:53:51.785Z"
   },
   {
    "duration": 8107,
    "start_time": "2022-10-11T06:54:04.220Z"
   },
   {
    "duration": 258,
    "start_time": "2022-10-11T06:55:01.343Z"
   },
   {
    "duration": 1058,
    "start_time": "2022-10-11T06:55:09.442Z"
   },
   {
    "duration": 29,
    "start_time": "2022-10-11T06:55:10.502Z"
   },
   {
    "duration": 20,
    "start_time": "2022-10-11T06:55:10.533Z"
   },
   {
    "duration": 7,
    "start_time": "2022-10-11T06:55:10.555Z"
   },
   {
    "duration": 10,
    "start_time": "2022-10-11T06:55:10.564Z"
   },
   {
    "duration": 3,
    "start_time": "2022-10-11T06:55:10.576Z"
   },
   {
    "duration": 47,
    "start_time": "2022-10-11T06:55:10.580Z"
   },
   {
    "duration": 7354,
    "start_time": "2022-10-11T06:55:10.629Z"
   },
   {
    "duration": 231,
    "start_time": "2022-10-11T06:55:17.985Z"
   },
   {
    "duration": 162,
    "start_time": "2022-10-11T06:55:18.219Z"
   },
   {
    "duration": 9,
    "start_time": "2022-10-11T06:55:18.383Z"
   },
   {
    "duration": 171,
    "start_time": "2022-10-11T06:55:18.394Z"
   },
   {
    "duration": 5,
    "start_time": "2022-10-11T06:55:18.566Z"
   },
   {
    "duration": 52,
    "start_time": "2022-10-11T06:57:40.026Z"
   },
   {
    "duration": 79,
    "start_time": "2022-10-11T06:57:53.215Z"
   },
   {
    "duration": 102,
    "start_time": "2022-10-11T06:57:59.937Z"
   },
   {
    "duration": 394,
    "start_time": "2022-10-11T06:58:14.074Z"
   },
   {
    "duration": 407,
    "start_time": "2022-10-11T06:58:28.324Z"
   },
   {
    "duration": 4363,
    "start_time": "2022-10-11T06:58:34.462Z"
   },
   {
    "duration": 14,
    "start_time": "2022-10-11T06:59:05.985Z"
   },
   {
    "duration": 19,
    "start_time": "2022-10-11T06:59:21.467Z"
   },
   {
    "duration": 18,
    "start_time": "2022-10-11T06:59:25.705Z"
   },
   {
    "duration": 17,
    "start_time": "2022-10-11T06:59:48.986Z"
   },
   {
    "duration": 4331,
    "start_time": "2022-10-11T06:59:53.505Z"
   },
   {
    "duration": 29,
    "start_time": "2022-10-11T07:00:20.969Z"
   },
   {
    "duration": 1166,
    "start_time": "2022-10-11T07:01:20.015Z"
   },
   {
    "duration": 29,
    "start_time": "2022-10-11T07:01:21.183Z"
   },
   {
    "duration": 19,
    "start_time": "2022-10-11T07:01:21.214Z"
   },
   {
    "duration": 4,
    "start_time": "2022-10-11T07:01:21.235Z"
   },
   {
    "duration": 13,
    "start_time": "2022-10-11T07:01:21.240Z"
   },
   {
    "duration": 6,
    "start_time": "2022-10-11T07:01:21.254Z"
   },
   {
    "duration": 34,
    "start_time": "2022-10-11T07:01:21.261Z"
   },
   {
    "duration": 7468,
    "start_time": "2022-10-11T07:01:21.297Z"
   },
   {
    "duration": 355,
    "start_time": "2022-10-11T07:01:28.767Z"
   },
   {
    "duration": 140,
    "start_time": "2022-10-11T07:01:29.125Z"
   },
   {
    "duration": 12,
    "start_time": "2022-10-11T07:01:29.267Z"
   },
   {
    "duration": 213,
    "start_time": "2022-10-11T07:01:29.281Z"
   },
   {
    "duration": 4,
    "start_time": "2022-10-11T07:01:29.496Z"
   },
   {
    "duration": 1385,
    "start_time": "2022-10-11T07:19:56.844Z"
   },
   {
    "duration": 29,
    "start_time": "2022-10-11T07:19:58.231Z"
   },
   {
    "duration": 17,
    "start_time": "2022-10-11T07:19:58.262Z"
   },
   {
    "duration": 3,
    "start_time": "2022-10-11T07:19:58.281Z"
   },
   {
    "duration": 14,
    "start_time": "2022-10-11T07:19:58.285Z"
   },
   {
    "duration": 8,
    "start_time": "2022-10-11T07:19:58.300Z"
   },
   {
    "duration": 37,
    "start_time": "2022-10-11T07:19:58.310Z"
   },
   {
    "duration": 7003,
    "start_time": "2022-10-11T07:19:58.348Z"
   },
   {
    "duration": 214,
    "start_time": "2022-10-11T07:20:05.353Z"
   },
   {
    "duration": 106,
    "start_time": "2022-10-11T07:20:05.569Z"
   },
   {
    "duration": 8,
    "start_time": "2022-10-11T07:20:05.677Z"
   },
   {
    "duration": 168,
    "start_time": "2022-10-11T07:20:05.687Z"
   },
   {
    "duration": 4,
    "start_time": "2022-10-11T07:20:05.856Z"
   },
   {
    "duration": 4,
    "start_time": "2022-10-11T07:37:25.522Z"
   },
   {
    "duration": 7,
    "start_time": "2022-10-11T07:37:34.486Z"
   },
   {
    "duration": 92,
    "start_time": "2022-10-11T07:38:37.663Z"
   },
   {
    "duration": 8,
    "start_time": "2022-10-11T07:38:44.372Z"
   },
   {
    "duration": 5,
    "start_time": "2022-10-11T07:40:19.536Z"
   },
   {
    "duration": 8,
    "start_time": "2022-10-11T07:40:24.090Z"
   },
   {
    "duration": 133,
    "start_time": "2022-10-11T07:40:51.537Z"
   },
   {
    "duration": 5,
    "start_time": "2022-10-11T07:49:07.172Z"
   },
   {
    "duration": 123,
    "start_time": "2022-10-11T07:49:07.560Z"
   },
   {
    "duration": 181,
    "start_time": "2022-10-11T07:49:08.802Z"
   },
   {
    "duration": 136,
    "start_time": "2022-10-11T07:50:27.857Z"
   },
   {
    "duration": 9,
    "start_time": "2022-10-11T07:57:59.506Z"
   },
   {
    "duration": 2,
    "start_time": "2022-10-11T07:58:01.128Z"
   },
   {
    "duration": 31,
    "start_time": "2022-10-11T07:58:06.953Z"
   },
   {
    "duration": 1057,
    "start_time": "2022-10-11T07:58:17.705Z"
   },
   {
    "duration": 28,
    "start_time": "2022-10-11T07:58:18.764Z"
   },
   {
    "duration": 19,
    "start_time": "2022-10-11T07:58:18.794Z"
   },
   {
    "duration": 4,
    "start_time": "2022-10-11T07:58:18.814Z"
   },
   {
    "duration": 28,
    "start_time": "2022-10-11T07:58:18.820Z"
   },
   {
    "duration": 3,
    "start_time": "2022-10-11T07:58:18.850Z"
   },
   {
    "duration": 36,
    "start_time": "2022-10-11T07:58:18.854Z"
   },
   {
    "duration": 7517,
    "start_time": "2022-10-11T07:58:18.892Z"
   },
   {
    "duration": 197,
    "start_time": "2022-10-11T07:58:26.411Z"
   },
   {
    "duration": 4,
    "start_time": "2022-10-11T07:58:26.610Z"
   },
   {
    "duration": 158,
    "start_time": "2022-10-11T07:58:26.616Z"
   },
   {
    "duration": 142,
    "start_time": "2022-10-11T07:58:26.775Z"
   },
   {
    "duration": 6,
    "start_time": "2022-10-11T07:58:26.923Z"
   },
   {
    "duration": 13,
    "start_time": "2022-10-11T07:59:11.142Z"
   },
   {
    "duration": 1063,
    "start_time": "2022-10-11T07:59:20.682Z"
   },
   {
    "duration": 9,
    "start_time": "2022-10-11T07:59:24.960Z"
   },
   {
    "duration": 11,
    "start_time": "2022-10-11T08:00:06.587Z"
   },
   {
    "duration": 8,
    "start_time": "2022-10-11T08:00:15.293Z"
   },
   {
    "duration": 9,
    "start_time": "2022-10-11T08:00:22.744Z"
   },
   {
    "duration": 3,
    "start_time": "2022-10-11T08:00:58.544Z"
   },
   {
    "duration": 4,
    "start_time": "2022-10-11T08:01:33.855Z"
   },
   {
    "duration": 4,
    "start_time": "2022-10-11T08:02:12.400Z"
   },
   {
    "duration": 4,
    "start_time": "2022-10-11T08:02:28.062Z"
   },
   {
    "duration": 81,
    "start_time": "2022-10-11T08:04:21.264Z"
   },
   {
    "duration": 119,
    "start_time": "2022-10-11T08:10:52.473Z"
   },
   {
    "duration": 114,
    "start_time": "2022-10-11T08:11:00.080Z"
   },
   {
    "duration": 133,
    "start_time": "2022-10-11T08:11:00.995Z"
   },
   {
    "duration": 139,
    "start_time": "2022-10-11T08:11:07.162Z"
   },
   {
    "duration": 164,
    "start_time": "2022-10-11T08:11:35.695Z"
   },
   {
    "duration": 143,
    "start_time": "2022-10-11T08:11:37.202Z"
   },
   {
    "duration": 4,
    "start_time": "2022-10-11T08:11:47.505Z"
   },
   {
    "duration": 136,
    "start_time": "2022-10-11T08:11:48.304Z"
   },
   {
    "duration": 174,
    "start_time": "2022-10-11T08:11:48.976Z"
   },
   {
    "duration": 144,
    "start_time": "2022-10-11T08:11:50.014Z"
   },
   {
    "duration": 117,
    "start_time": "2022-10-11T08:12:17.800Z"
   },
   {
    "duration": 17,
    "start_time": "2022-10-11T08:12:19.073Z"
   },
   {
    "duration": 16,
    "start_time": "2022-10-11T08:12:34.372Z"
   },
   {
    "duration": 182,
    "start_time": "2022-10-11T08:12:35.989Z"
   },
   {
    "duration": 1119,
    "start_time": "2022-10-11T08:12:47.153Z"
   },
   {
    "duration": 27,
    "start_time": "2022-10-11T08:12:48.274Z"
   },
   {
    "duration": 16,
    "start_time": "2022-10-11T08:12:48.303Z"
   },
   {
    "duration": 7,
    "start_time": "2022-10-11T08:12:48.322Z"
   },
   {
    "duration": 22,
    "start_time": "2022-10-11T08:12:48.331Z"
   },
   {
    "duration": 5,
    "start_time": "2022-10-11T08:12:48.355Z"
   },
   {
    "duration": 33,
    "start_time": "2022-10-11T08:12:48.362Z"
   },
   {
    "duration": 7808,
    "start_time": "2022-10-11T08:12:48.396Z"
   },
   {
    "duration": 183,
    "start_time": "2022-10-11T08:12:56.206Z"
   },
   {
    "duration": 4,
    "start_time": "2022-10-11T08:12:56.391Z"
   },
   {
    "duration": 34,
    "start_time": "2022-10-11T08:12:56.397Z"
   },
   {
    "duration": 146,
    "start_time": "2022-10-11T08:12:56.433Z"
   },
   {
    "duration": 4,
    "start_time": "2022-10-11T08:12:56.581Z"
   },
   {
    "duration": 586,
    "start_time": "2022-10-11T08:49:03.662Z"
   },
   {
    "duration": 106,
    "start_time": "2022-10-11T08:49:18.142Z"
   },
   {
    "duration": 97,
    "start_time": "2022-10-11T08:49:24.408Z"
   },
   {
    "duration": 128,
    "start_time": "2022-10-11T08:50:52.682Z"
   },
   {
    "duration": 3,
    "start_time": "2022-10-11T08:51:31.938Z"
   },
   {
    "duration": 134,
    "start_time": "2022-10-11T08:51:51.684Z"
   },
   {
    "duration": 206,
    "start_time": "2022-10-11T08:54:24.789Z"
   },
   {
    "duration": 158,
    "start_time": "2022-10-11T08:54:33.496Z"
   },
   {
    "duration": 135,
    "start_time": "2022-10-11T08:55:12.845Z"
   },
   {
    "duration": 146,
    "start_time": "2022-10-11T08:56:12.690Z"
   },
   {
    "duration": 33,
    "start_time": "2022-10-11T08:56:47.873Z"
   },
   {
    "duration": 37,
    "start_time": "2022-10-11T08:58:12.413Z"
   },
   {
    "duration": 33,
    "start_time": "2022-10-11T08:58:38.141Z"
   },
   {
    "duration": 33,
    "start_time": "2022-10-11T08:58:53.684Z"
   },
   {
    "duration": 129,
    "start_time": "2022-10-11T08:59:08.133Z"
   },
   {
    "duration": 132,
    "start_time": "2022-10-11T08:59:24.835Z"
   },
   {
    "duration": 135,
    "start_time": "2022-10-11T08:59:31.214Z"
   },
   {
    "duration": 138,
    "start_time": "2022-10-11T09:00:21.906Z"
   },
   {
    "duration": 127,
    "start_time": "2022-10-11T09:00:32.059Z"
   },
   {
    "duration": 130,
    "start_time": "2022-10-11T09:00:43.363Z"
   },
   {
    "duration": 128,
    "start_time": "2022-10-11T09:00:52.062Z"
   },
   {
    "duration": 33,
    "start_time": "2022-10-11T09:02:04.351Z"
   },
   {
    "duration": 36,
    "start_time": "2022-10-11T09:02:29.284Z"
   },
   {
    "duration": 41,
    "start_time": "2022-10-11T09:03:29.669Z"
   },
   {
    "duration": 43,
    "start_time": "2022-10-11T09:03:58.760Z"
   },
   {
    "duration": 40,
    "start_time": "2022-10-11T09:04:15.467Z"
   },
   {
    "duration": 188,
    "start_time": "2022-10-11T09:04:19.034Z"
   },
   {
    "duration": 123,
    "start_time": "2022-10-11T09:05:12.859Z"
   },
   {
    "duration": 142,
    "start_time": "2022-10-11T09:05:19.921Z"
   },
   {
    "duration": 244,
    "start_time": "2022-10-11T09:05:23.804Z"
   },
   {
    "duration": 159,
    "start_time": "2022-10-11T09:05:28.062Z"
   },
   {
    "duration": 160,
    "start_time": "2022-10-11T09:05:31.456Z"
   },
   {
    "duration": 49,
    "start_time": "2022-10-11T09:05:35.908Z"
   },
   {
    "duration": 163,
    "start_time": "2022-10-11T09:05:40.060Z"
   },
   {
    "duration": 147,
    "start_time": "2022-10-11T09:05:44.185Z"
   },
   {
    "duration": 158,
    "start_time": "2022-10-11T09:05:48.167Z"
   },
   {
    "duration": 148,
    "start_time": "2022-10-11T09:06:14.886Z"
   },
   {
    "duration": 152,
    "start_time": "2022-10-11T09:06:23.201Z"
   },
   {
    "duration": 157,
    "start_time": "2022-10-11T09:06:36.788Z"
   },
   {
    "duration": 52,
    "start_time": "2022-10-11T09:06:56.098Z"
   },
   {
    "duration": 133,
    "start_time": "2022-10-11T09:07:06.436Z"
   },
   {
    "duration": 54,
    "start_time": "2022-10-11T09:08:48.986Z"
   },
   {
    "duration": 180,
    "start_time": "2022-10-11T09:08:56.783Z"
   },
   {
    "duration": 149,
    "start_time": "2022-10-11T09:09:17.778Z"
   },
   {
    "duration": 169,
    "start_time": "2022-10-11T09:09:22.841Z"
   },
   {
    "duration": 275,
    "start_time": "2022-10-11T09:09:28.363Z"
   },
   {
    "duration": 166,
    "start_time": "2022-10-11T09:09:40.720Z"
   },
   {
    "duration": 133,
    "start_time": "2022-10-11T09:10:32.213Z"
   },
   {
    "duration": 252,
    "start_time": "2022-10-11T09:12:05.754Z"
   },
   {
    "duration": 126,
    "start_time": "2022-10-11T09:12:54.458Z"
   },
   {
    "duration": 138,
    "start_time": "2022-10-11T09:13:24.657Z"
   },
   {
    "duration": 125,
    "start_time": "2022-10-11T09:13:49.294Z"
   },
   {
    "duration": 1396,
    "start_time": "2022-10-11T09:14:18.037Z"
   },
   {
    "duration": 28,
    "start_time": "2022-10-11T09:14:19.435Z"
   },
   {
    "duration": 16,
    "start_time": "2022-10-11T09:14:19.465Z"
   },
   {
    "duration": 4,
    "start_time": "2022-10-11T09:14:19.483Z"
   },
   {
    "duration": 123,
    "start_time": "2022-10-11T09:14:19.488Z"
   },
   {
    "duration": 14,
    "start_time": "2022-10-11T09:14:19.613Z"
   },
   {
    "duration": 7,
    "start_time": "2022-10-11T09:14:19.628Z"
   },
   {
    "duration": 117,
    "start_time": "2022-10-11T09:14:19.637Z"
   },
   {
    "duration": 0,
    "start_time": "2022-10-11T09:14:19.756Z"
   },
   {
    "duration": 0,
    "start_time": "2022-10-11T09:14:19.758Z"
   },
   {
    "duration": 0,
    "start_time": "2022-10-11T09:14:19.758Z"
   },
   {
    "duration": 0,
    "start_time": "2022-10-11T09:14:19.759Z"
   },
   {
    "duration": 0,
    "start_time": "2022-10-11T09:14:19.760Z"
   },
   {
    "duration": 0,
    "start_time": "2022-10-11T09:14:19.761Z"
   },
   {
    "duration": 15,
    "start_time": "2022-10-11T09:14:38.287Z"
   },
   {
    "duration": 131,
    "start_time": "2022-10-11T09:14:48.415Z"
   },
   {
    "duration": 30,
    "start_time": "2022-10-11T09:15:36.912Z"
   },
   {
    "duration": 14,
    "start_time": "2022-10-11T09:18:47.841Z"
   },
   {
    "duration": 131,
    "start_time": "2022-10-11T09:19:29.970Z"
   },
   {
    "duration": 142,
    "start_time": "2022-10-11T09:19:46.060Z"
   },
   {
    "duration": 160,
    "start_time": "2022-10-11T09:19:55.728Z"
   },
   {
    "duration": 212,
    "start_time": "2022-10-11T09:20:08.145Z"
   },
   {
    "duration": 164,
    "start_time": "2022-10-11T09:20:12.851Z"
   },
   {
    "duration": 160,
    "start_time": "2022-10-11T09:20:16.988Z"
   },
   {
    "duration": 150,
    "start_time": "2022-10-11T09:20:22.553Z"
   },
   {
    "duration": 170,
    "start_time": "2022-10-11T09:21:38.759Z"
   },
   {
    "duration": 186,
    "start_time": "2022-10-11T09:22:11.507Z"
   },
   {
    "duration": 186,
    "start_time": "2022-10-11T09:22:56.920Z"
   },
   {
    "duration": 165,
    "start_time": "2022-10-11T09:23:04.104Z"
   },
   {
    "duration": 161,
    "start_time": "2022-10-11T09:23:10.079Z"
   },
   {
    "duration": 176,
    "start_time": "2022-10-11T09:23:28.005Z"
   },
   {
    "duration": 144,
    "start_time": "2022-10-11T09:24:21.435Z"
   },
   {
    "duration": 241,
    "start_time": "2022-10-11T09:24:25.942Z"
   },
   {
    "duration": 254,
    "start_time": "2022-10-11T09:25:27.249Z"
   },
   {
    "duration": 339,
    "start_time": "2022-10-11T09:25:34.232Z"
   },
   {
    "duration": 293,
    "start_time": "2022-10-11T09:25:40.047Z"
   },
   {
    "duration": 51,
    "start_time": "2022-10-11T09:26:08.185Z"
   },
   {
    "duration": 281,
    "start_time": "2022-10-11T09:26:17.337Z"
   },
   {
    "duration": 299,
    "start_time": "2022-10-11T09:26:39.097Z"
   },
   {
    "duration": 298,
    "start_time": "2022-10-11T09:27:00.092Z"
   },
   {
    "duration": 283,
    "start_time": "2022-10-11T09:27:11.962Z"
   },
   {
    "duration": 275,
    "start_time": "2022-10-11T09:27:33.286Z"
   },
   {
    "duration": 166,
    "start_time": "2022-10-11T09:27:44.335Z"
   },
   {
    "duration": 137,
    "start_time": "2022-10-11T09:27:51.676Z"
   },
   {
    "duration": 181,
    "start_time": "2022-10-11T09:27:56.213Z"
   },
   {
    "duration": 259,
    "start_time": "2022-10-11T09:28:04.008Z"
   },
   {
    "duration": 170,
    "start_time": "2022-10-11T09:28:22.369Z"
   },
   {
    "duration": 223,
    "start_time": "2022-10-11T09:28:48.922Z"
   },
   {
    "duration": 33,
    "start_time": "2022-10-11T09:30:39.662Z"
   },
   {
    "duration": 176,
    "start_time": "2022-10-11T09:32:46.070Z"
   },
   {
    "duration": 65,
    "start_time": "2022-10-11T09:33:06.043Z"
   },
   {
    "duration": 14,
    "start_time": "2022-10-11T09:33:10.740Z"
   },
   {
    "duration": 9,
    "start_time": "2022-10-11T09:33:24.671Z"
   },
   {
    "duration": 1532,
    "start_time": "2022-10-11T09:34:27.253Z"
   },
   {
    "duration": 1611,
    "start_time": "2022-10-11T09:34:44.809Z"
   },
   {
    "duration": 2040,
    "start_time": "2022-10-11T09:35:09.850Z"
   },
   {
    "duration": 2152,
    "start_time": "2022-10-11T09:35:23.598Z"
   },
   {
    "duration": 2120,
    "start_time": "2022-10-11T09:36:00.447Z"
   },
   {
    "duration": 697,
    "start_time": "2022-10-11T09:36:57.580Z"
   },
   {
    "duration": 721,
    "start_time": "2022-10-11T09:37:01.925Z"
   },
   {
    "duration": 788,
    "start_time": "2022-10-11T09:38:05.898Z"
   },
   {
    "duration": 11,
    "start_time": "2022-10-11T09:38:27.906Z"
   },
   {
    "duration": 14,
    "start_time": "2022-10-11T09:39:10.737Z"
   },
   {
    "duration": 772,
    "start_time": "2022-10-11T09:39:16.187Z"
   },
   {
    "duration": 911,
    "start_time": "2022-10-11T09:39:45.440Z"
   },
   {
    "duration": 185,
    "start_time": "2022-10-11T09:40:33.610Z"
   },
   {
    "duration": 187,
    "start_time": "2022-10-11T09:40:42.019Z"
   },
   {
    "duration": 859,
    "start_time": "2022-10-11T09:40:43.615Z"
   },
   {
    "duration": 987,
    "start_time": "2022-10-11T09:40:58.647Z"
   },
   {
    "duration": 809,
    "start_time": "2022-10-11T09:41:05.698Z"
   },
   {
    "duration": 972,
    "start_time": "2022-10-11T09:44:26.156Z"
   },
   {
    "duration": 906,
    "start_time": "2022-10-11T09:44:38.222Z"
   },
   {
    "duration": 775,
    "start_time": "2022-10-11T09:44:59.965Z"
   },
   {
    "duration": 814,
    "start_time": "2022-10-11T09:45:15.749Z"
   },
   {
    "duration": 794,
    "start_time": "2022-10-11T09:45:24.763Z"
   },
   {
    "duration": 7364,
    "start_time": "2022-10-11T09:46:27.334Z"
   },
   {
    "duration": 82,
    "start_time": "2022-10-11T10:08:24.217Z"
   },
   {
    "duration": 90,
    "start_time": "2022-10-11T10:08:29.632Z"
   },
   {
    "duration": 100,
    "start_time": "2022-10-11T10:08:45.616Z"
   },
   {
    "duration": 96,
    "start_time": "2022-10-11T10:08:54.161Z"
   },
   {
    "duration": 1395,
    "start_time": "2022-10-11T10:16:49.673Z"
   },
   {
    "duration": 30,
    "start_time": "2022-10-11T10:16:51.070Z"
   },
   {
    "duration": 17,
    "start_time": "2022-10-11T10:16:51.102Z"
   },
   {
    "duration": 16,
    "start_time": "2022-10-11T10:16:51.123Z"
   },
   {
    "duration": 134,
    "start_time": "2022-10-11T10:16:51.141Z"
   },
   {
    "duration": 9,
    "start_time": "2022-10-11T10:16:51.276Z"
   },
   {
    "duration": 4,
    "start_time": "2022-10-11T10:16:51.286Z"
   },
   {
    "duration": 191,
    "start_time": "2022-10-11T10:16:51.291Z"
   },
   {
    "duration": 961,
    "start_time": "2022-10-11T10:16:51.484Z"
   },
   {
    "duration": 8029,
    "start_time": "2022-10-11T10:16:52.448Z"
   },
   {
    "duration": 198,
    "start_time": "2022-10-11T10:17:00.479Z"
   },
   {
    "duration": 5,
    "start_time": "2022-10-11T10:17:00.679Z"
   },
   {
    "duration": 21,
    "start_time": "2022-10-11T10:17:00.685Z"
   },
   {
    "duration": 165,
    "start_time": "2022-10-11T10:17:00.708Z"
   },
   {
    "duration": 4,
    "start_time": "2022-10-11T10:17:00.875Z"
   },
   {
    "duration": 7333,
    "start_time": "2022-10-11T10:35:14.077Z"
   },
   {
    "duration": 103,
    "start_time": "2022-10-11T10:37:36.487Z"
   },
   {
    "duration": 3,
    "start_time": "2022-10-11T10:38:20.103Z"
   },
   {
    "duration": 4,
    "start_time": "2022-10-11T10:38:27.537Z"
   },
   {
    "duration": 9,
    "start_time": "2022-10-11T10:39:15.344Z"
   },
   {
    "duration": 12,
    "start_time": "2022-10-11T10:40:00.045Z"
   },
   {
    "duration": 71,
    "start_time": "2022-10-11T10:42:41.369Z"
   },
   {
    "duration": 32,
    "start_time": "2022-10-11T10:42:53.661Z"
   },
   {
    "duration": 70,
    "start_time": "2022-10-11T10:43:02.814Z"
   },
   {
    "duration": 6,
    "start_time": "2022-10-11T10:43:12.599Z"
   },
   {
    "duration": 10,
    "start_time": "2022-10-11T10:43:17.000Z"
   },
   {
    "duration": 3,
    "start_time": "2022-10-11T10:43:31.514Z"
   },
   {
    "duration": 51,
    "start_time": "2022-10-11T10:43:32.899Z"
   },
   {
    "duration": 3,
    "start_time": "2022-10-11T10:43:50.844Z"
   },
   {
    "duration": 49,
    "start_time": "2022-10-11T10:44:51.226Z"
   },
   {
    "duration": 8,
    "start_time": "2022-10-11T10:45:58.093Z"
   },
   {
    "duration": 10,
    "start_time": "2022-10-11T10:46:01.081Z"
   },
   {
    "duration": 4,
    "start_time": "2022-10-11T10:51:25.784Z"
   },
   {
    "duration": 3,
    "start_time": "2022-10-11T10:51:26.314Z"
   },
   {
    "duration": 3,
    "start_time": "2022-10-11T10:51:26.900Z"
   },
   {
    "duration": 106934,
    "start_time": "2022-10-11T10:51:27.379Z"
   },
   {
    "duration": 3,
    "start_time": "2022-10-11T10:53:47.195Z"
   },
   {
    "duration": 6328,
    "start_time": "2022-10-11T10:53:53.608Z"
   },
   {
    "duration": 3,
    "start_time": "2022-10-11T10:54:13.436Z"
   },
   {
    "duration": 3,
    "start_time": "2022-10-11T10:54:42.891Z"
   },
   {
    "duration": 20524,
    "start_time": "2022-10-11T10:54:43.427Z"
   },
   {
    "duration": 5,
    "start_time": "2022-10-11T10:55:09.159Z"
   },
   {
    "duration": 3,
    "start_time": "2022-10-11T10:56:43.996Z"
   },
   {
    "duration": 3,
    "start_time": "2022-10-11T10:56:44.598Z"
   },
   {
    "duration": 2,
    "start_time": "2022-10-11T10:56:45.134Z"
   },
   {
    "duration": 20966,
    "start_time": "2022-10-11T10:56:45.902Z"
   },
   {
    "duration": 4,
    "start_time": "2022-10-11T10:57:10.958Z"
   },
   {
    "duration": 9,
    "start_time": "2022-10-11T10:57:15.215Z"
   },
   {
    "duration": 4,
    "start_time": "2022-10-11T10:57:44.126Z"
   },
   {
    "duration": 20971,
    "start_time": "2022-10-11T10:58:02.805Z"
   },
   {
    "duration": 3,
    "start_time": "2022-10-11T10:58:40.251Z"
   },
   {
    "duration": 2,
    "start_time": "2022-10-11T10:58:40.894Z"
   },
   {
    "duration": 3,
    "start_time": "2022-10-11T10:58:42.152Z"
   },
   {
    "duration": 20896,
    "start_time": "2022-10-11T10:59:04.017Z"
   },
   {
    "duration": 112,
    "start_time": "2022-10-11T11:00:04.250Z"
   },
   {
    "duration": 456,
    "start_time": "2022-10-11T11:00:12.389Z"
   },
   {
    "duration": 3,
    "start_time": "2022-10-11T11:00:51.736Z"
   },
   {
    "duration": 3,
    "start_time": "2022-10-11T11:00:57.455Z"
   },
   {
    "duration": 20711,
    "start_time": "2022-10-11T11:01:03.589Z"
   },
   {
    "duration": 4,
    "start_time": "2022-10-11T11:01:40.209Z"
   },
   {
    "duration": 3,
    "start_time": "2022-10-11T11:01:40.570Z"
   },
   {
    "duration": 3,
    "start_time": "2022-10-11T11:01:40.955Z"
   },
   {
    "duration": 20645,
    "start_time": "2022-10-11T11:01:41.348Z"
   },
   {
    "duration": 7796,
    "start_time": "2022-10-11T11:02:52.785Z"
   },
   {
    "duration": 4,
    "start_time": "2022-10-11T11:03:38.068Z"
   },
   {
    "duration": 3,
    "start_time": "2022-10-11T11:03:38.540Z"
   },
   {
    "duration": 3,
    "start_time": "2022-10-11T11:03:39.158Z"
   },
   {
    "duration": 21567,
    "start_time": "2022-10-11T11:03:41.392Z"
   },
   {
    "duration": 1636,
    "start_time": "2022-10-11T11:08:36.854Z"
   },
   {
    "duration": 28,
    "start_time": "2022-10-11T11:08:38.492Z"
   },
   {
    "duration": 22,
    "start_time": "2022-10-11T11:08:38.522Z"
   },
   {
    "duration": 4,
    "start_time": "2022-10-11T11:08:38.548Z"
   },
   {
    "duration": 137,
    "start_time": "2022-10-11T11:08:38.553Z"
   },
   {
    "duration": 12,
    "start_time": "2022-10-11T11:08:38.691Z"
   },
   {
    "duration": 5,
    "start_time": "2022-10-11T11:08:38.705Z"
   },
   {
    "duration": 228,
    "start_time": "2022-10-11T11:08:38.722Z"
   },
   {
    "duration": 916,
    "start_time": "2022-10-11T11:08:38.952Z"
   },
   {
    "duration": 7699,
    "start_time": "2022-10-11T11:08:39.871Z"
   },
   {
    "duration": 5,
    "start_time": "2022-10-11T11:08:47.573Z"
   },
   {
    "duration": 22701,
    "start_time": "2022-10-11T11:08:47.580Z"
   },
   {
    "duration": 209,
    "start_time": "2022-10-11T11:09:10.283Z"
   },
   {
    "duration": 5,
    "start_time": "2022-10-11T11:09:10.494Z"
   },
   {
    "duration": 22,
    "start_time": "2022-10-11T11:09:10.501Z"
   },
   {
    "duration": 159,
    "start_time": "2022-10-11T11:09:10.525Z"
   },
   {
    "duration": 5,
    "start_time": "2022-10-11T11:09:10.686Z"
   },
   {
    "duration": 54,
    "start_time": "2022-10-11T11:38:27.221Z"
   },
   {
    "duration": 1448,
    "start_time": "2022-10-11T11:40:06.870Z"
   },
   {
    "duration": 29,
    "start_time": "2022-10-11T11:40:08.320Z"
   },
   {
    "duration": 18,
    "start_time": "2022-10-11T11:40:08.351Z"
   },
   {
    "duration": 4,
    "start_time": "2022-10-11T11:40:08.370Z"
   },
   {
    "duration": 114,
    "start_time": "2022-10-11T11:40:08.376Z"
   },
   {
    "duration": 9,
    "start_time": "2022-10-11T11:40:08.492Z"
   },
   {
    "duration": 19,
    "start_time": "2022-10-11T11:40:08.503Z"
   },
   {
    "duration": 176,
    "start_time": "2022-10-11T11:40:08.524Z"
   },
   {
    "duration": 979,
    "start_time": "2022-10-11T11:40:08.702Z"
   },
   {
    "duration": 7602,
    "start_time": "2022-10-11T11:40:09.685Z"
   },
   {
    "duration": 6,
    "start_time": "2022-10-11T11:40:17.288Z"
   },
   {
    "duration": 21388,
    "start_time": "2022-10-11T11:40:17.295Z"
   },
   {
    "duration": 207,
    "start_time": "2022-10-11T11:40:38.685Z"
   },
   {
    "duration": 5,
    "start_time": "2022-10-11T11:40:38.894Z"
   },
   {
    "duration": 41,
    "start_time": "2022-10-11T11:40:38.901Z"
   },
   {
    "duration": 161,
    "start_time": "2022-10-11T11:40:38.945Z"
   },
   {
    "duration": 6,
    "start_time": "2022-10-11T11:40:39.108Z"
   },
   {
    "duration": 9616,
    "start_time": "2022-10-11T11:43:14.188Z"
   },
   {
    "duration": 9204,
    "start_time": "2022-10-11T11:44:09.097Z"
   },
   {
    "duration": 9458,
    "start_time": "2022-10-11T11:49:01.111Z"
   },
   {
    "duration": 9411,
    "start_time": "2022-10-11T11:49:57.206Z"
   },
   {
    "duration": 26105,
    "start_time": "2022-10-11T11:51:39.178Z"
   },
   {
    "duration": 17672,
    "start_time": "2022-10-11T11:52:43.231Z"
   },
   {
    "duration": 16736,
    "start_time": "2022-10-11T11:53:53.475Z"
   },
   {
    "duration": 172,
    "start_time": "2022-10-11T11:54:14.945Z"
   },
   {
    "duration": 17319,
    "start_time": "2022-10-11T11:54:34.058Z"
   },
   {
    "duration": 16614,
    "start_time": "2022-10-11T11:55:25.097Z"
   },
   {
    "duration": 8433,
    "start_time": "2022-10-11T11:56:09.339Z"
   },
   {
    "duration": 7679,
    "start_time": "2022-10-11T11:57:11.122Z"
   },
   {
    "duration": 7706,
    "start_time": "2022-10-11T11:58:57.872Z"
   },
   {
    "duration": 1295,
    "start_time": "2022-10-11T11:59:57.546Z"
   },
   {
    "duration": 47,
    "start_time": "2022-10-11T11:59:58.843Z"
   },
   {
    "duration": 23,
    "start_time": "2022-10-11T11:59:58.894Z"
   },
   {
    "duration": 7,
    "start_time": "2022-10-11T11:59:58.919Z"
   },
   {
    "duration": 171,
    "start_time": "2022-10-11T11:59:58.928Z"
   },
   {
    "duration": 11,
    "start_time": "2022-10-11T11:59:59.101Z"
   },
   {
    "duration": 4,
    "start_time": "2022-10-11T11:59:59.122Z"
   },
   {
    "duration": 179,
    "start_time": "2022-10-11T11:59:59.128Z"
   },
   {
    "duration": 884,
    "start_time": "2022-10-11T11:59:59.309Z"
   },
   {
    "duration": 7602,
    "start_time": "2022-10-11T12:00:00.194Z"
   },
   {
    "duration": 4,
    "start_time": "2022-10-11T12:00:07.798Z"
   },
   {
    "duration": 21287,
    "start_time": "2022-10-11T12:00:07.803Z"
   },
   {
    "duration": 191,
    "start_time": "2022-10-11T12:00:29.091Z"
   },
   {
    "duration": 5,
    "start_time": "2022-10-11T12:00:29.283Z"
   },
   {
    "duration": 21,
    "start_time": "2022-10-11T12:00:29.289Z"
   },
   {
    "duration": 153,
    "start_time": "2022-10-11T12:00:29.312Z"
   },
   {
    "duration": 5,
    "start_time": "2022-10-11T12:00:29.466Z"
   },
   {
    "duration": 7511,
    "start_time": "2022-10-11T12:01:56.214Z"
   },
   {
    "duration": 142,
    "start_time": "2022-10-11T12:04:08.517Z"
   },
   {
    "duration": 141,
    "start_time": "2022-10-11T12:04:12.857Z"
   },
   {
    "duration": 145,
    "start_time": "2022-10-11T12:04:21.126Z"
   },
   {
    "duration": 144,
    "start_time": "2022-10-11T12:04:29.165Z"
   },
   {
    "duration": 1347,
    "start_time": "2022-10-11T12:05:50.420Z"
   },
   {
    "duration": 30,
    "start_time": "2022-10-11T12:05:51.769Z"
   },
   {
    "duration": 18,
    "start_time": "2022-10-11T12:05:51.800Z"
   },
   {
    "duration": 3,
    "start_time": "2022-10-11T12:05:51.821Z"
   },
   {
    "duration": 121,
    "start_time": "2022-10-11T12:05:51.826Z"
   },
   {
    "duration": 10,
    "start_time": "2022-10-11T12:05:51.949Z"
   },
   {
    "duration": 4,
    "start_time": "2022-10-11T12:05:51.961Z"
   },
   {
    "duration": 198,
    "start_time": "2022-10-11T12:05:51.967Z"
   },
   {
    "duration": 886,
    "start_time": "2022-10-11T12:05:52.167Z"
   },
   {
    "duration": 7405,
    "start_time": "2022-10-11T12:05:53.057Z"
   },
   {
    "duration": 4,
    "start_time": "2022-10-11T12:06:00.464Z"
   },
   {
    "duration": 21074,
    "start_time": "2022-10-11T12:06:00.470Z"
   },
   {
    "duration": 187,
    "start_time": "2022-10-11T12:06:21.545Z"
   },
   {
    "duration": 5,
    "start_time": "2022-10-11T12:06:21.734Z"
   },
   {
    "duration": 35,
    "start_time": "2022-10-11T12:06:21.741Z"
   },
   {
    "duration": 166,
    "start_time": "2022-10-11T12:06:21.778Z"
   },
   {
    "duration": 5,
    "start_time": "2022-10-11T12:06:21.945Z"
   }
  ],
  "kernelspec": {
   "display_name": "Python 3 (ipykernel)",
   "language": "python",
   "name": "python3"
  },
  "language_info": {
   "codemirror_mode": {
    "name": "ipython",
    "version": 3
   },
   "file_extension": ".py",
   "mimetype": "text/x-python",
   "name": "python",
   "nbconvert_exporter": "python",
   "pygments_lexer": "ipython3",
   "version": "3.9.12"
  },
  "toc": {
   "base_numbering": 1,
   "nav_menu": {},
   "number_sections": true,
   "sideBar": true,
   "skip_h1_title": true,
   "title_cell": "Table of Contents",
   "title_sidebar": "Contents",
   "toc_cell": false,
   "toc_position": {},
   "toc_section_display": true,
   "toc_window_display": false
  }
 },
 "nbformat": 4,
 "nbformat_minor": 2
}
