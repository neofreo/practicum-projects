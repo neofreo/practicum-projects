{
 "cells": [
  {
   "cell_type": "markdown",
   "metadata": {},
   "source": [
    "# Проект для «Викишоп»"
   ]
  },
  {
   "cell_type": "markdown",
   "metadata": {},
   "source": [
    "Цели работы:\n",
    "построить модель машинного обучения которая сможет находить токсичные комментарии на основе уже имеющихся и размеченных; и отправлять их на ручную модерацию\n",
    "\n",
    "этапы работы:\n",
    "* [загрузить данные](#загрузка-и-обработка)\n",
    "* [удалить из сообщений слова не несущие полезной нагрузки](#stopwords)\n",
    "* [лемматизировать слова в сообщениях](#лемматизация)\n",
    "* [перевести сообщения в векторный вид](#векторизация)\n",
    "* [обучить несколько моделей](#обучение)\n",
    "* [выбрать наилучшую, проверить что метрика качества f1 на валиадационной и тестовой выборках у нее не меньше 0.75](#проверка-на-тестовой-выборке)\n",
    "* [выводы](#выводы)\n"
   ]
  },
  {
   "cell_type": "code",
   "execution_count": 1,
   "metadata": {},
   "outputs": [],
   "source": [
    "import pandas as pd\n",
    "import re\n",
    "from sklearn.linear_model import LogisticRegression\n",
    "from sklearn.model_selection import train_test_split, cross_val_score\n",
    "from sklearn.tree import DecisionTreeClassifier\n",
    "from sklearn.metrics import f1_score\n",
    "from sklearn.feature_extraction.text import TfidfVectorizer\n",
    "from lightgbm import LGBMClassifier\n",
    "from catboost import CatBoostClassifier\n",
    "import en_core_web_sm\n",
    "from nltk.corpus import stopwords"
   ]
  },
  {
   "cell_type": "code",
   "execution_count": 2,
   "metadata": {},
   "outputs": [],
   "source": [
    "STATE = 12345"
   ]
  },
  {
   "cell_type": "markdown",
   "metadata": {},
   "source": [
    "### загрузка и обработка"
   ]
  },
  {
   "cell_type": "code",
   "execution_count": 3,
   "metadata": {},
   "outputs": [],
   "source": [
    "df = pd.read_csv('C:\\\\Users\\\\Freo\\\\Desktop\\\\projects\\\\datasets\\\\p12.csv')"
   ]
  },
  {
   "cell_type": "code",
   "execution_count": 4,
   "metadata": {},
   "outputs": [
    {
     "name": "stdout",
     "output_type": "stream",
     "text": [
      "        Unnamed: 0                                               text  toxic\n",
      "0                0  Explanation\\nWhy the edits made under my usern...      0\n",
      "1                1  D'aww! He matches this background colour I'm s...      0\n",
      "2                2  Hey man, I'm really not trying to edit war. It...      0\n",
      "3                3  \"\\nMore\\nI can't make any real suggestions on ...      0\n",
      "4                4  You, sir, are my hero. Any chance you remember...      0\n",
      "...            ...                                                ...    ...\n",
      "159287      159446  \":::::And for the second time of asking, when ...      0\n",
      "159288      159447  You should be ashamed of yourself \\n\\nThat is ...      0\n",
      "159289      159448  Spitzer \\n\\nUmm, theres no actual article for ...      0\n",
      "159290      159449  And it looks like it was actually you who put ...      0\n",
      "159291      159450  \"\\nAnd ... I really don't think you understand...      0\n",
      "\n",
      "[159292 rows x 3 columns]\n"
     ]
    }
   ],
   "source": [
    "print(df)"
   ]
  },
  {
   "cell_type": "code",
   "execution_count": 5,
   "metadata": {},
   "outputs": [],
   "source": [
    "df = df.drop('Unnamed: 0', axis = 1)"
   ]
  },
  {
   "cell_type": "code",
   "execution_count": 6,
   "metadata": {},
   "outputs": [
    {
     "data": {
      "text/plain": [
       "toxic\n",
       "0    143106\n",
       "1     16186\n",
       "Name: count, dtype: int64"
      ]
     },
     "execution_count": 6,
     "metadata": {},
     "output_type": "execute_result"
    }
   ],
   "source": [
    "df['toxic'].value_counts()"
   ]
  },
  {
   "cell_type": "markdown",
   "metadata": {},
   "source": [
    "классы несбалансированы, когда будем делить выборки это надо учесть"
   ]
  },
  {
   "cell_type": "markdown",
   "metadata": {},
   "source": [
    "### stopwords"
   ]
  },
  {
   "cell_type": "code",
   "execution_count": 7,
   "metadata": {},
   "outputs": [],
   "source": [
    "stop_words = set(stopwords.words('english'))\n"
   ]
  },
  {
   "cell_type": "code",
   "execution_count": 8,
   "metadata": {},
   "outputs": [],
   "source": [
    "nlp = en_core_web_sm.load(disable=['parser','ner'])"
   ]
  },
  {
   "cell_type": "code",
   "execution_count": 9,
   "metadata": {},
   "outputs": [
    {
     "data": {
      "text/plain": [
       "{'a',\n",
       " 'about',\n",
       " 'above',\n",
       " 'after',\n",
       " 'again',\n",
       " 'against',\n",
       " 'ain',\n",
       " 'all',\n",
       " 'am',\n",
       " 'an',\n",
       " 'and',\n",
       " 'any',\n",
       " 'are',\n",
       " 'aren',\n",
       " \"aren't\",\n",
       " 'as',\n",
       " 'at',\n",
       " 'be',\n",
       " 'because',\n",
       " 'been',\n",
       " 'before',\n",
       " 'being',\n",
       " 'below',\n",
       " 'between',\n",
       " 'both',\n",
       " 'but',\n",
       " 'by',\n",
       " 'can',\n",
       " 'couldn',\n",
       " \"couldn't\",\n",
       " 'd',\n",
       " 'did',\n",
       " 'didn',\n",
       " \"didn't\",\n",
       " 'do',\n",
       " 'does',\n",
       " 'doesn',\n",
       " \"doesn't\",\n",
       " 'doing',\n",
       " 'don',\n",
       " \"don't\",\n",
       " 'down',\n",
       " 'during',\n",
       " 'each',\n",
       " 'few',\n",
       " 'for',\n",
       " 'from',\n",
       " 'further',\n",
       " 'had',\n",
       " 'hadn',\n",
       " \"hadn't\",\n",
       " 'has',\n",
       " 'hasn',\n",
       " \"hasn't\",\n",
       " 'have',\n",
       " 'haven',\n",
       " \"haven't\",\n",
       " 'having',\n",
       " 'he',\n",
       " 'her',\n",
       " 'here',\n",
       " 'hers',\n",
       " 'herself',\n",
       " 'him',\n",
       " 'himself',\n",
       " 'his',\n",
       " 'how',\n",
       " 'i',\n",
       " 'if',\n",
       " 'in',\n",
       " 'into',\n",
       " 'is',\n",
       " 'isn',\n",
       " \"isn't\",\n",
       " 'it',\n",
       " \"it's\",\n",
       " 'its',\n",
       " 'itself',\n",
       " 'just',\n",
       " 'll',\n",
       " 'm',\n",
       " 'ma',\n",
       " 'me',\n",
       " 'mightn',\n",
       " \"mightn't\",\n",
       " 'more',\n",
       " 'most',\n",
       " 'mustn',\n",
       " \"mustn't\",\n",
       " 'my',\n",
       " 'myself',\n",
       " 'needn',\n",
       " \"needn't\",\n",
       " 'no',\n",
       " 'nor',\n",
       " 'not',\n",
       " 'now',\n",
       " 'o',\n",
       " 'of',\n",
       " 'off',\n",
       " 'on',\n",
       " 'once',\n",
       " 'only',\n",
       " 'or',\n",
       " 'other',\n",
       " 'our',\n",
       " 'ours',\n",
       " 'ourselves',\n",
       " 'out',\n",
       " 'over',\n",
       " 'own',\n",
       " 're',\n",
       " 's',\n",
       " 'same',\n",
       " 'shan',\n",
       " \"shan't\",\n",
       " 'she',\n",
       " \"she's\",\n",
       " 'should',\n",
       " \"should've\",\n",
       " 'shouldn',\n",
       " \"shouldn't\",\n",
       " 'so',\n",
       " 'some',\n",
       " 'such',\n",
       " 't',\n",
       " 'than',\n",
       " 'that',\n",
       " \"that'll\",\n",
       " 'the',\n",
       " 'their',\n",
       " 'theirs',\n",
       " 'them',\n",
       " 'themselves',\n",
       " 'then',\n",
       " 'there',\n",
       " 'these',\n",
       " 'they',\n",
       " 'this',\n",
       " 'those',\n",
       " 'through',\n",
       " 'to',\n",
       " 'too',\n",
       " 'under',\n",
       " 'until',\n",
       " 'up',\n",
       " 've',\n",
       " 'very',\n",
       " 'was',\n",
       " 'wasn',\n",
       " \"wasn't\",\n",
       " 'we',\n",
       " 'were',\n",
       " 'weren',\n",
       " \"weren't\",\n",
       " 'what',\n",
       " 'when',\n",
       " 'where',\n",
       " 'which',\n",
       " 'while',\n",
       " 'who',\n",
       " 'whom',\n",
       " 'why',\n",
       " 'will',\n",
       " 'with',\n",
       " 'won',\n",
       " \"won't\",\n",
       " 'wouldn',\n",
       " \"wouldn't\",\n",
       " 'y',\n",
       " 'you',\n",
       " \"you'd\",\n",
       " \"you'll\",\n",
       " \"you're\",\n",
       " \"you've\",\n",
       " 'your',\n",
       " 'yours',\n",
       " 'yourself',\n",
       " 'yourselves'}"
      ]
     },
     "execution_count": 9,
     "metadata": {},
     "output_type": "execute_result"
    }
   ],
   "source": [
    "stop_words"
   ]
  },
  {
   "cell_type": "code",
   "execution_count": 10,
   "metadata": {},
   "outputs": [],
   "source": [
    "stop_words.update('u')"
   ]
  },
  {
   "cell_type": "markdown",
   "metadata": {},
   "source": [
    "интересно почему \"you\" в стопвордах есть, а \"i\" нет"
   ]
  },
  {
   "cell_type": "code",
   "execution_count": 11,
   "metadata": {},
   "outputs": [
    {
     "data": {
      "text/html": [
       "<div>\n",
       "<style scoped>\n",
       "    .dataframe tbody tr th:only-of-type {\n",
       "        vertical-align: middle;\n",
       "    }\n",
       "\n",
       "    .dataframe tbody tr th {\n",
       "        vertical-align: top;\n",
       "    }\n",
       "\n",
       "    .dataframe thead th {\n",
       "        text-align: right;\n",
       "    }\n",
       "</style>\n",
       "<table border=\"1\" class=\"dataframe\">\n",
       "  <thead>\n",
       "    <tr style=\"text-align: right;\">\n",
       "      <th></th>\n",
       "      <th>text</th>\n",
       "      <th>toxic</th>\n",
       "    </tr>\n",
       "  </thead>\n",
       "  <tbody>\n",
       "    <tr>\n",
       "      <th>0</th>\n",
       "      <td>Explanation\\nWhy the edits made under my usern...</td>\n",
       "      <td>0</td>\n",
       "    </tr>\n",
       "    <tr>\n",
       "      <th>1</th>\n",
       "      <td>D'aww! He matches this background colour I'm s...</td>\n",
       "      <td>0</td>\n",
       "    </tr>\n",
       "    <tr>\n",
       "      <th>2</th>\n",
       "      <td>Hey man, I'm really not trying to edit war. It...</td>\n",
       "      <td>0</td>\n",
       "    </tr>\n",
       "    <tr>\n",
       "      <th>3</th>\n",
       "      <td>\"\\nMore\\nI can't make any real suggestions on ...</td>\n",
       "      <td>0</td>\n",
       "    </tr>\n",
       "    <tr>\n",
       "      <th>4</th>\n",
       "      <td>You, sir, are my hero. Any chance you remember...</td>\n",
       "      <td>0</td>\n",
       "    </tr>\n",
       "    <tr>\n",
       "      <th>...</th>\n",
       "      <td>...</td>\n",
       "      <td>...</td>\n",
       "    </tr>\n",
       "    <tr>\n",
       "      <th>159287</th>\n",
       "      <td>\":::::And for the second time of asking, when ...</td>\n",
       "      <td>0</td>\n",
       "    </tr>\n",
       "    <tr>\n",
       "      <th>159288</th>\n",
       "      <td>You should be ashamed of yourself \\n\\nThat is ...</td>\n",
       "      <td>0</td>\n",
       "    </tr>\n",
       "    <tr>\n",
       "      <th>159289</th>\n",
       "      <td>Spitzer \\n\\nUmm, theres no actual article for ...</td>\n",
       "      <td>0</td>\n",
       "    </tr>\n",
       "    <tr>\n",
       "      <th>159290</th>\n",
       "      <td>And it looks like it was actually you who put ...</td>\n",
       "      <td>0</td>\n",
       "    </tr>\n",
       "    <tr>\n",
       "      <th>159291</th>\n",
       "      <td>\"\\nAnd ... I really don't think you understand...</td>\n",
       "      <td>0</td>\n",
       "    </tr>\n",
       "  </tbody>\n",
       "</table>\n",
       "<p>159292 rows × 2 columns</p>\n",
       "</div>"
      ],
      "text/plain": [
       "                                                     text  toxic\n",
       "0       Explanation\\nWhy the edits made under my usern...      0\n",
       "1       D'aww! He matches this background colour I'm s...      0\n",
       "2       Hey man, I'm really not trying to edit war. It...      0\n",
       "3       \"\\nMore\\nI can't make any real suggestions on ...      0\n",
       "4       You, sir, are my hero. Any chance you remember...      0\n",
       "...                                                   ...    ...\n",
       "159287  \":::::And for the second time of asking, when ...      0\n",
       "159288  You should be ashamed of yourself \\n\\nThat is ...      0\n",
       "159289  Spitzer \\n\\nUmm, theres no actual article for ...      0\n",
       "159290  And it looks like it was actually you who put ...      0\n",
       "159291  \"\\nAnd ... I really don't think you understand...      0\n",
       "\n",
       "[159292 rows x 2 columns]"
      ]
     },
     "execution_count": 11,
     "metadata": {},
     "output_type": "execute_result"
    }
   ],
   "source": [
    "df"
   ]
  },
  {
   "cell_type": "markdown",
   "metadata": {},
   "source": [
    "### Лемматизация"
   ]
  },
  {
   "cell_type": "markdown",
   "metadata": {},
   "source": [
    "создадим 2 функции; для очистки строки и для ее лемматизации"
   ]
  },
  {
   "cell_type": "code",
   "execution_count": 12,
   "metadata": {},
   "outputs": [],
   "source": [
    "def clear_text(text):\n",
    "    text = re.sub(r'[^A-Za-z]', ' ', text)\n",
    "    text = text.split()\n",
    "    res = ' '.join(text)\n",
    "    return res.lower()"
   ]
  },
  {
   "cell_type": "code",
   "execution_count": 13,
   "metadata": {},
   "outputs": [],
   "source": [
    "def lemmatize(text):\n",
    "    doc = nlp(text)\n",
    "    return \" \".join([token.lemma_ for token in doc if token.lemma_ not in stop_words])"
   ]
  },
  {
   "cell_type": "code",
   "execution_count": 14,
   "metadata": {},
   "outputs": [
    {
     "data": {
      "text/plain": [
       "0    Explanation\\nWhy the edits made under my usern...\n",
       "1    D'aww! He matches this background colour I'm s...\n",
       "2    Hey man, I'm really not trying to edit war. It...\n",
       "3    \"\\nMore\\nI can't make any real suggestions on ...\n",
       "4    You, sir, are my hero. Any chance you remember...\n",
       "Name: text, dtype: object"
      ]
     },
     "execution_count": 14,
     "metadata": {},
     "output_type": "execute_result"
    }
   ],
   "source": [
    "df['text'].head()"
   ]
  },
  {
   "cell_type": "code",
   "execution_count": 15,
   "metadata": {},
   "outputs": [
    {
     "name": "stdout",
     "output_type": "stream",
     "text": [
      "CPU times: total: 4.84 s\n",
      "Wall time: 4.87 s\n"
     ]
    }
   ],
   "source": [
    "%%time\n",
    "df['text'] = df['text'].apply(clear_text)"
   ]
  },
  {
   "cell_type": "code",
   "execution_count": 16,
   "metadata": {},
   "outputs": [
    {
     "data": {
      "text/plain": [
       "0    explanation why the edits made under my userna...\n",
       "1    d aww he matches this background colour i m se...\n",
       "2    hey man i m really not trying to edit war it s...\n",
       "3    more i can t make any real suggestions on impr...\n",
       "4    you sir are my hero any chance you remember wh...\n",
       "Name: text, dtype: object"
      ]
     },
     "execution_count": 16,
     "metadata": {},
     "output_type": "execute_result"
    }
   ],
   "source": [
    "df['text'].head()"
   ]
  },
  {
   "cell_type": "code",
   "execution_count": 17,
   "metadata": {},
   "outputs": [
    {
     "name": "stdout",
     "output_type": "stream",
     "text": [
      "CPU times: total: 14min 28s\n",
      "Wall time: 14min 39s\n"
     ]
    }
   ],
   "source": [
    "%%time\n",
    "df['text'] = df['text'].apply(lemmatize)"
   ]
  },
  {
   "cell_type": "code",
   "execution_count": 18,
   "metadata": {},
   "outputs": [
    {
     "data": {
      "text/plain": [
       "0    explanation edit make username hardcore metall...\n",
       "1    aww match background colour I seemingly stuck ...\n",
       "2    hey man I really try edit war guy constantly r...\n",
       "3    I make real suggestion improvement I wonder se...\n",
       "4                        sir hero chance remember page\n",
       "Name: text, dtype: object"
      ]
     },
     "execution_count": 18,
     "metadata": {},
     "output_type": "execute_result"
    }
   ],
   "source": [
    "df['text'].head()"
   ]
  },
  {
   "cell_type": "code",
   "execution_count": 19,
   "metadata": {},
   "outputs": [],
   "source": [
    "x = df['text']\n",
    "y = df['toxic']"
   ]
  },
  {
   "cell_type": "markdown",
   "metadata": {},
   "source": [
    "поделим на трейн, тест и валид"
   ]
  },
  {
   "cell_type": "code",
   "execution_count": 21,
   "metadata": {},
   "outputs": [],
   "source": [
    "x_temp, x_test, y_temp, y_test = train_test_split(x, y, test_size=0.1, random_state=STATE, stratify = y)\n",
    "x_train, x_valid, y_train, y_valid = train_test_split(x_temp, y_temp, test_size=0.25,random_state=STATE, stratify = y_temp)"
   ]
  },
  {
   "cell_type": "markdown",
   "metadata": {},
   "source": [
    "создадим корпусы тесктов и векторизуем с помочью тф-идф"
   ]
  },
  {
   "cell_type": "code",
   "execution_count": 26,
   "metadata": {},
   "outputs": [],
   "source": [
    "corpus_x_train = x_train.values\n",
    "corpus_x_valid = x_valid.values\n",
    "corpus_x_test = x_test.values"
   ]
  },
  {
   "cell_type": "markdown",
   "metadata": {},
   "source": [
    "### Векторизация"
   ]
  },
  {
   "cell_type": "code",
   "execution_count": 27,
   "metadata": {},
   "outputs": [],
   "source": [
    "count_tf_idf = TfidfVectorizer(ngram_range=(1,1))"
   ]
  },
  {
   "cell_type": "code",
   "execution_count": 28,
   "metadata": {},
   "outputs": [],
   "source": [
    "tf_idf_train = count_tf_idf.fit_transform(corpus_x_train)\n",
    "tf_idf_valid = count_tf_idf.transform(corpus_x_valid)\n",
    "tf_idf_test = count_tf_idf.transform(corpus_x_test)"
   ]
  },
  {
   "cell_type": "markdown",
   "metadata": {},
   "source": [
    "## Обучение"
   ]
  },
  {
   "cell_type": "markdown",
   "metadata": {},
   "source": [
    "###  LogisticRegression"
   ]
  },
  {
   "cell_type": "code",
   "execution_count": 32,
   "metadata": {},
   "outputs": [
    {
     "name": "stdout",
     "output_type": "stream",
     "text": [
      "f1 0.7446300715990454\n"
     ]
    }
   ],
   "source": [
    "model = LogisticRegression(solver='liblinear', random_state=STATE, class_weight = 'balanced')\n",
    "model.fit(tf_idf_train,y_train)\n",
    "pred = model.predict(tf_idf_valid)\n",
    "print('f1',f1_score(pred,y_valid))"
   ]
  },
  {
   "cell_type": "markdown",
   "metadata": {},
   "source": [
    "### DecisionTreeClassifier"
   ]
  },
  {
   "cell_type": "code",
   "execution_count": 33,
   "metadata": {},
   "outputs": [
    {
     "name": "stdout",
     "output_type": "stream",
     "text": [
      "7 0.5609022556390978\n",
      "8 0.5751412429378531\n",
      "9 0.5940194459732159\n",
      "10 0.6016081871345029\n",
      "11 0.6138116591928251\n",
      "12 0.6229566453447051\n",
      "13 0.6308535076868704\n",
      "14 0.6342648845686513\n",
      "15 0.6399860188745194\n",
      "16 0.6449387825487153\n",
      "17 0.6519355943816375\n",
      "18 0.6539053153307127\n",
      "19 0.6629346904156065\n",
      "20 0.662947937795808\n",
      "21 0.6701289998324678\n",
      "22 0.669907795473596\n",
      "23 0.6709136630343672\n",
      "24 0.670894526034713\n",
      "25 0.6780617324925323\n",
      "26 0.6765194287612089\n",
      "27 0.6814569536423841\n",
      "28 0.6803305785123966\n",
      "29 0.6869120316883974\n",
      "30 0.6893172165958837\n",
      "31 0.6877147063634876\n",
      "32 0.6899237384390718\n",
      "33 0.6885299396312612\n",
      "34 0.6920213626800453\n",
      "35 0.6932167718957423\n",
      "36 0.6942202131094608\n",
      "37 0.696466031950944\n",
      "38 0.6979736249597941\n",
      "39 0.6961699388477631\n"
     ]
    }
   ],
   "source": [
    "for de in range(7,40):\n",
    "    model = DecisionTreeClassifier(random_state = 123, max_depth = de)\n",
    "    model.fit(tf_idf_train,y_train)\n",
    "    pred = model.predict(tf_idf_valid)\n",
    "    print(de, f1_score(pred,y_valid))"
   ]
  },
  {
   "cell_type": "code",
   "execution_count": 34,
   "metadata": {},
   "outputs": [
    {
     "name": "stdout",
     "output_type": "stream",
     "text": [
      "f1 0.6961699388477631\n"
     ]
    }
   ],
   "source": [
    "model = DecisionTreeClassifier(random_state = 123, max_depth = 39)\n",
    "model.fit(tf_idf_train,y_train)\n",
    "pred = model.predict(tf_idf_valid)\n",
    "print('f1',f1_score(pred,y_valid))"
   ]
  },
  {
   "cell_type": "markdown",
   "metadata": {},
   "source": [
    "### CatBoostClassifier"
   ]
  },
  {
   "cell_type": "code",
   "execution_count": 35,
   "metadata": {},
   "outputs": [
    {
     "name": "stdout",
     "output_type": "stream",
     "text": [
      "Learning rate set to 0.332152\n",
      "0:\tlearn: 0.4290266\ttotal: 317ms\tremaining: 1m 3s\n",
      "25:\tlearn: 0.2000186\ttotal: 4.37s\tremaining: 29.2s\n",
      "50:\tlearn: 0.1779673\ttotal: 8.45s\tremaining: 24.7s\n",
      "75:\tlearn: 0.1655835\ttotal: 12.5s\tremaining: 20.4s\n",
      "100:\tlearn: 0.1574405\ttotal: 16.6s\tremaining: 16.3s\n",
      "125:\tlearn: 0.1504579\ttotal: 20.6s\tremaining: 12.1s\n",
      "150:\tlearn: 0.1451605\ttotal: 24.6s\tremaining: 8s\n",
      "175:\tlearn: 0.1410573\ttotal: 28.7s\tremaining: 3.91s\n",
      "199:\tlearn: 0.1376668\ttotal: 32.6s\tremaining: 0us\n",
      "0.7198132088058706\n",
      "2\n",
      "Learning rate set to 0.332152\n",
      "0:\tlearn: 0.4271336\ttotal: 249ms\tremaining: 49.5s\n",
      "25:\tlearn: 0.1872284\ttotal: 6.03s\tremaining: 40.3s\n",
      "50:\tlearn: 0.1653380\ttotal: 11.8s\tremaining: 34.6s\n",
      "75:\tlearn: 0.1533076\ttotal: 17.6s\tremaining: 28.7s\n",
      "100:\tlearn: 0.1451087\ttotal: 23.3s\tremaining: 22.9s\n",
      "125:\tlearn: 0.1391730\ttotal: 29s\tremaining: 17.1s\n",
      "150:\tlearn: 0.1336268\ttotal: 34.9s\tremaining: 11.3s\n",
      "175:\tlearn: 0.1298397\ttotal: 40.8s\tremaining: 5.56s\n",
      "199:\tlearn: 0.1267097\ttotal: 46.2s\tremaining: 0us\n",
      "0.7412951513179303\n",
      "3\n",
      "Learning rate set to 0.332152\n",
      "0:\tlearn: 0.4270271\ttotal: 324ms\tremaining: 1m 4s\n",
      "25:\tlearn: 0.1783161\ttotal: 8.16s\tremaining: 54.6s\n",
      "50:\tlearn: 0.1575140\ttotal: 16s\tremaining: 46.6s\n",
      "75:\tlearn: 0.1448489\ttotal: 23.7s\tremaining: 38.7s\n",
      "100:\tlearn: 0.1366870\ttotal: 31.5s\tremaining: 30.9s\n",
      "125:\tlearn: 0.1307984\ttotal: 39.2s\tremaining: 23s\n",
      "150:\tlearn: 0.1258099\ttotal: 47.1s\tremaining: 15.3s\n",
      "175:\tlearn: 0.1218637\ttotal: 54.8s\tremaining: 7.47s\n",
      "199:\tlearn: 0.1181347\ttotal: 1m 2s\tremaining: 0us\n",
      "0.7456972816470967\n",
      "4\n",
      "Learning rate set to 0.332152\n",
      "0:\tlearn: 0.4270258\ttotal: 429ms\tremaining: 1m 25s\n",
      "25:\tlearn: 0.1712999\ttotal: 10.8s\tremaining: 1m 11s\n",
      "50:\tlearn: 0.1502028\ttotal: 21.1s\tremaining: 1m 1s\n",
      "75:\tlearn: 0.1373155\ttotal: 31.4s\tremaining: 51.2s\n",
      "100:\tlearn: 0.1292210\ttotal: 41.6s\tremaining: 40.8s\n",
      "125:\tlearn: 0.1236182\ttotal: 51.9s\tremaining: 30.5s\n",
      "150:\tlearn: 0.1188923\ttotal: 1m 2s\tremaining: 20.1s\n",
      "175:\tlearn: 0.1154673\ttotal: 1m 12s\tremaining: 9.86s\n",
      "199:\tlearn: 0.1122010\ttotal: 1m 22s\tremaining: 0us\n",
      "0.7489579993587688\n",
      "5\n",
      "Learning rate set to 0.332152\n",
      "0:\tlearn: 0.4217995\ttotal: 572ms\tremaining: 1m 53s\n",
      "25:\tlearn: 0.1665048\ttotal: 14.4s\tremaining: 1m 36s\n",
      "50:\tlearn: 0.1451047\ttotal: 28.2s\tremaining: 1m 22s\n",
      "75:\tlearn: 0.1326019\ttotal: 42s\tremaining: 1m 8s\n",
      "100:\tlearn: 0.1248363\ttotal: 55.7s\tremaining: 54.6s\n",
      "125:\tlearn: 0.1183755\ttotal: 1m 9s\tremaining: 40.8s\n",
      "150:\tlearn: 0.1142111\ttotal: 1m 23s\tremaining: 27s\n",
      "175:\tlearn: 0.1110388\ttotal: 1m 36s\tremaining: 13.2s\n",
      "199:\tlearn: 0.1078420\ttotal: 1m 50s\tremaining: 0us\n",
      "0.7541348600508906\n",
      "6\n",
      "Learning rate set to 0.332152\n",
      "0:\tlearn: 0.4139885\ttotal: 815ms\tremaining: 2m 42s\n",
      "25:\tlearn: 0.1612226\ttotal: 20.5s\tremaining: 2m 17s\n",
      "50:\tlearn: 0.1400567\ttotal: 40s\tremaining: 1m 56s\n",
      "75:\tlearn: 0.1280034\ttotal: 59.5s\tremaining: 1m 37s\n",
      "100:\tlearn: 0.1201656\ttotal: 1m 19s\tremaining: 1m 17s\n",
      "125:\tlearn: 0.1142808\ttotal: 1m 38s\tremaining: 58s\n",
      "150:\tlearn: 0.1098386\ttotal: 1m 58s\tremaining: 38.3s\n",
      "175:\tlearn: 0.1059136\ttotal: 2m 17s\tremaining: 18.8s\n",
      "199:\tlearn: 0.1018940\ttotal: 2m 36s\tremaining: 0us\n",
      "0.7590987868284229\n",
      "7\n",
      "Learning rate set to 0.332152\n",
      "0:\tlearn: 0.4139558\ttotal: 1.28s\tremaining: 4m 15s\n",
      "25:\tlearn: 0.1572325\ttotal: 31.7s\tremaining: 3m 32s\n",
      "50:\tlearn: 0.1369864\ttotal: 1m 1s\tremaining: 3m\n",
      "75:\tlearn: 0.1250575\ttotal: 1m 31s\tremaining: 2m 29s\n",
      "100:\tlearn: 0.1165492\ttotal: 2m 2s\tremaining: 1m 59s\n",
      "125:\tlearn: 0.1104812\ttotal: 2m 32s\tremaining: 1m 29s\n",
      "150:\tlearn: 0.1057805\ttotal: 3m 2s\tremaining: 59.2s\n",
      "175:\tlearn: 0.1013977\ttotal: 3m 32s\tremaining: 29s\n",
      "199:\tlearn: 0.0968280\ttotal: 4m 1s\tremaining: 0us\n",
      "0.7588697017268445\n",
      "8\n",
      "Learning rate set to 0.332152\n",
      "0:\tlearn: 0.4139445\ttotal: 2.19s\tremaining: 7m 14s\n",
      "25:\tlearn: 0.1541751\ttotal: 53.1s\tremaining: 5m 55s\n",
      "50:\tlearn: 0.1329647\ttotal: 1m 44s\tremaining: 5m 3s\n",
      "75:\tlearn: 0.1211642\ttotal: 2m 35s\tremaining: 4m 12s\n",
      "100:\tlearn: 0.1126757\ttotal: 3m 26s\tremaining: 3m 22s\n",
      "125:\tlearn: 0.1065110\ttotal: 4m 17s\tremaining: 2m 31s\n",
      "150:\tlearn: 0.1006955\ttotal: 5m 8s\tremaining: 1m 40s\n",
      "175:\tlearn: 0.0959314\ttotal: 5m 59s\tremaining: 49s\n",
      "199:\tlearn: 0.0924783\ttotal: 6m 48s\tremaining: 0us\n",
      "0.7637448947533774\n",
      "9\n",
      "Learning rate set to 0.332152\n",
      "0:\tlearn: 0.4137546\ttotal: 6.13s\tremaining: 20m 19s\n",
      "25:\tlearn: 0.1510477\ttotal: 2m 39s\tremaining: 17m 47s\n",
      "50:\tlearn: 0.1293038\ttotal: 5m 17s\tremaining: 15m 27s\n",
      "75:\tlearn: 0.1173956\ttotal: 8m 1s\tremaining: 13m 4s\n",
      "100:\tlearn: 0.1093662\ttotal: 10m 41s\tremaining: 10m 28s\n",
      "125:\tlearn: 0.1029116\ttotal: 13m 19s\tremaining: 7m 49s\n",
      "150:\tlearn: 0.0970107\ttotal: 15m 57s\tremaining: 5m 10s\n",
      "175:\tlearn: 0.0924596\ttotal: 18m 37s\tremaining: 2m 32s\n",
      "199:\tlearn: 0.0891248\ttotal: 21m 11s\tremaining: 0us\n",
      "0.7653474602679963\n",
      "10\n",
      "Learning rate set to 0.332152\n",
      "0:\tlearn: 0.4137311\ttotal: 12s\tremaining: 39m 50s\n",
      "25:\tlearn: 0.1484150\ttotal: 5m 7s\tremaining: 34m 16s\n",
      "50:\tlearn: 0.1261337\ttotal: 9m 50s\tremaining: 28m 46s\n",
      "75:\tlearn: 0.1140170\ttotal: 14m 37s\tremaining: 23m 51s\n",
      "100:\tlearn: 0.1057454\ttotal: 19m 23s\tremaining: 19m\n",
      "125:\tlearn: 0.0992348\ttotal: 24m 4s\tremaining: 14m 8s\n",
      "150:\tlearn: 0.0931989\ttotal: 28m 44s\tremaining: 9m 19s\n",
      "175:\tlearn: 0.0892628\ttotal: 33m 26s\tremaining: 4m 33s\n",
      "199:\tlearn: 0.0860906\ttotal: 37m 55s\tremaining: 0us\n",
      "0.768203695078404\n",
      "11\n",
      "Learning rate set to 0.332152\n",
      "0:\tlearn: 0.4133366\ttotal: 20.8s\tremaining: 1h 8m 58s\n",
      "25:\tlearn: 0.1455430\ttotal: 9m 12s\tremaining: 1h 1m 36s\n",
      "50:\tlearn: 0.1243714\ttotal: 17m 55s\tremaining: 52m 23s\n",
      "75:\tlearn: 0.1112455\ttotal: 26m 47s\tremaining: 43m 42s\n",
      "100:\tlearn: 0.1025117\ttotal: 35m 52s\tremaining: 35m 9s\n",
      "125:\tlearn: 0.0951282\ttotal: 45m 3s\tremaining: 26m 27s\n",
      "150:\tlearn: 0.0895790\ttotal: 54m 15s\tremaining: 17m 36s\n",
      "175:\tlearn: 0.0860665\ttotal: 1h 3m 2s\tremaining: 8m 35s\n",
      "199:\tlearn: 0.0828339\ttotal: 1h 11m 20s\tremaining: 0us\n",
      "0.771260086902545\n",
      "12\n",
      "Learning rate set to 0.332152\n",
      "0:\tlearn: 0.4129501\ttotal: 39.7s\tremaining: 2h 11m 48s\n",
      "25:\tlearn: 0.1435981\ttotal: 17m 35s\tremaining: 1h 57m 42s\n",
      "50:\tlearn: 0.1223501\ttotal: 34m 34s\tremaining: 1h 40m 59s\n",
      "75:\tlearn: 0.1096415\ttotal: 52m 16s\tremaining: 1h 25m 16s\n",
      "100:\tlearn: 0.0999221\ttotal: 1h 9m 2s\tremaining: 1h 7m 40s\n",
      "125:\tlearn: 0.0922260\ttotal: 1h 24m 53s\tremaining: 49m 51s\n",
      "150:\tlearn: 0.0864593\ttotal: 1h 40m 43s\tremaining: 32m 41s\n",
      "175:\tlearn: 0.0824883\ttotal: 1h 56m 32s\tremaining: 15m 53s\n",
      "199:\tlearn: 0.0792339\ttotal: 2h 11m 45s\tremaining: 0us\n",
      "0.7704207920792079\n",
      "13\n",
      "Learning rate set to 0.332152\n",
      "0:\tlearn: 0.4074810\ttotal: 1m 13s\tremaining: 4h 3m 34s\n",
      "25:\tlearn: 0.1404050\ttotal: 31m 55s\tremaining: 3h 33m 37s\n",
      "50:\tlearn: 0.1183978\ttotal: 1h 2m 39s\tremaining: 3h 3m 2s\n",
      "75:\tlearn: 0.1069844\ttotal: 1h 33m 39s\tremaining: 2h 32m 48s\n",
      "100:\tlearn: 0.0964689\ttotal: 2h 4m 42s\tremaining: 2h 2m 14s\n",
      "125:\tlearn: 0.0886796\ttotal: 2h 35m 47s\tremaining: 1h 31m 29s\n",
      "150:\tlearn: 0.0836748\ttotal: 3h 7m 28s\tremaining: 1h 50s\n",
      "175:\tlearn: 0.0805784\ttotal: 3h 38m 14s\tremaining: 29m 45s\n",
      "199:\tlearn: 0.0773927\ttotal: 4h 6m 38s\tremaining: 0us\n",
      "0.7673053152039555\n",
      "14\n"
     ]
    }
   ],
   "source": [
    "for i in range (2,15):\n",
    "    model = CatBoostClassifier(iterations=200, depth=i)\n",
    "    model.fit(tf_idf_train,y_train, verbose=25)\n",
    "    pred = model.predict(tf_idf_valid)\n",
    "    print(f1_score(pred, y_valid))\n",
    "    print(i)"
   ]
  },
  {
   "cell_type": "code",
   "execution_count": 36,
   "metadata": {},
   "outputs": [
    {
     "name": "stdout",
     "output_type": "stream",
     "text": [
      "Learning rate set to 0.5\n",
      "0:\tlearn: 0.3342696\ttotal: 843ms\tremaining: 1m 23s\n",
      "25:\tlearn: 0.1470437\ttotal: 20.9s\tremaining: 59.6s\n",
      "50:\tlearn: 0.1276775\ttotal: 40.8s\tremaining: 39.2s\n",
      "75:\tlearn: 0.1171343\ttotal: 1m\tremaining: 19.2s\n",
      "99:\tlearn: 0.1098084\ttotal: 1m 20s\tremaining: 0us\n",
      "0.7526679221594476\n",
      "100\n",
      "Learning rate set to 0.43242\n",
      "0:\tlearn: 0.3621140\ttotal: 827ms\tremaining: 2m 3s\n",
      "25:\tlearn: 0.1525892\ttotal: 20.8s\tremaining: 1m 39s\n",
      "50:\tlearn: 0.1323047\ttotal: 40.6s\tremaining: 1m 18s\n",
      "75:\tlearn: 0.1209870\ttotal: 1m\tremaining: 58.9s\n",
      "100:\tlearn: 0.1127696\ttotal: 1m 20s\tremaining: 38.9s\n",
      "125:\tlearn: 0.1065566\ttotal: 1m 40s\tremaining: 19s\n",
      "149:\tlearn: 0.1019906\ttotal: 1m 59s\tremaining: 0us\n",
      "0.760193719731292\n",
      "150\n",
      "Learning rate set to 0.332152\n",
      "0:\tlearn: 0.4139885\ttotal: 829ms\tremaining: 2m 44s\n",
      "25:\tlearn: 0.1612226\ttotal: 20.8s\tremaining: 2m 19s\n",
      "50:\tlearn: 0.1400567\ttotal: 40.7s\tremaining: 1m 58s\n",
      "75:\tlearn: 0.1280034\ttotal: 1m\tremaining: 1m 38s\n",
      "100:\tlearn: 0.1201656\ttotal: 1m 20s\tremaining: 1m 18s\n",
      "125:\tlearn: 0.1142808\ttotal: 1m 40s\tremaining: 58.9s\n",
      "150:\tlearn: 0.1098386\ttotal: 1m 59s\tremaining: 38.9s\n",
      "175:\tlearn: 0.1059136\ttotal: 2m 19s\tremaining: 19s\n",
      "199:\tlearn: 0.1018940\ttotal: 2m 38s\tremaining: 0us\n",
      "0.7590987868284229\n",
      "200\n",
      "Learning rate set to 0.270689\n",
      "0:\tlearn: 0.4526117\ttotal: 838ms\tremaining: 3m 28s\n",
      "25:\tlearn: 0.1684599\ttotal: 20.7s\tremaining: 2m 58s\n",
      "50:\tlearn: 0.1473013\ttotal: 40.5s\tremaining: 2m 37s\n",
      "75:\tlearn: 0.1340006\ttotal: 1m\tremaining: 2m 17s\n",
      "100:\tlearn: 0.1262793\ttotal: 1m 19s\tremaining: 1m 57s\n",
      "125:\tlearn: 0.1196544\ttotal: 1m 39s\tremaining: 1m 38s\n",
      "150:\tlearn: 0.1150325\ttotal: 1m 59s\tremaining: 1m 18s\n",
      "175:\tlearn: 0.1108583\ttotal: 2m 18s\tremaining: 58.4s\n",
      "200:\tlearn: 0.1069695\ttotal: 2m 38s\tremaining: 38.7s\n",
      "225:\tlearn: 0.1033833\ttotal: 2m 58s\tremaining: 18.9s\n",
      "249:\tlearn: 0.1002057\ttotal: 3m 17s\tremaining: 0us\n",
      "0.762685156003782\n",
      "250\n",
      "Learning rate set to 0.229014\n",
      "0:\tlearn: 0.4819992\ttotal: 894ms\tremaining: 4m 27s\n",
      "25:\tlearn: 0.1738737\ttotal: 20.8s\tremaining: 3m 39s\n",
      "50:\tlearn: 0.1528053\ttotal: 40.6s\tremaining: 3m 18s\n",
      "75:\tlearn: 0.1401709\ttotal: 1m\tremaining: 2m 57s\n",
      "100:\tlearn: 0.1317714\ttotal: 1m 20s\tremaining: 2m 37s\n",
      "125:\tlearn: 0.1249268\ttotal: 1m 39s\tremaining: 2m 17s\n",
      "150:\tlearn: 0.1198110\ttotal: 1m 59s\tremaining: 1m 57s\n",
      "175:\tlearn: 0.1157443\ttotal: 2m 19s\tremaining: 1m 38s\n",
      "200:\tlearn: 0.1122642\ttotal: 2m 38s\tremaining: 1m 18s\n",
      "225:\tlearn: 0.1094051\ttotal: 2m 58s\tremaining: 58.4s\n",
      "250:\tlearn: 0.1066250\ttotal: 3m 18s\tremaining: 38.7s\n",
      "275:\tlearn: 0.1033666\ttotal: 3m 37s\tremaining: 18.9s\n",
      "299:\tlearn: 0.1007036\ttotal: 3m 56s\tremaining: 0us\n",
      "0.7590132827324478\n",
      "300\n",
      "Learning rate set to 0.198825\n",
      "0:\tlearn: 0.5049236\ttotal: 847ms\tremaining: 4m 55s\n",
      "25:\tlearn: 0.1789245\ttotal: 20.7s\tremaining: 4m 17s\n",
      "50:\tlearn: 0.1571163\ttotal: 40.4s\tremaining: 3m 56s\n",
      "75:\tlearn: 0.1450939\ttotal: 1m\tremaining: 3m 37s\n",
      "100:\tlearn: 0.1365541\ttotal: 1m 19s\tremaining: 3m 17s\n",
      "125:\tlearn: 0.1294165\ttotal: 1m 39s\tremaining: 2m 57s\n",
      "150:\tlearn: 0.1241182\ttotal: 1m 59s\tremaining: 2m 37s\n",
      "175:\tlearn: 0.1198643\ttotal: 2m 19s\tremaining: 2m 17s\n",
      "200:\tlearn: 0.1164888\ttotal: 2m 38s\tremaining: 1m 57s\n",
      "225:\tlearn: 0.1132477\ttotal: 2m 58s\tremaining: 1m 37s\n",
      "250:\tlearn: 0.1104454\ttotal: 3m 18s\tremaining: 1m 18s\n",
      "275:\tlearn: 0.1079771\ttotal: 3m 37s\tremaining: 58.4s\n",
      "300:\tlearn: 0.1049940\ttotal: 3m 57s\tremaining: 38.6s\n",
      "325:\tlearn: 0.1028171\ttotal: 4m 17s\tremaining: 18.9s\n",
      "349:\tlearn: 0.1005102\ttotal: 4m 35s\tremaining: 0us\n",
      "0.7609108159392789\n",
      "350\n",
      "Learning rate set to 0.175911\n",
      "0:\tlearn: 0.5233011\ttotal: 831ms\tremaining: 5m 31s\n",
      "25:\tlearn: 0.1826198\ttotal: 20.8s\tremaining: 4m 58s\n",
      "50:\tlearn: 0.1616891\ttotal: 40.5s\tremaining: 4m 37s\n",
      "75:\tlearn: 0.1486189\ttotal: 1m\tremaining: 4m 17s\n",
      "100:\tlearn: 0.1398447\ttotal: 1m 20s\tremaining: 3m 57s\n",
      "125:\tlearn: 0.1329591\ttotal: 1m 39s\tremaining: 3m 37s\n",
      "150:\tlearn: 0.1275667\ttotal: 1m 59s\tremaining: 3m 17s\n",
      "175:\tlearn: 0.1228191\ttotal: 2m 19s\tremaining: 2m 57s\n",
      "200:\tlearn: 0.1190830\ttotal: 2m 39s\tremaining: 2m 37s\n",
      "225:\tlearn: 0.1163745\ttotal: 2m 58s\tremaining: 2m 17s\n",
      "250:\tlearn: 0.1136175\ttotal: 3m 18s\tremaining: 1m 57s\n",
      "275:\tlearn: 0.1110903\ttotal: 3m 38s\tremaining: 1m 38s\n",
      "300:\tlearn: 0.1085451\ttotal: 3m 58s\tremaining: 1m 18s\n",
      "325:\tlearn: 0.1056949\ttotal: 4m 17s\tremaining: 58.5s\n",
      "350:\tlearn: 0.1035734\ttotal: 4m 37s\tremaining: 38.8s\n",
      "375:\tlearn: 0.1016034\ttotal: 4m 57s\tremaining: 19s\n",
      "399:\tlearn: 0.0993315\ttotal: 5m 16s\tremaining: 0us\n",
      "0.7631828228607515\n",
      "400\n",
      "Learning rate set to 0.157901\n",
      "0:\tlearn: 0.5383242\ttotal: 834ms\tremaining: 6m 14s\n",
      "25:\tlearn: 0.1861829\ttotal: 20.7s\tremaining: 5m 37s\n",
      "50:\tlearn: 0.1651970\ttotal: 40.5s\tremaining: 5m 16s\n",
      "75:\tlearn: 0.1523932\ttotal: 1m\tremaining: 4m 56s\n",
      "100:\tlearn: 0.1437685\ttotal: 1m 19s\tremaining: 4m 36s\n",
      "125:\tlearn: 0.1367530\ttotal: 1m 39s\tremaining: 4m 16s\n",
      "150:\tlearn: 0.1309865\ttotal: 1m 59s\tremaining: 3m 56s\n",
      "175:\tlearn: 0.1262042\ttotal: 2m 19s\tremaining: 3m 36s\n",
      "200:\tlearn: 0.1219598\ttotal: 2m 39s\tremaining: 3m 17s\n",
      "225:\tlearn: 0.1190470\ttotal: 2m 58s\tremaining: 2m 57s\n",
      "250:\tlearn: 0.1160697\ttotal: 3m 18s\tremaining: 2m 37s\n",
      "275:\tlearn: 0.1134005\ttotal: 3m 38s\tremaining: 2m 17s\n",
      "300:\tlearn: 0.1110002\ttotal: 3m 57s\tremaining: 1m 57s\n",
      "325:\tlearn: 0.1086161\ttotal: 4m 17s\tremaining: 1m 38s\n",
      "350:\tlearn: 0.1063735\ttotal: 4m 37s\tremaining: 1m 18s\n",
      "375:\tlearn: 0.1046461\ttotal: 4m 57s\tremaining: 58.5s\n",
      "400:\tlearn: 0.1026141\ttotal: 5m 16s\tremaining: 38.7s\n",
      "425:\tlearn: 0.1008709\ttotal: 5m 36s\tremaining: 19s\n",
      "449:\tlearn: 0.0992779\ttotal: 5m 55s\tremaining: 0us\n",
      "0.7627921667719519\n",
      "450\n",
      "Learning rate set to 0.143359\n",
      "0:\tlearn: 0.5508228\ttotal: 823ms\tremaining: 6m 50s\n",
      "25:\tlearn: 0.1905471\ttotal: 20.6s\tremaining: 6m 15s\n",
      "50:\tlearn: 0.1686490\ttotal: 40.2s\tremaining: 5m 54s\n",
      "75:\tlearn: 0.1562549\ttotal: 59.9s\tremaining: 5m 33s\n",
      "100:\tlearn: 0.1469234\ttotal: 1m 19s\tremaining: 5m 13s\n",
      "125:\tlearn: 0.1397385\ttotal: 1m 39s\tremaining: 4m 53s\n",
      "150:\tlearn: 0.1340959\ttotal: 1m 58s\tremaining: 4m 34s\n",
      "175:\tlearn: 0.1296830\ttotal: 2m 18s\tremaining: 4m 14s\n",
      "200:\tlearn: 0.1254608\ttotal: 2m 37s\tremaining: 3m 54s\n",
      "225:\tlearn: 0.1222316\ttotal: 2m 57s\tremaining: 3m 35s\n",
      "250:\tlearn: 0.1190195\ttotal: 3m 17s\tremaining: 3m 15s\n",
      "275:\tlearn: 0.1165949\ttotal: 3m 36s\tremaining: 2m 55s\n",
      "300:\tlearn: 0.1143465\ttotal: 3m 56s\tremaining: 2m 36s\n",
      "325:\tlearn: 0.1120334\ttotal: 4m 15s\tremaining: 2m 16s\n",
      "350:\tlearn: 0.1098621\ttotal: 4m 35s\tremaining: 1m 56s\n",
      "375:\tlearn: 0.1080865\ttotal: 4m 54s\tremaining: 1m 37s\n",
      "400:\tlearn: 0.1061138\ttotal: 5m 14s\tremaining: 1m 17s\n",
      "425:\tlearn: 0.1043763\ttotal: 5m 34s\tremaining: 58s\n",
      "450:\tlearn: 0.1024545\ttotal: 5m 53s\tremaining: 38.4s\n",
      "475:\tlearn: 0.1005725\ttotal: 6m 13s\tremaining: 18.8s\n",
      "499:\tlearn: 0.0992122\ttotal: 6m 32s\tremaining: 0us\n",
      "0.7592534008225246\n",
      "500\n"
     ]
    }
   ],
   "source": [
    "for i in range (100,501,50):\n",
    "    model = CatBoostClassifier(iterations=i, depth=7)\n",
    "    model.fit(tf_idf_train,y_train, verbose=25)\n",
    "    pred = model.predict(tf_idf_valid)\n",
    "    print(f1_score(pred, y_valid))\n",
    "    print(i)"
   ]
  },
  {
   "cell_type": "code",
   "execution_count": 37,
   "metadata": {},
   "outputs": [
    {
     "name": "stdout",
     "output_type": "stream",
     "text": [
      "Learning rate set to 0.332152\n",
      "0:\tlearn: 0.4139885\ttotal: 831ms\tremaining: 2m 45s\n",
      "25:\tlearn: 0.1612226\ttotal: 20.5s\tremaining: 2m 17s\n",
      "50:\tlearn: 0.1400567\ttotal: 40.1s\tremaining: 1m 57s\n",
      "75:\tlearn: 0.1280034\ttotal: 59.7s\tremaining: 1m 37s\n",
      "100:\tlearn: 0.1201656\ttotal: 1m 19s\tremaining: 1m 17s\n",
      "125:\tlearn: 0.1142808\ttotal: 1m 38s\tremaining: 58.1s\n",
      "150:\tlearn: 0.1098386\ttotal: 1m 58s\tremaining: 38.4s\n",
      "175:\tlearn: 0.1059136\ttotal: 2m 17s\tremaining: 18.8s\n",
      "199:\tlearn: 0.1018940\ttotal: 2m 36s\tremaining: 0us\n",
      "f1 0.7590987868284229\n"
     ]
    }
   ],
   "source": [
    "model = CatBoostClassifier(iterations=200, depth=7)\n",
    "model.fit(tf_idf_train,y_train, verbose=25)\n",
    "pred = model.predict(tf_idf_valid)\n",
    "print('f1',f1_score(pred, y_valid))"
   ]
  },
  {
   "cell_type": "markdown",
   "metadata": {},
   "source": [
    "### LGBMC"
   ]
  },
  {
   "cell_type": "code",
   "execution_count": 38,
   "metadata": {},
   "outputs": [
    {
     "name": "stdout",
     "output_type": "stream",
     "text": [
      "[LightGBM] [Info] Number of positive: 10925, number of negative: 96596\n",
      "[LightGBM] [Info] Auto-choosing row-wise multi-threading, the overhead of testing was 1.041622 seconds.\n",
      "You can set `force_row_wise=true` to remove the overhead.\n",
      "And if memory is not enough, you can set `force_col_wise=true`.\n",
      "[LightGBM] [Info] Total Bins 476442\n",
      "[LightGBM] [Info] Number of data points in the train set: 107521, number of used features: 8803\n",
      "[LightGBM] [Info] [binary:BoostFromScore]: pavg=0.101608 -> initscore=-2.179484\n",
      "[LightGBM] [Info] Start training from score -2.179484\n",
      "[LightGBM] [Warning] No further splits with positive gain, best gain: -inf\n",
      "[LightGBM] [Warning] No further splits with positive gain, best gain: -inf\n",
      "[LightGBM] [Warning] No further splits with positive gain, best gain: -inf\n",
      "[LightGBM] [Warning] No further splits with positive gain, best gain: -inf\n",
      "[LightGBM] [Warning] No further splits with positive gain, best gain: -inf\n",
      "[LightGBM] [Warning] No further splits with positive gain, best gain: -inf\n",
      "[LightGBM] [Warning] No further splits with positive gain, best gain: -inf\n",
      "[LightGBM] [Warning] No further splits with positive gain, best gain: -inf\n",
      "[LightGBM] [Warning] No further splits with positive gain, best gain: -inf\n",
      "[LightGBM] [Warning] No further splits with positive gain, best gain: -inf\n",
      "[LightGBM] [Warning] No further splits with positive gain, best gain: -inf\n",
      "[LightGBM] [Warning] No further splits with positive gain, best gain: -inf\n",
      "[LightGBM] [Warning] No further splits with positive gain, best gain: -inf\n",
      "[LightGBM] [Warning] No further splits with positive gain, best gain: -inf\n",
      "[LightGBM] [Warning] No further splits with positive gain, best gain: -inf\n",
      "[LightGBM] [Warning] No further splits with positive gain, best gain: -inf\n",
      "[LightGBM] [Warning] No further splits with positive gain, best gain: -inf\n",
      "[LightGBM] [Warning] No further splits with positive gain, best gain: -inf\n",
      "[LightGBM] [Warning] No further splits with positive gain, best gain: -inf\n",
      "[LightGBM] [Warning] No further splits with positive gain, best gain: -inf\n",
      "0.7360850531582239\n",
      "dpt 2\n",
      "[LightGBM] [Info] Number of positive: 10925, number of negative: 96596\n",
      "[LightGBM] [Info] Auto-choosing row-wise multi-threading, the overhead of testing was 1.077728 seconds.\n",
      "You can set `force_row_wise=true` to remove the overhead.\n",
      "And if memory is not enough, you can set `force_col_wise=true`.\n",
      "[LightGBM] [Info] Total Bins 476442\n",
      "[LightGBM] [Info] Number of data points in the train set: 107521, number of used features: 8803\n",
      "[LightGBM] [Info] [binary:BoostFromScore]: pavg=0.101608 -> initscore=-2.179484\n",
      "[LightGBM] [Info] Start training from score -2.179484\n",
      "[LightGBM] [Warning] No further splits with positive gain, best gain: -inf\n",
      "[LightGBM] [Warning] No further splits with positive gain, best gain: -inf\n",
      "[LightGBM] [Warning] No further splits with positive gain, best gain: -inf\n",
      "[LightGBM] [Warning] No further splits with positive gain, best gain: -inf\n",
      "[LightGBM] [Warning] No further splits with positive gain, best gain: -inf\n",
      "[LightGBM] [Warning] No further splits with positive gain, best gain: -inf\n",
      "[LightGBM] [Warning] No further splits with positive gain, best gain: -inf\n",
      "[LightGBM] [Warning] No further splits with positive gain, best gain: -inf\n",
      "[LightGBM] [Warning] No further splits with positive gain, best gain: -inf\n",
      "[LightGBM] [Warning] No further splits with positive gain, best gain: -inf\n",
      "[LightGBM] [Warning] No further splits with positive gain, best gain: -inf\n",
      "[LightGBM] [Warning] No further splits with positive gain, best gain: -inf\n",
      "[LightGBM] [Warning] No further splits with positive gain, best gain: -inf\n",
      "[LightGBM] [Warning] No further splits with positive gain, best gain: -inf\n",
      "[LightGBM] [Warning] No further splits with positive gain, best gain: -inf\n",
      "[LightGBM] [Warning] No further splits with positive gain, best gain: -inf\n",
      "[LightGBM] [Warning] No further splits with positive gain, best gain: -inf\n",
      "[LightGBM] [Warning] No further splits with positive gain, best gain: -inf\n",
      "[LightGBM] [Warning] No further splits with positive gain, best gain: -inf\n",
      "[LightGBM] [Warning] No further splits with positive gain, best gain: -inf\n",
      "[LightGBM] [Warning] No further splits with positive gain, best gain: -inf\n",
      "[LightGBM] [Warning] No further splits with positive gain, best gain: -inf\n",
      "[LightGBM] [Warning] No further splits with positive gain, best gain: -inf\n",
      "[LightGBM] [Warning] No further splits with positive gain, best gain: -inf\n",
      "[LightGBM] [Warning] No further splits with positive gain, best gain: -inf\n",
      "[LightGBM] [Warning] No further splits with positive gain, best gain: -inf\n",
      "[LightGBM] [Warning] No further splits with positive gain, best gain: -inf\n",
      "[LightGBM] [Warning] No further splits with positive gain, best gain: -inf\n",
      "[LightGBM] [Warning] No further splits with positive gain, best gain: -inf\n",
      "[LightGBM] [Warning] No further splits with positive gain, best gain: -inf\n",
      "[LightGBM] [Warning] No further splits with positive gain, best gain: -inf\n",
      "[LightGBM] [Warning] No further splits with positive gain, best gain: -inf\n",
      "[LightGBM] [Warning] No further splits with positive gain, best gain: -inf\n",
      "[LightGBM] [Warning] No further splits with positive gain, best gain: -inf\n",
      "[LightGBM] [Warning] No further splits with positive gain, best gain: -inf\n",
      "[LightGBM] [Warning] No further splits with positive gain, best gain: -inf\n",
      "[LightGBM] [Warning] No further splits with positive gain, best gain: -inf\n",
      "[LightGBM] [Warning] No further splits with positive gain, best gain: -inf\n",
      "[LightGBM] [Warning] No further splits with positive gain, best gain: -inf\n",
      "[LightGBM] [Warning] No further splits with positive gain, best gain: -inf\n",
      "[LightGBM] [Warning] No further splits with positive gain, best gain: -inf\n",
      "[LightGBM] [Warning] No further splits with positive gain, best gain: -inf\n",
      "[LightGBM] [Warning] No further splits with positive gain, best gain: -inf\n",
      "[LightGBM] [Warning] No further splits with positive gain, best gain: -inf\n",
      "[LightGBM] [Warning] No further splits with positive gain, best gain: -inf\n",
      "[LightGBM] [Warning] No further splits with positive gain, best gain: -inf\n",
      "[LightGBM] [Warning] No further splits with positive gain, best gain: -inf\n",
      "[LightGBM] [Warning] No further splits with positive gain, best gain: -inf\n",
      "[LightGBM] [Warning] No further splits with positive gain, best gain: -inf\n",
      "[LightGBM] [Warning] No further splits with positive gain, best gain: -inf\n",
      "[LightGBM] [Warning] No further splits with positive gain, best gain: -inf\n",
      "[LightGBM] [Warning] No further splits with positive gain, best gain: -inf\n",
      "[LightGBM] [Warning] No further splits with positive gain, best gain: -inf\n",
      "[LightGBM] [Warning] No further splits with positive gain, best gain: -inf\n",
      "[LightGBM] [Warning] No further splits with positive gain, best gain: -inf\n",
      "[LightGBM] [Warning] No further splits with positive gain, best gain: -inf\n",
      "[LightGBM] [Warning] No further splits with positive gain, best gain: -inf\n",
      "[LightGBM] [Warning] No further splits with positive gain, best gain: -inf\n",
      "[LightGBM] [Warning] No further splits with positive gain, best gain: -inf\n",
      "[LightGBM] [Warning] No further splits with positive gain, best gain: -inf\n",
      "[LightGBM] [Warning] No further splits with positive gain, best gain: -inf\n",
      "[LightGBM] [Warning] No further splits with positive gain, best gain: -inf\n",
      "[LightGBM] [Warning] No further splits with positive gain, best gain: -inf\n",
      "[LightGBM] [Warning] No further splits with positive gain, best gain: -inf\n",
      "[LightGBM] [Warning] No further splits with positive gain, best gain: -inf\n",
      "[LightGBM] [Warning] No further splits with positive gain, best gain: -inf\n",
      "[LightGBM] [Warning] No further splits with positive gain, best gain: -inf\n",
      "[LightGBM] [Warning] No further splits with positive gain, best gain: -inf\n",
      "[LightGBM] [Warning] No further splits with positive gain, best gain: -inf\n",
      "[LightGBM] [Warning] No further splits with positive gain, best gain: -inf\n",
      "[LightGBM] [Warning] No further splits with positive gain, best gain: -inf\n",
      "[LightGBM] [Warning] No further splits with positive gain, best gain: -inf\n",
      "[LightGBM] [Warning] No further splits with positive gain, best gain: -inf\n",
      "[LightGBM] [Warning] No further splits with positive gain, best gain: -inf\n",
      "[LightGBM] [Warning] No further splits with positive gain, best gain: -inf\n",
      "[LightGBM] [Warning] No further splits with positive gain, best gain: -inf\n",
      "[LightGBM] [Warning] No further splits with positive gain, best gain: -inf\n",
      "[LightGBM] [Warning] No further splits with positive gain, best gain: -inf\n",
      "[LightGBM] [Warning] No further splits with positive gain, best gain: -inf\n",
      "[LightGBM] [Warning] No further splits with positive gain, best gain: -inf\n",
      "[LightGBM] [Warning] No further splits with positive gain, best gain: -inf\n",
      "[LightGBM] [Warning] No further splits with positive gain, best gain: -inf\n",
      "[LightGBM] [Warning] No further splits with positive gain, best gain: -inf\n",
      "[LightGBM] [Warning] No further splits with positive gain, best gain: -inf\n",
      "[LightGBM] [Warning] No further splits with positive gain, best gain: -inf\n",
      "0.7435779110906015\n",
      "dpt 3\n",
      "[LightGBM] [Info] Number of positive: 10925, number of negative: 96596\n",
      "[LightGBM] [Info] Auto-choosing col-wise multi-threading, the overhead of testing was 0.946289 seconds.\n",
      "You can set `force_col_wise=true` to remove the overhead.\n",
      "[LightGBM] [Info] Total Bins 476442\n",
      "[LightGBM] [Info] Number of data points in the train set: 107521, number of used features: 8803\n",
      "[LightGBM] [Info] [binary:BoostFromScore]: pavg=0.101608 -> initscore=-2.179484\n",
      "[LightGBM] [Info] Start training from score -2.179484\n",
      "[LightGBM] [Warning] No further splits with positive gain, best gain: -inf\n",
      "[LightGBM] [Warning] No further splits with positive gain, best gain: -inf\n",
      "[LightGBM] [Warning] No further splits with positive gain, best gain: -inf\n",
      "[LightGBM] [Warning] No further splits with positive gain, best gain: -inf\n",
      "[LightGBM] [Warning] No further splits with positive gain, best gain: -inf\n",
      "[LightGBM] [Warning] No further splits with positive gain, best gain: -inf\n",
      "[LightGBM] [Warning] No further splits with positive gain, best gain: -inf\n",
      "[LightGBM] [Warning] No further splits with positive gain, best gain: -inf\n",
      "[LightGBM] [Warning] No further splits with positive gain, best gain: -inf\n",
      "[LightGBM] [Warning] No further splits with positive gain, best gain: -inf\n",
      "[LightGBM] [Warning] No further splits with positive gain, best gain: -inf\n",
      "[LightGBM] [Warning] No further splits with positive gain, best gain: -inf\n",
      "[LightGBM] [Warning] No further splits with positive gain, best gain: -inf\n",
      "[LightGBM] [Warning] No further splits with positive gain, best gain: -inf\n",
      "[LightGBM] [Warning] No further splits with positive gain, best gain: -inf\n",
      "[LightGBM] [Warning] No further splits with positive gain, best gain: -inf\n",
      "[LightGBM] [Warning] No further splits with positive gain, best gain: -inf\n",
      "[LightGBM] [Warning] No further splits with positive gain, best gain: -inf\n",
      "[LightGBM] [Warning] No further splits with positive gain, best gain: -inf\n",
      "[LightGBM] [Warning] No further splits with positive gain, best gain: -inf\n",
      "[LightGBM] [Warning] No further splits with positive gain, best gain: -inf\n",
      "[LightGBM] [Warning] No further splits with positive gain, best gain: -inf\n",
      "[LightGBM] [Warning] No further splits with positive gain, best gain: -inf\n",
      "[LightGBM] [Warning] No further splits with positive gain, best gain: -inf\n",
      "[LightGBM] [Warning] No further splits with positive gain, best gain: -inf\n",
      "[LightGBM] [Warning] No further splits with positive gain, best gain: -inf\n",
      "[LightGBM] [Warning] No further splits with positive gain, best gain: -inf\n",
      "[LightGBM] [Warning] No further splits with positive gain, best gain: -inf\n",
      "[LightGBM] [Warning] No further splits with positive gain, best gain: -inf\n",
      "[LightGBM] [Warning] No further splits with positive gain, best gain: -inf\n",
      "[LightGBM] [Warning] No further splits with positive gain, best gain: -inf\n",
      "[LightGBM] [Warning] No further splits with positive gain, best gain: -inf\n",
      "[LightGBM] [Warning] No further splits with positive gain, best gain: -inf\n",
      "[LightGBM] [Warning] No further splits with positive gain, best gain: -inf\n",
      "[LightGBM] [Warning] No further splits with positive gain, best gain: -inf\n",
      "[LightGBM] [Warning] No further splits with positive gain, best gain: -inf\n",
      "[LightGBM] [Warning] No further splits with positive gain, best gain: -inf\n",
      "[LightGBM] [Warning] No further splits with positive gain, best gain: -inf\n",
      "[LightGBM] [Warning] No further splits with positive gain, best gain: -inf\n",
      "[LightGBM] [Warning] No further splits with positive gain, best gain: -inf\n",
      "[LightGBM] [Warning] No further splits with positive gain, best gain: -inf\n",
      "[LightGBM] [Warning] No further splits with positive gain, best gain: -inf\n",
      "[LightGBM] [Warning] No further splits with positive gain, best gain: -inf\n",
      "[LightGBM] [Warning] No further splits with positive gain, best gain: -inf\n",
      "[LightGBM] [Warning] No further splits with positive gain, best gain: -inf\n",
      "[LightGBM] [Warning] No further splits with positive gain, best gain: -inf\n",
      "[LightGBM] [Warning] No further splits with positive gain, best gain: -inf\n",
      "[LightGBM] [Warning] No further splits with positive gain, best gain: -inf\n",
      "[LightGBM] [Warning] No further splits with positive gain, best gain: -inf\n",
      "[LightGBM] [Warning] No further splits with positive gain, best gain: -inf\n",
      "[LightGBM] [Warning] No further splits with positive gain, best gain: -inf\n",
      "[LightGBM] [Warning] No further splits with positive gain, best gain: -inf\n",
      "[LightGBM] [Warning] No further splits with positive gain, best gain: -inf\n",
      "[LightGBM] [Warning] No further splits with positive gain, best gain: -inf\n",
      "[LightGBM] [Warning] No further splits with positive gain, best gain: -inf\n",
      "[LightGBM] [Warning] No further splits with positive gain, best gain: -inf\n",
      "[LightGBM] [Warning] No further splits with positive gain, best gain: -inf\n",
      "[LightGBM] [Warning] No further splits with positive gain, best gain: -inf\n",
      "[LightGBM] [Warning] No further splits with positive gain, best gain: -inf\n",
      "[LightGBM] [Warning] No further splits with positive gain, best gain: -inf\n",
      "[LightGBM] [Warning] No further splits with positive gain, best gain: -inf\n",
      "[LightGBM] [Warning] No further splits with positive gain, best gain: -inf\n",
      "[LightGBM] [Warning] No further splits with positive gain, best gain: -inf\n",
      "[LightGBM] [Warning] No further splits with positive gain, best gain: -inf\n",
      "[LightGBM] [Warning] No further splits with positive gain, best gain: -inf\n",
      "[LightGBM] [Warning] No further splits with positive gain, best gain: -inf\n",
      "[LightGBM] [Warning] No further splits with positive gain, best gain: -inf\n",
      "[LightGBM] [Warning] No further splits with positive gain, best gain: -inf\n",
      "[LightGBM] [Warning] No further splits with positive gain, best gain: -inf\n",
      "[LightGBM] [Warning] No further splits with positive gain, best gain: -inf\n",
      "[LightGBM] [Warning] No further splits with positive gain, best gain: -inf\n",
      "[LightGBM] [Warning] No further splits with positive gain, best gain: -inf\n",
      "[LightGBM] [Warning] No further splits with positive gain, best gain: -inf\n",
      "[LightGBM] [Warning] No further splits with positive gain, best gain: -inf\n",
      "[LightGBM] [Warning] No further splits with positive gain, best gain: -inf\n",
      "[LightGBM] [Warning] No further splits with positive gain, best gain: -inf\n",
      "[LightGBM] [Warning] No further splits with positive gain, best gain: -inf\n",
      "[LightGBM] [Warning] No further splits with positive gain, best gain: -inf\n",
      "[LightGBM] [Warning] No further splits with positive gain, best gain: -inf\n",
      "[LightGBM] [Warning] No further splits with positive gain, best gain: -inf\n",
      "[LightGBM] [Warning] No further splits with positive gain, best gain: -inf\n",
      "[LightGBM] [Warning] No further splits with positive gain, best gain: -inf\n",
      "[LightGBM] [Warning] No further splits with positive gain, best gain: -inf\n",
      "[LightGBM] [Warning] No further splits with positive gain, best gain: -inf\n",
      "[LightGBM] [Warning] No further splits with positive gain, best gain: -inf\n",
      "[LightGBM] [Warning] No further splits with positive gain, best gain: -inf\n",
      "[LightGBM] [Warning] No further splits with positive gain, best gain: -inf\n",
      "[LightGBM] [Warning] No further splits with positive gain, best gain: -inf\n",
      "[LightGBM] [Warning] No further splits with positive gain, best gain: -inf\n",
      "[LightGBM] [Warning] No further splits with positive gain, best gain: -inf\n",
      "[LightGBM] [Warning] No further splits with positive gain, best gain: -inf\n",
      "[LightGBM] [Warning] No further splits with positive gain, best gain: -inf\n",
      "[LightGBM] [Warning] No further splits with positive gain, best gain: -inf\n",
      "[LightGBM] [Warning] No further splits with positive gain, best gain: -inf\n",
      "[LightGBM] [Warning] No further splits with positive gain, best gain: -inf\n",
      "[LightGBM] [Warning] No further splits with positive gain, best gain: -inf\n",
      "[LightGBM] [Warning] No further splits with positive gain, best gain: -inf\n",
      "[LightGBM] [Warning] No further splits with positive gain, best gain: -inf\n",
      "[LightGBM] [Warning] No further splits with positive gain, best gain: -inf\n",
      "[LightGBM] [Warning] No further splits with positive gain, best gain: -inf\n",
      "0.7503465270291083\n",
      "dpt 4\n",
      "[LightGBM] [Warning] Accuracy may be bad since you didn't explicitly set num_leaves OR 2^max_depth > num_leaves. (num_leaves=31).\n",
      "[LightGBM] [Warning] Accuracy may be bad since you didn't explicitly set num_leaves OR 2^max_depth > num_leaves. (num_leaves=31).\n",
      "[LightGBM] [Info] Number of positive: 10925, number of negative: 96596\n",
      "[LightGBM] [Info] Auto-choosing row-wise multi-threading, the overhead of testing was 0.937813 seconds.\n",
      "You can set `force_row_wise=true` to remove the overhead.\n",
      "And if memory is not enough, you can set `force_col_wise=true`.\n",
      "[LightGBM] [Info] Total Bins 476442\n",
      "[LightGBM] [Info] Number of data points in the train set: 107521, number of used features: 8803\n",
      "[LightGBM] [Info] [binary:BoostFromScore]: pavg=0.101608 -> initscore=-2.179484\n",
      "[LightGBM] [Info] Start training from score -2.179484\n",
      "[LightGBM] [Warning] No further splits with positive gain, best gain: -inf\n",
      "[LightGBM] [Warning] No further splits with positive gain, best gain: -inf\n",
      "[LightGBM] [Warning] No further splits with positive gain, best gain: -inf\n",
      "[LightGBM] [Warning] No further splits with positive gain, best gain: -inf\n",
      "[LightGBM] [Warning] No further splits with positive gain, best gain: -inf\n",
      "[LightGBM] [Warning] No further splits with positive gain, best gain: -inf\n",
      "[LightGBM] [Warning] No further splits with positive gain, best gain: -inf\n",
      "[LightGBM] [Warning] No further splits with positive gain, best gain: -inf\n",
      "[LightGBM] [Warning] No further splits with positive gain, best gain: -inf\n",
      "[LightGBM] [Warning] No further splits with positive gain, best gain: -inf\n",
      "[LightGBM] [Warning] No further splits with positive gain, best gain: -inf\n",
      "[LightGBM] [Warning] No further splits with positive gain, best gain: -inf\n",
      "[LightGBM] [Warning] No further splits with positive gain, best gain: -inf\n",
      "[LightGBM] [Warning] No further splits with positive gain, best gain: -inf\n",
      "[LightGBM] [Warning] No further splits with positive gain, best gain: -inf\n",
      "[LightGBM] [Warning] No further splits with positive gain, best gain: -inf\n",
      "[LightGBM] [Warning] No further splits with positive gain, best gain: -inf\n",
      "[LightGBM] [Warning] No further splits with positive gain, best gain: -inf\n",
      "[LightGBM] [Warning] No further splits with positive gain, best gain: -inf\n",
      "[LightGBM] [Warning] No further splits with positive gain, best gain: -inf\n",
      "[LightGBM] [Warning] No further splits with positive gain, best gain: -inf\n",
      "[LightGBM] [Warning] No further splits with positive gain, best gain: -inf\n",
      "[LightGBM] [Warning] No further splits with positive gain, best gain: -inf\n",
      "[LightGBM] [Warning] No further splits with positive gain, best gain: -inf\n",
      "[LightGBM] [Warning] No further splits with positive gain, best gain: -inf\n",
      "[LightGBM] [Warning] No further splits with positive gain, best gain: -inf\n",
      "[LightGBM] [Warning] No further splits with positive gain, best gain: -inf\n",
      "[LightGBM] [Warning] No further splits with positive gain, best gain: -inf\n",
      "[LightGBM] [Warning] No further splits with positive gain, best gain: -inf\n",
      "[LightGBM] [Warning] No further splits with positive gain, best gain: -inf\n",
      "[LightGBM] [Warning] No further splits with positive gain, best gain: -inf\n",
      "[LightGBM] [Warning] No further splits with positive gain, best gain: -inf\n",
      "[LightGBM] [Warning] No further splits with positive gain, best gain: -inf\n",
      "[LightGBM] [Warning] No further splits with positive gain, best gain: -inf\n",
      "[LightGBM] [Warning] No further splits with positive gain, best gain: -inf\n",
      "[LightGBM] [Warning] No further splits with positive gain, best gain: -inf\n",
      "[LightGBM] [Warning] No further splits with positive gain, best gain: -inf\n",
      "[LightGBM] [Warning] No further splits with positive gain, best gain: -inf\n",
      "[LightGBM] [Warning] No further splits with positive gain, best gain: -inf\n",
      "[LightGBM] [Warning] No further splits with positive gain, best gain: -inf\n",
      "[LightGBM] [Warning] No further splits with positive gain, best gain: -inf\n",
      "[LightGBM] [Warning] No further splits with positive gain, best gain: -inf\n",
      "[LightGBM] [Warning] No further splits with positive gain, best gain: -inf\n",
      "[LightGBM] [Warning] No further splits with positive gain, best gain: -inf\n",
      "[LightGBM] [Warning] No further splits with positive gain, best gain: -inf\n",
      "[LightGBM] [Warning] No further splits with positive gain, best gain: -inf\n",
      "[LightGBM] [Warning] No further splits with positive gain, best gain: -inf\n",
      "[LightGBM] [Warning] No further splits with positive gain, best gain: -inf\n",
      "[LightGBM] [Warning] No further splits with positive gain, best gain: -inf\n",
      "[LightGBM] [Warning] No further splits with positive gain, best gain: -inf\n",
      "[LightGBM] [Warning] No further splits with positive gain, best gain: -inf\n",
      "[LightGBM] [Warning] No further splits with positive gain, best gain: -inf\n",
      "[LightGBM] [Warning] No further splits with positive gain, best gain: -inf\n",
      "[LightGBM] [Warning] No further splits with positive gain, best gain: -inf\n",
      "[LightGBM] [Warning] No further splits with positive gain, best gain: -inf\n",
      "[LightGBM] [Warning] No further splits with positive gain, best gain: -inf\n",
      "[LightGBM] [Warning] No further splits with positive gain, best gain: -inf\n",
      "[LightGBM] [Warning] No further splits with positive gain, best gain: -inf\n",
      "[LightGBM] [Warning] No further splits with positive gain, best gain: -inf\n",
      "[LightGBM] [Warning] No further splits with positive gain, best gain: -inf\n",
      "[LightGBM] [Warning] No further splits with positive gain, best gain: -inf\n",
      "[LightGBM] [Warning] No further splits with positive gain, best gain: -inf\n",
      "[LightGBM] [Warning] No further splits with positive gain, best gain: -inf\n",
      "[LightGBM] [Warning] No further splits with positive gain, best gain: -inf\n",
      "[LightGBM] [Warning] No further splits with positive gain, best gain: -inf\n",
      "[LightGBM] [Warning] No further splits with positive gain, best gain: -inf\n",
      "[LightGBM] [Warning] No further splits with positive gain, best gain: -inf\n",
      "[LightGBM] [Warning] No further splits with positive gain, best gain: -inf\n",
      "[LightGBM] [Warning] No further splits with positive gain, best gain: -inf\n",
      "[LightGBM] [Warning] No further splits with positive gain, best gain: -inf\n",
      "[LightGBM] [Warning] No further splits with positive gain, best gain: -inf\n",
      "[LightGBM] [Warning] No further splits with positive gain, best gain: -inf\n",
      "[LightGBM] [Warning] No further splits with positive gain, best gain: -inf\n",
      "[LightGBM] [Warning] No further splits with positive gain, best gain: -inf\n",
      "[LightGBM] [Warning] No further splits with positive gain, best gain: -inf\n",
      "[LightGBM] [Warning] No further splits with positive gain, best gain: -inf\n",
      "[LightGBM] [Warning] No further splits with positive gain, best gain: -inf\n",
      "[LightGBM] [Warning] No further splits with positive gain, best gain: -inf\n",
      "[LightGBM] [Warning] No further splits with positive gain, best gain: -inf\n",
      "[LightGBM] [Warning] No further splits with positive gain, best gain: -inf\n",
      "[LightGBM] [Warning] No further splits with positive gain, best gain: -inf\n",
      "[LightGBM] [Warning] No further splits with positive gain, best gain: -inf\n",
      "[LightGBM] [Warning] No further splits with positive gain, best gain: -inf\n",
      "[LightGBM] [Warning] No further splits with positive gain, best gain: -inf\n",
      "[LightGBM] [Warning] No further splits with positive gain, best gain: -inf\n",
      "[LightGBM] [Warning] No further splits with positive gain, best gain: -inf\n",
      "[LightGBM] [Warning] No further splits with positive gain, best gain: -inf\n",
      "[LightGBM] [Warning] No further splits with positive gain, best gain: -inf\n",
      "[LightGBM] [Warning] No further splits with positive gain, best gain: -inf\n",
      "[LightGBM] [Warning] No further splits with positive gain, best gain: -inf\n",
      "[LightGBM] [Warning] No further splits with positive gain, best gain: -inf\n",
      "[LightGBM] [Warning] No further splits with positive gain, best gain: -inf\n",
      "[LightGBM] [Warning] No further splits with positive gain, best gain: -inf\n",
      "[LightGBM] [Warning] No further splits with positive gain, best gain: -inf\n",
      "[LightGBM] [Warning] No further splits with positive gain, best gain: -inf\n",
      "[LightGBM] [Warning] No further splits with positive gain, best gain: -inf\n",
      "[LightGBM] [Warning] No further splits with positive gain, best gain: -inf\n",
      "[LightGBM] [Warning] No further splits with positive gain, best gain: -inf\n",
      "[LightGBM] [Warning] No further splits with positive gain, best gain: -inf\n",
      "[LightGBM] [Warning] No further splits with positive gain, best gain: -inf\n",
      "[LightGBM] [Warning] Accuracy may be bad since you didn't explicitly set num_leaves OR 2^max_depth > num_leaves. (num_leaves=31).\n",
      "0.7490441963602997\n",
      "dpt 5\n",
      "[LightGBM] [Warning] Accuracy may be bad since you didn't explicitly set num_leaves OR 2^max_depth > num_leaves. (num_leaves=31).\n",
      "[LightGBM] [Warning] Accuracy may be bad since you didn't explicitly set num_leaves OR 2^max_depth > num_leaves. (num_leaves=31).\n",
      "[LightGBM] [Info] Number of positive: 10925, number of negative: 96596\n",
      "[LightGBM] [Info] Auto-choosing row-wise multi-threading, the overhead of testing was 0.964566 seconds.\n",
      "You can set `force_row_wise=true` to remove the overhead.\n",
      "And if memory is not enough, you can set `force_col_wise=true`.\n",
      "[LightGBM] [Info] Total Bins 476442\n",
      "[LightGBM] [Info] Number of data points in the train set: 107521, number of used features: 8803\n",
      "[LightGBM] [Info] [binary:BoostFromScore]: pavg=0.101608 -> initscore=-2.179484\n",
      "[LightGBM] [Info] Start training from score -2.179484\n",
      "[LightGBM] [Warning] No further splits with positive gain, best gain: -inf\n",
      "[LightGBM] [Warning] No further splits with positive gain, best gain: -inf\n",
      "[LightGBM] [Warning] No further splits with positive gain, best gain: -inf\n",
      "[LightGBM] [Warning] No further splits with positive gain, best gain: -inf\n",
      "[LightGBM] [Warning] No further splits with positive gain, best gain: -inf\n",
      "[LightGBM] [Warning] No further splits with positive gain, best gain: -inf\n",
      "[LightGBM] [Warning] No further splits with positive gain, best gain: -inf\n",
      "[LightGBM] [Warning] No further splits with positive gain, best gain: -inf\n",
      "[LightGBM] [Warning] No further splits with positive gain, best gain: -inf\n",
      "[LightGBM] [Warning] No further splits with positive gain, best gain: -inf\n",
      "[LightGBM] [Warning] No further splits with positive gain, best gain: -inf\n",
      "[LightGBM] [Warning] No further splits with positive gain, best gain: -inf\n",
      "[LightGBM] [Warning] No further splits with positive gain, best gain: -inf\n",
      "[LightGBM] [Warning] No further splits with positive gain, best gain: -inf\n",
      "[LightGBM] [Warning] No further splits with positive gain, best gain: -inf\n",
      "[LightGBM] [Warning] No further splits with positive gain, best gain: -inf\n",
      "[LightGBM] [Warning] No further splits with positive gain, best gain: -inf\n",
      "[LightGBM] [Warning] No further splits with positive gain, best gain: -inf\n",
      "[LightGBM] [Warning] No further splits with positive gain, best gain: -inf\n",
      "[LightGBM] [Warning] No further splits with positive gain, best gain: -inf\n",
      "[LightGBM] [Warning] No further splits with positive gain, best gain: -inf\n",
      "[LightGBM] [Warning] No further splits with positive gain, best gain: -inf\n",
      "[LightGBM] [Warning] No further splits with positive gain, best gain: -inf\n",
      "[LightGBM] [Warning] No further splits with positive gain, best gain: -inf\n",
      "[LightGBM] [Warning] No further splits with positive gain, best gain: -inf\n",
      "[LightGBM] [Warning] No further splits with positive gain, best gain: -inf\n",
      "[LightGBM] [Warning] No further splits with positive gain, best gain: -inf\n",
      "[LightGBM] [Warning] No further splits with positive gain, best gain: -inf\n",
      "[LightGBM] [Warning] No further splits with positive gain, best gain: -inf\n",
      "[LightGBM] [Warning] No further splits with positive gain, best gain: -inf\n",
      "[LightGBM] [Warning] No further splits with positive gain, best gain: -inf\n",
      "[LightGBM] [Warning] No further splits with positive gain, best gain: -inf\n",
      "[LightGBM] [Warning] No further splits with positive gain, best gain: -inf\n",
      "[LightGBM] [Warning] No further splits with positive gain, best gain: -inf\n",
      "[LightGBM] [Warning] No further splits with positive gain, best gain: -inf\n",
      "[LightGBM] [Warning] No further splits with positive gain, best gain: -inf\n",
      "[LightGBM] [Warning] No further splits with positive gain, best gain: -inf\n",
      "[LightGBM] [Warning] No further splits with positive gain, best gain: -inf\n",
      "[LightGBM] [Warning] No further splits with positive gain, best gain: -inf\n",
      "[LightGBM] [Warning] No further splits with positive gain, best gain: -inf\n",
      "[LightGBM] [Warning] No further splits with positive gain, best gain: -inf\n",
      "[LightGBM] [Warning] No further splits with positive gain, best gain: -inf\n",
      "[LightGBM] [Warning] No further splits with positive gain, best gain: -inf\n",
      "[LightGBM] [Warning] No further splits with positive gain, best gain: -inf\n",
      "[LightGBM] [Warning] No further splits with positive gain, best gain: -inf\n",
      "[LightGBM] [Warning] No further splits with positive gain, best gain: -inf\n",
      "[LightGBM] [Warning] No further splits with positive gain, best gain: -inf\n",
      "[LightGBM] [Warning] No further splits with positive gain, best gain: -inf\n",
      "[LightGBM] [Warning] No further splits with positive gain, best gain: -inf\n",
      "[LightGBM] [Warning] No further splits with positive gain, best gain: -inf\n",
      "[LightGBM] [Warning] No further splits with positive gain, best gain: -inf\n",
      "[LightGBM] [Warning] No further splits with positive gain, best gain: -inf\n",
      "[LightGBM] [Warning] No further splits with positive gain, best gain: -inf\n",
      "[LightGBM] [Warning] No further splits with positive gain, best gain: -inf\n",
      "[LightGBM] [Warning] No further splits with positive gain, best gain: -inf\n",
      "[LightGBM] [Warning] No further splits with positive gain, best gain: -inf\n",
      "[LightGBM] [Warning] No further splits with positive gain, best gain: -inf\n",
      "[LightGBM] [Warning] No further splits with positive gain, best gain: -inf\n",
      "[LightGBM] [Warning] No further splits with positive gain, best gain: -inf\n",
      "[LightGBM] [Warning] No further splits with positive gain, best gain: -inf\n",
      "[LightGBM] [Warning] No further splits with positive gain, best gain: -inf\n",
      "[LightGBM] [Warning] No further splits with positive gain, best gain: -inf\n",
      "[LightGBM] [Warning] No further splits with positive gain, best gain: -inf\n",
      "[LightGBM] [Warning] No further splits with positive gain, best gain: -inf\n",
      "[LightGBM] [Warning] No further splits with positive gain, best gain: -inf\n",
      "[LightGBM] [Warning] No further splits with positive gain, best gain: -inf\n",
      "[LightGBM] [Warning] No further splits with positive gain, best gain: -inf\n",
      "[LightGBM] [Warning] No further splits with positive gain, best gain: -inf\n",
      "[LightGBM] [Warning] No further splits with positive gain, best gain: -inf\n",
      "[LightGBM] [Warning] No further splits with positive gain, best gain: -inf\n",
      "[LightGBM] [Warning] No further splits with positive gain, best gain: -inf\n",
      "[LightGBM] [Warning] No further splits with positive gain, best gain: -inf\n",
      "[LightGBM] [Warning] No further splits with positive gain, best gain: -inf\n",
      "[LightGBM] [Warning] No further splits with positive gain, best gain: -inf\n",
      "[LightGBM] [Warning] No further splits with positive gain, best gain: -inf\n",
      "[LightGBM] [Warning] No further splits with positive gain, best gain: -inf\n",
      "[LightGBM] [Warning] No further splits with positive gain, best gain: -inf\n",
      "[LightGBM] [Warning] No further splits with positive gain, best gain: -inf\n",
      "[LightGBM] [Warning] No further splits with positive gain, best gain: -inf\n",
      "[LightGBM] [Warning] No further splits with positive gain, best gain: -inf\n",
      "[LightGBM] [Warning] No further splits with positive gain, best gain: -inf\n",
      "[LightGBM] [Warning] No further splits with positive gain, best gain: -inf\n",
      "[LightGBM] [Warning] No further splits with positive gain, best gain: -inf\n",
      "[LightGBM] [Warning] No further splits with positive gain, best gain: -inf\n",
      "[LightGBM] [Warning] No further splits with positive gain, best gain: -inf\n",
      "[LightGBM] [Warning] No further splits with positive gain, best gain: -inf\n",
      "[LightGBM] [Warning] No further splits with positive gain, best gain: -inf\n",
      "[LightGBM] [Warning] No further splits with positive gain, best gain: -inf\n",
      "[LightGBM] [Warning] No further splits with positive gain, best gain: -inf\n",
      "[LightGBM] [Warning] No further splits with positive gain, best gain: -inf\n",
      "[LightGBM] [Warning] No further splits with positive gain, best gain: -inf\n",
      "[LightGBM] [Warning] No further splits with positive gain, best gain: -inf\n",
      "[LightGBM] [Warning] No further splits with positive gain, best gain: -inf\n",
      "[LightGBM] [Warning] No further splits with positive gain, best gain: -inf\n",
      "[LightGBM] [Warning] No further splits with positive gain, best gain: -inf\n",
      "[LightGBM] [Warning] No further splits with positive gain, best gain: -inf\n",
      "[LightGBM] [Warning] No further splits with positive gain, best gain: -inf\n",
      "[LightGBM] [Warning] Accuracy may be bad since you didn't explicitly set num_leaves OR 2^max_depth > num_leaves. (num_leaves=31).\n",
      "0.7515243902439024\n",
      "dpt 6\n",
      "[LightGBM] [Warning] Accuracy may be bad since you didn't explicitly set num_leaves OR 2^max_depth > num_leaves. (num_leaves=31).\n",
      "[LightGBM] [Warning] Accuracy may be bad since you didn't explicitly set num_leaves OR 2^max_depth > num_leaves. (num_leaves=31).\n",
      "[LightGBM] [Info] Number of positive: 10925, number of negative: 96596\n",
      "[LightGBM] [Info] Auto-choosing col-wise multi-threading, the overhead of testing was 0.957365 seconds.\n",
      "You can set `force_col_wise=true` to remove the overhead.\n",
      "[LightGBM] [Info] Total Bins 476442\n",
      "[LightGBM] [Info] Number of data points in the train set: 107521, number of used features: 8803\n",
      "[LightGBM] [Info] [binary:BoostFromScore]: pavg=0.101608 -> initscore=-2.179484\n",
      "[LightGBM] [Info] Start training from score -2.179484\n",
      "[LightGBM] [Warning] No further splits with positive gain, best gain: -inf\n",
      "[LightGBM] [Warning] No further splits with positive gain, best gain: -inf\n",
      "[LightGBM] [Warning] No further splits with positive gain, best gain: -inf\n",
      "[LightGBM] [Warning] No further splits with positive gain, best gain: -inf\n",
      "[LightGBM] [Warning] No further splits with positive gain, best gain: -inf\n",
      "[LightGBM] [Warning] No further splits with positive gain, best gain: -inf\n",
      "[LightGBM] [Warning] No further splits with positive gain, best gain: -inf\n",
      "[LightGBM] [Warning] No further splits with positive gain, best gain: -inf\n",
      "[LightGBM] [Warning] No further splits with positive gain, best gain: -inf\n",
      "[LightGBM] [Warning] No further splits with positive gain, best gain: -inf\n",
      "[LightGBM] [Warning] No further splits with positive gain, best gain: -inf\n",
      "[LightGBM] [Warning] No further splits with positive gain, best gain: -inf\n",
      "[LightGBM] [Warning] No further splits with positive gain, best gain: -inf\n",
      "[LightGBM] [Warning] No further splits with positive gain, best gain: -inf\n",
      "[LightGBM] [Warning] No further splits with positive gain, best gain: -inf\n",
      "[LightGBM] [Warning] No further splits with positive gain, best gain: -inf\n",
      "[LightGBM] [Warning] No further splits with positive gain, best gain: -inf\n",
      "[LightGBM] [Warning] No further splits with positive gain, best gain: -inf\n",
      "[LightGBM] [Warning] No further splits with positive gain, best gain: -inf\n",
      "[LightGBM] [Warning] No further splits with positive gain, best gain: -inf\n",
      "[LightGBM] [Warning] No further splits with positive gain, best gain: -inf\n",
      "[LightGBM] [Warning] No further splits with positive gain, best gain: -inf\n",
      "[LightGBM] [Warning] No further splits with positive gain, best gain: -inf\n",
      "[LightGBM] [Warning] No further splits with positive gain, best gain: -inf\n",
      "[LightGBM] [Warning] No further splits with positive gain, best gain: -inf\n",
      "[LightGBM] [Warning] No further splits with positive gain, best gain: -inf\n",
      "[LightGBM] [Warning] No further splits with positive gain, best gain: -inf\n",
      "[LightGBM] [Warning] No further splits with positive gain, best gain: -inf\n",
      "[LightGBM] [Warning] No further splits with positive gain, best gain: -inf\n",
      "[LightGBM] [Warning] No further splits with positive gain, best gain: -inf\n",
      "[LightGBM] [Warning] No further splits with positive gain, best gain: -inf\n",
      "[LightGBM] [Warning] No further splits with positive gain, best gain: -inf\n",
      "[LightGBM] [Warning] No further splits with positive gain, best gain: -inf\n",
      "[LightGBM] [Warning] No further splits with positive gain, best gain: -inf\n",
      "[LightGBM] [Warning] No further splits with positive gain, best gain: -inf\n",
      "[LightGBM] [Warning] No further splits with positive gain, best gain: -inf\n",
      "[LightGBM] [Warning] No further splits with positive gain, best gain: -inf\n",
      "[LightGBM] [Warning] No further splits with positive gain, best gain: -inf\n",
      "[LightGBM] [Warning] No further splits with positive gain, best gain: -inf\n",
      "[LightGBM] [Warning] No further splits with positive gain, best gain: -inf\n",
      "[LightGBM] [Warning] No further splits with positive gain, best gain: -inf\n",
      "[LightGBM] [Warning] No further splits with positive gain, best gain: -inf\n",
      "[LightGBM] [Warning] No further splits with positive gain, best gain: -inf\n",
      "[LightGBM] [Warning] No further splits with positive gain, best gain: -inf\n",
      "[LightGBM] [Warning] No further splits with positive gain, best gain: -inf\n",
      "[LightGBM] [Warning] No further splits with positive gain, best gain: -inf\n",
      "[LightGBM] [Warning] No further splits with positive gain, best gain: -inf\n",
      "[LightGBM] [Warning] No further splits with positive gain, best gain: -inf\n",
      "[LightGBM] [Warning] No further splits with positive gain, best gain: -inf\n",
      "[LightGBM] [Warning] No further splits with positive gain, best gain: -inf\n",
      "[LightGBM] [Warning] No further splits with positive gain, best gain: -inf\n",
      "[LightGBM] [Warning] No further splits with positive gain, best gain: -inf\n",
      "[LightGBM] [Warning] No further splits with positive gain, best gain: -inf\n",
      "[LightGBM] [Warning] No further splits with positive gain, best gain: -inf\n",
      "[LightGBM] [Warning] No further splits with positive gain, best gain: -inf\n",
      "[LightGBM] [Warning] No further splits with positive gain, best gain: -inf\n",
      "[LightGBM] [Warning] No further splits with positive gain, best gain: -inf\n",
      "[LightGBM] [Warning] No further splits with positive gain, best gain: -inf\n",
      "[LightGBM] [Warning] No further splits with positive gain, best gain: -inf\n",
      "[LightGBM] [Warning] No further splits with positive gain, best gain: -inf\n",
      "[LightGBM] [Warning] No further splits with positive gain, best gain: -inf\n",
      "[LightGBM] [Warning] No further splits with positive gain, best gain: -inf\n",
      "[LightGBM] [Warning] No further splits with positive gain, best gain: -inf\n",
      "[LightGBM] [Warning] No further splits with positive gain, best gain: -inf\n",
      "[LightGBM] [Warning] No further splits with positive gain, best gain: -inf\n",
      "[LightGBM] [Warning] No further splits with positive gain, best gain: -inf\n",
      "[LightGBM] [Warning] No further splits with positive gain, best gain: -inf\n",
      "[LightGBM] [Warning] No further splits with positive gain, best gain: -inf\n",
      "[LightGBM] [Warning] No further splits with positive gain, best gain: -inf\n",
      "[LightGBM] [Warning] No further splits with positive gain, best gain: -inf\n",
      "[LightGBM] [Warning] No further splits with positive gain, best gain: -inf\n",
      "[LightGBM] [Warning] No further splits with positive gain, best gain: -inf\n",
      "[LightGBM] [Warning] No further splits with positive gain, best gain: -inf\n",
      "[LightGBM] [Warning] No further splits with positive gain, best gain: -inf\n",
      "[LightGBM] [Warning] No further splits with positive gain, best gain: -inf\n",
      "[LightGBM] [Warning] No further splits with positive gain, best gain: -inf\n",
      "[LightGBM] [Warning] No further splits with positive gain, best gain: -inf\n",
      "[LightGBM] [Warning] No further splits with positive gain, best gain: -inf\n",
      "[LightGBM] [Warning] No further splits with positive gain, best gain: -inf\n",
      "[LightGBM] [Warning] No further splits with positive gain, best gain: -inf\n",
      "[LightGBM] [Warning] No further splits with positive gain, best gain: -inf\n",
      "[LightGBM] [Warning] No further splits with positive gain, best gain: -inf\n",
      "[LightGBM] [Warning] No further splits with positive gain, best gain: -inf\n",
      "[LightGBM] [Warning] No further splits with positive gain, best gain: -inf\n",
      "[LightGBM] [Warning] No further splits with positive gain, best gain: -inf\n",
      "[LightGBM] [Warning] No further splits with positive gain, best gain: -inf\n",
      "[LightGBM] [Warning] No further splits with positive gain, best gain: -inf\n",
      "[LightGBM] [Warning] No further splits with positive gain, best gain: -inf\n",
      "[LightGBM] [Warning] No further splits with positive gain, best gain: -inf\n",
      "[LightGBM] [Warning] No further splits with positive gain, best gain: -inf\n",
      "[LightGBM] [Warning] No further splits with positive gain, best gain: -inf\n",
      "[LightGBM] [Warning] No further splits with positive gain, best gain: -inf\n",
      "[LightGBM] [Warning] No further splits with positive gain, best gain: -inf\n",
      "[LightGBM] [Warning] Accuracy may be bad since you didn't explicitly set num_leaves OR 2^max_depth > num_leaves. (num_leaves=31).\n",
      "0.7530883025773982\n",
      "dpt 7\n",
      "[LightGBM] [Warning] Accuracy may be bad since you didn't explicitly set num_leaves OR 2^max_depth > num_leaves. (num_leaves=31).\n",
      "[LightGBM] [Warning] Accuracy may be bad since you didn't explicitly set num_leaves OR 2^max_depth > num_leaves. (num_leaves=31).\n",
      "[LightGBM] [Info] Number of positive: 10925, number of negative: 96596\n",
      "[LightGBM] [Info] Auto-choosing row-wise multi-threading, the overhead of testing was 0.933824 seconds.\n",
      "You can set `force_row_wise=true` to remove the overhead.\n",
      "And if memory is not enough, you can set `force_col_wise=true`.\n",
      "[LightGBM] [Info] Total Bins 476442\n",
      "[LightGBM] [Info] Number of data points in the train set: 107521, number of used features: 8803\n",
      "[LightGBM] [Info] [binary:BoostFromScore]: pavg=0.101608 -> initscore=-2.179484\n",
      "[LightGBM] [Info] Start training from score -2.179484\n",
      "[LightGBM] [Warning] No further splits with positive gain, best gain: -inf\n",
      "[LightGBM] [Warning] No further splits with positive gain, best gain: -inf\n",
      "[LightGBM] [Warning] No further splits with positive gain, best gain: -inf\n",
      "[LightGBM] [Warning] No further splits with positive gain, best gain: -inf\n",
      "[LightGBM] [Warning] No further splits with positive gain, best gain: -inf\n",
      "[LightGBM] [Warning] No further splits with positive gain, best gain: -inf\n",
      "[LightGBM] [Warning] No further splits with positive gain, best gain: -inf\n",
      "[LightGBM] [Warning] No further splits with positive gain, best gain: -inf\n",
      "[LightGBM] [Warning] No further splits with positive gain, best gain: -inf\n",
      "[LightGBM] [Warning] No further splits with positive gain, best gain: -inf\n",
      "[LightGBM] [Warning] No further splits with positive gain, best gain: -inf\n",
      "[LightGBM] [Warning] No further splits with positive gain, best gain: -inf\n",
      "[LightGBM] [Warning] No further splits with positive gain, best gain: -inf\n",
      "[LightGBM] [Warning] No further splits with positive gain, best gain: -inf\n",
      "[LightGBM] [Warning] No further splits with positive gain, best gain: -inf\n",
      "[LightGBM] [Warning] No further splits with positive gain, best gain: -inf\n",
      "[LightGBM] [Warning] No further splits with positive gain, best gain: -inf\n",
      "[LightGBM] [Warning] No further splits with positive gain, best gain: -inf\n",
      "[LightGBM] [Warning] No further splits with positive gain, best gain: -inf\n",
      "[LightGBM] [Warning] No further splits with positive gain, best gain: -inf\n",
      "[LightGBM] [Warning] No further splits with positive gain, best gain: -inf\n",
      "[LightGBM] [Warning] No further splits with positive gain, best gain: -inf\n",
      "[LightGBM] [Warning] No further splits with positive gain, best gain: -inf\n",
      "[LightGBM] [Warning] No further splits with positive gain, best gain: -inf\n",
      "[LightGBM] [Warning] No further splits with positive gain, best gain: -inf\n",
      "[LightGBM] [Warning] No further splits with positive gain, best gain: -inf\n",
      "[LightGBM] [Warning] No further splits with positive gain, best gain: -inf\n",
      "[LightGBM] [Warning] No further splits with positive gain, best gain: -inf\n",
      "[LightGBM] [Warning] No further splits with positive gain, best gain: -inf\n",
      "[LightGBM] [Warning] No further splits with positive gain, best gain: -inf\n",
      "[LightGBM] [Warning] No further splits with positive gain, best gain: -inf\n",
      "[LightGBM] [Warning] No further splits with positive gain, best gain: -inf\n",
      "[LightGBM] [Warning] No further splits with positive gain, best gain: -inf\n",
      "[LightGBM] [Warning] No further splits with positive gain, best gain: -inf\n",
      "[LightGBM] [Warning] No further splits with positive gain, best gain: -inf\n",
      "[LightGBM] [Warning] No further splits with positive gain, best gain: -inf\n",
      "[LightGBM] [Warning] No further splits with positive gain, best gain: -inf\n",
      "[LightGBM] [Warning] No further splits with positive gain, best gain: -inf\n",
      "[LightGBM] [Warning] No further splits with positive gain, best gain: -inf\n",
      "[LightGBM] [Warning] No further splits with positive gain, best gain: -inf\n",
      "[LightGBM] [Warning] No further splits with positive gain, best gain: -inf\n",
      "[LightGBM] [Warning] No further splits with positive gain, best gain: -inf\n",
      "[LightGBM] [Warning] No further splits with positive gain, best gain: -inf\n",
      "[LightGBM] [Warning] No further splits with positive gain, best gain: -inf\n",
      "[LightGBM] [Warning] No further splits with positive gain, best gain: -inf\n",
      "[LightGBM] [Warning] No further splits with positive gain, best gain: -inf\n",
      "[LightGBM] [Warning] No further splits with positive gain, best gain: -inf\n",
      "[LightGBM] [Warning] No further splits with positive gain, best gain: -inf\n",
      "[LightGBM] [Warning] No further splits with positive gain, best gain: -inf\n",
      "[LightGBM] [Warning] No further splits with positive gain, best gain: -inf\n",
      "[LightGBM] [Warning] No further splits with positive gain, best gain: -inf\n",
      "[LightGBM] [Warning] No further splits with positive gain, best gain: -inf\n",
      "[LightGBM] [Warning] No further splits with positive gain, best gain: -inf\n",
      "[LightGBM] [Warning] No further splits with positive gain, best gain: -inf\n",
      "[LightGBM] [Warning] No further splits with positive gain, best gain: -inf\n",
      "[LightGBM] [Warning] No further splits with positive gain, best gain: -inf\n",
      "[LightGBM] [Warning] No further splits with positive gain, best gain: -inf\n",
      "[LightGBM] [Warning] No further splits with positive gain, best gain: -inf\n",
      "[LightGBM] [Warning] No further splits with positive gain, best gain: -inf\n",
      "[LightGBM] [Warning] No further splits with positive gain, best gain: -inf\n",
      "[LightGBM] [Warning] No further splits with positive gain, best gain: -inf\n",
      "[LightGBM] [Warning] No further splits with positive gain, best gain: -inf\n",
      "[LightGBM] [Warning] No further splits with positive gain, best gain: -inf\n",
      "[LightGBM] [Warning] No further splits with positive gain, best gain: -inf\n",
      "[LightGBM] [Warning] Accuracy may be bad since you didn't explicitly set num_leaves OR 2^max_depth > num_leaves. (num_leaves=31).\n",
      "0.7552043762346148\n",
      "dpt 8\n",
      "[LightGBM] [Warning] Accuracy may be bad since you didn't explicitly set num_leaves OR 2^max_depth > num_leaves. (num_leaves=31).\n",
      "[LightGBM] [Warning] Accuracy may be bad since you didn't explicitly set num_leaves OR 2^max_depth > num_leaves. (num_leaves=31).\n",
      "[LightGBM] [Info] Number of positive: 10925, number of negative: 96596\n",
      "[LightGBM] [Info] Auto-choosing row-wise multi-threading, the overhead of testing was 0.925349 seconds.\n",
      "You can set `force_row_wise=true` to remove the overhead.\n",
      "And if memory is not enough, you can set `force_col_wise=true`.\n",
      "[LightGBM] [Info] Total Bins 476442\n",
      "[LightGBM] [Info] Number of data points in the train set: 107521, number of used features: 8803\n",
      "[LightGBM] [Info] [binary:BoostFromScore]: pavg=0.101608 -> initscore=-2.179484\n",
      "[LightGBM] [Info] Start training from score -2.179484\n",
      "[LightGBM] [Warning] No further splits with positive gain, best gain: -inf\n",
      "[LightGBM] [Warning] No further splits with positive gain, best gain: -inf\n",
      "[LightGBM] [Warning] No further splits with positive gain, best gain: -inf\n",
      "[LightGBM] [Warning] No further splits with positive gain, best gain: -inf\n",
      "[LightGBM] [Warning] No further splits with positive gain, best gain: -inf\n",
      "[LightGBM] [Warning] No further splits with positive gain, best gain: -inf\n",
      "[LightGBM] [Warning] No further splits with positive gain, best gain: -inf\n",
      "[LightGBM] [Warning] No further splits with positive gain, best gain: -inf\n",
      "[LightGBM] [Warning] No further splits with positive gain, best gain: -inf\n",
      "[LightGBM] [Warning] No further splits with positive gain, best gain: -inf\n",
      "[LightGBM] [Warning] No further splits with positive gain, best gain: -inf\n",
      "[LightGBM] [Warning] No further splits with positive gain, best gain: -inf\n",
      "[LightGBM] [Warning] No further splits with positive gain, best gain: -inf\n",
      "[LightGBM] [Warning] No further splits with positive gain, best gain: -inf\n",
      "[LightGBM] [Warning] No further splits with positive gain, best gain: -inf\n",
      "[LightGBM] [Warning] No further splits with positive gain, best gain: -inf\n",
      "[LightGBM] [Warning] No further splits with positive gain, best gain: -inf\n",
      "[LightGBM] [Warning] No further splits with positive gain, best gain: -inf\n",
      "[LightGBM] [Warning] No further splits with positive gain, best gain: -inf\n",
      "[LightGBM] [Warning] No further splits with positive gain, best gain: -inf\n",
      "[LightGBM] [Warning] No further splits with positive gain, best gain: -inf\n",
      "[LightGBM] [Warning] No further splits with positive gain, best gain: -inf\n",
      "[LightGBM] [Warning] No further splits with positive gain, best gain: -inf\n",
      "[LightGBM] [Warning] No further splits with positive gain, best gain: -inf\n",
      "[LightGBM] [Warning] No further splits with positive gain, best gain: -inf\n",
      "[LightGBM] [Warning] No further splits with positive gain, best gain: -inf\n",
      "[LightGBM] [Warning] No further splits with positive gain, best gain: -inf\n",
      "[LightGBM] [Warning] No further splits with positive gain, best gain: -inf\n",
      "[LightGBM] [Warning] No further splits with positive gain, best gain: -inf\n",
      "[LightGBM] [Warning] No further splits with positive gain, best gain: -inf\n",
      "[LightGBM] [Warning] No further splits with positive gain, best gain: -inf\n",
      "[LightGBM] [Warning] No further splits with positive gain, best gain: -inf\n",
      "[LightGBM] [Warning] No further splits with positive gain, best gain: -inf\n",
      "[LightGBM] [Warning] No further splits with positive gain, best gain: -inf\n",
      "[LightGBM] [Warning] No further splits with positive gain, best gain: -inf\n",
      "[LightGBM] [Warning] No further splits with positive gain, best gain: -inf\n",
      "[LightGBM] [Warning] No further splits with positive gain, best gain: -inf\n",
      "[LightGBM] [Warning] Accuracy may be bad since you didn't explicitly set num_leaves OR 2^max_depth > num_leaves. (num_leaves=31).\n",
      "0.7540236866079563\n",
      "dpt 9\n",
      "[LightGBM] [Warning] Accuracy may be bad since you didn't explicitly set num_leaves OR 2^max_depth > num_leaves. (num_leaves=31).\n",
      "[LightGBM] [Warning] Accuracy may be bad since you didn't explicitly set num_leaves OR 2^max_depth > num_leaves. (num_leaves=31).\n",
      "[LightGBM] [Info] Number of positive: 10925, number of negative: 96596\n",
      "[LightGBM] [Info] Auto-choosing col-wise multi-threading, the overhead of testing was 0.933279 seconds.\n",
      "You can set `force_col_wise=true` to remove the overhead.\n",
      "[LightGBM] [Info] Total Bins 476442\n",
      "[LightGBM] [Info] Number of data points in the train set: 107521, number of used features: 8803\n",
      "[LightGBM] [Info] [binary:BoostFromScore]: pavg=0.101608 -> initscore=-2.179484\n",
      "[LightGBM] [Info] Start training from score -2.179484\n",
      "[LightGBM] [Warning] No further splits with positive gain, best gain: -inf\n",
      "[LightGBM] [Warning] No further splits with positive gain, best gain: -inf\n",
      "[LightGBM] [Warning] No further splits with positive gain, best gain: -inf\n",
      "[LightGBM] [Warning] No further splits with positive gain, best gain: -inf\n",
      "[LightGBM] [Warning] No further splits with positive gain, best gain: -inf\n",
      "[LightGBM] [Warning] No further splits with positive gain, best gain: -inf\n",
      "[LightGBM] [Warning] No further splits with positive gain, best gain: -inf\n",
      "[LightGBM] [Warning] No further splits with positive gain, best gain: -inf\n",
      "[LightGBM] [Warning] No further splits with positive gain, best gain: -inf\n",
      "[LightGBM] [Warning] No further splits with positive gain, best gain: -inf\n",
      "[LightGBM] [Warning] No further splits with positive gain, best gain: -inf\n",
      "[LightGBM] [Warning] No further splits with positive gain, best gain: -inf\n",
      "[LightGBM] [Warning] No further splits with positive gain, best gain: -inf\n",
      "[LightGBM] [Warning] No further splits with positive gain, best gain: -inf\n",
      "[LightGBM] [Warning] No further splits with positive gain, best gain: -inf\n",
      "[LightGBM] [Warning] No further splits with positive gain, best gain: -inf\n",
      "[LightGBM] [Warning] No further splits with positive gain, best gain: -inf\n",
      "[LightGBM] [Warning] No further splits with positive gain, best gain: -inf\n",
      "[LightGBM] [Warning] No further splits with positive gain, best gain: -inf\n",
      "[LightGBM] [Warning] No further splits with positive gain, best gain: -inf\n",
      "[LightGBM] [Warning] No further splits with positive gain, best gain: -inf\n",
      "[LightGBM] [Warning] No further splits with positive gain, best gain: -inf\n",
      "[LightGBM] [Warning] No further splits with positive gain, best gain: -inf\n",
      "[LightGBM] [Warning] No further splits with positive gain, best gain: -inf\n",
      "[LightGBM] [Warning] Accuracy may be bad since you didn't explicitly set num_leaves OR 2^max_depth > num_leaves. (num_leaves=31).\n",
      "0.7600424435349401\n",
      "dpt 10\n",
      "[LightGBM] [Warning] Accuracy may be bad since you didn't explicitly set num_leaves OR 2^max_depth > num_leaves. (num_leaves=31).\n",
      "[LightGBM] [Warning] Accuracy may be bad since you didn't explicitly set num_leaves OR 2^max_depth > num_leaves. (num_leaves=31).\n",
      "[LightGBM] [Info] Number of positive: 10925, number of negative: 96596\n",
      "[LightGBM] [Info] Auto-choosing row-wise multi-threading, the overhead of testing was 0.943847 seconds.\n",
      "You can set `force_row_wise=true` to remove the overhead.\n",
      "And if memory is not enough, you can set `force_col_wise=true`.\n",
      "[LightGBM] [Info] Total Bins 476442\n",
      "[LightGBM] [Info] Number of data points in the train set: 107521, number of used features: 8803\n",
      "[LightGBM] [Info] [binary:BoostFromScore]: pavg=0.101608 -> initscore=-2.179484\n",
      "[LightGBM] [Info] Start training from score -2.179484\n",
      "[LightGBM] [Warning] No further splits with positive gain, best gain: -inf\n",
      "[LightGBM] [Warning] No further splits with positive gain, best gain: -inf\n",
      "[LightGBM] [Warning] No further splits with positive gain, best gain: -inf\n",
      "[LightGBM] [Warning] No further splits with positive gain, best gain: -inf\n",
      "[LightGBM] [Warning] No further splits with positive gain, best gain: -inf\n",
      "[LightGBM] [Warning] No further splits with positive gain, best gain: -inf\n",
      "[LightGBM] [Warning] No further splits with positive gain, best gain: -inf\n",
      "[LightGBM] [Warning] No further splits with positive gain, best gain: -inf\n",
      "[LightGBM] [Warning] No further splits with positive gain, best gain: -inf\n",
      "[LightGBM] [Warning] No further splits with positive gain, best gain: -inf\n",
      "[LightGBM] [Warning] Accuracy may be bad since you didn't explicitly set num_leaves OR 2^max_depth > num_leaves. (num_leaves=31).\n",
      "0.7558245083207261\n",
      "dpt 11\n",
      "[LightGBM] [Warning] Accuracy may be bad since you didn't explicitly set num_leaves OR 2^max_depth > num_leaves. (num_leaves=31).\n",
      "[LightGBM] [Warning] Accuracy may be bad since you didn't explicitly set num_leaves OR 2^max_depth > num_leaves. (num_leaves=31).\n",
      "[LightGBM] [Info] Number of positive: 10925, number of negative: 96596\n",
      "[LightGBM] [Info] Auto-choosing row-wise multi-threading, the overhead of testing was 0.950635 seconds.\n",
      "You can set `force_row_wise=true` to remove the overhead.\n",
      "And if memory is not enough, you can set `force_col_wise=true`.\n",
      "[LightGBM] [Info] Total Bins 476442\n",
      "[LightGBM] [Info] Number of data points in the train set: 107521, number of used features: 8803\n",
      "[LightGBM] [Info] [binary:BoostFromScore]: pavg=0.101608 -> initscore=-2.179484\n",
      "[LightGBM] [Info] Start training from score -2.179484\n",
      "[LightGBM] [Warning] No further splits with positive gain, best gain: -inf\n",
      "[LightGBM] [Warning] No further splits with positive gain, best gain: -inf\n",
      "[LightGBM] [Warning] No further splits with positive gain, best gain: -inf\n",
      "[LightGBM] [Warning] No further splits with positive gain, best gain: -inf\n",
      "[LightGBM] [Warning] No further splits with positive gain, best gain: -inf\n",
      "[LightGBM] [Warning] No further splits with positive gain, best gain: -inf\n",
      "[LightGBM] [Warning] Accuracy may be bad since you didn't explicitly set num_leaves OR 2^max_depth > num_leaves. (num_leaves=31).\n",
      "0.7589650476622787\n",
      "dpt 12\n"
     ]
    }
   ],
   "source": [
    "for i in range (2,13):\n",
    "    model = LGBMClassifier(max_depth=i, learning_rate=0.5 )\n",
    "    model.fit(tf_idf_train,y_train)\n",
    "    pred = model.predict(tf_idf_valid)\n",
    "    print(f1_score(pred, y_valid))\n",
    "    print('dpt', i)"
   ]
  },
  {
   "cell_type": "code",
   "execution_count": 39,
   "metadata": {},
   "outputs": [
    {
     "name": "stdout",
     "output_type": "stream",
     "text": [
      "[LightGBM] [Info] Number of positive: 10925, number of negative: 96596\n",
      "[LightGBM] [Info] Auto-choosing row-wise multi-threading, the overhead of testing was 0.998139 seconds.\n",
      "You can set `force_row_wise=true` to remove the overhead.\n",
      "And if memory is not enough, you can set `force_col_wise=true`.\n",
      "[LightGBM] [Info] Total Bins 476442\n",
      "[LightGBM] [Info] Number of data points in the train set: 107521, number of used features: 8803\n",
      "[LightGBM] [Info] [binary:BoostFromScore]: pavg=0.101608 -> initscore=-2.179484\n",
      "[LightGBM] [Info] Start training from score -2.179484\n",
      "[LightGBM] [Warning] No further splits with positive gain, best gain: -inf\n",
      "[LightGBM] [Warning] No further splits with positive gain, best gain: -inf\n",
      "[LightGBM] [Warning] No further splits with positive gain, best gain: -inf\n",
      "[LightGBM] [Warning] No further splits with positive gain, best gain: -inf\n",
      "[LightGBM] [Warning] No further splits with positive gain, best gain: -inf\n",
      "[LightGBM] [Warning] No further splits with positive gain, best gain: -inf\n",
      "[LightGBM] [Warning] No further splits with positive gain, best gain: -inf\n",
      "[LightGBM] [Warning] No further splits with positive gain, best gain: -inf\n",
      "[LightGBM] [Warning] No further splits with positive gain, best gain: -inf\n",
      "[LightGBM] [Warning] No further splits with positive gain, best gain: -inf\n",
      "[LightGBM] [Warning] No further splits with positive gain, best gain: -inf\n",
      "[LightGBM] [Warning] No further splits with positive gain, best gain: -inf\n",
      "[LightGBM] [Warning] No further splits with positive gain, best gain: -inf\n",
      "[LightGBM] [Warning] No further splits with positive gain, best gain: -inf\n",
      "[LightGBM] [Warning] No further splits with positive gain, best gain: -inf\n",
      "[LightGBM] [Warning] No further splits with positive gain, best gain: -inf\n",
      "[LightGBM] [Warning] No further splits with positive gain, best gain: -inf\n",
      "[LightGBM] [Warning] No further splits with positive gain, best gain: -inf\n",
      "[LightGBM] [Warning] No further splits with positive gain, best gain: -inf\n",
      "[LightGBM] [Warning] No further splits with positive gain, best gain: -inf\n",
      "[LightGBM] [Warning] No further splits with positive gain, best gain: -inf\n",
      "[LightGBM] [Warning] No further splits with positive gain, best gain: -inf\n",
      "0.5055837563451777\n",
      "lr 0.05\n",
      "[LightGBM] [Info] Number of positive: 10925, number of negative: 96596\n",
      "[LightGBM] [Info] Auto-choosing row-wise multi-threading, the overhead of testing was 0.944638 seconds.\n",
      "You can set `force_row_wise=true` to remove the overhead.\n",
      "And if memory is not enough, you can set `force_col_wise=true`.\n",
      "[LightGBM] [Info] Total Bins 476442\n",
      "[LightGBM] [Info] Number of data points in the train set: 107521, number of used features: 8803\n",
      "[LightGBM] [Info] [binary:BoostFromScore]: pavg=0.101608 -> initscore=-2.179484\n",
      "[LightGBM] [Info] Start training from score -2.179484\n",
      "[LightGBM] [Warning] No further splits with positive gain, best gain: -inf\n",
      "[LightGBM] [Warning] No further splits with positive gain, best gain: -inf\n",
      "[LightGBM] [Warning] No further splits with positive gain, best gain: -inf\n",
      "[LightGBM] [Warning] No further splits with positive gain, best gain: -inf\n",
      "[LightGBM] [Warning] No further splits with positive gain, best gain: -inf\n",
      "[LightGBM] [Warning] No further splits with positive gain, best gain: -inf\n",
      "[LightGBM] [Warning] No further splits with positive gain, best gain: -inf\n",
      "[LightGBM] [Warning] No further splits with positive gain, best gain: -inf\n",
      "[LightGBM] [Warning] No further splits with positive gain, best gain: -inf\n",
      "[LightGBM] [Warning] No further splits with positive gain, best gain: -inf\n",
      "[LightGBM] [Warning] No further splits with positive gain, best gain: -inf\n",
      "[LightGBM] [Warning] No further splits with positive gain, best gain: -inf\n",
      "[LightGBM] [Warning] No further splits with positive gain, best gain: -inf\n",
      "[LightGBM] [Warning] No further splits with positive gain, best gain: -inf\n",
      "[LightGBM] [Warning] No further splits with positive gain, best gain: -inf\n",
      "[LightGBM] [Warning] No further splits with positive gain, best gain: -inf\n",
      "[LightGBM] [Warning] No further splits with positive gain, best gain: -inf\n",
      "[LightGBM] [Warning] No further splits with positive gain, best gain: -inf\n",
      "[LightGBM] [Warning] No further splits with positive gain, best gain: -inf\n",
      "[LightGBM] [Warning] No further splits with positive gain, best gain: -inf\n",
      "[LightGBM] [Warning] No further splits with positive gain, best gain: -inf\n",
      "[LightGBM] [Warning] No further splits with positive gain, best gain: -inf\n",
      "[LightGBM] [Warning] No further splits with positive gain, best gain: -inf\n",
      "[LightGBM] [Warning] No further splits with positive gain, best gain: -inf\n",
      "[LightGBM] [Warning] No further splits with positive gain, best gain: -inf\n",
      "[LightGBM] [Warning] No further splits with positive gain, best gain: -inf\n",
      "[LightGBM] [Warning] No further splits with positive gain, best gain: -inf\n",
      "[LightGBM] [Warning] No further splits with positive gain, best gain: -inf\n",
      "[LightGBM] [Warning] No further splits with positive gain, best gain: -inf\n",
      "[LightGBM] [Warning] No further splits with positive gain, best gain: -inf\n",
      "[LightGBM] [Warning] No further splits with positive gain, best gain: -inf\n",
      "[LightGBM] [Warning] No further splits with positive gain, best gain: -inf\n",
      "[LightGBM] [Warning] No further splits with positive gain, best gain: -inf\n",
      "[LightGBM] [Warning] No further splits with positive gain, best gain: -inf\n",
      "[LightGBM] [Warning] No further splits with positive gain, best gain: -inf\n",
      "[LightGBM] [Warning] No further splits with positive gain, best gain: -inf\n",
      "[LightGBM] [Warning] No further splits with positive gain, best gain: -inf\n",
      "[LightGBM] [Warning] No further splits with positive gain, best gain: -inf\n",
      "[LightGBM] [Warning] No further splits with positive gain, best gain: -inf\n",
      "0.603448275862069\n",
      "lr 0.1\n",
      "[LightGBM] [Info] Number of positive: 10925, number of negative: 96596\n",
      "[LightGBM] [Info] Auto-choosing col-wise multi-threading, the overhead of testing was 1.031695 seconds.\n",
      "You can set `force_col_wise=true` to remove the overhead.\n",
      "[LightGBM] [Info] Total Bins 476442\n",
      "[LightGBM] [Info] Number of data points in the train set: 107521, number of used features: 8803\n",
      "[LightGBM] [Info] [binary:BoostFromScore]: pavg=0.101608 -> initscore=-2.179484\n",
      "[LightGBM] [Info] Start training from score -2.179484\n",
      "[LightGBM] [Warning] No further splits with positive gain, best gain: -inf\n",
      "[LightGBM] [Warning] No further splits with positive gain, best gain: -inf\n",
      "[LightGBM] [Warning] No further splits with positive gain, best gain: -inf\n",
      "[LightGBM] [Warning] No further splits with positive gain, best gain: -inf\n",
      "[LightGBM] [Warning] No further splits with positive gain, best gain: -inf\n",
      "[LightGBM] [Warning] No further splits with positive gain, best gain: -inf\n",
      "[LightGBM] [Warning] No further splits with positive gain, best gain: -inf\n",
      "[LightGBM] [Warning] No further splits with positive gain, best gain: -inf\n",
      "[LightGBM] [Warning] No further splits with positive gain, best gain: -inf\n",
      "[LightGBM] [Warning] No further splits with positive gain, best gain: -inf\n",
      "[LightGBM] [Warning] No further splits with positive gain, best gain: -inf\n",
      "[LightGBM] [Warning] No further splits with positive gain, best gain: -inf\n",
      "[LightGBM] [Warning] No further splits with positive gain, best gain: -inf\n",
      "[LightGBM] [Warning] No further splits with positive gain, best gain: -inf\n",
      "[LightGBM] [Warning] No further splits with positive gain, best gain: -inf\n",
      "[LightGBM] [Warning] No further splits with positive gain, best gain: -inf\n",
      "[LightGBM] [Warning] No further splits with positive gain, best gain: -inf\n",
      "[LightGBM] [Warning] No further splits with positive gain, best gain: -inf\n",
      "[LightGBM] [Warning] No further splits with positive gain, best gain: -inf\n",
      "[LightGBM] [Warning] No further splits with positive gain, best gain: -inf\n",
      "[LightGBM] [Warning] No further splits with positive gain, best gain: -inf\n",
      "[LightGBM] [Warning] No further splits with positive gain, best gain: -inf\n",
      "[LightGBM] [Warning] No further splits with positive gain, best gain: -inf\n",
      "[LightGBM] [Warning] No further splits with positive gain, best gain: -inf\n",
      "[LightGBM] [Warning] No further splits with positive gain, best gain: -inf\n",
      "[LightGBM] [Warning] No further splits with positive gain, best gain: -inf\n",
      "[LightGBM] [Warning] No further splits with positive gain, best gain: -inf\n",
      "[LightGBM] [Warning] No further splits with positive gain, best gain: -inf\n",
      "[LightGBM] [Warning] No further splits with positive gain, best gain: -inf\n",
      "[LightGBM] [Warning] No further splits with positive gain, best gain: -inf\n",
      "[LightGBM] [Warning] No further splits with positive gain, best gain: -inf\n",
      "[LightGBM] [Warning] No further splits with positive gain, best gain: -inf\n",
      "[LightGBM] [Warning] No further splits with positive gain, best gain: -inf\n",
      "[LightGBM] [Warning] No further splits with positive gain, best gain: -inf\n",
      "[LightGBM] [Warning] No further splits with positive gain, best gain: -inf\n",
      "[LightGBM] [Warning] No further splits with positive gain, best gain: -inf\n",
      "[LightGBM] [Warning] No further splits with positive gain, best gain: -inf\n",
      "[LightGBM] [Warning] No further splits with positive gain, best gain: -inf\n",
      "[LightGBM] [Warning] No further splits with positive gain, best gain: -inf\n",
      "[LightGBM] [Warning] No further splits with positive gain, best gain: -inf\n",
      "[LightGBM] [Warning] No further splits with positive gain, best gain: -inf\n",
      "[LightGBM] [Warning] No further splits with positive gain, best gain: -inf\n",
      "[LightGBM] [Warning] No further splits with positive gain, best gain: -inf\n",
      "[LightGBM] [Warning] No further splits with positive gain, best gain: -inf\n",
      "[LightGBM] [Warning] No further splits with positive gain, best gain: -inf\n",
      "[LightGBM] [Warning] No further splits with positive gain, best gain: -inf\n",
      "[LightGBM] [Warning] No further splits with positive gain, best gain: -inf\n",
      "0.637718023255814\n",
      "lr 0.15\n",
      "[LightGBM] [Info] Number of positive: 10925, number of negative: 96596\n",
      "[LightGBM] [Info] Auto-choosing row-wise multi-threading, the overhead of testing was 0.989305 seconds.\n",
      "You can set `force_row_wise=true` to remove the overhead.\n",
      "And if memory is not enough, you can set `force_col_wise=true`.\n",
      "[LightGBM] [Info] Total Bins 476442\n",
      "[LightGBM] [Info] Number of data points in the train set: 107521, number of used features: 8803\n",
      "[LightGBM] [Info] [binary:BoostFromScore]: pavg=0.101608 -> initscore=-2.179484\n",
      "[LightGBM] [Info] Start training from score -2.179484\n",
      "[LightGBM] [Warning] No further splits with positive gain, best gain: -inf\n",
      "[LightGBM] [Warning] No further splits with positive gain, best gain: -inf\n",
      "[LightGBM] [Warning] No further splits with positive gain, best gain: -inf\n",
      "[LightGBM] [Warning] No further splits with positive gain, best gain: -inf\n",
      "[LightGBM] [Warning] No further splits with positive gain, best gain: -inf\n",
      "[LightGBM] [Warning] No further splits with positive gain, best gain: -inf\n",
      "[LightGBM] [Warning] No further splits with positive gain, best gain: -inf\n",
      "[LightGBM] [Warning] No further splits with positive gain, best gain: -inf\n",
      "[LightGBM] [Warning] No further splits with positive gain, best gain: -inf\n",
      "[LightGBM] [Warning] No further splits with positive gain, best gain: -inf\n",
      "[LightGBM] [Warning] No further splits with positive gain, best gain: -inf\n",
      "[LightGBM] [Warning] No further splits with positive gain, best gain: -inf\n",
      "[LightGBM] [Warning] No further splits with positive gain, best gain: -inf\n",
      "[LightGBM] [Warning] No further splits with positive gain, best gain: -inf\n",
      "[LightGBM] [Warning] No further splits with positive gain, best gain: -inf\n",
      "[LightGBM] [Warning] No further splits with positive gain, best gain: -inf\n",
      "[LightGBM] [Warning] No further splits with positive gain, best gain: -inf\n",
      "[LightGBM] [Warning] No further splits with positive gain, best gain: -inf\n",
      "[LightGBM] [Warning] No further splits with positive gain, best gain: -inf\n",
      "[LightGBM] [Warning] No further splits with positive gain, best gain: -inf\n",
      "[LightGBM] [Warning] No further splits with positive gain, best gain: -inf\n",
      "[LightGBM] [Warning] No further splits with positive gain, best gain: -inf\n",
      "[LightGBM] [Warning] No further splits with positive gain, best gain: -inf\n",
      "[LightGBM] [Warning] No further splits with positive gain, best gain: -inf\n",
      "[LightGBM] [Warning] No further splits with positive gain, best gain: -inf\n",
      "[LightGBM] [Warning] No further splits with positive gain, best gain: -inf\n",
      "[LightGBM] [Warning] No further splits with positive gain, best gain: -inf\n",
      "[LightGBM] [Warning] No further splits with positive gain, best gain: -inf\n",
      "[LightGBM] [Warning] No further splits with positive gain, best gain: -inf\n",
      "[LightGBM] [Warning] No further splits with positive gain, best gain: -inf\n",
      "[LightGBM] [Warning] No further splits with positive gain, best gain: -inf\n",
      "[LightGBM] [Warning] No further splits with positive gain, best gain: -inf\n",
      "[LightGBM] [Warning] No further splits with positive gain, best gain: -inf\n",
      "[LightGBM] [Warning] No further splits with positive gain, best gain: -inf\n",
      "[LightGBM] [Warning] No further splits with positive gain, best gain: -inf\n",
      "[LightGBM] [Warning] No further splits with positive gain, best gain: -inf\n",
      "[LightGBM] [Warning] No further splits with positive gain, best gain: -inf\n",
      "[LightGBM] [Warning] No further splits with positive gain, best gain: -inf\n",
      "[LightGBM] [Warning] No further splits with positive gain, best gain: -inf\n",
      "[LightGBM] [Warning] No further splits with positive gain, best gain: -inf\n",
      "[LightGBM] [Warning] No further splits with positive gain, best gain: -inf\n",
      "[LightGBM] [Warning] No further splits with positive gain, best gain: -inf\n",
      "[LightGBM] [Warning] No further splits with positive gain, best gain: -inf\n",
      "[LightGBM] [Warning] No further splits with positive gain, best gain: -inf\n",
      "[LightGBM] [Warning] No further splits with positive gain, best gain: -inf\n",
      "[LightGBM] [Warning] No further splits with positive gain, best gain: -inf\n",
      "[LightGBM] [Warning] No further splits with positive gain, best gain: -inf\n",
      "[LightGBM] [Warning] No further splits with positive gain, best gain: -inf\n",
      "[LightGBM] [Warning] No further splits with positive gain, best gain: -inf\n",
      "[LightGBM] [Warning] No further splits with positive gain, best gain: -inf\n",
      "[LightGBM] [Warning] No further splits with positive gain, best gain: -inf\n",
      "[LightGBM] [Warning] No further splits with positive gain, best gain: -inf\n",
      "[LightGBM] [Warning] No further splits with positive gain, best gain: -inf\n",
      "[LightGBM] [Warning] No further splits with positive gain, best gain: -inf\n",
      "[LightGBM] [Warning] No further splits with positive gain, best gain: -inf\n",
      "[LightGBM] [Warning] No further splits with positive gain, best gain: -inf\n",
      "[LightGBM] [Warning] No further splits with positive gain, best gain: -inf\n",
      "[LightGBM] [Warning] No further splits with positive gain, best gain: -inf\n",
      "[LightGBM] [Warning] No further splits with positive gain, best gain: -inf\n",
      "[LightGBM] [Warning] No further splits with positive gain, best gain: -inf\n",
      "[LightGBM] [Warning] No further splits with positive gain, best gain: -inf\n",
      "[LightGBM] [Warning] No further splits with positive gain, best gain: -inf\n",
      "[LightGBM] [Warning] No further splits with positive gain, best gain: -inf\n",
      "[LightGBM] [Warning] No further splits with positive gain, best gain: -inf\n",
      "[LightGBM] [Warning] No further splits with positive gain, best gain: -inf\n",
      "[LightGBM] [Warning] No further splits with positive gain, best gain: -inf\n",
      "[LightGBM] [Warning] No further splits with positive gain, best gain: -inf\n",
      "0.6671363156040859\n",
      "lr 0.2\n",
      "[LightGBM] [Info] Number of positive: 10925, number of negative: 96596\n",
      "[LightGBM] [Info] Auto-choosing row-wise multi-threading, the overhead of testing was 1.035908 seconds.\n",
      "You can set `force_row_wise=true` to remove the overhead.\n",
      "And if memory is not enough, you can set `force_col_wise=true`.\n",
      "[LightGBM] [Info] Total Bins 476442\n",
      "[LightGBM] [Info] Number of data points in the train set: 107521, number of used features: 8803\n",
      "[LightGBM] [Info] [binary:BoostFromScore]: pavg=0.101608 -> initscore=-2.179484\n",
      "[LightGBM] [Info] Start training from score -2.179484\n",
      "[LightGBM] [Warning] No further splits with positive gain, best gain: -inf\n",
      "[LightGBM] [Warning] No further splits with positive gain, best gain: -inf\n",
      "[LightGBM] [Warning] No further splits with positive gain, best gain: -inf\n",
      "[LightGBM] [Warning] No further splits with positive gain, best gain: -inf\n",
      "[LightGBM] [Warning] No further splits with positive gain, best gain: -inf\n",
      "[LightGBM] [Warning] No further splits with positive gain, best gain: -inf\n",
      "[LightGBM] [Warning] No further splits with positive gain, best gain: -inf\n",
      "[LightGBM] [Warning] No further splits with positive gain, best gain: -inf\n",
      "[LightGBM] [Warning] No further splits with positive gain, best gain: -inf\n",
      "[LightGBM] [Warning] No further splits with positive gain, best gain: -inf\n",
      "[LightGBM] [Warning] No further splits with positive gain, best gain: -inf\n",
      "[LightGBM] [Warning] No further splits with positive gain, best gain: -inf\n",
      "[LightGBM] [Warning] No further splits with positive gain, best gain: -inf\n",
      "[LightGBM] [Warning] No further splits with positive gain, best gain: -inf\n",
      "[LightGBM] [Warning] No further splits with positive gain, best gain: -inf\n",
      "[LightGBM] [Warning] No further splits with positive gain, best gain: -inf\n",
      "[LightGBM] [Warning] No further splits with positive gain, best gain: -inf\n",
      "[LightGBM] [Warning] No further splits with positive gain, best gain: -inf\n",
      "[LightGBM] [Warning] No further splits with positive gain, best gain: -inf\n",
      "[LightGBM] [Warning] No further splits with positive gain, best gain: -inf\n",
      "[LightGBM] [Warning] No further splits with positive gain, best gain: -inf\n",
      "[LightGBM] [Warning] No further splits with positive gain, best gain: -inf\n",
      "[LightGBM] [Warning] No further splits with positive gain, best gain: -inf\n",
      "[LightGBM] [Warning] No further splits with positive gain, best gain: -inf\n",
      "[LightGBM] [Warning] No further splits with positive gain, best gain: -inf\n",
      "[LightGBM] [Warning] No further splits with positive gain, best gain: -inf\n",
      "[LightGBM] [Warning] No further splits with positive gain, best gain: -inf\n",
      "[LightGBM] [Warning] No further splits with positive gain, best gain: -inf\n",
      "[LightGBM] [Warning] No further splits with positive gain, best gain: -inf\n",
      "[LightGBM] [Warning] No further splits with positive gain, best gain: -inf\n",
      "[LightGBM] [Warning] No further splits with positive gain, best gain: -inf\n",
      "[LightGBM] [Warning] No further splits with positive gain, best gain: -inf\n",
      "[LightGBM] [Warning] No further splits with positive gain, best gain: -inf\n",
      "[LightGBM] [Warning] No further splits with positive gain, best gain: -inf\n",
      "[LightGBM] [Warning] No further splits with positive gain, best gain: -inf\n",
      "[LightGBM] [Warning] No further splits with positive gain, best gain: -inf\n",
      "[LightGBM] [Warning] No further splits with positive gain, best gain: -inf\n",
      "[LightGBM] [Warning] No further splits with positive gain, best gain: -inf\n",
      "[LightGBM] [Warning] No further splits with positive gain, best gain: -inf\n",
      "[LightGBM] [Warning] No further splits with positive gain, best gain: -inf\n",
      "[LightGBM] [Warning] No further splits with positive gain, best gain: -inf\n",
      "[LightGBM] [Warning] No further splits with positive gain, best gain: -inf\n",
      "[LightGBM] [Warning] No further splits with positive gain, best gain: -inf\n",
      "[LightGBM] [Warning] No further splits with positive gain, best gain: -inf\n",
      "[LightGBM] [Warning] No further splits with positive gain, best gain: -inf\n",
      "[LightGBM] [Warning] No further splits with positive gain, best gain: -inf\n",
      "[LightGBM] [Warning] No further splits with positive gain, best gain: -inf\n",
      "[LightGBM] [Warning] No further splits with positive gain, best gain: -inf\n",
      "[LightGBM] [Warning] No further splits with positive gain, best gain: -inf\n",
      "[LightGBM] [Warning] No further splits with positive gain, best gain: -inf\n",
      "[LightGBM] [Warning] No further splits with positive gain, best gain: -inf\n",
      "[LightGBM] [Warning] No further splits with positive gain, best gain: -inf\n",
      "[LightGBM] [Warning] No further splits with positive gain, best gain: -inf\n",
      "[LightGBM] [Warning] No further splits with positive gain, best gain: -inf\n",
      "[LightGBM] [Warning] No further splits with positive gain, best gain: -inf\n",
      "[LightGBM] [Warning] No further splits with positive gain, best gain: -inf\n",
      "[LightGBM] [Warning] No further splits with positive gain, best gain: -inf\n",
      "[LightGBM] [Warning] No further splits with positive gain, best gain: -inf\n",
      "[LightGBM] [Warning] No further splits with positive gain, best gain: -inf\n",
      "[LightGBM] [Warning] No further splits with positive gain, best gain: -inf\n",
      "[LightGBM] [Warning] No further splits with positive gain, best gain: -inf\n",
      "[LightGBM] [Warning] No further splits with positive gain, best gain: -inf\n",
      "[LightGBM] [Warning] No further splits with positive gain, best gain: -inf\n",
      "[LightGBM] [Warning] No further splits with positive gain, best gain: -inf\n",
      "[LightGBM] [Warning] No further splits with positive gain, best gain: -inf\n",
      "0.6942006539321975\n",
      "lr 0.25\n",
      "[LightGBM] [Info] Number of positive: 10925, number of negative: 96596\n",
      "[LightGBM] [Info] Auto-choosing row-wise multi-threading, the overhead of testing was 0.956759 seconds.\n",
      "You can set `force_row_wise=true` to remove the overhead.\n",
      "And if memory is not enough, you can set `force_col_wise=true`.\n",
      "[LightGBM] [Info] Total Bins 476442\n",
      "[LightGBM] [Info] Number of data points in the train set: 107521, number of used features: 8803\n",
      "[LightGBM] [Info] [binary:BoostFromScore]: pavg=0.101608 -> initscore=-2.179484\n",
      "[LightGBM] [Info] Start training from score -2.179484\n",
      "[LightGBM] [Warning] No further splits with positive gain, best gain: -inf\n",
      "[LightGBM] [Warning] No further splits with positive gain, best gain: -inf\n",
      "[LightGBM] [Warning] No further splits with positive gain, best gain: -inf\n",
      "[LightGBM] [Warning] No further splits with positive gain, best gain: -inf\n",
      "[LightGBM] [Warning] No further splits with positive gain, best gain: -inf\n",
      "[LightGBM] [Warning] No further splits with positive gain, best gain: -inf\n",
      "[LightGBM] [Warning] No further splits with positive gain, best gain: -inf\n",
      "[LightGBM] [Warning] No further splits with positive gain, best gain: -inf\n",
      "[LightGBM] [Warning] No further splits with positive gain, best gain: -inf\n",
      "[LightGBM] [Warning] No further splits with positive gain, best gain: -inf\n",
      "[LightGBM] [Warning] No further splits with positive gain, best gain: -inf\n",
      "[LightGBM] [Warning] No further splits with positive gain, best gain: -inf\n",
      "[LightGBM] [Warning] No further splits with positive gain, best gain: -inf\n",
      "[LightGBM] [Warning] No further splits with positive gain, best gain: -inf\n",
      "[LightGBM] [Warning] No further splits with positive gain, best gain: -inf\n",
      "[LightGBM] [Warning] No further splits with positive gain, best gain: -inf\n",
      "[LightGBM] [Warning] No further splits with positive gain, best gain: -inf\n",
      "[LightGBM] [Warning] No further splits with positive gain, best gain: -inf\n",
      "[LightGBM] [Warning] No further splits with positive gain, best gain: -inf\n",
      "[LightGBM] [Warning] No further splits with positive gain, best gain: -inf\n",
      "[LightGBM] [Warning] No further splits with positive gain, best gain: -inf\n",
      "[LightGBM] [Warning] No further splits with positive gain, best gain: -inf\n",
      "[LightGBM] [Warning] No further splits with positive gain, best gain: -inf\n",
      "[LightGBM] [Warning] No further splits with positive gain, best gain: -inf\n",
      "[LightGBM] [Warning] No further splits with positive gain, best gain: -inf\n",
      "[LightGBM] [Warning] No further splits with positive gain, best gain: -inf\n",
      "[LightGBM] [Warning] No further splits with positive gain, best gain: -inf\n",
      "[LightGBM] [Warning] No further splits with positive gain, best gain: -inf\n",
      "[LightGBM] [Warning] No further splits with positive gain, best gain: -inf\n",
      "[LightGBM] [Warning] No further splits with positive gain, best gain: -inf\n",
      "[LightGBM] [Warning] No further splits with positive gain, best gain: -inf\n",
      "[LightGBM] [Warning] No further splits with positive gain, best gain: -inf\n",
      "[LightGBM] [Warning] No further splits with positive gain, best gain: -inf\n",
      "[LightGBM] [Warning] No further splits with positive gain, best gain: -inf\n",
      "[LightGBM] [Warning] No further splits with positive gain, best gain: -inf\n",
      "[LightGBM] [Warning] No further splits with positive gain, best gain: -inf\n",
      "[LightGBM] [Warning] No further splits with positive gain, best gain: -inf\n",
      "[LightGBM] [Warning] No further splits with positive gain, best gain: -inf\n",
      "[LightGBM] [Warning] No further splits with positive gain, best gain: -inf\n",
      "[LightGBM] [Warning] No further splits with positive gain, best gain: -inf\n",
      "[LightGBM] [Warning] No further splits with positive gain, best gain: -inf\n",
      "[LightGBM] [Warning] No further splits with positive gain, best gain: -inf\n",
      "[LightGBM] [Warning] No further splits with positive gain, best gain: -inf\n",
      "[LightGBM] [Warning] No further splits with positive gain, best gain: -inf\n",
      "[LightGBM] [Warning] No further splits with positive gain, best gain: -inf\n",
      "[LightGBM] [Warning] No further splits with positive gain, best gain: -inf\n",
      "[LightGBM] [Warning] No further splits with positive gain, best gain: -inf\n",
      "[LightGBM] [Warning] No further splits with positive gain, best gain: -inf\n",
      "[LightGBM] [Warning] No further splits with positive gain, best gain: -inf\n",
      "[LightGBM] [Warning] No further splits with positive gain, best gain: -inf\n",
      "[LightGBM] [Warning] No further splits with positive gain, best gain: -inf\n",
      "[LightGBM] [Warning] No further splits with positive gain, best gain: -inf\n",
      "[LightGBM] [Warning] No further splits with positive gain, best gain: -inf\n",
      "[LightGBM] [Warning] No further splits with positive gain, best gain: -inf\n",
      "[LightGBM] [Warning] No further splits with positive gain, best gain: -inf\n",
      "[LightGBM] [Warning] No further splits with positive gain, best gain: -inf\n",
      "[LightGBM] [Warning] No further splits with positive gain, best gain: -inf\n",
      "[LightGBM] [Warning] No further splits with positive gain, best gain: -inf\n",
      "[LightGBM] [Warning] No further splits with positive gain, best gain: -inf\n",
      "[LightGBM] [Warning] No further splits with positive gain, best gain: -inf\n",
      "[LightGBM] [Warning] No further splits with positive gain, best gain: -inf\n",
      "[LightGBM] [Warning] No further splits with positive gain, best gain: -inf\n",
      "[LightGBM] [Warning] No further splits with positive gain, best gain: -inf\n",
      "[LightGBM] [Warning] No further splits with positive gain, best gain: -inf\n",
      "[LightGBM] [Warning] No further splits with positive gain, best gain: -inf\n",
      "[LightGBM] [Warning] No further splits with positive gain, best gain: -inf\n",
      "[LightGBM] [Warning] No further splits with positive gain, best gain: -inf\n",
      "[LightGBM] [Warning] No further splits with positive gain, best gain: -inf\n",
      "[LightGBM] [Warning] No further splits with positive gain, best gain: -inf\n",
      "[LightGBM] [Warning] No further splits with positive gain, best gain: -inf\n",
      "0.7096338788594567\n",
      "lr 0.3\n",
      "[LightGBM] [Info] Number of positive: 10925, number of negative: 96596\n",
      "[LightGBM] [Info] Auto-choosing row-wise multi-threading, the overhead of testing was 1.055749 seconds.\n",
      "You can set `force_row_wise=true` to remove the overhead.\n",
      "And if memory is not enough, you can set `force_col_wise=true`.\n",
      "[LightGBM] [Info] Total Bins 476442\n",
      "[LightGBM] [Info] Number of data points in the train set: 107521, number of used features: 8803\n",
      "[LightGBM] [Info] [binary:BoostFromScore]: pavg=0.101608 -> initscore=-2.179484\n",
      "[LightGBM] [Info] Start training from score -2.179484\n",
      "[LightGBM] [Warning] No further splits with positive gain, best gain: -inf\n",
      "[LightGBM] [Warning] No further splits with positive gain, best gain: -inf\n",
      "[LightGBM] [Warning] No further splits with positive gain, best gain: -inf\n",
      "[LightGBM] [Warning] No further splits with positive gain, best gain: -inf\n",
      "[LightGBM] [Warning] No further splits with positive gain, best gain: -inf\n",
      "[LightGBM] [Warning] No further splits with positive gain, best gain: -inf\n",
      "[LightGBM] [Warning] No further splits with positive gain, best gain: -inf\n",
      "[LightGBM] [Warning] No further splits with positive gain, best gain: -inf\n",
      "[LightGBM] [Warning] No further splits with positive gain, best gain: -inf\n",
      "[LightGBM] [Warning] No further splits with positive gain, best gain: -inf\n",
      "[LightGBM] [Warning] No further splits with positive gain, best gain: -inf\n",
      "[LightGBM] [Warning] No further splits with positive gain, best gain: -inf\n",
      "[LightGBM] [Warning] No further splits with positive gain, best gain: -inf\n",
      "[LightGBM] [Warning] No further splits with positive gain, best gain: -inf\n",
      "[LightGBM] [Warning] No further splits with positive gain, best gain: -inf\n",
      "[LightGBM] [Warning] No further splits with positive gain, best gain: -inf\n",
      "[LightGBM] [Warning] No further splits with positive gain, best gain: -inf\n",
      "[LightGBM] [Warning] No further splits with positive gain, best gain: -inf\n",
      "[LightGBM] [Warning] No further splits with positive gain, best gain: -inf\n",
      "[LightGBM] [Warning] No further splits with positive gain, best gain: -inf\n",
      "[LightGBM] [Warning] No further splits with positive gain, best gain: -inf\n",
      "[LightGBM] [Warning] No further splits with positive gain, best gain: -inf\n",
      "[LightGBM] [Warning] No further splits with positive gain, best gain: -inf\n",
      "[LightGBM] [Warning] No further splits with positive gain, best gain: -inf\n",
      "[LightGBM] [Warning] No further splits with positive gain, best gain: -inf\n",
      "[LightGBM] [Warning] No further splits with positive gain, best gain: -inf\n",
      "[LightGBM] [Warning] No further splits with positive gain, best gain: -inf\n",
      "[LightGBM] [Warning] No further splits with positive gain, best gain: -inf\n",
      "[LightGBM] [Warning] No further splits with positive gain, best gain: -inf\n",
      "[LightGBM] [Warning] No further splits with positive gain, best gain: -inf\n",
      "[LightGBM] [Warning] No further splits with positive gain, best gain: -inf\n",
      "[LightGBM] [Warning] No further splits with positive gain, best gain: -inf\n",
      "[LightGBM] [Warning] No further splits with positive gain, best gain: -inf\n",
      "[LightGBM] [Warning] No further splits with positive gain, best gain: -inf\n",
      "[LightGBM] [Warning] No further splits with positive gain, best gain: -inf\n",
      "[LightGBM] [Warning] No further splits with positive gain, best gain: -inf\n",
      "[LightGBM] [Warning] No further splits with positive gain, best gain: -inf\n",
      "[LightGBM] [Warning] No further splits with positive gain, best gain: -inf\n",
      "[LightGBM] [Warning] No further splits with positive gain, best gain: -inf\n",
      "[LightGBM] [Warning] No further splits with positive gain, best gain: -inf\n",
      "[LightGBM] [Warning] No further splits with positive gain, best gain: -inf\n",
      "[LightGBM] [Warning] No further splits with positive gain, best gain: -inf\n",
      "[LightGBM] [Warning] No further splits with positive gain, best gain: -inf\n",
      "[LightGBM] [Warning] No further splits with positive gain, best gain: -inf\n",
      "[LightGBM] [Warning] No further splits with positive gain, best gain: -inf\n",
      "[LightGBM] [Warning] No further splits with positive gain, best gain: -inf\n",
      "[LightGBM] [Warning] No further splits with positive gain, best gain: -inf\n",
      "[LightGBM] [Warning] No further splits with positive gain, best gain: -inf\n",
      "[LightGBM] [Warning] No further splits with positive gain, best gain: -inf\n",
      "[LightGBM] [Warning] No further splits with positive gain, best gain: -inf\n",
      "[LightGBM] [Warning] No further splits with positive gain, best gain: -inf\n",
      "[LightGBM] [Warning] No further splits with positive gain, best gain: -inf\n",
      "[LightGBM] [Warning] No further splits with positive gain, best gain: -inf\n",
      "[LightGBM] [Warning] No further splits with positive gain, best gain: -inf\n",
      "[LightGBM] [Warning] No further splits with positive gain, best gain: -inf\n",
      "[LightGBM] [Warning] No further splits with positive gain, best gain: -inf\n",
      "[LightGBM] [Warning] No further splits with positive gain, best gain: -inf\n",
      "[LightGBM] [Warning] No further splits with positive gain, best gain: -inf\n",
      "[LightGBM] [Warning] No further splits with positive gain, best gain: -inf\n",
      "[LightGBM] [Warning] No further splits with positive gain, best gain: -inf\n",
      "[LightGBM] [Warning] No further splits with positive gain, best gain: -inf\n",
      "[LightGBM] [Warning] No further splits with positive gain, best gain: -inf\n",
      "[LightGBM] [Warning] No further splits with positive gain, best gain: -inf\n",
      "[LightGBM] [Warning] No further splits with positive gain, best gain: -inf\n",
      "[LightGBM] [Warning] No further splits with positive gain, best gain: -inf\n",
      "[LightGBM] [Warning] No further splits with positive gain, best gain: -inf\n",
      "[LightGBM] [Warning] No further splits with positive gain, best gain: -inf\n",
      "[LightGBM] [Warning] No further splits with positive gain, best gain: -inf\n",
      "[LightGBM] [Warning] No further splits with positive gain, best gain: -inf\n",
      "[LightGBM] [Warning] No further splits with positive gain, best gain: -inf\n",
      "[LightGBM] [Warning] No further splits with positive gain, best gain: -inf\n",
      "[LightGBM] [Warning] No further splits with positive gain, best gain: -inf\n",
      "[LightGBM] [Warning] No further splits with positive gain, best gain: -inf\n",
      "0.722544310087792\n",
      "lr 0.35000000000000003\n",
      "[LightGBM] [Info] Number of positive: 10925, number of negative: 96596\n",
      "[LightGBM] [Info] Auto-choosing col-wise multi-threading, the overhead of testing was 0.983244 seconds.\n",
      "You can set `force_col_wise=true` to remove the overhead.\n",
      "[LightGBM] [Info] Total Bins 476442\n",
      "[LightGBM] [Info] Number of data points in the train set: 107521, number of used features: 8803\n",
      "[LightGBM] [Info] [binary:BoostFromScore]: pavg=0.101608 -> initscore=-2.179484\n",
      "[LightGBM] [Info] Start training from score -2.179484\n",
      "[LightGBM] [Warning] No further splits with positive gain, best gain: -inf\n",
      "[LightGBM] [Warning] No further splits with positive gain, best gain: -inf\n",
      "[LightGBM] [Warning] No further splits with positive gain, best gain: -inf\n",
      "[LightGBM] [Warning] No further splits with positive gain, best gain: -inf\n",
      "[LightGBM] [Warning] No further splits with positive gain, best gain: -inf\n",
      "[LightGBM] [Warning] No further splits with positive gain, best gain: -inf\n",
      "[LightGBM] [Warning] No further splits with positive gain, best gain: -inf\n",
      "[LightGBM] [Warning] No further splits with positive gain, best gain: -inf\n",
      "[LightGBM] [Warning] No further splits with positive gain, best gain: -inf\n",
      "[LightGBM] [Warning] No further splits with positive gain, best gain: -inf\n",
      "[LightGBM] [Warning] No further splits with positive gain, best gain: -inf\n",
      "[LightGBM] [Warning] No further splits with positive gain, best gain: -inf\n",
      "[LightGBM] [Warning] No further splits with positive gain, best gain: -inf\n",
      "[LightGBM] [Warning] No further splits with positive gain, best gain: -inf\n",
      "[LightGBM] [Warning] No further splits with positive gain, best gain: -inf\n",
      "[LightGBM] [Warning] No further splits with positive gain, best gain: -inf\n",
      "[LightGBM] [Warning] No further splits with positive gain, best gain: -inf\n",
      "[LightGBM] [Warning] No further splits with positive gain, best gain: -inf\n",
      "[LightGBM] [Warning] No further splits with positive gain, best gain: -inf\n",
      "[LightGBM] [Warning] No further splits with positive gain, best gain: -inf\n",
      "[LightGBM] [Warning] No further splits with positive gain, best gain: -inf\n",
      "[LightGBM] [Warning] No further splits with positive gain, best gain: -inf\n",
      "[LightGBM] [Warning] No further splits with positive gain, best gain: -inf\n",
      "[LightGBM] [Warning] No further splits with positive gain, best gain: -inf\n",
      "[LightGBM] [Warning] No further splits with positive gain, best gain: -inf\n",
      "[LightGBM] [Warning] No further splits with positive gain, best gain: -inf\n",
      "[LightGBM] [Warning] No further splits with positive gain, best gain: -inf\n",
      "[LightGBM] [Warning] No further splits with positive gain, best gain: -inf\n",
      "[LightGBM] [Warning] No further splits with positive gain, best gain: -inf\n",
      "[LightGBM] [Warning] No further splits with positive gain, best gain: -inf\n",
      "[LightGBM] [Warning] No further splits with positive gain, best gain: -inf\n",
      "[LightGBM] [Warning] No further splits with positive gain, best gain: -inf\n",
      "[LightGBM] [Warning] No further splits with positive gain, best gain: -inf\n",
      "[LightGBM] [Warning] No further splits with positive gain, best gain: -inf\n",
      "[LightGBM] [Warning] No further splits with positive gain, best gain: -inf\n",
      "[LightGBM] [Warning] No further splits with positive gain, best gain: -inf\n",
      "[LightGBM] [Warning] No further splits with positive gain, best gain: -inf\n",
      "[LightGBM] [Warning] No further splits with positive gain, best gain: -inf\n",
      "[LightGBM] [Warning] No further splits with positive gain, best gain: -inf\n",
      "[LightGBM] [Warning] No further splits with positive gain, best gain: -inf\n",
      "[LightGBM] [Warning] No further splits with positive gain, best gain: -inf\n",
      "[LightGBM] [Warning] No further splits with positive gain, best gain: -inf\n",
      "[LightGBM] [Warning] No further splits with positive gain, best gain: -inf\n",
      "[LightGBM] [Warning] No further splits with positive gain, best gain: -inf\n",
      "[LightGBM] [Warning] No further splits with positive gain, best gain: -inf\n",
      "[LightGBM] [Warning] No further splits with positive gain, best gain: -inf\n",
      "[LightGBM] [Warning] No further splits with positive gain, best gain: -inf\n",
      "[LightGBM] [Warning] No further splits with positive gain, best gain: -inf\n",
      "[LightGBM] [Warning] No further splits with positive gain, best gain: -inf\n",
      "[LightGBM] [Warning] No further splits with positive gain, best gain: -inf\n",
      "[LightGBM] [Warning] No further splits with positive gain, best gain: -inf\n",
      "[LightGBM] [Warning] No further splits with positive gain, best gain: -inf\n",
      "[LightGBM] [Warning] No further splits with positive gain, best gain: -inf\n",
      "[LightGBM] [Warning] No further splits with positive gain, best gain: -inf\n",
      "[LightGBM] [Warning] No further splits with positive gain, best gain: -inf\n",
      "[LightGBM] [Warning] No further splits with positive gain, best gain: -inf\n",
      "[LightGBM] [Warning] No further splits with positive gain, best gain: -inf\n",
      "[LightGBM] [Warning] No further splits with positive gain, best gain: -inf\n",
      "[LightGBM] [Warning] No further splits with positive gain, best gain: -inf\n",
      "[LightGBM] [Warning] No further splits with positive gain, best gain: -inf\n",
      "[LightGBM] [Warning] No further splits with positive gain, best gain: -inf\n",
      "[LightGBM] [Warning] No further splits with positive gain, best gain: -inf\n",
      "[LightGBM] [Warning] No further splits with positive gain, best gain: -inf\n",
      "[LightGBM] [Warning] No further splits with positive gain, best gain: -inf\n",
      "[LightGBM] [Warning] No further splits with positive gain, best gain: -inf\n",
      "[LightGBM] [Warning] No further splits with positive gain, best gain: -inf\n",
      "[LightGBM] [Warning] No further splits with positive gain, best gain: -inf\n",
      "[LightGBM] [Warning] No further splits with positive gain, best gain: -inf\n",
      "[LightGBM] [Warning] No further splits with positive gain, best gain: -inf\n",
      "[LightGBM] [Warning] No further splits with positive gain, best gain: -inf\n",
      "[LightGBM] [Warning] No further splits with positive gain, best gain: -inf\n",
      "[LightGBM] [Warning] No further splits with positive gain, best gain: -inf\n",
      "[LightGBM] [Warning] No further splits with positive gain, best gain: -inf\n",
      "[LightGBM] [Warning] No further splits with positive gain, best gain: -inf\n",
      "[LightGBM] [Warning] No further splits with positive gain, best gain: -inf\n",
      "[LightGBM] [Warning] No further splits with positive gain, best gain: -inf\n",
      "[LightGBM] [Warning] No further splits with positive gain, best gain: -inf\n",
      "[LightGBM] [Warning] No further splits with positive gain, best gain: -inf\n",
      "[LightGBM] [Warning] No further splits with positive gain, best gain: -inf\n",
      "0.7331064657267866\n",
      "lr 0.4\n",
      "[LightGBM] [Info] Number of positive: 10925, number of negative: 96596\n",
      "[LightGBM] [Info] Auto-choosing row-wise multi-threading, the overhead of testing was 0.925098 seconds.\n",
      "You can set `force_row_wise=true` to remove the overhead.\n",
      "And if memory is not enough, you can set `force_col_wise=true`.\n",
      "[LightGBM] [Info] Total Bins 476442\n",
      "[LightGBM] [Info] Number of data points in the train set: 107521, number of used features: 8803\n",
      "[LightGBM] [Info] [binary:BoostFromScore]: pavg=0.101608 -> initscore=-2.179484\n",
      "[LightGBM] [Info] Start training from score -2.179484\n",
      "[LightGBM] [Warning] No further splits with positive gain, best gain: -inf\n",
      "[LightGBM] [Warning] No further splits with positive gain, best gain: -inf\n",
      "[LightGBM] [Warning] No further splits with positive gain, best gain: -inf\n",
      "[LightGBM] [Warning] No further splits with positive gain, best gain: -inf\n",
      "[LightGBM] [Warning] No further splits with positive gain, best gain: -inf\n",
      "[LightGBM] [Warning] No further splits with positive gain, best gain: -inf\n",
      "[LightGBM] [Warning] No further splits with positive gain, best gain: -inf\n",
      "[LightGBM] [Warning] No further splits with positive gain, best gain: -inf\n",
      "[LightGBM] [Warning] No further splits with positive gain, best gain: -inf\n",
      "[LightGBM] [Warning] No further splits with positive gain, best gain: -inf\n",
      "[LightGBM] [Warning] No further splits with positive gain, best gain: -inf\n",
      "[LightGBM] [Warning] No further splits with positive gain, best gain: -inf\n",
      "[LightGBM] [Warning] No further splits with positive gain, best gain: -inf\n",
      "[LightGBM] [Warning] No further splits with positive gain, best gain: -inf\n",
      "[LightGBM] [Warning] No further splits with positive gain, best gain: -inf\n",
      "[LightGBM] [Warning] No further splits with positive gain, best gain: -inf\n",
      "[LightGBM] [Warning] No further splits with positive gain, best gain: -inf\n",
      "[LightGBM] [Warning] No further splits with positive gain, best gain: -inf\n",
      "[LightGBM] [Warning] No further splits with positive gain, best gain: -inf\n",
      "[LightGBM] [Warning] No further splits with positive gain, best gain: -inf\n",
      "[LightGBM] [Warning] No further splits with positive gain, best gain: -inf\n",
      "[LightGBM] [Warning] No further splits with positive gain, best gain: -inf\n",
      "[LightGBM] [Warning] No further splits with positive gain, best gain: -inf\n",
      "[LightGBM] [Warning] No further splits with positive gain, best gain: -inf\n",
      "[LightGBM] [Warning] No further splits with positive gain, best gain: -inf\n",
      "[LightGBM] [Warning] No further splits with positive gain, best gain: -inf\n",
      "[LightGBM] [Warning] No further splits with positive gain, best gain: -inf\n",
      "[LightGBM] [Warning] No further splits with positive gain, best gain: -inf\n",
      "[LightGBM] [Warning] No further splits with positive gain, best gain: -inf\n",
      "[LightGBM] [Warning] No further splits with positive gain, best gain: -inf\n",
      "[LightGBM] [Warning] No further splits with positive gain, best gain: -inf\n",
      "[LightGBM] [Warning] No further splits with positive gain, best gain: -inf\n",
      "[LightGBM] [Warning] No further splits with positive gain, best gain: -inf\n",
      "[LightGBM] [Warning] No further splits with positive gain, best gain: -inf\n",
      "[LightGBM] [Warning] No further splits with positive gain, best gain: -inf\n",
      "[LightGBM] [Warning] No further splits with positive gain, best gain: -inf\n",
      "[LightGBM] [Warning] No further splits with positive gain, best gain: -inf\n",
      "[LightGBM] [Warning] No further splits with positive gain, best gain: -inf\n",
      "[LightGBM] [Warning] No further splits with positive gain, best gain: -inf\n",
      "[LightGBM] [Warning] No further splits with positive gain, best gain: -inf\n",
      "[LightGBM] [Warning] No further splits with positive gain, best gain: -inf\n",
      "[LightGBM] [Warning] No further splits with positive gain, best gain: -inf\n",
      "[LightGBM] [Warning] No further splits with positive gain, best gain: -inf\n",
      "[LightGBM] [Warning] No further splits with positive gain, best gain: -inf\n",
      "[LightGBM] [Warning] No further splits with positive gain, best gain: -inf\n",
      "[LightGBM] [Warning] No further splits with positive gain, best gain: -inf\n",
      "[LightGBM] [Warning] No further splits with positive gain, best gain: -inf\n",
      "[LightGBM] [Warning] No further splits with positive gain, best gain: -inf\n",
      "[LightGBM] [Warning] No further splits with positive gain, best gain: -inf\n",
      "[LightGBM] [Warning] No further splits with positive gain, best gain: -inf\n",
      "[LightGBM] [Warning] No further splits with positive gain, best gain: -inf\n",
      "[LightGBM] [Warning] No further splits with positive gain, best gain: -inf\n",
      "[LightGBM] [Warning] No further splits with positive gain, best gain: -inf\n",
      "[LightGBM] [Warning] No further splits with positive gain, best gain: -inf\n",
      "[LightGBM] [Warning] No further splits with positive gain, best gain: -inf\n",
      "[LightGBM] [Warning] No further splits with positive gain, best gain: -inf\n",
      "[LightGBM] [Warning] No further splits with positive gain, best gain: -inf\n",
      "[LightGBM] [Warning] No further splits with positive gain, best gain: -inf\n",
      "[LightGBM] [Warning] No further splits with positive gain, best gain: -inf\n",
      "[LightGBM] [Warning] No further splits with positive gain, best gain: -inf\n",
      "[LightGBM] [Warning] No further splits with positive gain, best gain: -inf\n",
      "[LightGBM] [Warning] No further splits with positive gain, best gain: -inf\n",
      "[LightGBM] [Warning] No further splits with positive gain, best gain: -inf\n",
      "[LightGBM] [Warning] No further splits with positive gain, best gain: -inf\n",
      "[LightGBM] [Warning] No further splits with positive gain, best gain: -inf\n",
      "[LightGBM] [Warning] No further splits with positive gain, best gain: -inf\n",
      "[LightGBM] [Warning] No further splits with positive gain, best gain: -inf\n",
      "[LightGBM] [Warning] No further splits with positive gain, best gain: -inf\n",
      "[LightGBM] [Warning] No further splits with positive gain, best gain: -inf\n",
      "[LightGBM] [Warning] No further splits with positive gain, best gain: -inf\n",
      "[LightGBM] [Warning] No further splits with positive gain, best gain: -inf\n",
      "[LightGBM] [Warning] No further splits with positive gain, best gain: -inf\n",
      "[LightGBM] [Warning] No further splits with positive gain, best gain: -inf\n",
      "[LightGBM] [Warning] No further splits with positive gain, best gain: -inf\n",
      "[LightGBM] [Warning] No further splits with positive gain, best gain: -inf\n",
      "[LightGBM] [Warning] No further splits with positive gain, best gain: -inf\n",
      "[LightGBM] [Warning] No further splits with positive gain, best gain: -inf\n",
      "[LightGBM] [Warning] No further splits with positive gain, best gain: -inf\n",
      "[LightGBM] [Warning] No further splits with positive gain, best gain: -inf\n",
      "[LightGBM] [Warning] No further splits with positive gain, best gain: -inf\n",
      "[LightGBM] [Warning] No further splits with positive gain, best gain: -inf\n",
      "[LightGBM] [Warning] No further splits with positive gain, best gain: -inf\n",
      "[LightGBM] [Warning] No further splits with positive gain, best gain: -inf\n",
      "[LightGBM] [Warning] No further splits with positive gain, best gain: -inf\n",
      "[LightGBM] [Warning] No further splits with positive gain, best gain: -inf\n",
      "[LightGBM] [Warning] No further splits with positive gain, best gain: -inf\n",
      "[LightGBM] [Warning] No further splits with positive gain, best gain: -inf\n",
      "[LightGBM] [Warning] No further splits with positive gain, best gain: -inf\n",
      "0.7390888818094935\n",
      "lr 0.45\n",
      "[LightGBM] [Info] Number of positive: 10925, number of negative: 96596\n",
      "[LightGBM] [Info] Auto-choosing row-wise multi-threading, the overhead of testing was 0.967395 seconds.\n",
      "You can set `force_row_wise=true` to remove the overhead.\n",
      "And if memory is not enough, you can set `force_col_wise=true`.\n",
      "[LightGBM] [Info] Total Bins 476442\n",
      "[LightGBM] [Info] Number of data points in the train set: 107521, number of used features: 8803\n",
      "[LightGBM] [Info] [binary:BoostFromScore]: pavg=0.101608 -> initscore=-2.179484\n",
      "[LightGBM] [Info] Start training from score -2.179484\n",
      "[LightGBM] [Warning] No further splits with positive gain, best gain: -inf\n",
      "[LightGBM] [Warning] No further splits with positive gain, best gain: -inf\n",
      "[LightGBM] [Warning] No further splits with positive gain, best gain: -inf\n",
      "[LightGBM] [Warning] No further splits with positive gain, best gain: -inf\n",
      "[LightGBM] [Warning] No further splits with positive gain, best gain: -inf\n",
      "[LightGBM] [Warning] No further splits with positive gain, best gain: -inf\n",
      "[LightGBM] [Warning] No further splits with positive gain, best gain: -inf\n",
      "[LightGBM] [Warning] No further splits with positive gain, best gain: -inf\n",
      "[LightGBM] [Warning] No further splits with positive gain, best gain: -inf\n",
      "[LightGBM] [Warning] No further splits with positive gain, best gain: -inf\n",
      "[LightGBM] [Warning] No further splits with positive gain, best gain: -inf\n",
      "[LightGBM] [Warning] No further splits with positive gain, best gain: -inf\n",
      "[LightGBM] [Warning] No further splits with positive gain, best gain: -inf\n",
      "[LightGBM] [Warning] No further splits with positive gain, best gain: -inf\n",
      "[LightGBM] [Warning] No further splits with positive gain, best gain: -inf\n",
      "[LightGBM] [Warning] No further splits with positive gain, best gain: -inf\n",
      "[LightGBM] [Warning] No further splits with positive gain, best gain: -inf\n",
      "[LightGBM] [Warning] No further splits with positive gain, best gain: -inf\n",
      "[LightGBM] [Warning] No further splits with positive gain, best gain: -inf\n",
      "[LightGBM] [Warning] No further splits with positive gain, best gain: -inf\n",
      "[LightGBM] [Warning] No further splits with positive gain, best gain: -inf\n",
      "[LightGBM] [Warning] No further splits with positive gain, best gain: -inf\n",
      "[LightGBM] [Warning] No further splits with positive gain, best gain: -inf\n",
      "[LightGBM] [Warning] No further splits with positive gain, best gain: -inf\n",
      "[LightGBM] [Warning] No further splits with positive gain, best gain: -inf\n",
      "[LightGBM] [Warning] No further splits with positive gain, best gain: -inf\n",
      "[LightGBM] [Warning] No further splits with positive gain, best gain: -inf\n",
      "[LightGBM] [Warning] No further splits with positive gain, best gain: -inf\n",
      "[LightGBM] [Warning] No further splits with positive gain, best gain: -inf\n",
      "[LightGBM] [Warning] No further splits with positive gain, best gain: -inf\n",
      "[LightGBM] [Warning] No further splits with positive gain, best gain: -inf\n",
      "[LightGBM] [Warning] No further splits with positive gain, best gain: -inf\n",
      "[LightGBM] [Warning] No further splits with positive gain, best gain: -inf\n",
      "[LightGBM] [Warning] No further splits with positive gain, best gain: -inf\n",
      "[LightGBM] [Warning] No further splits with positive gain, best gain: -inf\n",
      "[LightGBM] [Warning] No further splits with positive gain, best gain: -inf\n",
      "[LightGBM] [Warning] No further splits with positive gain, best gain: -inf\n",
      "[LightGBM] [Warning] No further splits with positive gain, best gain: -inf\n",
      "[LightGBM] [Warning] No further splits with positive gain, best gain: -inf\n",
      "[LightGBM] [Warning] No further splits with positive gain, best gain: -inf\n",
      "[LightGBM] [Warning] No further splits with positive gain, best gain: -inf\n",
      "[LightGBM] [Warning] No further splits with positive gain, best gain: -inf\n",
      "[LightGBM] [Warning] No further splits with positive gain, best gain: -inf\n",
      "[LightGBM] [Warning] No further splits with positive gain, best gain: -inf\n",
      "[LightGBM] [Warning] No further splits with positive gain, best gain: -inf\n",
      "[LightGBM] [Warning] No further splits with positive gain, best gain: -inf\n",
      "[LightGBM] [Warning] No further splits with positive gain, best gain: -inf\n",
      "[LightGBM] [Warning] No further splits with positive gain, best gain: -inf\n",
      "[LightGBM] [Warning] No further splits with positive gain, best gain: -inf\n",
      "[LightGBM] [Warning] No further splits with positive gain, best gain: -inf\n",
      "[LightGBM] [Warning] No further splits with positive gain, best gain: -inf\n",
      "[LightGBM] [Warning] No further splits with positive gain, best gain: -inf\n",
      "[LightGBM] [Warning] No further splits with positive gain, best gain: -inf\n",
      "[LightGBM] [Warning] No further splits with positive gain, best gain: -inf\n",
      "[LightGBM] [Warning] No further splits with positive gain, best gain: -inf\n",
      "[LightGBM] [Warning] No further splits with positive gain, best gain: -inf\n",
      "[LightGBM] [Warning] No further splits with positive gain, best gain: -inf\n",
      "[LightGBM] [Warning] No further splits with positive gain, best gain: -inf\n",
      "[LightGBM] [Warning] No further splits with positive gain, best gain: -inf\n",
      "[LightGBM] [Warning] No further splits with positive gain, best gain: -inf\n",
      "[LightGBM] [Warning] No further splits with positive gain, best gain: -inf\n",
      "[LightGBM] [Warning] No further splits with positive gain, best gain: -inf\n",
      "[LightGBM] [Warning] No further splits with positive gain, best gain: -inf\n",
      "[LightGBM] [Warning] No further splits with positive gain, best gain: -inf\n",
      "[LightGBM] [Warning] No further splits with positive gain, best gain: -inf\n",
      "[LightGBM] [Warning] No further splits with positive gain, best gain: -inf\n",
      "[LightGBM] [Warning] No further splits with positive gain, best gain: -inf\n",
      "[LightGBM] [Warning] No further splits with positive gain, best gain: -inf\n",
      "[LightGBM] [Warning] No further splits with positive gain, best gain: -inf\n",
      "[LightGBM] [Warning] No further splits with positive gain, best gain: -inf\n",
      "[LightGBM] [Warning] No further splits with positive gain, best gain: -inf\n",
      "[LightGBM] [Warning] No further splits with positive gain, best gain: -inf\n",
      "[LightGBM] [Warning] No further splits with positive gain, best gain: -inf\n",
      "[LightGBM] [Warning] No further splits with positive gain, best gain: -inf\n",
      "[LightGBM] [Warning] No further splits with positive gain, best gain: -inf\n",
      "[LightGBM] [Warning] No further splits with positive gain, best gain: -inf\n",
      "[LightGBM] [Warning] No further splits with positive gain, best gain: -inf\n",
      "[LightGBM] [Warning] No further splits with positive gain, best gain: -inf\n",
      "[LightGBM] [Warning] No further splits with positive gain, best gain: -inf\n",
      "[LightGBM] [Warning] No further splits with positive gain, best gain: -inf\n",
      "[LightGBM] [Warning] No further splits with positive gain, best gain: -inf\n",
      "[LightGBM] [Warning] No further splits with positive gain, best gain: -inf\n",
      "[LightGBM] [Warning] No further splits with positive gain, best gain: -inf\n",
      "[LightGBM] [Warning] No further splits with positive gain, best gain: -inf\n",
      "[LightGBM] [Warning] No further splits with positive gain, best gain: -inf\n",
      "0.7435779110906015\n",
      "lr 0.5\n"
     ]
    }
   ],
   "source": [
    "for i in range(5, 51, 5):\n",
    "    model = LGBMClassifier(max_depth=3, learning_rate=(i * 0.01))\n",
    "    model.fit(tf_idf_train,y_train)\n",
    "    pred = model.predict(tf_idf_valid)\n",
    "    print(f1_score(pred, y_valid))\n",
    "    print('lr', (i * 0.01))"
   ]
  },
  {
   "cell_type": "code",
   "execution_count": 40,
   "metadata": {},
   "outputs": [
    {
     "name": "stdout",
     "output_type": "stream",
     "text": [
      "[LightGBM] [Info] Number of positive: 10925, number of negative: 96596\n",
      "[LightGBM] [Info] Auto-choosing col-wise multi-threading, the overhead of testing was 0.979645 seconds.\n",
      "You can set `force_col_wise=true` to remove the overhead.\n",
      "[LightGBM] [Info] Total Bins 476442\n",
      "[LightGBM] [Info] Number of data points in the train set: 107521, number of used features: 8803\n",
      "[LightGBM] [Info] [binary:BoostFromScore]: pavg=0.101608 -> initscore=-2.179484\n",
      "[LightGBM] [Info] Start training from score -2.179484\n",
      "[LightGBM] [Warning] No further splits with positive gain, best gain: -inf\n",
      "[LightGBM] [Warning] No further splits with positive gain, best gain: -inf\n",
      "[LightGBM] [Warning] No further splits with positive gain, best gain: -inf\n",
      "[LightGBM] [Warning] No further splits with positive gain, best gain: -inf\n",
      "[LightGBM] [Warning] No further splits with positive gain, best gain: -inf\n",
      "[LightGBM] [Warning] No further splits with positive gain, best gain: -inf\n",
      "[LightGBM] [Warning] No further splits with positive gain, best gain: -inf\n",
      "[LightGBM] [Warning] No further splits with positive gain, best gain: -inf\n",
      "[LightGBM] [Warning] No further splits with positive gain, best gain: -inf\n",
      "[LightGBM] [Warning] No further splits with positive gain, best gain: -inf\n",
      "[LightGBM] [Warning] No further splits with positive gain, best gain: -inf\n",
      "[LightGBM] [Warning] No further splits with positive gain, best gain: -inf\n",
      "[LightGBM] [Warning] No further splits with positive gain, best gain: -inf\n",
      "[LightGBM] [Warning] No further splits with positive gain, best gain: -inf\n",
      "[LightGBM] [Warning] No further splits with positive gain, best gain: -inf\n",
      "[LightGBM] [Warning] No further splits with positive gain, best gain: -inf\n",
      "[LightGBM] [Warning] No further splits with positive gain, best gain: -inf\n",
      "[LightGBM] [Warning] No further splits with positive gain, best gain: -inf\n",
      "[LightGBM] [Warning] No further splits with positive gain, best gain: -inf\n",
      "[LightGBM] [Warning] No further splits with positive gain, best gain: -inf\n",
      "[LightGBM] [Warning] No further splits with positive gain, best gain: -inf\n",
      "[LightGBM] [Warning] No further splits with positive gain, best gain: -inf\n",
      "[LightGBM] [Warning] No further splits with positive gain, best gain: -inf\n",
      "[LightGBM] [Warning] No further splits with positive gain, best gain: -inf\n",
      "[LightGBM] [Warning] No further splits with positive gain, best gain: -inf\n",
      "[LightGBM] [Warning] No further splits with positive gain, best gain: -inf\n",
      "[LightGBM] [Warning] No further splits with positive gain, best gain: -inf\n",
      "[LightGBM] [Warning] No further splits with positive gain, best gain: -inf\n",
      "[LightGBM] [Warning] No further splits with positive gain, best gain: -inf\n",
      "[LightGBM] [Warning] No further splits with positive gain, best gain: -inf\n",
      "[LightGBM] [Warning] No further splits with positive gain, best gain: -inf\n",
      "[LightGBM] [Warning] No further splits with positive gain, best gain: -inf\n",
      "[LightGBM] [Warning] No further splits with positive gain, best gain: -inf\n",
      "[LightGBM] [Warning] No further splits with positive gain, best gain: -inf\n",
      "[LightGBM] [Warning] No further splits with positive gain, best gain: -inf\n",
      "[LightGBM] [Warning] No further splits with positive gain, best gain: -inf\n",
      "[LightGBM] [Warning] No further splits with positive gain, best gain: -inf\n",
      "[LightGBM] [Warning] No further splits with positive gain, best gain: -inf\n",
      "[LightGBM] [Warning] No further splits with positive gain, best gain: -inf\n",
      "[LightGBM] [Warning] No further splits with positive gain, best gain: -inf\n",
      "[LightGBM] [Warning] No further splits with positive gain, best gain: -inf\n",
      "[LightGBM] [Warning] No further splits with positive gain, best gain: -inf\n",
      "[LightGBM] [Warning] No further splits with positive gain, best gain: -inf\n",
      "[LightGBM] [Warning] No further splits with positive gain, best gain: -inf\n",
      "[LightGBM] [Warning] No further splits with positive gain, best gain: -inf\n",
      "[LightGBM] [Warning] No further splits with positive gain, best gain: -inf\n",
      "[LightGBM] [Warning] No further splits with positive gain, best gain: -inf\n",
      "[LightGBM] [Warning] No further splits with positive gain, best gain: -inf\n",
      "[LightGBM] [Warning] No further splits with positive gain, best gain: -inf\n",
      "[LightGBM] [Warning] No further splits with positive gain, best gain: -inf\n",
      "[LightGBM] [Warning] No further splits with positive gain, best gain: -inf\n",
      "[LightGBM] [Warning] No further splits with positive gain, best gain: -inf\n",
      "[LightGBM] [Warning] No further splits with positive gain, best gain: -inf\n",
      "[LightGBM] [Warning] No further splits with positive gain, best gain: -inf\n",
      "[LightGBM] [Warning] No further splits with positive gain, best gain: -inf\n",
      "[LightGBM] [Warning] No further splits with positive gain, best gain: -inf\n",
      "[LightGBM] [Warning] No further splits with positive gain, best gain: -inf\n",
      "[LightGBM] [Warning] No further splits with positive gain, best gain: -inf\n",
      "[LightGBM] [Warning] No further splits with positive gain, best gain: -inf\n",
      "[LightGBM] [Warning] No further splits with positive gain, best gain: -inf\n",
      "[LightGBM] [Warning] No further splits with positive gain, best gain: -inf\n",
      "[LightGBM] [Warning] No further splits with positive gain, best gain: -inf\n",
      "[LightGBM] [Warning] No further splits with positive gain, best gain: -inf\n",
      "[LightGBM] [Warning] No further splits with positive gain, best gain: -inf\n",
      "[LightGBM] [Warning] No further splits with positive gain, best gain: -inf\n",
      "[LightGBM] [Warning] No further splits with positive gain, best gain: -inf\n",
      "[LightGBM] [Warning] No further splits with positive gain, best gain: -inf\n",
      "[LightGBM] [Warning] No further splits with positive gain, best gain: -inf\n",
      "[LightGBM] [Warning] No further splits with positive gain, best gain: -inf\n",
      "[LightGBM] [Warning] No further splits with positive gain, best gain: -inf\n",
      "[LightGBM] [Warning] No further splits with positive gain, best gain: -inf\n",
      "[LightGBM] [Warning] No further splits with positive gain, best gain: -inf\n",
      "[LightGBM] [Warning] No further splits with positive gain, best gain: -inf\n",
      "[LightGBM] [Warning] No further splits with positive gain, best gain: -inf\n",
      "[LightGBM] [Warning] No further splits with positive gain, best gain: -inf\n",
      "[LightGBM] [Warning] No further splits with positive gain, best gain: -inf\n",
      "[LightGBM] [Warning] No further splits with positive gain, best gain: -inf\n",
      "[LightGBM] [Warning] No further splits with positive gain, best gain: -inf\n",
      "[LightGBM] [Warning] No further splits with positive gain, best gain: -inf\n",
      "0.7331064657267866\n",
      "lr 0.4\n",
      "[LightGBM] [Info] Number of positive: 10925, number of negative: 96596\n",
      "[LightGBM] [Info] Auto-choosing col-wise multi-threading, the overhead of testing was 0.985106 seconds.\n",
      "You can set `force_col_wise=true` to remove the overhead.\n",
      "[LightGBM] [Info] Total Bins 476442\n",
      "[LightGBM] [Info] Number of data points in the train set: 107521, number of used features: 8803\n",
      "[LightGBM] [Info] [binary:BoostFromScore]: pavg=0.101608 -> initscore=-2.179484\n",
      "[LightGBM] [Info] Start training from score -2.179484\n",
      "[LightGBM] [Warning] No further splits with positive gain, best gain: -inf\n",
      "[LightGBM] [Warning] No further splits with positive gain, best gain: -inf\n",
      "[LightGBM] [Warning] No further splits with positive gain, best gain: -inf\n",
      "[LightGBM] [Warning] No further splits with positive gain, best gain: -inf\n",
      "[LightGBM] [Warning] No further splits with positive gain, best gain: -inf\n",
      "[LightGBM] [Warning] No further splits with positive gain, best gain: -inf\n",
      "[LightGBM] [Warning] No further splits with positive gain, best gain: -inf\n",
      "[LightGBM] [Warning] No further splits with positive gain, best gain: -inf\n",
      "[LightGBM] [Warning] No further splits with positive gain, best gain: -inf\n",
      "[LightGBM] [Warning] No further splits with positive gain, best gain: -inf\n",
      "[LightGBM] [Warning] No further splits with positive gain, best gain: -inf\n",
      "[LightGBM] [Warning] No further splits with positive gain, best gain: -inf\n",
      "[LightGBM] [Warning] No further splits with positive gain, best gain: -inf\n",
      "[LightGBM] [Warning] No further splits with positive gain, best gain: -inf\n",
      "[LightGBM] [Warning] No further splits with positive gain, best gain: -inf\n",
      "[LightGBM] [Warning] No further splits with positive gain, best gain: -inf\n",
      "[LightGBM] [Warning] No further splits with positive gain, best gain: -inf\n",
      "[LightGBM] [Warning] No further splits with positive gain, best gain: -inf\n",
      "[LightGBM] [Warning] No further splits with positive gain, best gain: -inf\n",
      "[LightGBM] [Warning] No further splits with positive gain, best gain: -inf\n",
      "[LightGBM] [Warning] No further splits with positive gain, best gain: -inf\n",
      "[LightGBM] [Warning] No further splits with positive gain, best gain: -inf\n",
      "[LightGBM] [Warning] No further splits with positive gain, best gain: -inf\n",
      "[LightGBM] [Warning] No further splits with positive gain, best gain: -inf\n",
      "[LightGBM] [Warning] No further splits with positive gain, best gain: -inf\n",
      "[LightGBM] [Warning] No further splits with positive gain, best gain: -inf\n",
      "[LightGBM] [Warning] No further splits with positive gain, best gain: -inf\n",
      "[LightGBM] [Warning] No further splits with positive gain, best gain: -inf\n",
      "[LightGBM] [Warning] No further splits with positive gain, best gain: -inf\n",
      "[LightGBM] [Warning] No further splits with positive gain, best gain: -inf\n",
      "[LightGBM] [Warning] No further splits with positive gain, best gain: -inf\n",
      "[LightGBM] [Warning] No further splits with positive gain, best gain: -inf\n",
      "[LightGBM] [Warning] No further splits with positive gain, best gain: -inf\n",
      "[LightGBM] [Warning] No further splits with positive gain, best gain: -inf\n",
      "[LightGBM] [Warning] No further splits with positive gain, best gain: -inf\n",
      "[LightGBM] [Warning] No further splits with positive gain, best gain: -inf\n",
      "[LightGBM] [Warning] No further splits with positive gain, best gain: -inf\n",
      "[LightGBM] [Warning] No further splits with positive gain, best gain: -inf\n",
      "[LightGBM] [Warning] No further splits with positive gain, best gain: -inf\n",
      "[LightGBM] [Warning] No further splits with positive gain, best gain: -inf\n",
      "[LightGBM] [Warning] No further splits with positive gain, best gain: -inf\n",
      "[LightGBM] [Warning] No further splits with positive gain, best gain: -inf\n",
      "[LightGBM] [Warning] No further splits with positive gain, best gain: -inf\n",
      "[LightGBM] [Warning] No further splits with positive gain, best gain: -inf\n",
      "[LightGBM] [Warning] No further splits with positive gain, best gain: -inf\n",
      "[LightGBM] [Warning] No further splits with positive gain, best gain: -inf\n",
      "[LightGBM] [Warning] No further splits with positive gain, best gain: -inf\n",
      "[LightGBM] [Warning] No further splits with positive gain, best gain: -inf\n",
      "[LightGBM] [Warning] No further splits with positive gain, best gain: -inf\n",
      "[LightGBM] [Warning] No further splits with positive gain, best gain: -inf\n",
      "[LightGBM] [Warning] No further splits with positive gain, best gain: -inf\n",
      "[LightGBM] [Warning] No further splits with positive gain, best gain: -inf\n",
      "[LightGBM] [Warning] No further splits with positive gain, best gain: -inf\n",
      "[LightGBM] [Warning] No further splits with positive gain, best gain: -inf\n",
      "[LightGBM] [Warning] No further splits with positive gain, best gain: -inf\n",
      "[LightGBM] [Warning] No further splits with positive gain, best gain: -inf\n",
      "[LightGBM] [Warning] No further splits with positive gain, best gain: -inf\n",
      "[LightGBM] [Warning] No further splits with positive gain, best gain: -inf\n",
      "[LightGBM] [Warning] No further splits with positive gain, best gain: -inf\n",
      "[LightGBM] [Warning] No further splits with positive gain, best gain: -inf\n",
      "[LightGBM] [Warning] No further splits with positive gain, best gain: -inf\n",
      "[LightGBM] [Warning] No further splits with positive gain, best gain: -inf\n",
      "[LightGBM] [Warning] No further splits with positive gain, best gain: -inf\n",
      "[LightGBM] [Warning] No further splits with positive gain, best gain: -inf\n",
      "[LightGBM] [Warning] No further splits with positive gain, best gain: -inf\n",
      "[LightGBM] [Warning] No further splits with positive gain, best gain: -inf\n",
      "[LightGBM] [Warning] No further splits with positive gain, best gain: -inf\n",
      "[LightGBM] [Warning] No further splits with positive gain, best gain: -inf\n",
      "[LightGBM] [Warning] No further splits with positive gain, best gain: -inf\n",
      "[LightGBM] [Warning] No further splits with positive gain, best gain: -inf\n",
      "[LightGBM] [Warning] No further splits with positive gain, best gain: -inf\n",
      "[LightGBM] [Warning] No further splits with positive gain, best gain: -inf\n",
      "[LightGBM] [Warning] No further splits with positive gain, best gain: -inf\n",
      "[LightGBM] [Warning] No further splits with positive gain, best gain: -inf\n",
      "[LightGBM] [Warning] No further splits with positive gain, best gain: -inf\n",
      "[LightGBM] [Warning] No further splits with positive gain, best gain: -inf\n",
      "[LightGBM] [Warning] No further splits with positive gain, best gain: -inf\n",
      "0.730980899967627\n",
      "lr 0.41000000000000003\n",
      "[LightGBM] [Info] Number of positive: 10925, number of negative: 96596\n",
      "[LightGBM] [Info] Auto-choosing row-wise multi-threading, the overhead of testing was 1.062167 seconds.\n",
      "You can set `force_row_wise=true` to remove the overhead.\n",
      "And if memory is not enough, you can set `force_col_wise=true`.\n",
      "[LightGBM] [Info] Total Bins 476442\n",
      "[LightGBM] [Info] Number of data points in the train set: 107521, number of used features: 8803\n",
      "[LightGBM] [Info] [binary:BoostFromScore]: pavg=0.101608 -> initscore=-2.179484\n",
      "[LightGBM] [Info] Start training from score -2.179484\n",
      "[LightGBM] [Warning] No further splits with positive gain, best gain: -inf\n",
      "[LightGBM] [Warning] No further splits with positive gain, best gain: -inf\n",
      "[LightGBM] [Warning] No further splits with positive gain, best gain: -inf\n",
      "[LightGBM] [Warning] No further splits with positive gain, best gain: -inf\n",
      "[LightGBM] [Warning] No further splits with positive gain, best gain: -inf\n",
      "[LightGBM] [Warning] No further splits with positive gain, best gain: -inf\n",
      "[LightGBM] [Warning] No further splits with positive gain, best gain: -inf\n",
      "[LightGBM] [Warning] No further splits with positive gain, best gain: -inf\n",
      "[LightGBM] [Warning] No further splits with positive gain, best gain: -inf\n",
      "[LightGBM] [Warning] No further splits with positive gain, best gain: -inf\n",
      "[LightGBM] [Warning] No further splits with positive gain, best gain: -inf\n",
      "[LightGBM] [Warning] No further splits with positive gain, best gain: -inf\n",
      "[LightGBM] [Warning] No further splits with positive gain, best gain: -inf\n",
      "[LightGBM] [Warning] No further splits with positive gain, best gain: -inf\n",
      "[LightGBM] [Warning] No further splits with positive gain, best gain: -inf\n",
      "[LightGBM] [Warning] No further splits with positive gain, best gain: -inf\n",
      "[LightGBM] [Warning] No further splits with positive gain, best gain: -inf\n",
      "[LightGBM] [Warning] No further splits with positive gain, best gain: -inf\n",
      "[LightGBM] [Warning] No further splits with positive gain, best gain: -inf\n",
      "[LightGBM] [Warning] No further splits with positive gain, best gain: -inf\n",
      "[LightGBM] [Warning] No further splits with positive gain, best gain: -inf\n",
      "[LightGBM] [Warning] No further splits with positive gain, best gain: -inf\n",
      "[LightGBM] [Warning] No further splits with positive gain, best gain: -inf\n",
      "[LightGBM] [Warning] No further splits with positive gain, best gain: -inf\n",
      "[LightGBM] [Warning] No further splits with positive gain, best gain: -inf\n",
      "[LightGBM] [Warning] No further splits with positive gain, best gain: -inf\n",
      "[LightGBM] [Warning] No further splits with positive gain, best gain: -inf\n",
      "[LightGBM] [Warning] No further splits with positive gain, best gain: -inf\n",
      "[LightGBM] [Warning] No further splits with positive gain, best gain: -inf\n",
      "[LightGBM] [Warning] No further splits with positive gain, best gain: -inf\n",
      "[LightGBM] [Warning] No further splits with positive gain, best gain: -inf\n",
      "[LightGBM] [Warning] No further splits with positive gain, best gain: -inf\n",
      "[LightGBM] [Warning] No further splits with positive gain, best gain: -inf\n",
      "[LightGBM] [Warning] No further splits with positive gain, best gain: -inf\n",
      "[LightGBM] [Warning] No further splits with positive gain, best gain: -inf\n",
      "[LightGBM] [Warning] No further splits with positive gain, best gain: -inf\n",
      "[LightGBM] [Warning] No further splits with positive gain, best gain: -inf\n",
      "[LightGBM] [Warning] No further splits with positive gain, best gain: -inf\n",
      "[LightGBM] [Warning] No further splits with positive gain, best gain: -inf\n",
      "[LightGBM] [Warning] No further splits with positive gain, best gain: -inf\n",
      "[LightGBM] [Warning] No further splits with positive gain, best gain: -inf\n",
      "[LightGBM] [Warning] No further splits with positive gain, best gain: -inf\n",
      "[LightGBM] [Warning] No further splits with positive gain, best gain: -inf\n",
      "[LightGBM] [Warning] No further splits with positive gain, best gain: -inf\n",
      "[LightGBM] [Warning] No further splits with positive gain, best gain: -inf\n",
      "[LightGBM] [Warning] No further splits with positive gain, best gain: -inf\n",
      "[LightGBM] [Warning] No further splits with positive gain, best gain: -inf\n",
      "[LightGBM] [Warning] No further splits with positive gain, best gain: -inf\n",
      "[LightGBM] [Warning] No further splits with positive gain, best gain: -inf\n",
      "[LightGBM] [Warning] No further splits with positive gain, best gain: -inf\n",
      "[LightGBM] [Warning] No further splits with positive gain, best gain: -inf\n",
      "[LightGBM] [Warning] No further splits with positive gain, best gain: -inf\n",
      "[LightGBM] [Warning] No further splits with positive gain, best gain: -inf\n",
      "[LightGBM] [Warning] No further splits with positive gain, best gain: -inf\n",
      "[LightGBM] [Warning] No further splits with positive gain, best gain: -inf\n",
      "[LightGBM] [Warning] No further splits with positive gain, best gain: -inf\n",
      "[LightGBM] [Warning] No further splits with positive gain, best gain: -inf\n",
      "[LightGBM] [Warning] No further splits with positive gain, best gain: -inf\n",
      "[LightGBM] [Warning] No further splits with positive gain, best gain: -inf\n",
      "[LightGBM] [Warning] No further splits with positive gain, best gain: -inf\n",
      "[LightGBM] [Warning] No further splits with positive gain, best gain: -inf\n",
      "[LightGBM] [Warning] No further splits with positive gain, best gain: -inf\n",
      "[LightGBM] [Warning] No further splits with positive gain, best gain: -inf\n",
      "[LightGBM] [Warning] No further splits with positive gain, best gain: -inf\n",
      "[LightGBM] [Warning] No further splits with positive gain, best gain: -inf\n",
      "[LightGBM] [Warning] No further splits with positive gain, best gain: -inf\n",
      "[LightGBM] [Warning] No further splits with positive gain, best gain: -inf\n",
      "[LightGBM] [Warning] No further splits with positive gain, best gain: -inf\n",
      "[LightGBM] [Warning] No further splits with positive gain, best gain: -inf\n",
      "[LightGBM] [Warning] No further splits with positive gain, best gain: -inf\n",
      "[LightGBM] [Warning] No further splits with positive gain, best gain: -inf\n",
      "[LightGBM] [Warning] No further splits with positive gain, best gain: -inf\n",
      "[LightGBM] [Warning] No further splits with positive gain, best gain: -inf\n",
      "[LightGBM] [Warning] No further splits with positive gain, best gain: -inf\n",
      "[LightGBM] [Warning] No further splits with positive gain, best gain: -inf\n",
      "[LightGBM] [Warning] No further splits with positive gain, best gain: -inf\n",
      "[LightGBM] [Warning] No further splits with positive gain, best gain: -inf\n",
      "[LightGBM] [Warning] No further splits with positive gain, best gain: -inf\n",
      "[LightGBM] [Warning] No further splits with positive gain, best gain: -inf\n",
      "[LightGBM] [Warning] No further splits with positive gain, best gain: -inf\n",
      "[LightGBM] [Warning] No further splits with positive gain, best gain: -inf\n",
      "[LightGBM] [Warning] No further splits with positive gain, best gain: -inf\n",
      "[LightGBM] [Warning] No further splits with positive gain, best gain: -inf\n",
      "[LightGBM] [Warning] No further splits with positive gain, best gain: -inf\n",
      "0.7365720699054032\n",
      "lr 0.42\n",
      "[LightGBM] [Info] Number of positive: 10925, number of negative: 96596\n",
      "[LightGBM] [Info] Auto-choosing row-wise multi-threading, the overhead of testing was 0.957926 seconds.\n",
      "You can set `force_row_wise=true` to remove the overhead.\n",
      "And if memory is not enough, you can set `force_col_wise=true`.\n",
      "[LightGBM] [Info] Total Bins 476442\n",
      "[LightGBM] [Info] Number of data points in the train set: 107521, number of used features: 8803\n",
      "[LightGBM] [Info] [binary:BoostFromScore]: pavg=0.101608 -> initscore=-2.179484\n",
      "[LightGBM] [Info] Start training from score -2.179484\n",
      "[LightGBM] [Warning] No further splits with positive gain, best gain: -inf\n",
      "[LightGBM] [Warning] No further splits with positive gain, best gain: -inf\n",
      "[LightGBM] [Warning] No further splits with positive gain, best gain: -inf\n",
      "[LightGBM] [Warning] No further splits with positive gain, best gain: -inf\n",
      "[LightGBM] [Warning] No further splits with positive gain, best gain: -inf\n",
      "[LightGBM] [Warning] No further splits with positive gain, best gain: -inf\n",
      "[LightGBM] [Warning] No further splits with positive gain, best gain: -inf\n",
      "[LightGBM] [Warning] No further splits with positive gain, best gain: -inf\n",
      "[LightGBM] [Warning] No further splits with positive gain, best gain: -inf\n",
      "[LightGBM] [Warning] No further splits with positive gain, best gain: -inf\n",
      "[LightGBM] [Warning] No further splits with positive gain, best gain: -inf\n",
      "[LightGBM] [Warning] No further splits with positive gain, best gain: -inf\n",
      "[LightGBM] [Warning] No further splits with positive gain, best gain: -inf\n",
      "[LightGBM] [Warning] No further splits with positive gain, best gain: -inf\n",
      "[LightGBM] [Warning] No further splits with positive gain, best gain: -inf\n",
      "[LightGBM] [Warning] No further splits with positive gain, best gain: -inf\n",
      "[LightGBM] [Warning] No further splits with positive gain, best gain: -inf\n",
      "[LightGBM] [Warning] No further splits with positive gain, best gain: -inf\n",
      "[LightGBM] [Warning] No further splits with positive gain, best gain: -inf\n",
      "[LightGBM] [Warning] No further splits with positive gain, best gain: -inf\n",
      "[LightGBM] [Warning] No further splits with positive gain, best gain: -inf\n",
      "[LightGBM] [Warning] No further splits with positive gain, best gain: -inf\n",
      "[LightGBM] [Warning] No further splits with positive gain, best gain: -inf\n",
      "[LightGBM] [Warning] No further splits with positive gain, best gain: -inf\n",
      "[LightGBM] [Warning] No further splits with positive gain, best gain: -inf\n",
      "[LightGBM] [Warning] No further splits with positive gain, best gain: -inf\n",
      "[LightGBM] [Warning] No further splits with positive gain, best gain: -inf\n",
      "[LightGBM] [Warning] No further splits with positive gain, best gain: -inf\n",
      "[LightGBM] [Warning] No further splits with positive gain, best gain: -inf\n",
      "[LightGBM] [Warning] No further splits with positive gain, best gain: -inf\n",
      "[LightGBM] [Warning] No further splits with positive gain, best gain: -inf\n",
      "[LightGBM] [Warning] No further splits with positive gain, best gain: -inf\n",
      "[LightGBM] [Warning] No further splits with positive gain, best gain: -inf\n",
      "[LightGBM] [Warning] No further splits with positive gain, best gain: -inf\n",
      "[LightGBM] [Warning] No further splits with positive gain, best gain: -inf\n",
      "[LightGBM] [Warning] No further splits with positive gain, best gain: -inf\n",
      "[LightGBM] [Warning] No further splits with positive gain, best gain: -inf\n",
      "[LightGBM] [Warning] No further splits with positive gain, best gain: -inf\n",
      "[LightGBM] [Warning] No further splits with positive gain, best gain: -inf\n",
      "[LightGBM] [Warning] No further splits with positive gain, best gain: -inf\n",
      "[LightGBM] [Warning] No further splits with positive gain, best gain: -inf\n",
      "[LightGBM] [Warning] No further splits with positive gain, best gain: -inf\n",
      "[LightGBM] [Warning] No further splits with positive gain, best gain: -inf\n",
      "[LightGBM] [Warning] No further splits with positive gain, best gain: -inf\n",
      "[LightGBM] [Warning] No further splits with positive gain, best gain: -inf\n",
      "[LightGBM] [Warning] No further splits with positive gain, best gain: -inf\n",
      "[LightGBM] [Warning] No further splits with positive gain, best gain: -inf\n",
      "[LightGBM] [Warning] No further splits with positive gain, best gain: -inf\n",
      "[LightGBM] [Warning] No further splits with positive gain, best gain: -inf\n",
      "[LightGBM] [Warning] No further splits with positive gain, best gain: -inf\n",
      "[LightGBM] [Warning] No further splits with positive gain, best gain: -inf\n",
      "[LightGBM] [Warning] No further splits with positive gain, best gain: -inf\n",
      "[LightGBM] [Warning] No further splits with positive gain, best gain: -inf\n",
      "[LightGBM] [Warning] No further splits with positive gain, best gain: -inf\n",
      "[LightGBM] [Warning] No further splits with positive gain, best gain: -inf\n",
      "[LightGBM] [Warning] No further splits with positive gain, best gain: -inf\n",
      "[LightGBM] [Warning] No further splits with positive gain, best gain: -inf\n",
      "[LightGBM] [Warning] No further splits with positive gain, best gain: -inf\n",
      "[LightGBM] [Warning] No further splits with positive gain, best gain: -inf\n",
      "[LightGBM] [Warning] No further splits with positive gain, best gain: -inf\n",
      "[LightGBM] [Warning] No further splits with positive gain, best gain: -inf\n",
      "[LightGBM] [Warning] No further splits with positive gain, best gain: -inf\n",
      "[LightGBM] [Warning] No further splits with positive gain, best gain: -inf\n",
      "[LightGBM] [Warning] No further splits with positive gain, best gain: -inf\n",
      "[LightGBM] [Warning] No further splits with positive gain, best gain: -inf\n",
      "[LightGBM] [Warning] No further splits with positive gain, best gain: -inf\n",
      "[LightGBM] [Warning] No further splits with positive gain, best gain: -inf\n",
      "[LightGBM] [Warning] No further splits with positive gain, best gain: -inf\n",
      "[LightGBM] [Warning] No further splits with positive gain, best gain: -inf\n",
      "[LightGBM] [Warning] No further splits with positive gain, best gain: -inf\n",
      "[LightGBM] [Warning] No further splits with positive gain, best gain: -inf\n",
      "[LightGBM] [Warning] No further splits with positive gain, best gain: -inf\n",
      "[LightGBM] [Warning] No further splits with positive gain, best gain: -inf\n",
      "[LightGBM] [Warning] No further splits with positive gain, best gain: -inf\n",
      "[LightGBM] [Warning] No further splits with positive gain, best gain: -inf\n",
      "[LightGBM] [Warning] No further splits with positive gain, best gain: -inf\n",
      "[LightGBM] [Warning] No further splits with positive gain, best gain: -inf\n",
      "[LightGBM] [Warning] No further splits with positive gain, best gain: -inf\n",
      "[LightGBM] [Warning] No further splits with positive gain, best gain: -inf\n",
      "[LightGBM] [Warning] No further splits with positive gain, best gain: -inf\n",
      "[LightGBM] [Warning] No further splits with positive gain, best gain: -inf\n",
      "[LightGBM] [Warning] No further splits with positive gain, best gain: -inf\n",
      "[LightGBM] [Warning] No further splits with positive gain, best gain: -inf\n",
      "[LightGBM] [Warning] No further splits with positive gain, best gain: -inf\n",
      "0.7377049180327869\n",
      "lr 0.43\n",
      "[LightGBM] [Info] Number of positive: 10925, number of negative: 96596\n",
      "[LightGBM] [Info] Auto-choosing col-wise multi-threading, the overhead of testing was 0.953478 seconds.\n",
      "You can set `force_col_wise=true` to remove the overhead.\n",
      "[LightGBM] [Info] Total Bins 476442\n",
      "[LightGBM] [Info] Number of data points in the train set: 107521, number of used features: 8803\n",
      "[LightGBM] [Info] [binary:BoostFromScore]: pavg=0.101608 -> initscore=-2.179484\n",
      "[LightGBM] [Info] Start training from score -2.179484\n",
      "[LightGBM] [Warning] No further splits with positive gain, best gain: -inf\n",
      "[LightGBM] [Warning] No further splits with positive gain, best gain: -inf\n",
      "[LightGBM] [Warning] No further splits with positive gain, best gain: -inf\n",
      "[LightGBM] [Warning] No further splits with positive gain, best gain: -inf\n",
      "[LightGBM] [Warning] No further splits with positive gain, best gain: -inf\n",
      "[LightGBM] [Warning] No further splits with positive gain, best gain: -inf\n",
      "[LightGBM] [Warning] No further splits with positive gain, best gain: -inf\n",
      "[LightGBM] [Warning] No further splits with positive gain, best gain: -inf\n",
      "[LightGBM] [Warning] No further splits with positive gain, best gain: -inf\n",
      "[LightGBM] [Warning] No further splits with positive gain, best gain: -inf\n",
      "[LightGBM] [Warning] No further splits with positive gain, best gain: -inf\n",
      "[LightGBM] [Warning] No further splits with positive gain, best gain: -inf\n",
      "[LightGBM] [Warning] No further splits with positive gain, best gain: -inf\n",
      "[LightGBM] [Warning] No further splits with positive gain, best gain: -inf\n",
      "[LightGBM] [Warning] No further splits with positive gain, best gain: -inf\n",
      "[LightGBM] [Warning] No further splits with positive gain, best gain: -inf\n",
      "[LightGBM] [Warning] No further splits with positive gain, best gain: -inf\n",
      "[LightGBM] [Warning] No further splits with positive gain, best gain: -inf\n",
      "[LightGBM] [Warning] No further splits with positive gain, best gain: -inf\n",
      "[LightGBM] [Warning] No further splits with positive gain, best gain: -inf\n",
      "[LightGBM] [Warning] No further splits with positive gain, best gain: -inf\n",
      "[LightGBM] [Warning] No further splits with positive gain, best gain: -inf\n",
      "[LightGBM] [Warning] No further splits with positive gain, best gain: -inf\n",
      "[LightGBM] [Warning] No further splits with positive gain, best gain: -inf\n",
      "[LightGBM] [Warning] No further splits with positive gain, best gain: -inf\n",
      "[LightGBM] [Warning] No further splits with positive gain, best gain: -inf\n",
      "[LightGBM] [Warning] No further splits with positive gain, best gain: -inf\n",
      "[LightGBM] [Warning] No further splits with positive gain, best gain: -inf\n",
      "[LightGBM] [Warning] No further splits with positive gain, best gain: -inf\n",
      "[LightGBM] [Warning] No further splits with positive gain, best gain: -inf\n",
      "[LightGBM] [Warning] No further splits with positive gain, best gain: -inf\n",
      "[LightGBM] [Warning] No further splits with positive gain, best gain: -inf\n",
      "[LightGBM] [Warning] No further splits with positive gain, best gain: -inf\n",
      "[LightGBM] [Warning] No further splits with positive gain, best gain: -inf\n",
      "[LightGBM] [Warning] No further splits with positive gain, best gain: -inf\n",
      "[LightGBM] [Warning] No further splits with positive gain, best gain: -inf\n",
      "[LightGBM] [Warning] No further splits with positive gain, best gain: -inf\n",
      "[LightGBM] [Warning] No further splits with positive gain, best gain: -inf\n",
      "[LightGBM] [Warning] No further splits with positive gain, best gain: -inf\n",
      "[LightGBM] [Warning] No further splits with positive gain, best gain: -inf\n",
      "[LightGBM] [Warning] No further splits with positive gain, best gain: -inf\n",
      "[LightGBM] [Warning] No further splits with positive gain, best gain: -inf\n",
      "[LightGBM] [Warning] No further splits with positive gain, best gain: -inf\n",
      "[LightGBM] [Warning] No further splits with positive gain, best gain: -inf\n",
      "[LightGBM] [Warning] No further splits with positive gain, best gain: -inf\n",
      "[LightGBM] [Warning] No further splits with positive gain, best gain: -inf\n",
      "[LightGBM] [Warning] No further splits with positive gain, best gain: -inf\n",
      "[LightGBM] [Warning] No further splits with positive gain, best gain: -inf\n",
      "[LightGBM] [Warning] No further splits with positive gain, best gain: -inf\n",
      "[LightGBM] [Warning] No further splits with positive gain, best gain: -inf\n",
      "[LightGBM] [Warning] No further splits with positive gain, best gain: -inf\n",
      "[LightGBM] [Warning] No further splits with positive gain, best gain: -inf\n",
      "[LightGBM] [Warning] No further splits with positive gain, best gain: -inf\n",
      "[LightGBM] [Warning] No further splits with positive gain, best gain: -inf\n",
      "[LightGBM] [Warning] No further splits with positive gain, best gain: -inf\n",
      "[LightGBM] [Warning] No further splits with positive gain, best gain: -inf\n",
      "[LightGBM] [Warning] No further splits with positive gain, best gain: -inf\n",
      "[LightGBM] [Warning] No further splits with positive gain, best gain: -inf\n",
      "[LightGBM] [Warning] No further splits with positive gain, best gain: -inf\n",
      "[LightGBM] [Warning] No further splits with positive gain, best gain: -inf\n",
      "[LightGBM] [Warning] No further splits with positive gain, best gain: -inf\n",
      "[LightGBM] [Warning] No further splits with positive gain, best gain: -inf\n",
      "[LightGBM] [Warning] No further splits with positive gain, best gain: -inf\n",
      "[LightGBM] [Warning] No further splits with positive gain, best gain: -inf\n",
      "[LightGBM] [Warning] No further splits with positive gain, best gain: -inf\n",
      "[LightGBM] [Warning] No further splits with positive gain, best gain: -inf\n",
      "[LightGBM] [Warning] No further splits with positive gain, best gain: -inf\n",
      "[LightGBM] [Warning] No further splits with positive gain, best gain: -inf\n",
      "[LightGBM] [Warning] No further splits with positive gain, best gain: -inf\n",
      "[LightGBM] [Warning] No further splits with positive gain, best gain: -inf\n",
      "[LightGBM] [Warning] No further splits with positive gain, best gain: -inf\n",
      "[LightGBM] [Warning] No further splits with positive gain, best gain: -inf\n",
      "[LightGBM] [Warning] No further splits with positive gain, best gain: -inf\n",
      "[LightGBM] [Warning] No further splits with positive gain, best gain: -inf\n",
      "[LightGBM] [Warning] No further splits with positive gain, best gain: -inf\n",
      "[LightGBM] [Warning] No further splits with positive gain, best gain: -inf\n",
      "[LightGBM] [Warning] No further splits with positive gain, best gain: -inf\n",
      "[LightGBM] [Warning] No further splits with positive gain, best gain: -inf\n",
      "[LightGBM] [Warning] No further splits with positive gain, best gain: -inf\n",
      "[LightGBM] [Warning] No further splits with positive gain, best gain: -inf\n",
      "[LightGBM] [Warning] No further splits with positive gain, best gain: -inf\n",
      "[LightGBM] [Warning] No further splits with positive gain, best gain: -inf\n",
      "[LightGBM] [Warning] No further splits with positive gain, best gain: -inf\n",
      "[LightGBM] [Warning] No further splits with positive gain, best gain: -inf\n",
      "[LightGBM] [Warning] No further splits with positive gain, best gain: -inf\n",
      "0.7358429858429858\n",
      "lr 0.44\n",
      "[LightGBM] [Info] Number of positive: 10925, number of negative: 96596\n",
      "[LightGBM] [Info] Auto-choosing row-wise multi-threading, the overhead of testing was 0.967204 seconds.\n",
      "You can set `force_row_wise=true` to remove the overhead.\n",
      "And if memory is not enough, you can set `force_col_wise=true`.\n",
      "[LightGBM] [Info] Total Bins 476442\n",
      "[LightGBM] [Info] Number of data points in the train set: 107521, number of used features: 8803\n",
      "[LightGBM] [Info] [binary:BoostFromScore]: pavg=0.101608 -> initscore=-2.179484\n",
      "[LightGBM] [Info] Start training from score -2.179484\n",
      "[LightGBM] [Warning] No further splits with positive gain, best gain: -inf\n",
      "[LightGBM] [Warning] No further splits with positive gain, best gain: -inf\n",
      "[LightGBM] [Warning] No further splits with positive gain, best gain: -inf\n",
      "[LightGBM] [Warning] No further splits with positive gain, best gain: -inf\n",
      "[LightGBM] [Warning] No further splits with positive gain, best gain: -inf\n",
      "[LightGBM] [Warning] No further splits with positive gain, best gain: -inf\n",
      "[LightGBM] [Warning] No further splits with positive gain, best gain: -inf\n",
      "[LightGBM] [Warning] No further splits with positive gain, best gain: -inf\n",
      "[LightGBM] [Warning] No further splits with positive gain, best gain: -inf\n",
      "[LightGBM] [Warning] No further splits with positive gain, best gain: -inf\n",
      "[LightGBM] [Warning] No further splits with positive gain, best gain: -inf\n",
      "[LightGBM] [Warning] No further splits with positive gain, best gain: -inf\n",
      "[LightGBM] [Warning] No further splits with positive gain, best gain: -inf\n",
      "[LightGBM] [Warning] No further splits with positive gain, best gain: -inf\n",
      "[LightGBM] [Warning] No further splits with positive gain, best gain: -inf\n",
      "[LightGBM] [Warning] No further splits with positive gain, best gain: -inf\n",
      "[LightGBM] [Warning] No further splits with positive gain, best gain: -inf\n",
      "[LightGBM] [Warning] No further splits with positive gain, best gain: -inf\n",
      "[LightGBM] [Warning] No further splits with positive gain, best gain: -inf\n",
      "[LightGBM] [Warning] No further splits with positive gain, best gain: -inf\n",
      "[LightGBM] [Warning] No further splits with positive gain, best gain: -inf\n",
      "[LightGBM] [Warning] No further splits with positive gain, best gain: -inf\n",
      "[LightGBM] [Warning] No further splits with positive gain, best gain: -inf\n",
      "[LightGBM] [Warning] No further splits with positive gain, best gain: -inf\n",
      "[LightGBM] [Warning] No further splits with positive gain, best gain: -inf\n",
      "[LightGBM] [Warning] No further splits with positive gain, best gain: -inf\n",
      "[LightGBM] [Warning] No further splits with positive gain, best gain: -inf\n",
      "[LightGBM] [Warning] No further splits with positive gain, best gain: -inf\n",
      "[LightGBM] [Warning] No further splits with positive gain, best gain: -inf\n",
      "[LightGBM] [Warning] No further splits with positive gain, best gain: -inf\n",
      "[LightGBM] [Warning] No further splits with positive gain, best gain: -inf\n",
      "[LightGBM] [Warning] No further splits with positive gain, best gain: -inf\n",
      "[LightGBM] [Warning] No further splits with positive gain, best gain: -inf\n",
      "[LightGBM] [Warning] No further splits with positive gain, best gain: -inf\n",
      "[LightGBM] [Warning] No further splits with positive gain, best gain: -inf\n",
      "[LightGBM] [Warning] No further splits with positive gain, best gain: -inf\n",
      "[LightGBM] [Warning] No further splits with positive gain, best gain: -inf\n",
      "[LightGBM] [Warning] No further splits with positive gain, best gain: -inf\n",
      "[LightGBM] [Warning] No further splits with positive gain, best gain: -inf\n",
      "[LightGBM] [Warning] No further splits with positive gain, best gain: -inf\n",
      "[LightGBM] [Warning] No further splits with positive gain, best gain: -inf\n",
      "[LightGBM] [Warning] No further splits with positive gain, best gain: -inf\n",
      "[LightGBM] [Warning] No further splits with positive gain, best gain: -inf\n",
      "[LightGBM] [Warning] No further splits with positive gain, best gain: -inf\n",
      "[LightGBM] [Warning] No further splits with positive gain, best gain: -inf\n",
      "[LightGBM] [Warning] No further splits with positive gain, best gain: -inf\n",
      "[LightGBM] [Warning] No further splits with positive gain, best gain: -inf\n",
      "[LightGBM] [Warning] No further splits with positive gain, best gain: -inf\n",
      "[LightGBM] [Warning] No further splits with positive gain, best gain: -inf\n",
      "[LightGBM] [Warning] No further splits with positive gain, best gain: -inf\n",
      "[LightGBM] [Warning] No further splits with positive gain, best gain: -inf\n",
      "[LightGBM] [Warning] No further splits with positive gain, best gain: -inf\n",
      "[LightGBM] [Warning] No further splits with positive gain, best gain: -inf\n",
      "[LightGBM] [Warning] No further splits with positive gain, best gain: -inf\n",
      "[LightGBM] [Warning] No further splits with positive gain, best gain: -inf\n",
      "[LightGBM] [Warning] No further splits with positive gain, best gain: -inf\n",
      "[LightGBM] [Warning] No further splits with positive gain, best gain: -inf\n",
      "[LightGBM] [Warning] No further splits with positive gain, best gain: -inf\n",
      "[LightGBM] [Warning] No further splits with positive gain, best gain: -inf\n",
      "[LightGBM] [Warning] No further splits with positive gain, best gain: -inf\n",
      "[LightGBM] [Warning] No further splits with positive gain, best gain: -inf\n",
      "[LightGBM] [Warning] No further splits with positive gain, best gain: -inf\n",
      "[LightGBM] [Warning] No further splits with positive gain, best gain: -inf\n",
      "[LightGBM] [Warning] No further splits with positive gain, best gain: -inf\n",
      "[LightGBM] [Warning] No further splits with positive gain, best gain: -inf\n",
      "[LightGBM] [Warning] No further splits with positive gain, best gain: -inf\n",
      "[LightGBM] [Warning] No further splits with positive gain, best gain: -inf\n",
      "[LightGBM] [Warning] No further splits with positive gain, best gain: -inf\n",
      "[LightGBM] [Warning] No further splits with positive gain, best gain: -inf\n",
      "[LightGBM] [Warning] No further splits with positive gain, best gain: -inf\n",
      "[LightGBM] [Warning] No further splits with positive gain, best gain: -inf\n",
      "[LightGBM] [Warning] No further splits with positive gain, best gain: -inf\n",
      "[LightGBM] [Warning] No further splits with positive gain, best gain: -inf\n",
      "[LightGBM] [Warning] No further splits with positive gain, best gain: -inf\n",
      "[LightGBM] [Warning] No further splits with positive gain, best gain: -inf\n",
      "[LightGBM] [Warning] No further splits with positive gain, best gain: -inf\n",
      "[LightGBM] [Warning] No further splits with positive gain, best gain: -inf\n",
      "[LightGBM] [Warning] No further splits with positive gain, best gain: -inf\n",
      "[LightGBM] [Warning] No further splits with positive gain, best gain: -inf\n",
      "[LightGBM] [Warning] No further splits with positive gain, best gain: -inf\n",
      "[LightGBM] [Warning] No further splits with positive gain, best gain: -inf\n",
      "[LightGBM] [Warning] No further splits with positive gain, best gain: -inf\n",
      "[LightGBM] [Warning] No further splits with positive gain, best gain: -inf\n",
      "[LightGBM] [Warning] No further splits with positive gain, best gain: -inf\n",
      "[LightGBM] [Warning] No further splits with positive gain, best gain: -inf\n",
      "[LightGBM] [Warning] No further splits with positive gain, best gain: -inf\n",
      "[LightGBM] [Warning] No further splits with positive gain, best gain: -inf\n",
      "[LightGBM] [Warning] No further splits with positive gain, best gain: -inf\n",
      "0.7390888818094935\n",
      "lr 0.45\n",
      "[LightGBM] [Info] Number of positive: 10925, number of negative: 96596\n",
      "[LightGBM] [Info] Auto-choosing row-wise multi-threading, the overhead of testing was 0.935490 seconds.\n",
      "You can set `force_row_wise=true` to remove the overhead.\n",
      "And if memory is not enough, you can set `force_col_wise=true`.\n",
      "[LightGBM] [Info] Total Bins 476442\n",
      "[LightGBM] [Info] Number of data points in the train set: 107521, number of used features: 8803\n",
      "[LightGBM] [Info] [binary:BoostFromScore]: pavg=0.101608 -> initscore=-2.179484\n",
      "[LightGBM] [Info] Start training from score -2.179484\n",
      "[LightGBM] [Warning] No further splits with positive gain, best gain: -inf\n",
      "[LightGBM] [Warning] No further splits with positive gain, best gain: -inf\n",
      "[LightGBM] [Warning] No further splits with positive gain, best gain: -inf\n",
      "[LightGBM] [Warning] No further splits with positive gain, best gain: -inf\n",
      "[LightGBM] [Warning] No further splits with positive gain, best gain: -inf\n",
      "[LightGBM] [Warning] No further splits with positive gain, best gain: -inf\n",
      "[LightGBM] [Warning] No further splits with positive gain, best gain: -inf\n",
      "[LightGBM] [Warning] No further splits with positive gain, best gain: -inf\n",
      "[LightGBM] [Warning] No further splits with positive gain, best gain: -inf\n",
      "[LightGBM] [Warning] No further splits with positive gain, best gain: -inf\n",
      "[LightGBM] [Warning] No further splits with positive gain, best gain: -inf\n",
      "[LightGBM] [Warning] No further splits with positive gain, best gain: -inf\n",
      "[LightGBM] [Warning] No further splits with positive gain, best gain: -inf\n",
      "[LightGBM] [Warning] No further splits with positive gain, best gain: -inf\n",
      "[LightGBM] [Warning] No further splits with positive gain, best gain: -inf\n",
      "[LightGBM] [Warning] No further splits with positive gain, best gain: -inf\n",
      "[LightGBM] [Warning] No further splits with positive gain, best gain: -inf\n",
      "[LightGBM] [Warning] No further splits with positive gain, best gain: -inf\n",
      "[LightGBM] [Warning] No further splits with positive gain, best gain: -inf\n",
      "[LightGBM] [Warning] No further splits with positive gain, best gain: -inf\n",
      "[LightGBM] [Warning] No further splits with positive gain, best gain: -inf\n",
      "[LightGBM] [Warning] No further splits with positive gain, best gain: -inf\n",
      "[LightGBM] [Warning] No further splits with positive gain, best gain: -inf\n",
      "[LightGBM] [Warning] No further splits with positive gain, best gain: -inf\n",
      "[LightGBM] [Warning] No further splits with positive gain, best gain: -inf\n",
      "[LightGBM] [Warning] No further splits with positive gain, best gain: -inf\n",
      "[LightGBM] [Warning] No further splits with positive gain, best gain: -inf\n",
      "[LightGBM] [Warning] No further splits with positive gain, best gain: -inf\n",
      "[LightGBM] [Warning] No further splits with positive gain, best gain: -inf\n",
      "[LightGBM] [Warning] No further splits with positive gain, best gain: -inf\n",
      "[LightGBM] [Warning] No further splits with positive gain, best gain: -inf\n",
      "[LightGBM] [Warning] No further splits with positive gain, best gain: -inf\n",
      "[LightGBM] [Warning] No further splits with positive gain, best gain: -inf\n",
      "[LightGBM] [Warning] No further splits with positive gain, best gain: -inf\n",
      "[LightGBM] [Warning] No further splits with positive gain, best gain: -inf\n",
      "[LightGBM] [Warning] No further splits with positive gain, best gain: -inf\n",
      "[LightGBM] [Warning] No further splits with positive gain, best gain: -inf\n",
      "[LightGBM] [Warning] No further splits with positive gain, best gain: -inf\n",
      "[LightGBM] [Warning] No further splits with positive gain, best gain: -inf\n",
      "[LightGBM] [Warning] No further splits with positive gain, best gain: -inf\n",
      "[LightGBM] [Warning] No further splits with positive gain, best gain: -inf\n",
      "[LightGBM] [Warning] No further splits with positive gain, best gain: -inf\n",
      "[LightGBM] [Warning] No further splits with positive gain, best gain: -inf\n",
      "[LightGBM] [Warning] No further splits with positive gain, best gain: -inf\n",
      "[LightGBM] [Warning] No further splits with positive gain, best gain: -inf\n",
      "[LightGBM] [Warning] No further splits with positive gain, best gain: -inf\n",
      "[LightGBM] [Warning] No further splits with positive gain, best gain: -inf\n",
      "[LightGBM] [Warning] No further splits with positive gain, best gain: -inf\n",
      "[LightGBM] [Warning] No further splits with positive gain, best gain: -inf\n",
      "[LightGBM] [Warning] No further splits with positive gain, best gain: -inf\n",
      "[LightGBM] [Warning] No further splits with positive gain, best gain: -inf\n",
      "[LightGBM] [Warning] No further splits with positive gain, best gain: -inf\n",
      "[LightGBM] [Warning] No further splits with positive gain, best gain: -inf\n",
      "[LightGBM] [Warning] No further splits with positive gain, best gain: -inf\n",
      "[LightGBM] [Warning] No further splits with positive gain, best gain: -inf\n",
      "[LightGBM] [Warning] No further splits with positive gain, best gain: -inf\n",
      "[LightGBM] [Warning] No further splits with positive gain, best gain: -inf\n",
      "[LightGBM] [Warning] No further splits with positive gain, best gain: -inf\n",
      "[LightGBM] [Warning] No further splits with positive gain, best gain: -inf\n",
      "[LightGBM] [Warning] No further splits with positive gain, best gain: -inf\n",
      "[LightGBM] [Warning] No further splits with positive gain, best gain: -inf\n",
      "[LightGBM] [Warning] No further splits with positive gain, best gain: -inf\n",
      "[LightGBM] [Warning] No further splits with positive gain, best gain: -inf\n",
      "[LightGBM] [Warning] No further splits with positive gain, best gain: -inf\n",
      "[LightGBM] [Warning] No further splits with positive gain, best gain: -inf\n",
      "[LightGBM] [Warning] No further splits with positive gain, best gain: -inf\n",
      "[LightGBM] [Warning] No further splits with positive gain, best gain: -inf\n",
      "[LightGBM] [Warning] No further splits with positive gain, best gain: -inf\n",
      "[LightGBM] [Warning] No further splits with positive gain, best gain: -inf\n",
      "[LightGBM] [Warning] No further splits with positive gain, best gain: -inf\n",
      "[LightGBM] [Warning] No further splits with positive gain, best gain: -inf\n",
      "[LightGBM] [Warning] No further splits with positive gain, best gain: -inf\n",
      "[LightGBM] [Warning] No further splits with positive gain, best gain: -inf\n",
      "[LightGBM] [Warning] No further splits with positive gain, best gain: -inf\n",
      "[LightGBM] [Warning] No further splits with positive gain, best gain: -inf\n",
      "[LightGBM] [Warning] No further splits with positive gain, best gain: -inf\n",
      "[LightGBM] [Warning] No further splits with positive gain, best gain: -inf\n",
      "[LightGBM] [Warning] No further splits with positive gain, best gain: -inf\n",
      "[LightGBM] [Warning] No further splits with positive gain, best gain: -inf\n",
      "[LightGBM] [Warning] No further splits with positive gain, best gain: -inf\n",
      "[LightGBM] [Warning] No further splits with positive gain, best gain: -inf\n",
      "[LightGBM] [Warning] No further splits with positive gain, best gain: -inf\n",
      "[LightGBM] [Warning] No further splits with positive gain, best gain: -inf\n",
      "[LightGBM] [Warning] No further splits with positive gain, best gain: -inf\n",
      "[LightGBM] [Warning] No further splits with positive gain, best gain: -inf\n",
      "[LightGBM] [Warning] No further splits with positive gain, best gain: -inf\n",
      "[LightGBM] [Warning] No further splits with positive gain, best gain: -inf\n",
      "0.7429114525582132\n",
      "lr 0.46\n",
      "[LightGBM] [Info] Number of positive: 10925, number of negative: 96596\n",
      "[LightGBM] [Info] Auto-choosing row-wise multi-threading, the overhead of testing was 0.964264 seconds.\n",
      "You can set `force_row_wise=true` to remove the overhead.\n",
      "And if memory is not enough, you can set `force_col_wise=true`.\n",
      "[LightGBM] [Info] Total Bins 476442\n",
      "[LightGBM] [Info] Number of data points in the train set: 107521, number of used features: 8803\n",
      "[LightGBM] [Info] [binary:BoostFromScore]: pavg=0.101608 -> initscore=-2.179484\n",
      "[LightGBM] [Info] Start training from score -2.179484\n",
      "[LightGBM] [Warning] No further splits with positive gain, best gain: -inf\n",
      "[LightGBM] [Warning] No further splits with positive gain, best gain: -inf\n",
      "[LightGBM] [Warning] No further splits with positive gain, best gain: -inf\n",
      "[LightGBM] [Warning] No further splits with positive gain, best gain: -inf\n",
      "[LightGBM] [Warning] No further splits with positive gain, best gain: -inf\n",
      "[LightGBM] [Warning] No further splits with positive gain, best gain: -inf\n",
      "[LightGBM] [Warning] No further splits with positive gain, best gain: -inf\n",
      "[LightGBM] [Warning] No further splits with positive gain, best gain: -inf\n",
      "[LightGBM] [Warning] No further splits with positive gain, best gain: -inf\n",
      "[LightGBM] [Warning] No further splits with positive gain, best gain: -inf\n",
      "[LightGBM] [Warning] No further splits with positive gain, best gain: -inf\n",
      "[LightGBM] [Warning] No further splits with positive gain, best gain: -inf\n",
      "[LightGBM] [Warning] No further splits with positive gain, best gain: -inf\n",
      "[LightGBM] [Warning] No further splits with positive gain, best gain: -inf\n",
      "[LightGBM] [Warning] No further splits with positive gain, best gain: -inf\n",
      "[LightGBM] [Warning] No further splits with positive gain, best gain: -inf\n",
      "[LightGBM] [Warning] No further splits with positive gain, best gain: -inf\n",
      "[LightGBM] [Warning] No further splits with positive gain, best gain: -inf\n",
      "[LightGBM] [Warning] No further splits with positive gain, best gain: -inf\n",
      "[LightGBM] [Warning] No further splits with positive gain, best gain: -inf\n",
      "[LightGBM] [Warning] No further splits with positive gain, best gain: -inf\n",
      "[LightGBM] [Warning] No further splits with positive gain, best gain: -inf\n",
      "[LightGBM] [Warning] No further splits with positive gain, best gain: -inf\n",
      "[LightGBM] [Warning] No further splits with positive gain, best gain: -inf\n",
      "[LightGBM] [Warning] No further splits with positive gain, best gain: -inf\n",
      "[LightGBM] [Warning] No further splits with positive gain, best gain: -inf\n",
      "[LightGBM] [Warning] No further splits with positive gain, best gain: -inf\n",
      "[LightGBM] [Warning] No further splits with positive gain, best gain: -inf\n",
      "[LightGBM] [Warning] No further splits with positive gain, best gain: -inf\n",
      "[LightGBM] [Warning] No further splits with positive gain, best gain: -inf\n",
      "[LightGBM] [Warning] No further splits with positive gain, best gain: -inf\n",
      "[LightGBM] [Warning] No further splits with positive gain, best gain: -inf\n",
      "[LightGBM] [Warning] No further splits with positive gain, best gain: -inf\n",
      "[LightGBM] [Warning] No further splits with positive gain, best gain: -inf\n",
      "[LightGBM] [Warning] No further splits with positive gain, best gain: -inf\n",
      "[LightGBM] [Warning] No further splits with positive gain, best gain: -inf\n",
      "[LightGBM] [Warning] No further splits with positive gain, best gain: -inf\n",
      "[LightGBM] [Warning] No further splits with positive gain, best gain: -inf\n",
      "[LightGBM] [Warning] No further splits with positive gain, best gain: -inf\n",
      "[LightGBM] [Warning] No further splits with positive gain, best gain: -inf\n",
      "[LightGBM] [Warning] No further splits with positive gain, best gain: -inf\n",
      "[LightGBM] [Warning] No further splits with positive gain, best gain: -inf\n",
      "[LightGBM] [Warning] No further splits with positive gain, best gain: -inf\n",
      "[LightGBM] [Warning] No further splits with positive gain, best gain: -inf\n",
      "[LightGBM] [Warning] No further splits with positive gain, best gain: -inf\n",
      "[LightGBM] [Warning] No further splits with positive gain, best gain: -inf\n",
      "[LightGBM] [Warning] No further splits with positive gain, best gain: -inf\n",
      "[LightGBM] [Warning] No further splits with positive gain, best gain: -inf\n",
      "[LightGBM] [Warning] No further splits with positive gain, best gain: -inf\n",
      "[LightGBM] [Warning] No further splits with positive gain, best gain: -inf\n",
      "[LightGBM] [Warning] No further splits with positive gain, best gain: -inf\n",
      "[LightGBM] [Warning] No further splits with positive gain, best gain: -inf\n",
      "[LightGBM] [Warning] No further splits with positive gain, best gain: -inf\n",
      "[LightGBM] [Warning] No further splits with positive gain, best gain: -inf\n",
      "[LightGBM] [Warning] No further splits with positive gain, best gain: -inf\n",
      "[LightGBM] [Warning] No further splits with positive gain, best gain: -inf\n",
      "[LightGBM] [Warning] No further splits with positive gain, best gain: -inf\n",
      "[LightGBM] [Warning] No further splits with positive gain, best gain: -inf\n",
      "[LightGBM] [Warning] No further splits with positive gain, best gain: -inf\n",
      "[LightGBM] [Warning] No further splits with positive gain, best gain: -inf\n",
      "[LightGBM] [Warning] No further splits with positive gain, best gain: -inf\n",
      "[LightGBM] [Warning] No further splits with positive gain, best gain: -inf\n",
      "[LightGBM] [Warning] No further splits with positive gain, best gain: -inf\n",
      "[LightGBM] [Warning] No further splits with positive gain, best gain: -inf\n",
      "[LightGBM] [Warning] No further splits with positive gain, best gain: -inf\n",
      "[LightGBM] [Warning] No further splits with positive gain, best gain: -inf\n",
      "[LightGBM] [Warning] No further splits with positive gain, best gain: -inf\n",
      "[LightGBM] [Warning] No further splits with positive gain, best gain: -inf\n",
      "[LightGBM] [Warning] No further splits with positive gain, best gain: -inf\n",
      "[LightGBM] [Warning] No further splits with positive gain, best gain: -inf\n",
      "[LightGBM] [Warning] No further splits with positive gain, best gain: -inf\n",
      "[LightGBM] [Warning] No further splits with positive gain, best gain: -inf\n",
      "[LightGBM] [Warning] No further splits with positive gain, best gain: -inf\n",
      "[LightGBM] [Warning] No further splits with positive gain, best gain: -inf\n",
      "[LightGBM] [Warning] No further splits with positive gain, best gain: -inf\n",
      "[LightGBM] [Warning] No further splits with positive gain, best gain: -inf\n",
      "[LightGBM] [Warning] No further splits with positive gain, best gain: -inf\n",
      "[LightGBM] [Warning] No further splits with positive gain, best gain: -inf\n",
      "[LightGBM] [Warning] No further splits with positive gain, best gain: -inf\n",
      "[LightGBM] [Warning] No further splits with positive gain, best gain: -inf\n",
      "[LightGBM] [Warning] No further splits with positive gain, best gain: -inf\n",
      "[LightGBM] [Warning] No further splits with positive gain, best gain: -inf\n",
      "0.7430369787568843\n",
      "lr 0.47000000000000003\n",
      "[LightGBM] [Info] Number of positive: 10925, number of negative: 96596\n",
      "[LightGBM] [Info] Auto-choosing col-wise multi-threading, the overhead of testing was 0.975646 seconds.\n",
      "You can set `force_col_wise=true` to remove the overhead.\n",
      "[LightGBM] [Info] Total Bins 476442\n",
      "[LightGBM] [Info] Number of data points in the train set: 107521, number of used features: 8803\n",
      "[LightGBM] [Info] [binary:BoostFromScore]: pavg=0.101608 -> initscore=-2.179484\n",
      "[LightGBM] [Info] Start training from score -2.179484\n",
      "[LightGBM] [Warning] No further splits with positive gain, best gain: -inf\n",
      "[LightGBM] [Warning] No further splits with positive gain, best gain: -inf\n",
      "[LightGBM] [Warning] No further splits with positive gain, best gain: -inf\n",
      "[LightGBM] [Warning] No further splits with positive gain, best gain: -inf\n",
      "[LightGBM] [Warning] No further splits with positive gain, best gain: -inf\n",
      "[LightGBM] [Warning] No further splits with positive gain, best gain: -inf\n",
      "[LightGBM] [Warning] No further splits with positive gain, best gain: -inf\n",
      "[LightGBM] [Warning] No further splits with positive gain, best gain: -inf\n",
      "[LightGBM] [Warning] No further splits with positive gain, best gain: -inf\n",
      "[LightGBM] [Warning] No further splits with positive gain, best gain: -inf\n",
      "[LightGBM] [Warning] No further splits with positive gain, best gain: -inf\n",
      "[LightGBM] [Warning] No further splits with positive gain, best gain: -inf\n",
      "[LightGBM] [Warning] No further splits with positive gain, best gain: -inf\n",
      "[LightGBM] [Warning] No further splits with positive gain, best gain: -inf\n",
      "[LightGBM] [Warning] No further splits with positive gain, best gain: -inf\n",
      "[LightGBM] [Warning] No further splits with positive gain, best gain: -inf\n",
      "[LightGBM] [Warning] No further splits with positive gain, best gain: -inf\n",
      "[LightGBM] [Warning] No further splits with positive gain, best gain: -inf\n",
      "[LightGBM] [Warning] No further splits with positive gain, best gain: -inf\n",
      "[LightGBM] [Warning] No further splits with positive gain, best gain: -inf\n",
      "[LightGBM] [Warning] No further splits with positive gain, best gain: -inf\n",
      "[LightGBM] [Warning] No further splits with positive gain, best gain: -inf\n",
      "[LightGBM] [Warning] No further splits with positive gain, best gain: -inf\n",
      "[LightGBM] [Warning] No further splits with positive gain, best gain: -inf\n",
      "[LightGBM] [Warning] No further splits with positive gain, best gain: -inf\n",
      "[LightGBM] [Warning] No further splits with positive gain, best gain: -inf\n",
      "[LightGBM] [Warning] No further splits with positive gain, best gain: -inf\n",
      "[LightGBM] [Warning] No further splits with positive gain, best gain: -inf\n",
      "[LightGBM] [Warning] No further splits with positive gain, best gain: -inf\n",
      "[LightGBM] [Warning] No further splits with positive gain, best gain: -inf\n",
      "[LightGBM] [Warning] No further splits with positive gain, best gain: -inf\n",
      "[LightGBM] [Warning] No further splits with positive gain, best gain: -inf\n",
      "[LightGBM] [Warning] No further splits with positive gain, best gain: -inf\n",
      "[LightGBM] [Warning] No further splits with positive gain, best gain: -inf\n",
      "[LightGBM] [Warning] No further splits with positive gain, best gain: -inf\n",
      "[LightGBM] [Warning] No further splits with positive gain, best gain: -inf\n",
      "[LightGBM] [Warning] No further splits with positive gain, best gain: -inf\n",
      "[LightGBM] [Warning] No further splits with positive gain, best gain: -inf\n",
      "[LightGBM] [Warning] No further splits with positive gain, best gain: -inf\n",
      "[LightGBM] [Warning] No further splits with positive gain, best gain: -inf\n",
      "[LightGBM] [Warning] No further splits with positive gain, best gain: -inf\n",
      "[LightGBM] [Warning] No further splits with positive gain, best gain: -inf\n",
      "[LightGBM] [Warning] No further splits with positive gain, best gain: -inf\n",
      "[LightGBM] [Warning] No further splits with positive gain, best gain: -inf\n",
      "[LightGBM] [Warning] No further splits with positive gain, best gain: -inf\n",
      "[LightGBM] [Warning] No further splits with positive gain, best gain: -inf\n",
      "[LightGBM] [Warning] No further splits with positive gain, best gain: -inf\n",
      "[LightGBM] [Warning] No further splits with positive gain, best gain: -inf\n",
      "[LightGBM] [Warning] No further splits with positive gain, best gain: -inf\n",
      "[LightGBM] [Warning] No further splits with positive gain, best gain: -inf\n",
      "[LightGBM] [Warning] No further splits with positive gain, best gain: -inf\n",
      "[LightGBM] [Warning] No further splits with positive gain, best gain: -inf\n",
      "[LightGBM] [Warning] No further splits with positive gain, best gain: -inf\n",
      "[LightGBM] [Warning] No further splits with positive gain, best gain: -inf\n",
      "[LightGBM] [Warning] No further splits with positive gain, best gain: -inf\n",
      "[LightGBM] [Warning] No further splits with positive gain, best gain: -inf\n",
      "[LightGBM] [Warning] No further splits with positive gain, best gain: -inf\n",
      "[LightGBM] [Warning] No further splits with positive gain, best gain: -inf\n",
      "[LightGBM] [Warning] No further splits with positive gain, best gain: -inf\n",
      "[LightGBM] [Warning] No further splits with positive gain, best gain: -inf\n",
      "[LightGBM] [Warning] No further splits with positive gain, best gain: -inf\n",
      "[LightGBM] [Warning] No further splits with positive gain, best gain: -inf\n",
      "[LightGBM] [Warning] No further splits with positive gain, best gain: -inf\n",
      "[LightGBM] [Warning] No further splits with positive gain, best gain: -inf\n",
      "[LightGBM] [Warning] No further splits with positive gain, best gain: -inf\n",
      "[LightGBM] [Warning] No further splits with positive gain, best gain: -inf\n",
      "[LightGBM] [Warning] No further splits with positive gain, best gain: -inf\n",
      "[LightGBM] [Warning] No further splits with positive gain, best gain: -inf\n",
      "[LightGBM] [Warning] No further splits with positive gain, best gain: -inf\n",
      "[LightGBM] [Warning] No further splits with positive gain, best gain: -inf\n",
      "[LightGBM] [Warning] No further splits with positive gain, best gain: -inf\n",
      "[LightGBM] [Warning] No further splits with positive gain, best gain: -inf\n",
      "[LightGBM] [Warning] No further splits with positive gain, best gain: -inf\n",
      "[LightGBM] [Warning] No further splits with positive gain, best gain: -inf\n",
      "[LightGBM] [Warning] No further splits with positive gain, best gain: -inf\n",
      "[LightGBM] [Warning] No further splits with positive gain, best gain: -inf\n",
      "[LightGBM] [Warning] No further splits with positive gain, best gain: -inf\n",
      "[LightGBM] [Warning] No further splits with positive gain, best gain: -inf\n",
      "[LightGBM] [Warning] No further splits with positive gain, best gain: -inf\n",
      "[LightGBM] [Warning] No further splits with positive gain, best gain: -inf\n",
      "[LightGBM] [Warning] No further splits with positive gain, best gain: -inf\n",
      "[LightGBM] [Warning] No further splits with positive gain, best gain: -inf\n",
      "[LightGBM] [Warning] No further splits with positive gain, best gain: -inf\n",
      "[LightGBM] [Warning] No further splits with positive gain, best gain: -inf\n",
      "[LightGBM] [Warning] No further splits with positive gain, best gain: -inf\n",
      "0.7393290281934163\n",
      "lr 0.48\n",
      "[LightGBM] [Info] Number of positive: 10925, number of negative: 96596\n",
      "[LightGBM] [Info] Auto-choosing col-wise multi-threading, the overhead of testing was 0.981429 seconds.\n",
      "You can set `force_col_wise=true` to remove the overhead.\n",
      "[LightGBM] [Info] Total Bins 476442\n",
      "[LightGBM] [Info] Number of data points in the train set: 107521, number of used features: 8803\n",
      "[LightGBM] [Info] [binary:BoostFromScore]: pavg=0.101608 -> initscore=-2.179484\n",
      "[LightGBM] [Info] Start training from score -2.179484\n",
      "[LightGBM] [Warning] No further splits with positive gain, best gain: -inf\n",
      "[LightGBM] [Warning] No further splits with positive gain, best gain: -inf\n",
      "[LightGBM] [Warning] No further splits with positive gain, best gain: -inf\n",
      "[LightGBM] [Warning] No further splits with positive gain, best gain: -inf\n",
      "[LightGBM] [Warning] No further splits with positive gain, best gain: -inf\n",
      "[LightGBM] [Warning] No further splits with positive gain, best gain: -inf\n",
      "[LightGBM] [Warning] No further splits with positive gain, best gain: -inf\n",
      "[LightGBM] [Warning] No further splits with positive gain, best gain: -inf\n",
      "[LightGBM] [Warning] No further splits with positive gain, best gain: -inf\n",
      "[LightGBM] [Warning] No further splits with positive gain, best gain: -inf\n",
      "[LightGBM] [Warning] No further splits with positive gain, best gain: -inf\n",
      "[LightGBM] [Warning] No further splits with positive gain, best gain: -inf\n",
      "[LightGBM] [Warning] No further splits with positive gain, best gain: -inf\n",
      "[LightGBM] [Warning] No further splits with positive gain, best gain: -inf\n",
      "[LightGBM] [Warning] No further splits with positive gain, best gain: -inf\n",
      "[LightGBM] [Warning] No further splits with positive gain, best gain: -inf\n",
      "[LightGBM] [Warning] No further splits with positive gain, best gain: -inf\n",
      "[LightGBM] [Warning] No further splits with positive gain, best gain: -inf\n",
      "[LightGBM] [Warning] No further splits with positive gain, best gain: -inf\n",
      "[LightGBM] [Warning] No further splits with positive gain, best gain: -inf\n",
      "[LightGBM] [Warning] No further splits with positive gain, best gain: -inf\n",
      "[LightGBM] [Warning] No further splits with positive gain, best gain: -inf\n",
      "[LightGBM] [Warning] No further splits with positive gain, best gain: -inf\n",
      "[LightGBM] [Warning] No further splits with positive gain, best gain: -inf\n",
      "[LightGBM] [Warning] No further splits with positive gain, best gain: -inf\n",
      "[LightGBM] [Warning] No further splits with positive gain, best gain: -inf\n",
      "[LightGBM] [Warning] No further splits with positive gain, best gain: -inf\n",
      "[LightGBM] [Warning] No further splits with positive gain, best gain: -inf\n",
      "[LightGBM] [Warning] No further splits with positive gain, best gain: -inf\n",
      "[LightGBM] [Warning] No further splits with positive gain, best gain: -inf\n",
      "[LightGBM] [Warning] No further splits with positive gain, best gain: -inf\n",
      "[LightGBM] [Warning] No further splits with positive gain, best gain: -inf\n",
      "[LightGBM] [Warning] No further splits with positive gain, best gain: -inf\n",
      "[LightGBM] [Warning] No further splits with positive gain, best gain: -inf\n",
      "[LightGBM] [Warning] No further splits with positive gain, best gain: -inf\n",
      "[LightGBM] [Warning] No further splits with positive gain, best gain: -inf\n",
      "[LightGBM] [Warning] No further splits with positive gain, best gain: -inf\n",
      "[LightGBM] [Warning] No further splits with positive gain, best gain: -inf\n",
      "[LightGBM] [Warning] No further splits with positive gain, best gain: -inf\n",
      "[LightGBM] [Warning] No further splits with positive gain, best gain: -inf\n",
      "[LightGBM] [Warning] No further splits with positive gain, best gain: -inf\n",
      "[LightGBM] [Warning] No further splits with positive gain, best gain: -inf\n",
      "[LightGBM] [Warning] No further splits with positive gain, best gain: -inf\n",
      "[LightGBM] [Warning] No further splits with positive gain, best gain: -inf\n",
      "[LightGBM] [Warning] No further splits with positive gain, best gain: -inf\n",
      "[LightGBM] [Warning] No further splits with positive gain, best gain: -inf\n",
      "[LightGBM] [Warning] No further splits with positive gain, best gain: -inf\n",
      "[LightGBM] [Warning] No further splits with positive gain, best gain: -inf\n",
      "[LightGBM] [Warning] No further splits with positive gain, best gain: -inf\n",
      "[LightGBM] [Warning] No further splits with positive gain, best gain: -inf\n",
      "[LightGBM] [Warning] No further splits with positive gain, best gain: -inf\n",
      "[LightGBM] [Warning] No further splits with positive gain, best gain: -inf\n",
      "[LightGBM] [Warning] No further splits with positive gain, best gain: -inf\n",
      "[LightGBM] [Warning] No further splits with positive gain, best gain: -inf\n",
      "[LightGBM] [Warning] No further splits with positive gain, best gain: -inf\n",
      "[LightGBM] [Warning] No further splits with positive gain, best gain: -inf\n",
      "[LightGBM] [Warning] No further splits with positive gain, best gain: -inf\n",
      "[LightGBM] [Warning] No further splits with positive gain, best gain: -inf\n",
      "[LightGBM] [Warning] No further splits with positive gain, best gain: -inf\n",
      "[LightGBM] [Warning] No further splits with positive gain, best gain: -inf\n",
      "[LightGBM] [Warning] No further splits with positive gain, best gain: -inf\n",
      "[LightGBM] [Warning] No further splits with positive gain, best gain: -inf\n",
      "[LightGBM] [Warning] No further splits with positive gain, best gain: -inf\n",
      "[LightGBM] [Warning] No further splits with positive gain, best gain: -inf\n",
      "[LightGBM] [Warning] No further splits with positive gain, best gain: -inf\n",
      "[LightGBM] [Warning] No further splits with positive gain, best gain: -inf\n",
      "[LightGBM] [Warning] No further splits with positive gain, best gain: -inf\n",
      "[LightGBM] [Warning] No further splits with positive gain, best gain: -inf\n",
      "[LightGBM] [Warning] No further splits with positive gain, best gain: -inf\n",
      "[LightGBM] [Warning] No further splits with positive gain, best gain: -inf\n",
      "[LightGBM] [Warning] No further splits with positive gain, best gain: -inf\n",
      "[LightGBM] [Warning] No further splits with positive gain, best gain: -inf\n",
      "[LightGBM] [Warning] No further splits with positive gain, best gain: -inf\n",
      "[LightGBM] [Warning] No further splits with positive gain, best gain: -inf\n",
      "[LightGBM] [Warning] No further splits with positive gain, best gain: -inf\n",
      "[LightGBM] [Warning] No further splits with positive gain, best gain: -inf\n",
      "[LightGBM] [Warning] No further splits with positive gain, best gain: -inf\n",
      "[LightGBM] [Warning] No further splits with positive gain, best gain: -inf\n",
      "[LightGBM] [Warning] No further splits with positive gain, best gain: -inf\n",
      "[LightGBM] [Warning] No further splits with positive gain, best gain: -inf\n",
      "[LightGBM] [Warning] No further splits with positive gain, best gain: -inf\n",
      "[LightGBM] [Warning] No further splits with positive gain, best gain: -inf\n",
      "[LightGBM] [Warning] No further splits with positive gain, best gain: -inf\n",
      "[LightGBM] [Warning] No further splits with positive gain, best gain: -inf\n",
      "[LightGBM] [Warning] No further splits with positive gain, best gain: -inf\n",
      "0.7408787455364074\n",
      "lr 0.49\n",
      "[LightGBM] [Info] Number of positive: 10925, number of negative: 96596\n",
      "[LightGBM] [Info] Auto-choosing row-wise multi-threading, the overhead of testing was 0.964280 seconds.\n",
      "You can set `force_row_wise=true` to remove the overhead.\n",
      "And if memory is not enough, you can set `force_col_wise=true`.\n",
      "[LightGBM] [Info] Total Bins 476442\n",
      "[LightGBM] [Info] Number of data points in the train set: 107521, number of used features: 8803\n",
      "[LightGBM] [Info] [binary:BoostFromScore]: pavg=0.101608 -> initscore=-2.179484\n",
      "[LightGBM] [Info] Start training from score -2.179484\n",
      "[LightGBM] [Warning] No further splits with positive gain, best gain: -inf\n",
      "[LightGBM] [Warning] No further splits with positive gain, best gain: -inf\n",
      "[LightGBM] [Warning] No further splits with positive gain, best gain: -inf\n",
      "[LightGBM] [Warning] No further splits with positive gain, best gain: -inf\n",
      "[LightGBM] [Warning] No further splits with positive gain, best gain: -inf\n",
      "[LightGBM] [Warning] No further splits with positive gain, best gain: -inf\n",
      "[LightGBM] [Warning] No further splits with positive gain, best gain: -inf\n",
      "[LightGBM] [Warning] No further splits with positive gain, best gain: -inf\n",
      "[LightGBM] [Warning] No further splits with positive gain, best gain: -inf\n",
      "[LightGBM] [Warning] No further splits with positive gain, best gain: -inf\n",
      "[LightGBM] [Warning] No further splits with positive gain, best gain: -inf\n",
      "[LightGBM] [Warning] No further splits with positive gain, best gain: -inf\n",
      "[LightGBM] [Warning] No further splits with positive gain, best gain: -inf\n",
      "[LightGBM] [Warning] No further splits with positive gain, best gain: -inf\n",
      "[LightGBM] [Warning] No further splits with positive gain, best gain: -inf\n",
      "[LightGBM] [Warning] No further splits with positive gain, best gain: -inf\n",
      "[LightGBM] [Warning] No further splits with positive gain, best gain: -inf\n",
      "[LightGBM] [Warning] No further splits with positive gain, best gain: -inf\n",
      "[LightGBM] [Warning] No further splits with positive gain, best gain: -inf\n",
      "[LightGBM] [Warning] No further splits with positive gain, best gain: -inf\n",
      "[LightGBM] [Warning] No further splits with positive gain, best gain: -inf\n",
      "[LightGBM] [Warning] No further splits with positive gain, best gain: -inf\n",
      "[LightGBM] [Warning] No further splits with positive gain, best gain: -inf\n",
      "[LightGBM] [Warning] No further splits with positive gain, best gain: -inf\n",
      "[LightGBM] [Warning] No further splits with positive gain, best gain: -inf\n",
      "[LightGBM] [Warning] No further splits with positive gain, best gain: -inf\n",
      "[LightGBM] [Warning] No further splits with positive gain, best gain: -inf\n",
      "[LightGBM] [Warning] No further splits with positive gain, best gain: -inf\n",
      "[LightGBM] [Warning] No further splits with positive gain, best gain: -inf\n",
      "[LightGBM] [Warning] No further splits with positive gain, best gain: -inf\n",
      "[LightGBM] [Warning] No further splits with positive gain, best gain: -inf\n",
      "[LightGBM] [Warning] No further splits with positive gain, best gain: -inf\n",
      "[LightGBM] [Warning] No further splits with positive gain, best gain: -inf\n",
      "[LightGBM] [Warning] No further splits with positive gain, best gain: -inf\n",
      "[LightGBM] [Warning] No further splits with positive gain, best gain: -inf\n",
      "[LightGBM] [Warning] No further splits with positive gain, best gain: -inf\n",
      "[LightGBM] [Warning] No further splits with positive gain, best gain: -inf\n",
      "[LightGBM] [Warning] No further splits with positive gain, best gain: -inf\n",
      "[LightGBM] [Warning] No further splits with positive gain, best gain: -inf\n",
      "[LightGBM] [Warning] No further splits with positive gain, best gain: -inf\n",
      "[LightGBM] [Warning] No further splits with positive gain, best gain: -inf\n",
      "[LightGBM] [Warning] No further splits with positive gain, best gain: -inf\n",
      "[LightGBM] [Warning] No further splits with positive gain, best gain: -inf\n",
      "[LightGBM] [Warning] No further splits with positive gain, best gain: -inf\n",
      "[LightGBM] [Warning] No further splits with positive gain, best gain: -inf\n",
      "[LightGBM] [Warning] No further splits with positive gain, best gain: -inf\n",
      "[LightGBM] [Warning] No further splits with positive gain, best gain: -inf\n",
      "[LightGBM] [Warning] No further splits with positive gain, best gain: -inf\n",
      "[LightGBM] [Warning] No further splits with positive gain, best gain: -inf\n",
      "[LightGBM] [Warning] No further splits with positive gain, best gain: -inf\n",
      "[LightGBM] [Warning] No further splits with positive gain, best gain: -inf\n",
      "[LightGBM] [Warning] No further splits with positive gain, best gain: -inf\n",
      "[LightGBM] [Warning] No further splits with positive gain, best gain: -inf\n",
      "[LightGBM] [Warning] No further splits with positive gain, best gain: -inf\n",
      "[LightGBM] [Warning] No further splits with positive gain, best gain: -inf\n",
      "[LightGBM] [Warning] No further splits with positive gain, best gain: -inf\n",
      "[LightGBM] [Warning] No further splits with positive gain, best gain: -inf\n",
      "[LightGBM] [Warning] No further splits with positive gain, best gain: -inf\n",
      "[LightGBM] [Warning] No further splits with positive gain, best gain: -inf\n",
      "[LightGBM] [Warning] No further splits with positive gain, best gain: -inf\n",
      "[LightGBM] [Warning] No further splits with positive gain, best gain: -inf\n",
      "[LightGBM] [Warning] No further splits with positive gain, best gain: -inf\n",
      "[LightGBM] [Warning] No further splits with positive gain, best gain: -inf\n",
      "[LightGBM] [Warning] No further splits with positive gain, best gain: -inf\n",
      "[LightGBM] [Warning] No further splits with positive gain, best gain: -inf\n",
      "[LightGBM] [Warning] No further splits with positive gain, best gain: -inf\n",
      "[LightGBM] [Warning] No further splits with positive gain, best gain: -inf\n",
      "[LightGBM] [Warning] No further splits with positive gain, best gain: -inf\n",
      "[LightGBM] [Warning] No further splits with positive gain, best gain: -inf\n",
      "[LightGBM] [Warning] No further splits with positive gain, best gain: -inf\n",
      "[LightGBM] [Warning] No further splits with positive gain, best gain: -inf\n",
      "[LightGBM] [Warning] No further splits with positive gain, best gain: -inf\n",
      "[LightGBM] [Warning] No further splits with positive gain, best gain: -inf\n",
      "[LightGBM] [Warning] No further splits with positive gain, best gain: -inf\n",
      "[LightGBM] [Warning] No further splits with positive gain, best gain: -inf\n",
      "[LightGBM] [Warning] No further splits with positive gain, best gain: -inf\n",
      "[LightGBM] [Warning] No further splits with positive gain, best gain: -inf\n",
      "[LightGBM] [Warning] No further splits with positive gain, best gain: -inf\n",
      "[LightGBM] [Warning] No further splits with positive gain, best gain: -inf\n",
      "[LightGBM] [Warning] No further splits with positive gain, best gain: -inf\n",
      "[LightGBM] [Warning] No further splits with positive gain, best gain: -inf\n",
      "[LightGBM] [Warning] No further splits with positive gain, best gain: -inf\n",
      "[LightGBM] [Warning] No further splits with positive gain, best gain: -inf\n",
      "[LightGBM] [Warning] No further splits with positive gain, best gain: -inf\n",
      "[LightGBM] [Warning] No further splits with positive gain, best gain: -inf\n",
      "0.7435779110906015\n",
      "lr 0.5\n",
      "[LightGBM] [Info] Number of positive: 10925, number of negative: 96596\n",
      "[LightGBM] [Info] Auto-choosing row-wise multi-threading, the overhead of testing was 0.992082 seconds.\n",
      "You can set `force_row_wise=true` to remove the overhead.\n",
      "And if memory is not enough, you can set `force_col_wise=true`.\n",
      "[LightGBM] [Info] Total Bins 476442\n",
      "[LightGBM] [Info] Number of data points in the train set: 107521, number of used features: 8803\n",
      "[LightGBM] [Info] [binary:BoostFromScore]: pavg=0.101608 -> initscore=-2.179484\n",
      "[LightGBM] [Info] Start training from score -2.179484\n",
      "[LightGBM] [Warning] No further splits with positive gain, best gain: -inf\n",
      "[LightGBM] [Warning] No further splits with positive gain, best gain: -inf\n",
      "[LightGBM] [Warning] No further splits with positive gain, best gain: -inf\n",
      "[LightGBM] [Warning] No further splits with positive gain, best gain: -inf\n",
      "[LightGBM] [Warning] No further splits with positive gain, best gain: -inf\n",
      "[LightGBM] [Warning] No further splits with positive gain, best gain: -inf\n",
      "[LightGBM] [Warning] No further splits with positive gain, best gain: -inf\n",
      "[LightGBM] [Warning] No further splits with positive gain, best gain: -inf\n",
      "[LightGBM] [Warning] No further splits with positive gain, best gain: -inf\n",
      "[LightGBM] [Warning] No further splits with positive gain, best gain: -inf\n",
      "[LightGBM] [Warning] No further splits with positive gain, best gain: -inf\n",
      "[LightGBM] [Warning] No further splits with positive gain, best gain: -inf\n",
      "[LightGBM] [Warning] No further splits with positive gain, best gain: -inf\n",
      "[LightGBM] [Warning] No further splits with positive gain, best gain: -inf\n",
      "[LightGBM] [Warning] No further splits with positive gain, best gain: -inf\n",
      "[LightGBM] [Warning] No further splits with positive gain, best gain: -inf\n",
      "[LightGBM] [Warning] No further splits with positive gain, best gain: -inf\n",
      "[LightGBM] [Warning] No further splits with positive gain, best gain: -inf\n",
      "[LightGBM] [Warning] No further splits with positive gain, best gain: -inf\n",
      "[LightGBM] [Warning] No further splits with positive gain, best gain: -inf\n",
      "[LightGBM] [Warning] No further splits with positive gain, best gain: -inf\n",
      "[LightGBM] [Warning] No further splits with positive gain, best gain: -inf\n",
      "[LightGBM] [Warning] No further splits with positive gain, best gain: -inf\n",
      "[LightGBM] [Warning] No further splits with positive gain, best gain: -inf\n",
      "[LightGBM] [Warning] No further splits with positive gain, best gain: -inf\n",
      "[LightGBM] [Warning] No further splits with positive gain, best gain: -inf\n",
      "[LightGBM] [Warning] No further splits with positive gain, best gain: -inf\n",
      "[LightGBM] [Warning] No further splits with positive gain, best gain: -inf\n",
      "[LightGBM] [Warning] No further splits with positive gain, best gain: -inf\n",
      "[LightGBM] [Warning] No further splits with positive gain, best gain: -inf\n",
      "[LightGBM] [Warning] No further splits with positive gain, best gain: -inf\n",
      "[LightGBM] [Warning] No further splits with positive gain, best gain: -inf\n",
      "[LightGBM] [Warning] No further splits with positive gain, best gain: -inf\n",
      "[LightGBM] [Warning] No further splits with positive gain, best gain: -inf\n",
      "[LightGBM] [Warning] No further splits with positive gain, best gain: -inf\n",
      "[LightGBM] [Warning] No further splits with positive gain, best gain: -inf\n",
      "[LightGBM] [Warning] No further splits with positive gain, best gain: -inf\n",
      "[LightGBM] [Warning] No further splits with positive gain, best gain: -inf\n",
      "[LightGBM] [Warning] No further splits with positive gain, best gain: -inf\n",
      "[LightGBM] [Warning] No further splits with positive gain, best gain: -inf\n",
      "[LightGBM] [Warning] No further splits with positive gain, best gain: -inf\n",
      "[LightGBM] [Warning] No further splits with positive gain, best gain: -inf\n",
      "[LightGBM] [Warning] No further splits with positive gain, best gain: -inf\n",
      "[LightGBM] [Warning] No further splits with positive gain, best gain: -inf\n",
      "[LightGBM] [Warning] No further splits with positive gain, best gain: -inf\n",
      "[LightGBM] [Warning] No further splits with positive gain, best gain: -inf\n",
      "[LightGBM] [Warning] No further splits with positive gain, best gain: -inf\n",
      "[LightGBM] [Warning] No further splits with positive gain, best gain: -inf\n",
      "[LightGBM] [Warning] No further splits with positive gain, best gain: -inf\n",
      "[LightGBM] [Warning] No further splits with positive gain, best gain: -inf\n",
      "[LightGBM] [Warning] No further splits with positive gain, best gain: -inf\n",
      "[LightGBM] [Warning] No further splits with positive gain, best gain: -inf\n",
      "[LightGBM] [Warning] No further splits with positive gain, best gain: -inf\n",
      "[LightGBM] [Warning] No further splits with positive gain, best gain: -inf\n",
      "[LightGBM] [Warning] No further splits with positive gain, best gain: -inf\n",
      "[LightGBM] [Warning] No further splits with positive gain, best gain: -inf\n",
      "[LightGBM] [Warning] No further splits with positive gain, best gain: -inf\n",
      "[LightGBM] [Warning] No further splits with positive gain, best gain: -inf\n",
      "[LightGBM] [Warning] No further splits with positive gain, best gain: -inf\n",
      "[LightGBM] [Warning] No further splits with positive gain, best gain: -inf\n",
      "[LightGBM] [Warning] No further splits with positive gain, best gain: -inf\n",
      "[LightGBM] [Warning] No further splits with positive gain, best gain: -inf\n",
      "[LightGBM] [Warning] No further splits with positive gain, best gain: -inf\n",
      "[LightGBM] [Warning] No further splits with positive gain, best gain: -inf\n",
      "[LightGBM] [Warning] No further splits with positive gain, best gain: -inf\n",
      "[LightGBM] [Warning] No further splits with positive gain, best gain: -inf\n",
      "[LightGBM] [Warning] No further splits with positive gain, best gain: -inf\n",
      "[LightGBM] [Warning] No further splits with positive gain, best gain: -inf\n",
      "[LightGBM] [Warning] No further splits with positive gain, best gain: -inf\n",
      "[LightGBM] [Warning] No further splits with positive gain, best gain: -inf\n",
      "[LightGBM] [Warning] No further splits with positive gain, best gain: -inf\n",
      "[LightGBM] [Warning] No further splits with positive gain, best gain: -inf\n",
      "[LightGBM] [Warning] No further splits with positive gain, best gain: -inf\n",
      "[LightGBM] [Warning] No further splits with positive gain, best gain: -inf\n",
      "[LightGBM] [Warning] No further splits with positive gain, best gain: -inf\n",
      "[LightGBM] [Warning] No further splits with positive gain, best gain: -inf\n",
      "[LightGBM] [Warning] No further splits with positive gain, best gain: -inf\n",
      "[LightGBM] [Warning] No further splits with positive gain, best gain: -inf\n",
      "[LightGBM] [Warning] No further splits with positive gain, best gain: -inf\n",
      "[LightGBM] [Warning] No further splits with positive gain, best gain: -inf\n",
      "[LightGBM] [Warning] No further splits with positive gain, best gain: -inf\n",
      "[LightGBM] [Warning] No further splits with positive gain, best gain: -inf\n",
      "[LightGBM] [Warning] No further splits with positive gain, best gain: -inf\n",
      "[LightGBM] [Warning] No further splits with positive gain, best gain: -inf\n",
      "[LightGBM] [Warning] No further splits with positive gain, best gain: -inf\n",
      "0.7462411782755446\n",
      "lr 0.51\n",
      "[LightGBM] [Info] Number of positive: 10925, number of negative: 96596\n",
      "[LightGBM] [Info] Auto-choosing row-wise multi-threading, the overhead of testing was 0.944910 seconds.\n",
      "You can set `force_row_wise=true` to remove the overhead.\n",
      "And if memory is not enough, you can set `force_col_wise=true`.\n",
      "[LightGBM] [Info] Total Bins 476442\n",
      "[LightGBM] [Info] Number of data points in the train set: 107521, number of used features: 8803\n",
      "[LightGBM] [Info] [binary:BoostFromScore]: pavg=0.101608 -> initscore=-2.179484\n",
      "[LightGBM] [Info] Start training from score -2.179484\n",
      "[LightGBM] [Warning] No further splits with positive gain, best gain: -inf\n",
      "[LightGBM] [Warning] No further splits with positive gain, best gain: -inf\n",
      "[LightGBM] [Warning] No further splits with positive gain, best gain: -inf\n",
      "[LightGBM] [Warning] No further splits with positive gain, best gain: -inf\n",
      "[LightGBM] [Warning] No further splits with positive gain, best gain: -inf\n",
      "[LightGBM] [Warning] No further splits with positive gain, best gain: -inf\n",
      "[LightGBM] [Warning] No further splits with positive gain, best gain: -inf\n",
      "[LightGBM] [Warning] No further splits with positive gain, best gain: -inf\n",
      "[LightGBM] [Warning] No further splits with positive gain, best gain: -inf\n",
      "[LightGBM] [Warning] No further splits with positive gain, best gain: -inf\n",
      "[LightGBM] [Warning] No further splits with positive gain, best gain: -inf\n",
      "[LightGBM] [Warning] No further splits with positive gain, best gain: -inf\n",
      "[LightGBM] [Warning] No further splits with positive gain, best gain: -inf\n",
      "[LightGBM] [Warning] No further splits with positive gain, best gain: -inf\n",
      "[LightGBM] [Warning] No further splits with positive gain, best gain: -inf\n",
      "[LightGBM] [Warning] No further splits with positive gain, best gain: -inf\n",
      "[LightGBM] [Warning] No further splits with positive gain, best gain: -inf\n",
      "[LightGBM] [Warning] No further splits with positive gain, best gain: -inf\n",
      "[LightGBM] [Warning] No further splits with positive gain, best gain: -inf\n",
      "[LightGBM] [Warning] No further splits with positive gain, best gain: -inf\n",
      "[LightGBM] [Warning] No further splits with positive gain, best gain: -inf\n",
      "[LightGBM] [Warning] No further splits with positive gain, best gain: -inf\n",
      "[LightGBM] [Warning] No further splits with positive gain, best gain: -inf\n",
      "[LightGBM] [Warning] No further splits with positive gain, best gain: -inf\n",
      "[LightGBM] [Warning] No further splits with positive gain, best gain: -inf\n",
      "[LightGBM] [Warning] No further splits with positive gain, best gain: -inf\n",
      "[LightGBM] [Warning] No further splits with positive gain, best gain: -inf\n",
      "[LightGBM] [Warning] No further splits with positive gain, best gain: -inf\n",
      "[LightGBM] [Warning] No further splits with positive gain, best gain: -inf\n",
      "[LightGBM] [Warning] No further splits with positive gain, best gain: -inf\n",
      "[LightGBM] [Warning] No further splits with positive gain, best gain: -inf\n",
      "[LightGBM] [Warning] No further splits with positive gain, best gain: -inf\n",
      "[LightGBM] [Warning] No further splits with positive gain, best gain: -inf\n",
      "[LightGBM] [Warning] No further splits with positive gain, best gain: -inf\n",
      "[LightGBM] [Warning] No further splits with positive gain, best gain: -inf\n",
      "[LightGBM] [Warning] No further splits with positive gain, best gain: -inf\n",
      "[LightGBM] [Warning] No further splits with positive gain, best gain: -inf\n",
      "[LightGBM] [Warning] No further splits with positive gain, best gain: -inf\n",
      "[LightGBM] [Warning] No further splits with positive gain, best gain: -inf\n",
      "[LightGBM] [Warning] No further splits with positive gain, best gain: -inf\n",
      "[LightGBM] [Warning] No further splits with positive gain, best gain: -inf\n",
      "[LightGBM] [Warning] No further splits with positive gain, best gain: -inf\n",
      "[LightGBM] [Warning] No further splits with positive gain, best gain: -inf\n",
      "[LightGBM] [Warning] No further splits with positive gain, best gain: -inf\n",
      "[LightGBM] [Warning] No further splits with positive gain, best gain: -inf\n",
      "[LightGBM] [Warning] No further splits with positive gain, best gain: -inf\n",
      "[LightGBM] [Warning] No further splits with positive gain, best gain: -inf\n",
      "[LightGBM] [Warning] No further splits with positive gain, best gain: -inf\n",
      "[LightGBM] [Warning] No further splits with positive gain, best gain: -inf\n",
      "[LightGBM] [Warning] No further splits with positive gain, best gain: -inf\n",
      "[LightGBM] [Warning] No further splits with positive gain, best gain: -inf\n",
      "[LightGBM] [Warning] No further splits with positive gain, best gain: -inf\n",
      "[LightGBM] [Warning] No further splits with positive gain, best gain: -inf\n",
      "[LightGBM] [Warning] No further splits with positive gain, best gain: -inf\n",
      "[LightGBM] [Warning] No further splits with positive gain, best gain: -inf\n",
      "[LightGBM] [Warning] No further splits with positive gain, best gain: -inf\n",
      "[LightGBM] [Warning] No further splits with positive gain, best gain: -inf\n",
      "[LightGBM] [Warning] No further splits with positive gain, best gain: -inf\n",
      "[LightGBM] [Warning] No further splits with positive gain, best gain: -inf\n",
      "[LightGBM] [Warning] No further splits with positive gain, best gain: -inf\n",
      "[LightGBM] [Warning] No further splits with positive gain, best gain: -inf\n",
      "[LightGBM] [Warning] No further splits with positive gain, best gain: -inf\n",
      "[LightGBM] [Warning] No further splits with positive gain, best gain: -inf\n",
      "[LightGBM] [Warning] No further splits with positive gain, best gain: -inf\n",
      "[LightGBM] [Warning] No further splits with positive gain, best gain: -inf\n",
      "[LightGBM] [Warning] No further splits with positive gain, best gain: -inf\n",
      "[LightGBM] [Warning] No further splits with positive gain, best gain: -inf\n",
      "[LightGBM] [Warning] No further splits with positive gain, best gain: -inf\n",
      "[LightGBM] [Warning] No further splits with positive gain, best gain: -inf\n",
      "[LightGBM] [Warning] No further splits with positive gain, best gain: -inf\n",
      "[LightGBM] [Warning] No further splits with positive gain, best gain: -inf\n",
      "[LightGBM] [Warning] No further splits with positive gain, best gain: -inf\n",
      "[LightGBM] [Warning] No further splits with positive gain, best gain: -inf\n",
      "[LightGBM] [Warning] No further splits with positive gain, best gain: -inf\n",
      "[LightGBM] [Warning] No further splits with positive gain, best gain: -inf\n",
      "[LightGBM] [Warning] No further splits with positive gain, best gain: -inf\n",
      "[LightGBM] [Warning] No further splits with positive gain, best gain: -inf\n",
      "[LightGBM] [Warning] No further splits with positive gain, best gain: -inf\n",
      "[LightGBM] [Warning] No further splits with positive gain, best gain: -inf\n",
      "[LightGBM] [Warning] No further splits with positive gain, best gain: -inf\n",
      "[LightGBM] [Warning] No further splits with positive gain, best gain: -inf\n",
      "0.7482188873730483\n",
      "lr 0.52\n",
      "[LightGBM] [Info] Number of positive: 10925, number of negative: 96596\n",
      "[LightGBM] [Info] Auto-choosing row-wise multi-threading, the overhead of testing was 1.027019 seconds.\n",
      "You can set `force_row_wise=true` to remove the overhead.\n",
      "And if memory is not enough, you can set `force_col_wise=true`.\n",
      "[LightGBM] [Info] Total Bins 476442\n",
      "[LightGBM] [Info] Number of data points in the train set: 107521, number of used features: 8803\n",
      "[LightGBM] [Info] [binary:BoostFromScore]: pavg=0.101608 -> initscore=-2.179484\n",
      "[LightGBM] [Info] Start training from score -2.179484\n",
      "[LightGBM] [Warning] No further splits with positive gain, best gain: -inf\n",
      "[LightGBM] [Warning] No further splits with positive gain, best gain: -inf\n",
      "[LightGBM] [Warning] No further splits with positive gain, best gain: -inf\n",
      "[LightGBM] [Warning] No further splits with positive gain, best gain: -inf\n",
      "[LightGBM] [Warning] No further splits with positive gain, best gain: -inf\n",
      "[LightGBM] [Warning] No further splits with positive gain, best gain: -inf\n",
      "[LightGBM] [Warning] No further splits with positive gain, best gain: -inf\n",
      "[LightGBM] [Warning] No further splits with positive gain, best gain: -inf\n",
      "[LightGBM] [Warning] No further splits with positive gain, best gain: -inf\n",
      "[LightGBM] [Warning] No further splits with positive gain, best gain: -inf\n",
      "[LightGBM] [Warning] No further splits with positive gain, best gain: -inf\n",
      "[LightGBM] [Warning] No further splits with positive gain, best gain: -inf\n",
      "[LightGBM] [Warning] No further splits with positive gain, best gain: -inf\n",
      "[LightGBM] [Warning] No further splits with positive gain, best gain: -inf\n",
      "[LightGBM] [Warning] No further splits with positive gain, best gain: -inf\n",
      "[LightGBM] [Warning] No further splits with positive gain, best gain: -inf\n",
      "[LightGBM] [Warning] No further splits with positive gain, best gain: -inf\n",
      "[LightGBM] [Warning] No further splits with positive gain, best gain: -inf\n",
      "[LightGBM] [Warning] No further splits with positive gain, best gain: -inf\n",
      "[LightGBM] [Warning] No further splits with positive gain, best gain: -inf\n",
      "[LightGBM] [Warning] No further splits with positive gain, best gain: -inf\n",
      "[LightGBM] [Warning] No further splits with positive gain, best gain: -inf\n",
      "[LightGBM] [Warning] No further splits with positive gain, best gain: -inf\n",
      "[LightGBM] [Warning] No further splits with positive gain, best gain: -inf\n",
      "[LightGBM] [Warning] No further splits with positive gain, best gain: -inf\n",
      "[LightGBM] [Warning] No further splits with positive gain, best gain: -inf\n",
      "[LightGBM] [Warning] No further splits with positive gain, best gain: -inf\n",
      "[LightGBM] [Warning] No further splits with positive gain, best gain: -inf\n",
      "[LightGBM] [Warning] No further splits with positive gain, best gain: -inf\n",
      "[LightGBM] [Warning] No further splits with positive gain, best gain: -inf\n",
      "[LightGBM] [Warning] No further splits with positive gain, best gain: -inf\n",
      "[LightGBM] [Warning] No further splits with positive gain, best gain: -inf\n",
      "[LightGBM] [Warning] No further splits with positive gain, best gain: -inf\n",
      "[LightGBM] [Warning] No further splits with positive gain, best gain: -inf\n",
      "[LightGBM] [Warning] No further splits with positive gain, best gain: -inf\n",
      "[LightGBM] [Warning] No further splits with positive gain, best gain: -inf\n",
      "[LightGBM] [Warning] No further splits with positive gain, best gain: -inf\n",
      "[LightGBM] [Warning] No further splits with positive gain, best gain: -inf\n",
      "[LightGBM] [Warning] No further splits with positive gain, best gain: -inf\n",
      "[LightGBM] [Warning] No further splits with positive gain, best gain: -inf\n",
      "[LightGBM] [Warning] No further splits with positive gain, best gain: -inf\n",
      "[LightGBM] [Warning] No further splits with positive gain, best gain: -inf\n",
      "[LightGBM] [Warning] No further splits with positive gain, best gain: -inf\n",
      "[LightGBM] [Warning] No further splits with positive gain, best gain: -inf\n",
      "[LightGBM] [Warning] No further splits with positive gain, best gain: -inf\n",
      "[LightGBM] [Warning] No further splits with positive gain, best gain: -inf\n",
      "[LightGBM] [Warning] No further splits with positive gain, best gain: -inf\n",
      "[LightGBM] [Warning] No further splits with positive gain, best gain: -inf\n",
      "[LightGBM] [Warning] No further splits with positive gain, best gain: -inf\n",
      "[LightGBM] [Warning] No further splits with positive gain, best gain: -inf\n",
      "[LightGBM] [Warning] No further splits with positive gain, best gain: -inf\n",
      "[LightGBM] [Warning] No further splits with positive gain, best gain: -inf\n",
      "[LightGBM] [Warning] No further splits with positive gain, best gain: -inf\n",
      "[LightGBM] [Warning] No further splits with positive gain, best gain: -inf\n",
      "[LightGBM] [Warning] No further splits with positive gain, best gain: -inf\n",
      "[LightGBM] [Warning] No further splits with positive gain, best gain: -inf\n",
      "[LightGBM] [Warning] No further splits with positive gain, best gain: -inf\n",
      "[LightGBM] [Warning] No further splits with positive gain, best gain: -inf\n",
      "[LightGBM] [Warning] No further splits with positive gain, best gain: -inf\n",
      "[LightGBM] [Warning] No further splits with positive gain, best gain: -inf\n",
      "[LightGBM] [Warning] No further splits with positive gain, best gain: -inf\n",
      "[LightGBM] [Warning] No further splits with positive gain, best gain: -inf\n",
      "[LightGBM] [Warning] No further splits with positive gain, best gain: -inf\n",
      "[LightGBM] [Warning] No further splits with positive gain, best gain: -inf\n",
      "[LightGBM] [Warning] No further splits with positive gain, best gain: -inf\n",
      "[LightGBM] [Warning] No further splits with positive gain, best gain: -inf\n",
      "[LightGBM] [Warning] No further splits with positive gain, best gain: -inf\n",
      "[LightGBM] [Warning] No further splits with positive gain, best gain: -inf\n",
      "[LightGBM] [Warning] No further splits with positive gain, best gain: -inf\n",
      "[LightGBM] [Warning] No further splits with positive gain, best gain: -inf\n",
      "[LightGBM] [Warning] No further splits with positive gain, best gain: -inf\n",
      "[LightGBM] [Warning] No further splits with positive gain, best gain: -inf\n",
      "[LightGBM] [Warning] No further splits with positive gain, best gain: -inf\n",
      "[LightGBM] [Warning] No further splits with positive gain, best gain: -inf\n",
      "[LightGBM] [Warning] No further splits with positive gain, best gain: -inf\n",
      "[LightGBM] [Warning] No further splits with positive gain, best gain: -inf\n",
      "[LightGBM] [Warning] No further splits with positive gain, best gain: -inf\n",
      "[LightGBM] [Warning] No further splits with positive gain, best gain: -inf\n",
      "[LightGBM] [Warning] No further splits with positive gain, best gain: -inf\n",
      "[LightGBM] [Warning] No further splits with positive gain, best gain: -inf\n",
      "[LightGBM] [Warning] No further splits with positive gain, best gain: -inf\n",
      "[LightGBM] [Warning] No further splits with positive gain, best gain: -inf\n",
      "[LightGBM] [Warning] No further splits with positive gain, best gain: -inf\n",
      "[LightGBM] [Warning] No further splits with positive gain, best gain: -inf\n",
      "[LightGBM] [Warning] No further splits with positive gain, best gain: -inf\n",
      "[LightGBM] [Warning] No further splits with positive gain, best gain: -inf\n",
      "[LightGBM] [Warning] No further splits with positive gain, best gain: -inf\n",
      "0.7414236058636845\n",
      "lr 0.53\n",
      "[LightGBM] [Info] Number of positive: 10925, number of negative: 96596\n",
      "[LightGBM] [Info] Auto-choosing row-wise multi-threading, the overhead of testing was 0.938707 seconds.\n",
      "You can set `force_row_wise=true` to remove the overhead.\n",
      "And if memory is not enough, you can set `force_col_wise=true`.\n",
      "[LightGBM] [Info] Total Bins 476442\n",
      "[LightGBM] [Info] Number of data points in the train set: 107521, number of used features: 8803\n",
      "[LightGBM] [Info] [binary:BoostFromScore]: pavg=0.101608 -> initscore=-2.179484\n",
      "[LightGBM] [Info] Start training from score -2.179484\n",
      "[LightGBM] [Warning] No further splits with positive gain, best gain: -inf\n",
      "[LightGBM] [Warning] No further splits with positive gain, best gain: -inf\n",
      "[LightGBM] [Warning] No further splits with positive gain, best gain: -inf\n",
      "[LightGBM] [Warning] No further splits with positive gain, best gain: -inf\n",
      "[LightGBM] [Warning] No further splits with positive gain, best gain: -inf\n",
      "[LightGBM] [Warning] No further splits with positive gain, best gain: -inf\n",
      "[LightGBM] [Warning] No further splits with positive gain, best gain: -inf\n",
      "[LightGBM] [Warning] No further splits with positive gain, best gain: -inf\n",
      "[LightGBM] [Warning] No further splits with positive gain, best gain: -inf\n",
      "[LightGBM] [Warning] No further splits with positive gain, best gain: -inf\n",
      "[LightGBM] [Warning] No further splits with positive gain, best gain: -inf\n",
      "[LightGBM] [Warning] No further splits with positive gain, best gain: -inf\n",
      "[LightGBM] [Warning] No further splits with positive gain, best gain: -inf\n",
      "[LightGBM] [Warning] No further splits with positive gain, best gain: -inf\n",
      "[LightGBM] [Warning] No further splits with positive gain, best gain: -inf\n",
      "[LightGBM] [Warning] No further splits with positive gain, best gain: -inf\n",
      "[LightGBM] [Warning] No further splits with positive gain, best gain: -inf\n",
      "[LightGBM] [Warning] No further splits with positive gain, best gain: -inf\n",
      "[LightGBM] [Warning] No further splits with positive gain, best gain: -inf\n",
      "[LightGBM] [Warning] No further splits with positive gain, best gain: -inf\n",
      "[LightGBM] [Warning] No further splits with positive gain, best gain: -inf\n",
      "[LightGBM] [Warning] No further splits with positive gain, best gain: -inf\n",
      "[LightGBM] [Warning] No further splits with positive gain, best gain: -inf\n",
      "[LightGBM] [Warning] No further splits with positive gain, best gain: -inf\n",
      "[LightGBM] [Warning] No further splits with positive gain, best gain: -inf\n",
      "[LightGBM] [Warning] No further splits with positive gain, best gain: -inf\n",
      "[LightGBM] [Warning] No further splits with positive gain, best gain: -inf\n",
      "[LightGBM] [Warning] No further splits with positive gain, best gain: -inf\n",
      "[LightGBM] [Warning] No further splits with positive gain, best gain: -inf\n",
      "[LightGBM] [Warning] No further splits with positive gain, best gain: -inf\n",
      "[LightGBM] [Warning] No further splits with positive gain, best gain: -inf\n",
      "[LightGBM] [Warning] No further splits with positive gain, best gain: -inf\n",
      "[LightGBM] [Warning] No further splits with positive gain, best gain: -inf\n",
      "[LightGBM] [Warning] No further splits with positive gain, best gain: -inf\n",
      "[LightGBM] [Warning] No further splits with positive gain, best gain: -inf\n",
      "[LightGBM] [Warning] No further splits with positive gain, best gain: -inf\n",
      "[LightGBM] [Warning] No further splits with positive gain, best gain: -inf\n",
      "[LightGBM] [Warning] No further splits with positive gain, best gain: -inf\n",
      "[LightGBM] [Warning] No further splits with positive gain, best gain: -inf\n",
      "[LightGBM] [Warning] No further splits with positive gain, best gain: -inf\n",
      "[LightGBM] [Warning] No further splits with positive gain, best gain: -inf\n",
      "[LightGBM] [Warning] No further splits with positive gain, best gain: -inf\n",
      "[LightGBM] [Warning] No further splits with positive gain, best gain: -inf\n",
      "[LightGBM] [Warning] No further splits with positive gain, best gain: -inf\n",
      "[LightGBM] [Warning] No further splits with positive gain, best gain: -inf\n",
      "[LightGBM] [Warning] No further splits with positive gain, best gain: -inf\n",
      "[LightGBM] [Warning] No further splits with positive gain, best gain: -inf\n",
      "[LightGBM] [Warning] No further splits with positive gain, best gain: -inf\n",
      "[LightGBM] [Warning] No further splits with positive gain, best gain: -inf\n",
      "[LightGBM] [Warning] No further splits with positive gain, best gain: -inf\n",
      "[LightGBM] [Warning] No further splits with positive gain, best gain: -inf\n",
      "[LightGBM] [Warning] No further splits with positive gain, best gain: -inf\n",
      "[LightGBM] [Warning] No further splits with positive gain, best gain: -inf\n",
      "[LightGBM] [Warning] No further splits with positive gain, best gain: -inf\n",
      "[LightGBM] [Warning] No further splits with positive gain, best gain: -inf\n",
      "[LightGBM] [Warning] No further splits with positive gain, best gain: -inf\n",
      "[LightGBM] [Warning] No further splits with positive gain, best gain: -inf\n",
      "[LightGBM] [Warning] No further splits with positive gain, best gain: -inf\n",
      "[LightGBM] [Warning] No further splits with positive gain, best gain: -inf\n",
      "[LightGBM] [Warning] No further splits with positive gain, best gain: -inf\n",
      "[LightGBM] [Warning] No further splits with positive gain, best gain: -inf\n",
      "[LightGBM] [Warning] No further splits with positive gain, best gain: -inf\n",
      "[LightGBM] [Warning] No further splits with positive gain, best gain: -inf\n",
      "[LightGBM] [Warning] No further splits with positive gain, best gain: -inf\n",
      "[LightGBM] [Warning] No further splits with positive gain, best gain: -inf\n",
      "[LightGBM] [Warning] No further splits with positive gain, best gain: -inf\n",
      "[LightGBM] [Warning] No further splits with positive gain, best gain: -inf\n",
      "[LightGBM] [Warning] No further splits with positive gain, best gain: -inf\n",
      "[LightGBM] [Warning] No further splits with positive gain, best gain: -inf\n",
      "[LightGBM] [Warning] No further splits with positive gain, best gain: -inf\n",
      "[LightGBM] [Warning] No further splits with positive gain, best gain: -inf\n",
      "[LightGBM] [Warning] No further splits with positive gain, best gain: -inf\n",
      "[LightGBM] [Warning] No further splits with positive gain, best gain: -inf\n",
      "[LightGBM] [Warning] No further splits with positive gain, best gain: -inf\n",
      "[LightGBM] [Warning] No further splits with positive gain, best gain: -inf\n",
      "[LightGBM] [Warning] No further splits with positive gain, best gain: -inf\n",
      "[LightGBM] [Warning] No further splits with positive gain, best gain: -inf\n",
      "[LightGBM] [Warning] No further splits with positive gain, best gain: -inf\n",
      "[LightGBM] [Warning] No further splits with positive gain, best gain: -inf\n",
      "[LightGBM] [Warning] No further splits with positive gain, best gain: -inf\n",
      "[LightGBM] [Warning] No further splits with positive gain, best gain: -inf\n",
      "[LightGBM] [Warning] No further splits with positive gain, best gain: -inf\n",
      "[LightGBM] [Warning] No further splits with positive gain, best gain: -inf\n",
      "[LightGBM] [Warning] No further splits with positive gain, best gain: -inf\n",
      "0.7404090162710852\n",
      "lr 0.54\n"
     ]
    }
   ],
   "source": [
    "for i in range(40, 55, 1):\n",
    "    model = LGBMClassifier(max_depth=3, learning_rate=(i * 0.01))\n",
    "    model.fit(tf_idf_train,y_train)\n",
    "    pred = model.predict(tf_idf_valid)\n",
    "    print(f1_score(pred, y_valid))\n",
    "    print('lr', (i * 0.01))"
   ]
  },
  {
   "cell_type": "code",
   "execution_count": 41,
   "metadata": {},
   "outputs": [
    {
     "name": "stdout",
     "output_type": "stream",
     "text": [
      "[LightGBM] [Info] Number of positive: 10925, number of negative: 96596\n",
      "[LightGBM] [Info] Auto-choosing col-wise multi-threading, the overhead of testing was 0.891868 seconds.\n",
      "You can set `force_col_wise=true` to remove the overhead.\n",
      "[LightGBM] [Info] Total Bins 476442\n",
      "[LightGBM] [Info] Number of data points in the train set: 107521, number of used features: 8803\n",
      "[LightGBM] [Info] [binary:BoostFromScore]: pavg=0.101608 -> initscore=-2.179484\n",
      "[LightGBM] [Info] Start training from score -2.179484\n",
      "[LightGBM] [Warning] No further splits with positive gain, best gain: -inf\n",
      "[LightGBM] [Warning] No further splits with positive gain, best gain: -inf\n",
      "[LightGBM] [Warning] No further splits with positive gain, best gain: -inf\n",
      "[LightGBM] [Warning] No further splits with positive gain, best gain: -inf\n",
      "[LightGBM] [Warning] No further splits with positive gain, best gain: -inf\n",
      "[LightGBM] [Warning] No further splits with positive gain, best gain: -inf\n",
      "[LightGBM] [Warning] No further splits with positive gain, best gain: -inf\n",
      "[LightGBM] [Warning] No further splits with positive gain, best gain: -inf\n",
      "[LightGBM] [Warning] No further splits with positive gain, best gain: -inf\n",
      "[LightGBM] [Warning] No further splits with positive gain, best gain: -inf\n",
      "[LightGBM] [Warning] No further splits with positive gain, best gain: -inf\n",
      "[LightGBM] [Warning] No further splits with positive gain, best gain: -inf\n",
      "[LightGBM] [Warning] No further splits with positive gain, best gain: -inf\n",
      "[LightGBM] [Warning] No further splits with positive gain, best gain: -inf\n",
      "[LightGBM] [Warning] No further splits with positive gain, best gain: -inf\n",
      "[LightGBM] [Warning] No further splits with positive gain, best gain: -inf\n",
      "[LightGBM] [Warning] No further splits with positive gain, best gain: -inf\n",
      "[LightGBM] [Warning] No further splits with positive gain, best gain: -inf\n",
      "[LightGBM] [Warning] No further splits with positive gain, best gain: -inf\n",
      "[LightGBM] [Warning] No further splits with positive gain, best gain: -inf\n",
      "[LightGBM] [Warning] No further splits with positive gain, best gain: -inf\n",
      "[LightGBM] [Warning] No further splits with positive gain, best gain: -inf\n",
      "[LightGBM] [Warning] No further splits with positive gain, best gain: -inf\n",
      "[LightGBM] [Warning] No further splits with positive gain, best gain: -inf\n",
      "[LightGBM] [Warning] No further splits with positive gain, best gain: -inf\n",
      "[LightGBM] [Warning] No further splits with positive gain, best gain: -inf\n",
      "[LightGBM] [Warning] No further splits with positive gain, best gain: -inf\n",
      "[LightGBM] [Warning] No further splits with positive gain, best gain: -inf\n",
      "[LightGBM] [Warning] No further splits with positive gain, best gain: -inf\n",
      "[LightGBM] [Warning] No further splits with positive gain, best gain: -inf\n",
      "[LightGBM] [Warning] No further splits with positive gain, best gain: -inf\n",
      "[LightGBM] [Warning] No further splits with positive gain, best gain: -inf\n",
      "[LightGBM] [Warning] No further splits with positive gain, best gain: -inf\n",
      "[LightGBM] [Warning] No further splits with positive gain, best gain: -inf\n",
      "[LightGBM] [Warning] No further splits with positive gain, best gain: -inf\n",
      "[LightGBM] [Warning] No further splits with positive gain, best gain: -inf\n",
      "[LightGBM] [Warning] No further splits with positive gain, best gain: -inf\n",
      "[LightGBM] [Warning] No further splits with positive gain, best gain: -inf\n",
      "[LightGBM] [Warning] No further splits with positive gain, best gain: -inf\n",
      "[LightGBM] [Warning] No further splits with positive gain, best gain: -inf\n",
      "[LightGBM] [Warning] No further splits with positive gain, best gain: -inf\n",
      "[LightGBM] [Warning] No further splits with positive gain, best gain: -inf\n",
      "[LightGBM] [Warning] No further splits with positive gain, best gain: -inf\n",
      "[LightGBM] [Warning] No further splits with positive gain, best gain: -inf\n",
      "[LightGBM] [Warning] No further splits with positive gain, best gain: -inf\n",
      "[LightGBM] [Warning] No further splits with positive gain, best gain: -inf\n",
      "[LightGBM] [Warning] No further splits with positive gain, best gain: -inf\n",
      "[LightGBM] [Warning] No further splits with positive gain, best gain: -inf\n",
      "[LightGBM] [Warning] No further splits with positive gain, best gain: -inf\n",
      "[LightGBM] [Warning] No further splits with positive gain, best gain: -inf\n",
      "[LightGBM] [Warning] No further splits with positive gain, best gain: -inf\n",
      "[LightGBM] [Warning] No further splits with positive gain, best gain: -inf\n",
      "[LightGBM] [Warning] No further splits with positive gain, best gain: -inf\n",
      "[LightGBM] [Warning] No further splits with positive gain, best gain: -inf\n",
      "[LightGBM] [Warning] No further splits with positive gain, best gain: -inf\n",
      "[LightGBM] [Warning] No further splits with positive gain, best gain: -inf\n",
      "[LightGBM] [Warning] No further splits with positive gain, best gain: -inf\n",
      "[LightGBM] [Warning] No further splits with positive gain, best gain: -inf\n",
      "[LightGBM] [Warning] No further splits with positive gain, best gain: -inf\n",
      "[LightGBM] [Warning] No further splits with positive gain, best gain: -inf\n",
      "[LightGBM] [Warning] No further splits with positive gain, best gain: -inf\n",
      "[LightGBM] [Warning] No further splits with positive gain, best gain: -inf\n",
      "[LightGBM] [Warning] No further splits with positive gain, best gain: -inf\n",
      "[LightGBM] [Warning] No further splits with positive gain, best gain: -inf\n",
      "[LightGBM] [Warning] No further splits with positive gain, best gain: -inf\n",
      "[LightGBM] [Warning] No further splits with positive gain, best gain: -inf\n",
      "[LightGBM] [Warning] No further splits with positive gain, best gain: -inf\n",
      "[LightGBM] [Warning] No further splits with positive gain, best gain: -inf\n",
      "[LightGBM] [Warning] No further splits with positive gain, best gain: -inf\n",
      "[LightGBM] [Warning] No further splits with positive gain, best gain: -inf\n",
      "[LightGBM] [Warning] No further splits with positive gain, best gain: -inf\n",
      "[LightGBM] [Warning] No further splits with positive gain, best gain: -inf\n",
      "[LightGBM] [Warning] No further splits with positive gain, best gain: -inf\n",
      "[LightGBM] [Warning] No further splits with positive gain, best gain: -inf\n",
      "[LightGBM] [Warning] No further splits with positive gain, best gain: -inf\n",
      "[LightGBM] [Warning] No further splits with positive gain, best gain: -inf\n",
      "[LightGBM] [Warning] No further splits with positive gain, best gain: -inf\n",
      "[LightGBM] [Warning] No further splits with positive gain, best gain: -inf\n",
      "[LightGBM] [Warning] No further splits with positive gain, best gain: -inf\n",
      "[LightGBM] [Warning] No further splits with positive gain, best gain: -inf\n",
      "[LightGBM] [Warning] No further splits with positive gain, best gain: -inf\n",
      "[LightGBM] [Warning] No further splits with positive gain, best gain: -inf\n",
      "[LightGBM] [Warning] No further splits with positive gain, best gain: -inf\n",
      "[LightGBM] [Warning] No further splits with positive gain, best gain: -inf\n",
      "[LightGBM] [Warning] No further splits with positive gain, best gain: -inf\n",
      "f1 0.7393290281934163\n"
     ]
    }
   ],
   "source": [
    "model = LGBMClassifier(max_depth=3, learning_rate=0.48)\n",
    "model.fit(tf_idf_train,y_train)\n",
    "pred = model.predict(tf_idf_valid)\n",
    "print('f1',f1_score(pred, y_valid))"
   ]
  },
  {
   "cell_type": "markdown",
   "metadata": {},
   "source": [
    "## проверка на тестовой выборке"
   ]
  },
  {
   "cell_type": "markdown",
   "metadata": {},
   "source": [
    "кэтбуст показал достаточные результаты при первичной проверке, удостоверимся что все ок на тестовой выборке"
   ]
  },
  {
   "cell_type": "code",
   "execution_count": 42,
   "metadata": {},
   "outputs": [
    {
     "name": "stdout",
     "output_type": "stream",
     "text": [
      "Learning rate set to 0.332152\n",
      "0:\tlearn: 0.4139885\ttotal: 833ms\tremaining: 2m 45s\n",
      "25:\tlearn: 0.1612226\ttotal: 20.5s\tremaining: 2m 17s\n",
      "50:\tlearn: 0.1400567\ttotal: 40.2s\tremaining: 1m 57s\n",
      "75:\tlearn: 0.1280034\ttotal: 59.8s\tremaining: 1m 37s\n",
      "100:\tlearn: 0.1201656\ttotal: 1m 19s\tremaining: 1m 17s\n",
      "125:\tlearn: 0.1142808\ttotal: 1m 38s\tremaining: 58.1s\n",
      "150:\tlearn: 0.1098386\ttotal: 1m 58s\tremaining: 38.5s\n",
      "175:\tlearn: 0.1059136\ttotal: 2m 18s\tremaining: 18.8s\n",
      "199:\tlearn: 0.1018940\ttotal: 2m 36s\tremaining: 0us\n",
      "0.7522345370039328\n"
     ]
    }
   ],
   "source": [
    "model = CatBoostClassifier(iterations=200, depth=7)\n",
    "model.fit(tf_idf_train,y_train, verbose=25)\n",
    "pred = model.predict(tf_idf_test)\n",
    "print(f1_score(pred, y_test))"
   ]
  },
  {
   "cell_type": "markdown",
   "metadata": {},
   "source": [
    "## Выводы"
   ]
  },
  {
   "cell_type": "markdown",
   "metadata": {},
   "source": [
    "Мы построили модель машинного обучения которая с достаточной точностью может находить токсичные комментарии на основе уже имеющихся и размеченных.\n",
    "\n",
    "В ходе работы мы\n",
    "* обработали сообщения: очистив их от не несущих пользу слов, лемматизировали, привели в векторный вид\n",
    "* обучили несколько моделей\n",
    "* под необходимые критерии подошла модель CatBoost\n",
    "* удостоверились что требования выполняются и на тестовой выборке\n",
    "\n",
    "векторизацией слов с помощью TF-IDF удалось достичь необходимого бейслайна. Особенностью метода в данном случае можно выделить то что точность предсказаний растет с ростом выборки (впрочем как и время расчетов). Дополнительный прирост точности прогнозов также можно было получить обьединив тренировочную и валидационную выбоки"
   ]
  }
 ],
 "metadata": {
  "ExecuteTimeLog": [
   {
    "duration": 408,
    "start_time": "2023-01-15T14:08:35.793Z"
   },
   {
    "duration": 63,
    "start_time": "2023-01-15T14:08:36.202Z"
   },
   {
    "duration": 3,
    "start_time": "2023-01-15T14:08:41.896Z"
   },
   {
    "duration": 3084,
    "start_time": "2023-01-15T14:08:42.332Z"
   },
   {
    "duration": 8,
    "start_time": "2023-01-15T15:37:03.519Z"
   },
   {
    "duration": 7,
    "start_time": "2023-01-15T15:37:31.813Z"
   },
   {
    "duration": 11,
    "start_time": "2023-01-15T15:37:41.339Z"
   },
   {
    "duration": 391,
    "start_time": "2023-01-16T02:56:20.033Z"
   },
   {
    "duration": 789,
    "start_time": "2023-01-16T02:56:20.426Z"
   },
   {
    "duration": 10,
    "start_time": "2023-01-16T02:56:21.216Z"
   },
   {
    "duration": 22,
    "start_time": "2023-01-16T02:56:21.227Z"
   },
   {
    "duration": 4,
    "start_time": "2023-01-16T03:36:05.948Z"
   },
   {
    "duration": 59,
    "start_time": "2023-01-16T03:36:56.323Z"
   },
   {
    "duration": 4,
    "start_time": "2023-01-16T03:40:11.886Z"
   },
   {
    "duration": 8,
    "start_time": "2023-01-16T03:40:12.564Z"
   },
   {
    "duration": 3,
    "start_time": "2023-01-16T03:42:15.076Z"
   },
   {
    "duration": 1111,
    "start_time": "2023-01-16T03:43:30.652Z"
   },
   {
    "duration": 5,
    "start_time": "2023-01-16T03:44:00.547Z"
   },
   {
    "duration": 54,
    "start_time": "2023-01-16T03:45:28.192Z"
   },
   {
    "duration": 2,
    "start_time": "2023-01-16T03:45:36.498Z"
   },
   {
    "duration": 9,
    "start_time": "2023-01-16T03:51:18.277Z"
   },
   {
    "duration": 2013,
    "start_time": "2023-01-16T03:51:22.127Z"
   },
   {
    "duration": 3,
    "start_time": "2023-01-16T03:51:25.489Z"
   },
   {
    "duration": 2,
    "start_time": "2023-01-16T03:51:58.926Z"
   },
   {
    "duration": 901,
    "start_time": "2023-01-16T03:52:11.156Z"
   },
   {
    "duration": 82,
    "start_time": "2023-01-16T03:53:41.524Z"
   },
   {
    "duration": 2,
    "start_time": "2023-01-16T03:57:18.424Z"
   },
   {
    "duration": 2,
    "start_time": "2023-01-16T03:58:38.697Z"
   },
   {
    "duration": 3,
    "start_time": "2023-01-16T03:58:38.960Z"
   },
   {
    "duration": 2,
    "start_time": "2023-01-16T03:58:56.623Z"
   },
   {
    "duration": 1257,
    "start_time": "2023-01-16T03:59:20.376Z"
   },
   {
    "duration": 10,
    "start_time": "2023-01-16T04:00:12.589Z"
   },
   {
    "duration": 4,
    "start_time": "2023-01-16T04:02:39.381Z"
   },
   {
    "duration": 17,
    "start_time": "2023-01-16T04:02:53.324Z"
   },
   {
    "duration": 3,
    "start_time": "2023-01-16T04:04:35.963Z"
   },
   {
    "duration": 4,
    "start_time": "2023-01-16T04:04:38.711Z"
   },
   {
    "duration": 4,
    "start_time": "2023-01-16T04:05:31.112Z"
   },
   {
    "duration": 3,
    "start_time": "2023-01-16T04:05:53.256Z"
   },
   {
    "duration": 4,
    "start_time": "2023-01-16T04:05:56.745Z"
   },
   {
    "duration": 4,
    "start_time": "2023-01-16T04:06:10.260Z"
   },
   {
    "duration": 3,
    "start_time": "2023-01-16T04:06:13.627Z"
   },
   {
    "duration": 3,
    "start_time": "2023-01-16T04:08:16.531Z"
   },
   {
    "duration": 4,
    "start_time": "2023-01-16T04:08:25.130Z"
   },
   {
    "duration": 4,
    "start_time": "2023-01-16T04:08:25.715Z"
   },
   {
    "duration": 13,
    "start_time": "2023-01-16T04:08:28.312Z"
   },
   {
    "duration": 3,
    "start_time": "2023-01-16T04:08:41.100Z"
   },
   {
    "duration": 14,
    "start_time": "2023-01-16T04:09:03.499Z"
   },
   {
    "duration": 2,
    "start_time": "2023-01-16T04:10:38.755Z"
   },
   {
    "duration": 4,
    "start_time": "2023-01-16T04:10:45.101Z"
   },
   {
    "duration": 5,
    "start_time": "2023-01-16T04:10:52.468Z"
   },
   {
    "duration": 3,
    "start_time": "2023-01-16T04:10:53.767Z"
   },
   {
    "duration": 4,
    "start_time": "2023-01-16T04:10:54.309Z"
   },
   {
    "duration": 4,
    "start_time": "2023-01-16T04:10:56.852Z"
   },
   {
    "duration": 4,
    "start_time": "2023-01-16T04:10:57.862Z"
   },
   {
    "duration": 2,
    "start_time": "2023-01-16T04:12:20.601Z"
   },
   {
    "duration": 401,
    "start_time": "2023-01-16T15:52:07.895Z"
   },
   {
    "duration": 966,
    "start_time": "2023-01-16T15:52:08.299Z"
   },
   {
    "duration": 3,
    "start_time": "2023-01-16T15:52:09.267Z"
   },
   {
    "duration": 16,
    "start_time": "2023-01-16T15:52:09.271Z"
   },
   {
    "duration": 15,
    "start_time": "2023-01-16T15:52:09.290Z"
   },
   {
    "duration": 2461,
    "start_time": "2023-01-16T15:52:09.306Z"
   },
   {
    "duration": 8,
    "start_time": "2023-01-16T15:52:11.769Z"
   },
   {
    "duration": 13,
    "start_time": "2023-01-16T15:52:11.778Z"
   },
   {
    "duration": 2,
    "start_time": "2023-01-16T15:52:11.793Z"
   },
   {
    "duration": 126,
    "start_time": "2023-01-16T15:52:11.797Z"
   },
   {
    "duration": 0,
    "start_time": "2023-01-16T15:52:11.926Z"
   },
   {
    "duration": 0,
    "start_time": "2023-01-16T15:52:11.928Z"
   },
   {
    "duration": 0,
    "start_time": "2023-01-16T15:52:11.935Z"
   },
   {
    "duration": 0,
    "start_time": "2023-01-16T15:52:11.936Z"
   },
   {
    "duration": 0,
    "start_time": "2023-01-16T15:52:11.937Z"
   },
   {
    "duration": 0,
    "start_time": "2023-01-16T15:52:11.939Z"
   },
   {
    "duration": 0,
    "start_time": "2023-01-16T15:52:11.940Z"
   },
   {
    "duration": 0,
    "start_time": "2023-01-16T15:52:11.942Z"
   },
   {
    "duration": 0,
    "start_time": "2023-01-16T15:52:11.943Z"
   },
   {
    "duration": 0,
    "start_time": "2023-01-16T15:52:11.945Z"
   },
   {
    "duration": 0,
    "start_time": "2023-01-16T15:52:11.946Z"
   },
   {
    "duration": 0,
    "start_time": "2023-01-16T15:52:11.947Z"
   },
   {
    "duration": 0,
    "start_time": "2023-01-16T15:52:11.949Z"
   },
   {
    "duration": 3,
    "start_time": "2023-01-16T15:52:20.920Z"
   },
   {
    "duration": 286,
    "start_time": "2023-01-16T15:52:21.454Z"
   },
   {
    "duration": 1989,
    "start_time": "2023-01-16T15:52:23.213Z"
   },
   {
    "duration": 3,
    "start_time": "2023-01-16T15:52:29.759Z"
   },
   {
    "duration": 2,
    "start_time": "2023-01-16T15:52:29.947Z"
   },
   {
    "duration": 1169,
    "start_time": "2023-01-16T15:52:30.138Z"
   },
   {
    "duration": 9,
    "start_time": "2023-01-16T15:52:31.310Z"
   },
   {
    "duration": 3,
    "start_time": "2023-01-16T15:52:38.690Z"
   },
   {
    "duration": 5,
    "start_time": "2023-01-16T15:52:39.600Z"
   },
   {
    "duration": 4,
    "start_time": "2023-01-16T15:52:55.661Z"
   },
   {
    "duration": 6171,
    "start_time": "2023-01-16T15:57:19.269Z"
   },
   {
    "duration": 288,
    "start_time": "2023-01-16T17:15:08.201Z"
   },
   {
    "duration": 644,
    "start_time": "2023-01-16T17:15:34.457Z"
   },
   {
    "duration": 40,
    "start_time": "2023-01-16T17:16:02.845Z"
   },
   {
    "duration": 48,
    "start_time": "2023-01-16T17:16:55.980Z"
   },
   {
    "duration": 3,
    "start_time": "2023-01-16T17:17:01.618Z"
   },
   {
    "duration": 8,
    "start_time": "2023-01-16T17:17:11.472Z"
   },
   {
    "duration": 3,
    "start_time": "2023-01-16T17:17:37.089Z"
   },
   {
    "duration": 43,
    "start_time": "2023-01-16T17:17:38.473Z"
   },
   {
    "duration": 9,
    "start_time": "2023-01-16T17:20:02.093Z"
   },
   {
    "duration": 3,
    "start_time": "2023-01-16T17:20:32.838Z"
   },
   {
    "duration": 39,
    "start_time": "2023-01-16T17:20:35.183Z"
   },
   {
    "duration": 3,
    "start_time": "2023-01-16T17:20:44.877Z"
   },
   {
    "duration": 30,
    "start_time": "2023-01-16T17:20:46.063Z"
   },
   {
    "duration": 4,
    "start_time": "2023-01-16T17:21:23.732Z"
   },
   {
    "duration": 30,
    "start_time": "2023-01-16T17:21:24.264Z"
   },
   {
    "duration": 4,
    "start_time": "2023-01-16T17:21:32.844Z"
   },
   {
    "duration": 51,
    "start_time": "2023-01-16T17:21:33.253Z"
   },
   {
    "duration": 58,
    "start_time": "2023-01-16T17:25:26.001Z"
   },
   {
    "duration": 162,
    "start_time": "2023-01-16T17:25:50.844Z"
   },
   {
    "duration": 50,
    "start_time": "2023-01-16T17:25:55.066Z"
   },
   {
    "duration": 15,
    "start_time": "2023-01-16T17:25:59.493Z"
   },
   {
    "duration": 26,
    "start_time": "2023-01-16T17:26:56.822Z"
   },
   {
    "duration": 12,
    "start_time": "2023-01-16T17:28:26.358Z"
   },
   {
    "duration": 37,
    "start_time": "2023-01-16T17:31:01.975Z"
   },
   {
    "duration": 23,
    "start_time": "2023-01-16T17:33:03.945Z"
   },
   {
    "duration": 3,
    "start_time": "2023-01-16T17:35:36.375Z"
   },
   {
    "duration": 29,
    "start_time": "2023-01-16T17:35:58.054Z"
   },
   {
    "duration": 20,
    "start_time": "2023-01-16T17:36:38.394Z"
   },
   {
    "duration": 602026,
    "start_time": "2023-01-16T17:51:54.834Z"
   },
   {
    "duration": 3,
    "start_time": "2023-01-16T18:02:05.784Z"
   },
   {
    "duration": 9,
    "start_time": "2023-01-16T18:02:31.273Z"
   },
   {
    "duration": 21,
    "start_time": "2023-01-16T18:02:35.884Z"
   },
   {
    "duration": 14,
    "start_time": "2023-01-16T18:03:04.832Z"
   },
   {
    "duration": 1628,
    "start_time": "2023-01-16T18:03:06.467Z"
   },
   {
    "duration": 4,
    "start_time": "2023-01-16T18:03:20.285Z"
   },
   {
    "duration": 7,
    "start_time": "2023-01-16T18:03:28.950Z"
   },
   {
    "duration": 7190,
    "start_time": "2023-01-16T18:03:30.269Z"
   },
   {
    "duration": 6705,
    "start_time": "2023-01-16T18:03:49.337Z"
   },
   {
    "duration": 8272,
    "start_time": "2023-01-16T18:04:16.673Z"
   },
   {
    "duration": 19,
    "start_time": "2023-01-16T18:04:56.907Z"
   },
   {
    "duration": 4,
    "start_time": "2023-01-16T18:05:53.158Z"
   },
   {
    "duration": 4,
    "start_time": "2023-01-16T18:06:00.413Z"
   },
   {
    "duration": 4,
    "start_time": "2023-01-16T18:07:08.796Z"
   },
   {
    "duration": 3,
    "start_time": "2023-01-16T18:10:34.354Z"
   },
   {
    "duration": 4,
    "start_time": "2023-01-16T18:10:38.841Z"
   },
   {
    "duration": 3,
    "start_time": "2023-01-16T18:10:43.714Z"
   },
   {
    "duration": 3,
    "start_time": "2023-01-16T18:10:51.864Z"
   },
   {
    "duration": 7,
    "start_time": "2023-01-16T18:11:01.252Z"
   },
   {
    "duration": 5,
    "start_time": "2023-01-16T18:11:54.140Z"
   },
   {
    "duration": 7,
    "start_time": "2023-01-16T18:12:01.389Z"
   },
   {
    "duration": 7050,
    "start_time": "2023-01-16T18:12:01.849Z"
   },
   {
    "duration": 2,
    "start_time": "2023-01-16T18:12:13.950Z"
   },
   {
    "duration": 2,
    "start_time": "2023-01-16T18:12:18.260Z"
   },
   {
    "duration": 5,
    "start_time": "2023-01-16T18:12:22.524Z"
   },
   {
    "duration": 5,
    "start_time": "2023-01-16T18:12:30.152Z"
   },
   {
    "duration": 5,
    "start_time": "2023-01-16T18:12:43.396Z"
   },
   {
    "duration": 516,
    "start_time": "2023-01-16T18:13:42.017Z"
   },
   {
    "duration": 15,
    "start_time": "2023-01-16T18:13:43.016Z"
   },
   {
    "duration": 24,
    "start_time": "2023-01-16T18:14:00.993Z"
   },
   {
    "duration": 23,
    "start_time": "2023-01-16T18:14:22.604Z"
   },
   {
    "duration": 4,
    "start_time": "2023-01-16T18:14:28.123Z"
   },
   {
    "duration": 2,
    "start_time": "2023-01-16T18:14:29.680Z"
   },
   {
    "duration": 8,
    "start_time": "2023-01-16T18:14:30.290Z"
   },
   {
    "duration": 19526,
    "start_time": "2023-01-16T18:14:30.849Z"
   },
   {
    "duration": 2,
    "start_time": "2023-01-16T18:14:50.378Z"
   },
   {
    "duration": 33,
    "start_time": "2023-01-16T18:14:50.381Z"
   },
   {
    "duration": 30,
    "start_time": "2023-01-16T18:14:50.417Z"
   },
   {
    "duration": 25,
    "start_time": "2023-01-16T18:14:50.450Z"
   },
   {
    "duration": 8,
    "start_time": "2023-01-16T18:48:09.872Z"
   },
   {
    "duration": 27,
    "start_time": "2023-01-16T18:48:10.559Z"
   },
   {
    "duration": 3,
    "start_time": "2023-01-16T18:48:35.207Z"
   },
   {
    "duration": 18752,
    "start_time": "2023-01-16T18:49:03.715Z"
   },
   {
    "duration": 6,
    "start_time": "2023-01-16T18:50:13.792Z"
   },
   {
    "duration": 4,
    "start_time": "2023-01-16T18:50:16.130Z"
   },
   {
    "duration": 15,
    "start_time": "2023-01-16T18:51:18.969Z"
   },
   {
    "duration": 18,
    "start_time": "2023-01-16T18:51:27.418Z"
   },
   {
    "duration": 3,
    "start_time": "2023-01-16T18:52:59.506Z"
   },
   {
    "duration": 18254,
    "start_time": "2023-01-16T18:53:10.047Z"
   },
   {
    "duration": 4,
    "start_time": "2023-01-16T18:53:37.494Z"
   },
   {
    "duration": 3,
    "start_time": "2023-01-16T18:53:38.105Z"
   },
   {
    "duration": 18068,
    "start_time": "2023-01-16T18:53:56.759Z"
   },
   {
    "duration": 5,
    "start_time": "2023-01-16T18:54:24.793Z"
   },
   {
    "duration": 3,
    "start_time": "2023-01-16T18:57:46.300Z"
   },
   {
    "duration": 27,
    "start_time": "2023-01-16T18:58:23.288Z"
   },
   {
    "duration": 14,
    "start_time": "2023-01-16T18:58:30.170Z"
   },
   {
    "duration": 3,
    "start_time": "2023-01-16T19:00:14.314Z"
   },
   {
    "duration": 4,
    "start_time": "2023-01-16T19:00:14.692Z"
   },
   {
    "duration": 8,
    "start_time": "2023-01-16T19:00:22.982Z"
   },
   {
    "duration": 9,
    "start_time": "2023-01-16T19:00:46.798Z"
   },
   {
    "duration": 14,
    "start_time": "2023-01-16T19:00:51.465Z"
   },
   {
    "duration": 1833,
    "start_time": "2023-01-16T19:01:35.984Z"
   },
   {
    "duration": 6,
    "start_time": "2023-01-16T19:01:55.844Z"
   },
   {
    "duration": 6,
    "start_time": "2023-01-16T19:01:57.038Z"
   },
   {
    "duration": 16,
    "start_time": "2023-01-16T19:02:57.675Z"
   },
   {
    "duration": 1944,
    "start_time": "2023-01-16T19:05:41.150Z"
   },
   {
    "duration": 11,
    "start_time": "2023-01-16T19:05:46.709Z"
   },
   {
    "duration": 15,
    "start_time": "2023-01-16T19:05:52.718Z"
   },
   {
    "duration": 6,
    "start_time": "2023-01-16T19:06:02.552Z"
   },
   {
    "duration": 5,
    "start_time": "2023-01-16T19:06:04.140Z"
   },
   {
    "duration": 5,
    "start_time": "2023-01-16T19:06:28.944Z"
   },
   {
    "duration": 10,
    "start_time": "2023-01-16T19:06:52.019Z"
   },
   {
    "duration": 16,
    "start_time": "2023-01-16T19:06:52.562Z"
   },
   {
    "duration": 1559,
    "start_time": "2023-01-16T19:06:53.192Z"
   },
   {
    "duration": 14,
    "start_time": "2023-01-16T19:06:57.614Z"
   },
   {
    "duration": 4,
    "start_time": "2023-01-16T19:07:00.051Z"
   },
   {
    "duration": 4,
    "start_time": "2023-01-16T19:07:00.504Z"
   },
   {
    "duration": 4,
    "start_time": "2023-01-16T19:07:00.980Z"
   },
   {
    "duration": 4769,
    "start_time": "2023-01-16T19:07:53.996Z"
   },
   {
    "duration": 4459,
    "start_time": "2023-01-16T19:08:22.153Z"
   },
   {
    "duration": 4502,
    "start_time": "2023-01-16T19:08:27.827Z"
   },
   {
    "duration": 2335191,
    "start_time": "2023-01-16T19:08:35.618Z"
   },
   {
    "duration": 20,
    "start_time": "2023-01-16T19:48:41.534Z"
   },
   {
    "duration": 4,
    "start_time": "2023-01-16T19:52:27.560Z"
   },
   {
    "duration": 15,
    "start_time": "2023-01-16T19:52:32.858Z"
   },
   {
    "duration": 23,
    "start_time": "2023-01-16T19:52:58.558Z"
   },
   {
    "duration": 37,
    "start_time": "2023-01-16T19:55:08.052Z"
   },
   {
    "duration": 33,
    "start_time": "2023-01-16T19:55:21.024Z"
   },
   {
    "duration": 62,
    "start_time": "2023-01-16T19:55:24.194Z"
   },
   {
    "duration": 21,
    "start_time": "2023-01-16T19:55:30.927Z"
   },
   {
    "duration": 121,
    "start_time": "2023-01-16T19:56:01.465Z"
   },
   {
    "duration": 122,
    "start_time": "2023-01-16T19:56:13.856Z"
   },
   {
    "duration": 20,
    "start_time": "2023-01-16T19:56:17.124Z"
   },
   {
    "duration": 114,
    "start_time": "2023-01-16T19:56:23.650Z"
   },
   {
    "duration": 17,
    "start_time": "2023-01-16T19:56:27.816Z"
   },
   {
    "duration": 80,
    "start_time": "2023-01-16T19:56:38.743Z"
   },
   {
    "duration": 94,
    "start_time": "2023-01-16T19:56:48.999Z"
   },
   {
    "duration": 84,
    "start_time": "2023-01-16T19:57:10.532Z"
   },
   {
    "duration": 82,
    "start_time": "2023-01-16T19:57:20.031Z"
   },
   {
    "duration": 4,
    "start_time": "2023-01-16T19:58:07.130Z"
   },
   {
    "duration": 5,
    "start_time": "2023-01-16T19:58:18.226Z"
   },
   {
    "duration": 14,
    "start_time": "2023-01-16T20:05:39.023Z"
   },
   {
    "duration": 614,
    "start_time": "2023-01-16T20:20:36.157Z"
   },
   {
    "duration": 22,
    "start_time": "2023-01-16T20:20:57.264Z"
   },
   {
    "duration": 20,
    "start_time": "2023-01-16T20:21:08.846Z"
   },
   {
    "duration": 3,
    "start_time": "2023-01-16T20:21:25.078Z"
   },
   {
    "duration": 6,
    "start_time": "2023-01-16T20:21:28.124Z"
   },
   {
    "duration": 789,
    "start_time": "2023-01-16T20:22:08.768Z"
   },
   {
    "duration": 217,
    "start_time": "2023-01-16T20:22:29.304Z"
   },
   {
    "duration": 180,
    "start_time": "2023-01-16T20:23:11.999Z"
   },
   {
    "duration": 3,
    "start_time": "2023-01-16T20:29:17.993Z"
   },
   {
    "duration": 2,
    "start_time": "2023-01-16T20:29:18.377Z"
   },
   {
    "duration": 2,
    "start_time": "2023-01-16T20:29:18.847Z"
   },
   {
    "duration": 3,
    "start_time": "2023-01-16T20:29:19.308Z"
   },
   {
    "duration": 2,
    "start_time": "2023-01-16T20:29:19.860Z"
   },
   {
    "duration": 3,
    "start_time": "2023-01-16T20:29:23.697Z"
   },
   {
    "duration": 108,
    "start_time": "2023-01-16T20:31:48.343Z"
   },
   {
    "duration": 6,
    "start_time": "2023-01-16T20:31:52.948Z"
   },
   {
    "duration": 57,
    "start_time": "2023-01-16T20:33:00.326Z"
   },
   {
    "duration": 461,
    "start_time": "2023-01-16T20:33:24.315Z"
   },
   {
    "duration": 1891,
    "start_time": "2023-01-16T20:33:24.778Z"
   },
   {
    "duration": 4,
    "start_time": "2023-01-16T20:33:26.671Z"
   },
   {
    "duration": 15,
    "start_time": "2023-01-16T20:33:26.677Z"
   },
   {
    "duration": 9,
    "start_time": "2023-01-16T20:33:26.694Z"
   },
   {
    "duration": 2792,
    "start_time": "2023-01-16T20:33:26.704Z"
   },
   {
    "duration": 2,
    "start_time": "2023-01-16T20:33:29.498Z"
   },
   {
    "duration": 49,
    "start_time": "2023-01-16T20:33:29.502Z"
   },
   {
    "duration": 18,
    "start_time": "2023-01-16T20:33:29.553Z"
   },
   {
    "duration": 3,
    "start_time": "2023-01-16T20:33:30.800Z"
   },
   {
    "duration": 223,
    "start_time": "2023-01-16T20:33:32.269Z"
   },
   {
    "duration": 7,
    "start_time": "2023-01-16T20:33:32.724Z"
   },
   {
    "duration": 3,
    "start_time": "2023-01-16T20:33:39.029Z"
   },
   {
    "duration": 2,
    "start_time": "2023-01-16T20:33:40.151Z"
   },
   {
    "duration": 2,
    "start_time": "2023-01-16T20:33:40.583Z"
   },
   {
    "duration": 3,
    "start_time": "2023-01-16T20:33:45.554Z"
   },
   {
    "duration": 2,
    "start_time": "2023-01-16T20:33:49.957Z"
   },
   {
    "duration": 9792,
    "start_time": "2023-01-16T20:34:01.812Z"
   },
   {
    "duration": 674,
    "start_time": "2023-01-16T20:35:31.639Z"
   },
   {
    "duration": 6,
    "start_time": "2023-01-16T20:35:43.948Z"
   },
   {
    "duration": 3,
    "start_time": "2023-01-16T20:35:44.808Z"
   },
   {
    "duration": 2,
    "start_time": "2023-01-16T20:35:45.911Z"
   },
   {
    "duration": 3,
    "start_time": "2023-01-16T20:35:48.249Z"
   },
   {
    "duration": 4,
    "start_time": "2023-01-16T20:36:04.312Z"
   },
   {
    "duration": 13,
    "start_time": "2023-01-16T20:36:17.611Z"
   },
   {
    "duration": 191,
    "start_time": "2023-01-16T20:36:24.661Z"
   },
   {
    "duration": 17,
    "start_time": "2023-01-16T20:36:26.118Z"
   },
   {
    "duration": 76503,
    "start_time": "2023-01-16T20:36:30.967Z"
   },
   {
    "duration": 5,
    "start_time": "2023-01-16T20:42:10.101Z"
   },
   {
    "duration": 5,
    "start_time": "2023-01-16T20:42:12.276Z"
   },
   {
    "duration": 5,
    "start_time": "2023-01-16T20:42:17.105Z"
   },
   {
    "duration": 1172,
    "start_time": "2023-01-16T20:42:44.586Z"
   },
   {
    "duration": 27,
    "start_time": "2023-01-16T20:42:57.817Z"
   },
   {
    "duration": 66,
    "start_time": "2023-01-16T20:44:03.392Z"
   },
   {
    "duration": 3,
    "start_time": "2023-01-16T20:44:12.546Z"
   },
   {
    "duration": 828,
    "start_time": "2023-01-16T20:44:20.361Z"
   },
   {
    "duration": 5,
    "start_time": "2023-01-16T20:44:54.379Z"
   },
   {
    "duration": 67,
    "start_time": "2023-01-16T20:44:56.854Z"
   },
   {
    "duration": 5,
    "start_time": "2023-01-16T20:45:08.879Z"
   },
   {
    "duration": 4,
    "start_time": "2023-01-16T20:47:51.813Z"
   },
   {
    "duration": 3,
    "start_time": "2023-01-16T20:48:03.381Z"
   },
   {
    "duration": 6,
    "start_time": "2023-01-16T20:48:04.141Z"
   },
   {
    "duration": 3,
    "start_time": "2023-01-16T21:09:23.469Z"
   },
   {
    "duration": 474,
    "start_time": "2023-01-16T21:10:11.856Z"
   },
   {
    "duration": 4,
    "start_time": "2023-01-16T21:10:16.718Z"
   },
   {
    "duration": 70,
    "start_time": "2023-01-16T21:11:26.298Z"
   },
   {
    "duration": 3,
    "start_time": "2023-01-16T21:11:51.978Z"
   },
   {
    "duration": 62,
    "start_time": "2023-01-16T21:12:17.584Z"
   },
   {
    "duration": 3,
    "start_time": "2023-01-16T21:12:52.802Z"
   },
   {
    "duration": 2027,
    "start_time": "2023-01-16T21:13:28.420Z"
   },
   {
    "duration": 28,
    "start_time": "2023-01-16T21:14:01.196Z"
   },
   {
    "duration": 3,
    "start_time": "2023-01-16T21:14:15.048Z"
   },
   {
    "duration": 2,
    "start_time": "2023-01-16T21:15:02.229Z"
   },
   {
    "duration": 6,
    "start_time": "2023-01-16T21:15:15.927Z"
   },
   {
    "duration": 4,
    "start_time": "2023-01-16T21:15:24.505Z"
   },
   {
    "duration": 19,
    "start_time": "2023-01-16T21:15:44.346Z"
   },
   {
    "duration": 17,
    "start_time": "2023-01-16T21:16:04.504Z"
   },
   {
    "duration": 23,
    "start_time": "2023-01-16T21:16:31.295Z"
   },
   {
    "duration": 6,
    "start_time": "2023-01-16T21:17:50.049Z"
   },
   {
    "duration": 3,
    "start_time": "2023-01-16T21:18:27.156Z"
   },
   {
    "duration": 5133,
    "start_time": "2023-01-16T21:18:36.714Z"
   },
   {
    "duration": 177,
    "start_time": "2023-01-16T21:19:32.095Z"
   },
   {
    "duration": 53,
    "start_time": "2023-01-16T21:19:33.181Z"
   },
   {
    "duration": 3,
    "start_time": "2023-01-16T21:19:34.429Z"
   },
   {
    "duration": 1015,
    "start_time": "2023-01-16T21:19:34.826Z"
   },
   {
    "duration": 4,
    "start_time": "2023-01-16T21:19:35.937Z"
   },
   {
    "duration": 13,
    "start_time": "2023-01-16T21:19:35.943Z"
   },
   {
    "duration": 6,
    "start_time": "2023-01-16T21:19:36.584Z"
   },
   {
    "duration": 4,
    "start_time": "2023-01-16T21:19:43.783Z"
   },
   {
    "duration": 6,
    "start_time": "2023-01-16T21:19:45.007Z"
   },
   {
    "duration": 419,
    "start_time": "2023-01-16T21:20:03.860Z"
   },
   {
    "duration": 67,
    "start_time": "2023-01-16T21:20:04.498Z"
   },
   {
    "duration": 3,
    "start_time": "2023-01-16T21:20:04.938Z"
   },
   {
    "duration": 5506,
    "start_time": "2023-01-16T21:20:05.139Z"
   },
   {
    "duration": 4,
    "start_time": "2023-01-16T21:20:10.647Z"
   },
   {
    "duration": 8,
    "start_time": "2023-01-16T21:20:10.652Z"
   },
   {
    "duration": 14,
    "start_time": "2023-01-16T21:20:10.662Z"
   },
   {
    "duration": 61,
    "start_time": "2023-01-16T21:20:10.678Z"
   },
   {
    "duration": 20,
    "start_time": "2023-01-16T21:20:10.741Z"
   },
   {
    "duration": 261,
    "start_time": "2023-01-16T21:20:20.203Z"
   },
   {
    "duration": 58,
    "start_time": "2023-01-16T21:20:20.466Z"
   },
   {
    "duration": 4,
    "start_time": "2023-01-16T21:20:20.732Z"
   },
   {
    "duration": 1264,
    "start_time": "2023-01-16T21:20:20.875Z"
   },
   {
    "duration": 5,
    "start_time": "2023-01-16T21:20:22.141Z"
   },
   {
    "duration": 105,
    "start_time": "2023-01-16T21:20:22.148Z"
   },
   {
    "duration": 22,
    "start_time": "2023-01-16T21:20:22.255Z"
   },
   {
    "duration": 22,
    "start_time": "2023-01-16T21:20:22.279Z"
   },
   {
    "duration": 21,
    "start_time": "2023-01-16T21:20:22.303Z"
   },
   {
    "duration": 8,
    "start_time": "2023-01-16T21:23:12.980Z"
   },
   {
    "duration": 111,
    "start_time": "2023-01-16T21:23:13.775Z"
   },
   {
    "duration": 191,
    "start_time": "2023-01-16T21:23:14.540Z"
   },
   {
    "duration": 60,
    "start_time": "2023-01-16T21:23:14.820Z"
   },
   {
    "duration": 3,
    "start_time": "2023-01-16T21:23:15.289Z"
   },
   {
    "duration": 2903,
    "start_time": "2023-01-16T21:23:15.540Z"
   },
   {
    "duration": 4,
    "start_time": "2023-01-16T21:23:18.537Z"
   },
   {
    "duration": 12,
    "start_time": "2023-01-16T21:23:18.543Z"
   },
   {
    "duration": 32,
    "start_time": "2023-01-16T21:23:18.557Z"
   },
   {
    "duration": 6,
    "start_time": "2023-01-16T21:23:18.591Z"
   },
   {
    "duration": 13,
    "start_time": "2023-01-16T21:23:18.599Z"
   },
   {
    "duration": 10,
    "start_time": "2023-01-16T21:24:00.613Z"
   },
   {
    "duration": 516,
    "start_time": "2023-01-16T21:24:02.345Z"
   },
   {
    "duration": 13,
    "start_time": "2023-01-16T21:24:02.992Z"
   },
   {
    "duration": 207429,
    "start_time": "2023-01-16T21:24:06.402Z"
   },
   {
    "duration": 17,
    "start_time": "2023-01-16T21:27:33.834Z"
   },
   {
    "duration": 7,
    "start_time": "2023-01-16T21:27:33.853Z"
   },
   {
    "duration": 7,
    "start_time": "2023-01-16T21:27:33.862Z"
   },
   {
    "duration": 19,
    "start_time": "2023-01-16T21:27:33.871Z"
   },
   {
    "duration": 8,
    "start_time": "2023-01-16T21:27:33.892Z"
   },
   {
    "duration": 14,
    "start_time": "2023-01-16T21:27:33.902Z"
   },
   {
    "duration": 23,
    "start_time": "2023-01-16T21:27:33.918Z"
   },
   {
    "duration": 12,
    "start_time": "2023-01-16T21:27:33.944Z"
   },
   {
    "duration": 241,
    "start_time": "2023-01-16T21:27:33.959Z"
   },
   {
    "duration": 558,
    "start_time": "2023-01-16T21:27:34.202Z"
   },
   {
    "duration": 162,
    "start_time": "2023-01-16T21:27:34.762Z"
   },
   {
    "duration": 2,
    "start_time": "2023-01-16T21:27:34.926Z"
   },
   {
    "duration": 5201,
    "start_time": "2023-01-16T21:27:34.937Z"
   },
   {
    "duration": 93,
    "start_time": "2023-01-16T21:27:40.145Z"
   },
   {
    "duration": 27,
    "start_time": "2023-01-16T21:27:40.240Z"
   },
   {
    "duration": 13,
    "start_time": "2023-01-16T21:27:40.269Z"
   },
   {
    "duration": 12,
    "start_time": "2023-01-16T21:27:40.284Z"
   },
   {
    "duration": 14,
    "start_time": "2023-01-16T21:27:40.298Z"
   },
   {
    "duration": 98,
    "start_time": "2023-01-16T21:28:32.058Z"
   },
   {
    "duration": 3,
    "start_time": "2023-01-16T21:28:39.263Z"
   },
   {
    "duration": 6,
    "start_time": "2023-01-16T21:28:43.991Z"
   },
   {
    "duration": 18,
    "start_time": "2023-01-16T21:29:43.564Z"
   },
   {
    "duration": 22,
    "start_time": "2023-01-16T21:30:06.486Z"
   },
   {
    "duration": 3,
    "start_time": "2023-01-16T21:30:08.382Z"
   },
   {
    "duration": 21,
    "start_time": "2023-01-16T21:41:00.148Z"
   },
   {
    "duration": 3250,
    "start_time": "2023-01-16T21:41:08.656Z"
   },
   {
    "duration": 14,
    "start_time": "2023-01-16T21:41:34.274Z"
   },
   {
    "duration": 848,
    "start_time": "2023-01-16T21:41:35.464Z"
   },
   {
    "duration": 12,
    "start_time": "2023-01-16T21:41:36.314Z"
   },
   {
    "duration": 360599,
    "start_time": "2023-01-16T21:41:36.340Z"
   },
   {
    "duration": 14,
    "start_time": "2023-01-16T21:47:36.943Z"
   },
   {
    "duration": 11,
    "start_time": "2023-01-16T21:47:36.960Z"
   },
   {
    "duration": 12,
    "start_time": "2023-01-16T21:47:36.972Z"
   },
   {
    "duration": 11,
    "start_time": "2023-01-16T21:47:36.986Z"
   },
   {
    "duration": 7,
    "start_time": "2023-01-16T21:47:36.999Z"
   },
   {
    "duration": 14,
    "start_time": "2023-01-16T21:47:37.008Z"
   },
   {
    "duration": 19,
    "start_time": "2023-01-16T21:47:37.025Z"
   },
   {
    "duration": 19,
    "start_time": "2023-01-16T21:47:37.046Z"
   },
   {
    "duration": 400,
    "start_time": "2023-01-16T21:47:37.066Z"
   },
   {
    "duration": 993,
    "start_time": "2023-01-16T21:47:37.470Z"
   },
   {
    "duration": 302,
    "start_time": "2023-01-16T21:47:38.466Z"
   },
   {
    "duration": 3,
    "start_time": "2023-01-16T21:47:38.770Z"
   },
   {
    "duration": 6964,
    "start_time": "2023-01-16T21:47:38.775Z"
   },
   {
    "duration": 4,
    "start_time": "2023-01-16T21:47:45.741Z"
   },
   {
    "duration": 7,
    "start_time": "2023-01-16T21:47:45.746Z"
   },
   {
    "duration": 9,
    "start_time": "2023-01-16T21:47:45.755Z"
   },
   {
    "duration": 4,
    "start_time": "2023-01-16T21:47:45.766Z"
   },
   {
    "duration": 13,
    "start_time": "2023-01-16T21:47:45.772Z"
   },
   {
    "duration": 12,
    "start_time": "2023-01-16T21:47:45.787Z"
   },
   {
    "duration": 7,
    "start_time": "2023-01-16T21:47:45.801Z"
   },
   {
    "duration": 6752,
    "start_time": "2023-01-16T21:47:45.809Z"
   },
   {
    "duration": 18118,
    "start_time": "2023-01-16T21:52:34.408Z"
   },
   {
    "duration": 18,
    "start_time": "2023-01-16T21:53:16.471Z"
   },
   {
    "duration": 1691,
    "start_time": "2023-01-16T21:53:18.171Z"
   },
   {
    "duration": 13,
    "start_time": "2023-01-16T21:53:19.864Z"
   },
   {
    "duration": 708778,
    "start_time": "2023-01-16T21:53:19.878Z"
   },
   {
    "duration": 14,
    "start_time": "2023-01-16T22:05:08.658Z"
   },
   {
    "duration": 24,
    "start_time": "2023-01-16T22:05:08.674Z"
   },
   {
    "duration": 6,
    "start_time": "2023-01-16T22:05:08.700Z"
   },
   {
    "duration": 12,
    "start_time": "2023-01-16T22:05:08.708Z"
   },
   {
    "duration": 11,
    "start_time": "2023-01-16T22:05:08.721Z"
   },
   {
    "duration": 15,
    "start_time": "2023-01-16T22:05:08.734Z"
   },
   {
    "duration": 31,
    "start_time": "2023-01-16T22:05:08.752Z"
   },
   {
    "duration": 36,
    "start_time": "2023-01-16T22:05:08.785Z"
   },
   {
    "duration": 909,
    "start_time": "2023-01-16T22:05:08.823Z"
   },
   {
    "duration": 1730,
    "start_time": "2023-01-16T22:05:09.737Z"
   },
   {
    "duration": 552,
    "start_time": "2023-01-16T22:05:11.469Z"
   },
   {
    "duration": 3,
    "start_time": "2023-01-16T22:05:12.023Z"
   },
   {
    "duration": 8714,
    "start_time": "2023-01-16T22:05:12.028Z"
   },
   {
    "duration": 92,
    "start_time": "2023-01-16T22:05:20.747Z"
   },
   {
    "duration": 51,
    "start_time": "2023-01-16T22:05:20.841Z"
   },
   {
    "duration": 31,
    "start_time": "2023-01-16T22:05:20.894Z"
   },
   {
    "duration": 44,
    "start_time": "2023-01-16T22:05:20.927Z"
   },
   {
    "duration": 27,
    "start_time": "2023-01-16T22:05:20.973Z"
   },
   {
    "duration": 26,
    "start_time": "2023-01-16T22:05:21.001Z"
   },
   {
    "duration": 39319,
    "start_time": "2023-01-16T22:05:21.028Z"
   },
   {
    "duration": 3,
    "start_time": "2023-01-16T22:08:15.472Z"
   },
   {
    "duration": 8,
    "start_time": "2023-01-16T22:09:30.792Z"
   },
   {
    "duration": 12,
    "start_time": "2023-01-16T22:09:33.720Z"
   },
   {
    "duration": 4727,
    "start_time": "2023-01-16T22:09:56.502Z"
   },
   {
    "duration": 13,
    "start_time": "2023-01-16T22:10:04.664Z"
   },
   {
    "duration": 1235,
    "start_time": "2023-01-16T22:10:15.361Z"
   },
   {
    "duration": 224,
    "start_time": "2023-01-16T22:10:16.597Z"
   },
   {
    "duration": 3,
    "start_time": "2023-01-16T22:10:16.823Z"
   },
   {
    "duration": 22,
    "start_time": "2023-01-16T22:10:16.839Z"
   },
   {
    "duration": 32,
    "start_time": "2023-01-16T22:10:16.864Z"
   },
   {
    "duration": 19,
    "start_time": "2023-01-16T22:10:16.899Z"
   },
   {
    "duration": 1012,
    "start_time": "2023-01-16T22:10:16.921Z"
   },
   {
    "duration": 2,
    "start_time": "2023-01-16T22:10:17.937Z"
   },
   {
    "duration": 25,
    "start_time": "2023-01-16T22:10:17.941Z"
   },
   {
    "duration": 23,
    "start_time": "2023-01-16T22:10:17.969Z"
   },
   {
    "duration": 34,
    "start_time": "2023-01-16T22:10:17.994Z"
   },
   {
    "duration": 233,
    "start_time": "2023-01-16T22:10:18.030Z"
   },
   {
    "duration": 6,
    "start_time": "2023-01-16T22:10:18.265Z"
   },
   {
    "duration": 17,
    "start_time": "2023-01-16T22:10:18.274Z"
   },
   {
    "duration": 34,
    "start_time": "2023-01-16T22:10:18.293Z"
   },
   {
    "duration": 15,
    "start_time": "2023-01-16T22:10:18.329Z"
   },
   {
    "duration": 9,
    "start_time": "2023-01-16T22:10:18.347Z"
   },
   {
    "duration": 9,
    "start_time": "2023-01-16T22:10:18.358Z"
   },
   {
    "duration": 17,
    "start_time": "2023-01-16T22:10:18.369Z"
   },
   {
    "duration": 11,
    "start_time": "2023-01-16T22:10:18.388Z"
   },
   {
    "duration": 11,
    "start_time": "2023-01-16T22:10:18.401Z"
   },
   {
    "duration": 13,
    "start_time": "2023-01-16T22:10:18.414Z"
   },
   {
    "duration": 26,
    "start_time": "2023-01-16T22:10:18.428Z"
   },
   {
    "duration": 14,
    "start_time": "2023-01-16T22:10:18.456Z"
   },
   {
    "duration": 17,
    "start_time": "2023-01-16T22:10:18.472Z"
   },
   {
    "duration": 2917,
    "start_time": "2023-01-16T22:10:18.491Z"
   },
   {
    "duration": 3,
    "start_time": "2023-01-16T22:10:21.411Z"
   },
   {
    "duration": 541,
    "start_time": "2023-01-16T22:10:21.418Z"
   },
   {
    "duration": 3,
    "start_time": "2023-01-16T22:10:21.961Z"
   },
   {
    "duration": 41,
    "start_time": "2023-01-16T22:10:21.966Z"
   },
   {
    "duration": 42,
    "start_time": "2023-01-16T22:10:22.010Z"
   },
   {
    "duration": 11,
    "start_time": "2023-01-16T22:10:22.055Z"
   },
   {
    "duration": 18,
    "start_time": "2023-01-16T22:10:22.069Z"
   },
   {
    "duration": 10,
    "start_time": "2023-01-16T22:10:22.089Z"
   },
   {
    "duration": 31,
    "start_time": "2023-01-16T22:10:22.101Z"
   },
   {
    "duration": 17,
    "start_time": "2023-01-16T22:10:22.134Z"
   },
   {
    "duration": 14,
    "start_time": "2023-01-16T22:10:22.153Z"
   },
   {
    "duration": 21,
    "start_time": "2023-01-16T22:10:22.170Z"
   },
   {
    "duration": 12,
    "start_time": "2023-01-16T22:10:22.193Z"
   },
   {
    "duration": 26,
    "start_time": "2023-01-16T22:10:22.206Z"
   },
   {
    "duration": 22,
    "start_time": "2023-01-16T22:10:22.233Z"
   },
   {
    "duration": 28,
    "start_time": "2023-01-16T22:10:22.257Z"
   },
   {
    "duration": 25,
    "start_time": "2023-01-16T22:10:22.288Z"
   },
   {
    "duration": 27,
    "start_time": "2023-01-16T22:10:22.315Z"
   },
   {
    "duration": 22,
    "start_time": "2023-01-16T22:10:22.344Z"
   },
   {
    "duration": 4409,
    "start_time": "2023-01-16T22:10:22.368Z"
   },
   {
    "duration": 14,
    "start_time": "2023-01-16T22:10:26.779Z"
   },
   {
    "duration": 2261087,
    "start_time": "2023-01-16T22:10:26.794Z"
   },
   {
    "duration": 14,
    "start_time": "2023-01-16T22:48:07.882Z"
   },
   {
    "duration": 23,
    "start_time": "2023-01-16T22:48:07.898Z"
   },
   {
    "duration": 9,
    "start_time": "2023-01-16T22:48:07.922Z"
   },
   {
    "duration": 13,
    "start_time": "2023-01-16T22:48:07.933Z"
   },
   {
    "duration": 8,
    "start_time": "2023-01-16T22:48:07.948Z"
   },
   {
    "duration": 13,
    "start_time": "2023-01-16T22:48:07.957Z"
   },
   {
    "duration": 16,
    "start_time": "2023-01-16T22:48:07.972Z"
   },
   {
    "duration": 82,
    "start_time": "2023-01-16T22:48:07.990Z"
   },
   {
    "duration": 3518,
    "start_time": "2023-01-16T22:48:08.074Z"
   },
   {
    "duration": 5664,
    "start_time": "2023-01-16T22:48:11.594Z"
   },
   {
    "duration": 1816,
    "start_time": "2023-01-16T22:48:17.262Z"
   },
   {
    "duration": 4,
    "start_time": "2023-01-16T22:48:19.080Z"
   },
   {
    "duration": 46155,
    "start_time": "2023-01-16T22:48:19.085Z"
   },
   {
    "duration": 8,
    "start_time": "2023-01-16T22:49:05.241Z"
   },
   {
    "duration": 10,
    "start_time": "2023-01-16T22:49:05.251Z"
   },
   {
    "duration": 36,
    "start_time": "2023-01-16T22:49:05.263Z"
   },
   {
    "duration": 3,
    "start_time": "2023-01-16T22:49:05.301Z"
   },
   {
    "duration": 12,
    "start_time": "2023-01-16T22:49:05.306Z"
   },
   {
    "duration": 11,
    "start_time": "2023-01-16T22:49:05.320Z"
   },
   {
    "duration": 18,
    "start_time": "2023-01-16T22:49:05.333Z"
   },
   {
    "duration": 9,
    "start_time": "2023-01-16T22:49:05.353Z"
   },
   {
    "duration": 46,
    "start_time": "2023-01-16T22:49:05.363Z"
   },
   {
    "duration": 43,
    "start_time": "2023-01-16T22:49:05.411Z"
   },
   {
    "duration": 25,
    "start_time": "2023-01-16T22:49:05.456Z"
   },
   {
    "duration": 44,
    "start_time": "2023-01-16T22:49:05.483Z"
   },
   {
    "duration": 31,
    "start_time": "2023-01-16T22:49:05.529Z"
   },
   {
    "duration": 19,
    "start_time": "2023-01-16T22:49:05.562Z"
   },
   {
    "duration": 43,
    "start_time": "2023-01-16T22:49:05.583Z"
   },
   {
    "duration": 16,
    "start_time": "2023-01-16T22:49:05.628Z"
   },
   {
    "duration": 161147,
    "start_time": "2023-01-16T22:49:28.363Z"
   },
   {
    "duration": 3,
    "start_time": "2023-01-16T22:54:48.802Z"
   },
   {
    "duration": 3,
    "start_time": "2023-01-16T22:55:05.147Z"
   },
   {
    "duration": 44,
    "start_time": "2023-01-16T22:55:05.783Z"
   },
   {
    "duration": 353,
    "start_time": "2023-01-16T22:55:10.823Z"
   },
   {
    "duration": 210758,
    "start_time": "2023-01-16T22:59:37.787Z"
   },
   {
    "duration": 22,
    "start_time": "2023-01-16T23:04:20.251Z"
   },
   {
    "duration": 2,
    "start_time": "2023-01-16T23:05:10.895Z"
   },
   {
    "duration": 1087,
    "start_time": "2023-01-16T23:05:59.584Z"
   },
   {
    "duration": 1234,
    "start_time": "2023-01-16T23:06:00.673Z"
   },
   {
    "duration": 3,
    "start_time": "2023-01-16T23:06:01.908Z"
   },
   {
    "duration": 13,
    "start_time": "2023-01-16T23:06:01.914Z"
   },
   {
    "duration": 12,
    "start_time": "2023-01-16T23:06:01.929Z"
   },
   {
    "duration": 21,
    "start_time": "2023-01-16T23:06:01.943Z"
   },
   {
    "duration": 119,
    "start_time": "2023-01-16T23:06:03.722Z"
   },
   {
    "duration": 2576,
    "start_time": "2023-01-16T23:06:07.295Z"
   },
   {
    "duration": 8,
    "start_time": "2023-01-16T23:06:09.873Z"
   },
   {
    "duration": 17,
    "start_time": "2023-01-16T23:07:21.218Z"
   },
   {
    "duration": 3,
    "start_time": "2023-01-16T23:07:39.616Z"
   },
   {
    "duration": 25,
    "start_time": "2023-01-16T23:07:45.851Z"
   },
   {
    "duration": 10,
    "start_time": "2023-01-16T23:08:54.132Z"
   },
   {
    "duration": 138,
    "start_time": "2023-01-16T23:08:57.764Z"
   },
   {
    "duration": 7,
    "start_time": "2023-01-16T23:09:02.684Z"
   },
   {
    "duration": 3,
    "start_time": "2023-01-16T23:09:03.151Z"
   },
   {
    "duration": 9003,
    "start_time": "2023-01-16T23:09:55.050Z"
   },
   {
    "duration": 21,
    "start_time": "2023-01-16T23:10:16.106Z"
   },
   {
    "duration": 1191,
    "start_time": "2023-01-16T23:12:02.338Z"
   },
   {
    "duration": 217,
    "start_time": "2023-01-16T23:12:03.531Z"
   },
   {
    "duration": 3,
    "start_time": "2023-01-16T23:12:03.750Z"
   },
   {
    "duration": 29,
    "start_time": "2023-01-16T23:12:03.755Z"
   },
   {
    "duration": 35,
    "start_time": "2023-01-16T23:12:03.786Z"
   },
   {
    "duration": 25,
    "start_time": "2023-01-16T23:12:03.823Z"
   },
   {
    "duration": 3069,
    "start_time": "2023-01-16T23:12:03.850Z"
   },
   {
    "duration": 0,
    "start_time": "2023-01-16T23:12:06.922Z"
   },
   {
    "duration": 0,
    "start_time": "2023-01-16T23:12:06.924Z"
   },
   {
    "duration": 0,
    "start_time": "2023-01-16T23:12:06.925Z"
   },
   {
    "duration": 0,
    "start_time": "2023-01-16T23:12:06.926Z"
   },
   {
    "duration": 0,
    "start_time": "2023-01-16T23:12:06.926Z"
   },
   {
    "duration": 0,
    "start_time": "2023-01-16T23:12:06.927Z"
   },
   {
    "duration": 0,
    "start_time": "2023-01-16T23:12:06.928Z"
   },
   {
    "duration": 0,
    "start_time": "2023-01-16T23:12:06.929Z"
   },
   {
    "duration": 0,
    "start_time": "2023-01-16T23:12:06.930Z"
   },
   {
    "duration": 0,
    "start_time": "2023-01-16T23:12:06.931Z"
   },
   {
    "duration": 0,
    "start_time": "2023-01-16T23:12:06.932Z"
   },
   {
    "duration": 0,
    "start_time": "2023-01-16T23:12:06.933Z"
   },
   {
    "duration": 0,
    "start_time": "2023-01-16T23:12:06.933Z"
   },
   {
    "duration": 0,
    "start_time": "2023-01-16T23:12:06.934Z"
   },
   {
    "duration": 0,
    "start_time": "2023-01-16T23:12:06.935Z"
   },
   {
    "duration": 0,
    "start_time": "2023-01-16T23:12:06.936Z"
   },
   {
    "duration": 0,
    "start_time": "2023-01-16T23:12:06.937Z"
   },
   {
    "duration": 0,
    "start_time": "2023-01-16T23:12:06.938Z"
   },
   {
    "duration": 0,
    "start_time": "2023-01-16T23:12:06.940Z"
   },
   {
    "duration": 0,
    "start_time": "2023-01-16T23:12:06.941Z"
   },
   {
    "duration": 0,
    "start_time": "2023-01-16T23:12:06.943Z"
   },
   {
    "duration": 0,
    "start_time": "2023-01-16T23:12:06.944Z"
   },
   {
    "duration": 0,
    "start_time": "2023-01-16T23:12:06.945Z"
   },
   {
    "duration": 0,
    "start_time": "2023-01-16T23:12:06.946Z"
   },
   {
    "duration": 0,
    "start_time": "2023-01-16T23:12:06.947Z"
   },
   {
    "duration": 0,
    "start_time": "2023-01-16T23:12:06.948Z"
   },
   {
    "duration": 0,
    "start_time": "2023-01-16T23:12:06.950Z"
   },
   {
    "duration": 0,
    "start_time": "2023-01-16T23:12:06.951Z"
   },
   {
    "duration": 0,
    "start_time": "2023-01-16T23:12:06.952Z"
   },
   {
    "duration": 0,
    "start_time": "2023-01-16T23:12:06.953Z"
   },
   {
    "duration": 0,
    "start_time": "2023-01-16T23:12:06.954Z"
   },
   {
    "duration": 0,
    "start_time": "2023-01-16T23:12:06.955Z"
   },
   {
    "duration": 0,
    "start_time": "2023-01-16T23:12:06.956Z"
   },
   {
    "duration": 0,
    "start_time": "2023-01-16T23:12:06.957Z"
   },
   {
    "duration": 0,
    "start_time": "2023-01-16T23:12:06.958Z"
   },
   {
    "duration": 0,
    "start_time": "2023-01-16T23:12:06.959Z"
   },
   {
    "duration": 0,
    "start_time": "2023-01-16T23:12:06.960Z"
   },
   {
    "duration": 0,
    "start_time": "2023-01-16T23:12:06.961Z"
   },
   {
    "duration": 0,
    "start_time": "2023-01-16T23:12:06.963Z"
   },
   {
    "duration": 0,
    "start_time": "2023-01-16T23:12:06.964Z"
   },
   {
    "duration": 0,
    "start_time": "2023-01-16T23:12:06.965Z"
   },
   {
    "duration": 0,
    "start_time": "2023-01-16T23:12:06.967Z"
   },
   {
    "duration": 0,
    "start_time": "2023-01-16T23:12:06.968Z"
   },
   {
    "duration": 0,
    "start_time": "2023-01-16T23:12:06.969Z"
   },
   {
    "duration": 0,
    "start_time": "2023-01-16T23:12:06.970Z"
   },
   {
    "duration": 0,
    "start_time": "2023-01-16T23:12:06.971Z"
   },
   {
    "duration": 0,
    "start_time": "2023-01-16T23:12:06.973Z"
   },
   {
    "duration": 0,
    "start_time": "2023-01-16T23:12:06.974Z"
   },
   {
    "duration": 0,
    "start_time": "2023-01-16T23:12:06.975Z"
   },
   {
    "duration": 0,
    "start_time": "2023-01-16T23:12:07.038Z"
   },
   {
    "duration": 0,
    "start_time": "2023-01-16T23:12:07.039Z"
   },
   {
    "duration": 0,
    "start_time": "2023-01-16T23:12:07.040Z"
   },
   {
    "duration": 1215,
    "start_time": "2023-01-16T23:12:37.208Z"
   },
   {
    "duration": 233,
    "start_time": "2023-01-16T23:12:38.425Z"
   },
   {
    "duration": 3,
    "start_time": "2023-01-16T23:12:38.660Z"
   },
   {
    "duration": 26,
    "start_time": "2023-01-16T23:12:38.664Z"
   },
   {
    "duration": 20,
    "start_time": "2023-01-16T23:12:38.692Z"
   },
   {
    "duration": 30,
    "start_time": "2023-01-16T23:12:38.714Z"
   },
   {
    "duration": 2809,
    "start_time": "2023-01-16T23:12:38.746Z"
   },
   {
    "duration": 21,
    "start_time": "2023-01-16T23:12:41.557Z"
   },
   {
    "duration": 816,
    "start_time": "2023-01-16T23:12:41.579Z"
   },
   {
    "duration": 11,
    "start_time": "2023-01-16T23:12:42.399Z"
   },
   {
    "duration": 42,
    "start_time": "2023-01-16T23:12:42.412Z"
   },
   {
    "duration": 18,
    "start_time": "2023-01-16T23:12:42.456Z"
   },
   {
    "duration": 208,
    "start_time": "2023-01-16T23:12:42.476Z"
   },
   {
    "duration": 625,
    "start_time": "2023-01-16T23:12:42.685Z"
   },
   {
    "duration": 6,
    "start_time": "2023-01-16T23:12:43.312Z"
   },
   {
    "duration": 4,
    "start_time": "2023-01-16T23:12:43.320Z"
   },
   {
    "duration": 8,
    "start_time": "2023-01-16T23:12:43.326Z"
   },
   {
    "duration": 7,
    "start_time": "2023-01-16T23:12:43.336Z"
   },
   {
    "duration": 13,
    "start_time": "2023-01-16T23:12:43.345Z"
   },
   {
    "duration": 10,
    "start_time": "2023-01-16T23:12:43.360Z"
   },
   {
    "duration": 21,
    "start_time": "2023-01-16T23:12:43.372Z"
   },
   {
    "duration": 32,
    "start_time": "2023-01-16T23:12:43.395Z"
   },
   {
    "duration": 13,
    "start_time": "2023-01-16T23:12:43.428Z"
   },
   {
    "duration": 286,
    "start_time": "2023-01-16T23:12:43.443Z"
   },
   {
    "duration": 17,
    "start_time": "2023-01-16T23:12:43.731Z"
   },
   {
    "duration": 145415,
    "start_time": "2023-01-16T23:12:43.750Z"
   },
   {
    "duration": 14,
    "start_time": "2023-01-16T23:15:09.167Z"
   },
   {
    "duration": 16,
    "start_time": "2023-01-16T23:15:09.184Z"
   },
   {
    "duration": 17,
    "start_time": "2023-01-16T23:15:09.202Z"
   },
   {
    "duration": 13,
    "start_time": "2023-01-16T23:15:09.221Z"
   },
   {
    "duration": 11,
    "start_time": "2023-01-16T23:15:09.235Z"
   },
   {
    "duration": 23,
    "start_time": "2023-01-16T23:15:09.248Z"
   },
   {
    "duration": 23,
    "start_time": "2023-01-16T23:15:09.272Z"
   },
   {
    "duration": 22,
    "start_time": "2023-01-16T23:15:09.297Z"
   },
   {
    "duration": 146,
    "start_time": "2023-01-16T23:15:09.320Z"
   },
   {
    "duration": 347,
    "start_time": "2023-01-16T23:15:09.467Z"
   },
   {
    "duration": 105,
    "start_time": "2023-01-16T23:15:09.816Z"
   },
   {
    "duration": 3,
    "start_time": "2023-01-16T23:15:09.922Z"
   },
   {
    "duration": 4211,
    "start_time": "2023-01-16T23:15:09.927Z"
   },
   {
    "duration": 4,
    "start_time": "2023-01-16T23:15:14.140Z"
   },
   {
    "duration": 98,
    "start_time": "2023-01-16T23:15:14.147Z"
   },
   {
    "duration": 24,
    "start_time": "2023-01-16T23:15:14.246Z"
   },
   {
    "duration": 14,
    "start_time": "2023-01-16T23:15:14.272Z"
   },
   {
    "duration": 13353,
    "start_time": "2023-01-16T23:15:14.287Z"
   },
   {
    "duration": 5854,
    "start_time": "2023-01-16T23:15:27.642Z"
   },
   {
    "duration": 2,
    "start_time": "2023-01-16T23:15:33.498Z"
   },
   {
    "duration": 6,
    "start_time": "2023-01-16T23:15:33.501Z"
   },
   {
    "duration": 5,
    "start_time": "2023-01-16T23:15:33.508Z"
   },
   {
    "duration": 5,
    "start_time": "2023-01-16T23:15:33.514Z"
   },
   {
    "duration": 4,
    "start_time": "2023-01-16T23:15:33.521Z"
   },
   {
    "duration": 10,
    "start_time": "2023-01-16T23:15:33.527Z"
   },
   {
    "duration": 2,
    "start_time": "2023-01-16T23:15:33.539Z"
   },
   {
    "duration": 4,
    "start_time": "2023-01-16T23:15:33.543Z"
   },
   {
    "duration": 5,
    "start_time": "2023-01-16T23:15:33.549Z"
   },
   {
    "duration": 5,
    "start_time": "2023-01-16T23:15:33.555Z"
   },
   {
    "duration": 4,
    "start_time": "2023-01-16T23:15:33.562Z"
   },
   {
    "duration": 4,
    "start_time": "2023-01-16T23:15:33.568Z"
   },
   {
    "duration": 6,
    "start_time": "2023-01-16T23:15:33.573Z"
   },
   {
    "duration": 6,
    "start_time": "2023-01-16T23:15:33.580Z"
   },
   {
    "duration": 4,
    "start_time": "2023-01-16T23:15:33.588Z"
   },
   {
    "duration": 3,
    "start_time": "2023-01-16T23:17:16.352Z"
   },
   {
    "duration": 228055,
    "start_time": "2023-01-16T23:17:18.144Z"
   },
   {
    "duration": 37,
    "start_time": "2023-01-16T23:21:06.201Z"
   },
   {
    "duration": 8,
    "start_time": "2023-01-16T23:21:06.240Z"
   },
   {
    "duration": 12,
    "start_time": "2023-01-16T23:23:10.202Z"
   },
   {
    "duration": 14,
    "start_time": "2023-01-16T23:23:13.417Z"
   },
   {
    "duration": 10,
    "start_time": "2023-01-16T23:23:19.551Z"
   },
   {
    "duration": 10,
    "start_time": "2023-01-16T23:23:20.007Z"
   },
   {
    "duration": 9,
    "start_time": "2023-01-16T23:25:49.466Z"
   },
   {
    "duration": 5,
    "start_time": "2023-01-16T23:25:49.813Z"
   },
   {
    "duration": 12,
    "start_time": "2023-01-16T23:25:52.441Z"
   },
   {
    "duration": 265,
    "start_time": "2023-01-16T23:25:56.564Z"
   },
   {
    "duration": 12,
    "start_time": "2023-01-16T23:25:57.681Z"
   },
   {
    "duration": 140264,
    "start_time": "2023-01-16T23:26:00.834Z"
   },
   {
    "duration": 13,
    "start_time": "2023-01-16T23:28:21.100Z"
   },
   {
    "duration": 14,
    "start_time": "2023-01-16T23:28:21.115Z"
   },
   {
    "duration": 25,
    "start_time": "2023-01-16T23:28:21.137Z"
   },
   {
    "duration": 27,
    "start_time": "2023-01-16T23:28:21.164Z"
   },
   {
    "duration": 23,
    "start_time": "2023-01-16T23:28:21.192Z"
   },
   {
    "duration": 10,
    "start_time": "2023-01-16T23:28:21.216Z"
   },
   {
    "duration": 23,
    "start_time": "2023-01-16T23:28:21.228Z"
   },
   {
    "duration": 13,
    "start_time": "2023-01-16T23:28:21.253Z"
   },
   {
    "duration": 177,
    "start_time": "2023-01-16T23:28:21.269Z"
   },
   {
    "duration": 363,
    "start_time": "2023-01-16T23:28:21.448Z"
   },
   {
    "duration": 116,
    "start_time": "2023-01-16T23:28:21.813Z"
   },
   {
    "duration": 8,
    "start_time": "2023-01-16T23:28:21.930Z"
   },
   {
    "duration": 3799,
    "start_time": "2023-01-16T23:28:21.940Z"
   },
   {
    "duration": 3,
    "start_time": "2023-01-16T23:28:25.741Z"
   },
   {
    "duration": 10,
    "start_time": "2023-01-16T23:28:25.746Z"
   },
   {
    "duration": 7,
    "start_time": "2023-01-16T23:28:25.837Z"
   },
   {
    "duration": 15,
    "start_time": "2023-01-16T23:28:25.846Z"
   },
   {
    "duration": 17677,
    "start_time": "2023-01-16T23:28:25.862Z"
   },
   {
    "duration": 6205,
    "start_time": "2023-01-16T23:28:43.541Z"
   },
   {
    "duration": 700,
    "start_time": "2023-01-16T23:32:26.119Z"
   },
   {
    "duration": 10235,
    "start_time": "2023-01-16T23:33:06.390Z"
   },
   {
    "duration": 3831960,
    "start_time": "2023-01-16T23:33:29.855Z"
   },
   {
    "duration": 594964,
    "start_time": "2023-01-17T00:37:32.852Z"
   },
   {
    "duration": 2,
    "start_time": "2023-01-17T00:48:00.592Z"
   },
   {
    "duration": 3,
    "start_time": "2023-01-17T00:48:05.260Z"
   },
   {
    "duration": 66,
    "start_time": "2023-01-17T00:51:09.059Z"
   },
   {
    "duration": 7150,
    "start_time": "2023-01-17T00:51:58.240Z"
   },
   {
    "duration": 31513,
    "start_time": "2023-01-17T00:52:09.056Z"
   },
   {
    "duration": 11696,
    "start_time": "2023-01-17T00:53:08.469Z"
   },
   {
    "duration": 12090,
    "start_time": "2023-01-17T00:53:42.377Z"
   },
   {
    "duration": 12213,
    "start_time": "2023-01-17T00:54:02.941Z"
   },
   {
    "duration": 17651,
    "start_time": "2023-01-17T00:54:20.194Z"
   },
   {
    "duration": 2,
    "start_time": "2023-01-17T00:54:37.847Z"
   },
   {
    "duration": 2,
    "start_time": "2023-01-17T00:55:27.559Z"
   },
   {
    "duration": 573,
    "start_time": "2023-01-17T00:55:40.494Z"
   },
   {
    "duration": 1044,
    "start_time": "2023-01-17T00:55:49.407Z"
   },
   {
    "duration": 1217,
    "start_time": "2023-01-17T00:56:01.047Z"
   },
   {
    "duration": 1082,
    "start_time": "2023-01-17T00:56:49.769Z"
   },
   {
    "duration": 223,
    "start_time": "2023-01-17T00:56:50.852Z"
   },
   {
    "duration": 3,
    "start_time": "2023-01-17T00:56:51.077Z"
   },
   {
    "duration": 19,
    "start_time": "2023-01-17T00:56:51.082Z"
   },
   {
    "duration": 8,
    "start_time": "2023-01-17T00:56:51.103Z"
   },
   {
    "duration": 11,
    "start_time": "2023-01-17T00:56:51.113Z"
   },
   {
    "duration": 2840,
    "start_time": "2023-01-17T00:56:51.126Z"
   },
   {
    "duration": 21,
    "start_time": "2023-01-17T00:56:53.968Z"
   },
   {
    "duration": 3,
    "start_time": "2023-01-17T00:56:53.990Z"
   },
   {
    "duration": 847,
    "start_time": "2023-01-17T00:56:53.995Z"
   },
   {
    "duration": 9,
    "start_time": "2023-01-17T00:56:54.844Z"
   },
   {
    "duration": 24,
    "start_time": "2023-01-17T00:56:54.990Z"
   },
   {
    "duration": 6,
    "start_time": "2023-01-17T00:57:00.807Z"
   },
   {
    "duration": 207,
    "start_time": "2023-01-17T00:57:04.058Z"
   },
   {
    "duration": 513,
    "start_time": "2023-01-17T00:57:05.388Z"
   },
   {
    "duration": 6,
    "start_time": "2023-01-17T00:57:06.510Z"
   },
   {
    "duration": 4,
    "start_time": "2023-01-17T00:58:25.700Z"
   },
   {
    "duration": 3,
    "start_time": "2023-01-17T00:58:27.030Z"
   },
   {
    "duration": 3,
    "start_time": "2023-01-17T00:58:27.887Z"
   },
   {
    "duration": 11,
    "start_time": "2023-01-17T00:58:45.808Z"
   },
   {
    "duration": 1130,
    "start_time": "2023-01-17T00:59:29.115Z"
   },
   {
    "duration": 223,
    "start_time": "2023-01-17T00:59:30.247Z"
   },
   {
    "duration": 3,
    "start_time": "2023-01-17T00:59:30.472Z"
   },
   {
    "duration": 67,
    "start_time": "2023-01-17T00:59:30.477Z"
   },
   {
    "duration": 38,
    "start_time": "2023-01-17T00:59:30.546Z"
   },
   {
    "duration": 40,
    "start_time": "2023-01-17T00:59:30.586Z"
   },
   {
    "duration": 2838,
    "start_time": "2023-01-17T00:59:30.628Z"
   },
   {
    "duration": 22,
    "start_time": "2023-01-17T00:59:33.468Z"
   },
   {
    "duration": 2,
    "start_time": "2023-01-17T00:59:33.492Z"
   },
   {
    "duration": 855,
    "start_time": "2023-01-17T00:59:33.497Z"
   },
   {
    "duration": 9,
    "start_time": "2023-01-17T00:59:34.354Z"
   },
   {
    "duration": 29,
    "start_time": "2023-01-17T00:59:34.365Z"
   },
   {
    "duration": 7,
    "start_time": "2023-01-17T00:59:34.395Z"
   },
   {
    "duration": 212,
    "start_time": "2023-01-17T00:59:34.403Z"
   },
   {
    "duration": 467,
    "start_time": "2023-01-17T00:59:34.617Z"
   },
   {
    "duration": 5,
    "start_time": "2023-01-17T00:59:35.086Z"
   },
   {
    "duration": 5,
    "start_time": "2023-01-17T00:59:35.092Z"
   },
   {
    "duration": 6,
    "start_time": "2023-01-17T00:59:35.099Z"
   },
   {
    "duration": 14,
    "start_time": "2023-01-17T00:59:35.107Z"
   },
   {
    "duration": 12,
    "start_time": "2023-01-17T00:59:55.874Z"
   },
   {
    "duration": 1085,
    "start_time": "2023-01-17T01:00:25.677Z"
   },
   {
    "duration": 225,
    "start_time": "2023-01-17T01:00:26.764Z"
   },
   {
    "duration": 2,
    "start_time": "2023-01-17T01:00:26.991Z"
   },
   {
    "duration": 8,
    "start_time": "2023-01-17T01:00:26.996Z"
   },
   {
    "duration": 13,
    "start_time": "2023-01-17T01:00:27.005Z"
   },
   {
    "duration": 12,
    "start_time": "2023-01-17T01:00:27.020Z"
   },
   {
    "duration": 2840,
    "start_time": "2023-01-17T01:00:27.034Z"
   },
   {
    "duration": 22,
    "start_time": "2023-01-17T01:00:29.876Z"
   },
   {
    "duration": 10,
    "start_time": "2023-01-17T01:00:29.900Z"
   },
   {
    "duration": 873,
    "start_time": "2023-01-17T01:00:29.913Z"
   },
   {
    "duration": 11,
    "start_time": "2023-01-17T01:00:30.788Z"
   },
   {
    "duration": 36,
    "start_time": "2023-01-17T01:00:30.801Z"
   },
   {
    "duration": 52,
    "start_time": "2023-01-17T01:00:30.839Z"
   },
   {
    "duration": 149,
    "start_time": "2023-01-17T01:00:30.893Z"
   },
   {
    "duration": 537,
    "start_time": "2023-01-17T01:00:31.044Z"
   },
   {
    "duration": 5,
    "start_time": "2023-01-17T01:00:31.584Z"
   },
   {
    "duration": 45,
    "start_time": "2023-01-17T01:00:31.591Z"
   },
   {
    "duration": 3,
    "start_time": "2023-01-17T01:00:32.882Z"
   },
   {
    "duration": 11,
    "start_time": "2023-01-17T01:00:39.466Z"
   },
   {
    "duration": 3,
    "start_time": "2023-01-17T01:00:42.953Z"
   },
   {
    "duration": 3,
    "start_time": "2023-01-17T01:00:43.355Z"
   },
   {
    "duration": 4011,
    "start_time": "2023-01-17T01:01:26.877Z"
   },
   {
    "duration": 9,
    "start_time": "2023-01-17T01:01:39.559Z"
   },
   {
    "duration": 2435675,
    "start_time": "2023-01-17T01:02:11.303Z"
   },
   {
    "duration": 11,
    "start_time": "2023-01-17T01:44:53.234Z"
   },
   {
    "duration": 3,
    "start_time": "2023-01-17T01:47:00.755Z"
   },
   {
    "duration": 3,
    "start_time": "2023-01-17T01:49:40.113Z"
   },
   {
    "duration": 3,
    "start_time": "2023-01-17T01:49:40.852Z"
   },
   {
    "duration": 144,
    "start_time": "2023-01-17T01:49:51.155Z"
   },
   {
    "duration": 58,
    "start_time": "2023-01-17T01:55:12.916Z"
   },
   {
    "duration": 11401,
    "start_time": "2023-01-17T01:55:25.003Z"
   },
   {
    "duration": 10,
    "start_time": "2023-01-17T01:55:51.703Z"
   },
   {
    "duration": 889,
    "start_time": "2023-01-17T01:56:38.937Z"
   },
   {
    "duration": 3,
    "start_time": "2023-01-17T01:57:14.767Z"
   },
   {
    "duration": 20,
    "start_time": "2023-01-17T01:58:17.410Z"
   },
   {
    "duration": 1362,
    "start_time": "2023-01-17T01:59:04.530Z"
   },
   {
    "duration": 2,
    "start_time": "2023-01-17T01:59:05.894Z"
   },
   {
    "duration": 12,
    "start_time": "2023-01-17T01:59:05.898Z"
   },
   {
    "duration": 2723,
    "start_time": "2023-01-17T01:59:05.912Z"
   },
   {
    "duration": 774,
    "start_time": "2023-01-17T01:59:08.637Z"
   },
   {
    "duration": 2,
    "start_time": "2023-01-17T01:59:09.413Z"
   },
   {
    "duration": 6,
    "start_time": "2023-01-17T01:59:09.418Z"
   },
   {
    "duration": 8,
    "start_time": "2023-01-17T01:59:09.426Z"
   },
   {
    "duration": 2684,
    "start_time": "2023-01-17T01:59:09.436Z"
   },
   {
    "duration": 11,
    "start_time": "2023-01-17T01:59:12.124Z"
   },
   {
    "duration": 39,
    "start_time": "2023-01-17T01:59:12.136Z"
   },
   {
    "duration": 21,
    "start_time": "2023-01-17T01:59:12.177Z"
   },
   {
    "duration": 379,
    "start_time": "2023-01-17T01:59:12.200Z"
   },
   {
    "duration": 0,
    "start_time": "2023-01-17T01:59:12.583Z"
   },
   {
    "duration": 0,
    "start_time": "2023-01-17T01:59:12.584Z"
   },
   {
    "duration": 0,
    "start_time": "2023-01-17T01:59:12.586Z"
   },
   {
    "duration": 0,
    "start_time": "2023-01-17T01:59:12.587Z"
   },
   {
    "duration": 0,
    "start_time": "2023-01-17T01:59:12.589Z"
   },
   {
    "duration": 0,
    "start_time": "2023-01-17T01:59:12.590Z"
   },
   {
    "duration": 0,
    "start_time": "2023-01-17T01:59:12.591Z"
   },
   {
    "duration": 0,
    "start_time": "2023-01-17T01:59:12.593Z"
   },
   {
    "duration": 0,
    "start_time": "2023-01-17T01:59:12.594Z"
   },
   {
    "duration": 0,
    "start_time": "2023-01-17T01:59:12.595Z"
   },
   {
    "duration": 0,
    "start_time": "2023-01-17T01:59:12.597Z"
   },
   {
    "duration": 0,
    "start_time": "2023-01-17T01:59:12.598Z"
   },
   {
    "duration": 0,
    "start_time": "2023-01-17T01:59:12.600Z"
   },
   {
    "duration": 0,
    "start_time": "2023-01-17T01:59:12.601Z"
   },
   {
    "duration": 0,
    "start_time": "2023-01-17T01:59:12.640Z"
   },
   {
    "duration": 0,
    "start_time": "2023-01-17T01:59:12.641Z"
   },
   {
    "duration": 0,
    "start_time": "2023-01-17T01:59:12.642Z"
   },
   {
    "duration": 0,
    "start_time": "2023-01-17T01:59:12.642Z"
   },
   {
    "duration": 0,
    "start_time": "2023-01-17T01:59:12.643Z"
   },
   {
    "duration": 0,
    "start_time": "2023-01-17T01:59:12.644Z"
   },
   {
    "duration": 0,
    "start_time": "2023-01-17T01:59:12.645Z"
   },
   {
    "duration": 0,
    "start_time": "2023-01-17T01:59:12.646Z"
   },
   {
    "duration": 0,
    "start_time": "2023-01-17T01:59:12.647Z"
   },
   {
    "duration": 0,
    "start_time": "2023-01-17T01:59:12.647Z"
   },
   {
    "duration": 0,
    "start_time": "2023-01-17T01:59:12.648Z"
   },
   {
    "duration": 0,
    "start_time": "2023-01-17T01:59:12.649Z"
   },
   {
    "duration": 0,
    "start_time": "2023-01-17T01:59:12.650Z"
   },
   {
    "duration": 0,
    "start_time": "2023-01-17T01:59:12.651Z"
   },
   {
    "duration": 0,
    "start_time": "2023-01-17T01:59:12.651Z"
   },
   {
    "duration": 0,
    "start_time": "2023-01-17T01:59:12.652Z"
   },
   {
    "duration": 0,
    "start_time": "2023-01-17T01:59:12.653Z"
   },
   {
    "duration": 0,
    "start_time": "2023-01-17T01:59:12.654Z"
   },
   {
    "duration": 0,
    "start_time": "2023-01-17T01:59:12.655Z"
   },
   {
    "duration": 0,
    "start_time": "2023-01-17T01:59:12.655Z"
   },
   {
    "duration": 0,
    "start_time": "2023-01-17T01:59:12.656Z"
   },
   {
    "duration": 0,
    "start_time": "2023-01-17T01:59:12.657Z"
   },
   {
    "duration": 0,
    "start_time": "2023-01-17T01:59:12.658Z"
   },
   {
    "duration": 0,
    "start_time": "2023-01-17T01:59:12.662Z"
   },
   {
    "duration": 0,
    "start_time": "2023-01-17T01:59:12.663Z"
   },
   {
    "duration": 0,
    "start_time": "2023-01-17T01:59:12.665Z"
   },
   {
    "duration": 0,
    "start_time": "2023-01-17T01:59:12.666Z"
   },
   {
    "duration": 0,
    "start_time": "2023-01-17T01:59:12.668Z"
   },
   {
    "duration": 0,
    "start_time": "2023-01-17T01:59:12.668Z"
   },
   {
    "duration": 0,
    "start_time": "2023-01-17T01:59:12.670Z"
   },
   {
    "duration": 0,
    "start_time": "2023-01-17T01:59:12.671Z"
   },
   {
    "duration": 0,
    "start_time": "2023-01-17T01:59:12.672Z"
   },
   {
    "duration": 0,
    "start_time": "2023-01-17T01:59:12.674Z"
   },
   {
    "duration": 0,
    "start_time": "2023-01-17T01:59:12.675Z"
   },
   {
    "duration": 0,
    "start_time": "2023-01-17T01:59:12.676Z"
   },
   {
    "duration": 0,
    "start_time": "2023-01-17T01:59:12.678Z"
   },
   {
    "duration": 0,
    "start_time": "2023-01-17T01:59:12.679Z"
   },
   {
    "duration": 0,
    "start_time": "2023-01-17T01:59:12.680Z"
   },
   {
    "duration": 13,
    "start_time": "2023-01-17T01:59:38.879Z"
   },
   {
    "duration": 8,
    "start_time": "2023-01-17T01:59:43.400Z"
   },
   {
    "duration": 1374,
    "start_time": "2023-01-17T02:00:07.329Z"
   },
   {
    "duration": 3,
    "start_time": "2023-01-17T02:00:08.706Z"
   },
   {
    "duration": 46,
    "start_time": "2023-01-17T02:00:08.710Z"
   },
   {
    "duration": 2773,
    "start_time": "2023-01-17T02:00:08.758Z"
   },
   {
    "duration": 352,
    "start_time": "2023-01-17T02:00:11.533Z"
   },
   {
    "duration": 4,
    "start_time": "2023-01-17T02:00:11.887Z"
   },
   {
    "duration": 41,
    "start_time": "2023-01-17T02:00:11.893Z"
   },
   {
    "duration": 43,
    "start_time": "2023-01-17T02:00:11.936Z"
   },
   {
    "duration": 962,
    "start_time": "2023-01-17T02:00:11.981Z"
   },
   {
    "duration": 11,
    "start_time": "2023-01-17T02:00:12.948Z"
   },
   {
    "duration": 20,
    "start_time": "2023-01-17T02:00:12.962Z"
   },
   {
    "duration": 24,
    "start_time": "2023-01-17T02:00:12.984Z"
   },
   {
    "duration": 5,
    "start_time": "2023-01-17T02:00:13.010Z"
   },
   {
    "duration": 599,
    "start_time": "2023-01-17T02:00:13.016Z"
   },
   {
    "duration": 3,
    "start_time": "2023-01-17T02:00:13.617Z"
   },
   {
    "duration": 42,
    "start_time": "2023-01-17T02:00:13.621Z"
   },
   {
    "duration": 19,
    "start_time": "2023-01-17T02:00:13.665Z"
   },
   {
    "duration": 10,
    "start_time": "2023-01-17T02:00:13.686Z"
   },
   {
    "duration": 35,
    "start_time": "2023-01-17T02:00:13.698Z"
   },
   {
    "duration": 32,
    "start_time": "2023-01-17T02:00:13.735Z"
   },
   {
    "duration": 19,
    "start_time": "2023-01-17T02:00:13.768Z"
   },
   {
    "duration": 19,
    "start_time": "2023-01-17T02:00:13.789Z"
   },
   {
    "duration": 22,
    "start_time": "2023-01-17T02:00:13.810Z"
   },
   {
    "duration": 28,
    "start_time": "2023-01-17T02:00:13.834Z"
   },
   {
    "duration": 26,
    "start_time": "2023-01-17T02:00:13.864Z"
   },
   {
    "duration": 15,
    "start_time": "2023-01-17T02:00:13.892Z"
   },
   {
    "duration": 16,
    "start_time": "2023-01-17T02:00:13.909Z"
   },
   {
    "duration": 25,
    "start_time": "2023-01-17T02:00:13.931Z"
   },
   {
    "duration": 360,
    "start_time": "2023-01-17T02:00:13.957Z"
   },
   {
    "duration": 3,
    "start_time": "2023-01-17T02:00:14.319Z"
   },
   {
    "duration": 160192,
    "start_time": "2023-01-17T02:00:14.324Z"
   },
   {
    "duration": 9,
    "start_time": "2023-01-17T02:02:54.518Z"
   },
   {
    "duration": 18,
    "start_time": "2023-01-17T02:02:54.539Z"
   },
   {
    "duration": 7,
    "start_time": "2023-01-17T02:02:54.558Z"
   },
   {
    "duration": 7,
    "start_time": "2023-01-17T02:02:54.567Z"
   },
   {
    "duration": 9,
    "start_time": "2023-01-17T02:02:54.575Z"
   },
   {
    "duration": 5,
    "start_time": "2023-01-17T02:02:54.585Z"
   },
   {
    "duration": 4,
    "start_time": "2023-01-17T02:02:54.593Z"
   },
   {
    "duration": 4,
    "start_time": "2023-01-17T02:02:54.599Z"
   },
   {
    "duration": 6,
    "start_time": "2023-01-17T02:02:54.605Z"
   },
   {
    "duration": 6,
    "start_time": "2023-01-17T02:02:54.612Z"
   },
   {
    "duration": 15,
    "start_time": "2023-01-17T02:02:54.620Z"
   },
   {
    "duration": 12,
    "start_time": "2023-01-17T02:02:54.636Z"
   },
   {
    "duration": 209,
    "start_time": "2023-01-17T02:02:54.649Z"
   },
   {
    "duration": 3,
    "start_time": "2023-01-17T02:02:54.860Z"
   },
   {
    "duration": 341,
    "start_time": "2023-01-17T02:02:54.864Z"
   },
   {
    "duration": 319,
    "start_time": "2023-01-17T02:02:55.207Z"
   },
   {
    "duration": 73,
    "start_time": "2023-01-17T02:02:55.528Z"
   },
   {
    "duration": 4,
    "start_time": "2023-01-17T02:02:55.603Z"
   },
   {
    "duration": 7343,
    "start_time": "2023-01-17T02:02:55.608Z"
   },
   {
    "duration": 4,
    "start_time": "2023-01-17T02:03:02.956Z"
   },
   {
    "duration": 361,
    "start_time": "2023-01-17T02:03:02.962Z"
   },
   {
    "duration": 0,
    "start_time": "2023-01-17T02:03:03.327Z"
   },
   {
    "duration": 0,
    "start_time": "2023-01-17T02:03:03.329Z"
   },
   {
    "duration": 0,
    "start_time": "2023-01-17T02:03:03.330Z"
   },
   {
    "duration": 0,
    "start_time": "2023-01-17T02:03:03.331Z"
   },
   {
    "duration": 0,
    "start_time": "2023-01-17T02:03:03.332Z"
   },
   {
    "duration": 0,
    "start_time": "2023-01-17T02:03:03.333Z"
   },
   {
    "duration": 0,
    "start_time": "2023-01-17T02:03:03.334Z"
   },
   {
    "duration": 0,
    "start_time": "2023-01-17T02:03:03.344Z"
   },
   {
    "duration": 0,
    "start_time": "2023-01-17T02:03:03.349Z"
   },
   {
    "duration": 0,
    "start_time": "2023-01-17T02:03:03.351Z"
   },
   {
    "duration": 0,
    "start_time": "2023-01-17T02:03:03.352Z"
   },
   {
    "duration": 0,
    "start_time": "2023-01-17T02:03:03.354Z"
   },
   {
    "duration": 0,
    "start_time": "2023-01-17T02:03:03.355Z"
   },
   {
    "duration": 32,
    "start_time": "2023-01-17T02:03:40.480Z"
   },
   {
    "duration": 182,
    "start_time": "2023-01-17T02:04:17.817Z"
   },
   {
    "duration": 11,
    "start_time": "2023-01-17T02:04:18.638Z"
   },
   {
    "duration": 704,
    "start_time": "2023-01-17T02:04:19.037Z"
   },
   {
    "duration": 127,
    "start_time": "2023-01-17T02:04:19.743Z"
   },
   {
    "duration": 88,
    "start_time": "2023-01-17T02:04:19.872Z"
   },
   {
    "duration": 4,
    "start_time": "2023-01-17T02:04:20.345Z"
   },
   {
    "duration": 4977,
    "start_time": "2023-01-17T02:04:20.664Z"
   },
   {
    "duration": 6,
    "start_time": "2023-01-17T02:04:25.651Z"
   },
   {
    "duration": 86,
    "start_time": "2023-01-17T02:04:25.663Z"
   },
   {
    "duration": 5903,
    "start_time": "2023-01-17T02:05:07.639Z"
   },
   {
    "duration": 10844,
    "start_time": "2023-01-17T02:05:25.318Z"
   },
   {
    "duration": 11729,
    "start_time": "2023-01-17T02:06:21.775Z"
   },
   {
    "duration": 81615,
    "start_time": "2023-01-17T02:06:56.863Z"
   },
   {
    "duration": 14394,
    "start_time": "2023-01-17T02:08:51.659Z"
   },
   {
    "duration": 80724,
    "start_time": "2023-01-17T02:09:25.451Z"
   },
   {
    "duration": 0,
    "start_time": "2023-01-17T02:11:59.990Z"
   },
   {
    "duration": 25,
    "start_time": "2023-01-17T02:12:49.323Z"
   },
   {
    "duration": 36549,
    "start_time": "2023-01-17T02:12:59.407Z"
   },
   {
    "duration": 1279,
    "start_time": "2023-01-17T02:14:55.533Z"
   },
   {
    "duration": 3,
    "start_time": "2023-01-17T02:14:56.814Z"
   },
   {
    "duration": 6,
    "start_time": "2023-01-17T02:14:56.818Z"
   },
   {
    "duration": 2596,
    "start_time": "2023-01-17T02:14:56.827Z"
   },
   {
    "duration": 336,
    "start_time": "2023-01-17T02:14:59.425Z"
   },
   {
    "duration": 2,
    "start_time": "2023-01-17T02:14:59.763Z"
   },
   {
    "duration": 5,
    "start_time": "2023-01-17T02:14:59.767Z"
   },
   {
    "duration": 6,
    "start_time": "2023-01-17T02:14:59.774Z"
   },
   {
    "duration": 948,
    "start_time": "2023-01-17T02:14:59.782Z"
   },
   {
    "duration": 17,
    "start_time": "2023-01-17T02:15:00.733Z"
   },
   {
    "duration": 44,
    "start_time": "2023-01-17T02:15:00.755Z"
   },
   {
    "duration": 53,
    "start_time": "2023-01-17T02:15:00.801Z"
   },
   {
    "duration": 19,
    "start_time": "2023-01-17T02:15:00.856Z"
   },
   {
    "duration": 580,
    "start_time": "2023-01-17T02:15:00.877Z"
   },
   {
    "duration": 2,
    "start_time": "2023-01-17T02:15:01.462Z"
   },
   {
    "duration": 27,
    "start_time": "2023-01-17T02:15:01.465Z"
   },
   {
    "duration": 24,
    "start_time": "2023-01-17T02:15:01.494Z"
   },
   {
    "duration": 49,
    "start_time": "2023-01-17T02:15:01.520Z"
   },
   {
    "duration": 33,
    "start_time": "2023-01-17T02:15:01.571Z"
   },
   {
    "duration": 19,
    "start_time": "2023-01-17T02:15:01.606Z"
   },
   {
    "duration": 47,
    "start_time": "2023-01-17T02:15:01.627Z"
   },
   {
    "duration": 55,
    "start_time": "2023-01-17T02:15:01.676Z"
   },
   {
    "duration": 38,
    "start_time": "2023-01-17T02:15:01.732Z"
   },
   {
    "duration": 31,
    "start_time": "2023-01-17T02:15:01.772Z"
   },
   {
    "duration": 20,
    "start_time": "2023-01-17T02:15:01.805Z"
   },
   {
    "duration": 51,
    "start_time": "2023-01-17T02:15:01.827Z"
   },
   {
    "duration": 29,
    "start_time": "2023-01-17T02:15:01.880Z"
   },
   {
    "duration": 18,
    "start_time": "2023-01-17T02:15:01.913Z"
   },
   {
    "duration": 664,
    "start_time": "2023-01-17T02:15:01.933Z"
   },
   {
    "duration": 3,
    "start_time": "2023-01-17T02:15:02.600Z"
   },
   {
    "duration": 320121,
    "start_time": "2023-01-17T02:15:02.604Z"
   },
   {
    "duration": 28,
    "start_time": "2023-01-17T02:20:22.728Z"
   },
   {
    "duration": 29,
    "start_time": "2023-01-17T02:20:22.758Z"
   },
   {
    "duration": 27,
    "start_time": "2023-01-17T02:20:22.790Z"
   },
   {
    "duration": 37,
    "start_time": "2023-01-17T02:20:22.820Z"
   },
   {
    "duration": 20,
    "start_time": "2023-01-17T02:20:22.860Z"
   },
   {
    "duration": 12,
    "start_time": "2023-01-17T02:20:22.882Z"
   },
   {
    "duration": 11,
    "start_time": "2023-01-17T02:20:22.896Z"
   },
   {
    "duration": 19,
    "start_time": "2023-01-17T02:20:22.909Z"
   },
   {
    "duration": 33,
    "start_time": "2023-01-17T02:20:22.930Z"
   },
   {
    "duration": 13,
    "start_time": "2023-01-17T02:20:22.965Z"
   },
   {
    "duration": 12,
    "start_time": "2023-01-17T02:20:22.980Z"
   },
   {
    "duration": 32,
    "start_time": "2023-01-17T02:20:22.994Z"
   },
   {
    "duration": 7,
    "start_time": "2023-01-17T02:20:23.028Z"
   },
   {
    "duration": 35,
    "start_time": "2023-01-17T02:20:23.037Z"
   },
   {
    "duration": 21,
    "start_time": "2023-01-17T02:20:23.074Z"
   },
   {
    "duration": 19,
    "start_time": "2023-01-17T02:20:23.097Z"
   },
   {
    "duration": 13,
    "start_time": "2023-01-17T02:20:23.118Z"
   },
   {
    "duration": 300,
    "start_time": "2023-01-17T02:20:23.133Z"
   },
   {
    "duration": 10,
    "start_time": "2023-01-17T02:20:23.435Z"
   },
   {
    "duration": 776,
    "start_time": "2023-01-17T02:20:23.452Z"
   },
   {
    "duration": 240,
    "start_time": "2023-01-17T02:20:24.230Z"
   },
   {
    "duration": 106,
    "start_time": "2023-01-17T02:20:24.472Z"
   },
   {
    "duration": 3,
    "start_time": "2023-01-17T02:20:24.580Z"
   },
   {
    "duration": 6355,
    "start_time": "2023-01-17T02:20:24.584Z"
   },
   {
    "duration": 7,
    "start_time": "2023-01-17T02:20:30.943Z"
   },
   {
    "duration": 53,
    "start_time": "2023-01-17T02:20:30.954Z"
   },
   {
    "duration": 58,
    "start_time": "2023-01-17T02:20:31.009Z"
   },
   {
    "duration": 33,
    "start_time": "2023-01-17T02:20:31.069Z"
   },
   {
    "duration": 33811,
    "start_time": "2023-01-17T02:20:31.103Z"
   },
   {
    "duration": 4,
    "start_time": "2023-01-17T02:21:04.916Z"
   },
   {
    "duration": 27,
    "start_time": "2023-01-17T02:21:04.921Z"
   },
   {
    "duration": 12,
    "start_time": "2023-01-17T02:21:04.952Z"
   },
   {
    "duration": 139622,
    "start_time": "2023-01-17T02:21:04.966Z"
   },
   {
    "duration": 2,
    "start_time": "2023-01-17T02:23:24.590Z"
   },
   {
    "duration": 13,
    "start_time": "2023-01-17T02:23:24.594Z"
   },
   {
    "duration": 13,
    "start_time": "2023-01-17T02:23:24.609Z"
   },
   {
    "duration": 23,
    "start_time": "2023-01-17T02:23:24.624Z"
   },
   {
    "duration": 1526,
    "start_time": "2023-01-17T02:42:25.225Z"
   },
   {
    "duration": 6,
    "start_time": "2023-01-17T02:42:26.752Z"
   },
   {
    "duration": 23,
    "start_time": "2023-01-17T02:42:26.760Z"
   },
   {
    "duration": 2973,
    "start_time": "2023-01-17T02:42:26.786Z"
   },
   {
    "duration": 340,
    "start_time": "2023-01-17T02:42:29.761Z"
   },
   {
    "duration": 3,
    "start_time": "2023-01-17T02:42:30.103Z"
   },
   {
    "duration": 55,
    "start_time": "2023-01-17T02:42:30.107Z"
   },
   {
    "duration": 20,
    "start_time": "2023-01-17T02:42:30.163Z"
   },
   {
    "duration": 972,
    "start_time": "2023-01-17T02:42:30.185Z"
   },
   {
    "duration": 10,
    "start_time": "2023-01-17T02:42:31.161Z"
   },
   {
    "duration": 46,
    "start_time": "2023-01-17T02:42:31.173Z"
   },
   {
    "duration": 77,
    "start_time": "2023-01-17T02:42:31.222Z"
   },
   {
    "duration": 61,
    "start_time": "2023-01-17T02:42:31.301Z"
   },
   {
    "duration": 638,
    "start_time": "2023-01-17T02:42:31.363Z"
   },
   {
    "duration": 3,
    "start_time": "2023-01-17T02:42:32.002Z"
   },
   {
    "duration": 64,
    "start_time": "2023-01-17T02:42:32.007Z"
   },
   {
    "duration": 93,
    "start_time": "2023-01-17T02:42:32.073Z"
   },
   {
    "duration": 51,
    "start_time": "2023-01-17T02:42:32.168Z"
   },
   {
    "duration": 97,
    "start_time": "2023-01-17T02:42:32.222Z"
   },
   {
    "duration": 45,
    "start_time": "2023-01-17T02:42:32.321Z"
   },
   {
    "duration": 54,
    "start_time": "2023-01-17T02:42:32.368Z"
   },
   {
    "duration": 83,
    "start_time": "2023-01-17T02:42:32.424Z"
   },
   {
    "duration": 99,
    "start_time": "2023-01-17T02:42:32.509Z"
   },
   {
    "duration": 99,
    "start_time": "2023-01-17T02:42:32.611Z"
   },
   {
    "duration": 89,
    "start_time": "2023-01-17T02:42:32.713Z"
   },
   {
    "duration": 56,
    "start_time": "2023-01-17T02:42:32.805Z"
   },
   {
    "duration": 68,
    "start_time": "2023-01-17T02:42:32.863Z"
   },
   {
    "duration": 51,
    "start_time": "2023-01-17T02:42:32.936Z"
   },
   {
    "duration": 694,
    "start_time": "2023-01-17T02:42:32.989Z"
   },
   {
    "duration": 3,
    "start_time": "2023-01-17T02:42:33.686Z"
   },
   {
    "duration": 335487,
    "start_time": "2023-01-17T02:42:33.692Z"
   },
   {
    "duration": 24,
    "start_time": "2023-01-17T02:48:09.181Z"
   },
   {
    "duration": 24,
    "start_time": "2023-01-17T02:48:09.207Z"
   },
   {
    "duration": 40,
    "start_time": "2023-01-17T02:48:09.233Z"
   },
   {
    "duration": 8,
    "start_time": "2023-01-17T02:48:09.275Z"
   },
   {
    "duration": 14,
    "start_time": "2023-01-17T02:48:09.285Z"
   },
   {
    "duration": 7,
    "start_time": "2023-01-17T02:48:09.301Z"
   },
   {
    "duration": 7,
    "start_time": "2023-01-17T02:48:09.310Z"
   },
   {
    "duration": 10,
    "start_time": "2023-01-17T02:48:09.319Z"
   },
   {
    "duration": 22,
    "start_time": "2023-01-17T02:48:09.331Z"
   },
   {
    "duration": 18,
    "start_time": "2023-01-17T02:48:09.355Z"
   },
   {
    "duration": 26,
    "start_time": "2023-01-17T02:48:09.374Z"
   },
   {
    "duration": 54,
    "start_time": "2023-01-17T02:48:09.403Z"
   },
   {
    "duration": 22,
    "start_time": "2023-01-17T02:48:09.463Z"
   },
   {
    "duration": 17,
    "start_time": "2023-01-17T02:48:09.487Z"
   },
   {
    "duration": 12,
    "start_time": "2023-01-17T02:48:09.506Z"
   },
   {
    "duration": 11,
    "start_time": "2023-01-17T02:48:09.520Z"
   },
   {
    "duration": 25,
    "start_time": "2023-01-17T02:48:09.533Z"
   },
   {
    "duration": 291,
    "start_time": "2023-01-17T02:48:09.559Z"
   },
   {
    "duration": 16,
    "start_time": "2023-01-17T02:48:09.851Z"
   },
   {
    "duration": 770,
    "start_time": "2023-01-17T02:48:09.869Z"
   },
   {
    "duration": 235,
    "start_time": "2023-01-17T02:48:10.641Z"
   },
   {
    "duration": 104,
    "start_time": "2023-01-17T02:48:10.878Z"
   },
   {
    "duration": 2,
    "start_time": "2023-01-17T02:48:10.985Z"
   },
   {
    "duration": 8253,
    "start_time": "2023-01-17T02:48:10.989Z"
   },
   {
    "duration": 4,
    "start_time": "2023-01-17T02:48:19.244Z"
   },
   {
    "duration": 28,
    "start_time": "2023-01-17T02:48:19.249Z"
   },
   {
    "duration": 6,
    "start_time": "2023-01-17T02:48:19.279Z"
   },
   {
    "duration": 9,
    "start_time": "2023-01-17T02:48:19.287Z"
   },
   {
    "duration": 33733,
    "start_time": "2023-01-17T02:48:19.298Z"
   },
   {
    "duration": 11,
    "start_time": "2023-01-17T02:48:53.033Z"
   },
   {
    "duration": 14,
    "start_time": "2023-01-17T02:48:53.046Z"
   },
   {
    "duration": 14,
    "start_time": "2023-01-17T02:48:53.062Z"
   },
   {
    "duration": 137119,
    "start_time": "2023-01-17T02:48:53.078Z"
   },
   {
    "duration": 2,
    "start_time": "2023-01-17T02:51:10.199Z"
   },
   {
    "duration": 30,
    "start_time": "2023-01-17T02:51:10.203Z"
   },
   {
    "duration": 26,
    "start_time": "2023-01-17T02:51:10.235Z"
   },
   {
    "duration": 12,
    "start_time": "2023-01-17T02:51:10.263Z"
   },
   {
    "duration": 247471,
    "start_time": "2023-01-17T02:51:10.277Z"
   },
   {
    "duration": 1483,
    "start_time": "2023-01-17T02:55:47.910Z"
   },
   {
    "duration": 3,
    "start_time": "2023-01-17T02:55:49.396Z"
   },
   {
    "duration": 25,
    "start_time": "2023-01-17T02:55:49.401Z"
   },
   {
    "duration": 2810,
    "start_time": "2023-01-17T02:55:49.429Z"
   },
   {
    "duration": 372,
    "start_time": "2023-01-17T02:55:52.241Z"
   },
   {
    "duration": 4,
    "start_time": "2023-01-17T02:55:52.618Z"
   },
   {
    "duration": 31,
    "start_time": "2023-01-17T02:55:52.624Z"
   },
   {
    "duration": 35,
    "start_time": "2023-01-17T02:55:52.657Z"
   },
   {
    "duration": 898,
    "start_time": "2023-01-17T02:55:52.695Z"
   },
   {
    "duration": 10,
    "start_time": "2023-01-17T02:55:53.595Z"
   },
   {
    "duration": 31,
    "start_time": "2023-01-17T02:55:53.607Z"
   },
   {
    "duration": 18,
    "start_time": "2023-01-17T02:55:53.640Z"
   },
   {
    "duration": 5,
    "start_time": "2023-01-17T02:55:53.661Z"
   },
   {
    "duration": 545,
    "start_time": "2023-01-17T02:55:53.667Z"
   },
   {
    "duration": 3,
    "start_time": "2023-01-17T02:55:54.214Z"
   },
   {
    "duration": 17,
    "start_time": "2023-01-17T02:55:54.220Z"
   },
   {
    "duration": 13,
    "start_time": "2023-01-17T02:55:54.239Z"
   },
   {
    "duration": 11,
    "start_time": "2023-01-17T02:55:54.254Z"
   },
   {
    "duration": 22,
    "start_time": "2023-01-17T02:55:54.266Z"
   },
   {
    "duration": 17,
    "start_time": "2023-01-17T02:55:54.290Z"
   },
   {
    "duration": 7,
    "start_time": "2023-01-17T02:55:54.309Z"
   },
   {
    "duration": 7,
    "start_time": "2023-01-17T02:55:54.318Z"
   },
   {
    "duration": 9,
    "start_time": "2023-01-17T02:55:54.327Z"
   },
   {
    "duration": 8,
    "start_time": "2023-01-17T02:55:54.338Z"
   },
   {
    "duration": 12,
    "start_time": "2023-01-17T02:55:54.348Z"
   },
   {
    "duration": 11,
    "start_time": "2023-01-17T02:55:54.362Z"
   },
   {
    "duration": 16,
    "start_time": "2023-01-17T02:55:54.375Z"
   },
   {
    "duration": 9,
    "start_time": "2023-01-17T02:55:54.395Z"
   },
   {
    "duration": 4442,
    "start_time": "2023-01-17T02:55:54.405Z"
   },
   {
    "duration": 3,
    "start_time": "2023-01-17T02:55:58.849Z"
   },
   {
    "duration": 2539459,
    "start_time": "2023-01-17T02:55:58.853Z"
   },
   {
    "duration": 23,
    "start_time": "2023-01-17T03:38:18.314Z"
   },
   {
    "duration": 9,
    "start_time": "2023-01-17T03:38:18.340Z"
   },
   {
    "duration": 17,
    "start_time": "2023-01-17T03:38:18.351Z"
   },
   {
    "duration": 14,
    "start_time": "2023-01-17T03:38:18.371Z"
   },
   {
    "duration": 18,
    "start_time": "2023-01-17T03:38:18.387Z"
   },
   {
    "duration": 18,
    "start_time": "2023-01-17T03:38:18.407Z"
   },
   {
    "duration": 13,
    "start_time": "2023-01-17T03:38:18.427Z"
   },
   {
    "duration": 8,
    "start_time": "2023-01-17T03:38:18.442Z"
   },
   {
    "duration": 13,
    "start_time": "2023-01-17T03:38:18.453Z"
   },
   {
    "duration": 9,
    "start_time": "2023-01-17T03:38:18.468Z"
   },
   {
    "duration": 14,
    "start_time": "2023-01-17T03:38:18.479Z"
   },
   {
    "duration": 144,
    "start_time": "2023-01-17T03:38:18.495Z"
   },
   {
    "duration": 5,
    "start_time": "2023-01-17T03:38:18.641Z"
   },
   {
    "duration": 8,
    "start_time": "2023-01-17T03:38:18.647Z"
   },
   {
    "duration": 12,
    "start_time": "2023-01-17T03:38:18.657Z"
   },
   {
    "duration": 10,
    "start_time": "2023-01-17T03:38:18.671Z"
   },
   {
    "duration": 10,
    "start_time": "2023-01-17T03:38:18.683Z"
   },
   {
    "duration": 2811,
    "start_time": "2023-01-17T03:38:18.695Z"
   },
   {
    "duration": 5,
    "start_time": "2023-01-17T03:38:21.508Z"
   },
   {
    "duration": 5604,
    "start_time": "2023-01-17T03:38:21.515Z"
   },
   {
    "duration": 1817,
    "start_time": "2023-01-17T03:38:27.121Z"
   },
   {
    "duration": 790,
    "start_time": "2023-01-17T03:38:28.940Z"
   },
   {
    "duration": 6,
    "start_time": "2023-01-17T03:38:29.732Z"
   },
   {
    "duration": 52501,
    "start_time": "2023-01-17T03:38:29.740Z"
   },
   {
    "duration": 10,
    "start_time": "2023-01-17T03:39:22.243Z"
   },
   {
    "duration": 92,
    "start_time": "2023-01-17T03:39:22.256Z"
   },
   {
    "duration": 3,
    "start_time": "2023-01-17T03:39:22.351Z"
   },
   {
    "duration": 20,
    "start_time": "2023-01-17T03:39:22.356Z"
   },
   {
    "duration": 506175,
    "start_time": "2023-01-17T03:39:22.378Z"
   },
   {
    "duration": 3,
    "start_time": "2023-01-17T03:47:48.555Z"
   },
   {
    "duration": 20,
    "start_time": "2023-01-17T03:47:48.559Z"
   },
   {
    "duration": 15,
    "start_time": "2023-01-17T03:47:48.582Z"
   },
   {
    "duration": 8,
    "start_time": "2023-01-17T03:51:46.496Z"
   },
   {
    "duration": 1811,
    "start_time": "2023-01-17T03:52:27.887Z"
   },
   {
    "duration": 7,
    "start_time": "2023-01-17T03:52:29.701Z"
   },
   {
    "duration": 11149,
    "start_time": "2023-01-17T03:52:29.712Z"
   },
   {
    "duration": 1075,
    "start_time": "2023-01-17T03:52:40.864Z"
   },
   {
    "duration": 4,
    "start_time": "2023-01-17T03:52:41.943Z"
   },
   {
    "duration": 22,
    "start_time": "2023-01-17T03:52:41.949Z"
   },
   {
    "duration": 12,
    "start_time": "2023-01-17T03:52:41.974Z"
   },
   {
    "duration": 3069,
    "start_time": "2023-01-17T03:52:41.988Z"
   },
   {
    "duration": 14,
    "start_time": "2023-01-17T03:52:45.065Z"
   },
   {
    "duration": 39,
    "start_time": "2023-01-17T03:52:45.081Z"
   },
   {
    "duration": 25,
    "start_time": "2023-01-17T03:52:45.123Z"
   },
   {
    "duration": 13,
    "start_time": "2023-01-17T03:52:45.152Z"
   },
   {
    "duration": 1027,
    "start_time": "2023-01-17T03:52:45.168Z"
   },
   {
    "duration": 3,
    "start_time": "2023-01-17T03:52:46.197Z"
   },
   {
    "duration": 24,
    "start_time": "2023-01-17T03:52:46.203Z"
   },
   {
    "duration": 36,
    "start_time": "2023-01-17T03:52:46.229Z"
   },
   {
    "duration": 23,
    "start_time": "2023-01-17T03:52:46.268Z"
   },
   {
    "duration": 19,
    "start_time": "2023-01-17T03:52:46.294Z"
   },
   {
    "duration": 11,
    "start_time": "2023-01-17T03:52:46.315Z"
   },
   {
    "duration": 65,
    "start_time": "2023-01-17T03:52:46.329Z"
   },
   {
    "duration": 35,
    "start_time": "2023-01-17T03:52:46.396Z"
   },
   {
    "duration": 7489,
    "start_time": "2023-01-17T03:52:57.516Z"
   },
   {
    "duration": 6,
    "start_time": "2023-01-17T03:53:05.010Z"
   },
   {
    "duration": 2758463,
    "start_time": "2023-01-17T03:53:05.019Z"
   },
   {
    "duration": 27,
    "start_time": "2023-01-17T04:39:03.493Z"
   },
   {
    "duration": 67,
    "start_time": "2023-01-17T04:39:03.535Z"
   },
   {
    "duration": 19,
    "start_time": "2023-01-17T04:39:03.604Z"
   },
   {
    "duration": 2022,
    "start_time": "2023-01-17T04:39:18.864Z"
   },
   {
    "duration": 3,
    "start_time": "2023-01-17T04:39:20.889Z"
   },
   {
    "duration": 4091,
    "start_time": "2023-01-17T04:39:20.894Z"
   },
   {
    "duration": 484,
    "start_time": "2023-01-17T04:39:24.989Z"
   },
   {
    "duration": 4,
    "start_time": "2023-01-17T04:39:25.477Z"
   },
   {
    "duration": 31,
    "start_time": "2023-01-17T04:39:25.482Z"
   },
   {
    "duration": 17,
    "start_time": "2023-01-17T04:39:25.516Z"
   },
   {
    "duration": 1315,
    "start_time": "2023-01-17T04:39:25.536Z"
   },
   {
    "duration": 13,
    "start_time": "2023-01-17T04:39:26.854Z"
   },
   {
    "duration": 44,
    "start_time": "2023-01-17T04:39:26.870Z"
   },
   {
    "duration": 17,
    "start_time": "2023-01-17T04:39:26.916Z"
   },
   {
    "duration": 31,
    "start_time": "2023-01-17T04:39:26.935Z"
   },
   {
    "duration": 868,
    "start_time": "2023-01-17T04:39:26.968Z"
   },
   {
    "duration": 7,
    "start_time": "2023-01-17T04:39:27.841Z"
   },
   {
    "duration": 49,
    "start_time": "2023-01-17T04:39:27.850Z"
   },
   {
    "duration": 13,
    "start_time": "2023-01-17T04:39:27.902Z"
   },
   {
    "duration": 12,
    "start_time": "2023-01-17T04:39:27.918Z"
   },
   {
    "duration": 71,
    "start_time": "2023-01-17T04:39:27.933Z"
   },
   {
    "duration": 13,
    "start_time": "2023-01-17T04:39:28.006Z"
   },
   {
    "duration": 25,
    "start_time": "2023-01-17T04:39:28.021Z"
   },
   {
    "duration": 63,
    "start_time": "2023-01-17T04:39:28.048Z"
   },
   {
    "duration": 13,
    "start_time": "2023-01-17T04:39:28.115Z"
   },
   {
    "duration": 94,
    "start_time": "2023-01-17T04:39:28.130Z"
   },
   {
    "duration": 151,
    "start_time": "2023-01-17T04:39:28.226Z"
   },
   {
    "duration": 34,
    "start_time": "2023-01-17T04:39:28.382Z"
   },
   {
    "duration": 81,
    "start_time": "2023-01-17T04:39:28.418Z"
   },
   {
    "duration": 7453,
    "start_time": "2023-01-17T04:39:28.501Z"
   },
   {
    "duration": 10,
    "start_time": "2023-01-17T04:39:35.956Z"
   },
   {
    "duration": 3005282,
    "start_time": "2023-01-17T04:39:35.968Z"
   },
   {
    "duration": 26,
    "start_time": "2023-01-17T05:29:41.258Z"
   },
   {
    "duration": 14,
    "start_time": "2023-01-17T05:29:41.286Z"
   },
   {
    "duration": 18,
    "start_time": "2023-01-17T05:29:41.302Z"
   },
   {
    "duration": 8,
    "start_time": "2023-01-17T05:29:41.322Z"
   },
   {
    "duration": 22,
    "start_time": "2023-01-17T05:29:41.332Z"
   },
   {
    "duration": 22,
    "start_time": "2023-01-17T05:29:41.356Z"
   },
   {
    "duration": 25,
    "start_time": "2023-01-17T05:29:41.380Z"
   },
   {
    "duration": 20,
    "start_time": "2023-01-17T05:29:41.407Z"
   },
   {
    "duration": 49,
    "start_time": "2023-01-17T05:29:41.429Z"
   },
   {
    "duration": 17,
    "start_time": "2023-01-17T05:29:41.480Z"
   },
   {
    "duration": 15,
    "start_time": "2023-01-17T05:29:41.499Z"
   },
   {
    "duration": 169,
    "start_time": "2023-01-17T05:29:41.521Z"
   },
   {
    "duration": 3,
    "start_time": "2023-01-17T05:29:41.694Z"
   },
   {
    "duration": 10,
    "start_time": "2023-01-17T05:29:41.699Z"
   },
   {
    "duration": 8,
    "start_time": "2023-01-17T05:29:41.711Z"
   },
   {
    "duration": 34,
    "start_time": "2023-01-17T05:29:41.720Z"
   },
   {
    "duration": 31,
    "start_time": "2023-01-17T05:29:41.759Z"
   },
   {
    "duration": 9,
    "start_time": "2023-01-17T05:29:41.791Z"
   },
   {
    "duration": 2768,
    "start_time": "2023-01-17T05:29:41.802Z"
   },
   {
    "duration": 4,
    "start_time": "2023-01-17T05:29:44.571Z"
   },
   {
    "duration": 6381,
    "start_time": "2023-01-17T05:29:44.577Z"
   },
   {
    "duration": 2157,
    "start_time": "2023-01-17T05:29:50.960Z"
   },
   {
    "duration": 961,
    "start_time": "2023-01-17T05:29:53.119Z"
   },
   {
    "duration": 3,
    "start_time": "2023-01-17T05:29:54.082Z"
   },
   {
    "duration": 121,
    "start_time": "2023-01-17T05:29:54.087Z"
   },
   {
    "duration": 60,
    "start_time": "2023-01-17T05:29:54.210Z"
   },
   {
    "duration": 41,
    "start_time": "2023-01-17T05:29:54.272Z"
   },
   {
    "duration": 438,
    "start_time": "2023-01-17T05:29:54.315Z"
   },
   {
    "duration": 0,
    "start_time": "2023-01-17T05:29:54.756Z"
   },
   {
    "duration": 0,
    "start_time": "2023-01-17T05:29:54.760Z"
   },
   {
    "duration": 0,
    "start_time": "2023-01-17T05:29:54.762Z"
   },
   {
    "duration": 0,
    "start_time": "2023-01-17T05:29:54.763Z"
   },
   {
    "duration": 0,
    "start_time": "2023-01-17T05:29:54.763Z"
   },
   {
    "duration": 0,
    "start_time": "2023-01-17T05:29:54.764Z"
   },
   {
    "duration": 0,
    "start_time": "2023-01-17T05:29:54.765Z"
   },
   {
    "duration": 0,
    "start_time": "2023-01-17T05:29:54.766Z"
   },
   {
    "duration": 0,
    "start_time": "2023-01-17T05:29:54.768Z"
   },
   {
    "duration": 0,
    "start_time": "2023-01-17T05:29:54.770Z"
   },
   {
    "duration": 0,
    "start_time": "2023-01-17T05:29:54.771Z"
   },
   {
    "duration": 0,
    "start_time": "2023-01-17T05:29:54.772Z"
   },
   {
    "duration": 0,
    "start_time": "2023-01-17T05:29:54.772Z"
   },
   {
    "duration": 0,
    "start_time": "2023-01-17T05:29:54.774Z"
   },
   {
    "duration": 0,
    "start_time": "2023-01-17T05:29:54.775Z"
   },
   {
    "duration": 0,
    "start_time": "2023-01-17T05:29:54.776Z"
   },
   {
    "duration": 4,
    "start_time": "2023-01-17T05:30:27.573Z"
   },
   {
    "duration": 11010,
    "start_time": "2023-01-17T05:30:28.328Z"
   },
   {
    "duration": 9,
    "start_time": "2023-01-17T05:30:39.343Z"
   },
   {
    "duration": 49,
    "start_time": "2023-01-17T05:30:39.354Z"
   },
   {
    "duration": 4,
    "start_time": "2023-01-17T05:30:39.405Z"
   },
   {
    "duration": 12,
    "start_time": "2023-01-17T05:30:39.411Z"
   },
   {
    "duration": 41,
    "start_time": "2023-01-17T05:30:39.425Z"
   },
   {
    "duration": 23333,
    "start_time": "2023-01-17T05:30:39.470Z"
   },
   {
    "duration": 0,
    "start_time": "2023-01-17T05:31:02.805Z"
   },
   {
    "duration": 0,
    "start_time": "2023-01-17T05:31:02.807Z"
   },
   {
    "duration": 0,
    "start_time": "2023-01-17T05:31:02.808Z"
   },
   {
    "duration": 0,
    "start_time": "2023-01-17T05:31:02.810Z"
   },
   {
    "duration": 0,
    "start_time": "2023-01-17T05:31:02.812Z"
   },
   {
    "duration": 0,
    "start_time": "2023-01-17T05:31:02.813Z"
   },
   {
    "duration": 0,
    "start_time": "2023-01-17T05:31:02.815Z"
   },
   {
    "duration": 0,
    "start_time": "2023-01-17T05:31:02.818Z"
   },
   {
    "duration": 0,
    "start_time": "2023-01-17T05:31:02.843Z"
   },
   {
    "duration": 23739,
    "start_time": "2023-01-17T05:31:16.781Z"
   },
   {
    "duration": 3,
    "start_time": "2023-01-17T05:31:40.522Z"
   },
   {
    "duration": 11,
    "start_time": "2023-01-17T05:31:40.527Z"
   },
   {
    "duration": 48,
    "start_time": "2023-01-17T05:31:40.540Z"
   },
   {
    "duration": 773688,
    "start_time": "2023-01-17T05:31:40.590Z"
   },
   {
    "duration": 15,
    "start_time": "2023-01-17T05:44:34.280Z"
   },
   {
    "duration": 21,
    "start_time": "2023-01-17T05:44:34.299Z"
   },
   {
    "duration": 52,
    "start_time": "2023-01-17T05:44:34.322Z"
   },
   {
    "duration": 12,
    "start_time": "2023-01-17T05:44:34.377Z"
   },
   {
    "duration": 873759,
    "start_time": "2023-01-17T05:44:34.391Z"
   },
   {
    "duration": 800431,
    "start_time": "2023-01-17T05:59:08.153Z"
   },
   {
    "duration": 1230533,
    "start_time": "2023-01-17T06:19:40.802Z"
   },
   {
    "duration": 3,
    "start_time": "2023-01-17T06:40:13.980Z"
   },
   {
    "duration": 99806,
    "start_time": "2023-01-17T06:40:22.420Z"
   },
   {
    "duration": 3,
    "start_time": "2023-01-17T06:42:07.904Z"
   },
   {
    "duration": 150232,
    "start_time": "2023-01-17T07:00:06.522Z"
   },
   {
    "duration": 154,
    "start_time": "2023-01-17T07:10:23.464Z"
   },
   {
    "duration": 8993,
    "start_time": "2023-01-17T07:15:06.325Z"
   },
   {
    "duration": 3,
    "start_time": "2023-01-17T07:15:15.321Z"
   },
   {
    "duration": 1085,
    "start_time": "2023-01-17T07:15:15.341Z"
   },
   {
    "duration": 25,
    "start_time": "2023-01-17T07:15:16.428Z"
   },
   {
    "duration": 39,
    "start_time": "2023-01-17T07:15:16.455Z"
   },
   {
    "duration": 20,
    "start_time": "2023-01-17T07:15:16.497Z"
   },
   {
    "duration": 6,
    "start_time": "2023-01-17T07:15:16.518Z"
   },
   {
    "duration": 706,
    "start_time": "2023-01-17T07:15:16.526Z"
   },
   {
    "duration": 10,
    "start_time": "2023-01-17T07:15:17.235Z"
   },
   {
    "duration": 61,
    "start_time": "2023-01-17T07:15:17.247Z"
   },
   {
    "duration": 23,
    "start_time": "2023-01-17T07:15:17.311Z"
   },
   {
    "duration": 76,
    "start_time": "2023-01-17T07:15:17.336Z"
   },
   {
    "duration": 16,
    "start_time": "2023-01-17T07:15:17.415Z"
   },
   {
    "duration": 56,
    "start_time": "2023-01-17T07:15:17.433Z"
   },
   {
    "duration": 32,
    "start_time": "2023-01-17T07:15:17.491Z"
   },
   {
    "duration": 45,
    "start_time": "2023-01-17T07:15:17.525Z"
   },
   {
    "duration": 5796,
    "start_time": "2023-01-17T07:15:17.573Z"
   },
   {
    "duration": 8,
    "start_time": "2023-01-17T07:15:23.379Z"
   },
   {
    "duration": 2871667,
    "start_time": "2023-01-17T07:15:23.391Z"
   },
   {
    "duration": 11,
    "start_time": "2023-01-17T08:03:15.063Z"
   },
   {
    "duration": 22,
    "start_time": "2023-01-17T08:03:15.079Z"
   },
   {
    "duration": 9,
    "start_time": "2023-01-17T08:03:15.103Z"
   },
   {
    "duration": 13,
    "start_time": "2023-01-17T08:03:15.114Z"
   },
   {
    "duration": 185,
    "start_time": "2023-01-17T08:03:15.128Z"
   },
   {
    "duration": 3,
    "start_time": "2023-01-17T08:03:15.315Z"
   },
   {
    "duration": 23,
    "start_time": "2023-01-17T08:03:15.320Z"
   },
   {
    "duration": 44,
    "start_time": "2023-01-17T08:03:15.352Z"
   },
   {
    "duration": 19,
    "start_time": "2023-01-17T08:03:15.400Z"
   },
   {
    "duration": 15,
    "start_time": "2023-01-17T08:03:15.422Z"
   },
   {
    "duration": 2487,
    "start_time": "2023-01-17T08:03:15.444Z"
   },
   {
    "duration": 5,
    "start_time": "2023-01-17T08:03:17.933Z"
   },
   {
    "duration": 9808,
    "start_time": "2023-01-17T08:03:17.940Z"
   },
   {
    "duration": 3,
    "start_time": "2023-01-17T08:03:27.750Z"
   },
   {
    "duration": 148,
    "start_time": "2023-01-17T08:03:27.757Z"
   },
   {
    "duration": 50,
    "start_time": "2023-01-17T08:03:27.908Z"
   },
   {
    "duration": 71,
    "start_time": "2023-01-17T08:03:27.960Z"
   },
   {
    "duration": 11566,
    "start_time": "2023-01-17T08:03:28.034Z"
   },
   {
    "duration": 3,
    "start_time": "2023-01-17T08:03:39.603Z"
   },
   {
    "duration": 158078,
    "start_time": "2023-01-17T08:03:39.608Z"
   },
   {
    "duration": 22608,
    "start_time": "2023-01-17T08:06:17.688Z"
   },
   {
    "duration": 3,
    "start_time": "2023-01-17T08:06:40.297Z"
   },
   {
    "duration": 10,
    "start_time": "2023-01-17T08:06:40.302Z"
   },
   {
    "duration": 707533,
    "start_time": "2023-01-17T08:06:40.313Z"
   },
   {
    "duration": 5,
    "start_time": "2023-01-17T08:18:27.851Z"
   },
   {
    "duration": 32,
    "start_time": "2023-01-17T08:18:27.857Z"
   },
   {
    "duration": 13,
    "start_time": "2023-01-17T08:18:27.891Z"
   },
   {
    "duration": 830079,
    "start_time": "2023-01-17T08:18:27.907Z"
   },
   {
    "duration": 725717,
    "start_time": "2023-01-17T08:32:17.988Z"
   },
   {
    "duration": 93,
    "start_time": "2023-01-17T19:14:05.568Z"
   },
   {
    "duration": 56,
    "start_time": "2023-01-17T19:14:35.459Z"
   },
   {
    "duration": 3895,
    "start_time": "2023-01-17T19:46:50.649Z"
   },
   {
    "duration": 2,
    "start_time": "2023-01-17T19:46:54.546Z"
   },
   {
    "duration": 2279,
    "start_time": "2023-01-17T19:46:54.550Z"
   },
   {
    "duration": 9,
    "start_time": "2023-01-17T19:46:56.831Z"
   },
   {
    "duration": 15,
    "start_time": "2023-01-17T19:46:56.842Z"
   },
   {
    "duration": 12,
    "start_time": "2023-01-17T19:46:56.858Z"
   },
   {
    "duration": 4,
    "start_time": "2023-01-17T19:46:56.874Z"
   },
   {
    "duration": 668,
    "start_time": "2023-01-17T19:47:00.113Z"
   },
   {
    "duration": 2,
    "start_time": "2023-01-17T19:47:04.102Z"
   },
   {
    "duration": 2,
    "start_time": "2023-01-17T19:47:04.678Z"
   },
   {
    "duration": 3,
    "start_time": "2023-01-17T19:47:07.912Z"
   },
   {
    "duration": 10,
    "start_time": "2023-01-17T19:47:08.617Z"
   },
   {
    "duration": 3,
    "start_time": "2023-01-17T19:47:10.161Z"
   },
   {
    "duration": 3,
    "start_time": "2023-01-17T19:47:10.578Z"
   },
   {
    "duration": 2,
    "start_time": "2023-01-17T19:47:10.959Z"
   },
   {
    "duration": 5,
    "start_time": "2023-01-17T19:47:11.357Z"
   },
   {
    "duration": 4135,
    "start_time": "2023-01-17T19:47:13.039Z"
   },
   {
    "duration": 5,
    "start_time": "2023-01-17T19:47:17.211Z"
   },
   {
    "duration": 900687,
    "start_time": "2023-01-17T19:47:19.052Z"
   },
   {
    "duration": 16,
    "start_time": "2023-01-17T20:02:19.741Z"
   },
   {
    "duration": 9,
    "start_time": "2023-01-17T20:02:19.758Z"
   },
   {
    "duration": 10,
    "start_time": "2023-01-17T20:02:19.769Z"
   },
   {
    "duration": 12,
    "start_time": "2023-01-17T20:02:19.781Z"
   },
   {
    "duration": 114,
    "start_time": "2023-01-17T20:02:19.794Z"
   },
   {
    "duration": 3,
    "start_time": "2023-01-17T20:02:19.909Z"
   },
   {
    "duration": 5,
    "start_time": "2023-01-17T20:02:19.913Z"
   },
   {
    "duration": 4,
    "start_time": "2023-01-17T20:02:19.919Z"
   },
   {
    "duration": 11,
    "start_time": "2023-01-17T20:02:19.925Z"
   },
   {
    "duration": 18,
    "start_time": "2023-01-17T20:02:19.937Z"
   },
   {
    "duration": 2,
    "start_time": "2023-01-17T20:11:41.204Z"
   },
   {
    "duration": 2,
    "start_time": "2023-01-17T20:11:42.375Z"
   },
   {
    "duration": 3,
    "start_time": "2023-01-17T20:11:45.216Z"
   },
   {
    "duration": 4289,
    "start_time": "2023-01-17T20:11:45.628Z"
   },
   {
    "duration": 2,
    "start_time": "2023-01-17T20:11:49.919Z"
   },
   {
    "duration": 6,
    "start_time": "2023-01-17T20:11:49.922Z"
   },
   {
    "duration": 4,
    "start_time": "2023-01-17T20:11:49.930Z"
   },
   {
    "duration": 13,
    "start_time": "2023-01-17T20:11:49.936Z"
   },
   {
    "duration": 12534,
    "start_time": "2023-01-17T20:11:49.950Z"
   },
   {
    "duration": 3,
    "start_time": "2023-01-17T20:12:02.485Z"
   },
   {
    "duration": 16600,
    "start_time": "2023-01-17T20:12:02.489Z"
   },
   {
    "duration": 2,
    "start_time": "2023-01-17T20:12:19.091Z"
   },
   {
    "duration": 7,
    "start_time": "2023-01-17T20:12:19.095Z"
   },
   {
    "duration": 568020,
    "start_time": "2023-01-17T20:12:19.104Z"
   },
   {
    "duration": 3,
    "start_time": "2023-01-17T20:21:47.126Z"
   },
   {
    "duration": 22,
    "start_time": "2023-01-17T20:21:47.130Z"
   },
   {
    "duration": 13,
    "start_time": "2023-01-17T20:21:47.154Z"
   },
   {
    "duration": 61588,
    "start_time": "2023-01-17T20:21:47.168Z"
   },
   {
    "duration": 562751,
    "start_time": "2023-01-17T20:22:48.757Z"
   }
  ],
  "kernelspec": {
   "display_name": "Python 3 (ipykernel)",
   "language": "python",
   "name": "python3"
  },
  "language_info": {
   "codemirror_mode": {
    "name": "ipython",
    "version": 3
   },
   "file_extension": ".py",
   "mimetype": "text/x-python",
   "name": "python",
   "nbconvert_exporter": "python",
   "pygments_lexer": "ipython3",
   "version": "3.9.12"
  },
  "toc": {
   "base_numbering": 1,
   "nav_menu": {},
   "number_sections": true,
   "sideBar": true,
   "skip_h1_title": true,
   "title_cell": "Содержание",
   "title_sidebar": "Contents",
   "toc_cell": true,
   "toc_position": {
    "height": "calc(100% - 180px)",
    "left": "10px",
    "top": "150px",
    "width": "302.391px"
   },
   "toc_section_display": true,
   "toc_window_display": false
  }
 },
 "nbformat": 4,
 "nbformat_minor": 2
}
